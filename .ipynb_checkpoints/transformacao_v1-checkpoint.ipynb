{
 "cells": [
  {
   "cell_type": "markdown",
   "id": "bfbbcfcb-05ab-4917-a334-2ea8b2a33acf",
   "metadata": {},
   "source": [
    "# Transformações dos Dados"
   ]
  },
  {
   "cell_type": "code",
   "execution_count": 2,
   "id": "a2f7eb48-737b-476c-a630-0b2aab3325ca",
   "metadata": {},
   "outputs": [],
   "source": [
    "import pandas as pd\n",
    "import numpy as np\n",
    "import matplotlib.pyplot as plt"
   ]
  },
  {
   "cell_type": "markdown",
   "id": "06050c6a-6805-4dca-ae7c-d9095cf2f3c2",
   "metadata": {},
   "source": [
    "## Dados do POSCOMP 2016"
   ]
  },
  {
   "cell_type": "code",
   "execution_count": 5,
   "id": "d15863ff-a4d8-47e4-a6e1-f5d1d4a45266",
   "metadata": {},
   "outputs": [
    {
     "data": {
      "text/plain": [
       "Index(['ESTADO', 'DATA NASC.', 'SEXO', 'ENDERECO.', 'NUMERO', 'COMPL.',\n",
       "       'BAIRRO', 'CIDADE', 'CEP', 'INSCRICAO', 'CARGO', 'CÓDIGO', 'DS CARGO',\n",
       "       'DEFICIENTE', 'LOCAL DE PROVA', 'NECESSIDADES ESPECIAIS',\n",
       "       'DESCRICAO DA NECESSIDADE', 'ESTRANGEIRO'],\n",
       "      dtype='object')"
      ]
     },
     "execution_count": 5,
     "metadata": {},
     "output_type": "execute_result"
    }
   ],
   "source": [
    "dados_homologados_2016 = pd.read_csv('dados/poscomp2016/dados_homologados_PROCESSADA.csv')\n",
    "dados_homologados_2016.columns"
   ]
  }
 ],
 "metadata": {
  "kernelspec": {
   "display_name": "Python 3 (ipykernel)",
   "language": "python",
   "name": "python3"
  },
  "language_info": {
   "codemirror_mode": {
    "name": "ipython",
    "version": 3
   },
   "file_extension": ".py",
   "mimetype": "text/x-python",
   "name": "python",
   "nbconvert_exporter": "python",
   "pygments_lexer": "ipython3",
   "version": "3.10.5"
  }
 },
 "nbformat": 4,
 "nbformat_minor": 5
}
