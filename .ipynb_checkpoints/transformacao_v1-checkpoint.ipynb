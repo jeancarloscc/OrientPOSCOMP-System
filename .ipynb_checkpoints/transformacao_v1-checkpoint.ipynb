{
 "cells": [
  {
   "cell_type": "markdown",
   "id": "bfbbcfcb-05ab-4917-a334-2ea8b2a33acf",
   "metadata": {},
   "source": [
    "# Transformações dos Dados"
   ]
  },
  {
   "cell_type": "code",
   "execution_count": 173,
   "id": "a2f7eb48-737b-476c-a630-0b2aab3325ca",
   "metadata": {},
   "outputs": [],
   "source": [
    "import pandas as pd\n",
    "import numpy as np\n",
    "import matplotlib.pyplot as plt\n",
    "import plotly.express as px"
   ]
  },
  {
   "cell_type": "markdown",
   "id": "06050c6a-6805-4dca-ae7c-d9095cf2f3c2",
   "metadata": {
    "tags": []
   },
   "source": [
    "## Dados de Respostas do POSCOMP"
   ]
  },
  {
   "cell_type": "code",
   "execution_count": 174,
   "id": "16a5fca0-6139-429e-b2f5-bfa761b8a757",
   "metadata": {},
   "outputs": [],
   "source": [
    "dados_respostas_notas_2016 = pd.read_csv('dados/notas_poscomp/dados_notasRespostas_2016.csv')\n",
    "dados_respostas_notas_2017 = pd.read_csv('dados/notas_poscomp/dados_notasRespostas_2017.csv')\n",
    "dados_respostas_notas_2018 = pd.read_csv('dados/notas_poscomp/dados_notasRespostas_2018.csv')\n",
    "dados_respostas_notas_2019 = pd.read_csv('dados/notas_poscomp/dados_notasRespostas_2019.csv')\n",
    "dados_homologacao = pd.read_csv('dados/homologação_poscomp/dados_homologacao_PROCESSADA.csv')"
   ]
  },
  {
   "cell_type": "code",
   "execution_count": 175,
   "id": "d15863ff-a4d8-47e4-a6e1-f5d1d4a45266",
   "metadata": {},
   "outputs": [],
   "source": [
    "dados_respostas_notas_2016 = dados_respostas_notas_2016.drop(columns=['Unnamed: 0'])\n",
    "dados_respostas_notas_2017 = dados_respostas_notas_2017.drop(columns=['Unnamed: 0'])\n",
    "dados_respostas_notas_2018 = dados_respostas_notas_2018.drop(columns=['Unnamed: 0'])\n",
    "dados_respostas_notas_2019 = dados_respostas_notas_2019.drop(columns=['Unnamed: 0'])\n",
    "#dados_homologacao = dados_homologacao.drop(columns=['Unnamed: 0'])"
   ]
  },
  {
   "cell_type": "code",
   "execution_count": 176,
   "id": "73275704-5192-48f2-b168-a42f8e4066ea",
   "metadata": {},
   "outputs": [],
   "source": [
    "#dados_respostas_notas_2016.describe()"
   ]
  },
  {
   "cell_type": "markdown",
   "id": "f0783809-c90f-4ae8-b22d-b6d077ead8aa",
   "metadata": {},
   "source": [
    "## Dados Homologados"
   ]
  },
  {
   "cell_type": "code",
   "execution_count": 177,
   "id": "3d32cb37-de6a-4604-99e4-46f2a1706a7e",
   "metadata": {},
   "outputs": [],
   "source": [
    "#dados_homologacao = dados_homologacao.drop(columns=['Unnamed: 0'])"
   ]
  },
  {
   "cell_type": "code",
   "execution_count": 178,
   "id": "ad6ec1f6-7dde-4d5e-a827-fb8b2a49c2c3",
   "metadata": {},
   "outputs": [
    {
     "data": {
      "text/plain": [
       "(14573, 12)"
      ]
     },
     "execution_count": 178,
     "metadata": {},
     "output_type": "execute_result"
    }
   ],
   "source": [
    "dados_homologacao.shape"
   ]
  },
  {
   "cell_type": "code",
   "execution_count": 179,
   "id": "e964c187-8cd6-4d9e-8285-af0464dc83be",
   "metadata": {},
   "outputs": [
    {
     "data": {
      "image/png": "[encoded data removed]",
      "text/plain": [
       "<Figure size 432x288 with 1 Axes>"
      ]
     },
     "metadata": {
      "needs_background": "light"
     },
     "output_type": "display_data"
    }
   ],
   "source": [
    "plt.hist(x = dados_homologacao['CARGO']);"
   ]
  },
  {
   "cell_type": "code",
   "execution_count": 180,
   "id": "bb80bf48-9369-408c-a0d2-b4bc2beb5eb5",
   "metadata": {},
   "outputs": [],
   "source": [
    "# Candidatos do estado do Pará dos anos de 2016 a 2019\n",
    "candidatos_pa = dados_homologacao[dados_homologacao['ESTADO'] == 'PA']"
   ]
  },
  {
   "cell_type": "code",
   "execution_count": 181,
   "id": "0d0c001c-b0c3-4b7a-9273-4fdd728cbbaf",
   "metadata": {},
   "outputs": [],
   "source": [
    "# Candidatos dos demais estados\n",
    "dados_homologados_estados = dados_homologacao.copy()\n",
    "dados_homologados_estados.drop(dados_homologados_estados.loc[dados_homologados_estados['ESTADO']=='PA'].index, inplace=True)"
   ]
  },
  {
   "cell_type": "code",
   "execution_count": 182,
   "id": "78a40210-0bb8-4367-85e6-5afcaf7fe66f",
   "metadata": {},
   "outputs": [
    {
     "data": {
      "text/html": [
       "<div>\n",
       "<style scoped>\n",
       "    .dataframe tbody tr th:only-of-type {\n",
       "        vertical-align: middle;\n",
       "    }\n",
       "\n",
       "    .dataframe tbody tr th {\n",
       "        vertical-align: top;\n",
       "    }\n",
       "\n",
       "    .dataframe thead th {\n",
       "        text-align: right;\n",
       "    }\n",
       "</style>\n",
       "<table border=\"1\" class=\"dataframe\">\n",
       "  <thead>\n",
       "    <tr style=\"text-align: right;\">\n",
       "      <th></th>\n",
       "      <th>INSCRICAO</th>\n",
       "      <th>SEXO</th>\n",
       "      <th>ENDERECO.</th>\n",
       "      <th>NUMERO</th>\n",
       "      <th>BAIRRO</th>\n",
       "      <th>CIDADE</th>\n",
       "      <th>ESTADO</th>\n",
       "      <th>CEP</th>\n",
       "      <th>CARGO</th>\n",
       "      <th>CÓDIGO</th>\n",
       "      <th>LOCAL DE PROVA</th>\n",
       "      <th>ANO</th>\n",
       "    </tr>\n",
       "  </thead>\n",
       "  <tbody>\n",
       "    <tr>\n",
       "      <th>0</th>\n",
       "      <td>39401673171-6</td>\n",
       "      <td>M</td>\n",
       "      <td>Pampas de Polanco</td>\n",
       "      <td>16</td>\n",
       "      <td>Ramiro Priale</td>\n",
       "      <td>Arequipa</td>\n",
       "      <td>OU</td>\n",
       "      <td>05105-1</td>\n",
       "      <td>1-Mestrado/Doutorado</td>\n",
       "      <td>1</td>\n",
       "      <td>Arequipa - PERU</td>\n",
       "      <td>2016</td>\n",
       "    </tr>\n",
       "    <tr>\n",
       "      <th>1</th>\n",
       "      <td>39401645886-1</td>\n",
       "      <td>M</td>\n",
       "      <td>Mário Studart</td>\n",
       "      <td>380</td>\n",
       "      <td>Jacarecanga</td>\n",
       "      <td>Fortaleza</td>\n",
       "      <td>CE</td>\n",
       "      <td>60326-060</td>\n",
       "      <td>1-Mestrado/Doutorado</td>\n",
       "      <td>1</td>\n",
       "      <td>Fortaleza - CE</td>\n",
       "      <td>2016</td>\n",
       "    </tr>\n",
       "    <tr>\n",
       "      <th>2</th>\n",
       "      <td>39401663587-8</td>\n",
       "      <td>M</td>\n",
       "      <td>Avenida da Azenha</td>\n",
       "      <td>324</td>\n",
       "      <td>Azenha</td>\n",
       "      <td>Porto Alegre</td>\n",
       "      <td>RS</td>\n",
       "      <td>90160004</td>\n",
       "      <td>1-Mestrado/Doutorado</td>\n",
       "      <td>1</td>\n",
       "      <td>Campina Grande - PB</td>\n",
       "      <td>2016</td>\n",
       "    </tr>\n",
       "    <tr>\n",
       "      <th>3</th>\n",
       "      <td>39401651770-6</td>\n",
       "      <td>M</td>\n",
       "      <td>Gregório Aversa</td>\n",
       "      <td>450</td>\n",
       "      <td>Recreio São Judas Tadeu</td>\n",
       "      <td>São Carlos</td>\n",
       "      <td>SP</td>\n",
       "      <td>13571-260</td>\n",
       "      <td>1-Mestrado/Doutorado</td>\n",
       "      <td>1</td>\n",
       "      <td>São Carlos - SP</td>\n",
       "      <td>2016</td>\n",
       "    </tr>\n",
       "    <tr>\n",
       "      <th>5</th>\n",
       "      <td>39402640298-8</td>\n",
       "      <td>M</td>\n",
       "      <td>João Batista S de Oliveira</td>\n",
       "      <td>201</td>\n",
       "      <td>Vista Alegre</td>\n",
       "      <td>Cuiabá</td>\n",
       "      <td>MT</td>\n",
       "      <td>78085-712</td>\n",
       "      <td>2-Autoavaliação</td>\n",
       "      <td>2</td>\n",
       "      <td>Cuiabá - MT</td>\n",
       "      <td>2016</td>\n",
       "    </tr>\n",
       "    <tr>\n",
       "      <th>...</th>\n",
       "      <td>...</td>\n",
       "      <td>...</td>\n",
       "      <td>...</td>\n",
       "      <td>...</td>\n",
       "      <td>...</td>\n",
       "      <td>...</td>\n",
       "      <td>...</td>\n",
       "      <td>...</td>\n",
       "      <td>...</td>\n",
       "      <td>...</td>\n",
       "      <td>...</td>\n",
       "      <td>...</td>\n",
       "    </tr>\n",
       "    <tr>\n",
       "      <th>14568</th>\n",
       "      <td>51801396055-5</td>\n",
       "      <td>M</td>\n",
       "      <td>Rua Piratininga</td>\n",
       "      <td>33</td>\n",
       "      <td>Praia da Costa</td>\n",
       "      <td>Vila Velha</td>\n",
       "      <td>ES</td>\n",
       "      <td>29101-220</td>\n",
       "      <td>1-Mestrado/Doutorado</td>\n",
       "      <td>1</td>\n",
       "      <td>Vitória/ES</td>\n",
       "      <td>2019</td>\n",
       "    </tr>\n",
       "    <tr>\n",
       "      <th>14569</th>\n",
       "      <td>51801354647-6</td>\n",
       "      <td>M</td>\n",
       "      <td>Avenida São Francisco de Paula</td>\n",
       "      <td>2138</td>\n",
       "      <td>Areal</td>\n",
       "      <td>Pelotas</td>\n",
       "      <td>RS</td>\n",
       "      <td>96080-730</td>\n",
       "      <td>1-Mestrado/Doutorado</td>\n",
       "      <td>1</td>\n",
       "      <td>Pelotas/RS</td>\n",
       "      <td>2019</td>\n",
       "    </tr>\n",
       "    <tr>\n",
       "      <th>14570</th>\n",
       "      <td>51801393821-0</td>\n",
       "      <td>M</td>\n",
       "      <td>jv tablon del niño jesus - san jeronimo</td>\n",
       "      <td>328</td>\n",
       "      <td>san jeronimo</td>\n",
       "      <td>cusco</td>\n",
       "      <td>OU</td>\n",
       "      <td>08000-</td>\n",
       "      <td>1-Mestrado/Doutorado</td>\n",
       "      <td>1</td>\n",
       "      <td>Arequipa/PERU</td>\n",
       "      <td>2019</td>\n",
       "    </tr>\n",
       "    <tr>\n",
       "      <th>14571</th>\n",
       "      <td>51801354273-1</td>\n",
       "      <td>M</td>\n",
       "      <td>Rua Onófrio Lemos</td>\n",
       "      <td>114</td>\n",
       "      <td>Ibirapuitã</td>\n",
       "      <td>Alegrete</td>\n",
       "      <td>RS</td>\n",
       "      <td>97546260</td>\n",
       "      <td>1-Mestrado/Doutorado</td>\n",
       "      <td>1</td>\n",
       "      <td>Alegrete/RS</td>\n",
       "      <td>2019</td>\n",
       "    </tr>\n",
       "    <tr>\n",
       "      <th>14572</th>\n",
       "      <td>51801366900-3</td>\n",
       "      <td>M</td>\n",
       "      <td>Rua Soldado Vital Fortuna</td>\n",
       "      <td>96</td>\n",
       "      <td>Vila Itapegica</td>\n",
       "      <td>Guarulhos</td>\n",
       "      <td>SP</td>\n",
       "      <td>07043-160</td>\n",
       "      <td>1-Mestrado/Doutorado</td>\n",
       "      <td>1</td>\n",
       "      <td>São Paulo/SP</td>\n",
       "      <td>2019</td>\n",
       "    </tr>\n",
       "  </tbody>\n",
       "</table>\n",
       "<p>13875 rows × 12 columns</p>\n",
       "</div>"
      ],
      "text/plain": [
       "           INSCRICAO SEXO                                ENDERECO. NUMERO  \\\n",
       "0      39401673171-6    M                        Pampas de Polanco     16   \n",
       "1      39401645886-1    M                            Mário Studart    380   \n",
       "2      39401663587-8    M                        Avenida da Azenha    324   \n",
       "3      39401651770-6    M                          Gregório Aversa    450   \n",
       "5      39402640298-8    M               João Batista S de Oliveira    201   \n",
       "...              ...  ...                                      ...    ...   \n",
       "14568  51801396055-5    M                          Rua Piratininga     33   \n",
       "14569  51801354647-6    M           Avenida São Francisco de Paula   2138   \n",
       "14570  51801393821-0    M  jv tablon del niño jesus - san jeronimo    328   \n",
       "14571  51801354273-1    M                        Rua Onófrio Lemos    114   \n",
       "14572  51801366900-3    M                Rua Soldado Vital Fortuna     96   \n",
       "\n",
       "                        BAIRRO        CIDADE ESTADO        CEP  \\\n",
       "0                Ramiro Priale      Arequipa     OU    05105-1   \n",
       "1                  Jacarecanga     Fortaleza     CE  60326-060   \n",
       "2                       Azenha  Porto Alegre     RS   90160004   \n",
       "3      Recreio São Judas Tadeu    São Carlos     SP  13571-260   \n",
       "5                 Vista Alegre        Cuiabá     MT  78085-712   \n",
       "...                        ...           ...    ...        ...   \n",
       "14568           Praia da Costa    Vila Velha     ES  29101-220   \n",
       "14569                    Areal       Pelotas     RS  96080-730   \n",
       "14570             san jeronimo         cusco     OU     08000-   \n",
       "14571               Ibirapuitã      Alegrete     RS   97546260   \n",
       "14572           Vila Itapegica     Guarulhos     SP  07043-160   \n",
       "\n",
       "                      CARGO  CÓDIGO       LOCAL DE PROVA   ANO  \n",
       "0      1-Mestrado/Doutorado       1      Arequipa - PERU  2016  \n",
       "1      1-Mestrado/Doutorado       1       Fortaleza - CE  2016  \n",
       "2      1-Mestrado/Doutorado       1  Campina Grande - PB  2016  \n",
       "3      1-Mestrado/Doutorado       1      São Carlos - SP  2016  \n",
       "5           2-Autoavaliação       2          Cuiabá - MT  2016  \n",
       "...                     ...     ...                  ...   ...  \n",
       "14568  1-Mestrado/Doutorado       1           Vitória/ES  2019  \n",
       "14569  1-Mestrado/Doutorado       1           Pelotas/RS  2019  \n",
       "14570  1-Mestrado/Doutorado       1        Arequipa/PERU  2019  \n",
       "14571  1-Mestrado/Doutorado       1          Alegrete/RS  2019  \n",
       "14572  1-Mestrado/Doutorado       1         São Paulo/SP  2019  \n",
       "\n",
       "[13875 rows x 12 columns]"
      ]
     },
     "execution_count": 182,
     "metadata": {},
     "output_type": "execute_result"
    }
   ],
   "source": [
    "dados_homologados_estados"
   ]
  },
  {
   "cell_type": "code",
   "execution_count": 183,
   "id": "ea82abc9-5353-4220-a3cb-8316655d4f09",
   "metadata": {},
   "outputs": [],
   "source": [
    "#Pegar os candidatos que residem no estado do Pará\n",
    "dados_notasPA_2016 = dados_respostas_notas_2016.loc[dados_respostas_notas_2016['INSCRICAO'].\n",
    "                                                    isin(candidatos_pa['INSCRICAO'])].reset_index(drop=True)\n",
    "#Pegar os candidatos que residem no estado do Pará\n",
    "dados_notasPA_2017 = dados_respostas_notas_2017.loc[dados_respostas_notas_2017['INSCRICAO'].\n",
    "                                                    isin(candidatos_pa['INSCRICAO'])].reset_index(drop=True)\n",
    "#Pegar os candidatos que residem no estado do Pará\n",
    "dados_notasPA_2018 = dados_respostas_notas_2018.loc[dados_respostas_notas_2018['INSCRICAO'].\n",
    "                                                    isin(candidatos_pa['INSCRICAO'])].reset_index(drop=True)\n",
    "#Pegar os candidatos que residem no estado do Pará\n",
    "dados_notasPA_2019 = dados_respostas_notas_2019.loc[dados_respostas_notas_2019['INSCRICAO'].\n",
    "                                                    isin(candidatos_pa['INSCRICAO'])].reset_index(drop=True)"
   ]
  },
  {
   "cell_type": "code",
   "execution_count": 184,
   "id": "6a600a19-f215-43ea-ae05-6d6152f138c8",
   "metadata": {},
   "outputs": [],
   "source": [
    "#Pegar os candidatos que residem nos demais estados\n",
    "dados_notasEstados_2016 = dados_respostas_notas_2016.loc[~dados_respostas_notas_2016['INSCRICAO'].\n",
    "                                                    isin(candidatos_pa['INSCRICAO'])].reset_index(drop=True)\n",
    "#Pegar os candidatos que residem nos demais estados\n",
    "dados_notasEstados_2017 = dados_respostas_notas_2017.loc[~dados_respostas_notas_2017['INSCRICAO'].\n",
    "                                                    isin(candidatos_pa['INSCRICAO'])].reset_index(drop=True)\n",
    "#Pegar os candidatos que residem nos demais estados\n",
    "dados_notasEstados_2018 = dados_respostas_notas_2018.loc[~dados_respostas_notas_2018['INSCRICAO'].\n",
    "                                                    isin(candidatos_pa['INSCRICAO'])].reset_index(drop=True)\n",
    "#Pegar os candidatos que residem nos demais estados\n",
    "dados_notasEstados_2019 = dados_respostas_notas_2019.loc[~dados_respostas_notas_2019['INSCRICAO'].\n",
    "                                                    isin(candidatos_pa['INSCRICAO'])].reset_index(drop=True)"
   ]
  },
  {
   "cell_type": "code",
   "execution_count": 185,
   "id": "f11945a4-722b-4750-ab6e-8bc774b0c720",
   "metadata": {},
   "outputs": [],
   "source": [
    "dados_notasPA_2016 = dados_notasPA_2016.drop(columns=['CARGO', 'ESPECIALIDADE', 'INSCRICAO', 'IDENTIFICADOR', 'NOTA TOTAL TO'])\n",
    "dados_notasPA_2017 = dados_notasPA_2017.drop(columns=['CARGO', 'ESPECIALIDADE', 'INSCRICAO', 'IDENTIFICADOR', 'NOTA TOTAL TO'])\n",
    "dados_notasPA_2018 = dados_notasPA_2018.drop(columns=['CARGO', 'ESPECIALIDADE', 'INSCRICAO', 'IDENTIFICADOR', 'NOTA TOTAL TO'])\n",
    "dados_notasPA_2019 = dados_notasPA_2019.drop(columns=['CARGO', 'ESPECIALIDADE', 'INSCRICAO', 'IDENTIFICADOR', 'NOTA TOTAL TO'])"
   ]
  },
  {
   "cell_type": "code",
   "execution_count": 186,
   "id": "2c24f55b-668d-46f8-8939-924c5eca3bee",
   "metadata": {},
   "outputs": [],
   "source": [
    "dados_notasEstados_2016 = dados_notasEstados_2016.drop(columns=['CARGO', 'ESPECIALIDADE', 'INSCRICAO', 'IDENTIFICADOR', 'NOTA TOTAL TO'])\n",
    "dados_notasEstados_2017 = dados_notasEstados_2017.drop(columns=['CARGO', 'ESPECIALIDADE', 'INSCRICAO', 'IDENTIFICADOR', 'NOTA TOTAL TO'])\n",
    "dados_notasEstados_2018 = dados_notasEstados_2018.drop(columns=['CARGO', 'ESPECIALIDADE', 'INSCRICAO', 'IDENTIFICADOR', 'NOTA TOTAL TO'])\n",
    "dados_notasEstados_2019 = dados_notasEstados_2019.drop(columns=['CARGO', 'ESPECIALIDADE', 'INSCRICAO', 'IDENTIFICADOR', 'NOTA TOTAL TO'])"
   ]
  },
  {
   "cell_type": "code",
   "execution_count": 187,
   "id": "0504170a-ee3e-45c9-9ad8-c0c4314cb14e",
   "metadata": {},
   "outputs": [
    {
     "data": {
      "text/plain": [
       "['NOTA Matemática Discreta',\n",
       " 'NOTA Cálculo Diferencial Integral',\n",
       " 'NOTA Álgebra Linear',\n",
       " 'NOTA Geometria Analítica',\n",
       " 'NOTA Análise Combinatória',\n",
       " 'NOTA Probabilidade e Estatística',\n",
       " 'NOTA Lógica Matemática',\n",
       " 'NOTA Organização de Arquivos e Dados',\n",
       " 'NOTA Técnicas de Programação',\n",
       " 'NOTA Circuitos Digitais',\n",
       " 'NOTA Análise de Algoritmos',\n",
       " 'NOTA Teoria dos Grafos',\n",
       " 'NOTA Linguagens Formais, Autômatos e Computabilidade',\n",
       " 'NOTA Algoritmos e Estruturas de Dados',\n",
       " 'NOTA Linguagens de Programação',\n",
       " 'NOTA Sistemas Operacionais',\n",
       " 'NOTA Arquitetura e Organização de Computadores',\n",
       " 'NOTA Rede de Computadores',\n",
       " 'NOTA Computação Gráfica',\n",
       " 'NOTA Inteligência Artificial',\n",
       " 'NOTA Engenharia de Software',\n",
       " 'NOTA Sistemas Distribuídos',\n",
       " 'NOTA Compiladores',\n",
       " 'NOTA Processamento de Imagens',\n",
       " 'NOTA Banco de Dados']"
      ]
     },
     "execution_count": 187,
     "metadata": {},
     "output_type": "execute_result"
    }
   ],
   "source": [
    "#dados_notas = pd.concat([dados_notasPA_2016, dados_notasPA_2017, dados_notasPA_2018, dados_notasPA_2019], axis=0)\n",
    "list(dados_notasPA_2016.columns)"
   ]
  },
  {
   "cell_type": "code",
   "execution_count": 188,
   "id": "81b5bc65-b851-4796-a273-7a1e7a5625e6",
   "metadata": {
    "tags": []
   },
   "outputs": [],
   "source": [
    "dados_notasPA_2016 = dados_notasPA_2016.rename(columns={'NOTA Matemática Discreta':'Matemática Discreta',\n",
    "                                 'NOTA Cálculo Diferencial Integral':'Cálculo Diferencial e Integral',\n",
    "                                 'NOTA Álgebra Linear':'Álgebra Linear',\n",
    "                                 'NOTA Geometria Analítica':'Geometria Analítica',\n",
    "                                 'NOTA Análise Combinatória':'Análise Combinatória',\n",
    "                                 'NOTA Probabilidade e Estatística':'Probabilidade e Estatística',\n",
    "                                 'NOTA Lógica Matemática':'Lógica Matemática',\n",
    "                                 'NOTA Organização de Arquivos e Dados':'Organização de Arquivos e Dados',\n",
    "                                 'NOTA Técnicas de Programação':'Técnicas de Programação',\n",
    "                                 'NOTA Circuitos Digitais':'Circuitos Digitais',\n",
    "                                 'NOTA Análise de Algoritmos':'Análise de Algoritmos',\n",
    "                                 'NOTA Teoria dos Grafos':'Teoria dos Grafos',\n",
    "                                 'NOTA Linguagens Formais, Autômatos e Computabilidade':'Linguagens Formais, Autômatos e Computabilidade',\n",
    "                                 'NOTA Algoritmos e Estruturas de Dados':'Algoritmos e Estruturas de Dados',\n",
    "                                 'NOTA Linguagens de Programação':'Linguagens de Programação',\n",
    "                                 'NOTA Sistemas Operacionais':'Sistemas Operacionais',\n",
    "                                 'NOTA Arquitetura e Organização de Computadores':'Arquitetura e Organização de Computadores',\n",
    "                                 'NOTA Rede de Computadores':'Redes de Computadores',\n",
    "                                 'NOTA Computação Gráfica':'Computação Gráfica',\n",
    "                                 'NOTA Inteligência Artificial':'Inteligência Artificial',\n",
    "                                 'NOTA Engenharia de Software':'Engenharia de Software',\n",
    "                                 'NOTA Sistemas Distribuídos':'Sistemas Distribuídos',\n",
    "                                 'NOTA Compiladores':'Compiladores',\n",
    "                                 'NOTA Processamento de Imagens':'Processamento de Imagens',\n",
    "                                 'NOTA Banco de Dados':'Banco de Dados'})"
   ]
  },
  {
   "cell_type": "code",
   "execution_count": 189,
   "id": "8574a948-14a9-46c3-8037-29f2ffec667f",
   "metadata": {},
   "outputs": [],
   "source": [
    "dados_notasEstados_2016 = dados_notasEstados_2016.rename(columns={'NOTA Matemática Discreta':'Matemática Discreta',\n",
    "                                 'NOTA Cálculo Diferencial Integral':'Cálculo Diferencial e Integral',\n",
    "                                 'NOTA Álgebra Linear':'Álgebra Linear',\n",
    "                                 'NOTA Geometria Analítica':'Geometria Analítica',\n",
    "                                 'NOTA Análise Combinatória':'Análise Combinatória',\n",
    "                                 'NOTA Probabilidade e Estatística':'Probabilidade e Estatística',\n",
    "                                 'NOTA Lógica Matemática':'Lógica Matemática',\n",
    "                                 'NOTA Organização de Arquivos e Dados':'Organização de Arquivos e Dados',\n",
    "                                 'NOTA Técnicas de Programação':'Técnicas de Programação',\n",
    "                                 'NOTA Circuitos Digitais':'Circuitos Digitais',\n",
    "                                 'NOTA Análise de Algoritmos':'Análise de Algoritmos',\n",
    "                                 'NOTA Teoria dos Grafos':'Teoria dos Grafos',\n",
    "                                 'NOTA Linguagens Formais, Autômatos e Computabilidade':'Linguagens Formais, Autômatos e Computabilidade',\n",
    "                                 'NOTA Algoritmos e Estruturas de Dados':'Algoritmos e Estruturas de Dados',\n",
    "                                 'NOTA Linguagens de Programação':'Linguagens de Programação',\n",
    "                                 'NOTA Sistemas Operacionais':'Sistemas Operacionais',\n",
    "                                 'NOTA Arquitetura e Organização de Computadores':'Arquitetura e Organização de Computadores',\n",
    "                                 'NOTA Rede de Computadores':'Redes de Computadores',\n",
    "                                 'NOTA Computação Gráfica':'Computação Gráfica',\n",
    "                                 'NOTA Inteligência Artificial':'Inteligência Artificial',\n",
    "                                 'NOTA Engenharia de Software':'Engenharia de Software',\n",
    "                                 'NOTA Sistemas Distribuídos':'Sistemas Distribuídos',\n",
    "                                 'NOTA Compiladores':'Compiladores',\n",
    "                                 'NOTA Processamento de Imagens':'Processamento de Imagens',\n",
    "                                 'NOTA Banco de Dados':'Banco de Dados'})"
   ]
  },
  {
   "cell_type": "code",
   "execution_count": 190,
   "id": "2f84d30a-a5c2-4d29-93db-e5362b4b6c8e",
   "metadata": {},
   "outputs": [],
   "source": [
    "dados_notasPA_2017 = dados_notasPA_2017.rename(columns={'NOTA Matemática Discreta':'Matemática Discreta',\n",
    "                                 'NOTA Cálculo Diferencial e Integral':'Cálculo Diferencial e Integral',\n",
    "                                 'NOTA Algebra Linear':'Álgebra Linear',\n",
    "                                 'NOTA Geometria Analítica':'Geometria Analítica',\n",
    "                                 'NOTA Análise Combinatória':'Análise Combinatória',\n",
    "                                 'NOTA Probabilidade e Estatística':'Probabilidade e Estatística',\n",
    "                                 'NOTA Lógica Matemática':'Lógica Matemática',\n",
    "                                 'NOTA Organização de Arquivos e Dados':'Organização de Arquivos e Dados',\n",
    "                                 'NOTA Técnicas de Programação':'Técnicas de Programação',\n",
    "                                 'NOTA Circuitos Digitais':'Circuitos Digitais',\n",
    "                                 'NOTA Análise de Algorítmos':'Análise de Algoritmos',\n",
    "                                 'NOTA Teoria dos Grafos':'Teoria dos Grafos',\n",
    "                                 'NOTA Linguagens Formais, Autômatos e Computabilidade':'Linguagens Formais, Autômatos e Computabilidade',\n",
    "                                 'NOTA Algorítmos e Estrutura de Dados':'Algoritmos e Estruturas de Dados',\n",
    "                                 'NOTA Linguagens de Programação':'Linguagens de Programação',\n",
    "                                 'NOTA Sistemas Operacionais':'Sistemas Operacionais',\n",
    "                                 'NOTA Arquitetura e Organização de Computadores':'Arquitetura e Organização de Computadores',\n",
    "                                 'NOTA Redes de Computadores':'Redes de Computadores',\n",
    "                                 'NOTA Computação Gráfica':'Computação Gráfica',\n",
    "                                 'NOTA Inteligência Artificial':'Inteligência Artificial',\n",
    "                                 'NOTA Engenharia de Software':'Engenharia de Software',\n",
    "                                 'NOTA Sistemas Distribuídos':'Sistemas Distribuídos',\n",
    "                                 'NOTA Compiladores':'Compiladores',\n",
    "                                 'NOTA Processamento de Imagens':'Processamento de Imagens',\n",
    "                                 'NOTA Banco de Dados':'Banco de Dados'})"
   ]
  },
  {
   "cell_type": "code",
   "execution_count": 191,
   "id": "9948f10b-d8c6-41f7-98fd-ea55c1deca42",
   "metadata": {},
   "outputs": [],
   "source": [
    "dados_notasEstados_2017 = dados_notasEstados_2017.rename(columns={'NOTA Matemática Discreta':'Matemática Discreta',\n",
    "                                 'NOTA Cálculo Diferencial e Integral':'Cálculo Diferencial e Integral',\n",
    "                                 'NOTA Algebra Linear':'Álgebra Linear',\n",
    "                                 'NOTA Geometria Analítica':'Geometria Analítica',\n",
    "                                 'NOTA Análise Combinatória':'Análise Combinatória',\n",
    "                                 'NOTA Probabilidade e Estatística':'Probabilidade e Estatística',\n",
    "                                 'NOTA Lógica Matemática':'Lógica Matemática',\n",
    "                                 'NOTA Organização de Arquivos e Dados':'Organização de Arquivos e Dados',\n",
    "                                 'NOTA Técnicas de Programação':'Técnicas de Programação',\n",
    "                                 'NOTA Circuitos Digitais':'Circuitos Digitais',\n",
    "                                 'NOTA Análise de Algorítmos':'Análise de Algoritmos',\n",
    "                                 'NOTA Teoria dos Grafos':'Teoria dos Grafos',\n",
    "                                 'NOTA Linguagens Formais, Autômatos e Computabilidade':'Linguagens Formais, Autômatos e Computabilidade',\n",
    "                                 'NOTA Algorítmos e Estrutura de Dados':'Algoritmos e Estruturas de Dados',\n",
    "                                 'NOTA Linguagens de Programação':'Linguagens de Programação',\n",
    "                                 'NOTA Sistemas Operacionais':'Sistemas Operacionais',\n",
    "                                 'NOTA Arquitetura e Organização de Computadores':'Arquitetura e Organização de Computadores',\n",
    "                                 'NOTA Redes de Computadores':'Redes de Computadores',\n",
    "                                 'NOTA Computação Gráfica':'Computação Gráfica',\n",
    "                                 'NOTA Inteligência Artificial':'Inteligência Artificial',\n",
    "                                 'NOTA Engenharia de Software':'Engenharia de Software',\n",
    "                                 'NOTA Sistemas Distribuídos':'Sistemas Distribuídos',\n",
    "                                 'NOTA Compiladores':'Compiladores',\n",
    "                                 'NOTA Processamento de Imagens':'Processamento de Imagens',\n",
    "                                 'NOTA Banco de Dados':'Banco de Dados'})"
   ]
  },
  {
   "cell_type": "code",
   "execution_count": 192,
   "id": "4dfb4809-6f0a-4885-9c67-e24500e73255",
   "metadata": {},
   "outputs": [],
   "source": [
    "dados_notasPA_2018 = dados_notasPA_2018.rename(columns={'NOTA Matemática Discreta':'Matemática Discreta',\n",
    "                                 'NOTA Cálculo Diferencial e Integral':'Cálculo Diferencial e Integral',\n",
    "                                 'NOTA Algebra Linear':'Álgebra Linear',\n",
    "                                 'NOTA Geometria Analítica':'Geometria Analítica',\n",
    "                                 'NOTA Analise Combinatória':'Análise Combinatória',\n",
    "                                 'NOTA Probabilidade e Estatística':'Probabilidade e Estatística',\n",
    "                                 'NOTA Lógica Matemática':'Lógica Matemática',\n",
    "                                 'NOTA Organização de Arquivos e Dados':'Organização de Arquivos e Dados',\n",
    "                                 'NOTA Técnicas de Programação':'Técnicas de Programação',\n",
    "                                 'NOTA Circuitos Digitais':'Circuitos Digitais',\n",
    "                                 'NOTA Análise de Algoritmos':'Análise de Algoritmos',\n",
    "                                 'NOTA Teoria dos Grafos':'Teoria dos Grafos',\n",
    "                                 'NOTA Linguagens formais, autômatos e Computabilidade':'Linguagens Formais, Autômatos e Computabilidade',\n",
    "                                 'NOTA Algorítmos e Estrutura de Dados':'Algoritmos e Estruturas de Dados',\n",
    "                                 'NOTA Linguagens de Programação':'Linguagens de Programação',\n",
    "                                 'NOTA Sistemas Operacionais':'Sistemas Operacionais',\n",
    "                                 'NOTA Arquitetura e Organização de Computadores':'Arquitetura e Organização de Computadores',\n",
    "                                 'NOTA Redes de Computadores':'Redes de Computadores',\n",
    "                                 'NOTA Computação Gráfica':'Computação Gráfica',\n",
    "                                 'NOTA Inteligência Artificial':'Inteligência Artificial',\n",
    "                                 'NOTA Engenharia de Software':'Engenharia de Software',\n",
    "                                 'NOTA Sistemas Distribuídos':'Sistemas Distribuídos',\n",
    "                                 'NOTA Compiladores':'Compiladores',\n",
    "                                 'NOTA Processamento de Imagens':'Processamento de Imagens',\n",
    "                                 'NOTA Banco de Dados':'Banco de Dados'})"
   ]
  },
  {
   "cell_type": "code",
   "execution_count": 193,
   "id": "73458fbb-aef8-42a1-b6ca-4ea8f5a4395f",
   "metadata": {},
   "outputs": [],
   "source": [
    "dados_notasEstados_2018 = dados_notasEstados_2018.rename(columns={'NOTA Matemática Discreta':'Matemática Discreta',\n",
    "                                 'NOTA Cálculo Diferencial e Integral':'Cálculo Diferencial e Integral',\n",
    "                                 'NOTA Algebra Linear':'Álgebra Linear',\n",
    "                                 'NOTA Geometria Analítica':'Geometria Analítica',\n",
    "                                 'NOTA Analise Combinatória':'Análise Combinatória',\n",
    "                                 'NOTA Probabilidade e Estatística':'Probabilidade e Estatística',\n",
    "                                 'NOTA Lógica Matemática':'Lógica Matemática',\n",
    "                                 'NOTA Organização de Arquivos e Dados':'Organização de Arquivos e Dados',\n",
    "                                 'NOTA Técnicas de Programação':'Técnicas de Programação',\n",
    "                                 'NOTA Circuitos Digitais':'Circuitos Digitais',\n",
    "                                 'NOTA Análise de Algoritmos':'Análise de Algoritmos',\n",
    "                                 'NOTA Teoria dos Grafos':'Teoria dos Grafos',\n",
    "                                 'NOTA Linguagens formais, autômatos e Computabilidade':'Linguagens Formais, Autômatos e Computabilidade',\n",
    "                                 'NOTA Algorítmos e Estrutura de Dados':'Algoritmos e Estruturas de Dados',\n",
    "                                 'NOTA Linguagens de Programação':'Linguagens de Programação',\n",
    "                                 'NOTA Sistemas Operacionais':'Sistemas Operacionais',\n",
    "                                 'NOTA Arquitetura e Organização de Computadores':'Arquitetura e Organização de Computadores',\n",
    "                                 'NOTA Redes de Computadores':'Redes de Computadores',\n",
    "                                 'NOTA Computação Gráfica':'Computação Gráfica',\n",
    "                                 'NOTA Inteligência Artificial':'Inteligência Artificial',\n",
    "                                 'NOTA Engenharia de Software':'Engenharia de Software',\n",
    "                                 'NOTA Sistemas Distribuídos':'Sistemas Distribuídos',\n",
    "                                 'NOTA Compiladores':'Compiladores',\n",
    "                                 'NOTA Processamento de Imagens':'Processamento de Imagens',\n",
    "                                 'NOTA Banco de Dados':'Banco de Dados'})"
   ]
  },
  {
   "cell_type": "code",
   "execution_count": 194,
   "id": "40beb323-ff9c-4ca7-99a7-d7e6a25207dc",
   "metadata": {},
   "outputs": [],
   "source": [
    "dados_notasPA_2019 = dados_notasPA_2019.rename(columns={'NOTA Matemática Discreta':'Matemática Discreta',\n",
    "                                 'NOTA Calculo Diferencial e Integral':'Cálculo Diferencial e Integral',\n",
    "                                 'NOTA Álgebra Linear':'Álgebra Linear',\n",
    "                                 'NOTA Geometria Analítica':'Geometria Analítica',\n",
    "                                 'NOTA Análise Combinatória':'Análise Combinatória',\n",
    "                                 'NOTA Probabilidade e Estatística':'Probabilidade e Estatística',\n",
    "                                 'NOTA Lógica Matemática':'Lógica Matemática',\n",
    "                                 'NOTA Organização de Arquivos e Dados':'Organização de Arquivos e Dados',\n",
    "                                 'NOTA Técnicas de Programação':'Técnicas de Programação',\n",
    "                                 'NOTA Circuitos Digitais':'Circuitos Digitais',\n",
    "                                 'NOTA Análise de Algoritmos':'Análise de Algoritmos',\n",
    "                                 'NOTA Teoria dos Grafos':'Teoria dos Grafos',\n",
    "                                 'NOTA Linguagens formais, autômatos e Computabilidade':'Linguagens Formais, Autômatos e Computabilidade',\n",
    "                                 'NOTA Algoritmos e Estrutura de Dados':'Algoritmos e Estruturas de Dados',\n",
    "                                 'NOTA Linguagens de Programação':'Linguagens de Programação',\n",
    "                                 'NOTA Sistemas Operacionais':'Sistemas Operacionais',\n",
    "                                 'NOTA Arquitetura e Organização de Computadores':'Arquitetura e Organização de Computadores',\n",
    "                                 'NOTA Redes de Computadores':'Redes de Computadores',\n",
    "                                 'NOTA Computação Gráfica':'Computação Gráfica',\n",
    "                                 'NOTA Inteligência Artificial':'Inteligência Artificial',\n",
    "                                 'NOTA Engenharia de Software':'Engenharia de Software',\n",
    "                                 'NOTA Sistemas Distribuídos':'Sistemas Distribuídos',\n",
    "                                 'NOTA Compiladores':'Compiladores',\n",
    "                                 'NOTA Processamento de Imagens':'Processamento de Imagens',\n",
    "                                 'NOTA Banco de Dados':'Banco de Dados'})"
   ]
  },
  {
   "cell_type": "code",
   "execution_count": 195,
   "id": "adb72d14-e7d1-42a5-8bb1-5a8d48434bf1",
   "metadata": {},
   "outputs": [],
   "source": [
    "dados_notasEstados_2019 = dados_notasEstados_2019.rename(columns={'NOTA Matemática Discreta':'Matemática Discreta',\n",
    "                                 'NOTA Calculo Diferencial e Integral':'Cálculo Diferencial e Integral',\n",
    "                                 'NOTA Álgebra Linear':'Álgebra Linear',\n",
    "                                 'NOTA Geometria Analítica':'Geometria Analítica',\n",
    "                                 'NOTA Análise Combinatória':'Análise Combinatória',\n",
    "                                 'NOTA Probabilidade e Estatística':'Probabilidade e Estatística',\n",
    "                                 'NOTA Lógica Matemática':'Lógica Matemática',\n",
    "                                 'NOTA Organização de Arquivos e Dados':'Organização de Arquivos e Dados',\n",
    "                                 'NOTA Técnicas de Programação':'Técnicas de Programação',\n",
    "                                 'NOTA Circuitos Digitais':'Circuitos Digitais',\n",
    "                                 'NOTA Análise de Algoritmos':'Análise de Algoritmos',\n",
    "                                 'NOTA Teoria dos Grafos':'Teoria dos Grafos',\n",
    "                                 'NOTA Linguagens formais, autômatos e Computabilidade':'Linguagens Formais, Autômatos e Computabilidade',\n",
    "                                 'NOTA Algoritmos e Estrutura de Dados':'Algoritmos e Estruturas de Dados',\n",
    "                                 'NOTA Linguagens de Programação':'Linguagens de Programação',\n",
    "                                 'NOTA Sistemas Operacionais':'Sistemas Operacionais',\n",
    "                                 'NOTA Arquitetura e Organização de Computadores':'Arquitetura e Organização de Computadores',\n",
    "                                 'NOTA Redes de Computadores':'Redes de Computadores',\n",
    "                                 'NOTA Computação Gráfica':'Computação Gráfica',\n",
    "                                 'NOTA Inteligência Artificial':'Inteligência Artificial',\n",
    "                                 'NOTA Engenharia de Software':'Engenharia de Software',\n",
    "                                 'NOTA Sistemas Distribuídos':'Sistemas Distribuídos',\n",
    "                                 'NOTA Compiladores':'Compiladores',\n",
    "                                 'NOTA Processamento de Imagens':'Processamento de Imagens',\n",
    "                                 'NOTA Banco de Dados':'Banco de Dados'})"
   ]
  },
  {
   "cell_type": "code",
   "execution_count": 196,
   "id": "94d056de-8671-4d8d-830d-9120fb159c1a",
   "metadata": {},
   "outputs": [
    {
     "data": {
      "text/plain": [
       "['Álgebra Linear',\n",
       " 'Análise Combinatória',\n",
       " 'Cálculo Diferencial e Integral',\n",
       " 'Geometria Analítica',\n",
       " 'Matemática Discreta',\n",
       " 'Probabilidade e Estatística',\n",
       " 'Lógica Matemática',\n",
       " 'Análise de Algoritmos',\n",
       " 'Algoritmos e Estruturas de Dados',\n",
       " 'Arquitetura e Organização de Computadores',\n",
       " 'Circuitos Digitais',\n",
       " 'Linguagens de Programação',\n",
       " 'Linguagens Formais, Autômatos e Computabilidade',\n",
       " 'Organização de Arquivos e Dados',\n",
       " 'Sistemas Operacionais',\n",
       " 'Técnicas de Programação',\n",
       " 'Teoria dos Grafos',\n",
       " 'Banco de Dados',\n",
       " 'Compiladores',\n",
       " 'Computação Gráfica',\n",
       " 'Engenharia de Software',\n",
       " 'Inteligência Artificial',\n",
       " 'Processamento de Imagens',\n",
       " 'Redes de Computadores',\n",
       " 'Sistemas Distribuídos']"
      ]
     },
     "execution_count": 196,
     "metadata": {},
     "output_type": "execute_result"
    }
   ],
   "source": [
    "list(dados_notasPA_2018.columns)"
   ]
  },
  {
   "cell_type": "code",
   "execution_count": 197,
   "id": "2851d070-53a9-438d-a196-537737404320",
   "metadata": {},
   "outputs": [],
   "source": [
    "#producao.loc[~producao['Id'].isin(base_dados['Id'])].reset_index(drop=True)\n",
    "#candidatos_pa"
   ]
  },
  {
   "cell_type": "code",
   "execution_count": 198,
   "id": "3e4aa33f-e92c-4d0e-be89-16a5ff4dc39e",
   "metadata": {},
   "outputs": [],
   "source": [
    "dados_notas_2016 = dados_respostas_notas_2016.loc[~dados_respostas_notas_2016['INSCRICAO'].\n",
    "                                                    isin(candidatos_pa['INSCRICAO'])].reset_index(drop=True)"
   ]
  },
  {
   "cell_type": "markdown",
   "id": "85a69e6d-41c6-45f2-a2d1-d5ee9557c020",
   "metadata": {},
   "source": [
    "##### Transformação dos dados (Rotação)"
   ]
  },
  {
   "cell_type": "code",
   "execution_count": 199,
   "id": "4d6fb39f-a6f3-4aa5-a711-836e8923377f",
   "metadata": {},
   "outputs": [],
   "source": [
    "dados_notasPA2016 = dados_notasPA_2016.copy()\n",
    "dados_notasPA2016 = dados_notasPA2016.T.reset_index().reindex()\n",
    "dados_notasPA2016 = dados_notasPA2016.sort_values('index')\n",
    "dados_notasPA2016 = dados_notasPA2016.set_index('index')"
   ]
  },
  {
   "cell_type": "code",
   "execution_count": 200,
   "id": "530ee30d-0e67-4d20-a8dc-310215922428",
   "metadata": {},
   "outputs": [],
   "source": [
    "dados_notasPA2016 = dados_notasPA2016.T.reset_index().reindex()"
   ]
  },
  {
   "cell_type": "code",
   "execution_count": 201,
   "id": "4a3b2fb3-d3c2-4c5d-9f37-081c88f4d4c3",
   "metadata": {},
   "outputs": [],
   "source": [
    "dados_notasPA2017 = dados_notasPA_2017.copy()\n",
    "dados_notasPA2017 = dados_notasPA2017.T.reset_index().reindex()\n",
    "dados_notasPA2017 = dados_notasPA2017.sort_values('index')\n",
    "dados_notasPA2017 = dados_notasPA2017.set_index('index')"
   ]
  },
  {
   "cell_type": "code",
   "execution_count": 202,
   "id": "b802d44a-1e9f-4a44-8931-da2d8d0a7604",
   "metadata": {},
   "outputs": [],
   "source": [
    "dados_notasPA2017 = dados_notasPA2017.T.reset_index().reindex()"
   ]
  },
  {
   "cell_type": "code",
   "execution_count": 203,
   "id": "d57cd76c-757b-4847-8428-1643e4d1883b",
   "metadata": {},
   "outputs": [],
   "source": [
    "dados_notasPA2018 = dados_notasPA_2018.copy()\n",
    "dados_notasPA2018 = dados_notasPA2018.T.reset_index().reindex()\n",
    "dados_notasPA2018 = dados_notasPA2018.sort_values('index')\n",
    "dados_notasPA2018 = dados_notasPA2018.set_index('index')"
   ]
  },
  {
   "cell_type": "code",
   "execution_count": 204,
   "id": "1eca6ed0-63c6-4739-9ec9-9d765f0e616b",
   "metadata": {},
   "outputs": [],
   "source": [
    "dados_notasPA2018 = dados_notasPA2018.T.reset_index().reindex()"
   ]
  },
  {
   "cell_type": "code",
   "execution_count": 205,
   "id": "8bc35d7b-e8bb-4a75-a1dd-d11006a5b952",
   "metadata": {},
   "outputs": [],
   "source": [
    "dados_notasPA2019 = dados_notasPA_2019.copy()\n",
    "dados_notasPA2019 = dados_notasPA2019.T.reset_index().reindex()\n",
    "dados_notasPA2019 = dados_notasPA2019.sort_values('index')\n",
    "dados_notasPA2019 = dados_notasPA2019.set_index('index')"
   ]
  },
  {
   "cell_type": "code",
   "execution_count": 206,
   "id": "abcaa591-c64c-407c-bd71-8986bc5ab21a",
   "metadata": {},
   "outputs": [],
   "source": [
    "dados_notasPA2019 = dados_notasPA2019.T.reset_index().reindex()"
   ]
  },
  {
   "cell_type": "code",
   "execution_count": 207,
   "id": "ac77b4e8-5f9e-4447-a4a4-7258d5a7e129",
   "metadata": {},
   "outputs": [],
   "source": [
    "# Retacionar os dados de demais estados\n",
    "dados_notasEstados2016 = dados_notasEstados_2016.copy()\n",
    "dados_notasEstados2016 = dados_notasEstados2016.T.reset_index().reindex()\n",
    "dados_notasEstados2016 = dados_notasEstados2016.sort_values('index')\n",
    "dados_notasEstados2016 = dados_notasEstados2016.set_index('index')"
   ]
  },
  {
   "cell_type": "code",
   "execution_count": 208,
   "id": "eeeecb1d-0c79-4825-b197-e3ff22f345e6",
   "metadata": {},
   "outputs": [],
   "source": [
    "dados_notasEstados2016 = dados_notasEstados2016.T.reset_index().reindex()"
   ]
  },
  {
   "cell_type": "code",
   "execution_count": 209,
   "id": "b52893b6-21e8-47ee-aaa3-7dd52ab608d6",
   "metadata": {},
   "outputs": [],
   "source": [
    "# Retacionar os dados de demais estados\n",
    "dados_notasEstados2017 = dados_notasEstados_2017.copy()\n",
    "dados_notasEstados2017 = dados_notasEstados2017.T.reset_index().reindex()\n",
    "dados_notasEstados2017 = dados_notasEstados2017.sort_values('index')\n",
    "dados_notasEstados2017 = dados_notasEstados2017.set_index('index')"
   ]
  },
  {
   "cell_type": "code",
   "execution_count": 210,
   "id": "491faf24-255a-4c41-ba8e-1591f1346c2a",
   "metadata": {},
   "outputs": [],
   "source": [
    "dados_notasEstados2017 = dados_notasEstados2017.T.reset_index().reindex()"
   ]
  },
  {
   "cell_type": "code",
   "execution_count": 211,
   "id": "702cf0a7-7cf2-450f-8483-b84be8be2035",
   "metadata": {},
   "outputs": [],
   "source": [
    "# Retacionar os dados de demais estados\n",
    "dados_notasEstados2018 = dados_notasEstados_2018.copy()\n",
    "dados_notasEstados2018 = dados_notasEstados2018.T.reset_index().reindex()\n",
    "dados_notasEstados2018 = dados_notasEstados2018.sort_values('index')\n",
    "dados_notasEstados2018 = dados_notasEstados2018.set_index('index')"
   ]
  },
  {
   "cell_type": "code",
   "execution_count": 212,
   "id": "19b98cf5-a266-452d-933a-a71cb6acaf05",
   "metadata": {},
   "outputs": [],
   "source": [
    "dados_notasEstados2018 = dados_notasEstados2018.T.reset_index().reindex()"
   ]
  },
  {
   "cell_type": "code",
   "execution_count": 213,
   "id": "20f95ce7-1f43-43c6-95a5-7422af0546e9",
   "metadata": {},
   "outputs": [],
   "source": [
    "# Retacionar os dados de demais estados\n",
    "dados_notasEstados2019 = dados_notasEstados_2019.copy()\n",
    "dados_notasEstados2019 = dados_notasEstados2019.T.reset_index().reindex()\n",
    "dados_notasEstados2019 = dados_notasEstados2019.sort_values('index')\n",
    "dados_notasEstados2019 = dados_notasEstados2019.set_index('index')"
   ]
  },
  {
   "cell_type": "code",
   "execution_count": 214,
   "id": "c6422743-39fc-40d2-9ccc-bb2a4179c61b",
   "metadata": {},
   "outputs": [],
   "source": [
    "dados_notasEstados2019 = dados_notasEstados2019.T.reset_index().reindex()"
   ]
  },
  {
   "cell_type": "code",
   "execution_count": 215,
   "id": "92f2a4d6-be39-47d3-86a1-17e44e5b04ec",
   "metadata": {},
   "outputs": [],
   "source": [
    "#Juntar os DataFrame de todos os candidatos residentes no estado do Pará\n",
    "dados_notasPA = pd.concat([dados_notasPA2016, dados_notasPA2017, dados_notasPA2018, dados_notasPA2019], axis=0)\n",
    "dados_notasEstados = pd.concat([dados_notasEstados2016, dados_notasEstados2017, dados_notasEstados2018, dados_notasEstados2019], axis=0)\n",
    "dados_notasPA = dados_notasPA.drop(columns=['index'])\n",
    "dados_notasEstados = dados_notasEstados.drop(columns=['index'])"
   ]
  },
  {
   "cell_type": "code",
   "execution_count": 216,
   "id": "93639d06-f26a-4113-b0cf-76a3023bbe24",
   "metadata": {},
   "outputs": [
    {
     "data": {
      "text/html": [
       "<div>\n",
       "<style scoped>\n",
       "    .dataframe tbody tr th:only-of-type {\n",
       "        vertical-align: middle;\n",
       "    }\n",
       "\n",
       "    .dataframe tbody tr th {\n",
       "        vertical-align: top;\n",
       "    }\n",
       "\n",
       "    .dataframe thead th {\n",
       "        text-align: right;\n",
       "    }\n",
       "</style>\n",
       "<table border=\"1\" class=\"dataframe\">\n",
       "  <thead>\n",
       "    <tr style=\"text-align: right;\">\n",
       "      <th>index</th>\n",
       "      <th>Algoritmos e Estruturas de Dados</th>\n",
       "      <th>Análise Combinatória</th>\n",
       "      <th>Análise de Algoritmos</th>\n",
       "      <th>Arquitetura e Organização de Computadores</th>\n",
       "      <th>Banco de Dados</th>\n",
       "      <th>Circuitos Digitais</th>\n",
       "      <th>Compiladores</th>\n",
       "      <th>Computação Gráfica</th>\n",
       "      <th>Cálculo Diferencial e Integral</th>\n",
       "      <th>Engenharia de Software</th>\n",
       "      <th>...</th>\n",
       "      <th>Matemática Discreta</th>\n",
       "      <th>Organização de Arquivos e Dados</th>\n",
       "      <th>Probabilidade e Estatística</th>\n",
       "      <th>Processamento de Imagens</th>\n",
       "      <th>Redes de Computadores</th>\n",
       "      <th>Sistemas Distribuídos</th>\n",
       "      <th>Sistemas Operacionais</th>\n",
       "      <th>Teoria dos Grafos</th>\n",
       "      <th>Técnicas de Programação</th>\n",
       "      <th>Álgebra Linear</th>\n",
       "    </tr>\n",
       "  </thead>\n",
       "  <tbody>\n",
       "    <tr>\n",
       "      <th>0</th>\n",
       "      <td>3.0</td>\n",
       "      <td>2.0</td>\n",
       "      <td>3.0</td>\n",
       "      <td>1.0</td>\n",
       "      <td>2.0</td>\n",
       "      <td>1.0</td>\n",
       "      <td>0.0</td>\n",
       "      <td>0.0</td>\n",
       "      <td>3.0</td>\n",
       "      <td>0.0</td>\n",
       "      <td>...</td>\n",
       "      <td>3.0</td>\n",
       "      <td>0.0</td>\n",
       "      <td>1.0</td>\n",
       "      <td>2.0</td>\n",
       "      <td>1.0</td>\n",
       "      <td>3.0</td>\n",
       "      <td>0.0</td>\n",
       "      <td>2.0</td>\n",
       "      <td>3.0</td>\n",
       "      <td>3.0</td>\n",
       "    </tr>\n",
       "    <tr>\n",
       "      <th>1</th>\n",
       "      <td>1.0</td>\n",
       "      <td>1.0</td>\n",
       "      <td>1.0</td>\n",
       "      <td>1.0</td>\n",
       "      <td>1.0</td>\n",
       "      <td>3.0</td>\n",
       "      <td>1.0</td>\n",
       "      <td>0.0</td>\n",
       "      <td>3.0</td>\n",
       "      <td>3.0</td>\n",
       "      <td>...</td>\n",
       "      <td>3.0</td>\n",
       "      <td>2.0</td>\n",
       "      <td>2.0</td>\n",
       "      <td>1.0</td>\n",
       "      <td>1.0</td>\n",
       "      <td>2.0</td>\n",
       "      <td>2.0</td>\n",
       "      <td>3.0</td>\n",
       "      <td>3.0</td>\n",
       "      <td>2.0</td>\n",
       "    </tr>\n",
       "    <tr>\n",
       "      <th>2</th>\n",
       "      <td>3.0</td>\n",
       "      <td>2.0</td>\n",
       "      <td>2.0</td>\n",
       "      <td>1.0</td>\n",
       "      <td>1.0</td>\n",
       "      <td>2.0</td>\n",
       "      <td>1.0</td>\n",
       "      <td>0.0</td>\n",
       "      <td>2.0</td>\n",
       "      <td>1.0</td>\n",
       "      <td>...</td>\n",
       "      <td>3.0</td>\n",
       "      <td>1.0</td>\n",
       "      <td>2.0</td>\n",
       "      <td>2.0</td>\n",
       "      <td>2.0</td>\n",
       "      <td>3.0</td>\n",
       "      <td>2.0</td>\n",
       "      <td>3.0</td>\n",
       "      <td>3.0</td>\n",
       "      <td>3.0</td>\n",
       "    </tr>\n",
       "    <tr>\n",
       "      <th>3</th>\n",
       "      <td>1.0</td>\n",
       "      <td>0.0</td>\n",
       "      <td>2.0</td>\n",
       "      <td>1.0</td>\n",
       "      <td>1.0</td>\n",
       "      <td>1.0</td>\n",
       "      <td>0.0</td>\n",
       "      <td>0.0</td>\n",
       "      <td>1.0</td>\n",
       "      <td>0.0</td>\n",
       "      <td>...</td>\n",
       "      <td>0.0</td>\n",
       "      <td>1.0</td>\n",
       "      <td>0.0</td>\n",
       "      <td>2.0</td>\n",
       "      <td>1.0</td>\n",
       "      <td>2.0</td>\n",
       "      <td>2.0</td>\n",
       "      <td>2.0</td>\n",
       "      <td>3.0</td>\n",
       "      <td>1.0</td>\n",
       "    </tr>\n",
       "    <tr>\n",
       "      <th>4</th>\n",
       "      <td>0.0</td>\n",
       "      <td>3.0</td>\n",
       "      <td>1.0</td>\n",
       "      <td>0.0</td>\n",
       "      <td>1.0</td>\n",
       "      <td>3.0</td>\n",
       "      <td>2.0</td>\n",
       "      <td>0.0</td>\n",
       "      <td>0.0</td>\n",
       "      <td>0.0</td>\n",
       "      <td>...</td>\n",
       "      <td>1.0</td>\n",
       "      <td>0.0</td>\n",
       "      <td>0.0</td>\n",
       "      <td>1.0</td>\n",
       "      <td>1.0</td>\n",
       "      <td>2.0</td>\n",
       "      <td>2.0</td>\n",
       "      <td>1.0</td>\n",
       "      <td>2.0</td>\n",
       "      <td>2.0</td>\n",
       "    </tr>\n",
       "    <tr>\n",
       "      <th>...</th>\n",
       "      <td>...</td>\n",
       "      <td>...</td>\n",
       "      <td>...</td>\n",
       "      <td>...</td>\n",
       "      <td>...</td>\n",
       "      <td>...</td>\n",
       "      <td>...</td>\n",
       "      <td>...</td>\n",
       "      <td>...</td>\n",
       "      <td>...</td>\n",
       "      <td>...</td>\n",
       "      <td>...</td>\n",
       "      <td>...</td>\n",
       "      <td>...</td>\n",
       "      <td>...</td>\n",
       "      <td>...</td>\n",
       "      <td>...</td>\n",
       "      <td>...</td>\n",
       "      <td>...</td>\n",
       "      <td>...</td>\n",
       "      <td>...</td>\n",
       "    </tr>\n",
       "    <tr>\n",
       "      <th>2751</th>\n",
       "      <td>3.0</td>\n",
       "      <td>1.0</td>\n",
       "      <td>2.0</td>\n",
       "      <td>0.0</td>\n",
       "      <td>0.0</td>\n",
       "      <td>1.0</td>\n",
       "      <td>0.0</td>\n",
       "      <td>1.0</td>\n",
       "      <td>2.0</td>\n",
       "      <td>0.0</td>\n",
       "      <td>...</td>\n",
       "      <td>1.0</td>\n",
       "      <td>0.0</td>\n",
       "      <td>1.0</td>\n",
       "      <td>1.0</td>\n",
       "      <td>1.0</td>\n",
       "      <td>2.0</td>\n",
       "      <td>2.0</td>\n",
       "      <td>1.0</td>\n",
       "      <td>3.0</td>\n",
       "      <td>2.0</td>\n",
       "    </tr>\n",
       "    <tr>\n",
       "      <th>2752</th>\n",
       "      <td>3.0</td>\n",
       "      <td>1.0</td>\n",
       "      <td>2.0</td>\n",
       "      <td>1.0</td>\n",
       "      <td>0.0</td>\n",
       "      <td>1.0</td>\n",
       "      <td>0.0</td>\n",
       "      <td>1.0</td>\n",
       "      <td>2.0</td>\n",
       "      <td>0.0</td>\n",
       "      <td>...</td>\n",
       "      <td>3.0</td>\n",
       "      <td>0.0</td>\n",
       "      <td>1.0</td>\n",
       "      <td>1.0</td>\n",
       "      <td>0.0</td>\n",
       "      <td>1.0</td>\n",
       "      <td>1.0</td>\n",
       "      <td>3.0</td>\n",
       "      <td>3.0</td>\n",
       "      <td>2.0</td>\n",
       "    </tr>\n",
       "    <tr>\n",
       "      <th>2753</th>\n",
       "      <td>1.0</td>\n",
       "      <td>0.0</td>\n",
       "      <td>1.0</td>\n",
       "      <td>0.0</td>\n",
       "      <td>2.0</td>\n",
       "      <td>0.0</td>\n",
       "      <td>0.0</td>\n",
       "      <td>1.0</td>\n",
       "      <td>2.0</td>\n",
       "      <td>0.0</td>\n",
       "      <td>...</td>\n",
       "      <td>2.0</td>\n",
       "      <td>0.0</td>\n",
       "      <td>1.0</td>\n",
       "      <td>1.0</td>\n",
       "      <td>0.0</td>\n",
       "      <td>1.0</td>\n",
       "      <td>1.0</td>\n",
       "      <td>2.0</td>\n",
       "      <td>3.0</td>\n",
       "      <td>3.0</td>\n",
       "    </tr>\n",
       "    <tr>\n",
       "      <th>2754</th>\n",
       "      <td>NaN</td>\n",
       "      <td>NaN</td>\n",
       "      <td>NaN</td>\n",
       "      <td>NaN</td>\n",
       "      <td>NaN</td>\n",
       "      <td>NaN</td>\n",
       "      <td>NaN</td>\n",
       "      <td>NaN</td>\n",
       "      <td>NaN</td>\n",
       "      <td>NaN</td>\n",
       "      <td>...</td>\n",
       "      <td>NaN</td>\n",
       "      <td>NaN</td>\n",
       "      <td>NaN</td>\n",
       "      <td>NaN</td>\n",
       "      <td>NaN</td>\n",
       "      <td>NaN</td>\n",
       "      <td>NaN</td>\n",
       "      <td>NaN</td>\n",
       "      <td>NaN</td>\n",
       "      <td>NaN</td>\n",
       "    </tr>\n",
       "    <tr>\n",
       "      <th>2755</th>\n",
       "      <td>NaN</td>\n",
       "      <td>NaN</td>\n",
       "      <td>NaN</td>\n",
       "      <td>NaN</td>\n",
       "      <td>NaN</td>\n",
       "      <td>NaN</td>\n",
       "      <td>NaN</td>\n",
       "      <td>NaN</td>\n",
       "      <td>NaN</td>\n",
       "      <td>NaN</td>\n",
       "      <td>...</td>\n",
       "      <td>NaN</td>\n",
       "      <td>NaN</td>\n",
       "      <td>NaN</td>\n",
       "      <td>NaN</td>\n",
       "      <td>NaN</td>\n",
       "      <td>NaN</td>\n",
       "      <td>NaN</td>\n",
       "      <td>NaN</td>\n",
       "      <td>NaN</td>\n",
       "      <td>NaN</td>\n",
       "    </tr>\n",
       "  </tbody>\n",
       "</table>\n",
       "<p>13875 rows × 25 columns</p>\n",
       "</div>"
      ],
      "text/plain": [
       "index  Algoritmos e Estruturas de Dados  Análise Combinatória  \\\n",
       "0                                   3.0                   2.0   \n",
       "1                                   1.0                   1.0   \n",
       "2                                   3.0                   2.0   \n",
       "3                                   1.0                   0.0   \n",
       "4                                   0.0                   3.0   \n",
       "...                                 ...                   ...   \n",
       "2751                                3.0                   1.0   \n",
       "2752                                3.0                   1.0   \n",
       "2753                                1.0                   0.0   \n",
       "2754                                NaN                   NaN   \n",
       "2755                                NaN                   NaN   \n",
       "\n",
       "index  Análise de Algoritmos  Arquitetura e Organização de Computadores  \\\n",
       "0                        3.0                                        1.0   \n",
       "1                        1.0                                        1.0   \n",
       "2                        2.0                                        1.0   \n",
       "3                        2.0                                        1.0   \n",
       "4                        1.0                                        0.0   \n",
       "...                      ...                                        ...   \n",
       "2751                     2.0                                        0.0   \n",
       "2752                     2.0                                        1.0   \n",
       "2753                     1.0                                        0.0   \n",
       "2754                     NaN                                        NaN   \n",
       "2755                     NaN                                        NaN   \n",
       "\n",
       "index  Banco de Dados  Circuitos Digitais  Compiladores  Computação Gráfica  \\\n",
       "0                 2.0                 1.0           0.0                 0.0   \n",
       "1                 1.0                 3.0           1.0                 0.0   \n",
       "2                 1.0                 2.0           1.0                 0.0   \n",
       "3                 1.0                 1.0           0.0                 0.0   \n",
       "4                 1.0                 3.0           2.0                 0.0   \n",
       "...               ...                 ...           ...                 ...   \n",
       "2751              0.0                 1.0           0.0                 1.0   \n",
       "2752              0.0                 1.0           0.0                 1.0   \n",
       "2753              2.0                 0.0           0.0                 1.0   \n",
       "2754              NaN                 NaN           NaN                 NaN   \n",
       "2755              NaN                 NaN           NaN                 NaN   \n",
       "\n",
       "index  Cálculo Diferencial e Integral  Engenharia de Software  ...  \\\n",
       "0                                 3.0                     0.0  ...   \n",
       "1                                 3.0                     3.0  ...   \n",
       "2                                 2.0                     1.0  ...   \n",
       "3                                 1.0                     0.0  ...   \n",
       "4                                 0.0                     0.0  ...   \n",
       "...                               ...                     ...  ...   \n",
       "2751                              2.0                     0.0  ...   \n",
       "2752                              2.0                     0.0  ...   \n",
       "2753                              2.0                     0.0  ...   \n",
       "2754                              NaN                     NaN  ...   \n",
       "2755                              NaN                     NaN  ...   \n",
       "\n",
       "index  Matemática Discreta  Organização de Arquivos e Dados  \\\n",
       "0                      3.0                              0.0   \n",
       "1                      3.0                              2.0   \n",
       "2                      3.0                              1.0   \n",
       "3                      0.0                              1.0   \n",
       "4                      1.0                              0.0   \n",
       "...                    ...                              ...   \n",
       "2751                   1.0                              0.0   \n",
       "2752                   3.0                              0.0   \n",
       "2753                   2.0                              0.0   \n",
       "2754                   NaN                              NaN   \n",
       "2755                   NaN                              NaN   \n",
       "\n",
       "index  Probabilidade e Estatística  Processamento de Imagens  \\\n",
       "0                              1.0                       2.0   \n",
       "1                              2.0                       1.0   \n",
       "2                              2.0                       2.0   \n",
       "3                              0.0                       2.0   \n",
       "4                              0.0                       1.0   \n",
       "...                            ...                       ...   \n",
       "2751                           1.0                       1.0   \n",
       "2752                           1.0                       1.0   \n",
       "2753                           1.0                       1.0   \n",
       "2754                           NaN                       NaN   \n",
       "2755                           NaN                       NaN   \n",
       "\n",
       "index  Redes de Computadores  Sistemas Distribuídos  Sistemas Operacionais  \\\n",
       "0                        1.0                    3.0                    0.0   \n",
       "1                        1.0                    2.0                    2.0   \n",
       "2                        2.0                    3.0                    2.0   \n",
       "3                        1.0                    2.0                    2.0   \n",
       "4                        1.0                    2.0                    2.0   \n",
       "...                      ...                    ...                    ...   \n",
       "2751                     1.0                    2.0                    2.0   \n",
       "2752                     0.0                    1.0                    1.0   \n",
       "2753                     0.0                    1.0                    1.0   \n",
       "2754                     NaN                    NaN                    NaN   \n",
       "2755                     NaN                    NaN                    NaN   \n",
       "\n",
       "index  Teoria dos Grafos  Técnicas de Programação  Álgebra Linear  \n",
       "0                    2.0                      3.0             3.0  \n",
       "1                    3.0                      3.0             2.0  \n",
       "2                    3.0                      3.0             3.0  \n",
       "3                    2.0                      3.0             1.0  \n",
       "4                    1.0                      2.0             2.0  \n",
       "...                  ...                      ...             ...  \n",
       "2751                 1.0                      3.0             2.0  \n",
       "2752                 3.0                      3.0             2.0  \n",
       "2753                 2.0                      3.0             3.0  \n",
       "2754                 NaN                      NaN             NaN  \n",
       "2755                 NaN                      NaN             NaN  \n",
       "\n",
       "[13875 rows x 25 columns]"
      ]
     },
     "execution_count": 216,
     "metadata": {},
     "output_type": "execute_result"
    }
   ],
   "source": [
    "dados_notasEstados"
   ]
  },
  {
   "cell_type": "code",
   "execution_count": 217,
   "id": "fcf4a52e-1226-4646-8c8e-ee77ce5d548e",
   "metadata": {},
   "outputs": [
    {
     "data": {
      "application/vnd.plotly.v1+json": {
       "config": {
        "plotlyServerURL": "https://plot.ly"
       },
       "data": [
        {
         "branchvalues": "total",
         "domain": {
          "x": [
           0,
           1
          ],
          "y": [
           0,
           1
          ]
         },
         "hovertemplate": "labels=%{label}<br>count=%{value}<br>parent=%{parent}<br>id=%{id}<extra></extra>",
         "ids": [
          "AC",
          "AL",
          "AM",
          "AP",
          "BA",
          "CE",
          "DF",
          "ES",
          "GO",
          "MA",
          "MG",
          "MS",
          "MT",
          "OU",
          "PA",
          "PB",
          "PE",
          "PI",
          "PR",
          "RJ",
          "RN",
          "RO",
          "RR",
          "RS",
          "SC",
          "SE",
          "SP",
          "TO"
         ],
         "labels": [
          "AC",
          "AL",
          "AM",
          "AP",
          "BA",
          "CE",
          "DF",
          "ES",
          "GO",
          "MA",
          "MG",
          "MS",
          "MT",
          "OU",
          "PA",
          "PB",
          "PE",
          "PI",
          "PR",
          "RJ",
          "RN",
          "RO",
          "RR",
          "RS",
          "SC",
          "SE",
          "SP",
          "TO"
         ],
         "name": "",
         "parents": [
          "",
          "",
          "",
          "",
          "",
          "",
          "",
          "",
          "",
          "",
          "",
          "",
          "",
          "",
          "",
          "",
          "",
          "",
          "",
          "",
          "",
          "",
          "",
          "",
          "",
          "",
          "",
          ""
         ],
         "type": "treemap",
         "values": [
          7,
          228,
          107,
          16,
          171,
          746,
          95,
          467,
          566,
          398,
          1702,
          566,
          190,
          229,
          698,
          741,
          65,
          468,
          1132,
          506,
          209,
          27,
          7,
          1346,
          788,
          138,
          2890,
          70
         ]
        }
       ],
       "layout": {
        "autosize": true,
        "legend": {
         "tracegroupgap": 0
        },
        "margin": {
         "t": 60
        },
        "template": {
         "data": {
          "bar": [
           {
            "error_x": {
             "color": "#2a3f5f"
            },
            "error_y": {
             "color": "#2a3f5f"
            },
            "marker": {
             "line": {
              "color": "#E5ECF6",
              "width": 0.5
             },
             "pattern": {
              "fillmode": "overlay",
              "size": 10,
              "solidity": 0.2
             }
            },
            "type": "bar"
           }
          ],
          "barpolar": [
           {
            "marker": {
             "line": {
              "color": "#E5ECF6",
              "width": 0.5
             },
             "pattern": {
              "fillmode": "overlay",
              "size": 10,
              "solidity": 0.2
             }
            },
            "type": "barpolar"
           }
          ],
          "carpet": [
           {
            "aaxis": {
             "endlinecolor": "#2a3f5f",
             "gridcolor": "white",
             "linecolor": "white",
             "minorgridcolor": "white",
             "startlinecolor": "#2a3f5f"
            },
            "baxis": {
             "endlinecolor": "#2a3f5f",
             "gridcolor": "white",
             "linecolor": "white",
             "minorgridcolor": "white",
             "startlinecolor": "#2a3f5f"
            },
            "type": "carpet"
           }
          ],
          "choropleth": [
           {
            "colorbar": {
             "outlinewidth": 0,
             "ticks": ""
            },
            "type": "choropleth"
           }
          ],
          "contour": [
           {
            "colorbar": {
             "outlinewidth": 0,
             "ticks": ""
            },
            "colorscale": [
             [
              0,
              "#0d0887"
             ],
             [
              0.1111111111111111,
              "#46039f"
             ],
             [
              0.2222222222222222,
              "#7201a8"
             ],
             [
              0.3333333333333333,
              "#9c179e"
             ],
             [
              0.4444444444444444,
              "#bd3786"
             ],
             [
              0.5555555555555556,
              "#d8576b"
             ],
             [
              0.6666666666666666,
              "#ed7953"
             ],
             [
              0.7777777777777778,
              "#fb9f3a"
             ],
             [
              0.8888888888888888,
              "#fdca26"
             ],
             [
              1,
              "#f0f921"
             ]
            ],
            "type": "contour"
           }
          ],
          "contourcarpet": [
           {
            "colorbar": {
             "outlinewidth": 0,
             "ticks": ""
            },
            "type": "contourcarpet"
           }
          ],
          "heatmap": [
           {
            "colorbar": {
             "outlinewidth": 0,
             "ticks": ""
            },
            "colorscale": [
             [
              0,
              "#0d0887"
             ],
             [
              0.1111111111111111,
              "#46039f"
             ],
             [
              0.2222222222222222,
              "#7201a8"
             ],
             [
              0.3333333333333333,
              "#9c179e"
             ],
             [
              0.4444444444444444,
              "#bd3786"
             ],
             [
              0.5555555555555556,
              "#d8576b"
             ],
             [
              0.6666666666666666,
              "#ed7953"
             ],
             [
              0.7777777777777778,
              "#fb9f3a"
             ],
             [
              0.8888888888888888,
              "#fdca26"
             ],
             [
              1,
              "#f0f921"
             ]
            ],
            "type": "heatmap"
           }
          ],
          "heatmapgl": [
           {
            "colorbar": {
             "outlinewidth": 0,
             "ticks": ""
            },
            "colorscale": [
             [
              0,
              "#0d0887"
             ],
             [
              0.1111111111111111,
              "#46039f"
             ],
             [
              0.2222222222222222,
              "#7201a8"
             ],
             [
              0.3333333333333333,
              "#9c179e"
             ],
             [
              0.4444444444444444,
              "#bd3786"
             ],
             [
              0.5555555555555556,
              "#d8576b"
             ],
             [
              0.6666666666666666,
              "#ed7953"
             ],
             [
              0.7777777777777778,
              "#fb9f3a"
             ],
             [
              0.8888888888888888,
              "#fdca26"
             ],
             [
              1,
              "#f0f921"
             ]
            ],
            "type": "heatmapgl"
           }
          ],
          "histogram": [
           {
            "marker": {
             "pattern": {
              "fillmode": "overlay",
              "size": 10,
              "solidity": 0.2
             }
            },
            "type": "histogram"
           }
          ],
          "histogram2d": [
           {
            "colorbar": {
             "outlinewidth": 0,
             "ticks": ""
            },
            "colorscale": [
             [
              0,
              "#0d0887"
             ],
             [
              0.1111111111111111,
              "#46039f"
             ],
             [
              0.2222222222222222,
              "#7201a8"
             ],
             [
              0.3333333333333333,
              "#9c179e"
             ],
             [
              0.4444444444444444,
              "#bd3786"
             ],
             [
              0.5555555555555556,
              "#d8576b"
             ],
             [
              0.6666666666666666,
              "#ed7953"
             ],
             [
              0.7777777777777778,
              "#fb9f3a"
             ],
             [
              0.8888888888888888,
              "#fdca26"
             ],
             [
              1,
              "#f0f921"
             ]
            ],
            "type": "histogram2d"
           }
          ],
          "histogram2dcontour": [
           {
            "colorbar": {
             "outlinewidth": 0,
             "ticks": ""
            },
            "colorscale": [
             [
              0,
              "#0d0887"
             ],
             [
              0.1111111111111111,
              "#46039f"
             ],
             [
              0.2222222222222222,
              "#7201a8"
             ],
             [
              0.3333333333333333,
              "#9c179e"
             ],
             [
              0.4444444444444444,
              "#bd3786"
             ],
             [
              0.5555555555555556,
              "#d8576b"
             ],
             [
              0.6666666666666666,
              "#ed7953"
             ],
             [
              0.7777777777777778,
              "#fb9f3a"
             ],
             [
              0.8888888888888888,
              "#fdca26"
             ],
             [
              1,
              "#f0f921"
             ]
            ],
            "type": "histogram2dcontour"
           }
          ],
          "mesh3d": [
           {
            "colorbar": {
             "outlinewidth": 0,
             "ticks": ""
            },
            "type": "mesh3d"
           }
          ],
          "parcoords": [
           {
            "line": {
             "colorbar": {
              "outlinewidth": 0,
              "ticks": ""
             }
            },
            "type": "parcoords"
           }
          ],
          "pie": [
           {
            "automargin": true,
            "type": "pie"
           }
          ],
          "scatter": [
           {
            "fillpattern": {
             "fillmode": "overlay",
             "size": 10,
             "solidity": 0.2
            },
            "type": "scatter"
           }
          ],
          "scatter3d": [
           {
            "line": {
             "colorbar": {
              "outlinewidth": 0,
              "ticks": ""
             }
            },
            "marker": {
             "colorbar": {
              "outlinewidth": 0,
              "ticks": ""
             }
            },
            "type": "scatter3d"
           }
          ],
          "scattercarpet": [
           {
            "marker": {
             "colorbar": {
              "outlinewidth": 0,
              "ticks": ""
             }
            },
            "type": "scattercarpet"
           }
          ],
          "scattergeo": [
           {
            "marker": {
             "colorbar": {
              "outlinewidth": 0,
              "ticks": ""
             }
            },
            "type": "scattergeo"
           }
          ],
          "scattergl": [
           {
            "marker": {
             "colorbar": {
              "outlinewidth": 0,
              "ticks": ""
             }
            },
            "type": "scattergl"
           }
          ],
          "scattermapbox": [
           {
            "marker": {
             "colorbar": {
              "outlinewidth": 0,
              "ticks": ""
             }
            },
            "type": "scattermapbox"
           }
          ],
          "scatterpolar": [
           {
            "marker": {
             "colorbar": {
              "outlinewidth": 0,
              "ticks": ""
             }
            },
            "type": "scatterpolar"
           }
          ],
          "scatterpolargl": [
           {
            "marker": {
             "colorbar": {
              "outlinewidth": 0,
              "ticks": ""
             }
            },
            "type": "scatterpolargl"
           }
          ],
          "scatterternary": [
           {
            "marker": {
             "colorbar": {
              "outlinewidth": 0,
              "ticks": ""
             }
            },
            "type": "scatterternary"
           }
          ],
          "surface": [
           {
            "colorbar": {
             "outlinewidth": 0,
             "ticks": ""
            },
            "colorscale": [
             [
              0,
              "#0d0887"
             ],
             [
              0.1111111111111111,
              "#46039f"
             ],
             [
              0.2222222222222222,
              "#7201a8"
             ],
             [
              0.3333333333333333,
              "#9c179e"
             ],
             [
              0.4444444444444444,
              "#bd3786"
             ],
             [
              0.5555555555555556,
              "#d8576b"
             ],
             [
              0.6666666666666666,
              "#ed7953"
             ],
             [
              0.7777777777777778,
              "#fb9f3a"
             ],
             [
              0.8888888888888888,
              "#fdca26"
             ],
             [
              1,
              "#f0f921"
             ]
            ],
            "type": "surface"
           }
          ],
          "table": [
           {
            "cells": {
             "fill": {
              "color": "#EBF0F8"
             },
             "line": {
              "color": "white"
             }
            },
            "header": {
             "fill": {
              "color": "#C8D4E3"
             },
             "line": {
              "color": "white"
             }
            },
            "type": "table"
           }
          ]
         },
         "layout": {
          "annotationdefaults": {
           "arrowcolor": "#2a3f5f",
           "arrowhead": 0,
           "arrowwidth": 1
          },
          "autotypenumbers": "strict",
          "coloraxis": {
           "colorbar": {
            "outlinewidth": 0,
            "ticks": ""
           }
          },
          "colorscale": {
           "diverging": [
            [
             0,
             "#8e0152"
            ],
            [
             0.1,
             "#c51b7d"
            ],
            [
             0.2,
             "#de77ae"
            ],
            [
             0.3,
             "#f1b6da"
            ],
            [
             0.4,
             "#fde0ef"
            ],
            [
             0.5,
             "#f7f7f7"
            ],
            [
             0.6,
             "#e6f5d0"
            ],
            [
             0.7,
             "#b8e186"
            ],
            [
             0.8,
             "#7fbc41"
            ],
            [
             0.9,
             "#4d9221"
            ],
            [
             1,
             "#276419"
            ]
           ],
           "sequential": [
            [
             0,
             "#0d0887"
            ],
            [
             0.1111111111111111,
             "#46039f"
            ],
            [
             0.2222222222222222,
             "#7201a8"
            ],
            [
             0.3333333333333333,
             "#9c179e"
            ],
            [
             0.4444444444444444,
             "#bd3786"
            ],
            [
             0.5555555555555556,
             "#d8576b"
            ],
            [
             0.6666666666666666,
             "#ed7953"
            ],
            [
             0.7777777777777778,
             "#fb9f3a"
            ],
            [
             0.8888888888888888,
             "#fdca26"
            ],
            [
             1,
             "#f0f921"
            ]
           ],
           "sequentialminus": [
            [
             0,
             "#0d0887"
            ],
            [
             0.1111111111111111,
             "#46039f"
            ],
            [
             0.2222222222222222,
             "#7201a8"
            ],
            [
             0.3333333333333333,
             "#9c179e"
            ],
            [
             0.4444444444444444,
             "#bd3786"
            ],
            [
             0.5555555555555556,
             "#d8576b"
            ],
            [
             0.6666666666666666,
             "#ed7953"
            ],
            [
             0.7777777777777778,
             "#fb9f3a"
            ],
            [
             0.8888888888888888,
             "#fdca26"
            ],
            [
             1,
             "#f0f921"
            ]
           ]
          },
          "colorway": [
           "#636efa",
           "#EF553B",
           "#00cc96",
           "#ab63fa",
           "#FFA15A",
           "#19d3f3",
           "#FF6692",
           "#B6E880",
           "#FF97FF",
           "#FECB52"
          ],
          "font": {
           "color": "#2a3f5f"
          },
          "geo": {
           "bgcolor": "white",
           "lakecolor": "white",
           "landcolor": "#E5ECF6",
           "showlakes": true,
           "showland": true,
           "subunitcolor": "white"
          },
          "hoverlabel": {
           "align": "left"
          },
          "hovermode": "closest",
          "mapbox": {
           "style": "light"
          },
          "paper_bgcolor": "white",
          "plot_bgcolor": "#E5ECF6",
          "polar": {
           "angularaxis": {
            "gridcolor": "white",
            "linecolor": "white",
            "ticks": ""
           },
           "bgcolor": "#E5ECF6",
           "radialaxis": {
            "gridcolor": "white",
            "linecolor": "white",
            "ticks": ""
           }
          },
          "scene": {
           "xaxis": {
            "backgroundcolor": "#E5ECF6",
            "gridcolor": "white",
            "gridwidth": 2,
            "linecolor": "white",
            "showbackground": true,
            "ticks": "",
            "zerolinecolor": "white"
           },
           "yaxis": {
            "backgroundcolor": "#E5ECF6",
            "gridcolor": "white",
            "gridwidth": 2,
            "linecolor": "white",
            "showbackground": true,
            "ticks": "",
            "zerolinecolor": "white"
           },
           "zaxis": {
            "backgroundcolor": "#E5ECF6",
            "gridcolor": "white",
            "gridwidth": 2,
            "linecolor": "white",
            "showbackground": true,
            "ticks": "",
            "zerolinecolor": "white"
           }
          },
          "shapedefaults": {
           "line": {
            "color": "#2a3f5f"
           }
          },
          "ternary": {
           "aaxis": {
            "gridcolor": "white",
            "linecolor": "white",
            "ticks": ""
           },
           "baxis": {
            "gridcolor": "white",
            "linecolor": "white",
            "ticks": ""
           },
           "bgcolor": "#E5ECF6",
           "caxis": {
            "gridcolor": "white",
            "linecolor": "white",
            "ticks": ""
           }
          },
          "title": {
           "x": 0.05
          },
          "xaxis": {
           "automargin": true,
           "gridcolor": "white",
           "linecolor": "white",
           "ticks": "",
           "title": {
            "standoff": 15
           },
           "zerolinecolor": "white",
           "zerolinewidth": 2
          },
          "yaxis": {
           "automargin": true,
           "gridcolor": "white",
           "linecolor": "white",
           "ticks": "",
           "title": {
            "standoff": 15
           },
           "zerolinecolor": "white",
           "zerolinewidth": 2
          }
         }
        }
       }
      },
      "image/png": "[encoded data removed]",
      "text/html": [
       "<div>                            <div id=\"7b0bf241-f73e-494c-836e-e42586a3d4d3\" class=\"plotly-graph-div\" style=\"height:525px; width:100%;\"></div>            <script type=\"text/javascript\">                require([\"plotly\"], function(Plotly) {                    window.PLOTLYENV=window.PLOTLYENV || {};                                    if (document.getElementById(\"7b0bf241-f73e-494c-836e-e42586a3d4d3\")) {                    Plotly.newPlot(                        \"7b0bf241-f73e-494c-836e-e42586a3d4d3\",                        [{\"branchvalues\":\"total\",\"domain\":{\"x\":[0.0,1.0],\"y\":[0.0,1.0]},\"hovertemplate\":\"labels=%{label}<br>count=%{value}<br>parent=%{parent}<br>id=%{id}<extra></extra>\",\"ids\":[\"AC\",\"AL\",\"AM\",\"AP\",\"BA\",\"CE\",\"DF\",\"ES\",\"GO\",\"MA\",\"MG\",\"MS\",\"MT\",\"OU\",\"PA\",\"PB\",\"PE\",\"PI\",\"PR\",\"RJ\",\"RN\",\"RO\",\"RR\",\"RS\",\"SC\",\"SE\",\"SP\",\"TO\"],\"labels\":[\"AC\",\"AL\",\"AM\",\"AP\",\"BA\",\"CE\",\"DF\",\"ES\",\"GO\",\"MA\",\"MG\",\"MS\",\"MT\",\"OU\",\"PA\",\"PB\",\"PE\",\"PI\",\"PR\",\"RJ\",\"RN\",\"RO\",\"RR\",\"RS\",\"SC\",\"SE\",\"SP\",\"TO\"],\"name\":\"\",\"parents\":[\"\",\"\",\"\",\"\",\"\",\"\",\"\",\"\",\"\",\"\",\"\",\"\",\"\",\"\",\"\",\"\",\"\",\"\",\"\",\"\",\"\",\"\",\"\",\"\",\"\",\"\",\"\",\"\"],\"values\":[7,228,107,16,171,746,95,467,566,398,1702,566,190,229,698,741,65,468,1132,506,209,27,7,1346,788,138,2890,70],\"type\":\"treemap\"}],                        {\"template\":{\"data\":{\"histogram2dcontour\":[{\"type\":\"histogram2dcontour\",\"colorbar\":{\"outlinewidth\":0,\"ticks\":\"\"},\"colorscale\":[[0.0,\"#0d0887\"],[0.1111111111111111,\"#46039f\"],[0.2222222222222222,\"#7201a8\"],[0.3333333333333333,\"#9c179e\"],[0.4444444444444444,\"#bd3786\"],[0.5555555555555556,\"#d8576b\"],[0.6666666666666666,\"#ed7953\"],[0.7777777777777778,\"#fb9f3a\"],[0.8888888888888888,\"#fdca26\"],[1.0,\"#f0f921\"]]}],\"choropleth\":[{\"type\":\"choropleth\",\"colorbar\":{\"outlinewidth\":0,\"ticks\":\"\"}}],\"histogram2d\":[{\"type\":\"histogram2d\",\"colorbar\":{\"outlinewidth\":0,\"ticks\":\"\"},\"colorscale\":[[0.0,\"#0d0887\"],[0.1111111111111111,\"#46039f\"],[0.2222222222222222,\"#7201a8\"],[0.3333333333333333,\"#9c179e\"],[0.4444444444444444,\"#bd3786\"],[0.5555555555555556,\"#d8576b\"],[0.6666666666666666,\"#ed7953\"],[0.7777777777777778,\"#fb9f3a\"],[0.8888888888888888,\"#fdca26\"],[1.0,\"#f0f921\"]]}],\"heatmap\":[{\"type\":\"heatmap\",\"colorbar\":{\"outlinewidth\":0,\"ticks\":\"\"},\"colorscale\":[[0.0,\"#0d0887\"],[0.1111111111111111,\"#46039f\"],[0.2222222222222222,\"#7201a8\"],[0.3333333333333333,\"#9c179e\"],[0.4444444444444444,\"#bd3786\"],[0.5555555555555556,\"#d8576b\"],[0.6666666666666666,\"#ed7953\"],[0.7777777777777778,\"#fb9f3a\"],[0.8888888888888888,\"#fdca26\"],[1.0,\"#f0f921\"]]}],\"heatmapgl\":[{\"type\":\"heatmapgl\",\"colorbar\":{\"outlinewidth\":0,\"ticks\":\"\"},\"colorscale\":[[0.0,\"#0d0887\"],[0.1111111111111111,\"#46039f\"],[0.2222222222222222,\"#7201a8\"],[0.3333333333333333,\"#9c179e\"],[0.4444444444444444,\"#bd3786\"],[0.5555555555555556,\"#d8576b\"],[0.6666666666666666,\"#ed7953\"],[0.7777777777777778,\"#fb9f3a\"],[0.8888888888888888,\"#fdca26\"],[1.0,\"#f0f921\"]]}],\"contourcarpet\":[{\"type\":\"contourcarpet\",\"colorbar\":{\"outlinewidth\":0,\"ticks\":\"\"}}],\"contour\":[{\"type\":\"contour\",\"colorbar\":{\"outlinewidth\":0,\"ticks\":\"\"},\"colorscale\":[[0.0,\"#0d0887\"],[0.1111111111111111,\"#46039f\"],[0.2222222222222222,\"#7201a8\"],[0.3333333333333333,\"#9c179e\"],[0.4444444444444444,\"#bd3786\"],[0.5555555555555556,\"#d8576b\"],[0.6666666666666666,\"#ed7953\"],[0.7777777777777778,\"#fb9f3a\"],[0.8888888888888888,\"#fdca26\"],[1.0,\"#f0f921\"]]}],\"surface\":[{\"type\":\"surface\",\"colorbar\":{\"outlinewidth\":0,\"ticks\":\"\"},\"colorscale\":[[0.0,\"#0d0887\"],[0.1111111111111111,\"#46039f\"],[0.2222222222222222,\"#7201a8\"],[0.3333333333333333,\"#9c179e\"],[0.4444444444444444,\"#bd3786\"],[0.5555555555555556,\"#d8576b\"],[0.6666666666666666,\"#ed7953\"],[0.7777777777777778,\"#fb9f3a\"],[0.8888888888888888,\"#fdca26\"],[1.0,\"#f0f921\"]]}],\"mesh3d\":[{\"type\":\"mesh3d\",\"colorbar\":{\"outlinewidth\":0,\"ticks\":\"\"}}],\"scatter\":[{\"fillpattern\":{\"fillmode\":\"overlay\",\"size\":10,\"solidity\":0.2},\"type\":\"scatter\"}],\"parcoords\":[{\"type\":\"parcoords\",\"line\":{\"colorbar\":{\"outlinewidth\":0,\"ticks\":\"\"}}}],\"scatterpolargl\":[{\"type\":\"scatterpolargl\",\"marker\":{\"colorbar\":{\"outlinewidth\":0,\"ticks\":\"\"}}}],\"bar\":[{\"error_x\":{\"color\":\"#2a3f5f\"},\"error_y\":{\"color\":\"#2a3f5f\"},\"marker\":{\"line\":{\"color\":\"#E5ECF6\",\"width\":0.5},\"pattern\":{\"fillmode\":\"overlay\",\"size\":10,\"solidity\":0.2}},\"type\":\"bar\"}],\"scattergeo\":[{\"type\":\"scattergeo\",\"marker\":{\"colorbar\":{\"outlinewidth\":0,\"ticks\":\"\"}}}],\"scatterpolar\":[{\"type\":\"scatterpolar\",\"marker\":{\"colorbar\":{\"outlinewidth\":0,\"ticks\":\"\"}}}],\"histogram\":[{\"marker\":{\"pattern\":{\"fillmode\":\"overlay\",\"size\":10,\"solidity\":0.2}},\"type\":\"histogram\"}],\"scattergl\":[{\"type\":\"scattergl\",\"marker\":{\"colorbar\":{\"outlinewidth\":0,\"ticks\":\"\"}}}],\"scatter3d\":[{\"type\":\"scatter3d\",\"line\":{\"colorbar\":{\"outlinewidth\":0,\"ticks\":\"\"}},\"marker\":{\"colorbar\":{\"outlinewidth\":0,\"ticks\":\"\"}}}],\"scattermapbox\":[{\"type\":\"scattermapbox\",\"marker\":{\"colorbar\":{\"outlinewidth\":0,\"ticks\":\"\"}}}],\"scatterternary\":[{\"type\":\"scatterternary\",\"marker\":{\"colorbar\":{\"outlinewidth\":0,\"ticks\":\"\"}}}],\"scattercarpet\":[{\"type\":\"scattercarpet\",\"marker\":{\"colorbar\":{\"outlinewidth\":0,\"ticks\":\"\"}}}],\"carpet\":[{\"aaxis\":{\"endlinecolor\":\"#2a3f5f\",\"gridcolor\":\"white\",\"linecolor\":\"white\",\"minorgridcolor\":\"white\",\"startlinecolor\":\"#2a3f5f\"},\"baxis\":{\"endlinecolor\":\"#2a3f5f\",\"gridcolor\":\"white\",\"linecolor\":\"white\",\"minorgridcolor\":\"white\",\"startlinecolor\":\"#2a3f5f\"},\"type\":\"carpet\"}],\"table\":[{\"cells\":{\"fill\":{\"color\":\"#EBF0F8\"},\"line\":{\"color\":\"white\"}},\"header\":{\"fill\":{\"color\":\"#C8D4E3\"},\"line\":{\"color\":\"white\"}},\"type\":\"table\"}],\"barpolar\":[{\"marker\":{\"line\":{\"color\":\"#E5ECF6\",\"width\":0.5},\"pattern\":{\"fillmode\":\"overlay\",\"size\":10,\"solidity\":0.2}},\"type\":\"barpolar\"}],\"pie\":[{\"automargin\":true,\"type\":\"pie\"}]},\"layout\":{\"autotypenumbers\":\"strict\",\"colorway\":[\"#636efa\",\"#EF553B\",\"#00cc96\",\"#ab63fa\",\"#FFA15A\",\"#19d3f3\",\"#FF6692\",\"#B6E880\",\"#FF97FF\",\"#FECB52\"],\"font\":{\"color\":\"#2a3f5f\"},\"hovermode\":\"closest\",\"hoverlabel\":{\"align\":\"left\"},\"paper_bgcolor\":\"white\",\"plot_bgcolor\":\"#E5ECF6\",\"polar\":{\"bgcolor\":\"#E5ECF6\",\"angularaxis\":{\"gridcolor\":\"white\",\"linecolor\":\"white\",\"ticks\":\"\"},\"radialaxis\":{\"gridcolor\":\"white\",\"linecolor\":\"white\",\"ticks\":\"\"}},\"ternary\":{\"bgcolor\":\"#E5ECF6\",\"aaxis\":{\"gridcolor\":\"white\",\"linecolor\":\"white\",\"ticks\":\"\"},\"baxis\":{\"gridcolor\":\"white\",\"linecolor\":\"white\",\"ticks\":\"\"},\"caxis\":{\"gridcolor\":\"white\",\"linecolor\":\"white\",\"ticks\":\"\"}},\"coloraxis\":{\"colorbar\":{\"outlinewidth\":0,\"ticks\":\"\"}},\"colorscale\":{\"sequential\":[[0.0,\"#0d0887\"],[0.1111111111111111,\"#46039f\"],[0.2222222222222222,\"#7201a8\"],[0.3333333333333333,\"#9c179e\"],[0.4444444444444444,\"#bd3786\"],[0.5555555555555556,\"#d8576b\"],[0.6666666666666666,\"#ed7953\"],[0.7777777777777778,\"#fb9f3a\"],[0.8888888888888888,\"#fdca26\"],[1.0,\"#f0f921\"]],\"sequentialminus\":[[0.0,\"#0d0887\"],[0.1111111111111111,\"#46039f\"],[0.2222222222222222,\"#7201a8\"],[0.3333333333333333,\"#9c179e\"],[0.4444444444444444,\"#bd3786\"],[0.5555555555555556,\"#d8576b\"],[0.6666666666666666,\"#ed7953\"],[0.7777777777777778,\"#fb9f3a\"],[0.8888888888888888,\"#fdca26\"],[1.0,\"#f0f921\"]],\"diverging\":[[0,\"#8e0152\"],[0.1,\"#c51b7d\"],[0.2,\"#de77ae\"],[0.3,\"#f1b6da\"],[0.4,\"#fde0ef\"],[0.5,\"#f7f7f7\"],[0.6,\"#e6f5d0\"],[0.7,\"#b8e186\"],[0.8,\"#7fbc41\"],[0.9,\"#4d9221\"],[1,\"#276419\"]]},\"xaxis\":{\"gridcolor\":\"white\",\"linecolor\":\"white\",\"ticks\":\"\",\"title\":{\"standoff\":15},\"zerolinecolor\":\"white\",\"automargin\":true,\"zerolinewidth\":2},\"yaxis\":{\"gridcolor\":\"white\",\"linecolor\":\"white\",\"ticks\":\"\",\"title\":{\"standoff\":15},\"zerolinecolor\":\"white\",\"automargin\":true,\"zerolinewidth\":2},\"scene\":{\"xaxis\":{\"backgroundcolor\":\"#E5ECF6\",\"gridcolor\":\"white\",\"linecolor\":\"white\",\"showbackground\":true,\"ticks\":\"\",\"zerolinecolor\":\"white\",\"gridwidth\":2},\"yaxis\":{\"backgroundcolor\":\"#E5ECF6\",\"gridcolor\":\"white\",\"linecolor\":\"white\",\"showbackground\":true,\"ticks\":\"\",\"zerolinecolor\":\"white\",\"gridwidth\":2},\"zaxis\":{\"backgroundcolor\":\"#E5ECF6\",\"gridcolor\":\"white\",\"linecolor\":\"white\",\"showbackground\":true,\"ticks\":\"\",\"zerolinecolor\":\"white\",\"gridwidth\":2}},\"shapedefaults\":{\"line\":{\"color\":\"#2a3f5f\"}},\"annotationdefaults\":{\"arrowcolor\":\"#2a3f5f\",\"arrowhead\":0,\"arrowwidth\":1},\"geo\":{\"bgcolor\":\"white\",\"landcolor\":\"#E5ECF6\",\"subunitcolor\":\"white\",\"showland\":true,\"showlakes\":true,\"lakecolor\":\"white\"},\"title\":{\"x\":0.05},\"mapbox\":{\"style\":\"light\"}}},\"legend\":{\"tracegroupgap\":0},\"margin\":{\"t\":60}},                        {\"responsive\": true}                    ).then(function(){\n",
       "                            \n",
       "var gd = document.getElementById('7b0bf241-f73e-494c-836e-e42586a3d4d3');\n",
       "var x = new MutationObserver(function (mutations, observer) {{\n",
       "        var display = window.getComputedStyle(gd).display;\n",
       "        if (!display || display === 'none') {{\n",
       "            console.log([gd, 'removed!']);\n",
       "            Plotly.purge(gd);\n",
       "            observer.disconnect();\n",
       "        }}\n",
       "}});\n",
       "\n",
       "// Listen for the removal of the full notebook cells\n",
       "var notebookContainer = gd.closest('#notebook-container');\n",
       "if (notebookContainer) {{\n",
       "    x.observe(notebookContainer, {childList: true});\n",
       "}}\n",
       "\n",
       "// Listen for the clearing of the current output cell\n",
       "var outputEl = gd.closest('.output');\n",
       "if (outputEl) {{\n",
       "    x.observe(outputEl, {childList: true});\n",
       "}}\n",
       "\n",
       "                        })                };                });            </script>        </div>"
      ]
     },
     "metadata": {},
     "output_type": "display_data"
    }
   ],
   "source": [
    "grafico_estado = px.treemap(dados_homologacao, path=['ESTADO'])\n",
    "grafico_estado.show()"
   ]
  },
  {
   "cell_type": "code",
   "execution_count": 218,
   "id": "c5d62860-3bc3-459e-93a1-da8553ee6cc1",
   "metadata": {},
   "outputs": [],
   "source": [
    "estados_brazil = dados_homologacao[['ESTADO']]"
   ]
  },
  {
   "cell_type": "code",
   "execution_count": 219,
   "id": "ac4e44d6-91ae-47af-8a65-9aa667ccdc03",
   "metadata": {},
   "outputs": [],
   "source": [
    "freq = estados_brazil.groupby(['ESTADO']).size()"
   ]
  },
  {
   "cell_type": "code",
   "execution_count": 220,
   "id": "fde38f5f-ada6-4f4e-8f0c-d75e9b7bfcb7",
   "metadata": {},
   "outputs": [
    {
     "data": {
      "application/vnd.plotly.v1+json": {
       "config": {
        "plotlyServerURL": "https://plot.ly"
       },
       "data": [
        {
         "alignmentgroup": "True",
         "cliponaxis": false,
         "hovertemplate": "variable=0<br>ESTADO=%{x}<br>value=%{y}<extra></extra>",
         "legendgroup": "0",
         "marker": {
          "color": "#636efa",
          "pattern": {
           "shape": ""
          }
         },
         "name": "0",
         "offsetgroup": "0",
         "orientation": "v",
         "showlegend": true,
         "textangle": 0,
         "textfont": {
          "size": 12
         },
         "textposition": "outside",
         "type": "bar",
         "x": [
          "AC",
          "AL",
          "AM",
          "AP",
          "BA",
          "CE",
          "DF",
          "ES",
          "GO",
          "MA",
          "MG",
          "MS",
          "MT",
          "OU",
          "PA",
          "PB",
          "PE",
          "PI",
          "PR",
          "RJ",
          "RN",
          "RO",
          "RR",
          "RS",
          "SC",
          "SE",
          "SP",
          "TO"
         ],
         "xaxis": "x",
         "y": [
          7,
          228,
          107,
          16,
          171,
          746,
          95,
          467,
          566,
          398,
          1702,
          566,
          190,
          229,
          698,
          741,
          65,
          468,
          1132,
          506,
          209,
          27,
          7,
          1346,
          788,
          138,
          2890,
          70
         ],
         "yaxis": "y"
        }
       ],
       "layout": {
        "autosize": true,
        "barmode": "relative",
        "legend": {
         "title": {
          "text": "variable"
         },
         "tracegroupgap": 0
        },
        "template": {
         "data": {
          "bar": [
           {
            "error_x": {
             "color": "#2a3f5f"
            },
            "error_y": {
             "color": "#2a3f5f"
            },
            "marker": {
             "line": {
              "color": "#E5ECF6",
              "width": 0.5
             },
             "pattern": {
              "fillmode": "overlay",
              "size": 10,
              "solidity": 0.2
             }
            },
            "type": "bar"
           }
          ],
          "barpolar": [
           {
            "marker": {
             "line": {
              "color": "#E5ECF6",
              "width": 0.5
             },
             "pattern": {
              "fillmode": "overlay",
              "size": 10,
              "solidity": 0.2
             }
            },
            "type": "barpolar"
           }
          ],
          "carpet": [
           {
            "aaxis": {
             "endlinecolor": "#2a3f5f",
             "gridcolor": "white",
             "linecolor": "white",
             "minorgridcolor": "white",
             "startlinecolor": "#2a3f5f"
            },
            "baxis": {
             "endlinecolor": "#2a3f5f",
             "gridcolor": "white",
             "linecolor": "white",
             "minorgridcolor": "white",
             "startlinecolor": "#2a3f5f"
            },
            "type": "carpet"
           }
          ],
          "choropleth": [
           {
            "colorbar": {
             "outlinewidth": 0,
             "ticks": ""
            },
            "type": "choropleth"
           }
          ],
          "contour": [
           {
            "colorbar": {
             "outlinewidth": 0,
             "ticks": ""
            },
            "colorscale": [
             [
              0,
              "#0d0887"
             ],
             [
              0.1111111111111111,
              "#46039f"
             ],
             [
              0.2222222222222222,
              "#7201a8"
             ],
             [
              0.3333333333333333,
              "#9c179e"
             ],
             [
              0.4444444444444444,
              "#bd3786"
             ],
             [
              0.5555555555555556,
              "#d8576b"
             ],
             [
              0.6666666666666666,
              "#ed7953"
             ],
             [
              0.7777777777777778,
              "#fb9f3a"
             ],
             [
              0.8888888888888888,
              "#fdca26"
             ],
             [
              1,
              "#f0f921"
             ]
            ],
            "type": "contour"
           }
          ],
          "contourcarpet": [
           {
            "colorbar": {
             "outlinewidth": 0,
             "ticks": ""
            },
            "type": "contourcarpet"
           }
          ],
          "heatmap": [
           {
            "colorbar": {
             "outlinewidth": 0,
             "ticks": ""
            },
            "colorscale": [
             [
              0,
              "#0d0887"
             ],
             [
              0.1111111111111111,
              "#46039f"
             ],
             [
              0.2222222222222222,
              "#7201a8"
             ],
             [
              0.3333333333333333,
              "#9c179e"
             ],
             [
              0.4444444444444444,
              "#bd3786"
             ],
             [
              0.5555555555555556,
              "#d8576b"
             ],
             [
              0.6666666666666666,
              "#ed7953"
             ],
             [
              0.7777777777777778,
              "#fb9f3a"
             ],
             [
              0.8888888888888888,
              "#fdca26"
             ],
             [
              1,
              "#f0f921"
             ]
            ],
            "type": "heatmap"
           }
          ],
          "heatmapgl": [
           {
            "colorbar": {
             "outlinewidth": 0,
             "ticks": ""
            },
            "colorscale": [
             [
              0,
              "#0d0887"
             ],
             [
              0.1111111111111111,
              "#46039f"
             ],
             [
              0.2222222222222222,
              "#7201a8"
             ],
             [
              0.3333333333333333,
              "#9c179e"
             ],
             [
              0.4444444444444444,
              "#bd3786"
             ],
             [
              0.5555555555555556,
              "#d8576b"
             ],
             [
              0.6666666666666666,
              "#ed7953"
             ],
             [
              0.7777777777777778,
              "#fb9f3a"
             ],
             [
              0.8888888888888888,
              "#fdca26"
             ],
             [
              1,
              "#f0f921"
             ]
            ],
            "type": "heatmapgl"
           }
          ],
          "histogram": [
           {
            "marker": {
             "pattern": {
              "fillmode": "overlay",
              "size": 10,
              "solidity": 0.2
             }
            },
            "type": "histogram"
           }
          ],
          "histogram2d": [
           {
            "colorbar": {
             "outlinewidth": 0,
             "ticks": ""
            },
            "colorscale": [
             [
              0,
              "#0d0887"
             ],
             [
              0.1111111111111111,
              "#46039f"
             ],
             [
              0.2222222222222222,
              "#7201a8"
             ],
             [
              0.3333333333333333,
              "#9c179e"
             ],
             [
              0.4444444444444444,
              "#bd3786"
             ],
             [
              0.5555555555555556,
              "#d8576b"
             ],
             [
              0.6666666666666666,
              "#ed7953"
             ],
             [
              0.7777777777777778,
              "#fb9f3a"
             ],
             [
              0.8888888888888888,
              "#fdca26"
             ],
             [
              1,
              "#f0f921"
             ]
            ],
            "type": "histogram2d"
           }
          ],
          "histogram2dcontour": [
           {
            "colorbar": {
             "outlinewidth": 0,
             "ticks": ""
            },
            "colorscale": [
             [
              0,
              "#0d0887"
             ],
             [
              0.1111111111111111,
              "#46039f"
             ],
             [
              0.2222222222222222,
              "#7201a8"
             ],
             [
              0.3333333333333333,
              "#9c179e"
             ],
             [
              0.4444444444444444,
              "#bd3786"
             ],
             [
              0.5555555555555556,
              "#d8576b"
             ],
             [
              0.6666666666666666,
              "#ed7953"
             ],
             [
              0.7777777777777778,
              "#fb9f3a"
             ],
             [
              0.8888888888888888,
              "#fdca26"
             ],
             [
              1,
              "#f0f921"
             ]
            ],
            "type": "histogram2dcontour"
           }
          ],
          "mesh3d": [
           {
            "colorbar": {
             "outlinewidth": 0,
             "ticks": ""
            },
            "type": "mesh3d"
           }
          ],
          "parcoords": [
           {
            "line": {
             "colorbar": {
              "outlinewidth": 0,
              "ticks": ""
             }
            },
            "type": "parcoords"
           }
          ],
          "pie": [
           {
            "automargin": true,
            "type": "pie"
           }
          ],
          "scatter": [
           {
            "fillpattern": {
             "fillmode": "overlay",
             "size": 10,
             "solidity": 0.2
            },
            "type": "scatter"
           }
          ],
          "scatter3d": [
           {
            "line": {
             "colorbar": {
              "outlinewidth": 0,
              "ticks": ""
             }
            },
            "marker": {
             "colorbar": {
              "outlinewidth": 0,
              "ticks": ""
             }
            },
            "type": "scatter3d"
           }
          ],
          "scattercarpet": [
           {
            "marker": {
             "colorbar": {
              "outlinewidth": 0,
              "ticks": ""
             }
            },
            "type": "scattercarpet"
           }
          ],
          "scattergeo": [
           {
            "marker": {
             "colorbar": {
              "outlinewidth": 0,
              "ticks": ""
             }
            },
            "type": "scattergeo"
           }
          ],
          "scattergl": [
           {
            "marker": {
             "colorbar": {
              "outlinewidth": 0,
              "ticks": ""
             }
            },
            "type": "scattergl"
           }
          ],
          "scattermapbox": [
           {
            "marker": {
             "colorbar": {
              "outlinewidth": 0,
              "ticks": ""
             }
            },
            "type": "scattermapbox"
           }
          ],
          "scatterpolar": [
           {
            "marker": {
             "colorbar": {
              "outlinewidth": 0,
              "ticks": ""
             }
            },
            "type": "scatterpolar"
           }
          ],
          "scatterpolargl": [
           {
            "marker": {
             "colorbar": {
              "outlinewidth": 0,
              "ticks": ""
             }
            },
            "type": "scatterpolargl"
           }
          ],
          "scatterternary": [
           {
            "marker": {
             "colorbar": {
              "outlinewidth": 0,
              "ticks": ""
             }
            },
            "type": "scatterternary"
           }
          ],
          "surface": [
           {
            "colorbar": {
             "outlinewidth": 0,
             "ticks": ""
            },
            "colorscale": [
             [
              0,
              "#0d0887"
             ],
             [
              0.1111111111111111,
              "#46039f"
             ],
             [
              0.2222222222222222,
              "#7201a8"
             ],
             [
              0.3333333333333333,
              "#9c179e"
             ],
             [
              0.4444444444444444,
              "#bd3786"
             ],
             [
              0.5555555555555556,
              "#d8576b"
             ],
             [
              0.6666666666666666,
              "#ed7953"
             ],
             [
              0.7777777777777778,
              "#fb9f3a"
             ],
             [
              0.8888888888888888,
              "#fdca26"
             ],
             [
              1,
              "#f0f921"
             ]
            ],
            "type": "surface"
           }
          ],
          "table": [
           {
            "cells": {
             "fill": {
              "color": "#EBF0F8"
             },
             "line": {
              "color": "white"
             }
            },
            "header": {
             "fill": {
              "color": "#C8D4E3"
             },
             "line": {
              "color": "white"
             }
            },
            "type": "table"
           }
          ]
         },
         "layout": {
          "annotationdefaults": {
           "arrowcolor": "#2a3f5f",
           "arrowhead": 0,
           "arrowwidth": 1
          },
          "autotypenumbers": "strict",
          "coloraxis": {
           "colorbar": {
            "outlinewidth": 0,
            "ticks": ""
           }
          },
          "colorscale": {
           "diverging": [
            [
             0,
             "#8e0152"
            ],
            [
             0.1,
             "#c51b7d"
            ],
            [
             0.2,
             "#de77ae"
            ],
            [
             0.3,
             "#f1b6da"
            ],
            [
             0.4,
             "#fde0ef"
            ],
            [
             0.5,
             "#f7f7f7"
            ],
            [
             0.6,
             "#e6f5d0"
            ],
            [
             0.7,
             "#b8e186"
            ],
            [
             0.8,
             "#7fbc41"
            ],
            [
             0.9,
             "#4d9221"
            ],
            [
             1,
             "#276419"
            ]
           ],
           "sequential": [
            [
             0,
             "#0d0887"
            ],
            [
             0.1111111111111111,
             "#46039f"
            ],
            [
             0.2222222222222222,
             "#7201a8"
            ],
            [
             0.3333333333333333,
             "#9c179e"
            ],
            [
             0.4444444444444444,
             "#bd3786"
            ],
            [
             0.5555555555555556,
             "#d8576b"
            ],
            [
             0.6666666666666666,
             "#ed7953"
            ],
            [
             0.7777777777777778,
             "#fb9f3a"
            ],
            [
             0.8888888888888888,
             "#fdca26"
            ],
            [
             1,
             "#f0f921"
            ]
           ],
           "sequentialminus": [
            [
             0,
             "#0d0887"
            ],
            [
             0.1111111111111111,
             "#46039f"
            ],
            [
             0.2222222222222222,
             "#7201a8"
            ],
            [
             0.3333333333333333,
             "#9c179e"
            ],
            [
             0.4444444444444444,
             "#bd3786"
            ],
            [
             0.5555555555555556,
             "#d8576b"
            ],
            [
             0.6666666666666666,
             "#ed7953"
            ],
            [
             0.7777777777777778,
             "#fb9f3a"
            ],
            [
             0.8888888888888888,
             "#fdca26"
            ],
            [
             1,
             "#f0f921"
            ]
           ]
          },
          "colorway": [
           "#636efa",
           "#EF553B",
           "#00cc96",
           "#ab63fa",
           "#FFA15A",
           "#19d3f3",
           "#FF6692",
           "#B6E880",
           "#FF97FF",
           "#FECB52"
          ],
          "font": {
           "color": "#2a3f5f"
          },
          "geo": {
           "bgcolor": "white",
           "lakecolor": "white",
           "landcolor": "#E5ECF6",
           "showlakes": true,
           "showland": true,
           "subunitcolor": "white"
          },
          "hoverlabel": {
           "align": "left"
          },
          "hovermode": "closest",
          "mapbox": {
           "style": "light"
          },
          "paper_bgcolor": "white",
          "plot_bgcolor": "#E5ECF6",
          "polar": {
           "angularaxis": {
            "gridcolor": "white",
            "linecolor": "white",
            "ticks": ""
           },
           "bgcolor": "#E5ECF6",
           "radialaxis": {
            "gridcolor": "white",
            "linecolor": "white",
            "ticks": ""
           }
          },
          "scene": {
           "xaxis": {
            "backgroundcolor": "#E5ECF6",
            "gridcolor": "white",
            "gridwidth": 2,
            "linecolor": "white",
            "showbackground": true,
            "ticks": "",
            "zerolinecolor": "white"
           },
           "yaxis": {
            "backgroundcolor": "#E5ECF6",
            "gridcolor": "white",
            "gridwidth": 2,
            "linecolor": "white",
            "showbackground": true,
            "ticks": "",
            "zerolinecolor": "white"
           },
           "zaxis": {
            "backgroundcolor": "#E5ECF6",
            "gridcolor": "white",
            "gridwidth": 2,
            "linecolor": "white",
            "showbackground": true,
            "ticks": "",
            "zerolinecolor": "white"
           }
          },
          "shapedefaults": {
           "line": {
            "color": "#2a3f5f"
           }
          },
          "ternary": {
           "aaxis": {
            "gridcolor": "white",
            "linecolor": "white",
            "ticks": ""
           },
           "baxis": {
            "gridcolor": "white",
            "linecolor": "white",
            "ticks": ""
           },
           "bgcolor": "#E5ECF6",
           "caxis": {
            "gridcolor": "white",
            "linecolor": "white",
            "ticks": ""
           }
          },
          "title": {
           "x": 0.05
          },
          "xaxis": {
           "automargin": true,
           "gridcolor": "white",
           "linecolor": "white",
           "ticks": "",
           "title": {
            "standoff": 15
           },
           "zerolinecolor": "white",
           "zerolinewidth": 2
          },
          "yaxis": {
           "automargin": true,
           "gridcolor": "white",
           "linecolor": "white",
           "ticks": "",
           "title": {
            "standoff": 15
           },
           "zerolinecolor": "white",
           "zerolinewidth": 2
          }
         }
        },
        "title": {
         "text": "Número de Participante"
        },
        "xaxis": {
         "anchor": "y",
         "autorange": true,
         "domain": [
          0,
          1
         ],
         "range": [
          -0.5,
          27.5
         ],
         "title": {
          "text": "ESTADO"
         },
         "type": "category"
        },
        "yaxis": {
         "anchor": "x",
         "autorange": true,
         "domain": [
          0,
          1
         ],
         "range": [
          0,
          3042.1052631578946
         ],
         "title": {
          "text": "value"
         },
         "type": "linear"
        }
       }
      },
      "image/png": "[encoded data removed]",
      "text/html": [
       "<div>                            <div id=\"3124846d-8667-4937-adbc-ae65854787fb\" class=\"plotly-graph-div\" style=\"height:525px; width:100%;\"></div>            <script type=\"text/javascript\">                require([\"plotly\"], function(Plotly) {                    window.PLOTLYENV=window.PLOTLYENV || {};                                    if (document.getElementById(\"3124846d-8667-4937-adbc-ae65854787fb\")) {                    Plotly.newPlot(                        \"3124846d-8667-4937-adbc-ae65854787fb\",                        [{\"alignmentgroup\":\"True\",\"hovertemplate\":\"variable=0<br>ESTADO=%{x}<br>value=%{y}<extra></extra>\",\"legendgroup\":\"0\",\"marker\":{\"color\":\"#636efa\",\"pattern\":{\"shape\":\"\"}},\"name\":\"0\",\"offsetgroup\":\"0\",\"orientation\":\"v\",\"showlegend\":true,\"textposition\":\"outside\",\"x\":[\"AC\",\"AL\",\"AM\",\"AP\",\"BA\",\"CE\",\"DF\",\"ES\",\"GO\",\"MA\",\"MG\",\"MS\",\"MT\",\"OU\",\"PA\",\"PB\",\"PE\",\"PI\",\"PR\",\"RJ\",\"RN\",\"RO\",\"RR\",\"RS\",\"SC\",\"SE\",\"SP\",\"TO\"],\"xaxis\":\"x\",\"y\":[7,228,107,16,171,746,95,467,566,398,1702,566,190,229,698,741,65,468,1132,506,209,27,7,1346,788,138,2890,70],\"yaxis\":\"y\",\"type\":\"bar\",\"textfont\":{\"size\":12},\"cliponaxis\":false,\"textangle\":0}],                        {\"template\":{\"data\":{\"histogram2dcontour\":[{\"type\":\"histogram2dcontour\",\"colorbar\":{\"outlinewidth\":0,\"ticks\":\"\"},\"colorscale\":[[0.0,\"#0d0887\"],[0.1111111111111111,\"#46039f\"],[0.2222222222222222,\"#7201a8\"],[0.3333333333333333,\"#9c179e\"],[0.4444444444444444,\"#bd3786\"],[0.5555555555555556,\"#d8576b\"],[0.6666666666666666,\"#ed7953\"],[0.7777777777777778,\"#fb9f3a\"],[0.8888888888888888,\"#fdca26\"],[1.0,\"#f0f921\"]]}],\"choropleth\":[{\"type\":\"choropleth\",\"colorbar\":{\"outlinewidth\":0,\"ticks\":\"\"}}],\"histogram2d\":[{\"type\":\"histogram2d\",\"colorbar\":{\"outlinewidth\":0,\"ticks\":\"\"},\"colorscale\":[[0.0,\"#0d0887\"],[0.1111111111111111,\"#46039f\"],[0.2222222222222222,\"#7201a8\"],[0.3333333333333333,\"#9c179e\"],[0.4444444444444444,\"#bd3786\"],[0.5555555555555556,\"#d8576b\"],[0.6666666666666666,\"#ed7953\"],[0.7777777777777778,\"#fb9f3a\"],[0.8888888888888888,\"#fdca26\"],[1.0,\"#f0f921\"]]}],\"heatmap\":[{\"type\":\"heatmap\",\"colorbar\":{\"outlinewidth\":0,\"ticks\":\"\"},\"colorscale\":[[0.0,\"#0d0887\"],[0.1111111111111111,\"#46039f\"],[0.2222222222222222,\"#7201a8\"],[0.3333333333333333,\"#9c179e\"],[0.4444444444444444,\"#bd3786\"],[0.5555555555555556,\"#d8576b\"],[0.6666666666666666,\"#ed7953\"],[0.7777777777777778,\"#fb9f3a\"],[0.8888888888888888,\"#fdca26\"],[1.0,\"#f0f921\"]]}],\"heatmapgl\":[{\"type\":\"heatmapgl\",\"colorbar\":{\"outlinewidth\":0,\"ticks\":\"\"},\"colorscale\":[[0.0,\"#0d0887\"],[0.1111111111111111,\"#46039f\"],[0.2222222222222222,\"#7201a8\"],[0.3333333333333333,\"#9c179e\"],[0.4444444444444444,\"#bd3786\"],[0.5555555555555556,\"#d8576b\"],[0.6666666666666666,\"#ed7953\"],[0.7777777777777778,\"#fb9f3a\"],[0.8888888888888888,\"#fdca26\"],[1.0,\"#f0f921\"]]}],\"contourcarpet\":[{\"type\":\"contourcarpet\",\"colorbar\":{\"outlinewidth\":0,\"ticks\":\"\"}}],\"contour\":[{\"type\":\"contour\",\"colorbar\":{\"outlinewidth\":0,\"ticks\":\"\"},\"colorscale\":[[0.0,\"#0d0887\"],[0.1111111111111111,\"#46039f\"],[0.2222222222222222,\"#7201a8\"],[0.3333333333333333,\"#9c179e\"],[0.4444444444444444,\"#bd3786\"],[0.5555555555555556,\"#d8576b\"],[0.6666666666666666,\"#ed7953\"],[0.7777777777777778,\"#fb9f3a\"],[0.8888888888888888,\"#fdca26\"],[1.0,\"#f0f921\"]]}],\"surface\":[{\"type\":\"surface\",\"colorbar\":{\"outlinewidth\":0,\"ticks\":\"\"},\"colorscale\":[[0.0,\"#0d0887\"],[0.1111111111111111,\"#46039f\"],[0.2222222222222222,\"#7201a8\"],[0.3333333333333333,\"#9c179e\"],[0.4444444444444444,\"#bd3786\"],[0.5555555555555556,\"#d8576b\"],[0.6666666666666666,\"#ed7953\"],[0.7777777777777778,\"#fb9f3a\"],[0.8888888888888888,\"#fdca26\"],[1.0,\"#f0f921\"]]}],\"mesh3d\":[{\"type\":\"mesh3d\",\"colorbar\":{\"outlinewidth\":0,\"ticks\":\"\"}}],\"scatter\":[{\"fillpattern\":{\"fillmode\":\"overlay\",\"size\":10,\"solidity\":0.2},\"type\":\"scatter\"}],\"parcoords\":[{\"type\":\"parcoords\",\"line\":{\"colorbar\":{\"outlinewidth\":0,\"ticks\":\"\"}}}],\"scatterpolargl\":[{\"type\":\"scatterpolargl\",\"marker\":{\"colorbar\":{\"outlinewidth\":0,\"ticks\":\"\"}}}],\"bar\":[{\"error_x\":{\"color\":\"#2a3f5f\"},\"error_y\":{\"color\":\"#2a3f5f\"},\"marker\":{\"line\":{\"color\":\"#E5ECF6\",\"width\":0.5},\"pattern\":{\"fillmode\":\"overlay\",\"size\":10,\"solidity\":0.2}},\"type\":\"bar\"}],\"scattergeo\":[{\"type\":\"scattergeo\",\"marker\":{\"colorbar\":{\"outlinewidth\":0,\"ticks\":\"\"}}}],\"scatterpolar\":[{\"type\":\"scatterpolar\",\"marker\":{\"colorbar\":{\"outlinewidth\":0,\"ticks\":\"\"}}}],\"histogram\":[{\"marker\":{\"pattern\":{\"fillmode\":\"overlay\",\"size\":10,\"solidity\":0.2}},\"type\":\"histogram\"}],\"scattergl\":[{\"type\":\"scattergl\",\"marker\":{\"colorbar\":{\"outlinewidth\":0,\"ticks\":\"\"}}}],\"scatter3d\":[{\"type\":\"scatter3d\",\"line\":{\"colorbar\":{\"outlinewidth\":0,\"ticks\":\"\"}},\"marker\":{\"colorbar\":{\"outlinewidth\":0,\"ticks\":\"\"}}}],\"scattermapbox\":[{\"type\":\"scattermapbox\",\"marker\":{\"colorbar\":{\"outlinewidth\":0,\"ticks\":\"\"}}}],\"scatterternary\":[{\"type\":\"scatterternary\",\"marker\":{\"colorbar\":{\"outlinewidth\":0,\"ticks\":\"\"}}}],\"scattercarpet\":[{\"type\":\"scattercarpet\",\"marker\":{\"colorbar\":{\"outlinewidth\":0,\"ticks\":\"\"}}}],\"carpet\":[{\"aaxis\":{\"endlinecolor\":\"#2a3f5f\",\"gridcolor\":\"white\",\"linecolor\":\"white\",\"minorgridcolor\":\"white\",\"startlinecolor\":\"#2a3f5f\"},\"baxis\":{\"endlinecolor\":\"#2a3f5f\",\"gridcolor\":\"white\",\"linecolor\":\"white\",\"minorgridcolor\":\"white\",\"startlinecolor\":\"#2a3f5f\"},\"type\":\"carpet\"}],\"table\":[{\"cells\":{\"fill\":{\"color\":\"#EBF0F8\"},\"line\":{\"color\":\"white\"}},\"header\":{\"fill\":{\"color\":\"#C8D4E3\"},\"line\":{\"color\":\"white\"}},\"type\":\"table\"}],\"barpolar\":[{\"marker\":{\"line\":{\"color\":\"#E5ECF6\",\"width\":0.5},\"pattern\":{\"fillmode\":\"overlay\",\"size\":10,\"solidity\":0.2}},\"type\":\"barpolar\"}],\"pie\":[{\"automargin\":true,\"type\":\"pie\"}]},\"layout\":{\"autotypenumbers\":\"strict\",\"colorway\":[\"#636efa\",\"#EF553B\",\"#00cc96\",\"#ab63fa\",\"#FFA15A\",\"#19d3f3\",\"#FF6692\",\"#B6E880\",\"#FF97FF\",\"#FECB52\"],\"font\":{\"color\":\"#2a3f5f\"},\"hovermode\":\"closest\",\"hoverlabel\":{\"align\":\"left\"},\"paper_bgcolor\":\"white\",\"plot_bgcolor\":\"#E5ECF6\",\"polar\":{\"bgcolor\":\"#E5ECF6\",\"angularaxis\":{\"gridcolor\":\"white\",\"linecolor\":\"white\",\"ticks\":\"\"},\"radialaxis\":{\"gridcolor\":\"white\",\"linecolor\":\"white\",\"ticks\":\"\"}},\"ternary\":{\"bgcolor\":\"#E5ECF6\",\"aaxis\":{\"gridcolor\":\"white\",\"linecolor\":\"white\",\"ticks\":\"\"},\"baxis\":{\"gridcolor\":\"white\",\"linecolor\":\"white\",\"ticks\":\"\"},\"caxis\":{\"gridcolor\":\"white\",\"linecolor\":\"white\",\"ticks\":\"\"}},\"coloraxis\":{\"colorbar\":{\"outlinewidth\":0,\"ticks\":\"\"}},\"colorscale\":{\"sequential\":[[0.0,\"#0d0887\"],[0.1111111111111111,\"#46039f\"],[0.2222222222222222,\"#7201a8\"],[0.3333333333333333,\"#9c179e\"],[0.4444444444444444,\"#bd3786\"],[0.5555555555555556,\"#d8576b\"],[0.6666666666666666,\"#ed7953\"],[0.7777777777777778,\"#fb9f3a\"],[0.8888888888888888,\"#fdca26\"],[1.0,\"#f0f921\"]],\"sequentialminus\":[[0.0,\"#0d0887\"],[0.1111111111111111,\"#46039f\"],[0.2222222222222222,\"#7201a8\"],[0.3333333333333333,\"#9c179e\"],[0.4444444444444444,\"#bd3786\"],[0.5555555555555556,\"#d8576b\"],[0.6666666666666666,\"#ed7953\"],[0.7777777777777778,\"#fb9f3a\"],[0.8888888888888888,\"#fdca26\"],[1.0,\"#f0f921\"]],\"diverging\":[[0,\"#8e0152\"],[0.1,\"#c51b7d\"],[0.2,\"#de77ae\"],[0.3,\"#f1b6da\"],[0.4,\"#fde0ef\"],[0.5,\"#f7f7f7\"],[0.6,\"#e6f5d0\"],[0.7,\"#b8e186\"],[0.8,\"#7fbc41\"],[0.9,\"#4d9221\"],[1,\"#276419\"]]},\"xaxis\":{\"gridcolor\":\"white\",\"linecolor\":\"white\",\"ticks\":\"\",\"title\":{\"standoff\":15},\"zerolinecolor\":\"white\",\"automargin\":true,\"zerolinewidth\":2},\"yaxis\":{\"gridcolor\":\"white\",\"linecolor\":\"white\",\"ticks\":\"\",\"title\":{\"standoff\":15},\"zerolinecolor\":\"white\",\"automargin\":true,\"zerolinewidth\":2},\"scene\":{\"xaxis\":{\"backgroundcolor\":\"#E5ECF6\",\"gridcolor\":\"white\",\"linecolor\":\"white\",\"showbackground\":true,\"ticks\":\"\",\"zerolinecolor\":\"white\",\"gridwidth\":2},\"yaxis\":{\"backgroundcolor\":\"#E5ECF6\",\"gridcolor\":\"white\",\"linecolor\":\"white\",\"showbackground\":true,\"ticks\":\"\",\"zerolinecolor\":\"white\",\"gridwidth\":2},\"zaxis\":{\"backgroundcolor\":\"#E5ECF6\",\"gridcolor\":\"white\",\"linecolor\":\"white\",\"showbackground\":true,\"ticks\":\"\",\"zerolinecolor\":\"white\",\"gridwidth\":2}},\"shapedefaults\":{\"line\":{\"color\":\"#2a3f5f\"}},\"annotationdefaults\":{\"arrowcolor\":\"#2a3f5f\",\"arrowhead\":0,\"arrowwidth\":1},\"geo\":{\"bgcolor\":\"white\",\"landcolor\":\"#E5ECF6\",\"subunitcolor\":\"white\",\"showland\":true,\"showlakes\":true,\"lakecolor\":\"white\"},\"title\":{\"x\":0.05},\"mapbox\":{\"style\":\"light\"}}},\"xaxis\":{\"anchor\":\"y\",\"domain\":[0.0,1.0],\"title\":{\"text\":\"ESTADO\"}},\"yaxis\":{\"anchor\":\"x\",\"domain\":[0.0,1.0],\"title\":{\"text\":\"value\"}},\"legend\":{\"title\":{\"text\":\"variable\"},\"tracegroupgap\":0},\"title\":{\"text\":\"N\\u00famero de Participante\"},\"barmode\":\"relative\"},                        {\"responsive\": true}                    ).then(function(){\n",
       "                            \n",
       "var gd = document.getElementById('3124846d-8667-4937-adbc-ae65854787fb');\n",
       "var x = new MutationObserver(function (mutations, observer) {{\n",
       "        var display = window.getComputedStyle(gd).display;\n",
       "        if (!display || display === 'none') {{\n",
       "            console.log([gd, 'removed!']);\n",
       "            Plotly.purge(gd);\n",
       "            observer.disconnect();\n",
       "        }}\n",
       "}});\n",
       "\n",
       "// Listen for the removal of the full notebook cells\n",
       "var notebookContainer = gd.closest('#notebook-container');\n",
       "if (notebookContainer) {{\n",
       "    x.observe(notebookContainer, {childList: true});\n",
       "}}\n",
       "\n",
       "// Listen for the clearing of the current output cell\n",
       "var outputEl = gd.closest('.output');\n",
       "if (outputEl) {{\n",
       "    x.observe(outputEl, {childList: true});\n",
       "}}\n",
       "\n",
       "                        })                };                });            </script>        </div>"
      ]
     },
     "metadata": {},
     "output_type": "display_data"
    }
   ],
   "source": [
    "grafico_estadoBrasil = px.bar(freq, title='Número de Participante')\n",
    "grafico_estadoBrasil.update_traces(textfont_size=12, textangle=0, textposition=\"outside\", cliponaxis=False)\n",
    "grafico_estadoBrasil.show()"
   ]
  },
  {
   "cell_type": "markdown",
   "id": "59b004b7-bfd1-4b76-8006-9d8d5a7a3b7e",
   "metadata": {
    "tags": []
   },
   "source": [
    "#### Análise de dados dos candidatos de 2016 a 2019 que residem no Pará"
   ]
  },
  {
   "cell_type": "code",
   "execution_count": 221,
   "id": "635d0ecf-35b9-4941-90cb-197bd5d7f4f2",
   "metadata": {},
   "outputs": [],
   "source": [
    "dados_PA_media = dados_notasPA.mean().sort_values()"
   ]
  },
  {
   "cell_type": "code",
   "execution_count": 222,
   "id": "dc3a9454-e6e0-4620-845f-730709213cbb",
   "metadata": {},
   "outputs": [],
   "source": [
    "dados_PA_nome = dados_PA_media.keys()"
   ]
  },
  {
   "cell_type": "code",
   "execution_count": 223,
   "id": "ee2d5634-d7a8-48ea-964c-f22d5c249c76",
   "metadata": {},
   "outputs": [],
   "source": [
    "media = dados_PA_media.mean()\n",
    "media_nacional = dados_notasEstados.mean()"
   ]
  },
  {
   "cell_type": "code",
   "execution_count": 224,
   "id": "aa9de999-db48-4131-88b8-5c374fa2f5e9",
   "metadata": {},
   "outputs": [
    {
     "data": {
      "image/png": "[encoded data removed]",
      "text/plain": [
       "<Figure size 720x720 with 1 Axes>"
      ]
     },
     "metadata": {
      "needs_background": "light"
     },
     "output_type": "display_data"
    }
   ],
   "source": [
    "fig, ax = plt.subplots(figsize=(10, 10))\n",
    "ax.barh(dados_PA_nome, dados_PA_media)\n",
    "labels = ax.get_xticklabels()\n",
    "plt.setp(labels, rotation=45, horizontalalignment='right')\n",
    "\n",
    "ax.axvline(media_nacional.mean(), ls='-', color='black')\n",
    "\n",
    "plt.show()"
   ]
  },
  {
   "cell_type": "code",
   "execution_count": 248,
   "id": "bd52e47a-5155-48a7-bdcf-c919c7cdf78d",
   "metadata": {},
   "outputs": [
    {
     "data": {
      "text/plain": [
       "2017    202\n",
       "2016    199\n",
       "2018    161\n",
       "2019    136\n",
       "Name: ANO, dtype: int64"
      ]
     },
     "execution_count": 248,
     "metadata": {},
     "output_type": "execute_result"
    }
   ],
   "source": [
    "candidatos_pa['ANO'].value_counts()"
   ]
  },
  {
   "cell_type": "code",
   "execution_count": 254,
   "id": "6974e24f-eced-435d-8302-adbf884922d8",
   "metadata": {},
   "outputs": [
    {
     "data": {
      "image/png": "[encoded data removed]",
      "text/plain": [
       "<Figure size 432x288 with 1 Axes>"
      ]
     },
     "metadata": {
      "needs_background": "light"
     },
     "output_type": "display_data"
    }
   ],
   "source": [
    "ano = [2016,2017,2018,2019]\n",
    "\n",
    "x = np.arange(len(ano))  # the label locations\n",
    "width = 0.35  # the width of the bars\n",
    "\n",
    "fig, ax = plt.subplots()\n",
    "rects1 = ax.bar(x - width/2, candidatos_pa['ANO'].value_counts(), width, label='Pará')\n",
    "rects2 = ax.bar(x + width/2, dados_homologados_estados['ANO'].value_counts(), width, label='Nacional')\n",
    "\n",
    "# Add some text for labels, title and custom x-axis tick labels, etc.\n",
    "ax.set_ylabel('Quantidade')\n",
    "ax.set_title('Scores by group and gender')\n",
    "ax.set_xticks(x, ano)\n",
    "ax.legend()\n",
    "\n",
    "ax.bar_label(rects1, padding=3)\n",
    "ax.bar_label(rects2, padding=3)\n",
    "\n",
    "fig.tight_layout()\n",
    "\n",
    "plt.show()"
   ]
  }
 ],
 "metadata": {
  "kernelspec": {
   "display_name": "Python 3 (ipykernel)",
   "language": "python",
   "name": "python3"
  },
  "language_info": {
   "codemirror_mode": {
    "name": "ipython",
    "version": 3
   },
   "file_extension": ".py",
   "mimetype": "text/x-python",
   "name": "python",
   "nbconvert_exporter": "python",
   "pygments_lexer": "ipython3",
   "version": "3.10.5"
  }
 },
 "nbformat": 4,
 "nbformat_minor": 5
}
