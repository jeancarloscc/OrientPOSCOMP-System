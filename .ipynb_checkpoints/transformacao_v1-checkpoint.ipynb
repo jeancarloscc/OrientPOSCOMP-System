{
 "cells": [
  {
   "cell_type": "markdown",
   "id": "bfbbcfcb-05ab-4917-a334-2ea8b2a33acf",
   "metadata": {},
   "source": [
    "# Transformações dos Dados"
   ]
  },
  {
   "cell_type": "code",
   "execution_count": 11,
   "id": "a2f7eb48-737b-476c-a630-0b2aab3325ca",
   "metadata": {},
   "outputs": [],
   "source": [
    "import pandas as pd\n",
    "import numpy as np\n",
    "import matplotlib.pyplot as plt\n",
    "import plotly.express as px"
   ]
  },
  {
   "cell_type": "markdown",
   "id": "06050c6a-6805-4dca-ae7c-d9095cf2f3c2",
   "metadata": {
    "jp-MarkdownHeadingCollapsed": true,
    "tags": []
   },
   "source": [
    "## Dados de Respostas do POSCOMP"
   ]
  },
  {
   "cell_type": "code",
   "execution_count": 28,
   "id": "16a5fca0-6139-429e-b2f5-bfa761b8a757",
   "metadata": {},
   "outputs": [],
   "source": [
    "dados_respostas_notas_2016 = pd.read_csv('dados/notas_poscomp/dados_notas_2016.csv')\n",
    "dados_homologacao = pd.read_csv('dados/homologação_poscomp/dados_homologacao_PROCESSADA.csv')"
   ]
  },
  {
   "cell_type": "code",
   "execution_count": 7,
   "id": "d15863ff-a4d8-47e4-a6e1-f5d1d4a45266",
   "metadata": {},
   "outputs": [],
   "source": [
    "#dados_respostas_notas_2016 = dados_respostas_notas_2016.drop(columns=['Unnamed: 0'])\n",
    "#dados_homologacao = dados_homologacao.drop(columns=['Unnamed: 0'])"
   ]
  },
  {
   "cell_type": "code",
   "execution_count": 29,
   "id": "1cb26757-047f-44a4-90a5-a013101adc46",
   "metadata": {},
   "outputs": [
    {
     "data": {
      "text/html": [
       "<div>\n",
       "<style scoped>\n",
       "    .dataframe tbody tr th:only-of-type {\n",
       "        vertical-align: middle;\n",
       "    }\n",
       "\n",
       "    .dataframe tbody tr th {\n",
       "        vertical-align: top;\n",
       "    }\n",
       "\n",
       "    .dataframe thead th {\n",
       "        text-align: right;\n",
       "    }\n",
       "</style>\n",
       "<table border=\"1\" class=\"dataframe\">\n",
       "  <thead>\n",
       "    <tr style=\"text-align: right;\">\n",
       "      <th></th>\n",
       "      <th>CARGO</th>\n",
       "      <th>ESPECIALIDADE</th>\n",
       "      <th>IDENTIFICADOR</th>\n",
       "      <th>ACERTOS Matemática Discreta</th>\n",
       "      <th>NOTA Matemática Discreta</th>\n",
       "      <th>ACERTOS Cálculo Diferencial Integral</th>\n",
       "      <th>NOTA Cálculo Diferencial Integral</th>\n",
       "      <th>ACERTOS Álgebra Linear</th>\n",
       "      <th>NOTA Álgebra Linear</th>\n",
       "      <th>ACERTOS Geometria Analítica</th>\n",
       "      <th>...</th>\n",
       "      <th>ACERTOS Sistemas Distribuídos</th>\n",
       "      <th>NOTA Sistemas Distribuídos</th>\n",
       "      <th>ACERTOS Compiladores</th>\n",
       "      <th>NOTA Compiladores</th>\n",
       "      <th>ACERTOS Processamento de Imagens</th>\n",
       "      <th>NOTA Processamento de Imagens</th>\n",
       "      <th>ACERTOS Banco de Dados</th>\n",
       "      <th>NOTA Banco de Dados</th>\n",
       "      <th>ACERTOS TO</th>\n",
       "      <th>NOTA TOTAL TO</th>\n",
       "    </tr>\n",
       "    <tr>\n",
       "      <th>INSCRICAO</th>\n",
       "      <th></th>\n",
       "      <th></th>\n",
       "      <th></th>\n",
       "      <th></th>\n",
       "      <th></th>\n",
       "      <th></th>\n",
       "      <th></th>\n",
       "      <th></th>\n",
       "      <th></th>\n",
       "      <th></th>\n",
       "      <th></th>\n",
       "      <th></th>\n",
       "      <th></th>\n",
       "      <th></th>\n",
       "      <th></th>\n",
       "      <th></th>\n",
       "      <th></th>\n",
       "      <th></th>\n",
       "      <th></th>\n",
       "      <th></th>\n",
       "      <th></th>\n",
       "    </tr>\n",
       "  </thead>\n",
       "  <tbody>\n",
       "    <tr>\n",
       "      <th>39401673171-6</th>\n",
       "      <td>Mestrado/Doutorado</td>\n",
       "      <td>Informática na Educação</td>\n",
       "      <td>1,00E+11</td>\n",
       "      <td>3.0</td>\n",
       "      <td>3.0</td>\n",
       "      <td>3.0</td>\n",
       "      <td>3.0</td>\n",
       "      <td>3.0</td>\n",
       "      <td>3.0</td>\n",
       "      <td>1.0</td>\n",
       "      <td>...</td>\n",
       "      <td>3.0</td>\n",
       "      <td>3.0</td>\n",
       "      <td>0.0</td>\n",
       "      <td>0.0</td>\n",
       "      <td>2.0</td>\n",
       "      <td>2.0</td>\n",
       "      <td>2.0</td>\n",
       "      <td>2.0</td>\n",
       "      <td>42.0</td>\n",
       "      <td>42.0</td>\n",
       "    </tr>\n",
       "    <tr>\n",
       "      <th>39401645886-1</th>\n",
       "      <td>Mestrado/Doutorado</td>\n",
       "      <td>Teoria da Computação</td>\n",
       "      <td>1,02E+11</td>\n",
       "      <td>3.0</td>\n",
       "      <td>3.0</td>\n",
       "      <td>3.0</td>\n",
       "      <td>3.0</td>\n",
       "      <td>2.0</td>\n",
       "      <td>2.0</td>\n",
       "      <td>0.0</td>\n",
       "      <td>...</td>\n",
       "      <td>2.0</td>\n",
       "      <td>2.0</td>\n",
       "      <td>1.0</td>\n",
       "      <td>1.0</td>\n",
       "      <td>1.0</td>\n",
       "      <td>1.0</td>\n",
       "      <td>1.0</td>\n",
       "      <td>1.0</td>\n",
       "      <td>45.0</td>\n",
       "      <td>45.0</td>\n",
       "    </tr>\n",
       "    <tr>\n",
       "      <th>39401663587-8</th>\n",
       "      <td>Mestrado/Doutorado</td>\n",
       "      <td>TEORIA DA COMPUTAÇÃO</td>\n",
       "      <td>1,01E+11</td>\n",
       "      <td>3.0</td>\n",
       "      <td>3.0</td>\n",
       "      <td>2.0</td>\n",
       "      <td>2.0</td>\n",
       "      <td>3.0</td>\n",
       "      <td>3.0</td>\n",
       "      <td>2.0</td>\n",
       "      <td>...</td>\n",
       "      <td>3.0</td>\n",
       "      <td>3.0</td>\n",
       "      <td>1.0</td>\n",
       "      <td>1.0</td>\n",
       "      <td>2.0</td>\n",
       "      <td>2.0</td>\n",
       "      <td>1.0</td>\n",
       "      <td>1.0</td>\n",
       "      <td>50.0</td>\n",
       "      <td>50.0</td>\n",
       "    </tr>\n",
       "    <tr>\n",
       "      <th>39401651770-6</th>\n",
       "      <td>Mestrado/Doutorado</td>\n",
       "      <td>Sistemas Distribuídos e Programação Concorrente</td>\n",
       "      <td>1,05E+11</td>\n",
       "      <td>0.0</td>\n",
       "      <td>0.0</td>\n",
       "      <td>1.0</td>\n",
       "      <td>1.0</td>\n",
       "      <td>1.0</td>\n",
       "      <td>1.0</td>\n",
       "      <td>1.0</td>\n",
       "      <td>...</td>\n",
       "      <td>2.0</td>\n",
       "      <td>2.0</td>\n",
       "      <td>0.0</td>\n",
       "      <td>0.0</td>\n",
       "      <td>2.0</td>\n",
       "      <td>2.0</td>\n",
       "      <td>1.0</td>\n",
       "      <td>1.0</td>\n",
       "      <td>28.0</td>\n",
       "      <td>28.0</td>\n",
       "    </tr>\n",
       "    <tr>\n",
       "      <th>39401671273-0</th>\n",
       "      <td>Mestrado/Doutorado</td>\n",
       "      <td>Teoria da Computação</td>\n",
       "      <td>1,01E+11</td>\n",
       "      <td>1.0</td>\n",
       "      <td>1.0</td>\n",
       "      <td>0.0</td>\n",
       "      <td>0.0</td>\n",
       "      <td>1.0</td>\n",
       "      <td>1.0</td>\n",
       "      <td>1.0</td>\n",
       "      <td>...</td>\n",
       "      <td>1.0</td>\n",
       "      <td>1.0</td>\n",
       "      <td>1.0</td>\n",
       "      <td>1.0</td>\n",
       "      <td>1.0</td>\n",
       "      <td>1.0</td>\n",
       "      <td>0.0</td>\n",
       "      <td>0.0</td>\n",
       "      <td>24.0</td>\n",
       "      <td>24.0</td>\n",
       "    </tr>\n",
       "    <tr>\n",
       "      <th>...</th>\n",
       "      <td>...</td>\n",
       "      <td>...</td>\n",
       "      <td>...</td>\n",
       "      <td>...</td>\n",
       "      <td>...</td>\n",
       "      <td>...</td>\n",
       "      <td>...</td>\n",
       "      <td>...</td>\n",
       "      <td>...</td>\n",
       "      <td>...</td>\n",
       "      <td>...</td>\n",
       "      <td>...</td>\n",
       "      <td>...</td>\n",
       "      <td>...</td>\n",
       "      <td>...</td>\n",
       "      <td>...</td>\n",
       "      <td>...</td>\n",
       "      <td>...</td>\n",
       "      <td>...</td>\n",
       "      <td>...</td>\n",
       "      <td>...</td>\n",
       "    </tr>\n",
       "    <tr>\n",
       "      <th>39401640653-0</th>\n",
       "      <td>Mestrado/Doutorado</td>\n",
       "      <td>Sistemas Embarcados</td>\n",
       "      <td>1,01E+11</td>\n",
       "      <td>0.0</td>\n",
       "      <td>0.0</td>\n",
       "      <td>2.0</td>\n",
       "      <td>2.0</td>\n",
       "      <td>1.0</td>\n",
       "      <td>1.0</td>\n",
       "      <td>1.0</td>\n",
       "      <td>...</td>\n",
       "      <td>0.0</td>\n",
       "      <td>0.0</td>\n",
       "      <td>1.0</td>\n",
       "      <td>1.0</td>\n",
       "      <td>1.0</td>\n",
       "      <td>1.0</td>\n",
       "      <td>1.0</td>\n",
       "      <td>1.0</td>\n",
       "      <td>26.0</td>\n",
       "      <td>26.0</td>\n",
       "    </tr>\n",
       "    <tr>\n",
       "      <th>39401635473-9</th>\n",
       "      <td>Mestrado/Doutorado</td>\n",
       "      <td>Sistemas Web e Multimídia Interativos</td>\n",
       "      <td>1,00E+11</td>\n",
       "      <td>1.0</td>\n",
       "      <td>1.0</td>\n",
       "      <td>3.0</td>\n",
       "      <td>3.0</td>\n",
       "      <td>1.0</td>\n",
       "      <td>1.0</td>\n",
       "      <td>1.0</td>\n",
       "      <td>...</td>\n",
       "      <td>1.0</td>\n",
       "      <td>1.0</td>\n",
       "      <td>1.0</td>\n",
       "      <td>1.0</td>\n",
       "      <td>1.0</td>\n",
       "      <td>1.0</td>\n",
       "      <td>0.0</td>\n",
       "      <td>0.0</td>\n",
       "      <td>33.0</td>\n",
       "      <td>33.0</td>\n",
       "    </tr>\n",
       "    <tr>\n",
       "      <th>39401652971-7</th>\n",
       "      <td>Mestrado/Doutorado</td>\n",
       "      <td>Redes de Computadores</td>\n",
       "      <td>1,01E+11</td>\n",
       "      <td>1.0</td>\n",
       "      <td>1.0</td>\n",
       "      <td>2.0</td>\n",
       "      <td>2.0</td>\n",
       "      <td>2.0</td>\n",
       "      <td>2.0</td>\n",
       "      <td>1.0</td>\n",
       "      <td>...</td>\n",
       "      <td>2.0</td>\n",
       "      <td>2.0</td>\n",
       "      <td>0.0</td>\n",
       "      <td>0.0</td>\n",
       "      <td>0.0</td>\n",
       "      <td>0.0</td>\n",
       "      <td>1.0</td>\n",
       "      <td>1.0</td>\n",
       "      <td>33.0</td>\n",
       "      <td>33.0</td>\n",
       "    </tr>\n",
       "    <tr>\n",
       "      <th>39401660786-3</th>\n",
       "      <td>Mestrado/Doutorado</td>\n",
       "      <td>PROCESSAMENTO GRÁFICO, INTERAÇÃO E COMPUTAÇÃO ...</td>\n",
       "      <td>1,02E+11</td>\n",
       "      <td>1.0</td>\n",
       "      <td>1.0</td>\n",
       "      <td>2.0</td>\n",
       "      <td>2.0</td>\n",
       "      <td>1.0</td>\n",
       "      <td>1.0</td>\n",
       "      <td>1.0</td>\n",
       "      <td>...</td>\n",
       "      <td>2.0</td>\n",
       "      <td>2.0</td>\n",
       "      <td>0.0</td>\n",
       "      <td>0.0</td>\n",
       "      <td>0.0</td>\n",
       "      <td>0.0</td>\n",
       "      <td>0.0</td>\n",
       "      <td>0.0</td>\n",
       "      <td>25.0</td>\n",
       "      <td>25.0</td>\n",
       "    </tr>\n",
       "    <tr>\n",
       "      <th>39401638998-0</th>\n",
       "      <td>Mestrado/Doutorado</td>\n",
       "      <td>METODOLOGIA E TÉCNICAS DA COMPUTAÇÃO</td>\n",
       "      <td>1,01E+11</td>\n",
       "      <td>0.0</td>\n",
       "      <td>0.0</td>\n",
       "      <td>0.0</td>\n",
       "      <td>0.0</td>\n",
       "      <td>0.0</td>\n",
       "      <td>0.0</td>\n",
       "      <td>0.0</td>\n",
       "      <td>...</td>\n",
       "      <td>0.0</td>\n",
       "      <td>0.0</td>\n",
       "      <td>0.0</td>\n",
       "      <td>0.0</td>\n",
       "      <td>0.0</td>\n",
       "      <td>0.0</td>\n",
       "      <td>0.0</td>\n",
       "      <td>0.0</td>\n",
       "      <td>0.0</td>\n",
       "      <td>0.0</td>\n",
       "    </tr>\n",
       "  </tbody>\n",
       "</table>\n",
       "<p>4218 rows × 55 columns</p>\n",
       "</div>"
      ],
      "text/plain": [
       "                            CARGO  \\\n",
       "INSCRICAO                           \n",
       "39401673171-6  Mestrado/Doutorado   \n",
       "39401645886-1  Mestrado/Doutorado   \n",
       "39401663587-8  Mestrado/Doutorado   \n",
       "39401651770-6  Mestrado/Doutorado   \n",
       "39401671273-0  Mestrado/Doutorado   \n",
       "...                           ...   \n",
       "39401640653-0  Mestrado/Doutorado   \n",
       "39401635473-9  Mestrado/Doutorado   \n",
       "39401652971-7  Mestrado/Doutorado   \n",
       "39401660786-3  Mestrado/Doutorado   \n",
       "39401638998-0  Mestrado/Doutorado   \n",
       "\n",
       "                                                   ESPECIALIDADE  \\\n",
       "INSCRICAO                                                          \n",
       "39401673171-6                            Informática na Educação   \n",
       "39401645886-1                               Teoria da Computação   \n",
       "39401663587-8                               TEORIA DA COMPUTAÇÃO   \n",
       "39401651770-6    Sistemas Distribuídos e Programação Concorrente   \n",
       "39401671273-0                               Teoria da Computação   \n",
       "...                                                          ...   \n",
       "39401640653-0                                Sistemas Embarcados   \n",
       "39401635473-9              Sistemas Web e Multimídia Interativos   \n",
       "39401652971-7                              Redes de Computadores   \n",
       "39401660786-3  PROCESSAMENTO GRÁFICO, INTERAÇÃO E COMPUTAÇÃO ...   \n",
       "39401638998-0               METODOLOGIA E TÉCNICAS DA COMPUTAÇÃO   \n",
       "\n",
       "              IDENTIFICADOR  ACERTOS Matemática Discreta  \\\n",
       "INSCRICAO                                                  \n",
       "39401673171-6      1,00E+11                          3.0   \n",
       "39401645886-1      1,02E+11                          3.0   \n",
       "39401663587-8      1,01E+11                          3.0   \n",
       "39401651770-6      1,05E+11                          0.0   \n",
       "39401671273-0      1,01E+11                          1.0   \n",
       "...                     ...                          ...   \n",
       "39401640653-0      1,01E+11                          0.0   \n",
       "39401635473-9      1,00E+11                          1.0   \n",
       "39401652971-7      1,01E+11                          1.0   \n",
       "39401660786-3      1,02E+11                          1.0   \n",
       "39401638998-0      1,01E+11                          0.0   \n",
       "\n",
       "               NOTA Matemática Discreta  ACERTOS Cálculo Diferencial Integral  \\\n",
       "INSCRICAO                                                                       \n",
       "39401673171-6                       3.0                                   3.0   \n",
       "39401645886-1                       3.0                                   3.0   \n",
       "39401663587-8                       3.0                                   2.0   \n",
       "39401651770-6                       0.0                                   1.0   \n",
       "39401671273-0                       1.0                                   0.0   \n",
       "...                                 ...                                   ...   \n",
       "39401640653-0                       0.0                                   2.0   \n",
       "39401635473-9                       1.0                                   3.0   \n",
       "39401652971-7                       1.0                                   2.0   \n",
       "39401660786-3                       1.0                                   2.0   \n",
       "39401638998-0                       0.0                                   0.0   \n",
       "\n",
       "               NOTA Cálculo Diferencial Integral  ACERTOS Álgebra Linear  \\\n",
       "INSCRICAO                                                                  \n",
       "39401673171-6                                3.0                     3.0   \n",
       "39401645886-1                                3.0                     2.0   \n",
       "39401663587-8                                2.0                     3.0   \n",
       "39401651770-6                                1.0                     1.0   \n",
       "39401671273-0                                0.0                     1.0   \n",
       "...                                          ...                     ...   \n",
       "39401640653-0                                2.0                     1.0   \n",
       "39401635473-9                                3.0                     1.0   \n",
       "39401652971-7                                2.0                     2.0   \n",
       "39401660786-3                                2.0                     1.0   \n",
       "39401638998-0                                0.0                     0.0   \n",
       "\n",
       "               NOTA Álgebra Linear  ACERTOS Geometria Analítica  ...  \\\n",
       "INSCRICAO                                                        ...   \n",
       "39401673171-6                  3.0                          1.0  ...   \n",
       "39401645886-1                  2.0                          0.0  ...   \n",
       "39401663587-8                  3.0                          2.0  ...   \n",
       "39401651770-6                  1.0                          1.0  ...   \n",
       "39401671273-0                  1.0                          1.0  ...   \n",
       "...                            ...                          ...  ...   \n",
       "39401640653-0                  1.0                          1.0  ...   \n",
       "39401635473-9                  1.0                          1.0  ...   \n",
       "39401652971-7                  2.0                          1.0  ...   \n",
       "39401660786-3                  1.0                          1.0  ...   \n",
       "39401638998-0                  0.0                          0.0  ...   \n",
       "\n",
       "               ACERTOS Sistemas Distribuídos  NOTA Sistemas Distribuídos  \\\n",
       "INSCRICAO                                                                  \n",
       "39401673171-6                            3.0                         3.0   \n",
       "39401645886-1                            2.0                         2.0   \n",
       "39401663587-8                            3.0                         3.0   \n",
       "39401651770-6                            2.0                         2.0   \n",
       "39401671273-0                            1.0                         1.0   \n",
       "...                                      ...                         ...   \n",
       "39401640653-0                            0.0                         0.0   \n",
       "39401635473-9                            1.0                         1.0   \n",
       "39401652971-7                            2.0                         2.0   \n",
       "39401660786-3                            2.0                         2.0   \n",
       "39401638998-0                            0.0                         0.0   \n",
       "\n",
       "               ACERTOS Compiladores  NOTA Compiladores  \\\n",
       "INSCRICAO                                                \n",
       "39401673171-6                   0.0                0.0   \n",
       "39401645886-1                   1.0                1.0   \n",
       "39401663587-8                   1.0                1.0   \n",
       "39401651770-6                   0.0                0.0   \n",
       "39401671273-0                   1.0                1.0   \n",
       "...                             ...                ...   \n",
       "39401640653-0                   1.0                1.0   \n",
       "39401635473-9                   1.0                1.0   \n",
       "39401652971-7                   0.0                0.0   \n",
       "39401660786-3                   0.0                0.0   \n",
       "39401638998-0                   0.0                0.0   \n",
       "\n",
       "               ACERTOS Processamento de Imagens  \\\n",
       "INSCRICAO                                         \n",
       "39401673171-6                               2.0   \n",
       "39401645886-1                               1.0   \n",
       "39401663587-8                               2.0   \n",
       "39401651770-6                               2.0   \n",
       "39401671273-0                               1.0   \n",
       "...                                         ...   \n",
       "39401640653-0                               1.0   \n",
       "39401635473-9                               1.0   \n",
       "39401652971-7                               0.0   \n",
       "39401660786-3                               0.0   \n",
       "39401638998-0                               0.0   \n",
       "\n",
       "               NOTA Processamento de Imagens  ACERTOS Banco de Dados  \\\n",
       "INSCRICAO                                                              \n",
       "39401673171-6                            2.0                     2.0   \n",
       "39401645886-1                            1.0                     1.0   \n",
       "39401663587-8                            2.0                     1.0   \n",
       "39401651770-6                            2.0                     1.0   \n",
       "39401671273-0                            1.0                     0.0   \n",
       "...                                      ...                     ...   \n",
       "39401640653-0                            1.0                     1.0   \n",
       "39401635473-9                            1.0                     0.0   \n",
       "39401652971-7                            0.0                     1.0   \n",
       "39401660786-3                            0.0                     0.0   \n",
       "39401638998-0                            0.0                     0.0   \n",
       "\n",
       "               NOTA Banco de Dados  ACERTOS TO  NOTA TOTAL TO  \n",
       "INSCRICAO                                                      \n",
       "39401673171-6                  2.0        42.0           42.0  \n",
       "39401645886-1                  1.0        45.0           45.0  \n",
       "39401663587-8                  1.0        50.0           50.0  \n",
       "39401651770-6                  1.0        28.0           28.0  \n",
       "39401671273-0                  0.0        24.0           24.0  \n",
       "...                            ...         ...            ...  \n",
       "39401640653-0                  1.0        26.0           26.0  \n",
       "39401635473-9                  0.0        33.0           33.0  \n",
       "39401652971-7                  1.0        33.0           33.0  \n",
       "39401660786-3                  0.0        25.0           25.0  \n",
       "39401638998-0                  0.0         0.0            0.0  \n",
       "\n",
       "[4218 rows x 55 columns]"
      ]
     },
     "execution_count": 29,
     "metadata": {},
     "output_type": "execute_result"
    }
   ],
   "source": [
    "dados_respostas_notas_2016.set_index('INSCRICAO')"
   ]
  },
  {
   "cell_type": "code",
   "execution_count": 13,
   "id": "73275704-5192-48f2-b168-a42f8e4066ea",
   "metadata": {},
   "outputs": [
    {
     "data": {
      "text/html": [
       "<div>\n",
       "<style scoped>\n",
       "    .dataframe tbody tr th:only-of-type {\n",
       "        vertical-align: middle;\n",
       "    }\n",
       "\n",
       "    .dataframe tbody tr th {\n",
       "        vertical-align: top;\n",
       "    }\n",
       "\n",
       "    .dataframe thead th {\n",
       "        text-align: right;\n",
       "    }\n",
       "</style>\n",
       "<table border=\"1\" class=\"dataframe\">\n",
       "  <thead>\n",
       "    <tr style=\"text-align: right;\">\n",
       "      <th></th>\n",
       "      <th>ACERTOS Matemática Discreta</th>\n",
       "      <th>NOTA Matemática Discreta</th>\n",
       "      <th>ACERTOS Cálculo Diferencial Integral</th>\n",
       "      <th>NOTA Cálculo Diferencial Integral</th>\n",
       "      <th>ACERTOS Álgebra Linear</th>\n",
       "      <th>NOTA Álgebra Linear</th>\n",
       "      <th>ACERTOS Geometria Analítica</th>\n",
       "      <th>NOTA Geometria Analítica</th>\n",
       "      <th>ACERTOS Análise Combinatória</th>\n",
       "      <th>NOTA Análise Combinatória</th>\n",
       "      <th>...</th>\n",
       "      <th>ACERTOS Sistemas Distribuídos</th>\n",
       "      <th>NOTA Sistemas Distribuídos</th>\n",
       "      <th>ACERTOS Compiladores</th>\n",
       "      <th>NOTA Compiladores</th>\n",
       "      <th>ACERTOS Processamento de Imagens</th>\n",
       "      <th>NOTA Processamento de Imagens</th>\n",
       "      <th>ACERTOS Banco de Dados</th>\n",
       "      <th>NOTA Banco de Dados</th>\n",
       "      <th>ACERTOS TO</th>\n",
       "      <th>NOTA TOTAL TO</th>\n",
       "    </tr>\n",
       "  </thead>\n",
       "  <tbody>\n",
       "    <tr>\n",
       "      <th>count</th>\n",
       "      <td>4218.000000</td>\n",
       "      <td>4218.000000</td>\n",
       "      <td>4218.000000</td>\n",
       "      <td>4218.000000</td>\n",
       "      <td>4218.000000</td>\n",
       "      <td>4218.000000</td>\n",
       "      <td>4218.000000</td>\n",
       "      <td>4218.000000</td>\n",
       "      <td>4218.000000</td>\n",
       "      <td>4218.000000</td>\n",
       "      <td>...</td>\n",
       "      <td>4218.000000</td>\n",
       "      <td>4218.000000</td>\n",
       "      <td>4218.000000</td>\n",
       "      <td>4218.000000</td>\n",
       "      <td>4218.000000</td>\n",
       "      <td>4218.000000</td>\n",
       "      <td>4218.000000</td>\n",
       "      <td>4218.000000</td>\n",
       "      <td>4218.000000</td>\n",
       "      <td>4218.000000</td>\n",
       "    </tr>\n",
       "    <tr>\n",
       "      <th>mean</th>\n",
       "      <td>0.731863</td>\n",
       "      <td>0.731863</td>\n",
       "      <td>0.936226</td>\n",
       "      <td>0.936226</td>\n",
       "      <td>1.369369</td>\n",
       "      <td>1.369369</td>\n",
       "      <td>0.714083</td>\n",
       "      <td>0.714083</td>\n",
       "      <td>1.018966</td>\n",
       "      <td>1.018966</td>\n",
       "      <td>...</td>\n",
       "      <td>1.547416</td>\n",
       "      <td>1.547416</td>\n",
       "      <td>0.359175</td>\n",
       "      <td>0.359175</td>\n",
       "      <td>0.576102</td>\n",
       "      <td>0.576102</td>\n",
       "      <td>0.471313</td>\n",
       "      <td>0.471313</td>\n",
       "      <td>23.654813</td>\n",
       "      <td>23.654813</td>\n",
       "    </tr>\n",
       "    <tr>\n",
       "      <th>std</th>\n",
       "      <td>0.800423</td>\n",
       "      <td>0.800423</td>\n",
       "      <td>0.956220</td>\n",
       "      <td>0.956220</td>\n",
       "      <td>1.096973</td>\n",
       "      <td>1.096973</td>\n",
       "      <td>0.796480</td>\n",
       "      <td>0.796480</td>\n",
       "      <td>0.870632</td>\n",
       "      <td>0.870632</td>\n",
       "      <td>...</td>\n",
       "      <td>1.111841</td>\n",
       "      <td>1.111841</td>\n",
       "      <td>0.543758</td>\n",
       "      <td>0.543758</td>\n",
       "      <td>0.692805</td>\n",
       "      <td>0.692805</td>\n",
       "      <td>0.642910</td>\n",
       "      <td>0.642910</td>\n",
       "      <td>13.492138</td>\n",
       "      <td>13.492138</td>\n",
       "    </tr>\n",
       "    <tr>\n",
       "      <th>min</th>\n",
       "      <td>0.000000</td>\n",
       "      <td>0.000000</td>\n",
       "      <td>0.000000</td>\n",
       "      <td>0.000000</td>\n",
       "      <td>0.000000</td>\n",
       "      <td>0.000000</td>\n",
       "      <td>0.000000</td>\n",
       "      <td>0.000000</td>\n",
       "      <td>0.000000</td>\n",
       "      <td>0.000000</td>\n",
       "      <td>...</td>\n",
       "      <td>0.000000</td>\n",
       "      <td>0.000000</td>\n",
       "      <td>0.000000</td>\n",
       "      <td>0.000000</td>\n",
       "      <td>0.000000</td>\n",
       "      <td>0.000000</td>\n",
       "      <td>0.000000</td>\n",
       "      <td>0.000000</td>\n",
       "      <td>0.000000</td>\n",
       "      <td>0.000000</td>\n",
       "    </tr>\n",
       "    <tr>\n",
       "      <th>25%</th>\n",
       "      <td>0.000000</td>\n",
       "      <td>0.000000</td>\n",
       "      <td>0.000000</td>\n",
       "      <td>0.000000</td>\n",
       "      <td>0.000000</td>\n",
       "      <td>0.000000</td>\n",
       "      <td>0.000000</td>\n",
       "      <td>0.000000</td>\n",
       "      <td>0.000000</td>\n",
       "      <td>0.000000</td>\n",
       "      <td>...</td>\n",
       "      <td>0.000000</td>\n",
       "      <td>0.000000</td>\n",
       "      <td>0.000000</td>\n",
       "      <td>0.000000</td>\n",
       "      <td>0.000000</td>\n",
       "      <td>0.000000</td>\n",
       "      <td>0.000000</td>\n",
       "      <td>0.000000</td>\n",
       "      <td>20.000000</td>\n",
       "      <td>20.000000</td>\n",
       "    </tr>\n",
       "    <tr>\n",
       "      <th>50%</th>\n",
       "      <td>1.000000</td>\n",
       "      <td>1.000000</td>\n",
       "      <td>1.000000</td>\n",
       "      <td>1.000000</td>\n",
       "      <td>1.000000</td>\n",
       "      <td>1.000000</td>\n",
       "      <td>1.000000</td>\n",
       "      <td>1.000000</td>\n",
       "      <td>1.000000</td>\n",
       "      <td>1.000000</td>\n",
       "      <td>...</td>\n",
       "      <td>2.000000</td>\n",
       "      <td>2.000000</td>\n",
       "      <td>0.000000</td>\n",
       "      <td>0.000000</td>\n",
       "      <td>0.000000</td>\n",
       "      <td>0.000000</td>\n",
       "      <td>0.000000</td>\n",
       "      <td>0.000000</td>\n",
       "      <td>27.000000</td>\n",
       "      <td>27.000000</td>\n",
       "    </tr>\n",
       "    <tr>\n",
       "      <th>75%</th>\n",
       "      <td>1.000000</td>\n",
       "      <td>1.000000</td>\n",
       "      <td>2.000000</td>\n",
       "      <td>2.000000</td>\n",
       "      <td>2.000000</td>\n",
       "      <td>2.000000</td>\n",
       "      <td>1.000000</td>\n",
       "      <td>1.000000</td>\n",
       "      <td>2.000000</td>\n",
       "      <td>2.000000</td>\n",
       "      <td>...</td>\n",
       "      <td>2.000000</td>\n",
       "      <td>2.000000</td>\n",
       "      <td>1.000000</td>\n",
       "      <td>1.000000</td>\n",
       "      <td>1.000000</td>\n",
       "      <td>1.000000</td>\n",
       "      <td>1.000000</td>\n",
       "      <td>1.000000</td>\n",
       "      <td>33.000000</td>\n",
       "      <td>33.000000</td>\n",
       "    </tr>\n",
       "    <tr>\n",
       "      <th>max</th>\n",
       "      <td>3.000000</td>\n",
       "      <td>3.000000</td>\n",
       "      <td>3.000000</td>\n",
       "      <td>3.000000</td>\n",
       "      <td>3.000000</td>\n",
       "      <td>3.000000</td>\n",
       "      <td>3.000000</td>\n",
       "      <td>3.000000</td>\n",
       "      <td>3.000000</td>\n",
       "      <td>3.000000</td>\n",
       "      <td>...</td>\n",
       "      <td>3.000000</td>\n",
       "      <td>3.000000</td>\n",
       "      <td>2.000000</td>\n",
       "      <td>2.000000</td>\n",
       "      <td>2.000000</td>\n",
       "      <td>2.000000</td>\n",
       "      <td>3.000000</td>\n",
       "      <td>3.000000</td>\n",
       "      <td>62.000000</td>\n",
       "      <td>62.000000</td>\n",
       "    </tr>\n",
       "  </tbody>\n",
       "</table>\n",
       "<p>8 rows × 52 columns</p>\n",
       "</div>"
      ],
      "text/plain": [
       "       ACERTOS Matemática Discreta  NOTA Matemática Discreta  \\\n",
       "count                  4218.000000               4218.000000   \n",
       "mean                      0.731863                  0.731863   \n",
       "std                       0.800423                  0.800423   \n",
       "min                       0.000000                  0.000000   \n",
       "25%                       0.000000                  0.000000   \n",
       "50%                       1.000000                  1.000000   \n",
       "75%                       1.000000                  1.000000   \n",
       "max                       3.000000                  3.000000   \n",
       "\n",
       "       ACERTOS Cálculo Diferencial Integral  \\\n",
       "count                           4218.000000   \n",
       "mean                               0.936226   \n",
       "std                                0.956220   \n",
       "min                                0.000000   \n",
       "25%                                0.000000   \n",
       "50%                                1.000000   \n",
       "75%                                2.000000   \n",
       "max                                3.000000   \n",
       "\n",
       "       NOTA Cálculo Diferencial Integral  ACERTOS Álgebra Linear  \\\n",
       "count                        4218.000000             4218.000000   \n",
       "mean                            0.936226                1.369369   \n",
       "std                             0.956220                1.096973   \n",
       "min                             0.000000                0.000000   \n",
       "25%                             0.000000                0.000000   \n",
       "50%                             1.000000                1.000000   \n",
       "75%                             2.000000                2.000000   \n",
       "max                             3.000000                3.000000   \n",
       "\n",
       "       NOTA Álgebra Linear  ACERTOS Geometria Analítica  \\\n",
       "count          4218.000000                  4218.000000   \n",
       "mean              1.369369                     0.714083   \n",
       "std               1.096973                     0.796480   \n",
       "min               0.000000                     0.000000   \n",
       "25%               0.000000                     0.000000   \n",
       "50%               1.000000                     1.000000   \n",
       "75%               2.000000                     1.000000   \n",
       "max               3.000000                     3.000000   \n",
       "\n",
       "       NOTA Geometria Analítica  ACERTOS Análise Combinatória  \\\n",
       "count               4218.000000                   4218.000000   \n",
       "mean                   0.714083                      1.018966   \n",
       "std                    0.796480                      0.870632   \n",
       "min                    0.000000                      0.000000   \n",
       "25%                    0.000000                      0.000000   \n",
       "50%                    1.000000                      1.000000   \n",
       "75%                    1.000000                      2.000000   \n",
       "max                    3.000000                      3.000000   \n",
       "\n",
       "       NOTA Análise Combinatória  ...  ACERTOS Sistemas Distribuídos  \\\n",
       "count                4218.000000  ...                    4218.000000   \n",
       "mean                    1.018966  ...                       1.547416   \n",
       "std                     0.870632  ...                       1.111841   \n",
       "min                     0.000000  ...                       0.000000   \n",
       "25%                     0.000000  ...                       0.000000   \n",
       "50%                     1.000000  ...                       2.000000   \n",
       "75%                     2.000000  ...                       2.000000   \n",
       "max                     3.000000  ...                       3.000000   \n",
       "\n",
       "       NOTA Sistemas Distribuídos  ACERTOS Compiladores  NOTA Compiladores  \\\n",
       "count                 4218.000000           4218.000000        4218.000000   \n",
       "mean                     1.547416              0.359175           0.359175   \n",
       "std                      1.111841              0.543758           0.543758   \n",
       "min                      0.000000              0.000000           0.000000   \n",
       "25%                      0.000000              0.000000           0.000000   \n",
       "50%                      2.000000              0.000000           0.000000   \n",
       "75%                      2.000000              1.000000           1.000000   \n",
       "max                      3.000000              2.000000           2.000000   \n",
       "\n",
       "       ACERTOS Processamento de Imagens  NOTA Processamento de Imagens  \\\n",
       "count                       4218.000000                    4218.000000   \n",
       "mean                           0.576102                       0.576102   \n",
       "std                            0.692805                       0.692805   \n",
       "min                            0.000000                       0.000000   \n",
       "25%                            0.000000                       0.000000   \n",
       "50%                            0.000000                       0.000000   \n",
       "75%                            1.000000                       1.000000   \n",
       "max                            2.000000                       2.000000   \n",
       "\n",
       "       ACERTOS Banco de Dados  NOTA Banco de Dados   ACERTOS TO  NOTA TOTAL TO  \n",
       "count             4218.000000          4218.000000  4218.000000    4218.000000  \n",
       "mean                 0.471313             0.471313    23.654813      23.654813  \n",
       "std                  0.642910             0.642910    13.492138      13.492138  \n",
       "min                  0.000000             0.000000     0.000000       0.000000  \n",
       "25%                  0.000000             0.000000    20.000000      20.000000  \n",
       "50%                  0.000000             0.000000    27.000000      27.000000  \n",
       "75%                  1.000000             1.000000    33.000000      33.000000  \n",
       "max                  3.000000             3.000000    62.000000      62.000000  \n",
       "\n",
       "[8 rows x 52 columns]"
      ]
     },
     "execution_count": 13,
     "metadata": {},
     "output_type": "execute_result"
    }
   ],
   "source": [
    "dados_respostas_notas_2016.describe()"
   ]
  },
  {
   "cell_type": "code",
   "execution_count": 14,
   "id": "2c1013ae-cdb9-492d-bea2-f425da5db17d",
   "metadata": {},
   "outputs": [
    {
     "data": {
      "text/plain": [
       "CARGO                                                      0\n",
       "ESPECIALIDADE                                              0\n",
       "INSCRICAO                                                  0\n",
       "IDENTIFICADOR                                              0\n",
       "ACERTOS Matemática Discreta                                0\n",
       "NOTA Matemática Discreta                                   0\n",
       "ACERTOS Cálculo Diferencial Integral                       0\n",
       "NOTA Cálculo Diferencial Integral                          0\n",
       "ACERTOS Álgebra Linear                                     0\n",
       "NOTA Álgebra Linear                                        0\n",
       "ACERTOS Geometria Analítica                                0\n",
       "NOTA Geometria Analítica                                   0\n",
       "ACERTOS Análise Combinatória                               0\n",
       "NOTA Análise Combinatória                                  0\n",
       "ACERTOS Probabilidade e Estatística                        0\n",
       "NOTA Probabilidade e Estatística                           0\n",
       "ACERTOS Lógica Matemática                                  0\n",
       "NOTA Lógica Matemática                                     0\n",
       "ACERTOS Organização de Arquivos e Dados                    0\n",
       "NOTA Organização de Arquivos e Dados                       0\n",
       "ACERTOS Técnicas de Programação                            0\n",
       "NOTA Técnicas de Programação                               0\n",
       "ACERTOS Circuitos Digitais                                 0\n",
       "NOTA Circuitos Digitais                                    0\n",
       "ACERTOS Análise de Algoritmos                              0\n",
       "NOTA Análise de Algoritmos                                 0\n",
       "ACERTOS Teoria dos Grafos                                  0\n",
       "NOTA Teoria dos Grafos                                     0\n",
       "ACERTOS Linguagens Formais, Autômatos e Computabilidade    0\n",
       "NOTA Linguagens Formais, Autômatos e Computabilidade       0\n",
       "ACERTOS Algoritmos e Estruturas de Dados                   0\n",
       "NOTA Algoritmos e Estruturas de Dados                      0\n",
       "ACERTOS Linguagens de Programação                          0\n",
       "NOTA Linguagens de Programação                             0\n",
       "ACERTOS Sistemas Operacionais                              0\n",
       "NOTA Sistemas Operacionais                                 0\n",
       "ACERTOS Arquitetura e Organização de Computadores          0\n",
       "NOTA Arquitetura e Organização de Computadores             0\n",
       "ACERTOS Rede de Computadores                               0\n",
       "NOTA Rede de Computadores                                  0\n",
       "ACERTOS Computação Gráfica                                 0\n",
       "NOTA Computação Gráfica                                    0\n",
       "ACERTOS Inteligência Artificial                            0\n",
       "NOTA Inteligência Artificial                               0\n",
       "ACERTOS Engenharia de Software                             0\n",
       "NOTA Engenharia de Software                                0\n",
       "ACERTOS Sistemas Distribuídos                              0\n",
       "NOTA Sistemas Distribuídos                                 0\n",
       "ACERTOS Compiladores                                       0\n",
       "NOTA Compiladores                                          0\n",
       "ACERTOS Processamento de Imagens                           0\n",
       "NOTA Processamento de Imagens                              0\n",
       "ACERTOS Banco de Dados                                     0\n",
       "NOTA Banco de Dados                                        0\n",
       "ACERTOS TO                                                 0\n",
       "NOTA TOTAL TO                                              0\n",
       "dtype: int64"
      ]
     },
     "execution_count": 14,
     "metadata": {},
     "output_type": "execute_result"
    }
   ],
   "source": []
  },
  {
   "cell_type": "markdown",
   "id": "f0783809-c90f-4ae8-b22d-b6d077ead8aa",
   "metadata": {},
   "source": [
    "## Dados Homologados"
   ]
  },
  {
   "cell_type": "code",
   "execution_count": 35,
   "id": "6fff476e-d17f-4a89-a8fa-84f8e2eba3bd",
   "metadata": {},
   "outputs": [
    {
     "data": {
      "text/html": [
       "<div>\n",
       "<style scoped>\n",
       "    .dataframe tbody tr th:only-of-type {\n",
       "        vertical-align: middle;\n",
       "    }\n",
       "\n",
       "    .dataframe tbody tr th {\n",
       "        vertical-align: top;\n",
       "    }\n",
       "\n",
       "    .dataframe thead th {\n",
       "        text-align: right;\n",
       "    }\n",
       "</style>\n",
       "<table border=\"1\" class=\"dataframe\">\n",
       "  <thead>\n",
       "    <tr style=\"text-align: right;\">\n",
       "      <th></th>\n",
       "      <th>Unnamed: 0</th>\n",
       "      <th>SEXO</th>\n",
       "      <th>ENDERECO.</th>\n",
       "      <th>NUMERO</th>\n",
       "      <th>BAIRRO</th>\n",
       "      <th>CIDADE</th>\n",
       "      <th>CEP</th>\n",
       "      <th>INSCRICAO</th>\n",
       "      <th>CARGO</th>\n",
       "      <th>CÓDIGO</th>\n",
       "      <th>LOCAL DE PROVA</th>\n",
       "      <th>ANO</th>\n",
       "    </tr>\n",
       "    <tr>\n",
       "      <th>ESTADO</th>\n",
       "      <th></th>\n",
       "      <th></th>\n",
       "      <th></th>\n",
       "      <th></th>\n",
       "      <th></th>\n",
       "      <th></th>\n",
       "      <th></th>\n",
       "      <th></th>\n",
       "      <th></th>\n",
       "      <th></th>\n",
       "      <th></th>\n",
       "      <th></th>\n",
       "    </tr>\n",
       "  </thead>\n",
       "  <tbody>\n",
       "    <tr>\n",
       "      <th>OU</th>\n",
       "      <td>0</td>\n",
       "      <td>M</td>\n",
       "      <td>Pampas de Polanco</td>\n",
       "      <td>16</td>\n",
       "      <td>Ramiro Priale</td>\n",
       "      <td>Arequipa</td>\n",
       "      <td>05105-1</td>\n",
       "      <td>39401673171-6</td>\n",
       "      <td>1-Mestrado/Doutorado</td>\n",
       "      <td>1</td>\n",
       "      <td>Arequipa - PERU</td>\n",
       "      <td>2016</td>\n",
       "    </tr>\n",
       "    <tr>\n",
       "      <th>CE</th>\n",
       "      <td>1</td>\n",
       "      <td>M</td>\n",
       "      <td>Mário Studart</td>\n",
       "      <td>380</td>\n",
       "      <td>Jacarecanga</td>\n",
       "      <td>Fortaleza</td>\n",
       "      <td>60326-060</td>\n",
       "      <td>39401645886-1</td>\n",
       "      <td>1-Mestrado/Doutorado</td>\n",
       "      <td>1</td>\n",
       "      <td>Fortaleza - CE</td>\n",
       "      <td>2016</td>\n",
       "    </tr>\n",
       "    <tr>\n",
       "      <th>RS</th>\n",
       "      <td>2</td>\n",
       "      <td>M</td>\n",
       "      <td>Avenida da Azenha</td>\n",
       "      <td>324</td>\n",
       "      <td>Azenha</td>\n",
       "      <td>Porto Alegre</td>\n",
       "      <td>90160004</td>\n",
       "      <td>39401663587-8</td>\n",
       "      <td>1-Mestrado/Doutorado</td>\n",
       "      <td>1</td>\n",
       "      <td>Campina Grande - PB</td>\n",
       "      <td>2016</td>\n",
       "    </tr>\n",
       "    <tr>\n",
       "      <th>SP</th>\n",
       "      <td>3</td>\n",
       "      <td>M</td>\n",
       "      <td>Gregório Aversa</td>\n",
       "      <td>450</td>\n",
       "      <td>Recreio São Judas Tadeu</td>\n",
       "      <td>São Carlos</td>\n",
       "      <td>13571-260</td>\n",
       "      <td>39401651770-6</td>\n",
       "      <td>1-Mestrado/Doutorado</td>\n",
       "      <td>1</td>\n",
       "      <td>São Carlos - SP</td>\n",
       "      <td>2016</td>\n",
       "    </tr>\n",
       "    <tr>\n",
       "      <th>PA</th>\n",
       "      <td>4</td>\n",
       "      <td>M</td>\n",
       "      <td>Augusto Montenegro</td>\n",
       "      <td>200</td>\n",
       "      <td>Parque Verde</td>\n",
       "      <td>Belém</td>\n",
       "      <td>66635-110</td>\n",
       "      <td>39401671273-0</td>\n",
       "      <td>1-Mestrado/Doutorado</td>\n",
       "      <td>1</td>\n",
       "      <td>Belém - PA</td>\n",
       "      <td>2016</td>\n",
       "    </tr>\n",
       "    <tr>\n",
       "      <th>...</th>\n",
       "      <td>...</td>\n",
       "      <td>...</td>\n",
       "      <td>...</td>\n",
       "      <td>...</td>\n",
       "      <td>...</td>\n",
       "      <td>...</td>\n",
       "      <td>...</td>\n",
       "      <td>...</td>\n",
       "      <td>...</td>\n",
       "      <td>...</td>\n",
       "      <td>...</td>\n",
       "      <td>...</td>\n",
       "    </tr>\n",
       "    <tr>\n",
       "      <th>ES</th>\n",
       "      <td>14570</td>\n",
       "      <td>M</td>\n",
       "      <td>Rua Piratininga</td>\n",
       "      <td>33</td>\n",
       "      <td>Praia da Costa</td>\n",
       "      <td>Vila Velha</td>\n",
       "      <td>29101-220</td>\n",
       "      <td>51801396055-5</td>\n",
       "      <td>1-Mestrado/Doutorado</td>\n",
       "      <td>1</td>\n",
       "      <td>Vitória/ES</td>\n",
       "      <td>2019</td>\n",
       "    </tr>\n",
       "    <tr>\n",
       "      <th>RS</th>\n",
       "      <td>14571</td>\n",
       "      <td>M</td>\n",
       "      <td>Avenida São Francisco de Paula</td>\n",
       "      <td>2138</td>\n",
       "      <td>Areal</td>\n",
       "      <td>Pelotas</td>\n",
       "      <td>96080-730</td>\n",
       "      <td>51801354647-6</td>\n",
       "      <td>1-Mestrado/Doutorado</td>\n",
       "      <td>1</td>\n",
       "      <td>Pelotas/RS</td>\n",
       "      <td>2019</td>\n",
       "    </tr>\n",
       "    <tr>\n",
       "      <th>OU</th>\n",
       "      <td>14572</td>\n",
       "      <td>M</td>\n",
       "      <td>jv tablon del niño jesus - san jeronimo</td>\n",
       "      <td>328</td>\n",
       "      <td>san jeronimo</td>\n",
       "      <td>cusco</td>\n",
       "      <td>08000-</td>\n",
       "      <td>51801393821-0</td>\n",
       "      <td>1-Mestrado/Doutorado</td>\n",
       "      <td>1</td>\n",
       "      <td>Arequipa/PERU</td>\n",
       "      <td>2019</td>\n",
       "    </tr>\n",
       "    <tr>\n",
       "      <th>RS</th>\n",
       "      <td>14573</td>\n",
       "      <td>M</td>\n",
       "      <td>Rua Onófrio Lemos</td>\n",
       "      <td>114</td>\n",
       "      <td>Ibirapuitã</td>\n",
       "      <td>Alegrete</td>\n",
       "      <td>97546260</td>\n",
       "      <td>51801354273-1</td>\n",
       "      <td>1-Mestrado/Doutorado</td>\n",
       "      <td>1</td>\n",
       "      <td>Alegrete/RS</td>\n",
       "      <td>2019</td>\n",
       "    </tr>\n",
       "    <tr>\n",
       "      <th>SP</th>\n",
       "      <td>14574</td>\n",
       "      <td>M</td>\n",
       "      <td>Rua Soldado Vital Fortuna</td>\n",
       "      <td>96</td>\n",
       "      <td>Vila Itapegica</td>\n",
       "      <td>Guarulhos</td>\n",
       "      <td>07043-160</td>\n",
       "      <td>51801366900-3</td>\n",
       "      <td>1-Mestrado/Doutorado</td>\n",
       "      <td>1</td>\n",
       "      <td>São Paulo/SP</td>\n",
       "      <td>2019</td>\n",
       "    </tr>\n",
       "  </tbody>\n",
       "</table>\n",
       "<p>14575 rows × 12 columns</p>\n",
       "</div>"
      ],
      "text/plain": [
       "        Unnamed: 0 SEXO                                ENDERECO. NUMERO  \\\n",
       "ESTADO                                                                    \n",
       "OU               0    M                        Pampas de Polanco     16   \n",
       "CE               1    M                            Mário Studart    380   \n",
       "RS               2    M                        Avenida da Azenha    324   \n",
       "SP               3    M                          Gregório Aversa    450   \n",
       "PA               4    M                       Augusto Montenegro    200   \n",
       "...            ...  ...                                      ...    ...   \n",
       "ES           14570    M                          Rua Piratininga     33   \n",
       "RS           14571    M           Avenida São Francisco de Paula   2138   \n",
       "OU           14572    M  jv tablon del niño jesus - san jeronimo    328   \n",
       "RS           14573    M                        Rua Onófrio Lemos    114   \n",
       "SP           14574    M                Rua Soldado Vital Fortuna     96   \n",
       "\n",
       "                         BAIRRO        CIDADE        CEP      INSCRICAO  \\\n",
       "ESTADO                                                                    \n",
       "OU                Ramiro Priale      Arequipa    05105-1  39401673171-6   \n",
       "CE                  Jacarecanga     Fortaleza  60326-060  39401645886-1   \n",
       "RS                       Azenha  Porto Alegre   90160004  39401663587-8   \n",
       "SP      Recreio São Judas Tadeu    São Carlos  13571-260  39401651770-6   \n",
       "PA                 Parque Verde         Belém  66635-110  39401671273-0   \n",
       "...                         ...           ...        ...            ...   \n",
       "ES               Praia da Costa    Vila Velha  29101-220  51801396055-5   \n",
       "RS                        Areal       Pelotas  96080-730  51801354647-6   \n",
       "OU                 san jeronimo         cusco     08000-  51801393821-0   \n",
       "RS                   Ibirapuitã      Alegrete   97546260  51801354273-1   \n",
       "SP               Vila Itapegica     Guarulhos  07043-160  51801366900-3   \n",
       "\n",
       "                       CARGO CÓDIGO       LOCAL DE PROVA   ANO  \n",
       "ESTADO                                                          \n",
       "OU      1-Mestrado/Doutorado      1      Arequipa - PERU  2016  \n",
       "CE      1-Mestrado/Doutorado      1       Fortaleza - CE  2016  \n",
       "RS      1-Mestrado/Doutorado      1  Campina Grande - PB  2016  \n",
       "SP      1-Mestrado/Doutorado      1      São Carlos - SP  2016  \n",
       "PA      1-Mestrado/Doutorado      1           Belém - PA  2016  \n",
       "...                      ...    ...                  ...   ...  \n",
       "ES      1-Mestrado/Doutorado      1           Vitória/ES  2019  \n",
       "RS      1-Mestrado/Doutorado      1           Pelotas/RS  2019  \n",
       "OU      1-Mestrado/Doutorado      1        Arequipa/PERU  2019  \n",
       "RS      1-Mestrado/Doutorado      1          Alegrete/RS  2019  \n",
       "SP      1-Mestrado/Doutorado      1         São Paulo/SP  2019  \n",
       "\n",
       "[14575 rows x 12 columns]"
      ]
     },
     "execution_count": 35,
     "metadata": {},
     "output_type": "execute_result"
    }
   ],
   "source": [
    "dados_homologacao.set_index('ESTADO')"
   ]
  },
  {
   "cell_type": "code",
   "execution_count": 36,
   "id": "3d32cb37-de6a-4604-99e4-46f2a1706a7e",
   "metadata": {},
   "outputs": [
    {
     "data": {
      "text/html": [
       "<div>\n",
       "<style scoped>\n",
       "    .dataframe tbody tr th:only-of-type {\n",
       "        vertical-align: middle;\n",
       "    }\n",
       "\n",
       "    .dataframe tbody tr th {\n",
       "        vertical-align: top;\n",
       "    }\n",
       "\n",
       "    .dataframe thead th {\n",
       "        text-align: right;\n",
       "    }\n",
       "</style>\n",
       "<table border=\"1\" class=\"dataframe\">\n",
       "  <thead>\n",
       "    <tr style=\"text-align: right;\">\n",
       "      <th></th>\n",
       "      <th>Unnamed: 0</th>\n",
       "      <th>SEXO</th>\n",
       "      <th>ENDERECO.</th>\n",
       "      <th>NUMERO</th>\n",
       "      <th>BAIRRO</th>\n",
       "      <th>CIDADE</th>\n",
       "      <th>ESTADO</th>\n",
       "      <th>CEP</th>\n",
       "      <th>INSCRICAO</th>\n",
       "      <th>CARGO</th>\n",
       "      <th>CÓDIGO</th>\n",
       "      <th>LOCAL DE PROVA</th>\n",
       "      <th>ANO</th>\n",
       "    </tr>\n",
       "  </thead>\n",
       "  <tbody>\n",
       "    <tr>\n",
       "      <th>0</th>\n",
       "      <td>0</td>\n",
       "      <td>M</td>\n",
       "      <td>Pampas de Polanco</td>\n",
       "      <td>16</td>\n",
       "      <td>Ramiro Priale</td>\n",
       "      <td>Arequipa</td>\n",
       "      <td>OU</td>\n",
       "      <td>05105-1</td>\n",
       "      <td>39401673171-6</td>\n",
       "      <td>1-Mestrado/Doutorado</td>\n",
       "      <td>1</td>\n",
       "      <td>Arequipa - PERU</td>\n",
       "      <td>2016</td>\n",
       "    </tr>\n",
       "    <tr>\n",
       "      <th>1</th>\n",
       "      <td>1</td>\n",
       "      <td>M</td>\n",
       "      <td>Mário Studart</td>\n",
       "      <td>380</td>\n",
       "      <td>Jacarecanga</td>\n",
       "      <td>Fortaleza</td>\n",
       "      <td>CE</td>\n",
       "      <td>60326-060</td>\n",
       "      <td>39401645886-1</td>\n",
       "      <td>1-Mestrado/Doutorado</td>\n",
       "      <td>1</td>\n",
       "      <td>Fortaleza - CE</td>\n",
       "      <td>2016</td>\n",
       "    </tr>\n",
       "    <tr>\n",
       "      <th>2</th>\n",
       "      <td>2</td>\n",
       "      <td>M</td>\n",
       "      <td>Avenida da Azenha</td>\n",
       "      <td>324</td>\n",
       "      <td>Azenha</td>\n",
       "      <td>Porto Alegre</td>\n",
       "      <td>RS</td>\n",
       "      <td>90160004</td>\n",
       "      <td>39401663587-8</td>\n",
       "      <td>1-Mestrado/Doutorado</td>\n",
       "      <td>1</td>\n",
       "      <td>Campina Grande - PB</td>\n",
       "      <td>2016</td>\n",
       "    </tr>\n",
       "    <tr>\n",
       "      <th>3</th>\n",
       "      <td>3</td>\n",
       "      <td>M</td>\n",
       "      <td>Gregório Aversa</td>\n",
       "      <td>450</td>\n",
       "      <td>Recreio São Judas Tadeu</td>\n",
       "      <td>São Carlos</td>\n",
       "      <td>SP</td>\n",
       "      <td>13571-260</td>\n",
       "      <td>39401651770-6</td>\n",
       "      <td>1-Mestrado/Doutorado</td>\n",
       "      <td>1</td>\n",
       "      <td>São Carlos - SP</td>\n",
       "      <td>2016</td>\n",
       "    </tr>\n",
       "    <tr>\n",
       "      <th>4</th>\n",
       "      <td>4</td>\n",
       "      <td>M</td>\n",
       "      <td>Augusto Montenegro</td>\n",
       "      <td>200</td>\n",
       "      <td>Parque Verde</td>\n",
       "      <td>Belém</td>\n",
       "      <td>PA</td>\n",
       "      <td>66635-110</td>\n",
       "      <td>39401671273-0</td>\n",
       "      <td>1-Mestrado/Doutorado</td>\n",
       "      <td>1</td>\n",
       "      <td>Belém - PA</td>\n",
       "      <td>2016</td>\n",
       "    </tr>\n",
       "    <tr>\n",
       "      <th>...</th>\n",
       "      <td>...</td>\n",
       "      <td>...</td>\n",
       "      <td>...</td>\n",
       "      <td>...</td>\n",
       "      <td>...</td>\n",
       "      <td>...</td>\n",
       "      <td>...</td>\n",
       "      <td>...</td>\n",
       "      <td>...</td>\n",
       "      <td>...</td>\n",
       "      <td>...</td>\n",
       "      <td>...</td>\n",
       "      <td>...</td>\n",
       "    </tr>\n",
       "    <tr>\n",
       "      <th>14570</th>\n",
       "      <td>14570</td>\n",
       "      <td>M</td>\n",
       "      <td>Rua Piratininga</td>\n",
       "      <td>33</td>\n",
       "      <td>Praia da Costa</td>\n",
       "      <td>Vila Velha</td>\n",
       "      <td>ES</td>\n",
       "      <td>29101-220</td>\n",
       "      <td>51801396055-5</td>\n",
       "      <td>1-Mestrado/Doutorado</td>\n",
       "      <td>1</td>\n",
       "      <td>Vitória/ES</td>\n",
       "      <td>2019</td>\n",
       "    </tr>\n",
       "    <tr>\n",
       "      <th>14571</th>\n",
       "      <td>14571</td>\n",
       "      <td>M</td>\n",
       "      <td>Avenida São Francisco de Paula</td>\n",
       "      <td>2138</td>\n",
       "      <td>Areal</td>\n",
       "      <td>Pelotas</td>\n",
       "      <td>RS</td>\n",
       "      <td>96080-730</td>\n",
       "      <td>51801354647-6</td>\n",
       "      <td>1-Mestrado/Doutorado</td>\n",
       "      <td>1</td>\n",
       "      <td>Pelotas/RS</td>\n",
       "      <td>2019</td>\n",
       "    </tr>\n",
       "    <tr>\n",
       "      <th>14572</th>\n",
       "      <td>14572</td>\n",
       "      <td>M</td>\n",
       "      <td>jv tablon del niño jesus - san jeronimo</td>\n",
       "      <td>328</td>\n",
       "      <td>san jeronimo</td>\n",
       "      <td>cusco</td>\n",
       "      <td>OU</td>\n",
       "      <td>08000-</td>\n",
       "      <td>51801393821-0</td>\n",
       "      <td>1-Mestrado/Doutorado</td>\n",
       "      <td>1</td>\n",
       "      <td>Arequipa/PERU</td>\n",
       "      <td>2019</td>\n",
       "    </tr>\n",
       "    <tr>\n",
       "      <th>14573</th>\n",
       "      <td>14573</td>\n",
       "      <td>M</td>\n",
       "      <td>Rua Onófrio Lemos</td>\n",
       "      <td>114</td>\n",
       "      <td>Ibirapuitã</td>\n",
       "      <td>Alegrete</td>\n",
       "      <td>RS</td>\n",
       "      <td>97546260</td>\n",
       "      <td>51801354273-1</td>\n",
       "      <td>1-Mestrado/Doutorado</td>\n",
       "      <td>1</td>\n",
       "      <td>Alegrete/RS</td>\n",
       "      <td>2019</td>\n",
       "    </tr>\n",
       "    <tr>\n",
       "      <th>14574</th>\n",
       "      <td>14574</td>\n",
       "      <td>M</td>\n",
       "      <td>Rua Soldado Vital Fortuna</td>\n",
       "      <td>96</td>\n",
       "      <td>Vila Itapegica</td>\n",
       "      <td>Guarulhos</td>\n",
       "      <td>SP</td>\n",
       "      <td>07043-160</td>\n",
       "      <td>51801366900-3</td>\n",
       "      <td>1-Mestrado/Doutorado</td>\n",
       "      <td>1</td>\n",
       "      <td>São Paulo/SP</td>\n",
       "      <td>2019</td>\n",
       "    </tr>\n",
       "  </tbody>\n",
       "</table>\n",
       "<p>14575 rows × 13 columns</p>\n",
       "</div>"
      ],
      "text/plain": [
       "       Unnamed: 0 SEXO                                ENDERECO. NUMERO  \\\n",
       "0               0    M                        Pampas de Polanco     16   \n",
       "1               1    M                            Mário Studart    380   \n",
       "2               2    M                        Avenida da Azenha    324   \n",
       "3               3    M                          Gregório Aversa    450   \n",
       "4               4    M                       Augusto Montenegro    200   \n",
       "...           ...  ...                                      ...    ...   \n",
       "14570       14570    M                          Rua Piratininga     33   \n",
       "14571       14571    M           Avenida São Francisco de Paula   2138   \n",
       "14572       14572    M  jv tablon del niño jesus - san jeronimo    328   \n",
       "14573       14573    M                        Rua Onófrio Lemos    114   \n",
       "14574       14574    M                Rua Soldado Vital Fortuna     96   \n",
       "\n",
       "                        BAIRRO        CIDADE ESTADO        CEP      INSCRICAO  \\\n",
       "0                Ramiro Priale      Arequipa     OU    05105-1  39401673171-6   \n",
       "1                  Jacarecanga     Fortaleza     CE  60326-060  39401645886-1   \n",
       "2                       Azenha  Porto Alegre     RS   90160004  39401663587-8   \n",
       "3      Recreio São Judas Tadeu    São Carlos     SP  13571-260  39401651770-6   \n",
       "4                 Parque Verde         Belém     PA  66635-110  39401671273-0   \n",
       "...                        ...           ...    ...        ...            ...   \n",
       "14570           Praia da Costa    Vila Velha     ES  29101-220  51801396055-5   \n",
       "14571                    Areal       Pelotas     RS  96080-730  51801354647-6   \n",
       "14572             san jeronimo         cusco     OU     08000-  51801393821-0   \n",
       "14573               Ibirapuitã      Alegrete     RS   97546260  51801354273-1   \n",
       "14574           Vila Itapegica     Guarulhos     SP  07043-160  51801366900-3   \n",
       "\n",
       "                      CARGO CÓDIGO       LOCAL DE PROVA   ANO  \n",
       "0      1-Mestrado/Doutorado      1      Arequipa - PERU  2016  \n",
       "1      1-Mestrado/Doutorado      1       Fortaleza - CE  2016  \n",
       "2      1-Mestrado/Doutorado      1  Campina Grande - PB  2016  \n",
       "3      1-Mestrado/Doutorado      1      São Carlos - SP  2016  \n",
       "4      1-Mestrado/Doutorado      1           Belém - PA  2016  \n",
       "...                     ...    ...                  ...   ...  \n",
       "14570  1-Mestrado/Doutorado      1           Vitória/ES  2019  \n",
       "14571  1-Mestrado/Doutorado      1           Pelotas/RS  2019  \n",
       "14572  1-Mestrado/Doutorado      1        Arequipa/PERU  2019  \n",
       "14573  1-Mestrado/Doutorado      1          Alegrete/RS  2019  \n",
       "14574  1-Mestrado/Doutorado      1         São Paulo/SP  2019  \n",
       "\n",
       "[14575 rows x 13 columns]"
      ]
     },
     "execution_count": 36,
     "metadata": {},
     "output_type": "execute_result"
    }
   ],
   "source": []
  },
  {
   "cell_type": "code",
   "execution_count": 24,
   "id": "e3df6dbf-5217-45cb-93f0-8acbb86e5720",
   "metadata": {},
   "outputs": [
    {
     "data": {
      "text/html": [
       "<div>\n",
       "<style scoped>\n",
       "    .dataframe tbody tr th:only-of-type {\n",
       "        vertical-align: middle;\n",
       "    }\n",
       "\n",
       "    .dataframe tbody tr th {\n",
       "        vertical-align: top;\n",
       "    }\n",
       "\n",
       "    .dataframe thead th {\n",
       "        text-align: right;\n",
       "    }\n",
       "</style>\n",
       "<table border=\"1\" class=\"dataframe\">\n",
       "  <thead>\n",
       "    <tr style=\"text-align: right;\">\n",
       "      <th></th>\n",
       "      <th>Unnamed: 0</th>\n",
       "      <th>SEXO</th>\n",
       "      <th>ENDERECO.</th>\n",
       "      <th>NUMERO</th>\n",
       "      <th>BAIRRO</th>\n",
       "      <th>CIDADE</th>\n",
       "      <th>ESTADO</th>\n",
       "      <th>CEP</th>\n",
       "      <th>INSCRICAO</th>\n",
       "      <th>CARGO</th>\n",
       "      <th>CÓDIGO</th>\n",
       "      <th>LOCAL DE PROVA</th>\n",
       "      <th>ANO</th>\n",
       "    </tr>\n",
       "  </thead>\n",
       "  <tbody>\n",
       "    <tr>\n",
       "      <th>11808</th>\n",
       "      <td>11808</td>\n",
       "      <td>F</td>\n",
       "      <td>Rua Antônio de Oliveira Carvalho</td>\n",
       "      <td>24</td>\n",
       "      <td>Cas</td>\n",
       "      <td>Cabuçu</td>\n",
       "      <td>Nova Iguaçu</td>\n",
       "      <td>RJ</td>\n",
       "      <td>688145</td>\n",
       "      <td>17/07/2019 11:50</td>\n",
       "      <td>1-Mestrado/Doutorado</td>\n",
       "      <td>NaN</td>\n",
       "      <td>2019</td>\n",
       "    </tr>\n",
       "  </tbody>\n",
       "</table>\n",
       "</div>"
      ],
      "text/plain": [
       "       Unnamed: 0 SEXO                         ENDERECO. NUMERO BAIRRO  \\\n",
       "11808       11808    F  Rua Antônio de Oliveira Carvalho     24    Cas   \n",
       "\n",
       "       CIDADE       ESTADO CEP INSCRICAO             CARGO  \\\n",
       "11808  Cabuçu  Nova Iguaçu  RJ    688145  17/07/2019 11:50   \n",
       "\n",
       "                     CÓDIGO LOCAL DE PROVA   ANO  \n",
       "11808  1-Mestrado/Doutorado            NaN  2019  "
      ]
     },
     "execution_count": 24,
     "metadata": {},
     "output_type": "execute_result"
    }
   ],
   "source": [
    "dados_homologacao[dados_homologacao['CARGO'] == '17/07/2019 11:50']"
   ]
  },
  {
   "cell_type": "code",
   "execution_count": 25,
   "id": "f50c2509-8b82-4be5-8ec2-f56aa5906eda",
   "metadata": {},
   "outputs": [],
   "source": [
    "dados_homologacao.loc[dados_homologacao['CARGO'] == '17/07/2019 11:50', 'CARGO'] = '1-Mestrado/Doutorado'"
   ]
  },
  {
   "cell_type": "code",
   "execution_count": 26,
   "id": "74139124-7e1a-4bcc-b7d2-1b6615b56919",
   "metadata": {},
   "outputs": [
    {
     "data": {
      "text/html": [
       "<div>\n",
       "<style scoped>\n",
       "    .dataframe tbody tr th:only-of-type {\n",
       "        vertical-align: middle;\n",
       "    }\n",
       "\n",
       "    .dataframe tbody tr th {\n",
       "        vertical-align: top;\n",
       "    }\n",
       "\n",
       "    .dataframe thead th {\n",
       "        text-align: right;\n",
       "    }\n",
       "</style>\n",
       "<table border=\"1\" class=\"dataframe\">\n",
       "  <thead>\n",
       "    <tr style=\"text-align: right;\">\n",
       "      <th></th>\n",
       "      <th>Unnamed: 0</th>\n",
       "      <th>SEXO</th>\n",
       "      <th>ENDERECO.</th>\n",
       "      <th>NUMERO</th>\n",
       "      <th>BAIRRO</th>\n",
       "      <th>CIDADE</th>\n",
       "      <th>ESTADO</th>\n",
       "      <th>CEP</th>\n",
       "      <th>INSCRICAO</th>\n",
       "      <th>CARGO</th>\n",
       "      <th>CÓDIGO</th>\n",
       "      <th>LOCAL DE PROVA</th>\n",
       "      <th>ANO</th>\n",
       "    </tr>\n",
       "  </thead>\n",
       "  <tbody>\n",
       "    <tr>\n",
       "      <th>13264</th>\n",
       "      <td>13264</td>\n",
       "      <td>M</td>\n",
       "      <td>Rua Aveledo</td>\n",
       "      <td>396</td>\n",
       "      <td>APT 904</td>\n",
       "      <td>Messejana</td>\n",
       "      <td>Fortaleza</td>\n",
       "      <td>CE</td>\n",
       "      <td>miamia</td>\n",
       "      <td>01/08/2019 23:19</td>\n",
       "      <td>1-Mestrado/Doutorado</td>\n",
       "      <td>NaN</td>\n",
       "      <td>2019</td>\n",
       "    </tr>\n",
       "  </tbody>\n",
       "</table>\n",
       "</div>"
      ],
      "text/plain": [
       "       Unnamed: 0 SEXO    ENDERECO. NUMERO   BAIRRO     CIDADE     ESTADO CEP  \\\n",
       "13264       13264    M  Rua Aveledo    396  APT 904  Messejana  Fortaleza  CE   \n",
       "\n",
       "      INSCRICAO             CARGO                CÓDIGO LOCAL DE PROVA   ANO  \n",
       "13264    miamia  01/08/2019 23:19  1-Mestrado/Doutorado            NaN  2019  "
      ]
     },
     "execution_count": 26,
     "metadata": {},
     "output_type": "execute_result"
    }
   ],
   "source": [
    "dados_homologacao[dados_homologacao['CARGO'] == '01/08/2019 23:19']"
   ]
  },
  {
   "cell_type": "code",
   "execution_count": 16,
   "id": "e964c187-8cd6-4d9e-8285-af0464dc83be",
   "metadata": {},
   "outputs": [
    {
     "data": {
      "image/png": "[encoded data removed]",
      "text/plain": [
       "<Figure size 432x288 with 1 Axes>"
      ]
     },
     "metadata": {
      "needs_background": "light"
     },
     "output_type": "display_data"
    }
   ],
   "source": [
    "plt.hist(x = dados_homologacao['CARGO']);"
   ]
  },
  {
   "cell_type": "code",
   "execution_count": 7,
   "id": "fcf4a52e-1226-4646-8c8e-ee77ce5d548e",
   "metadata": {},
   "outputs": [
    {
     "data": {
      "application/vnd.plotly.v1+json": {
       "config": {
        "plotlyServerURL": "https://plot.ly"
       },
       "data": [
        {
         "branchvalues": "total",
         "domain": {
          "x": [
           0,
           1
          ],
          "y": [
           0,
           1
          ]
         },
         "hovertemplate": "labels=%{label}<br>count=%{value}<br>parent=%{parent}<br>id=%{id}<extra></extra>",
         "ids": [
          "AC",
          "AL",
          "AM",
          "AP",
          "BA",
          "CE",
          "DF",
          "ES",
          "Fortaleza",
          "GO",
          "MA",
          "MG",
          "MS",
          "MT",
          "Nova Iguaçu",
          "OU",
          "PA",
          "PB",
          "PE",
          "PI",
          "PR",
          "RJ",
          "RN",
          "RO",
          "RR",
          "RS",
          "SC",
          "SE",
          "SP",
          "TO"
         ],
         "labels": [
          "AC",
          "AL",
          "AM",
          "AP",
          "BA",
          "CE",
          "DF",
          "ES",
          "Fortaleza",
          "GO",
          "MA",
          "MG",
          "MS",
          "MT",
          "Nova Iguaçu",
          "OU",
          "PA",
          "PB",
          "PE",
          "PI",
          "PR",
          "RJ",
          "RN",
          "RO",
          "RR",
          "RS",
          "SC",
          "SE",
          "SP",
          "TO"
         ],
         "name": "",
         "parents": [
          "",
          "",
          "",
          "",
          "",
          "",
          "",
          "",
          "",
          "",
          "",
          "",
          "",
          "",
          "",
          "",
          "",
          "",
          "",
          "",
          "",
          "",
          "",
          "",
          "",
          "",
          "",
          "",
          "",
          ""
         ],
         "type": "treemap",
         "values": [
          7,
          228,
          107,
          16,
          171,
          746,
          95,
          467,
          1,
          566,
          398,
          1702,
          566,
          190,
          1,
          229,
          698,
          741,
          65,
          468,
          1132,
          506,
          209,
          27,
          7,
          1346,
          788,
          138,
          2890,
          70
         ]
        }
       ],
       "layout": {
        "autosize": true,
        "legend": {
         "tracegroupgap": 0
        },
        "margin": {
         "t": 60
        },
        "template": {
         "data": {
          "bar": [
           {
            "error_x": {
             "color": "#2a3f5f"
            },
            "error_y": {
             "color": "#2a3f5f"
            },
            "marker": {
             "line": {
              "color": "#E5ECF6",
              "width": 0.5
             },
             "pattern": {
              "fillmode": "overlay",
              "size": 10,
              "solidity": 0.2
             }
            },
            "type": "bar"
           }
          ],
          "barpolar": [
           {
            "marker": {
             "line": {
              "color": "#E5ECF6",
              "width": 0.5
             },
             "pattern": {
              "fillmode": "overlay",
              "size": 10,
              "solidity": 0.2
             }
            },
            "type": "barpolar"
           }
          ],
          "carpet": [
           {
            "aaxis": {
             "endlinecolor": "#2a3f5f",
             "gridcolor": "white",
             "linecolor": "white",
             "minorgridcolor": "white",
             "startlinecolor": "#2a3f5f"
            },
            "baxis": {
             "endlinecolor": "#2a3f5f",
             "gridcolor": "white",
             "linecolor": "white",
             "minorgridcolor": "white",
             "startlinecolor": "#2a3f5f"
            },
            "type": "carpet"
           }
          ],
          "choropleth": [
           {
            "colorbar": {
             "outlinewidth": 0,
             "ticks": ""
            },
            "type": "choropleth"
           }
          ],
          "contour": [
           {
            "colorbar": {
             "outlinewidth": 0,
             "ticks": ""
            },
            "colorscale": [
             [
              0,
              "#0d0887"
             ],
             [
              0.1111111111111111,
              "#46039f"
             ],
             [
              0.2222222222222222,
              "#7201a8"
             ],
             [
              0.3333333333333333,
              "#9c179e"
             ],
             [
              0.4444444444444444,
              "#bd3786"
             ],
             [
              0.5555555555555556,
              "#d8576b"
             ],
             [
              0.6666666666666666,
              "#ed7953"
             ],
             [
              0.7777777777777778,
              "#fb9f3a"
             ],
             [
              0.8888888888888888,
              "#fdca26"
             ],
             [
              1,
              "#f0f921"
             ]
            ],
            "type": "contour"
           }
          ],
          "contourcarpet": [
           {
            "colorbar": {
             "outlinewidth": 0,
             "ticks": ""
            },
            "type": "contourcarpet"
           }
          ],
          "heatmap": [
           {
            "colorbar": {
             "outlinewidth": 0,
             "ticks": ""
            },
            "colorscale": [
             [
              0,
              "#0d0887"
             ],
             [
              0.1111111111111111,
              "#46039f"
             ],
             [
              0.2222222222222222,
              "#7201a8"
             ],
             [
              0.3333333333333333,
              "#9c179e"
             ],
             [
              0.4444444444444444,
              "#bd3786"
             ],
             [
              0.5555555555555556,
              "#d8576b"
             ],
             [
              0.6666666666666666,
              "#ed7953"
             ],
             [
              0.7777777777777778,
              "#fb9f3a"
             ],
             [
              0.8888888888888888,
              "#fdca26"
             ],
             [
              1,
              "#f0f921"
             ]
            ],
            "type": "heatmap"
           }
          ],
          "heatmapgl": [
           {
            "colorbar": {
             "outlinewidth": 0,
             "ticks": ""
            },
            "colorscale": [
             [
              0,
              "#0d0887"
             ],
             [
              0.1111111111111111,
              "#46039f"
             ],
             [
              0.2222222222222222,
              "#7201a8"
             ],
             [
              0.3333333333333333,
              "#9c179e"
             ],
             [
              0.4444444444444444,
              "#bd3786"
             ],
             [
              0.5555555555555556,
              "#d8576b"
             ],
             [
              0.6666666666666666,
              "#ed7953"
             ],
             [
              0.7777777777777778,
              "#fb9f3a"
             ],
             [
              0.8888888888888888,
              "#fdca26"
             ],
             [
              1,
              "#f0f921"
             ]
            ],
            "type": "heatmapgl"
           }
          ],
          "histogram": [
           {
            "marker": {
             "pattern": {
              "fillmode": "overlay",
              "size": 10,
              "solidity": 0.2
             }
            },
            "type": "histogram"
           }
          ],
          "histogram2d": [
           {
            "colorbar": {
             "outlinewidth": 0,
             "ticks": ""
            },
            "colorscale": [
             [
              0,
              "#0d0887"
             ],
             [
              0.1111111111111111,
              "#46039f"
             ],
             [
              0.2222222222222222,
              "#7201a8"
             ],
             [
              0.3333333333333333,
              "#9c179e"
             ],
             [
              0.4444444444444444,
              "#bd3786"
             ],
             [
              0.5555555555555556,
              "#d8576b"
             ],
             [
              0.6666666666666666,
              "#ed7953"
             ],
             [
              0.7777777777777778,
              "#fb9f3a"
             ],
             [
              0.8888888888888888,
              "#fdca26"
             ],
             [
              1,
              "#f0f921"
             ]
            ],
            "type": "histogram2d"
           }
          ],
          "histogram2dcontour": [
           {
            "colorbar": {
             "outlinewidth": 0,
             "ticks": ""
            },
            "colorscale": [
             [
              0,
              "#0d0887"
             ],
             [
              0.1111111111111111,
              "#46039f"
             ],
             [
              0.2222222222222222,
              "#7201a8"
             ],
             [
              0.3333333333333333,
              "#9c179e"
             ],
             [
              0.4444444444444444,
              "#bd3786"
             ],
             [
              0.5555555555555556,
              "#d8576b"
             ],
             [
              0.6666666666666666,
              "#ed7953"
             ],
             [
              0.7777777777777778,
              "#fb9f3a"
             ],
             [
              0.8888888888888888,
              "#fdca26"
             ],
             [
              1,
              "#f0f921"
             ]
            ],
            "type": "histogram2dcontour"
           }
          ],
          "mesh3d": [
           {
            "colorbar": {
             "outlinewidth": 0,
             "ticks": ""
            },
            "type": "mesh3d"
           }
          ],
          "parcoords": [
           {
            "line": {
             "colorbar": {
              "outlinewidth": 0,
              "ticks": ""
             }
            },
            "type": "parcoords"
           }
          ],
          "pie": [
           {
            "automargin": true,
            "type": "pie"
           }
          ],
          "scatter": [
           {
            "fillpattern": {
             "fillmode": "overlay",
             "size": 10,
             "solidity": 0.2
            },
            "type": "scatter"
           }
          ],
          "scatter3d": [
           {
            "line": {
             "colorbar": {
              "outlinewidth": 0,
              "ticks": ""
             }
            },
            "marker": {
             "colorbar": {
              "outlinewidth": 0,
              "ticks": ""
             }
            },
            "type": "scatter3d"
           }
          ],
          "scattercarpet": [
           {
            "marker": {
             "colorbar": {
              "outlinewidth": 0,
              "ticks": ""
             }
            },
            "type": "scattercarpet"
           }
          ],
          "scattergeo": [
           {
            "marker": {
             "colorbar": {
              "outlinewidth": 0,
              "ticks": ""
             }
            },
            "type": "scattergeo"
           }
          ],
          "scattergl": [
           {
            "marker": {
             "colorbar": {
              "outlinewidth": 0,
              "ticks": ""
             }
            },
            "type": "scattergl"
           }
          ],
          "scattermapbox": [
           {
            "marker": {
             "colorbar": {
              "outlinewidth": 0,
              "ticks": ""
             }
            },
            "type": "scattermapbox"
           }
          ],
          "scatterpolar": [
           {
            "marker": {
             "colorbar": {
              "outlinewidth": 0,
              "ticks": ""
             }
            },
            "type": "scatterpolar"
           }
          ],
          "scatterpolargl": [
           {
            "marker": {
             "colorbar": {
              "outlinewidth": 0,
              "ticks": ""
             }
            },
            "type": "scatterpolargl"
           }
          ],
          "scatterternary": [
           {
            "marker": {
             "colorbar": {
              "outlinewidth": 0,
              "ticks": ""
             }
            },
            "type": "scatterternary"
           }
          ],
          "surface": [
           {
            "colorbar": {
             "outlinewidth": 0,
             "ticks": ""
            },
            "colorscale": [
             [
              0,
              "#0d0887"
             ],
             [
              0.1111111111111111,
              "#46039f"
             ],
             [
              0.2222222222222222,
              "#7201a8"
             ],
             [
              0.3333333333333333,
              "#9c179e"
             ],
             [
              0.4444444444444444,
              "#bd3786"
             ],
             [
              0.5555555555555556,
              "#d8576b"
             ],
             [
              0.6666666666666666,
              "#ed7953"
             ],
             [
              0.7777777777777778,
              "#fb9f3a"
             ],
             [
              0.8888888888888888,
              "#fdca26"
             ],
             [
              1,
              "#f0f921"
             ]
            ],
            "type": "surface"
           }
          ],
          "table": [
           {
            "cells": {
             "fill": {
              "color": "#EBF0F8"
             },
             "line": {
              "color": "white"
             }
            },
            "header": {
             "fill": {
              "color": "#C8D4E3"
             },
             "line": {
              "color": "white"
             }
            },
            "type": "table"
           }
          ]
         },
         "layout": {
          "annotationdefaults": {
           "arrowcolor": "#2a3f5f",
           "arrowhead": 0,
           "arrowwidth": 1
          },
          "autotypenumbers": "strict",
          "coloraxis": {
           "colorbar": {
            "outlinewidth": 0,
            "ticks": ""
           }
          },
          "colorscale": {
           "diverging": [
            [
             0,
             "#8e0152"
            ],
            [
             0.1,
             "#c51b7d"
            ],
            [
             0.2,
             "#de77ae"
            ],
            [
             0.3,
             "#f1b6da"
            ],
            [
             0.4,
             "#fde0ef"
            ],
            [
             0.5,
             "#f7f7f7"
            ],
            [
             0.6,
             "#e6f5d0"
            ],
            [
             0.7,
             "#b8e186"
            ],
            [
             0.8,
             "#7fbc41"
            ],
            [
             0.9,
             "#4d9221"
            ],
            [
             1,
             "#276419"
            ]
           ],
           "sequential": [
            [
             0,
             "#0d0887"
            ],
            [
             0.1111111111111111,
             "#46039f"
            ],
            [
             0.2222222222222222,
             "#7201a8"
            ],
            [
             0.3333333333333333,
             "#9c179e"
            ],
            [
             0.4444444444444444,
             "#bd3786"
            ],
            [
             0.5555555555555556,
             "#d8576b"
            ],
            [
             0.6666666666666666,
             "#ed7953"
            ],
            [
             0.7777777777777778,
             "#fb9f3a"
            ],
            [
             0.8888888888888888,
             "#fdca26"
            ],
            [
             1,
             "#f0f921"
            ]
           ],
           "sequentialminus": [
            [
             0,
             "#0d0887"
            ],
            [
             0.1111111111111111,
             "#46039f"
            ],
            [
             0.2222222222222222,
             "#7201a8"
            ],
            [
             0.3333333333333333,
             "#9c179e"
            ],
            [
             0.4444444444444444,
             "#bd3786"
            ],
            [
             0.5555555555555556,
             "#d8576b"
            ],
            [
             0.6666666666666666,
             "#ed7953"
            ],
            [
             0.7777777777777778,
             "#fb9f3a"
            ],
            [
             0.8888888888888888,
             "#fdca26"
            ],
            [
             1,
             "#f0f921"
            ]
           ]
          },
          "colorway": [
           "#636efa",
           "#EF553B",
           "#00cc96",
           "#ab63fa",
           "#FFA15A",
           "#19d3f3",
           "#FF6692",
           "#B6E880",
           "#FF97FF",
           "#FECB52"
          ],
          "font": {
           "color": "#2a3f5f"
          },
          "geo": {
           "bgcolor": "white",
           "lakecolor": "white",
           "landcolor": "#E5ECF6",
           "showlakes": true,
           "showland": true,
           "subunitcolor": "white"
          },
          "hoverlabel": {
           "align": "left"
          },
          "hovermode": "closest",
          "mapbox": {
           "style": "light"
          },
          "paper_bgcolor": "white",
          "plot_bgcolor": "#E5ECF6",
          "polar": {
           "angularaxis": {
            "gridcolor": "white",
            "linecolor": "white",
            "ticks": ""
           },
           "bgcolor": "#E5ECF6",
           "radialaxis": {
            "gridcolor": "white",
            "linecolor": "white",
            "ticks": ""
           }
          },
          "scene": {
           "xaxis": {
            "backgroundcolor": "#E5ECF6",
            "gridcolor": "white",
            "gridwidth": 2,
            "linecolor": "white",
            "showbackground": true,
            "ticks": "",
            "zerolinecolor": "white"
           },
           "yaxis": {
            "backgroundcolor": "#E5ECF6",
            "gridcolor": "white",
            "gridwidth": 2,
            "linecolor": "white",
            "showbackground": true,
            "ticks": "",
            "zerolinecolor": "white"
           },
           "zaxis": {
            "backgroundcolor": "#E5ECF6",
            "gridcolor": "white",
            "gridwidth": 2,
            "linecolor": "white",
            "showbackground": true,
            "ticks": "",
            "zerolinecolor": "white"
           }
          },
          "shapedefaults": {
           "line": {
            "color": "#2a3f5f"
           }
          },
          "ternary": {
           "aaxis": {
            "gridcolor": "white",
            "linecolor": "white",
            "ticks": ""
           },
           "baxis": {
            "gridcolor": "white",
            "linecolor": "white",
            "ticks": ""
           },
           "bgcolor": "#E5ECF6",
           "caxis": {
            "gridcolor": "white",
            "linecolor": "white",
            "ticks": ""
           }
          },
          "title": {
           "x": 0.05
          },
          "xaxis": {
           "automargin": true,
           "gridcolor": "white",
           "linecolor": "white",
           "ticks": "",
           "title": {
            "standoff": 15
           },
           "zerolinecolor": "white",
           "zerolinewidth": 2
          },
          "yaxis": {
           "automargin": true,
           "gridcolor": "white",
           "linecolor": "white",
           "ticks": "",
           "title": {
            "standoff": 15
           },
           "zerolinecolor": "white",
           "zerolinewidth": 2
          }
         }
        }
       }
      },
      "image/png": "[encoded data removed]",
      "text/html": [
       "<div>                            <div id=\"8bd85037-3fce-43bf-9e96-fd11a4a3cbe8\" class=\"plotly-graph-div\" style=\"height:525px; width:100%;\"></div>            <script type=\"text/javascript\">                require([\"plotly\"], function(Plotly) {                    window.PLOTLYENV=window.PLOTLYENV || {};                                    if (document.getElementById(\"8bd85037-3fce-43bf-9e96-fd11a4a3cbe8\")) {                    Plotly.newPlot(                        \"8bd85037-3fce-43bf-9e96-fd11a4a3cbe8\",                        [{\"branchvalues\":\"total\",\"domain\":{\"x\":[0.0,1.0],\"y\":[0.0,1.0]},\"hovertemplate\":\"labels=%{label}<br>count=%{value}<br>parent=%{parent}<br>id=%{id}<extra></extra>\",\"ids\":[\"AC\",\"AL\",\"AM\",\"AP\",\"BA\",\"CE\",\"DF\",\"ES\",\"Fortaleza\",\"GO\",\"MA\",\"MG\",\"MS\",\"MT\",\"Nova Igua\\u00e7u\",\"OU\",\"PA\",\"PB\",\"PE\",\"PI\",\"PR\",\"RJ\",\"RN\",\"RO\",\"RR\",\"RS\",\"SC\",\"SE\",\"SP\",\"TO\"],\"labels\":[\"AC\",\"AL\",\"AM\",\"AP\",\"BA\",\"CE\",\"DF\",\"ES\",\"Fortaleza\",\"GO\",\"MA\",\"MG\",\"MS\",\"MT\",\"Nova Igua\\u00e7u\",\"OU\",\"PA\",\"PB\",\"PE\",\"PI\",\"PR\",\"RJ\",\"RN\",\"RO\",\"RR\",\"RS\",\"SC\",\"SE\",\"SP\",\"TO\"],\"name\":\"\",\"parents\":[\"\",\"\",\"\",\"\",\"\",\"\",\"\",\"\",\"\",\"\",\"\",\"\",\"\",\"\",\"\",\"\",\"\",\"\",\"\",\"\",\"\",\"\",\"\",\"\",\"\",\"\",\"\",\"\",\"\",\"\"],\"values\":[7,228,107,16,171,746,95,467,1,566,398,1702,566,190,1,229,698,741,65,468,1132,506,209,27,7,1346,788,138,2890,70],\"type\":\"treemap\"}],                        {\"template\":{\"data\":{\"histogram2dcontour\":[{\"type\":\"histogram2dcontour\",\"colorbar\":{\"outlinewidth\":0,\"ticks\":\"\"},\"colorscale\":[[0.0,\"#0d0887\"],[0.1111111111111111,\"#46039f\"],[0.2222222222222222,\"#7201a8\"],[0.3333333333333333,\"#9c179e\"],[0.4444444444444444,\"#bd3786\"],[0.5555555555555556,\"#d8576b\"],[0.6666666666666666,\"#ed7953\"],[0.7777777777777778,\"#fb9f3a\"],[0.8888888888888888,\"#fdca26\"],[1.0,\"#f0f921\"]]}],\"choropleth\":[{\"type\":\"choropleth\",\"colorbar\":{\"outlinewidth\":0,\"ticks\":\"\"}}],\"histogram2d\":[{\"type\":\"histogram2d\",\"colorbar\":{\"outlinewidth\":0,\"ticks\":\"\"},\"colorscale\":[[0.0,\"#0d0887\"],[0.1111111111111111,\"#46039f\"],[0.2222222222222222,\"#7201a8\"],[0.3333333333333333,\"#9c179e\"],[0.4444444444444444,\"#bd3786\"],[0.5555555555555556,\"#d8576b\"],[0.6666666666666666,\"#ed7953\"],[0.7777777777777778,\"#fb9f3a\"],[0.8888888888888888,\"#fdca26\"],[1.0,\"#f0f921\"]]}],\"heatmap\":[{\"type\":\"heatmap\",\"colorbar\":{\"outlinewidth\":0,\"ticks\":\"\"},\"colorscale\":[[0.0,\"#0d0887\"],[0.1111111111111111,\"#46039f\"],[0.2222222222222222,\"#7201a8\"],[0.3333333333333333,\"#9c179e\"],[0.4444444444444444,\"#bd3786\"],[0.5555555555555556,\"#d8576b\"],[0.6666666666666666,\"#ed7953\"],[0.7777777777777778,\"#fb9f3a\"],[0.8888888888888888,\"#fdca26\"],[1.0,\"#f0f921\"]]}],\"heatmapgl\":[{\"type\":\"heatmapgl\",\"colorbar\":{\"outlinewidth\":0,\"ticks\":\"\"},\"colorscale\":[[0.0,\"#0d0887\"],[0.1111111111111111,\"#46039f\"],[0.2222222222222222,\"#7201a8\"],[0.3333333333333333,\"#9c179e\"],[0.4444444444444444,\"#bd3786\"],[0.5555555555555556,\"#d8576b\"],[0.6666666666666666,\"#ed7953\"],[0.7777777777777778,\"#fb9f3a\"],[0.8888888888888888,\"#fdca26\"],[1.0,\"#f0f921\"]]}],\"contourcarpet\":[{\"type\":\"contourcarpet\",\"colorbar\":{\"outlinewidth\":0,\"ticks\":\"\"}}],\"contour\":[{\"type\":\"contour\",\"colorbar\":{\"outlinewidth\":0,\"ticks\":\"\"},\"colorscale\":[[0.0,\"#0d0887\"],[0.1111111111111111,\"#46039f\"],[0.2222222222222222,\"#7201a8\"],[0.3333333333333333,\"#9c179e\"],[0.4444444444444444,\"#bd3786\"],[0.5555555555555556,\"#d8576b\"],[0.6666666666666666,\"#ed7953\"],[0.7777777777777778,\"#fb9f3a\"],[0.8888888888888888,\"#fdca26\"],[1.0,\"#f0f921\"]]}],\"surface\":[{\"type\":\"surface\",\"colorbar\":{\"outlinewidth\":0,\"ticks\":\"\"},\"colorscale\":[[0.0,\"#0d0887\"],[0.1111111111111111,\"#46039f\"],[0.2222222222222222,\"#7201a8\"],[0.3333333333333333,\"#9c179e\"],[0.4444444444444444,\"#bd3786\"],[0.5555555555555556,\"#d8576b\"],[0.6666666666666666,\"#ed7953\"],[0.7777777777777778,\"#fb9f3a\"],[0.8888888888888888,\"#fdca26\"],[1.0,\"#f0f921\"]]}],\"mesh3d\":[{\"type\":\"mesh3d\",\"colorbar\":{\"outlinewidth\":0,\"ticks\":\"\"}}],\"scatter\":[{\"fillpattern\":{\"fillmode\":\"overlay\",\"size\":10,\"solidity\":0.2},\"type\":\"scatter\"}],\"parcoords\":[{\"type\":\"parcoords\",\"line\":{\"colorbar\":{\"outlinewidth\":0,\"ticks\":\"\"}}}],\"scatterpolargl\":[{\"type\":\"scatterpolargl\",\"marker\":{\"colorbar\":{\"outlinewidth\":0,\"ticks\":\"\"}}}],\"bar\":[{\"error_x\":{\"color\":\"#2a3f5f\"},\"error_y\":{\"color\":\"#2a3f5f\"},\"marker\":{\"line\":{\"color\":\"#E5ECF6\",\"width\":0.5},\"pattern\":{\"fillmode\":\"overlay\",\"size\":10,\"solidity\":0.2}},\"type\":\"bar\"}],\"scattergeo\":[{\"type\":\"scattergeo\",\"marker\":{\"colorbar\":{\"outlinewidth\":0,\"ticks\":\"\"}}}],\"scatterpolar\":[{\"type\":\"scatterpolar\",\"marker\":{\"colorbar\":{\"outlinewidth\":0,\"ticks\":\"\"}}}],\"histogram\":[{\"marker\":{\"pattern\":{\"fillmode\":\"overlay\",\"size\":10,\"solidity\":0.2}},\"type\":\"histogram\"}],\"scattergl\":[{\"type\":\"scattergl\",\"marker\":{\"colorbar\":{\"outlinewidth\":0,\"ticks\":\"\"}}}],\"scatter3d\":[{\"type\":\"scatter3d\",\"line\":{\"colorbar\":{\"outlinewidth\":0,\"ticks\":\"\"}},\"marker\":{\"colorbar\":{\"outlinewidth\":0,\"ticks\":\"\"}}}],\"scattermapbox\":[{\"type\":\"scattermapbox\",\"marker\":{\"colorbar\":{\"outlinewidth\":0,\"ticks\":\"\"}}}],\"scatterternary\":[{\"type\":\"scatterternary\",\"marker\":{\"colorbar\":{\"outlinewidth\":0,\"ticks\":\"\"}}}],\"scattercarpet\":[{\"type\":\"scattercarpet\",\"marker\":{\"colorbar\":{\"outlinewidth\":0,\"ticks\":\"\"}}}],\"carpet\":[{\"aaxis\":{\"endlinecolor\":\"#2a3f5f\",\"gridcolor\":\"white\",\"linecolor\":\"white\",\"minorgridcolor\":\"white\",\"startlinecolor\":\"#2a3f5f\"},\"baxis\":{\"endlinecolor\":\"#2a3f5f\",\"gridcolor\":\"white\",\"linecolor\":\"white\",\"minorgridcolor\":\"white\",\"startlinecolor\":\"#2a3f5f\"},\"type\":\"carpet\"}],\"table\":[{\"cells\":{\"fill\":{\"color\":\"#EBF0F8\"},\"line\":{\"color\":\"white\"}},\"header\":{\"fill\":{\"color\":\"#C8D4E3\"},\"line\":{\"color\":\"white\"}},\"type\":\"table\"}],\"barpolar\":[{\"marker\":{\"line\":{\"color\":\"#E5ECF6\",\"width\":0.5},\"pattern\":{\"fillmode\":\"overlay\",\"size\":10,\"solidity\":0.2}},\"type\":\"barpolar\"}],\"pie\":[{\"automargin\":true,\"type\":\"pie\"}]},\"layout\":{\"autotypenumbers\":\"strict\",\"colorway\":[\"#636efa\",\"#EF553B\",\"#00cc96\",\"#ab63fa\",\"#FFA15A\",\"#19d3f3\",\"#FF6692\",\"#B6E880\",\"#FF97FF\",\"#FECB52\"],\"font\":{\"color\":\"#2a3f5f\"},\"hovermode\":\"closest\",\"hoverlabel\":{\"align\":\"left\"},\"paper_bgcolor\":\"white\",\"plot_bgcolor\":\"#E5ECF6\",\"polar\":{\"bgcolor\":\"#E5ECF6\",\"angularaxis\":{\"gridcolor\":\"white\",\"linecolor\":\"white\",\"ticks\":\"\"},\"radialaxis\":{\"gridcolor\":\"white\",\"linecolor\":\"white\",\"ticks\":\"\"}},\"ternary\":{\"bgcolor\":\"#E5ECF6\",\"aaxis\":{\"gridcolor\":\"white\",\"linecolor\":\"white\",\"ticks\":\"\"},\"baxis\":{\"gridcolor\":\"white\",\"linecolor\":\"white\",\"ticks\":\"\"},\"caxis\":{\"gridcolor\":\"white\",\"linecolor\":\"white\",\"ticks\":\"\"}},\"coloraxis\":{\"colorbar\":{\"outlinewidth\":0,\"ticks\":\"\"}},\"colorscale\":{\"sequential\":[[0.0,\"#0d0887\"],[0.1111111111111111,\"#46039f\"],[0.2222222222222222,\"#7201a8\"],[0.3333333333333333,\"#9c179e\"],[0.4444444444444444,\"#bd3786\"],[0.5555555555555556,\"#d8576b\"],[0.6666666666666666,\"#ed7953\"],[0.7777777777777778,\"#fb9f3a\"],[0.8888888888888888,\"#fdca26\"],[1.0,\"#f0f921\"]],\"sequentialminus\":[[0.0,\"#0d0887\"],[0.1111111111111111,\"#46039f\"],[0.2222222222222222,\"#7201a8\"],[0.3333333333333333,\"#9c179e\"],[0.4444444444444444,\"#bd3786\"],[0.5555555555555556,\"#d8576b\"],[0.6666666666666666,\"#ed7953\"],[0.7777777777777778,\"#fb9f3a\"],[0.8888888888888888,\"#fdca26\"],[1.0,\"#f0f921\"]],\"diverging\":[[0,\"#8e0152\"],[0.1,\"#c51b7d\"],[0.2,\"#de77ae\"],[0.3,\"#f1b6da\"],[0.4,\"#fde0ef\"],[0.5,\"#f7f7f7\"],[0.6,\"#e6f5d0\"],[0.7,\"#b8e186\"],[0.8,\"#7fbc41\"],[0.9,\"#4d9221\"],[1,\"#276419\"]]},\"xaxis\":{\"gridcolor\":\"white\",\"linecolor\":\"white\",\"ticks\":\"\",\"title\":{\"standoff\":15},\"zerolinecolor\":\"white\",\"automargin\":true,\"zerolinewidth\":2},\"yaxis\":{\"gridcolor\":\"white\",\"linecolor\":\"white\",\"ticks\":\"\",\"title\":{\"standoff\":15},\"zerolinecolor\":\"white\",\"automargin\":true,\"zerolinewidth\":2},\"scene\":{\"xaxis\":{\"backgroundcolor\":\"#E5ECF6\",\"gridcolor\":\"white\",\"linecolor\":\"white\",\"showbackground\":true,\"ticks\":\"\",\"zerolinecolor\":\"white\",\"gridwidth\":2},\"yaxis\":{\"backgroundcolor\":\"#E5ECF6\",\"gridcolor\":\"white\",\"linecolor\":\"white\",\"showbackground\":true,\"ticks\":\"\",\"zerolinecolor\":\"white\",\"gridwidth\":2},\"zaxis\":{\"backgroundcolor\":\"#E5ECF6\",\"gridcolor\":\"white\",\"linecolor\":\"white\",\"showbackground\":true,\"ticks\":\"\",\"zerolinecolor\":\"white\",\"gridwidth\":2}},\"shapedefaults\":{\"line\":{\"color\":\"#2a3f5f\"}},\"annotationdefaults\":{\"arrowcolor\":\"#2a3f5f\",\"arrowhead\":0,\"arrowwidth\":1},\"geo\":{\"bgcolor\":\"white\",\"landcolor\":\"#E5ECF6\",\"subunitcolor\":\"white\",\"showland\":true,\"showlakes\":true,\"lakecolor\":\"white\"},\"title\":{\"x\":0.05},\"mapbox\":{\"style\":\"light\"}}},\"legend\":{\"tracegroupgap\":0},\"margin\":{\"t\":60}},                        {\"responsive\": true}                    ).then(function(){\n",
       "                            \n",
       "var gd = document.getElementById('8bd85037-3fce-43bf-9e96-fd11a4a3cbe8');\n",
       "var x = new MutationObserver(function (mutations, observer) {{\n",
       "        var display = window.getComputedStyle(gd).display;\n",
       "        if (!display || display === 'none') {{\n",
       "            console.log([gd, 'removed!']);\n",
       "            Plotly.purge(gd);\n",
       "            observer.disconnect();\n",
       "        }}\n",
       "}});\n",
       "\n",
       "// Listen for the removal of the full notebook cells\n",
       "var notebookContainer = gd.closest('#notebook-container');\n",
       "if (notebookContainer) {{\n",
       "    x.observe(notebookContainer, {childList: true});\n",
       "}}\n",
       "\n",
       "// Listen for the clearing of the current output cell\n",
       "var outputEl = gd.closest('.output');\n",
       "if (outputEl) {{\n",
       "    x.observe(outputEl, {childList: true});\n",
       "}}\n",
       "\n",
       "                        })                };                });            </script>        </div>"
      ]
     },
     "metadata": {},
     "output_type": "display_data"
    }
   ],
   "source": [
    "grafico_estado = px.treemap(dados_homologacao, path=['ESTADO'])\n",
    "grafico_estado.show()"
   ]
  }
 ],
 "metadata": {
  "kernelspec": {
   "display_name": "Python 3 (ipykernel)",
   "language": "python",
   "name": "python3"
  },
  "language_info": {
   "codemirror_mode": {
    "name": "ipython",
    "version": 3
   },
   "file_extension": ".py",
   "mimetype": "text/x-python",
   "name": "python",
   "nbconvert_exporter": "python",
   "pygments_lexer": "ipython3",
   "version": "3.10.5"
  }
 },
 "nbformat": 4,
 "nbformat_minor": 5
}
