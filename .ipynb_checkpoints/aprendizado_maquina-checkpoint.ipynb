{
 "cells": [
  {
   "cell_type": "markdown",
   "id": "0b6e3b52-5850-4d30-808e-cc286e6e6e36",
   "metadata": {},
   "source": [
    "# Aplicações de Algoritmos de aprendizado de máquina"
   ]
  },
  {
   "cell_type": "code",
   "execution_count": 1,
   "id": "9c12e0a4-0e80-478d-9e49-e05192cf22fb",
   "metadata": {
    "tags": []
   },
   "outputs": [
    {
     "ename": "ModuleNotFoundError",
     "evalue": "No module named 'pandas'",
     "output_type": "error",
     "traceback": [
      "\u001b[1;31m---------------------------------------------------------------------------\u001b[0m",
      "\u001b[1;31mModuleNotFoundError\u001b[0m                       Traceback (most recent call last)",
      "Cell \u001b[1;32mIn[1], line 1\u001b[0m\n\u001b[1;32m----> 1\u001b[0m \u001b[38;5;28;01mimport\u001b[39;00m \u001b[38;5;21;01mpandas\u001b[39;00m \u001b[38;5;28;01mas\u001b[39;00m \u001b[38;5;21;01mpd\u001b[39;00m\n\u001b[0;32m      2\u001b[0m \u001b[38;5;28;01mimport\u001b[39;00m \u001b[38;5;21;01mnumpy\u001b[39;00m \u001b[38;5;28;01mas\u001b[39;00m \u001b[38;5;21;01mnp\u001b[39;00m\n\u001b[0;32m      3\u001b[0m \u001b[38;5;28;01mimport\u001b[39;00m \u001b[38;5;21;01mmatplotlib\u001b[39;00m\u001b[38;5;21;01m.\u001b[39;00m\u001b[38;5;21;01mpyplot\u001b[39;00m \u001b[38;5;28;01mas\u001b[39;00m \u001b[38;5;21;01mplt\u001b[39;00m\n",
      "\u001b[1;31mModuleNotFoundError\u001b[0m: No module named 'pandas'"
     ]
    }
   ],
   "source": [
    "import pandas as pd\n",
    "import numpy as np\n",
    "import matplotlib.pyplot as plt\n",
    "import seaborn as sns\n",
    "import warnings\n",
    "from sklearn.preprocessing import StandardScaler, LabelEncoder\n",
    "from sklearn.cluster import KMeans\n",
    "from sklearn.tree import DecisionTreeClassifier, export_graphviz\n",
    "from sklearn.metrics import (\n",
    "    f1_score, precision_score, recall_score, accuracy_score, classification_report,\n",
    "    confusion_matrix, roc_auc_score, roc_curve, precision_recall_curve\n",
    ")\n",
    "from sklearn.model_selection import train_test_split, StratifiedKFold, GridSearchCV, RandomizedSearchCV, KFold, cross_val_score\n",
    "from sklearn import tree\n",
    "from sklearn.neural_network import MLPClassifier\n",
    "from sklearn.ensemble import RandomForestClassifier\n",
    "from sklearn.svm import SVC\n",
    "from sklearn.neighbors import KNeighborsClassifier\n",
    "import services.function as sf\n",
    "\n",
    "warnings.filterwarnings('ignore')\n"
   ]
  },
  {
   "cell_type": "code",
   "execution_count": 3,
   "id": "c4dd3968-ecee-45d0-9d7e-5ec61d73cf1d",
   "metadata": {
    "tags": []
   },
   "outputs": [],
   "source": [
    "dataset = pd.read_csv('dados/df_poscomp.csv')"
   ]
  },
  {
   "cell_type": "code",
   "execution_count": 4,
   "id": "499ac9ee-ca00-4716-9c13-bd47839a3250",
   "metadata": {
    "tags": []
   },
   "outputs": [],
   "source": [
    "X_dataset = dataset.loc[:,['IDADE','SEXO','REGIAO','ESTADO','matematica', 'fund_computacao','tec_computacao','area_concentration']]"
   ]
  },
  {
   "cell_type": "code",
   "execution_count": 5,
   "id": "3ed6f40b-fd86-4f10-8369-a0620b423511",
   "metadata": {},
   "outputs": [],
   "source": [
    "X_dataset['area_concentration'] = dataset.area_concentration\n",
    "X_dataset['area_concentration'] = X_dataset['area_concentration'].astype('category')"
   ]
  },
  {
   "cell_type": "code",
   "execution_count": 6,
   "id": "b80e4b51-ae86-4083-8086-d7989060a4c2",
   "metadata": {},
   "outputs": [],
   "source": [
    "# colunas_a_padronizar = ['matematica', 'fund_computacao', 'tec_computacao']\n",
    "# scaler = StandardScaler()\n",
    "# X_dataset[colunas_a_padronizar] = scaler.fit_transform(X_dataset[colunas_a_padronizar])"
   ]
  },
  {
   "cell_type": "code",
   "execution_count": 7,
   "id": "fc515f69-4e5e-43f1-b601-a6a84612d324",
   "metadata": {},
   "outputs": [],
   "source": [
    "def encode_categorical_columns(df, columns):\n",
    "    le = LabelEncoder()\n",
    "    for col in columns:\n",
    "        df[col] = le.fit_transform(df[col])\n",
    "    return df\n",
    "\n",
    "categorical_columns = [\"area_concentration\",'SEXO','REGIAO','ESTADO']\n",
    "X_dataset = encode_categorical_columns(X_dataset, categorical_columns)\n"
   ]
  },
  {
   "cell_type": "code",
   "execution_count": 8,
   "id": "95c8e5c0-7bd4-41d4-bd71-2b2d07226f2c",
   "metadata": {},
   "outputs": [
    {
     "data": {
      "text/html": [
       "<div>\n",
       "<style scoped>\n",
       "    .dataframe tbody tr th:only-of-type {\n",
       "        vertical-align: middle;\n",
       "    }\n",
       "\n",
       "    .dataframe tbody tr th {\n",
       "        vertical-align: top;\n",
       "    }\n",
       "\n",
       "    .dataframe thead th {\n",
       "        text-align: right;\n",
       "    }\n",
       "</style>\n",
       "<table border=\"1\" class=\"dataframe\">\n",
       "  <thead>\n",
       "    <tr style=\"text-align: right;\">\n",
       "      <th></th>\n",
       "      <th>IDADE</th>\n",
       "      <th>SEXO</th>\n",
       "      <th>REGIAO</th>\n",
       "      <th>ESTADO</th>\n",
       "      <th>matematica</th>\n",
       "      <th>fund_computacao</th>\n",
       "      <th>tec_computacao</th>\n",
       "      <th>area_concentration</th>\n",
       "    </tr>\n",
       "  </thead>\n",
       "  <tbody>\n",
       "    <tr>\n",
       "      <th>0</th>\n",
       "      <td>27</td>\n",
       "      <td>1</td>\n",
       "      <td>1</td>\n",
       "      <td>5</td>\n",
       "      <td>14.0</td>\n",
       "      <td>21.0</td>\n",
       "      <td>10.0</td>\n",
       "      <td>1</td>\n",
       "    </tr>\n",
       "    <tr>\n",
       "      <th>1</th>\n",
       "      <td>21</td>\n",
       "      <td>1</td>\n",
       "      <td>4</td>\n",
       "      <td>22</td>\n",
       "      <td>16.0</td>\n",
       "      <td>22.0</td>\n",
       "      <td>12.0</td>\n",
       "      <td>1</td>\n",
       "    </tr>\n",
       "    <tr>\n",
       "      <th>2</th>\n",
       "      <td>25</td>\n",
       "      <td>1</td>\n",
       "      <td>3</td>\n",
       "      <td>25</td>\n",
       "      <td>4.0</td>\n",
       "      <td>16.0</td>\n",
       "      <td>8.0</td>\n",
       "      <td>1</td>\n",
       "    </tr>\n",
       "    <tr>\n",
       "      <th>3</th>\n",
       "      <td>30</td>\n",
       "      <td>1</td>\n",
       "      <td>2</td>\n",
       "      <td>13</td>\n",
       "      <td>4.0</td>\n",
       "      <td>13.0</td>\n",
       "      <td>7.0</td>\n",
       "      <td>1</td>\n",
       "    </tr>\n",
       "    <tr>\n",
       "      <th>4</th>\n",
       "      <td>19</td>\n",
       "      <td>0</td>\n",
       "      <td>2</td>\n",
       "      <td>2</td>\n",
       "      <td>6.0</td>\n",
       "      <td>15.0</td>\n",
       "      <td>11.0</td>\n",
       "      <td>0</td>\n",
       "    </tr>\n",
       "    <tr>\n",
       "      <th>...</th>\n",
       "      <td>...</td>\n",
       "      <td>...</td>\n",
       "      <td>...</td>\n",
       "      <td>...</td>\n",
       "      <td>...</td>\n",
       "      <td>...</td>\n",
       "      <td>...</td>\n",
       "      <td>...</td>\n",
       "    </tr>\n",
       "    <tr>\n",
       "      <th>9761</th>\n",
       "      <td>22</td>\n",
       "      <td>0</td>\n",
       "      <td>3</td>\n",
       "      <td>10</td>\n",
       "      <td>14.0</td>\n",
       "      <td>16.0</td>\n",
       "      <td>8.0</td>\n",
       "      <td>0</td>\n",
       "    </tr>\n",
       "    <tr>\n",
       "      <th>9762</th>\n",
       "      <td>48</td>\n",
       "      <td>1</td>\n",
       "      <td>1</td>\n",
       "      <td>14</td>\n",
       "      <td>10.0</td>\n",
       "      <td>16.0</td>\n",
       "      <td>9.0</td>\n",
       "      <td>0</td>\n",
       "    </tr>\n",
       "    <tr>\n",
       "      <th>9763</th>\n",
       "      <td>24</td>\n",
       "      <td>1</td>\n",
       "      <td>3</td>\n",
       "      <td>25</td>\n",
       "      <td>9.0</td>\n",
       "      <td>18.0</td>\n",
       "      <td>8.0</td>\n",
       "      <td>1</td>\n",
       "    </tr>\n",
       "    <tr>\n",
       "      <th>9764</th>\n",
       "      <td>25</td>\n",
       "      <td>1</td>\n",
       "      <td>3</td>\n",
       "      <td>7</td>\n",
       "      <td>10.0</td>\n",
       "      <td>16.0</td>\n",
       "      <td>6.0</td>\n",
       "      <td>0</td>\n",
       "    </tr>\n",
       "    <tr>\n",
       "      <th>9765</th>\n",
       "      <td>24</td>\n",
       "      <td>1</td>\n",
       "      <td>4</td>\n",
       "      <td>22</td>\n",
       "      <td>13.0</td>\n",
       "      <td>17.0</td>\n",
       "      <td>5.0</td>\n",
       "      <td>1</td>\n",
       "    </tr>\n",
       "  </tbody>\n",
       "</table>\n",
       "<p>9766 rows × 8 columns</p>\n",
       "</div>"
      ],
      "text/plain": [
       "      IDADE  SEXO  REGIAO  ESTADO  matematica  fund_computacao  \\\n",
       "0        27     1       1       5        14.0             21.0   \n",
       "1        21     1       4      22        16.0             22.0   \n",
       "2        25     1       3      25         4.0             16.0   \n",
       "3        30     1       2      13         4.0             13.0   \n",
       "4        19     0       2       2         6.0             15.0   \n",
       "...     ...   ...     ...     ...         ...              ...   \n",
       "9761     22     0       3      10        14.0             16.0   \n",
       "9762     48     1       1      14        10.0             16.0   \n",
       "9763     24     1       3      25         9.0             18.0   \n",
       "9764     25     1       3       7        10.0             16.0   \n",
       "9765     24     1       4      22        13.0             17.0   \n",
       "\n",
       "      tec_computacao  area_concentration  \n",
       "0               10.0                   1  \n",
       "1               12.0                   1  \n",
       "2                8.0                   1  \n",
       "3                7.0                   1  \n",
       "4               11.0                   0  \n",
       "...              ...                 ...  \n",
       "9761             8.0                   0  \n",
       "9762             9.0                   0  \n",
       "9763             8.0                   1  \n",
       "9764             6.0                   0  \n",
       "9765             5.0                   1  \n",
       "\n",
       "[9766 rows x 8 columns]"
      ]
     },
     "execution_count": 8,
     "metadata": {},
     "output_type": "execute_result"
    }
   ],
   "source": [
    "X_dataset"
   ]
  },
  {
   "cell_type": "code",
   "execution_count": 9,
   "id": "1f54f1b5-8d95-4c24-a837-c90042f0291e",
   "metadata": {
    "tags": []
   },
   "outputs": [],
   "source": [
    "X = X_dataset.drop(['area_concentration'], axis=1)\n",
    "y = X_dataset['area_concentration']"
   ]
  },
  {
   "cell_type": "markdown",
   "id": "4a3a66fd-0f16-4dbe-8da9-689e75846071",
   "metadata": {
    "tags": []
   },
   "source": [
    "### Dividir a base"
   ]
  },
  {
   "cell_type": "code",
   "execution_count": 10,
   "id": "c25fe3bb-03a3-41b5-8094-7d30bfcfea06",
   "metadata": {
    "tags": []
   },
   "outputs": [],
   "source": [
    "x_train, x_test, y_train, y_test = train_test_split(X, y, test_size=0.3, random_state=42,stratify=y)"
   ]
  },
  {
   "cell_type": "code",
   "execution_count": 11,
   "id": "dbc22457-96b6-4a28-9d4e-a9fe756d4412",
   "metadata": {},
   "outputs": [
    {
     "name": "stdout",
     "output_type": "stream",
     "text": [
      "Shape of x_train :  (6836, 7)\n",
      "Shape of x_test  :  (2930, 7)\n",
      "Shape of y_train :  (6836,)\n",
      "Shape of y_test  :  (2930,)\n"
     ]
    }
   ],
   "source": [
    "print(\"Shape of x_train : \",x_train.shape)\n",
    "print(\"Shape of x_test  : \",x_test.shape)\n",
    "print(\"Shape of y_train : \",y_train.shape)\n",
    "print(\"Shape of y_test  : \",y_test.shape)"
   ]
  },
  {
   "cell_type": "code",
   "execution_count": 12,
   "id": "06aad919-f2ac-473b-8b98-5eafb105a2b6",
   "metadata": {},
   "outputs": [],
   "source": [
    "def print_score(clf, x_train, y_train, x_test, y_test, train=True):\n",
    "    if train:\n",
    "        pred = clf.predict(x_train)\n",
    "        clf_report = pd.DataFrame(classification_report(y_train, pred, output_dict=True))\n",
    "        print(\"Train Result:\\n==========================================================================\")\n",
    "        print(f\"Accuracy Score: {accuracy_score(y_train, pred) * 100:.2f}%\")\n",
    "        print(\"__________________________________________________________________________\")\n",
    "        print(f\"CLASSIFICATION REPORT:\\n{clf_report}\")\n",
    "        print(\"__________________________________________________________________________\")\n",
    "        print(f\"Confusion Matrix: \\n {confusion_matrix(y_train, pred)}\\n\")\n",
    "        \n",
    "    elif train==False:\n",
    "        pred = clf.predict(x_test)\n",
    "        clf_report = pd.DataFrame(classification_report(y_test, pred, output_dict=True))\n",
    "        print(\"Test Result:\\n==========================================================================\")        \n",
    "        print(f\"Accuracy Score: {accuracy_score(y_test, pred) * 100:.2f}%\")\n",
    "        print(\"__________________________________________________________________________\")\n",
    "        print(f\"CLASSIFICATION REPORT:\\n{clf_report}\")\n",
    "        print(\"__________________________________________________________________________\")\n",
    "        print(f\"Confusion Matrix: \\n {confusion_matrix(y_test, pred)}\\n\")"
   ]
  },
  {
   "cell_type": "markdown",
   "id": "c465ab7e-ab91-4f38-b8b9-a5532bdd0d1b",
   "metadata": {
    "jp-MarkdownHeadingCollapsed": true,
    "tags": []
   },
   "source": [
    "### Árvore de Decisão"
   ]
  },
  {
   "cell_type": "code",
   "execution_count": null,
   "id": "db0003a8-3c0a-4e1b-9de1-c0db92b736ac",
   "metadata": {
    "tags": []
   },
   "outputs": [],
   "source": [
    "parametros = {'criterion': [\"entropy\", \"log_loss\"],\n",
    "    'splitter': [\"best\", \"random\"],\n",
    "    'max_depth': [4],  # Ou qualquer outro intervalo apropriado\n",
    "    # 'min_samples_split': [2, 5, 10],\n",
    "    'min_samples_leaf': [6],\n",
    "    # 'min_weight_fraction_leaf': [0.0, 0.1, 0.2],\n",
    "    # 'max_features': [None, \"auto\", \"sqrt\", \"log2\"],\n",
    "    # 'max_leaf_nodes': [None, 5, 10, 20],\n",
    "    'min_impurity_decrease': [0.0, 0.1, 0.2],\n",
    "    'ccp_alpha': [0.0, 0.1, 0.2],\n",
    "}"
   ]
  },
  {
   "cell_type": "code",
   "execution_count": null,
   "id": "fd232a86-eaa5-4e93-afb6-58840a9751b1",
   "metadata": {
    "tags": []
   },
   "outputs": [],
   "source": [
    "tree_clf = DecisionTreeClassifier(random_state=42)\n",
    "tree_cv = GridSearchCV(estimator=tree_clf, param_grid=parametros, scoring=\"accuracy\", n_jobs=-1, verbose=1, cv=10)\n",
    "tree_cv.fit(x_train, y_train)\n",
    "melhores_parametros = tree_cv.best_params_\n",
    "melhor_resultado = tree_cv.best_score_\n",
    "print(melhores_parametros)\n",
    "print(melhor_resultado)\n",
    "print(tree_cv.best_estimator_)\n",
    "\n",
    "tree_clf = DecisionTreeClassifier(**melhores_parametros)\n",
    "tree_clf.fit(x_train, y_train)\n",
    "print_score(tree_clf, x_train, y_train, x_test, y_test, train=True)\n",
    "print_score(tree_clf, x_train, y_train, x_test, y_test, train=False)"
   ]
  },
  {
   "cell_type": "code",
   "execution_count": null,
   "id": "2c29f8ac-a4fe-4e93-97c7-68cb3869bfec",
   "metadata": {},
   "outputs": [],
   "source": [
    "tree_clf = DecisionTreeClassifier(random_state=42)\n",
    "tree_cv = GridSearchCV(tree_clf, parametros, scoring=\"accuracy\", n_jobs=-1, verbose=1, cv=10)\n",
    "tree_cv.fit(train_x, train_y)\n",
    "best_params = tree_cv.best_params_\n",
    "print(f\"Best paramters: {best_params})\")\n",
    "print(tree_cv.best_estimator_)\n",
    "\n",
    "tree_clf = DecisionTreeClassifier(**best_params)\n",
    "tree_clf.fit(train_x, train_y)\n",
    "print_score(tree_clf, train_x, train_y, test_x, test_y, train=True)\n",
    "print_score(tree_clf, train_x, train_y, test_x, test_y, train=False)"
   ]
  },
  {
   "cell_type": "markdown",
   "id": "effde1be-9de1-4fb8-a725-df2040bc7270",
   "metadata": {
    "jp-MarkdownHeadingCollapsed": true,
    "tags": []
   },
   "source": [
    "### Rede Neural"
   ]
  },
  {
   "cell_type": "code",
   "execution_count": null,
   "id": "334f458e-c7e6-4dcb-b62d-c1e0924dc648",
   "metadata": {
    "tags": []
   },
   "outputs": [],
   "source": [
    "parametros = {\n",
    "    'hidden_layer_sizes': [(100, 100)],  # Experimente diferentes configurações de camadas e neurônios\n",
    "    'activation': ['tanh'],\n",
    "    # 'solver': ['adam'],\n",
    "    'alpha': [0.0001],\n",
    "    # 'batch_size': ['auto', 100, 200],\n",
    "    # 'learning_rate': ['constant', 'invscaling', 'adaptive'],\n",
    "    # 'learning_rate_init': [0.001, 0.01, 0.1],\n",
    "    # 'power_t': [0.4],\n",
    "    # 'max_iter': [100],\n",
    "    # 'shuffle': [True],\n",
    "    # 'tol': [1e-3],\n",
    "    # 'verbose': [True, False],\n",
    "    # 'warm_start': [True, False],\n",
    "    # 'momentum': [0.001,0.002],\n",
    "    # 'nesterovs_momentum': [True, False],\n",
    "    # 'early_stopping': [True, False],\n",
    "    # 'validation_fraction': [0.1, 0.2],\n",
    "    # 'beta_1': [0.9, 0.99],\n",
    "    # 'beta_2': [0.99990,0.9999999],\n",
    "    # 'epsilon': [1e-5],\n",
    "    # 'n_iter_no_change': [15],\n",
    "    # 'max_fun': [10000, 15000, 20000]\n",
    "}"
   ]
  },
  {
   "cell_type": "code",
   "execution_count": null,
   "id": "e9702684-ca95-4d7d-b7ee-4e7104e5bea5",
   "metadata": {
    "tags": []
   },
   "outputs": [],
   "source": [
    "neural_clf = MLPClassifier(random_state=42)\n",
    "neural_cv = GridSearchCV(estimator=neural_clf, param_grid=parametros, scoring=\"accuracy\", n_jobs=-1, verbose=1, cv=10)\n",
    "neural_cv.fit(x_train, y_train)\n",
    "melhores_parametros = neural_cv.best_params_\n",
    "melhor_resultado = neural_cv.best_score_\n",
    "print(melhores_parametros)\n",
    "print(melhor_resultado)\n",
    "print(neural_cv.best_estimator_)\n",
    "\n",
    "neural_clf = MLPClassifier(**melhores_parametros)\n",
    "neural_clf.fit(x_train, y_train)\n",
    "print_score(neural_clf, x_train, y_train, x_test, y_test, train=True)\n",
    "print_score(neural_clf, x_train, y_train, x_test, y_test, train=False)"
   ]
  },
  {
   "cell_type": "code",
   "execution_count": null,
   "id": "e922dfcc-f5a1-42ba-8113-1c86589c30d2",
   "metadata": {
    "jupyter": {
     "source_hidden": true
    },
    "tags": []
   },
   "outputs": [],
   "source": [
    "neural_clf = MLPClassifier(random_state=42)\n",
    "neural_cv = GridSearchCV(estimator=neural_clf, param_grid=parametros)\n",
    "neural_cv.fit(train_x, train_y)\n",
    "melhores_parametros = neural_cv.best_params_\n",
    "melhor_resultado = neural_cv.best_score_\n",
    "print(melhores_parametros)\n",
    "print(melhor_resultado)\n",
    "\n",
    "neural_clf = MLPClassifier(**melhores_parametros)\n",
    "neural_clf.fit(train_x, train_y)\n",
    "print_score(neural_clf, train_x, train_y, test_x, test_y, train=True)\n",
    "print_score(neural_clf, train_x, train_y, test_x, test_y, train=False)"
   ]
  },
  {
   "cell_type": "markdown",
   "id": "f6016397-5780-4626-91c1-5c869e9bccd9",
   "metadata": {
    "jp-MarkdownHeadingCollapsed": true,
    "tags": []
   },
   "source": [
    "### Random Forest"
   ]
  },
  {
   "cell_type": "code",
   "execution_count": null,
   "id": "ffc38199-64fa-413e-98ff-7ea0274cf7db",
   "metadata": {
    "tags": []
   },
   "outputs": [],
   "source": [
    "parametros = {\n",
    "    'n_estimators': [200],  # Você pode ajustar o número de árvores conforme necessário\n",
    "    'criterion': ['entropy'],\n",
    "    'max_depth': [10],\n",
    "    # 'min_samples_split': [2, 5, 10],\n",
    "    # 'min_samples_leaf': [1, 2, 4],\n",
    "    # 'min_weight_fraction_leaf': [0.0, 0.1, 0.2],\n",
    "    # 'max_features': ['sqrt', 'log2', None],\n",
    "    # 'max_leaf_nodes': [None, 10, 20, 30],\n",
    "    # 'min_impurity_decrease': [0.0, 0.1, 0.2],\n",
    "    'bootstrap': [False],\n",
    "    # 'oob_score': [True, False],\n",
    "    'n_jobs': [-1],  # Use -1 para usar todos os processadores disponíveis\n",
    "    # 'verbose': [0, 1, 2],\n",
    "    'warm_start': [True],\n",
    "    # 'class_weight': [None, 'balanced', 'balanced_subsample'],\n",
    "    # 'ccp_alpha': [0.0, 0.1, 0.2],\n",
    "    # 'max_samples': [None, 0.7, 0.8, 0.9],\n",
    "}"
   ]
  },
  {
   "cell_type": "code",
   "execution_count": null,
   "id": "083a583e-e80a-42ac-96b6-2b97f3e73d45",
   "metadata": {
    "tags": []
   },
   "outputs": [],
   "source": [
    "forest_clf = RandomForestClassifier(random_state=42)\n",
    "forest_cv = GridSearchCV(estimator=forest_clf, param_grid=parametros, scoring=\"accuracy\", n_jobs=-1, verbose=1, cv=10)\n",
    "forest_cv.fit(x_train, y_train)\n",
    "melhores_parametros = forest_cv.best_params_\n",
    "melhor_resultado = forest_cv.best_score_\n",
    "print(melhores_parametros)\n",
    "print(melhor_resultado)\n",
    "print(forest_cv.best_estimator_)\n",
    "\n",
    "forest_clf = RandomForestClassifier(**melhores_parametros)\n",
    "forest_clf.fit(x_train, y_train)\n",
    "print_score(forest_clf, x_train, y_train, x_test, y_test, train=True)\n",
    "print_score(forest_clf, x_train, y_train, x_test, y_test, train=False)"
   ]
  },
  {
   "cell_type": "code",
   "execution_count": null,
   "id": "3fdd879b-ddd3-45a7-a395-215933581110",
   "metadata": {
    "tags": []
   },
   "outputs": [],
   "source": [
    "parametros = {\n",
    "    'n_estimators': [300],  # Você pode ajustar o número de árvores conforme necessário\n",
    "    'criterion': ['entropy'],\n",
    "    'max_depth': [7],\n",
    "    # 'min_samples_split': [2, 5, 10],\n",
    "    # 'min_samples_leaf': [1, 2, 4],\n",
    "    # 'min_weight_fraction_leaf': [0.0, 0.1, 0.2],\n",
    "    # 'max_features': ['sqrt', 'log2', None],\n",
    "    # 'max_leaf_nodes': [None, 10, 20, 30],\n",
    "    # 'min_impurity_decrease': [0.0, 0.1, 0.2],\n",
    "    # 'bootstrap': [True, False],\n",
    "    'oob_score': [True],\n",
    "    'n_jobs': [-1],  # Use -1 para usar todos os processadores disponíveis\n",
    "    # 'verbose': [0, 1, 2],\n",
    "    'warm_start': [True],\n",
    "    # 'class_weight': [None, 'balanced', 'balanced_subsample'],\n",
    "    # 'ccp_alpha': [0.0, 0.1, 0.2],\n",
    "    # 'max_samples': [None, 0.7, 0.8, 0.9],\n",
    "}"
   ]
  },
  {
   "cell_type": "code",
   "execution_count": null,
   "id": "f7674bae-8bef-4dcb-932d-cca44ee2016d",
   "metadata": {
    "tags": []
   },
   "outputs": [],
   "source": [
    "forest_clf = RandomForestClassifier(random_state=42)\n",
    "forest_cv = GridSearchCV(estimator=forest_clf, param_grid=parametros, scoring=\"accuracy\", n_jobs=-1, verbose=1, cv=10)\n",
    "forest_cv.fit(train_x, train_y)\n",
    "melhores_parametros = forest_cv.best_params_\n",
    "melhor_resultado = forest_cv.best_score_\n",
    "print(melhores_parametros)\n",
    "print(melhor_resultado)\n",
    "print(forest_cv.best_estimator_)\n",
    "\n",
    "\n",
    "forest_clf = RandomForestClassifier(**melhores_parametros)\n",
    "forest_clf.fit(train_x, train_y)\n",
    "print_score(forest_clf, train_x, train_y, test_x, test_y, train=True)\n",
    "print_score(forest_clf, train_x, train_y, test_x, test_y, train=False)"
   ]
  },
  {
   "cell_type": "markdown",
   "id": "ccf19920-8048-481b-9636-e9123400e3c5",
   "metadata": {
    "jp-MarkdownHeadingCollapsed": true,
    "tags": []
   },
   "source": [
    "### SVM"
   ]
  },
  {
   "cell_type": "code",
   "execution_count": null,
   "id": "af71b2ea-9f68-4fdf-84ce-fd21add8fe99",
   "metadata": {
    "tags": []
   },
   "outputs": [],
   "source": [
    "parametros = {\n",
    "    'C': [5000],\n",
    "    'kernel': ['rbf'],\n",
    "    'degree': [1],\n",
    "    # 'gamma': ['scale', 'auto', 0.1, 1.0],\n",
    "    # 'coef0': [0.0, 0.1, 1.0],\n",
    "    # 'shrinking': [True, False],\n",
    "    # 'probability': [True],\n",
    "    # 'tol': [1e-4],\n",
    "    # 'cache_size': np.arange(1,11,2),\n",
    "    # 'class_weight': [None, 'balanced'],\n",
    "    # 'verbose': [True],\n",
    "    # 'max_iter': [100, 1000, -1],  # -1 indica nenhum limite\n",
    "    # 'decision_function_shape': ['ovr', 'ovo'],\n",
    "    # 'break_ties': [True],\n",
    "}"
   ]
  },
  {
   "cell_type": "code",
   "execution_count": null,
   "id": "178f836d-2051-4f90-9e3d-01cf094fef14",
   "metadata": {
    "tags": []
   },
   "outputs": [],
   "source": [
    "svm_clf = SVC(random_state=42)\n",
    "svm_cv = GridSearchCV(estimator=svm_clf, param_grid=parametros, scoring='accuracy', cv=10)\n",
    "svm_cv.fit(x_train, y_train)\n",
    "melhores_parametros = svm_cv.best_params_\n",
    "melhor_resultado = svm_cv.best_score_\n",
    "print(melhores_parametros)\n",
    "print(melhor_resultado)\n",
    "print(svm_cv.best_estimator_)\n",
    "\n",
    "svm_clf = SVC(**melhores_parametros)\n",
    "svm_clf.fit(x_train, y_train)\n",
    "print_score(svm_clf, x_train, y_train, x_test, y_test, train=True)\n",
    "print_score(svm_clf, x_train, y_train, x_test, y_test, train=False)"
   ]
  },
  {
   "cell_type": "markdown",
   "id": "dda7a79b-6c58-46d2-baed-b954f88428e2",
   "metadata": {
    "jp-MarkdownHeadingCollapsed": true
   },
   "source": [
    "### Validação Cruzada"
   ]
  },
  {
   "cell_type": "code",
   "execution_count": null,
   "id": "73eb6727-f692-4af2-8d3e-add5b3e26c7a",
   "metadata": {},
   "outputs": [],
   "source": [
    "x_poscomp = np.concatenate((x_train, x_test), axis = 0)\n",
    "y_poscomp = np.concatenate((y_train, y_test), axis = 0)"
   ]
  },
  {
   "cell_type": "code",
   "execution_count": null,
   "id": "1c2e6742-479b-4090-968e-503e6a9d5d1b",
   "metadata": {},
   "outputs": [],
   "source": [
    "resultados_arvore = []\n",
    "resultados_random_forest = []\n",
    "# resultados_knn = []\n",
    "# resultados_logistica = []\n",
    "resultados_svm = []\n",
    "resultados_rede_neural = []\n",
    "\n",
    "for i in range(5):\n",
    "  print(i)\n",
    "  kfold = KFold(n_splits=10, shuffle=True, random_state=i)\n",
    "\n",
    "  arvore = DecisionTreeClassifier(criterion='entropy', max_depth=4, min_samples_leaf=6,\n",
    "                       random_state=42)\n",
    "  scores = cross_val_score(arvore, x_poscomp, y_poscomp, cv = kfold)\n",
    "  resultados_arvore.append(scores.mean())\n",
    "\n",
    "  random_forest = RandomForestClassifier(bootstrap=False, criterion='entropy', max_depth=10,\n",
    "                       n_estimators=200, n_jobs=-1, random_state=42,\n",
    "                       warm_start=True)\n",
    "  scores = cross_val_score(random_forest, x_poscomp, y_poscomp, cv = kfold)\n",
    "  resultados_random_forest.append(scores.mean())\n",
    "\n",
    "  svm = SVC(C=5000, break_ties=True, degree=1, probability=True, random_state=42,\n",
    "    tol=0.0001, verbose=True)\n",
    "  scores = cross_val_score(svm, x_poscomp, y_poscomp, cv = kfold)\n",
    "  resultados_svm.append(scores.mean())\n",
    "\n",
    "  rede_neural = MLPClassifier(activation='tanh', hidden_layer_sizes=(100, 100), random_state=42)\n",
    "  scores = cross_val_score(rede_neural, x_poscomp, y_poscomp, cv = kfold)\n",
    "  resultados_rede_neural.append(scores.mean())"
   ]
  },
  {
   "cell_type": "code",
   "execution_count": null,
   "id": "22d81ea6-eb8b-4c72-a636-38fa885da55d",
   "metadata": {},
   "outputs": [],
   "source": [
    "resultados = pd.DataFrame({'Arvore': resultados_arvore, 'Random forest': resultados_random_forest,\n",
    "                            'SVM': resultados_svm, 'Rede neural': resultados_rede_neural})\n",
    "resultados"
   ]
  },
  {
   "cell_type": "code",
   "execution_count": null,
   "id": "3ede2020-1946-43f8-9723-e483a9fa9079",
   "metadata": {},
   "outputs": [],
   "source": [
    "resultados.describe()"
   ]
  },
  {
   "cell_type": "code",
   "execution_count": null,
   "id": "e1d00ea6-db3b-4294-bc7c-fd50d2f84861",
   "metadata": {},
   "outputs": [],
   "source": [
    "resultados.var()"
   ]
  },
  {
   "cell_type": "code",
   "execution_count": null,
   "id": "34f440ca-43ee-465a-88f2-b12de810db8d",
   "metadata": {},
   "outputs": [],
   "source": [
    "(resultados.std() / resultados.mean()) * 100"
   ]
  },
  {
   "cell_type": "code",
   "execution_count": null,
   "id": "870fb626-3118-4985-bcd3-ad0468220c85",
   "metadata": {},
   "outputs": [],
   "source": [
    "sns.lineplot(x='Arvore', y='mean_train_score', label='Training Score', data=resultados)\n",
    "sns.lineplot(x='train_size', y='mean_test_score', label='Cross-validation Score', data=cv_results)\n",
    "plt.title('Curva de Aprendizado')\n",
    "plt.show()"
   ]
  },
  {
   "cell_type": "markdown",
   "id": "15c44eae-b7ae-4bff-9f6c-cf8d86758f65",
   "metadata": {},
   "source": [
    "#### Teste de normalidade"
   ]
  },
  {
   "cell_type": "code",
   "execution_count": null,
   "id": "f2d17ef4-0e48-4646-bcc4-877ea037056e",
   "metadata": {},
   "outputs": [],
   "source": [
    "alpha = 0.05"
   ]
  },
  {
   "cell_type": "code",
   "execution_count": null,
   "id": "b3bf3186-d560-48ea-8792-80a9c437faa5",
   "metadata": {},
   "outputs": [],
   "source": [
    "from scipy.stats import shapiro"
   ]
  },
  {
   "cell_type": "code",
   "execution_count": null,
   "id": "bde839c0-9686-4bf5-be39-e6eb8e3fb125",
   "metadata": {},
   "outputs": [],
   "source": [
    "shapiro(resultados_arvore), shapiro(resultados_random_forest), shapiro(resultados_svm), shapiro(resultados_rede_neural)"
   ]
  },
  {
   "cell_type": "markdown",
   "id": "89912f71-8b89-4b0e-a9c6-2b733cf8cd26",
   "metadata": {},
   "source": [
    "#### Teste de hipótese com ANOVA e Tukey"
   ]
  },
  {
   "cell_type": "code",
   "execution_count": null,
   "id": "319d4284-9eb6-4265-8739-1a61df5fc1e9",
   "metadata": {},
   "outputs": [],
   "source": [
    "from scipy.stats import f_oneway"
   ]
  },
  {
   "cell_type": "code",
   "execution_count": null,
   "id": "ceccf6e7-9f79-4344-a7fb-389a58768cbe",
   "metadata": {},
   "outputs": [],
   "source": [
    "_, p = f_oneway(resultados_arvore, resultados_random_forest, resultados_svm, resultados_rede_neural)\n",
    "p"
   ]
  },
  {
   "cell_type": "code",
   "execution_count": null,
   "id": "0064c754-2191-4f5e-8518-bc1e16512818",
   "metadata": {},
   "outputs": [],
   "source": [
    "alpha = 0.05\n",
    "if p <= alpha:\n",
    "  print('Hipótese nula rejeitada. Dados são diferentes')\n",
    "else:\n",
    "  print('Hipótese alternativa rejeitada. Resultados são iguais')"
   ]
  },
  {
   "cell_type": "code",
   "execution_count": null,
   "id": "efabdfbb-1dab-4765-9db9-0e32a7544dbd",
   "metadata": {},
   "outputs": [],
   "source": [
    "resultados_algoritmos = {'accuracy': np.concatenate([resultados_arvore, resultados_random_forest, resultados_svm, resultados_rede_neural]),\n",
    "                         'algoritmo': ['arvore','arvore','arvore','arvore','arvore'\n",
    "                          'random_forest','random_forest','random_forest','random_forest','random_forest'\n",
    "                          'svm','svm','svm','svm','svm'\n",
    "                          'rede_neural','rede_neural','rede_neural','rede_neural','rede_neural']}"
   ]
  },
  {
   "cell_type": "code",
   "execution_count": null,
   "id": "3bd9ea29-1b36-4d0a-9c36-d75b3a9b89c7",
   "metadata": {},
   "outputs": [],
   "source": [
    "resultados_algoritmos = {'accuracy': np.concatenate([resultados_arvore, resultados_random_forest, resultados_svm, resultados_rede_neural]),\n",
    "                         'algoritmo': ['arvore']*len(resultados_arvore) + ['random_forest']*len(resultados_random_forest) + ['svm']*len(resultados_svm) + ['rede_neural']*len(resultados_rede_neural)}\n"
   ]
  },
  {
   "cell_type": "code",
   "execution_count": null,
   "id": "af08a3c3-4724-40e8-a25d-db8f4874b854",
   "metadata": {},
   "outputs": [],
   "source": [
    "resultados_df = pd.DataFrame(resultados_algoritmos)\n",
    "resultados_df"
   ]
  },
  {
   "cell_type": "code",
   "execution_count": null,
   "id": "cf9714e4-a923-41d9-bc7e-4104e8430ddb",
   "metadata": {},
   "outputs": [],
   "source": [
    "from statsmodels.stats.multicomp import MultiComparison"
   ]
  },
  {
   "cell_type": "code",
   "execution_count": null,
   "id": "1dfe45e6-bd2e-4748-a22e-32f4fb29e9e8",
   "metadata": {},
   "outputs": [],
   "source": [
    "compara_algoritmos = MultiComparison(resultados_df['accuracy'], resultados_df['algoritmo'])"
   ]
  },
  {
   "cell_type": "code",
   "execution_count": null,
   "id": "ad2843bc-6e1b-4e1d-b9d4-9f5272a27073",
   "metadata": {},
   "outputs": [],
   "source": [
    "teste_estatistico = compara_algoritmos.tukeyhsd()\n",
    "print(teste_estatistico)"
   ]
  },
  {
   "cell_type": "code",
   "execution_count": null,
   "id": "98b69529-c87d-44d2-ad14-833a537b5536",
   "metadata": {},
   "outputs": [],
   "source": [
    "resultados.mean()"
   ]
  },
  {
   "cell_type": "code",
   "execution_count": null,
   "id": "459c667a-73db-474a-b9b6-91b8662926ea",
   "metadata": {},
   "outputs": [],
   "source": [
    "teste_estatistico.plot_simultaneous();"
   ]
  },
  {
   "cell_type": "markdown",
   "id": "772e00b5-e66e-401c-bacd-61abd2fab756",
   "metadata": {},
   "source": [
    "#### Salvar o classificador treinado"
   ]
  },
  {
   "cell_type": "code",
   "execution_count": null,
   "id": "281dae21-7e43-4b82-af5d-de0ccac21d52",
   "metadata": {},
   "outputs": [],
   "source": [
    "classificador_randomForest = RandomForestClassifier(bootstrap=False, criterion='entropy', max_depth=10,\n",
    "                       n_estimators=200, n_jobs=-1, random_state=42,\n",
    "                       warm_start=True)\n",
    "classificador_randomForest.fit(x_poscomp, y_poscomp)"
   ]
  },
  {
   "cell_type": "code",
   "execution_count": null,
   "id": "7990a250-7324-438d-9f4a-06c6b1b58896",
   "metadata": {},
   "outputs": [],
   "source": [
    "import pickle\n",
    "pickle.dump(classificador_randomForest, open('randomForest_finalizado.sav', 'wb'))"
   ]
  },
  {
   "cell_type": "markdown",
   "id": "e1b0d5ed-5d6d-4405-b599-afbd6f17523a",
   "metadata": {},
   "source": [
    "#### Carregar um classificar treinado"
   ]
  },
  {
   "cell_type": "code",
   "execution_count": null,
   "id": "b868c02b-cdc6-48cd-a053-6fc9f2252e32",
   "metadata": {},
   "outputs": [],
   "source": [
    "randomForest = pickle.load(open('randomForest_finalizado.sav', 'rb'))"
   ]
  },
  {
   "cell_type": "markdown",
   "id": "2faafc87-12da-4ed8-9fb3-5335827f5a23",
   "metadata": {
    "tags": []
   },
   "source": [
    "### Aplicação dos 2 modelos"
   ]
  },
  {
   "cell_type": "code",
   "execution_count": null,
   "id": "10660295-fc89-4a1e-aed3-950399e53d98",
   "metadata": {},
   "outputs": [],
   "source": [
    "X_dataset.head()"
   ]
  },
  {
   "cell_type": "markdown",
   "id": "17363797-d306-4361-adad-c419f3e218ab",
   "metadata": {},
   "source": [
    "#### Aplicação para os candidatos da área de computação"
   ]
  },
  {
   "cell_type": "code",
   "execution_count": 14,
   "id": "0c1559a8-1e9f-4235-af76-61088b854ffe",
   "metadata": {},
   "outputs": [],
   "source": [
    "df_computation = dataset[dataset['area_concentration'] == 'computacao']"
   ]
  },
  {
   "cell_type": "code",
   "execution_count": 15,
   "id": "7e5d120b-e505-46c5-8a9b-a871fe58cc07",
   "metadata": {},
   "outputs": [
    {
     "data": {
      "text/plain": [
       "inteligência artificial    4293\n",
       "redes de computadores       815\n",
       "visão computacional         532\n",
       "Name: linhas_pesquisas, dtype: int64"
      ]
     },
     "execution_count": 15,
     "metadata": {},
     "output_type": "execute_result"
    }
   ],
   "source": [
    "df_computation['linhas_pesquisas'].value_counts()"
   ]
  },
  {
   "cell_type": "code",
   "execution_count": 16,
   "id": "1fc28084-c854-4216-852a-d99686f45b7c",
   "metadata": {},
   "outputs": [],
   "source": [
    "df_computation = df_computation.loc[:,['IDADE','SEXO','REGIAO','ESTADO','matematica', 'fund_computacao','tec_computacao','linhas_pesquisas']]"
   ]
  },
  {
   "cell_type": "code",
   "execution_count": 17,
   "id": "443cf217-1195-4932-8cea-e0abb59fbdce",
   "metadata": {},
   "outputs": [],
   "source": [
    "categorical_columns_comp = [\"linhas_pesquisas\",'SEXO','REGIAO','ESTADO']\n",
    "df_computation = encode_categorical_columns(df_computation, categorical_columns_comp)"
   ]
  },
  {
   "cell_type": "code",
   "execution_count": 18,
   "id": "a6c4727c-d42d-40b7-9af5-f6c08d2ae252",
   "metadata": {},
   "outputs": [],
   "source": [
    "x_computation = df_computation.drop(['linhas_pesquisas'], axis=1)\n",
    "y_computation = df_computation['linhas_pesquisas']"
   ]
  },
  {
   "cell_type": "markdown",
   "id": "2caaf0c5-2207-46fe-a2ca-e7401182c7ec",
   "metadata": {},
   "source": [
    "Dividir a Base"
   ]
  },
  {
   "cell_type": "code",
   "execution_count": 19,
   "id": "bd90c8a9-f695-4519-b128-cf809b23766a",
   "metadata": {},
   "outputs": [],
   "source": [
    "x_train_comp, x_test_comp, y_train_comp, y_test_comp = train_test_split(x_computation, y_computation, \n",
    "                                                                        test_size=0.3, stratify=y_computation, random_state=42)"
   ]
  },
  {
   "cell_type": "code",
   "execution_count": 20,
   "id": "f7eaaffc-81b3-464b-8932-2d4202a21025",
   "metadata": {},
   "outputs": [
    {
     "name": "stdout",
     "output_type": "stream",
     "text": [
      "Shape of x_train :  (3948, 7)\n",
      "Shape of x_test  :  (1692, 7)\n",
      "Shape of y_train :  (3948,)\n",
      "Shape of y_test  :  (1692,)\n"
     ]
    }
   ],
   "source": [
    "print(\"Shape of x_train : \",x_train_comp.shape)\n",
    "print(\"Shape of x_test  : \",x_test_comp.shape)\n",
    "print(\"Shape of y_train : \",y_train_comp.shape)\n",
    "print(\"Shape of y_test  : \",y_test_comp.shape)"
   ]
  },
  {
   "cell_type": "markdown",
   "id": "9d80297f-d20f-4427-986e-148da947c4fc",
   "metadata": {},
   "source": [
    "##### Busca por hiperparamentros"
   ]
  },
  {
   "cell_type": "markdown",
   "id": "e1729baf-907d-49bd-a216-f01c183b2993",
   "metadata": {},
   "source": [
    "###### Arvore de Decisão"
   ]
  },
  {
   "cell_type": "code",
   "execution_count": 71,
   "id": "e463a37b-7541-4477-95b7-b156ba9bac4c",
   "metadata": {
    "tags": []
   },
   "outputs": [],
   "source": [
    "parametros = {'criterion': [\"entropy\", \"log_loss\"],\n",
    "    'splitter': [\"best\", \"random\"],\n",
    "    'max_depth': [5],  # Ou qualquer outro intervalo apropriado\n",
    "    'min_samples_split': [2, 5, 10],\n",
    "    'min_samples_leaf': np.arange(1,11,2),\n",
    "    # 'min_weight_fraction_leaf': [0.0, 0.1, 0.2],\n",
    "    'max_features': [None, \"auto\", \"sqrt\", \"log2\"],\n",
    "    # 'max_leaf_nodes': [None, 5, 10, 20],\n",
    "    # 'min_impurity_decrease': [0.0, 0.1, 0.2],\n",
    "    # 'ccp_alpha': [0.0, 0.1, 0.2],\n",
    "}"
   ]
  },
  {
   "cell_type": "code",
   "execution_count": 72,
   "id": "5aa16e13-e966-46a1-b774-e3f323424332",
   "metadata": {
    "tags": []
   },
   "outputs": [
    {
     "name": "stdout",
     "output_type": "stream",
     "text": [
      "Fitting 10 folds for each of 720 candidates, totalling 7200 fits\n",
      "{'criterion': 'entropy', 'max_depth': 5, 'max_features': 'sqrt', 'min_samples_leaf': 5, 'min_samples_split': 2, 'splitter': 'random'}\n",
      "0.7616513525669859\n",
      "DecisionTreeClassifier(criterion='entropy', max_depth=5, max_features='sqrt',\n",
      "                       min_samples_leaf=5, random_state=42, splitter='random')\n",
      "Train Result:\n",
      "==========================================================================\n",
      "Accuracy Score: 76.11%\n",
      "__________________________________________________________________________\n",
      "CLASSIFICATION REPORT:\n",
      "                     0      1      2  accuracy    macro avg  weighted avg\n",
      "precision     0.761145    0.0    0.0  0.761145     0.253715      0.579342\n",
      "recall        1.000000    0.0    0.0  0.761145     0.333333      0.761145\n",
      "f1-score      0.864375    0.0    0.0  0.761145     0.288125      0.657915\n",
      "support    3005.000000  571.0  372.0  0.761145  3948.000000   3948.000000\n",
      "__________________________________________________________________________\n",
      "Confusion Matrix: \n",
      " [[3005    0    0]\n",
      " [ 571    0    0]\n",
      " [ 372    0    0]]\n",
      "\n",
      "Test Result:\n",
      "==========================================================================\n",
      "Accuracy Score: 76.12%\n",
      "__________________________________________________________________________\n",
      "CLASSIFICATION REPORT:\n",
      "                     0      1      2  accuracy    macro avg  weighted avg\n",
      "precision     0.761229    0.0    0.0  0.761229     0.253743      0.579470\n",
      "recall        1.000000    0.0    0.0  0.761229     0.333333      0.761229\n",
      "f1-score      0.864430    0.0    0.0  0.761229     0.288143      0.658029\n",
      "support    1288.000000  244.0  160.0  0.761229  1692.000000   1692.000000\n",
      "__________________________________________________________________________\n",
      "Confusion Matrix: \n",
      " [[1288    0    0]\n",
      " [ 244    0    0]\n",
      " [ 160    0    0]]\n",
      "\n"
     ]
    }
   ],
   "source": [
    "tree_clf = DecisionTreeClassifier(random_state=42)\n",
    "tree_cv = GridSearchCV(estimator=tree_clf, param_grid=parametros, scoring=\"accuracy\", n_jobs=-1, verbose=1, cv=10)\n",
    "tree_cv.fit(x_train_comp, y_train_comp)\n",
    "melhores_parametros = tree_cv.best_params_\n",
    "melhor_resultado = tree_cv.best_score_\n",
    "print(melhores_parametros)\n",
    "print(melhor_resultado)\n",
    "print(tree_cv.best_estimator_)\n",
    "\n",
    "tree_clf = DecisionTreeClassifier(**melhores_parametros)\n",
    "tree_clf.fit(x_train_comp, y_train_comp)\n",
    "print_score(tree_clf, x_train_comp, y_train_comp, x_test_comp, y_test_comp, train=True)\n",
    "print_score(tree_clf, x_train_comp, y_train_comp, x_test_comp, y_test_comp, train=False)"
   ]
  },
  {
   "cell_type": "markdown",
   "id": "7339bda8-1bb4-424b-9dfa-3b42dd82ffc3",
   "metadata": {},
   "source": [
    "###### Random Forest"
   ]
  },
  {
   "cell_type": "code",
   "execution_count": 23,
   "id": "48d96875-79be-428f-8700-730df2c418ef",
   "metadata": {
    "tags": []
   },
   "outputs": [],
   "source": [
    "parametros = {\n",
    "    'n_estimators': [1500,2000,2500,3000],  # Você pode ajustar o número de árvores conforme necessário\n",
    "    'criterion': [\"entropy\", \"log_loss\", \"gini\"],\n",
    "    'max_depth': [12,14,16,18],\n",
    "    'min_samples_split': [10,15,20],\n",
    "    'min_samples_leaf': [4,6,8,10],\n",
    "    # 'min_weight_fraction_leaf': [0.0, 0.1, 0.2],\n",
    "    # 'max_features': ['sqrt', 'log2', None],\n",
    "    # 'max_leaf_nodes': [None, 10, 20, 30],\n",
    "    # 'min_impurity_decrease': [0.0, 0.1, 0.2],\n",
    "    'bootstrap': [False],\n",
    "    # 'oob_score': [True, False],\n",
    "    # 'n_jobs': [-1],  # Use -1 para usar todos os processadores disponíveis\n",
    "    # 'verbose': [0, 1, 2],\n",
    "    # 'warm_start': [True],\n",
    "    # 'class_weight': [None, 'balanced', 'balanced_subsample'],\n",
    "    # 'ccp_alpha': [0.0, 0.1, 0.2],\n",
    "    # 'max_samples': [None, 0.7, 0.8, 0.9],\n",
    "}"
   ]
  },
  {
   "cell_type": "code",
   "execution_count": 24,
   "id": "6afa87b7-aa10-4488-9388-5b2cb4842d76",
   "metadata": {
    "tags": []
   },
   "outputs": [
    {
     "name": "stdout",
     "output_type": "stream",
     "text": [
      "Fitting 10 folds for each of 576 candidates, totalling 5760 fits\n",
      "{'bootstrap': False, 'criterion': 'entropy', 'max_depth': 12, 'min_samples_leaf': 6, 'min_samples_split': 10, 'n_estimators': 1500}\n",
      "0.7636766690226822\n",
      "RandomForestClassifier(bootstrap=False, criterion='entropy', max_depth=12,\n",
      "                       min_samples_leaf=6, min_samples_split=10,\n",
      "                       n_estimators=1500, random_state=42)\n",
      "Train Result:\n",
      "==========================================================================\n",
      "Accuracy Score: 77.68%\n",
      "__________________________________________________________________________\n",
      "CLASSIFICATION REPORT:\n",
      "                     0           1           2  accuracy    macro avg  \\\n",
      "precision     0.773570    0.967742    1.000000  0.776849     0.913771   \n",
      "recall        0.999334    0.105079    0.010753  0.776849     0.371722   \n",
      "f1-score      0.872078    0.189573    0.021277  0.776849     0.360976   \n",
      "support    3005.000000  571.000000  372.000000  0.776849  3948.000000   \n",
      "\n",
      "           weighted avg  \n",
      "precision      0.822989  \n",
      "recall         0.776849  \n",
      "f1-score       0.693200  \n",
      "support     3948.000000  \n",
      "__________________________________________________________________________\n",
      "Confusion Matrix: \n",
      " [[3003    2    0]\n",
      " [ 511   60    0]\n",
      " [ 368    0    4]]\n",
      "\n",
      "Test Result:\n",
      "==========================================================================\n",
      "Accuracy Score: 76.06%\n",
      "__________________________________________________________________________\n",
      "CLASSIFICATION REPORT:\n",
      "                     0           1      2  accuracy    macro avg  weighted avg\n",
      "precision     0.762954    0.461538    0.0  0.760638     0.408164      0.647341\n",
      "recall        0.994565    0.024590    0.0  0.760638     0.339718      0.760638\n",
      "f1-score      0.863498    0.046693    0.0  0.760638     0.303397      0.664054\n",
      "support    1288.000000  244.000000  160.0  0.760638  1692.000000   1692.000000\n",
      "__________________________________________________________________________\n",
      "Confusion Matrix: \n",
      " [[1281    7    0]\n",
      " [ 238    6    0]\n",
      " [ 160    0    0]]\n",
      "\n"
     ]
    }
   ],
   "source": [
    "forest_clf = RandomForestClassifier(random_state=42)\n",
    "forest_cv = GridSearchCV(estimator=forest_clf, param_grid=parametros, scoring=\"accuracy\", n_jobs=-1, verbose=1, cv=10)\n",
    "forest_cv.fit(x_train_comp, y_train_comp)\n",
    "melhores_parametros = forest_cv.best_params_\n",
    "melhor_resultado = forest_cv.best_score_\n",
    "print(melhores_parametros)\n",
    "print(melhor_resultado)\n",
    "print(forest_cv.best_estimator_)\n",
    "\n",
    "forest_clf = RandomForestClassifier(**melhores_parametros)\n",
    "forest_clf.fit(x_train_comp, y_train_comp)\n",
    "print_score(forest_clf, x_train_comp, y_train_comp, x_test_comp, y_test_comp, train=True)\n",
    "print_score(forest_clf, x_train_comp, y_train_comp, x_test_comp, y_test_comp, train=False)"
   ]
  },
  {
   "cell_type": "markdown",
   "id": "2cfce2ae-fc04-4dc7-8cf9-83bdd0a497b5",
   "metadata": {
    "jp-MarkdownHeadingCollapsed": true
   },
   "source": [
    "###### SVM"
   ]
  },
  {
   "cell_type": "code",
   "execution_count": null,
   "id": "cb277c9f-2b35-4a20-808d-3c357ccf367b",
   "metadata": {},
   "outputs": [],
   "source": [
    "parametros = {\n",
    "    'C': [1,10,100],\n",
    "    'kernel': ['rbf', 'linear', 'poly', 'sigmoid'],\n",
    "    'degree': [1,2,3],\n",
    "    # 'gamma': ['scale', 'auto', 0.1, 1.0],\n",
    "    # 'coef0': [0.0, 0.1, 1.0],\n",
    "    # 'shrinking': [True, False],\n",
    "    # 'probability': [True],\n",
    "    # 'tol': [1e-4],\n",
    "    # 'cache_size': np.arange(1,11,2),\n",
    "    # 'class_weight': [None, 'balanced'],\n",
    "    # 'verbose': [True],\n",
    "    # 'max_iter': [100, 1000, -1],  # -1 indica nenhum limite\n",
    "    # 'decision_function_shape': ['ovr', 'ovo'],\n",
    "    # 'break_ties': [True],\n",
    "} "
   ]
  },
  {
   "cell_type": "code",
   "execution_count": null,
   "id": "8aaa2265-464d-42e7-8a6e-1ed35211b8d8",
   "metadata": {
    "tags": []
   },
   "outputs": [],
   "source": [
    "svm_clf = SVC(random_state=42)\n",
    "svm_cv = GridSearchCV(estimator=svm_clf, param_grid=parametros, scoring='accuracy', cv=10)\n",
    "svm_cv.fit(x_train_comp, y_train_comp)\n",
    "melhores_parametros = svm_cv.best_params_\n",
    "melhor_resultado = svm_cv.best_score_\n",
    "print(melhores_parametros)\n",
    "print(melhor_resultado)\n",
    "print(svm_cv.best_estimator_)\n",
    "\n",
    "svm_clf = SVC(**melhores_parametros)\n",
    "svm_clf.fit(x_train_comp, y_train_comp)\n",
    "print_score(svm_clf, x_train_comp, y_train_comp, x_test_comp, y_test_comp, train=True)\n",
    "print_score(svm_clf, x_train_comp, y_train_comp, x_test_comp, y_test_comp, train=False)"
   ]
  },
  {
   "cell_type": "markdown",
   "id": "cfd288fc-3da5-4b95-b60b-f5983c99655f",
   "metadata": {
    "jp-MarkdownHeadingCollapsed": true
   },
   "source": [
    "##### Algoritmos para computação"
   ]
  },
  {
   "cell_type": "code",
   "execution_count": 64,
   "id": "2e4518f1-0464-43cd-9592-7815c8d2c2ae",
   "metadata": {
    "tags": []
   },
   "outputs": [
    {
     "name": "stdout",
     "output_type": "stream",
     "text": [
      "Árvore de Decisão (C4.5) - Acurácia no Conjunto de Treinamento: 99.62%\n",
      "Árvore de Decisão (C4.5) - Acurácia no Conjunto de Teste: 62.83%\n",
      "Árvore de Decisão (C4.5) - Precisão: 38.31%\n",
      "Árvore de Decisão (C4.5) - Recall: 38.53%\n",
      "Árvore de Decisão (C4.5) - F1-Score: 38.41%\n",
      "Árvore de Decisão (C4.5) - Matriz de Confusão:\n",
      "[[981 179 128]\n",
      " [173  55  16]\n",
      " [115  18  27]]\n",
      "\n",
      "Random Forest - Acurácia no Conjunto de Treinamento: 99.62%\n",
      "Random Forest - Acurácia no Conjunto de Teste: 74.29%\n",
      "Random Forest - Precisão: 44.32%\n",
      "Random Forest - Recall: 35.51%\n",
      "Random Forest - F1-Score: 34.32%\n",
      "Random Forest - Matriz de Confusão:\n",
      "[[1234   38   16]\n",
      " [ 226   17    1]\n",
      " [ 153    1    6]]\n",
      "\n",
      "SVM - Acurácia no Conjunto de Treinamento: 76.11%\n",
      "SVM - Acurácia no Conjunto de Teste: 76.12%\n",
      "SVM - Precisão: 25.37%\n",
      "SVM - Recall: 33.33%\n",
      "SVM - F1-Score: 28.81%\n",
      "SVM - Matriz de Confusão:\n",
      "[[1288    0    0]\n",
      " [ 244    0    0]\n",
      " [ 160    0    0]]\n",
      "\n",
      "Rede Neural - Acurácia no Conjunto de Treinamento: 76.11%\n",
      "Rede Neural - Acurácia no Conjunto de Teste: 76.12%\n",
      "Rede Neural - Precisão: 25.37%\n",
      "Rede Neural - Recall: 33.33%\n",
      "Rede Neural - F1-Score: 28.81%\n",
      "Rede Neural - Matriz de Confusão:\n",
      "[[1288    0    0]\n",
      " [ 244    0    0]\n",
      " [ 160    0    0]]\n",
      "\n"
     ]
    }
   ],
   "source": [
    "from sklearn.metrics import accuracy_score, precision_score, recall_score, f1_score, confusion_matrix\n",
    "\n",
    "algorithms = [\n",
    "    ('Árvore de Decisão (C4.5)', DecisionTreeClassifier(random_state=42)),\n",
    "    ('Random Forest', RandomForestClassifier(random_state=42)),\n",
    "    ('SVM', SVC(random_state=42)),\n",
    "    ('Rede Neural', MLPClassifier(random_state=42)),\n",
    "]\n",
    "\n",
    "for name, classifier in algorithms:\n",
    "    classifier.fit(x_train_comp, y_train_comp)\n",
    "    train_predictions_comp = classifier.predict(x_train_comp)\n",
    "    test_predictions_comp = classifier.predict(x_test_comp)\n",
    "    \n",
    "    train_accuracy_comp = accuracy_score(y_train_comp, train_predictions_comp)\n",
    "    test_accuracy_comp = accuracy_score(y_test_comp, test_predictions_comp)\n",
    "    \n",
    "    precision_comp = precision_score(y_test_comp, test_predictions_comp, average='macro')\n",
    "    recall_comp = recall_score(y_test_comp, test_predictions_comp, average='macro')\n",
    "    f1_comp = f1_score(y_test_comp, test_predictions_comp, average='macro')\n",
    "    \n",
    "    conf_matrix_comp = confusion_matrix(y_test_comp, test_predictions_comp)\n",
    "    \n",
    "    print(f'{name} - Acurácia no Conjunto de Treinamento: {train_accuracy_comp * 100:.2f}%')\n",
    "    print(f'{name} - Acurácia no Conjunto de Teste: {test_accuracy_comp * 100:.2f}%')\n",
    "    print(f'{name} - Precisão: {precision_comp * 100:.2f}%')\n",
    "    print(f'{name} - Recall: {recall_comp * 100:.2f}%')\n",
    "    print(f'{name} - F1-Score: {f1_comp * 100:.2f}%')\n",
    "    print(f'{name} - Matriz de Confusão:\\n{conf_matrix_comp}\\n')\n"
   ]
  },
  {
   "cell_type": "code",
   "execution_count": null,
   "id": "1d3b3ae7-e0c7-4912-a457-b4f52f290b08",
   "metadata": {},
   "outputs": [],
   "source": []
  },
  {
   "cell_type": "markdown",
   "id": "02286166-9893-452e-842e-5c0bd99407c9",
   "metadata": {
    "jp-MarkdownHeadingCollapsed": true
   },
   "source": [
    "#### Aplicação para os candidatos da área de informação"
   ]
  },
  {
   "cell_type": "code",
   "execution_count": 29,
   "id": "3e342c45-6ed2-4db2-8339-b96bdf31b2ee",
   "metadata": {},
   "outputs": [],
   "source": [
    "df_information = dataset[dataset['area_concentration'] == 'informatica']"
   ]
  },
  {
   "cell_type": "code",
   "execution_count": 30,
   "id": "c4a40ea3-b6cd-4b81-8d2e-815806f2668c",
   "metadata": {},
   "outputs": [
    {
     "data": {
      "text/plain": [
       "linhas_pesquisas\n",
       "engenharia de software         2789\n",
       "diversas                        857\n",
       "arquitetura de computadores     392\n",
       "Name: count, dtype: int64"
      ]
     },
     "execution_count": 30,
     "metadata": {},
     "output_type": "execute_result"
    }
   ],
   "source": [
    "df_information['linhas_pesquisas'].value_counts()"
   ]
  },
  {
   "cell_type": "code",
   "execution_count": null,
   "id": "6d261acf-d772-4d85-8d57-d348d63d911c",
   "metadata": {},
   "outputs": [],
   "source": [
    "df_information = df_information.loc[:,['IDADE','SEXO','REGIAO','ESTADO','matematica', 'fund_computacao','tec_computacao','linhas_pesquisas']]"
   ]
  },
  {
   "cell_type": "code",
   "execution_count": null,
   "id": "e9c34fe3-f5df-4ddc-860b-26b3cb6dcd83",
   "metadata": {},
   "outputs": [],
   "source": [
    "categorical_columns_inf = [\"linhas_pesquisas\",'SEXO','REGIAO','ESTADO']\n",
    "df_information = encode_categorical_columns(df_information, categorical_columns_inf)"
   ]
  },
  {
   "cell_type": "code",
   "execution_count": null,
   "id": "67fe413d-7cf5-4fb5-a822-19c7e84962a5",
   "metadata": {},
   "outputs": [],
   "source": [
    "x_information = df_information.drop(['linhas_pesquisas'], axis=1)\n",
    "y_information = df_information['linhas_pesquisas']"
   ]
  },
  {
   "cell_type": "markdown",
   "id": "671bbdd9-c777-40cc-b5a4-44d2e7cf2f12",
   "metadata": {},
   "source": [
    "Dividir a Base"
   ]
  },
  {
   "cell_type": "code",
   "execution_count": null,
   "id": "88d5769f-76e7-4cc3-bbb1-348618d8b77c",
   "metadata": {},
   "outputs": [],
   "source": [
    "x_train_inf, x_test_inf, y_train_inf, y_test_inf = train_test_split(x_information, y_information, \n",
    "                                                                        test_size=0.3, stratify=y_information)"
   ]
  },
  {
   "cell_type": "code",
   "execution_count": null,
   "id": "27805ac6-1355-4f76-90b7-42be3a71b68f",
   "metadata": {},
   "outputs": [],
   "source": [
    "print(\"Shape of x_train : \",x_train_inf.shape)\n",
    "print(\"Shape of x_test  : \",x_test_inf.shape)\n",
    "print(\"Shape of y_train : \",y_train_inf.shape)\n",
    "print(\"Shape of y_test  : \",y_test_inf.shape)"
   ]
  },
  {
   "cell_type": "code",
   "execution_count": null,
   "id": "22c74e4a-8dbd-481a-a0b6-991b04287f62",
   "metadata": {
    "tags": []
   },
   "outputs": [],
   "source": [
    "parametros = {'criterion': [\"entropy\", \"log_loss\"],\n",
    "    'splitter': [\"best\", \"random\"],\n",
    "    'max_depth': [4],  # Ou qualquer outro intervalo apropriado\n",
    "    # 'min_samples_split': [2, 5, 10],\n",
    "    'min_samples_leaf': [6],\n",
    "    # 'min_weight_fraction_leaf': [0.0, 0.1, 0.2],\n",
    "    # 'max_features': [None, \"auto\", \"sqrt\", \"log2\"],\n",
    "    # 'max_leaf_nodes': [None, 5, 10, 20],\n",
    "    'min_impurity_decrease': [0.0, 0.1, 0.2],\n",
    "    'ccp_alpha': [0.0, 0.1, 0.2],\n",
    "}"
   ]
  },
  {
   "cell_type": "code",
   "execution_count": null,
   "id": "7df66821-6de6-4521-8cb1-2f13bac8839c",
   "metadata": {
    "tags": []
   },
   "outputs": [],
   "source": [
    "tree_clf = DecisionTreeClassifier(random_state=42)\n",
    "tree_cv = GridSearchCV(estimator=tree_clf, param_grid=parametros, scoring=\"accuracy\", n_jobs=-1, verbose=1, cv=10)\n",
    "tree_cv.fit(x_train, y_train)\n",
    "melhores_parametros = tree_cv.best_params_\n",
    "melhor_resultado = tree_cv.best_score_\n",
    "print(melhores_parametros)\n",
    "print(melhor_resultado)\n",
    "print(tree_cv.best_estimator_)\n",
    "\n",
    "tree_clf = DecisionTreeClassifier(**melhores_parametros)\n",
    "tree_clf.fit(x_train, y_train)\n",
    "print_score(tree_clf, x_train, y_train, x_test, y_test, train=True)\n",
    "print_score(tree_clf, x_train, y_train, x_test, y_test, train=False)"
   ]
  },
  {
   "cell_type": "markdown",
   "id": "e2bd7a76-d73f-4a2b-a629-491627fa18b9",
   "metadata": {
    "jp-MarkdownHeadingCollapsed": true
   },
   "source": [
    "##### Algoritmos para informação"
   ]
  },
  {
   "cell_type": "code",
   "execution_count": null,
   "id": "06981b18-b829-437b-aab7-b0a6aeb0d2ad",
   "metadata": {
    "tags": []
   },
   "outputs": [],
   "source": [
    "algorithms = [\n",
    "    ('Árvore de Decisão (C4.5)', DecisionTreeClassifier(random_state=42)),\n",
    "    ('Random Forest', RandomForestClassifier(random_state=42)),\n",
    "    ('SVM', SVC(random_state=42)),\n",
    "    ('Rede Neural', MLPClassifier(random_state=42)),\n",
    "]\n",
    "\n",
    "for name, classifier in algorithms:\n",
    "    classifier.fit(x_train_inf, y_train_inf)\n",
    "    train_predictions_inf = classifier.predict(x_train_inf)\n",
    "    test_predictions_inf = classifier.predict(x_test_inf)\n",
    "    \n",
    "    train_accuracy_inf = accuracy_score(y_train_inf, train_predictions_inf)\n",
    "    test_accuracy_inf = accuracy_score(y_test_inf, test_predictions_inf)\n",
    "    \n",
    "    precision_inf = precision_score(y_test_inf, test_predictions_inf, average='macro')\n",
    "    recall_inf = recall_score(y_test_inf, test_predictions_inf, average='macro')\n",
    "    f1_inf = f1_score(y_test_inf, test_predictions_inf, average='macro')\n",
    "    \n",
    "    conf_matrix_inf = confusion_matrix(y_test_inf, test_predictions_inf)\n",
    "    \n",
    "    print(f'{name} - Acurácia no Conjunto de Treinamento: {train_accuracy_inf * 100:.2f}%')\n",
    "    print(f'{name} - Acurácia no Conjunto de Teste: {test_accuracy_inf * 100:.2f}%')\n",
    "    print(f'{name} - Precisão: {precision_inf * 100:.2f}%')\n",
    "    print(f'{name} - Recall: {recall_inf * 100:.2f}%')\n",
    "    print(f'{name} - F1-Score: {f1_inf * 100:.2f}%')\n",
    "    print(f'{name} - Matriz de Confusão:\\n{conf_matrix_inf}\\n')\n"
   ]
  },
  {
   "cell_type": "markdown",
   "id": "b4165c43-bef6-4baf-9f46-a8c1ae0b6279",
   "metadata": {
    "tags": []
   },
   "source": [
    "### Os algoritmos"
   ]
  },
  {
   "cell_type": "code",
   "execution_count": 13,
   "id": "cca2bbdd-3d09-4e14-b8d2-2a485b3e3615",
   "metadata": {
    "tags": []
   },
   "outputs": [
    {
     "name": "stdout",
     "output_type": "stream",
     "text": [
      "Árvore de Decisão (C4.5) - Acurácia no Conjunto de Treinamento: 64.19%\n",
      "Árvore de Decisão (C4.5) - Acurácia no Conjunto de Teste: 63.48%\n",
      "Árvore de Decisão (C4.5) - Precisão: 64.43%\n",
      "Árvore de Decisão (C4.5) - Recall: 30.29%\n",
      "Árvore de Decisão (C4.5) - F1-Score: 41.21%\n",
      "Árvore de Decisão (C4.5) - Matriz de Confusão:\n",
      "[[1485  207]\n",
      " [ 863  375]]\n",
      "\n",
      "Random Forest - Acurácia no Conjunto de Treinamento: 75.12%\n",
      "Random Forest - Acurácia no Conjunto de Teste: 63.89%\n",
      "Random Forest - Precisão: 62.13%\n",
      "Random Forest - Recall: 37.24%\n",
      "Random Forest - F1-Score: 46.57%\n",
      "Random Forest - Matriz de Confusão:\n",
      "[[1411  281]\n",
      " [ 777  461]]\n",
      "\n",
      "[LibSVM]SVM - Acurácia no Conjunto de Treinamento: 64.73%\n",
      "SVM - Acurácia no Conjunto de Teste: 62.87%\n",
      "SVM - Precisão: 61.06%\n",
      "SVM - Recall: 33.44%\n",
      "SVM - F1-Score: 43.22%\n",
      "SVM - Matriz de Confusão:\n",
      "[[1428  264]\n",
      " [ 824  414]]\n",
      "\n",
      "Rede Neural - Acurácia no Conjunto de Treinamento: 66.40%\n",
      "Rede Neural - Acurácia no Conjunto de Teste: 62.90%\n",
      "Rede Neural - Precisão: 58.38%\n",
      "Rede Neural - Recall: 42.49%\n",
      "Rede Neural - F1-Score: 49.18%\n",
      "Rede Neural - Matriz de Confusão:\n",
      "[[1317  375]\n",
      " [ 712  526]]\n",
      "\n"
     ]
    }
   ],
   "source": [
    "from sklearn.metrics import accuracy_score, precision_score, recall_score, f1_score, confusion_matrix\n",
    "\n",
    "algorithms = [\n",
    "    ('Árvore de Decisão (C4.5)', DecisionTreeClassifier(criterion='entropy', max_depth=4, min_samples_leaf=6,\n",
    "                       random_state=42)),\n",
    "    ('Random Forest', RandomForestClassifier(bootstrap=False, criterion='entropy', max_depth=10,\n",
    "                       n_estimators=200, n_jobs=-1, random_state=42,\n",
    "                       warm_start=True)),\n",
    "    ('SVM', SVC(C=5000, break_ties=True, degree=1, probability=True, random_state=42,\n",
    "    tol=0.0001, verbose=True)),\n",
    "    ('Rede Neural', MLPClassifier(activation='tanh', hidden_layer_sizes=(100, 100), random_state=42)),\n",
    "]\n",
    "\n",
    "for name, classifier in algorithms:\n",
    "    classifier.fit(x_train, y_train)\n",
    "    train_predictions = classifier.predict(x_train)\n",
    "    test_predictions = classifier.predict(x_test)\n",
    "    \n",
    "    train_accuracy = accuracy_score(y_train, train_predictions)\n",
    "    test_accuracy = accuracy_score(y_test, test_predictions)\n",
    "    \n",
    "    precision = precision_score(y_test, test_predictions)\n",
    "    recall = recall_score(y_test, test_predictions)\n",
    "    f1 = f1_score(y_test, test_predictions)\n",
    "    \n",
    "    conf_matrix = confusion_matrix(y_test, test_predictions)\n",
    "    \n",
    "    print(f'{name} - Acurácia no Conjunto de Treinamento: {train_accuracy * 100:.2f}%')\n",
    "    print(f'{name} - Acurácia no Conjunto de Teste: {test_accuracy * 100:.2f}%')\n",
    "    print(f'{name} - Precisão: {precision * 100:.2f}%')\n",
    "    print(f'{name} - Recall: {recall * 100:.2f}%')\n",
    "    print(f'{name} - F1-Score: {f1 * 100:.2f}%')\n",
    "    print(f'{name} - Matriz de Confusão:\\n{conf_matrix}\\n')\n"
   ]
  },
  {
   "cell_type": "markdown",
   "id": "3b436740-1c13-4d5f-8bf7-13ebbf20077c",
   "metadata": {
    "jp-MarkdownHeadingCollapsed": true
   },
   "source": [
    "# testar o algoritmos"
   ]
  },
  {
   "cell_type": "code",
   "execution_count": null,
   "id": "61f013d6-fe05-4e70-8f56-cc487ec97c46",
   "metadata": {
    "tags": []
   },
   "outputs": [],
   "source": [
    "classifier = RandomForestClassifier(bootstrap=False, criterion='entropy', max_depth=10,\n",
    "                       n_estimators=200, n_jobs=-1, random_state=42,\n",
    "                       warm_start=True)\n",
    "classifier.fit(x_train, y_train)\n",
    "predictions = classifier.predict(x_test)\n",
    "accuracy = accuracy_score(y_test, predictions)\n",
    "print(f'Acurácia: {accuracy * 100:.2f}%')\n"
   ]
  },
  {
   "cell_type": "code",
   "execution_count": null,
   "id": "f033f78a-c9d5-4eed-86ca-9fa71926d0a8",
   "metadata": {},
   "outputs": [],
   "source": [
    "print(classification_report(y_test, predictions))"
   ]
  },
  {
   "cell_type": "code",
   "execution_count": null,
   "id": "88cb2b12-e5a5-46d2-a698-d138eb59d67e",
   "metadata": {},
   "outputs": [],
   "source": [
    "precision = precision_score(y_test, predictions, average='macro')\n",
    "recall = recall_score(y_test, predictions, average='macro')\n",
    "f1 = f1_score(y_test, predictions, average='macro')"
   ]
  },
  {
   "cell_type": "code",
   "execution_count": null,
   "id": "26839093-9d77-4473-8933-efde068fcd0b",
   "metadata": {},
   "outputs": [],
   "source": [
    "print(f'Metricas = {precision * 100:.2f}%')\n",
    "print(f'Metricas = {recall * 100:.2f}%')\n",
    "print(f'Metricas = {f1 * 100:.2f}%')"
   ]
  },
  {
   "cell_type": "code",
   "execution_count": null,
   "id": "1ea953e9-f5b3-47bf-8038-306a80cdf85d",
   "metadata": {},
   "outputs": [],
   "source": [
    "valores_unicos, contagem = np.unique(predictions, return_counts=True)\n",
    "valores_unicos, contagem"
   ]
  },
  {
   "cell_type": "code",
   "execution_count": null,
   "id": "a86bd18c-70ce-468f-819d-6c2055533c8d",
   "metadata": {
    "tags": []
   },
   "outputs": [],
   "source": [
    "from sklearn.preprocessing import StandardScaler\n",
    "\n",
    "# Dados do usuário\n",
    "dados_usuario = [[1, 10, 37, 2, 6.0, 14.0, 5.0]]  # Substitua esses valores pelos dados reais do usuário\n",
    "previsao_usuario = classifier.predict(dados_usuario)\n",
    "\n",
    "print(f'Especialidade prevista para o usuário: {previsao_usuario[0]}')  # Use [0] para acessar o valor único na matriz de previsão"
   ]
  },
  {
   "cell_type": "code",
   "execution_count": null,
   "id": "a7877acf-b370-42e1-bd72-9545b14c04ed",
   "metadata": {},
   "outputs": [],
   "source": [
    "def train_model(X, y):\n",
    "    smtom = SMOTETomek(random_state=139)\n",
    "    X_resampled, y_resampled = smtom.fit_resample(X, y)\n",
    "    X_train, X_test, y_train, y_test = train_test_split(X_resampled, y_resampled, test_size=0.2, stratify=y_resampled, random_state=42)\n",
    "    \n",
    "    classifier = RandomForestClassifier(criterion='entropy', max_depth=90, max_features='sqrt',\n",
    "                    min_samples_leaf=4, min_samples_split=2, n_estimators=195, random_state=42)\n",
    "    classifier.fit(X_train, y_train)\n",
    "    \n",
    "    predictions = classifier.predict(X_test)\n",
    "    accuracy = accuracy_score(y_test, predictions)\n",
    "    \n",
    "    return classifier, accuracy"
   ]
  },
  {
   "cell_type": "code",
   "execution_count": null,
   "id": "f42b13e3-d8f6-4f15-bf3d-53a84344180b",
   "metadata": {},
   "outputs": [],
   "source": [
    "if previsao_usuario == \"informatica\" or previsao_usuario == \"computacao\":\n",
    "    # Filtrar os dados para a área de concentração correspondente\n",
    "    area = X_dataset[X_dataset['area_concentration'] == previsao_usuario[0]]\n",
    "    X_area = area.drop(['ESPECIALIDADE', 'area_concentration'], axis=1)\n",
    "    y_area = area['ESPECIALIDADE']\n",
    "\n",
    "    # Treinar o modelo\n",
    "    classifier, accuracy = train_model(X_area, y_area)\n",
    "\n",
    "    print(f'Acurácia: {accuracy * 100:.2f}%')\n",
    "    print(f'Linha de Pesquisa Prevista: {classifier.predict(X_area.iloc[[0]])[0]}')\n",
    "else:\n",
    "    print(\"Área de concentração não reconhecida\")\n"
   ]
  }
 ],
 "metadata": {
  "kernelspec": {
   "display_name": "Python 3 (ipykernel)",
   "language": "python",
   "name": "python3"
  },
  "language_info": {
   "codemirror_mode": {
    "name": "ipython",
    "version": 3
   },
   "file_extension": ".py",
   "mimetype": "text/x-python",
   "name": "python",
   "nbconvert_exporter": "python",
   "pygments_lexer": "ipython3",
   "version": "3.12.0"
  }
 },
 "nbformat": 4,
 "nbformat_minor": 5
}
