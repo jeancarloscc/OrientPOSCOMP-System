{
 "cells": [
  {
   "cell_type": "markdown",
   "id": "0b6e3b52-5850-4d30-808e-cc286e6e6e36",
   "metadata": {},
   "source": [
    "# Aplicações de Algoritmos de aprendizado de máquina"
   ]
  },
  {
   "cell_type": "code",
   "execution_count": 1,
   "id": "9c12e0a4-0e80-478d-9e49-e05192cf22fb",
   "metadata": {
    "tags": []
   },
   "outputs": [
    {
     "name": "stdout",
     "output_type": "stream",
     "text": [
      "Using TensorFlow backend\n"
     ]
    }
   ],
   "source": [
    "import pandas as pd\n",
    "import numpy as np\n",
    "import matplotlib.pyplot as plt\n",
    "import seaborn as sns\n",
    "import warnings\n",
    "from sklearn.preprocessing import StandardScaler, LabelEncoder\n",
    "from sklearn.cluster import KMeans\n",
    "from sklearn.tree import DecisionTreeClassifier, export_graphviz\n",
    "from sklearn.metrics import (\n",
    "    f1_score, precision_score, recall_score, accuracy_score, classification_report,\n",
    "    confusion_matrix, roc_auc_score, roc_curve, precision_recall_curve\n",
    ")\n",
    "from sklearn.model_selection import train_test_split, StratifiedKFold, GridSearchCV, RandomizedSearchCV, KFold, cross_val_score\n",
    "from sklearn import tree\n",
    "from sklearn.neural_network import MLPClassifier\n",
    "from sklearn.ensemble import RandomForestClassifier\n",
    "from sklearn.svm import SVC\n",
    "from sklearn.neighbors import KNeighborsClassifier\n",
    "from keras.layers import Dense, Dropout\n",
    "from keras.optimizers import Adam\n",
    "from tensorflow import keras\n",
    "from keras.models import Sequential\n",
    "from keras.wrappers.scikit_learn import KerasClassifier\n",
    "from keras_tuner.tuners import RandomSearch\n",
    "import services.function as sf\n",
    "\n",
    "warnings.filterwarnings('ignore')\n"
   ]
  },
  {
   "cell_type": "code",
   "execution_count": 2,
   "id": "c4dd3968-ecee-45d0-9d7e-5ec61d73cf1d",
   "metadata": {
    "tags": []
   },
   "outputs": [],
   "source": [
    "dataset = pd.read_csv('dados/df_poscomp.csv')"
   ]
  },
  {
   "cell_type": "code",
   "execution_count": 3,
   "id": "499ac9ee-ca00-4716-9c13-bd47839a3250",
   "metadata": {
    "tags": []
   },
   "outputs": [],
   "source": [
    "X_dataset = dataset.loc[:,['IDADE','SEXO','REGIAO','ESTADO','matematica', 'fund_computacao','tec_computacao','area_concentration']]"
   ]
  },
  {
   "cell_type": "code",
   "execution_count": 4,
   "id": "081c4e82-231f-4300-bb32-af1836580e66",
   "metadata": {},
   "outputs": [],
   "source": [
    "# X_dataset.drop('area_concentration',axis=1, inplace =True)\n",
    "# X_dataset = pd.get_dummies(X_dataset.iloc[:,:-1]).astype('int64')"
   ]
  },
  {
   "cell_type": "code",
   "execution_count": 5,
   "id": "3ed6f40b-fd86-4f10-8369-a0620b423511",
   "metadata": {},
   "outputs": [],
   "source": [
    "X_dataset['area_concentration'] = dataset.area_concentration\n",
    "X_dataset['area_concentration'] = X_dataset['area_concentration'].astype('category')"
   ]
  },
  {
   "cell_type": "code",
   "execution_count": 6,
   "id": "b80e4b51-ae86-4083-8086-d7989060a4c2",
   "metadata": {},
   "outputs": [],
   "source": [
    "# colunas_a_padronizar = ['matematica', 'fund_computacao', 'tec_computacao']\n",
    "# scaler = StandardScaler()\n",
    "# X_dataset[colunas_a_padronizar] = scaler.fit_transform(X_dataset[colunas_a_padronizar])"
   ]
  },
  {
   "cell_type": "code",
   "execution_count": 7,
   "id": "fc515f69-4e5e-43f1-b601-a6a84612d324",
   "metadata": {},
   "outputs": [],
   "source": [
    "def encode_categorical_columns(df, columns):\n",
    "    le = LabelEncoder()\n",
    "    for col in columns:\n",
    "        df[col] = le.fit_transform(df[col])\n",
    "    return df\n",
    "\n",
    "categorical_columns = [\"area_concentration\",'SEXO','REGIAO','ESTADO']\n",
    "X_dataset = encode_categorical_columns(X_dataset, categorical_columns)\n"
   ]
  },
  {
   "cell_type": "code",
   "execution_count": 8,
   "id": "95c8e5c0-7bd4-41d4-bd71-2b2d07226f2c",
   "metadata": {},
   "outputs": [
    {
     "data": {
      "text/html": [
       "<div>\n",
       "<style scoped>\n",
       "    .dataframe tbody tr th:only-of-type {\n",
       "        vertical-align: middle;\n",
       "    }\n",
       "\n",
       "    .dataframe tbody tr th {\n",
       "        vertical-align: top;\n",
       "    }\n",
       "\n",
       "    .dataframe thead th {\n",
       "        text-align: right;\n",
       "    }\n",
       "</style>\n",
       "<table border=\"1\" class=\"dataframe\">\n",
       "  <thead>\n",
       "    <tr style=\"text-align: right;\">\n",
       "      <th></th>\n",
       "      <th>IDADE</th>\n",
       "      <th>SEXO</th>\n",
       "      <th>REGIAO</th>\n",
       "      <th>ESTADO</th>\n",
       "      <th>matematica</th>\n",
       "      <th>fund_computacao</th>\n",
       "      <th>tec_computacao</th>\n",
       "      <th>area_concentration</th>\n",
       "    </tr>\n",
       "  </thead>\n",
       "  <tbody>\n",
       "    <tr>\n",
       "      <th>0</th>\n",
       "      <td>27</td>\n",
       "      <td>1</td>\n",
       "      <td>1</td>\n",
       "      <td>5</td>\n",
       "      <td>14.0</td>\n",
       "      <td>21.0</td>\n",
       "      <td>10.0</td>\n",
       "      <td>1</td>\n",
       "    </tr>\n",
       "    <tr>\n",
       "      <th>1</th>\n",
       "      <td>21</td>\n",
       "      <td>1</td>\n",
       "      <td>4</td>\n",
       "      <td>22</td>\n",
       "      <td>16.0</td>\n",
       "      <td>22.0</td>\n",
       "      <td>12.0</td>\n",
       "      <td>1</td>\n",
       "    </tr>\n",
       "    <tr>\n",
       "      <th>2</th>\n",
       "      <td>25</td>\n",
       "      <td>1</td>\n",
       "      <td>3</td>\n",
       "      <td>25</td>\n",
       "      <td>4.0</td>\n",
       "      <td>16.0</td>\n",
       "      <td>8.0</td>\n",
       "      <td>1</td>\n",
       "    </tr>\n",
       "    <tr>\n",
       "      <th>3</th>\n",
       "      <td>30</td>\n",
       "      <td>1</td>\n",
       "      <td>2</td>\n",
       "      <td>13</td>\n",
       "      <td>4.0</td>\n",
       "      <td>13.0</td>\n",
       "      <td>7.0</td>\n",
       "      <td>1</td>\n",
       "    </tr>\n",
       "    <tr>\n",
       "      <th>4</th>\n",
       "      <td>19</td>\n",
       "      <td>0</td>\n",
       "      <td>2</td>\n",
       "      <td>2</td>\n",
       "      <td>6.0</td>\n",
       "      <td>15.0</td>\n",
       "      <td>11.0</td>\n",
       "      <td>0</td>\n",
       "    </tr>\n",
       "    <tr>\n",
       "      <th>...</th>\n",
       "      <td>...</td>\n",
       "      <td>...</td>\n",
       "      <td>...</td>\n",
       "      <td>...</td>\n",
       "      <td>...</td>\n",
       "      <td>...</td>\n",
       "      <td>...</td>\n",
       "      <td>...</td>\n",
       "    </tr>\n",
       "    <tr>\n",
       "      <th>10916</th>\n",
       "      <td>22</td>\n",
       "      <td>0</td>\n",
       "      <td>3</td>\n",
       "      <td>10</td>\n",
       "      <td>14.0</td>\n",
       "      <td>16.0</td>\n",
       "      <td>8.0</td>\n",
       "      <td>0</td>\n",
       "    </tr>\n",
       "    <tr>\n",
       "      <th>10917</th>\n",
       "      <td>48</td>\n",
       "      <td>1</td>\n",
       "      <td>1</td>\n",
       "      <td>14</td>\n",
       "      <td>10.0</td>\n",
       "      <td>16.0</td>\n",
       "      <td>9.0</td>\n",
       "      <td>0</td>\n",
       "    </tr>\n",
       "    <tr>\n",
       "      <th>10918</th>\n",
       "      <td>24</td>\n",
       "      <td>1</td>\n",
       "      <td>3</td>\n",
       "      <td>25</td>\n",
       "      <td>9.0</td>\n",
       "      <td>18.0</td>\n",
       "      <td>8.0</td>\n",
       "      <td>1</td>\n",
       "    </tr>\n",
       "    <tr>\n",
       "      <th>10919</th>\n",
       "      <td>25</td>\n",
       "      <td>1</td>\n",
       "      <td>3</td>\n",
       "      <td>7</td>\n",
       "      <td>10.0</td>\n",
       "      <td>16.0</td>\n",
       "      <td>6.0</td>\n",
       "      <td>0</td>\n",
       "    </tr>\n",
       "    <tr>\n",
       "      <th>10920</th>\n",
       "      <td>24</td>\n",
       "      <td>1</td>\n",
       "      <td>4</td>\n",
       "      <td>22</td>\n",
       "      <td>13.0</td>\n",
       "      <td>17.0</td>\n",
       "      <td>5.0</td>\n",
       "      <td>1</td>\n",
       "    </tr>\n",
       "  </tbody>\n",
       "</table>\n",
       "<p>10921 rows × 8 columns</p>\n",
       "</div>"
      ],
      "text/plain": [
       "       IDADE  SEXO  REGIAO  ESTADO  matematica  fund_computacao  \\\n",
       "0         27     1       1       5        14.0             21.0   \n",
       "1         21     1       4      22        16.0             22.0   \n",
       "2         25     1       3      25         4.0             16.0   \n",
       "3         30     1       2      13         4.0             13.0   \n",
       "4         19     0       2       2         6.0             15.0   \n",
       "...      ...   ...     ...     ...         ...              ...   \n",
       "10916     22     0       3      10        14.0             16.0   \n",
       "10917     48     1       1      14        10.0             16.0   \n",
       "10918     24     1       3      25         9.0             18.0   \n",
       "10919     25     1       3       7        10.0             16.0   \n",
       "10920     24     1       4      22        13.0             17.0   \n",
       "\n",
       "       tec_computacao  area_concentration  \n",
       "0                10.0                   1  \n",
       "1                12.0                   1  \n",
       "2                 8.0                   1  \n",
       "3                 7.0                   1  \n",
       "4                11.0                   0  \n",
       "...               ...                 ...  \n",
       "10916             8.0                   0  \n",
       "10917             9.0                   0  \n",
       "10918             8.0                   1  \n",
       "10919             6.0                   0  \n",
       "10920             5.0                   1  \n",
       "\n",
       "[10921 rows x 8 columns]"
      ]
     },
     "execution_count": 8,
     "metadata": {},
     "output_type": "execute_result"
    }
   ],
   "source": [
    "X_dataset"
   ]
  },
  {
   "cell_type": "code",
   "execution_count": 9,
   "id": "1f54f1b5-8d95-4c24-a837-c90042f0291e",
   "metadata": {
    "tags": []
   },
   "outputs": [],
   "source": [
    "X = X_dataset.drop(['area_concentration'], axis=1)\n",
    "y = X_dataset['area_concentration']"
   ]
  },
  {
   "cell_type": "markdown",
   "id": "4a3a66fd-0f16-4dbe-8da9-689e75846071",
   "metadata": {
    "tags": []
   },
   "source": [
    "### Dividir a base"
   ]
  },
  {
   "cell_type": "code",
   "execution_count": 10,
   "id": "c25fe3bb-03a3-41b5-8094-7d30bfcfea06",
   "metadata": {
    "tags": []
   },
   "outputs": [],
   "source": [
    "x_train, x_test, y_train, y_test = train_test_split(X, y, test_size=0.3, random_state=42,stratify=y)"
   ]
  },
  {
   "cell_type": "code",
   "execution_count": 11,
   "id": "dbc22457-96b6-4a28-9d4e-a9fe756d4412",
   "metadata": {},
   "outputs": [
    {
     "name": "stdout",
     "output_type": "stream",
     "text": [
      "Shape of x_train :  (7644, 7)\n",
      "Shape of x_test  :  (3277, 7)\n",
      "Shape of y_train :  (7644,)\n",
      "Shape of y_test  :  (3277,)\n"
     ]
    }
   ],
   "source": [
    "print(\"Shape of x_train : \",x_train.shape)\n",
    "print(\"Shape of x_test  : \",x_test.shape)\n",
    "print(\"Shape of y_train : \",y_train.shape)\n",
    "print(\"Shape of y_test  : \",y_test.shape)"
   ]
  },
  {
   "cell_type": "code",
   "execution_count": 12,
   "id": "6affa024-f26b-4f07-8fdc-20cf1eb4c6dc",
   "metadata": {},
   "outputs": [
    {
     "name": "stdout",
     "output_type": "stream",
     "text": [
      ">Train: 0=6185, 1=3643, Test: 0=688, 1=405\n",
      ">Train: 0=6186, 1=3643, Test: 0=687, 1=405\n",
      ">Train: 0=6186, 1=3643, Test: 0=687, 1=405\n",
      ">Train: 0=6186, 1=3643, Test: 0=687, 1=405\n",
      ">Train: 0=6186, 1=3643, Test: 0=687, 1=405\n",
      ">Train: 0=6186, 1=3643, Test: 0=687, 1=405\n",
      ">Train: 0=6186, 1=3643, Test: 0=687, 1=405\n",
      ">Train: 0=6186, 1=3643, Test: 0=687, 1=405\n",
      ">Train: 0=6185, 1=3644, Test: 0=688, 1=404\n",
      ">Train: 0=6185, 1=3644, Test: 0=688, 1=404\n"
     ]
    }
   ],
   "source": [
    "from collections import Counter\n",
    "skf = StratifiedKFold(n_splits=10, shuffle=True, random_state=42)\n",
    "\n",
    "# enumerate the splits and summarize the distributions\n",
    "for train_ix, test_ix in skf.split(X, y):\n",
    "# select rows\n",
    "    train_x, test_x = X.iloc[train_ix], X.loc[test_ix]\n",
    "    train_y, test_y = y.iloc[train_ix], y.iloc[test_ix]\n",
    "# summarize train and test composition\n",
    "    train, train1 = len(train_y[train_y==0]), len(train_y[train_y==1])\n",
    "    test, test1 = len(test_y[test_y==0]), len(test_y[test_y==1])\n",
    "    print('>Train: 0=%d, 1=%d, Test: 0=%d, 1=%d' % (train, train1, test, test1))"
   ]
  },
  {
   "cell_type": "code",
   "execution_count": 13,
   "id": "06aad919-f2ac-473b-8b98-5eafb105a2b6",
   "metadata": {},
   "outputs": [],
   "source": [
    "def print_score(clf, x_train, y_train, x_test, y_test, train=True):\n",
    "    if train:\n",
    "        pred = clf.predict(x_train)\n",
    "        clf_report = pd.DataFrame(classification_report(y_train, pred, output_dict=True))\n",
    "        print(\"Train Result:\\n==========================================================================\")\n",
    "        print(f\"Accuracy Score: {accuracy_score(y_train, pred) * 100:.2f}%\")\n",
    "        print(\"__________________________________________________________________________\")\n",
    "        print(f\"CLASSIFICATION REPORT:\\n{clf_report}\")\n",
    "        print(\"__________________________________________________________________________\")\n",
    "        print(f\"Confusion Matrix: \\n {confusion_matrix(y_train, pred)}\\n\")\n",
    "        \n",
    "    elif train==False:\n",
    "        pred = clf.predict(x_test)\n",
    "        clf_report = pd.DataFrame(classification_report(y_test, pred, output_dict=True))\n",
    "        print(\"Test Result:\\n==========================================================================\")        \n",
    "        print(f\"Accuracy Score: {accuracy_score(y_test, pred) * 100:.2f}%\")\n",
    "        print(\"__________________________________________________________________________\")\n",
    "        print(f\"CLASSIFICATION REPORT:\\n{clf_report}\")\n",
    "        print(\"__________________________________________________________________________\")\n",
    "        print(f\"Confusion Matrix: \\n {confusion_matrix(y_test, pred)}\\n\")"
   ]
  },
  {
   "cell_type": "markdown",
   "id": "c465ab7e-ab91-4f38-b8b9-a5532bdd0d1b",
   "metadata": {
    "tags": []
   },
   "source": [
    "### Árvore de Decisão"
   ]
  },
  {
   "cell_type": "code",
   "execution_count": 330,
   "id": "50b2d734-9740-4b7e-89fc-496ae3fcad45",
   "metadata": {
    "tags": []
   },
   "outputs": [],
   "source": [
    "parametros = {'criterion': ['entropy'],\n",
    "              'splitter': ['best', 'random'],\n",
    "              'min_samples_leaf': [22],\n",
    "             'max_depth':[7],\n",
    "             'max_features': ['sqrt'],\n",
    "              'max_leaf_nodes': [None, 5, 10, 20],\n",
    "             'min_impurity_decrease': [0.0, 0.1, 0.2],\n",
    "    'ccp_alpha': [0.0, 0.1, 0.2]}"
   ]
  },
  {
   "cell_type": "code",
   "execution_count": 14,
   "id": "db0003a8-3c0a-4e1b-9de1-c0db92b736ac",
   "metadata": {
    "tags": []
   },
   "outputs": [],
   "source": [
    "parametros = {'criterion': [\"entropy\"],\n",
    "    'splitter': [\"best\", \"random\"],\n",
    "    'max_depth': [None, 10, 20, 30, 40, 50],  # Ou qualquer outro intervalo apropriado\n",
    "    'min_samples_split': [2, 5, 10],\n",
    "    'min_samples_leaf': [1, 2, 4],\n",
    "    'min_weight_fraction_leaf': [0.0, 0.1, 0.2],\n",
    "    'max_features': [None, \"auto\", \"sqrt\", \"log2\"],\n",
    "    'random_state': [None, 42],  # Use um valor fixo se desejar repetibilidade nos resultados\n",
    "    'max_leaf_nodes': [None, 5, 10, 20],\n",
    "    'min_impurity_decrease': [0.0, 0.1, 0.2],\n",
    "    'ccp_alpha': [0.0, 0.1, 0.2],\n",
    "}"
   ]
  },
  {
   "cell_type": "code",
   "execution_count": null,
   "id": "fd232a86-eaa5-4e93-afb6-58840a9751b1",
   "metadata": {
    "tags": []
   },
   "outputs": [
    {
     "name": "stdout",
     "output_type": "stream",
     "text": [
      "Fitting 10 folds for each of 93312 candidates, totalling 933120 fits\n"
     ]
    }
   ],
   "source": [
    "tree_clf = DecisionTreeClassifier(random_state=42)\n",
    "tree_cv = GridSearchCV(estimator=tree_clf, param_grid=parametros, scoring=\"accuracy\", n_jobs=-1, verbose=1, cv=10)\n",
    "tree_cv.fit(x_train, y_train)\n",
    "melhores_parametros = tree_cv.best_params_\n",
    "melhor_resultado = tree_cv.best_score_\n",
    "print(melhores_parametros)\n",
    "print(melhor_resultado)\n",
    "print(tree_cv.best_estimator_)\n",
    "\n",
    "tree_clf = DecisionTreeClassifier(**melhores_parametros)\n",
    "tree_clf.fit(x_train, y_train)\n",
    "print_score(tree_clf, x_train, y_train, x_test, y_test, train=True)\n",
    "print_score(tree_clf, x_train, y_train, x_test, y_test, train=False)"
   ]
  },
  {
   "cell_type": "code",
   "execution_count": null,
   "id": "2c29f8ac-a4fe-4e93-97c7-68cb3869bfec",
   "metadata": {},
   "outputs": [],
   "source": [
    "tree_clf = DecisionTreeClassifier(random_state=42)\n",
    "tree_cv = GridSearchCV(tree_clf, parametros, scoring=\"accuracy\", n_jobs=-1, verbose=1, cv=10)\n",
    "tree_cv.fit(train_x, train_y)\n",
    "best_params = tree_cv.best_params_\n",
    "print(f\"Best paramters: {best_params})\")\n",
    "print(tree_cv.best_estimator_)\n",
    "\n",
    "tree_clf = DecisionTreeClassifier(**best_params)\n",
    "tree_clf.fit(train_x, train_y)\n",
    "print_score(tree_clf, train_x, train_y, test_x, test_y, train=True)\n",
    "print_score(tree_clf, train_x, train_y, test_x, test_y, train=False)"
   ]
  },
  {
   "cell_type": "markdown",
   "id": "effde1be-9de1-4fb8-a725-df2040bc7270",
   "metadata": {
    "jp-MarkdownHeadingCollapsed": true,
    "tags": []
   },
   "source": [
    "### Rede Neural"
   ]
  },
  {
   "cell_type": "code",
   "execution_count": 266,
   "id": "334f458e-c7e6-4dcb-b62d-c1e0924dc648",
   "metadata": {
    "tags": []
   },
   "outputs": [],
   "source": [
    "parametros = {'activation': ['relu', 'logistic', 'tahn'],\n",
    "              'solver': ['adam', 'sgd'],\n",
    "              'batch_size': [2,3,4,5,6]}"
   ]
  },
  {
   "cell_type": "code",
   "execution_count": 267,
   "id": "e9702684-ca95-4d7d-b7ee-4e7104e5bea5",
   "metadata": {
    "tags": []
   },
   "outputs": [
    {
     "name": "stdout",
     "output_type": "stream",
     "text": [
      "{'activation': 'relu', 'batch_size': 3, 'solver': 'adam'}\n",
      "0.6542386462082119\n",
      "Train Result:\n",
      "==========================================================================\n",
      "Accuracy Score: 65.57%\n",
      "__________________________________________________________________________\n",
      "CLASSIFICATION REPORT:\n",
      "                     0            1  accuracy    macro avg  weighted avg\n",
      "precision     0.658473     0.630689  0.655678     0.644581      0.648176\n",
      "recall        0.940969     0.171197  0.655678     0.556083      0.655678\n",
      "f1-score      0.774773     0.269295  0.655678     0.522034      0.587434\n",
      "support    4811.000000  2833.000000  0.655678  7644.000000   7644.000000\n",
      "__________________________________________________________________________\n",
      "Confusion Matrix: \n",
      " [[4527  284]\n",
      " [2348  485]]\n",
      "\n",
      "Test Result:\n",
      "==========================================================================\n",
      "Accuracy Score: 65.06%\n",
      "__________________________________________________________________________\n",
      "CLASSIFICATION REPORT:\n",
      "                     0            1  accuracy    macro avg  weighted avg\n",
      "precision     0.655688     0.605422  0.650595     0.630555      0.637051\n",
      "recall        0.936469     0.165432  0.650595     0.550951      0.650595\n",
      "f1-score      0.771320     0.259858  0.650595     0.515589      0.581687\n",
      "support    2062.000000  1215.000000  0.650595  3277.000000   3277.000000\n",
      "__________________________________________________________________________\n",
      "Confusion Matrix: \n",
      " [[1931  131]\n",
      " [1014  201]]\n",
      "\n"
     ]
    }
   ],
   "source": [
    "neural_clf = MLPClassifier(random_state=42)\n",
    "neural_cv = GridSearchCV(estimator=neural_clf, param_grid=parametros)\n",
    "neural_cv.fit(x_train, y_train)\n",
    "melhores_parametros = neural_cv.best_params_\n",
    "melhor_resultado = neural_cv.best_score_\n",
    "print(melhores_parametros)\n",
    "print(melhor_resultado)\n",
    "\n",
    "neural_clf = MLPClassifier(**melhores_parametros)\n",
    "neural_clf.fit(x_train, y_train)\n",
    "print_score(neural_clf, x_train, y_train, x_test, y_test, train=True)\n",
    "print_score(neural_clf, x_train, y_train, x_test, y_test, train=False)"
   ]
  },
  {
   "cell_type": "code",
   "execution_count": 268,
   "id": "e922dfcc-f5a1-42ba-8113-1c86589c30d2",
   "metadata": {
    "tags": []
   },
   "outputs": [
    {
     "name": "stdout",
     "output_type": "stream",
     "text": [
      "{'activation': 'logistic', 'batch_size': 5, 'solver': 'adam'}\n",
      "0.6516441075898416\n",
      "Train Result:\n",
      "==========================================================================\n",
      "Accuracy Score: 65.24%\n",
      "__________________________________________________________________________\n",
      "CLASSIFICATION REPORT:\n",
      "                     0            1  accuracy    macro avg  weighted avg\n",
      "precision     0.668084     0.571160  0.652355     0.619622      0.632150\n",
      "recall        0.889410     0.250000  0.652355     0.569705      0.652355\n",
      "f1-score      0.763021     0.347776  0.652355     0.555399      0.609073\n",
      "support    6185.000000  3644.000000  0.652355  9829.000000   9829.000000\n",
      "__________________________________________________________________________\n",
      "Confusion Matrix: \n",
      " [[5501  684]\n",
      " [2733  911]]\n",
      "\n",
      "Test Result:\n",
      "==========================================================================\n",
      "Accuracy Score: 66.12%\n",
      "__________________________________________________________________________\n",
      "CLASSIFICATION REPORT:\n",
      "                    0           1  accuracy    macro avg  weighted avg\n",
      "precision    0.671336    0.603659  0.661172     0.637497      0.646298\n",
      "recall       0.905523    0.245050  0.661172     0.575286      0.661172\n",
      "f1-score     0.771040    0.348592  0.661172     0.559816      0.614749\n",
      "support    688.000000  404.000000  0.661172  1092.000000   1092.000000\n",
      "__________________________________________________________________________\n",
      "Confusion Matrix: \n",
      " [[623  65]\n",
      " [305  99]]\n",
      "\n"
     ]
    }
   ],
   "source": [
    "neural_clf = MLPClassifier(random_state=42)\n",
    "neural_cv = GridSearchCV(estimator=neural_clf, param_grid=parametros)\n",
    "neural_cv.fit(train_x, train_y)\n",
    "melhores_parametros = neural_cv.best_params_\n",
    "melhor_resultado = neural_cv.best_score_\n",
    "print(melhores_parametros)\n",
    "print(melhor_resultado)\n",
    "\n",
    "neural_clf = MLPClassifier(**melhores_parametros)\n",
    "neural_clf.fit(train_x, train_y)\n",
    "print_score(neural_clf, train_x, train_y, test_x, test_y, train=True)\n",
    "print_score(neural_clf, train_x, train_y, test_x, test_y, train=False)"
   ]
  },
  {
   "cell_type": "markdown",
   "id": "f6016397-5780-4626-91c1-5c869e9bccd9",
   "metadata": {
    "tags": []
   },
   "source": [
    "### Random Forest"
   ]
  },
  {
   "cell_type": "code",
   "execution_count": 260,
   "id": "ffc38199-64fa-413e-98ff-7ea0274cf7db",
   "metadata": {
    "tags": []
   },
   "outputs": [],
   "source": [
    "parametros = {\n",
    "    'criterion': ['entropy'],\n",
    "    'max_depth': [3,5,7, 8, 9],\n",
    "    # 'max_features': np.arange(2,3),\n",
    "    # 'min_samples_leaf': [1, 2, 5],\n",
    "    # 'min_samples_split': [2,3,4,5],\n",
    "    'n_estimators': [500,700,900,1000]}"
   ]
  },
  {
   "cell_type": "code",
   "execution_count": 261,
   "id": "083a583e-e80a-42ac-96b6-2b97f3e73d45",
   "metadata": {
    "tags": []
   },
   "outputs": [
    {
     "name": "stdout",
     "output_type": "stream",
     "text": [
      "Fitting 3 folds for each of 20 candidates, totalling 60 fits\n",
      "{'criterion': 'entropy', 'max_depth': 9, 'n_estimators': 700}\n",
      "0.6598639455782314\n",
      "RandomForestClassifier(criterion='entropy', max_depth=9, n_estimators=700,\n",
      "                       random_state=42)\n",
      "Train Result:\n",
      "==========================================================================\n",
      "Accuracy Score: 72.20%\n",
      "__________________________________________________________________________\n",
      "CLASSIFICATION REPORT:\n",
      "                     0            1  accuracy    macro avg  weighted avg\n",
      "precision     0.702748     0.847059  0.722004     0.774903      0.756232\n",
      "recall        0.967574     0.304977  0.722004     0.636276      0.722004\n",
      "f1-score      0.814167     0.448482  0.722004     0.631324      0.678638\n",
      "support    4811.000000  2833.000000  0.722004  7644.000000   7644.000000\n",
      "__________________________________________________________________________\n",
      "Confusion Matrix: \n",
      " [[4655  156]\n",
      " [1969  864]]\n",
      "\n",
      "Test Result:\n",
      "==========================================================================\n",
      "Accuracy Score: 65.21%\n",
      "__________________________________________________________________________\n",
      "CLASSIFICATION REPORT:\n",
      "                     0            1  accuracy    macro avg  weighted avg\n",
      "precision     0.659516     0.596899  0.652121     0.628207      0.636300\n",
      "recall        0.924345     0.190123  0.652121     0.557234      0.652121\n",
      "f1-score      0.769790     0.288390  0.652121     0.529090      0.591303\n",
      "support    2062.000000  1215.000000  0.652121  3277.000000   3277.000000\n",
      "__________________________________________________________________________\n",
      "Confusion Matrix: \n",
      " [[1906  156]\n",
      " [ 984  231]]\n",
      "\n"
     ]
    }
   ],
   "source": [
    "forest_clf = RandomForestClassifier(random_state=42)\n",
    "forest_cv = GridSearchCV(estimator=forest_clf, param_grid=parametros, scoring=\"accuracy\", n_jobs=-1, verbose=1, cv=3)\n",
    "forest_cv.fit(x_train, y_train)\n",
    "melhores_parametros = forest_cv.best_params_\n",
    "melhor_resultado = forest_cv.best_score_\n",
    "print(melhores_parametros)\n",
    "print(melhor_resultado)\n",
    "print(forest_cv.best_estimator_)\n",
    "\n",
    "forest_clf = RandomForestClassifier(**melhores_parametros)\n",
    "forest_clf.fit(x_train, y_train)\n",
    "print_score(forest_clf, x_train, y_train, x_test, y_test, train=True)\n",
    "print_score(forest_clf, x_train, y_train, x_test, y_test, train=False)"
   ]
  },
  {
   "cell_type": "code",
   "execution_count": 262,
   "id": "f7674bae-8bef-4dcb-932d-cca44ee2016d",
   "metadata": {
    "tags": []
   },
   "outputs": [
    {
     "name": "stdout",
     "output_type": "stream",
     "text": [
      "Fitting 3 folds for each of 20 candidates, totalling 60 fits\n",
      "{'criterion': 'entropy', 'max_depth': 5, 'n_estimators': 500}\n",
      "0.6525607864484885\n",
      "RandomForestClassifier(criterion='entropy', max_depth=5, n_estimators=500,\n",
      "                       random_state=42)\n",
      "Train Result:\n",
      "==========================================================================\n",
      "Accuracy Score: 66.28%\n",
      "__________________________________________________________________________\n",
      "CLASSIFICATION REPORT:\n",
      "                     0            1  accuracy    macro avg  weighted avg\n",
      "precision     0.658847     0.708333  0.662834     0.683590      0.677194\n",
      "recall        0.962652     0.153952  0.662834     0.558302      0.662834\n",
      "f1-score      0.782289     0.252931  0.662834     0.517610      0.586035\n",
      "support    6185.000000  3644.000000  0.662834  9829.000000   9829.000000\n",
      "__________________________________________________________________________\n",
      "Confusion Matrix: \n",
      " [[5954  231]\n",
      " [3083  561]]\n",
      "\n",
      "Test Result:\n",
      "==========================================================================\n",
      "Accuracy Score: 66.12%\n",
      "__________________________________________________________________________\n",
      "CLASSIFICATION REPORT:\n",
      "                    0           1  accuracy    macro avg  weighted avg\n",
      "precision    0.658683    0.688889  0.661172     0.673786      0.669858\n",
      "recall       0.959302    0.153465  0.661172     0.556384      0.661172\n",
      "f1-score     0.781065    0.251012  0.661172     0.516039      0.584965\n",
      "support    688.000000  404.000000  0.661172  1092.000000   1092.000000\n",
      "__________________________________________________________________________\n",
      "Confusion Matrix: \n",
      " [[660  28]\n",
      " [342  62]]\n",
      "\n"
     ]
    }
   ],
   "source": [
    "forest_clf = RandomForestClassifier(random_state=42)\n",
    "forest_cv = GridSearchCV(estimator=forest_clf, param_grid=parametros, scoring=\"accuracy\", n_jobs=-1, verbose=1, cv=3)\n",
    "forest_cv.fit(train_x, train_y)\n",
    "melhores_parametros = forest_cv.best_params_\n",
    "melhor_resultado = forest_cv.best_score_\n",
    "print(melhores_parametros)\n",
    "print(melhor_resultado)\n",
    "print(forest_cv.best_estimator_)\n",
    "\n",
    "forest_clf = RandomForestClassifier(**melhores_parametros)\n",
    "forest_clf.fit(train_x, train_y)\n",
    "print_score(forest_clf, train_x, train_y, test_x, test_y, train=True)\n",
    "print_score(forest_clf, train_x, train_y, test_x, test_y, train=False)"
   ]
  },
  {
   "cell_type": "markdown",
   "id": "ccf19920-8048-481b-9636-e9123400e3c5",
   "metadata": {
    "jp-MarkdownHeadingCollapsed": true,
    "tags": []
   },
   "source": [
    "### SVM"
   ]
  },
  {
   "cell_type": "code",
   "execution_count": 263,
   "id": "af71b2ea-9f68-4fdf-84ce-fd21add8fe99",
   "metadata": {
    "tags": []
   },
   "outputs": [],
   "source": [
    "parametros = {'C':[0.1,1,100,1000],\n",
    "              'kernel':['rbf'],\n",
    "              'degree':[1,2,3,4,5,6],\n",
    "             }"
   ]
  },
  {
   "cell_type": "code",
   "execution_count": 264,
   "id": "532f319d-91c8-4bbb-936c-59bff944813a",
   "metadata": {
    "tags": []
   },
   "outputs": [
    {
     "name": "stdout",
     "output_type": "stream",
     "text": [
      "{'C': 1000, 'degree': 1, 'kernel': 'rbf'}\n",
      "0.6526620574201341\n",
      "Train Result:\n",
      "==========================================================================\n",
      "Accuracy Score: 66.13%\n",
      "__________________________________________________________________________\n",
      "CLASSIFICATION REPORT:\n",
      "                     0            1  accuracy    macro avg  weighted avg\n",
      "precision     0.662531     0.651007  0.661308     0.656769      0.658259\n",
      "recall        0.941148     0.186334  0.661308     0.563741      0.661308\n",
      "f1-score      0.777637     0.289738  0.661308     0.533687      0.596753\n",
      "support    6185.000000  3644.000000  0.661308  9829.000000   9829.000000\n",
      "__________________________________________________________________________\n",
      "Confusion Matrix: \n",
      " [[5821  364]\n",
      " [2965  679]]\n",
      "\n",
      "Test Result:\n",
      "==========================================================================\n",
      "Accuracy Score: 65.84%\n",
      "__________________________________________________________________________\n",
      "CLASSIFICATION REPORT:\n",
      "                    0           1  accuracy    macro avg  weighted avg\n",
      "precision    0.662539    0.626016  0.658425     0.644277      0.649027\n",
      "recall       0.933140    0.190594  0.658425     0.561867      0.658425\n",
      "f1-score     0.774894    0.292220  0.658425     0.533557      0.596323\n",
      "support    688.000000  404.000000  0.658425  1092.000000   1092.000000\n",
      "__________________________________________________________________________\n",
      "Confusion Matrix: \n",
      " [[642  46]\n",
      " [327  77]]\n",
      "\n"
     ]
    }
   ],
   "source": [
    "svm_clf = SVC(random_state=42)\n",
    "svm_clf = GridSearchCV(estimator=svm_clf, param_grid=parametros, scoring='accuracy', cv=10)\n",
    "svm_clf.fit(train_x, train_y)\n",
    "melhores_parametros = svm_clf.best_params_\n",
    "melhor_resultado = svm_clf.best_score_\n",
    "print(melhores_parametros)\n",
    "print(melhor_resultado)\n",
    "\n",
    "svm_clf = SVC(**melhores_parametros)\n",
    "svm_clf.fit(train_x, train_y)\n",
    "print_score(svm_clf, train_x, train_y, test_x, test_y, train=True)\n",
    "print_score(svm_clf, train_x, train_y, test_x, test_y, train=False)"
   ]
  },
  {
   "cell_type": "code",
   "execution_count": 265,
   "id": "178f836d-2051-4f90-9e3d-01cf094fef14",
   "metadata": {
    "tags": []
   },
   "outputs": [
    {
     "name": "stdout",
     "output_type": "stream",
     "text": [
      "{'C': 1000, 'degree': 1, 'kernel': 'rbf'}\n",
      "0.6529312527803441\n",
      "Train Result:\n",
      "==========================================================================\n",
      "Accuracy Score: 66.43%\n",
      "__________________________________________________________________________\n",
      "CLASSIFICATION REPORT:\n",
      "                     0            1  accuracy    macro avg  weighted avg\n",
      "precision     0.665292     0.656506  0.664312     0.660899      0.662036\n",
      "recall        0.939098     0.197670  0.664312     0.568384      0.664312\n",
      "f1-score      0.778831     0.303852  0.664312     0.541342      0.602796\n",
      "support    4811.000000  2833.000000  0.664312  7644.000000   7644.000000\n",
      "__________________________________________________________________________\n",
      "Confusion Matrix: \n",
      " [[4518  293]\n",
      " [2273  560]]\n",
      "\n",
      "Test Result:\n",
      "==========================================================================\n",
      "Accuracy Score: 64.30%\n",
      "__________________________________________________________________________\n",
      "CLASSIFICATION REPORT:\n",
      "                     0            1  accuracy    macro avg  weighted avg\n",
      "precision     0.652635     0.563380  0.642966     0.608008      0.619543\n",
      "recall        0.924830     0.164609  0.642966     0.544720      0.642966\n",
      "f1-score      0.765249     0.254777  0.642966     0.510013      0.575983\n",
      "support    2062.000000  1215.000000  0.642966  3277.000000   3277.000000\n",
      "__________________________________________________________________________\n",
      "Confusion Matrix: \n",
      " [[1907  155]\n",
      " [1015  200]]\n",
      "\n"
     ]
    }
   ],
   "source": [
    "svm_clf = SVC(random_state=42)\n",
    "svm_clf = GridSearchCV(estimator=svm_clf, param_grid=parametros, scoring='accuracy', cv=10)\n",
    "svm_clf.fit(x_train, y_train)\n",
    "melhores_parametros = svm_clf.best_params_\n",
    "melhor_resultado = svm_clf.best_score_\n",
    "print(melhores_parametros)\n",
    "print(melhor_resultado)\n",
    "\n",
    "svm_clf = SVC(**melhores_parametros)\n",
    "svm_clf.fit(x_train, y_train)\n",
    "print_score(svm_clf, x_train, y_train, x_test, y_test, train=True)\n",
    "print_score(svm_clf, x_train, y_train, x_test, y_test, train=False)"
   ]
  },
  {
   "cell_type": "markdown",
   "id": "dda7a79b-6c58-46d2-baed-b954f88428e2",
   "metadata": {
    "jp-MarkdownHeadingCollapsed": true
   },
   "source": [
    "### Validação Cruzada"
   ]
  },
  {
   "cell_type": "code",
   "execution_count": null,
   "id": "73eb6727-f692-4af2-8d3e-add5b3e26c7a",
   "metadata": {},
   "outputs": [],
   "source": [
    "x_poscomp = np.concatenate((x_train, x_test), axis = 0)\n",
    "y_poscomp = np.concatenate((y_train, y_test), axis = 0)"
   ]
  },
  {
   "cell_type": "code",
   "execution_count": null,
   "id": "1c2e6742-479b-4090-968e-503e6a9d5d1b",
   "metadata": {},
   "outputs": [],
   "source": [
    "resultados_arvore = []\n",
    "resultados_random_forest = []\n",
    "resultados_knn = []\n",
    "resultados_logistica = []\n",
    "resultados_svm = []\n",
    "resultados_rede_neural = []\n",
    "\n",
    "for i in range(30):\n",
    "  print(i)\n",
    "  kfold = KFold(n_splits=10, shuffle=True, random_state=i)\n",
    "\n",
    "  arvore = DecisionTreeClassifier(max_depth=3, min_samples_leaf=7)\n",
    "  scores = cross_val_score(arvore, x_poscomp, y_poscomp, cv = kfold)\n",
    "  #print(scores)\n",
    "  #print(scores.mean())\n",
    "  resultados_arvore.append(scores.mean())\n",
    "\n",
    "  random_forest = RandomForestClassifier(criterion='entropy', max_depth=6, max_features=10,\n",
    "                       min_samples_split=5, n_estimators=70)\n",
    "  scores = cross_val_score(random_forest, x_poscomp, y_poscomp, cv = kfold)\n",
    "  resultados_random_forest.append(scores.mean())\n",
    "\n",
    "  svm = SVC(kernel = 'rbf', C= 100, degree= 1, gamma= 0.001)\n",
    "  scores = cross_val_score(svm, x_poscomp, y_poscomp, cv = kfold)\n",
    "  resultados_svm.append(scores.mean())\n",
    "\n",
    "  rede_neural = MLPClassifier(activation = 'relu', batch_size = 56, solver = 'adam')\n",
    "  scores = cross_val_score(rede_neural, x_poscomp, y_poscomp, cv = kfold)\n",
    "  resultados_rede_neural.append(scores.mean())\n"
   ]
  },
  {
   "cell_type": "code",
   "execution_count": null,
   "id": "22d81ea6-eb8b-4c72-a636-38fa885da55d",
   "metadata": {},
   "outputs": [],
   "source": [
    "resultados = pd.DataFrame({'Arvore': resultados_arvore, 'Random forest': resultados_random_forest,\n",
    "                            'SVM': resultados_svm, 'Rede neural': resultados_rede_neural})\n",
    "resultados"
   ]
  },
  {
   "cell_type": "code",
   "execution_count": null,
   "id": "3ede2020-1946-43f8-9723-e483a9fa9079",
   "metadata": {},
   "outputs": [],
   "source": [
    "resultados.describe()"
   ]
  },
  {
   "cell_type": "code",
   "execution_count": null,
   "id": "e1d00ea6-db3b-4294-bc7c-fd50d2f84861",
   "metadata": {},
   "outputs": [],
   "source": [
    "resultados.var()"
   ]
  },
  {
   "cell_type": "code",
   "execution_count": null,
   "id": "34f440ca-43ee-465a-88f2-b12de810db8d",
   "metadata": {},
   "outputs": [],
   "source": [
    "(resultados.std() / resultados.mean()) * 100"
   ]
  },
  {
   "cell_type": "markdown",
   "id": "15c44eae-b7ae-4bff-9f6c-cf8d86758f65",
   "metadata": {
    "jp-MarkdownHeadingCollapsed": true
   },
   "source": [
    "#### Teste de normalidade"
   ]
  },
  {
   "cell_type": "code",
   "execution_count": null,
   "id": "f2d17ef4-0e48-4646-bcc4-877ea037056e",
   "metadata": {},
   "outputs": [],
   "source": [
    "alpha = 0.05"
   ]
  },
  {
   "cell_type": "code",
   "execution_count": null,
   "id": "b3bf3186-d560-48ea-8792-80a9c437faa5",
   "metadata": {},
   "outputs": [],
   "source": [
    "from scipy.stats import shapiro"
   ]
  },
  {
   "cell_type": "code",
   "execution_count": null,
   "id": "bde839c0-9686-4bf5-be39-e6eb8e3fb125",
   "metadata": {},
   "outputs": [],
   "source": [
    "shapiro(resultados_arvore), shapiro(resultados_random_forest), shapiro(resultados_svm), shapiro(resultados_rede_neural)"
   ]
  },
  {
   "cell_type": "markdown",
   "id": "89912f71-8b89-4b0e-a9c6-2b733cf8cd26",
   "metadata": {
    "jp-MarkdownHeadingCollapsed": true
   },
   "source": [
    "#### Teste de hipótese com ANOVA e Tukey"
   ]
  },
  {
   "cell_type": "code",
   "execution_count": null,
   "id": "319d4284-9eb6-4265-8739-1a61df5fc1e9",
   "metadata": {},
   "outputs": [],
   "source": [
    "from scipy.stats import f_oneway"
   ]
  },
  {
   "cell_type": "code",
   "execution_count": null,
   "id": "ceccf6e7-9f79-4344-a7fb-389a58768cbe",
   "metadata": {},
   "outputs": [],
   "source": [
    "_, p = f_oneway(resultados_arvore, resultados_random_forest, resultados_svm, resultados_rede_neural)\n",
    "p"
   ]
  },
  {
   "cell_type": "code",
   "execution_count": null,
   "id": "0064c754-2191-4f5e-8518-bc1e16512818",
   "metadata": {},
   "outputs": [],
   "source": [
    "alpha = 0.05\n",
    "if p <= alpha:\n",
    "  print('Hipótese nula rejeitada. Dados são diferentes')\n",
    "else:\n",
    "  print('Hipótese alternativa rejeitada. Resultados são iguais')"
   ]
  },
  {
   "cell_type": "code",
   "execution_count": null,
   "id": "efabdfbb-1dab-4765-9db9-0e32a7544dbd",
   "metadata": {},
   "outputs": [],
   "source": [
    "resultados_algoritmos = {'accuracy': np.concatenate([resultados_arvore, resultados_random_forest, resultados_svm, resultados_rede_neural]),\n",
    "                         'algoritmo': ['arvore','arvore','arvore','arvore','arvore','arvore','arvore','arvore','arvore','arvore','arvore','arvore','arvore','arvore','arvore','arvore','arvore','arvore','arvore','arvore','arvore','arvore','arvore','arvore','arvore','arvore','arvore','arvore','arvore','arvore',\n",
    "                          'random_forest','random_forest','random_forest','random_forest','random_forest','random_forest','random_forest','random_forest','random_forest','random_forest','random_forest','random_forest','random_forest','random_forest','random_forest','random_forest','random_forest','random_forest','random_forest','random_forest','random_forest','random_forest','random_forest','random_forest','random_forest','random_forest','random_forest','random_forest','random_forest','random_forest',\n",
    "                          'svm','svm','svm','svm','svm','svm','svm','svm','svm','svm','svm','svm','svm','svm','svm','svm','svm','svm','svm','svm','svm','svm','svm','svm','svm','svm','svm','svm','svm','svm',\n",
    "                          'rede_neural','rede_neural','rede_neural','rede_neural','rede_neural','rede_neural','rede_neural','rede_neural','rede_neural','rede_neural','rede_neural','rede_neural','rede_neural','rede_neural','rede_neural','rede_neural','rede_neural','rede_neural','rede_neural','rede_neural','rede_neural','rede_neural','rede_neural','rede_neural','rede_neural','rede_neural','rede_neural','rede_neural','rede_neural','rede_neural']}"
   ]
  },
  {
   "cell_type": "code",
   "execution_count": null,
   "id": "af08a3c3-4724-40e8-a25d-db8f4874b854",
   "metadata": {},
   "outputs": [],
   "source": [
    "resultados_df = pd.DataFrame(resultados_algoritmos)\n",
    "resultados_df"
   ]
  },
  {
   "cell_type": "code",
   "execution_count": null,
   "id": "cf9714e4-a923-41d9-bc7e-4104e8430ddb",
   "metadata": {},
   "outputs": [],
   "source": [
    "from statsmodels.stats.multicomp import MultiComparison"
   ]
  },
  {
   "cell_type": "code",
   "execution_count": null,
   "id": "1dfe45e6-bd2e-4748-a22e-32f4fb29e9e8",
   "metadata": {},
   "outputs": [],
   "source": [
    "compara_algoritmos = MultiComparison(resultados_df['accuracy'], resultados_df['algoritmo'])"
   ]
  },
  {
   "cell_type": "code",
   "execution_count": null,
   "id": "ad2843bc-6e1b-4e1d-b9d4-9f5272a27073",
   "metadata": {},
   "outputs": [],
   "source": [
    "teste_estatistico = compara_algoritmos.tukeyhsd()\n",
    "print(teste_estatistico)"
   ]
  },
  {
   "cell_type": "code",
   "execution_count": null,
   "id": "98b69529-c87d-44d2-ad14-833a537b5536",
   "metadata": {},
   "outputs": [],
   "source": [
    "resultados.mean()"
   ]
  },
  {
   "cell_type": "code",
   "execution_count": null,
   "id": "459c667a-73db-474a-b9b6-91b8662926ea",
   "metadata": {},
   "outputs": [],
   "source": [
    "teste_estatistico.plot_simultaneous();"
   ]
  },
  {
   "cell_type": "markdown",
   "id": "772e00b5-e66e-401c-bacd-61abd2fab756",
   "metadata": {},
   "source": [
    "#### Salvar o classificador treinado"
   ]
  },
  {
   "cell_type": "code",
   "execution_count": null,
   "id": "849680ff-eaeb-4c22-99dc-44136ce1e006",
   "metadata": {},
   "outputs": [],
   "source": [
    "parametros = {\n",
    "    'penalty': ['l1', 'l2', 'elasticnet', None],\n",
    "    'dual': [True, False],\n",
    "    'tol': [1e-4, 1e-3, 1e-2],\n",
    "    'C': [0.01, 0.1, 1.0, 10.0],\n",
    "    'fit_intercept': [True, False],\n",
    "    'class_weight': [None, 'balanced'],\n",
    "    'solver': ['lbfgs', 'liblinear', 'newton-cg', 'sag', 'saga'],\n",
    "    'max_iter': [100, 200, 300],\n",
    "    'multi_class': ['auto', 'ovr', 'multinomial'],\n",
    "    'verbose': [0, 1, 2],\n",
    "    'n_jobs': [1, -1],\n",
    "    'l1_ratio': [0.0, 0.5, 1.0]\n",
    "}"
   ]
  },
  {
   "cell_type": "code",
   "execution_count": null,
   "id": "650dccb3-116a-4a84-a7db-d7dc0b6cdebb",
   "metadata": {},
   "outputs": [],
   "source": [
    "logistica_clf = LogisticRegression(random_state=42)\n",
    "logistica_clf = GridSearchCV(estimator=logistica_clf, param_grid=parametros, scoring=\"accuracy\", n_jobs=-1, verbose=1, cv=10)\n",
    "logistica_clf.fit(x_train, y_train)\n",
    "melhores_parametros = logistica_clf.best_params_\n",
    "melhor_resultado = logistica_clf.best_score_\n",
    "print(melhores_parametros)\n",
    "print(melhor_resultado)\n",
    "print(logistica_clf.best_estimator_)\n",
    "\n",
    "logistica_clf = LogisticRegression(**melhores_parametros)\n",
    "logistica_clf.fit(x_train, y_train)\n",
    "print_score(logistica_clf, x_train, y_train, x_test, y_test, train=True)\n",
    "print_score(logistica_clf, x_train, y_train, x_test, y_test, train=False)"
   ]
  },
  {
   "cell_type": "code",
   "execution_count": null,
   "id": "723eb048-450d-4d34-8b80-199e23f87b62",
   "metadata": {},
   "outputs": [],
   "source": [
    "logistica_clf = LogisticRegression(random_state=42)\n",
    "logistica_clf = GridSearchCV(estimator=logistica_clf, param_grid=parametros, scoring=\"accuracy\", n_jobs=-1, verbose=1, cv=10)\n",
    "logistica_clf.fit(train_x, train_y)\n",
    "melhores_parametros = logistica_clf.best_params_\n",
    "melhor_resultado = logistica_clf.best_score_\n",
    "print(melhores_parametros)\n",
    "print(melhor_resultado)\n",
    "print(logistica_clf.best_estimator_)\n",
    "\n",
    "logistica_clf = LogisticRegression(**melhores_parametros)\n",
    "logistica_clf.fit(train_x, train_y)\n",
    "print_score(logistica_clf, train_x, train_y, test_x, test_y, train=True)\n",
    "print_score(logistica_clf, train_x, train_y, test_x, test_y, train=False)"
   ]
  },
  {
   "cell_type": "code",
   "execution_count": null,
   "id": "d70d89c8-ee75-4950-91bd-454b252a30cf",
   "metadata": {},
   "outputs": [],
   "source": [
    "parametros = {\n",
    "    'priors': [None, [0.2, 0.8], [0.5, 0.5]],  # Exemplos de valores para priors\n",
    "    'var_smoothing': [1e-9, 1e-8, 1e-10]  # Valores para var_smoothing\n",
    "}\n"
   ]
  },
  {
   "cell_type": "code",
   "execution_count": null,
   "id": "cc30ab3d-22f2-42ae-96ce-e8c027675b3c",
   "metadata": {},
   "outputs": [],
   "source": [
    "naive_clf = GaussianNB()\n",
    "naive_clf = GridSearchCV(estimator=naive_clf, param_grid=parametros, scoring=\"accuracy\", n_jobs=-1, verbose=1, cv=10)\n",
    "naive_clf.fit(x_train, y_train)\n",
    "melhores_parametros = naive_clf.best_params_\n",
    "melhor_resultado = naive_clf.best_score_\n",
    "print(melhores_parametros)\n",
    "print(melhor_resultado)\n",
    "print(naive_clf.best_estimator_)\n",
    "\n",
    "naive_clf = GaussianNB(**melhores_parametros)\n",
    "naive_clf.fit(x_train, y_train)\n",
    "print_score(naive_clf, x_train, y_train, x_test, y_test, train=True)\n",
    "print_score(naive_clf, x_train, y_train, x_test, y_test, train=False)"
   ]
  },
  {
   "cell_type": "code",
   "execution_count": null,
   "id": "117f11fd-374c-4c05-9d0e-7325d38ccc18",
   "metadata": {},
   "outputs": [],
   "source": [
    "naive_clf = GaussianNB()\n",
    "naive_clf = GridSearchCV(estimator=naive_clf, param_grid=parametros, scoring=\"accuracy\", n_jobs=-1, verbose=1, cv=10)\n",
    "naive_clf.fit(train_x, train_y)\n",
    "melhores_parametros = naive_clf.best_params_\n",
    "melhor_resultado = naive_clf.best_score_\n",
    "print(melhores_parametros)\n",
    "print(melhor_resultado)\n",
    "print(naive_clf.best_estimator_)\n",
    "\n",
    "naive_clf = GaussianNB(**melhores_parametros)\n",
    "naive_clf.fit(train_x, train_y)\n",
    "print_score(naive_clf, train_x, train_y, test_x, test_y, train=True)\n",
    "print_score(naive_clf, train_x, train_y, test_x, test_y, train=False)"
   ]
  },
  {
   "cell_type": "markdown",
   "id": "b4165c43-bef6-4baf-9f46-a8c1ae0b6279",
   "metadata": {
    "jp-MarkdownHeadingCollapsed": true
   },
   "source": [
    "### Os algoritmos"
   ]
  },
  {
   "cell_type": "code",
   "execution_count": 12,
   "id": "a1b13cae-c9e9-4983-98aa-d97d38e4fef6",
   "metadata": {},
   "outputs": [],
   "source": [
    "from sklearn.linear_model import SGDClassifier\n",
    "from sklearn.linear_model import LogisticRegression\n",
    "from sklearn.neighbors import KNeighborsClassifier\n",
    "from sklearn.naive_bayes import GaussianNB"
   ]
  },
  {
   "cell_type": "code",
   "execution_count": 288,
   "id": "cca2bbdd-3d09-4e14-b8d2-2a485b3e3615",
   "metadata": {
    "tags": []
   },
   "outputs": [
    {
     "name": "stdout",
     "output_type": "stream",
     "text": [
      "Árvore de Decisão (C4.5) - Acurácia no Conjunto de Treinamento: 66.03%\n",
      "Árvore de Decisão (C4.5) - Acurácia no Conjunto de Teste: 65.46%\n",
      "Árvore de Decisão (C4.5) - Precisão: 64.77%\n",
      "Árvore de Decisão (C4.5) - Recall: 14.98%\n",
      "Árvore de Decisão (C4.5) - F1-Score: 24.33%\n",
      "Árvore de Decisão (C4.5) - Matriz de Confusão:\n",
      "[[1963   99]\n",
      " [1033  182]]\n",
      "\n",
      "Random Forest - Acurácia no Conjunto de Treinamento: 71.98%\n",
      "Random Forest - Acurácia no Conjunto de Teste: 65.55%\n",
      "Random Forest - Precisão: 61.20%\n",
      "Random Forest - Recall: 19.34%\n",
      "Random Forest - F1-Score: 29.39%\n",
      "Random Forest - Matriz de Confusão:\n",
      "[[1913  149]\n",
      " [ 980  235]]\n",
      "\n",
      "SVM - Acurácia no Conjunto de Treinamento: 66.43%\n",
      "SVM - Acurácia no Conjunto de Teste: 64.30%\n",
      "SVM - Precisão: 56.34%\n",
      "SVM - Recall: 16.46%\n",
      "SVM - F1-Score: 25.48%\n",
      "SVM - Matriz de Confusão:\n",
      "[[1907  155]\n",
      " [1015  200]]\n",
      "\n",
      "Rede Neural - Acurácia no Conjunto de Treinamento: 65.80%\n",
      "Rede Neural - Acurácia no Conjunto de Teste: 64.78%\n",
      "Rede Neural - Precisão: 63.32%\n",
      "Rede Neural - Recall: 11.93%\n",
      "Rede Neural - F1-Score: 20.08%\n",
      "Rede Neural - Matriz de Confusão:\n",
      "[[1978   84]\n",
      " [1070  145]]\n",
      "\n"
     ]
    }
   ],
   "source": [
    "from sklearn.metrics import accuracy_score, precision_score, recall_score, f1_score, confusion_matrix\n",
    "\n",
    "algorithms = [\n",
    "    ('Árvore de Decisão (C4.5)', DecisionTreeClassifier(criterion='entropy', max_depth=7, min_samples_leaf=22,\n",
    "                       random_state=42, splitter='random')),\n",
    "    ('Random Forest', RandomForestClassifier(criterion='entropy', max_depth=9, n_estimators=700,\n",
    "                       random_state=42)),\n",
    "    ('SVM', SVC(C= 1000, degree= 1, kernel= 'rbf',random_state=42)),\n",
    "    ('Rede Neural', MLPClassifier(activation= 'relu', batch_size= 3, solver= 'adam', random_state=42)),\n",
    "]\n",
    "\n",
    "for name, classifier in algorithms:\n",
    "    classifier.fit(x_train, y_train)\n",
    "    train_predictions = classifier.predict(x_train)\n",
    "    test_predictions = classifier.predict(x_test)\n",
    "    \n",
    "    train_accuracy = accuracy_score(y_train, train_predictions)\n",
    "    test_accuracy = accuracy_score(y_test, test_predictions)\n",
    "    \n",
    "    precision = precision_score(y_test, test_predictions)\n",
    "    recall = recall_score(y_test, test_predictions)\n",
    "    f1 = f1_score(y_test, test_predictions)\n",
    "    \n",
    "    conf_matrix = confusion_matrix(y_test, test_predictions)\n",
    "    \n",
    "    print(f'{name} - Acurácia no Conjunto de Treinamento: {train_accuracy * 100:.2f}%')\n",
    "    print(f'{name} - Acurácia no Conjunto de Teste: {test_accuracy * 100:.2f}%')\n",
    "    print(f'{name} - Precisão: {precision * 100:.2f}%')\n",
    "    print(f'{name} - Recall: {recall * 100:.2f}%')\n",
    "    print(f'{name} - F1-Score: {f1 * 100:.2f}%')\n",
    "    print(f'{name} - Matriz de Confusão:\\n{conf_matrix}\\n')\n"
   ]
  },
  {
   "cell_type": "code",
   "execution_count": 289,
   "id": "65e4cde0-d2e2-4942-a676-ac0a462895cd",
   "metadata": {
    "tags": []
   },
   "outputs": [
    {
     "name": "stdout",
     "output_type": "stream",
     "text": [
      "Árvore de Decisão (C4.5) - Acurácia no Conjunto de Treinamento: 66.89%\n",
      "Árvore de Decisão (C4.5) - Acurácia no Conjunto de Teste: 66.21%\n",
      "Árvore de Decisão (C4.5) - Precisão: 60.61%\n",
      "Árvore de Decisão (C4.5) - Recall: 24.75%\n",
      "Árvore de Decisão (C4.5) - F1-Score: 35.15%\n",
      "Árvore de Decisão (C4.5) - Matriz de Confusão:\n",
      "[[623  65]\n",
      " [304 100]]\n",
      "\n",
      "Random Forest - Acurácia no Conjunto de Treinamento: 66.23%\n",
      "Random Forest - Acurácia no Conjunto de Teste: 66.39%\n",
      "Random Forest - Precisão: 69.07%\n",
      "Random Forest - Recall: 16.58%\n",
      "Random Forest - F1-Score: 26.75%\n",
      "Random Forest - Matriz de Confusão:\n",
      "[[658  30]\n",
      " [337  67]]\n",
      "\n",
      "SVM - Acurácia no Conjunto de Treinamento: 66.13%\n",
      "SVM - Acurácia no Conjunto de Teste: 65.84%\n",
      "SVM - Precisão: 62.60%\n",
      "SVM - Recall: 19.06%\n",
      "SVM - F1-Score: 29.22%\n",
      "SVM - Matriz de Confusão:\n",
      "[[642  46]\n",
      " [327  77]]\n",
      "\n",
      "Rede Neural - Acurácia no Conjunto de Treinamento: 65.56%\n",
      "Rede Neural - Acurácia no Conjunto de Teste: 65.11%\n",
      "Rede Neural - Precisão: 63.22%\n",
      "Rede Neural - Recall: 13.61%\n",
      "Rede Neural - F1-Score: 22.40%\n",
      "Rede Neural - Matriz de Confusão:\n",
      "[[656  32]\n",
      " [349  55]]\n",
      "\n"
     ]
    }
   ],
   "source": [
    "from sklearn.metrics import accuracy_score, precision_score, recall_score, f1_score, confusion_matrix\n",
    "\n",
    "algorithms = [\n",
    "    ('Árvore de Decisão (C4.5)', DecisionTreeClassifier(max_depth=11, min_samples_leaf=30, random_state=42,\n",
    "                       splitter='random')),\n",
    "    ('Random Forest', RandomForestClassifier(criterion='entropy', max_depth=5, n_estimators=500,\n",
    "                       random_state=42)),\n",
    "    ('SVM', SVC(C= 1000, degree= 1, kernel= 'rbf',random_state=42)),\n",
    "    ('Rede Neural', MLPClassifier(activation= 'logistic', batch_size= 5, solver= 'adam',random_state=42)),\n",
    "]\n",
    "\n",
    "for name, classifier in algorithms:\n",
    "    classifier.fit(train_x, train_y)\n",
    "    train_predictions = classifier.predict(train_x)\n",
    "    test_predictions = classifier.predict(test_x)\n",
    "    \n",
    "    train_accuracy = accuracy_score(train_y, train_predictions)\n",
    "    test_accuracy = accuracy_score(test_y, test_predictions)\n",
    "    \n",
    "    precision = precision_score(test_y, test_predictions)\n",
    "    recall = recall_score(test_y, test_predictions)\n",
    "    f1 = f1_score(test_y, test_predictions)\n",
    "    \n",
    "    conf_matrix = confusion_matrix(test_y, test_predictions)\n",
    "    \n",
    "    print(f'{name} - Acurácia no Conjunto de Treinamento: {train_accuracy * 100:.2f}%')\n",
    "    print(f'{name} - Acurácia no Conjunto de Teste: {test_accuracy * 100:.2f}%')\n",
    "    print(f'{name} - Precisão: {precision * 100:.2f}%')\n",
    "    print(f'{name} - Recall: {recall * 100:.2f}%')\n",
    "    print(f'{name} - F1-Score: {f1 * 100:.2f}%')\n",
    "    print(f'{name} - Matriz de Confusão:\\n{conf_matrix}\\n')"
   ]
  },
  {
   "cell_type": "markdown",
   "id": "3b436740-1c13-4d5f-8bf7-13ebbf20077c",
   "metadata": {},
   "source": [
    "# testar o algoritmos"
   ]
  },
  {
   "cell_type": "code",
   "execution_count": 290,
   "id": "61f013d6-fe05-4e70-8f56-cc487ec97c46",
   "metadata": {
    "tags": []
   },
   "outputs": [
    {
     "name": "stdout",
     "output_type": "stream",
     "text": [
      "Acurácia: 65.55%\n"
     ]
    }
   ],
   "source": [
    "classifier = RandomForestClassifier(criterion='entropy', max_depth=9, n_estimators=700,\n",
    "                       random_state=42)\n",
    "classifier.fit(x_train, y_train)\n",
    "predictions = classifier.predict(x_test)\n",
    "accuracy = accuracy_score(y_test, predictions)\n",
    "print(f'Acurácia: {accuracy * 100:.2f}%')\n",
    "\n",
    "# print_score(classifier, x_train, y_train, x_test, y_test, train=True)\n",
    "# print_score(classifier, x_train, y_train, x_test, y_test, train=False)"
   ]
  },
  {
   "cell_type": "code",
   "execution_count": 292,
   "id": "f033f78a-c9d5-4eed-86ca-9fa71926d0a8",
   "metadata": {},
   "outputs": [
    {
     "name": "stdout",
     "output_type": "stream",
     "text": [
      "              precision    recall  f1-score   support\n",
      "\n",
      "           0       0.66      0.93      0.77      2062\n",
      "           1       0.61      0.19      0.29      1215\n",
      "\n",
      "    accuracy                           0.66      3277\n",
      "   macro avg       0.64      0.56      0.53      3277\n",
      "weighted avg       0.64      0.66      0.59      3277\n",
      "\n"
     ]
    }
   ],
   "source": [
    "print(classification_report(y_test, predictions))"
   ]
  },
  {
   "cell_type": "code",
   "execution_count": 301,
   "id": "88cb2b12-e5a5-46d2-a698-d138eb59d67e",
   "metadata": {},
   "outputs": [],
   "source": [
    "precision = precision_score(y_test, predictions, average='macro')\n",
    "recall = recall_score(y_test, predictions, average='macro')\n",
    "f1 = f1_score(y_test, predictions, average='macro')"
   ]
  },
  {
   "cell_type": "code",
   "execution_count": 302,
   "id": "26839093-9d77-4473-8933-efde068fcd0b",
   "metadata": {},
   "outputs": [
    {
     "name": "stdout",
     "output_type": "stream",
     "text": [
      "Metricas = 63.66%\n",
      "Metricas = 56.06%\n",
      "Metricas = 53.30%\n"
     ]
    }
   ],
   "source": [
    "print(f'Metricas = {precision * 100:.2f}%')\n",
    "print(f'Metricas = {recall * 100:.2f}%')\n",
    "print(f'Metricas = {f1 * 100:.2f}%')"
   ]
  },
  {
   "cell_type": "code",
   "execution_count": 286,
   "id": "1ea953e9-f5b3-47bf-8038-306a80cdf85d",
   "metadata": {},
   "outputs": [
    {
     "data": {
      "text/plain": [
       "(array([0, 1], dtype=int64), array([2893,  384], dtype=int64))"
      ]
     },
     "execution_count": 286,
     "metadata": {},
     "output_type": "execute_result"
    }
   ],
   "source": [
    "valores_unicos, contagem = np.unique(predictions, return_counts=True)\n",
    "valores_unicos, contagem"
   ]
  },
  {
   "cell_type": "code",
   "execution_count": null,
   "id": "f86ecc41-4ff9-4106-ad30-8ec0a8c2f90e",
   "metadata": {
    "tags": []
   },
   "outputs": [],
   "source": [
    "f1_score(y_test, predictions)"
   ]
  },
  {
   "cell_type": "code",
   "execution_count": 276,
   "id": "a86bd18c-70ce-468f-819d-6c2055533c8d",
   "metadata": {
    "tags": []
   },
   "outputs": [
    {
     "name": "stdout",
     "output_type": "stream",
     "text": [
      "Especialidade prevista para o usuário: 0\n"
     ]
    }
   ],
   "source": [
    "from sklearn.preprocessing import StandardScaler\n",
    "\n",
    "# Dados do usuário\n",
    "dados_usuario = [[1, 10, 37, 2, 6.0, 14.0, 5.0]]  # Substitua esses valores pelos dados reais do usuário\n",
    "previsao_usuario = classifier.predict(dados_usuario)\n",
    "\n",
    "print(f'Especialidade prevista para o usuário: {previsao_usuario[0]}')  # Use [0] para acessar o valor único na matriz de previsão\n"
   ]
  },
  {
   "cell_type": "code",
   "execution_count": null,
   "id": "2216d72c-c222-4641-80c7-b5b5a268b43c",
   "metadata": {},
   "outputs": [],
   "source": [
    "df = X_dataset[X_dataset['ESPECIALIDADE'] == 'ciência de dados']"
   ]
  },
  {
   "cell_type": "code",
   "execution_count": null,
   "id": "4e498155-ae0c-4723-989f-5cfd68e46d09",
   "metadata": {},
   "outputs": [],
   "source": [
    "df = df.groupby(['ESPECIALIDADE']).agg({'matematica': ['mean', 'median', 'max', 'std'],\n",
    "                                                            'fund_computacao': ['mean', 'median', 'max', 'std'],\n",
    "                                                            'tec_computacao': ['mean', 'median', 'max', 'std']})\n",
    "# df = df.sort_values(by=('total', 'mean'), ascending=False)\n",
    "df"
   ]
  },
  {
   "cell_type": "code",
   "execution_count": null,
   "id": "a7877acf-b370-42e1-bd72-9545b14c04ed",
   "metadata": {},
   "outputs": [],
   "source": [
    "def train_model(X, y):\n",
    "    smtom = SMOTETomek(random_state=139)\n",
    "    X_resampled, y_resampled = smtom.fit_resample(X, y)\n",
    "    X_train, X_test, y_train, y_test = train_test_split(X_resampled, y_resampled, test_size=0.2, stratify=y_resampled, random_state=42)\n",
    "    \n",
    "    classifier = RandomForestClassifier(criterion='entropy', max_depth=90, max_features='sqrt',\n",
    "                    min_samples_leaf=4, min_samples_split=2, n_estimators=195, random_state=42)\n",
    "    classifier.fit(X_train, y_train)\n",
    "    \n",
    "    predictions = classifier.predict(X_test)\n",
    "    accuracy = accuracy_score(y_test, predictions)\n",
    "    \n",
    "    return classifier, accuracy"
   ]
  },
  {
   "cell_type": "code",
   "execution_count": null,
   "id": "f42b13e3-d8f6-4f15-bf3d-53a84344180b",
   "metadata": {},
   "outputs": [],
   "source": [
    "if previsao_usuario == \"informatica\" or previsao_usuario == \"computacao\":\n",
    "    # Filtrar os dados para a área de concentração correspondente\n",
    "    area = X_dataset[X_dataset['area_concentration'] == previsao_usuario[0]]\n",
    "    X_area = area.drop(['ESPECIALIDADE', 'area_concentration'], axis=1)\n",
    "    y_area = area['ESPECIALIDADE']\n",
    "\n",
    "    # Treinar o modelo\n",
    "    classifier, accuracy = train_model(X_area, y_area)\n",
    "\n",
    "    print(f'Acurácia: {accuracy * 100:.2f}%')\n",
    "    print(f'Linha de Pesquisa Prevista: {classifier.predict(X_area.iloc[[0]])[0]}')\n",
    "else:\n",
    "    print(\"Área de concentração não reconhecida\")\n"
   ]
  }
 ],
 "metadata": {
  "kernelspec": {
   "display_name": "Python 3 (ipykernel)",
   "language": "python",
   "name": "python3"
  },
  "language_info": {
   "codemirror_mode": {
    "name": "ipython",
    "version": 3
   },
   "file_extension": ".py",
   "mimetype": "text/x-python",
   "name": "python",
   "nbconvert_exporter": "python",
   "pygments_lexer": "ipython3",
   "version": "3.9.12"
  }
 },
 "nbformat": 4,
 "nbformat_minor": 5
}
