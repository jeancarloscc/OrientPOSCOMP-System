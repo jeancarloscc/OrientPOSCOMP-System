{
 "cells": [
  {
   "cell_type": "markdown",
   "id": "0b6e3b52-5850-4d30-808e-cc286e6e6e36",
   "metadata": {},
   "source": [
    "# Aplicações de Algoritmos de aprendizado de máquina"
   ]
  },
  {
   "cell_type": "code",
   "execution_count": 1,
   "id": "9c12e0a4-0e80-478d-9e49-e05192cf22fb",
   "metadata": {
    "tags": []
   },
   "outputs": [],
   "source": [
    "import pandas as pd\n",
    "import numpy as np\n",
    "import matplotlib.pyplot as plt\n",
    "import seaborn as sns\n",
    "from sklearn.preprocessing import StandardScaler, LabelEncoder\n",
    "from sklearn.cluster import KMeans\n",
    "from sklearn.tree import DecisionTreeClassifier, export_graphviz, DecisionTreeRegressor\n",
    "from sklearn.metrics import accuracy_score\n",
    "from sklearn.model_selection import train_test_split\n",
    "from sklearn import tree\n",
    "from sklearn.neural_network import MLPClassifier\n",
    "from sklearn.ensemble import RandomForestClassifier\n",
    "from sklearn.svm import SVC\n",
    "from sklearn.neighbors import KNeighborsClassifier\n",
    "import services.function as sf"
   ]
  },
  {
   "cell_type": "code",
   "execution_count": 2,
   "id": "ec32329d-c54c-4085-89f9-3115ceb3e0a0",
   "metadata": {
    "tags": []
   },
   "outputs": [
    {
     "name": "stdout",
     "output_type": "stream",
     "text": [
      "1.1.3\n"
     ]
    }
   ],
   "source": [
    "import sklearn\n",
    "print(sklearn.__version__)"
   ]
  },
  {
   "cell_type": "code",
   "execution_count": 230,
   "id": "c4dd3968-ecee-45d0-9d7e-5ec61d73cf1d",
   "metadata": {
    "tags": []
   },
   "outputs": [],
   "source": [
    "dataset = pd.read_csv('dados/df_poscomp.csv')"
   ]
  },
  {
   "cell_type": "code",
   "execution_count": 232,
   "id": "da9402d7-b940-4887-910b-036cbdb4d8aa",
   "metadata": {
    "tags": []
   },
   "outputs": [
    {
     "data": {
      "text/plain": [
       "(9792, 35)"
      ]
     },
     "execution_count": 232,
     "metadata": {},
     "output_type": "execute_result"
    }
   ],
   "source": [
    "dataset.shape"
   ]
  },
  {
   "cell_type": "code",
   "execution_count": 233,
   "id": "99032a62-f939-490d-b1cc-03f04046cbf8",
   "metadata": {
    "tags": []
   },
   "outputs": [
    {
     "data": {
      "text/plain": [
       "tecnologia da computacao     5761\n",
       "fundamentos da computacao    4031\n",
       "Name: area_concentration, dtype: int64"
      ]
     },
     "execution_count": 233,
     "metadata": {},
     "output_type": "execute_result"
    }
   ],
   "source": [
    "dataset.area_concentration.value_counts()"
   ]
  },
  {
   "cell_type": "code",
   "execution_count": 234,
   "id": "499ac9ee-ca00-4716-9c13-bd47839a3250",
   "metadata": {
    "tags": []
   },
   "outputs": [],
   "source": [
    "X_dataset = dataset.copy()\n",
    "X_dataset = X_dataset.loc[:,['SEXO','ESTADO','IDADE','matematica', 'fund_computacao','tec_computacao','ESPECIALIDADE', 'area_concentration']]"
   ]
  },
  {
   "cell_type": "code",
   "execution_count": 272,
   "id": "87c9f183-37d4-4998-8621-c7d825e3160f",
   "metadata": {
    "tags": []
   },
   "outputs": [
    {
     "data": {
      "text/plain": [
       "array([[1, 24, 31, 4.0, 16.0, 8.0, 'engenharia de software',\n",
       "        'tecnologia da computacao'],\n",
       "       [1, 13, 36, 4.0, 13.0, 7.0, 'aplicações computacionais',\n",
       "        'fundamentos da computacao'],\n",
       "       [0, 3, 25, 6.0, 15.0, 11.0, 'inteligência artificial',\n",
       "        'tecnologia da computacao'],\n",
       "       [1, 14, 32, 9.0, 17.0, 11.0, 'sistemas de computação',\n",
       "        'fundamentos da computacao'],\n",
       "       [1, 8, 30, 7.0, 15.0, 4.0, 'inteligência artificial',\n",
       "        'tecnologia da computacao'],\n",
       "       [1, 19, 34, 5.0, 16.0, 3.0, 'engenharia de software',\n",
       "        'tecnologia da computacao']], dtype=object)"
      ]
     },
     "execution_count": 272,
     "metadata": {},
     "output_type": "execute_result"
    }
   ],
   "source": [
    "X_dataset.head(6).values"
   ]
  },
  {
   "cell_type": "code",
   "execution_count": 236,
   "id": "1f54f1b5-8d95-4c24-a837-c90042f0291e",
   "metadata": {
    "tags": []
   },
   "outputs": [],
   "source": [
    "# Aqui vamos pegar apenas os atributos MATEMATICA, FUNDAMENTOS_COMPUTACAO e TECNOLOGIA_COMPUTACAO\n",
    "X = X_dataset.drop(['ESPECIALIDADE','area_concentration'], axis=1)\n",
    "y = X_dataset[['ESPECIALIDADE','area_concentration']].values"
   ]
  },
  {
   "cell_type": "markdown",
   "id": "b8710d34-a6b2-4a88-bc8d-a95d233429b6",
   "metadata": {
    "tags": []
   },
   "source": [
    "## Aplicação do K-means"
   ]
  },
  {
   "cell_type": "markdown",
   "id": "9c939c0a-7c6e-44dd-8c1d-1e7bfa1ec5b2",
   "metadata": {
    "jp-MarkdownHeadingCollapsed": true,
    "tags": []
   },
   "source": [
    "### Encontrar o número ideal de cluster"
   ]
  },
  {
   "cell_type": "code",
   "execution_count": null,
   "id": "fdcc7ca8-c6ea-4f10-97ae-1f78a205b1e1",
   "metadata": {},
   "outputs": [],
   "source": [
    "# inertias = []\n",
    "# for k in range(1, 11):\n",
    "#     kmeans = KMeans(n_clusters=k, n_init=20,max_iter=300,init='k-means++')\n",
    "#     kmeans.fit(X_dataframe)\n",
    "\n",
    "#     inertias.append(kmeans.inertia_)\n",
    "# plt.plot(range(1, 11), inertias)\n",
    "# plt.xlabel('Number of clusters')\n",
    "# plt.ylabel('Inertia')\n",
    "# plt.show()"
   ]
  },
  {
   "cell_type": "code",
   "execution_count": null,
   "id": "6e43ccfc-8eaf-4709-8b51-eb56da39a00d",
   "metadata": {},
   "outputs": [],
   "source": [
    "# from sklearn.metrics import silhouette_score\n",
    "\n",
    "# scores = []\n",
    "\n",
    "# for k in range(2, 11):\n",
    "#     kmeans = KMeans(n_clusters=k, n_init=20,max_iter=300,init='k-means++')\n",
    "#     kmeans.fit(X_dataframe)\n",
    "\n",
    "#     score = silhouette_score(X_dataframe, kmeans.labels_)\n",
    "#     scores.append(score)\n",
    "\n",
    "# plt.plot(range(2, 11), scores)\n",
    "# plt.xlabel('Number of clusters')\n",
    "# plt.ylabel('Silhouette Score')\n",
    "# plt.show()"
   ]
  },
  {
   "cell_type": "code",
   "execution_count": null,
   "id": "2a29e0f8-83b9-4279-813b-350131cd4919",
   "metadata": {},
   "outputs": [],
   "source": [
    "# from sklearn.mixture import GaussianMixture\n",
    "\n",
    "# bic_values = []\n",
    "# aic_values = []\n",
    "\n",
    "# sns.set_palette([\"blue\", \"red\"])\n",
    "\n",
    "# for k in range(1, 11):\n",
    "#     gmm = GaussianMixture(n_components=k)\n",
    "#     gmm.fit(X_dataframe)\n",
    "    \n",
    "\n",
    "#     bic_values.append(gmm.bic(X_dataframe))\n",
    "#     aic_values.append(gmm.aic(X_dataframe))\n",
    "\n",
    "# plt.plot(range(1, 11), bic_values, label=\"BIC\")\n",
    "# plt.plot(range(1, 11), aic_values, label=\"AIC\")\n",
    "# plt.xticks(fontsize=14)\n",
    "# plt.yticks(fontsize=14)\n",
    "# plt.ylabel('scores', fontsize=14)\n",
    "# plt.xlabel('número de clusters', fontsize=14)\n",
    "# legend = plt.legend(title='Critérios', fontsize=12)\n",
    "# legend.get_title().set_fontsize(14)\n",
    "# # plt.savefig('imagens/metodoBIC_AIC.eps', dpi=400, bbox_inches='tight', format='eps')\n",
    "# plt.show()"
   ]
  },
  {
   "cell_type": "code",
   "execution_count": null,
   "id": "220a66be-3abc-4559-bb9c-3eda0a1e1a3e",
   "metadata": {},
   "outputs": [],
   "source": [
    "# wcss = []\n",
    "# for i in range(1,11):\n",
    "#     kmeans = KMeans(n_clusters=k, n_init=20,max_iter=300,init='k-means++')\n",
    "#     kmeans.fit(X_dataframe)\n",
    "#     wcss.append(kmeans.inertia_)"
   ]
  },
  {
   "cell_type": "code",
   "execution_count": null,
   "id": "7dcc19ea-8a1f-4568-8df2-84d14b5ca3a0",
   "metadata": {},
   "outputs": [],
   "source": [
    "# plt.plot(wcss, 'bx-')\n",
    "# plt.xlabel('Cluster')\n",
    "# plt.ylabel('WCSS')"
   ]
  },
  {
   "cell_type": "code",
   "execution_count": null,
   "id": "3d36b125-099b-41fc-817d-1c3624d69c89",
   "metadata": {
    "tags": []
   },
   "outputs": [],
   "source": [
    "# # Método Elbow\n",
    "# sse = []\n",
    "# for k in range(2, 11):\n",
    "#     kmeans = KMeans(n_clusters=k,n_init=20,max_iter=300,init='k-means++')\n",
    "#     kmeans.fit(X_dataframe)\n",
    "#     sse.append(kmeans.inertia_)\n",
    "\n",
    "# plt.plot(range(2, 11), sse)\n",
    "# plt.xlabel('Número de Clusters')\n",
    "# plt.ylabel('SSE')\n",
    "# plt.title('Método Elbow')\n",
    "# plt.show()\n",
    "\n",
    "# # Método Silhouette\n",
    "# sil_scores = []\n",
    "# for k in range(2, 11):\n",
    "#     kmeans = KMeans(n_clusters=k)\n",
    "#     kmeans.fit(X_dataframe)\n",
    "#     labels = kmeans.labels_\n",
    "#     sil_score = silhouette_score(X_dataframe, labels)\n",
    "#     sil_scores.append(sil_score)\n",
    "\n",
    "# plt.plot(range(2, 11), sil_scores)\n",
    "# plt.xlabel('Número de Clusters')\n",
    "# plt.ylabel('Silhouette Score')\n",
    "# plt.title('Método Silhouette')\n",
    "# plt.show()\n"
   ]
  },
  {
   "cell_type": "code",
   "execution_count": null,
   "id": "63b068cd-6c6d-4ab3-ac6e-2eeddb397ea4",
   "metadata": {
    "tags": []
   },
   "outputs": [],
   "source": [
    "model = KMeans(n_clusters=2, n_init=10, random_state=6)\n",
    "labels = model.fit_predict(X)\n",
    "dataset.loc[:, 'cluster'] = model.predict(X)\n",
    "centroids = model.cluster_centers_\n",
    "\n",
    "\n",
    "# Agrupar por cluster e especialidade, contando o número de ocorrências\n",
    "cluster_specialty_counts = dataset.groupby(['cluster', 'ESPECIALIDADE']).size().reset_index(name='count')\n",
    "\n",
    "# Encontrar a especialidade com a maior contagem para cada cluster\n",
    "max_specialties = cluster_specialty_counts.groupby('cluster').apply(lambda x: x.loc[x['count'].idxmax()])\n",
    "\n",
    "print(max_specialties)"
   ]
  },
  {
   "cell_type": "code",
   "execution_count": null,
   "id": "79677ce2-468d-4d74-bcb8-11687db9eff8",
   "metadata": {
    "tags": []
   },
   "outputs": [],
   "source": [
    "poscomp = dataset.copy()\n",
    "poscomp['cluster'] = poscomp['cluster'].replace({0:'engenharia de software',\n",
    "                                      1:'inteligência artificial'})\n",
    "poscomp"
   ]
  },
  {
   "cell_type": "code",
   "execution_count": null,
   "id": "61dd4efb-7cc2-4d69-9208-ff1b7d680b71",
   "metadata": {},
   "outputs": [],
   "source": [
    "# areas_computation = ['computação gráfica','inteligência artificial',\n",
    "#                     'redes de computadores','computação aplicada',\n",
    "#                     'aprendizado de máquina','aplicações computacionais','sistemas de computação']\n",
    "\n",
    "# areas_information = ['engenharia de software','informática na educação',\n",
    "#                      'sistemas distribuídos','sistemas embarcados','sistemas de informação']\n",
    "\n",
    "# # Defina as condições e os valores correspondentes para a nova coluna\n",
    "# condicoes = [\n",
    "#     data_poscomp['ESPECIALIDADE'].isin(areas_computation),\n",
    "#     data_poscomp['ESPECIALIDADE'].isin(areas_information)\n",
    "# ]\n",
    "\n",
    "# valores = ['inteligência artificial', 'engenharia de software']  # Valores correspondentes às condições\n",
    "\n",
    "# # Use a função numpy.select para criar a nova coluna\n",
    "# data_poscomp['area_concentration'] = np.select(condicoes, valores, default='Outro')\n",
    "\n",
    "# # Exiba o DataFrame resultante\n",
    "# data_poscomp"
   ]
  },
  {
   "cell_type": "code",
   "execution_count": null,
   "id": "0f76fe1b-df87-4675-a33a-474e2c6c57d1",
   "metadata": {
    "tags": []
   },
   "outputs": [],
   "source": [
    "# # Análise de Médias por Cluster\n",
    "# cluster_means = dataset.groupby('cluster').mean()\n",
    "# print(cluster_means)\n",
    "\n",
    "# # Box Plot por Cluster\n",
    "# plt.figure(figsize=(10, 6))\n",
    "# sns.boxplot(data=dataset, x='cluster', y='matematica');\n",
    "# plt.xlabel('Cluster')\n",
    "# plt.ylabel('Atributo de Interesse')\n",
    "# plt.title('Distribuição do Atributo de Interesse por Cluster')\n",
    "# plt.show()"
   ]
  },
  {
   "cell_type": "code",
   "execution_count": null,
   "id": "a84f8f6d-a2f5-46a1-b845-d7ad26413ba1",
   "metadata": {
    "tags": []
   },
   "outputs": [],
   "source": [
    "# # Scatter Plot Bidimensional por Atributos\n",
    "# sns.pairplot(data=dataset, vars=['matematica', 'fundamentos_computacao', 'tecnologia_computacao'], hue='cluster')\n",
    "# plt.show()"
   ]
  },
  {
   "cell_type": "markdown",
   "id": "03871724-99a8-4533-b210-c386e04977da",
   "metadata": {
    "jp-MarkdownHeadingCollapsed": true,
    "tags": []
   },
   "source": [
    "#### Grupo 0"
   ]
  },
  {
   "cell_type": "code",
   "execution_count": null,
   "id": "5ee74813-b71b-4cd4-a36f-37ea0e27f384",
   "metadata": {
    "tags": []
   },
   "outputs": [],
   "source": [
    "# dataset_g0 = dataset.query('cluster == 0')"
   ]
  },
  {
   "cell_type": "code",
   "execution_count": null,
   "id": "bc0e8a8b-5c27-457e-af0e-3ec62086cef8",
   "metadata": {},
   "outputs": [],
   "source": [
    "# especialidades_gZero = dataset_g0['ESPECIALIDADE'].value_counts()\n",
    "# especialidades_gZero = pd.DataFrame(especialidades_gZero)"
   ]
  },
  {
   "cell_type": "code",
   "execution_count": null,
   "id": "504ac279-20b3-4785-8abd-ea3d3cd82781",
   "metadata": {
    "tags": []
   },
   "outputs": [],
   "source": [
    "# def create_bar_chart(data, x, y, xlabel='', ylabel='', figsize=(0, 0), rotation=0, fontsize=0, save_path=None):\n",
    "#     sns.set_style(style=\"ticks\")\n",
    "#     plt.figure(figsize=figsize)\n",
    "\n",
    "#     sns.barplot(\n",
    "#         x=x,\n",
    "#         y=y,\n",
    "#         data=data,\n",
    "#         color='#0000BC'\n",
    "#     )\n",
    "\n",
    "#     plt.xlabel(xlabel, fontsize=fontsize)\n",
    "#     plt.ylabel(ylabel, fontsize=fontsize)\n",
    "#     plt.xticks(rotation=rotation, fontsize=fontsize)\n",
    "#     plt.yticks(fontsize=fontsize)\n",
    "#     plt.tight_layout()\n",
    "\n",
    "#     if save_path:\n",
    "#         plt.savefig(save_path, dpi=600, bbox_inches='tight')\n",
    "\n",
    "#     plt.show()"
   ]
  },
  {
   "cell_type": "code",
   "execution_count": null,
   "id": "dad7a832-b6dc-4775-9eb6-a0d5a85c0a0f",
   "metadata": {
    "tags": []
   },
   "outputs": [],
   "source": [
    "# def create_bar_areas(data, x, y, xlabel='', ylabel='', figsize=(10, 4), rotation=0, fontsize=12, save_path=None):\n",
    "#     sns.set_style(style=\"ticks\")\n",
    "#     plt.figure(figsize=figsize)\n",
    "\n",
    "#     # Plotar um gráfico de barras\n",
    "#     sns.barplot(\n",
    "#         x=x,\n",
    "#         y=y,\n",
    "#         data=data,\n",
    "#         color='#0000BC'\n",
    "#     )\n",
    "\n",
    "#     plt.xlabel(xlabel, fontsize=fontsize)\n",
    "#     plt.ylabel(ylabel, fontsize=fontsize)\n",
    "#     plt.xticks(rotation=rotation, fontsize=fontsize)\n",
    "#     plt.tight_layout()\n",
    "\n",
    "#     if save_path:\n",
    "#         plt.savefig(save_path, dpi=600, bbox_inches='tight')\n",
    "\n",
    "#     plt.show()\n"
   ]
  },
  {
   "cell_type": "code",
   "execution_count": null,
   "id": "5c0440fb-a650-464c-abbe-65a107792df8",
   "metadata": {
    "tags": []
   },
   "outputs": [],
   "source": [
    "# create_bar_chart(\n",
    "#     data=especialidades_gZero,\n",
    "#     x='ESPECIALIDADE',\n",
    "#     y=especialidades_gZero.index,\n",
    "#     figsize=(8, 4),\n",
    "#     rotation=0,\n",
    "#     fontsize=18,\n",
    "#     save_path='imagens/espec_grupoZero.eps'\n",
    "# )"
   ]
  },
  {
   "cell_type": "code",
   "execution_count": null,
   "id": "7e2cc4b3-642a-4f0a-9418-1f565abb41ae",
   "metadata": {
    "tags": []
   },
   "outputs": [],
   "source": [
    "# media_disciplina_zero = dataset_g0.iloc[:,7:32]\n",
    "# media_disciplina_zero = pd.DataFrame(media_disciplina_zero.mean().sort_values(ascending=False), columns=['media'])\n",
    "# media_disciplina_zero = media_disciplina_zero.reset_index()"
   ]
  },
  {
   "cell_type": "code",
   "execution_count": null,
   "id": "099d14db-5975-41fd-a803-c48d4f9f1430",
   "metadata": {
    "tags": []
   },
   "outputs": [],
   "source": [
    "# grouped_data = dataset_g0.groupby('ESTADO')['ESPECIALIDADE'].value_counts()\n",
    "# grouped_data"
   ]
  },
  {
   "cell_type": "markdown",
   "id": "f4482f92-fe1a-4330-8f63-b56153fca5a4",
   "metadata": {
    "jp-MarkdownHeadingCollapsed": true,
    "tags": []
   },
   "source": [
    "#### Grupo 1"
   ]
  },
  {
   "cell_type": "code",
   "execution_count": null,
   "id": "100fa188-4e0e-40df-84d7-1ca0d4876a19",
   "metadata": {
    "tags": []
   },
   "outputs": [],
   "source": [
    "# dataset_g1 = dataset.query('cluster == 1')"
   ]
  },
  {
   "cell_type": "code",
   "execution_count": null,
   "id": "2afdde17-3b62-4815-9698-c9de5390de44",
   "metadata": {
    "tags": []
   },
   "outputs": [],
   "source": [
    "# especialidades_gOne = dataset_g1['ESPECIALIDADE'].value_counts()\n",
    "# especialidades_gOne = pd.DataFrame(especialidades_gOne)"
   ]
  },
  {
   "cell_type": "code",
   "execution_count": null,
   "id": "17170f9f-645f-4b1c-b20d-929e388064c1",
   "metadata": {
    "tags": []
   },
   "outputs": [],
   "source": [
    "# create_bar_chart(\n",
    "#     data=especialidades_gOne,\n",
    "#     x='ESPECIALIDADE',\n",
    "#     y=especialidades_gOne.index,\n",
    "#     figsize=(8, 4),\n",
    "#     rotation=0,\n",
    "#     fontsize=18,\n",
    "#     save_path='imagens/espec_grupoOne.eps'\n",
    "# )"
   ]
  },
  {
   "cell_type": "code",
   "execution_count": null,
   "id": "aaadba49-7bdd-41ff-a234-dd9c29efe6f9",
   "metadata": {
    "tags": []
   },
   "outputs": [],
   "source": [
    "# media_disciplina_one = dataset_g1.iloc[:,7:32]\n",
    "# media_disciplina_one = pd.DataFrame(media_disciplina_one.mean().sort_values(ascending=False), columns=['media'])\n",
    "# media_disciplina_one = media_disciplina_one.reset_index()\n",
    "# # media_disciplina_one"
   ]
  },
  {
   "cell_type": "markdown",
   "id": "77303fb2-b123-4b29-b3c3-1785855bb7a5",
   "metadata": {
    "jp-MarkdownHeadingCollapsed": true,
    "tags": []
   },
   "source": [
    "#### Grupo 2"
   ]
  },
  {
   "cell_type": "code",
   "execution_count": null,
   "id": "5c40f135-7806-4b09-985b-59c897412dbd",
   "metadata": {
    "tags": []
   },
   "outputs": [],
   "source": [
    "# dataset_g2 = dataset.query('cluster == 2')"
   ]
  },
  {
   "cell_type": "code",
   "execution_count": null,
   "id": "6dd99d97-893c-4ec1-a115-e44590575f9e",
   "metadata": {
    "tags": []
   },
   "outputs": [],
   "source": [
    "# especialidades_gTwo = dataset_g2['ESPECIALIDADE'].value_counts()\n",
    "# especialidades_gTwo = pd.DataFrame(especialidades_gTwo)"
   ]
  },
  {
   "cell_type": "code",
   "execution_count": null,
   "id": "95329b05-e8ee-4103-977e-8d18f0eec018",
   "metadata": {
    "tags": []
   },
   "outputs": [],
   "source": [
    "# create_bar_chart(\n",
    "#     data=especialidades_gTwo,\n",
    "#     x='ESPECIALIDADE',\n",
    "#     y=especialidades_gTwo.index,\n",
    "#     figsize=(8, 4),\n",
    "#     rotation=0,\n",
    "#     fontsize=18,\n",
    "#     save_path='imagens/espec_grupoOne.eps'\n",
    "# )"
   ]
  },
  {
   "cell_type": "code",
   "execution_count": null,
   "id": "677d493a-0d17-4176-9134-179a752bb329",
   "metadata": {},
   "outputs": [],
   "source": []
  },
  {
   "cell_type": "markdown",
   "id": "c6f8ed69-3b79-457b-961a-6a402a2c45a4",
   "metadata": {
    "jp-MarkdownHeadingCollapsed": true,
    "tags": []
   },
   "source": [
    "#### Grupo 3"
   ]
  },
  {
   "cell_type": "code",
   "execution_count": null,
   "id": "fedf298e-7574-4a8e-828a-60acfb121fbd",
   "metadata": {
    "tags": []
   },
   "outputs": [],
   "source": [
    "# dataset_g3 = dataset.query('cluster == 3')"
   ]
  },
  {
   "cell_type": "code",
   "execution_count": null,
   "id": "b901d727-4710-42cf-913d-d46fc35fc340",
   "metadata": {
    "tags": []
   },
   "outputs": [],
   "source": [
    "# especialidades_g3 = dataset_g3['ESPECIALIDADE'].value_counts()[:10]\n",
    "# especialidades_g3 = pd.DataFrame(especialidades_g3)"
   ]
  },
  {
   "cell_type": "code",
   "execution_count": null,
   "id": "1ddcc2c6-005f-4c9a-afd8-13d58bb67928",
   "metadata": {
    "tags": []
   },
   "outputs": [],
   "source": [
    "# create_bar_chart(\n",
    "#     data=especialidades_g3,\n",
    "#     x='ESPECIALIDADE',\n",
    "#     y=especialidades_g3.index,\n",
    "#     figsize=(8, 4),\n",
    "#     rotation=0,\n",
    "#     fontsize=18,\n",
    "#     save_path='imagens/espec_grupoOne.eps'\n",
    "# )"
   ]
  },
  {
   "cell_type": "markdown",
   "id": "79e95e74-4b21-40e1-928a-eb52f5858c10",
   "metadata": {
    "jp-MarkdownHeadingCollapsed": true,
    "tags": []
   },
   "source": [
    "##### Algoritmos Supervionados"
   ]
  },
  {
   "cell_type": "code",
   "execution_count": null,
   "id": "2f5fff1f-8af8-4213-a9df-e251f35f82dd",
   "metadata": {
    "tags": []
   },
   "outputs": [],
   "source": [
    "X_dataset = dataset.copy()\n",
    "# X_dataset['ESPECIALIDADE'] = X_dataset['ESPECIALIDADE'].replace({'sistemas de informação':'sistemas de computação'})\n",
    "X_dataset = poscomp.loc[:,['SEXO','IDADE','matematica', 'fund_computacao','tec_computacao','ESPECIALIDADE', 'cluster']]"
   ]
  },
  {
   "cell_type": "code",
   "execution_count": null,
   "id": "04b66553-72fb-4a2f-93ea-af8f084402bd",
   "metadata": {
    "tags": []
   },
   "outputs": [],
   "source": [
    "X_dataset[X_dataset['cluster'] == 'inteligência artificial']"
   ]
  },
  {
   "cell_type": "code",
   "execution_count": null,
   "id": "52e1f1e7-0c6b-4f23-b3a5-39c8fc0d1628",
   "metadata": {
    "tags": []
   },
   "outputs": [],
   "source": [
    "# Aqui vamos pegar apenas os atributos MATEMATICA, FUNDAMENTOS_COMPUTACAO e TECNOLOGIA_COMPUTACAO\n",
    "X = X_dataset.drop(['ESPECIALIDADE', 'cluster'], axis=1)\n",
    "y = X_dataset[['ESPECIALIDADE', 'cluster']].values"
   ]
  },
  {
   "cell_type": "code",
   "execution_count": null,
   "id": "e47026a1-b47e-40d1-9707-6a246b5252a0",
   "metadata": {
    "tags": []
   },
   "outputs": [],
   "source": [
    "X"
   ]
  },
  {
   "cell_type": "markdown",
   "id": "4a3a66fd-0f16-4dbe-8da9-689e75846071",
   "metadata": {
    "tags": []
   },
   "source": [
    "### Dividir a base"
   ]
  },
  {
   "cell_type": "code",
   "execution_count": 33,
   "id": "2da34425-c304-449a-9d00-351bbb3de69c",
   "metadata": {
    "tags": []
   },
   "outputs": [],
   "source": [
    "from sklearn.preprocessing import OneHotEncoder\n",
    "from sklearn.compose import ColumnTransformer"
   ]
  },
  {
   "cell_type": "code",
   "execution_count": 108,
   "id": "00990c79-b50b-4cf7-927f-1666336c0d5d",
   "metadata": {
    "tags": []
   },
   "outputs": [],
   "source": [
    "# onehotencoder = ColumnTransformer(transformers=[('OneHot', OneHotEncoder(), [0,1,2])], remainder='passthrough')"
   ]
  },
  {
   "cell_type": "code",
   "execution_count": 109,
   "id": "255f374f-d86e-4318-9efa-dc349b9311c2",
   "metadata": {
    "tags": []
   },
   "outputs": [],
   "source": [
    "# X = onehotencoder.fit_transform(X).toarray()"
   ]
  },
  {
   "cell_type": "code",
   "execution_count": 237,
   "id": "4439535e-a98c-44e9-ba55-153d347771b8",
   "metadata": {
    "tags": []
   },
   "outputs": [],
   "source": [
    "scaler = StandardScaler()\n",
    "\n",
    "# Ajuste o scaler aos seus dados e, ao mesmo tempo, padronize-os\n",
    "X = scaler.fit_transform(X)"
   ]
  },
  {
   "cell_type": "code",
   "execution_count": 278,
   "id": "6ec6e3a2-6278-4078-8acb-9b7a98f83139",
   "metadata": {
    "tags": []
   },
   "outputs": [
    {
     "data": {
      "text/plain": [
       "array([ 0.46502304, -0.21651527, -0.00258984,  0.45634035,  1.0111529 ,\n",
       "        1.37378766])"
      ]
     },
     "execution_count": 278,
     "metadata": {},
     "output_type": "execute_result"
    }
   ],
   "source": [
    "X[3]"
   ]
  },
  {
   "cell_type": "code",
   "execution_count": 239,
   "id": "c25fe3bb-03a3-41b5-8094-7d30bfcfea06",
   "metadata": {
    "tags": []
   },
   "outputs": [],
   "source": [
    "X_train, X_test, y_train, y_test = train_test_split(X, y, test_size=0.3, stratify=y, random_state=42)"
   ]
  },
  {
   "cell_type": "code",
   "execution_count": 240,
   "id": "a43a928c-8cbf-4656-9819-d96f4025e33d",
   "metadata": {
    "tags": []
   },
   "outputs": [
    {
     "data": {
      "text/plain": [
       "((6854, 6), (2938, 6), (6854, 2), (2938, 2))"
      ]
     },
     "execution_count": 240,
     "metadata": {},
     "output_type": "execute_result"
    }
   ],
   "source": [
    "X_train.shape, X_test.shape, y_train.shape, y_test.shape"
   ]
  },
  {
   "cell_type": "code",
   "execution_count": 241,
   "id": "23aa2a6d-bfb2-4457-bb84-0b5c2abb4e33",
   "metadata": {
    "tags": []
   },
   "outputs": [
    {
     "data": {
      "text/plain": [
       "(array(['aplicações computacionais', 'computação aplicada',\n",
       "        'engenharia de software', 'inteligência artificial',\n",
       "        'redes de computadores', 'sistemas de computação'], dtype=object),\n",
       " array([212, 130, 516, 848, 365, 867], dtype=int64))"
      ]
     },
     "execution_count": 241,
     "metadata": {},
     "output_type": "execute_result"
    }
   ],
   "source": [
    "valores, cont = np.unique(y_test[:,0], return_counts=True)\n",
    "valores, cont"
   ]
  },
  {
   "cell_type": "markdown",
   "id": "c465ab7e-ab91-4f38-b8b9-a5532bdd0d1b",
   "metadata": {
    "tags": []
   },
   "source": [
    "### Árvore de Decisão"
   ]
  },
  {
   "cell_type": "code",
   "execution_count": 29,
   "id": "bd6b14a7-a3bc-492a-a08a-8ed26797fc4b",
   "metadata": {
    "tags": []
   },
   "outputs": [],
   "source": [
    "from sklearn.model_selection import GridSearchCV"
   ]
  },
  {
   "cell_type": "code",
   "execution_count": 254,
   "id": "50b2d734-9740-4b7e-89fc-496ae3fcad45",
   "metadata": {
    "tags": []
   },
   "outputs": [],
   "source": [
    "parametros = {'criterion': ['gini', 'entropy', 'log_loss'],\n",
    "              'splitter': ['best', 'random'],\n",
    "              'min_samples_split': [2, 3, 4],\n",
    "              'min_samples_leaf': [8, 10, 12],\n",
    "             'max_depth':[1,2,3,4,5,6,7,8,9,10]}"
   ]
  },
  {
   "cell_type": "code",
   "execution_count": 255,
   "id": "fd232a86-eaa5-4e93-afb6-58840a9751b1",
   "metadata": {
    "tags": []
   },
   "outputs": [
    {
     "name": "stdout",
     "output_type": "stream",
     "text": [
      "{'criterion': 'gini', 'max_depth': 3, 'min_samples_leaf': 8, 'min_samples_split': 2, 'splitter': 'best'}\n",
      "0.6384594922431955\n",
      "DecisionTreeClassifier(max_depth=3, min_samples_leaf=8)\n"
     ]
    }
   ],
   "source": [
    "grid_search = GridSearchCV(estimator=DecisionTreeClassifier(), param_grid=parametros,scoring='accuracy', cv=10)\n",
    "grid_search.fit(X_train, y_train[:,1])\n",
    "melhores_parametros = grid_search.best_params_\n",
    "melhor_resultado = grid_search.best_score_\n",
    "print(melhores_parametros)\n",
    "print(melhor_resultado)\n",
    "print(grid_search.best_estimator_)"
   ]
  },
  {
   "cell_type": "markdown",
   "id": "effde1be-9de1-4fb8-a725-df2040bc7270",
   "metadata": {
    "jp-MarkdownHeadingCollapsed": true,
    "tags": []
   },
   "source": [
    "### Rede Neural"
   ]
  },
  {
   "cell_type": "code",
   "execution_count": null,
   "id": "334f458e-c7e6-4dcb-b62d-c1e0924dc648",
   "metadata": {
    "tags": []
   },
   "outputs": [],
   "source": [
    "parametros = {'activation' : ['identity', 'logistic', 'tanh', 'relu'],\n",
    "            'solver' : ['lbfgs', 'sgd', 'adam'],\n",
    "            'hidden_layer_sizes': [(1,),(2,),(3,),(4,),(5,),(6,),(7,),(8,),(9,),(10,),(11,), (12,),(13,),(14,),(15,),(16,),(17,),(18,),(19,),(20,),(21,)\n",
    "             ]}"
   ]
  },
  {
   "cell_type": "code",
   "execution_count": null,
   "id": "e9702684-ca95-4d7d-b7ee-4e7104e5bea5",
   "metadata": {
    "tags": []
   },
   "outputs": [],
   "source": [
    "# grid_search = GridSearchCV(estimator=MLPClassifier(), param_grid=parametros)\n",
    "# grid_search.fit(X_train, y_train)\n",
    "# melhores_parametros = grid_search.best_params_\n",
    "# melhor_resultado = grid_search.best_score_"
   ]
  },
  {
   "cell_type": "code",
   "execution_count": null,
   "id": "c2539202-b0a7-4b3b-a0ed-f67e5c44cd48",
   "metadata": {
    "tags": []
   },
   "outputs": [],
   "source": [
    "print(melhores_parametros)\n",
    "print(melhor_resultado)"
   ]
  },
  {
   "cell_type": "markdown",
   "id": "f6016397-5780-4626-91c1-5c869e9bccd9",
   "metadata": {
    "tags": []
   },
   "source": [
    "### Random Forest"
   ]
  },
  {
   "cell_type": "code",
   "execution_count": 257,
   "id": "ffc38199-64fa-413e-98ff-7ea0274cf7db",
   "metadata": {
    "tags": []
   },
   "outputs": [],
   "source": [
    "parametros = {\n",
    "    'criterion': ['gini', 'entropy', 'log_loss'],\n",
    "    'bootstrap': [True],\n",
    "    'max_depth': [11],\n",
    "    'max_features': [4],\n",
    "    'min_samples_leaf': [4],\n",
    "    'min_samples_split': [12],\n",
    "    'n_estimators': [4500]}"
   ]
  },
  {
   "cell_type": "code",
   "execution_count": 258,
   "id": "083a583e-e80a-42ac-96b6-2b97f3e73d45",
   "metadata": {
    "tags": []
   },
   "outputs": [
    {
     "name": "stdout",
     "output_type": "stream",
     "text": [
      "{'bootstrap': True, 'criterion': 'entropy', 'max_depth': 11, 'max_features': 4, 'min_samples_leaf': 4, 'min_samples_split': 12, 'n_estimators': 4500}\n",
      "0.6400668213062075\n"
     ]
    }
   ],
   "source": [
    "grid_search = GridSearchCV(estimator=RandomForestClassifier(random_state=42), param_grid=parametros, scoring='accuracy', cv=10)\n",
    "grid_search.fit(X_train, y_train[:,1])\n",
    "melhores_parametros = grid_search.best_params_\n",
    "melhor_resultado = grid_search.best_score_\n",
    "print(melhores_parametros)\n",
    "print(melhor_resultado)"
   ]
  },
  {
   "cell_type": "code",
   "execution_count": 146,
   "id": "7cf2f110-5d4d-4ed1-9c60-57a93004833e",
   "metadata": {
    "tags": []
   },
   "outputs": [
    {
     "data": {
      "text/plain": [
       "<bound method BaseSearchCV.score of GridSearchCV(cv=10, estimator=RandomForestClassifier(),\n",
       "             param_grid={'bootstrap': [True],\n",
       "                         'max_depth': array([ 2,  3,  4,  5,  6,  7,  8,  9, 10]),\n",
       "                         'max_features': [2, 3], 'min_samples_leaf': [3, 4, 5],\n",
       "                         'min_samples_split': [8, 10, 12],\n",
       "                         'n_estimators': [100, 200, 300, 1000]},\n",
       "             scoring='accuracy')>"
      ]
     },
     "execution_count": 146,
     "metadata": {},
     "output_type": "execute_result"
    }
   ],
   "source": [
    "grid_search.score"
   ]
  },
  {
   "cell_type": "markdown",
   "id": "ccf19920-8048-481b-9636-e9123400e3c5",
   "metadata": {
    "jp-MarkdownHeadingCollapsed": true,
    "tags": []
   },
   "source": [
    "### SVM"
   ]
  },
  {
   "cell_type": "code",
   "execution_count": null,
   "id": "af71b2ea-9f68-4fdf-84ce-fd21add8fe99",
   "metadata": {
    "tags": []
   },
   "outputs": [],
   "source": [
    "parametros = {'C':[0.1,1,100,1000],\n",
    "              'kernel':['rbf','poly','sigmoid','linear'],\n",
    "              'degree':[1,2,3,4,5,6],\n",
    "              'gamma': [1, 0.1, 0.01, 0.001, 0.0001]}"
   ]
  },
  {
   "cell_type": "code",
   "execution_count": null,
   "id": "532f319d-91c8-4bbb-936c-59bff944813a",
   "metadata": {
    "tags": []
   },
   "outputs": [],
   "source": [
    "grid_search = GridSearchCV(estimator=SVC(), param_grid=parametros, refit = True, verbose = 3)\n",
    "grid_search.fit(X_train, y_train)\n",
    "melhores_parametros = grid_search.best_params_\n",
    "melhor_resultado = grid_search.best_score_\n",
    "print(melhores_parametros)\n",
    "print(melhor_resultado)"
   ]
  },
  {
   "cell_type": "markdown",
   "id": "b4165c43-bef6-4baf-9f46-a8c1ae0b6279",
   "metadata": {},
   "source": [
    "### Os algoritmos"
   ]
  },
  {
   "cell_type": "code",
   "execution_count": 256,
   "id": "cca2bbdd-3d09-4e14-b8d2-2a485b3e3615",
   "metadata": {
    "tags": []
   },
   "outputs": [
    {
     "name": "stdout",
     "output_type": "stream",
     "text": [
      "Árvore de Decisão (C4.5) - Acurácia: 61.30%\n",
      "Rede Neural - Acurácia: 59.16%\n",
      "Random Forest - Acurácia: 64.50%\n",
      "SVM - Acurácia: 58.85%\n",
      "K-Nearest Neighbors - Acurácia: 54.63%\n"
     ]
    }
   ],
   "source": [
    "algorithms = [\n",
    "    ('Árvore de Decisão (C4.5)', DecisionTreeClassifier(criterion='entropy', max_depth=5, min_samples_leaf=3, min_samples_split=3, splitter='random')),\n",
    "    ('Rede Neural', MLPClassifier(random_state=42, max_iter=500, learning_rate_init=0.01, activation='identity', hidden_layer_sizes=2, solver='adam')),\n",
    "    ('Random Forest', RandomForestClassifier(random_state=42,n_estimators=2000, criterion='gini', \n",
    "                                    min_samples_split=12, min_samples_leaf=4, max_features=11, max_depth=10, bootstrap=True)),\n",
    "    ('SVM', SVC(random_state=42, kernel='poly', C=0.1, degree=2, gamma=1)),\n",
    "    ('K-Nearest Neighbors', KNeighborsClassifier(n_neighbors=5)), \n",
    "]\n",
    "\n",
    "for name, classifier in algorithms:\n",
    "    classifier.fit(X_train, y_train[:,1])\n",
    "    predictions = classifier.predict(X_test)\n",
    "    accuracy = accuracy_score(y_test[:,1], predictions)\n",
    "    print(f'{name} - Acurácia: {accuracy * 100:.2f}%')"
   ]
  },
  {
   "cell_type": "code",
   "execution_count": 299,
   "id": "61f013d6-fe05-4e70-8f56-cc487ec97c46",
   "metadata": {
    "tags": []
   },
   "outputs": [
    {
     "name": "stdout",
     "output_type": "stream",
     "text": [
      "Acurácia: 63.75%\n"
     ]
    }
   ],
   "source": [
    "classifier = RandomForestClassifier(random_state=41,n_estimators=4500, criterion='entropy',\n",
    "                                    min_samples_split=12, min_samples_leaf=4, max_features=4, max_depth=11, bootstrap=True)\n",
    "classifier.fit(X_train, y_train[:,1])\n",
    "predictions = classifier.predict(X_test)\n",
    "accuracy = accuracy_score(y_test[:,1], predictions)\n",
    "print(f'Acurácia: {accuracy * 100:.2f}%')"
   ]
  },
  {
   "cell_type": "code",
   "execution_count": 300,
   "id": "f86ecc41-4ff9-4106-ad30-8ec0a8c2f90e",
   "metadata": {
    "tags": []
   },
   "outputs": [
    {
     "data": {
      "text/plain": [
       "(array(['fundamentos da computacao', 'tecnologia da computacao'],\n",
       "       dtype=object),\n",
       " array([ 512, 2426], dtype=int64))"
      ]
     },
     "execution_count": 300,
     "metadata": {},
     "output_type": "execute_result"
    }
   ],
   "source": [
    "predictions\n",
    "valores_unicos, contagem = np.unique(predictions, return_counts=True)\n",
    "valores_unicos, contagem"
   ]
  },
  {
   "cell_type": "code",
   "execution_count": 302,
   "id": "a86bd18c-70ce-468f-819d-6c2055533c8d",
   "metadata": {
    "tags": []
   },
   "outputs": [
    {
     "name": "stdout",
     "output_type": "stream",
     "text": [
      "Especialidade prevista para o usuário: tecnologia da computacao\n"
     ]
    }
   ],
   "source": [
    "from sklearn.preprocessing import StandardScaler\n",
    "\n",
    "# Dados do usuário\n",
    "dados_usuario = [[0.46502304, -0.21651527, -0.00258984,  0.45634035,  1.0111529 ,\n",
    "        1.37378766]]  # Substitua esses valores pelos dados reais do usuário\n",
    "\n",
    "# Inicialize o StandardScaler\n",
    "# novo_scaler = StandardScaler()\n",
    "\n",
    "# # Ajuste e transforme os dados do usuário usando o scaler\n",
    "# dados_usuario = novo_scaler.fit_transform(dados_usuario)\n",
    "\n",
    "# Realize a previsão para o usuário\n",
    "previsao_usuario = classifier.predict(dados_usuario)\n",
    "\n",
    "# A variável 'previsao_usuario' conterá a previsão da especialidade para o usuário\n",
    "print(f'Especialidade prevista para o usuário: {previsao_usuario[0]}')  # Use [0] para acessar o valor único na matriz de previsão\n"
   ]
  },
  {
   "cell_type": "code",
   "execution_count": 275,
   "id": "1df7b48b-e1fd-40fc-9e30-b671073fe1e5",
   "metadata": {
    "tags": []
   },
   "outputs": [
    {
     "name": "stdout",
     "output_type": "stream",
     "text": [
      "Acurácia do modelo de Engenharia de Software: 54.55%\n",
      "Linha de Pesquisa Prevista: inteligência artificial\n"
     ]
    }
   ],
   "source": [
    "area_de_concentracao = previsao_usuario\n",
    "if previsao_usuario == \"fundamentos da computacao\":\n",
    "    # Filtrar os dados para a área de concentração de \"Inteligência Artificial\"\n",
    "    X_ia = X_train[y_train[:,1] == area_de_concentracao]\n",
    "    y_ia = y_train[y_train[:,1] == area_de_concentracao][:,0]\n",
    "    \n",
    "    X_train_ia, X_test_ia, y_train_ia, y_test_ia = train_test_split(X_ia, y_ia, test_size=0.3, stratify=y_ia, random_state=42)\n",
    "    \n",
    "    # Segundo modelo para \"Inteligência Artificial\"\n",
    "    classifier_ia = RandomForestClassifier(random_state=42,n_estimators=4500, criterion='entropy',\n",
    "                                    min_samples_split=12, min_samples_leaf=4, max_features=4, max_depth=11, bootstrap=True)\n",
    "    classifier_ia.fit(X_train_ia, y_train_ia)\n",
    "\n",
    "    predictions_ia = classifier_ia.predict(X_test_ia)\n",
    "    accuracy_ia = accuracy_score(y_test_ia, predictions_ia)\n",
    "    print(f'Acurácia: {accuracy_ia * 100:.2f}%')\n",
    "    \n",
    "    print(f'Linha de Pesquisa Prevista: {predictions_ia[0]}') \n",
    "\n",
    "\n",
    "elif previsao_usuario == \"tecnologia da computacao\":\n",
    "    # Filtrar os dados para a área de concentração de \"Engenharia de Software\"\n",
    "    X_sw = X_train[y_train[:,1] == area_de_concentracao]\n",
    "    y_sw = y_train[y_train[:,1] == area_de_concentracao][:,0]\n",
    "    \n",
    "    X_train_sw, X_test_sw, y_train_sw, y_test_sw = train_test_split(X_sw, y_sw, test_size=0.3, stratify=y_sw,random_state=42)\n",
    "    \n",
    "    # Terceiro modelo para \"Engenharia de Software\"\n",
    "    classifier_sw = RandomForestClassifier(random_state=42,n_estimators=4500, criterion='entropy',\n",
    "                                    min_samples_split=12, min_samples_leaf=4, max_features=4, max_depth=11, bootstrap=True)\n",
    "    classifier_sw.fit(X_train_sw, y_train_sw)\n",
    "    predictions_sw = classifier_sw.predict(X_test_sw)\n",
    "    # Calcule e exiba a acurácia (opcional)\n",
    "    acuracia_sw = accuracy_score(y_test_sw, classifier_sw.predict(X_test_sw))\n",
    "    print(f'Acurácia do modelo de Engenharia de Software: {acuracia_sw * 100:.2f}%')\n",
    "    \n",
    "    print(f'Linha de Pesquisa Prevista: {predictions_sw[0]}')\n",
    "\n",
    "else:\n",
    "    print(\"Área de concentração não reconhecida\")"
   ]
  }
 ],
 "metadata": {
  "kernelspec": {
   "display_name": "Python 3 (ipykernel)",
   "language": "python",
   "name": "python3"
  },
  "language_info": {
   "codemirror_mode": {
    "name": "ipython",
    "version": 3
   },
   "file_extension": ".py",
   "mimetype": "text/x-python",
   "name": "python",
   "nbconvert_exporter": "python",
   "pygments_lexer": "ipython3",
   "version": "3.10.9"
  }
 },
 "nbformat": 4,
 "nbformat_minor": 5
}
