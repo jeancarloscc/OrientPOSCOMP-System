{
 "cells": [
  {
   "cell_type": "markdown",
   "id": "fbfffd19-8199-4c3a-bac7-fde6924612f8",
   "metadata": {
    "tags": []
   },
   "source": [
    "# Processamento dos Dados"
   ]
  },
  {
   "cell_type": "code",
   "execution_count": 2,
   "id": "87a844c7-56a6-4aed-a34c-1fcef70518ab",
   "metadata": {},
   "outputs": [],
   "source": [
    "import pandas as pd\n",
    "import numpy as np\n",
    "import matplotlib.pyplot as plt"
   ]
  },
  {
   "cell_type": "markdown",
   "id": "7e5c9f90-8c00-424a-a4f7-7ff957550c78",
   "metadata": {
    "tags": []
   },
   "source": [
    "## POSCOMP 2016"
   ]
  },
  {
   "cell_type": "markdown",
   "id": "1bdc0cee-ec8a-4d73-8de5-371bb1c78979",
   "metadata": {
    "jp-MarkdownHeadingCollapsed": true,
    "tags": []
   },
   "source": [
    "### Dados da Homologação do POSCOMP 2016"
   ]
  },
  {
   "cell_type": "code",
   "execution_count": 10,
   "id": "83a2c8a4-1792-4a44-bb7b-c24fde06c36d",
   "metadata": {
    "tags": []
   },
   "outputs": [],
   "source": [
    "dados_homologados = pd.read_csv('dados/homologação_poscomp/dados_homologados.csv')"
   ]
  },
  {
   "cell_type": "code",
   "execution_count": 11,
   "id": "0a22662f-5456-4ff3-a46a-97e126c15de7",
   "metadata": {},
   "outputs": [
    {
     "data": {
      "text/plain": [
       "Index(['Unnamed: 0', 'SEXO', 'ENDERECO.', 'NUMERO', 'BAIRRO', 'CIDADE',\n",
       "       'ESTADO', 'CEP', 'INSCRICAO', 'CARGO', 'CÓDIGO', 'LOCAL DE PROVA',\n",
       "       'ANO'],\n",
       "      dtype='object')"
      ]
     },
     "execution_count": 11,
     "metadata": {},
     "output_type": "execute_result"
    }
   ],
   "source": [
    "dados_homologados.columns"
   ]
  },
  {
   "cell_type": "code",
   "execution_count": 12,
   "id": "471b816e-e666-4c72-8670-8702a7c4b321",
   "metadata": {
    "tags": []
   },
   "outputs": [],
   "source": [
    "#Eliminar as colunas com descrições que possuem NaN e linhas que contêm o Estado do Peru\n",
    "#dados_homologados.drop(dados_homologados.index[dados_homologados['ESTADO'] == 'OU'], inplace = True)\n",
    "dados_homologados = dados_homologados.drop(columns=['Unnamed: 0'])"
   ]
  },
  {
   "cell_type": "code",
   "execution_count": 1,
   "id": "0d552e9b-cee5-42c2-89ce-8ae106c2fa16",
   "metadata": {},
   "outputs": [],
   "source": [
    "#Eliminar as linhas que contêm CARGO = 2-AUTOAVALIAÇÃO\n",
    "#dados_homologados.drop(dados_homologados.index[dados_homologados['CARGO'] == '2-Autoavaliação'], inplace = True)"
   ]
  },
  {
   "cell_type": "code",
   "execution_count": 22,
   "id": "e5520f6b-6cd6-491e-a64f-689f76b3d4c0",
   "metadata": {
    "tags": []
   },
   "outputs": [],
   "source": [
    "dados_homologados=dados_homologados.set_index('INSCRICAO')"
   ]
  },
  {
   "cell_type": "code",
   "execution_count": 28,
   "id": "71e1ae87-e475-4db8-a4e0-cbc72ef24d3e",
   "metadata": {},
   "outputs": [],
   "source": [
    "#dados_homologados[dados_homologados['CARGO'] == '17/07/2019 11:50']\n",
    "#dados_homologados = dados_homologados.drop(labels=['688145', ])\n",
    "\n",
    "#dados_homologados[dados_homologados['CARGO'] == '01/08/2019 23:19']\n",
    "#dados_homologados = dados_homologados.drop(labels=['miamia'])"
   ]
  },
  {
   "cell_type": "code",
   "execution_count": 29,
   "id": "b83c0acb-bdd0-49ca-9ef4-4cd3857e76fe",
   "metadata": {},
   "outputs": [
    {
     "data": {
      "text/plain": [
       "(14573, 11)"
      ]
     },
     "execution_count": 29,
     "metadata": {},
     "output_type": "execute_result"
    }
   ],
   "source": [
    "dados_homologados.shape"
   ]
  },
  {
   "cell_type": "markdown",
   "id": "da04bbd7-57d8-458b-a556-d706fc7efa4b",
   "metadata": {
    "tags": []
   },
   "source": [
    "### Dados das Notas do POSCOMP 2016"
   ]
  },
  {
   "cell_type": "code",
   "execution_count": 16,
   "id": "e6fc6ca8-b439-429d-9112-95fe1281c798",
   "metadata": {},
   "outputs": [],
   "source": [
    "dados_notas_2016 = pd.read_csv('dados/notas_poscomp/dados_notasRespostas_2016.csv')\n",
    "dados_notas_2017 = pd.read_csv('dados/notas_poscomp/dados_notasRespostas_2017.csv')\n",
    "dados_notas_2018 = pd.read_csv('dados/notas_poscomp/dados_notasRespostas_2018.csv')\n",
    "dados_notas_2019 = pd.read_csv('dados/notas_poscomp/dados_notasRespostas_2019.csv')"
   ]
  },
  {
   "cell_type": "code",
   "execution_count": 17,
   "id": "a9230427-37a6-43c3-8624-ab315d34842c",
   "metadata": {},
   "outputs": [],
   "source": [
    "dados_respostas_notas_2016 = dados_notas_2016.drop(columns=['ACERTOS Matemática Discreta',\n",
    "                                                                      'ACERTOS Cálculo Diferencial Integral',\n",
    "                                                                      'ACERTOS Álgebra Linear',\n",
    "                                                                      'ACERTOS Geometria Analítica',\n",
    "                                                                      'ACERTOS Análise Combinatória',\n",
    "                                                                      'ACERTOS Probabilidade e Estatística',\n",
    "                                                                      'ACERTOS Lógica Matemática',\n",
    "                                                                      'ACERTOS Organização de Arquivos e Dados', \n",
    "                                                                      'ACERTOS Técnicas de Programação', \n",
    "                                                                      'ACERTOS Circuitos Digitais', \n",
    "                                                                      'ACERTOS Análise de Algoritmos',\n",
    "                                                                      'ACERTOS Teoria dos Grafos', \n",
    "                                                                      'ACERTOS Linguagens Formais, Autômatos e Computabilidade', \n",
    "                                                                      'ACERTOS Algoritmos e Estruturas de Dados', \n",
    "                                                                      'ACERTOS Linguagens de Programação', \n",
    "                                                                      'ACERTOS Sistemas Operacionais', \n",
    "                                                                      'ACERTOS Arquitetura e Organização de Computadores', \n",
    "                                                                      'ACERTOS Rede de Computadores', \n",
    "                                                                      'ACERTOS Computação Gráfica', \n",
    "                                                                      'ACERTOS Inteligência Artificial', \n",
    "                                                                      'ACERTOS Engenharia de Software', \n",
    "                                                                      'ACERTOS Sistemas Distribuídos', \n",
    "                                                                      'ACERTOS Compiladores',\n",
    "                                                                      'ACERTOS Processamento de Imagens', \n",
    "                                                                      'ACERTOS Banco de Dados',\n",
    "                                                                      'ACERTOS TO',])"
   ]
  },
  {
   "cell_type": "code",
   "execution_count": 25,
   "id": "ca8bf263-0833-4cd1-907d-ea3a6198ea65",
   "metadata": {},
   "outputs": [],
   "source": [
    "dados_respostas_notas_2017 = dados_notas_2017.drop(columns=['ACERTOS Matemática Discreta',\n",
    "                                                                      'ACERTOS Cálculo Diferencial e Integral',\n",
    "                                                                      'ACERTOS Algebra Linear',\n",
    "                                                                      'ACERTOS Geometria Analítica',\n",
    "                                                                      'ACERTOS Análise Combinatória',\n",
    "                                                                      'ACERTOS Probabilidade e Estatística',\n",
    "                                                                      'ACERTOS Lógica Matemática',\n",
    "                                                                      'ACERTOS Organização de Arquivos e Dados', \n",
    "                                                                      'ACERTOS Técnicas de Programação', \n",
    "                                                                      'ACERTOS Circuitos Digitais', \n",
    "                                                                      'ACERTOS Análise de Algorítmos',\n",
    "                                                                      'ACERTOS Teoria dos Grafos', \n",
    "                                                                      'ACERTOS Linguagens Formais, Autômatos e Computabilidade', \n",
    "                                                                      'ACERTOS Algorítmos e Estrutura de Dados', \n",
    "                                                                      'ACERTOS Linguagens de Programação', \n",
    "                                                                      'ACERTOS Sistemas Operacionais', \n",
    "                                                                      'ACERTOS Arquitetura e Organização de Computadores', \n",
    "                                                                      'ACERTOS Redes de Computadores', \n",
    "                                                                      'ACERTOS Computação Gráfica', \n",
    "                                                                      'ACERTOS Inteligência Artificial', \n",
    "                                                                      'ACERTOS Engenharia de Software', \n",
    "                                                                      'ACERTOS Sistemas Distribuídos', \n",
    "                                                                      'ACERTOS Compiladores',\n",
    "                                                                      'ACERTOS Processamento de Imagens', \n",
    "                                                                      'ACERTOS Banco de Dados',\n",
    "                                                                      'ACERTOS TO',])"
   ]
  },
  {
   "cell_type": "code",
   "execution_count": 37,
   "id": "c7e4db9f-cba9-4ec5-bb88-679a11b032c8",
   "metadata": {},
   "outputs": [],
   "source": [
    "dados_respostas_notas_2018 = dados_notas_2018.drop(columns=['ACERTOS Matemática Discreta',\n",
    "                                                                      'ACERTOS Cálculo Diferencial e Integral',\n",
    "                                                                      'ACERTOS Algebra Linear',\n",
    "                                                                      'ACERTOS Geometria Analítica',\n",
    "                                                                      'ACERTOS Analise Combinatória',\n",
    "                                                                      'ACERTOS Probabilidade e Estatística',\n",
    "                                                                      'ACERTOS Lógica Matemática',\n",
    "                                                                      'ACERTOS Organização de Arquivos e Dados', \n",
    "                                                                      'ACERTOS Técnicas de Programação', \n",
    "                                                                      'ACERTOS Circuitos Digitais', \n",
    "                                                                      'ACERTOS Análise de Algoritmos',\n",
    "                                                                      'ACERTOS Teoria dos Grafos', \n",
    "                                                                      'ACERTOS Linguagens formais, autômatos e Computabilidade', \n",
    "                                                                      'ACERTOS Algorítmos e Estrutura de Dados', \n",
    "                                                                      'ACERTOS Linguagens de Programação', \n",
    "                                                                      'ACERTOS Sistemas Operacionais', \n",
    "                                                                      'ACERTOS Arquitetura e Organização de Computadores', \n",
    "                                                                      'ACERTOS Redes de Computadores', \n",
    "                                                                      'ACERTOS Computação Gráfica', \n",
    "                                                                      'ACERTOS Inteligência Artificial', \n",
    "                                                                      'ACERTOS Engenharia de Software', \n",
    "                                                                      'ACERTOS Sistemas Distribuídos', \n",
    "                                                                      'ACERTOS Compiladores',\n",
    "                                                                      'ACERTOS Processamento de Imagens', \n",
    "                                                                      'ACERTOS Banco de Dados',\n",
    "                                                                      'ACERTOS TO',])"
   ]
  },
  {
   "cell_type": "code",
   "execution_count": 42,
   "id": "9b9b126e-5690-4b16-9777-084896c2a49c",
   "metadata": {},
   "outputs": [],
   "source": [
    "dados_respostas_notas_2019 = dados_notas_2019.drop(columns=['ACERTOS Matemática Discreta',\n",
    "                                                                      'ACERTOS Calculo Diferencial e Integral',\n",
    "                                                                      'ACERTOS Álgebra Linear',\n",
    "                                                                      'ACERTOS Geometria Analítica',\n",
    "                                                                      'ACERTOS Análise Combinatória',\n",
    "                                                                      'ACERTOS Probabilidade e Estatística',\n",
    "                                                                      'ACERTOS Lógica Matemática',\n",
    "                                                                      'ACERTOS Organização de Arquivos e Dados', \n",
    "                                                                      'ACERTOS Técnicas de Programação', \n",
    "                                                                      'ACERTOS Circuitos Digitais', \n",
    "                                                                      'ACERTOS Análise de Algoritmos',\n",
    "                                                                      'ACERTOS Teoria dos Grafos', \n",
    "                                                                      'ACERTOS Linguagens formais, autômatos e Computabilidade', \n",
    "                                                                      'ACERTOS Algoritmos e Estrutura de Dados', \n",
    "                                                                      'ACERTOS Linguagens de Programação', \n",
    "                                                                      'ACERTOS Sistemas Operacionais', \n",
    "                                                                      'ACERTOS Arquitetura e Organização de Computadores', \n",
    "                                                                      'ACERTOS Redes de Computadores', \n",
    "                                                                      'ACERTOS Computação Gráfica', \n",
    "                                                                      'ACERTOS Inteligência Artificial', \n",
    "                                                                      'ACERTOS Engenharia de Software', \n",
    "                                                                      'ACERTOS Sistemas Distribuídos', \n",
    "                                                                      'ACERTOS Compiladores',\n",
    "                                                                      'ACERTOS Processamento de Imagens', \n",
    "                                                                      'ACERTOS Banco de Dados',\n",
    "                                                                      'ACERTOS TO',])"
   ]
  },
  {
   "cell_type": "code",
   "execution_count": 44,
   "id": "136ab66c-56aa-4e7e-94d6-6b432e8b3b68",
   "metadata": {},
   "outputs": [],
   "source": [
    "dados_respostas_notas_2016 = dados_respostas_notas_2016.drop(columns=['Unnamed: 0'])\n",
    "dados_respostas_notas_2017 = dados_respostas_notas_2017.drop(columns=['Unnamed: 0'])\n",
    "dados_respostas_notas_2018 = dados_respostas_notas_2018.drop(columns=['Unnamed: 0'])\n",
    "dados_respostas_notas_2019 = dados_respostas_notas_2019.drop(columns=['Unnamed: 0'])"
   ]
  },
  {
   "cell_type": "code",
   "execution_count": 46,
   "id": "2320a451-e5c6-46e7-8099-5b2b1569f540",
   "metadata": {},
   "outputs": [
    {
     "data": {
      "text/html": [
       "<div>\n",
       "<style scoped>\n",
       "    .dataframe tbody tr th:only-of-type {\n",
       "        vertical-align: middle;\n",
       "    }\n",
       "\n",
       "    .dataframe tbody tr th {\n",
       "        vertical-align: top;\n",
       "    }\n",
       "\n",
       "    .dataframe thead th {\n",
       "        text-align: right;\n",
       "    }\n",
       "</style>\n",
       "<table border=\"1\" class=\"dataframe\">\n",
       "  <thead>\n",
       "    <tr style=\"text-align: right;\">\n",
       "      <th></th>\n",
       "      <th>CARGO</th>\n",
       "      <th>ESPECIALIDADE</th>\n",
       "      <th>INSCRICAO</th>\n",
       "      <th>IDENTIFICADOR</th>\n",
       "      <th>NOTA Álgebra Linear</th>\n",
       "      <th>NOTA Análise Combinatória</th>\n",
       "      <th>NOTA Calculo Diferencial e Integral</th>\n",
       "      <th>NOTA Geometria Analítica</th>\n",
       "      <th>NOTA Matemática Discreta</th>\n",
       "      <th>NOTA Probabilidade e Estatística</th>\n",
       "      <th>...</th>\n",
       "      <th>NOTA Teoria dos Grafos</th>\n",
       "      <th>NOTA Banco de Dados</th>\n",
       "      <th>NOTA Compiladores</th>\n",
       "      <th>NOTA Computação Gráfica</th>\n",
       "      <th>NOTA Engenharia de Software</th>\n",
       "      <th>NOTA Inteligência Artificial</th>\n",
       "      <th>NOTA Processamento de Imagens</th>\n",
       "      <th>NOTA Redes de Computadores</th>\n",
       "      <th>NOTA Sistemas Distribuídos</th>\n",
       "      <th>NOTA TOTAL TO</th>\n",
       "    </tr>\n",
       "  </thead>\n",
       "  <tbody>\n",
       "    <tr>\n",
       "      <th>0</th>\n",
       "      <td>Mestrado/Doutorado</td>\n",
       "      <td>Lógica, Inteligência Artificial e Métodos Formais</td>\n",
       "      <td>51801393615-7</td>\n",
       "      <td>1,05101E+11</td>\n",
       "      <td>3.0</td>\n",
       "      <td>0.0</td>\n",
       "      <td>3.0</td>\n",
       "      <td>3.0</td>\n",
       "      <td>3.0</td>\n",
       "      <td>2.0</td>\n",
       "      <td>...</td>\n",
       "      <td>1.0</td>\n",
       "      <td>0.0</td>\n",
       "      <td>0.0</td>\n",
       "      <td>2.0</td>\n",
       "      <td>1.0</td>\n",
       "      <td>0.0</td>\n",
       "      <td>1.0</td>\n",
       "      <td>0.0</td>\n",
       "      <td>2.0</td>\n",
       "      <td>38.0</td>\n",
       "    </tr>\n",
       "    <tr>\n",
       "      <th>1</th>\n",
       "      <td>Mestrado/Doutorado</td>\n",
       "      <td>Redes e Sistemas Distribuídos</td>\n",
       "      <td>51801392147-9</td>\n",
       "      <td>1,01601E+11</td>\n",
       "      <td>3.0</td>\n",
       "      <td>3.0</td>\n",
       "      <td>2.0</td>\n",
       "      <td>2.0</td>\n",
       "      <td>2.0</td>\n",
       "      <td>1.0</td>\n",
       "      <td>...</td>\n",
       "      <td>2.0</td>\n",
       "      <td>2.0</td>\n",
       "      <td>1.0</td>\n",
       "      <td>0.0</td>\n",
       "      <td>0.0</td>\n",
       "      <td>1.0</td>\n",
       "      <td>2.0</td>\n",
       "      <td>0.0</td>\n",
       "      <td>1.0</td>\n",
       "      <td>44.0</td>\n",
       "    </tr>\n",
       "    <tr>\n",
       "      <th>2</th>\n",
       "      <td>Mestrado/Doutorado</td>\n",
       "      <td>Sistemas de Computação</td>\n",
       "      <td>51801384165-2</td>\n",
       "      <td>1,02001E+11</td>\n",
       "      <td>2.0</td>\n",
       "      <td>1.0</td>\n",
       "      <td>1.0</td>\n",
       "      <td>3.0</td>\n",
       "      <td>2.0</td>\n",
       "      <td>1.0</td>\n",
       "      <td>...</td>\n",
       "      <td>3.0</td>\n",
       "      <td>1.0</td>\n",
       "      <td>1.0</td>\n",
       "      <td>0.0</td>\n",
       "      <td>0.0</td>\n",
       "      <td>2.0</td>\n",
       "      <td>1.0</td>\n",
       "      <td>1.0</td>\n",
       "      <td>2.0</td>\n",
       "      <td>36.0</td>\n",
       "    </tr>\n",
       "    <tr>\n",
       "      <th>3</th>\n",
       "      <td>Mestrado/Doutorado</td>\n",
       "      <td>Sistemas Embarcados</td>\n",
       "      <td>51801397157-9</td>\n",
       "      <td>1,05601E+11</td>\n",
       "      <td>2.0</td>\n",
       "      <td>0.0</td>\n",
       "      <td>0.0</td>\n",
       "      <td>0.0</td>\n",
       "      <td>1.0</td>\n",
       "      <td>1.0</td>\n",
       "      <td>...</td>\n",
       "      <td>0.0</td>\n",
       "      <td>0.0</td>\n",
       "      <td>0.0</td>\n",
       "      <td>1.0</td>\n",
       "      <td>0.0</td>\n",
       "      <td>1.0</td>\n",
       "      <td>1.0</td>\n",
       "      <td>3.0</td>\n",
       "      <td>2.0</td>\n",
       "      <td>27.0</td>\n",
       "    </tr>\n",
       "    <tr>\n",
       "      <th>4</th>\n",
       "      <td>Mestrado/Doutorado</td>\n",
       "      <td>Sistemas Computacionais Complexos</td>\n",
       "      <td>51801377987-0</td>\n",
       "      <td>1,05101E+11</td>\n",
       "      <td>3.0</td>\n",
       "      <td>1.0</td>\n",
       "      <td>3.0</td>\n",
       "      <td>3.0</td>\n",
       "      <td>1.0</td>\n",
       "      <td>1.0</td>\n",
       "      <td>...</td>\n",
       "      <td>2.0</td>\n",
       "      <td>1.0</td>\n",
       "      <td>0.0</td>\n",
       "      <td>1.0</td>\n",
       "      <td>1.0</td>\n",
       "      <td>1.0</td>\n",
       "      <td>1.0</td>\n",
       "      <td>1.0</td>\n",
       "      <td>1.0</td>\n",
       "      <td>34.0</td>\n",
       "    </tr>\n",
       "    <tr>\n",
       "      <th>...</th>\n",
       "      <td>...</td>\n",
       "      <td>...</td>\n",
       "      <td>...</td>\n",
       "      <td>...</td>\n",
       "      <td>...</td>\n",
       "      <td>...</td>\n",
       "      <td>...</td>\n",
       "      <td>...</td>\n",
       "      <td>...</td>\n",
       "      <td>...</td>\n",
       "      <td>...</td>\n",
       "      <td>...</td>\n",
       "      <td>...</td>\n",
       "      <td>...</td>\n",
       "      <td>...</td>\n",
       "      <td>...</td>\n",
       "      <td>...</td>\n",
       "      <td>...</td>\n",
       "      <td>...</td>\n",
       "      <td>...</td>\n",
       "      <td>...</td>\n",
       "    </tr>\n",
       "    <tr>\n",
       "      <th>2887</th>\n",
       "      <td>Mestrado/Doutorado</td>\n",
       "      <td>Combinatória e Teoria dos Grafos</td>\n",
       "      <td>51801396055-5</td>\n",
       "      <td>1,05602E+11</td>\n",
       "      <td>2.0</td>\n",
       "      <td>1.0</td>\n",
       "      <td>2.0</td>\n",
       "      <td>2.0</td>\n",
       "      <td>1.0</td>\n",
       "      <td>1.0</td>\n",
       "      <td>...</td>\n",
       "      <td>1.0</td>\n",
       "      <td>0.0</td>\n",
       "      <td>0.0</td>\n",
       "      <td>1.0</td>\n",
       "      <td>0.0</td>\n",
       "      <td>1.0</td>\n",
       "      <td>1.0</td>\n",
       "      <td>1.0</td>\n",
       "      <td>2.0</td>\n",
       "      <td>32.0</td>\n",
       "    </tr>\n",
       "    <tr>\n",
       "      <th>2888</th>\n",
       "      <td>Mestrado/Doutorado</td>\n",
       "      <td>Sistemas Digitais e Embarcados</td>\n",
       "      <td>51801354647-6</td>\n",
       "      <td>1,03601E+11</td>\n",
       "      <td>2.0</td>\n",
       "      <td>1.0</td>\n",
       "      <td>2.0</td>\n",
       "      <td>2.0</td>\n",
       "      <td>3.0</td>\n",
       "      <td>1.0</td>\n",
       "      <td>...</td>\n",
       "      <td>3.0</td>\n",
       "      <td>0.0</td>\n",
       "      <td>0.0</td>\n",
       "      <td>1.0</td>\n",
       "      <td>0.0</td>\n",
       "      <td>2.0</td>\n",
       "      <td>1.0</td>\n",
       "      <td>0.0</td>\n",
       "      <td>1.0</td>\n",
       "      <td>35.0</td>\n",
       "    </tr>\n",
       "    <tr>\n",
       "      <th>2889</th>\n",
       "      <td>Mestrado/Doutorado</td>\n",
       "      <td>Outras \\ Inteligência Artificial</td>\n",
       "      <td>51801393821-0</td>\n",
       "      <td>1,00402E+11</td>\n",
       "      <td>3.0</td>\n",
       "      <td>0.0</td>\n",
       "      <td>2.0</td>\n",
       "      <td>3.0</td>\n",
       "      <td>2.0</td>\n",
       "      <td>1.0</td>\n",
       "      <td>...</td>\n",
       "      <td>2.0</td>\n",
       "      <td>2.0</td>\n",
       "      <td>0.0</td>\n",
       "      <td>1.0</td>\n",
       "      <td>0.0</td>\n",
       "      <td>0.0</td>\n",
       "      <td>1.0</td>\n",
       "      <td>0.0</td>\n",
       "      <td>1.0</td>\n",
       "      <td>29.0</td>\n",
       "    </tr>\n",
       "    <tr>\n",
       "      <th>2890</th>\n",
       "      <td>Mestrado/Doutorado</td>\n",
       "      <td>Engenharia de Software e Banco de Dados</td>\n",
       "      <td>51801354273-1</td>\n",
       "      <td>1,00201E+11</td>\n",
       "      <td>NaN</td>\n",
       "      <td>NaN</td>\n",
       "      <td>NaN</td>\n",
       "      <td>NaN</td>\n",
       "      <td>NaN</td>\n",
       "      <td>NaN</td>\n",
       "      <td>...</td>\n",
       "      <td>NaN</td>\n",
       "      <td>NaN</td>\n",
       "      <td>NaN</td>\n",
       "      <td>NaN</td>\n",
       "      <td>NaN</td>\n",
       "      <td>NaN</td>\n",
       "      <td>NaN</td>\n",
       "      <td>NaN</td>\n",
       "      <td>NaN</td>\n",
       "      <td>NaN</td>\n",
       "    </tr>\n",
       "    <tr>\n",
       "      <th>2891</th>\n",
       "      <td>Mestrado/Doutorado</td>\n",
       "      <td>Inteligência Computacional</td>\n",
       "      <td>51801366900-3</td>\n",
       "      <td>1,05106E+11</td>\n",
       "      <td>NaN</td>\n",
       "      <td>NaN</td>\n",
       "      <td>NaN</td>\n",
       "      <td>NaN</td>\n",
       "      <td>NaN</td>\n",
       "      <td>NaN</td>\n",
       "      <td>...</td>\n",
       "      <td>NaN</td>\n",
       "      <td>NaN</td>\n",
       "      <td>NaN</td>\n",
       "      <td>NaN</td>\n",
       "      <td>NaN</td>\n",
       "      <td>NaN</td>\n",
       "      <td>NaN</td>\n",
       "      <td>NaN</td>\n",
       "      <td>NaN</td>\n",
       "      <td>NaN</td>\n",
       "    </tr>\n",
       "  </tbody>\n",
       "</table>\n",
       "<p>2892 rows × 30 columns</p>\n",
       "</div>"
      ],
      "text/plain": [
       "                   CARGO                                      ESPECIALIDADE  \\\n",
       "0     Mestrado/Doutorado  Lógica, Inteligência Artificial e Métodos Formais   \n",
       "1     Mestrado/Doutorado                      Redes e Sistemas Distribuídos   \n",
       "2     Mestrado/Doutorado                             Sistemas de Computação   \n",
       "3     Mestrado/Doutorado                                Sistemas Embarcados   \n",
       "4     Mestrado/Doutorado                  Sistemas Computacionais Complexos   \n",
       "...                  ...                                                ...   \n",
       "2887  Mestrado/Doutorado                   Combinatória e Teoria dos Grafos   \n",
       "2888  Mestrado/Doutorado                     Sistemas Digitais e Embarcados   \n",
       "2889  Mestrado/Doutorado                   Outras \\ Inteligência Artificial   \n",
       "2890  Mestrado/Doutorado            Engenharia de Software e Banco de Dados   \n",
       "2891  Mestrado/Doutorado                         Inteligência Computacional   \n",
       "\n",
       "          INSCRICAO IDENTIFICADOR  NOTA Álgebra Linear  \\\n",
       "0     51801393615-7   1,05101E+11                  3.0   \n",
       "1     51801392147-9   1,01601E+11                  3.0   \n",
       "2     51801384165-2   1,02001E+11                  2.0   \n",
       "3     51801397157-9   1,05601E+11                  2.0   \n",
       "4     51801377987-0   1,05101E+11                  3.0   \n",
       "...             ...           ...                  ...   \n",
       "2887  51801396055-5   1,05602E+11                  2.0   \n",
       "2888  51801354647-6   1,03601E+11                  2.0   \n",
       "2889  51801393821-0   1,00402E+11                  3.0   \n",
       "2890  51801354273-1   1,00201E+11                  NaN   \n",
       "2891  51801366900-3   1,05106E+11                  NaN   \n",
       "\n",
       "      NOTA Análise Combinatória  NOTA Calculo Diferencial e Integral  \\\n",
       "0                           0.0                                  3.0   \n",
       "1                           3.0                                  2.0   \n",
       "2                           1.0                                  1.0   \n",
       "3                           0.0                                  0.0   \n",
       "4                           1.0                                  3.0   \n",
       "...                         ...                                  ...   \n",
       "2887                        1.0                                  2.0   \n",
       "2888                        1.0                                  2.0   \n",
       "2889                        0.0                                  2.0   \n",
       "2890                        NaN                                  NaN   \n",
       "2891                        NaN                                  NaN   \n",
       "\n",
       "      NOTA Geometria Analítica  NOTA Matemática Discreta  \\\n",
       "0                          3.0                       3.0   \n",
       "1                          2.0                       2.0   \n",
       "2                          3.0                       2.0   \n",
       "3                          0.0                       1.0   \n",
       "4                          3.0                       1.0   \n",
       "...                        ...                       ...   \n",
       "2887                       2.0                       1.0   \n",
       "2888                       2.0                       3.0   \n",
       "2889                       3.0                       2.0   \n",
       "2890                       NaN                       NaN   \n",
       "2891                       NaN                       NaN   \n",
       "\n",
       "      NOTA Probabilidade e Estatística  ...  NOTA Teoria dos Grafos  \\\n",
       "0                                  2.0  ...                     1.0   \n",
       "1                                  1.0  ...                     2.0   \n",
       "2                                  1.0  ...                     3.0   \n",
       "3                                  1.0  ...                     0.0   \n",
       "4                                  1.0  ...                     2.0   \n",
       "...                                ...  ...                     ...   \n",
       "2887                               1.0  ...                     1.0   \n",
       "2888                               1.0  ...                     3.0   \n",
       "2889                               1.0  ...                     2.0   \n",
       "2890                               NaN  ...                     NaN   \n",
       "2891                               NaN  ...                     NaN   \n",
       "\n",
       "      NOTA Banco de Dados  NOTA Compiladores  NOTA Computação Gráfica  \\\n",
       "0                     0.0                0.0                      2.0   \n",
       "1                     2.0                1.0                      0.0   \n",
       "2                     1.0                1.0                      0.0   \n",
       "3                     0.0                0.0                      1.0   \n",
       "4                     1.0                0.0                      1.0   \n",
       "...                   ...                ...                      ...   \n",
       "2887                  0.0                0.0                      1.0   \n",
       "2888                  0.0                0.0                      1.0   \n",
       "2889                  2.0                0.0                      1.0   \n",
       "2890                  NaN                NaN                      NaN   \n",
       "2891                  NaN                NaN                      NaN   \n",
       "\n",
       "      NOTA Engenharia de Software  NOTA Inteligência Artificial  \\\n",
       "0                             1.0                           0.0   \n",
       "1                             0.0                           1.0   \n",
       "2                             0.0                           2.0   \n",
       "3                             0.0                           1.0   \n",
       "4                             1.0                           1.0   \n",
       "...                           ...                           ...   \n",
       "2887                          0.0                           1.0   \n",
       "2888                          0.0                           2.0   \n",
       "2889                          0.0                           0.0   \n",
       "2890                          NaN                           NaN   \n",
       "2891                          NaN                           NaN   \n",
       "\n",
       "      NOTA Processamento de Imagens  NOTA Redes de Computadores  \\\n",
       "0                               1.0                         0.0   \n",
       "1                               2.0                         0.0   \n",
       "2                               1.0                         1.0   \n",
       "3                               1.0                         3.0   \n",
       "4                               1.0                         1.0   \n",
       "...                             ...                         ...   \n",
       "2887                            1.0                         1.0   \n",
       "2888                            1.0                         0.0   \n",
       "2889                            1.0                         0.0   \n",
       "2890                            NaN                         NaN   \n",
       "2891                            NaN                         NaN   \n",
       "\n",
       "      NOTA Sistemas Distribuídos  NOTA TOTAL TO  \n",
       "0                            2.0           38.0  \n",
       "1                            1.0           44.0  \n",
       "2                            2.0           36.0  \n",
       "3                            2.0           27.0  \n",
       "4                            1.0           34.0  \n",
       "...                          ...            ...  \n",
       "2887                         2.0           32.0  \n",
       "2888                         1.0           35.0  \n",
       "2889                         1.0           29.0  \n",
       "2890                         NaN            NaN  \n",
       "2891                         NaN            NaN  \n",
       "\n",
       "[2892 rows x 30 columns]"
      ]
     },
     "execution_count": 46,
     "metadata": {},
     "output_type": "execute_result"
    }
   ],
   "source": [
    "dados_respostas_notas_2019"
   ]
  },
  {
   "cell_type": "code",
   "execution_count": 26,
   "id": "45ea50e5-d33e-4c9d-98ba-3ccbc2ac93b4",
   "metadata": {},
   "outputs": [
    {
     "data": {
      "text/plain": [
       "0.9162956366874443"
      ]
     },
     "execution_count": 26,
     "metadata": {},
     "output_type": "execute_result"
    }
   ],
   "source": [
    "dados_notas_2016['NOTA Matemática Discreta'].mean()"
   ]
  },
  {
   "cell_type": "code",
   "execution_count": 28,
   "id": "c46f15db-478a-444d-a220-f94fe546e36b",
   "metadata": {},
   "outputs": [],
   "source": [
    "dados_notas_2016.fillna(0, inplace=True)"
   ]
  },
  {
   "cell_type": "code",
   "execution_count": 35,
   "id": "8aeca71d-fab8-48f0-be06-f6137385b543",
   "metadata": {},
   "outputs": [
    {
     "data": {
      "text/plain": [
       "0.7318634423897582"
      ]
     },
     "execution_count": 35,
     "metadata": {},
     "output_type": "execute_result"
    }
   ],
   "source": [
    "dados_notas_2016['NOTA Matemática Discreta'].mean()"
   ]
  },
  {
   "cell_type": "code",
   "execution_count": null,
   "id": "bf30dd99-af57-4cfe-b6ef-813612e8008a",
   "metadata": {},
   "outputs": [],
   "source": [
    "X_base_2016 = dados_notas_2016[:, "
   ]
  },
  {
   "cell_type": "markdown",
   "id": "e15df0df-6be7-4af3-b1ea-6b62f5c0a76f",
   "metadata": {
    "jp-MarkdownHeadingCollapsed": true,
    "tags": []
   },
   "source": [
    "### Dados das Respostas do POSCOMP 2016"
   ]
  },
  {
   "cell_type": "code",
   "execution_count": 11,
   "id": "b939bde6-a50f-49df-bc2b-80184e8660d4",
   "metadata": {
    "tags": []
   },
   "outputs": [],
   "source": [
    "dados_respostas = pd.read_csv('dados/respostas_poscomp/dados_respostas.csv', encoding='utf-8')"
   ]
  },
  {
   "cell_type": "code",
   "execution_count": 12,
   "id": "170ff707-8991-4948-854c-1faa4c07aeec",
   "metadata": {},
   "outputs": [
    {
     "data": {
      "text/plain": [
       "Index(['Unnamed: 0', 'NUM', 'NÚMERO DE INSCRIÇÃO', 'SITUAÇÃO', '1', '2', '3',\n",
       "       '4', '5', '6', '7', '8', '9', '10', '11', '12', '13', '14', '15', '16',\n",
       "       '17', '18', '19', '20', '21', '22', '23', '24', '25', '26', '27', '28',\n",
       "       '29', '30', '31', '32', '33', '34', '35', '36', '37', '38', '39', '40',\n",
       "       '41', '42', '43', '44', '45', '46', '47', '48', '49', '50', '51', '52',\n",
       "       '53', '54', '55', '56', '57', '58', '59', '60', '61', '62', '63', '64',\n",
       "       '65', '66', '67', '68', '69', '70', 'ANO'],\n",
       "      dtype='object')"
      ]
     },
     "execution_count": 12,
     "metadata": {},
     "output_type": "execute_result"
    }
   ],
   "source": [
    "dados_respostas.columns\n",
    "#dados_respostas_processadas.drop(dados_respostas_processadas.index[dados_respostas_processadas['SITUAÇÃO'] == 'Ausente'], inplace = True)"
   ]
  },
  {
   "cell_type": "code",
   "execution_count": 13,
   "id": "17fea299-d96b-4bad-944b-5801c8455d61",
   "metadata": {
    "tags": []
   },
   "outputs": [],
   "source": [
    "dados_respostas = dados_respostas.drop(columns=['Unnamed: 0','NUM'])"
   ]
  },
  {
   "cell_type": "code",
   "execution_count": 87,
   "id": "1a50ce97-7df1-41b7-b272-5e838bf06a7f",
   "metadata": {},
   "outputs": [],
   "source": [
    "#Elimina todos os valores ausentes presentes no DataFrame\n",
    "#dados_respostas.drop(dados_respostas.index[dados_respostas['SITUAÇÃO'] == 'Ausente'], inplace = True)\n",
    "#dados_respostas = dados_respostas.dropna()"
   ]
  },
  {
   "cell_type": "code",
   "execution_count": 15,
   "id": "dd999a18-898d-483f-b5ac-fe7434135f77",
   "metadata": {},
   "outputs": [
    {
     "data": {
      "text/plain": [
       "(14575, 73)"
      ]
     },
     "execution_count": 15,
     "metadata": {},
     "output_type": "execute_result"
    }
   ],
   "source": [
    "dados_respostas.shape"
   ]
  },
  {
   "cell_type": "markdown",
   "id": "1daf591f-2370-4f6f-b3a2-0f5014983349",
   "metadata": {
    "jp-MarkdownHeadingCollapsed": true,
    "tags": []
   },
   "source": [
    "### Dados dos Gabaritos POSCOMP 2016"
   ]
  },
  {
   "cell_type": "code",
   "execution_count": 35,
   "id": "0d0221d3-eea8-44b0-bef3-f1e168081a69",
   "metadata": {
    "tags": []
   },
   "outputs": [],
   "source": [
    "dados_gabarito_2016 = pd.read_csv('dados/poscomp2016/dados_gabaritos_2016.csv')"
   ]
  },
  {
   "cell_type": "code",
   "execution_count": 36,
   "id": "82d3ea20-748d-4d25-99f1-80e1de3b5593",
   "metadata": {},
   "outputs": [],
   "source": [
    "dados_g = dados_gabarito_2016.copy()\n",
    "\n",
    "dados_g.drop(dados_g.index[dados_g['CARGO'] == 'Autoavaliação'], inplace = True)\n",
    "dados_g = dados_g.drop(columns=['ASSINATURA ELETRONICA','TIPO GABARITO', 'CONCURSO'])"
   ]
  },
  {
   "cell_type": "code",
   "execution_count": 37,
   "id": "ff809821-d24b-4eb4-9470-d0f531eb018b",
   "metadata": {},
   "outputs": [
    {
     "data": {
      "text/plain": [
       "Index(['COD CARGO', 'CARGO', 'QUESTAO', 'MATERIA', 'RESPOSTA',\n",
       "       'ASSINATURA ELETRONICA', 'TIPO GABARITO', 'CONCURSO', 'COD MATERIA',\n",
       "       'PESO QUESTAO', 'STATUS QUESTAO', 'TIPO PROVA APLICADA'],\n",
       "      dtype='object')"
      ]
     },
     "execution_count": 37,
     "metadata": {},
     "output_type": "execute_result"
    }
   ],
   "source": [
    "dados_gabarito_2016.columns"
   ]
  },
  {
   "cell_type": "code",
   "execution_count": 38,
   "id": "40f8f7df-1f66-4670-83f9-29b50f80b386",
   "metadata": {
    "tags": []
   },
   "outputs": [
    {
     "data": {
      "text/html": [
       "<div>\n",
       "<style scoped>\n",
       "    .dataframe tbody tr th:only-of-type {\n",
       "        vertical-align: middle;\n",
       "    }\n",
       "\n",
       "    .dataframe tbody tr th {\n",
       "        vertical-align: top;\n",
       "    }\n",
       "\n",
       "    .dataframe thead th {\n",
       "        text-align: right;\n",
       "    }\n",
       "</style>\n",
       "<table border=\"1\" class=\"dataframe\">\n",
       "  <thead>\n",
       "    <tr style=\"text-align: right;\">\n",
       "      <th></th>\n",
       "      <th>COD CARGO</th>\n",
       "      <th>QUESTAO</th>\n",
       "      <th>MATERIA</th>\n",
       "      <th>RESPOSTA</th>\n",
       "      <th>COD MATERIA</th>\n",
       "      <th>PESO QUESTAO</th>\n",
       "      <th>STATUS QUESTAO</th>\n",
       "      <th>TIPO PROVA APLICADA</th>\n",
       "    </tr>\n",
       "    <tr>\n",
       "      <th>CARGO</th>\n",
       "      <th></th>\n",
       "      <th></th>\n",
       "      <th></th>\n",
       "      <th></th>\n",
       "      <th></th>\n",
       "      <th></th>\n",
       "      <th></th>\n",
       "      <th></th>\n",
       "    </tr>\n",
       "  </thead>\n",
       "  <tbody>\n",
       "    <tr>\n",
       "      <th>Mestrado/doutorado</th>\n",
       "      <td>1</td>\n",
       "      <td>1</td>\n",
       "      <td>Álgebra Linear</td>\n",
       "      <td>E</td>\n",
       "      <td>3</td>\n",
       "      <td>1</td>\n",
       "      <td>1</td>\n",
       "      <td>1</td>\n",
       "    </tr>\n",
       "    <tr>\n",
       "      <th>Mestrado/doutorado</th>\n",
       "      <td>1</td>\n",
       "      <td>2</td>\n",
       "      <td>Álgebra Linear</td>\n",
       "      <td>A</td>\n",
       "      <td>3</td>\n",
       "      <td>1</td>\n",
       "      <td>1</td>\n",
       "      <td>1</td>\n",
       "    </tr>\n",
       "    <tr>\n",
       "      <th>Mestrado/doutorado</th>\n",
       "      <td>1</td>\n",
       "      <td>3</td>\n",
       "      <td>Geometria Analítica</td>\n",
       "      <td>C</td>\n",
       "      <td>4</td>\n",
       "      <td>1</td>\n",
       "      <td>1</td>\n",
       "      <td>1</td>\n",
       "    </tr>\n",
       "    <tr>\n",
       "      <th>Mestrado/doutorado</th>\n",
       "      <td>1</td>\n",
       "      <td>4</td>\n",
       "      <td>Geometria Analítica</td>\n",
       "      <td>D</td>\n",
       "      <td>4</td>\n",
       "      <td>1</td>\n",
       "      <td>1</td>\n",
       "      <td>1</td>\n",
       "    </tr>\n",
       "    <tr>\n",
       "      <th>Mestrado/doutorado</th>\n",
       "      <td>1</td>\n",
       "      <td>5</td>\n",
       "      <td>Cálculo Diferencial Integral</td>\n",
       "      <td>A</td>\n",
       "      <td>2</td>\n",
       "      <td>1</td>\n",
       "      <td>1</td>\n",
       "      <td>1</td>\n",
       "    </tr>\n",
       "    <tr>\n",
       "      <th>...</th>\n",
       "      <td>...</td>\n",
       "      <td>...</td>\n",
       "      <td>...</td>\n",
       "      <td>...</td>\n",
       "      <td>...</td>\n",
       "      <td>...</td>\n",
       "      <td>...</td>\n",
       "      <td>...</td>\n",
       "    </tr>\n",
       "    <tr>\n",
       "      <th>Mestrado/doutorado</th>\n",
       "      <td>1</td>\n",
       "      <td>66</td>\n",
       "      <td>Inteligência Artificial</td>\n",
       "      <td>C</td>\n",
       "      <td>20</td>\n",
       "      <td>1</td>\n",
       "      <td>1</td>\n",
       "      <td>1</td>\n",
       "    </tr>\n",
       "    <tr>\n",
       "      <th>Mestrado/doutorado</th>\n",
       "      <td>1</td>\n",
       "      <td>67</td>\n",
       "      <td>Sistemas Distribuídos</td>\n",
       "      <td>A</td>\n",
       "      <td>22</td>\n",
       "      <td>1</td>\n",
       "      <td>1</td>\n",
       "      <td>1</td>\n",
       "    </tr>\n",
       "    <tr>\n",
       "      <th>Mestrado/doutorado</th>\n",
       "      <td>1</td>\n",
       "      <td>68</td>\n",
       "      <td>Compiladores</td>\n",
       "      <td>C</td>\n",
       "      <td>23</td>\n",
       "      <td>1</td>\n",
       "      <td>1</td>\n",
       "      <td>1</td>\n",
       "    </tr>\n",
       "    <tr>\n",
       "      <th>Mestrado/doutorado</th>\n",
       "      <td>1</td>\n",
       "      <td>69</td>\n",
       "      <td>Inteligência Artificial</td>\n",
       "      <td>B</td>\n",
       "      <td>20</td>\n",
       "      <td>1</td>\n",
       "      <td>1</td>\n",
       "      <td>1</td>\n",
       "    </tr>\n",
       "    <tr>\n",
       "      <th>Mestrado/doutorado</th>\n",
       "      <td>1</td>\n",
       "      <td>70</td>\n",
       "      <td>Engenharia de Software</td>\n",
       "      <td>A</td>\n",
       "      <td>21</td>\n",
       "      <td>1</td>\n",
       "      <td>1</td>\n",
       "      <td>1</td>\n",
       "    </tr>\n",
       "  </tbody>\n",
       "</table>\n",
       "<p>70 rows × 8 columns</p>\n",
       "</div>"
      ],
      "text/plain": [
       "                    COD CARGO  QUESTAO                       MATERIA RESPOSTA  \\\n",
       "CARGO                                                                           \n",
       "Mestrado/doutorado          1        1                Álgebra Linear        E   \n",
       "Mestrado/doutorado          1        2                Álgebra Linear        A   \n",
       "Mestrado/doutorado          1        3           Geometria Analítica        C   \n",
       "Mestrado/doutorado          1        4           Geometria Analítica        D   \n",
       "Mestrado/doutorado          1        5  Cálculo Diferencial Integral        A   \n",
       "...                       ...      ...                           ...      ...   \n",
       "Mestrado/doutorado          1       66       Inteligência Artificial        C   \n",
       "Mestrado/doutorado          1       67         Sistemas Distribuídos        A   \n",
       "Mestrado/doutorado          1       68                  Compiladores        C   \n",
       "Mestrado/doutorado          1       69       Inteligência Artificial        B   \n",
       "Mestrado/doutorado          1       70        Engenharia de Software        A   \n",
       "\n",
       "                    COD MATERIA  PESO QUESTAO  STATUS QUESTAO  \\\n",
       "CARGO                                                           \n",
       "Mestrado/doutorado            3             1               1   \n",
       "Mestrado/doutorado            3             1               1   \n",
       "Mestrado/doutorado            4             1               1   \n",
       "Mestrado/doutorado            4             1               1   \n",
       "Mestrado/doutorado            2             1               1   \n",
       "...                         ...           ...             ...   \n",
       "Mestrado/doutorado           20             1               1   \n",
       "Mestrado/doutorado           22             1               1   \n",
       "Mestrado/doutorado           23             1               1   \n",
       "Mestrado/doutorado           20             1               1   \n",
       "Mestrado/doutorado           21             1               1   \n",
       "\n",
       "                    TIPO PROVA APLICADA  \n",
       "CARGO                                    \n",
       "Mestrado/doutorado                    1  \n",
       "Mestrado/doutorado                    1  \n",
       "Mestrado/doutorado                    1  \n",
       "Mestrado/doutorado                    1  \n",
       "Mestrado/doutorado                    1  \n",
       "...                                 ...  \n",
       "Mestrado/doutorado                    1  \n",
       "Mestrado/doutorado                    1  \n",
       "Mestrado/doutorado                    1  \n",
       "Mestrado/doutorado                    1  \n",
       "Mestrado/doutorado                    1  \n",
       "\n",
       "[70 rows x 8 columns]"
      ]
     },
     "execution_count": 38,
     "metadata": {},
     "output_type": "execute_result"
    }
   ],
   "source": [
    "dados_g.set_index('CARGO')"
   ]
  },
  {
   "cell_type": "markdown",
   "id": "aaf1b248-9397-4349-9bfd-68d19293a011",
   "metadata": {
    "tags": []
   },
   "source": [
    "### Salvar os dados"
   ]
  },
  {
   "cell_type": "code",
   "execution_count": 30,
   "id": "3656389d-5b19-47a2-a560-b8443e02680c",
   "metadata": {},
   "outputs": [],
   "source": [
    "dados_homologados.to_csv('dados/homologação_poscomp/dados_homologacao_PROCESSADA.csv')\n",
    "#dados_respostas_processadas.to_csv('dados/respostas_poscomp/dados_respostas_PROCESSADA.csv')"
   ]
  },
  {
   "cell_type": "code",
   "execution_count": 36,
   "id": "3f62f1f2-db17-4d98-9be6-70522291dfbb",
   "metadata": {},
   "outputs": [],
   "source": [
    "dados_notas_2016.to_csv('dados/notas_poscomp/dados_notas_2016.csv')"
   ]
  }
 ],
 "metadata": {
  "kernelspec": {
   "display_name": "Python 3 (ipykernel)",
   "language": "python",
   "name": "python3"
  },
  "language_info": {
   "codemirror_mode": {
    "name": "ipython",
    "version": 3
   },
   "file_extension": ".py",
   "mimetype": "text/x-python",
   "name": "python",
   "nbconvert_exporter": "python",
   "pygments_lexer": "ipython3",
   "version": "3.10.5"
  }
 },
 "nbformat": 4,
 "nbformat_minor": 5
}
