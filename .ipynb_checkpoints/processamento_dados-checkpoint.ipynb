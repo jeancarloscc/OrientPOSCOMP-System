{
 "cells": [
  {
   "cell_type": "markdown",
   "id": "fbfffd19-8199-4c3a-bac7-fde6924612f8",
   "metadata": {
    "tags": []
   },
   "source": [
    "# Processamento dos Dados"
   ]
  },
  {
   "cell_type": "code",
   "execution_count": 265,
   "id": "87a844c7-56a6-4aed-a34c-1fcef70518ab",
   "metadata": {},
   "outputs": [],
   "source": [
    "import pandas as pd\n",
    "import numpy as np\n",
    "import matplotlib.pyplot as plt\n",
    "import seaborn as sns\n",
    "import seaborn.objects as so\n",
    "import import_ipynb\n",
    "import services.especialidades as esp\n",
    "import datetime\n",
    "import math\n",
    "import services.function as fc\n",
    "\n",
    "import warnings\n",
    "warnings.filterwarnings('ignore')"
   ]
  },
  {
   "cell_type": "markdown",
   "id": "7e5c9f90-8c00-424a-a4f7-7ff957550c78",
   "metadata": {
    "tags": []
   },
   "source": [
    "## POSCOMP"
   ]
  },
  {
   "cell_type": "markdown",
   "id": "1bdc0cee-ec8a-4d73-8de5-371bb1c78979",
   "metadata": {
    "tags": []
   },
   "source": [
    "### Dados da Homologação do POSCOMP"
   ]
  },
  {
   "cell_type": "code",
   "execution_count": 266,
   "id": "83a2c8a4-1792-4a44-bb7b-c24fde06c36d",
   "metadata": {
    "tags": []
   },
   "outputs": [],
   "source": [
    "dados_homologados = pd.read_csv('dados/homologacao_poscomp/dados_homologados.csv')"
   ]
  },
  {
   "cell_type": "code",
   "execution_count": 267,
   "id": "93c415a1-74ec-4cc8-b9c1-a4942091f7ef",
   "metadata": {},
   "outputs": [
    {
     "data": {
      "text/plain": [
       "(14575, 6)"
      ]
     },
     "execution_count": 267,
     "metadata": {},
     "output_type": "execute_result"
    }
   ],
   "source": [
    "dados_homologados.shape"
   ]
  },
  {
   "cell_type": "code",
   "execution_count": 268,
   "id": "2c37aa11-92e3-406f-a2ce-2740302d86a6",
   "metadata": {},
   "outputs": [],
   "source": [
    "# elimina dados pertecentes ao Peru\n",
    "dados_homologados = dados_homologados.loc[(dados_homologados['ESTADO']) != 'OU']"
   ]
  },
  {
   "cell_type": "code",
   "execution_count": 269,
   "id": "90933459-2a82-427d-842a-eb905ea6061f",
   "metadata": {},
   "outputs": [
    {
     "data": {
      "text/plain": [
       "<Axes: xlabel='ANO'>"
      ]
     },
     "execution_count": 269,
     "metadata": {},
     "output_type": "execute_result"
    },
    {
     "data": {
      "image/png": "[encoded data removed]",
      "text/plain": [
       "<Figure size 640x480 with 1 Axes>"
      ]
     },
     "metadata": {},
     "output_type": "display_data"
    }
   ],
   "source": [
    "ano = [2016,2017,2018,2019]\n",
    "dados_homologados.groupby('SEXO')['ANO'].value_counts().unstack(0).loc[ano].plot.bar()"
   ]
  },
  {
   "cell_type": "code",
   "execution_count": 270,
   "id": "4300f721-49ac-446a-989b-590e5116dd88",
   "metadata": {},
   "outputs": [
    {
     "data": {
      "text/plain": [
       "<Axes: xlabel='SEXO'>"
      ]
     },
     "execution_count": 270,
     "metadata": {},
     "output_type": "execute_result"
    },
    {
     "data": {
      "image/png": "[encoded data removed]",
      "text/plain": [
       "<Figure size 640x480 with 1 Axes>"
      ]
     },
     "metadata": {},
     "output_type": "display_data"
    }
   ],
   "source": [
    "dados_homologados['SEXO'].value_counts().plot.bar()"
   ]
  },
  {
   "cell_type": "code",
   "execution_count": 271,
   "id": "27e06ddf-b59a-4078-97a9-1a9a231bb6f4",
   "metadata": {},
   "outputs": [],
   "source": [
    "dados_homologados = dados_homologados.set_index('INSCRICAO')"
   ]
  },
  {
   "cell_type": "code",
   "execution_count": 272,
   "id": "6062ed30-c8a9-4305-9fab-768d09096ea3",
   "metadata": {},
   "outputs": [],
   "source": [
    "dados_homologados = dados_homologados.drop(columns=['ANO'])"
   ]
  },
  {
   "cell_type": "code",
   "execution_count": 273,
   "id": "e59d22e9-cf56-4b47-8966-ebf8d9bd9fa5",
   "metadata": {},
   "outputs": [],
   "source": [
    "dados_homologados.drop(['688145', 'miamia'], inplace=True)"
   ]
  },
  {
   "cell_type": "markdown",
   "id": "da04bbd7-57d8-458b-a556-d706fc7efa4b",
   "metadata": {
    "tags": []
   },
   "source": [
    "### Dados das Notas do POSCOMP"
   ]
  },
  {
   "cell_type": "code",
   "execution_count": 274,
   "id": "a1c5ada7-bb79-4217-9ce1-3ff7fe614ca1",
   "metadata": {},
   "outputs": [],
   "source": [
    "from textwrap import wrap"
   ]
  },
  {
   "cell_type": "code",
   "execution_count": 275,
   "id": "e6fc6ca8-b439-429d-9112-95fe1281c798",
   "metadata": {},
   "outputs": [],
   "source": [
    "dados_notasRespostas = pd.read_csv('dados/notas_poscomp/dados_notasRespostas.csv')"
   ]
  },
  {
   "cell_type": "code",
   "execution_count": 276,
   "id": "d0a16ec3-ce46-4b2f-a9f6-84acf0aecc59",
   "metadata": {},
   "outputs": [],
   "source": [
    "dados_notasRespostas = dados_notasRespostas.drop_duplicates(subset='INSCRICAO', keep='first')"
   ]
  },
  {
   "cell_type": "code",
   "execution_count": 277,
   "id": "bd813624-c289-4245-a2d4-514d2bf26eff",
   "metadata": {},
   "outputs": [],
   "source": [
    "data_poscomp = pd.merge(dados_homologados, dados_notasRespostas, how='inner', on='INSCRICAO')"
   ]
  },
  {
   "cell_type": "code",
   "execution_count": 278,
   "id": "7b4e423c-ed45-4684-b1ab-4f442b4ae28f",
   "metadata": {},
   "outputs": [
    {
     "data": {
      "text/plain": [
       "(14344, 34)"
      ]
     },
     "execution_count": 278,
     "metadata": {},
     "output_type": "execute_result"
    }
   ],
   "source": [
    "data_poscomp.shape"
   ]
  },
  {
   "cell_type": "markdown",
   "id": "3af884e5-1945-4227-9d55-db2354589c9a",
   "metadata": {
    "jp-MarkdownHeadingCollapsed": true,
    "tags": []
   },
   "source": [
    "### Realizar estudos por Regiões do Brasil"
   ]
  },
  {
   "cell_type": "code",
   "execution_count": 279,
   "id": "9114310c-925c-4d47-99c6-904b4e441533",
   "metadata": {},
   "outputs": [],
   "source": [
    "dados_homologados_cp = data_poscomp.copy()"
   ]
  },
  {
   "cell_type": "code",
   "execution_count": 280,
   "id": "8d9bda99-a0a3-45e4-bf08-bc74a44f5980",
   "metadata": {},
   "outputs": [
    {
     "data": {
      "text/plain": [
       "array(['CE', 'RS', 'SP', 'PA', 'MT', 'AM', 'MS', 'PB', 'GO', 'RN', 'PR',\n",
       "       'MG', 'SE', 'PE', 'ES', 'BA', 'RJ', 'AL', 'SC', 'MA', 'PI', 'DF',\n",
       "       'RO', 'TO', 'RR', 'AP', 'AC'], dtype=object)"
      ]
     },
     "execution_count": 280,
     "metadata": {},
     "output_type": "execute_result"
    }
   ],
   "source": [
    "dados_homologados['ESTADO'].unique()"
   ]
  },
  {
   "cell_type": "code",
   "execution_count": 281,
   "id": "4d3375ae-5770-4c56-ab13-00b476292549",
   "metadata": {},
   "outputs": [
    {
     "data": {
      "text/html": [
       "<div>\n",
       "<style scoped>\n",
       "    .dataframe tbody tr th:only-of-type {\n",
       "        vertical-align: middle;\n",
       "    }\n",
       "\n",
       "    .dataframe tbody tr th {\n",
       "        vertical-align: top;\n",
       "    }\n",
       "\n",
       "    .dataframe thead th {\n",
       "        text-align: right;\n",
       "    }\n",
       "</style>\n",
       "<table border=\"1\" class=\"dataframe\">\n",
       "  <thead>\n",
       "    <tr style=\"text-align: right;\">\n",
       "      <th></th>\n",
       "      <th>NOME</th>\n",
       "      <th>DATA NASC.</th>\n",
       "      <th>SEXO</th>\n",
       "      <th>ESTADO</th>\n",
       "    </tr>\n",
       "    <tr>\n",
       "      <th>INSCRICAO</th>\n",
       "      <th></th>\n",
       "      <th></th>\n",
       "      <th></th>\n",
       "      <th></th>\n",
       "    </tr>\n",
       "  </thead>\n",
       "  <tbody>\n",
       "    <tr>\n",
       "      <th>39401645886-1</th>\n",
       "      <td>ABELARDO VIEIRA MOTA</td>\n",
       "      <td>29/11/1989</td>\n",
       "      <td>M</td>\n",
       "      <td>CE</td>\n",
       "    </tr>\n",
       "    <tr>\n",
       "      <th>39401663587-8</th>\n",
       "      <td>ABNER MATHEUS COSTA DE ARAUJO</td>\n",
       "      <td>23/02/1995</td>\n",
       "      <td>M</td>\n",
       "      <td>RS</td>\n",
       "    </tr>\n",
       "    <tr>\n",
       "      <th>39401651770-6</th>\n",
       "      <td>ABNER MOISES DOS SANTOS GOMES</td>\n",
       "      <td>13/12/1991</td>\n",
       "      <td>M</td>\n",
       "      <td>SP</td>\n",
       "    </tr>\n",
       "    <tr>\n",
       "      <th>39401671273-0</th>\n",
       "      <td>ABRAAO DA COSTA SANTANA</td>\n",
       "      <td>29/09/1986</td>\n",
       "      <td>M</td>\n",
       "      <td>PA</td>\n",
       "    </tr>\n",
       "    <tr>\n",
       "      <th>39402640298-8</th>\n",
       "      <td>ACABIAS MARQUES LUIZ</td>\n",
       "      <td>26/11/1991</td>\n",
       "      <td>M</td>\n",
       "      <td>MT</td>\n",
       "    </tr>\n",
       "    <tr>\n",
       "      <th>...</th>\n",
       "      <td>...</td>\n",
       "      <td>...</td>\n",
       "      <td>...</td>\n",
       "      <td>...</td>\n",
       "    </tr>\n",
       "    <tr>\n",
       "      <th>51801394300-3</th>\n",
       "      <td>YURI MATHEUS DIAS PEREIRA</td>\n",
       "      <td>08/07/1995</td>\n",
       "      <td>M</td>\n",
       "      <td>SP</td>\n",
       "    </tr>\n",
       "    <tr>\n",
       "      <th>51801396055-5</th>\n",
       "      <td>YURI MORASKI BATISTA</td>\n",
       "      <td>10/01/1994</td>\n",
       "      <td>M</td>\n",
       "      <td>ES</td>\n",
       "    </tr>\n",
       "    <tr>\n",
       "      <th>51801354647-6</th>\n",
       "      <td>YURI SILVA VAZ</td>\n",
       "      <td>20/03/1995</td>\n",
       "      <td>M</td>\n",
       "      <td>RS</td>\n",
       "    </tr>\n",
       "    <tr>\n",
       "      <th>51801354273-1</th>\n",
       "      <td>YURY ALENCAR LIMA</td>\n",
       "      <td>30/05/1997</td>\n",
       "      <td>M</td>\n",
       "      <td>RS</td>\n",
       "    </tr>\n",
       "    <tr>\n",
       "      <th>51801366900-3</th>\n",
       "      <td>ZOLTÁN HIRATA JETSMEN</td>\n",
       "      <td>20/03/1997</td>\n",
       "      <td>M</td>\n",
       "      <td>SP</td>\n",
       "    </tr>\n",
       "  </tbody>\n",
       "</table>\n",
       "<p>14344 rows × 4 columns</p>\n",
       "</div>"
      ],
      "text/plain": [
       "                                        NOME  DATA NASC. SEXO ESTADO\n",
       "INSCRICAO                                                           \n",
       "39401645886-1           ABELARDO VIEIRA MOTA  29/11/1989    M     CE\n",
       "39401663587-8  ABNER MATHEUS COSTA DE ARAUJO  23/02/1995    M     RS\n",
       "39401651770-6  ABNER MOISES DOS SANTOS GOMES  13/12/1991    M     SP\n",
       "39401671273-0        ABRAAO DA COSTA SANTANA  29/09/1986    M     PA\n",
       "39402640298-8           ACABIAS MARQUES LUIZ  26/11/1991    M     MT\n",
       "...                                      ...         ...  ...    ...\n",
       "51801394300-3      YURI MATHEUS DIAS PEREIRA  08/07/1995    M     SP\n",
       "51801396055-5           YURI MORASKI BATISTA  10/01/1994    M     ES\n",
       "51801354647-6                 YURI SILVA VAZ  20/03/1995    M     RS\n",
       "51801354273-1              YURY ALENCAR LIMA  30/05/1997    M     RS\n",
       "51801366900-3          ZOLTÁN HIRATA JETSMEN  20/03/1997    M     SP\n",
       "\n",
       "[14344 rows x 4 columns]"
      ]
     },
     "execution_count": 281,
     "metadata": {},
     "output_type": "execute_result"
    }
   ],
   "source": [
    "dados_homologados"
   ]
  },
  {
   "cell_type": "code",
   "execution_count": 282,
   "id": "6ca77af1-b508-4f03-aa7f-61cef4fe4f8c",
   "metadata": {},
   "outputs": [],
   "source": [
    "import services.lista_estados_regioes as lesr"
   ]
  },
  {
   "cell_type": "code",
   "execution_count": 283,
   "id": "2a7eadc6-1a40-4854-97f4-c484a9d81d6b",
   "metadata": {},
   "outputs": [],
   "source": [
    "#Aqui estou adicionando as regioes dos estados brasileiros\n",
    "for i in lesr.regioes_brasil_siglas:\n",
    "    dados_homologados.loc[dados_homologados['ESTADO'].isin(lesr.regioes_brasil_siglas[i]), 'REGIAO'] = i"
   ]
  },
  {
   "cell_type": "code",
   "execution_count": 284,
   "id": "f2b10327-fa14-4a82-be54-1d28db92cb94",
   "metadata": {},
   "outputs": [],
   "source": [
    "dados_homologados = dados_homologados.dropna()"
   ]
  },
  {
   "cell_type": "code",
   "execution_count": 285,
   "id": "35ca62ec-bb59-4515-898d-b11fd7e91092",
   "metadata": {},
   "outputs": [
    {
     "data": {
      "text/html": [
       "<div>\n",
       "<style scoped>\n",
       "    .dataframe tbody tr th:only-of-type {\n",
       "        vertical-align: middle;\n",
       "    }\n",
       "\n",
       "    .dataframe tbody tr th {\n",
       "        vertical-align: top;\n",
       "    }\n",
       "\n",
       "    .dataframe thead th {\n",
       "        text-align: right;\n",
       "    }\n",
       "</style>\n",
       "<table border=\"1\" class=\"dataframe\">\n",
       "  <thead>\n",
       "    <tr style=\"text-align: right;\">\n",
       "      <th></th>\n",
       "      <th>NOME</th>\n",
       "      <th>DATA NASC.</th>\n",
       "      <th>SEXO</th>\n",
       "      <th>ESTADO</th>\n",
       "      <th>REGIAO</th>\n",
       "    </tr>\n",
       "    <tr>\n",
       "      <th>INSCRICAO</th>\n",
       "      <th></th>\n",
       "      <th></th>\n",
       "      <th></th>\n",
       "      <th></th>\n",
       "      <th></th>\n",
       "    </tr>\n",
       "  </thead>\n",
       "  <tbody>\n",
       "    <tr>\n",
       "      <th>39401645886-1</th>\n",
       "      <td>ABELARDO VIEIRA MOTA</td>\n",
       "      <td>29/11/1989</td>\n",
       "      <td>M</td>\n",
       "      <td>CE</td>\n",
       "      <td>nordeste</td>\n",
       "    </tr>\n",
       "    <tr>\n",
       "      <th>39401663587-8</th>\n",
       "      <td>ABNER MATHEUS COSTA DE ARAUJO</td>\n",
       "      <td>23/02/1995</td>\n",
       "      <td>M</td>\n",
       "      <td>RS</td>\n",
       "      <td>sul</td>\n",
       "    </tr>\n",
       "    <tr>\n",
       "      <th>39401651770-6</th>\n",
       "      <td>ABNER MOISES DOS SANTOS GOMES</td>\n",
       "      <td>13/12/1991</td>\n",
       "      <td>M</td>\n",
       "      <td>SP</td>\n",
       "      <td>sudeste</td>\n",
       "    </tr>\n",
       "    <tr>\n",
       "      <th>39401671273-0</th>\n",
       "      <td>ABRAAO DA COSTA SANTANA</td>\n",
       "      <td>29/09/1986</td>\n",
       "      <td>M</td>\n",
       "      <td>PA</td>\n",
       "      <td>norte</td>\n",
       "    </tr>\n",
       "    <tr>\n",
       "      <th>39402640298-8</th>\n",
       "      <td>ACABIAS MARQUES LUIZ</td>\n",
       "      <td>26/11/1991</td>\n",
       "      <td>M</td>\n",
       "      <td>MT</td>\n",
       "      <td>centro_oeste</td>\n",
       "    </tr>\n",
       "  </tbody>\n",
       "</table>\n",
       "</div>"
      ],
      "text/plain": [
       "                                        NOME  DATA NASC. SEXO ESTADO  \\\n",
       "INSCRICAO                                                              \n",
       "39401645886-1           ABELARDO VIEIRA MOTA  29/11/1989    M     CE   \n",
       "39401663587-8  ABNER MATHEUS COSTA DE ARAUJO  23/02/1995    M     RS   \n",
       "39401651770-6  ABNER MOISES DOS SANTOS GOMES  13/12/1991    M     SP   \n",
       "39401671273-0        ABRAAO DA COSTA SANTANA  29/09/1986    M     PA   \n",
       "39402640298-8           ACABIAS MARQUES LUIZ  26/11/1991    M     MT   \n",
       "\n",
       "                     REGIAO  \n",
       "INSCRICAO                    \n",
       "39401645886-1      nordeste  \n",
       "39401663587-8           sul  \n",
       "39401651770-6       sudeste  \n",
       "39401671273-0         norte  \n",
       "39402640298-8  centro_oeste  "
      ]
     },
     "execution_count": 285,
     "metadata": {},
     "output_type": "execute_result"
    }
   ],
   "source": [
    "dados_homologados.head()"
   ]
  },
  {
   "cell_type": "markdown",
   "id": "00e40d4d-eb69-4198-bda8-bb1752fce391",
   "metadata": {},
   "source": [
    "### Converter as data de nascimento por idade"
   ]
  },
  {
   "cell_type": "code",
   "execution_count": 286,
   "id": "a907f78e-d19d-4fbb-b394-fa4a95bc86e1",
   "metadata": {},
   "outputs": [],
   "source": [
    "import pandas as pd\n",
    "from datetime import date\n",
    "\n",
    "def calculate_age(row):\n",
    "    birth_year = int(row['DATA NASC.'].split('/')[-1])  # Extrai o ano de nascimento a partir da data de nascimento\n",
    "    exam_year = row['ANO']  # Obtém o ano da realização da prova\n",
    "    age = exam_year - birth_year\n",
    "    return age\n",
    "\n",
    "# Aplique a função calculate_age ao DataFrame para calcular as idades com base nos anos.\n",
    "data_poscomp['IDADE'] = data_poscomp.apply(calculate_age, axis=1)"
   ]
  },
  {
   "cell_type": "code",
   "execution_count": 287,
   "id": "3834b1b8-2391-475a-bdef-1fc9a11dafb8",
   "metadata": {},
   "outputs": [
    {
     "data": {
      "text/html": [
       "<div>\n",
       "<style scoped>\n",
       "    .dataframe tbody tr th:only-of-type {\n",
       "        vertical-align: middle;\n",
       "    }\n",
       "\n",
       "    .dataframe tbody tr th {\n",
       "        vertical-align: top;\n",
       "    }\n",
       "\n",
       "    .dataframe thead th {\n",
       "        text-align: right;\n",
       "    }\n",
       "</style>\n",
       "<table border=\"1\" class=\"dataframe\">\n",
       "  <thead>\n",
       "    <tr style=\"text-align: right;\">\n",
       "      <th></th>\n",
       "      <th>INSCRICAO</th>\n",
       "      <th>NOME</th>\n",
       "      <th>SEXO</th>\n",
       "      <th>ESTADO</th>\n",
       "      <th>ESPECIALIDADE</th>\n",
       "      <th>PRESENTE DIA1</th>\n",
       "      <th>CARGO</th>\n",
       "      <th>Matemática Discreta</th>\n",
       "      <th>Cálculo Diferencial e Integral</th>\n",
       "      <th>Álgebra Linear</th>\n",
       "      <th>...</th>\n",
       "      <th>Redes de Computadores</th>\n",
       "      <th>Computação Gráfica</th>\n",
       "      <th>Inteligência Artificial</th>\n",
       "      <th>Engenharia de Software</th>\n",
       "      <th>Sistemas Distribuídos</th>\n",
       "      <th>Compiladores</th>\n",
       "      <th>Processamento de Imagens</th>\n",
       "      <th>Banco de Dados</th>\n",
       "      <th>ANO</th>\n",
       "      <th>IDADE</th>\n",
       "    </tr>\n",
       "  </thead>\n",
       "  <tbody>\n",
       "    <tr>\n",
       "      <th>0</th>\n",
       "      <td>39401645886-1</td>\n",
       "      <td>ABELARDO VIEIRA MOTA</td>\n",
       "      <td>M</td>\n",
       "      <td>CE</td>\n",
       "      <td>Teoria da Computação</td>\n",
       "      <td>S</td>\n",
       "      <td>Mestrado/Doutorado</td>\n",
       "      <td>3.0</td>\n",
       "      <td>3.0</td>\n",
       "      <td>2.0</td>\n",
       "      <td>...</td>\n",
       "      <td>1.0</td>\n",
       "      <td>0.0</td>\n",
       "      <td>1.0</td>\n",
       "      <td>3.0</td>\n",
       "      <td>2.0</td>\n",
       "      <td>1.0</td>\n",
       "      <td>1.0</td>\n",
       "      <td>1.0</td>\n",
       "      <td>2016</td>\n",
       "      <td>27</td>\n",
       "    </tr>\n",
       "    <tr>\n",
       "      <th>1</th>\n",
       "      <td>39401663587-8</td>\n",
       "      <td>ABNER MATHEUS COSTA DE ARAUJO</td>\n",
       "      <td>M</td>\n",
       "      <td>RS</td>\n",
       "      <td>METODOLOGIA E TÉCNICAS DA COMPUTAÇÃO</td>\n",
       "      <td>S</td>\n",
       "      <td>Mestrado/Doutorado</td>\n",
       "      <td>3.0</td>\n",
       "      <td>2.0</td>\n",
       "      <td>3.0</td>\n",
       "      <td>...</td>\n",
       "      <td>2.0</td>\n",
       "      <td>0.0</td>\n",
       "      <td>2.0</td>\n",
       "      <td>1.0</td>\n",
       "      <td>3.0</td>\n",
       "      <td>1.0</td>\n",
       "      <td>2.0</td>\n",
       "      <td>1.0</td>\n",
       "      <td>2016</td>\n",
       "      <td>21</td>\n",
       "    </tr>\n",
       "    <tr>\n",
       "      <th>2</th>\n",
       "      <td>39401651770-6</td>\n",
       "      <td>ABNER MOISES DOS SANTOS GOMES</td>\n",
       "      <td>M</td>\n",
       "      <td>SP</td>\n",
       "      <td>ENGENHARIA DE SOFTWARE</td>\n",
       "      <td>S</td>\n",
       "      <td>Mestrado/Doutorado</td>\n",
       "      <td>0.0</td>\n",
       "      <td>1.0</td>\n",
       "      <td>1.0</td>\n",
       "      <td>...</td>\n",
       "      <td>1.0</td>\n",
       "      <td>0.0</td>\n",
       "      <td>2.0</td>\n",
       "      <td>0.0</td>\n",
       "      <td>2.0</td>\n",
       "      <td>0.0</td>\n",
       "      <td>2.0</td>\n",
       "      <td>1.0</td>\n",
       "      <td>2016</td>\n",
       "      <td>25</td>\n",
       "    </tr>\n",
       "    <tr>\n",
       "      <th>3</th>\n",
       "      <td>39401671273-0</td>\n",
       "      <td>ABRAAO DA COSTA SANTANA</td>\n",
       "      <td>M</td>\n",
       "      <td>PA</td>\n",
       "      <td>Modelagem e Gerência de Sistemas de Informação</td>\n",
       "      <td>S</td>\n",
       "      <td>Mestrado/Doutorado</td>\n",
       "      <td>1.0</td>\n",
       "      <td>0.0</td>\n",
       "      <td>1.0</td>\n",
       "      <td>...</td>\n",
       "      <td>2.0</td>\n",
       "      <td>0.0</td>\n",
       "      <td>1.0</td>\n",
       "      <td>1.0</td>\n",
       "      <td>1.0</td>\n",
       "      <td>1.0</td>\n",
       "      <td>1.0</td>\n",
       "      <td>0.0</td>\n",
       "      <td>2016</td>\n",
       "      <td>30</td>\n",
       "    </tr>\n",
       "    <tr>\n",
       "      <th>4</th>\n",
       "      <td>39402640298-8</td>\n",
       "      <td>ACABIAS MARQUES LUIZ</td>\n",
       "      <td>M</td>\n",
       "      <td>MT</td>\n",
       "      <td>NaN</td>\n",
       "      <td>S</td>\n",
       "      <td>Autoavaliação</td>\n",
       "      <td>1.0</td>\n",
       "      <td>0.0</td>\n",
       "      <td>2.0</td>\n",
       "      <td>...</td>\n",
       "      <td>1.0</td>\n",
       "      <td>0.0</td>\n",
       "      <td>2.0</td>\n",
       "      <td>0.0</td>\n",
       "      <td>2.0</td>\n",
       "      <td>2.0</td>\n",
       "      <td>1.0</td>\n",
       "      <td>1.0</td>\n",
       "      <td>2016</td>\n",
       "      <td>25</td>\n",
       "    </tr>\n",
       "  </tbody>\n",
       "</table>\n",
       "<p>5 rows × 34 columns</p>\n",
       "</div>"
      ],
      "text/plain": [
       "       INSCRICAO                           NOME SEXO ESTADO  \\\n",
       "0  39401645886-1           ABELARDO VIEIRA MOTA    M     CE   \n",
       "1  39401663587-8  ABNER MATHEUS COSTA DE ARAUJO    M     RS   \n",
       "2  39401651770-6  ABNER MOISES DOS SANTOS GOMES    M     SP   \n",
       "3  39401671273-0        ABRAAO DA COSTA SANTANA    M     PA   \n",
       "4  39402640298-8           ACABIAS MARQUES LUIZ    M     MT   \n",
       "\n",
       "                                    ESPECIALIDADE PRESENTE DIA1  \\\n",
       "0                            Teoria da Computação             S   \n",
       "1            METODOLOGIA E TÉCNICAS DA COMPUTAÇÃO             S   \n",
       "2                          ENGENHARIA DE SOFTWARE             S   \n",
       "3  Modelagem e Gerência de Sistemas de Informação             S   \n",
       "4                                             NaN             S   \n",
       "\n",
       "                CARGO  Matemática Discreta  Cálculo Diferencial e Integral  \\\n",
       "0  Mestrado/Doutorado                  3.0                             3.0   \n",
       "1  Mestrado/Doutorado                  3.0                             2.0   \n",
       "2  Mestrado/Doutorado                  0.0                             1.0   \n",
       "3  Mestrado/Doutorado                  1.0                             0.0   \n",
       "4       Autoavaliação                  1.0                             0.0   \n",
       "\n",
       "   Álgebra Linear  ...  Redes de Computadores  Computação Gráfica  \\\n",
       "0             2.0  ...                    1.0                 0.0   \n",
       "1             3.0  ...                    2.0                 0.0   \n",
       "2             1.0  ...                    1.0                 0.0   \n",
       "3             1.0  ...                    2.0                 0.0   \n",
       "4             2.0  ...                    1.0                 0.0   \n",
       "\n",
       "   Inteligência Artificial  Engenharia de Software  Sistemas Distribuídos  \\\n",
       "0                      1.0                     3.0                    2.0   \n",
       "1                      2.0                     1.0                    3.0   \n",
       "2                      2.0                     0.0                    2.0   \n",
       "3                      1.0                     1.0                    1.0   \n",
       "4                      2.0                     0.0                    2.0   \n",
       "\n",
       "   Compiladores  Processamento de Imagens  Banco de Dados   ANO  IDADE  \n",
       "0           1.0                       1.0             1.0  2016     27  \n",
       "1           1.0                       2.0             1.0  2016     21  \n",
       "2           0.0                       2.0             1.0  2016     25  \n",
       "3           1.0                       1.0             0.0  2016     30  \n",
       "4           2.0                       1.0             1.0  2016     25  \n",
       "\n",
       "[5 rows x 34 columns]"
      ]
     },
     "execution_count": 287,
     "metadata": {},
     "output_type": "execute_result"
    }
   ],
   "source": [
    "data_poscomp = data_poscomp.drop(columns=['DATA NASC.'])\n",
    "data_poscomp.head()"
   ]
  },
  {
   "cell_type": "code",
   "execution_count": 288,
   "id": "faa0812c-6144-43a2-8995-76ef0377e2bf",
   "metadata": {},
   "outputs": [],
   "source": [
    "data_poscomp = data_poscomp[data_poscomp['IDADE'] >= 17]\n",
    "data_poscomp = data_poscomp[data_poscomp['ESTADO'] != 'OU']"
   ]
  },
  {
   "cell_type": "code",
   "execution_count": 289,
   "id": "26b8a3c2-314a-48f8-af94-68cb10cc4370",
   "metadata": {},
   "outputs": [
    {
     "data": {
      "text/plain": [
       "(14343, 34)"
      ]
     },
     "execution_count": 289,
     "metadata": {},
     "output_type": "execute_result"
    }
   ],
   "source": [
    "data_poscomp.shape"
   ]
  },
  {
   "cell_type": "markdown",
   "id": "ae6f8f0d-c335-4a8c-87d2-325f57eeda11",
   "metadata": {
    "tags": []
   },
   "source": [
    "### Juntar os dataframes"
   ]
  },
  {
   "cell_type": "code",
   "execution_count": 290,
   "id": "b5a4fca8-3bc3-4aa3-9c4a-b2ef84915854",
   "metadata": {},
   "outputs": [],
   "source": [
    "data_poscomp = data_poscomp.query(\"ESPECIALIDADE.notnull()\")"
   ]
  },
  {
   "cell_type": "code",
   "execution_count": 291,
   "id": "c47f523a-2ad7-4fc7-a263-eea3ae8ee66a",
   "metadata": {},
   "outputs": [
    {
     "data": {
      "text/plain": [
       "(13476, 34)"
      ]
     },
     "execution_count": 291,
     "metadata": {},
     "output_type": "execute_result"
    }
   ],
   "source": [
    "data_poscomp.shape"
   ]
  },
  {
   "cell_type": "markdown",
   "id": "607c3aef-d85a-4e5a-93f9-d0ee99ba89cc",
   "metadata": {
    "tags": []
   },
   "source": [
    "# Tratamento da especilidade dos candidatos"
   ]
  },
  {
   "cell_type": "code",
   "execution_count": 292,
   "id": "ab235861-7b8b-49ec-a0e0-1943d2ef831f",
   "metadata": {
    "tags": []
   },
   "outputs": [],
   "source": [
    "# Converter todos os elementos para minúsculas\n",
    "data_poscomp['ESPECIALIDADE'] = data_poscomp['ESPECIALIDADE'].str.lower()"
   ]
  },
  {
   "cell_type": "code",
   "execution_count": 293,
   "id": "e4f43897-0479-43da-8558-2dbd612ec0d4",
   "metadata": {
    "tags": []
   },
   "outputs": [],
   "source": [
    "import re\n",
    "\n",
    "# definir uma expressão regular para encontrar os caracteres '?'\n",
    "def substituir_caracteres(df, caractere):\n",
    "    regex = r'\\b{}\\b'.format(re.escape(caractere))\n",
    "\n",
    "    # substituir os caracteres '?' por um caractere vazio em todas as linhas da coluna 'Texto'\n",
    "    df['ESPECIALIDADE'] = df['ESPECIALIDADE'].apply(lambda x: re.sub(regex, '', x))\n",
    "    \n",
    "    return df"
   ]
  },
  {
   "cell_type": "code",
   "execution_count": 294,
   "id": "de4f65ad-3e30-4232-9f3e-c106d6927eca",
   "metadata": {
    "tags": []
   },
   "outputs": [],
   "source": [
    "def remover_e(frase):\n",
    "    if frase.endswith(\" e\"):\n",
    "        frase = frase.rstrip(\" e\")\n",
    "    # if frase.endswith(\" a\"):\n",
    "    #     frase = frase.rstrip(\" a\")\n",
    "    return frase\n",
    "\n",
    "# # Aplicar a função em uma coluna do DataFrame\n",
    "# dados_disciplinas['ESPECIALIDADE'] = dados_disciplinas['ESPECIALIDADE'].apply(remover_e)"
   ]
  },
  {
   "cell_type": "code",
   "execution_count": 295,
   "id": "c6d12258-0b08-43e1-ab11-b0427b75af5b",
   "metadata": {
    "tags": []
   },
   "outputs": [],
   "source": [
    "def substituir_palavras(df, palavras_a_substituir, palavra_substituta):\n",
    "    # Para cada palavra a ser substituída\n",
    "    for palavra in palavras_a_substituir:\n",
    "        # Use uma expressão regular para encontrar a palavra inteira e aplicar a substituição\n",
    "        padrao = r'\\b' + re.escape(palavra) + r'\\b'\n",
    "        df['ESPECIALIDADE'] = df['ESPECIALIDADE'].str.replace(padrao, palavra_substituta, regex=True)\n",
    "\n",
    "    # Retorna o novo DataFrame com as palavras substituídas\n",
    "    return df"
   ]
  },
  {
   "cell_type": "code",
   "execution_count": 296,
   "id": "7de41c0c-d715-489c-9469-731ea166541f",
   "metadata": {
    "tags": []
   },
   "outputs": [],
   "source": [
    "data_poscomp = substituir_caracteres(data_poscomp, '?',)\n",
    "data_poscomp = substituir_caracteres(data_poscomp, '\\\\')\n",
    "data_poscomp = substituir_caracteres(data_poscomp, ' \\ ')\n",
    "data_poscomp = substituir_caracteres(data_poscomp, '\\ ')\n",
    "\n",
    "# Remover caracteres \"\\\\\"\n",
    "data_poscomp['ESPECIALIDADE'] = data_poscomp['ESPECIALIDADE'].str.replace(r'\\\\', '')\n",
    "data_poscomp['ESPECIALIDADE'] = data_poscomp['ESPECIALIDADE'].str.replace(r' à', '')\n",
    "data_poscomp['ESPECIALIDADE'] = data_poscomp['ESPECIALIDADE'].str.replace(r'.', '')\n",
    "data_poscomp['ESPECIALIDADE'] = data_poscomp['ESPECIALIDADE'].str.replace(r':', '')\n",
    "data_poscomp['ESPECIALIDADE'] = data_poscomp['ESPECIALIDADE'].str.replace(r',', '')\n",
    "data_poscomp['ESPECIALIDADE'] = data_poscomp['ESPECIALIDADE'].str.replace('\\xa0', '')"
   ]
  },
  {
   "cell_type": "code",
   "execution_count": 297,
   "id": "6a178715-7fa6-4972-8f79-14ecf64748c0",
   "metadata": {
    "tags": []
   },
   "outputs": [],
   "source": [
    "# # buscando as três primeiras palavras de cada texto sem as vírgulas\n",
    "# primeiras_palavras = data_poscomp['ESPECIALIDADE'].str.split().apply(lambda x: x[:3])\n",
    "\n",
    "# # adicionando as palavras como uma nova coluna no dataframe\n",
    "# data_poscomp['ESPECIALIDADE'] = primeiras_palavras\n",
    "\n",
    "# # removendo as vírgulas da coluna 'Primeiras Palavras'\n",
    "# data_poscomp['ESPECIALIDADE'] = data_poscomp['ESPECIALIDADE'].apply(lambda x: ' '.join(word.replace(',', '') for word in x))\n",
    "\n",
    "# # imprimindo o dataframe resultante"
   ]
  },
  {
   "cell_type": "code",
   "execution_count": 298,
   "id": "93aeddae-432a-4333-91a0-c15dee601415",
   "metadata": {},
   "outputs": [],
   "source": [
    "# data_poscomp['ESPECIALIDADE'] = data_poscomp['ESPECIALIDADE'].apply(remover_e)"
   ]
  },
  {
   "cell_type": "code",
   "execution_count": 299,
   "id": "6f97d7ed-93a3-47c7-be65-e1be3dff91aa",
   "metadata": {},
   "outputs": [],
   "source": [
    "data_poscomp = substituir_palavras(data_poscomp, [\n",
    "    'inteligência computacional e processamento gráfico',\n",
    "'inteligência computacional',\n",
    "'inteligência artificial e banco de dados',\n",
    "'otimização e inteligência artificial',\n",
    "'lógica inteligência artificial e métodos formais',\n",
    "'inteligência aplicada',\n",
    " 'inteligencia computacional',\n",
    " 'inteligencia artificial',\n",
    " 'inteligência e modelagem computacional',\n",
    "'matemática e inteligência artificial',\n",
    " 'outrasinteligência artificial',\n",
    "'redes neurais e computação gráfica',\n",
    " 'sistemas nebulosos e redes neurais artificiais',\n",
    "'redes neuronais artificiais'], 'inteligência artificial')"
   ]
  },
  {
   "cell_type": "code",
   "execution_count": 300,
   "id": "8c4045fe-71cb-4a94-bf41-ebdf0feb878f",
   "metadata": {},
   "outputs": [],
   "source": [
    "data_poscomp = substituir_palavras(data_poscomp, [\n",
    "    'engenharia de software',\n",
    " 'engenharia de software técnicas de reúso testes e qualidade',\n",
    " 'engenharia de software banco de dados e informática e educação',\n",
    " 'engenharia de software e banco de dados',\n",
    " 'engenharia de software e redes de computadores',\n",
    " 'engenharia de software e sistemas de informação',\n",
    " 'engenharia de software e linguagens de programação',\n",
    " 'engenharia de software e usabilidade',\n",
    " 'engenharia de software banco de dados e interação humano computador',\n",
    " 'engenharia de software e sistemas de informação/sistemas web e multimídia interativos',\n",
    " 'engenharia de software e sistemas de computação',\n",
    " 'engenharia de software experimental',\n",
    " 'engenharia de software gerenciamento de informações e interfaces homem-computador',\n",
    " 'engenharia de software e linguagens de programacao',\n",
    " 'engenharia de software e sistemas computacionais',\n",
    " 'engenharia de software e sistemas de informação / sistemas web e multimídia interativos',\n",
    " 'engenharia de software baseada em buscas',\n",
    " 'engenharia de software e linguagens de programacão',\n",
    " 'engenharia de software/sistemas web e multimídia interativos',\n",
    " 'engenharia de software / sistemas web e multimídia interativos',\n",
    "'otimização em engenharia de software',\n",
    " 'agentes de software e ontologias aplicadas engenharia de software',\n",
    "                                                 'qualidade de software',\n",
    "'engenharia  de software',\n",
    "'verificação e teste de software',\n",
    " 'avaliação e melhoria de processos de software',\n",
    " 'processo de desenvolvimento de software visando a usabilidade',\n",
    " 'processos de desenvolvimento de software',\n",
    " 'controle da engenharia de software',\n",
    " 'ambientes de desenvolvimento de software',\n",
    " 'métricas de software e gerência de projetos',\n",
    " 'gerência de projetos de desenvolvimento de software',\n",
    " 'melhoria de processo de software',\n",
    " 'projetos integrados de software e hardware',\n",
    " 'teste de software',\n",
    "'desenvolvimento dirigido a modelos mdd - model-driven development',\n",
    " 'desenvolvimento de ferramentas de gerência e administracão',\n",
    "'métodos ágeis'], 'engenharia de software')"
   ]
  },
  {
   "cell_type": "code",
   "execution_count": 301,
   "id": "85c09c63-e265-45bf-8743-0a3b0d854c83",
   "metadata": {},
   "outputs": [],
   "source": [
    "data_poscomp = substituir_palavras(data_poscomp, [\n",
    "    'sistemas de computação',\n",
    " 'sistemas de computaçãoredes de computadores',\n",
    " 'sistemas de computaçãomicroeletrônica e processamento de sinais',\n",
    " 'sistemas de computaçãoredes e sistemas distribuídos',\n",
    " 'sistemas de computaçãosistemas inteligentes',\n",
    " 'sistemas de computaçãoarquitetura de sistemas de computação  e sistemas operacionais',\n",
    " 'sistemas de computaçãovisualização e interação',\n",
    " 'sistemas de computaçãoarquitetura de sistemas de computação e sistemas operacionais',\n",
    " 'sistemas de computaçãocomputação aplicada',\n",
    "    'sistemas computacionais complexos',\n",
    "'sistema de computação',\n",
    "'análise e modelagem de desempenho em sistemas de computação',\n",
    " 'escalabilidade e eficiência em sistemas de computação',\n",
    " 'tecnologias e sistemas de computação',\n",
    " 'analise de desempenho de sistemas de computação',\n",
    "'sistemas computacionais para bioinformática',\n",
    " 'sistemas complexos de partículas e teoria de controle',\n",
    " 'sistemas computacionais',\n",
    " 'sistemas computacionais embarcados',\n",
    " 'sistemas complexos adaptativos',\n",
    "'engenharia de sistemas de computação',\n",
    "'engenharia desistemascomputacionais',\n",
    " 'engenharia de sistema e computação',\n",
    " 'engenharia de sistemas',\n",
    "'sistemas de computação e informação',\n",
    " 'sistemas de computação embarcados',\n",
    " 'segurança em sistemas de computação',\n",
    " 'sistemas de computação web',\n",
    " 'projeto de sistemas de computação',\n",
    " 'controle de sistemas de computação',\n",
    "'sistemas e tecnologias da computação'], 'sistemas de computação')"
   ]
  },
  {
   "cell_type": "code",
   "execution_count": 302,
   "id": "e9c77d1c-e022-4347-807b-83a3ae455997",
   "metadata": {},
   "outputs": [],
   "source": [
    "data_poscomp = substituir_palavras(data_poscomp, [\n",
    "    'sistemas de informação',\n",
    " 'sistemas de informação e computação',\n",
    " 'sistemas de informação para a web',\n",
    " 'sistemas de informação e banco de dados',\n",
    " 'sistemas de informação e processamento gráfico',\n",
    " 'sistemas de informações multimídia',\n",
    " 'sistemas de informação geográfica e geoprocessamento',\n",
    "'sistema de informação',\n",
    "'modelagem e gerência de sistemas de informação',\n",
    " 'gerência de desenvolvimento de sistemas de informação',\n",
    " 'desenvolvimento de sistemas de informação',\n",
    " 'alinhamento estratégico de tecnologias e sistemas de informação'], 'sistemas de informação')"
   ]
  },
  {
   "cell_type": "code",
   "execution_count": 303,
   "id": "24681a1d-ae6e-4444-9e50-eebf00135699",
   "metadata": {},
   "outputs": [],
   "source": [
    "data_poscomp = substituir_palavras(data_poscomp, [\n",
    "    'computação aplicada',\n",
    " 'computação aplicada a biociências',\n",
    " 'computação aplicadasistemas de computação',\n",
    " 'computação aplicadasistemas de informação',\n",
    " 'computação aplicadainteligência computacional'], 'computação aplicada')"
   ]
  },
  {
   "cell_type": "code",
   "execution_count": 304,
   "id": "23b83fde-9a33-4855-aeae-6787e588c5be",
   "metadata": {},
   "outputs": [],
   "source": [
    "data_poscomp = substituir_palavras(data_poscomp, [\n",
    "    'redes de computadores',\n",
    " 'redes de computadores e sistemas distribuídos',\n",
    " 'redes de computadores e telecomunicações',\n",
    " 'redes de computadores e comunicação de dados',\n",
    " 'redes de computadores e sistemas distribuidos',\n",
    " 'redes de computadores  e sistemas embarcados',\n",
    " 'redes de comunicação e sistemas distribuídos',\n",
    " 'redes de computadores e de telecomunicações',\n",
    " 'redes de computadores e sistemas embarcados',\n",
    " 'redes de comunicação',\n",
    " 'redes de comunicações',\n",
    "'gerenciamento de redes de computadores',\n",
    "'redes e sistemas distribuídos',\n",
    " 'redes de sensores sem fio',\n",
    "'gerência de redes',\n",
    " 'gerenciamento de redes'], 'redes de computadores')"
   ]
  },
  {
   "cell_type": "code",
   "execution_count": 305,
   "id": "e9c24e40-6c22-420a-acf1-1fe263dd469b",
   "metadata": {},
   "outputs": [],
   "source": [
    "data_poscomp = substituir_palavras(data_poscomp, [\n",
    "    'sistemas embarcados e engenharia de software',\n",
    " 'sistemas embarcados',\n",
    " 'sistemas embarcados evoluídos e robóticos',\n",
    " 'sistemas embarcados e sistemas digitais',\n",
    " 'sistemas embarcados e robótica',\n",
    "'sistemas digitais e embarcados',\n",
    " 'velha-sistemas embarcados'], 'sistemas embarcados')"
   ]
  },
  {
   "cell_type": "code",
   "execution_count": 306,
   "id": "274ea916-36bc-4787-a0b7-fc4c1758578c",
   "metadata": {},
   "outputs": [],
   "source": [
    "data_poscomp = substituir_palavras(data_poscomp, [\n",
    "    'sistemas inteligentes',\n",
    " 'sistemas inteligentes e lógica',\n",
    " 'sistemas integrados e distribuidos',\n",
    " 'sistemas interativos e de informação',\n",
    " 'sistemas integrados e distribuídos',\n",
    " 'sistemas integrados de hardware e software',\n",
    "'computação inteligente',\n",
    " 'teste e confiabilidade de sistemas inteligentes',\n",
    " 'computação inteligente aplicada a mercados financeiros',\n",
    " 'computação pervasiva sistemas inteligentes',\n",
    " 'agentes inteligentes e representacao do conhecimento',\n",
    " 'aprendizado de máquina e sistemas inteligentes',\n",
    "'sistemas inteligentes aplicada a mercados financeiros'], 'sistemas inteligentes')"
   ]
  },
  {
   "cell_type": "code",
   "execution_count": 307,
   "id": "91e874f1-5ef6-4f40-80b3-00f4260d6f3d",
   "metadata": {},
   "outputs": [],
   "source": [
    "data_poscomp = substituir_palavras(data_poscomp, [\n",
    "    'banco de dados',\n",
    " 'banco de dados e engenharia de software',\n",
    " 'banco de dados na web e distribuídos',\n",
    " 'banco de dados e recuperação de informação',\n",
    " 'banco de dados e imagens',\n",
    " 'banco de dados/computação gráfica imagens e visualização',\n",
    " 'banco de dados e web',\n",
    " 'banco de dados / computação gráfica imagens e visualização',\n",
    "'bancos de dados', 'bancos de dados e imagens',\n",
    "'banco de dados e imagens',\n",
    " 'web e banco de dados',\n",
    " 'novos algoritmos e arquiteturas para banco de dados espaciais distribuídos',\n",
    " 'projeto de banco de dados',\n",
    "'modelagem conceitual e banco de dados',\n",
    "'gerenciamento de dados e informações',\n",
    "'gerência de dados distribuidos web clusters e grids',\n",
    " 'gerência de dados da web',\n",
    "'gerência de dados e aplicações',\n",
    " 'métodos baseados em dados',\n",
    " 'inferência em dados complexos',\n",
    " 'gerenciamento de dados semi-estruturados'], 'banco de dados')"
   ]
  },
  {
   "cell_type": "code",
   "execution_count": 308,
   "id": "cdbd6ae7-4cc5-4584-aba2-eb8c30b4ff4f",
   "metadata": {},
   "outputs": [],
   "source": [
    "data_poscomp = substituir_palavras(data_poscomp, [\n",
    "    'computação visual e inteligente',\n",
    " 'computação visual',\n",
    " 'computação visual e sistemas inteligentes',\n",
    " 'computação visual e inteligência artificial'], 'computação visual')"
   ]
  },
  {
   "cell_type": "code",
   "execution_count": 309,
   "id": "c1fa0863-b91b-4bc3-95de-475f8e90f46f",
   "metadata": {},
   "outputs": [],
   "source": [
    "data_poscomp = substituir_palavras(data_poscomp, [\n",
    "    'aprendizado de máquina e mineração de dados',\n",
    " 'aprendizado de máquina',\n",
    " 'aprendizado de máquina e processamento de línguas naturais',\n",
    " 'aprendizado de maquina e interação',\n",
    "'aprendizagem de máquina',\n",
    " 'aprendizagem de máquina e mineração',\n",
    " 'aprendizagem de maquina e mineracao',\n",
    " 'aprendizagem de máquina e sistemas inteligentes',\n",
    " 'aprendizagem de máquina e mineracão',\n",
    "'descoberta do conhecimento e aprendizado de máquina',\n",
    "'mineração de dados',\n",
    " 'mineração análise e visualização de dados',\n",
    " 'mineração de dados e descoberta de conhecimento',\n",
    "'mineiração de dados',\n",
    "'aprendizado de máquina e mineração',\n",
    " 'aprendizagem e otimização',\n",
    " 'aprendizado automático de modelos',\n",
    " 'aprendizado de máquina e descoberta de conhecimento',\n",
    " 'aprendizado de máquina e mineracão',\n",
    "'reconhecimento de padrões',\n",
    " 'reconhecimento de padrões e processamento de sinais',\n",
    " 'reconhecimento de padroes e processamento de sinais',\n",
    "'aprendizado de máquina e processamento de sinais',\n",
    "'visualização de informações',\n",
    " 'visualização da informação'], 'aprendizado de máquina')"
   ]
  },
  {
   "cell_type": "code",
   "execution_count": 310,
   "id": "96d5238b-f18d-4e4e-b8b0-b45832ce2003",
   "metadata": {},
   "outputs": [],
   "source": [
    "data_poscomp = substituir_palavras(data_poscomp, [\n",
    "    'ciência computacional',\n",
    " 'ciência da computação',\n",
    "'ciências de computação'], 'ciência computacional')"
   ]
  },
  {
   "cell_type": "code",
   "execution_count": 311,
   "id": "ffb2874c-a25c-4914-af4a-4c71fe3f4ea2",
   "metadata": {},
   "outputs": [],
   "source": [
    "data_poscomp = substituir_palavras(data_poscomp, [\n",
    "    'ciência de dados',\n",
    " 'ciência de dados e engenharia de software',\n",
    " 'ciência dos dados','data science',\n",
    "'análise de padrões em dados',\n",
    " 'análise de padrões',\n",
    " 'análise de redes sociais',\n",
    " 'análise de dados descoberta de conhecimento e recuperação de informação',\n",
    "'análise de dados'], 'ciência de dados')"
   ]
  },
  {
   "cell_type": "code",
   "execution_count": 312,
   "id": "a937d968-aa56-458a-9891-5af116d0cd7e",
   "metadata": {},
   "outputs": [],
   "source": [
    "data_poscomp = substituir_palavras(data_poscomp, [\n",
    "    'sistemas distribuídos',\n",
    " 'sistemas distribuídos e redes de computadores',\n",
    " 'sistemas distribuídos e  visão computacional',\n",
    " 'sistemas distribuídos e programação concorrente',\n",
    " 'sistemas distribuídos e programação concorrente/sistemas embarcados',\n",
    " 'sistemas distribuídos e computação de alto desempenho',\n",
    " 'sistemas distribuidos',\n",
    " 'sistemas distribuídos e programação concorrente / sistemas embarcados',\n",
    "'sistemas distribuídos/sistemas embarcados',\n",
    " 'sistemas distribuídos / sistemas embarcados',\n",
    "'computação distribuida',\n",
    " 'computação distribuída',\n",
    "'desenvolvimento de software distribuído',\n",
    " 'técnicas de modelagem de sistemas distribuídos',\n",
    " 'segurança e sistemas distribuídos',\n",
    " 'middleware e objetos distribuídos',\n",
    " 'algoritmos distribuídos',\n",
    "'distribuição e redes',\n",
    " 'aplicações distribuídas'], 'sistemas distribuídos')"
   ]
  },
  {
   "cell_type": "code",
   "execution_count": 313,
   "id": "ec7b676e-441c-4c35-aa86-ddc4404d8f18",
   "metadata": {},
   "outputs": [],
   "source": [
    "data_poscomp = substituir_palavras(data_poscomp, [\n",
    "    'arquitetura de computadores e compiladores',\n",
    " 'arquitetura de sistemas computacionais',\n",
    " 'arquitetura e projeto de sistemas computacionais',\n",
    " 'arquitetura de computadores e sistemas distribuídos',\n",
    " 'arquitetura de computadores e sistemas digitais',\n",
    " 'arquiteturas e algoritmos para máquinas paralelas e distribuídas',\n",
    " 'arquitetura de computadores compiladores e design de hardware',\n",
    " 'arquiteturas e redes de computadores'], 'arquitetura de computadores',)"
   ]
  },
  {
   "cell_type": "code",
   "execution_count": 314,
   "id": "34225513-d542-40f6-89b6-034598fa5d5b",
   "metadata": {},
   "outputs": [],
   "source": [
    "data_poscomp = substituir_palavras(data_poscomp, [\n",
    "    'otimização e inteligência artificial',\n",
    " 'otimização',\n",
    " 'otimização e raciocínio automático',\n",
    " 'otimização e automação de sistemas',\n",
    " 'otimização combinatória',\n",
    "'mecânica dos fluidos computacional',\n",
    " 'mecânica dos fluidos computacional/otimização/modelos estocásticos',\n",
    " 'mecânica dos fluidos computacional / otimização / modelos estocásticos',\n",
    "'otimização/otimização/modelos estocásticos',\n",
    " 'otimização / otimização / modelos estocásticos',\n",
    "'algoritmos e grafos',\n",
    " 'algoritmos otimização e teoria da computação',\n",
    " 'algoritmos e otimização',\n",
    "'algoritmos grafos e combinatória',\n",
    " 'algoritmos otimização e complexidade computacional',\n",
    "'métodos computacionais de otimização (interdepartamental)',\n",
    " 'métodos numéricos e otimização',\n",
    " 'heurísticas e meta-heurísticas otimização (programação linear não linear e inteira)',\n",
    " 'sistemas de otimização',\n",
    " 'métodos computacionais de otimização',\n",
    " 'computacao evolucionaria aprendizagem e otimizacao',\n",
    " 'técnicas heurísticas e metaheurísticas para otimização',\n",
    " 'algoritimos otimização e teoria da computação',\n",
    " 'computacão evolucionária aprendizagem e otimizacão',\n",
    "'otimização (interdepartamental)',\n",
    " 'heurísticas e meta-heurísticas otimização (programação linear não linear e inteira)',\n",
    "'combinatória e teoria da computação',\n",
    " 'algoritmos e combinatória',\n",
    " 'grafos e combinatória',\n",
    " 'outrasalgoritmos e combinatória',\n",
    " 'matemática discreta e combinatória'], 'otimização',)"
   ]
  },
  {
   "cell_type": "code",
   "execution_count": 315,
   "id": "d1e781a4-b744-4a55-8a93-47cefe072601",
   "metadata": {},
   "outputs": [],
   "source": [
    "data_poscomp = substituir_palavras(data_poscomp, [\n",
    "    'teoria da computação',\n",
    " 'teoria e algoritmos em grafos',\n",
    " 'teoria lógica e métodos formais',\n",
    " 'teoria aplicada computação',\n",
    " 'teoria dos grafos e combinatória',\n",
    " 'teoria dos grafos',\n",
    " 'teoria da computaçãoanálise de algoritmos e complexidade de computação_x000d_otimização',\n",
    "    'linguagens formais e autômatos',\n",
    "    'algoritmos e complexidade computacional'\n",
    "], 'teoria da computação')"
   ]
  },
  {
   "cell_type": "code",
   "execution_count": 316,
   "id": "14c9248d-1097-4d00-9fdb-a31369c605e0",
   "metadata": {},
   "outputs": [],
   "source": [
    "data_poscomp = substituir_palavras(data_poscomp, [\n",
    "    'metodologia e técnicas da computação',\n",
    " 'metodologia e técnicas de computação',\n",
    " 'metodologia da computação',\n",
    " 'metodologias e técnicas de computação',\n",
    " 'metodologia e técnicas de programação',\n",
    " 'metodologia e tecnicas de computação',\n",
    " 'metodologia e técnicas da computaçãoengenharia de software',\n",
    " 'metodologia e técnicas da computaçãolinguagens de programação',\n",
    " 'metodologia e técnicas da computaçãobanco de dadosengenharia de dados e conhecimento',\n",
    " 'metodologia e técnicas da computaçãocomputação gráfica processamento de imagens e visão computacional',\n",
    " 'metodologia e técnicas da computaçãobanco de dados',\n",
    " 'metodologia e técnicas da computaçãoengenharia de softwarefábrica de software'], 'metodologias e técnicas de computação')"
   ]
  },
  {
   "cell_type": "code",
   "execution_count": 317,
   "id": "802bc1af-2b4d-4cdc-be50-ea1ff0038a01",
   "metadata": {},
   "outputs": [],
   "source": [
    "data_poscomp = substituir_palavras(data_poscomp, [\n",
    "    'computação gráfica imagens e visualização',\n",
    " 'computação gráfica',\n",
    " 'computação gráfica processamento de imagens e interação',\n",
    " 'computação gráfica processamento de imagens realidade virtual e interação humano computador',\n",
    " 'computação gráfica e processamento de imagens'], 'computação gráfica')"
   ]
  },
  {
   "cell_type": "code",
   "execution_count": 318,
   "id": "193e3009-7e67-4d62-b0d8-b53bf5a9d52b",
   "metadata": {},
   "outputs": [],
   "source": [
    "data_poscomp = substituir_palavras(data_poscomp, [\n",
    "    'tecnologias aplicadas educação e saúde',\n",
    " 'informática na educação',\n",
    " 'informática educação e sociedade',\n",
    " 'educação em engenharia de software',\n",
    " 'informática e educação',\n",
    " 'inovações tecnológicas para apoiar a educação',\n",
    "'tecnologias educacionais e assistivas',\n",
    " 'elaboração de software educativo e objetos de aprendizagem',\n",
    " 'tecnologias educacionais',\n",
    "'métodos e recursos para o ensino de ciências e tecnologia'], 'informática na educação')"
   ]
  },
  {
   "cell_type": "code",
   "execution_count": 319,
   "id": "50182a53-dd61-4bae-825e-10c5fc043094",
   "metadata": {},
   "outputs": [],
   "source": [
    "data_poscomp = substituir_palavras(data_poscomp, [\n",
    "    'bioinformática',\n",
    " 'bioinformática estrutural',\n",
    " 'biometria',\n",
    " 'bioinformática e computação bioinspirada',\n",
    " 'bioinformática e biologia computacional',\n",
    " 'biologia matemática e computacional',\n",
    " 'biologia computacional'], 'bioinformática')"
   ]
  },
  {
   "cell_type": "code",
   "execution_count": 320,
   "id": "bf108a59-944b-4f42-9494-5a519dd18c9e",
   "metadata": {},
   "outputs": [],
   "source": [
    "data_poscomp = substituir_palavras(data_poscomp, [\n",
    "    'robótica móvel',\n",
    " 'robótica',\n",
    " 'robótica cooperativa',\n",
    " 'robótica e automação inteligentes',\n",
    " 'robótica coletiva',\n",
    " 'robótica visão computacional e processamento gráfico',\n",
    "'automação e robótica'], 'robótica')"
   ]
  },
  {
   "cell_type": "code",
   "execution_count": 321,
   "id": "95e904a9-67e5-4e89-b910-2775fe5ad85c",
   "metadata": {},
   "outputs": [],
   "source": [
    "data_poscomp = substituir_palavras(data_poscomp, [\n",
    "   'modelagem computacional',\n",
    " 'modelagem computacional do sistema solo-planta-animal',\n",
    " 'modelagem e simulação de sistemas',\n",
    " 'modelagem de negócios',\n",
    " 'modelagem matemático computacional e simulação',\n",
    " 'modelagem e métodos computacionais',\n",
    " 'modelagem e simulação',\n",
    " 'modelagem conceitual',\n",
    " 'modelagem e arquitetura',\n",
    " 'modelagem de dados',\n",
    "'modelos e arquiteturas para sistemas inteligentes',\n",
    " 'modelos computacionais e cognitivos'], 'modelagem computacional')"
   ]
  },
  {
   "cell_type": "code",
   "execution_count": 322,
   "id": "7bcceceb-2116-4039-a76c-e22c0cd7108d",
   "metadata": {},
   "outputs": [],
   "source": [
    "data_poscomp = substituir_palavras(data_poscomp, [\n",
    "   'linguagens de programação e banco de dados',\n",
    " 'linguagens de programação',\n",
    " 'linguagem de programação e métodos formais',\n",
    " 'linguagens e ambientes de programação',\n",
    " 'linguagens de programação e sistemas de tipos',\n",
    " 'linguagens de programação e métodos formais'], 'linguagens de programação')"
   ]
  },
  {
   "cell_type": "code",
   "execution_count": 323,
   "id": "913693bf-a9c8-49f2-a438-77ec70d86cad",
   "metadata": {},
   "outputs": [],
   "source": [
    "data_poscomp = substituir_palavras(data_poscomp, [\n",
    "   'visão computacional',\n",
    " 'visão computacional reconhecimento de padrões e computação forense',\n",
    " 'visão e robótica',\n",
    " 'visão computacional e robótica',\n",
    " 'visão computacional realidade virtual e aumentada',\n",
    "'processamento de imagens',\n",
    " 'processamento de imagens e visão computacional',\n",
    " 'processamento de imagens e sinais algoritmos e arquiteturas',\n",
    " 'processamento de imagens e sinais',\n",
    "'processamento gráfico',\n",
    " 'processamento gráfico interação e computação aplicada',\n",
    " 'processamento gráfico e inteligência artificial',\n",
    " 'processamento gráfico aplicado',\n",
    " 'processamento grafico'], 'visão computacional')"
   ]
  },
  {
   "cell_type": "code",
   "execution_count": 324,
   "id": "1f0b8e91-25b6-44c7-be36-53632335c13f",
   "metadata": {},
   "outputs": [],
   "source": [
    "data_poscomp = substituir_palavras(data_poscomp, [\n",
    "   'tecnologias computacionais para agricultura e pecuária',\n",
    " 'agropecuária de precisão',\n",
    " 'desenvolvimento e aplicação de tecnologias computacionais em sistemas agrícolas e de pecuária',\n",
    "'aplicações da computação'], 'aplicações computacionais')"
   ]
  },
  {
   "cell_type": "code",
   "execution_count": 325,
   "id": "e80bc8c8-4ba1-436b-8c24-c2253ef7a460",
   "metadata": {},
   "outputs": [],
   "source": [
    "data_poscomp = substituir_palavras(data_poscomp, [\n",
    "   'computação paralela e distribuída',\n",
    "    'sistemas paralelos e distribuídos',\n",
    " 'algoritmos paralelos e distribuídos'\n",
    "],'processamento paralelo e distribuído')"
   ]
  },
  {
   "cell_type": "code",
   "execution_count": 326,
   "id": "91aaa59e-e894-4a01-ae87-b5185d53cff0",
   "metadata": {},
   "outputs": [],
   "source": [
    "data_poscomp = substituir_palavras(data_poscomp, [\n",
    "  'tecnologia da informação para grandes coorporações',\n",
    " 'gestão da tecnologia da informação'\n",
    "],'tecnologia da informação',)"
   ]
  },
  {
   "cell_type": "code",
   "execution_count": 327,
   "id": "38a05767-d110-4131-a3fc-94e7b6102401",
   "metadata": {},
   "outputs": [],
   "source": [
    "data_poscomp = substituir_palavras(data_poscomp, [\n",
    "  'interfaces humano-computador',\n",
    " 'interação humano-computador',\n",
    " 'realidade virtual e interação humano computador',\n",
    " 'interface humano-computador',\n",
    "'design de artefatos digitais'],'interação humano-computador',)"
   ]
  },
  {
   "cell_type": "code",
   "execution_count": 328,
   "id": "dee5a1b3-0efa-4de6-9037-4de2007adaad",
   "metadata": {},
   "outputs": [
    {
     "name": "stdout",
     "output_type": "stream",
     "text": [
      "ESPECIALIDADE\n",
      "visão computacional                                                137\n",
      "visão computacional e visão computacional                           38\n",
      "visão computacional interação e computação aplicada                 22\n",
      "visão computacional e sinais algoritmos e arquiteturas              20\n",
      "visão computacional e inteligência artificial                       17\n",
      "visão computacional aprendizado de máquina e computação forense     15\n",
      "visão computacional e sinais                                        14\n",
      "visão computacional aplicado                                         2\n",
      "Name: count, dtype: int64\n"
     ]
    },
    {
     "data": {
      "text/plain": [
       "['visão computacional',\n",
       " 'visão computacional aprendizado de máquina e computação forense',\n",
       " 'visão computacional interação e computação aplicada',\n",
       " 'visão computacional e visão computacional',\n",
       " 'visão computacional e inteligência artificial',\n",
       " 'visão computacional e sinais algoritmos e arquiteturas',\n",
       " 'visão computacional aplicado',\n",
       " 'visão computacional e sinais']"
      ]
     },
     "execution_count": 328,
     "metadata": {},
     "output_type": "execute_result"
    }
   ],
   "source": [
    "f = data_poscomp[data_poscomp['ESPECIALIDADE'].str.contains('visão')]\n",
    "print(f['ESPECIALIDADE'].sort_values().value_counts())\n",
    "list(f['ESPECIALIDADE'].unique())"
   ]
  },
  {
   "cell_type": "code",
   "execution_count": 329,
   "id": "029945b9-cf2e-42b9-85ea-7c3b44a57535",
   "metadata": {
    "tags": []
   },
   "outputs": [
    {
     "data": {
      "text/html": [
       "<div>\n",
       "<style scoped>\n",
       "    .dataframe tbody tr th:only-of-type {\n",
       "        vertical-align: middle;\n",
       "    }\n",
       "\n",
       "    .dataframe tbody tr th {\n",
       "        vertical-align: top;\n",
       "    }\n",
       "\n",
       "    .dataframe thead th {\n",
       "        text-align: right;\n",
       "    }\n",
       "</style>\n",
       "<table border=\"1\" class=\"dataframe\">\n",
       "  <thead>\n",
       "    <tr style=\"text-align: right;\">\n",
       "      <th></th>\n",
       "      <th>count</th>\n",
       "    </tr>\n",
       "    <tr>\n",
       "      <th>ESPECIALIDADE</th>\n",
       "      <th></th>\n",
       "    </tr>\n",
       "  </thead>\n",
       "  <tbody>\n",
       "    <tr>\n",
       "      <th>inteligência artificial</th>\n",
       "      <td>2194</td>\n",
       "    </tr>\n",
       "    <tr>\n",
       "      <th>engenharia de software</th>\n",
       "      <td>2001</td>\n",
       "    </tr>\n",
       "    <tr>\n",
       "      <th>sistemas de computação</th>\n",
       "      <td>1412</td>\n",
       "    </tr>\n",
       "    <tr>\n",
       "      <th>sistemas de informação</th>\n",
       "      <td>700</td>\n",
       "    </tr>\n",
       "    <tr>\n",
       "      <th>redes de computadores</th>\n",
       "      <td>631</td>\n",
       "    </tr>\n",
       "    <tr>\n",
       "      <th>banco de dados</th>\n",
       "      <td>569</td>\n",
       "    </tr>\n",
       "    <tr>\n",
       "      <th>computação aplicada</th>\n",
       "      <td>538</td>\n",
       "    </tr>\n",
       "    <tr>\n",
       "      <th>otimização</th>\n",
       "      <td>376</td>\n",
       "    </tr>\n",
       "    <tr>\n",
       "      <th>aprendizado de máquina</th>\n",
       "      <td>359</td>\n",
       "    </tr>\n",
       "    <tr>\n",
       "      <th>ciência computacional</th>\n",
       "      <td>306</td>\n",
       "    </tr>\n",
       "    <tr>\n",
       "      <th>sistemas embarcados</th>\n",
       "      <td>266</td>\n",
       "    </tr>\n",
       "    <tr>\n",
       "      <th>computação visual</th>\n",
       "      <td>254</td>\n",
       "    </tr>\n",
       "    <tr>\n",
       "      <th>sistemas inteligentes</th>\n",
       "      <td>246</td>\n",
       "    </tr>\n",
       "    <tr>\n",
       "      <th>modelagem computacional</th>\n",
       "      <td>241</td>\n",
       "    </tr>\n",
       "    <tr>\n",
       "      <th>sistemas distribuídos</th>\n",
       "      <td>234</td>\n",
       "    </tr>\n",
       "    <tr>\n",
       "      <th>ciência de dados</th>\n",
       "      <td>222</td>\n",
       "    </tr>\n",
       "    <tr>\n",
       "      <th>metodologias e técnicas de computação</th>\n",
       "      <td>216</td>\n",
       "    </tr>\n",
       "    <tr>\n",
       "      <th>informática na educação</th>\n",
       "      <td>168</td>\n",
       "    </tr>\n",
       "    <tr>\n",
       "      <th>tecnologia da informação</th>\n",
       "      <td>165</td>\n",
       "    </tr>\n",
       "    <tr>\n",
       "      <th>processamento paralelo e distribuído</th>\n",
       "      <td>160</td>\n",
       "    </tr>\n",
       "    <tr>\n",
       "      <th>computação gráfica</th>\n",
       "      <td>143</td>\n",
       "    </tr>\n",
       "    <tr>\n",
       "      <th>visão computacional</th>\n",
       "      <td>137</td>\n",
       "    </tr>\n",
       "    <tr>\n",
       "      <th>aplicações computacionais</th>\n",
       "      <td>132</td>\n",
       "    </tr>\n",
       "    <tr>\n",
       "      <th>teoria da computação</th>\n",
       "      <td>127</td>\n",
       "    </tr>\n",
       "    <tr>\n",
       "      <th>arquitetura de sistemas de computação</th>\n",
       "      <td>127</td>\n",
       "    </tr>\n",
       "    <tr>\n",
       "      <th>bioinformática</th>\n",
       "      <td>106</td>\n",
       "    </tr>\n",
       "    <tr>\n",
       "      <th>arquitetura de computadores</th>\n",
       "      <td>87</td>\n",
       "    </tr>\n",
       "    <tr>\n",
       "      <th>robótica</th>\n",
       "      <td>78</td>\n",
       "    </tr>\n",
       "    <tr>\n",
       "      <th>redes e sistemas distribuídos</th>\n",
       "      <td>72</td>\n",
       "    </tr>\n",
       "    <tr>\n",
       "      <th>fundamentos da computação</th>\n",
       "      <td>68</td>\n",
       "    </tr>\n",
       "    <tr>\n",
       "      <th>linguagens de programação</th>\n",
       "      <td>61</td>\n",
       "    </tr>\n",
       "    <tr>\n",
       "      <th>computação científica e aplicada</th>\n",
       "      <td>58</td>\n",
       "    </tr>\n",
       "    <tr>\n",
       "      <th>sistemas de software</th>\n",
       "      <td>54</td>\n",
       "    </tr>\n",
       "    <tr>\n",
       "      <th>gestão da informação</th>\n",
       "      <td>52</td>\n",
       "    </tr>\n",
       "    <tr>\n",
       "      <th>interação humano-computador</th>\n",
       "      <td>52</td>\n",
       "    </tr>\n",
       "    <tr>\n",
       "      <th>segurança de dados e criptografia</th>\n",
       "      <td>45</td>\n",
       "    </tr>\n",
       "    <tr>\n",
       "      <th>visão computacional e visão computacional</th>\n",
       "      <td>38</td>\n",
       "    </tr>\n",
       "    <tr>\n",
       "      <th>computação de alto desempenho</th>\n",
       "      <td>36</td>\n",
       "    </tr>\n",
       "    <tr>\n",
       "      <th>segurança e criptografia aplicada</th>\n",
       "      <td>28</td>\n",
       "    </tr>\n",
       "    <tr>\n",
       "      <th>fundamentos de computação</th>\n",
       "      <td>28</td>\n",
       "    </tr>\n",
       "    <tr>\n",
       "      <th>projeto de redes e segurança de dados</th>\n",
       "      <td>24</td>\n",
       "    </tr>\n",
       "    <tr>\n",
       "      <th>engenharia da informação</th>\n",
       "      <td>23</td>\n",
       "    </tr>\n",
       "    <tr>\n",
       "      <th>visão computacional interação e computação aplicada</th>\n",
       "      <td>22</td>\n",
       "    </tr>\n",
       "    <tr>\n",
       "      <th>fundamentos e métodos de computação</th>\n",
       "      <td>20</td>\n",
       "    </tr>\n",
       "    <tr>\n",
       "      <th>arquitetura e sistemas de computação</th>\n",
       "      <td>20</td>\n",
       "    </tr>\n",
       "    <tr>\n",
       "      <th>visão computacional e sinais algoritmos e arquiteturas</th>\n",
       "      <td>20</td>\n",
       "    </tr>\n",
       "    <tr>\n",
       "      <th>infraestrutura de ti</th>\n",
       "      <td>19</td>\n",
       "    </tr>\n",
       "    <tr>\n",
       "      <th>visão computacional e inteligência artificial</th>\n",
       "      <td>17</td>\n",
       "    </tr>\n",
       "    <tr>\n",
       "      <th>segurança computacional</th>\n",
       "      <td>17</td>\n",
       "    </tr>\n",
       "    <tr>\n",
       "      <th>projeto de sistemas eletrônicos e computacionais</th>\n",
       "      <td>16</td>\n",
       "    </tr>\n",
       "    <tr>\n",
       "      <th>teoria</th>\n",
       "      <td>15</td>\n",
       "    </tr>\n",
       "    <tr>\n",
       "      <th>visão computacional aprendizado de máquina e computação forense</th>\n",
       "      <td>15</td>\n",
       "    </tr>\n",
       "    <tr>\n",
       "      <th>visão computacional e sinais</th>\n",
       "      <td>14</td>\n",
       "    </tr>\n",
       "    <tr>\n",
       "      <th>sistemas web e multimídia interativos</th>\n",
       "      <td>14</td>\n",
       "    </tr>\n",
       "    <tr>\n",
       "      <th>algoritmos experimentais</th>\n",
       "      <td>14</td>\n",
       "    </tr>\n",
       "    <tr>\n",
       "      <th>análise de algoritmos</th>\n",
       "      <td>14</td>\n",
       "    </tr>\n",
       "    <tr>\n",
       "      <th>microeletrônica</th>\n",
       "      <td>13</td>\n",
       "    </tr>\n",
       "    <tr>\n",
       "      <th>desenvolvimento de jogos digitais</th>\n",
       "      <td>13</td>\n",
       "    </tr>\n",
       "    <tr>\n",
       "      <th>algoritmos</th>\n",
       "      <td>11</td>\n",
       "    </tr>\n",
       "    <tr>\n",
       "      <th>teoria dos otimização</th>\n",
       "      <td>11</td>\n",
       "    </tr>\n",
       "  </tbody>\n",
       "</table>\n",
       "</div>"
      ],
      "text/plain": [
       "                                                    count\n",
       "ESPECIALIDADE                                            \n",
       "inteligência artificial                              2194\n",
       "engenharia de software                               2001\n",
       "sistemas de computação                               1412\n",
       "sistemas de informação                                700\n",
       "redes de computadores                                 631\n",
       "banco de dados                                        569\n",
       "computação aplicada                                   538\n",
       "otimização                                            376\n",
       "aprendizado de máquina                                359\n",
       "ciência computacional                                 306\n",
       "sistemas embarcados                                   266\n",
       "computação visual                                     254\n",
       "sistemas inteligentes                                 246\n",
       "modelagem computacional                               241\n",
       "sistemas distribuídos                                 234\n",
       "ciência de dados                                      222\n",
       "metodologias e técnicas de computação                 216\n",
       "informática na educação                               168\n",
       "tecnologia da informação                              165\n",
       "processamento paralelo e distribuído                  160\n",
       "computação gráfica                                    143\n",
       "visão computacional                                   137\n",
       "aplicações computacionais                             132\n",
       "teoria da computação                                  127\n",
       "arquitetura de sistemas de computação                 127\n",
       "bioinformática                                        106\n",
       "arquitetura de computadores                            87\n",
       "robótica                                               78\n",
       "redes e sistemas distribuídos                          72\n",
       "fundamentos da computação                              68\n",
       "linguagens de programação                              61\n",
       "computação científica e aplicada                       58\n",
       "sistemas de software                                   54\n",
       "gestão da informação                                   52\n",
       "interação humano-computador                            52\n",
       "segurança de dados e criptografia                      45\n",
       "visão computacional e visão computacional              38\n",
       "computação de alto desempenho                          36\n",
       "segurança e criptografia aplicada                      28\n",
       "fundamentos de computação                              28\n",
       "projeto de redes e segurança de dados                  24\n",
       "engenharia da informação                               23\n",
       "visão computacional interação e computação apli...     22\n",
       "fundamentos e métodos de computação                    20\n",
       "arquitetura e sistemas de computação                   20\n",
       "visão computacional e sinais algoritmos e arqui...     20\n",
       "infraestrutura de ti                                   19\n",
       "visão computacional e inteligência artificial          17\n",
       "segurança computacional                                17\n",
       "projeto de sistemas eletrônicos e computacionais       16\n",
       "teoria                                                 15\n",
       "visão computacional aprendizado de máquina e co...     15\n",
       "visão computacional e sinais                           14\n",
       "sistemas web e multimídia interativos                  14\n",
       "algoritmos experimentais                               14\n",
       "análise de algoritmos                                  14\n",
       "microeletrônica                                        13\n",
       "desenvolvimento de jogos digitais                      13\n",
       "algoritmos                                             11\n",
       "teoria dos otimização                                  11"
      ]
     },
     "execution_count": 329,
     "metadata": {},
     "output_type": "execute_result"
    }
   ],
   "source": [
    "especialidades = data_poscomp['ESPECIALIDADE'].value_counts()\n",
    "especialidades = pd.DataFrame(especialidades)\n",
    "especialidades.head(60)"
   ]
  },
  {
   "cell_type": "code",
   "execution_count": 331,
   "id": "2dbe6754-d1fc-4970-90d2-c6429be8ccce",
   "metadata": {},
   "outputs": [
    {
     "data": {
      "text/plain": [
       "ESPECIALIDADE\n",
       "inteligência artificial                  2194\n",
       "engenharia de software                   2001\n",
       "Outras Áreas                             1446\n",
       "sistemas de computação                   1412\n",
       "sistemas de informação                    700\n",
       "redes de computadores                     631\n",
       "banco de dados                            569\n",
       "computação aplicada                       538\n",
       "otimização                                376\n",
       "aprendizado de máquina                    359\n",
       "ciência computacional                     306\n",
       "sistemas embarcados                       266\n",
       "computação visual                         254\n",
       "sistemas inteligentes                     246\n",
       "modelagem computacional                   241\n",
       "sistemas distribuídos                     234\n",
       "ciência de dados                          222\n",
       "metodologias e técnicas de computação     216\n",
       "informática na educação                   168\n",
       "tecnologia da informação                  165\n",
       "processamento paralelo e distribuído      160\n",
       "computação gráfica                        143\n",
       "visão computacional                       137\n",
       "aplicações computacionais                 132\n",
       "arquitetura de sistemas de computação     127\n",
       "teoria da computação                      127\n",
       "bioinformática                            106\n",
       "Name: count, dtype: int64"
      ]
     },
     "execution_count": 331,
     "metadata": {},
     "output_type": "execute_result"
    }
   ],
   "source": [
    "df = data_poscomp.copy()\n",
    "\n",
    "contagem_valores = df['ESPECIALIDADE'].value_counts()\n",
    "\n",
    "# Identifica valores que ocorrem menos de 100 vezes\n",
    "valores_a_renomear = contagem_valores[contagem_valores < 100].index\n",
    "\n",
    "# Define o novo valor (categoria) para as áreas com contagem menor que 100\n",
    "novo_valor = 'Outras Áreas'\n",
    "\n",
    "# Renomeia as áreas com contagem menor que 100 para 'Outras Áreas'\n",
    "df.loc[df['ESPECIALIDADE'].isin(valores_a_renomear), 'ESPECIALIDADE'] = novo_valor\n",
    "\n",
    "# Agora, as áreas com contagem menor que 100 foram renomeadas para 'Outras Áreas'\n",
    "df.ESPECIALIDADE.value_counts()"
   ]
  },
  {
   "cell_type": "code",
   "execution_count": null,
   "id": "3bcc5263-8bfa-42a3-a6e3-bdb5f2673c66",
   "metadata": {},
   "outputs": [],
   "source": [
    "df.shape"
   ]
  },
  {
   "cell_type": "code",
   "execution_count": null,
   "id": "1397f2db-99d9-4574-9997-a45b8e73f1c0",
   "metadata": {},
   "outputs": [],
   "source": [
    "df.ESPECIALIDADE.value_counts()"
   ]
  },
  {
   "cell_type": "code",
   "execution_count": null,
   "id": "fbc29b2f-02ab-40ed-8be3-f7291835ca79",
   "metadata": {
    "tags": []
   },
   "outputs": [],
   "source": [
    "# plt.figure(figsize=(14, 10))\n",
    "\n",
    "# # plot a bar chart\n",
    "# sns.barplot(\n",
    "#     y=\"ESPECIALIDADE\", \n",
    "#     x=especialidades.index, \n",
    "#     data=especialidades, \n",
    "#     color='#69b3a2', \n",
    "# );\n",
    "# plt.xticks(rotation=45);\n",
    "# # plt.savefig('espec.png', dpi = 300, bbox_inches='tight')"
   ]
  },
  {
   "cell_type": "code",
   "execution_count": null,
   "id": "1301efb0-a6ce-4293-8fbd-c96e99a76761",
   "metadata": {
    "tags": []
   },
   "outputs": [],
   "source": [
    "# # Libraries\n",
    "# from wordcloud import WordCloud, STOPWORDS, ImageColorGenerator\n",
    "# import matplotlib.pyplot as plt\n",
    "# import string\n",
    "\n",
    "# text = data_poscomp['ESPECIALIDADE'].value_counts()\n",
    "# text = text.to_dict()\n",
    "\n",
    "# stopwords = set(['o', 'a', 'e', 'é', 'de', 'da', 'do', 'para', ' e'])\n",
    "\n",
    "# # Create the wordcloud object\n",
    "# wordcloud2 = WordCloud(background_color=\"white\",\n",
    "#                        # random_state=1, \n",
    "#                        min_word_length=3,\n",
    "#                         width=4000, height=2000,\n",
    "#                         stopwords=stopwords\n",
    "#                        ).generate_from_frequencies(text)\n",
    "# # WordCloud.generate_from_frequencies\n",
    "\n",
    "# # Display the generated image:\n",
    "# plt.imshow(wordcloud2, interpolation=\"bilinear\")\n",
    "# plt.axis(\"off\")\n",
    "# # plt.margins(x=0, y=0)\n",
    "# plt.savefig('imagens/nuvem_palavras.eps', format='eps', dpi = 300, bbox_inches='tight')\n",
    "# plt.show()"
   ]
  },
  {
   "cell_type": "code",
   "execution_count": null,
   "id": "87d97acb-15e6-410b-9d69-acbd4777fcb9",
   "metadata": {
    "tags": []
   },
   "outputs": [],
   "source": [
    "# import pandas as pd\n",
    "\n",
    "# # Agrupa os dados por estado e conta a ocorrência de cada área\n",
    "# contagem_areas = data_poscomp.groupby(['ESTADO', 'ESPECIALIDADE']).size().reset_index(name='CONTAGEM')\n",
    "\n",
    "# # Ordena os dados por estado e contagem em ordem decrescente\n",
    "# contagem_areas = contagem_areas.sort_values(['ESTADO', 'CONTAGEM'], ascending=[True, False])\n",
    "\n",
    "# # Obtém a área mais frequente para cada estado\n",
    "# areas_mais_frequentes = contagem_areas.groupby('ESTADO').first().reset_index()\n",
    "\n",
    "# # Exibe o resultado\n",
    "# print(areas_mais_frequentes)"
   ]
  },
  {
   "cell_type": "code",
   "execution_count": null,
   "id": "0410d4f1-258d-4a67-8a59-ca9d17496057",
   "metadata": {
    "tags": []
   },
   "outputs": [],
   "source": [
    "# # Agrupa os dados por estado e conta a ocorrência de cada área\n",
    "# contagem_areas = data_poscomp.groupby(['ESTADO', 'ESPECIALIDADE']).size().reset_index(name='CONTAGEM')\n",
    "\n",
    "# # Obtém a área mais frequente para cada estado\n",
    "# areas_mais_frequentes = contagem_areas.sort_values('CONTAGEM', ascending=False).drop_duplicates('ESTADO')\n",
    "\n",
    "# # Ordena os dados por contagem em ordem decrescente\n",
    "# areas_mais_frequentes = areas_mais_frequentes.sort_values('CONTAGEM', ascending=False)\n",
    "\n",
    "# # Plota o gráfico de barras\n",
    "# plt.figure(figsize=(14, 7))\n",
    "# ax = sns.barplot(data=areas_mais_frequentes, x='ESTADO', y='CONTAGEM', hue='ESPECIALIDADE',dodge=False )\n",
    "\n",
    "# for p in ax.patches:\n",
    "#     if not math.isnan(p.get_height()):\n",
    "#         ax.annotate(int(p.get_height()),\n",
    "#                     xy=(p.get_x() + p.get_width() / 2, p.get_height()),\n",
    "#                     xytext=(0, 1),\n",
    "#                     textcoords='offset points',\n",
    "#                     ha='center',\n",
    "#                     va='bottom',\n",
    "#                     fontsize=18)\n",
    "\n",
    "# ax.set_xlabel('Unidade Federativas', fontsize=18)\n",
    "# ax.set_ylabel('Contagem', fontsize=18)\n",
    "# # ax.set_title('Área mais Frequente por Estado', fontsize=16)\n",
    "# ax.tick_params(axis='x', labelsize=18)\n",
    "# ax.tick_params(axis='y', labelsize=18)\n",
    "# legend = plt.legend(title='Linhas de pesquisas', fontsize=16, loc='upper right')\n",
    "# legend.get_title().set_fontsize(18)\n",
    "# plt.tight_layout()\n",
    "# plt.savefig('imagens/especialidade_frequenteEstado.eps', format='eps', dpi = 600, bbox_inches='tight')\n",
    "# plt.show()"
   ]
  },
  {
   "cell_type": "code",
   "execution_count": null,
   "id": "edf34a30-2388-4c62-bb92-7122aebc1f16",
   "metadata": {
    "tags": []
   },
   "outputs": [],
   "source": [
    "# plt.figure(figsize=(18,10))\n",
    "# sns.set_style(style='ticks')\n",
    "# ax = sns.barplot(data=areas_mais_frequentes.sort_values(['candidatos'], ascending=False),\n",
    "#             y='candidatos',\n",
    "#             x='ESTADO',\n",
    "#             hue='REGIAO',\n",
    "#             dodge=False,\n",
    "#             # color='hsv'\n",
    "#            )\n",
    "# for p in ax.patches:\n",
    "#     if not math.isnan(p.get_height()):\n",
    "#         ax.annotate(int(p.get_height()),\n",
    "#                     xy=(p.get_x() + p.get_width() / 2, p.get_height()),\n",
    "#                     xytext=(0, 5),\n",
    "#                     textcoords='offset points',\n",
    "#                     ha='center',\n",
    "#                     va='bottom',\n",
    "#                     fontsize=16)\n",
    "# plt.xlabel('Unidade Federativa', fontsize=18)\n",
    "# plt.ylabel('Quantidade de participantes', fontsize=18)\n",
    "# plt.xticks(fontsize=15)\n",
    "# plt.yticks(fontsize=15)\n",
    "# legend = plt.legend(title='Região', fontsize=16)\n",
    "# legend.get_title().set_fontsize(18)\n",
    "# # plt.savefig('imagens/inscritos2.eps', dpi=600, bbox_inches='tight')\n",
    "# plt.show()"
   ]
  },
  {
   "cell_type": "markdown",
   "id": "aaf1b248-9397-4349-9bfd-68d19293a011",
   "metadata": {
    "tags": []
   },
   "source": [
    "### Salvar os dados"
   ]
  },
  {
   "cell_type": "code",
   "execution_count": 332,
   "id": "3656389d-5b19-47a2-a560-b8443e02680c",
   "metadata": {},
   "outputs": [],
   "source": [
    "df.to_csv('dados/dataset_poscomp.csv', index=False)"
   ]
  }
 ],
 "metadata": {
  "kernelspec": {
   "display_name": "Python 3 (ipykernel)",
   "language": "python",
   "name": "python3"
  },
  "language_info": {
   "codemirror_mode": {
    "name": "ipython",
    "version": 3
   },
   "file_extension": ".py",
   "mimetype": "text/x-python",
   "name": "python",
   "nbconvert_exporter": "python",
   "pygments_lexer": "ipython3",
   "version": "3.9.12"
  }
 },
 "nbformat": 4,
 "nbformat_minor": 5
}
