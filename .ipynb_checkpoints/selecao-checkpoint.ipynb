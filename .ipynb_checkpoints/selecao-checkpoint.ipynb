{
 "cells": [
  {
   "cell_type": "markdown",
   "id": "39492b9d-538f-4854-a211-e64c18f1ad04",
   "metadata": {},
   "source": [
    "### Importar as bibliotecas"
   ]
  },
  {
   "cell_type": "code",
   "execution_count": 1,
   "id": "e7ce8f45-8920-49bb-b6c7-8685f29da238",
   "metadata": {},
   "outputs": [],
   "source": [
    "import pandas as pd\n",
    "import numpy as np\n",
    "import matplotlib.pyplot as plt\n",
    "import import_ipynb"
   ]
  },
  {
   "cell_type": "markdown",
   "id": "43631144-5d34-46cf-91f5-7c049ded7b90",
   "metadata": {
    "jp-MarkdownHeadingCollapsed": true,
    "tags": []
   },
   "source": [
    "## Dados de respostas"
   ]
  },
  {
   "cell_type": "code",
   "execution_count": 2,
   "id": "3178c8bd-78fd-4a78-9e37-ad55dee916de",
   "metadata": {},
   "outputs": [],
   "source": [
    "# Carregar os dados das respostas do POSCOMP 2016\n",
    "dados_respostas_2016 = pd.read_csv('dados/respostas_poscomp/exportacao_respostas_poscomp_2016.csv', sep=';', encoding='utf-8')\n",
    "dados_respostas_2017 = pd.read_csv('dados/respostas_poscomp/exportacao_respostas_poscomp_2017.csv', sep=';', encoding='utf-8')\n",
    "dados_respostas_2018 = pd.read_csv('dados/respostas_poscomp/exportacao_respostas_poscomp_2018.csv', sep=';', encoding='utf-8')\n",
    "dados_respostas_2019 = pd.read_csv('dados/respostas_poscomp/exportacao_respostas_poscomp_2019.csv', sep=';', encoding='utf-8')"
   ]
  },
  {
   "cell_type": "code",
   "execution_count": 3,
   "id": "b0c92e8a-18ea-4656-a5ea-0f0fc3e3d2b9",
   "metadata": {},
   "outputs": [],
   "source": [
    "# Acrescentar o ano nos dataframe\n",
    "dados_respostas_2016 = dados_respostas_2016.assign(ANO='2016')\n",
    "dados_respostas_2017 = dados_respostas_2017.assign(ANO='2017')\n",
    "dados_respostas_2018 = dados_respostas_2018.assign(ANO='2018')\n",
    "dados_respostas_2019 = dados_respostas_2019.assign(ANO='2019')"
   ]
  },
  {
   "cell_type": "code",
   "execution_count": 4,
   "id": "e0877450-f8d4-4008-a975-66a1752c703d",
   "metadata": {},
   "outputs": [],
   "source": [
    "# Unir as tabelas de dados_respostas de todos os anos\n",
    "dados_respostas = pd.concat([dados_respostas_2016, dados_respostas_2017, dados_respostas_2018, dados_respostas_2019], axis=0)\n",
    "dados_respostas = dados_respostas.drop(columns=['NOME CANDIDATO','SALA', 'NUM'])"
   ]
  },
  {
   "cell_type": "code",
   "execution_count": 5,
   "id": "a2fccd00-1cf3-467a-a2cb-460ef871eb10",
   "metadata": {},
   "outputs": [
    {
     "data": {
      "text/plain": [
       "(array([4219.,    0.,    0., 4017.,    0.,    0., 3447.,    0.,    0.,\n",
       "        2892.]),\n",
       " array([0. , 0.3, 0.6, 0.9, 1.2, 1.5, 1.8, 2.1, 2.4, 2.7, 3. ]),\n",
       " <BarContainer object of 10 artists>)"
      ]
     },
     "execution_count": 5,
     "metadata": {},
     "output_type": "execute_result"
    },
    {
     "data": {
      "image/png": "[encoded data removed]",
      "text/plain": [
       "<Figure size 432x288 with 1 Axes>"
      ]
     },
     "metadata": {
      "needs_background": "light"
     },
     "output_type": "display_data"
    }
   ],
   "source": [
    "plt.hist(dados_respostas['ANO'])"
   ]
  },
  {
   "cell_type": "code",
   "execution_count": 6,
   "id": "155f8b0e-5dba-4cf5-86a6-b3094115ee62",
   "metadata": {},
   "outputs": [
    {
     "data": {
      "text/plain": [
       "(array([11829.,     0.,     0.,     0.,     0.,     0.,     0.,     0.,\n",
       "            0.,  2746.]),\n",
       " array([0. , 0.1, 0.2, 0.3, 0.4, 0.5, 0.6, 0.7, 0.8, 0.9, 1. ]),\n",
       " <BarContainer object of 10 artists>)"
      ]
     },
     "execution_count": 6,
     "metadata": {},
     "output_type": "execute_result"
    },
    {
     "data": {
      "image/png": "[encoded data removed]",
      "text/plain": [
       "<Figure size 432x288 with 1 Axes>"
      ]
     },
     "metadata": {
      "needs_background": "light"
     },
     "output_type": "display_data"
    }
   ],
   "source": [
    "plt.hist(dados_respostas['SITUAÇÃO'])"
   ]
  },
  {
   "cell_type": "code",
   "execution_count": 7,
   "id": "d2c9da08-f5a7-4f58-9bb1-17a13180047a",
   "metadata": {},
   "outputs": [
    {
     "data": {
      "image/png": "[encoded data removed]",
      "text/plain": [
       "<Figure size 432x288 with 1 Axes>"
      ]
     },
     "metadata": {
      "needs_background": "light"
     },
     "output_type": "display_data"
    }
   ],
   "source": [
    "fig, ax = plt.subplots()\n",
    "\n",
    "ano = ['2016', '2017', '2018', '2019']\n",
    "bar_labels = ['red', 'blue', '_red', 'orange']\n",
    "bar_colors = ['tab:red', 'tab:blue', 'tab:red', 'tab:orange']\n",
    "\n",
    "ax.bar(ano, dados_respostas['ANO'].value_counts(), label=bar_labels, color=bar_colors)\n",
    "\n",
    "ax.set_ylabel('quantidade de candidatos')\n",
    "ax.set_title('Frequência dos candidatos por ano')\n",
    "ax.legend(title='Anos')\n",
    "\n",
    "plt.show()"
   ]
  },
  {
   "cell_type": "markdown",
   "id": "fa328b2a-deed-4b57-8b2a-3400222b9062",
   "metadata": {
    "tags": []
   },
   "source": [
    "## Dados de Homologação"
   ]
  },
  {
   "cell_type": "code",
   "execution_count": 8,
   "id": "5ce5971c-6190-4eba-a4f9-2dd969ac9764",
   "metadata": {},
   "outputs": [],
   "source": [
    "dados_homologados_2016 = pd.read_csv(\"dados/homologação_poscomp/homologados_dados_contatos_poscomp_2016.csv\", sep=';', encoding='utf-8')\n",
    "dados_homologados_2017 = pd.read_csv(\"dados/homologação_poscomp/homologados_dados_contatos_poscomp_2017.csv\", sep=';', encoding='utf-8')\n",
    "dados_homologados_2018 = pd.read_csv(\"dados/homologação_poscomp/homologados_dados_contatos_poscomp_2018.csv\", sep=';', encoding='utf-8')\n",
    "dados_homologados_2019 = pd.read_csv(\"dados/homologação_poscomp/homologados_dados_contatos_poscomp_2019.csv\", sep=';', encoding='utf-8')"
   ]
  },
  {
   "cell_type": "code",
   "execution_count": 9,
   "id": "f1c67a31-3a2e-42f9-b7f0-7cbebb41e5ee",
   "metadata": {},
   "outputs": [],
   "source": [
    "dados_homologados_2016 = dados_homologados_2016.assign(ANO='2016')\n",
    "dados_homologados_2017 = dados_homologados_2017.assign(ANO='2017')\n",
    "dados_homologados_2018 = dados_homologados_2018.assign(ANO='2018')\n",
    "dados_homologados_2019 = dados_homologados_2019.assign(ANO='2019')"
   ]
  },
  {
   "cell_type": "code",
   "execution_count": 10,
   "id": "556fb21c-623e-4347-8065-07f95bc51edd",
   "metadata": {
    "tags": []
   },
   "outputs": [],
   "source": [
    "dados_homologados = pd.concat([dados_homologados_2016, dados_homologados_2017, dados_homologados_2018, dados_homologados_2019], axis=0)\n",
    "dados_homologados = dados_homologados.drop(columns=['NOME','CPF', 'DATA NASC.', 'TIPO DE DOCUMENTO', 'DOCUMENTO','NOME DO PAI', \n",
    "                                                    'NOME DA MÃE', 'EMAIL', 'DDD', 'FONE', 'DDD CEL', 'CELULAR', 'SENHA', 'DATA INSCRIÇÃO',\n",
    "                                                    'DEFICIENTE', 'NECESSIDADES ESPECIAIS', 'DESCRICAO DA NECESSIDADE', 'ESTRANGEIRO', \n",
    "                                                    'DS CARGO', 'COMPL.', 'ENDERECO.', 'BAIRRO', 'CEP', 'NUMERO'])"
   ]
  },
  {
   "cell_type": "code",
   "execution_count": 11,
   "id": "fb6e255d-efc2-4ef5-955e-7ff59284551c",
   "metadata": {},
   "outputs": [],
   "source": [
    "dados_homologados = dados_homologados.set_index('INSCRICAO')"
   ]
  },
  {
   "cell_type": "code",
   "execution_count": 12,
   "id": "0a4db5e6-9e17-4c9e-ae92-151d69ce5e0a",
   "metadata": {},
   "outputs": [
    {
     "data": {
      "text/html": [
       "<div>\n",
       "<style scoped>\n",
       "    .dataframe tbody tr th:only-of-type {\n",
       "        vertical-align: middle;\n",
       "    }\n",
       "\n",
       "    .dataframe tbody tr th {\n",
       "        vertical-align: top;\n",
       "    }\n",
       "\n",
       "    .dataframe thead th {\n",
       "        text-align: right;\n",
       "    }\n",
       "</style>\n",
       "<table border=\"1\" class=\"dataframe\">\n",
       "  <thead>\n",
       "    <tr style=\"text-align: right;\">\n",
       "      <th></th>\n",
       "      <th>SEXO</th>\n",
       "      <th>CIDADE</th>\n",
       "      <th>ESTADO</th>\n",
       "      <th>CARGO</th>\n",
       "      <th>CÓDIGO</th>\n",
       "      <th>LOCAL DE PROVA</th>\n",
       "      <th>ANO</th>\n",
       "    </tr>\n",
       "    <tr>\n",
       "      <th>INSCRICAO</th>\n",
       "      <th></th>\n",
       "      <th></th>\n",
       "      <th></th>\n",
       "      <th></th>\n",
       "      <th></th>\n",
       "      <th></th>\n",
       "      <th></th>\n",
       "    </tr>\n",
       "  </thead>\n",
       "  <tbody>\n",
       "    <tr>\n",
       "      <th>miamia</th>\n",
       "      <td>M</td>\n",
       "      <td>Messejana</td>\n",
       "      <td>Fortaleza</td>\n",
       "      <td>01/08/2019 23:19</td>\n",
       "      <td>1-Mestrado/Doutorado</td>\n",
       "      <td>NaN</td>\n",
       "      <td>2019</td>\n",
       "    </tr>\n",
       "  </tbody>\n",
       "</table>\n",
       "</div>"
      ],
      "text/plain": [
       "          SEXO     CIDADE     ESTADO             CARGO                CÓDIGO  \\\n",
       "INSCRICAO                                                                      \n",
       "miamia       M  Messejana  Fortaleza  01/08/2019 23:19  1-Mestrado/Doutorado   \n",
       "\n",
       "          LOCAL DE PROVA   ANO  \n",
       "INSCRICAO                       \n",
       "miamia               NaN  2019  "
      ]
     },
     "execution_count": 12,
     "metadata": {},
     "output_type": "execute_result"
    }
   ],
   "source": [
    "dados_homologados[dados_homologados['CARGO'] == '01/08/2019 23:19']"
   ]
  },
  {
   "cell_type": "code",
   "execution_count": 13,
   "id": "ecba764b-370a-40d3-9031-259bcb8b0ade",
   "metadata": {},
   "outputs": [],
   "source": [
    "dados_homologados.drop(['688145', 'miamia'], inplace=True)"
   ]
  },
  {
   "cell_type": "code",
   "execution_count": 14,
   "id": "0515284e-3aab-430e-b27c-d08cd7293ad5",
   "metadata": {},
   "outputs": [
    {
     "data": {
      "text/plain": [
       "(array([13700.,     0.,     0.,     0.,     0.,     0.,     0.,     0.,\n",
       "            0.,   873.]),\n",
       " array([0. , 0.1, 0.2, 0.3, 0.4, 0.5, 0.6, 0.7, 0.8, 0.9, 1. ]),\n",
       " <BarContainer object of 10 artists>)"
      ]
     },
     "execution_count": 14,
     "metadata": {},
     "output_type": "execute_result"
    },
    {
     "data": {
      "image/png": "[encoded data removed]",
      "text/plain": [
       "<Figure size 432x288 with 1 Axes>"
      ]
     },
     "metadata": {
      "needs_background": "light"
     },
     "output_type": "display_data"
    }
   ],
   "source": [
    "plt.hist(dados_homologados['CARGO'])"
   ]
  },
  {
   "cell_type": "markdown",
   "id": "91edac3f-7386-43a6-bf35-14f839757769",
   "metadata": {
    "tags": []
   },
   "source": [
    "## Notas das respostas"
   ]
  },
  {
   "cell_type": "markdown",
   "id": "2dcd4e6b-ee2e-4e36-b7e5-ad1b33c72bd7",
   "metadata": {},
   "source": [
    "#### Base de 2016 a 2019"
   ]
  },
  {
   "cell_type": "code",
   "execution_count": 15,
   "id": "faf1ac4a-12f3-491d-a71d-3904659b56db",
   "metadata": {},
   "outputs": [
    {
     "name": "stdout",
     "output_type": "stream",
     "text": [
      "importing Jupyter notebook from C:\\Users\\jeanc\\Documentos\\Projeto de pesquisa mestrado\\project_dataScience_POSCOMP\\services\\listasColunas.ipynb\n",
      "importing Jupyter notebook from C:\\Users\\jeanc\\Documentos\\Projeto de pesquisa mestrado\\project_dataScience_POSCOMP\\services\\alterarColunas.ipynb\n"
     ]
    }
   ],
   "source": [
    "import services.listasColunas as lc\n",
    "import services.alterarColunas as altc"
   ]
  },
  {
   "cell_type": "code",
   "execution_count": 16,
   "id": "7adacf8a-f135-4daf-b8dc-c94223f9a4d3",
   "metadata": {},
   "outputs": [],
   "source": [
    "dados_notasRespostas_2016 = pd.read_csv(\"dados/notas_poscomp/Notas_poscomp_2016.csv\", sep=';', encoding='utf-8')\n",
    "dados_notasRespostas_2017 = pd.read_csv(\"dados/notas_poscomp/Notas_poscomp_2017.csv\", sep=';', encoding='utf-8')\n",
    "dados_notasRespostas_2018 = pd.read_csv(\"dados/notas_poscomp/Notas_poscomp_2018.csv\", sep=';', encoding='utf-8')\n",
    "dados_notasRespostas_2019 = pd.read_csv(\"dados/notas_poscomp/Notas_poscomp_2019.csv\", sep=';', encoding='utf-8')"
   ]
  },
  {
   "cell_type": "code",
   "execution_count": 17,
   "id": "790e0eef-06aa-467b-9660-7989cfddc6ad",
   "metadata": {},
   "outputs": [],
   "source": [
    "dados_notasRespostas_2016 = dados_notasRespostas_2016.assign(ANO='2016')\n",
    "dados_notasRespostas_2017 = dados_notasRespostas_2017.assign(ANO='2017')\n",
    "dados_notasRespostas_2018 = dados_notasRespostas_2018.assign(ANO='2018')\n",
    "dados_notasRespostas_2019 = dados_notasRespostas_2019.assign(ANO='2019')"
   ]
  },
  {
   "cell_type": "code",
   "execution_count": 18,
   "id": "7c666690-a80e-46c3-bc24-0fec4a3630d2",
   "metadata": {},
   "outputs": [],
   "source": [
    "dados_notasRespostas_2016 = dados_notasRespostas_2016[lc.lista_2016]\n",
    "dados_notasRespostas_2017 = dados_notasRespostas_2017[lc.lista_2017]\n",
    "dados_notasRespostas_2018 = dados_notasRespostas_2018[lc.lista_2018]\n",
    "dados_notasRespostas_2019 = dados_notasRespostas_2019[lc.lista_2019]"
   ]
  },
  {
   "cell_type": "code",
   "execution_count": 19,
   "id": "6d095162-4ca7-4ba1-a8cd-c4200978261f",
   "metadata": {},
   "outputs": [],
   "source": [
    "dados_notasRespostas_2016 = dados_notasRespostas_2016.rename(columns=altc.alteraColunas_2016)\n",
    "dados_notasRespostas_2017 = dados_notasRespostas_2017.rename(columns=altc.alteraColunas_2017)\n",
    "dados_notasRespostas_2018 = dados_notasRespostas_2018.rename(columns=altc.alteraColunas_2018)\n",
    "dados_notasRespostas_2019 = dados_notasRespostas_2019.rename(columns=altc.alteraColunas_2019)"
   ]
  },
  {
   "cell_type": "code",
   "execution_count": 20,
   "id": "378e6259-adf5-4026-aa78-525e64d1b4cc",
   "metadata": {},
   "outputs": [],
   "source": [
    "dados_notasRespostas = pd.concat([dados_notasRespostas_2016, dados_notasRespostas_2017, dados_notasRespostas_2018, dados_notasRespostas_2019], axis=0)"
   ]
  },
  {
   "cell_type": "code",
   "execution_count": 21,
   "id": "21e5ab97-2811-4d97-b474-39e0df2fd453",
   "metadata": {},
   "outputs": [
    {
     "data": {
      "text/html": [
       "<div>\n",
       "<style scoped>\n",
       "    .dataframe tbody tr th:only-of-type {\n",
       "        vertical-align: middle;\n",
       "    }\n",
       "\n",
       "    .dataframe tbody tr th {\n",
       "        vertical-align: top;\n",
       "    }\n",
       "\n",
       "    .dataframe thead th {\n",
       "        text-align: right;\n",
       "    }\n",
       "</style>\n",
       "<table border=\"1\" class=\"dataframe\">\n",
       "  <thead>\n",
       "    <tr style=\"text-align: right;\">\n",
       "      <th></th>\n",
       "      <th>COD CARGO</th>\n",
       "      <th>CARGO</th>\n",
       "      <th>CÓD. ESPECIALIDADE</th>\n",
       "      <th>ESPECIALIDADE</th>\n",
       "      <th>Matemática Discreta</th>\n",
       "      <th>Cálculo Diferencial e Integral</th>\n",
       "      <th>Álgebra Linear</th>\n",
       "      <th>Geometria Analítica</th>\n",
       "      <th>Análise Combinatória</th>\n",
       "      <th>Probabilidade e Estatística</th>\n",
       "      <th>...</th>\n",
       "      <th>Arquitetura e Organização de Computadores</th>\n",
       "      <th>Redes de Computadores</th>\n",
       "      <th>Computação Gráfica</th>\n",
       "      <th>Inteligência Artificial</th>\n",
       "      <th>Engenharia de Software</th>\n",
       "      <th>Sistemas Distribuídos</th>\n",
       "      <th>Compiladores</th>\n",
       "      <th>Processamento de Imagens</th>\n",
       "      <th>Banco de Dados</th>\n",
       "      <th>ANO</th>\n",
       "    </tr>\n",
       "    <tr>\n",
       "      <th>INSCRICAO</th>\n",
       "      <th></th>\n",
       "      <th></th>\n",
       "      <th></th>\n",
       "      <th></th>\n",
       "      <th></th>\n",
       "      <th></th>\n",
       "      <th></th>\n",
       "      <th></th>\n",
       "      <th></th>\n",
       "      <th></th>\n",
       "      <th></th>\n",
       "      <th></th>\n",
       "      <th></th>\n",
       "      <th></th>\n",
       "      <th></th>\n",
       "      <th></th>\n",
       "      <th></th>\n",
       "      <th></th>\n",
       "      <th></th>\n",
       "      <th></th>\n",
       "      <th></th>\n",
       "    </tr>\n",
       "  </thead>\n",
       "  <tbody>\n",
       "    <tr>\n",
       "      <th>39401673171-6</th>\n",
       "      <td>1</td>\n",
       "      <td>Mestrado/Doutorado</td>\n",
       "      <td>250.0</td>\n",
       "      <td>Informática na Educação</td>\n",
       "      <td>3.0</td>\n",
       "      <td>3.0</td>\n",
       "      <td>3.0</td>\n",
       "      <td>1.0</td>\n",
       "      <td>2.0</td>\n",
       "      <td>1.0</td>\n",
       "      <td>...</td>\n",
       "      <td>1.0</td>\n",
       "      <td>1.0</td>\n",
       "      <td>0.0</td>\n",
       "      <td>2.0</td>\n",
       "      <td>0.0</td>\n",
       "      <td>3.0</td>\n",
       "      <td>0.0</td>\n",
       "      <td>2.0</td>\n",
       "      <td>2.0</td>\n",
       "      <td>2016</td>\n",
       "    </tr>\n",
       "    <tr>\n",
       "      <th>39401645886-1</th>\n",
       "      <td>1</td>\n",
       "      <td>Mestrado/Doutorado</td>\n",
       "      <td>660.0</td>\n",
       "      <td>Teoria da Computação</td>\n",
       "      <td>3.0</td>\n",
       "      <td>3.0</td>\n",
       "      <td>2.0</td>\n",
       "      <td>0.0</td>\n",
       "      <td>1.0</td>\n",
       "      <td>2.0</td>\n",
       "      <td>...</td>\n",
       "      <td>1.0</td>\n",
       "      <td>1.0</td>\n",
       "      <td>0.0</td>\n",
       "      <td>1.0</td>\n",
       "      <td>3.0</td>\n",
       "      <td>2.0</td>\n",
       "      <td>1.0</td>\n",
       "      <td>1.0</td>\n",
       "      <td>1.0</td>\n",
       "      <td>2016</td>\n",
       "    </tr>\n",
       "    <tr>\n",
       "      <th>39401663587-8</th>\n",
       "      <td>1</td>\n",
       "      <td>Mestrado/Doutorado</td>\n",
       "      <td>586.0</td>\n",
       "      <td>TEORIA DA COMPUTAÇÃO</td>\n",
       "      <td>3.0</td>\n",
       "      <td>2.0</td>\n",
       "      <td>3.0</td>\n",
       "      <td>2.0</td>\n",
       "      <td>2.0</td>\n",
       "      <td>2.0</td>\n",
       "      <td>...</td>\n",
       "      <td>1.0</td>\n",
       "      <td>2.0</td>\n",
       "      <td>0.0</td>\n",
       "      <td>2.0</td>\n",
       "      <td>1.0</td>\n",
       "      <td>3.0</td>\n",
       "      <td>1.0</td>\n",
       "      <td>2.0</td>\n",
       "      <td>1.0</td>\n",
       "      <td>2016</td>\n",
       "    </tr>\n",
       "    <tr>\n",
       "      <th>39401651770-6</th>\n",
       "      <td>1</td>\n",
       "      <td>Mestrado/Doutorado</td>\n",
       "      <td>283.0</td>\n",
       "      <td>Sistemas Distribuídos e Programação Concorrente</td>\n",
       "      <td>0.0</td>\n",
       "      <td>1.0</td>\n",
       "      <td>1.0</td>\n",
       "      <td>1.0</td>\n",
       "      <td>0.0</td>\n",
       "      <td>0.0</td>\n",
       "      <td>...</td>\n",
       "      <td>1.0</td>\n",
       "      <td>1.0</td>\n",
       "      <td>0.0</td>\n",
       "      <td>2.0</td>\n",
       "      <td>0.0</td>\n",
       "      <td>2.0</td>\n",
       "      <td>0.0</td>\n",
       "      <td>2.0</td>\n",
       "      <td>1.0</td>\n",
       "      <td>2016</td>\n",
       "    </tr>\n",
       "    <tr>\n",
       "      <th>39401671273-0</th>\n",
       "      <td>1</td>\n",
       "      <td>Mestrado/Doutorado</td>\n",
       "      <td>660.0</td>\n",
       "      <td>Teoria da Computação</td>\n",
       "      <td>1.0</td>\n",
       "      <td>0.0</td>\n",
       "      <td>1.0</td>\n",
       "      <td>1.0</td>\n",
       "      <td>0.0</td>\n",
       "      <td>0.0</td>\n",
       "      <td>...</td>\n",
       "      <td>0.0</td>\n",
       "      <td>2.0</td>\n",
       "      <td>0.0</td>\n",
       "      <td>1.0</td>\n",
       "      <td>1.0</td>\n",
       "      <td>1.0</td>\n",
       "      <td>1.0</td>\n",
       "      <td>1.0</td>\n",
       "      <td>0.0</td>\n",
       "      <td>2016</td>\n",
       "    </tr>\n",
       "    <tr>\n",
       "      <th>...</th>\n",
       "      <td>...</td>\n",
       "      <td>...</td>\n",
       "      <td>...</td>\n",
       "      <td>...</td>\n",
       "      <td>...</td>\n",
       "      <td>...</td>\n",
       "      <td>...</td>\n",
       "      <td>...</td>\n",
       "      <td>...</td>\n",
       "      <td>...</td>\n",
       "      <td>...</td>\n",
       "      <td>...</td>\n",
       "      <td>...</td>\n",
       "      <td>...</td>\n",
       "      <td>...</td>\n",
       "      <td>...</td>\n",
       "      <td>...</td>\n",
       "      <td>...</td>\n",
       "      <td>...</td>\n",
       "      <td>...</td>\n",
       "      <td>...</td>\n",
       "    </tr>\n",
       "    <tr>\n",
       "      <th>51801396055-5</th>\n",
       "      <td>1</td>\n",
       "      <td>Mestrado/Doutorado</td>\n",
       "      <td>27474.0</td>\n",
       "      <td>Combinatória e Teoria dos Grafos</td>\n",
       "      <td>1.0</td>\n",
       "      <td>2.0</td>\n",
       "      <td>2.0</td>\n",
       "      <td>2.0</td>\n",
       "      <td>1.0</td>\n",
       "      <td>1.0</td>\n",
       "      <td>...</td>\n",
       "      <td>0.0</td>\n",
       "      <td>1.0</td>\n",
       "      <td>1.0</td>\n",
       "      <td>1.0</td>\n",
       "      <td>0.0</td>\n",
       "      <td>2.0</td>\n",
       "      <td>0.0</td>\n",
       "      <td>1.0</td>\n",
       "      <td>0.0</td>\n",
       "      <td>2019</td>\n",
       "    </tr>\n",
       "    <tr>\n",
       "      <th>51801354647-6</th>\n",
       "      <td>1</td>\n",
       "      <td>Mestrado/Doutorado</td>\n",
       "      <td>27162.0</td>\n",
       "      <td>Sistemas Digitais e Embarcados</td>\n",
       "      <td>3.0</td>\n",
       "      <td>2.0</td>\n",
       "      <td>2.0</td>\n",
       "      <td>2.0</td>\n",
       "      <td>1.0</td>\n",
       "      <td>1.0</td>\n",
       "      <td>...</td>\n",
       "      <td>1.0</td>\n",
       "      <td>0.0</td>\n",
       "      <td>1.0</td>\n",
       "      <td>2.0</td>\n",
       "      <td>0.0</td>\n",
       "      <td>1.0</td>\n",
       "      <td>0.0</td>\n",
       "      <td>1.0</td>\n",
       "      <td>0.0</td>\n",
       "      <td>2019</td>\n",
       "    </tr>\n",
       "    <tr>\n",
       "      <th>51801393821-0</th>\n",
       "      <td>1</td>\n",
       "      <td>Mestrado/Doutorado</td>\n",
       "      <td>27389.0</td>\n",
       "      <td>Outras \\ Inteligência Artificial</td>\n",
       "      <td>2.0</td>\n",
       "      <td>2.0</td>\n",
       "      <td>3.0</td>\n",
       "      <td>3.0</td>\n",
       "      <td>0.0</td>\n",
       "      <td>1.0</td>\n",
       "      <td>...</td>\n",
       "      <td>0.0</td>\n",
       "      <td>0.0</td>\n",
       "      <td>1.0</td>\n",
       "      <td>0.0</td>\n",
       "      <td>0.0</td>\n",
       "      <td>1.0</td>\n",
       "      <td>0.0</td>\n",
       "      <td>1.0</td>\n",
       "      <td>2.0</td>\n",
       "      <td>2019</td>\n",
       "    </tr>\n",
       "    <tr>\n",
       "      <th>51801354273-1</th>\n",
       "      <td>1</td>\n",
       "      <td>Mestrado/Doutorado</td>\n",
       "      <td>26922.0</td>\n",
       "      <td>Engenharia de Software e Banco de Dados</td>\n",
       "      <td>NaN</td>\n",
       "      <td>NaN</td>\n",
       "      <td>NaN</td>\n",
       "      <td>NaN</td>\n",
       "      <td>NaN</td>\n",
       "      <td>NaN</td>\n",
       "      <td>...</td>\n",
       "      <td>NaN</td>\n",
       "      <td>NaN</td>\n",
       "      <td>NaN</td>\n",
       "      <td>NaN</td>\n",
       "      <td>NaN</td>\n",
       "      <td>NaN</td>\n",
       "      <td>NaN</td>\n",
       "      <td>NaN</td>\n",
       "      <td>NaN</td>\n",
       "      <td>2019</td>\n",
       "    </tr>\n",
       "    <tr>\n",
       "      <th>51801366900-3</th>\n",
       "      <td>1</td>\n",
       "      <td>Mestrado/Doutorado</td>\n",
       "      <td>26960.0</td>\n",
       "      <td>Inteligência Computacional</td>\n",
       "      <td>NaN</td>\n",
       "      <td>NaN</td>\n",
       "      <td>NaN</td>\n",
       "      <td>NaN</td>\n",
       "      <td>NaN</td>\n",
       "      <td>NaN</td>\n",
       "      <td>...</td>\n",
       "      <td>NaN</td>\n",
       "      <td>NaN</td>\n",
       "      <td>NaN</td>\n",
       "      <td>NaN</td>\n",
       "      <td>NaN</td>\n",
       "      <td>NaN</td>\n",
       "      <td>NaN</td>\n",
       "      <td>NaN</td>\n",
       "      <td>NaN</td>\n",
       "      <td>2019</td>\n",
       "    </tr>\n",
       "  </tbody>\n",
       "</table>\n",
       "<p>14573 rows × 30 columns</p>\n",
       "</div>"
      ],
      "text/plain": [
       "               COD CARGO               CARGO  CÓD. ESPECIALIDADE  \\\n",
       "INSCRICAO                                                          \n",
       "39401673171-6          1  Mestrado/Doutorado               250.0   \n",
       "39401645886-1          1  Mestrado/Doutorado               660.0   \n",
       "39401663587-8          1  Mestrado/Doutorado               586.0   \n",
       "39401651770-6          1  Mestrado/Doutorado               283.0   \n",
       "39401671273-0          1  Mestrado/Doutorado               660.0   \n",
       "...                  ...                 ...                 ...   \n",
       "51801396055-5          1  Mestrado/Doutorado             27474.0   \n",
       "51801354647-6          1  Mestrado/Doutorado             27162.0   \n",
       "51801393821-0          1  Mestrado/Doutorado             27389.0   \n",
       "51801354273-1          1  Mestrado/Doutorado             26922.0   \n",
       "51801366900-3          1  Mestrado/Doutorado             26960.0   \n",
       "\n",
       "                                                 ESPECIALIDADE  \\\n",
       "INSCRICAO                                                        \n",
       "39401673171-6                          Informática na Educação   \n",
       "39401645886-1                             Teoria da Computação   \n",
       "39401663587-8                             TEORIA DA COMPUTAÇÃO   \n",
       "39401651770-6  Sistemas Distribuídos e Programação Concorrente   \n",
       "39401671273-0                             Teoria da Computação   \n",
       "...                                                        ...   \n",
       "51801396055-5                 Combinatória e Teoria dos Grafos   \n",
       "51801354647-6                   Sistemas Digitais e Embarcados   \n",
       "51801393821-0                 Outras \\ Inteligência Artificial   \n",
       "51801354273-1          Engenharia de Software e Banco de Dados   \n",
       "51801366900-3                       Inteligência Computacional   \n",
       "\n",
       "               Matemática Discreta  Cálculo Diferencial e Integral  \\\n",
       "INSCRICAO                                                            \n",
       "39401673171-6                  3.0                             3.0   \n",
       "39401645886-1                  3.0                             3.0   \n",
       "39401663587-8                  3.0                             2.0   \n",
       "39401651770-6                  0.0                             1.0   \n",
       "39401671273-0                  1.0                             0.0   \n",
       "...                            ...                             ...   \n",
       "51801396055-5                  1.0                             2.0   \n",
       "51801354647-6                  3.0                             2.0   \n",
       "51801393821-0                  2.0                             2.0   \n",
       "51801354273-1                  NaN                             NaN   \n",
       "51801366900-3                  NaN                             NaN   \n",
       "\n",
       "               Álgebra Linear  Geometria Analítica  Análise Combinatória  \\\n",
       "INSCRICAO                                                                  \n",
       "39401673171-6             3.0                  1.0                   2.0   \n",
       "39401645886-1             2.0                  0.0                   1.0   \n",
       "39401663587-8             3.0                  2.0                   2.0   \n",
       "39401651770-6             1.0                  1.0                   0.0   \n",
       "39401671273-0             1.0                  1.0                   0.0   \n",
       "...                       ...                  ...                   ...   \n",
       "51801396055-5             2.0                  2.0                   1.0   \n",
       "51801354647-6             2.0                  2.0                   1.0   \n",
       "51801393821-0             3.0                  3.0                   0.0   \n",
       "51801354273-1             NaN                  NaN                   NaN   \n",
       "51801366900-3             NaN                  NaN                   NaN   \n",
       "\n",
       "               Probabilidade e Estatística  ...  \\\n",
       "INSCRICAO                                   ...   \n",
       "39401673171-6                          1.0  ...   \n",
       "39401645886-1                          2.0  ...   \n",
       "39401663587-8                          2.0  ...   \n",
       "39401651770-6                          0.0  ...   \n",
       "39401671273-0                          0.0  ...   \n",
       "...                                    ...  ...   \n",
       "51801396055-5                          1.0  ...   \n",
       "51801354647-6                          1.0  ...   \n",
       "51801393821-0                          1.0  ...   \n",
       "51801354273-1                          NaN  ...   \n",
       "51801366900-3                          NaN  ...   \n",
       "\n",
       "               Arquitetura e Organização de Computadores  \\\n",
       "INSCRICAO                                                  \n",
       "39401673171-6                                        1.0   \n",
       "39401645886-1                                        1.0   \n",
       "39401663587-8                                        1.0   \n",
       "39401651770-6                                        1.0   \n",
       "39401671273-0                                        0.0   \n",
       "...                                                  ...   \n",
       "51801396055-5                                        0.0   \n",
       "51801354647-6                                        1.0   \n",
       "51801393821-0                                        0.0   \n",
       "51801354273-1                                        NaN   \n",
       "51801366900-3                                        NaN   \n",
       "\n",
       "               Redes de Computadores  Computação Gráfica  \\\n",
       "INSCRICAO                                                  \n",
       "39401673171-6                    1.0                 0.0   \n",
       "39401645886-1                    1.0                 0.0   \n",
       "39401663587-8                    2.0                 0.0   \n",
       "39401651770-6                    1.0                 0.0   \n",
       "39401671273-0                    2.0                 0.0   \n",
       "...                              ...                 ...   \n",
       "51801396055-5                    1.0                 1.0   \n",
       "51801354647-6                    0.0                 1.0   \n",
       "51801393821-0                    0.0                 1.0   \n",
       "51801354273-1                    NaN                 NaN   \n",
       "51801366900-3                    NaN                 NaN   \n",
       "\n",
       "               Inteligência Artificial  Engenharia de Software  \\\n",
       "INSCRICAO                                                        \n",
       "39401673171-6                      2.0                     0.0   \n",
       "39401645886-1                      1.0                     3.0   \n",
       "39401663587-8                      2.0                     1.0   \n",
       "39401651770-6                      2.0                     0.0   \n",
       "39401671273-0                      1.0                     1.0   \n",
       "...                                ...                     ...   \n",
       "51801396055-5                      1.0                     0.0   \n",
       "51801354647-6                      2.0                     0.0   \n",
       "51801393821-0                      0.0                     0.0   \n",
       "51801354273-1                      NaN                     NaN   \n",
       "51801366900-3                      NaN                     NaN   \n",
       "\n",
       "               Sistemas Distribuídos  Compiladores  Processamento de Imagens  \\\n",
       "INSCRICAO                                                                      \n",
       "39401673171-6                    3.0           0.0                       2.0   \n",
       "39401645886-1                    2.0           1.0                       1.0   \n",
       "39401663587-8                    3.0           1.0                       2.0   \n",
       "39401651770-6                    2.0           0.0                       2.0   \n",
       "39401671273-0                    1.0           1.0                       1.0   \n",
       "...                              ...           ...                       ...   \n",
       "51801396055-5                    2.0           0.0                       1.0   \n",
       "51801354647-6                    1.0           0.0                       1.0   \n",
       "51801393821-0                    1.0           0.0                       1.0   \n",
       "51801354273-1                    NaN           NaN                       NaN   \n",
       "51801366900-3                    NaN           NaN                       NaN   \n",
       "\n",
       "               Banco de Dados   ANO  \n",
       "INSCRICAO                            \n",
       "39401673171-6             2.0  2016  \n",
       "39401645886-1             1.0  2016  \n",
       "39401663587-8             1.0  2016  \n",
       "39401651770-6             1.0  2016  \n",
       "39401671273-0             0.0  2016  \n",
       "...                       ...   ...  \n",
       "51801396055-5             0.0  2019  \n",
       "51801354647-6             0.0  2019  \n",
       "51801393821-0             2.0  2019  \n",
       "51801354273-1             NaN  2019  \n",
       "51801366900-3             NaN  2019  \n",
       "\n",
       "[14573 rows x 30 columns]"
      ]
     },
     "execution_count": 21,
     "metadata": {},
     "output_type": "execute_result"
    }
   ],
   "source": [
    "dados_notasRespostas.set_index('INSCRICAO')"
   ]
  },
  {
   "cell_type": "markdown",
   "id": "de657596-c05c-4beb-9800-2aacfa13db0c",
   "metadata": {
    "tags": []
   },
   "source": [
    "## Salvar dados"
   ]
  },
  {
   "cell_type": "code",
   "execution_count": 22,
   "id": "896a5ecd-c036-401b-b4b6-1f11b538448a",
   "metadata": {},
   "outputs": [],
   "source": [
    "dados_respostas.to_csv('dados/respostas_poscomp/dados_respostas.csv')"
   ]
  },
  {
   "cell_type": "code",
   "execution_count": 23,
   "id": "68394da5-0d60-421f-9110-7386f3ceaf4d",
   "metadata": {},
   "outputs": [],
   "source": [
    "dados_homologados.to_csv('dados/homologação_poscomp/dados_homologados.csv')"
   ]
  },
  {
   "cell_type": "code",
   "execution_count": 24,
   "id": "564aa3b5-729f-47da-aff9-b84e860229f7",
   "metadata": {},
   "outputs": [],
   "source": [
    "dados_notasRespostas.to_csv('dados/notas_poscomp/dados_notasRespostas.csv')"
   ]
  }
 ],
 "metadata": {
  "kernelspec": {
   "display_name": "Python 3 (ipykernel)",
   "language": "python",
   "name": "python3"
  },
  "language_info": {
   "codemirror_mode": {
    "name": "ipython",
    "version": 3
   },
   "file_extension": ".py",
   "mimetype": "text/x-python",
   "name": "python",
   "nbconvert_exporter": "python",
   "pygments_lexer": "ipython3",
   "version": "3.10.5"
  }
 },
 "nbformat": 4,
 "nbformat_minor": 5
}
