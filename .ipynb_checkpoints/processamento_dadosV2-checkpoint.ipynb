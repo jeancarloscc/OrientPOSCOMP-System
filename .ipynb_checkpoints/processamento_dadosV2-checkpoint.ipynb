{
 "cells": [
  {
   "cell_type": "code",
   "execution_count": 1,
   "id": "3a503e6d-1705-4929-986d-80312c3bcd88",
   "metadata": {},
   "outputs": [
    {
     "name": "stdout",
     "output_type": "stream",
     "text": [
      "importing Jupyter notebook from C:\\Users\\jeanc\\projetos pessoais\\project_dataScience_POSCOMP\\services\\especialidades.ipynb\n"
     ]
    }
   ],
   "source": [
    "%run imports.py"
   ]
  },
  {
   "cell_type": "code",
   "execution_count": 58,
   "id": "5b0cd50a-d59d-47ba-a0e3-bfc87df3583b",
   "metadata": {
    "tags": []
   },
   "outputs": [],
   "source": [
    "# from wordcloud import WordCloud, STOPWORDS, ImageColorGenerator"
   ]
  },
  {
   "cell_type": "code",
   "execution_count": 2,
   "id": "ec599c74-d4b0-4199-838a-4514e10a43ca",
   "metadata": {
    "tags": []
   },
   "outputs": [],
   "source": [
    "data_poscomp = pd.read_csv('dados/dataset_poscomp.csv')"
   ]
  },
  {
   "cell_type": "code",
   "execution_count": 3,
   "id": "a6e42983-a844-4937-844e-99621fa1ec3c",
   "metadata": {},
   "outputs": [],
   "source": [
    "# data_poscomp = fc.substituir_palavras(data_poscomp, [\n",
    "#   'otimização',\n",
    "# ], 'sistemas de computação')"
   ]
  },
  {
   "cell_type": "code",
   "execution_count": 4,
   "id": "6c8cfa89-e0b8-434f-b755-06749755a44b",
   "metadata": {
    "tags": []
   },
   "outputs": [
    {
     "name": "stdout",
     "output_type": "stream",
     "text": [
      "ESPECIALIDADE\n",
      "sistemas de computação    1369\n",
      "sistemas de informação     620\n",
      "sistemas embarcados        208\n",
      "Name: count, dtype: int64\n"
     ]
    },
    {
     "data": {
      "text/plain": [
       "['sistemas de informação', 'sistemas de computação', 'sistemas embarcados']"
      ]
     },
     "execution_count": 4,
     "metadata": {},
     "output_type": "execute_result"
    }
   ],
   "source": [
    "f = data_poscomp[data_poscomp['ESPECIALIDADE'].str.contains('sistema')]\n",
    "print(f['ESPECIALIDADE'].sort_values().value_counts())\n",
    "list(f['ESPECIALIDADE'].unique())"
   ]
  },
  {
   "cell_type": "code",
   "execution_count": 5,
   "id": "ee659260-542b-4160-bb71-51cdb7e1746c",
   "metadata": {
    "tags": []
   },
   "outputs": [
    {
     "data": {
      "text/html": [
       "<div>\n",
       "<style scoped>\n",
       "    .dataframe tbody tr th:only-of-type {\n",
       "        vertical-align: middle;\n",
       "    }\n",
       "\n",
       "    .dataframe tbody tr th {\n",
       "        vertical-align: top;\n",
       "    }\n",
       "\n",
       "    .dataframe thead th {\n",
       "        text-align: right;\n",
       "    }\n",
       "</style>\n",
       "<table border=\"1\" class=\"dataframe\">\n",
       "  <thead>\n",
       "    <tr style=\"text-align: right;\">\n",
       "      <th></th>\n",
       "      <th>count</th>\n",
       "    </tr>\n",
       "    <tr>\n",
       "      <th>ESPECIALIDADE</th>\n",
       "      <th></th>\n",
       "    </tr>\n",
       "  </thead>\n",
       "  <tbody>\n",
       "    <tr>\n",
       "      <th>aplicações computacionais</th>\n",
       "      <td>2629</td>\n",
       "    </tr>\n",
       "    <tr>\n",
       "      <th>inteligência artificial</th>\n",
       "      <td>1828</td>\n",
       "    </tr>\n",
       "    <tr>\n",
       "      <th>engenharia de software</th>\n",
       "      <td>1619</td>\n",
       "    </tr>\n",
       "    <tr>\n",
       "      <th>sistemas de computação</th>\n",
       "      <td>1369</td>\n",
       "    </tr>\n",
       "    <tr>\n",
       "      <th>redes de computadores</th>\n",
       "      <td>722</td>\n",
       "    </tr>\n",
       "    <tr>\n",
       "      <th>sistemas de informação</th>\n",
       "      <td>620</td>\n",
       "    </tr>\n",
       "    <tr>\n",
       "      <th>banco de dados</th>\n",
       "      <td>448</td>\n",
       "    </tr>\n",
       "    <tr>\n",
       "      <th>computação aplicada</th>\n",
       "      <td>445</td>\n",
       "    </tr>\n",
       "    <tr>\n",
       "      <th>aprendizado de máquina</th>\n",
       "      <td>310</td>\n",
       "    </tr>\n",
       "    <tr>\n",
       "      <th>otimização</th>\n",
       "      <td>300</td>\n",
       "    </tr>\n",
       "    <tr>\n",
       "      <th>metodologias e técnicas de computação</th>\n",
       "      <td>263</td>\n",
       "    </tr>\n",
       "    <tr>\n",
       "      <th>visão computacional</th>\n",
       "      <td>216</td>\n",
       "    </tr>\n",
       "    <tr>\n",
       "      <th>sistemas embarcados</th>\n",
       "      <td>208</td>\n",
       "    </tr>\n",
       "  </tbody>\n",
       "</table>\n",
       "</div>"
      ],
      "text/plain": [
       "                                       count\n",
       "ESPECIALIDADE                               \n",
       "aplicações computacionais               2629\n",
       "inteligência artificial                 1828\n",
       "engenharia de software                  1619\n",
       "sistemas de computação                  1369\n",
       "redes de computadores                    722\n",
       "sistemas de informação                   620\n",
       "banco de dados                           448\n",
       "computação aplicada                      445\n",
       "aprendizado de máquina                   310\n",
       "otimização                               300\n",
       "metodologias e técnicas de computação    263\n",
       "visão computacional                      216\n",
       "sistemas embarcados                      208"
      ]
     },
     "execution_count": 5,
     "metadata": {},
     "output_type": "execute_result"
    }
   ],
   "source": [
    "especialidades = data_poscomp['ESPECIALIDADE'].value_counts()\n",
    "especialidades = pd.DataFrame(especialidades)\n",
    "especialidades"
   ]
  },
  {
   "cell_type": "code",
   "execution_count": 10,
   "id": "3d2d702b-16b1-44c8-b69b-99d1d088b1cb",
   "metadata": {},
   "outputs": [],
   "source": [
    "linhas_inteligenciaArtificial = ['inteligência artificial',\n",
    "                                 'otimização',\n",
    "                                 'aprendizado de máquina',\n",
    "                                 'visão computacional']\n",
    "\n",
    "linhas_redesComputadores = ['redes de computadores',\n",
    "                           'sistemas embarcados',\n",
    "                           'metodologias e técnicas de computação',]\n",
    "\n",
    "linhas_engenhariaSoftware = ['engenharia de software',\n",
    "                             'sistemas de informação',\n",
    "                             'banco de dados'\n",
    "                            ]\n",
    "\n",
    "linhas_concentradas = ['sistemas de computação',\n",
    "                   'computação aplicada',\n",
    "                   'aplicações computacionais'\n",
    "                  ]"
   ]
  },
  {
   "cell_type": "code",
   "execution_count": 11,
   "id": "3378b325-4221-44eb-a54e-626253497f49",
   "metadata": {
    "tags": []
   },
   "outputs": [
    {
     "data": {
      "text/plain": [
       "linhas_pesquisas\n",
       "linhas concentradas        4443\n",
       "engenharia de software     2687\n",
       "inteligência artificial    2654\n",
       "redes de computadores      1193\n",
       "Name: count, dtype: int64"
      ]
     },
     "execution_count": 11,
     "metadata": {},
     "output_type": "execute_result"
    }
   ],
   "source": [
    "# Defina as condições e os valores correspondentes para a nova coluna\n",
    "condicoes = [\n",
    "    data_poscomp['ESPECIALIDADE'].isin(linhas_inteligenciaArtificial),\n",
    "    data_poscomp['ESPECIALIDADE'].isin(linhas_concentradas),\n",
    "    data_poscomp['ESPECIALIDADE'].isin(linhas_engenhariaSoftware),\n",
    "    data_poscomp['ESPECIALIDADE'].isin(linhas_redesComputadores),\n",
    "]\n",
    "\n",
    "valores = ['inteligência artificial', 'linhas concentradas',\n",
    "          'engenharia de software','redes de computadores']  # Valores correspondentes às condições\n",
    "\n",
    "# Use a função numpy.select para criar a nova coluna\n",
    "data_poscomp['linhas_pesquisas'] = np.select(condicoes, valores, default='Outro')\n",
    "\n",
    "# Exiba o DataFrame resultante\n",
    "data_poscomp['linhas_pesquisas'].value_counts()"
   ]
  },
  {
   "cell_type": "code",
   "execution_count": 12,
   "id": "3cf43431-a2a5-48d6-b07c-e6b747c380f8",
   "metadata": {
    "tags": []
   },
   "outputs": [],
   "source": [
    "areas_computation = ['inteligência artificial',\n",
    "                     'redes de computadores'\n",
    "                    ]\n",
    "\n",
    "areas_information = ['linhas concentradas',\n",
    "                     'engenharia de software',\n",
    "                    ]"
   ]
  },
  {
   "cell_type": "code",
   "execution_count": 14,
   "id": "8ca468f8-266e-471e-8646-32060752c4a0",
   "metadata": {
    "tags": []
   },
   "outputs": [
    {
     "data": {
      "text/plain": [
       "area_concentration\n",
       "informatica    7130\n",
       "computacao     3847\n",
       "Name: count, dtype: int64"
      ]
     },
     "execution_count": 14,
     "metadata": {},
     "output_type": "execute_result"
    }
   ],
   "source": [
    "# Defina as condições e os valores correspondentes para a nova coluna\n",
    "condicoes = [\n",
    "    data_poscomp['linhas_pesquisas'].isin(areas_computation),\n",
    "    data_poscomp['linhas_pesquisas'].isin(areas_information),\n",
    "]\n",
    "\n",
    "valores = ['computacao', 'informatica']  # Valores correspondentes às condições\n",
    "\n",
    "# Use a função numpy.select para criar a nova coluna\n",
    "data_poscomp['area_concentration'] = np.select(condicoes, valores, default='Outro')\n",
    "\n",
    "# Exiba o DataFrame resultante\n",
    "data_poscomp['area_concentration'].value_counts()"
   ]
  },
  {
   "cell_type": "code",
   "execution_count": 78,
   "id": "759e7eb9-9654-4746-ae34-365e6cd7fbb7",
   "metadata": {
    "tags": []
   },
   "outputs": [],
   "source": [
    "# # Especialidades que serão agrupadas\n",
    "# especialidades_a_agrupar = ['engenharia de software',\n",
    "# 'inteligência artificial',\n",
    "# 'sistemas de computação',\n",
    "# 'sistemas de informação',\n",
    "# 'redes de computadores',\n",
    "# 'aplicações computacionais']\n",
    "\n",
    "# # Criar uma nova coluna 'Especialidade_Agrupada' com os valores atualizados\n",
    "# data_poscomp['ESPECIALIDADE'] = data_poscomp['ESPECIALIDADE'].apply(lambda espec: espec if espec in especialidades_a_agrupar else 'outras áreas')\n",
    "\n"
   ]
  },
  {
   "cell_type": "code",
   "execution_count": 79,
   "id": "0d24f110-154d-4251-b0d7-ac86f5a0935b",
   "metadata": {},
   "outputs": [],
   "source": [
    "# text = data_poscomp['ESPECIALIDADE'].value_counts()[:60]\n",
    "# text = text.to_dict()\n",
    "\n",
    "# stopwords = set(['o', 'a', 'e', 'é', 'de', 'da', 'do', 'para', ' e'])\n",
    "\n",
    "# wordcloud2 = WordCloud(background_color=\"white\",\n",
    "#                        # random_state=1, \n",
    "#                        min_word_length=3,\n",
    "#                         width=400, height=200,\n",
    "#                         stopwords=stopwords\n",
    "#                        ).generate_from_frequencies(text)\n",
    "# # WordCloud.generate_from_frequencies\n",
    "\n",
    "# plt.imshow(wordcloud2, interpolation=\"bilinear\")\n",
    "# plt.axis(\"off\")\n",
    "# # plt.margins(x=0, y=0)\n",
    "# # plt.savefig('imagens/nuvem_palavras.eps', format='eps', dpi = 300, bbox_inches='tight')\n",
    "# plt.show()"
   ]
  },
  {
   "cell_type": "code",
   "execution_count": 80,
   "id": "928ce1f7-36ff-46ea-be4f-ea6c17839b21",
   "metadata": {
    "tags": []
   },
   "outputs": [],
   "source": [
    "# contagem_areas = data_poscomp.groupby(['ESTADO', 'ESPECIALIDADE']).size().reset_index(name='CONTAGEM')\n",
    "# contagem_areas = contagem_areas.sort_values(['ESTADO', 'CONTAGEM'], ascending=[True, False])\n",
    "# areas_mais_frequentes = contagem_areas.groupby('ESTADO').first().reset_index()\n",
    "# print(areas_mais_frequentes)"
   ]
  },
  {
   "cell_type": "code",
   "execution_count": 81,
   "id": "387b0f26-979d-4aac-9ba9-6b8e5f9884b2",
   "metadata": {
    "tags": []
   },
   "outputs": [],
   "source": [
    "# contagem_areas = data_poscomp.groupby(['ESTADO', 'ESPECIALIDADE']).size().reset_index(name='CONTAGEM')\n",
    "\n",
    "# areas_mais_frequentes = contagem_areas.sort_values('CONTAGEM', ascending=False).drop_duplicates('ESTADO')\n",
    "\n",
    "# areas_mais_frequentes = areas_mais_frequentes.sort_values('CONTAGEM', ascending=False)\n",
    "\n",
    "# plt.figure(figsize=(13, 7))\n",
    "# ax = sns.barplot(data=areas_mais_frequentes, x='ESTADO', y='CONTAGEM', hue='ESPECIALIDADE',dodge=False )\n",
    "\n",
    "# for p in ax.patches:\n",
    "#     if not math.isnan(p.get_height()):\n",
    "#         ax.annotate(int(p.get_height()),\n",
    "#                     xy=(p.get_x() + p.get_width() / 2, p.get_height()),\n",
    "#                     xytext=(0, 5),\n",
    "#                     textcoords='offset points',\n",
    "#                     ha='center',\n",
    "#                     va='bottom',\n",
    "#                     fontsize=14)\n",
    "        \n",
    "# ax.set_xlabel('Estado', fontsize=14)\n",
    "# ax.set_ylabel('Contagem', fontsize=14)\n",
    "# # ax.set_title('Área mais Frequente por Estado', fontsize=16)\n",
    "# ax.tick_params(axis='x', labelsize=14)\n",
    "# ax.tick_params(axis='y', labelsize=14)\n",
    "# ax.legend(title='', fontsize=14)\n",
    "# plt.tight_layout()\n",
    "# # plt.savefig('imagens/especialidade_frequenteEstado.eps', format='eps', dpi = 600, bbox_inches='tight')\n",
    "# plt.show()"
   ]
  },
  {
   "cell_type": "code",
   "execution_count": 16,
   "id": "5dbc464f-7d9a-4f81-af09-d1898953a7ef",
   "metadata": {
    "tags": []
   },
   "outputs": [],
   "source": [
    "data_poscomp.to_csv('dados/dataset_poscompTeste.csv', index=False)"
   ]
  }
 ],
 "metadata": {
  "kernelspec": {
   "display_name": "Python 3 (ipykernel)",
   "language": "python",
   "name": "python3"
  },
  "language_info": {
   "codemirror_mode": {
    "name": "ipython",
    "version": 3
   },
   "file_extension": ".py",
   "mimetype": "text/x-python",
   "name": "python",
   "nbconvert_exporter": "python",
   "pygments_lexer": "ipython3",
   "version": "3.11.5"
  }
 },
 "nbformat": 4,
 "nbformat_minor": 5
}
