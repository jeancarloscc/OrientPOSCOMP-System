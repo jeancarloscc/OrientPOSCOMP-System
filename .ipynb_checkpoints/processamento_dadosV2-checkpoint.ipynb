{
 "cells": [
  {
   "cell_type": "code",
   "execution_count": 4,
   "id": "5b0cd50a-d59d-47ba-a0e3-bfc87df3583b",
   "metadata": {
    "tags": []
   },
   "outputs": [
    {
     "name": "stdout",
     "output_type": "stream",
     "text": [
      "importing Jupyter notebook from C:\\Users\\jeanc\\Documentos\\GitHub\\project_dataScience_POSCOMP\\services\\especialidades.ipynb\n"
     ]
    }
   ],
   "source": [
    "import pandas as pd\n",
    "from wordcloud import WordCloud, STOPWORDS, ImageColorGenerator\n",
    "import matplotlib.pyplot as plt\n",
    "import string\n",
    "import numpy as np\n",
    "import seaborn as sns\n",
    "import seaborn.objects as so\n",
    "import import_ipynb\n",
    "import services.especialidades as esp\n",
    "import datetime\n",
    "import math\n",
    "import services.function as fc"
   ]
  },
  {
   "cell_type": "code",
   "execution_count": 5,
   "id": "ec599c74-d4b0-4199-838a-4514e10a43ca",
   "metadata": {
    "tags": []
   },
   "outputs": [],
   "source": [
    "data_poscomp = pd.read_csv('dados/dataset_poscomp.csv')"
   ]
  },
  {
   "cell_type": "code",
   "execution_count": 6,
   "id": "8eb9e0d4-192b-4005-b377-3aaa3cdabe7e",
   "metadata": {
    "tags": []
   },
   "outputs": [],
   "source": [
    "data_poscomp['ESPECIALIDADE'] = data_poscomp['ESPECIALIDADE'].replace({'teoria':'teoria da computação'})"
   ]
  },
  {
   "cell_type": "code",
   "execution_count": 7,
   "id": "07e9fbfe-a22e-42cc-86cd-6e2f77a43cdd",
   "metadata": {
    "tags": []
   },
   "outputs": [],
   "source": [
    "# def substituir_palavras(df, palavras_a_substituir, palavra_substituta):\n",
    "#     df['ESPECIALIDADE'] = df['ESPECIALIDADE'].replace(palavras_a_substituir, palavra_substituta, regex=True)\n",
    " \n",
    "#     return df"
   ]
  },
  {
   "cell_type": "code",
   "execution_count": 8,
   "id": "f8d64d9c-b26f-414f-b9c4-008d6bf8a231",
   "metadata": {},
   "outputs": [],
   "source": [
    "data_poscomp = fc.substituir_palavras(data_poscomp, [\n",
    "  'processamento paralelo e distribuído'], 'redes de computadores')"
   ]
  },
  {
   "cell_type": "code",
   "execution_count": 9,
   "id": "97c82adc-13c5-4740-8a1e-3e57dd6dbc19",
   "metadata": {},
   "outputs": [],
   "source": [
    "data_poscomp = fc.substituir_palavras(data_poscomp, [\n",
    "  'metodologias e técnicas de computação'], 'engenharia de software')"
   ]
  },
  {
   "cell_type": "code",
   "execution_count": 10,
   "id": "6c8cfa89-e0b8-434f-b755-06749755a44b",
   "metadata": {
    "tags": []
   },
   "outputs": [
    {
     "name": "stdout",
     "output_type": "stream",
     "text": [
      "Series([], Name: count, dtype: int64)\n"
     ]
    },
    {
     "data": {
      "text/plain": [
       "[]"
      ]
     },
     "execution_count": 10,
     "metadata": {},
     "output_type": "execute_result"
    }
   ],
   "source": [
    "f = data_poscomp[data_poscomp['ESPECIALIDADE'].str.contains('proce')]\n",
    "print(f['ESPECIALIDADE'].sort_values().value_counts())\n",
    "list(f['ESPECIALIDADE'].unique())"
   ]
  },
  {
   "cell_type": "code",
   "execution_count": 11,
   "id": "ee659260-542b-4160-bb71-51cdb7e1746c",
   "metadata": {
    "tags": []
   },
   "outputs": [
    {
     "data": {
      "text/html": [
       "<div>\n",
       "<style scoped>\n",
       "    .dataframe tbody tr th:only-of-type {\n",
       "        vertical-align: middle;\n",
       "    }\n",
       "\n",
       "    .dataframe tbody tr th {\n",
       "        vertical-align: top;\n",
       "    }\n",
       "\n",
       "    .dataframe thead th {\n",
       "        text-align: right;\n",
       "    }\n",
       "</style>\n",
       "<table border=\"1\" class=\"dataframe\">\n",
       "  <thead>\n",
       "    <tr style=\"text-align: right;\">\n",
       "      <th></th>\n",
       "      <th>count</th>\n",
       "    </tr>\n",
       "    <tr>\n",
       "      <th>ESPECIALIDADE</th>\n",
       "      <th></th>\n",
       "    </tr>\n",
       "  </thead>\n",
       "  <tbody>\n",
       "    <tr>\n",
       "      <th>engenharia de software</th>\n",
       "      <td>2217</td>\n",
       "    </tr>\n",
       "    <tr>\n",
       "      <th>inteligência artificial</th>\n",
       "      <td>2194</td>\n",
       "    </tr>\n",
       "    <tr>\n",
       "      <th>sistemas de computação</th>\n",
       "      <td>1412</td>\n",
       "    </tr>\n",
       "    <tr>\n",
       "      <th>Outras Áreas</th>\n",
       "      <td>1109</td>\n",
       "    </tr>\n",
       "    <tr>\n",
       "      <th>redes de computadores</th>\n",
       "      <td>863</td>\n",
       "    </tr>\n",
       "    <tr>\n",
       "      <th>sistemas de informação</th>\n",
       "      <td>700</td>\n",
       "    </tr>\n",
       "    <tr>\n",
       "      <th>banco de dados</th>\n",
       "      <td>569</td>\n",
       "    </tr>\n",
       "    <tr>\n",
       "      <th>computação aplicada</th>\n",
       "      <td>538</td>\n",
       "    </tr>\n",
       "    <tr>\n",
       "      <th>otimização</th>\n",
       "      <td>384</td>\n",
       "    </tr>\n",
       "    <tr>\n",
       "      <th>aprendizado de máquina</th>\n",
       "      <td>359</td>\n",
       "    </tr>\n",
       "    <tr>\n",
       "      <th>ciência computacional</th>\n",
       "      <td>306</td>\n",
       "    </tr>\n",
       "    <tr>\n",
       "      <th>sistemas embarcados</th>\n",
       "      <td>266</td>\n",
       "    </tr>\n",
       "    <tr>\n",
       "      <th>visão computacional</th>\n",
       "      <td>265</td>\n",
       "    </tr>\n",
       "    <tr>\n",
       "      <th>sistemas inteligentes</th>\n",
       "      <td>257</td>\n",
       "    </tr>\n",
       "    <tr>\n",
       "      <th>computação visual</th>\n",
       "      <td>254</td>\n",
       "    </tr>\n",
       "    <tr>\n",
       "      <th>modelagem computacional</th>\n",
       "      <td>241</td>\n",
       "    </tr>\n",
       "    <tr>\n",
       "      <th>arquitetura de computadores</th>\n",
       "      <td>234</td>\n",
       "    </tr>\n",
       "    <tr>\n",
       "      <th>sistemas distribuídos</th>\n",
       "      <td>234</td>\n",
       "    </tr>\n",
       "    <tr>\n",
       "      <th>ciência de dados</th>\n",
       "      <td>222</td>\n",
       "    </tr>\n",
       "    <tr>\n",
       "      <th>informática na educação</th>\n",
       "      <td>168</td>\n",
       "    </tr>\n",
       "    <tr>\n",
       "      <th>tecnologia da informação</th>\n",
       "      <td>165</td>\n",
       "    </tr>\n",
       "    <tr>\n",
       "      <th>computação gráfica</th>\n",
       "      <td>143</td>\n",
       "    </tr>\n",
       "    <tr>\n",
       "      <th>teoria da computação</th>\n",
       "      <td>138</td>\n",
       "    </tr>\n",
       "    <tr>\n",
       "      <th>aplicações computacionais</th>\n",
       "      <td>132</td>\n",
       "    </tr>\n",
       "    <tr>\n",
       "      <th>bioinformática</th>\n",
       "      <td>106</td>\n",
       "    </tr>\n",
       "  </tbody>\n",
       "</table>\n",
       "</div>"
      ],
      "text/plain": [
       "                             count\n",
       "ESPECIALIDADE                     \n",
       "engenharia de software        2217\n",
       "inteligência artificial       2194\n",
       "sistemas de computação        1412\n",
       "Outras Áreas                  1109\n",
       "redes de computadores          863\n",
       "sistemas de informação         700\n",
       "banco de dados                 569\n",
       "computação aplicada            538\n",
       "otimização                     384\n",
       "aprendizado de máquina         359\n",
       "ciência computacional          306\n",
       "sistemas embarcados            266\n",
       "visão computacional            265\n",
       "sistemas inteligentes          257\n",
       "computação visual              254\n",
       "modelagem computacional        241\n",
       "arquitetura de computadores    234\n",
       "sistemas distribuídos          234\n",
       "ciência de dados               222\n",
       "informática na educação        168\n",
       "tecnologia da informação       165\n",
       "computação gráfica             143\n",
       "teoria da computação           138\n",
       "aplicações computacionais      132\n",
       "bioinformática                 106"
      ]
     },
     "execution_count": 11,
     "metadata": {},
     "output_type": "execute_result"
    }
   ],
   "source": [
    "especialidades = data_poscomp['ESPECIALIDADE'].value_counts()\n",
    "especialidades = pd.DataFrame(especialidades)\n",
    "especialidades"
   ]
  },
  {
   "cell_type": "code",
   "execution_count": 12,
   "id": "c6ffa807-ae2d-45b9-8cba-67434bd8e750",
   "metadata": {},
   "outputs": [
    {
     "data": {
      "text/plain": [
       "(25, 1)"
      ]
     },
     "execution_count": 12,
     "metadata": {},
     "output_type": "execute_result"
    }
   ],
   "source": [
    "especialidades.shape"
   ]
  },
  {
   "cell_type": "code",
   "execution_count": 13,
   "id": "8b1bc622-3936-4afc-85e7-f71cf526fec1",
   "metadata": {},
   "outputs": [],
   "source": [
    "data_poscomp = data_poscomp[data_poscomp['ESPECIALIDADE'] != 'Outras Áreas']\n"
   ]
  },
  {
   "cell_type": "code",
   "execution_count": 24,
   "id": "3cf43431-a2a5-48d6-b07c-e6b747c380f8",
   "metadata": {
    "tags": []
   },
   "outputs": [],
   "source": [
    "areas_computation = ['inteligência artificial',\n",
    "                    'computação gráfica',\n",
    "                     'ciência de dados',\n",
    "                     'visão computacional',\n",
    "                     'redes de computadores',\n",
    "                     'computação gráfica',\n",
    "                     'bioinformática',\n",
    "                     'sistemas inteligentes',\n",
    "                     'aprendizado de máquina',\n",
    "                     'sistemas de computação',\n",
    "                     'computação aplicada',\n",
    "                     'aplicações computacionais',\n",
    "                     'otimização',\n",
    "                     'modelagem computacional',\n",
    "                     'sistemas distribuídos',\n",
    "                     'Outras Áreas',\n",
    "                     'computação visual',\n",
    "                    ]\n",
    "\n",
    "areas_information = ['engenharia de software',\n",
    "                     'teoria da computação',\n",
    "                     'arquitetura de computadores',\n",
    "                     'informática na educação',\n",
    "                     'tecnologia da informação',\n",
    "                     'sistemas embarcados',\n",
    "                     'banco de dados',\n",
    "                     'metodologias e técnicas de computação',\n",
    "                     'sistemas de informação',\n",
    "                     'ciência computacional'\n",
    "                    ]"
   ]
  },
  {
   "cell_type": "code",
   "execution_count": 25,
   "id": "8ca468f8-266e-471e-8646-32060752c4a0",
   "metadata": {
    "tags": []
   },
   "outputs": [
    {
     "data": {
      "text/plain": [
       "area_concentration\n",
       "computacao     7604\n",
       "informatica    4763\n",
       "Name: count, dtype: int64"
      ]
     },
     "execution_count": 25,
     "metadata": {},
     "output_type": "execute_result"
    }
   ],
   "source": [
    "# Defina as condições e os valores correspondentes para a nova coluna\n",
    "condicoes = [\n",
    "    data_poscomp['ESPECIALIDADE'].isin(areas_computation),\n",
    "    data_poscomp['ESPECIALIDADE'].isin(areas_information),\n",
    "]\n",
    "\n",
    "valores = ['computacao', 'informatica']  # Valores correspondentes às condições\n",
    "\n",
    "# Use a função numpy.select para criar a nova coluna\n",
    "data_poscomp['area_concentration'] = np.select(condicoes, valores, default='Outro')\n",
    "\n",
    "# Exiba o DataFrame resultante\n",
    "data_poscomp['area_concentration'].value_counts()"
   ]
  },
  {
   "cell_type": "code",
   "execution_count": 33,
   "id": "3d2d702b-16b1-44c8-b69b-99d1d088b1cb",
   "metadata": {},
   "outputs": [],
   "source": [
    "linhas_inteligenciaArtificial = ['inteligência artificial',\n",
    "                    'computação gráfica',\n",
    "                     'ciência de dados',\n",
    "                     'visão computacional',\n",
    "                     'computação gráfica',\n",
    "                     'bioinformática',\n",
    "                     'sistemas inteligentes',\n",
    "                     'aprendizado de máquina',\n",
    "                     'sistemas de computação',\n",
    "                     'computação aplicada',\n",
    "                     'otimização',\n",
    "                    'computação visual',\n",
    "                    'sistemas de informação',\n",
    "                    ]\n",
    "\n",
    "linhas_redesComputadores = ['redes de computadores',\n",
    "                           'sistemas distribuídos',]\n",
    "\n",
    "linhas_arqComputadores = ['arquitetura de computadores',\n",
    "                          'sistemas embarcados',]\n",
    "\n",
    "linhas_engenhariaSoftware = [\n",
    "                        'engenharia de software',\n",
    "                     'teoria da computação',\n",
    "                     'informática na educação',\n",
    "                     'banco de dados',\n",
    "                    ]\n",
    "\n",
    "linhas_diversas = ['aplicações computacionais',\n",
    "                  'modelagem computacional',\n",
    "                  'Outras Áreas',\n",
    "                  'tecnologia da informação',\n",
    "                  'metodologias e técnicas de computação',\n",
    "                  'ciência computacional']"
   ]
  },
  {
   "cell_type": "code",
   "execution_count": 34,
   "id": "3378b325-4221-44eb-a54e-626253497f49",
   "metadata": {
    "tags": []
   },
   "outputs": [
    {
     "data": {
      "text/plain": [
       "linhas_pesquisas\n",
       "inteligência artificial        6834\n",
       "engenharia de software         3092\n",
       "redes de computadores          1097\n",
       "diversas                        844\n",
       "arquitetura de computadores     500\n",
       "Name: count, dtype: int64"
      ]
     },
     "execution_count": 34,
     "metadata": {},
     "output_type": "execute_result"
    }
   ],
   "source": [
    "# Defina as condições e os valores correspondentes para a nova coluna\n",
    "condicoes = [\n",
    "    data_poscomp['ESPECIALIDADE'].isin(linhas_inteligenciaArtificial),\n",
    "    data_poscomp['ESPECIALIDADE'].isin(linhas_arqComputadores),\n",
    "    data_poscomp['ESPECIALIDADE'].isin(linhas_diversas),\n",
    "    data_poscomp['ESPECIALIDADE'].isin(linhas_engenhariaSoftware),\n",
    "    data_poscomp['ESPECIALIDADE'].isin(linhas_redesComputadores),\n",
    "]\n",
    "\n",
    "valores = ['inteligência artificial', 'arquitetura de computadores', 'diversas',\n",
    "          'engenharia de software','redes de computadores']  # Valores correspondentes às condições\n",
    "\n",
    "# Use a função numpy.select para criar a nova coluna\n",
    "data_poscomp['linhas_pesquisas'] = np.select(condicoes, valores, default='Outro')\n",
    "\n",
    "# Exiba o DataFrame resultante\n",
    "data_poscomp['linhas_pesquisas'].value_counts()"
   ]
  },
  {
   "cell_type": "code",
   "execution_count": 35,
   "id": "759e7eb9-9654-4746-ae34-365e6cd7fbb7",
   "metadata": {
    "tags": []
   },
   "outputs": [],
   "source": [
    "# # Especialidades que serão agrupadas\n",
    "# especialidades_a_agrupar = ['engenharia de software',\n",
    "# 'inteligência artificial',\n",
    "# 'sistemas de computação',\n",
    "# 'sistemas de informação',\n",
    "# 'redes de computadores',\n",
    "# 'aplicações computacionais']\n",
    "\n",
    "# # Criar uma nova coluna 'Especialidade_Agrupada' com os valores atualizados\n",
    "# data_poscomp['ESPECIALIDADE'] = data_poscomp['ESPECIALIDADE'].apply(lambda espec: espec if espec in especialidades_a_agrupar else 'outras áreas')\n",
    "\n"
   ]
  },
  {
   "cell_type": "code",
   "execution_count": 36,
   "id": "0d24f110-154d-4251-b0d7-ac86f5a0935b",
   "metadata": {},
   "outputs": [],
   "source": [
    "# text = data_poscomp['ESPECIALIDADE'].value_counts()[:60]\n",
    "# text = text.to_dict()\n",
    "\n",
    "# stopwords = set(['o', 'a', 'e', 'é', 'de', 'da', 'do', 'para', ' e'])\n",
    "\n",
    "# wordcloud2 = WordCloud(background_color=\"white\",\n",
    "#                        # random_state=1, \n",
    "#                        min_word_length=3,\n",
    "#                         width=400, height=200,\n",
    "#                         stopwords=stopwords\n",
    "#                        ).generate_from_frequencies(text)\n",
    "# # WordCloud.generate_from_frequencies\n",
    "\n",
    "# plt.imshow(wordcloud2, interpolation=\"bilinear\")\n",
    "# plt.axis(\"off\")\n",
    "# # plt.margins(x=0, y=0)\n",
    "# # plt.savefig('imagens/nuvem_palavras.eps', format='eps', dpi = 300, bbox_inches='tight')\n",
    "# plt.show()"
   ]
  },
  {
   "cell_type": "code",
   "execution_count": 37,
   "id": "928ce1f7-36ff-46ea-be4f-ea6c17839b21",
   "metadata": {
    "tags": []
   },
   "outputs": [],
   "source": [
    "# contagem_areas = data_poscomp.groupby(['ESTADO', 'ESPECIALIDADE']).size().reset_index(name='CONTAGEM')\n",
    "# contagem_areas = contagem_areas.sort_values(['ESTADO', 'CONTAGEM'], ascending=[True, False])\n",
    "# areas_mais_frequentes = contagem_areas.groupby('ESTADO').first().reset_index()\n",
    "# print(areas_mais_frequentes)"
   ]
  },
  {
   "cell_type": "code",
   "execution_count": 38,
   "id": "387b0f26-979d-4aac-9ba9-6b8e5f9884b2",
   "metadata": {
    "tags": []
   },
   "outputs": [],
   "source": [
    "# contagem_areas = data_poscomp.groupby(['ESTADO', 'ESPECIALIDADE']).size().reset_index(name='CONTAGEM')\n",
    "\n",
    "# areas_mais_frequentes = contagem_areas.sort_values('CONTAGEM', ascending=False).drop_duplicates('ESTADO')\n",
    "\n",
    "# areas_mais_frequentes = areas_mais_frequentes.sort_values('CONTAGEM', ascending=False)\n",
    "\n",
    "# plt.figure(figsize=(13, 7))\n",
    "# ax = sns.barplot(data=areas_mais_frequentes, x='ESTADO', y='CONTAGEM', hue='ESPECIALIDADE',dodge=False )\n",
    "\n",
    "# for p in ax.patches:\n",
    "#     if not math.isnan(p.get_height()):\n",
    "#         ax.annotate(int(p.get_height()),\n",
    "#                     xy=(p.get_x() + p.get_width() / 2, p.get_height()),\n",
    "#                     xytext=(0, 5),\n",
    "#                     textcoords='offset points',\n",
    "#                     ha='center',\n",
    "#                     va='bottom',\n",
    "#                     fontsize=14)\n",
    "        \n",
    "# ax.set_xlabel('Estado', fontsize=14)\n",
    "# ax.set_ylabel('Contagem', fontsize=14)\n",
    "# # ax.set_title('Área mais Frequente por Estado', fontsize=16)\n",
    "# ax.tick_params(axis='x', labelsize=14)\n",
    "# ax.tick_params(axis='y', labelsize=14)\n",
    "# ax.legend(title='', fontsize=14)\n",
    "# plt.tight_layout()\n",
    "# # plt.savefig('imagens/especialidade_frequenteEstado.eps', format='eps', dpi = 600, bbox_inches='tight')\n",
    "# plt.show()"
   ]
  },
  {
   "cell_type": "code",
   "execution_count": 39,
   "id": "5dbc464f-7d9a-4f81-af09-d1898953a7ef",
   "metadata": {
    "tags": []
   },
   "outputs": [],
   "source": [
    "data_poscomp.to_csv('dados/dataset_poscomp.csv', index=False)"
   ]
  }
 ],
 "metadata": {
  "kernelspec": {
   "display_name": "Python 3 (ipykernel)",
   "language": "python",
   "name": "python3"
  },
  "language_info": {
   "codemirror_mode": {
    "name": "ipython",
    "version": 3
   },
   "file_extension": ".py",
   "mimetype": "text/x-python",
   "name": "python",
   "nbconvert_exporter": "python",
   "pygments_lexer": "ipython3",
   "version": "3.9.12"
  }
 },
 "nbformat": 4,
 "nbformat_minor": 5
}
