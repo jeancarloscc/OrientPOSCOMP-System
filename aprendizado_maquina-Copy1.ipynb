{
 "cells": [
  {
   "cell_type": "markdown",
   "id": "0b6e3b52-5850-4d30-808e-cc286e6e6e36",
   "metadata": {},
   "source": [
    "# Aplicações de Algoritmos de aprendizado de máquina"
   ]
  },
  {
   "cell_type": "code",
   "execution_count": 210,
   "id": "9c12e0a4-0e80-478d-9e49-e05192cf22fb",
   "metadata": {
    "tags": []
   },
   "outputs": [],
   "source": [
    "import pandas as pd\n",
    "import numpy as np\n",
    "import matplotlib.pyplot as plt\n",
    "import seaborn as sns\n",
    "import warnings\n",
    "from sklearn.preprocessing import StandardScaler, LabelEncoder\n",
    "from sklearn.cluster import KMeans\n",
    "from sklearn.tree import DecisionTreeClassifier, export_graphviz\n",
    "from sklearn.metrics import (\n",
    "    f1_score, precision_score, recall_score, accuracy_score, classification_report,\n",
    "    confusion_matrix, roc_auc_score, roc_curve, precision_recall_curve\n",
    ")\n",
    "from sklearn.model_selection import train_test_split, StratifiedKFold, GridSearchCV, RandomizedSearchCV, KFold, cross_val_score\n",
    "from sklearn import tree\n",
    "from sklearn.neural_network import MLPClassifier\n",
    "from sklearn.ensemble import RandomForestClassifier\n",
    "from sklearn.svm import SVC\n",
    "from sklearn.neighbors import KNeighborsClassifier\n",
    "import services.function as sf\n",
    "\n",
    "warnings.filterwarnings('ignore')\n"
   ]
  },
  {
   "cell_type": "code",
   "execution_count": 211,
   "id": "c4dd3968-ecee-45d0-9d7e-5ec61d73cf1d",
   "metadata": {
    "tags": []
   },
   "outputs": [
    {
     "data": {
      "text/plain": [
       "(9849, 36)"
      ]
     },
     "execution_count": 211,
     "metadata": {},
     "output_type": "execute_result"
    }
   ],
   "source": [
    "dataset = pd.read_csv('dados/df_poscompTeste.csv')\n",
    "dataset.shape"
   ]
  },
  {
   "cell_type": "code",
   "execution_count": 252,
   "id": "3ad16869-e4db-43ba-bb78-64061f78f872",
   "metadata": {},
   "outputs": [],
   "source": [
    "list_linhas = ['inteligência artificial','engenharia de software','sistemas de computação']"
   ]
  },
  {
   "cell_type": "code",
   "execution_count": 253,
   "id": "761bd124-0922-48ac-a7ab-ffb8a6c5f054",
   "metadata": {},
   "outputs": [],
   "source": [
    "df = dataset[dataset['ESPECIALIDADE'].isin(list_linhas)]"
   ]
  },
  {
   "cell_type": "code",
   "execution_count": 254,
   "id": "8b585710-9ee5-43aa-b783-835660b72698",
   "metadata": {},
   "outputs": [
    {
     "data": {
      "text/plain": [
       "ESPECIALIDADE\n",
       "inteligência artificial    1800\n",
       "engenharia de software     1727\n",
       "sistemas de computação     1086\n",
       "Name: count, dtype: int64"
      ]
     },
     "execution_count": 254,
     "metadata": {},
     "output_type": "execute_result"
    }
   ],
   "source": [
    "df['ESPECIALIDADE'].value_counts()"
   ]
  },
  {
   "cell_type": "code",
   "execution_count": 255,
   "id": "499ac9ee-ca00-4716-9c13-bd47839a3250",
   "metadata": {
    "tags": []
   },
   "outputs": [],
   "source": [
    "X_dataset = df.loc[:,['IDADE','SEXO','REGIAO','matematica', 'fund_computacao','tec_computacao','ESPECIALIDADE']]"
   ]
  },
  {
   "cell_type": "code",
   "execution_count": 256,
   "id": "081c4e82-231f-4300-bb32-af1836580e66",
   "metadata": {},
   "outputs": [],
   "source": [
    "# X_dataset.drop('area_concentration',axis=1, inplace =True)\n",
    "# X_dataset = pd.get_dummies(X_dataset.iloc[:,:-1]).astype('int64')"
   ]
  },
  {
   "cell_type": "code",
   "execution_count": 257,
   "id": "3ed6f40b-fd86-4f10-8369-a0620b423511",
   "metadata": {},
   "outputs": [],
   "source": [
    "X_dataset['ESPECIALIDADE'] = df.ESPECIALIDADE\n",
    "X_dataset['ESPECIALIDADE'] = X_dataset['ESPECIALIDADE'].astype('category')"
   ]
  },
  {
   "cell_type": "code",
   "execution_count": 258,
   "id": "b80e4b51-ae86-4083-8086-d7989060a4c2",
   "metadata": {},
   "outputs": [],
   "source": [
    "# colunas_a_padronizar = ['matematica', 'fund_computacao', 'tec_computacao']\n",
    "# scaler = StandardScaler()\n",
    "# X_dataset[colunas_a_padronizar] = scaler.fit_transform(X_dataset[colunas_a_padronizar])"
   ]
  },
  {
   "cell_type": "code",
   "execution_count": 259,
   "id": "fc515f69-4e5e-43f1-b601-a6a84612d324",
   "metadata": {},
   "outputs": [],
   "source": [
    "def encode_categorical_columns(df, columns):\n",
    "    le = LabelEncoder()\n",
    "    for col in columns:\n",
    "        df[col] = le.fit_transform(df[col])\n",
    "    return df\n",
    "\n",
    "categorical_columns = ['SEXO','REGIAO']\n",
    "X_dataset = encode_categorical_columns(X_dataset, categorical_columns)\n"
   ]
  },
  {
   "cell_type": "code",
   "execution_count": 260,
   "id": "95c8e5c0-7bd4-41d4-bd71-2b2d07226f2c",
   "metadata": {},
   "outputs": [
    {
     "data": {
      "text/html": [
       "<div>\n",
       "<style scoped>\n",
       "    .dataframe tbody tr th:only-of-type {\n",
       "        vertical-align: middle;\n",
       "    }\n",
       "\n",
       "    .dataframe tbody tr th {\n",
       "        vertical-align: top;\n",
       "    }\n",
       "\n",
       "    .dataframe thead th {\n",
       "        text-align: right;\n",
       "    }\n",
       "</style>\n",
       "<table border=\"1\" class=\"dataframe\">\n",
       "  <thead>\n",
       "    <tr style=\"text-align: right;\">\n",
       "      <th></th>\n",
       "      <th>IDADE</th>\n",
       "      <th>SEXO</th>\n",
       "      <th>REGIAO</th>\n",
       "      <th>matematica</th>\n",
       "      <th>fund_computacao</th>\n",
       "      <th>tec_computacao</th>\n",
       "      <th>ESPECIALIDADE</th>\n",
       "    </tr>\n",
       "  </thead>\n",
       "  <tbody>\n",
       "    <tr>\n",
       "      <th>1</th>\n",
       "      <td>21</td>\n",
       "      <td>1</td>\n",
       "      <td>4</td>\n",
       "      <td>16.0</td>\n",
       "      <td>22.0</td>\n",
       "      <td>12.0</td>\n",
       "      <td>engenharia de software</td>\n",
       "    </tr>\n",
       "    <tr>\n",
       "      <th>2</th>\n",
       "      <td>25</td>\n",
       "      <td>1</td>\n",
       "      <td>3</td>\n",
       "      <td>4.0</td>\n",
       "      <td>16.0</td>\n",
       "      <td>8.0</td>\n",
       "      <td>engenharia de software</td>\n",
       "    </tr>\n",
       "    <tr>\n",
       "      <th>5</th>\n",
       "      <td>21</td>\n",
       "      <td>1</td>\n",
       "      <td>0</td>\n",
       "      <td>12.0</td>\n",
       "      <td>20.0</td>\n",
       "      <td>11.0</td>\n",
       "      <td>sistemas de computação</td>\n",
       "    </tr>\n",
       "    <tr>\n",
       "      <th>6</th>\n",
       "      <td>25</td>\n",
       "      <td>1</td>\n",
       "      <td>1</td>\n",
       "      <td>9.0</td>\n",
       "      <td>17.0</td>\n",
       "      <td>11.0</td>\n",
       "      <td>engenharia de software</td>\n",
       "    </tr>\n",
       "    <tr>\n",
       "      <th>7</th>\n",
       "      <td>23</td>\n",
       "      <td>1</td>\n",
       "      <td>0</td>\n",
       "      <td>7.0</td>\n",
       "      <td>15.0</td>\n",
       "      <td>4.0</td>\n",
       "      <td>inteligência artificial</td>\n",
       "    </tr>\n",
       "    <tr>\n",
       "      <th>...</th>\n",
       "      <td>...</td>\n",
       "      <td>...</td>\n",
       "      <td>...</td>\n",
       "      <td>...</td>\n",
       "      <td>...</td>\n",
       "      <td>...</td>\n",
       "      <td>...</td>\n",
       "    </tr>\n",
       "    <tr>\n",
       "      <th>9838</th>\n",
       "      <td>34</td>\n",
       "      <td>1</td>\n",
       "      <td>2</td>\n",
       "      <td>5.0</td>\n",
       "      <td>13.0</td>\n",
       "      <td>5.0</td>\n",
       "      <td>engenharia de software</td>\n",
       "    </tr>\n",
       "    <tr>\n",
       "      <th>9839</th>\n",
       "      <td>27</td>\n",
       "      <td>1</td>\n",
       "      <td>2</td>\n",
       "      <td>4.0</td>\n",
       "      <td>12.0</td>\n",
       "      <td>3.0</td>\n",
       "      <td>engenharia de software</td>\n",
       "    </tr>\n",
       "    <tr>\n",
       "      <th>9844</th>\n",
       "      <td>22</td>\n",
       "      <td>0</td>\n",
       "      <td>3</td>\n",
       "      <td>14.0</td>\n",
       "      <td>16.0</td>\n",
       "      <td>8.0</td>\n",
       "      <td>inteligência artificial</td>\n",
       "    </tr>\n",
       "    <tr>\n",
       "      <th>9846</th>\n",
       "      <td>24</td>\n",
       "      <td>1</td>\n",
       "      <td>3</td>\n",
       "      <td>9.0</td>\n",
       "      <td>18.0</td>\n",
       "      <td>8.0</td>\n",
       "      <td>engenharia de software</td>\n",
       "    </tr>\n",
       "    <tr>\n",
       "      <th>9847</th>\n",
       "      <td>25</td>\n",
       "      <td>1</td>\n",
       "      <td>3</td>\n",
       "      <td>10.0</td>\n",
       "      <td>16.0</td>\n",
       "      <td>6.0</td>\n",
       "      <td>inteligência artificial</td>\n",
       "    </tr>\n",
       "  </tbody>\n",
       "</table>\n",
       "<p>4613 rows × 7 columns</p>\n",
       "</div>"
      ],
      "text/plain": [
       "      IDADE  SEXO  REGIAO  matematica  fund_computacao  tec_computacao  \\\n",
       "1        21     1       4        16.0             22.0            12.0   \n",
       "2        25     1       3         4.0             16.0             8.0   \n",
       "5        21     1       0        12.0             20.0            11.0   \n",
       "6        25     1       1         9.0             17.0            11.0   \n",
       "7        23     1       0         7.0             15.0             4.0   \n",
       "...     ...   ...     ...         ...              ...             ...   \n",
       "9838     34     1       2         5.0             13.0             5.0   \n",
       "9839     27     1       2         4.0             12.0             3.0   \n",
       "9844     22     0       3        14.0             16.0             8.0   \n",
       "9846     24     1       3         9.0             18.0             8.0   \n",
       "9847     25     1       3        10.0             16.0             6.0   \n",
       "\n",
       "                ESPECIALIDADE  \n",
       "1      engenharia de software  \n",
       "2      engenharia de software  \n",
       "5      sistemas de computação  \n",
       "6      engenharia de software  \n",
       "7     inteligência artificial  \n",
       "...                       ...  \n",
       "9838   engenharia de software  \n",
       "9839   engenharia de software  \n",
       "9844  inteligência artificial  \n",
       "9846   engenharia de software  \n",
       "9847  inteligência artificial  \n",
       "\n",
       "[4613 rows x 7 columns]"
      ]
     },
     "execution_count": 260,
     "metadata": {},
     "output_type": "execute_result"
    }
   ],
   "source": [
    "X_dataset"
   ]
  },
  {
   "cell_type": "code",
   "execution_count": 261,
   "id": "1f54f1b5-8d95-4c24-a837-c90042f0291e",
   "metadata": {
    "tags": []
   },
   "outputs": [],
   "source": [
    "X = X_dataset.drop(['ESPECIALIDADE'], axis=1)\n",
    "y = X_dataset['ESPECIALIDADE']"
   ]
  },
  {
   "cell_type": "markdown",
   "id": "4a3a66fd-0f16-4dbe-8da9-689e75846071",
   "metadata": {
    "tags": []
   },
   "source": [
    "### Dividir a base"
   ]
  },
  {
   "cell_type": "code",
   "execution_count": 262,
   "id": "c25fe3bb-03a3-41b5-8094-7d30bfcfea06",
   "metadata": {
    "tags": []
   },
   "outputs": [],
   "source": [
    "x_train, x_test, y_train, y_test = train_test_split(X, y, test_size=0.3, random_state=42,stratify=y)"
   ]
  },
  {
   "cell_type": "code",
   "execution_count": 263,
   "id": "2d46d840-25f0-453e-8a40-bc936101bf29",
   "metadata": {},
   "outputs": [
    {
     "data": {
      "text/plain": [
       "ESPECIALIDADE\n",
       "inteligência artificial    540\n",
       "engenharia de software     518\n",
       "sistemas de computação     326\n",
       "Name: count, dtype: int64"
      ]
     },
     "execution_count": 263,
     "metadata": {},
     "output_type": "execute_result"
    }
   ],
   "source": [
    "y_test.value_counts()"
   ]
  },
  {
   "cell_type": "code",
   "execution_count": 264,
   "id": "dbc22457-96b6-4a28-9d4e-a9fe756d4412",
   "metadata": {},
   "outputs": [
    {
     "name": "stdout",
     "output_type": "stream",
     "text": [
      "Shape of x_train :  (3229, 6)\n",
      "Shape of x_test  :  (1384, 6)\n",
      "Shape of y_train :  (3229,)\n",
      "Shape of y_test  :  (1384,)\n"
     ]
    }
   ],
   "source": [
    "print(\"Shape of x_train : \",x_train.shape)\n",
    "print(\"Shape of x_test  : \",x_test.shape)\n",
    "print(\"Shape of y_train : \",y_train.shape)\n",
    "print(\"Shape of y_test  : \",y_test.shape)"
   ]
  },
  {
   "cell_type": "code",
   "execution_count": 265,
   "id": "06aad919-f2ac-473b-8b98-5eafb105a2b6",
   "metadata": {},
   "outputs": [],
   "source": [
    "def print_score(clf, x_train, y_train, x_test, y_test, train=True):\n",
    "    if train:\n",
    "        pred = clf.predict(x_train)\n",
    "        clf_report = pd.DataFrame(classification_report(y_train, pred, output_dict=True))\n",
    "        print(\"Train Result:\\n==========================================================================\")\n",
    "        print(f\"Accuracy Score: {accuracy_score(y_train, pred) * 100:.2f}%\")\n",
    "        print(\"__________________________________________________________________________\")\n",
    "        print(f\"CLASSIFICATION REPORT:\\n{clf_report}\")\n",
    "        print(\"__________________________________________________________________________\")\n",
    "        print(f\"Confusion Matrix: \\n {confusion_matrix(y_train, pred)}\\n\")\n",
    "        \n",
    "    elif train==False:\n",
    "        pred = clf.predict(x_test)\n",
    "        clf_report = pd.DataFrame(classification_report(y_test, pred, output_dict=True))\n",
    "        print(\"Test Result:\\n==========================================================================\")        \n",
    "        print(f\"Accuracy Score: {accuracy_score(y_test, pred) * 100:.2f}%\")\n",
    "        print(\"__________________________________________________________________________\")\n",
    "        print(f\"CLASSIFICATION REPORT:\\n{clf_report}\")\n",
    "        print(\"__________________________________________________________________________\")\n",
    "        print(f\"Confusion Matrix: \\n {confusion_matrix(y_test, pred)}\\n\")"
   ]
  },
  {
   "cell_type": "markdown",
   "id": "c465ab7e-ab91-4f38-b8b9-a5532bdd0d1b",
   "metadata": {
    "jp-MarkdownHeadingCollapsed": true,
    "tags": []
   },
   "source": [
    "### Árvore de Decisão"
   ]
  },
  {
   "cell_type": "code",
   "execution_count": 35,
   "id": "db0003a8-3c0a-4e1b-9de1-c0db92b736ac",
   "metadata": {
    "tags": []
   },
   "outputs": [],
   "source": [
    "parametros = {'criterion': [\"entropy\", \"log_loss\"],\n",
    "    'splitter': [\"best\", \"random\"],\n",
    "    'max_depth': [4,6,8],  # Ou qualquer outro intervalo apropriado\n",
    "    'min_samples_split': [2, 5, 10],\n",
    "    'min_samples_leaf': [1,2,3,4,5,6],\n",
    "    # 'min_weight_fraction_leaf': [0.0, 0.1, 0.2],\n",
    "    # 'max_features': [None, \"auto\", \"sqrt\", \"log2\"],\n",
    "    # 'max_leaf_nodes': [None, 5, 10, 20],\n",
    "    # 'min_impurity_decrease': [0.0, 0.1, 0.2],\n",
    "    # 'ccp_alpha': [0.0, 0.1, 0.2],\n",
    "}"
   ]
  },
  {
   "cell_type": "code",
   "execution_count": 36,
   "id": "fd232a86-eaa5-4e93-afb6-58840a9751b1",
   "metadata": {
    "tags": []
   },
   "outputs": [
    {
     "name": "stdout",
     "output_type": "stream",
     "text": [
      "Fitting 10 folds for each of 216 candidates, totalling 2160 fits\n",
      "{'criterion': 'entropy', 'max_depth': 6, 'min_samples_leaf': 3, 'min_samples_split': 2, 'splitter': 'random'}\n",
      "0.5377148145810984\n",
      "DecisionTreeClassifier(criterion='entropy', max_depth=6, min_samples_leaf=3,\n",
      "                       random_state=42, splitter='random')\n",
      "Train Result:\n",
      "==========================================================================\n",
      "Accuracy Score: 54.93%\n",
      "__________________________________________________________________________\n",
      "CLASSIFICATION REPORT:\n",
      "                    0      1            2            3           4  accuracy  \\\n",
      "precision    0.338308    0.0     0.475229     0.581602    0.666667  0.549318   \n",
      "recall       0.248175    0.0     0.374277     0.852174    0.003268  0.549318   \n",
      "f1-score     0.286316    0.0     0.418755     0.691358    0.006504  0.549318   \n",
      "support    274.000000  482.0  2076.000000  3450.000000  612.000000  0.549318   \n",
      "\n",
      "             macro avg  weighted avg  \n",
      "precision     0.412361      0.506789  \n",
      "recall        0.295579      0.549318  \n",
      "f1-score      0.280587      0.484037  \n",
      "support    6894.000000   6894.000000  \n",
      "__________________________________________________________________________\n",
      "Confusion Matrix: \n",
      " [[  68    0   23  183    0]\n",
      " [  55    0  202  225    0]\n",
      " [  18    0  777 1281    0]\n",
      " [  56    0  453 2940    1]\n",
      " [   4    0  180  426    2]]\n",
      "\n",
      "Test Result:\n",
      "==========================================================================\n",
      "Accuracy Score: 52.45%\n",
      "__________________________________________________________________________\n",
      "CLASSIFICATION REPORT:\n",
      "                    0      1           2            3      4  accuracy  \\\n",
      "precision    0.272727    0.0    0.439280     0.560965    0.0  0.524535   \n",
      "recall       0.203390    0.0    0.329213     0.834235    0.0  0.524535   \n",
      "f1-score     0.233010    0.0    0.376365     0.670838    0.0  0.524535   \n",
      "support    118.000000  207.0  890.000000  1478.000000  262.0  0.524535   \n",
      "\n",
      "             macro avg  weighted avg  \n",
      "precision     0.254594      0.423772  \n",
      "recall        0.273368      0.524535  \n",
      "f1-score      0.256042      0.458192  \n",
      "support    2955.000000   2955.000000  \n",
      "__________________________________________________________________________\n",
      "Confusion Matrix: \n",
      " [[  24    0   10   84    0]\n",
      " [  25    0   82  100    0]\n",
      " [  12    0  293  584    1]\n",
      " [  26    0  218 1233    1]\n",
      " [   1    0   64  197    0]]\n",
      "\n"
     ]
    }
   ],
   "source": [
    "tree_clf = DecisionTreeClassifier(random_state=42)\n",
    "tree_cv = GridSearchCV(estimator=tree_clf, param_grid=parametros, scoring=\"accuracy\", n_jobs=-1, verbose=1, cv=10)\n",
    "tree_cv.fit(x_train, y_train)\n",
    "melhores_parametros = tree_cv.best_params_\n",
    "melhor_resultado = tree_cv.best_score_\n",
    "print(melhores_parametros)\n",
    "print(melhor_resultado)\n",
    "print(tree_cv.best_estimator_)\n",
    "\n",
    "tree_clf = DecisionTreeClassifier(**melhores_parametros)\n",
    "tree_clf.fit(x_train, y_train)\n",
    "print_score(tree_clf, x_train, y_train, x_test, y_test, train=True)\n",
    "print_score(tree_clf, x_train, y_train, x_test, y_test, train=False)"
   ]
  },
  {
   "cell_type": "markdown",
   "id": "effde1be-9de1-4fb8-a725-df2040bc7270",
   "metadata": {
    "jp-MarkdownHeadingCollapsed": true,
    "tags": []
   },
   "source": [
    "### Rede Neural"
   ]
  },
  {
   "cell_type": "code",
   "execution_count": 105,
   "id": "334f458e-c7e6-4dcb-b62d-c1e0924dc648",
   "metadata": {
    "tags": []
   },
   "outputs": [],
   "source": [
    "parametros = {\n",
    "    'hidden_layer_sizes': [(100, 100)],  # Experimente diferentes configurações de camadas e neurônios\n",
    "    'activation': ['tanh'],\n",
    "    # 'solver': ['adam'],\n",
    "    'alpha': [0.0001],\n",
    "    # 'batch_size': ['auto', 100, 200],\n",
    "    # 'learning_rate': ['constant', 'invscaling', 'adaptive'],\n",
    "    # 'learning_rate_init': [0.001, 0.01, 0.1],\n",
    "    # 'power_t': [0.4],\n",
    "    # 'max_iter': [100],\n",
    "    # 'shuffle': [True],\n",
    "    # 'tol': [1e-3],\n",
    "    # 'verbose': [True, False],\n",
    "    # 'warm_start': [True, False],\n",
    "    # 'momentum': [0.001,0.002],\n",
    "    # 'nesterovs_momentum': [True, False],\n",
    "    # 'early_stopping': [True, False],\n",
    "    # 'validation_fraction': [0.1, 0.2],\n",
    "    # 'beta_1': [0.9, 0.99],\n",
    "    # 'beta_2': [0.99990,0.9999999],\n",
    "    # 'epsilon': [1e-5],\n",
    "    # 'n_iter_no_change': [15],\n",
    "    # 'max_fun': [10000, 15000, 20000]\n",
    "}"
   ]
  },
  {
   "cell_type": "code",
   "execution_count": 106,
   "id": "e9702684-ca95-4d7d-b7ee-4e7104e5bea5",
   "metadata": {
    "tags": []
   },
   "outputs": [
    {
     "name": "stdout",
     "output_type": "stream",
     "text": [
      "Fitting 10 folds for each of 1 candidates, totalling 10 fits\n",
      "{'activation': 'tanh', 'alpha': 0.0001, 'hidden_layer_sizes': (100, 100)}\n",
      "0.6461712505562973\n",
      "MLPClassifier(activation='tanh', hidden_layer_sizes=(100, 100), random_state=42)\n",
      "Train Result:\n",
      "==========================================================================\n",
      "Accuracy Score: 68.36%\n",
      "__________________________________________________________________________\n",
      "CLASSIFICATION REPORT:\n",
      "                     0            1  accuracy    macro avg  weighted avg\n",
      "precision     0.690798     0.648986  0.683649     0.669892      0.675440\n",
      "recall        0.905143     0.302106  0.683649     0.603625      0.683649\n",
      "f1-score      0.783577     0.412289  0.683649     0.597933      0.647204\n",
      "support    4744.000000  2754.000000  0.683649  7498.000000   7498.000000\n",
      "__________________________________________________________________________\n",
      "Confusion Matrix: \n",
      " [[4294  450]\n",
      " [1922  832]]\n",
      "\n",
      "Test Result:\n",
      "==========================================================================\n",
      "Accuracy Score: 65.31%\n",
      "__________________________________________________________________________\n",
      "CLASSIFICATION REPORT:\n",
      "                     0            1  accuracy    macro avg  weighted avg\n",
      "precision     0.673593     0.557319   0.65308     0.615456      0.630904\n",
      "recall        0.876598     0.267797   0.65308     0.572197      0.653080\n",
      "f1-score      0.761803     0.361763   0.65308     0.561783      0.614931\n",
      "support    2034.000000  1180.000000   0.65308  3214.000000   3214.000000\n",
      "__________________________________________________________________________\n",
      "Confusion Matrix: \n",
      " [[1783  251]\n",
      " [ 864  316]]\n",
      "\n"
     ]
    }
   ],
   "source": [
    "neural_clf = MLPClassifier(random_state=42)\n",
    "neural_cv = GridSearchCV(estimator=neural_clf, param_grid=parametros, scoring=\"accuracy\", n_jobs=-1, verbose=1, cv=10)\n",
    "neural_cv.fit(x_train, y_train)\n",
    "melhores_parametros = neural_cv.best_params_\n",
    "melhor_resultado = neural_cv.best_score_\n",
    "print(melhores_parametros)\n",
    "print(melhor_resultado)\n",
    "print(neural_cv.best_estimator_)\n",
    "\n",
    "neural_clf = MLPClassifier(**melhores_parametros)\n",
    "neural_clf.fit(x_train, y_train)\n",
    "print_score(neural_clf, x_train, y_train, x_test, y_test, train=True)\n",
    "print_score(neural_clf, x_train, y_train, x_test, y_test, train=False)"
   ]
  },
  {
   "cell_type": "code",
   "execution_count": 268,
   "id": "e922dfcc-f5a1-42ba-8113-1c86589c30d2",
   "metadata": {
    "collapsed": true,
    "jupyter": {
     "outputs_hidden": true,
     "source_hidden": true
    },
    "tags": []
   },
   "outputs": [
    {
     "name": "stdout",
     "output_type": "stream",
     "text": [
      "{'activation': 'logistic', 'batch_size': 5, 'solver': 'adam'}\n",
      "0.6516441075898416\n",
      "Train Result:\n",
      "==========================================================================\n",
      "Accuracy Score: 65.24%\n",
      "__________________________________________________________________________\n",
      "CLASSIFICATION REPORT:\n",
      "                     0            1  accuracy    macro avg  weighted avg\n",
      "precision     0.668084     0.571160  0.652355     0.619622      0.632150\n",
      "recall        0.889410     0.250000  0.652355     0.569705      0.652355\n",
      "f1-score      0.763021     0.347776  0.652355     0.555399      0.609073\n",
      "support    6185.000000  3644.000000  0.652355  9829.000000   9829.000000\n",
      "__________________________________________________________________________\n",
      "Confusion Matrix: \n",
      " [[5501  684]\n",
      " [2733  911]]\n",
      "\n",
      "Test Result:\n",
      "==========================================================================\n",
      "Accuracy Score: 66.12%\n",
      "__________________________________________________________________________\n",
      "CLASSIFICATION REPORT:\n",
      "                    0           1  accuracy    macro avg  weighted avg\n",
      "precision    0.671336    0.603659  0.661172     0.637497      0.646298\n",
      "recall       0.905523    0.245050  0.661172     0.575286      0.661172\n",
      "f1-score     0.771040    0.348592  0.661172     0.559816      0.614749\n",
      "support    688.000000  404.000000  0.661172  1092.000000   1092.000000\n",
      "__________________________________________________________________________\n",
      "Confusion Matrix: \n",
      " [[623  65]\n",
      " [305  99]]\n",
      "\n"
     ]
    }
   ],
   "source": [
    "neural_clf = MLPClassifier(random_state=42)\n",
    "neural_cv = GridSearchCV(estimator=neural_clf, param_grid=parametros)\n",
    "neural_cv.fit(train_x, train_y)\n",
    "melhores_parametros = neural_cv.best_params_\n",
    "melhor_resultado = neural_cv.best_score_\n",
    "print(melhores_parametros)\n",
    "print(melhor_resultado)\n",
    "\n",
    "neural_clf = MLPClassifier(**melhores_parametros)\n",
    "neural_clf.fit(train_x, train_y)\n",
    "print_score(neural_clf, train_x, train_y, test_x, test_y, train=True)\n",
    "print_score(neural_clf, train_x, train_y, test_x, test_y, train=False)"
   ]
  },
  {
   "cell_type": "markdown",
   "id": "f6016397-5780-4626-91c1-5c869e9bccd9",
   "metadata": {
    "tags": []
   },
   "source": [
    "### Random Forest"
   ]
  },
  {
   "cell_type": "code",
   "execution_count": 271,
   "id": "ffc38199-64fa-413e-98ff-7ea0274cf7db",
   "metadata": {
    "tags": []
   },
   "outputs": [],
   "source": [
    "parametros = {\n",
    "    'n_estimators': [2000,2500,3000,3500,10000],  # Você pode ajustar o número de árvores conforme necessário\n",
    "    # 'criterion': ['entropy'],\n",
    "    # 'max_depth': [8],\n",
    "    # 'min_samples_split': [2, 5, 10],\n",
    "    # 'min_samples_leaf': [1, 2, 4],\n",
    "    # 'min_weight_fraction_leaf': [0.0, 0.1, 0.2],\n",
    "    # 'max_features': ['sqrt', 'log2', None],\n",
    "    # 'max_leaf_nodes': [None, 10, 20, 30],\n",
    "    # 'min_impurity_decrease': [0.0, 0.1, 0.2],\n",
    "    # 'bootstrap': [False],\n",
    "    # 'oob_score': [True, False],\n",
    "    # 'n_jobs': [-1],  # Use -1 para usar todos os processadores disponíveis\n",
    "    # 'verbose': [0, 1, 2],\n",
    "    # 'warm_start': [True],\n",
    "    # 'class_weight': [None, 'balanced', 'balanced_subsample'],\n",
    "    # 'ccp_alpha': [0.0, 0.1, 0.2],\n",
    "    # 'max_samples': [None, 0.7, 0.8, 0.9],\n",
    "}"
   ]
  },
  {
   "cell_type": "code",
   "execution_count": null,
   "id": "083a583e-e80a-42ac-96b6-2b97f3e73d45",
   "metadata": {
    "tags": []
   },
   "outputs": [
    {
     "name": "stdout",
     "output_type": "stream",
     "text": [
      "Fitting 10 folds for each of 5 candidates, totalling 50 fits\n"
     ]
    }
   ],
   "source": [
    "forest_clf = RandomForestClassifier(random_state=42)\n",
    "forest_cv = GridSearchCV(estimator=forest_clf, param_grid=parametros, scoring=\"accuracy\", n_jobs=-1, verbose=1, cv=10)\n",
    "forest_cv.fit(x_train, y_train)\n",
    "melhores_parametros = forest_cv.best_params_\n",
    "melhor_resultado = forest_cv.best_score_\n",
    "print(melhores_parametros)\n",
    "print(melhor_resultado)\n",
    "print(forest_cv.best_estimator_)\n",
    "\n",
    "forest_clf = RandomForestClassifier(**melhores_parametros)\n",
    "forest_clf.fit(x_train, y_train)\n",
    "print_score(forest_clf, x_train, y_train, x_test, y_test, train=True)\n",
    "print_score(forest_clf, x_train, y_train, x_test, y_test, train=False)"
   ]
  },
  {
   "cell_type": "code",
   "execution_count": 273,
   "id": "5423a3a0-a111-402a-bfb9-b56e0d5976e5",
   "metadata": {},
   "outputs": [
    {
     "data": {
      "text/plain": [
       "['engenharia de software', 'sistemas de computação', 'inteligência artificial']"
      ]
     },
     "execution_count": 273,
     "metadata": {},
     "output_type": "execute_result"
    }
   ],
   "source": [
    "labels = df['ESPECIALIDADE'].unique().tolist()\n",
    "labels"
   ]
  },
  {
   "cell_type": "code",
   "execution_count": 238,
   "id": "36e8fdc9-7962-4cda-b230-83658df9e556",
   "metadata": {},
   "outputs": [],
   "source": [
    "pred = forest_clf.predict(x_test)"
   ]
  },
  {
   "cell_type": "code",
   "execution_count": 239,
   "id": "f6dbda91-49a2-4cbe-b33b-30f6862fb5a8",
   "metadata": {},
   "outputs": [
    {
     "data": {
      "image/png": "[encoded data removed]",
      "text/plain": [
       "<Figure size 640x480 with 2 Axes>"
      ]
     },
     "metadata": {},
     "output_type": "display_data"
    }
   ],
   "source": [
    "from sklearn.metrics import ConfusionMatrixDisplay, confusion_matrix\n",
    "cm = confusion_matrix(y_true=y_test, y_pred=pred)\n",
    "\n",
    "cm_display = ConfusionMatrixDisplay.from_estimator(forest_clf, x_test, y_test, display_labels=(sorted(labels)), xticks_rotation=\"vertical\")\n"
   ]
  },
  {
   "cell_type": "markdown",
   "id": "ccf19920-8048-481b-9636-e9123400e3c5",
   "metadata": {
    "jp-MarkdownHeadingCollapsed": true,
    "tags": []
   },
   "source": [
    "### SVM"
   ]
  },
  {
   "cell_type": "code",
   "execution_count": 41,
   "id": "af71b2ea-9f68-4fdf-84ce-fd21add8fe99",
   "metadata": {
    "tags": []
   },
   "outputs": [],
   "source": [
    "parametros = {\n",
    "    'C': [5000],\n",
    "    'kernel': ['rbf'],\n",
    "    'degree': [1],\n",
    "    # 'gamma': ['scale', 'auto', 0.1, 1.0],\n",
    "    # 'coef0': [0.0, 0.1, 1.0],\n",
    "    # 'shrinking': [True, False],\n",
    "    # 'probability': [True],\n",
    "    # 'tol': [1e-4],\n",
    "    # 'cache_size': np.arange(1,11,2),\n",
    "    # 'class_weight': [None, 'balanced'],\n",
    "    # 'verbose': [True],\n",
    "    # 'max_iter': [100, 1000, -1],  # -1 indica nenhum limite\n",
    "    # 'decision_function_shape': ['ovr', 'ovo'],\n",
    "    # 'break_ties': [True],\n",
    "}"
   ]
  },
  {
   "cell_type": "code",
   "execution_count": 39,
   "id": "532f319d-91c8-4bbb-936c-59bff944813a",
   "metadata": {
    "collapsed": true,
    "jupyter": {
     "outputs_hidden": true,
     "source_hidden": true
    },
    "tags": []
   },
   "outputs": [
    {
     "name": "stdout",
     "output_type": "stream",
     "text": [
      "Fitting 10 folds for each of 1 candidates, totalling 10 fits\n",
      "{'C': 50, 'degree': 1, 'kernel': 'rbf'}\n",
      "0.6344056741342848\n",
      "SVC(C=50, degree=1, random_state=42)\n",
      "Train Result:\n",
      "==========================================================================\n",
      "Accuracy Score: 64.18%\n",
      "__________________________________________________________________________\n",
      "CLASSIFICATION REPORT:\n",
      "                     0            1  accuracy    macro avg  weighted avg\n",
      "precision     0.641535     0.645802   0.64185     0.643668      0.643155\n",
      "recall        0.957811     0.125668   0.64185     0.541739      0.641850\n",
      "f1-score      0.768400     0.210395   0.64185     0.489398      0.556528\n",
      "support    5499.000000  3366.000000   0.64185  8865.000000   8865.000000\n",
      "__________________________________________________________________________\n",
      "Confusion Matrix: \n",
      " [[5267  232]\n",
      " [2943  423]]\n",
      "\n",
      "Test Result:\n",
      "==========================================================================\n",
      "Accuracy Score: 62.80%\n",
      "__________________________________________________________________________\n",
      "CLASSIFICATION REPORT:\n",
      "                    0           1  accuracy   macro avg  weighted avg\n",
      "precision    0.633188    0.558824  0.628049    0.596006      0.604923\n",
      "recall       0.950820    0.101604  0.628049    0.526212      0.628049\n",
      "f1-score     0.760157    0.171946  0.628049    0.466051      0.536589\n",
      "support    610.000000  374.000000  0.628049  984.000000    984.000000\n",
      "__________________________________________________________________________\n",
      "Confusion Matrix: \n",
      " [[580  30]\n",
      " [336  38]]\n",
      "\n"
     ]
    }
   ],
   "source": [
    "svm_clf = SVC(random_state=42)\n",
    "svm_cv = GridSearchCV(estimator=svm_clf, param_grid=parametros, scoring='accuracy', cv=10, n_jobs=-1, verbose=1)\n",
    "svm_cv.fit(train_x, train_y)\n",
    "melhores_parametros = svm_cv.best_params_\n",
    "melhor_resultado = svm_cv.best_score_\n",
    "print(melhores_parametros)\n",
    "print(melhor_resultado)\n",
    "print(svm_cv.best_estimator_)\n",
    "\n",
    "svm_clf = SVC(**melhores_parametros)\n",
    "svm_clf.fit(train_x, train_y)\n",
    "print_score(svm_clf, train_x, train_y, test_x, test_y, train=True)\n",
    "print_score(svm_clf, train_x, train_y, test_x, test_y, train=False)"
   ]
  },
  {
   "cell_type": "code",
   "execution_count": 42,
   "id": "178f836d-2051-4f90-9e3d-01cf094fef14",
   "metadata": {
    "tags": []
   },
   "outputs": [
    {
     "name": "stdout",
     "output_type": "stream",
     "text": [
      "{'C': 5000, 'degree': 1, 'kernel': 'rbf'}\n",
      "0.6495454449843293\n",
      "SVC(C=5000, degree=1, random_state=42)\n",
      "Train Result:\n",
      "==========================================================================\n",
      "Accuracy Score: 66.91%\n",
      "__________________________________________________________________________\n",
      "CLASSIFICATION REPORT:\n",
      "                     0            1  accuracy    macro avg  weighted avg\n",
      "precision     0.667002     0.682953  0.669133     0.674977      0.673059\n",
      "recall        0.931712     0.240260  0.669133     0.585986      0.669133\n",
      "f1-score      0.777442     0.355468  0.669133     0.566455      0.617197\n",
      "support    4276.000000  2618.000000  0.669133  6894.000000   6894.000000\n",
      "__________________________________________________________________________\n",
      "Confusion Matrix: \n",
      " [[3984  292]\n",
      " [1989  629]]\n",
      "\n",
      "Test Result:\n",
      "==========================================================================\n",
      "Accuracy Score: 64.74%\n",
      "__________________________________________________________________________\n",
      "CLASSIFICATION REPORT:\n",
      "                     0            1  accuracy    macro avg  weighted avg\n",
      "precision     0.652998     0.608108  0.647377     0.630553      0.635954\n",
      "recall        0.920895     0.200535  0.647377     0.560715      0.647377\n",
      "f1-score      0.764147     0.301609  0.647377     0.532878      0.588523\n",
      "support    1833.000000  1122.000000  0.647377  2955.000000   2955.000000\n",
      "__________________________________________________________________________\n",
      "Confusion Matrix: \n",
      " [[1688  145]\n",
      " [ 897  225]]\n",
      "\n"
     ]
    }
   ],
   "source": [
    "svm_clf = SVC(random_state=42)\n",
    "svm_cv = GridSearchCV(estimator=svm_clf, param_grid=parametros, scoring='accuracy', cv=10)\n",
    "svm_cv.fit(x_train, y_train)\n",
    "melhores_parametros = svm_cv.best_params_\n",
    "melhor_resultado = svm_cv.best_score_\n",
    "print(melhores_parametros)\n",
    "print(melhor_resultado)\n",
    "print(svm_cv.best_estimator_)\n",
    "\n",
    "svm_clf = SVC(**melhores_parametros)\n",
    "svm_clf.fit(x_train, y_train)\n",
    "print_score(svm_clf, x_train, y_train, x_test, y_test, train=True)\n",
    "print_score(svm_clf, x_train, y_train, x_test, y_test, train=False)"
   ]
  },
  {
   "cell_type": "markdown",
   "id": "dda7a79b-6c58-46d2-baed-b954f88428e2",
   "metadata": {
    "jp-MarkdownHeadingCollapsed": true
   },
   "source": [
    "### Validação Cruzada"
   ]
  },
  {
   "cell_type": "code",
   "execution_count": 43,
   "id": "73eb6727-f692-4af2-8d3e-add5b3e26c7a",
   "metadata": {},
   "outputs": [],
   "source": [
    "x_poscomp = np.concatenate((x_train, x_test), axis = 0)\n",
    "y_poscomp = np.concatenate((y_train, y_test), axis = 0)"
   ]
  },
  {
   "cell_type": "code",
   "execution_count": null,
   "id": "1c2e6742-479b-4090-968e-503e6a9d5d1b",
   "metadata": {},
   "outputs": [
    {
     "name": "stdout",
     "output_type": "stream",
     "text": [
      "0\n",
      "[LibSVM][LibSVM][LibSVM][LibSVM][LibSVM][LibSVM][LibSVM][LibSVM][LibSVM][LibSVM]1\n",
      "[LibSVM][LibSVM][LibSVM][LibSVM][LibSVM][LibSVM][LibSVM][LibSVM][LibSVM][LibSVM]2\n",
      "[LibSVM][LibSVM][LibSVM][LibSVM][LibSVM][LibSVM][LibSVM][LibSVM][LibSVM][LibSVM]3\n",
      "[LibSVM][LibSVM][LibSVM][LibSVM][LibSVM][LibSVM][LibSVM]"
     ]
    }
   ],
   "source": [
    "resultados_arvore = []\n",
    "resultados_random_forest = []\n",
    "# resultados_knn = []\n",
    "# resultados_logistica = []\n",
    "resultados_svm = []\n",
    "resultados_rede_neural = []\n",
    "\n",
    "for i in range(5):\n",
    "  print(i)\n",
    "  kfold = KFold(n_splits=10, shuffle=True, random_state=i)\n",
    "\n",
    "  arvore = DecisionTreeClassifier(criterion='entropy', max_depth=4, min_samples_leaf=6,\n",
    "                       random_state=42)\n",
    "  scores = cross_val_score(arvore, x_poscomp, y_poscomp, cv = kfold)\n",
    "  resultados_arvore.append(scores.mean())\n",
    "\n",
    "  random_forest = RandomForestClassifier(bootstrap=False, criterion='entropy', max_depth=10,\n",
    "                       n_estimators=200, n_jobs=-1, random_state=42,\n",
    "                       warm_start=True)\n",
    "  scores = cross_val_score(random_forest, x_poscomp, y_poscomp, cv = kfold)\n",
    "  resultados_random_forest.append(scores.mean())\n",
    "\n",
    "  svm = SVC(C=5000, break_ties=True, degree=1, probability=True, random_state=42,\n",
    "    tol=0.0001, verbose=True)\n",
    "  scores = cross_val_score(svm, x_poscomp, y_poscomp, cv = kfold)\n",
    "  resultados_svm.append(scores.mean())\n",
    "\n",
    "  rede_neural = MLPClassifier(activation='tanh', hidden_layer_sizes=(100, 100), random_state=42)\n",
    "  scores = cross_val_score(rede_neural, x_poscomp, y_poscomp, cv = kfold)\n",
    "  resultados_rede_neural.append(scores.mean())\n"
   ]
  },
  {
   "cell_type": "code",
   "execution_count": null,
   "id": "22d81ea6-eb8b-4c72-a636-38fa885da55d",
   "metadata": {},
   "outputs": [],
   "source": [
    "resultados = pd.DataFrame({'Arvore': resultados_arvore, 'Random forest': resultados_random_forest,\n",
    "                            'SVM': resultados_svm, 'Rede neural': resultados_rede_neural})\n",
    "resultados"
   ]
  },
  {
   "cell_type": "code",
   "execution_count": null,
   "id": "3ede2020-1946-43f8-9723-e483a9fa9079",
   "metadata": {},
   "outputs": [],
   "source": [
    "resultados.describe()"
   ]
  },
  {
   "cell_type": "code",
   "execution_count": null,
   "id": "e1d00ea6-db3b-4294-bc7c-fd50d2f84861",
   "metadata": {},
   "outputs": [],
   "source": [
    "resultados.var()"
   ]
  },
  {
   "cell_type": "code",
   "execution_count": null,
   "id": "34f440ca-43ee-465a-88f2-b12de810db8d",
   "metadata": {},
   "outputs": [],
   "source": [
    "(resultados.std() / resultados.mean()) * 100"
   ]
  },
  {
   "cell_type": "markdown",
   "id": "15c44eae-b7ae-4bff-9f6c-cf8d86758f65",
   "metadata": {
    "jp-MarkdownHeadingCollapsed": true
   },
   "source": [
    "#### Teste de normalidade"
   ]
  },
  {
   "cell_type": "code",
   "execution_count": null,
   "id": "f2d17ef4-0e48-4646-bcc4-877ea037056e",
   "metadata": {},
   "outputs": [],
   "source": [
    "alpha = 0.05"
   ]
  },
  {
   "cell_type": "code",
   "execution_count": null,
   "id": "b3bf3186-d560-48ea-8792-80a9c437faa5",
   "metadata": {},
   "outputs": [],
   "source": [
    "from scipy.stats import shapiro"
   ]
  },
  {
   "cell_type": "code",
   "execution_count": null,
   "id": "bde839c0-9686-4bf5-be39-e6eb8e3fb125",
   "metadata": {},
   "outputs": [],
   "source": [
    "shapiro(resultados_arvore), shapiro(resultados_random_forest), shapiro(resultados_svm), shapiro(resultados_rede_neural)"
   ]
  },
  {
   "cell_type": "markdown",
   "id": "89912f71-8b89-4b0e-a9c6-2b733cf8cd26",
   "metadata": {
    "jp-MarkdownHeadingCollapsed": true
   },
   "source": [
    "#### Teste de hipótese com ANOVA e Tukey"
   ]
  },
  {
   "cell_type": "code",
   "execution_count": null,
   "id": "319d4284-9eb6-4265-8739-1a61df5fc1e9",
   "metadata": {},
   "outputs": [],
   "source": [
    "from scipy.stats import f_oneway"
   ]
  },
  {
   "cell_type": "code",
   "execution_count": null,
   "id": "ceccf6e7-9f79-4344-a7fb-389a58768cbe",
   "metadata": {},
   "outputs": [],
   "source": [
    "_, p = f_oneway(resultados_arvore, resultados_random_forest, resultados_svm, resultados_rede_neural)\n",
    "p"
   ]
  },
  {
   "cell_type": "code",
   "execution_count": null,
   "id": "0064c754-2191-4f5e-8518-bc1e16512818",
   "metadata": {},
   "outputs": [],
   "source": [
    "alpha = 0.05\n",
    "if p <= alpha:\n",
    "  print('Hipótese nula rejeitada. Dados são diferentes')\n",
    "else:\n",
    "  print('Hipótese alternativa rejeitada. Resultados são iguais')"
   ]
  },
  {
   "cell_type": "code",
   "execution_count": null,
   "id": "efabdfbb-1dab-4765-9db9-0e32a7544dbd",
   "metadata": {},
   "outputs": [],
   "source": [
    "resultados_algoritmos = {'accuracy': np.concatenate([resultados_arvore, resultados_random_forest, resultados_svm, resultados_rede_neural]),\n",
    "                         'algoritmo': ['arvore','arvore','arvore','arvore','arvore','arvore','arvore','arvore','arvore','arvore','arvore','arvore','arvore','arvore','arvore','arvore','arvore','arvore','arvore','arvore','arvore','arvore','arvore','arvore','arvore','arvore','arvore','arvore','arvore','arvore',\n",
    "                          'random_forest','random_forest','random_forest','random_forest','random_forest','random_forest','random_forest','random_forest','random_forest','random_forest','random_forest','random_forest','random_forest','random_forest','random_forest','random_forest','random_forest','random_forest','random_forest','random_forest','random_forest','random_forest','random_forest','random_forest','random_forest','random_forest','random_forest','random_forest','random_forest','random_forest',\n",
    "                          'svm','svm','svm','svm','svm','svm','svm','svm','svm','svm','svm','svm','svm','svm','svm','svm','svm','svm','svm','svm','svm','svm','svm','svm','svm','svm','svm','svm','svm','svm',\n",
    "                          'rede_neural','rede_neural','rede_neural','rede_neural','rede_neural','rede_neural','rede_neural','rede_neural','rede_neural','rede_neural','rede_neural','rede_neural','rede_neural','rede_neural','rede_neural','rede_neural','rede_neural','rede_neural','rede_neural','rede_neural','rede_neural','rede_neural','rede_neural','rede_neural','rede_neural','rede_neural','rede_neural','rede_neural','rede_neural','rede_neural']}"
   ]
  },
  {
   "cell_type": "code",
   "execution_count": null,
   "id": "af08a3c3-4724-40e8-a25d-db8f4874b854",
   "metadata": {},
   "outputs": [],
   "source": [
    "resultados_df = pd.DataFrame(resultados_algoritmos)\n",
    "resultados_df"
   ]
  },
  {
   "cell_type": "code",
   "execution_count": null,
   "id": "cf9714e4-a923-41d9-bc7e-4104e8430ddb",
   "metadata": {},
   "outputs": [],
   "source": [
    "from statsmodels.stats.multicomp import MultiComparison"
   ]
  },
  {
   "cell_type": "code",
   "execution_count": null,
   "id": "1dfe45e6-bd2e-4748-a22e-32f4fb29e9e8",
   "metadata": {},
   "outputs": [],
   "source": [
    "compara_algoritmos = MultiComparison(resultados_df['accuracy'], resultados_df['algoritmo'])"
   ]
  },
  {
   "cell_type": "code",
   "execution_count": null,
   "id": "ad2843bc-6e1b-4e1d-b9d4-9f5272a27073",
   "metadata": {},
   "outputs": [],
   "source": [
    "teste_estatistico = compara_algoritmos.tukeyhsd()\n",
    "print(teste_estatistico)"
   ]
  },
  {
   "cell_type": "code",
   "execution_count": null,
   "id": "98b69529-c87d-44d2-ad14-833a537b5536",
   "metadata": {},
   "outputs": [],
   "source": [
    "resultados.mean()"
   ]
  },
  {
   "cell_type": "code",
   "execution_count": null,
   "id": "459c667a-73db-474a-b9b6-91b8662926ea",
   "metadata": {},
   "outputs": [],
   "source": [
    "teste_estatistico.plot_simultaneous();"
   ]
  },
  {
   "cell_type": "markdown",
   "id": "772e00b5-e66e-401c-bacd-61abd2fab756",
   "metadata": {
    "jp-MarkdownHeadingCollapsed": true
   },
   "source": [
    "#### Salvar o classificador treinado"
   ]
  },
  {
   "cell_type": "markdown",
   "id": "b4165c43-bef6-4baf-9f46-a8c1ae0b6279",
   "metadata": {},
   "source": [
    "### Os algoritmos"
   ]
  },
  {
   "cell_type": "code",
   "execution_count": 20,
   "id": "a1b13cae-c9e9-4983-98aa-d97d38e4fef6",
   "metadata": {},
   "outputs": [],
   "source": [
    "from sklearn.linear_model import SGDClassifier\n",
    "from sklearn.linear_model import LogisticRegression\n",
    "from sklearn.neighbors import KNeighborsClassifier\n",
    "from sklearn.naive_bayes import GaussianNB\n",
    "from sklearn.svm import LinearSVC"
   ]
  },
  {
   "cell_type": "code",
   "execution_count": 29,
   "id": "cca2bbdd-3d09-4e14-b8d2-2a485b3e3615",
   "metadata": {
    "tags": []
   },
   "outputs": [
    {
     "name": "stdout",
     "output_type": "stream",
     "text": [
      "Árvore de Decisão (C4.5) - Acurácia no Conjunto de Treinamento: 51.33%\n",
      "Árvore de Decisão (C4.5) - Acurácia no Conjunto de Teste: 51.30%\n",
      "Árvore de Decisão (C4.5) - Precisão: 25.28%\n",
      "Árvore de Decisão (C4.5) - Recall: 25.34%\n",
      "Árvore de Decisão (C4.5) - F1-Score: 22.29%\n",
      "Árvore de Decisão (C4.5) - Matriz de Confusão:\n",
      "[[  24    0    3   91    0]\n",
      " [  25    0   46  136    0]\n",
      " [  12    0  121  757    0]\n",
      " [  26    0   81 1371    0]\n",
      " [   1    0    9  252    0]]\n",
      "\n",
      "Random Forest - Acurácia no Conjunto de Treinamento: 68.64%\n",
      "Random Forest - Acurácia no Conjunto de Teste: 53.10%\n",
      "Random Forest - Precisão: 34.57%\n",
      "Random Forest - Recall: 24.84%\n",
      "Random Forest - F1-Score: 23.30%\n",
      "Random Forest - Matriz de Confusão:\n",
      "[[   4    3   14   97    0]\n",
      " [   0    7   59  141    0]\n",
      " [   1    7  269  611    2]\n",
      " [   6    2  179 1289    2]\n",
      " [   0    1   59  202    0]]\n",
      "\n",
      "SVM - Acurácia no Conjunto de Treinamento: 50.68%\n",
      "SVM - Acurácia no Conjunto de Teste: 50.42%\n",
      "SVM - Precisão: 19.11%\n",
      "SVM - Recall: 20.48%\n",
      "SVM - F1-Score: 14.85%\n",
      "SVM - Matriz de Confusão:\n",
      "[[   0    0    8  110    0]\n",
      " [   0    0    6  201    0]\n",
      " [   0    0   36  854    0]\n",
      " [   0    0   24 1454    0]\n",
      " [   0    0    6  256    0]]\n",
      "\n",
      "Rede Neural - Acurácia no Conjunto de Treinamento: 57.60%\n",
      "Rede Neural - Acurácia no Conjunto de Teste: 51.37%\n",
      "Rede Neural - Precisão: 37.56%\n",
      "Rede Neural - Recall: 28.42%\n",
      "Rede Neural - F1-Score: 29.47%\n",
      "Rede Neural - Matriz de Confusão:\n",
      "[[  12    9   19   75    3]\n",
      " [  10   28   65  102    2]\n",
      " [   7   20  299  547   17]\n",
      " [  13   21  260 1163   21]\n",
      " [   2    3   58  183   16]]\n",
      "\n"
     ]
    }
   ],
   "source": [
    "from sklearn.metrics import accuracy_score, precision_score, recall_score, f1_score, confusion_matrix\n",
    "\n",
    "algorithms = [\n",
    "    ('Árvore de Decisão (C4.5)', DecisionTreeClassifier(criterion='entropy', max_depth=4, min_samples_leaf=6,\n",
    "                       random_state=42)),\n",
    "    ('Random Forest', RandomForestClassifier(bootstrap=False, criterion='entropy', max_depth=10,\n",
    "                       n_estimators=200, n_jobs=-1, random_state=42,\n",
    "                       warm_start=True)),\n",
    "    ('SVM', SVC(random_state=42)),\n",
    "    ('Rede Neural', MLPClassifier(activation='tanh', hidden_layer_sizes=(100, 100), random_state=42)),\n",
    "]\n",
    "\n",
    "for name, classifier in algorithms:\n",
    "    classifier.fit(x_train, y_train)\n",
    "    train_predictions = classifier.predict(x_train)\n",
    "    test_predictions = classifier.predict(x_test)\n",
    "    \n",
    "    train_accuracy = accuracy_score(y_train, train_predictions)\n",
    "    test_accuracy = accuracy_score(y_test, test_predictions)\n",
    "    \n",
    "    precision = precision_score(y_test, test_predictions, average='macro')\n",
    "    recall = recall_score(y_test, test_predictions, average='macro')\n",
    "    f1 = f1_score(y_test, test_predictions, average='macro')\n",
    "    \n",
    "    conf_matrix = confusion_matrix(y_test, test_predictions)\n",
    "    \n",
    "    print(f'{name} - Acurácia no Conjunto de Treinamento: {train_accuracy * 100:.2f}%')\n",
    "    print(f'{name} - Acurácia no Conjunto de Teste: {test_accuracy * 100:.2f}%')\n",
    "    print(f'{name} - Precisão: {precision * 100:.2f}%')\n",
    "    print(f'{name} - Recall: {recall * 100:.2f}%')\n",
    "    print(f'{name} - F1-Score: {f1 * 100:.2f}%')\n",
    "    print(f'{name} - Matriz de Confusão:\\n{conf_matrix}\\n')\n"
   ]
  },
  {
   "cell_type": "code",
   "execution_count": 190,
   "id": "c5bef4cc-7544-45be-80c8-43e7095a64bc",
   "metadata": {
    "tags": []
   },
   "outputs": [
    {
     "name": "stdout",
     "output_type": "stream",
     "text": [
      "Árvore de Decisão (C4.5) - Acurácia no Conjunto de Treinamento: 99.58%\n",
      "Árvore de Decisão (C4.5) - Acurácia no Conjunto de Teste: 36.19%\n",
      "Árvore de Decisão (C4.5) - Precisão: 33.65%\n",
      "Árvore de Decisão (C4.5) - Recall: 33.74%\n",
      "Árvore de Decisão (C4.5) - F1-Score: 33.67%\n",
      "Árvore de Decisão (C4.5) - Matriz de Confusão:\n",
      "[[202 156  64 115]\n",
      " [151 225  65 103]\n",
      " [ 68  66  44  32]\n",
      " [103  87  25 116]]\n",
      "\n",
      "Random Forest - Acurácia no Conjunto de Treinamento: 99.58%\n",
      "Random Forest - Acurácia no Conjunto de Teste: 43.16%\n",
      "Random Forest - Precisão: 39.60%\n",
      "Random Forest - Recall: 37.49%\n",
      "Random Forest - F1-Score: 37.66%\n",
      "Random Forest - Matriz de Confusão:\n",
      "[[281 157  26  73]\n",
      " [171 286  42  45]\n",
      " [ 79  82  28  21]\n",
      " [126  88  12 105]]\n",
      "\n",
      "SVM - Acurácia no Conjunto de Treinamento: 43.62%\n",
      "SVM - Acurácia no Conjunto de Teste: 44.70%\n",
      "SVM - Precisão: 33.88%\n",
      "SVM - Recall: 33.70%\n",
      "SVM - F1-Score: 27.60%\n",
      "SVM - Matriz de Confusão:\n",
      "[[348 186   0   3]\n",
      " [170 371   0   3]\n",
      " [ 86 123   0   1]\n",
      " [203 122   0   6]]\n",
      "\n",
      "Rede Neural - Acurácia no Conjunto de Treinamento: 44.81%\n",
      "Rede Neural - Acurácia no Conjunto de Teste: 45.01%\n",
      "Rede Neural - Precisão: 44.21%\n",
      "Rede Neural - Recall: 35.48%\n",
      "Rede Neural - F1-Score: 32.32%\n",
      "Rede Neural - Matriz de Confusão:\n",
      "[[380 136  12   9]\n",
      " [206 313  17   8]\n",
      " [ 98  97  14   1]\n",
      " [213  90   5  23]]\n",
      "\n"
     ]
    }
   ],
   "source": [
    "from sklearn.metrics import accuracy_score, precision_score, recall_score, f1_score, confusion_matrix\n",
    "\n",
    "algorithms = [\n",
    "    ('Árvore de Decisão (C4.5)', DecisionTreeClassifier(random_state=42)),\n",
    "    ('Random Forest', RandomForestClassifier(random_state=42)),\n",
    "    ('SVM', SVC(random_state=42)),\n",
    "    ('Rede Neural', MLPClassifier(random_state=42)),\n",
    "]\n",
    "\n",
    "for name, classifier in algorithms:\n",
    "    classifier.fit(x_train, y_train)\n",
    "    train_predictions = classifier.predict(x_train)\n",
    "    test_predictions = classifier.predict(x_test)\n",
    "    \n",
    "    train_accuracy = accuracy_score(y_train, train_predictions)\n",
    "    test_accuracy = accuracy_score(y_test, test_predictions)\n",
    "    \n",
    "    precision = precision_score(y_test, test_predictions, average='macro')\n",
    "    recall = recall_score(y_test, test_predictions, average='macro')\n",
    "    f1 = f1_score(y_test, test_predictions, average='macro')\n",
    "    \n",
    "    conf_matrix = confusion_matrix(y_test, test_predictions)\n",
    "    \n",
    "    print(f'{name} - Acurácia no Conjunto de Treinamento: {train_accuracy * 100:.2f}%')\n",
    "    print(f'{name} - Acurácia no Conjunto de Teste: {test_accuracy * 100:.2f}%')\n",
    "    print(f'{name} - Precisão: {precision * 100:.2f}%')\n",
    "    print(f'{name} - Recall: {recall * 100:.2f}%')\n",
    "    print(f'{name} - F1-Score: {f1 * 100:.2f}%')\n",
    "    print(f'{name} - Matriz de Confusão:\\n{conf_matrix}\\n')\n"
   ]
  },
  {
   "cell_type": "markdown",
   "id": "3b436740-1c13-4d5f-8bf7-13ebbf20077c",
   "metadata": {
    "jp-MarkdownHeadingCollapsed": true
   },
   "source": [
    "# testar o algoritmos"
   ]
  },
  {
   "cell_type": "code",
   "execution_count": 290,
   "id": "61f013d6-fe05-4e70-8f56-cc487ec97c46",
   "metadata": {
    "tags": []
   },
   "outputs": [
    {
     "name": "stdout",
     "output_type": "stream",
     "text": [
      "Acurácia: 65.55%\n"
     ]
    }
   ],
   "source": [
    "classifier = RandomForestClassifier(bootstrap=False, criterion='entropy', max_depth=10,\n",
    "                       n_estimators=200, n_jobs=-1, random_state=42,\n",
    "                       warm_start=True)\n",
    "classifier.fit(x_train, y_train)\n",
    "predictions = classifier.predict(x_test)\n",
    "accuracy = accuracy_score(y_test, predictions)\n",
    "print(f'Acurácia: {accuracy * 100:.2f}%')\n"
   ]
  },
  {
   "cell_type": "code",
   "execution_count": 292,
   "id": "f033f78a-c9d5-4eed-86ca-9fa71926d0a8",
   "metadata": {},
   "outputs": [
    {
     "name": "stdout",
     "output_type": "stream",
     "text": [
      "              precision    recall  f1-score   support\n",
      "\n",
      "           0       0.66      0.93      0.77      2062\n",
      "           1       0.61      0.19      0.29      1215\n",
      "\n",
      "    accuracy                           0.66      3277\n",
      "   macro avg       0.64      0.56      0.53      3277\n",
      "weighted avg       0.64      0.66      0.59      3277\n",
      "\n"
     ]
    }
   ],
   "source": [
    "print(classification_report(y_test, predictions))"
   ]
  },
  {
   "cell_type": "code",
   "execution_count": 301,
   "id": "88cb2b12-e5a5-46d2-a698-d138eb59d67e",
   "metadata": {},
   "outputs": [],
   "source": [
    "precision = precision_score(y_test, predictions, average='macro')\n",
    "recall = recall_score(y_test, predictions, average='macro')\n",
    "f1 = f1_score(y_test, predictions, average='macro')"
   ]
  },
  {
   "cell_type": "code",
   "execution_count": 302,
   "id": "26839093-9d77-4473-8933-efde068fcd0b",
   "metadata": {},
   "outputs": [
    {
     "name": "stdout",
     "output_type": "stream",
     "text": [
      "Metricas = 63.66%\n",
      "Metricas = 56.06%\n",
      "Metricas = 53.30%\n"
     ]
    }
   ],
   "source": [
    "print(f'Metricas = {precision * 100:.2f}%')\n",
    "print(f'Metricas = {recall * 100:.2f}%')\n",
    "print(f'Metricas = {f1 * 100:.2f}%')"
   ]
  },
  {
   "cell_type": "code",
   "execution_count": 286,
   "id": "1ea953e9-f5b3-47bf-8038-306a80cdf85d",
   "metadata": {},
   "outputs": [
    {
     "data": {
      "text/plain": [
       "(array([0, 1], dtype=int64), array([2893,  384], dtype=int64))"
      ]
     },
     "execution_count": 286,
     "metadata": {},
     "output_type": "execute_result"
    }
   ],
   "source": [
    "valores_unicos, contagem = np.unique(predictions, return_counts=True)\n",
    "valores_unicos, contagem"
   ]
  },
  {
   "cell_type": "code",
   "execution_count": 276,
   "id": "a86bd18c-70ce-468f-819d-6c2055533c8d",
   "metadata": {
    "tags": []
   },
   "outputs": [
    {
     "name": "stdout",
     "output_type": "stream",
     "text": [
      "Especialidade prevista para o usuário: 0\n"
     ]
    }
   ],
   "source": [
    "from sklearn.preprocessing import StandardScaler\n",
    "\n",
    "# Dados do usuário\n",
    "dados_usuario = [[1, 10, 37, 2, 6.0, 14.0, 5.0]]  # Substitua esses valores pelos dados reais do usuário\n",
    "previsao_usuario = classifier.predict(dados_usuario)\n",
    "\n",
    "print(f'Especialidade prevista para o usuário: {previsao_usuario[0]}')  # Use [0] para acessar o valor único na matriz de previsão"
   ]
  },
  {
   "cell_type": "code",
   "execution_count": null,
   "id": "a7877acf-b370-42e1-bd72-9545b14c04ed",
   "metadata": {},
   "outputs": [],
   "source": [
    "def train_model(X, y):\n",
    "    smtom = SMOTETomek(random_state=139)\n",
    "    X_resampled, y_resampled = smtom.fit_resample(X, y)\n",
    "    X_train, X_test, y_train, y_test = train_test_split(X_resampled, y_resampled, test_size=0.2, stratify=y_resampled, random_state=42)\n",
    "    \n",
    "    classifier = RandomForestClassifier(criterion='entropy', max_depth=90, max_features='sqrt',\n",
    "                    min_samples_leaf=4, min_samples_split=2, n_estimators=195, random_state=42)\n",
    "    classifier.fit(X_train, y_train)\n",
    "    \n",
    "    predictions = classifier.predict(X_test)\n",
    "    accuracy = accuracy_score(y_test, predictions)\n",
    "    \n",
    "    return classifier, accuracy"
   ]
  },
  {
   "cell_type": "code",
   "execution_count": null,
   "id": "f42b13e3-d8f6-4f15-bf3d-53a84344180b",
   "metadata": {},
   "outputs": [],
   "source": [
    "if previsao_usuario == \"informatica\" or previsao_usuario == \"computacao\":\n",
    "    # Filtrar os dados para a área de concentração correspondente\n",
    "    area = X_dataset[X_dataset['area_concentration'] == previsao_usuario[0]]\n",
    "    X_area = area.drop(['ESPECIALIDADE', 'area_concentration'], axis=1)\n",
    "    y_area = area['ESPECIALIDADE']\n",
    "\n",
    "    # Treinar o modelo\n",
    "    classifier, accuracy = train_model(X_area, y_area)\n",
    "\n",
    "    print(f'Acurácia: {accuracy * 100:.2f}%')\n",
    "    print(f'Linha de Pesquisa Prevista: {classifier.predict(X_area.iloc[[0]])[0]}')\n",
    "else:\n",
    "    print(\"Área de concentração não reconhecida\")\n"
   ]
  }
 ],
 "metadata": {
  "kernelspec": {
   "display_name": "Python 3 (ipykernel)",
   "language": "python",
   "name": "python3"
  },
  "language_info": {
   "codemirror_mode": {
    "name": "ipython",
    "version": 3
   },
   "file_extension": ".py",
   "mimetype": "text/x-python",
   "name": "python",
   "nbconvert_exporter": "python",
   "pygments_lexer": "ipython3",
   "version": "3.9.12"
  }
 },
 "nbformat": 4,
 "nbformat_minor": 5
}
