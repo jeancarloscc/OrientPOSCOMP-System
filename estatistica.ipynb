{
 "cells": [
  {
   "cell_type": "code",
   "execution_count": 76,
   "id": "86cd8efd-6fcf-45b5-9961-2a361cee8d27",
   "metadata": {
    "tags": []
   },
   "outputs": [],
   "source": [
    "import pandas as pd\n",
    "import numpy as np\n",
    "import matplotlib.pyplot as plt\n",
    "import seaborn as sns"
   ]
  },
  {
   "cell_type": "code",
   "execution_count": 77,
   "id": "b9a59878-9201-4d7a-afe3-f84274acc70d",
   "metadata": {
    "tags": []
   },
   "outputs": [],
   "source": [
    "dataset = pd.read_csv('dados/dataset_poscompKmeans.csv')\n",
    "dataset = dataset.drop(columns=['Unnamed: 0'])"
   ]
  },
  {
   "cell_type": "markdown",
   "id": "c4b1812a-7a42-4c95-8d04-7c2e0a52c592",
   "metadata": {
    "tags": []
   },
   "source": [
    "# Estatistica da base de dados"
   ]
  },
  {
   "cell_type": "code",
   "execution_count": 78,
   "id": "c17770c0-cb81-482b-8d3b-632abe183165",
   "metadata": {
    "tags": []
   },
   "outputs": [
    {
     "data": {
      "text/html": [
       "<div>\n",
       "<style scoped>\n",
       "    .dataframe tbody tr th:only-of-type {\n",
       "        vertical-align: middle;\n",
       "    }\n",
       "\n",
       "    .dataframe tbody tr th {\n",
       "        vertical-align: top;\n",
       "    }\n",
       "\n",
       "    .dataframe thead th {\n",
       "        text-align: right;\n",
       "    }\n",
       "</style>\n",
       "<table border=\"1\" class=\"dataframe\">\n",
       "  <thead>\n",
       "    <tr style=\"text-align: right;\">\n",
       "      <th></th>\n",
       "      <th>DATA NASC.</th>\n",
       "      <th>SEXO</th>\n",
       "      <th>ESTADO</th>\n",
       "      <th>REGIAO</th>\n",
       "      <th>ESPECIALIDADE</th>\n",
       "      <th>Matemática Discreta</th>\n",
       "      <th>Cálculo Diferencial e Integral</th>\n",
       "      <th>Álgebra Linear</th>\n",
       "      <th>Geometria Analítica</th>\n",
       "      <th>Análise Combinatória</th>\n",
       "      <th>...</th>\n",
       "      <th>Inteligência Artificial</th>\n",
       "      <th>Engenharia de Software</th>\n",
       "      <th>Sistemas Distribuídos</th>\n",
       "      <th>Compiladores</th>\n",
       "      <th>Processamento de Imagens</th>\n",
       "      <th>Banco de Dados</th>\n",
       "      <th>matematica</th>\n",
       "      <th>fundamentos_computacao</th>\n",
       "      <th>tecnologia_computacao</th>\n",
       "      <th>Grupo</th>\n",
       "    </tr>\n",
       "  </thead>\n",
       "  <tbody>\n",
       "    <tr>\n",
       "      <th>0</th>\n",
       "      <td>29/11/1989</td>\n",
       "      <td>1</td>\n",
       "      <td>5</td>\n",
       "      <td>1</td>\n",
       "      <td>teoria da computação</td>\n",
       "      <td>3.0</td>\n",
       "      <td>3.0</td>\n",
       "      <td>2.0</td>\n",
       "      <td>0.0</td>\n",
       "      <td>1.0</td>\n",
       "      <td>...</td>\n",
       "      <td>1.0</td>\n",
       "      <td>3.0</td>\n",
       "      <td>2.0</td>\n",
       "      <td>1.0</td>\n",
       "      <td>1.0</td>\n",
       "      <td>1.0</td>\n",
       "      <td>14.0</td>\n",
       "      <td>21.0</td>\n",
       "      <td>10.0</td>\n",
       "      <td>0</td>\n",
       "    </tr>\n",
       "    <tr>\n",
       "      <th>1</th>\n",
       "      <td>23/02/1995</td>\n",
       "      <td>1</td>\n",
       "      <td>20</td>\n",
       "      <td>4</td>\n",
       "      <td>metodologia da computação</td>\n",
       "      <td>3.0</td>\n",
       "      <td>2.0</td>\n",
       "      <td>3.0</td>\n",
       "      <td>2.0</td>\n",
       "      <td>2.0</td>\n",
       "      <td>...</td>\n",
       "      <td>2.0</td>\n",
       "      <td>1.0</td>\n",
       "      <td>3.0</td>\n",
       "      <td>1.0</td>\n",
       "      <td>2.0</td>\n",
       "      <td>1.0</td>\n",
       "      <td>16.0</td>\n",
       "      <td>22.0</td>\n",
       "      <td>12.0</td>\n",
       "      <td>0</td>\n",
       "    </tr>\n",
       "    <tr>\n",
       "      <th>2</th>\n",
       "      <td>13/12/1991</td>\n",
       "      <td>1</td>\n",
       "      <td>24</td>\n",
       "      <td>3</td>\n",
       "      <td>engenharia de software</td>\n",
       "      <td>0.0</td>\n",
       "      <td>1.0</td>\n",
       "      <td>1.0</td>\n",
       "      <td>1.0</td>\n",
       "      <td>0.0</td>\n",
       "      <td>...</td>\n",
       "      <td>2.0</td>\n",
       "      <td>0.0</td>\n",
       "      <td>2.0</td>\n",
       "      <td>0.0</td>\n",
       "      <td>2.0</td>\n",
       "      <td>1.0</td>\n",
       "      <td>4.0</td>\n",
       "      <td>16.0</td>\n",
       "      <td>8.0</td>\n",
       "      <td>1</td>\n",
       "    </tr>\n",
       "    <tr>\n",
       "      <th>3</th>\n",
       "      <td>29/09/1986</td>\n",
       "      <td>1</td>\n",
       "      <td>13</td>\n",
       "      <td>0</td>\n",
       "      <td>modelagem e gerência de sistemas de informação</td>\n",
       "      <td>1.0</td>\n",
       "      <td>0.0</td>\n",
       "      <td>1.0</td>\n",
       "      <td>1.0</td>\n",
       "      <td>0.0</td>\n",
       "      <td>...</td>\n",
       "      <td>1.0</td>\n",
       "      <td>1.0</td>\n",
       "      <td>1.0</td>\n",
       "      <td>1.0</td>\n",
       "      <td>1.0</td>\n",
       "      <td>0.0</td>\n",
       "      <td>4.0</td>\n",
       "      <td>13.0</td>\n",
       "      <td>7.0</td>\n",
       "      <td>1</td>\n",
       "    </tr>\n",
       "    <tr>\n",
       "      <th>4</th>\n",
       "      <td>26/12/1997</td>\n",
       "      <td>0</td>\n",
       "      <td>3</td>\n",
       "      <td>0</td>\n",
       "      <td>computação gráfica, imagens e visualização</td>\n",
       "      <td>0.0</td>\n",
       "      <td>0.0</td>\n",
       "      <td>2.0</td>\n",
       "      <td>2.0</td>\n",
       "      <td>1.0</td>\n",
       "      <td>...</td>\n",
       "      <td>2.0</td>\n",
       "      <td>3.0</td>\n",
       "      <td>3.0</td>\n",
       "      <td>0.0</td>\n",
       "      <td>1.0</td>\n",
       "      <td>1.0</td>\n",
       "      <td>6.0</td>\n",
       "      <td>15.0</td>\n",
       "      <td>11.0</td>\n",
       "      <td>0</td>\n",
       "    </tr>\n",
       "  </tbody>\n",
       "</table>\n",
       "<p>5 rows × 34 columns</p>\n",
       "</div>"
      ],
      "text/plain": [
       "   DATA NASC.  SEXO  ESTADO  REGIAO  \\\n",
       "0  29/11/1989     1       5       1   \n",
       "1  23/02/1995     1      20       4   \n",
       "2  13/12/1991     1      24       3   \n",
       "3  29/09/1986     1      13       0   \n",
       "4  26/12/1997     0       3       0   \n",
       "\n",
       "                                    ESPECIALIDADE  Matemática Discreta  \\\n",
       "0                            teoria da computação                  3.0   \n",
       "1                       metodologia da computação                  3.0   \n",
       "2                          engenharia de software                  0.0   \n",
       "3  modelagem e gerência de sistemas de informação                  1.0   \n",
       "4      computação gráfica, imagens e visualização                  0.0   \n",
       "\n",
       "   Cálculo Diferencial e Integral  Álgebra Linear  Geometria Analítica  \\\n",
       "0                             3.0             2.0                  0.0   \n",
       "1                             2.0             3.0                  2.0   \n",
       "2                             1.0             1.0                  1.0   \n",
       "3                             0.0             1.0                  1.0   \n",
       "4                             0.0             2.0                  2.0   \n",
       "\n",
       "   Análise Combinatória  ...  Inteligência Artificial  Engenharia de Software  \\\n",
       "0                   1.0  ...                      1.0                     3.0   \n",
       "1                   2.0  ...                      2.0                     1.0   \n",
       "2                   0.0  ...                      2.0                     0.0   \n",
       "3                   0.0  ...                      1.0                     1.0   \n",
       "4                   1.0  ...                      2.0                     3.0   \n",
       "\n",
       "   Sistemas Distribuídos  Compiladores  Processamento de Imagens  \\\n",
       "0                    2.0           1.0                       1.0   \n",
       "1                    3.0           1.0                       2.0   \n",
       "2                    2.0           0.0                       2.0   \n",
       "3                    1.0           1.0                       1.0   \n",
       "4                    3.0           0.0                       1.0   \n",
       "\n",
       "   Banco de Dados  matematica  fundamentos_computacao  tecnologia_computacao  \\\n",
       "0             1.0        14.0                    21.0                   10.0   \n",
       "1             1.0        16.0                    22.0                   12.0   \n",
       "2             1.0         4.0                    16.0                    8.0   \n",
       "3             0.0         4.0                    13.0                    7.0   \n",
       "4             1.0         6.0                    15.0                   11.0   \n",
       "\n",
       "   Grupo  \n",
       "0      0  \n",
       "1      0  \n",
       "2      1  \n",
       "3      1  \n",
       "4      0  \n",
       "\n",
       "[5 rows x 34 columns]"
      ]
     },
     "execution_count": 78,
     "metadata": {},
     "output_type": "execute_result"
    }
   ],
   "source": [
    "dataset.head()"
   ]
  },
  {
   "cell_type": "code",
   "execution_count": 79,
   "id": "0ec54ad6-d7d3-40b8-9554-0f3293ebfdec",
   "metadata": {
    "tags": []
   },
   "outputs": [
    {
     "data": {
      "text/plain": [
       "array([0, 1], dtype=int64)"
      ]
     },
     "execution_count": 79,
     "metadata": {},
     "output_type": "execute_result"
    }
   ],
   "source": [
    "dataset['Grupo'].unique()"
   ]
  },
  {
   "cell_type": "code",
   "execution_count": 80,
   "id": "adda19b3-7bac-49ac-b4d7-a79a5a3aeb71",
   "metadata": {
    "tags": []
   },
   "outputs": [
    {
     "data": {
      "text/plain": [
       "(10977, 34)"
      ]
     },
     "execution_count": 80,
     "metadata": {},
     "output_type": "execute_result"
    }
   ],
   "source": [
    "dataset.shape"
   ]
  },
  {
   "cell_type": "code",
   "execution_count": 81,
   "id": "efa8c6d0-42ff-414f-9f9f-793fd0c3cf0a",
   "metadata": {
    "tags": []
   },
   "outputs": [
    {
     "data": {
      "text/html": [
       "<div>\n",
       "<style scoped>\n",
       "    .dataframe tbody tr th:only-of-type {\n",
       "        vertical-align: middle;\n",
       "    }\n",
       "\n",
       "    .dataframe tbody tr th {\n",
       "        vertical-align: top;\n",
       "    }\n",
       "\n",
       "    .dataframe thead th {\n",
       "        text-align: right;\n",
       "    }\n",
       "</style>\n",
       "<table border=\"1\" class=\"dataframe\">\n",
       "  <thead>\n",
       "    <tr style=\"text-align: right;\">\n",
       "      <th></th>\n",
       "      <th>DATA NASC.</th>\n",
       "      <th>SEXO</th>\n",
       "      <th>ESTADO</th>\n",
       "      <th>REGIAO</th>\n",
       "      <th>ESPECIALIDADE</th>\n",
       "      <th>Matemática Discreta</th>\n",
       "      <th>Cálculo Diferencial e Integral</th>\n",
       "      <th>Álgebra Linear</th>\n",
       "      <th>Geometria Analítica</th>\n",
       "      <th>Análise Combinatória</th>\n",
       "      <th>...</th>\n",
       "      <th>Inteligência Artificial</th>\n",
       "      <th>Engenharia de Software</th>\n",
       "      <th>Sistemas Distribuídos</th>\n",
       "      <th>Compiladores</th>\n",
       "      <th>Processamento de Imagens</th>\n",
       "      <th>Banco de Dados</th>\n",
       "      <th>matematica</th>\n",
       "      <th>fundamentos_computacao</th>\n",
       "      <th>tecnologia_computacao</th>\n",
       "      <th>Grupo</th>\n",
       "    </tr>\n",
       "  </thead>\n",
       "  <tbody>\n",
       "    <tr>\n",
       "      <th>10972</th>\n",
       "      <td>17/01/1997</td>\n",
       "      <td>0</td>\n",
       "      <td>12</td>\n",
       "      <td>3</td>\n",
       "      <td>inteligência artificial</td>\n",
       "      <td>3.0</td>\n",
       "      <td>2.0</td>\n",
       "      <td>3.0</td>\n",
       "      <td>3.0</td>\n",
       "      <td>1.0</td>\n",
       "      <td>...</td>\n",
       "      <td>2.0</td>\n",
       "      <td>1.0</td>\n",
       "      <td>1.0</td>\n",
       "      <td>1.0</td>\n",
       "      <td>0.0</td>\n",
       "      <td>1.0</td>\n",
       "      <td>14.0</td>\n",
       "      <td>16.0</td>\n",
       "      <td>8.0</td>\n",
       "      <td>0</td>\n",
       "    </tr>\n",
       "    <tr>\n",
       "      <th>10973</th>\n",
       "      <td>04/09/1971</td>\n",
       "      <td>1</td>\n",
       "      <td>14</td>\n",
       "      <td>1</td>\n",
       "      <td>redes de computadores e sistemas distribuidos</td>\n",
       "      <td>1.0</td>\n",
       "      <td>1.0</td>\n",
       "      <td>2.0</td>\n",
       "      <td>2.0</td>\n",
       "      <td>0.0</td>\n",
       "      <td>...</td>\n",
       "      <td>0.0</td>\n",
       "      <td>2.0</td>\n",
       "      <td>1.0</td>\n",
       "      <td>0.0</td>\n",
       "      <td>1.0</td>\n",
       "      <td>1.0</td>\n",
       "      <td>10.0</td>\n",
       "      <td>16.0</td>\n",
       "      <td>9.0</td>\n",
       "      <td>0</td>\n",
       "    </tr>\n",
       "    <tr>\n",
       "      <th>10974</th>\n",
       "      <td>08/07/1995</td>\n",
       "      <td>1</td>\n",
       "      <td>24</td>\n",
       "      <td>3</td>\n",
       "      <td>engenharia de software, gerenciamento de infor...</td>\n",
       "      <td>1.0</td>\n",
       "      <td>2.0</td>\n",
       "      <td>1.0</td>\n",
       "      <td>3.0</td>\n",
       "      <td>0.0</td>\n",
       "      <td>...</td>\n",
       "      <td>2.0</td>\n",
       "      <td>1.0</td>\n",
       "      <td>1.0</td>\n",
       "      <td>0.0</td>\n",
       "      <td>1.0</td>\n",
       "      <td>2.0</td>\n",
       "      <td>9.0</td>\n",
       "      <td>18.0</td>\n",
       "      <td>8.0</td>\n",
       "      <td>0</td>\n",
       "    </tr>\n",
       "    <tr>\n",
       "      <th>10975</th>\n",
       "      <td>10/01/1994</td>\n",
       "      <td>1</td>\n",
       "      <td>7</td>\n",
       "      <td>3</td>\n",
       "      <td>inteligência artificial</td>\n",
       "      <td>1.0</td>\n",
       "      <td>2.0</td>\n",
       "      <td>2.0</td>\n",
       "      <td>2.0</td>\n",
       "      <td>1.0</td>\n",
       "      <td>...</td>\n",
       "      <td>1.0</td>\n",
       "      <td>0.0</td>\n",
       "      <td>2.0</td>\n",
       "      <td>0.0</td>\n",
       "      <td>1.0</td>\n",
       "      <td>0.0</td>\n",
       "      <td>10.0</td>\n",
       "      <td>16.0</td>\n",
       "      <td>6.0</td>\n",
       "      <td>0</td>\n",
       "    </tr>\n",
       "    <tr>\n",
       "      <th>10976</th>\n",
       "      <td>20/03/1995</td>\n",
       "      <td>1</td>\n",
       "      <td>20</td>\n",
       "      <td>4</td>\n",
       "      <td>sistemas digitais e embarcados</td>\n",
       "      <td>3.0</td>\n",
       "      <td>2.0</td>\n",
       "      <td>2.0</td>\n",
       "      <td>2.0</td>\n",
       "      <td>1.0</td>\n",
       "      <td>...</td>\n",
       "      <td>2.0</td>\n",
       "      <td>0.0</td>\n",
       "      <td>1.0</td>\n",
       "      <td>0.0</td>\n",
       "      <td>1.0</td>\n",
       "      <td>0.0</td>\n",
       "      <td>13.0</td>\n",
       "      <td>17.0</td>\n",
       "      <td>5.0</td>\n",
       "      <td>0</td>\n",
       "    </tr>\n",
       "  </tbody>\n",
       "</table>\n",
       "<p>5 rows × 34 columns</p>\n",
       "</div>"
      ],
      "text/plain": [
       "       DATA NASC.  SEXO  ESTADO  REGIAO  \\\n",
       "10972  17/01/1997     0      12       3   \n",
       "10973  04/09/1971     1      14       1   \n",
       "10974  08/07/1995     1      24       3   \n",
       "10975  10/01/1994     1       7       3   \n",
       "10976  20/03/1995     1      20       4   \n",
       "\n",
       "                                           ESPECIALIDADE  Matemática Discreta  \\\n",
       "10972                            inteligência artificial                  3.0   \n",
       "10973      redes de computadores e sistemas distribuidos                  1.0   \n",
       "10974  engenharia de software, gerenciamento de infor...                  1.0   \n",
       "10975                            inteligência artificial                  1.0   \n",
       "10976                     sistemas digitais e embarcados                  3.0   \n",
       "\n",
       "       Cálculo Diferencial e Integral  Álgebra Linear  Geometria Analítica  \\\n",
       "10972                             2.0             3.0                  3.0   \n",
       "10973                             1.0             2.0                  2.0   \n",
       "10974                             2.0             1.0                  3.0   \n",
       "10975                             2.0             2.0                  2.0   \n",
       "10976                             2.0             2.0                  2.0   \n",
       "\n",
       "       Análise Combinatória  ...  Inteligência Artificial  \\\n",
       "10972                   1.0  ...                      2.0   \n",
       "10973                   0.0  ...                      0.0   \n",
       "10974                   0.0  ...                      2.0   \n",
       "10975                   1.0  ...                      1.0   \n",
       "10976                   1.0  ...                      2.0   \n",
       "\n",
       "       Engenharia de Software  Sistemas Distribuídos  Compiladores  \\\n",
       "10972                     1.0                    1.0           1.0   \n",
       "10973                     2.0                    1.0           0.0   \n",
       "10974                     1.0                    1.0           0.0   \n",
       "10975                     0.0                    2.0           0.0   \n",
       "10976                     0.0                    1.0           0.0   \n",
       "\n",
       "       Processamento de Imagens  Banco de Dados  matematica  \\\n",
       "10972                       0.0             1.0        14.0   \n",
       "10973                       1.0             1.0        10.0   \n",
       "10974                       1.0             2.0         9.0   \n",
       "10975                       1.0             0.0        10.0   \n",
       "10976                       1.0             0.0        13.0   \n",
       "\n",
       "       fundamentos_computacao  tecnologia_computacao  Grupo  \n",
       "10972                    16.0                    8.0      0  \n",
       "10973                    16.0                    9.0      0  \n",
       "10974                    18.0                    8.0      0  \n",
       "10975                    16.0                    6.0      0  \n",
       "10976                    17.0                    5.0      0  \n",
       "\n",
       "[5 rows x 34 columns]"
      ]
     },
     "execution_count": 81,
     "metadata": {},
     "output_type": "execute_result"
    }
   ],
   "source": [
    "dataset.tail()"
   ]
  },
  {
   "cell_type": "code",
   "execution_count": 82,
   "id": "63c1e6f2-d98f-44c9-a441-a8e4f5013d12",
   "metadata": {
    "tags": []
   },
   "outputs": [],
   "source": [
    "from datetime import datetime, date\n",
    "\n",
    "def age(idade):\n",
    "    idade = datetime.strptime(idade, \"%d/%m/%Y\").date()\n",
    "    today = date.today()\n",
    "    return today.year - idade.year - ((today.month, today.day) < (idade.month, idade.day))"
   ]
  },
  {
   "cell_type": "code",
   "execution_count": 83,
   "id": "41665e14-2eb0-416a-9458-c0063eea2077",
   "metadata": {
    "tags": []
   },
   "outputs": [],
   "source": [
    "dataset['DATA NASC.'] = dataset['DATA NASC.'].apply(age)"
   ]
  },
  {
   "cell_type": "code",
   "execution_count": 84,
   "id": "d3ca7f7b-ca69-421c-a46f-f7fcdf88e0da",
   "metadata": {
    "tags": []
   },
   "outputs": [],
   "source": [
    "dataset = dataset.rename(columns={'DATA NASC.': 'IDADE'})"
   ]
  },
  {
   "cell_type": "code",
   "execution_count": 85,
   "id": "be7c54cb-fd2a-42fd-a1a0-9e4d7ab34675",
   "metadata": {
    "tags": []
   },
   "outputs": [
    {
     "data": {
      "text/html": [
       "<div>\n",
       "<style scoped>\n",
       "    .dataframe tbody tr th:only-of-type {\n",
       "        vertical-align: middle;\n",
       "    }\n",
       "\n",
       "    .dataframe tbody tr th {\n",
       "        vertical-align: top;\n",
       "    }\n",
       "\n",
       "    .dataframe thead th {\n",
       "        text-align: right;\n",
       "    }\n",
       "</style>\n",
       "<table border=\"1\" class=\"dataframe\">\n",
       "  <thead>\n",
       "    <tr style=\"text-align: right;\">\n",
       "      <th></th>\n",
       "      <th>IDADE</th>\n",
       "      <th>SEXO</th>\n",
       "      <th>ESTADO</th>\n",
       "      <th>REGIAO</th>\n",
       "      <th>ESPECIALIDADE</th>\n",
       "      <th>Matemática Discreta</th>\n",
       "      <th>Cálculo Diferencial e Integral</th>\n",
       "      <th>Álgebra Linear</th>\n",
       "      <th>Geometria Analítica</th>\n",
       "      <th>Análise Combinatória</th>\n",
       "      <th>...</th>\n",
       "      <th>Inteligência Artificial</th>\n",
       "      <th>Engenharia de Software</th>\n",
       "      <th>Sistemas Distribuídos</th>\n",
       "      <th>Compiladores</th>\n",
       "      <th>Processamento de Imagens</th>\n",
       "      <th>Banco de Dados</th>\n",
       "      <th>matematica</th>\n",
       "      <th>fundamentos_computacao</th>\n",
       "      <th>tecnologia_computacao</th>\n",
       "      <th>Grupo</th>\n",
       "    </tr>\n",
       "  </thead>\n",
       "  <tbody>\n",
       "    <tr>\n",
       "      <th>0</th>\n",
       "      <td>33</td>\n",
       "      <td>1</td>\n",
       "      <td>5</td>\n",
       "      <td>1</td>\n",
       "      <td>teoria da computação</td>\n",
       "      <td>3.0</td>\n",
       "      <td>3.0</td>\n",
       "      <td>2.0</td>\n",
       "      <td>0.0</td>\n",
       "      <td>1.0</td>\n",
       "      <td>...</td>\n",
       "      <td>1.0</td>\n",
       "      <td>3.0</td>\n",
       "      <td>2.0</td>\n",
       "      <td>1.0</td>\n",
       "      <td>1.0</td>\n",
       "      <td>1.0</td>\n",
       "      <td>14.0</td>\n",
       "      <td>21.0</td>\n",
       "      <td>10.0</td>\n",
       "      <td>0</td>\n",
       "    </tr>\n",
       "    <tr>\n",
       "      <th>1</th>\n",
       "      <td>28</td>\n",
       "      <td>1</td>\n",
       "      <td>20</td>\n",
       "      <td>4</td>\n",
       "      <td>metodologia da computação</td>\n",
       "      <td>3.0</td>\n",
       "      <td>2.0</td>\n",
       "      <td>3.0</td>\n",
       "      <td>2.0</td>\n",
       "      <td>2.0</td>\n",
       "      <td>...</td>\n",
       "      <td>2.0</td>\n",
       "      <td>1.0</td>\n",
       "      <td>3.0</td>\n",
       "      <td>1.0</td>\n",
       "      <td>2.0</td>\n",
       "      <td>1.0</td>\n",
       "      <td>16.0</td>\n",
       "      <td>22.0</td>\n",
       "      <td>12.0</td>\n",
       "      <td>0</td>\n",
       "    </tr>\n",
       "    <tr>\n",
       "      <th>2</th>\n",
       "      <td>31</td>\n",
       "      <td>1</td>\n",
       "      <td>24</td>\n",
       "      <td>3</td>\n",
       "      <td>engenharia de software</td>\n",
       "      <td>0.0</td>\n",
       "      <td>1.0</td>\n",
       "      <td>1.0</td>\n",
       "      <td>1.0</td>\n",
       "      <td>0.0</td>\n",
       "      <td>...</td>\n",
       "      <td>2.0</td>\n",
       "      <td>0.0</td>\n",
       "      <td>2.0</td>\n",
       "      <td>0.0</td>\n",
       "      <td>2.0</td>\n",
       "      <td>1.0</td>\n",
       "      <td>4.0</td>\n",
       "      <td>16.0</td>\n",
       "      <td>8.0</td>\n",
       "      <td>1</td>\n",
       "    </tr>\n",
       "    <tr>\n",
       "      <th>3</th>\n",
       "      <td>36</td>\n",
       "      <td>1</td>\n",
       "      <td>13</td>\n",
       "      <td>0</td>\n",
       "      <td>modelagem e gerência de sistemas de informação</td>\n",
       "      <td>1.0</td>\n",
       "      <td>0.0</td>\n",
       "      <td>1.0</td>\n",
       "      <td>1.0</td>\n",
       "      <td>0.0</td>\n",
       "      <td>...</td>\n",
       "      <td>1.0</td>\n",
       "      <td>1.0</td>\n",
       "      <td>1.0</td>\n",
       "      <td>1.0</td>\n",
       "      <td>1.0</td>\n",
       "      <td>0.0</td>\n",
       "      <td>4.0</td>\n",
       "      <td>13.0</td>\n",
       "      <td>7.0</td>\n",
       "      <td>1</td>\n",
       "    </tr>\n",
       "    <tr>\n",
       "      <th>4</th>\n",
       "      <td>25</td>\n",
       "      <td>0</td>\n",
       "      <td>3</td>\n",
       "      <td>0</td>\n",
       "      <td>computação gráfica, imagens e visualização</td>\n",
       "      <td>0.0</td>\n",
       "      <td>0.0</td>\n",
       "      <td>2.0</td>\n",
       "      <td>2.0</td>\n",
       "      <td>1.0</td>\n",
       "      <td>...</td>\n",
       "      <td>2.0</td>\n",
       "      <td>3.0</td>\n",
       "      <td>3.0</td>\n",
       "      <td>0.0</td>\n",
       "      <td>1.0</td>\n",
       "      <td>1.0</td>\n",
       "      <td>6.0</td>\n",
       "      <td>15.0</td>\n",
       "      <td>11.0</td>\n",
       "      <td>0</td>\n",
       "    </tr>\n",
       "  </tbody>\n",
       "</table>\n",
       "<p>5 rows × 34 columns</p>\n",
       "</div>"
      ],
      "text/plain": [
       "   IDADE  SEXO  ESTADO  REGIAO  \\\n",
       "0     33     1       5       1   \n",
       "1     28     1      20       4   \n",
       "2     31     1      24       3   \n",
       "3     36     1      13       0   \n",
       "4     25     0       3       0   \n",
       "\n",
       "                                    ESPECIALIDADE  Matemática Discreta  \\\n",
       "0                            teoria da computação                  3.0   \n",
       "1                       metodologia da computação                  3.0   \n",
       "2                          engenharia de software                  0.0   \n",
       "3  modelagem e gerência de sistemas de informação                  1.0   \n",
       "4      computação gráfica, imagens e visualização                  0.0   \n",
       "\n",
       "   Cálculo Diferencial e Integral  Álgebra Linear  Geometria Analítica  \\\n",
       "0                             3.0             2.0                  0.0   \n",
       "1                             2.0             3.0                  2.0   \n",
       "2                             1.0             1.0                  1.0   \n",
       "3                             0.0             1.0                  1.0   \n",
       "4                             0.0             2.0                  2.0   \n",
       "\n",
       "   Análise Combinatória  ...  Inteligência Artificial  Engenharia de Software  \\\n",
       "0                   1.0  ...                      1.0                     3.0   \n",
       "1                   2.0  ...                      2.0                     1.0   \n",
       "2                   0.0  ...                      2.0                     0.0   \n",
       "3                   0.0  ...                      1.0                     1.0   \n",
       "4                   1.0  ...                      2.0                     3.0   \n",
       "\n",
       "   Sistemas Distribuídos  Compiladores  Processamento de Imagens  \\\n",
       "0                    2.0           1.0                       1.0   \n",
       "1                    3.0           1.0                       2.0   \n",
       "2                    2.0           0.0                       2.0   \n",
       "3                    1.0           1.0                       1.0   \n",
       "4                    3.0           0.0                       1.0   \n",
       "\n",
       "   Banco de Dados  matematica  fundamentos_computacao  tecnologia_computacao  \\\n",
       "0             1.0        14.0                    21.0                   10.0   \n",
       "1             1.0        16.0                    22.0                   12.0   \n",
       "2             1.0         4.0                    16.0                    8.0   \n",
       "3             0.0         4.0                    13.0                    7.0   \n",
       "4             1.0         6.0                    15.0                   11.0   \n",
       "\n",
       "   Grupo  \n",
       "0      0  \n",
       "1      0  \n",
       "2      1  \n",
       "3      1  \n",
       "4      0  \n",
       "\n",
       "[5 rows x 34 columns]"
      ]
     },
     "execution_count": 85,
     "metadata": {},
     "output_type": "execute_result"
    }
   ],
   "source": [
    "dataset.head()"
   ]
  },
  {
   "cell_type": "markdown",
   "id": "d2ed1ef8-4221-42d0-a966-a08f022fd237",
   "metadata": {
    "tags": []
   },
   "source": [
    "## Amostragem simples"
   ]
  },
  {
   "cell_type": "code",
   "execution_count": 86,
   "id": "f78a44c4-db31-405b-a33c-22a972441a05",
   "metadata": {
    "tags": []
   },
   "outputs": [],
   "source": [
    "def amostragem_aleatoria_simples(dataset, amostras):\n",
    "    return dataset.sample(n = amostras, random_state=1)"
   ]
  },
  {
   "cell_type": "code",
   "execution_count": 87,
   "id": "06948464-6420-4a16-ac16-2e6b6c12dffe",
   "metadata": {
    "tags": []
   },
   "outputs": [
    {
     "data": {
      "text/plain": [
       "(100, 34)"
      ]
     },
     "execution_count": 87,
     "metadata": {},
     "output_type": "execute_result"
    }
   ],
   "source": [
    "df_amostra_aleatoria_simples = amostragem_aleatoria_simples(dataset, 100)\n",
    "df_amostra_aleatoria_simples.shape"
   ]
  },
  {
   "cell_type": "code",
   "execution_count": 88,
   "id": "4ba9cc5f-cc44-4b11-bed3-f12ded731c33",
   "metadata": {},
   "outputs": [
    {
     "data": {
      "text/html": [
       "<div>\n",
       "<style scoped>\n",
       "    .dataframe tbody tr th:only-of-type {\n",
       "        vertical-align: middle;\n",
       "    }\n",
       "\n",
       "    .dataframe tbody tr th {\n",
       "        vertical-align: top;\n",
       "    }\n",
       "\n",
       "    .dataframe thead th {\n",
       "        text-align: right;\n",
       "    }\n",
       "</style>\n",
       "<table border=\"1\" class=\"dataframe\">\n",
       "  <thead>\n",
       "    <tr style=\"text-align: right;\">\n",
       "      <th></th>\n",
       "      <th>IDADE</th>\n",
       "      <th>SEXO</th>\n",
       "      <th>ESTADO</th>\n",
       "      <th>REGIAO</th>\n",
       "      <th>ESPECIALIDADE</th>\n",
       "      <th>Matemática Discreta</th>\n",
       "      <th>Cálculo Diferencial e Integral</th>\n",
       "      <th>Álgebra Linear</th>\n",
       "      <th>Geometria Analítica</th>\n",
       "      <th>Análise Combinatória</th>\n",
       "      <th>...</th>\n",
       "      <th>Inteligência Artificial</th>\n",
       "      <th>Engenharia de Software</th>\n",
       "      <th>Sistemas Distribuídos</th>\n",
       "      <th>Compiladores</th>\n",
       "      <th>Processamento de Imagens</th>\n",
       "      <th>Banco de Dados</th>\n",
       "      <th>matematica</th>\n",
       "      <th>fundamentos_computacao</th>\n",
       "      <th>tecnologia_computacao</th>\n",
       "      <th>Grupo</th>\n",
       "    </tr>\n",
       "  </thead>\n",
       "  <tbody>\n",
       "    <tr>\n",
       "      <th>2333</th>\n",
       "      <td>28</td>\n",
       "      <td>1</td>\n",
       "      <td>14</td>\n",
       "      <td>1</td>\n",
       "      <td>sistemas de computação</td>\n",
       "      <td>0.0</td>\n",
       "      <td>1.0</td>\n",
       "      <td>1.0</td>\n",
       "      <td>1.0</td>\n",
       "      <td>1.0</td>\n",
       "      <td>...</td>\n",
       "      <td>1.0</td>\n",
       "      <td>0.0</td>\n",
       "      <td>3.0</td>\n",
       "      <td>1.0</td>\n",
       "      <td>0.0</td>\n",
       "      <td>1.0</td>\n",
       "      <td>5.0</td>\n",
       "      <td>14.0</td>\n",
       "      <td>7.0</td>\n",
       "      <td>1</td>\n",
       "    </tr>\n",
       "    <tr>\n",
       "      <th>5768</th>\n",
       "      <td>60</td>\n",
       "      <td>1</td>\n",
       "      <td>24</td>\n",
       "      <td>3</td>\n",
       "      <td>bioinformática</td>\n",
       "      <td>1.0</td>\n",
       "      <td>2.0</td>\n",
       "      <td>1.0</td>\n",
       "      <td>0.0</td>\n",
       "      <td>2.0</td>\n",
       "      <td>...</td>\n",
       "      <td>2.0</td>\n",
       "      <td>2.0</td>\n",
       "      <td>2.0</td>\n",
       "      <td>1.0</td>\n",
       "      <td>2.0</td>\n",
       "      <td>2.0</td>\n",
       "      <td>6.0</td>\n",
       "      <td>18.0</td>\n",
       "      <td>13.0</td>\n",
       "      <td>0</td>\n",
       "    </tr>\n",
       "    <tr>\n",
       "      <th>9505</th>\n",
       "      <td>29</td>\n",
       "      <td>1</td>\n",
       "      <td>9</td>\n",
       "      <td>1</td>\n",
       "      <td>sistemas de computação</td>\n",
       "      <td>1.0</td>\n",
       "      <td>1.0</td>\n",
       "      <td>0.0</td>\n",
       "      <td>1.0</td>\n",
       "      <td>2.0</td>\n",
       "      <td>...</td>\n",
       "      <td>0.0</td>\n",
       "      <td>1.0</td>\n",
       "      <td>2.0</td>\n",
       "      <td>0.0</td>\n",
       "      <td>0.0</td>\n",
       "      <td>1.0</td>\n",
       "      <td>6.0</td>\n",
       "      <td>20.0</td>\n",
       "      <td>4.0</td>\n",
       "      <td>1</td>\n",
       "    </tr>\n",
       "    <tr>\n",
       "      <th>8427</th>\n",
       "      <td>29</td>\n",
       "      <td>1</td>\n",
       "      <td>23</td>\n",
       "      <td>4</td>\n",
       "      <td>redes de computadores</td>\n",
       "      <td>1.0</td>\n",
       "      <td>1.0</td>\n",
       "      <td>1.0</td>\n",
       "      <td>0.0</td>\n",
       "      <td>3.0</td>\n",
       "      <td>...</td>\n",
       "      <td>1.0</td>\n",
       "      <td>2.0</td>\n",
       "      <td>2.0</td>\n",
       "      <td>2.0</td>\n",
       "      <td>0.0</td>\n",
       "      <td>1.0</td>\n",
       "      <td>10.0</td>\n",
       "      <td>16.0</td>\n",
       "      <td>9.0</td>\n",
       "      <td>0</td>\n",
       "    </tr>\n",
       "    <tr>\n",
       "      <th>1094</th>\n",
       "      <td>27</td>\n",
       "      <td>1</td>\n",
       "      <td>24</td>\n",
       "      <td>3</td>\n",
       "      <td>engenharia de software</td>\n",
       "      <td>0.0</td>\n",
       "      <td>1.0</td>\n",
       "      <td>3.0</td>\n",
       "      <td>1.0</td>\n",
       "      <td>0.0</td>\n",
       "      <td>...</td>\n",
       "      <td>2.0</td>\n",
       "      <td>0.0</td>\n",
       "      <td>2.0</td>\n",
       "      <td>1.0</td>\n",
       "      <td>1.0</td>\n",
       "      <td>1.0</td>\n",
       "      <td>7.0</td>\n",
       "      <td>8.0</td>\n",
       "      <td>9.0</td>\n",
       "      <td>1</td>\n",
       "    </tr>\n",
       "  </tbody>\n",
       "</table>\n",
       "<p>5 rows × 34 columns</p>\n",
       "</div>"
      ],
      "text/plain": [
       "      IDADE  SEXO  ESTADO  REGIAO           ESPECIALIDADE  \\\n",
       "2333     28     1      14       1  sistemas de computação   \n",
       "5768     60     1      24       3          bioinformática   \n",
       "9505     29     1       9       1  sistemas de computação   \n",
       "8427     29     1      23       4   redes de computadores   \n",
       "1094     27     1      24       3  engenharia de software   \n",
       "\n",
       "      Matemática Discreta  Cálculo Diferencial e Integral  Álgebra Linear  \\\n",
       "2333                  0.0                             1.0             1.0   \n",
       "5768                  1.0                             2.0             1.0   \n",
       "9505                  1.0                             1.0             0.0   \n",
       "8427                  1.0                             1.0             1.0   \n",
       "1094                  0.0                             1.0             3.0   \n",
       "\n",
       "      Geometria Analítica  Análise Combinatória  ...  Inteligência Artificial  \\\n",
       "2333                  1.0                   1.0  ...                      1.0   \n",
       "5768                  0.0                   2.0  ...                      2.0   \n",
       "9505                  1.0                   2.0  ...                      0.0   \n",
       "8427                  0.0                   3.0  ...                      1.0   \n",
       "1094                  1.0                   0.0  ...                      2.0   \n",
       "\n",
       "      Engenharia de Software  Sistemas Distribuídos  Compiladores  \\\n",
       "2333                     0.0                    3.0           1.0   \n",
       "5768                     2.0                    2.0           1.0   \n",
       "9505                     1.0                    2.0           0.0   \n",
       "8427                     2.0                    2.0           2.0   \n",
       "1094                     0.0                    2.0           1.0   \n",
       "\n",
       "      Processamento de Imagens  Banco de Dados  matematica  \\\n",
       "2333                       0.0             1.0         5.0   \n",
       "5768                       2.0             2.0         6.0   \n",
       "9505                       0.0             1.0         6.0   \n",
       "8427                       0.0             1.0        10.0   \n",
       "1094                       1.0             1.0         7.0   \n",
       "\n",
       "      fundamentos_computacao  tecnologia_computacao  Grupo  \n",
       "2333                    14.0                    7.0      1  \n",
       "5768                    18.0                   13.0      0  \n",
       "9505                    20.0                    4.0      1  \n",
       "8427                    16.0                    9.0      0  \n",
       "1094                     8.0                    9.0      1  \n",
       "\n",
       "[5 rows x 34 columns]"
      ]
     },
     "execution_count": 88,
     "metadata": {},
     "output_type": "execute_result"
    }
   ],
   "source": [
    "df_amostra_aleatoria_simples.head()"
   ]
  },
  {
   "cell_type": "markdown",
   "id": "31759846-5641-4ba0-bc9d-e8af6b65a908",
   "metadata": {
    "jp-MarkdownHeadingCollapsed": true,
    "tags": []
   },
   "source": [
    "## Amostragem sistemática"
   ]
  },
  {
   "cell_type": "code",
   "execution_count": 89,
   "id": "3d667fea-ad3b-495f-abd5-6246b187e432",
   "metadata": {
    "tags": []
   },
   "outputs": [
    {
     "data": {
      "text/plain": [
       "109"
      ]
     },
     "execution_count": 89,
     "metadata": {},
     "output_type": "execute_result"
    }
   ],
   "source": [
    "len(dataset) // 100"
   ]
  },
  {
   "cell_type": "code",
   "execution_count": 90,
   "id": "5b62c293-dcb3-4014-9dc9-79ab0e3dbbff",
   "metadata": {
    "tags": []
   },
   "outputs": [],
   "source": [
    "import random"
   ]
  },
  {
   "cell_type": "code",
   "execution_count": 91,
   "id": "621561fb-b8e8-4652-ad50-b08471ec9ae1",
   "metadata": {
    "tags": []
   },
   "outputs": [
    {
     "data": {
      "text/plain": [
       "17"
      ]
     },
     "execution_count": 91,
     "metadata": {},
     "output_type": "execute_result"
    }
   ],
   "source": [
    "random.seed(1)\n",
    "random.randint(0, 109)"
   ]
  },
  {
   "cell_type": "code",
   "execution_count": 92,
   "id": "9c801bd0-e276-43a9-90f2-b3fd71e3a1fd",
   "metadata": {
    "tags": []
   },
   "outputs": [
    {
     "data": {
      "text/plain": [
       "array([   17,   126,   235,   344,   453,   562,   671,   780,   889,\n",
       "         998,  1107,  1216,  1325,  1434,  1543,  1652,  1761,  1870,\n",
       "        1979,  2088,  2197,  2306,  2415,  2524,  2633,  2742,  2851,\n",
       "        2960,  3069,  3178,  3287,  3396,  3505,  3614,  3723,  3832,\n",
       "        3941,  4050,  4159,  4268,  4377,  4486,  4595,  4704,  4813,\n",
       "        4922,  5031,  5140,  5249,  5358,  5467,  5576,  5685,  5794,\n",
       "        5903,  6012,  6121,  6230,  6339,  6448,  6557,  6666,  6775,\n",
       "        6884,  6993,  7102,  7211,  7320,  7429,  7538,  7647,  7756,\n",
       "        7865,  7974,  8083,  8192,  8301,  8410,  8519,  8628,  8737,\n",
       "        8846,  8955,  9064,  9173,  9282,  9391,  9500,  9609,  9718,\n",
       "        9827,  9936, 10045, 10154, 10263, 10372, 10481, 10590, 10699,\n",
       "       10808, 10917])"
      ]
     },
     "execution_count": 92,
     "metadata": {},
     "output_type": "execute_result"
    }
   ],
   "source": [
    "np.arange(17, len(dataset), step=109)"
   ]
  },
  {
   "cell_type": "code",
   "execution_count": 93,
   "id": "a36dcf65-9264-47d0-86d6-453ed7465374",
   "metadata": {
    "tags": []
   },
   "outputs": [],
   "source": [
    "def amostragem_sistematica(dataset, amostras):\n",
    "    intervalo = len(dataset) // amostras\n",
    "    random.seed(1)\n",
    "    inicio = random.randint(0, intervalo)\n",
    "    indices = np.arange(inicio, len(dataset), step=intervalo)\n",
    "    amostra_sistematica = dataset.iloc[indices]\n",
    "    return amostra_sistematica"
   ]
  },
  {
   "cell_type": "code",
   "execution_count": 94,
   "id": "3381ad05-ec94-43eb-adae-2f0b84814893",
   "metadata": {
    "tags": []
   },
   "outputs": [
    {
     "data": {
      "text/plain": [
       "(101, 34)"
      ]
     },
     "execution_count": 94,
     "metadata": {},
     "output_type": "execute_result"
    }
   ],
   "source": [
    "df_amostra_sistematica = amostragem_sistematica(dataset, 100)\n",
    "df_amostra_sistematica.shape"
   ]
  },
  {
   "cell_type": "code",
   "execution_count": 95,
   "id": "db20a6a2-9ece-4c68-9e1a-6d063bc16989",
   "metadata": {
    "tags": []
   },
   "outputs": [
    {
     "data": {
      "text/html": [
       "<div>\n",
       "<style scoped>\n",
       "    .dataframe tbody tr th:only-of-type {\n",
       "        vertical-align: middle;\n",
       "    }\n",
       "\n",
       "    .dataframe tbody tr th {\n",
       "        vertical-align: top;\n",
       "    }\n",
       "\n",
       "    .dataframe thead th {\n",
       "        text-align: right;\n",
       "    }\n",
       "</style>\n",
       "<table border=\"1\" class=\"dataframe\">\n",
       "  <thead>\n",
       "    <tr style=\"text-align: right;\">\n",
       "      <th></th>\n",
       "      <th>IDADE</th>\n",
       "      <th>SEXO</th>\n",
       "      <th>ESTADO</th>\n",
       "      <th>REGIAO</th>\n",
       "      <th>ESPECIALIDADE</th>\n",
       "      <th>Matemática Discreta</th>\n",
       "      <th>Cálculo Diferencial e Integral</th>\n",
       "      <th>Álgebra Linear</th>\n",
       "      <th>Geometria Analítica</th>\n",
       "      <th>Análise Combinatória</th>\n",
       "      <th>...</th>\n",
       "      <th>Inteligência Artificial</th>\n",
       "      <th>Engenharia de Software</th>\n",
       "      <th>Sistemas Distribuídos</th>\n",
       "      <th>Compiladores</th>\n",
       "      <th>Processamento de Imagens</th>\n",
       "      <th>Banco de Dados</th>\n",
       "      <th>matematica</th>\n",
       "      <th>fundamentos_computacao</th>\n",
       "      <th>tecnologia_computacao</th>\n",
       "      <th>Grupo</th>\n",
       "    </tr>\n",
       "  </thead>\n",
       "  <tbody>\n",
       "    <tr>\n",
       "      <th>17</th>\n",
       "      <td>40</td>\n",
       "      <td>0</td>\n",
       "      <td>16</td>\n",
       "      <td>1</td>\n",
       "      <td>interfaces humano-computador</td>\n",
       "      <td>1.0</td>\n",
       "      <td>0.0</td>\n",
       "      <td>3.0</td>\n",
       "      <td>0.0</td>\n",
       "      <td>0.0</td>\n",
       "      <td>...</td>\n",
       "      <td>2.0</td>\n",
       "      <td>3.0</td>\n",
       "      <td>1.0</td>\n",
       "      <td>0.0</td>\n",
       "      <td>0.0</td>\n",
       "      <td>2.0</td>\n",
       "      <td>4.0</td>\n",
       "      <td>11.0</td>\n",
       "      <td>9.0</td>\n",
       "      <td>1</td>\n",
       "    </tr>\n",
       "    <tr>\n",
       "      <th>126</th>\n",
       "      <td>27</td>\n",
       "      <td>0</td>\n",
       "      <td>15</td>\n",
       "      <td>4</td>\n",
       "      <td>segurança de dados e criptografia</td>\n",
       "      <td>2.0</td>\n",
       "      <td>1.0</td>\n",
       "      <td>2.0</td>\n",
       "      <td>0.0</td>\n",
       "      <td>1.0</td>\n",
       "      <td>...</td>\n",
       "      <td>1.0</td>\n",
       "      <td>1.0</td>\n",
       "      <td>3.0</td>\n",
       "      <td>1.0</td>\n",
       "      <td>1.0</td>\n",
       "      <td>2.0</td>\n",
       "      <td>8.0</td>\n",
       "      <td>19.0</td>\n",
       "      <td>12.0</td>\n",
       "      <td>0</td>\n",
       "    </tr>\n",
       "    <tr>\n",
       "      <th>235</th>\n",
       "      <td>32</td>\n",
       "      <td>1</td>\n",
       "      <td>24</td>\n",
       "      <td>3</td>\n",
       "      <td>inteligência artificial</td>\n",
       "      <td>1.0</td>\n",
       "      <td>1.0</td>\n",
       "      <td>2.0</td>\n",
       "      <td>1.0</td>\n",
       "      <td>2.0</td>\n",
       "      <td>...</td>\n",
       "      <td>1.0</td>\n",
       "      <td>3.0</td>\n",
       "      <td>2.0</td>\n",
       "      <td>1.0</td>\n",
       "      <td>1.0</td>\n",
       "      <td>0.0</td>\n",
       "      <td>9.0</td>\n",
       "      <td>18.0</td>\n",
       "      <td>9.0</td>\n",
       "      <td>0</td>\n",
       "    </tr>\n",
       "    <tr>\n",
       "      <th>344</th>\n",
       "      <td>32</td>\n",
       "      <td>0</td>\n",
       "      <td>13</td>\n",
       "      <td>0</td>\n",
       "      <td>engenharia de software</td>\n",
       "      <td>1.0</td>\n",
       "      <td>2.0</td>\n",
       "      <td>0.0</td>\n",
       "      <td>0.0</td>\n",
       "      <td>0.0</td>\n",
       "      <td>...</td>\n",
       "      <td>1.0</td>\n",
       "      <td>0.0</td>\n",
       "      <td>2.0</td>\n",
       "      <td>1.0</td>\n",
       "      <td>1.0</td>\n",
       "      <td>0.0</td>\n",
       "      <td>4.0</td>\n",
       "      <td>13.0</td>\n",
       "      <td>5.0</td>\n",
       "      <td>1</td>\n",
       "    </tr>\n",
       "    <tr>\n",
       "      <th>453</th>\n",
       "      <td>44</td>\n",
       "      <td>1</td>\n",
       "      <td>15</td>\n",
       "      <td>4</td>\n",
       "      <td>inteligência artificial</td>\n",
       "      <td>1.0</td>\n",
       "      <td>0.0</td>\n",
       "      <td>1.0</td>\n",
       "      <td>1.0</td>\n",
       "      <td>0.0</td>\n",
       "      <td>...</td>\n",
       "      <td>1.0</td>\n",
       "      <td>1.0</td>\n",
       "      <td>0.0</td>\n",
       "      <td>0.0</td>\n",
       "      <td>2.0</td>\n",
       "      <td>0.0</td>\n",
       "      <td>5.0</td>\n",
       "      <td>15.0</td>\n",
       "      <td>4.0</td>\n",
       "      <td>1</td>\n",
       "    </tr>\n",
       "  </tbody>\n",
       "</table>\n",
       "<p>5 rows × 34 columns</p>\n",
       "</div>"
      ],
      "text/plain": [
       "     IDADE  SEXO  ESTADO  REGIAO                      ESPECIALIDADE  \\\n",
       "17      40     0      16       1       interfaces humano-computador   \n",
       "126     27     0      15       4  segurança de dados e criptografia   \n",
       "235     32     1      24       3            inteligência artificial   \n",
       "344     32     0      13       0             engenharia de software   \n",
       "453     44     1      15       4            inteligência artificial   \n",
       "\n",
       "     Matemática Discreta  Cálculo Diferencial e Integral  Álgebra Linear  \\\n",
       "17                   1.0                             0.0             3.0   \n",
       "126                  2.0                             1.0             2.0   \n",
       "235                  1.0                             1.0             2.0   \n",
       "344                  1.0                             2.0             0.0   \n",
       "453                  1.0                             0.0             1.0   \n",
       "\n",
       "     Geometria Analítica  Análise Combinatória  ...  Inteligência Artificial  \\\n",
       "17                   0.0                   0.0  ...                      2.0   \n",
       "126                  0.0                   1.0  ...                      1.0   \n",
       "235                  1.0                   2.0  ...                      1.0   \n",
       "344                  0.0                   0.0  ...                      1.0   \n",
       "453                  1.0                   0.0  ...                      1.0   \n",
       "\n",
       "     Engenharia de Software  Sistemas Distribuídos  Compiladores  \\\n",
       "17                      3.0                    1.0           0.0   \n",
       "126                     1.0                    3.0           1.0   \n",
       "235                     3.0                    2.0           1.0   \n",
       "344                     0.0                    2.0           1.0   \n",
       "453                     1.0                    0.0           0.0   \n",
       "\n",
       "     Processamento de Imagens  Banco de Dados  matematica  \\\n",
       "17                        0.0             2.0         4.0   \n",
       "126                       1.0             2.0         8.0   \n",
       "235                       1.0             0.0         9.0   \n",
       "344                       1.0             0.0         4.0   \n",
       "453                       2.0             0.0         5.0   \n",
       "\n",
       "     fundamentos_computacao  tecnologia_computacao  Grupo  \n",
       "17                     11.0                    9.0      1  \n",
       "126                    19.0                   12.0      0  \n",
       "235                    18.0                    9.0      0  \n",
       "344                    13.0                    5.0      1  \n",
       "453                    15.0                    4.0      1  \n",
       "\n",
       "[5 rows x 34 columns]"
      ]
     },
     "execution_count": 95,
     "metadata": {},
     "output_type": "execute_result"
    }
   ],
   "source": [
    "df_amostra_sistematica.head()"
   ]
  },
  {
   "cell_type": "markdown",
   "id": "4912abfa-c337-4b23-ab34-02f38c792606",
   "metadata": {
    "jp-MarkdownHeadingCollapsed": true,
    "tags": []
   },
   "source": [
    "## Amostragem por grupos"
   ]
  },
  {
   "cell_type": "code",
   "execution_count": 96,
   "id": "888f4eba-818d-407e-a9d9-843133382218",
   "metadata": {
    "tags": []
   },
   "outputs": [],
   "source": [
    "# len(dataset) / 10"
   ]
  },
  {
   "cell_type": "code",
   "execution_count": 97,
   "id": "5d98be91-0cde-47f9-b1bf-c054d6184c19",
   "metadata": {
    "tags": []
   },
   "outputs": [],
   "source": [
    "# grupos = []\n",
    "# id_grupo = 0\n",
    "# contagem = 0\n",
    "\n",
    "# for _ in dataset.iterrows():\n",
    "#     grupos.append(id_grupo)\n",
    "#     contagem += 1\n",
    "#     if contagem > 1097:\n",
    "#         contagem = 0\n",
    "#         id_grupo += 1"
   ]
  },
  {
   "cell_type": "code",
   "execution_count": 98,
   "id": "7cc79f34-9df4-4457-a18c-33f29d60a73d",
   "metadata": {
    "tags": []
   },
   "outputs": [],
   "source": [
    "# print(grupos)"
   ]
  },
  {
   "cell_type": "code",
   "execution_count": 99,
   "id": "a33e487d-d9b6-4c32-ad21-eea740911933",
   "metadata": {
    "tags": []
   },
   "outputs": [],
   "source": [
    "# np.unique(grupos, return_counts=True)"
   ]
  },
  {
   "cell_type": "code",
   "execution_count": 100,
   "id": "0959771d-1165-405d-aad9-fbb574c5aac1",
   "metadata": {
    "tags": []
   },
   "outputs": [],
   "source": [
    "# np.shape(grupos), dataset.shape"
   ]
  },
  {
   "cell_type": "code",
   "execution_count": 101,
   "id": "707d0e3d-4afc-4889-9b48-b97afa33d904",
   "metadata": {
    "tags": []
   },
   "outputs": [],
   "source": [
    "# dataset['classe'] = grupos"
   ]
  },
  {
   "cell_type": "code",
   "execution_count": 102,
   "id": "3525bcf3-a02b-484a-a01f-7aafe402a25d",
   "metadata": {
    "tags": []
   },
   "outputs": [],
   "source": [
    "# dataset.tail()"
   ]
  },
  {
   "cell_type": "code",
   "execution_count": 103,
   "id": "7ee525af-1146-40fd-9bb5-044711e04bd6",
   "metadata": {
    "tags": []
   },
   "outputs": [],
   "source": [
    "# df_agrupamento = dataset[dataset['classe'] == 7]"
   ]
  },
  {
   "cell_type": "code",
   "execution_count": 104,
   "id": "778a5a96-9b1c-440f-969f-b7fa1c80fff8",
   "metadata": {
    "tags": []
   },
   "outputs": [],
   "source": [
    "# df_agrupamento['classe'].value_counts()"
   ]
  },
  {
   "cell_type": "code",
   "execution_count": 105,
   "id": "e636fb5c-ce47-4ede-9b8f-ccd68d896aad",
   "metadata": {
    "tags": []
   },
   "outputs": [],
   "source": [
    "# def amostragem_agrupamento(dataset, numero_grupos):\n",
    "#     intervalo = len(dataset) / numero_grupos\n",
    "                    \n",
    "#     grupos = []\n",
    "#     id_grupo = 0\n",
    "#     contagem = 0\n",
    "#     for _ in dataset.iterrows():\n",
    "#         grupos.append(id_grupo)\n",
    "#         contagem += 1\n",
    "#         if contagem > intervalo:\n",
    "#             contagem = 0\n",
    "#             id_grupo += 1\n",
    "    \n",
    "#     dataset['classe'] = grupos\n",
    "#     random.seed(1)\n",
    "#     grupo_selecionado = random.randint(0, numero_grupos)\n",
    "#     return dataset[dataset['classe'] == grupo_selecionado]"
   ]
  },
  {
   "cell_type": "code",
   "execution_count": 106,
   "id": "2ab3be84-7059-410b-8f77-5819d0be7898",
   "metadata": {
    "tags": []
   },
   "outputs": [],
   "source": [
    "# df_amostra_agrupamento = amostragem_agrupamento(dataset, 100)\n",
    "# df_amostra_agrupamento.shape, df_amostra_agrupamento['classe'].value_counts()"
   ]
  },
  {
   "cell_type": "markdown",
   "id": "55c6a477-ad2d-4193-86f6-37180c9ac3fc",
   "metadata": {
    "tags": []
   },
   "source": [
    "## Amostra estratificada"
   ]
  },
  {
   "cell_type": "code",
   "execution_count": 107,
   "id": "76faa564-9ea4-4da7-80a3-c929402f958f",
   "metadata": {
    "tags": []
   },
   "outputs": [],
   "source": [
    "from sklearn.model_selection import StratifiedShuffleSplit"
   ]
  },
  {
   "cell_type": "code",
   "execution_count": 108,
   "id": "f3ccd36e-a5c1-44d3-87a8-c0ffecc64113",
   "metadata": {
    "tags": []
   },
   "outputs": [
    {
     "data": {
      "text/plain": [
       "1    6336\n",
       "0    4641\n",
       "Name: Grupo, dtype: int64"
      ]
     },
     "execution_count": 108,
     "metadata": {},
     "output_type": "execute_result"
    }
   ],
   "source": [
    "dataset['Grupo'].value_counts()"
   ]
  },
  {
   "cell_type": "code",
   "execution_count": 109,
   "id": "91b266e1-cc02-4bd9-a502-5810da948667",
   "metadata": {
    "tags": []
   },
   "outputs": [
    {
     "data": {
      "text/plain": [
       "(0.566092739364125, 0.43390726063587504)"
      ]
     },
     "execution_count": 109,
     "metadata": {},
     "output_type": "execute_result"
    }
   ],
   "source": [
    "6214 / len(dataset), 4763 / len(dataset)"
   ]
  },
  {
   "cell_type": "code",
   "execution_count": 110,
   "id": "92470e11-97be-40bd-923e-3b582f84f9f2",
   "metadata": {
    "tags": []
   },
   "outputs": [
    {
     "data": {
      "text/plain": [
       "1.0"
      ]
     },
     "execution_count": 110,
     "metadata": {},
     "output_type": "execute_result"
    }
   ],
   "source": [
    "0.566092739364125+ 0.43390726063587504"
   ]
  },
  {
   "cell_type": "code",
   "execution_count": 111,
   "id": "f0e52e1d-18ff-4a32-accf-13656ebae388",
   "metadata": {
    "tags": []
   },
   "outputs": [
    {
     "data": {
      "text/plain": [
       "0.009109957183201239"
      ]
     },
     "execution_count": 111,
     "metadata": {},
     "output_type": "execute_result"
    }
   ],
   "source": [
    "100 / len(dataset)"
   ]
  },
  {
   "cell_type": "code",
   "execution_count": 112,
   "id": "ee48752b-264b-4d07-ae8d-dc54267ea09d",
   "metadata": {
    "tags": []
   },
   "outputs": [],
   "source": [
    "split = StratifiedShuffleSplit(test_size=0.009109957183201239) # 10% Essa função é utilizada para treinar modelo\n",
    "for x, y in split.split(dataset, dataset['Grupo']):\n",
    "    df_x = dataset.iloc[x]\n",
    "    df_y = dataset.iloc[y]"
   ]
  },
  {
   "cell_type": "code",
   "execution_count": 113,
   "id": "1f011086-b0a0-49e2-9ea8-c5dd0eeb557a",
   "metadata": {
    "tags": []
   },
   "outputs": [
    {
     "data": {
      "text/plain": [
       "((10877, 34), (100, 34))"
      ]
     },
     "execution_count": 113,
     "metadata": {},
     "output_type": "execute_result"
    }
   ],
   "source": [
    "df_x.shape, df_y.shape"
   ]
  },
  {
   "cell_type": "code",
   "execution_count": 114,
   "id": "d5fd6df2-ee76-4225-94f7-d8292b3f0d96",
   "metadata": {
    "tags": []
   },
   "outputs": [
    {
     "data": {
      "text/html": [
       "<div>\n",
       "<style scoped>\n",
       "    .dataframe tbody tr th:only-of-type {\n",
       "        vertical-align: middle;\n",
       "    }\n",
       "\n",
       "    .dataframe tbody tr th {\n",
       "        vertical-align: top;\n",
       "    }\n",
       "\n",
       "    .dataframe thead th {\n",
       "        text-align: right;\n",
       "    }\n",
       "</style>\n",
       "<table border=\"1\" class=\"dataframe\">\n",
       "  <thead>\n",
       "    <tr style=\"text-align: right;\">\n",
       "      <th></th>\n",
       "      <th>IDADE</th>\n",
       "      <th>SEXO</th>\n",
       "      <th>ESTADO</th>\n",
       "      <th>REGIAO</th>\n",
       "      <th>ESPECIALIDADE</th>\n",
       "      <th>Matemática Discreta</th>\n",
       "      <th>Cálculo Diferencial e Integral</th>\n",
       "      <th>Álgebra Linear</th>\n",
       "      <th>Geometria Analítica</th>\n",
       "      <th>Análise Combinatória</th>\n",
       "      <th>...</th>\n",
       "      <th>Inteligência Artificial</th>\n",
       "      <th>Engenharia de Software</th>\n",
       "      <th>Sistemas Distribuídos</th>\n",
       "      <th>Compiladores</th>\n",
       "      <th>Processamento de Imagens</th>\n",
       "      <th>Banco de Dados</th>\n",
       "      <th>matematica</th>\n",
       "      <th>fundamentos_computacao</th>\n",
       "      <th>tecnologia_computacao</th>\n",
       "      <th>Grupo</th>\n",
       "    </tr>\n",
       "  </thead>\n",
       "  <tbody>\n",
       "    <tr>\n",
       "      <th>7534</th>\n",
       "      <td>26</td>\n",
       "      <td>1</td>\n",
       "      <td>23</td>\n",
       "      <td>4</td>\n",
       "      <td>teoria da computação</td>\n",
       "      <td>1.0</td>\n",
       "      <td>2.0</td>\n",
       "      <td>1.0</td>\n",
       "      <td>2.0</td>\n",
       "      <td>3.0</td>\n",
       "      <td>...</td>\n",
       "      <td>1.0</td>\n",
       "      <td>2.0</td>\n",
       "      <td>2.0</td>\n",
       "      <td>2.0</td>\n",
       "      <td>1.0</td>\n",
       "      <td>2.0</td>\n",
       "      <td>14.0</td>\n",
       "      <td>17.0</td>\n",
       "      <td>11.0</td>\n",
       "      <td>0</td>\n",
       "    </tr>\n",
       "    <tr>\n",
       "      <th>3394</th>\n",
       "      <td>30</td>\n",
       "      <td>0</td>\n",
       "      <td>5</td>\n",
       "      <td>1</td>\n",
       "      <td>engenharia de software</td>\n",
       "      <td>1.0</td>\n",
       "      <td>1.0</td>\n",
       "      <td>2.0</td>\n",
       "      <td>2.0</td>\n",
       "      <td>1.0</td>\n",
       "      <td>...</td>\n",
       "      <td>2.0</td>\n",
       "      <td>2.0</td>\n",
       "      <td>2.0</td>\n",
       "      <td>0.0</td>\n",
       "      <td>1.0</td>\n",
       "      <td>2.0</td>\n",
       "      <td>9.0</td>\n",
       "      <td>12.0</td>\n",
       "      <td>12.0</td>\n",
       "      <td>0</td>\n",
       "    </tr>\n",
       "    <tr>\n",
       "      <th>8280</th>\n",
       "      <td>25</td>\n",
       "      <td>1</td>\n",
       "      <td>12</td>\n",
       "      <td>3</td>\n",
       "      <td>metodologia e tecnicas de computação</td>\n",
       "      <td>2.0</td>\n",
       "      <td>1.0</td>\n",
       "      <td>0.0</td>\n",
       "      <td>1.0</td>\n",
       "      <td>3.0</td>\n",
       "      <td>...</td>\n",
       "      <td>1.0</td>\n",
       "      <td>2.0</td>\n",
       "      <td>1.0</td>\n",
       "      <td>2.0</td>\n",
       "      <td>1.0</td>\n",
       "      <td>0.0</td>\n",
       "      <td>9.0</td>\n",
       "      <td>16.0</td>\n",
       "      <td>9.0</td>\n",
       "      <td>0</td>\n",
       "    </tr>\n",
       "    <tr>\n",
       "      <th>7297</th>\n",
       "      <td>44</td>\n",
       "      <td>1</td>\n",
       "      <td>15</td>\n",
       "      <td>4</td>\n",
       "      <td>sistemas embarcados</td>\n",
       "      <td>2.0</td>\n",
       "      <td>1.0</td>\n",
       "      <td>0.0</td>\n",
       "      <td>0.0</td>\n",
       "      <td>1.0</td>\n",
       "      <td>...</td>\n",
       "      <td>1.0</td>\n",
       "      <td>2.0</td>\n",
       "      <td>2.0</td>\n",
       "      <td>1.0</td>\n",
       "      <td>2.0</td>\n",
       "      <td>2.0</td>\n",
       "      <td>8.0</td>\n",
       "      <td>17.0</td>\n",
       "      <td>14.0</td>\n",
       "      <td>0</td>\n",
       "    </tr>\n",
       "    <tr>\n",
       "      <th>4950</th>\n",
       "      <td>41</td>\n",
       "      <td>1</td>\n",
       "      <td>9</td>\n",
       "      <td>1</td>\n",
       "      <td>arquitetura de sistemas computacionais</td>\n",
       "      <td>1.0</td>\n",
       "      <td>1.0</td>\n",
       "      <td>1.0</td>\n",
       "      <td>0.0</td>\n",
       "      <td>0.0</td>\n",
       "      <td>...</td>\n",
       "      <td>2.0</td>\n",
       "      <td>0.0</td>\n",
       "      <td>1.0</td>\n",
       "      <td>0.0</td>\n",
       "      <td>0.0</td>\n",
       "      <td>1.0</td>\n",
       "      <td>5.0</td>\n",
       "      <td>10.0</td>\n",
       "      <td>5.0</td>\n",
       "      <td>1</td>\n",
       "    </tr>\n",
       "  </tbody>\n",
       "</table>\n",
       "<p>5 rows × 34 columns</p>\n",
       "</div>"
      ],
      "text/plain": [
       "      IDADE  SEXO  ESTADO  REGIAO                           ESPECIALIDADE  \\\n",
       "7534     26     1      23       4                    teoria da computação   \n",
       "3394     30     0       5       1                  engenharia de software   \n",
       "8280     25     1      12       3    metodologia e tecnicas de computação   \n",
       "7297     44     1      15       4                     sistemas embarcados   \n",
       "4950     41     1       9       1  arquitetura de sistemas computacionais   \n",
       "\n",
       "      Matemática Discreta  Cálculo Diferencial e Integral  Álgebra Linear  \\\n",
       "7534                  1.0                             2.0             1.0   \n",
       "3394                  1.0                             1.0             2.0   \n",
       "8280                  2.0                             1.0             0.0   \n",
       "7297                  2.0                             1.0             0.0   \n",
       "4950                  1.0                             1.0             1.0   \n",
       "\n",
       "      Geometria Analítica  Análise Combinatória  ...  Inteligência Artificial  \\\n",
       "7534                  2.0                   3.0  ...                      1.0   \n",
       "3394                  2.0                   1.0  ...                      2.0   \n",
       "8280                  1.0                   3.0  ...                      1.0   \n",
       "7297                  0.0                   1.0  ...                      1.0   \n",
       "4950                  0.0                   0.0  ...                      2.0   \n",
       "\n",
       "      Engenharia de Software  Sistemas Distribuídos  Compiladores  \\\n",
       "7534                     2.0                    2.0           2.0   \n",
       "3394                     2.0                    2.0           0.0   \n",
       "8280                     2.0                    1.0           2.0   \n",
       "7297                     2.0                    2.0           1.0   \n",
       "4950                     0.0                    1.0           0.0   \n",
       "\n",
       "      Processamento de Imagens  Banco de Dados  matematica  \\\n",
       "7534                       1.0             2.0        14.0   \n",
       "3394                       1.0             2.0         9.0   \n",
       "8280                       1.0             0.0         9.0   \n",
       "7297                       2.0             2.0         8.0   \n",
       "4950                       0.0             1.0         5.0   \n",
       "\n",
       "      fundamentos_computacao  tecnologia_computacao  Grupo  \n",
       "7534                    17.0                   11.0      0  \n",
       "3394                    12.0                   12.0      0  \n",
       "8280                    16.0                    9.0      0  \n",
       "7297                    17.0                   14.0      0  \n",
       "4950                    10.0                    5.0      1  \n",
       "\n",
       "[5 rows x 34 columns]"
      ]
     },
     "execution_count": 114,
     "metadata": {},
     "output_type": "execute_result"
    }
   ],
   "source": [
    "df_y.head()"
   ]
  },
  {
   "cell_type": "code",
   "execution_count": 115,
   "id": "f1ef60fe-8245-414f-ae01-edfe04d0b84a",
   "metadata": {
    "tags": []
   },
   "outputs": [
    {
     "data": {
      "text/plain": [
       "1    58\n",
       "0    42\n",
       "Name: Grupo, dtype: int64"
      ]
     },
     "execution_count": 115,
     "metadata": {},
     "output_type": "execute_result"
    }
   ],
   "source": [
    "df_y['Grupo'].value_counts()"
   ]
  },
  {
   "cell_type": "code",
   "execution_count": 116,
   "id": "f655c1dc-dc9d-4dc0-97e3-c9ec91a42240",
   "metadata": {
    "tags": []
   },
   "outputs": [],
   "source": [
    "def amostragem_estratificada(dataset, percentual):\n",
    "    split = StratifiedShuffleSplit(test_size=percentual, random_state=1) # 10% Essa função é utilizada para treinar modelo\n",
    "    for _, y in split.split(dataset, dataset['Grupo']):\n",
    "        df_y = dataset.iloc[y]\n",
    "    return df_y"
   ]
  },
  {
   "cell_type": "code",
   "execution_count": 117,
   "id": "14803c78-5aed-4076-8f14-6480f7834d06",
   "metadata": {
    "tags": []
   },
   "outputs": [],
   "source": [
    "df_amostra_estratificada = amostragem_estratificada(dataset,0.009109957183201239) "
   ]
  },
  {
   "cell_type": "code",
   "execution_count": 118,
   "id": "45c71bb6-37dc-48ca-a51c-86d41f30e7de",
   "metadata": {
    "tags": []
   },
   "outputs": [
    {
     "data": {
      "text/plain": [
       "(100, 34)"
      ]
     },
     "execution_count": 118,
     "metadata": {},
     "output_type": "execute_result"
    }
   ],
   "source": [
    "df_amostra_estratificada.shape"
   ]
  },
  {
   "cell_type": "markdown",
   "id": "ed4e4f7a-2537-480d-94ee-54f034365012",
   "metadata": {},
   "source": [
    "## Comparativo dos resultados"
   ]
  },
  {
   "cell_type": "code",
   "execution_count": 119,
   "id": "ea0f42a4-20de-4a0c-ab71-798bfc688eea",
   "metadata": {
    "tags": []
   },
   "outputs": [
    {
     "data": {
      "text/plain": [
       "31.55670948346543"
      ]
     },
     "execution_count": 119,
     "metadata": {},
     "output_type": "execute_result"
    }
   ],
   "source": [
    "dataset['IDADE'].mean()"
   ]
  },
  {
   "cell_type": "code",
   "execution_count": 120,
   "id": "8adcf7e7-cf55-42e4-b784-910a50288f30",
   "metadata": {
    "tags": []
   },
   "outputs": [
    {
     "data": {
      "text/plain": [
       "32.29"
      ]
     },
     "execution_count": 120,
     "metadata": {},
     "output_type": "execute_result"
    }
   ],
   "source": [
    "df_amostra_aleatoria_simples['IDADE'].mean()"
   ]
  },
  {
   "cell_type": "code",
   "execution_count": 121,
   "id": "0b419a9b-4399-41b4-922c-925bd49b7e71",
   "metadata": {
    "tags": []
   },
   "outputs": [
    {
     "data": {
      "text/plain": [
       "32.17821782178218"
      ]
     },
     "execution_count": 121,
     "metadata": {},
     "output_type": "execute_result"
    }
   ],
   "source": [
    "df_amostra_sistematica['IDADE'].mean()"
   ]
  },
  {
   "cell_type": "code",
   "execution_count": 122,
   "id": "20d3b93c-58e5-43c6-a5f6-803f56fa3046",
   "metadata": {
    "tags": []
   },
   "outputs": [],
   "source": [
    "# df_amostra_agrupamento['IDADE'].mean() # amostragem mais próxima."
   ]
  },
  {
   "cell_type": "code",
   "execution_count": 123,
   "id": "8c2a8463-bbd5-4b91-9162-2bb24313cbf0",
   "metadata": {
    "tags": []
   },
   "outputs": [
    {
     "data": {
      "text/plain": [
       "31.3"
      ]
     },
     "execution_count": 123,
     "metadata": {},
     "output_type": "execute_result"
    }
   ],
   "source": [
    "df_amostra_estratificada['IDADE'].mean()"
   ]
  },
  {
   "cell_type": "markdown",
   "id": "979adc41-5dd9-4291-b000-7a96f48690d6",
   "metadata": {
    "jp-MarkdownHeadingCollapsed": true,
    "tags": []
   },
   "source": [
    "## Classificação"
   ]
  },
  {
   "cell_type": "code",
   "execution_count": 124,
   "id": "70a68eec-f52e-48e7-acbc-cbcc71a16de1",
   "metadata": {
    "tags": []
   },
   "outputs": [],
   "source": [
    "import seaborn as sns"
   ]
  },
  {
   "cell_type": "code",
   "execution_count": 125,
   "id": "a0122d2b-9702-469d-b274-f90d1e4bca61",
   "metadata": {
    "tags": []
   },
   "outputs": [
    {
     "data": {
      "image/png": "[encoded data removed]",
      "text/plain": [
       "<Figure size 640x480 with 1 Axes>"
      ]
     },
     "metadata": {},
     "output_type": "display_data"
    }
   ],
   "source": [
    "sns.countplot(data=dataset, x='Grupo');"
   ]
  },
  {
   "cell_type": "code",
   "execution_count": 126,
   "id": "742e092e-2407-4864-ab1b-786f3e07aa85",
   "metadata": {
    "tags": []
   },
   "outputs": [],
   "source": [
    "from sklearn.preprocessing import LabelEncoder\n",
    "\n",
    "labelEnconder = LabelEncoder()\n",
    "\n",
    "# dataset = dataset.drop(columns=['ESPECIALIDADE'])"
   ]
  },
  {
   "cell_type": "code",
   "execution_count": 127,
   "id": "ea3826be-770b-480b-a085-c7eda9fb2cc1",
   "metadata": {
    "tags": []
   },
   "outputs": [],
   "source": [
    "X = dataset.iloc[:, 0:32].values"
   ]
  },
  {
   "cell_type": "code",
   "execution_count": 128,
   "id": "4bbd9144-8017-4004-a22d-3a44dbb2a39d",
   "metadata": {
    "tags": []
   },
   "outputs": [],
   "source": [
    "X[:,4] = labelEnconder.fit_transform(X[:,4])"
   ]
  },
  {
   "cell_type": "code",
   "execution_count": 129,
   "id": "bae9791c-0496-4a38-9bcd-f2a5a9ee15e5",
   "metadata": {
    "tags": []
   },
   "outputs": [],
   "source": [
    "y = dataset.iloc[:, 33].values"
   ]
  },
  {
   "cell_type": "markdown",
   "id": "3d850bf1-1087-4bea-bd1c-771ab696cba2",
   "metadata": {},
   "source": [
    "## Base de treinamento e teste"
   ]
  },
  {
   "cell_type": "code",
   "execution_count": 130,
   "id": "11ed0464-ccdc-40a5-9681-5146606d34ee",
   "metadata": {
    "tags": []
   },
   "outputs": [],
   "source": [
    "from sklearn.model_selection import train_test_split"
   ]
  },
  {
   "cell_type": "code",
   "execution_count": 131,
   "id": "2831698a-efde-4306-b758-471793a26835",
   "metadata": {
    "tags": []
   },
   "outputs": [],
   "source": [
    "X_treinamento, X_teste, y_treinamento, y_teste = train_test_split(X, y, test_size=0.2, stratify=y)"
   ]
  },
  {
   "cell_type": "code",
   "execution_count": 132,
   "id": "c2905422-600f-4e8f-8542-befee031376b",
   "metadata": {
    "tags": []
   },
   "outputs": [
    {
     "data": {
      "text/plain": [
       "((8781, 32), (8781,))"
      ]
     },
     "execution_count": 132,
     "metadata": {},
     "output_type": "execute_result"
    }
   ],
   "source": [
    "X_treinamento.shape, y_treinamento.shape"
   ]
  },
  {
   "cell_type": "code",
   "execution_count": 133,
   "id": "9e8b4122-323e-4bf0-8adf-d4324b951555",
   "metadata": {
    "tags": []
   },
   "outputs": [
    {
     "data": {
      "text/plain": [
       "((2196, 32), (2196,))"
      ]
     },
     "execution_count": 133,
     "metadata": {},
     "output_type": "execute_result"
    }
   ],
   "source": [
    "X_teste.shape, y_teste.shape"
   ]
  },
  {
   "cell_type": "code",
   "execution_count": 134,
   "id": "c3928217-98af-4df3-bf88-145c2ee9ff95",
   "metadata": {
    "tags": []
   },
   "outputs": [
    {
     "data": {
      "text/plain": [
       "(array([0, 1], dtype=int64), array([4641, 6336], dtype=int64))"
      ]
     },
     "execution_count": 134,
     "metadata": {},
     "output_type": "execute_result"
    }
   ],
   "source": [
    "np.unique(y, return_counts=True)"
   ]
  },
  {
   "cell_type": "markdown",
   "id": "8eec7579-1ce4-43f7-aaf0-e89dfb66c4c5",
   "metadata": {},
   "source": [
    " ## Classificação com Naïve Bayes"
   ]
  },
  {
   "cell_type": "code",
   "execution_count": 135,
   "id": "41991e57-9820-4c70-9350-506f4de527b5",
   "metadata": {
    "tags": []
   },
   "outputs": [],
   "source": [
    "from sklearn.naive_bayes import GaussianNB"
   ]
  },
  {
   "cell_type": "code",
   "execution_count": 136,
   "id": "32d1eaa7-483b-4371-a0b3-e1d2aca74f31",
   "metadata": {
    "tags": []
   },
   "outputs": [
    {
     "data": {
      "text/html": [
       "<style>#sk-container-id-2 {color: black;background-color: white;}#sk-container-id-2 pre{padding: 0;}#sk-container-id-2 div.sk-toggleable {background-color: white;}#sk-container-id-2 label.sk-toggleable__label {cursor: pointer;display: block;width: 100%;margin-bottom: 0;padding: 0.3em;box-sizing: border-box;text-align: center;}#sk-container-id-2 label.sk-toggleable__label-arrow:before {content: \"▸\";float: left;margin-right: 0.25em;color: #696969;}#sk-container-id-2 label.sk-toggleable__label-arrow:hover:before {color: black;}#sk-container-id-2 div.sk-estimator:hover label.sk-toggleable__label-arrow:before {color: black;}#sk-container-id-2 div.sk-toggleable__content {max-height: 0;max-width: 0;overflow: hidden;text-align: left;background-color: #f0f8ff;}#sk-container-id-2 div.sk-toggleable__content pre {margin: 0.2em;color: black;border-radius: 0.25em;background-color: #f0f8ff;}#sk-container-id-2 input.sk-toggleable__control:checked~div.sk-toggleable__content {max-height: 200px;max-width: 100%;overflow: auto;}#sk-container-id-2 input.sk-toggleable__control:checked~label.sk-toggleable__label-arrow:before {content: \"▾\";}#sk-container-id-2 div.sk-estimator input.sk-toggleable__control:checked~label.sk-toggleable__label {background-color: #d4ebff;}#sk-container-id-2 div.sk-label input.sk-toggleable__control:checked~label.sk-toggleable__label {background-color: #d4ebff;}#sk-container-id-2 input.sk-hidden--visually {border: 0;clip: rect(1px 1px 1px 1px);clip: rect(1px, 1px, 1px, 1px);height: 1px;margin: -1px;overflow: hidden;padding: 0;position: absolute;width: 1px;}#sk-container-id-2 div.sk-estimator {font-family: monospace;background-color: #f0f8ff;border: 1px dotted black;border-radius: 0.25em;box-sizing: border-box;margin-bottom: 0.5em;}#sk-container-id-2 div.sk-estimator:hover {background-color: #d4ebff;}#sk-container-id-2 div.sk-parallel-item::after {content: \"\";width: 100%;border-bottom: 1px solid gray;flex-grow: 1;}#sk-container-id-2 div.sk-label:hover label.sk-toggleable__label {background-color: #d4ebff;}#sk-container-id-2 div.sk-serial::before {content: \"\";position: absolute;border-left: 1px solid gray;box-sizing: border-box;top: 0;bottom: 0;left: 50%;z-index: 0;}#sk-container-id-2 div.sk-serial {display: flex;flex-direction: column;align-items: center;background-color: white;padding-right: 0.2em;padding-left: 0.2em;position: relative;}#sk-container-id-2 div.sk-item {position: relative;z-index: 1;}#sk-container-id-2 div.sk-parallel {display: flex;align-items: stretch;justify-content: center;background-color: white;position: relative;}#sk-container-id-2 div.sk-item::before, #sk-container-id-2 div.sk-parallel-item::before {content: \"\";position: absolute;border-left: 1px solid gray;box-sizing: border-box;top: 0;bottom: 0;left: 50%;z-index: -1;}#sk-container-id-2 div.sk-parallel-item {display: flex;flex-direction: column;z-index: 1;position: relative;background-color: white;}#sk-container-id-2 div.sk-parallel-item:first-child::after {align-self: flex-end;width: 50%;}#sk-container-id-2 div.sk-parallel-item:last-child::after {align-self: flex-start;width: 50%;}#sk-container-id-2 div.sk-parallel-item:only-child::after {width: 0;}#sk-container-id-2 div.sk-dashed-wrapped {border: 1px dashed gray;margin: 0 0.4em 0.5em 0.4em;box-sizing: border-box;padding-bottom: 0.4em;background-color: white;}#sk-container-id-2 div.sk-label label {font-family: monospace;font-weight: bold;display: inline-block;line-height: 1.2em;}#sk-container-id-2 div.sk-label-container {text-align: center;}#sk-container-id-2 div.sk-container {/* jupyter's `normalize.less` sets `[hidden] { display: none; }` but bootstrap.min.css set `[hidden] { display: none !important; }` so we also need the `!important` here to be able to override the default hidden behavior on the sphinx rendered scikit-learn.org. See: https://github.com/scikit-learn/scikit-learn/issues/21755 */display: inline-block !important;position: relative;}#sk-container-id-2 div.sk-text-repr-fallback {display: none;}</style><div id=\"sk-container-id-2\" class=\"sk-top-container\"><div class=\"sk-text-repr-fallback\"><pre>GaussianNB()</pre><b>In a Jupyter environment, please rerun this cell to show the HTML representation or trust the notebook. <br />On GitHub, the HTML representation is unable to render, please try loading this page with nbviewer.org.</b></div><div class=\"sk-container\" hidden><div class=\"sk-item\"><div class=\"sk-estimator sk-toggleable\"><input class=\"sk-toggleable__control sk-hidden--visually\" id=\"sk-estimator-id-2\" type=\"checkbox\" checked><label for=\"sk-estimator-id-2\" class=\"sk-toggleable__label sk-toggleable__label-arrow\">GaussianNB</label><div class=\"sk-toggleable__content\"><pre>GaussianNB()</pre></div></div></div></div></div>"
      ],
      "text/plain": [
       "GaussianNB()"
      ]
     },
     "execution_count": 136,
     "metadata": {},
     "output_type": "execute_result"
    }
   ],
   "source": [
    "modelo = GaussianNB()\n",
    "modelo.fit(X_treinamento, y_treinamento)"
   ]
  },
  {
   "cell_type": "code",
   "execution_count": 137,
   "id": "ad9ad074-e98a-437a-8bbf-afa66f5890fa",
   "metadata": {
    "tags": []
   },
   "outputs": [],
   "source": [
    "previsoes = modelo.predict(X_teste)"
   ]
  },
  {
   "cell_type": "code",
   "execution_count": 138,
   "id": "e49480a5-d8da-4592-9b09-efaf520d2f21",
   "metadata": {
    "tags": []
   },
   "outputs": [
    {
     "data": {
      "text/plain": [
       "array([1, 0, 1, ..., 0, 0, 1], dtype=int64)"
      ]
     },
     "execution_count": 138,
     "metadata": {},
     "output_type": "execute_result"
    }
   ],
   "source": [
    "previsoes"
   ]
  },
  {
   "cell_type": "code",
   "execution_count": 139,
   "id": "b51c1cfc-c1f4-41e6-80c6-1e4be7791ae1",
   "metadata": {
    "tags": []
   },
   "outputs": [
    {
     "data": {
      "text/plain": [
       "array([1, 0, 1, ..., 0, 0, 1], dtype=int64)"
      ]
     },
     "execution_count": 139,
     "metadata": {},
     "output_type": "execute_result"
    }
   ],
   "source": [
    "y_teste"
   ]
  },
  {
   "cell_type": "code",
   "execution_count": 140,
   "id": "53b1dffc-c39f-49ae-8b8a-7e7501446ad2",
   "metadata": {
    "tags": []
   },
   "outputs": [],
   "source": [
    "from sklearn.metrics import accuracy_score"
   ]
  },
  {
   "cell_type": "code",
   "execution_count": 141,
   "id": "db17654c-12c5-4b2b-bf91-e518faafc972",
   "metadata": {
    "tags": []
   },
   "outputs": [
    {
     "data": {
      "text/plain": [
       "0.9289617486338798"
      ]
     },
     "execution_count": 141,
     "metadata": {},
     "output_type": "execute_result"
    }
   ],
   "source": [
    " accuracy_score(previsoes, y_teste)"
   ]
  },
  {
   "cell_type": "code",
   "execution_count": 142,
   "id": "1e647cdb-25f9-46d1-b624-600c1986a0ee",
   "metadata": {
    "tags": []
   },
   "outputs": [],
   "source": [
    "from sklearn.metrics import confusion_matrix"
   ]
  },
  {
   "cell_type": "code",
   "execution_count": 143,
   "id": "2b1b6c8e-f2e6-4584-983b-94aecf4bfb32",
   "metadata": {
    "tags": []
   },
   "outputs": [
    {
     "data": {
      "text/plain": [
       "array([[ 853,   81],\n",
       "       [  75, 1187]], dtype=int64)"
      ]
     },
     "execution_count": 143,
     "metadata": {},
     "output_type": "execute_result"
    }
   ],
   "source": [
    "cm = confusion_matrix(previsoes, y_teste)\n",
    "cm"
   ]
  },
  {
   "cell_type": "code",
   "execution_count": 144,
   "id": "5b5773f2-cf90-4ad8-9ff4-d160f14ee90b",
   "metadata": {
    "tags": []
   },
   "outputs": [
    {
     "data": {
      "text/plain": [
       "<Axes: >"
      ]
     },
     "execution_count": 144,
     "metadata": {},
     "output_type": "execute_result"
    },
    {
     "data": {
      "image/png": "[encoded data removed]",
      "text/plain": [
       "<Figure size 640x480 with 2 Axes>"
      ]
     },
     "metadata": {},
     "output_type": "display_data"
    }
   ],
   "source": [
    "sns.heatmap(cm, annot=True)"
   ]
  },
  {
   "cell_type": "markdown",
   "id": "5f910f43-536a-455e-bac9-eebc14c85b06",
   "metadata": {
    "jp-MarkdownHeadingCollapsed": true,
    "tags": []
   },
   "source": [
    "# Dados absolutos e relativos"
   ]
  },
  {
   "cell_type": "markdown",
   "id": "478195c5-9473-461a-98af-9f48b2289540",
   "metadata": {},
   "source": [
    "## Percentuais"
   ]
  },
  {
   "cell_type": "code",
   "execution_count": null,
   "id": "dc6d4c75-2bac-4f5f-a61e-68eccbd0dc8e",
   "metadata": {},
   "outputs": [],
   "source": []
  },
  {
   "cell_type": "markdown",
   "id": "b1f2e99b-ec99-4108-bf2d-c8c79dc4a20b",
   "metadata": {},
   "source": [
    "## Exercício percentuais"
   ]
  },
  {
   "cell_type": "markdown",
   "id": "12276056-65fc-471f-b2ea-7759f0062068",
   "metadata": {},
   "source": [
    "## Exercício coneficientes e taxas"
   ]
  },
  {
   "cell_type": "markdown",
   "id": "0aaebe96-a531-4890-98ab-85e7dc3b056f",
   "metadata": {
    "jp-MarkdownHeadingCollapsed": true,
    "tags": []
   },
   "source": [
    "# Distribuição de frequência"
   ]
  },
  {
   "cell_type": "markdown",
   "id": "90e287f0-a18c-40d3-bc75-072385304588",
   "metadata": {},
   "source": [
    "# Médias artimética, moda e mediana"
   ]
  },
  {
   "cell_type": "markdown",
   "id": "8f8cf664-250e-4a37-b86c-262dd67242cd",
   "metadata": {
    "tags": []
   },
   "source": [
    "## Grupo 0 - Bom desempenho"
   ]
  },
  {
   "cell_type": "code",
   "execution_count": 145,
   "id": "8c3a8433-9eae-41fd-beef-67a77bc173c5",
   "metadata": {
    "tags": []
   },
   "outputs": [],
   "source": [
    "dataset_g0 = dataset.query('Grupo == 0')"
   ]
  },
  {
   "cell_type": "code",
   "execution_count": 146,
   "id": "1be34719-43c7-4949-85cc-a30aee0467eb",
   "metadata": {},
   "outputs": [],
   "source": [
    "especialidades_gZero = dataset_g0['ESPECIALIDADE'].value_counts()[:9]\n",
    "especialidades_gZero = pd.DataFrame(especialidades_gZero)"
   ]
  },
  {
   "cell_type": "code",
   "execution_count": 147,
   "id": "b3213bb6-7ef5-49d6-a8e8-7fd992a30bbc",
   "metadata": {
    "tags": []
   },
   "outputs": [
    {
     "data": {
      "text/html": [
       "<div>\n",
       "<style scoped>\n",
       "    .dataframe tbody tr th:only-of-type {\n",
       "        vertical-align: middle;\n",
       "    }\n",
       "\n",
       "    .dataframe tbody tr th {\n",
       "        vertical-align: top;\n",
       "    }\n",
       "\n",
       "    .dataframe thead th {\n",
       "        text-align: right;\n",
       "    }\n",
       "</style>\n",
       "<table border=\"1\" class=\"dataframe\">\n",
       "  <thead>\n",
       "    <tr style=\"text-align: right;\">\n",
       "      <th></th>\n",
       "      <th>ESPECIALIDADE</th>\n",
       "    </tr>\n",
       "  </thead>\n",
       "  <tbody>\n",
       "    <tr>\n",
       "      <th>inteligência artificial</th>\n",
       "      <td>937</td>\n",
       "    </tr>\n",
       "    <tr>\n",
       "      <th>engenharia de software</th>\n",
       "      <td>305</td>\n",
       "    </tr>\n",
       "    <tr>\n",
       "      <th>sistemas de computação</th>\n",
       "      <td>193</td>\n",
       "    </tr>\n",
       "    <tr>\n",
       "      <th>sistemas de informação</th>\n",
       "      <td>132</td>\n",
       "    </tr>\n",
       "    <tr>\n",
       "      <th>computação aplicada</th>\n",
       "      <td>83</td>\n",
       "    </tr>\n",
       "    <tr>\n",
       "      <th>ciência computacional</th>\n",
       "      <td>83</td>\n",
       "    </tr>\n",
       "    <tr>\n",
       "      <th>sistemas computacionais complexos</th>\n",
       "      <td>82</td>\n",
       "    </tr>\n",
       "    <tr>\n",
       "      <th>aprendizado de máquina</th>\n",
       "      <td>81</td>\n",
       "    </tr>\n",
       "    <tr>\n",
       "      <th>banco de dados</th>\n",
       "      <td>67</td>\n",
       "    </tr>\n",
       "  </tbody>\n",
       "</table>\n",
       "</div>"
      ],
      "text/plain": [
       "                                   ESPECIALIDADE\n",
       "inteligência artificial                      937\n",
       "engenharia de software                       305\n",
       "sistemas de computação                       193\n",
       "sistemas de informação                       132\n",
       "computação aplicada                           83\n",
       "ciência computacional                         83\n",
       "sistemas computacionais complexos             82\n",
       "aprendizado de máquina                        81\n",
       "banco de dados                                67"
      ]
     },
     "execution_count": 147,
     "metadata": {},
     "output_type": "execute_result"
    }
   ],
   "source": [
    "especialidades_gZero"
   ]
  },
  {
   "cell_type": "code",
   "execution_count": 148,
   "id": "03789542-5870-4288-a971-1137b39529dd",
   "metadata": {
    "tags": []
   },
   "outputs": [],
   "source": [
    "def create_bar_areas(data, x, y, xlabel='', ylabel='', figsize=(10, 4), rotation=0, fontsize=12, save_path=None):\n",
    "    plt.figure(figsize=figsize)\n",
    "\n",
    "    # Plotar um gráfico de barras\n",
    "    sns.barplot(\n",
    "        x=x,\n",
    "        y=y,\n",
    "        data=data,\n",
    "        color='#69b3a2'\n",
    "    )\n",
    "\n",
    "    plt.xlabel(xlabel, fontsize=fontsize)\n",
    "    plt.ylabel(ylabel, fontsize=fontsize)\n",
    "    plt.xticks(rotation=rotation, fontsize=fontsize)\n",
    "    plt.tight_layout()  # Melhora a distribuição dos elementos no gráfico\n",
    "\n",
    "    if save_path:\n",
    "        plt.savefig(save_path, dpi=600, bbox_inches='tight')\n",
    "\n",
    "    plt.show()\n"
   ]
  },
  {
   "cell_type": "code",
   "execution_count": 149,
   "id": "fcd955a2-da1d-421f-8b01-f6d688f3ab87",
   "metadata": {
    "tags": []
   },
   "outputs": [],
   "source": [
    "def create_bar_chart(data, x, y, xlabel='', ylabel='', figsize=(8, 4), rotation=0, fontsize=0, save_path=None):\n",
    "    plt.figure(figsize=figsize)\n",
    "\n",
    "    # Plotar um gráfico de barras\n",
    "    sns.barplot(\n",
    "        x=x,\n",
    "        y=y,\n",
    "        data=data,\n",
    "        color='#69b3a2'\n",
    "    )\n",
    "\n",
    "    plt.xlabel(xlabel, fontsize=fontsize)\n",
    "    plt.ylabel(ylabel, fontsize=fontsize)\n",
    "    plt.xticks(rotation=rotation, fontsize=fontsize)\n",
    "    plt.yticks(fontsize=fontsize)\n",
    "    plt.tight_layout()  # Melhora a distribuição dos elementos no gráfico\n",
    "\n",
    "    if save_path:\n",
    "        plt.savefig(save_path, dpi=600, bbox_inches='tight')\n",
    "\n",
    "    plt.show()\n"
   ]
  },
  {
   "cell_type": "code",
   "execution_count": 150,
   "id": "4bac2618-311b-410f-9b11-7be43a718985",
   "metadata": {
    "tags": []
   },
   "outputs": [
    {
     "data": {
      "image/png": "[encoded data removed]",
      "text/plain": [
       "<Figure size 900x400 with 1 Axes>"
      ]
     },
     "metadata": {},
     "output_type": "display_data"
    }
   ],
   "source": [
    "create_bar_chart(\n",
    "    data=especialidades_gZero,\n",
    "    x='ESPECIALIDADE',\n",
    "    y=especialidades_gZero.index,\n",
    "    figsize=(9, 4),\n",
    "    rotation=0,\n",
    "    fontsize=14,\n",
    "    save_path='imagens/espec_grupoZero.png'\n",
    ")"
   ]
  },
  {
   "cell_type": "code",
   "execution_count": 151,
   "id": "4a4a95c0-a952-42d5-957b-9db3236e94b6",
   "metadata": {
    "tags": []
   },
   "outputs": [
    {
     "data": {
      "text/html": [
       "<div>\n",
       "<style scoped>\n",
       "    .dataframe tbody tr th:only-of-type {\n",
       "        vertical-align: middle;\n",
       "    }\n",
       "\n",
       "    .dataframe tbody tr th {\n",
       "        vertical-align: top;\n",
       "    }\n",
       "\n",
       "    .dataframe thead th {\n",
       "        text-align: right;\n",
       "    }\n",
       "</style>\n",
       "<table border=\"1\" class=\"dataframe\">\n",
       "  <thead>\n",
       "    <tr style=\"text-align: right;\">\n",
       "      <th></th>\n",
       "      <th>index</th>\n",
       "      <th>media</th>\n",
       "    </tr>\n",
       "  </thead>\n",
       "  <tbody>\n",
       "    <tr>\n",
       "      <th>0</th>\n",
       "      <td>Técnicas de Programação</td>\n",
       "      <td>2.423616</td>\n",
       "    </tr>\n",
       "    <tr>\n",
       "      <th>1</th>\n",
       "      <td>Linguagens de Programação</td>\n",
       "      <td>2.403792</td>\n",
       "    </tr>\n",
       "    <tr>\n",
       "      <th>2</th>\n",
       "      <td>Análise de Algoritmos</td>\n",
       "      <td>2.123249</td>\n",
       "    </tr>\n",
       "    <tr>\n",
       "      <th>3</th>\n",
       "      <td>Sistemas Distribuídos</td>\n",
       "      <td>2.106658</td>\n",
       "    </tr>\n",
       "    <tr>\n",
       "      <th>4</th>\n",
       "      <td>Algoritmos e Estruturas de Dados</td>\n",
       "      <td>1.995691</td>\n",
       "    </tr>\n",
       "    <tr>\n",
       "      <th>5</th>\n",
       "      <td>Teoria dos Grafos</td>\n",
       "      <td>1.911441</td>\n",
       "    </tr>\n",
       "    <tr>\n",
       "      <th>6</th>\n",
       "      <td>Lógica Matemática</td>\n",
       "      <td>1.786684</td>\n",
       "    </tr>\n",
       "    <tr>\n",
       "      <th>7</th>\n",
       "      <td>Álgebra Linear</td>\n",
       "      <td>1.740573</td>\n",
       "    </tr>\n",
       "    <tr>\n",
       "      <th>8</th>\n",
       "      <td>Circuitos Digitais</td>\n",
       "      <td>1.585219</td>\n",
       "    </tr>\n",
       "    <tr>\n",
       "      <th>9</th>\n",
       "      <td>Análise Combinatória</td>\n",
       "      <td>1.569058</td>\n",
       "    </tr>\n",
       "    <tr>\n",
       "      <th>10</th>\n",
       "      <td>Matemática Discreta</td>\n",
       "      <td>1.556346</td>\n",
       "    </tr>\n",
       "    <tr>\n",
       "      <th>11</th>\n",
       "      <td>Cálculo Diferencial e Integral</td>\n",
       "      <td>1.483947</td>\n",
       "    </tr>\n",
       "    <tr>\n",
       "      <th>12</th>\n",
       "      <td>Inteligência Artificial</td>\n",
       "      <td>1.415643</td>\n",
       "    </tr>\n",
       "    <tr>\n",
       "      <th>13</th>\n",
       "      <td>Redes de Computadores</td>\n",
       "      <td>1.408102</td>\n",
       "    </tr>\n",
       "    <tr>\n",
       "      <th>14</th>\n",
       "      <td>Geometria Analítica</td>\n",
       "      <td>1.346262</td>\n",
       "    </tr>\n",
       "    <tr>\n",
       "      <th>15</th>\n",
       "      <td>Sistemas Operacionais</td>\n",
       "      <td>1.290886</td>\n",
       "    </tr>\n",
       "    <tr>\n",
       "      <th>16</th>\n",
       "      <td>Engenharia de Software</td>\n",
       "      <td>1.274294</td>\n",
       "    </tr>\n",
       "    <tr>\n",
       "      <th>17</th>\n",
       "      <td>Banco de Dados</td>\n",
       "      <td>1.137470</td>\n",
       "    </tr>\n",
       "    <tr>\n",
       "      <th>18</th>\n",
       "      <td>Linguagens Formais, Autômatos e Computabilidade</td>\n",
       "      <td>1.120233</td>\n",
       "    </tr>\n",
       "    <tr>\n",
       "      <th>19</th>\n",
       "      <td>Arquitetura e Organização de Computadores</td>\n",
       "      <td>1.119586</td>\n",
       "    </tr>\n",
       "    <tr>\n",
       "      <th>20</th>\n",
       "      <td>Probabilidade e Estatística</td>\n",
       "      <td>1.077785</td>\n",
       "    </tr>\n",
       "    <tr>\n",
       "      <th>21</th>\n",
       "      <td>Organização de Arquivos e Dados</td>\n",
       "      <td>0.885800</td>\n",
       "    </tr>\n",
       "    <tr>\n",
       "      <th>22</th>\n",
       "      <td>Processamento de Imagens</td>\n",
       "      <td>0.870287</td>\n",
       "    </tr>\n",
       "    <tr>\n",
       "      <th>23</th>\n",
       "      <td>Computação Gráfica</td>\n",
       "      <td>0.651584</td>\n",
       "    </tr>\n",
       "    <tr>\n",
       "      <th>24</th>\n",
       "      <td>Compiladores</td>\n",
       "      <td>0.620125</td>\n",
       "    </tr>\n",
       "  </tbody>\n",
       "</table>\n",
       "</div>"
      ],
      "text/plain": [
       "                                              index     media\n",
       "0                           Técnicas de Programação  2.423616\n",
       "1                         Linguagens de Programação  2.403792\n",
       "2                             Análise de Algoritmos  2.123249\n",
       "3                             Sistemas Distribuídos  2.106658\n",
       "4                  Algoritmos e Estruturas de Dados  1.995691\n",
       "5                                 Teoria dos Grafos  1.911441\n",
       "6                                 Lógica Matemática  1.786684\n",
       "7                                    Álgebra Linear  1.740573\n",
       "8                                Circuitos Digitais  1.585219\n",
       "9                              Análise Combinatória  1.569058\n",
       "10                              Matemática Discreta  1.556346\n",
       "11                   Cálculo Diferencial e Integral  1.483947\n",
       "12                          Inteligência Artificial  1.415643\n",
       "13                            Redes de Computadores  1.408102\n",
       "14                              Geometria Analítica  1.346262\n",
       "15                            Sistemas Operacionais  1.290886\n",
       "16                           Engenharia de Software  1.274294\n",
       "17                                   Banco de Dados  1.137470\n",
       "18  Linguagens Formais, Autômatos e Computabilidade  1.120233\n",
       "19        Arquitetura e Organização de Computadores  1.119586\n",
       "20                      Probabilidade e Estatística  1.077785\n",
       "21                  Organização de Arquivos e Dados  0.885800\n",
       "22                         Processamento de Imagens  0.870287\n",
       "23                               Computação Gráfica  0.651584\n",
       "24                                     Compiladores  0.620125"
      ]
     },
     "execution_count": 151,
     "metadata": {},
     "output_type": "execute_result"
    }
   ],
   "source": [
    "media_disciplina_zero = dataset_g0.iloc[:,5:30]\n",
    "media_disciplina_zero = pd.DataFrame(media_disciplina_zero.mean().sort_values(ascending=False), columns=['media'])\n",
    "media_disciplina_zero = media_disciplina_zero.reset_index()\n",
    "media_disciplina_zero"
   ]
  },
  {
   "cell_type": "code",
   "execution_count": 152,
   "id": "21f2dc03-9b17-4f48-97a0-c535e3cc02af",
   "metadata": {
    "tags": []
   },
   "outputs": [
    {
     "data": {
      "image/png": "[encoded data removed]",
      "text/plain": [
       "<Figure size 1400x1000 with 1 Axes>"
      ]
     },
     "metadata": {},
     "output_type": "display_data"
    }
   ],
   "source": [
    "create_bar_chart(\n",
    "    data=media_disciplina_zero,\n",
    "    x='media',\n",
    "    y='index',\n",
    "    # xlabel='Média',\n",
    "    # ylabel='Disciplina',\n",
    "    figsize=(14, 10),\n",
    "    rotation=0,\n",
    "    fontsize=14,\n",
    "    save_path='imagens/disci_grupoZero.png'\n",
    ")"
   ]
  },
  {
   "cell_type": "markdown",
   "id": "bebaa343-a8d2-4866-93e8-ff5e90cfc690",
   "metadata": {
    "tags": []
   },
   "source": [
    "## Grupo 1 - Baixo desempenho"
   ]
  },
  {
   "cell_type": "code",
   "execution_count": 153,
   "id": "5c587cd5-fc0f-4dde-bb79-8fb24c28dfff",
   "metadata": {
    "tags": []
   },
   "outputs": [],
   "source": [
    "dataset_g1 = dataset.query('Grupo == 1')"
   ]
  },
  {
   "cell_type": "code",
   "execution_count": 154,
   "id": "39ae22ef-56ed-4103-b845-ef332c0bae2e",
   "metadata": {
    "tags": []
   },
   "outputs": [
    {
     "data": {
      "text/plain": [
       "inteligência artificial                                            934\n",
       "engenharia de software                                             788\n",
       "sistemas de computação                                             402\n",
       "sistemas de informação                                             273\n",
       "computação aplicada                                                142\n",
       "redes de computadores                                              127\n",
       "banco de dados                                                     121\n",
       "ciência computacional                                              109\n",
       "sistemas computacionais complexos                                  107\n",
       "engenharia de software, banco de dados e informática e educação     81\n",
       "Name: ESPECIALIDADE, dtype: int64"
      ]
     },
     "execution_count": 154,
     "metadata": {},
     "output_type": "execute_result"
    }
   ],
   "source": [
    "dataset_g1['ESPECIALIDADE'].value_counts()[:10]"
   ]
  },
  {
   "cell_type": "code",
   "execution_count": 155,
   "id": "0aa17f41-4563-4bf1-99d9-e4ed7b33e13f",
   "metadata": {
    "tags": []
   },
   "outputs": [],
   "source": [
    "especialidades_gOne = dataset_g1['ESPECIALIDADE'].value_counts()[:9]\n",
    "especialidades_gOne = pd.DataFrame(especialidades_gOne)"
   ]
  },
  {
   "cell_type": "code",
   "execution_count": 159,
   "id": "96b256d8-643f-4d80-9d13-5bfb4a9e914e",
   "metadata": {
    "tags": []
   },
   "outputs": [
    {
     "data": {
      "image/png": "[encoded data removed]",
      "text/plain": [
       "<Figure size 900x400 with 1 Axes>"
      ]
     },
     "metadata": {},
     "output_type": "display_data"
    }
   ],
   "source": [
    "create_bar_chart(\n",
    "    data=especialidades_gOne,\n",
    "    x='ESPECIALIDADE',\n",
    "    y=especialidades_gOne.index,\n",
    "    figsize=(9, 4),\n",
    "    rotation=0,\n",
    "    fontsize=14,\n",
    "    save_path='imagens/espec_grupoOne.png'\n",
    ")"
   ]
  },
  {
   "cell_type": "code",
   "execution_count": 157,
   "id": "9fa26450-f6dc-4f8f-8316-2b76c3b341f2",
   "metadata": {
    "tags": []
   },
   "outputs": [
    {
     "data": {
      "text/html": [
       "<div>\n",
       "<style scoped>\n",
       "    .dataframe tbody tr th:only-of-type {\n",
       "        vertical-align: middle;\n",
       "    }\n",
       "\n",
       "    .dataframe tbody tr th {\n",
       "        vertical-align: top;\n",
       "    }\n",
       "\n",
       "    .dataframe thead th {\n",
       "        text-align: right;\n",
       "    }\n",
       "</style>\n",
       "<table border=\"1\" class=\"dataframe\">\n",
       "  <thead>\n",
       "    <tr style=\"text-align: right;\">\n",
       "      <th></th>\n",
       "      <th>index</th>\n",
       "      <th>media</th>\n",
       "    </tr>\n",
       "  </thead>\n",
       "  <tbody>\n",
       "    <tr>\n",
       "      <th>0</th>\n",
       "      <td>Técnicas de Programação</td>\n",
       "      <td>2.029987</td>\n",
       "    </tr>\n",
       "    <tr>\n",
       "      <th>1</th>\n",
       "      <td>Linguagens de Programação</td>\n",
       "      <td>1.796559</td>\n",
       "    </tr>\n",
       "    <tr>\n",
       "      <th>2</th>\n",
       "      <td>Sistemas Distribuídos</td>\n",
       "      <td>1.526515</td>\n",
       "    </tr>\n",
       "    <tr>\n",
       "      <th>3</th>\n",
       "      <td>Análise de Algoritmos</td>\n",
       "      <td>1.394886</td>\n",
       "    </tr>\n",
       "    <tr>\n",
       "      <th>4</th>\n",
       "      <td>Algoritmos e Estruturas de Dados</td>\n",
       "      <td>1.388889</td>\n",
       "    </tr>\n",
       "    <tr>\n",
       "      <th>5</th>\n",
       "      <td>Teoria dos Grafos</td>\n",
       "      <td>1.111111</td>\n",
       "    </tr>\n",
       "    <tr>\n",
       "      <th>6</th>\n",
       "      <td>Redes de Computadores</td>\n",
       "      <td>1.042456</td>\n",
       "    </tr>\n",
       "    <tr>\n",
       "      <th>7</th>\n",
       "      <td>Circuitos Digitais</td>\n",
       "      <td>1.015783</td>\n",
       "    </tr>\n",
       "    <tr>\n",
       "      <th>8</th>\n",
       "      <td>Lógica Matemática</td>\n",
       "      <td>0.994476</td>\n",
       "    </tr>\n",
       "    <tr>\n",
       "      <th>9</th>\n",
       "      <td>Matemática Discreta</td>\n",
       "      <td>0.988163</td>\n",
       "    </tr>\n",
       "    <tr>\n",
       "      <th>10</th>\n",
       "      <td>Álgebra Linear</td>\n",
       "      <td>0.975221</td>\n",
       "    </tr>\n",
       "    <tr>\n",
       "      <th>11</th>\n",
       "      <td>Análise Combinatória</td>\n",
       "      <td>0.935133</td>\n",
       "    </tr>\n",
       "    <tr>\n",
       "      <th>12</th>\n",
       "      <td>Engenharia de Software</td>\n",
       "      <td>0.926926</td>\n",
       "    </tr>\n",
       "    <tr>\n",
       "      <th>13</th>\n",
       "      <td>Inteligência Artificial</td>\n",
       "      <td>0.912405</td>\n",
       "    </tr>\n",
       "    <tr>\n",
       "      <th>14</th>\n",
       "      <td>Linguagens Formais, Autômatos e Computabilidade</td>\n",
       "      <td>0.881155</td>\n",
       "    </tr>\n",
       "    <tr>\n",
       "      <th>15</th>\n",
       "      <td>Cálculo Diferencial e Integral</td>\n",
       "      <td>0.825915</td>\n",
       "    </tr>\n",
       "    <tr>\n",
       "      <th>16</th>\n",
       "      <td>Sistemas Operacionais</td>\n",
       "      <td>0.792456</td>\n",
       "    </tr>\n",
       "    <tr>\n",
       "      <th>17</th>\n",
       "      <td>Geometria Analítica</td>\n",
       "      <td>0.791035</td>\n",
       "    </tr>\n",
       "    <tr>\n",
       "      <th>18</th>\n",
       "      <td>Arquitetura e Organização de Computadores</td>\n",
       "      <td>0.782670</td>\n",
       "    </tr>\n",
       "    <tr>\n",
       "      <th>19</th>\n",
       "      <td>Banco de Dados</td>\n",
       "      <td>0.749211</td>\n",
       "    </tr>\n",
       "    <tr>\n",
       "      <th>20</th>\n",
       "      <td>Organização de Arquivos e Dados</td>\n",
       "      <td>0.671875</td>\n",
       "    </tr>\n",
       "    <tr>\n",
       "      <th>21</th>\n",
       "      <td>Probabilidade e Estatística</td>\n",
       "      <td>0.648990</td>\n",
       "    </tr>\n",
       "    <tr>\n",
       "      <th>22</th>\n",
       "      <td>Processamento de Imagens</td>\n",
       "      <td>0.618056</td>\n",
       "    </tr>\n",
       "    <tr>\n",
       "      <th>23</th>\n",
       "      <td>Compiladores</td>\n",
       "      <td>0.534407</td>\n",
       "    </tr>\n",
       "    <tr>\n",
       "      <th>24</th>\n",
       "      <td>Computação Gráfica</td>\n",
       "      <td>0.399148</td>\n",
       "    </tr>\n",
       "  </tbody>\n",
       "</table>\n",
       "</div>"
      ],
      "text/plain": [
       "                                              index     media\n",
       "0                           Técnicas de Programação  2.029987\n",
       "1                         Linguagens de Programação  1.796559\n",
       "2                             Sistemas Distribuídos  1.526515\n",
       "3                             Análise de Algoritmos  1.394886\n",
       "4                  Algoritmos e Estruturas de Dados  1.388889\n",
       "5                                 Teoria dos Grafos  1.111111\n",
       "6                             Redes de Computadores  1.042456\n",
       "7                                Circuitos Digitais  1.015783\n",
       "8                                 Lógica Matemática  0.994476\n",
       "9                               Matemática Discreta  0.988163\n",
       "10                                   Álgebra Linear  0.975221\n",
       "11                             Análise Combinatória  0.935133\n",
       "12                           Engenharia de Software  0.926926\n",
       "13                          Inteligência Artificial  0.912405\n",
       "14  Linguagens Formais, Autômatos e Computabilidade  0.881155\n",
       "15                   Cálculo Diferencial e Integral  0.825915\n",
       "16                            Sistemas Operacionais  0.792456\n",
       "17                              Geometria Analítica  0.791035\n",
       "18        Arquitetura e Organização de Computadores  0.782670\n",
       "19                                   Banco de Dados  0.749211\n",
       "20                  Organização de Arquivos e Dados  0.671875\n",
       "21                      Probabilidade e Estatística  0.648990\n",
       "22                         Processamento de Imagens  0.618056\n",
       "23                                     Compiladores  0.534407\n",
       "24                               Computação Gráfica  0.399148"
      ]
     },
     "execution_count": 157,
     "metadata": {},
     "output_type": "execute_result"
    }
   ],
   "source": [
    "media_disciplina_one = dataset_g1.iloc[:,5:30]\n",
    "media_disciplina_one = pd.DataFrame(media_disciplina_one.mean().sort_values(ascending=False), columns=['media'])\n",
    "media_disciplina_one = media_disciplina_one.reset_index()\n",
    "media_disciplina_one"
   ]
  },
  {
   "cell_type": "code",
   "execution_count": 158,
   "id": "8afd2347-9e9b-4844-a732-9540b19ee247",
   "metadata": {
    "tags": []
   },
   "outputs": [
    {
     "data": {
      "image/png": "[encoded data removed]",
      "text/plain": [
       "<Figure size 1400x1000 with 1 Axes>"
      ]
     },
     "metadata": {},
     "output_type": "display_data"
    }
   ],
   "source": [
    "create_bar_chart(\n",
    "    data=media_disciplina_one,\n",
    "    x='media',\n",
    "    y='index',\n",
    "    # xlabel='Média',\n",
    "    # ylabel='Disciplina',\n",
    "    figsize=(14, 10),\n",
    "    rotation=0,\n",
    "    fontsize=14,\n",
    "    save_path='imagens/disci_grupoOne.png'\n",
    ")"
   ]
  }
 ],
 "metadata": {
  "kernelspec": {
   "display_name": "Python 3 (ipykernel)",
   "language": "python",
   "name": "python3"
  },
  "language_info": {
   "codemirror_mode": {
    "name": "ipython",
    "version": 3
   },
   "file_extension": ".py",
   "mimetype": "text/x-python",
   "name": "python",
   "nbconvert_exporter": "python",
   "pygments_lexer": "ipython3",
   "version": "3.10.9"
  }
 },
 "nbformat": 4,
 "nbformat_minor": 5
}
