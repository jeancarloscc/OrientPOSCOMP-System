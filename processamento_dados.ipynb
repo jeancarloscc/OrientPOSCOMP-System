{
 "cells": [
  {
   "cell_type": "markdown",
   "id": "fbfffd19-8199-4c3a-bac7-fde6924612f8",
   "metadata": {
    "tags": []
   },
   "source": [
    "# Processamento dos Dados"
   ]
  },
  {
   "cell_type": "code",
   "execution_count": 1,
   "id": "87a844c7-56a6-4aed-a34c-1fcef70518ab",
   "metadata": {},
   "outputs": [
    {
     "name": "stdout",
     "output_type": "stream",
     "text": [
      "importing Jupyter notebook from C:\\Users\\jeanc\\Documentos\\GitHub\\project_dataScience_POSCOMP\\services\\especialidades.ipynb\n"
     ]
    }
   ],
   "source": [
    "import pandas as pd\n",
    "import numpy as np\n",
    "import matplotlib.pyplot as plt\n",
    "import seaborn as sns\n",
    "import seaborn.objects as so\n",
    "import import_ipynb\n",
    "import services.especialidades as esp\n",
    "import datetime\n",
    "import math\n",
    "import services.function as fc"
   ]
  },
  {
   "cell_type": "markdown",
   "id": "7e5c9f90-8c00-424a-a4f7-7ff957550c78",
   "metadata": {
    "tags": []
   },
   "source": [
    "## POSCOMP"
   ]
  },
  {
   "cell_type": "markdown",
   "id": "1bdc0cee-ec8a-4d73-8de5-371bb1c78979",
   "metadata": {
    "tags": []
   },
   "source": [
    "### Dados da Homologação do POSCOMP"
   ]
  },
  {
   "cell_type": "code",
   "execution_count": 2,
   "id": "83a2c8a4-1792-4a44-bb7b-c24fde06c36d",
   "metadata": {
    "tags": []
   },
   "outputs": [],
   "source": [
    "dados_homologados = pd.read_csv('dados/homologacao_poscomp/dados_homologados.csv')"
   ]
  },
  {
   "cell_type": "code",
   "execution_count": 3,
   "id": "93c415a1-74ec-4cc8-b9c1-a4942091f7ef",
   "metadata": {},
   "outputs": [
    {
     "name": "stdout",
     "output_type": "stream",
     "text": [
      "<class 'pandas.core.frame.DataFrame'>\n",
      "RangeIndex: 14575 entries, 0 to 14574\n",
      "Data columns (total 5 columns):\n",
      " #   Column      Non-Null Count  Dtype \n",
      "---  ------      --------------  ----- \n",
      " 0   INSCRICAO   14575 non-null  object\n",
      " 1   DATA NASC.  14575 non-null  object\n",
      " 2   SEXO        14575 non-null  object\n",
      " 3   ESTADO      14575 non-null  object\n",
      " 4   ANO         14575 non-null  int64 \n",
      "dtypes: int64(1), object(4)\n",
      "memory usage: 569.5+ KB\n"
     ]
    }
   ],
   "source": [
    "dados_homologados.info()"
   ]
  },
  {
   "cell_type": "code",
   "execution_count": 4,
   "id": "2c37aa11-92e3-406f-a2ce-2740302d86a6",
   "metadata": {},
   "outputs": [],
   "source": [
    "# elimina dados pertecentes ao Peru\n",
    "dados_homologados = dados_homologados.loc[(dados_homologados['ESTADO']) != 'OU']"
   ]
  },
  {
   "cell_type": "code",
   "execution_count": 5,
   "id": "90933459-2a82-427d-842a-eb905ea6061f",
   "metadata": {},
   "outputs": [
    {
     "data": {
      "text/plain": [
       "<Axes: xlabel='ANO'>"
      ]
     },
     "execution_count": 5,
     "metadata": {},
     "output_type": "execute_result"
    },
    {
     "data": {
      "image/png": "[encoded data removed]",
      "text/plain": [
       "<Figure size 640x480 with 1 Axes>"
      ]
     },
     "metadata": {},
     "output_type": "display_data"
    }
   ],
   "source": [
    "ano = [2016,2017,2018,2019]\n",
    "dados_homologados.groupby('SEXO')['ANO'].value_counts().unstack(0).loc[ano].plot.bar()"
   ]
  },
  {
   "cell_type": "code",
   "execution_count": 6,
   "id": "4300f721-49ac-446a-989b-590e5116dd88",
   "metadata": {},
   "outputs": [
    {
     "data": {
      "text/plain": [
       "<Axes: >"
      ]
     },
     "execution_count": 6,
     "metadata": {},
     "output_type": "execute_result"
    },
    {
     "data": {
      "image/png": "[encoded data removed]",
      "text/plain": [
       "<Figure size 640x480 with 1 Axes>"
      ]
     },
     "metadata": {},
     "output_type": "display_data"
    }
   ],
   "source": [
    "dados_homologados['SEXO'].value_counts().plot.bar()"
   ]
  },
  {
   "cell_type": "code",
   "execution_count": 7,
   "id": "27e06ddf-b59a-4078-97a9-1a9a231bb6f4",
   "metadata": {},
   "outputs": [],
   "source": [
    "dados_homologados = dados_homologados.set_index('INSCRICAO')"
   ]
  },
  {
   "cell_type": "code",
   "execution_count": 8,
   "id": "e59d22e9-cf56-4b47-8966-ebf8d9bd9fa5",
   "metadata": {},
   "outputs": [],
   "source": [
    "dados_homologados.drop(['688145', 'miamia'], inplace=True)"
   ]
  },
  {
   "cell_type": "markdown",
   "id": "da04bbd7-57d8-458b-a556-d706fc7efa4b",
   "metadata": {
    "tags": []
   },
   "source": [
    "### Dados das Notas do POSCOMP"
   ]
  },
  {
   "cell_type": "code",
   "execution_count": 9,
   "id": "a1c5ada7-bb79-4217-9ce1-3ff7fe614ca1",
   "metadata": {},
   "outputs": [],
   "source": [
    "from textwrap import wrap"
   ]
  },
  {
   "cell_type": "code",
   "execution_count": 10,
   "id": "e6fc6ca8-b439-429d-9112-95fe1281c798",
   "metadata": {},
   "outputs": [],
   "source": [
    "dados_notasRespostas = pd.read_csv('dados/notas_poscomp/dados_notasRespostas.csv')"
   ]
  },
  {
   "cell_type": "code",
   "execution_count": 11,
   "id": "645dfe6c-e144-4c49-a774-7c2d7a94c989",
   "metadata": {},
   "outputs": [
    {
     "name": "stdout",
     "output_type": "stream",
     "text": [
      "<class 'pandas.core.frame.DataFrame'>\n",
      "RangeIndex: 79479 entries, 0 to 79478\n",
      "Data columns (total 30 columns):\n",
      " #   Column                                           Non-Null Count  Dtype  \n",
      "---  ------                                           --------------  -----  \n",
      " 0   INSCRICAO                                        79479 non-null  object \n",
      " 1   ESPECIALIDADE                                    78605 non-null  object \n",
      " 2   PRESENTE DIA1                                    79479 non-null  object \n",
      " 3   CARGO                                            79479 non-null  object \n",
      " 4   Matemática Discreta                              64543 non-null  float64\n",
      " 5   Cálculo Diferencial e Integral                   64543 non-null  float64\n",
      " 6   Álgebra Linear                                   64543 non-null  float64\n",
      " 7   Geometria Analítica                              64543 non-null  float64\n",
      " 8   Análise Combinatória                             64543 non-null  float64\n",
      " 9   Probabilidade e Estatística                      64543 non-null  float64\n",
      " 10  Lógica Matemática                                64543 non-null  float64\n",
      " 11  Organização de Arquivos e Dados                  64543 non-null  float64\n",
      " 12  Técnicas de Programação                          64543 non-null  float64\n",
      " 13  Circuitos Digitais                               64543 non-null  float64\n",
      " 14  Análise de Algoritmos                            64543 non-null  float64\n",
      " 15  Teoria dos Grafos                                64543 non-null  float64\n",
      " 16  Linguagens Formais, Autômatos e Computabilidade  64543 non-null  float64\n",
      " 17  Algoritmos e Estruturas de Dados                 64543 non-null  float64\n",
      " 18  Linguagens de Programação                        64543 non-null  float64\n",
      " 19  Sistemas Operacionais                            64543 non-null  float64\n",
      " 20  Arquitetura e Organização de Computadores        64543 non-null  float64\n",
      " 21  Redes de Computadores                            64543 non-null  float64\n",
      " 22  Computação Gráfica                               64543 non-null  float64\n",
      " 23  Inteligência Artificial                          64543 non-null  float64\n",
      " 24  Engenharia de Software                           64543 non-null  float64\n",
      " 25  Sistemas Distribuídos                            64543 non-null  float64\n",
      " 26  Compiladores                                     64543 non-null  float64\n",
      " 27  Processamento de Imagens                         64543 non-null  float64\n",
      " 28  Banco de Dados                                   64543 non-null  float64\n",
      " 29  ANO                                              79479 non-null  int64  \n",
      "dtypes: float64(25), int64(1), object(4)\n",
      "memory usage: 18.2+ MB\n"
     ]
    }
   ],
   "source": [
    "dados_notasRespostas.info()"
   ]
  },
  {
   "cell_type": "markdown",
   "id": "3af884e5-1945-4227-9d55-db2354589c9a",
   "metadata": {
    "tags": []
   },
   "source": [
    "### Realizar estudos por Regiões do Brasil"
   ]
  },
  {
   "cell_type": "code",
   "execution_count": 12,
   "id": "9114310c-925c-4d47-99c6-904b4e441533",
   "metadata": {},
   "outputs": [],
   "source": [
    "dados_homologados_cp = dados_homologados.copy()"
   ]
  },
  {
   "cell_type": "code",
   "execution_count": 13,
   "id": "8d9bda99-a0a3-45e4-bf08-bc74a44f5980",
   "metadata": {},
   "outputs": [
    {
     "data": {
      "text/plain": [
       "array(['CE', 'RS', 'SP', 'PA', 'MT', 'AM', 'MS', 'PB', 'GO', 'RN', 'PR',\n",
       "       'MG', 'SE', 'PE', 'ES', 'BA', 'RJ', 'AL', 'SC', 'MA', 'PI', 'DF',\n",
       "       'RO', 'TO', 'RR', 'AP', 'AC'], dtype=object)"
      ]
     },
     "execution_count": 13,
     "metadata": {},
     "output_type": "execute_result"
    }
   ],
   "source": [
    "dados_homologados['ESTADO'].unique()"
   ]
  },
  {
   "cell_type": "code",
   "execution_count": 14,
   "id": "6ca77af1-b508-4f03-aa7f-61cef4fe4f8c",
   "metadata": {},
   "outputs": [
    {
     "name": "stdout",
     "output_type": "stream",
     "text": [
      "importing Jupyter notebook from C:\\Users\\jeanc\\Documentos\\GitHub\\project_dataScience_POSCOMP\\services\\lista_estados_regioes.ipynb\n"
     ]
    }
   ],
   "source": [
    "import services.lista_estados_regioes as lesr"
   ]
  },
  {
   "cell_type": "code",
   "execution_count": 15,
   "id": "2a7eadc6-1a40-4854-97f4-c484a9d81d6b",
   "metadata": {},
   "outputs": [],
   "source": [
    "#Aqui estou adicionando as regioes dos estados brasileiros\n",
    "for i in lesr.regioes_brasil_siglas:\n",
    "    dados_homologados.loc[dados_homologados['ESTADO'].isin(lesr.regioes_brasil_siglas[i]), 'REGIAO'] = i"
   ]
  },
  {
   "cell_type": "code",
   "execution_count": 16,
   "id": "f2b10327-fa14-4a82-be54-1d28db92cb94",
   "metadata": {},
   "outputs": [],
   "source": [
    "dados_homologados = dados_homologados.dropna()"
   ]
  },
  {
   "cell_type": "code",
   "execution_count": 17,
   "id": "35ca62ec-bb59-4515-898d-b11fd7e91092",
   "metadata": {},
   "outputs": [
    {
     "data": {
      "text/html": [
       "<div>\n",
       "<style scoped>\n",
       "    .dataframe tbody tr th:only-of-type {\n",
       "        vertical-align: middle;\n",
       "    }\n",
       "\n",
       "    .dataframe tbody tr th {\n",
       "        vertical-align: top;\n",
       "    }\n",
       "\n",
       "    .dataframe thead th {\n",
       "        text-align: right;\n",
       "    }\n",
       "</style>\n",
       "<table border=\"1\" class=\"dataframe\">\n",
       "  <thead>\n",
       "    <tr style=\"text-align: right;\">\n",
       "      <th></th>\n",
       "      <th>DATA NASC.</th>\n",
       "      <th>SEXO</th>\n",
       "      <th>ESTADO</th>\n",
       "      <th>ANO</th>\n",
       "      <th>REGIAO</th>\n",
       "    </tr>\n",
       "    <tr>\n",
       "      <th>INSCRICAO</th>\n",
       "      <th></th>\n",
       "      <th></th>\n",
       "      <th></th>\n",
       "      <th></th>\n",
       "      <th></th>\n",
       "    </tr>\n",
       "  </thead>\n",
       "  <tbody>\n",
       "    <tr>\n",
       "      <th>39401645886-1</th>\n",
       "      <td>29/11/1989</td>\n",
       "      <td>M</td>\n",
       "      <td>CE</td>\n",
       "      <td>2016</td>\n",
       "      <td>nordeste</td>\n",
       "    </tr>\n",
       "    <tr>\n",
       "      <th>39401663587-8</th>\n",
       "      <td>23/02/1995</td>\n",
       "      <td>M</td>\n",
       "      <td>RS</td>\n",
       "      <td>2016</td>\n",
       "      <td>sul</td>\n",
       "    </tr>\n",
       "    <tr>\n",
       "      <th>39401651770-6</th>\n",
       "      <td>13/12/1991</td>\n",
       "      <td>M</td>\n",
       "      <td>SP</td>\n",
       "      <td>2016</td>\n",
       "      <td>sudeste</td>\n",
       "    </tr>\n",
       "    <tr>\n",
       "      <th>39401671273-0</th>\n",
       "      <td>29/09/1986</td>\n",
       "      <td>M</td>\n",
       "      <td>PA</td>\n",
       "      <td>2016</td>\n",
       "      <td>norte</td>\n",
       "    </tr>\n",
       "    <tr>\n",
       "      <th>39402640298-8</th>\n",
       "      <td>26/11/1991</td>\n",
       "      <td>M</td>\n",
       "      <td>MT</td>\n",
       "      <td>2016</td>\n",
       "      <td>centro_oeste</td>\n",
       "    </tr>\n",
       "  </tbody>\n",
       "</table>\n",
       "</div>"
      ],
      "text/plain": [
       "               DATA NASC. SEXO ESTADO   ANO        REGIAO\n",
       "INSCRICAO                                                \n",
       "39401645886-1  29/11/1989    M     CE  2016      nordeste\n",
       "39401663587-8  23/02/1995    M     RS  2016           sul\n",
       "39401651770-6  13/12/1991    M     SP  2016       sudeste\n",
       "39401671273-0  29/09/1986    M     PA  2016         norte\n",
       "39402640298-8  26/11/1991    M     MT  2016  centro_oeste"
      ]
     },
     "execution_count": 17,
     "metadata": {},
     "output_type": "execute_result"
    }
   ],
   "source": [
    "dados_homologados.head()"
   ]
  },
  {
   "cell_type": "markdown",
   "id": "00e40d4d-eb69-4198-bda8-bb1752fce391",
   "metadata": {},
   "source": [
    "### Converter as data de nascimento por idade"
   ]
  },
  {
   "cell_type": "code",
   "execution_count": 18,
   "id": "a907f78e-d19d-4fbb-b394-fa4a95bc86e1",
   "metadata": {},
   "outputs": [],
   "source": [
    "def age(idade):\n",
    "    idade = datetime.strptime(idade, \"%d/%m/%Y\").date()\n",
    "    today = date.today()\n",
    "    return today.year - idade.year - ((today.month, today.day) < (idade.month, idade.day))\n",
    "\n",
    "# df['Age'] = df['DOB'].apply(age)"
   ]
  },
  {
   "cell_type": "code",
   "execution_count": 19,
   "id": "a02411ee-a4e8-47a9-9de7-645a495e6e6a",
   "metadata": {},
   "outputs": [],
   "source": [
    "from datetime import datetime, date\n",
    "\n",
    "dados_homologados['IDADE'] = dados_homologados['DATA NASC.'].apply(age)"
   ]
  },
  {
   "cell_type": "code",
   "execution_count": 20,
   "id": "3834b1b8-2391-475a-bdef-1fc9a11dafb8",
   "metadata": {},
   "outputs": [
    {
     "data": {
      "text/html": [
       "<div>\n",
       "<style scoped>\n",
       "    .dataframe tbody tr th:only-of-type {\n",
       "        vertical-align: middle;\n",
       "    }\n",
       "\n",
       "    .dataframe tbody tr th {\n",
       "        vertical-align: top;\n",
       "    }\n",
       "\n",
       "    .dataframe thead th {\n",
       "        text-align: right;\n",
       "    }\n",
       "</style>\n",
       "<table border=\"1\" class=\"dataframe\">\n",
       "  <thead>\n",
       "    <tr style=\"text-align: right;\">\n",
       "      <th></th>\n",
       "      <th>SEXO</th>\n",
       "      <th>ESTADO</th>\n",
       "      <th>ANO</th>\n",
       "      <th>REGIAO</th>\n",
       "      <th>IDADE</th>\n",
       "    </tr>\n",
       "    <tr>\n",
       "      <th>INSCRICAO</th>\n",
       "      <th></th>\n",
       "      <th></th>\n",
       "      <th></th>\n",
       "      <th></th>\n",
       "      <th></th>\n",
       "    </tr>\n",
       "  </thead>\n",
       "  <tbody>\n",
       "    <tr>\n",
       "      <th>39401645886-1</th>\n",
       "      <td>M</td>\n",
       "      <td>CE</td>\n",
       "      <td>2016</td>\n",
       "      <td>nordeste</td>\n",
       "      <td>33</td>\n",
       "    </tr>\n",
       "    <tr>\n",
       "      <th>39401663587-8</th>\n",
       "      <td>M</td>\n",
       "      <td>RS</td>\n",
       "      <td>2016</td>\n",
       "      <td>sul</td>\n",
       "      <td>28</td>\n",
       "    </tr>\n",
       "    <tr>\n",
       "      <th>39401651770-6</th>\n",
       "      <td>M</td>\n",
       "      <td>SP</td>\n",
       "      <td>2016</td>\n",
       "      <td>sudeste</td>\n",
       "      <td>31</td>\n",
       "    </tr>\n",
       "    <tr>\n",
       "      <th>39401671273-0</th>\n",
       "      <td>M</td>\n",
       "      <td>PA</td>\n",
       "      <td>2016</td>\n",
       "      <td>norte</td>\n",
       "      <td>36</td>\n",
       "    </tr>\n",
       "    <tr>\n",
       "      <th>39402640298-8</th>\n",
       "      <td>M</td>\n",
       "      <td>MT</td>\n",
       "      <td>2016</td>\n",
       "      <td>centro_oeste</td>\n",
       "      <td>31</td>\n",
       "    </tr>\n",
       "  </tbody>\n",
       "</table>\n",
       "</div>"
      ],
      "text/plain": [
       "              SEXO ESTADO   ANO        REGIAO  IDADE\n",
       "INSCRICAO                                           \n",
       "39401645886-1    M     CE  2016      nordeste     33\n",
       "39401663587-8    M     RS  2016           sul     28\n",
       "39401651770-6    M     SP  2016       sudeste     31\n",
       "39401671273-0    M     PA  2016         norte     36\n",
       "39402640298-8    M     MT  2016  centro_oeste     31"
      ]
     },
     "execution_count": 20,
     "metadata": {},
     "output_type": "execute_result"
    }
   ],
   "source": [
    "dados_homologados = dados_homologados.drop(columns=['DATA NASC.'])\n",
    "dados_homologados.head()"
   ]
  },
  {
   "cell_type": "markdown",
   "id": "ae6f8f0d-c335-4a8c-87d2-325f57eeda11",
   "metadata": {
    "tags": []
   },
   "source": [
    "### Juntar os dataframes"
   ]
  },
  {
   "cell_type": "code",
   "execution_count": 21,
   "id": "1db5b502-cf79-4cce-9cf9-c1b0f51e4fab",
   "metadata": {},
   "outputs": [
    {
     "data": {
      "text/plain": [
       "(14344, 5)"
      ]
     },
     "execution_count": 21,
     "metadata": {},
     "output_type": "execute_result"
    }
   ],
   "source": [
    "dados_homologados.shape"
   ]
  },
  {
   "cell_type": "code",
   "execution_count": 22,
   "id": "234233a3-90a2-496a-a3d7-da141ffc3345",
   "metadata": {},
   "outputs": [
    {
     "name": "stdout",
     "output_type": "stream",
     "text": [
      "<class 'pandas.core.frame.DataFrame'>\n",
      "Index: 14344 entries, 39401645886-1 to 51801366900-3\n",
      "Data columns (total 5 columns):\n",
      " #   Column  Non-Null Count  Dtype \n",
      "---  ------  --------------  ----- \n",
      " 0   SEXO    14344 non-null  object\n",
      " 1   ESTADO  14344 non-null  object\n",
      " 2   ANO     14344 non-null  int64 \n",
      " 3   REGIAO  14344 non-null  object\n",
      " 4   IDADE   14344 non-null  int64 \n",
      "dtypes: int64(2), object(3)\n",
      "memory usage: 672.4+ KB\n"
     ]
    }
   ],
   "source": [
    "dados_homologados.info()\n",
    "dados_homologados = dados_homologados.drop(columns=['ANO'])"
   ]
  },
  {
   "cell_type": "code",
   "execution_count": 23,
   "id": "eb016927-105a-4270-bac5-99c7515f9a50",
   "metadata": {},
   "outputs": [],
   "source": [
    "# dados_respostas.info()\n",
    "# dados_respostas = dados_respostas.drop(columns=['ANO'])"
   ]
  },
  {
   "cell_type": "code",
   "execution_count": 24,
   "id": "7a2c614d-a3b3-4bc7-b5b5-ab2ca976b426",
   "metadata": {},
   "outputs": [
    {
     "name": "stdout",
     "output_type": "stream",
     "text": [
      "<class 'pandas.core.frame.DataFrame'>\n",
      "RangeIndex: 79479 entries, 0 to 79478\n",
      "Data columns (total 30 columns):\n",
      " #   Column                                           Non-Null Count  Dtype  \n",
      "---  ------                                           --------------  -----  \n",
      " 0   INSCRICAO                                        79479 non-null  object \n",
      " 1   ESPECIALIDADE                                    78605 non-null  object \n",
      " 2   PRESENTE DIA1                                    79479 non-null  object \n",
      " 3   CARGO                                            79479 non-null  object \n",
      " 4   Matemática Discreta                              64543 non-null  float64\n",
      " 5   Cálculo Diferencial e Integral                   64543 non-null  float64\n",
      " 6   Álgebra Linear                                   64543 non-null  float64\n",
      " 7   Geometria Analítica                              64543 non-null  float64\n",
      " 8   Análise Combinatória                             64543 non-null  float64\n",
      " 9   Probabilidade e Estatística                      64543 non-null  float64\n",
      " 10  Lógica Matemática                                64543 non-null  float64\n",
      " 11  Organização de Arquivos e Dados                  64543 non-null  float64\n",
      " 12  Técnicas de Programação                          64543 non-null  float64\n",
      " 13  Circuitos Digitais                               64543 non-null  float64\n",
      " 14  Análise de Algoritmos                            64543 non-null  float64\n",
      " 15  Teoria dos Grafos                                64543 non-null  float64\n",
      " 16  Linguagens Formais, Autômatos e Computabilidade  64543 non-null  float64\n",
      " 17  Algoritmos e Estruturas de Dados                 64543 non-null  float64\n",
      " 18  Linguagens de Programação                        64543 non-null  float64\n",
      " 19  Sistemas Operacionais                            64543 non-null  float64\n",
      " 20  Arquitetura e Organização de Computadores        64543 non-null  float64\n",
      " 21  Redes de Computadores                            64543 non-null  float64\n",
      " 22  Computação Gráfica                               64543 non-null  float64\n",
      " 23  Inteligência Artificial                          64543 non-null  float64\n",
      " 24  Engenharia de Software                           64543 non-null  float64\n",
      " 25  Sistemas Distribuídos                            64543 non-null  float64\n",
      " 26  Compiladores                                     64543 non-null  float64\n",
      " 27  Processamento de Imagens                         64543 non-null  float64\n",
      " 28  Banco de Dados                                   64543 non-null  float64\n",
      " 29  ANO                                              79479 non-null  int64  \n",
      "dtypes: float64(25), int64(1), object(4)\n",
      "memory usage: 18.2+ MB\n"
     ]
    }
   ],
   "source": [
    "dados_notasRespostas.info()"
   ]
  },
  {
   "cell_type": "code",
   "execution_count": 25,
   "id": "83e701ee-a4e8-43e8-8294-27315e61fd04",
   "metadata": {},
   "outputs": [],
   "source": [
    "data_poscomp = pd.merge(dados_homologados, dados_notasRespostas, how='inner', on='INSCRICAO')"
   ]
  },
  {
   "cell_type": "code",
   "execution_count": 26,
   "id": "498959d2-be12-43fd-ac0f-3bd719f5383a",
   "metadata": {},
   "outputs": [
    {
     "data": {
      "text/plain": [
       "(77773, 34)"
      ]
     },
     "execution_count": 26,
     "metadata": {},
     "output_type": "execute_result"
    }
   ],
   "source": [
    "data_poscomp.shape"
   ]
  },
  {
   "cell_type": "code",
   "execution_count": 27,
   "id": "6fc3a691-41eb-4398-806a-6cfeb52b75a9",
   "metadata": {},
   "outputs": [],
   "source": [
    "data_poscomp = data_poscomp.drop_duplicates(subset='INSCRICAO', keep='first')"
   ]
  },
  {
   "cell_type": "code",
   "execution_count": 28,
   "id": "15bd8ec0-efea-464a-bff6-70552d635d4d",
   "metadata": {
    "tags": []
   },
   "outputs": [],
   "source": [
    "data_poscomp = data_poscomp.query(\"ESPECIALIDADE.notnull()\")"
   ]
  },
  {
   "cell_type": "markdown",
   "id": "607c3aef-d85a-4e5a-93f9-d0ee99ba89cc",
   "metadata": {
    "tags": []
   },
   "source": [
    "# Tratamento da especilidade dos candidatos"
   ]
  },
  {
   "cell_type": "code",
   "execution_count": 29,
   "id": "ab235861-7b8b-49ec-a0e0-1943d2ef831f",
   "metadata": {
    "tags": []
   },
   "outputs": [],
   "source": [
    "# Converter todos os elementos para minúsculas\n",
    "data_poscomp['ESPECIALIDADE'] = data_poscomp['ESPECIALIDADE'].str.lower()"
   ]
  },
  {
   "cell_type": "code",
   "execution_count": 30,
   "id": "e4f43897-0479-43da-8558-2dbd612ec0d4",
   "metadata": {
    "tags": []
   },
   "outputs": [],
   "source": [
    "import re\n",
    "\n",
    "# definir uma expressão regular para encontrar os caracteres '?'\n",
    "def substituir_caracteres(df, caractere):\n",
    "    regex = r'\\b{}\\b'.format(re.escape(caractere))\n",
    "\n",
    "    # substituir os caracteres '?' por um caractere vazio em todas as linhas da coluna 'Texto'\n",
    "    df['ESPECIALIDADE'] = df['ESPECIALIDADE'].apply(lambda x: re.sub(regex, '', x))\n",
    "    \n",
    "    return df"
   ]
  },
  {
   "cell_type": "code",
   "execution_count": 31,
   "id": "de4f65ad-3e30-4232-9f3e-c106d6927eca",
   "metadata": {
    "tags": []
   },
   "outputs": [],
   "source": [
    "def remover_e(frase):\n",
    "    if frase.endswith(\" e\"):\n",
    "        frase = frase.rstrip(\" e\")\n",
    "    # if frase.endswith(\" a\"):\n",
    "    #     frase = frase.rstrip(\" a\")\n",
    "    return frase\n",
    "\n",
    "# # Aplicar a função em uma coluna do DataFrame\n",
    "# dados_disciplinas['ESPECIALIDADE'] = dados_disciplinas['ESPECIALIDADE'].apply(remover_e)"
   ]
  },
  {
   "cell_type": "code",
   "execution_count": 32,
   "id": "c6d12258-0b08-43e1-ab11-b0427b75af5b",
   "metadata": {
    "tags": []
   },
   "outputs": [],
   "source": [
    "def substituir_palavras(df, palavras_a_substituir, palavra_substituta):\n",
    "    # Para cada palavra a ser substituída\n",
    "    for palavra in palavras_a_substituir:\n",
    "        # Use uma expressão regular para encontrar a palavra inteira e aplicar a substituição\n",
    "        padrao = r'\\b' + re.escape(palavra) + r'\\b'\n",
    "        df['ESPECIALIDADE'] = df['ESPECIALIDADE'].str.replace(padrao, palavra_substituta, regex=True)\n",
    "\n",
    "    # Retorna o novo DataFrame com as palavras substituídas\n",
    "    return df"
   ]
  },
  {
   "cell_type": "code",
   "execution_count": 33,
   "id": "7de41c0c-d715-489c-9469-731ea166541f",
   "metadata": {
    "tags": []
   },
   "outputs": [
    {
     "name": "stderr",
     "output_type": "stream",
     "text": [
      "C:\\Users\\jeanc\\AppData\\Local\\Temp\\ipykernel_18268\\2960417987.py:8: FutureWarning: The default value of regex will change from True to False in a future version.\n",
      "  data_poscomp['ESPECIALIDADE'] = data_poscomp['ESPECIALIDADE'].str.replace(r'\\\\', '')\n",
      "C:\\Users\\jeanc\\AppData\\Local\\Temp\\ipykernel_18268\\2960417987.py:10: FutureWarning: The default value of regex will change from True to False in a future version. In addition, single character regular expressions will *not* be treated as literal strings when regex=True.\n",
      "  data_poscomp['ESPECIALIDADE'] = data_poscomp['ESPECIALIDADE'].str.replace(r'.', '')\n"
     ]
    }
   ],
   "source": [
    "data_poscomp = substituir_caracteres(data_poscomp, '?',)\n",
    "data_poscomp = substituir_caracteres(data_poscomp, '\\\\')\n",
    "# dataset_analise = substituir_caracteres(dataset_analise, ' \\')\n",
    "data_poscomp = substituir_caracteres(data_poscomp, '\\ ')\n",
    "\n",
    "\n",
    "# Remover caracteres \"\\\\\"\n",
    "data_poscomp['ESPECIALIDADE'] = data_poscomp['ESPECIALIDADE'].str.replace(r'\\\\', '')\n",
    "data_poscomp['ESPECIALIDADE'] = data_poscomp['ESPECIALIDADE'].str.replace(r' à', '')\n",
    "data_poscomp['ESPECIALIDADE'] = data_poscomp['ESPECIALIDADE'].str.replace(r'.', '')\n",
    "data_poscomp['ESPECIALIDADE'] = data_poscomp['ESPECIALIDADE'].str.replace(r':', '')"
   ]
  },
  {
   "cell_type": "code",
   "execution_count": 34,
   "id": "6a178715-7fa6-4972-8f79-14ecf64748c0",
   "metadata": {
    "tags": []
   },
   "outputs": [],
   "source": [
    "# buscando as três primeiras palavras de cada texto sem as vírgulas\n",
    "primeiras_palavras = data_poscomp['ESPECIALIDADE'].str.split().apply(lambda x: x[:3])\n",
    "\n",
    "# adicionando as palavras como uma nova coluna no dataframe\n",
    "data_poscomp['ESPECIALIDADE'] = primeiras_palavras\n",
    "\n",
    "# removendo as vírgulas da coluna 'Primeiras Palavras'\n",
    "data_poscomp['ESPECIALIDADE'] = data_poscomp['ESPECIALIDADE'].apply(lambda x: ' '.join(word.replace(',', '') for word in x))\n",
    "\n",
    "# imprimindo o dataframe resultante"
   ]
  },
  {
   "cell_type": "code",
   "execution_count": 35,
   "id": "93aeddae-432a-4333-91a0-c15dee601415",
   "metadata": {},
   "outputs": [],
   "source": [
    "data_poscomp['ESPECIALIDADE'] = data_poscomp['ESPECIALIDADE'].apply(remover_e)"
   ]
  },
  {
   "cell_type": "code",
   "execution_count": 36,
   "id": "c9c5d1a1-5315-447e-9d6f-2dc3c4d9c3dc",
   "metadata": {
    "tags": []
   },
   "outputs": [],
   "source": [
    "data_poscomp = substituir_palavras(data_poscomp, [\n",
    " 'matemática e inteligência',\n",
    " 'inteligência computacional',\n",
    " 'otimização e inteligência',\n",
    " 'lógica inteligência artificial',\n",
    " 'inteligência aplicada',\n",
    " 'outrasinteligência artificial',\n",
    " 'sistemas de inteligência',\n",
    " 'inteligência e modelagem',\n",
    " 'outras inteligência artificial',\n",
    "    'computação inteligente',\n",
    "    'inferência em dados',\n",
    "    'agentes de software',\n",
    "    'inteligencia computacional',\n",
    "    'sistemas inteligentes',\n",
    "    'sistemas multiagentes',\n",
    "    'inteligência artificial aplicada',\n",
    "    'inteligencia artificial',\n",
    "    'redes neuronais artificiais',\n",
    "    'redes neurais',\n",
    "    'recuperação e tratamento',\n",
    "    'automação e robótica',\n",
    " 'robótica cooperativa',\n",
    " 'robótica e automação',\n",
    " 'robótica coletiva',\n",
    "    'representação de conhecimento', 'representação do conhecimento',\n",
    "    'robótica móvel',\n",
    "    'agentes inteligentes',\n",
    "    'métodos baseados em',\n",
    "    'máquinas virtuais',\n",
    "'árvores de decisão'\n",
    "], \"inteligência artificial\")"
   ]
  },
  {
   "cell_type": "code",
   "execution_count": 37,
   "id": "d7770ac2-aed7-4da4-acc6-b8b4bce03ac1",
   "metadata": {},
   "outputs": [],
   "source": [
    "# data_poscomp['ESPECIALIDADE'] = data_poscomp['ESPECIALIDADE'].replace({'desenvolvimento':'engenharia de software'})"
   ]
  },
  {
   "cell_type": "code",
   "execution_count": 38,
   "id": "15aa4ddc-a181-4431-a8f7-65899239e573",
   "metadata": {
    "tags": []
   },
   "outputs": [],
   "source": [
    "data_poscomp = substituir_palavras(data_poscomp, [\n",
    "'elaboração de software',\n",
    " 'desenvolvimento de software',\n",
    " 'qualidade de software',\n",
    "    'métricas de software',\n",
    " 'teste de software',\n",
    "    'sistemas de software',\n",
    "    'engenharia da informação',\n",
    "    'sistemas web',\n",
    "    'processo de desenvolvimento',\n",
    " 'processos de desenvolvimento',\n",
    " 'melhoria de processo',\n",
    "    'controle da qualidade',\n",
    "    'projeto e teste',\n",
    " 'verificação e teste',\n",
    " 'teste e confiabilidade',\n",
    " 'testes baseados em',\n",
    "    'avaliação de projetos', 'avaliação e melhoria',\n",
    "    'ambientes de desenvolvimento',\n",
    " 'desenvolvimento de ferramentas',\n",
    "    'gerência de desenvolvimento',\n",
    "    'métodos ágeis',\n",
    "    'gerência de projetos'\n",
    "], \"engenharia de software\")"
   ]
  },
  {
   "cell_type": "code",
   "execution_count": 39,
   "id": "e6d2ec7b-afa3-43cc-ba15-85acf0e83ee8",
   "metadata": {},
   "outputs": [],
   "source": [
    "# data_poscomp['ESPECIALIDADE'] = data_poscomp['ESPECIALIDADE'].replace({'algoritmos': 'sistemas de computação'})"
   ]
  },
  {
   "cell_type": "code",
   "execution_count": 40,
   "id": "cf174dcb-abf6-465b-afec-1a37bc7a01a5",
   "metadata": {
    "tags": []
   },
   "outputs": [],
   "source": [
    "data_poscomp = substituir_palavras(data_poscomp, [\n",
    "'sistemas de computaçãoredes',\n",
    " 'sistemas de computaçãomicroeletrônica',\n",
    " 'sistemas de computaçãosistemas',\n",
    " 'sistemas de comunicação',\n",
    " 'sistemas de computaçãoarquitetura',\n",
    " 'sistemas de computaçãovisualização',\n",
    "'sistema de computação',\n",
    "    'sistemas computacionais para',\n",
    " 'sistemas complexos de',\n",
    " 'sistemas computacionais',\n",
    " 'sistemas computacionais complexos',\n",
    " 'sistemas computacionais embarcados',\n",
    " 'sistemas complexos adaptativos',\n",
    "    'sistemas de computação complexos',\n",
    " 'sistemas de computação embarcados',\n",
    "    'computação de alto',\n",
    "    'engenharia de sistemas',\n",
    "    'projeto de sistemas',\n",
    "    'engenharia de sistema',\n",
    "    'segurança em sistemas',\n",
    "    'desenvolvimento de sistemas',\n",
    "    'sistemas nebulosos',\n",
    "    'programação funcional',\n",
    "    'análise de algoritmos',\n",
    " 'teoria e algoritmos',\n",
    " 'algoritimos experimentais',\n",
    " 'algoritmos e combinatória',\n",
    " 'novos algoritmos',\n",
    " 'algoritmos experimentais',\n",
    " 'algoritmos e complexidade',\n",
    " 'outrasalgoritmos e combinatória',\n",
    " 'outras algoritmos',\n",
    "    'avaliacão de desempenho',\n",
    "    'ciências de computação',\n",
    "    'teoria da computação',\n",
    "    'teoria aplicada computação',\n",
    "    'teoria da computaçãoanálise',\n",
    "    'estruturas de dados',\n",
    "    'analise de desempenho',\n",
    "    'linguagens formais',\n",
    "    'computação forense',\n",
    "    'forense computacional'\n",
    "], \"sistemas de computação\")"
   ]
  },
  {
   "cell_type": "code",
   "execution_count": 41,
   "id": "06ca8532-b0c7-4bfd-a34b-440b9238ff90",
   "metadata": {
    "tags": []
   },
   "outputs": [],
   "source": [
    "data_poscomp = substituir_palavras(data_poscomp, [\n",
    "    'sistemas de informações',\n",
    "    'ciência computacional',\n",
    " 'ciência da computação',\n",
    "    'bancos de dados',\n",
    " 'banco de dados',\n",
    "    'web e banco', 'projeto de bancos',\n",
    "    'sistema de informação',\n",
    " 'tecnologia da informação',\n",
    "    'sistemas de informação/computação',\n",
    "    'metodologia e técnicas',\n",
    " 'metodologia da computação',\n",
    " 'metodologias e técnicas',\n",
    " 'metodologia e tecnicas',\n",
    "    'fundamentos da computação',\n",
    " 'fundamentos de computação',\n",
    " 'fundamentos e métodos',\n",
    "    'gestão da informação',\n",
    "    'linguagens de programação',\n",
    " 'linguagem de programação',\n",
    "    'algoritmos e grafos',\n",
    " 'teoria dos grafos',\n",
    " 'grafos e combinatória',\n",
    " 'algoritmos grafos',\n",
    "    'sistemas interativos',\n",
    "    'gestão da tecnologia',\n",
    "    'gestão estratégica de',\n",
    "    'mídia e interação', 'hipertexto e multimídia', 'hipermídia e multimídia',\n",
    "    'computação orientada a'\n",
    "    ], \"sistemas de informação\")"
   ]
  },
  {
   "cell_type": "code",
   "execution_count": 42,
   "id": "d6e541af-6e86-42fc-a80a-9fdd63b0317e",
   "metadata": {
    "tags": []
   },
   "outputs": [],
   "source": [
    "data_poscomp = substituir_palavras(data_poscomp, [\n",
    "'computação aplicada a',\n",
    " 'computação aplicadasistemas de',\n",
    " 'computação aplicadainteligência computacional',\n",
    " 'computação aplicada sistemas',\n",
    " 'computação aplicada inteligência',\n",
    "    'fundamentos matemáticos da',\n",
    "    'engenharia da computação',\n",
    " 'engenharia de computadores',\n",
    "    'segurança e sistemas',\n",
    "    'controle de sistemas',\n",
    "     'sistemas de tipos',\n",
    " 'gestão de sistemas',\n",
    " 'sistemas de gestão',\n",
    " 'sistemas de data',\n",
    " 'controle de sistemas'\n",
    " ], 'computação aplicada')"
   ]
  },
  {
   "cell_type": "code",
   "execution_count": 43,
   "id": "2655b785-b0ff-4c97-a934-59668e94b9e7",
   "metadata": {
    "tags": []
   },
   "outputs": [],
   "source": [
    "data_poscomp = substituir_palavras(data_poscomp, [\n",
    "    'computação em nuvem',\n",
    "    'arquitetura de computadores',\n",
    " 'arquitetura de sistemas',\n",
    " 'arquitetura e projeto',\n",
    " 'modelos e arquiteturas',\n",
    " 'arquiteturas e algoritmos',\n",
    " 'modelagem e arquitetura',\n",
    " 'arquiteturas e redes',\n",
    "'redes e sistemas',\n",
    "'redes de comunicação',  \n",
    "'projeto de redes',      \n",
    "'distribuição e redes', \n",
    "'gerenciamento de redes',\n",
    "'segurança de redes',    \n",
    "'segurança em redes',\n",
    "    'gerência de redes',\n",
    "    'redes de comunicações',\n",
    "    'análise de redes',\n",
    "    'redes de sensores',\n",
    "    'redes móveis',\n",
    "    'projeto integrado de',\n",
    " 'infraestrutura para integração',\n",
    " 'projetos integrados de',\n",
    "    'serviços internet escaláveis',\n",
    "    'hardware e software'\n",
    "], \"redes de computadores\")"
   ]
  },
  {
   "cell_type": "code",
   "execution_count": 44,
   "id": "eb3584bd-9972-49f8-b277-b0aa29a4796a",
   "metadata": {
    "tags": []
   },
   "outputs": [],
   "source": [
    "data_poscomp = substituir_palavras(data_poscomp, [\n",
    "    'ciência dos dados',\n",
    "    'mineração de dados', \n",
    "    'mineração anális',\n",
    "    'big data',\n",
    "    'mineiração de dados',\n",
    "    'análise de dados',\n",
    "    'descoberta do conhecimento',\n",
    "    'visualização da informação',\n",
    " 'extração de informação',\n",
    "    'data science',\n",
    "    'análise de padrões'\n",
    "    ], \"ciência de dados\")"
   ]
  },
  {
   "cell_type": "code",
   "execution_count": 45,
   "id": "2bfc88eb-e055-4e2a-adce-0c849be813bf",
   "metadata": {
    "tags": []
   },
   "outputs": [],
   "source": [
    "# data_poscomp = substituir_palavras(data_poscomp, [\n",
    "#  'sistemas embarcados evoluídos',\n",
    "#  'velha-sistemas embarcados'], \"sistemas embarcados\")"
   ]
  },
  {
   "cell_type": "code",
   "execution_count": 46,
   "id": "6869f004-6c09-4250-a956-7ef5da9fdf05",
   "metadata": {
    "tags": []
   },
   "outputs": [],
   "source": [
    "data_poscomp = substituir_palavras(data_poscomp, [\n",
    "'aprendizado de maquina',\n",
    "'aprendizagem de maquina',\n",
    "'aprendizagem de máquina',\n",
    "'aprendizado automático de',\n",
    "'sistemas de apoio'], \"aprendizado de máquina\")"
   ]
  },
  {
   "cell_type": "code",
   "execution_count": 47,
   "id": "74185fcd-0a08-4d70-8f3b-47d80e32eb59",
   "metadata": {
    "tags": []
   },
   "outputs": [],
   "source": [
    "data_poscomp = substituir_palavras(data_poscomp, [\n",
    "'aplicações distribuídas',\n",
    " 'computação distribuida',\n",
    " 'computação distribuída',\n",
    " 'sistemas distribuidos',\n",
    " 'algoritmos distribuídos',\n",
    "'paralelização de algoritmos',\n",
    "'algoritmos paralelos',\n",
    "'processamento paralelo',\n",
    "'computação em nuvem', 'computação em nuvens',\n",
    "'cloud computing',\n",
    "'escalabilidade e eficiência',\n",
    "'internet e web','middleware e objetos',\n",
    "'computação paralela',\n",
    "'sistemas paralelos',\n",
    "'computação móvel',\n",
    "'gerenciamento de recursos'], \"sistemas distribuídos\")"
   ]
  },
  {
   "cell_type": "code",
   "execution_count": 48,
   "id": "ab805bc2-d1df-4b8c-a154-766a9a9f2774",
   "metadata": {
    "tags": []
   },
   "outputs": [],
   "source": [
    "data_poscomp = substituir_palavras(data_poscomp, [\n",
    " 'algoritmos otimização combinatória',\n",
    " 'algoritmos e otimização',\n",
    " 'otimização e raciocínio',\n",
    " 'otimização e automação',\n",
    " 'otimização combinatória',\n",
    " 'otimização em engenharia',\n",
    " 'sistemas de otimização',\n",
    " 'aprendizagem e otimização',\n",
    " 'algoritmos otimização',\n",
    " 'algoritimos otimização combinatória',\n",
    "'algoritimos otimização',\n",
    "    'métodos computacionais de',\n",
    "    'sistemas integrados',\n",
    "    'otimização de',\n",
    "    'combinatória e teoria'\n",
    "], \"otimização\")"
   ]
  },
  {
   "cell_type": "code",
   "execution_count": 49,
   "id": "7e1652c1-39e2-4f0c-9307-cad5cecf9bda",
   "metadata": {
    "tags": []
   },
   "outputs": [],
   "source": [
    "data_poscomp = substituir_palavras(data_poscomp, [\n",
    "'computação gráfica imagens',\n",
    " 'computação gráfica',\n",
    " 'computação gráfica processamento',\n",
    "'processamento gráfico',\n",
    " 'processamento gráfico interação',\n",
    " 'processamento gráfico aplicado',\n",
    " 'processamento grafico',\n",
    "'computação gráfica',\n",
    " 'computação gráfica interação',\n",
    " 'computação gráfica aplicado',\n",
    "    'animação e jogos',\n",
    "    'jogos e entretenimento',\n",
    "], \"computação gráfica\")"
   ]
  },
  {
   "cell_type": "code",
   "execution_count": 50,
   "id": "672fb24f-3f65-4d6f-adcd-41bf1941ebeb",
   "metadata": {
    "tags": []
   },
   "outputs": [],
   "source": [
    "data_poscomp = substituir_palavras(data_poscomp, [\n",
    "    'tecnologias aplicadas educação',\n",
    " 'informática na educação',\n",
    " 'tecnologias educacionais',\n",
    " 'informática educação',\n",
    " 'informática e educação',\n",
    "'métodos e recursos',\n",
    "'tecnologias computacionais para',\n",
    "'educação em engenharia'], \"informática na educação\")"
   ]
  },
  {
   "cell_type": "code",
   "execution_count": 51,
   "id": "506948f2-df70-4cbd-86b9-726ac092bfa3",
   "metadata": {
    "tags": []
   },
   "outputs": [],
   "source": [
    "data_poscomp = substituir_palavras(data_poscomp, [\n",
    "'modelagem e gerência',\n",
    " 'modelagem computacional',\n",
    " 'modelagem computacional do',\n",
    " 'análise e modelagem',\n",
    " 'modelagem conceitual',\n",
    " 'modelagem e simulação',\n",
    " 'computação pervasiva modelagem',\n",
    " 'modelagem de negócios',\n",
    " 'modelagem matemático computacional',\n",
    " 'modelagem e métodos',\n",
    " 'técnicas de modelagem',\n",
    " 'inteligência e modelagem',\n",
    " 'modelagem de dados',\n",
    "'imagens médicas',\n",
    "'modelos computacionais',\n",
    "'sistemas e tecnologias',\n",
    " 'tecnologias computacionais para',\n",
    " 'tecnologia da informação',\n",
    " 'tecnologias e sistemas',\n",
    " 'inovações tecnológicas para',\n",
    "'aplicações computacionais do',\n",
    "'desenvolvimento de jogos',\n",
    "'desenvolvimento dirigido a',\n",
    "    'processamento de linguagem',\n",
    " 'processamento digital de',\n",
    " 'núcleo de processamento',\n",
    " 'microeletrônica e processamento',\n",
    " 'geoprocessamento',\n",
    " 'multimídia e processamento',\n",
    "    'engenharia de tráfego',\n",
    " 'engenharia de trafego',\n",
    "    'biologia matemática',\n",
    " 'biologia computacional',\n",
    " 'bioinformática estrutural',\n",
    " 'computação bioinspirada',\n",
    " 'bioinformática e computação',\n",
    " 'bioinformática e biologia',\n",
    "   'agropecuária de precisão',\n",
    "    'segmentação e análise',\n",
    "    'computação musical',\n",
    "    'desenvolvimento de plataformas',\n",
    "    'computação científica',\n",
    "    'bioinformática',\n",
    "    'mecânica dos fluidos',\n",
    "    'microeletrônica',\n",
    "    'biometria',\n",
    "    'aplicações da computação',\n",
    "    'computação pervasiva sistemas',\n",
    "   'gestão de riscos',\n",
    "   'gestão do conhecimento',\n",
    "    'gestão de processos',\n",
    "    'matemática discreta',\n",
    "    'desenvolvimento e aplicação',\n",
    "    'segurança de dados',\n",
    " 'gerenciamento de dados',\n",
    " 'gerência de dados',\n",
    "    'segurança computacional',\n",
    " 'privacidade e segurança',\n",
    " 'segurança e criptografia',\n",
    "    'criptografia computacional',\n",
    "    'inteligência do negócio',\n",
    "    'métodos numéricos',\n",
    "    'analise multidimensional',\n",
    "    'computação ubíqua',\n",
    " 'geometria computacional',\n",
    " 'computação flexível',\n",
    " 'computação básica',\n",
    "    'business intelligence',\n",
    "], \"aplicações computacionais\")"
   ]
  },
  {
   "cell_type": "code",
   "execution_count": 52,
   "id": "6fc89976-a678-4511-8616-54b40ccf8eff",
   "metadata": {
    "tags": []
   },
   "outputs": [],
   "source": [
    "# data_poscomp['ESPECIALIDADE'] = data_poscomp['ESPECIALIDADE'].replace({'visão computacional realidade': 'visão computacional'})"
   ]
  },
  {
   "cell_type": "code",
   "execution_count": 53,
   "id": "73053833-5896-4daf-a88f-c7d14f32e82c",
   "metadata": {
    "tags": []
   },
   "outputs": [],
   "source": [
    "# data_poscomp['ESPECIALIDADE'] = data_poscomp['ESPECIALIDADE'].replace({'teoria': 'teoria da computação'})"
   ]
  },
  {
   "cell_type": "code",
   "execution_count": 54,
   "id": "a6346a75-31f3-4d5e-a3b7-10c9fa6ebac5",
   "metadata": {
    "tags": []
   },
   "outputs": [],
   "source": [
    "data_poscomp = substituir_palavras(data_poscomp, [\n",
    " 'visão computacional reconhecimento',\n",
    " 'computação visual',\n",
    " 'visualização de informações',\n",
    " 'visão e robótica',\n",
    " 'robótica visão computacional',\n",
    " 'visao computacional realidade',\n",
    " 'visão computacional realidade',\n",
    "'computação gráfica imagens',\n",
    " 'computação gráfica',\n",
    " 'computação gráfica processamento',\n",
    "    'visão computacional',\n",
    "    'reconhecimento de padrões', \n",
    "    'reconhecimento de padroes',\n",
    "    'processamento de imagens',\n",
    "    'realidade virtual'\n",
    "], \"computação gráfica\")"
   ]
  },
  {
   "cell_type": "code",
   "execution_count": 55,
   "id": "ece8bc59-46a1-43fa-8018-5074a9a3aef1",
   "metadata": {
    "tags": []
   },
   "outputs": [],
   "source": [
    "# data_poscomp = substituir_palavras(data_poscomp, [\n",
    "#  'teoria lógica',\n",
    "#  'teoria da computação.',\n",
    "#  'teoria da computaçãoanálise',\n",
    "#     'linguagens formais',\n",
    "#     'metodologia da computação'\n",
    "# ], \"teoria da computação\")"
   ]
  },
  {
   "cell_type": "code",
   "execution_count": 56,
   "id": "101ad047-ac6d-45aa-a2e7-b208fcb49263",
   "metadata": {
    "tags": []
   },
   "outputs": [],
   "source": [
    "# data_poscomp = substituir_palavras(data_poscomp, ['segurança computacional',\n",
    "#  'segurança de dados',\n",
    "#  'segurança',\n",
    "#  'segurança em sistemas',\n",
    "#  'privacidade e segurança',\n",
    "#  'segurança e criptografia',\n",
    "#  'segurança e sistemas'], 'segurança')"
   ]
  },
  {
   "cell_type": "code",
   "execution_count": 57,
   "id": "2d23c7dd-8402-40f5-a0bc-93bba4c2109c",
   "metadata": {
    "tags": []
   },
   "outputs": [],
   "source": [
    "data_poscomp = substituir_palavras(data_poscomp, [\n",
    "    'sistemas digitais',\n",
    "'sistemas embarcados evoluídos',\n",
    "'sinais sistemas embarcados',\n",
    " 'velha-sistemas embarcados'], 'sistemas embarcados')"
   ]
  },
  {
   "cell_type": "code",
   "execution_count": 58,
   "id": "e4d64f3b-3a2c-4d9a-baf4-a276103e798b",
   "metadata": {
    "tags": []
   },
   "outputs": [],
   "source": [
    "data_poscomp = substituir_palavras(data_poscomp, [\n",
    "    'computação evolutiva',\n",
    " 'computação evolucionária',\n",
    " 'computacao evolucionaria aprendizagem',\n",
    " 'computacão evolucionária aprendizagem',\n",
    "'técnicas heurísticas',\n",
    "'computação heurística', 'heurísticas e meta-heurísticas',\n",
    "'algoritmos genéticos'], 'computação evolutiva')"
   ]
  },
  {
   "cell_type": "code",
   "execution_count": 59,
   "id": "7a823fd1-a73e-45e9-a875-28193df8765f",
   "metadata": {
    "tags": []
   },
   "outputs": [],
   "source": [
    "data_poscomp = substituir_palavras(data_poscomp, [\n",
    "'interfaces humano-computador',\n",
    " 'interface humano-computador',\n",
    "'interação homem-computador',\n",
    "'interfaces',\n",
    "'design de artefatos'], 'interação humano-computador')"
   ]
  },
  {
   "cell_type": "code",
   "execution_count": 60,
   "id": "44fa0356-170f-4679-9f4e-2c4a85862f4c",
   "metadata": {
    "tags": []
   },
   "outputs": [
    {
     "name": "stdout",
     "output_type": "stream",
     "text": [
      "engenharia de software    2098\n",
      "Name: ESPECIALIDADE, dtype: int64\n"
     ]
    },
    {
     "data": {
      "text/plain": [
       "['engenharia de software']"
      ]
     },
     "execution_count": 60,
     "metadata": {},
     "output_type": "execute_result"
    }
   ],
   "source": [
    "f = data_poscomp[data_poscomp['ESPECIALIDADE'].str.contains('har')]\n",
    "print(f['ESPECIALIDADE'].sort_values().value_counts())\n",
    "list(f['ESPECIALIDADE'].unique())"
   ]
  },
  {
   "cell_type": "code",
   "execution_count": 61,
   "id": "029945b9-cf2e-42b9-85ea-7c3b44a57535",
   "metadata": {
    "tags": []
   },
   "outputs": [
    {
     "data": {
      "text/html": [
       "<div>\n",
       "<style scoped>\n",
       "    .dataframe tbody tr th:only-of-type {\n",
       "        vertical-align: middle;\n",
       "    }\n",
       "\n",
       "    .dataframe tbody tr th {\n",
       "        vertical-align: top;\n",
       "    }\n",
       "\n",
       "    .dataframe thead th {\n",
       "        text-align: right;\n",
       "    }\n",
       "</style>\n",
       "<table border=\"1\" class=\"dataframe\">\n",
       "  <thead>\n",
       "    <tr style=\"text-align: right;\">\n",
       "      <th></th>\n",
       "      <th>ESPECIALIDADE</th>\n",
       "    </tr>\n",
       "  </thead>\n",
       "  <tbody>\n",
       "    <tr>\n",
       "      <th>inteligência artificial</th>\n",
       "      <td>2471</td>\n",
       "    </tr>\n",
       "    <tr>\n",
       "      <th>sistemas de informação</th>\n",
       "      <td>2136</td>\n",
       "    </tr>\n",
       "    <tr>\n",
       "      <th>engenharia de software</th>\n",
       "      <td>2098</td>\n",
       "    </tr>\n",
       "    <tr>\n",
       "      <th>sistemas de computação</th>\n",
       "      <td>1606</td>\n",
       "    </tr>\n",
       "    <tr>\n",
       "      <th>redes de computadores</th>\n",
       "      <td>999</td>\n",
       "    </tr>\n",
       "    <tr>\n",
       "      <th>aplicações computacionais</th>\n",
       "      <td>947</td>\n",
       "    </tr>\n",
       "    <tr>\n",
       "      <th>computação gráfica</th>\n",
       "      <td>734</td>\n",
       "    </tr>\n",
       "    <tr>\n",
       "      <th>computação aplicada</th>\n",
       "      <td>563</td>\n",
       "    </tr>\n",
       "    <tr>\n",
       "      <th>sistemas distribuídos</th>\n",
       "      <td>406</td>\n",
       "    </tr>\n",
       "    <tr>\n",
       "      <th>ciência de dados</th>\n",
       "      <td>310</td>\n",
       "    </tr>\n",
       "    <tr>\n",
       "      <th>otimização</th>\n",
       "      <td>278</td>\n",
       "    </tr>\n",
       "    <tr>\n",
       "      <th>sistemas embarcados</th>\n",
       "      <td>277</td>\n",
       "    </tr>\n",
       "    <tr>\n",
       "      <th>aprendizado de máquina</th>\n",
       "      <td>274</td>\n",
       "    </tr>\n",
       "    <tr>\n",
       "      <th>informática na educação</th>\n",
       "      <td>184</td>\n",
       "    </tr>\n",
       "    <tr>\n",
       "      <th>interação humano-computador</th>\n",
       "      <td>53</td>\n",
       "    </tr>\n",
       "    <tr>\n",
       "      <th>robótica</th>\n",
       "      <td>30</td>\n",
       "    </tr>\n",
       "    <tr>\n",
       "      <th>computação evolutiva</th>\n",
       "      <td>20</td>\n",
       "    </tr>\n",
       "    <tr>\n",
       "      <th>infraestrutura de ti</th>\n",
       "      <td>19</td>\n",
       "    </tr>\n",
       "    <tr>\n",
       "      <th>teoria</th>\n",
       "      <td>15</td>\n",
       "    </tr>\n",
       "    <tr>\n",
       "      <th>algoritmos</th>\n",
       "      <td>11</td>\n",
       "    </tr>\n",
       "    <tr>\n",
       "      <th>software livre</th>\n",
       "      <td>6</td>\n",
       "    </tr>\n",
       "    <tr>\n",
       "      <th>linguagens e ambientes</th>\n",
       "      <td>5</td>\n",
       "    </tr>\n",
       "    <tr>\n",
       "      <th>governança de tic</th>\n",
       "      <td>3</td>\n",
       "    </tr>\n",
       "    <tr>\n",
       "      <th>redes</th>\n",
       "      <td>3</td>\n",
       "    </tr>\n",
       "    <tr>\n",
       "      <th>segurança</th>\n",
       "      <td>3</td>\n",
       "    </tr>\n",
       "    <tr>\n",
       "      <th>multidisciplinar</th>\n",
       "      <td>2</td>\n",
       "    </tr>\n",
       "    <tr>\n",
       "      <th>escience</th>\n",
       "      <td>2</td>\n",
       "    </tr>\n",
       "    <tr>\n",
       "      <th>web</th>\n",
       "      <td>2</td>\n",
       "    </tr>\n",
       "    <tr>\n",
       "      <th>jogos digitais</th>\n",
       "      <td>2</td>\n",
       "    </tr>\n",
       "    <tr>\n",
       "      <th>desenvolvimento</th>\n",
       "      <td>2</td>\n",
       "    </tr>\n",
       "    <tr>\n",
       "      <th>embedded systems design</th>\n",
       "      <td>1</td>\n",
       "    </tr>\n",
       "    <tr>\n",
       "      <th>pesquisa operacional</th>\n",
       "      <td>1</td>\n",
       "    </tr>\n",
       "    <tr>\n",
       "      <th>democracia digital</th>\n",
       "      <td>1</td>\n",
       "    </tr>\n",
       "    <tr>\n",
       "      <th>simulação das interações</th>\n",
       "      <td>1</td>\n",
       "    </tr>\n",
       "    <tr>\n",
       "      <th>teoria lógica</th>\n",
       "      <td>1</td>\n",
       "    </tr>\n",
       "    <tr>\n",
       "      <th>alinhamento estratégico de</th>\n",
       "      <td>1</td>\n",
       "    </tr>\n",
       "    <tr>\n",
       "      <th>confiança no funcionamento</th>\n",
       "      <td>1</td>\n",
       "    </tr>\n",
       "    <tr>\n",
       "      <th>sinais</th>\n",
       "      <td>1</td>\n",
       "    </tr>\n",
       "    <tr>\n",
       "      <th>novas técnicas de</th>\n",
       "      <td>1</td>\n",
       "    </tr>\n",
       "    <tr>\n",
       "      <th>processamento e análise</th>\n",
       "      <td>1</td>\n",
       "    </tr>\n",
       "    <tr>\n",
       "      <th>lógica</th>\n",
       "      <td>1</td>\n",
       "    </tr>\n",
       "    <tr>\n",
       "      <th>ambientes de realidade</th>\n",
       "      <td>1</td>\n",
       "    </tr>\n",
       "    <tr>\n",
       "      <th>universalização de acesso</th>\n",
       "      <td>1</td>\n",
       "    </tr>\n",
       "    <tr>\n",
       "      <th>lógicas não clássicas</th>\n",
       "      <td>1</td>\n",
       "    </tr>\n",
       "    <tr>\n",
       "      <th>computação</th>\n",
       "      <td>1</td>\n",
       "    </tr>\n",
       "    <tr>\n",
       "      <th>compiladores</th>\n",
       "      <td>1</td>\n",
       "    </tr>\n",
       "  </tbody>\n",
       "</table>\n",
       "</div>"
      ],
      "text/plain": [
       "                             ESPECIALIDADE\n",
       "inteligência artificial               2471\n",
       "sistemas de informação                2136\n",
       "engenharia de software                2098\n",
       "sistemas de computação                1606\n",
       "redes de computadores                  999\n",
       "aplicações computacionais              947\n",
       "computação gráfica                     734\n",
       "computação aplicada                    563\n",
       "sistemas distribuídos                  406\n",
       "ciência de dados                       310\n",
       "otimização                             278\n",
       "sistemas embarcados                    277\n",
       "aprendizado de máquina                 274\n",
       "informática na educação                184\n",
       "interação humano-computador             53\n",
       "robótica                                30\n",
       "computação evolutiva                    20\n",
       "infraestrutura de ti                    19\n",
       "teoria                                  15\n",
       "algoritmos                              11\n",
       "software livre                           6\n",
       "linguagens e ambientes                   5\n",
       "governança de tic                        3\n",
       "redes                                    3\n",
       "segurança                                3\n",
       "multidisciplinar                         2\n",
       "escience                                 2\n",
       "web                                      2\n",
       "jogos digitais                           2\n",
       "desenvolvimento                          2\n",
       "embedded systems design                  1\n",
       "pesquisa operacional                     1\n",
       "democracia digital                       1\n",
       "simulação das interações                 1\n",
       "teoria lógica                            1\n",
       "alinhamento estratégico de               1\n",
       "confiança no funcionamento               1\n",
       "sinais                                   1\n",
       "novas técnicas de                        1\n",
       "processamento e análise                  1\n",
       "lógica                                   1\n",
       "ambientes de realidade                   1\n",
       "universalização de acesso                1\n",
       "lógicas não clássicas                    1\n",
       "computação                               1\n",
       "compiladores                             1"
      ]
     },
     "execution_count": 61,
     "metadata": {},
     "output_type": "execute_result"
    }
   ],
   "source": [
    "especialidades = data_poscomp['ESPECIALIDADE'].value_counts()\n",
    "especialidades = pd.DataFrame(especialidades)\n",
    "especialidades.head(60)\n",
    "# especialidades.tail(60)"
   ]
  },
  {
   "cell_type": "code",
   "execution_count": 62,
   "id": "fbc29b2f-02ab-40ed-8be3-f7291835ca79",
   "metadata": {
    "tags": []
   },
   "outputs": [],
   "source": [
    "# plt.figure(figsize=(14, 10))\n",
    "\n",
    "# # plot a bar chart\n",
    "# sns.barplot(\n",
    "#     y=\"ESPECIALIDADE\", \n",
    "#     x=especialidades.index, \n",
    "#     data=especialidades, \n",
    "#     color='#69b3a2', \n",
    "# );\n",
    "# plt.xticks(rotation=45);\n",
    "# # plt.savefig('espec.png', dpi = 300, bbox_inches='tight')"
   ]
  },
  {
   "cell_type": "code",
   "execution_count": 63,
   "id": "1301efb0-a6ce-4293-8fbd-c96e99a76761",
   "metadata": {
    "tags": []
   },
   "outputs": [],
   "source": [
    "# # Libraries\n",
    "# from wordcloud import WordCloud, STOPWORDS, ImageColorGenerator\n",
    "# import matplotlib.pyplot as plt\n",
    "# import string\n",
    "\n",
    "# text = data_poscomp['ESPECIALIDADE'].value_counts()\n",
    "# text = text.to_dict()\n",
    "\n",
    "# stopwords = set(['o', 'a', 'e', 'é', 'de', 'da', 'do', 'para', ' e'])\n",
    "\n",
    "# # Create the wordcloud object\n",
    "# wordcloud2 = WordCloud(background_color=\"white\",\n",
    "#                        # random_state=1, \n",
    "#                        min_word_length=3,\n",
    "#                         width=4000, height=2000,\n",
    "#                         stopwords=stopwords\n",
    "#                        ).generate_from_frequencies(text)\n",
    "# # WordCloud.generate_from_frequencies\n",
    "\n",
    "# # Display the generated image:\n",
    "# plt.imshow(wordcloud2, interpolation=\"bilinear\")\n",
    "# plt.axis(\"off\")\n",
    "# # plt.margins(x=0, y=0)\n",
    "# plt.savefig('imagens/nuvem_palavras.eps', format='eps', dpi = 300, bbox_inches='tight')\n",
    "# plt.show()"
   ]
  },
  {
   "cell_type": "code",
   "execution_count": 64,
   "id": "87d97acb-15e6-410b-9d69-acbd4777fcb9",
   "metadata": {
    "tags": []
   },
   "outputs": [],
   "source": [
    "# import pandas as pd\n",
    "\n",
    "# # Agrupa os dados por estado e conta a ocorrência de cada área\n",
    "# contagem_areas = data_poscomp.groupby(['ESTADO', 'ESPECIALIDADE']).size().reset_index(name='CONTAGEM')\n",
    "\n",
    "# # Ordena os dados por estado e contagem em ordem decrescente\n",
    "# contagem_areas = contagem_areas.sort_values(['ESTADO', 'CONTAGEM'], ascending=[True, False])\n",
    "\n",
    "# # Obtém a área mais frequente para cada estado\n",
    "# areas_mais_frequentes = contagem_areas.groupby('ESTADO').first().reset_index()\n",
    "\n",
    "# # Exibe o resultado\n",
    "# print(areas_mais_frequentes)"
   ]
  },
  {
   "cell_type": "code",
   "execution_count": 65,
   "id": "0410d4f1-258d-4a67-8a59-ca9d17496057",
   "metadata": {
    "tags": []
   },
   "outputs": [],
   "source": [
    "# # Agrupa os dados por estado e conta a ocorrência de cada área\n",
    "# contagem_areas = data_poscomp.groupby(['ESTADO', 'ESPECIALIDADE']).size().reset_index(name='CONTAGEM')\n",
    "\n",
    "# # Obtém a área mais frequente para cada estado\n",
    "# areas_mais_frequentes = contagem_areas.sort_values('CONTAGEM', ascending=False).drop_duplicates('ESTADO')\n",
    "\n",
    "# # Ordena os dados por contagem em ordem decrescente\n",
    "# areas_mais_frequentes = areas_mais_frequentes.sort_values('CONTAGEM', ascending=False)\n",
    "\n",
    "# # Plota o gráfico de barras\n",
    "# plt.figure(figsize=(14, 7))\n",
    "# ax = sns.barplot(data=areas_mais_frequentes, x='ESTADO', y='CONTAGEM', hue='ESPECIALIDADE',dodge=False )\n",
    "\n",
    "# for p in ax.patches:\n",
    "#     if not math.isnan(p.get_height()):\n",
    "#         ax.annotate(int(p.get_height()),\n",
    "#                     xy=(p.get_x() + p.get_width() / 2, p.get_height()),\n",
    "#                     xytext=(0, 1),\n",
    "#                     textcoords='offset points',\n",
    "#                     ha='center',\n",
    "#                     va='bottom',\n",
    "#                     fontsize=18)\n",
    "\n",
    "# ax.set_xlabel('Unidade Federativas', fontsize=18)\n",
    "# ax.set_ylabel('Contagem', fontsize=18)\n",
    "# # ax.set_title('Área mais Frequente por Estado', fontsize=16)\n",
    "# ax.tick_params(axis='x', labelsize=18)\n",
    "# ax.tick_params(axis='y', labelsize=18)\n",
    "# legend = plt.legend(title='Linhas de pesquisas', fontsize=16, loc='upper right')\n",
    "# legend.get_title().set_fontsize(18)\n",
    "# plt.tight_layout()\n",
    "# plt.savefig('imagens/especialidade_frequenteEstado.eps', format='eps', dpi = 600, bbox_inches='tight')\n",
    "# plt.show()"
   ]
  },
  {
   "cell_type": "code",
   "execution_count": 66,
   "id": "edf34a30-2388-4c62-bb92-7122aebc1f16",
   "metadata": {
    "tags": []
   },
   "outputs": [],
   "source": [
    "# plt.figure(figsize=(18,10))\n",
    "# sns.set_style(style='ticks')\n",
    "# ax = sns.barplot(data=areas_mais_frequentes.sort_values(['candidatos'], ascending=False),\n",
    "#             y='candidatos',\n",
    "#             x='ESTADO',\n",
    "#             hue='REGIAO',\n",
    "#             dodge=False,\n",
    "#             # color='hsv'\n",
    "#            )\n",
    "# for p in ax.patches:\n",
    "#     if not math.isnan(p.get_height()):\n",
    "#         ax.annotate(int(p.get_height()),\n",
    "#                     xy=(p.get_x() + p.get_width() / 2, p.get_height()),\n",
    "#                     xytext=(0, 5),\n",
    "#                     textcoords='offset points',\n",
    "#                     ha='center',\n",
    "#                     va='bottom',\n",
    "#                     fontsize=16)\n",
    "# plt.xlabel('Unidade Federativa', fontsize=18)\n",
    "# plt.ylabel('Quantidade de participantes', fontsize=18)\n",
    "# plt.xticks(fontsize=15)\n",
    "# plt.yticks(fontsize=15)\n",
    "# legend = plt.legend(title='Região', fontsize=16)\n",
    "# legend.get_title().set_fontsize(18)\n",
    "# # plt.savefig('imagens/inscritos2.eps', dpi=600, bbox_inches='tight')\n",
    "# plt.show()"
   ]
  },
  {
   "cell_type": "markdown",
   "id": "aaf1b248-9397-4349-9bfd-68d19293a011",
   "metadata": {
    "tags": []
   },
   "source": [
    "### Salvar os dados"
   ]
  },
  {
   "cell_type": "code",
   "execution_count": 67,
   "id": "3656389d-5b19-47a2-a560-b8443e02680c",
   "metadata": {},
   "outputs": [],
   "source": [
    "data_poscomp.to_csv('dados/dataset_poscomp.csv', index=False)"
   ]
  },
  {
   "cell_type": "code",
   "execution_count": null,
   "id": "dc016ad8-b543-4fb9-a656-b0f9f6db89bb",
   "metadata": {},
   "outputs": [],
   "source": []
  }
 ],
 "metadata": {
  "kernelspec": {
   "display_name": "Python 3 (ipykernel)",
   "language": "python",
   "name": "python3"
  },
  "language_info": {
   "codemirror_mode": {
    "name": "ipython",
    "version": 3
   },
   "file_extension": ".py",
   "mimetype": "text/x-python",
   "name": "python",
   "nbconvert_exporter": "python",
   "pygments_lexer": "ipython3",
   "version": "3.10.9"
  }
 },
 "nbformat": 4,
 "nbformat_minor": 5
}
