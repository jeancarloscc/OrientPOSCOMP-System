{
 "cells": [
  {
   "cell_type": "code",
   "execution_count": 1,
   "id": "48d28d3f-d9ed-4fad-b631-cdcd3ae14484",
   "metadata": {},
   "outputs": [],
   "source": [
    "import firebase_admin\n",
    "from firebase_admin import credentials, firestore\n",
    "import pandas as pd\n",
    "import asyncio\n",
    "import nest_asyncio\n",
    "from concurrent.futures import ProcessPoolExecutor\n"
   ]
  },
  {
   "cell_type": "code",
   "execution_count": 2,
   "id": "66909d2c-50a2-41a4-9aa0-de900654d729",
   "metadata": {},
   "outputs": [],
   "source": [
    "# Inicialize o SDK do Firebase\n",
    "cred = credentials.Certificate(\"poscomp_db.json\")\n",
    "firebase_admin.initialize_app(cred)\n",
    "\n",
    "# Inicialize o Firestore\n",
    "db = firestore.client()"
   ]
  },
  {
   "cell_type": "markdown",
   "id": "eab33c44-b825-4847-813f-4864f4082344",
   "metadata": {},
   "source": [
    "## Carregar os dataframe"
   ]
  },
  {
   "cell_type": "code",
   "execution_count": 3,
   "id": "905db649-7e4f-46e4-a116-c37519ce3a41",
   "metadata": {},
   "outputs": [],
   "source": [
    "dataset = pd.read_csv('../dados/df_poscompTeste.csv')"
   ]
  },
  {
   "cell_type": "code",
   "execution_count": null,
   "id": "41029fa8-5c22-44a0-b731-49a3ac7315c9",
   "metadata": {},
   "outputs": [],
   "source": [
    "dataset_dict = dataset.to_dict(orient='records')"
   ]
  },
  {
   "cell_type": "code",
   "execution_count": 4,
   "id": "23e8be29-e6dc-4311-8b89-c4ed13198c35",
   "metadata": {},
   "outputs": [],
   "source": [
    "# Alternativamente, para adicionar vários documentos a uma coleção\n",
    "# Substitua \"nome_da_colecao\" pelo nome da coleção no Firestore\n",
    "for index, row in dataset.iterrows():\n",
    "    doc_ref = db.collection(\"poscomp\").document()\n",
    "    doc_ref.set(row.to_dict())"
   ]
  },
  {
   "cell_type": "code",
   "execution_count": 13,
   "id": "b9539340-e435-4ae1-bffa-53f5bb4c5943",
   "metadata": {},
   "outputs": [],
   "source": [
    "collection_ref = db.collection(\"poscomp\")\n",
    "\n",
    "# Consulte todos os documentos na coleção\n",
    "documents = collection_ref.stream()"
   ]
  },
  {
   "cell_type": "code",
   "execution_count": 14,
   "id": "60b6b59d-d48b-4d6d-9e60-24b112dcec78",
   "metadata": {},
   "outputs": [],
   "source": [
    "# Crie uma lista para armazenar os dados\n",
    "data_list = []\n",
    "\n",
    "# Itere sobre os documentos e adicione os dados à lista\n",
    "for doc in documents:\n",
    "    data_list.append(doc.to_dict())\n",
    "\n",
    "# Crie um DataFrame a partir da lista de dados\n",
    "df = pd.DataFrame(data_list)"
   ]
  }
 ],
 "metadata": {
  "kernelspec": {
   "display_name": "Python 3 (ipykernel)",
   "language": "python",
   "name": "python3"
  },
  "language_info": {
   "codemirror_mode": {
    "name": "ipython",
    "version": 3
   },
   "file_extension": ".py",
   "mimetype": "text/x-python",
   "name": "python",
   "nbconvert_exporter": "python",
   "pygments_lexer": "ipython3",
   "version": "3.9.12"
  }
 },
 "nbformat": 4,
 "nbformat_minor": 5
}
