{
 "cells": [
  {
   "cell_type": "markdown",
   "id": "5e373c54-5634-4b62-ba66-44bff2df2ac4",
   "metadata": {},
   "source": [
    "# Aplicar técnicas de Mineração de Dados, utilizando o algoritmo de Clusterização para agrupar as informações e notas dos candidatos"
   ]
  },
  {
   "cell_type": "markdown",
   "id": "4b074eac-d221-43ce-91b3-8a010d60d4ab",
   "metadata": {
    "tags": []
   },
   "source": [
    "## Área de agrupamentos: Matemática; Fundamentos da Computação; Tecnologias da Computação\n"
   ]
  },
  {
   "cell_type": "code",
   "execution_count": 1,
   "id": "af236dcc-2778-4826-8a36-80d64de9b0a0",
   "metadata": {},
   "outputs": [
    {
     "name": "stdout",
     "output_type": "stream",
     "text": [
      "importing Jupyter notebook from C:\\Users\\jeanc\\Documentos\\GitHub\\project_dataScience_POSCOMP\\services\\lista_estados_regioes.ipynb\n"
     ]
    }
   ],
   "source": [
    "import pandas as pd\n",
    "import numpy as np\n",
    "from sklearn.preprocessing import StandardScaler\n",
    "from sklearn.cluster import KMeans\n",
    "import plotly.express as px\n",
    "# import plotly.graph_objects as go\n",
    "from math import sqrt\n",
    "import matplotlib.pyplot as plt\n",
    "import seaborn as sns\n",
    "import seaborn.objects as so\n",
    "import import_ipynb\n",
    "import services.lista_estados_regioes as ler"
   ]
  },
  {
   "cell_type": "markdown",
   "id": "f4386daf-63e1-4f08-b9c3-ccc74b1d9ddb",
   "metadata": {
    "tags": []
   },
   "source": [
    "## Descrição dos dados"
   ]
  },
  {
   "cell_type": "code",
   "execution_count": 2,
   "id": "4a0d6ea8-20e4-48ad-850f-4394baaf6065",
   "metadata": {},
   "outputs": [],
   "source": [
    "dados = pd.read_csv('dados/df_poscomp.csv')\n",
    "dados = dados.drop(columns='INSCRICAO')"
   ]
  },
  {
   "cell_type": "code",
   "execution_count": 3,
   "id": "b648fce3-5082-4221-86a5-fe7f6028ff6e",
   "metadata": {},
   "outputs": [
    {
     "name": "stdout",
     "output_type": "stream",
     "text": [
      "<class 'pandas.core.frame.DataFrame'>\n",
      "RangeIndex: 10977 entries, 0 to 10976\n",
      "Data columns (total 35 columns):\n",
      " #   Column                                           Non-Null Count  Dtype  \n",
      "---  ------                                           --------------  -----  \n",
      " 0   SEXO                                             10977 non-null  int64  \n",
      " 1   ESTADO                                           10977 non-null  int64  \n",
      " 2   REGIAO                                           10977 non-null  int64  \n",
      " 3   ESPECIALIDADE                                    10977 non-null  object \n",
      " 4   PRESENTE                                         10977 non-null  object \n",
      " 5   CARGO                                            10977 non-null  int64  \n",
      " 6   Matemática Discreta                              10977 non-null  float64\n",
      " 7   Cálculo Diferencial e Integral                   10977 non-null  float64\n",
      " 8   Álgebra Linear                                   10977 non-null  float64\n",
      " 9   Geometria Analítica                              10977 non-null  float64\n",
      " 10  Análise Combinatória                             10977 non-null  float64\n",
      " 11  Probabilidade e Estatística                      10977 non-null  float64\n",
      " 12  Lógica Matemática                                10977 non-null  float64\n",
      " 13  Organização de Arquivos e Dados                  10977 non-null  float64\n",
      " 14  Técnicas de Programação                          10977 non-null  float64\n",
      " 15  Circuitos Digitais                               10977 non-null  float64\n",
      " 16  Análise de Algoritmos                            10977 non-null  float64\n",
      " 17  Teoria dos Grafos                                10977 non-null  float64\n",
      " 18  Linguagens Formais, Autômatos e Computabilidade  10977 non-null  float64\n",
      " 19  Algoritmos e Estruturas de Dados                 10977 non-null  float64\n",
      " 20  Linguagens de Programação                        10977 non-null  float64\n",
      " 21  Sistemas Operacionais                            10977 non-null  float64\n",
      " 22  Arquitetura e Organização de Computadores        10977 non-null  float64\n",
      " 23  Redes de Computadores                            10977 non-null  float64\n",
      " 24  Computação Gráfica                               10977 non-null  float64\n",
      " 25  Inteligência Artificial                          10977 non-null  float64\n",
      " 26  Engenharia de Software                           10977 non-null  float64\n",
      " 27  Sistemas Distribuídos                            10977 non-null  float64\n",
      " 28  Compiladores                                     10977 non-null  float64\n",
      " 29  Processamento de Imagens                         10977 non-null  float64\n",
      " 30  Banco de Dados                                   10977 non-null  float64\n",
      " 31  ANO                                              10977 non-null  int64  \n",
      " 32  matematica                                       10977 non-null  float64\n",
      " 33  fundamentos_computacao                           10977 non-null  float64\n",
      " 34  tecnologia_computacao                            10977 non-null  float64\n",
      "dtypes: float64(28), int64(5), object(2)\n",
      "memory usage: 2.9+ MB\n"
     ]
    }
   ],
   "source": [
    "dados.info()"
   ]
  },
  {
   "cell_type": "code",
   "execution_count": 4,
   "id": "29b52ca9-4954-411b-8a7d-260e853ad7db",
   "metadata": {},
   "outputs": [
    {
     "data": {
      "text/plain": [
       "array(['S'], dtype=object)"
      ]
     },
     "execution_count": 4,
     "metadata": {},
     "output_type": "execute_result"
    }
   ],
   "source": [
    "dados['PRESENTE'].unique()"
   ]
  },
  {
   "cell_type": "markdown",
   "id": "adc24407-a1c3-47a2-83fd-46b4a301f952",
   "metadata": {},
   "source": [
    "> ### Sexo\t\n",
    "> ***\n",
    "\n",
    "|Código|Descrição|\n",
    "|---|---|\n",
    "|1|Masculino|\n",
    "|0|Feminino|\n",
    "\n",
    "> ### UF\n",
    "> ***\n",
    "\n",
    "|Código|Descrição|\n",
    "|---|---|\n",
    "|0|AC|\n",
    "|1|AL|\n",
    "|2|AP|\n",
    "|3|AM|\n",
    "|4|BA|\n",
    "|5|CE|\n",
    "|6|DF|\n",
    "|7|ES|\n",
    "|8|GO|\n",
    "|9|MA|\n",
    "|10|MT|\n",
    "|11|MS|\n",
    "|12|MG|\n",
    "|13|PA|\n",
    "|14|PB|\n",
    "|15|PR|\n",
    "|16|PE|\n",
    "|17|PI|\n",
    "|18|RJ|\n",
    "|19|RN|\n",
    "|20|RS|\n",
    "|21|RO|\n",
    "|22|RR|\n",
    "|23|SC|\n",
    "|24|SP|\n",
    "|25|SE|\n",
    "|26|TO|\n",
    "\n",
    "> ### Cargo\n",
    "> ***\n",
    "\n",
    "|Código|Descrição|\n",
    "|---|---|\n",
    "|0|Mestrado/Doutorado|\n",
    "|1|Autoavaliação|\n",
    "\n",
    "> ### Região\n",
    "> ***\n",
    "\n",
    "|Código|Descrição|\n",
    "|---|---|\n",
    "|0|norte|\n",
    "|1|nordeste|\n",
    "|2|centro_oeste|\n",
    "|3|sudeste|\n",
    "|4|sul|\n",
    "\n",
    "> ### Situação\n",
    "> ***\n",
    "\n",
    "|Código|Descrição|\n",
    "|---|---|\n",
    "|0|Ausente|\n",
    "|1|Presente|"
   ]
  },
  {
   "cell_type": "markdown",
   "id": "3d9ab7a3-2caa-4c39-9f00-c865be3048ba",
   "metadata": {
    "tags": []
   },
   "source": [
    "## Analise Explorária dos Dados"
   ]
  },
  {
   "cell_type": "markdown",
   "id": "ba595867-bdfd-41e5-959b-a6d8915d2a5c",
   "metadata": {},
   "source": [
    "Quantas pessoas são do sexo masculino e feminino"
   ]
  },
  {
   "cell_type": "code",
   "execution_count": 5,
   "id": "0350e8b9-f9ff-492f-ad62-61775737194e",
   "metadata": {},
   "outputs": [
    {
     "data": {
      "text/html": [
       "<div>\n",
       "<style scoped>\n",
       "    .dataframe tbody tr th:only-of-type {\n",
       "        vertical-align: middle;\n",
       "    }\n",
       "\n",
       "    .dataframe tbody tr th {\n",
       "        vertical-align: top;\n",
       "    }\n",
       "\n",
       "    .dataframe thead th {\n",
       "        text-align: right;\n",
       "    }\n",
       "</style>\n",
       "<table border=\"1\" class=\"dataframe\">\n",
       "  <thead>\n",
       "    <tr style=\"text-align: right;\">\n",
       "      <th>Sexo</th>\n",
       "      <th>Frequência</th>\n",
       "      <th>Porcentagem (%)</th>\n",
       "    </tr>\n",
       "  </thead>\n",
       "  <tbody>\n",
       "    <tr>\n",
       "      <th>Masculino</th>\n",
       "      <td>9063</td>\n",
       "      <td>82.56</td>\n",
       "    </tr>\n",
       "    <tr>\n",
       "      <th>Feminino</th>\n",
       "      <td>1914</td>\n",
       "      <td>17.44</td>\n",
       "    </tr>\n",
       "  </tbody>\n",
       "</table>\n",
       "</div>"
      ],
      "text/plain": [
       "Sexo       Frequência  Porcentagem (%)\n",
       "Masculino        9063            82.56\n",
       "Feminino         1914            17.44"
      ]
     },
     "execution_count": 5,
     "metadata": {},
     "output_type": "execute_result"
    }
   ],
   "source": [
    "frequencia_sexo = dados['SEXO'].value_counts() \n",
    "\n",
    "percentual_sexo = dados['SEXO'].value_counts(normalize = True) * 100 \n",
    "\n",
    "dist_freq_qualitativas = pd.DataFrame({'Frequência': frequencia_sexo, 'Porcentagem (%)': percentual_sexo.round(2)})\n",
    "dist_freq_qualitativas.rename (index = {1: 'Masculino', 0: 'Feminino', 3: 'Total'}, inplace = True)\n",
    "dist_freq_qualitativas.rename_axis('Sexo', axis = 'columns', inplace = True)\n",
    "dist_freq_qualitativas"
   ]
  },
  {
   "cell_type": "code",
   "execution_count": 6,
   "id": "5db9511b-b177-4b24-861d-0dca9a7b8d7f",
   "metadata": {},
   "outputs": [
    {
     "data": {
      "text/html": [
       "<div>\n",
       "<style scoped>\n",
       "    .dataframe tbody tr th:only-of-type {\n",
       "        vertical-align: middle;\n",
       "    }\n",
       "\n",
       "    .dataframe tbody tr th {\n",
       "        vertical-align: top;\n",
       "    }\n",
       "\n",
       "    .dataframe thead th {\n",
       "        text-align: right;\n",
       "    }\n",
       "</style>\n",
       "<table border=\"1\" class=\"dataframe\">\n",
       "  <thead>\n",
       "    <tr style=\"text-align: right;\">\n",
       "      <th>CARGO</th>\n",
       "      <th>Mestrado/Doutorado</th>\n",
       "    </tr>\n",
       "    <tr>\n",
       "      <th>SEXO</th>\n",
       "      <th></th>\n",
       "    </tr>\n",
       "  </thead>\n",
       "  <tbody>\n",
       "    <tr>\n",
       "      <th>Feminino</th>\n",
       "      <td>1914</td>\n",
       "    </tr>\n",
       "    <tr>\n",
       "      <th>Masculino</th>\n",
       "      <td>9063</td>\n",
       "    </tr>\n",
       "  </tbody>\n",
       "</table>\n",
       "</div>"
      ],
      "text/plain": [
       "CARGO      Mestrado/Doutorado\n",
       "SEXO                         \n",
       "Feminino                 1914\n",
       "Masculino                9063"
      ]
     },
     "execution_count": 6,
     "metadata": {},
     "output_type": "execute_result"
    }
   ],
   "source": [
    "sexo = {1: 'Masculino',\n",
    "        0: 'Feminino'}\n",
    "cargo = {0: 'Mestrado/Doutorado',\n",
    "        1: 'Autoavaliação'} \n",
    "\n",
    "frequencia_sexo_cargo = pd.crosstab(dados.SEXO,\n",
    "                         dados.CARGO)\n",
    "frequencia_sexo_cargo.rename(index = sexo, inplace = True)\n",
    "frequencia_sexo_cargo.rename(columns = cargo, inplace = True)\n",
    "frequencia_sexo_cargo"
   ]
  },
  {
   "cell_type": "markdown",
   "id": "ad71a728-b35d-4edf-989d-2a189e71bcbd",
   "metadata": {},
   "source": [
    "Qual a média, mediana e máximo?"
   ]
  },
  {
   "cell_type": "code",
   "execution_count": 7,
   "id": "3bf0346f-8329-49ef-8d86-6f6b2314bf59",
   "metadata": {},
   "outputs": [],
   "source": [
    "# renda_2 = pd.crosstab(dados.matematica,\n",
    "#                          dados.SEXO,\n",
    "#                          aggfunc = {'mean', 'median', 'max'},\n",
    "#                          values = dados.ESTADO).round(2)\n",
    "# # renda_2.rename(index = cor, inplace = True)\n",
    "# renda_2.rename(columns = sexo, inplace = True)\n",
    "# renda_2"
   ]
  },
  {
   "cell_type": "code",
   "execution_count": 8,
   "id": "4031d735-d09b-4eb7-b085-fbcf87718479",
   "metadata": {},
   "outputs": [
    {
     "data": {
      "text/plain": [
       "<AxesSubplot: title={'center': 'Candidatos por Sexo'}, xlabel='R$', ylabel='Sexo'>"
      ]
     },
     "execution_count": 8,
     "metadata": {},
     "output_type": "execute_result"
    },
    {
     "data": {
      "image/png": "[encoded data removed]",
      "text/plain": [
       "<Figure size 1400x800 with 1 Axes>"
      ]
     },
     "metadata": {},
     "output_type": "display_data"
    }
   ],
   "source": [
    "boxplot_sexo = sns.boxplot(x = 'ESTADO', y = 'SEXO', data = dados, orient = 'h')\n",
    "\n",
    "boxplot_sexo.figure.set_size_inches(14, 8)\n",
    "boxplot_sexo.set_title('Candidatos por Sexo', fontsize=18)\n",
    "boxplot_sexo.set_xlabel('R$', fontsize=14)\n",
    "boxplot_sexo.set_ylabel('Sexo', fontsize=14)\n",
    "boxplot_sexo.set_yticklabels(['Masculino', 'Feminino'], fontsize=12)\n",
    "\n",
    "boxplot_sexo"
   ]
  },
  {
   "cell_type": "code",
   "execution_count": 9,
   "id": "22479d22-2c6a-4313-b7da-61cc6c42f10c",
   "metadata": {},
   "outputs": [],
   "source": [
    "estados = {\n",
    "    0: 'Acre',\n",
    "    1: 'Alagoas',\n",
    "    2: 'Amapá',\n",
    "    3: 'Amazonas',\n",
    "    4: 'Bahia',\n",
    "    5: 'Ceará',\n",
    "    6: 'Distrito Federal',\n",
    "    7: 'Espírito Santo',\n",
    "    8: 'Goiás',\n",
    "    9: 'Maranhão',\n",
    "    10: 'Mato Grosso',\n",
    "    11: 'Mato Grosso do Sul',\n",
    "    12: 'Minas Gerais',\n",
    "    13: 'Pará',\n",
    "    14: 'Paraíba',\n",
    "    15: 'Paraná',\n",
    "    16: 'Pernambuco',\n",
    "    17: 'Piauí',\n",
    "    18: 'Rio de Janeiro',\n",
    "    19: 'Rio Grande do Norte',\n",
    "    20: 'Rio Grande do Sul',\n",
    "    21: 'Rondônia',\n",
    "    22: 'Roraima',\n",
    "    23: 'Santa Catarina',\n",
    "    24: 'São Paulo',\n",
    "    25: 'Sergipe',\n",
    "    26: 'Tocantins'\n",
    "}\n",
    "\n",
    "estados_brasileiros = {0: 'AC',\n",
    "           1: 'AL',\n",
    "           2: 'AM',\n",
    "           3: 'AP',\n",
    "           4: 'BA',\n",
    "           5: 'CE',\n",
    "           6: 'DF',\n",
    "           7: 'ES',\n",
    "           8: 'GO',\n",
    "           9: 'MA',\n",
    "           10: 'MG',\n",
    "           11: 'MS',\n",
    "           12: 'MT',\n",
    "           13: 'PA',\n",
    "           14: 'PB',\n",
    "           15: 'PE',\n",
    "           16: 'PI',\n",
    "           17: 'PR',\n",
    "           18: 'RJ',\n",
    "           19: 'RN',\n",
    "           20: 'RO',\n",
    "           21: 'RR',\n",
    "           22: 'RS',\n",
    "           23: 'SC',\n",
    "           24: 'SE',\n",
    "           25: 'SP',\n",
    "           26: 'TO'}"
   ]
  },
  {
   "cell_type": "code",
   "execution_count": 10,
   "id": "c55349e8-9315-44a2-aad1-a907a74c91d8",
   "metadata": {},
   "outputs": [],
   "source": [
    "regioes = {\n",
    "    0: 'Norte',\n",
    "    1: 'Nordeste',\n",
    "    2: 'Centro-Oeste',\n",
    "    3: 'Sudeste',\n",
    "    4: 'Sul'\n",
    "}"
   ]
  },
  {
   "cell_type": "code",
   "execution_count": 11,
   "id": "56d44096-2150-4684-a106-a199cf9f3e0c",
   "metadata": {},
   "outputs": [
    {
     "data": {
      "text/html": [
       "<div>\n",
       "<style scoped>\n",
       "    .dataframe tbody tr th:only-of-type {\n",
       "        vertical-align: middle;\n",
       "    }\n",
       "\n",
       "    .dataframe tbody tr th {\n",
       "        vertical-align: top;\n",
       "    }\n",
       "\n",
       "    .dataframe thead tr th {\n",
       "        text-align: left;\n",
       "    }\n",
       "\n",
       "    .dataframe thead tr:last-of-type th {\n",
       "        text-align: right;\n",
       "    }\n",
       "</style>\n",
       "<table border=\"1\" class=\"dataframe\">\n",
       "  <thead>\n",
       "    <tr>\n",
       "      <th></th>\n",
       "      <th colspan=\"4\" halign=\"left\">matematica</th>\n",
       "      <th colspan=\"4\" halign=\"left\">fundamentos_computacao</th>\n",
       "      <th colspan=\"4\" halign=\"left\">tecnologia_computacao</th>\n",
       "    </tr>\n",
       "    <tr>\n",
       "      <th></th>\n",
       "      <th>mean</th>\n",
       "      <th>median</th>\n",
       "      <th>max</th>\n",
       "      <th>std</th>\n",
       "      <th>mean</th>\n",
       "      <th>median</th>\n",
       "      <th>max</th>\n",
       "      <th>std</th>\n",
       "      <th>mean</th>\n",
       "      <th>median</th>\n",
       "      <th>max</th>\n",
       "      <th>std</th>\n",
       "    </tr>\n",
       "    <tr>\n",
       "      <th>ESTADO</th>\n",
       "      <th></th>\n",
       "      <th></th>\n",
       "      <th></th>\n",
       "      <th></th>\n",
       "      <th></th>\n",
       "      <th></th>\n",
       "      <th></th>\n",
       "      <th></th>\n",
       "      <th></th>\n",
       "      <th></th>\n",
       "      <th></th>\n",
       "      <th></th>\n",
       "    </tr>\n",
       "  </thead>\n",
       "  <tbody>\n",
       "    <tr>\n",
       "      <th>Acre</th>\n",
       "      <td>8.500000</td>\n",
       "      <td>8.0</td>\n",
       "      <td>15.0</td>\n",
       "      <td>4.932883</td>\n",
       "      <td>14.000000</td>\n",
       "      <td>14.0</td>\n",
       "      <td>17.0</td>\n",
       "      <td>2.581989</td>\n",
       "      <td>7.500000</td>\n",
       "      <td>7.0</td>\n",
       "      <td>10.0</td>\n",
       "      <td>1.914854</td>\n",
       "    </tr>\n",
       "    <tr>\n",
       "      <th>Alagoas</th>\n",
       "      <td>8.118012</td>\n",
       "      <td>8.0</td>\n",
       "      <td>15.0</td>\n",
       "      <td>2.795932</td>\n",
       "      <td>13.751553</td>\n",
       "      <td>14.0</td>\n",
       "      <td>23.0</td>\n",
       "      <td>3.267321</td>\n",
       "      <td>8.037267</td>\n",
       "      <td>8.0</td>\n",
       "      <td>15.0</td>\n",
       "      <td>2.504716</td>\n",
       "    </tr>\n",
       "    <tr>\n",
       "      <th>Amapá</th>\n",
       "      <td>5.333333</td>\n",
       "      <td>4.5</td>\n",
       "      <td>12.0</td>\n",
       "      <td>3.113996</td>\n",
       "      <td>10.000000</td>\n",
       "      <td>9.5</td>\n",
       "      <td>14.0</td>\n",
       "      <td>2.522625</td>\n",
       "      <td>7.833333</td>\n",
       "      <td>7.5</td>\n",
       "      <td>11.0</td>\n",
       "      <td>1.800673</td>\n",
       "    </tr>\n",
       "    <tr>\n",
       "      <th>Amazonas</th>\n",
       "      <td>6.840000</td>\n",
       "      <td>7.0</td>\n",
       "      <td>15.0</td>\n",
       "      <td>2.444188</td>\n",
       "      <td>12.920000</td>\n",
       "      <td>13.0</td>\n",
       "      <td>20.0</td>\n",
       "      <td>3.039203</td>\n",
       "      <td>7.306667</td>\n",
       "      <td>7.0</td>\n",
       "      <td>12.0</td>\n",
       "      <td>2.525402</td>\n",
       "    </tr>\n",
       "    <tr>\n",
       "      <th>Bahia</th>\n",
       "      <td>7.304688</td>\n",
       "      <td>7.0</td>\n",
       "      <td>15.0</td>\n",
       "      <td>2.860424</td>\n",
       "      <td>14.093750</td>\n",
       "      <td>14.0</td>\n",
       "      <td>24.0</td>\n",
       "      <td>3.625017</td>\n",
       "      <td>7.773438</td>\n",
       "      <td>8.0</td>\n",
       "      <td>15.0</td>\n",
       "      <td>2.596833</td>\n",
       "    </tr>\n",
       "    <tr>\n",
       "      <th>Ceará</th>\n",
       "      <td>8.441624</td>\n",
       "      <td>8.0</td>\n",
       "      <td>18.0</td>\n",
       "      <td>3.232708</td>\n",
       "      <td>14.274112</td>\n",
       "      <td>14.0</td>\n",
       "      <td>25.0</td>\n",
       "      <td>3.683586</td>\n",
       "      <td>8.135364</td>\n",
       "      <td>8.0</td>\n",
       "      <td>16.0</td>\n",
       "      <td>2.618439</td>\n",
       "    </tr>\n",
       "    <tr>\n",
       "      <th>Distrito Federal</th>\n",
       "      <td>9.514286</td>\n",
       "      <td>9.0</td>\n",
       "      <td>20.0</td>\n",
       "      <td>3.809762</td>\n",
       "      <td>15.600000</td>\n",
       "      <td>15.0</td>\n",
       "      <td>23.0</td>\n",
       "      <td>4.226898</td>\n",
       "      <td>8.771429</td>\n",
       "      <td>8.5</td>\n",
       "      <td>15.0</td>\n",
       "      <td>2.285248</td>\n",
       "    </tr>\n",
       "    <tr>\n",
       "      <th>Espírito Santo</th>\n",
       "      <td>8.392000</td>\n",
       "      <td>8.0</td>\n",
       "      <td>19.0</td>\n",
       "      <td>3.359628</td>\n",
       "      <td>13.986667</td>\n",
       "      <td>14.0</td>\n",
       "      <td>28.0</td>\n",
       "      <td>3.794498</td>\n",
       "      <td>7.834667</td>\n",
       "      <td>8.0</td>\n",
       "      <td>16.0</td>\n",
       "      <td>2.745803</td>\n",
       "    </tr>\n",
       "    <tr>\n",
       "      <th>Goiás</th>\n",
       "      <td>7.271493</td>\n",
       "      <td>7.0</td>\n",
       "      <td>17.0</td>\n",
       "      <td>2.918943</td>\n",
       "      <td>13.461538</td>\n",
       "      <td>13.0</td>\n",
       "      <td>24.0</td>\n",
       "      <td>3.472551</td>\n",
       "      <td>7.561086</td>\n",
       "      <td>7.0</td>\n",
       "      <td>15.0</td>\n",
       "      <td>2.546996</td>\n",
       "    </tr>\n",
       "    <tr>\n",
       "      <th>Maranhão</th>\n",
       "      <td>7.318471</td>\n",
       "      <td>7.0</td>\n",
       "      <td>17.0</td>\n",
       "      <td>2.878894</td>\n",
       "      <td>12.914013</td>\n",
       "      <td>13.0</td>\n",
       "      <td>21.0</td>\n",
       "      <td>3.626614</td>\n",
       "      <td>7.773885</td>\n",
       "      <td>8.0</td>\n",
       "      <td>14.0</td>\n",
       "      <td>2.529662</td>\n",
       "    </tr>\n",
       "    <tr>\n",
       "      <th>Mato Grosso</th>\n",
       "      <td>7.302158</td>\n",
       "      <td>7.0</td>\n",
       "      <td>17.0</td>\n",
       "      <td>2.685589</td>\n",
       "      <td>13.330935</td>\n",
       "      <td>13.0</td>\n",
       "      <td>24.0</td>\n",
       "      <td>3.761723</td>\n",
       "      <td>7.517986</td>\n",
       "      <td>7.0</td>\n",
       "      <td>14.0</td>\n",
       "      <td>2.462332</td>\n",
       "    </tr>\n",
       "    <tr>\n",
       "      <th>Mato Grosso do Sul</th>\n",
       "      <td>7.680804</td>\n",
       "      <td>7.0</td>\n",
       "      <td>18.0</td>\n",
       "      <td>3.096276</td>\n",
       "      <td>13.642857</td>\n",
       "      <td>14.0</td>\n",
       "      <td>24.0</td>\n",
       "      <td>3.612945</td>\n",
       "      <td>7.243304</td>\n",
       "      <td>7.0</td>\n",
       "      <td>16.0</td>\n",
       "      <td>2.571779</td>\n",
       "    </tr>\n",
       "    <tr>\n",
       "      <th>Minas Gerais</th>\n",
       "      <td>8.433700</td>\n",
       "      <td>8.0</td>\n",
       "      <td>20.0</td>\n",
       "      <td>3.214617</td>\n",
       "      <td>14.565568</td>\n",
       "      <td>14.0</td>\n",
       "      <td>26.0</td>\n",
       "      <td>3.744143</td>\n",
       "      <td>7.939927</td>\n",
       "      <td>8.0</td>\n",
       "      <td>16.0</td>\n",
       "      <td>2.577974</td>\n",
       "    </tr>\n",
       "    <tr>\n",
       "      <th>Pará</th>\n",
       "      <td>6.749536</td>\n",
       "      <td>6.0</td>\n",
       "      <td>17.0</td>\n",
       "      <td>2.620050</td>\n",
       "      <td>12.141002</td>\n",
       "      <td>12.0</td>\n",
       "      <td>25.0</td>\n",
       "      <td>3.453699</td>\n",
       "      <td>7.265306</td>\n",
       "      <td>7.0</td>\n",
       "      <td>15.0</td>\n",
       "      <td>2.482302</td>\n",
       "    </tr>\n",
       "    <tr>\n",
       "      <th>Paraíba</th>\n",
       "      <td>7.633224</td>\n",
       "      <td>7.0</td>\n",
       "      <td>19.0</td>\n",
       "      <td>2.893271</td>\n",
       "      <td>13.980263</td>\n",
       "      <td>14.0</td>\n",
       "      <td>26.0</td>\n",
       "      <td>3.608009</td>\n",
       "      <td>7.807566</td>\n",
       "      <td>8.0</td>\n",
       "      <td>16.0</td>\n",
       "      <td>2.547889</td>\n",
       "    </tr>\n",
       "    <tr>\n",
       "      <th>Paraná</th>\n",
       "      <td>7.858277</td>\n",
       "      <td>8.0</td>\n",
       "      <td>20.0</td>\n",
       "      <td>3.024171</td>\n",
       "      <td>14.255102</td>\n",
       "      <td>14.0</td>\n",
       "      <td>25.0</td>\n",
       "      <td>3.776924</td>\n",
       "      <td>8.061224</td>\n",
       "      <td>8.0</td>\n",
       "      <td>15.0</td>\n",
       "      <td>2.528093</td>\n",
       "    </tr>\n",
       "    <tr>\n",
       "      <th>Pernambuco</th>\n",
       "      <td>8.300000</td>\n",
       "      <td>8.0</td>\n",
       "      <td>16.0</td>\n",
       "      <td>3.321237</td>\n",
       "      <td>13.620000</td>\n",
       "      <td>13.0</td>\n",
       "      <td>25.0</td>\n",
       "      <td>3.853914</td>\n",
       "      <td>7.120000</td>\n",
       "      <td>7.0</td>\n",
       "      <td>15.0</td>\n",
       "      <td>3.014523</td>\n",
       "    </tr>\n",
       "    <tr>\n",
       "      <th>Piauí</th>\n",
       "      <td>6.899135</td>\n",
       "      <td>7.0</td>\n",
       "      <td>16.0</td>\n",
       "      <td>2.739916</td>\n",
       "      <td>12.858790</td>\n",
       "      <td>13.0</td>\n",
       "      <td>22.0</td>\n",
       "      <td>3.683301</td>\n",
       "      <td>7.634006</td>\n",
       "      <td>8.0</td>\n",
       "      <td>15.0</td>\n",
       "      <td>2.566187</td>\n",
       "    </tr>\n",
       "    <tr>\n",
       "      <th>Rio de Janeiro</th>\n",
       "      <td>9.730539</td>\n",
       "      <td>10.0</td>\n",
       "      <td>19.0</td>\n",
       "      <td>3.464859</td>\n",
       "      <td>15.086826</td>\n",
       "      <td>15.0</td>\n",
       "      <td>25.0</td>\n",
       "      <td>3.686874</td>\n",
       "      <td>8.341317</td>\n",
       "      <td>8.0</td>\n",
       "      <td>15.0</td>\n",
       "      <td>2.589590</td>\n",
       "    </tr>\n",
       "    <tr>\n",
       "      <th>Rio Grande do Norte</th>\n",
       "      <td>8.158537</td>\n",
       "      <td>8.0</td>\n",
       "      <td>20.0</td>\n",
       "      <td>3.495727</td>\n",
       "      <td>14.085366</td>\n",
       "      <td>14.0</td>\n",
       "      <td>25.0</td>\n",
       "      <td>4.075066</td>\n",
       "      <td>7.786585</td>\n",
       "      <td>8.0</td>\n",
       "      <td>16.0</td>\n",
       "      <td>2.930201</td>\n",
       "    </tr>\n",
       "    <tr>\n",
       "      <th>Rio Grande do Sul</th>\n",
       "      <td>7.973913</td>\n",
       "      <td>8.0</td>\n",
       "      <td>20.0</td>\n",
       "      <td>3.238175</td>\n",
       "      <td>14.167150</td>\n",
       "      <td>14.0</td>\n",
       "      <td>28.0</td>\n",
       "      <td>3.990812</td>\n",
       "      <td>8.076329</td>\n",
       "      <td>8.0</td>\n",
       "      <td>18.0</td>\n",
       "      <td>2.681510</td>\n",
       "    </tr>\n",
       "    <tr>\n",
       "      <th>Rondônia</th>\n",
       "      <td>6.764706</td>\n",
       "      <td>7.0</td>\n",
       "      <td>11.0</td>\n",
       "      <td>2.562455</td>\n",
       "      <td>11.529412</td>\n",
       "      <td>12.0</td>\n",
       "      <td>17.0</td>\n",
       "      <td>3.393333</td>\n",
       "      <td>6.705882</td>\n",
       "      <td>7.0</td>\n",
       "      <td>10.0</td>\n",
       "      <td>2.823223</td>\n",
       "    </tr>\n",
       "    <tr>\n",
       "      <th>Roraima</th>\n",
       "      <td>5.200000</td>\n",
       "      <td>5.0</td>\n",
       "      <td>7.0</td>\n",
       "      <td>1.483240</td>\n",
       "      <td>10.800000</td>\n",
       "      <td>11.0</td>\n",
       "      <td>13.0</td>\n",
       "      <td>1.483240</td>\n",
       "      <td>7.200000</td>\n",
       "      <td>7.0</td>\n",
       "      <td>9.0</td>\n",
       "      <td>1.095445</td>\n",
       "    </tr>\n",
       "    <tr>\n",
       "      <th>Santa Catarina</th>\n",
       "      <td>7.926621</td>\n",
       "      <td>8.0</td>\n",
       "      <td>20.0</td>\n",
       "      <td>3.060039</td>\n",
       "      <td>14.194539</td>\n",
       "      <td>14.0</td>\n",
       "      <td>26.0</td>\n",
       "      <td>3.884623</td>\n",
       "      <td>8.274744</td>\n",
       "      <td>8.0</td>\n",
       "      <td>16.0</td>\n",
       "      <td>2.556963</td>\n",
       "    </tr>\n",
       "    <tr>\n",
       "      <th>São Paulo</th>\n",
       "      <td>8.454503</td>\n",
       "      <td>8.0</td>\n",
       "      <td>20.0</td>\n",
       "      <td>3.345896</td>\n",
       "      <td>14.118668</td>\n",
       "      <td>14.0</td>\n",
       "      <td>27.0</td>\n",
       "      <td>3.838417</td>\n",
       "      <td>7.903846</td>\n",
       "      <td>8.0</td>\n",
       "      <td>16.0</td>\n",
       "      <td>2.625480</td>\n",
       "    </tr>\n",
       "    <tr>\n",
       "      <th>Sergipe</th>\n",
       "      <td>8.224299</td>\n",
       "      <td>8.0</td>\n",
       "      <td>20.0</td>\n",
       "      <td>3.351453</td>\n",
       "      <td>14.448598</td>\n",
       "      <td>14.0</td>\n",
       "      <td>22.0</td>\n",
       "      <td>3.716952</td>\n",
       "      <td>8.121495</td>\n",
       "      <td>8.0</td>\n",
       "      <td>15.0</td>\n",
       "      <td>2.739337</td>\n",
       "    </tr>\n",
       "    <tr>\n",
       "      <th>Tocantins</th>\n",
       "      <td>7.425532</td>\n",
       "      <td>7.0</td>\n",
       "      <td>14.0</td>\n",
       "      <td>2.464925</td>\n",
       "      <td>13.808511</td>\n",
       "      <td>14.0</td>\n",
       "      <td>23.0</td>\n",
       "      <td>4.276520</td>\n",
       "      <td>7.957447</td>\n",
       "      <td>8.0</td>\n",
       "      <td>14.0</td>\n",
       "      <td>2.449112</td>\n",
       "    </tr>\n",
       "  </tbody>\n",
       "</table>\n",
       "</div>"
      ],
      "text/plain": [
       "                    matematica                        fundamentos_computacao  \\\n",
       "                          mean median   max       std                   mean   \n",
       "ESTADO                                                                         \n",
       "Acre                  8.500000    8.0  15.0  4.932883              14.000000   \n",
       "Alagoas               8.118012    8.0  15.0  2.795932              13.751553   \n",
       "Amapá                 5.333333    4.5  12.0  3.113996              10.000000   \n",
       "Amazonas              6.840000    7.0  15.0  2.444188              12.920000   \n",
       "Bahia                 7.304688    7.0  15.0  2.860424              14.093750   \n",
       "Ceará                 8.441624    8.0  18.0  3.232708              14.274112   \n",
       "Distrito Federal      9.514286    9.0  20.0  3.809762              15.600000   \n",
       "Espírito Santo        8.392000    8.0  19.0  3.359628              13.986667   \n",
       "Goiás                 7.271493    7.0  17.0  2.918943              13.461538   \n",
       "Maranhão              7.318471    7.0  17.0  2.878894              12.914013   \n",
       "Mato Grosso           7.302158    7.0  17.0  2.685589              13.330935   \n",
       "Mato Grosso do Sul    7.680804    7.0  18.0  3.096276              13.642857   \n",
       "Minas Gerais          8.433700    8.0  20.0  3.214617              14.565568   \n",
       "Pará                  6.749536    6.0  17.0  2.620050              12.141002   \n",
       "Paraíba               7.633224    7.0  19.0  2.893271              13.980263   \n",
       "Paraná                7.858277    8.0  20.0  3.024171              14.255102   \n",
       "Pernambuco            8.300000    8.0  16.0  3.321237              13.620000   \n",
       "Piauí                 6.899135    7.0  16.0  2.739916              12.858790   \n",
       "Rio de Janeiro        9.730539   10.0  19.0  3.464859              15.086826   \n",
       "Rio Grande do Norte   8.158537    8.0  20.0  3.495727              14.085366   \n",
       "Rio Grande do Sul     7.973913    8.0  20.0  3.238175              14.167150   \n",
       "Rondônia              6.764706    7.0  11.0  2.562455              11.529412   \n",
       "Roraima               5.200000    5.0   7.0  1.483240              10.800000   \n",
       "Santa Catarina        7.926621    8.0  20.0  3.060039              14.194539   \n",
       "São Paulo             8.454503    8.0  20.0  3.345896              14.118668   \n",
       "Sergipe               8.224299    8.0  20.0  3.351453              14.448598   \n",
       "Tocantins             7.425532    7.0  14.0  2.464925              13.808511   \n",
       "\n",
       "                                           tecnologia_computacao               \\\n",
       "                    median   max       std                  mean median   max   \n",
       "ESTADO                                                                          \n",
       "Acre                  14.0  17.0  2.581989              7.500000    7.0  10.0   \n",
       "Alagoas               14.0  23.0  3.267321              8.037267    8.0  15.0   \n",
       "Amapá                  9.5  14.0  2.522625              7.833333    7.5  11.0   \n",
       "Amazonas              13.0  20.0  3.039203              7.306667    7.0  12.0   \n",
       "Bahia                 14.0  24.0  3.625017              7.773438    8.0  15.0   \n",
       "Ceará                 14.0  25.0  3.683586              8.135364    8.0  16.0   \n",
       "Distrito Federal      15.0  23.0  4.226898              8.771429    8.5  15.0   \n",
       "Espírito Santo        14.0  28.0  3.794498              7.834667    8.0  16.0   \n",
       "Goiás                 13.0  24.0  3.472551              7.561086    7.0  15.0   \n",
       "Maranhão              13.0  21.0  3.626614              7.773885    8.0  14.0   \n",
       "Mato Grosso           13.0  24.0  3.761723              7.517986    7.0  14.0   \n",
       "Mato Grosso do Sul    14.0  24.0  3.612945              7.243304    7.0  16.0   \n",
       "Minas Gerais          14.0  26.0  3.744143              7.939927    8.0  16.0   \n",
       "Pará                  12.0  25.0  3.453699              7.265306    7.0  15.0   \n",
       "Paraíba               14.0  26.0  3.608009              7.807566    8.0  16.0   \n",
       "Paraná                14.0  25.0  3.776924              8.061224    8.0  15.0   \n",
       "Pernambuco            13.0  25.0  3.853914              7.120000    7.0  15.0   \n",
       "Piauí                 13.0  22.0  3.683301              7.634006    8.0  15.0   \n",
       "Rio de Janeiro        15.0  25.0  3.686874              8.341317    8.0  15.0   \n",
       "Rio Grande do Norte   14.0  25.0  4.075066              7.786585    8.0  16.0   \n",
       "Rio Grande do Sul     14.0  28.0  3.990812              8.076329    8.0  18.0   \n",
       "Rondônia              12.0  17.0  3.393333              6.705882    7.0  10.0   \n",
       "Roraima               11.0  13.0  1.483240              7.200000    7.0   9.0   \n",
       "Santa Catarina        14.0  26.0  3.884623              8.274744    8.0  16.0   \n",
       "São Paulo             14.0  27.0  3.838417              7.903846    8.0  16.0   \n",
       "Sergipe               14.0  22.0  3.716952              8.121495    8.0  15.0   \n",
       "Tocantins             14.0  23.0  4.276520              7.957447    8.0  14.0   \n",
       "\n",
       "                               \n",
       "                          std  \n",
       "ESTADO                         \n",
       "Acre                 1.914854  \n",
       "Alagoas              2.504716  \n",
       "Amapá                1.800673  \n",
       "Amazonas             2.525402  \n",
       "Bahia                2.596833  \n",
       "Ceará                2.618439  \n",
       "Distrito Federal     2.285248  \n",
       "Espírito Santo       2.745803  \n",
       "Goiás                2.546996  \n",
       "Maranhão             2.529662  \n",
       "Mato Grosso          2.462332  \n",
       "Mato Grosso do Sul   2.571779  \n",
       "Minas Gerais         2.577974  \n",
       "Pará                 2.482302  \n",
       "Paraíba              2.547889  \n",
       "Paraná               2.528093  \n",
       "Pernambuco           3.014523  \n",
       "Piauí                2.566187  \n",
       "Rio de Janeiro       2.589590  \n",
       "Rio Grande do Norte  2.930201  \n",
       "Rio Grande do Sul    2.681510  \n",
       "Rondônia             2.823223  \n",
       "Roraima              1.095445  \n",
       "Santa Catarina       2.556963  \n",
       "São Paulo            2.625480  \n",
       "Sergipe              2.739337  \n",
       "Tocantins            2.449112  "
      ]
     },
     "execution_count": 11,
     "metadata": {},
     "output_type": "execute_result"
    }
   ],
   "source": [
    "renda_estatisticas_por_uf = dados.groupby(['ESTADO']).agg({'matematica': ['mean', 'median', 'max', 'std'],\n",
    "                                                            'fundamentos_computacao': ['mean', 'median', 'max', 'std'],\n",
    "                                                            'tecnologia_computacao': ['mean', 'median', 'max', 'std']})\n",
    "renda_estatisticas_por_uf.rename(index= estados)"
   ]
  },
  {
   "cell_type": "markdown",
   "id": "8f5a15fd-b198-492b-b7fb-a89b27f8b1d7",
   "metadata": {},
   "source": [
    "#### Geração de gráficos da áreas de matemática, fundamentos da computação e tecnologia da computação"
   ]
  },
  {
   "cell_type": "code",
   "execution_count": 12,
   "id": "6c2ce45d-b42a-477d-92e3-4cd883f4037c",
   "metadata": {},
   "outputs": [],
   "source": [
    "media_estatisticas_por_uf = dados.groupby(['ESTADO']).agg({'matematica': ['mean'],\n",
    "                                                            'fundamentos_computacao': ['mean'],\n",
    "                                                            'tecnologia_computacao': ['mean']})\n",
    "media_estatisticas_por_uf = media_estatisticas_por_uf.rename(index=estados_brasileiros)"
   ]
  },
  {
   "cell_type": "code",
   "execution_count": 157,
   "id": "17458fa4-5da7-4128-924a-816cce9ba1f0",
   "metadata": {},
   "outputs": [
    {
     "data": {
      "text/html": [
       "<div>\n",
       "<style scoped>\n",
       "    .dataframe tbody tr th:only-of-type {\n",
       "        vertical-align: middle;\n",
       "    }\n",
       "\n",
       "    .dataframe tbody tr th {\n",
       "        vertical-align: top;\n",
       "    }\n",
       "\n",
       "    .dataframe thead th {\n",
       "        text-align: right;\n",
       "    }\n",
       "</style>\n",
       "<table border=\"1\" class=\"dataframe\">\n",
       "  <thead>\n",
       "    <tr style=\"text-align: right;\">\n",
       "      <th></th>\n",
       "      <th>ESTADO</th>\n",
       "      <th>REGIAO</th>\n",
       "      <th>matematica</th>\n",
       "      <th>fundamentos_computacao</th>\n",
       "      <th>tecnologia_computacao</th>\n",
       "    </tr>\n",
       "  </thead>\n",
       "  <tbody>\n",
       "    <tr>\n",
       "      <th>0</th>\n",
       "      <td>AC</td>\n",
       "      <td>Norte</td>\n",
       "      <td>8.500000</td>\n",
       "      <td>14.000000</td>\n",
       "      <td>7.500000</td>\n",
       "    </tr>\n",
       "    <tr>\n",
       "      <th>1</th>\n",
       "      <td>AL</td>\n",
       "      <td>Nordeste</td>\n",
       "      <td>8.118012</td>\n",
       "      <td>13.751553</td>\n",
       "      <td>8.037267</td>\n",
       "    </tr>\n",
       "    <tr>\n",
       "      <th>2</th>\n",
       "      <td>AM</td>\n",
       "      <td>Norte</td>\n",
       "      <td>5.333333</td>\n",
       "      <td>10.000000</td>\n",
       "      <td>7.833333</td>\n",
       "    </tr>\n",
       "    <tr>\n",
       "      <th>3</th>\n",
       "      <td>AP</td>\n",
       "      <td>Norte</td>\n",
       "      <td>6.840000</td>\n",
       "      <td>12.920000</td>\n",
       "      <td>7.306667</td>\n",
       "    </tr>\n",
       "    <tr>\n",
       "      <th>4</th>\n",
       "      <td>BA</td>\n",
       "      <td>Nordeste</td>\n",
       "      <td>7.304688</td>\n",
       "      <td>14.093750</td>\n",
       "      <td>7.773438</td>\n",
       "    </tr>\n",
       "    <tr>\n",
       "      <th>5</th>\n",
       "      <td>CE</td>\n",
       "      <td>Nordeste</td>\n",
       "      <td>8.441624</td>\n",
       "      <td>14.274112</td>\n",
       "      <td>8.135364</td>\n",
       "    </tr>\n",
       "    <tr>\n",
       "      <th>6</th>\n",
       "      <td>DF</td>\n",
       "      <td>Centro-Oeste</td>\n",
       "      <td>9.514286</td>\n",
       "      <td>15.600000</td>\n",
       "      <td>8.771429</td>\n",
       "    </tr>\n",
       "    <tr>\n",
       "      <th>7</th>\n",
       "      <td>ES</td>\n",
       "      <td>Sudeste</td>\n",
       "      <td>8.392000</td>\n",
       "      <td>13.986667</td>\n",
       "      <td>7.834667</td>\n",
       "    </tr>\n",
       "    <tr>\n",
       "      <th>8</th>\n",
       "      <td>GO</td>\n",
       "      <td>Centro-Oeste</td>\n",
       "      <td>7.271493</td>\n",
       "      <td>13.461538</td>\n",
       "      <td>7.561086</td>\n",
       "    </tr>\n",
       "    <tr>\n",
       "      <th>9</th>\n",
       "      <td>MA</td>\n",
       "      <td>Nordeste</td>\n",
       "      <td>7.318471</td>\n",
       "      <td>12.914013</td>\n",
       "      <td>7.773885</td>\n",
       "    </tr>\n",
       "    <tr>\n",
       "      <th>10</th>\n",
       "      <td>MG</td>\n",
       "      <td>Centro-Oeste</td>\n",
       "      <td>7.302158</td>\n",
       "      <td>13.330935</td>\n",
       "      <td>7.517986</td>\n",
       "    </tr>\n",
       "    <tr>\n",
       "      <th>11</th>\n",
       "      <td>MS</td>\n",
       "      <td>Centro-Oeste</td>\n",
       "      <td>7.680804</td>\n",
       "      <td>13.642857</td>\n",
       "      <td>7.243304</td>\n",
       "    </tr>\n",
       "    <tr>\n",
       "      <th>12</th>\n",
       "      <td>MT</td>\n",
       "      <td>Sudeste</td>\n",
       "      <td>8.433700</td>\n",
       "      <td>14.565568</td>\n",
       "      <td>7.939927</td>\n",
       "    </tr>\n",
       "    <tr>\n",
       "      <th>13</th>\n",
       "      <td>PA</td>\n",
       "      <td>Norte</td>\n",
       "      <td>6.749536</td>\n",
       "      <td>12.141002</td>\n",
       "      <td>7.265306</td>\n",
       "    </tr>\n",
       "    <tr>\n",
       "      <th>14</th>\n",
       "      <td>PB</td>\n",
       "      <td>Nordeste</td>\n",
       "      <td>7.633224</td>\n",
       "      <td>13.980263</td>\n",
       "      <td>7.807566</td>\n",
       "    </tr>\n",
       "    <tr>\n",
       "      <th>15</th>\n",
       "      <td>PE</td>\n",
       "      <td>Sul</td>\n",
       "      <td>7.858277</td>\n",
       "      <td>14.255102</td>\n",
       "      <td>8.061224</td>\n",
       "    </tr>\n",
       "    <tr>\n",
       "      <th>16</th>\n",
       "      <td>PI</td>\n",
       "      <td>Nordeste</td>\n",
       "      <td>8.300000</td>\n",
       "      <td>13.620000</td>\n",
       "      <td>7.120000</td>\n",
       "    </tr>\n",
       "    <tr>\n",
       "      <th>17</th>\n",
       "      <td>PR</td>\n",
       "      <td>Nordeste</td>\n",
       "      <td>6.899135</td>\n",
       "      <td>12.858790</td>\n",
       "      <td>7.634006</td>\n",
       "    </tr>\n",
       "    <tr>\n",
       "      <th>18</th>\n",
       "      <td>RJ</td>\n",
       "      <td>Sudeste</td>\n",
       "      <td>9.730539</td>\n",
       "      <td>15.086826</td>\n",
       "      <td>8.341317</td>\n",
       "    </tr>\n",
       "    <tr>\n",
       "      <th>19</th>\n",
       "      <td>RN</td>\n",
       "      <td>Nordeste</td>\n",
       "      <td>8.158537</td>\n",
       "      <td>14.085366</td>\n",
       "      <td>7.786585</td>\n",
       "    </tr>\n",
       "    <tr>\n",
       "      <th>20</th>\n",
       "      <td>RO</td>\n",
       "      <td>Sul</td>\n",
       "      <td>7.973913</td>\n",
       "      <td>14.167150</td>\n",
       "      <td>8.076329</td>\n",
       "    </tr>\n",
       "    <tr>\n",
       "      <th>21</th>\n",
       "      <td>RR</td>\n",
       "      <td>Norte</td>\n",
       "      <td>6.764706</td>\n",
       "      <td>11.529412</td>\n",
       "      <td>6.705882</td>\n",
       "    </tr>\n",
       "    <tr>\n",
       "      <th>22</th>\n",
       "      <td>RS</td>\n",
       "      <td>Norte</td>\n",
       "      <td>5.200000</td>\n",
       "      <td>10.800000</td>\n",
       "      <td>7.200000</td>\n",
       "    </tr>\n",
       "    <tr>\n",
       "      <th>23</th>\n",
       "      <td>SC</td>\n",
       "      <td>Sul</td>\n",
       "      <td>7.926621</td>\n",
       "      <td>14.194539</td>\n",
       "      <td>8.274744</td>\n",
       "    </tr>\n",
       "    <tr>\n",
       "      <th>24</th>\n",
       "      <td>SE</td>\n",
       "      <td>Sudeste</td>\n",
       "      <td>8.454503</td>\n",
       "      <td>14.118668</td>\n",
       "      <td>7.903846</td>\n",
       "    </tr>\n",
       "    <tr>\n",
       "      <th>25</th>\n",
       "      <td>SP</td>\n",
       "      <td>Nordeste</td>\n",
       "      <td>8.224299</td>\n",
       "      <td>14.448598</td>\n",
       "      <td>8.121495</td>\n",
       "    </tr>\n",
       "    <tr>\n",
       "      <th>26</th>\n",
       "      <td>TO</td>\n",
       "      <td>Norte</td>\n",
       "      <td>7.425532</td>\n",
       "      <td>13.808511</td>\n",
       "      <td>7.957447</td>\n",
       "    </tr>\n",
       "  </tbody>\n",
       "</table>\n",
       "</div>"
      ],
      "text/plain": [
       "   ESTADO        REGIAO  matematica  fundamentos_computacao  \\\n",
       "0      AC         Norte    8.500000               14.000000   \n",
       "1      AL      Nordeste    8.118012               13.751553   \n",
       "2      AM         Norte    5.333333               10.000000   \n",
       "3      AP         Norte    6.840000               12.920000   \n",
       "4      BA      Nordeste    7.304688               14.093750   \n",
       "5      CE      Nordeste    8.441624               14.274112   \n",
       "6      DF  Centro-Oeste    9.514286               15.600000   \n",
       "7      ES       Sudeste    8.392000               13.986667   \n",
       "8      GO  Centro-Oeste    7.271493               13.461538   \n",
       "9      MA      Nordeste    7.318471               12.914013   \n",
       "10     MG  Centro-Oeste    7.302158               13.330935   \n",
       "11     MS  Centro-Oeste    7.680804               13.642857   \n",
       "12     MT       Sudeste    8.433700               14.565568   \n",
       "13     PA         Norte    6.749536               12.141002   \n",
       "14     PB      Nordeste    7.633224               13.980263   \n",
       "15     PE           Sul    7.858277               14.255102   \n",
       "16     PI      Nordeste    8.300000               13.620000   \n",
       "17     PR      Nordeste    6.899135               12.858790   \n",
       "18     RJ       Sudeste    9.730539               15.086826   \n",
       "19     RN      Nordeste    8.158537               14.085366   \n",
       "20     RO           Sul    7.973913               14.167150   \n",
       "21     RR         Norte    6.764706               11.529412   \n",
       "22     RS         Norte    5.200000               10.800000   \n",
       "23     SC           Sul    7.926621               14.194539   \n",
       "24     SE       Sudeste    8.454503               14.118668   \n",
       "25     SP      Nordeste    8.224299               14.448598   \n",
       "26     TO         Norte    7.425532               13.808511   \n",
       "\n",
       "    tecnologia_computacao  \n",
       "0                7.500000  \n",
       "1                8.037267  \n",
       "2                7.833333  \n",
       "3                7.306667  \n",
       "4                7.773438  \n",
       "5                8.135364  \n",
       "6                8.771429  \n",
       "7                7.834667  \n",
       "8                7.561086  \n",
       "9                7.773885  \n",
       "10               7.517986  \n",
       "11               7.243304  \n",
       "12               7.939927  \n",
       "13               7.265306  \n",
       "14               7.807566  \n",
       "15               8.061224  \n",
       "16               7.120000  \n",
       "17               7.634006  \n",
       "18               8.341317  \n",
       "19               7.786585  \n",
       "20               8.076329  \n",
       "21               6.705882  \n",
       "22               7.200000  \n",
       "23               8.274744  \n",
       "24               7.903846  \n",
       "25               8.121495  \n",
       "26               7.957447  "
      ]
     },
     "execution_count": 157,
     "metadata": {},
     "output_type": "execute_result"
    }
   ],
   "source": [
    "por_uf = dados.groupby(['ESTADO', 'REGIAO']).agg({'matematica': 'mean',\n",
    "                                                            'fundamentos_computacao': 'mean',\n",
    "                                                            'tecnologia_computacao': 'mean'})\n",
    "# por_uf = por_uf.rename(columns={'ESTADO':estados_brasileiros, 'REGIAO':regioes}, index=)\n",
    "por_uf = por_uf.reset_index()\n",
    "por_uf['ESTADO'] = por_uf['ESTADO'].replace(estados_brasileiros)\n",
    "por_uf['REGIAO'] = por_uf['REGIAO'].replace(regioes)\n",
    "por_uf"
   ]
  },
  {
   "cell_type": "code",
   "execution_count": 227,
   "id": "cb945696-d167-4845-b4bb-4dfde9b44853",
   "metadata": {},
   "outputs": [
    {
     "data": {
      "image/png": "[encoded data removed]",
      "text/plain": [
       "<Figure size 2000x1000 with 1 Axes>"
      ]
     },
     "metadata": {},
     "output_type": "display_data"
    },
    {
     "data": {
      "image/png": "[encoded data removed]",
      "text/plain": [
       "<Figure size 2000x1000 with 1 Axes>"
      ]
     },
     "metadata": {},
     "output_type": "display_data"
    },
    {
     "data": {
      "image/png": "[encoded data removed]",
      "text/plain": [
       "<Figure size 2000x1000 with 1 Axes>"
      ]
     },
     "metadata": {},
     "output_type": "display_data"
    }
   ],
   "source": [
    "# colores_regioes = ['g' if ler.regioes_brasil]\n",
    "lista_eixo = {'matematica': 'Matemática',\n",
    "           'fundamentos_computacao': 'Fundamentos da Computação',\n",
    "           'tecnologia_computacao': 'Tecnologia da Computação'}\n",
    "for i in lista_eixo:\n",
    "    plt.figure(figsize=(20,10))\n",
    "    df_media_uf = por_uf.sort_values([i], ascending=False)\n",
    "    sns.set_theme()\n",
    "    sns.barplot(data=df_media_uf,\n",
    "                y=i,\n",
    "                x='ESTADO',\n",
    "                hue='REGIAO',\n",
    "                dodge=False,\n",
    "               );\n",
    "    \n",
    "    # Adicionar legenda nos eixos\n",
    "    \n",
    "    plt.legend(fontsize=10)\n",
    "    plt.title(lista_eixo[i], fontsize=18)\n",
    "    plt.xlabel('Unidade Federativa', fontsize=18)\n",
    "    plt.ylabel('Médias das notas', fontsize=18)\n",
    "    plt.xticks(fontsize=15)\n",
    "    plt.yticks(fontsize=15)\n",
    "    plt.show()"
   ]
  },
  {
   "cell_type": "code",
   "execution_count": null,
   "id": "ff854951-e6b1-4512-9c93-80acd164e823",
   "metadata": {},
   "outputs": [],
   "source": [
    "# Plotar um mapa com as médias de cada estados\n",
    "import json\n",
    "import folium\n",
    "\n",
    "media_estado = media_estatisticas_por_uf['matematica']\n",
    "media_estado = media_estado.reset_index()\n",
    "\n",
    "from branca.colormap import linear\n",
    "\n",
    "estados_geoJSON = json.load(open('Brasil.json'))\n",
    "\n",
    "mapa = folium.Map(location=[-15,-48], width=600, height=500, zoom_start=4)\n",
    "# folium.GeoJson(estados_geoJSON).add_to(mapa)\n",
    "\n",
    "mapa_cores = linear.Greys_07.scale(media_estado['mean'].min(), media_estado['mean'].max(), max_labels=5)\n",
    "\n",
    "mapa_cores.caption = 'Notas'\n",
    "mapa_cores.add_to(mapa)\n",
    "\n",
    "folium.GeoJson(estados_geoJSON,\n",
    "               style_function=lambda x: {'fillColor': mapa_cores(dict_media_estado[x['id']]),\n",
    "                                                          'weight': '0.3',}).add_to(mapa)\n",
    "# mapa.save('mapa.html')\n",
    "mapa"
   ]
  },
  {
   "cell_type": "code",
   "execution_count": null,
   "id": "1aebd6fa-98b7-486a-8ffc-1696251364e7",
   "metadata": {},
   "outputs": [],
   "source": [
    "import geopandas as gpd\n",
    "%matplotlib inline\n",
    "\n",
    "INFOS_UFS = gpd.read_file('bcim_2016_21_11_2018.gpkg', layer='lim_unidade_federacao_a')\n",
    "INFOS_UFS.columns\n",
    "\n",
    "# print(\"Estado: \" + INFOS_UFS.nome[18])\n",
    "# INFOS_UFS.geometry[18]\n",
    "\n",
    "INFOS_UFS.rename({'sigla': 'ESTADO'}, axis=1, inplace=True)\n",
    "\n",
    "BRASIL = INFOS_UFS.merge(media_estado, on='ESTADO', how='left')\n",
    "# BRASIL[['ESTADO', 'mean']].head()\n",
    "\n",
    "BRASIL.plot(column= 'mean',\n",
    "           cmap = 'Reds',\n",
    "           figsize = (16,10),\n",
    "           legend = True,\n",
    "           edgecolor = 'black')"
   ]
  },
  {
   "cell_type": "code",
   "execution_count": null,
   "id": "b86d3f4b-f4c1-47aa-846d-34a98e044f78",
   "metadata": {},
   "outputs": [],
   "source": [
    "BRASIL['ESTADO'].values"
   ]
  },
  {
   "cell_type": "code",
   "execution_count": null,
   "id": "daf68d3b-c62a-4b2f-9e27-15c23083ae63",
   "metadata": {},
   "outputs": [],
   "source": [
    "renda_estatisticas_por_regiao = dados.groupby(['REGIAO']).agg({'matematica': ['mean', 'median', 'max', 'std'],\n",
    "                                                              'fundamentos_computacao': ['mean', 'median', 'max', 'std'],\n",
    "                                                              'tecnologia_computacao': ['mean', 'median', 'max', 'std']})\n",
    "renda_estatisticas_por_regiao.rename(index= regioes)"
   ]
  },
  {
   "cell_type": "code",
   "execution_count": null,
   "id": "9b1936a3-b2d8-4793-bfcd-d8efb74e42ab",
   "metadata": {},
   "outputs": [],
   "source": [
    "total = float(len(dados[\"REGIAO\"]))\n",
    "\n",
    "boxplot_regiao = sns.countplot(x = 'REGIAO', data = dados)\n",
    "\n",
    "boxplot_regiao.figure.set_size_inches(14, 8)\n",
    "\n",
    "for p in boxplot_regiao.patches:\n",
    "    percentage = '{:.1f}%'.format(100 * p.get_height()/total)\n",
    "    x = p.get_x() + p.get_width() /2\n",
    "    y = p.get_height()\n",
    "    boxplot_regiao.annotate(percentage, (x, y),size=20, ha=\"center\", va=\"bottom\")\n",
    "\n",
    "boxplot_regiao.set_title('Inscritos por Regiões do Brasil', fontsize=18)\n",
    "boxplot_regiao.set_ylabel('Quantidade', fontsize=18)\n",
    "boxplot_regiao.set_xlabel('Região', fontsize=14)\n",
    "boxplot_regiao.set_xticklabels([key for key in regioes.values()], fontsize=12)\n",
    "\n",
    "boxplot_regiao"
   ]
  },
  {
   "cell_type": "code",
   "execution_count": null,
   "id": "bb97a6a5-9652-4eb0-ae3c-9a6d5abae527",
   "metadata": {},
   "outputs": [],
   "source": []
  },
  {
   "cell_type": "code",
   "execution_count": null,
   "id": "930530eb-d32d-4377-8cdf-5731342b28c2",
   "metadata": {},
   "outputs": [],
   "source": [
    "plt.hist(dados['REGIAO'])\n",
    "plt.show()"
   ]
  },
  {
   "cell_type": "code",
   "execution_count": null,
   "id": "58446c86-f1b2-43e0-ad61-fa934ee8b48b",
   "metadata": {},
   "outputs": [],
   "source": [
    "boxplot_uf = sns.boxplot(x = 'matematica', y = 'ESTADO', data=dados, orient='h')\n",
    "\n",
    "boxplot_uf.figure.set_size_inches(14, 8)    # Personalizando o tamanho da figura\n",
    "\n",
    "boxplot_uf.set_title('Boxplot da Área de Matemática por ESTADOS', fontsize=18)    # Configurando o título do gráfico\n",
    "\n",
    "boxplot_uf.set_xlabel('Notas', fontsize=14)    # Configurando o label do eixo X\n",
    "\n",
    "boxplot_uf.set_ylabel('Estados', fontsize=14)    # Configurando o label do eixo Y\n",
    "boxplot_uf.set_yticklabels([key for key in estados.values()], fontsize=12)    # Configurando o label de cada categoria do eixo Y\n",
    "\n",
    "boxplot_uf\n",
    "plt.savefig('imagens/graficoboxplot_matematica.png')"
   ]
  },
  {
   "cell_type": "code",
   "execution_count": null,
   "id": "8a26683a-482b-4f8a-9f1c-de270b7162de",
   "metadata": {},
   "outputs": [],
   "source": [
    "boxplot_uf = sns.boxplot(x = 'fundamentos_computacao', y = 'ESTADO', data=dados, orient='h')\n",
    "\n",
    "boxplot_uf.figure.set_size_inches(14, 8)    # Personalizando o tamanho da figura\n",
    "\n",
    "boxplot_uf.set_title('Boxplot da Área de Fundamentos da Computação por ESTADOS', fontsize=18)    # Configurando o título do gráfico\n",
    "\n",
    "boxplot_uf.set_xlabel('Notas', fontsize=14)    # Configurando o label do eixo X\n",
    "\n",
    "boxplot_uf.set_ylabel('Estados', fontsize=14)    # Configurando o label do eixo Y\n",
    "boxplot_uf.set_yticklabels([key for key in estados.values()], fontsize=12)    # Configurando o label de cada categoria do eixo Y\n",
    "\n",
    "boxplot_uf\n",
    "plt.savefig('imagens/graficoboxplot_fundComputação.png')"
   ]
  },
  {
   "cell_type": "code",
   "execution_count": null,
   "id": "a2140b21-39d7-459d-a034-6b154a4e718b",
   "metadata": {},
   "outputs": [],
   "source": [
    "boxplot_uf = sns.boxplot(x = 'tecnologia_computacao', y = 'ESTADO', data=dados, orient='h')\n",
    "\n",
    "boxplot_uf.figure.set_size_inches(14, 8)    # Personalizando o tamanho da figura\n",
    "\n",
    "boxplot_uf.set_title('Boxplot da Área de Tecnologia da Computação por ESTADOS', fontsize=18)    # Configurando o título do gráfico\n",
    "\n",
    "boxplot_uf.set_xlabel('Notas', fontsize=14)    # Configurando o label do eixo X\n",
    "\n",
    "boxplot_uf.set_ylabel('Estados', fontsize=14)    # Configurando o label do eixo Y\n",
    "boxplot_uf.set_yticklabels([key for key in estados.values()], fontsize=12)    # Configurando o label de cada categoria do eixo Y\n",
    "\n",
    "boxplot_uf\n",
    "plt.savefig('imagens/graficoboxplot_computacao.png')"
   ]
  },
  {
   "cell_type": "code",
   "execution_count": null,
   "id": "59b630c8-8435-4764-b4bf-4e59a6a8459f",
   "metadata": {},
   "outputs": [],
   "source": [
    "dados.head()"
   ]
  },
  {
   "cell_type": "code",
   "execution_count": null,
   "id": "cc9cc872-5b97-43bd-9ef7-195d15e9e8fc",
   "metadata": {},
   "outputs": [],
   "source": [
    "lista_ano = list(dados['ANO'].unique())\n",
    "qtd_ano = list(dados['ANO'].value_counts())"
   ]
  },
  {
   "cell_type": "code",
   "execution_count": null,
   "id": "1acf0978-d971-4313-b971-a699d719b13b",
   "metadata": {},
   "outputs": [],
   "source": [
    "qtd_ano\n",
    "lista_ano"
   ]
  },
  {
   "cell_type": "markdown",
   "id": "0ad27e42-8e5a-46c9-8b85-10b1aa8fb123",
   "metadata": {},
   "source": [
    "Quantidade de participantes"
   ]
  },
  {
   "cell_type": "code",
   "execution_count": null,
   "id": "c938c8f5-7316-4068-b08a-5af534074b22",
   "metadata": {},
   "outputs": [],
   "source": [
    "# Create bars\n",
    "ano = []\n",
    "plt.bar(lista_ano, qtd_ano)\n",
    "\n",
    "# Create names on the x-axis\n",
    "plt.xticks(lista_ano)\n",
    "\n",
    "# Show graphic\n",
    "plt.show()"
   ]
  },
  {
   "cell_type": "code",
   "execution_count": null,
   "id": "54d58bbf-601e-4df2-98e1-6f2feec8cae7",
   "metadata": {},
   "outputs": [],
   "source": [
    "dados['SEXO'].value_counts()"
   ]
  },
  {
   "cell_type": "code",
   "execution_count": null,
   "id": "919b1a0b-73a9-43b3-8a99-842407681417",
   "metadata": {},
   "outputs": [],
   "source": [
    "\n",
    "# use the scatterplot function to build the bubble map\n",
    "sns.scatterplot(data=dados, x=\"matematica\", y=\"fundamentos_computacao\", size=\"tecnologia_computacao\", legend=False, sizes=(20, 2000))\n",
    "\n",
    "# show the graph\n",
    "plt.show()"
   ]
  },
  {
   "cell_type": "code",
   "execution_count": null,
   "id": "a9ebe796-684b-4719-879c-02e66b231aaf",
   "metadata": {},
   "outputs": [],
   "source": [
    "dados.head()"
   ]
  },
  {
   "cell_type": "code",
   "execution_count": null,
   "id": "8a517157-d88d-491e-b280-f6a31b712fac",
   "metadata": {},
   "outputs": [],
   "source": [
    "dados_eixo_area = dados.iloc[:,32:35]\n",
    "dados_eixo_area.head()"
   ]
  },
  {
   "cell_type": "code",
   "execution_count": null,
   "id": "24939ec8-2383-47c3-8963-55f104b9c0d5",
   "metadata": {},
   "outputs": [],
   "source": [
    "sns.pairplot(dados_eixo_area)\n",
    "plt.show()"
   ]
  },
  {
   "cell_type": "code",
   "execution_count": null,
   "id": "0335f114-1ea6-4630-be31-bf17de2c0f4f",
   "metadata": {},
   "outputs": [],
   "source": [
    "dados.head()"
   ]
  },
  {
   "cell_type": "code",
   "execution_count": null,
   "id": "9f14c5aa-3f1e-404f-849f-79c9bf2f57ca",
   "metadata": {},
   "outputs": [],
   "source": [
    "dados_materias = dados.iloc[:,6:32]\n",
    "dados_materias.describe()"
   ]
  },
  {
   "cell_type": "code",
   "execution_count": null,
   "id": "f9456b4c-ea5d-4cd0-992a-e85213082475",
   "metadata": {},
   "outputs": [],
   "source": [
    "ano = [2016,2017,2018,2019]"
   ]
  },
  {
   "cell_type": "code",
   "execution_count": null,
   "id": "9c212d9f-9e75-4136-9b83-7443f965fb9d",
   "metadata": {},
   "outputs": [],
   "source": [
    "def percentageDict(means):\n",
    "    percentage_subjects = {}\n",
    "    for subject in means:\n",
    "        percentage_subjects_edition = []\n",
    "        for i in range(len(ano)):\n",
    "            edition_subject_mean = means[subject].iloc[i]\n",
    "            if subject in dados_materias.columns:\n",
    "                percentage_subjects_edition += [edition_subject_mean / 2 * 100] # 2 -> número de questões que caíram\n",
    "            else:\n",
    "                percentage_subjects_edition += [edition_subject_mean / 3 * 100]\n",
    "        percentage_subjects[subject] = percentage_subjects_edition\n",
    "    return percentage_subjects"
   ]
  },
  {
   "cell_type": "code",
   "execution_count": null,
   "id": "609d16e9-2a08-4c95-bc58-87351320aeaf",
   "metadata": {},
   "outputs": [],
   "source": [
    "porcentagem_brasil = percentageDict(dados_materias)\n",
    "porcentagem_brasil"
   ]
  },
  {
   "cell_type": "code",
   "execution_count": null,
   "id": "dbb41c61-358b-4150-accf-67d4678597b6",
   "metadata": {},
   "outputs": [],
   "source": [
    "# range_questions = np.arange(4)\n",
    "# sns.set_palette('Set2')\n",
    "# sns.set_style('white')\n",
    "# fig = plt.figure(figsize=(20, 18))\n",
    "# spec = fig.add_gridspec(ncols=5, nrows=5)\n",
    "# i = 0\n",
    "# j = 0\n",
    "# for subject in porcentagem_brasil:\n",
    "#     if j == 5:\n",
    "#         i += 1\n",
    "#         j = 0\n",
    "#     ax = fig.add_subplot(spec[i,j])\n",
    "#     ax.plot(dados_materias[subject], label = 'Brasil', lw = 2)\n",
    "#     ax.set_yticks([0,25,50,75,100])\n",
    "#     ax.set_xticks(range_questions)\n",
    "#     ax.set_ylabel('Acertos')\n",
    "#     ax.set_xlabel('Edição')\n",
    "#     ax.set_title(subject)\n",
    "#     ax.set_xticklabels(ano)\n",
    "#     ax.set_yticklabels(['0%','25%','50%','75%','100%'])\n",
    "#     ax.legend()\n",
    "#     j += 1\n",
    "\n",
    "# fig.suptitle('Porcentagem de acerto por matéria')\n",
    "# fig.tight_layout()\n",
    "# plt.show()"
   ]
  },
  {
   "cell_type": "code",
   "execution_count": null,
   "id": "a1f39ad6-84ed-4acd-b31a-767a09a285d2",
   "metadata": {},
   "outputs": [],
   "source": [
    "media = dados_materias.mean().sort_values()\n",
    "materais_name = media.keys()\n",
    "\n",
    "fig, ax = plt.subplots(figsize=(10, 10))\n",
    "ax.barh(materais_name, media)\n",
    "labels = ax.get_xticklabels()\n",
    "plt.setp(labels, rotation=45, horizontalalignment='right')\n",
    "\n",
    "ax.axvline(1.0, ls='-', color='black')\n",
    "\n",
    "plt.show()"
   ]
  },
  {
   "cell_type": "code",
   "execution_count": null,
   "id": "3ff9cc3e-b0ee-4244-be2e-10ed2abcbf18",
   "metadata": {},
   "outputs": [],
   "source": [
    "desvio_padrao = dados_materias.std().sort_values()\n",
    "materais_name_std = desvio_padrao.keys()\n",
    "\n",
    "fig, ax = plt.subplots(figsize=(10, 10))\n",
    "ax.barh(materais_name_std, desvio_padrao)\n",
    "labels = ax.get_xticklabels()\n",
    "plt.setp(labels, rotation=45, horizontalalignment='right')\n",
    "\n",
    "ax.axvline(desvio_padrao.mean(), ls='-', color='black')\n",
    "\n",
    "plt.show()"
   ]
  },
  {
   "cell_type": "code",
   "execution_count": null,
   "id": "41c8d57d-c433-4af8-8529-419c88c250eb",
   "metadata": {},
   "outputs": [],
   "source": [
    "areas_mais_requisitadas = dados['ESPECIALIDADE'].value_counts()[:10]\n",
    "areas_labels = areas_mais_requisitadas.keys()\n",
    "\n",
    "fig, ax = plt.subplots(figsize=(10, 10))\n",
    "ax.barh(areas_labels, areas_mais_requisitadas)\n",
    "labels = ax.get_xticklabels()\n",
    "plt.setp(labels, rotation=45, horizontalalignment='right')\n",
    "\n",
    "# ax.axvline(desvio_padrao.mean(), ls='-', color='black')\n",
    "\n",
    "plt.show()"
   ]
  },
  {
   "cell_type": "markdown",
   "id": "023378b2-b23e-4810-aeb2-c810f2bd25d9",
   "metadata": {},
   "source": [
    "Nuvem de palavras"
   ]
  },
  {
   "cell_type": "code",
   "execution_count": null,
   "id": "3e59e990-ce4e-401a-a6cf-a55c320896a0",
   "metadata": {},
   "outputs": [],
   "source": [
    "# list(dados['ESPECIALIDADE'].unique())\n",
    "dados_especialidades = dados.loc[:,['ESPECIALIDADE']]\n",
    "# dados_especialidades[dados_especialidades['ESPECIALIDADE'] == 'engenharia de software']\n",
    "# dados_especialidades['ESPECIALIDADE'][85].split(' e ')\n",
    "dados_especialidades"
   ]
  },
  {
   "cell_type": "code",
   "execution_count": null,
   "id": "777cf5f7-a206-4b31-8733-af8c95cb3834",
   "metadata": {},
   "outputs": [],
   "source": [
    "# # Libraries\n",
    "# from wordcloud import WordCloud, STOPWORDS, ImageColorGenerator\n",
    "# import matplotlib.pyplot as plt\n",
    "\n",
    "# # Create a list of word\n",
    "# text = dados_especialidades['ESPECIALIDADE'].tolist()\n",
    "\n",
    "\n",
    "# # Create the wordcloud object\n",
    "# wordcloud2 = WordCloud(width=6000, height=4000, \n",
    "#                        background_color=\"white\", \n",
    "#                        random_state=1, \n",
    "#                        min_word_length=2).generate(','.join(text))\n",
    "# # WordCloud.generate_from_frequencies\n",
    "\n",
    "# # Display the generated image:\n",
    "# plt.imshow(wordcloud2, interpolation=\"bilinear\")\n",
    "# plt.axis(\"off\")\n",
    "# # plt.margins(x=10, y=1)\n",
    "# plt.savefig('imagens/nuvem_palavras.png', format='png', dpi = 300, bbox_inches='tight')\n",
    "# plt.show()"
   ]
  },
  {
   "cell_type": "markdown",
   "id": "1c2e420e-a06a-4571-b2a3-56422aebbf87",
   "metadata": {
    "tags": []
   },
   "source": [
    "## K-means"
   ]
  },
  {
   "cell_type": "code",
   "execution_count": null,
   "id": "85e440cc-6d5b-4e20-9a4e-c50eac8ab4f3",
   "metadata": {},
   "outputs": [],
   "source": [
    "from sklearn.cluster import KMeans"
   ]
  },
  {
   "cell_type": "code",
   "execution_count": null,
   "id": "6ffd0185-4b26-476f-b082-6e4e08b4ffac",
   "metadata": {},
   "outputs": [],
   "source": [
    "dataset = dados.copy()\n",
    "dataset_kmeans = dataset.drop(columns=['ESPECIALIDADE','PRESENTE', 'CARGO', 'ANO', 'REGIAO'])\n",
    "# dataset_kmeans['soma'] = dataset_kmeans['matematica'] + dataset_kmeans['fundamentos_computacao'] + dataset_kmeans['tecnologia_computacao']\n",
    "dataset_kmeans.head()"
   ]
  },
  {
   "cell_type": "code",
   "execution_count": null,
   "id": "547e7541-32fd-40ac-b812-771a91303db0",
   "metadata": {},
   "outputs": [],
   "source": [
    "dataset_kmeans = dataset_kmeans.dropna()\n",
    "X_dataset_kmeans = dataset_kmeans.loc[:,['matematica', 'fundamentos_computacao','tecnologia_computacao']]\n",
    "# X_dataset_kmeans = dataset_kmeans.loc[:,['matematica', 'fundamentos_computacao']]"
   ]
  },
  {
   "cell_type": "markdown",
   "id": "ce83be14-6820-41a2-9549-5d46529aca6c",
   "metadata": {},
   "source": [
    "### Padronizando os dados"
   ]
  },
  {
   "cell_type": "code",
   "execution_count": null,
   "id": "92fe0526-1daf-4ea5-a2b6-67c41d957c46",
   "metadata": {},
   "outputs": [],
   "source": [
    "from sklearn import preprocessing\n",
    "\n",
    "# scaler_poscomp = StandardScaler()\n",
    "# X_dataset_kmeans = scaler_poscomp.fit_transform(X_dataset_kmeans)\n",
    "# X_dataset_kmeans\n",
    "\n",
    "min_max_scaler = preprocessing.MinMaxScaler()\n",
    "X_dataset_kmeans = min_max_scaler.fit_transform(X_dataset_kmeans)"
   ]
  },
  {
   "cell_type": "markdown",
   "id": "e066e2c9-dc29-4c6a-8298-3e515de544f2",
   "metadata": {
    "tags": []
   },
   "source": [
    "### Encontrar o número ideal de cluster"
   ]
  },
  {
   "cell_type": "code",
   "execution_count": null,
   "id": "23ffd5bf-db82-47fb-b629-57c3c08b80c4",
   "metadata": {},
   "outputs": [],
   "source": [
    "# Crie uma lista vazia para armazenar as inércia dos clusters para diferentes valores de k\n",
    "inertias = []\n",
    "\n",
    "# Teste diferentes valores de k\n",
    "for k in range(1, 11):\n",
    "    # Treine o modelo KMeans com o número atual de clusters\n",
    "    kmeans = KMeans(n_clusters=k, n_init='auto')\n",
    "    kmeans.fit(X_dataset_kmeans)\n",
    "\n",
    "\n",
    "    # Adicione a inércia do cluster atual à lista\n",
    "    inertias.append(kmeans.inertia_)\n",
    "\n",
    "# Plote a inércia x k\n",
    "plt.plot(range(1, 11), inertias)\n",
    "plt.xlabel('Number of clusters')\n",
    "plt.ylabel('Inertia')\n",
    "plt.show()"
   ]
  },
  {
   "cell_type": "code",
   "execution_count": null,
   "id": "e04c3b56-6db6-4787-a0ac-48edfcea7143",
   "metadata": {},
   "outputs": [],
   "source": [
    "from sklearn.metrics import silhouette_score\n",
    "\n",
    "# Crie uma lista vazia para armazenar os scores de silhueta para diferentes valores de k\n",
    "scores = []\n",
    "\n",
    "# Teste diferentes valores de k\n",
    "for k in range(2, 11):\n",
    "    # Treine o modelo KMeans com o número atual de clusters\n",
    "    kmeans = KMeans(n_clusters=k, n_init='auto')\n",
    "    kmeans.fit(X_dataset_kmeans)\n",
    "\n",
    "    # Calcule o score de silhueta para os clusters atuais\n",
    "    score = silhouette_score(X_dataset_kmeans, kmeans.labels_)\n",
    "    scores.append(score)\n",
    "\n",
    "# Plote o score de silhueta x k\n",
    "plt.plot(range(2, 11), scores)\n",
    "plt.xlabel('Number of clusters')\n",
    "plt.ylabel('Silhouette Score')\n",
    "plt.show()"
   ]
  },
  {
   "cell_type": "code",
   "execution_count": null,
   "id": "bb1d210b-e89c-4692-8f64-d92e037c9169",
   "metadata": {},
   "outputs": [],
   "source": [
    "# Plotar BIC/AIC para encontrar o número de cluster\n",
    "from sklearn.mixture import GaussianMixture\n",
    "\n",
    "# Crie uma lista vazia para armazenar os valores BIC e AIC\n",
    "bic_values = []\n",
    "aic_values = []\n",
    "\n",
    "# Teste diferentes valores de k\n",
    "for k in range(1, 11):\n",
    "    # Crie um modelo GaussianMixture com o número atual de clusters\n",
    "    gmm = GaussianMixture(n_components=k)\n",
    "    gmm.fit(X_dataset_kmeans)\n",
    "    \n",
    "    # Armazena os valores BIC e AIC\n",
    "    bic_values.append(gmm.bic(X_dataset_kmeans))\n",
    "    aic_values.append(gmm.aic(X_dataset_kmeans))\n",
    "\n",
    "# Plot BIC x k\n",
    "plt.plot(range(1, 11), bic_values, label=\"BIC\")\n",
    "# Plot AIC x k\n",
    "plt.plot(range(1, 11), aic_values, label=\"AIC\")\n",
    "plt.xlabel('Number of clusters')\n",
    "plt.ylabel('BIC/AIC')\n",
    "plt.legend()\n",
    "plt.show()"
   ]
  },
  {
   "cell_type": "code",
   "execution_count": null,
   "id": "a8d28931-49c5-4e95-b13a-6cc3400519fb",
   "metadata": {},
   "outputs": [],
   "source": [
    "wcss = []\n",
    "for i in range(1,11):\n",
    "    kmeans = KMeans(n_clusters=i, n_init='auto')\n",
    "    kmeans.fit(X_dataset_kmeans)\n",
    "    wcss.append(kmeans.inertia_)"
   ]
  },
  {
   "cell_type": "code",
   "execution_count": null,
   "id": "31f572c7-5fef-434d-bb6d-117af61714b2",
   "metadata": {},
   "outputs": [],
   "source": [
    "print(wcss)"
   ]
  },
  {
   "cell_type": "code",
   "execution_count": null,
   "id": "b821ea54-b686-483d-90e5-596f4a6664d8",
   "metadata": {},
   "outputs": [],
   "source": [
    "plt.plot(wcss, 'bx-')\n",
    "plt.xlabel('Cluster')\n",
    "plt.ylabel('WCSS')"
   ]
  },
  {
   "cell_type": "markdown",
   "id": "6d2bc929-1cf5-47e2-8235-92a9bedba26d",
   "metadata": {},
   "source": [
    "#### Outro BIC/AIC"
   ]
  },
  {
   "cell_type": "markdown",
   "id": "71edaa3c-6e40-4cd4-94b7-c9aebbcbd2ae",
   "metadata": {},
   "source": [
    "#### Outro BIC/AIC"
   ]
  },
  {
   "cell_type": "code",
   "execution_count": null,
   "id": "99ed46bc-4f0d-4f70-97a0-377ff13777e4",
   "metadata": {},
   "outputs": [],
   "source": [
    "# kmeans_poscomp = KMeans(n_clusters=3, n_init='auto')\n",
    "# rotulos_kmeans = kmeans_poscomp.fit_predict(X_dataset_kmeans)\n",
    "# X_dataset_kmeans\n",
    "model = KMeans(n_clusters=2, n_init=4, random_state=0, init='k-means++', max_iter=300)\n",
    "model.fit(X_dataset_kmeans)\n",
    "dataset_kmeans['Grupo'] = model.predict(X_dataset_kmeans)\n",
    "dataset_kmeans.head()"
   ]
  },
  {
   "cell_type": "code",
   "execution_count": null,
   "id": "4669c667-ddd4-425b-a124-f5558a9a21b4",
   "metadata": {},
   "outputs": [],
   "source": [
    "# sns.scatterplot(data=dataset_kmeans, x=\"matematica\", y=\"fundamentos_computacao\", hue='Grupo', style='Grupo', palette='tab10')\n",
    "# plt.show()\n",
    "\n",
    "sns.set(style=\"darkgrid\")\n",
    "fig = plt.figure(figsize = (20, 10))\n",
    "ax = plt.axes(projection = '3d')\n",
    "sctt= ax.scatter3D(dataset_kmeans['matematica'], dataset_kmeans['fundamentos_computacao'], dataset_kmeans['tecnologia_computacao'], c = dataset_kmeans['Grupo'])\n",
    "plt.savefig('imagens/grafico_kmeans.png', dpi = 300, bbox_inches='tight')"
   ]
  },
  {
   "cell_type": "markdown",
   "id": "337e1cd5-8d08-4d44-81fd-a34a5843a688",
   "metadata": {
    "jp-MarkdownHeadingCollapsed": true,
    "tags": []
   },
   "source": [
    "### Definindo grupos"
   ]
  },
  {
   "cell_type": "code",
   "execution_count": null,
   "id": "d7793177-5b33-42d7-9a95-30b4aa83f61a",
   "metadata": {},
   "outputs": [],
   "source": [
    "# grafico = px.scatter(x= X_notas_pca[:,0], y = X_notas_pca[:,1], color=rotulos)\n",
    "# grafico.show()\n",
    "sns.set(style=\"darkgrid\")\n",
    "fig = plt.figure(figsize = (20, 10))\n",
    "ax = plt.axes(projection = '3d')\n",
    "sctt= ax.scatter3D(X_dataset_kmeans[:,0], X_dataset_kmeans[:,1], X_dataset_kmeans[:,2], c = rotulos_kmeans)\n",
    "plt.savefig('imagens/grafico_kmeans.png', dpi = 300, bbox_inches='tight')"
   ]
  },
  {
   "cell_type": "code",
   "execution_count": null,
   "id": "222e5de3-24ac-4086-8c51-c600452c4b77",
   "metadata": {},
   "outputs": [],
   "source": [
    "lista_clientes = np.column_stack((dataset_kmeans, rotulos_kmeans))\n",
    "lista_clientes = lista_clientes[lista_clientes[:,3].argsort()]\n",
    "lista_clientes"
   ]
  },
  {
   "cell_type": "code",
   "execution_count": null,
   "id": "f929fdb1-5e3c-4cba-a0a2-8e344bf2a51d",
   "metadata": {},
   "outputs": [],
   "source": [
    "frame = pd.DataFrame(dataset_kmeans.groupby(['Grupo','ESTADO'])['matematica', 'fundamentos_computacao','tecnologia_computacao'].sum())"
   ]
  },
  {
   "cell_type": "code",
   "execution_count": null,
   "id": "60c766fb-bc1c-47f6-b677-953e93a0ea91",
   "metadata": {},
   "outputs": [],
   "source": [
    "# dataset_kmeans"
   ]
  },
  {
   "cell_type": "code",
   "execution_count": null,
   "id": "cb003c8e-812e-4f25-9aa7-ae851566bd65",
   "metadata": {},
   "outputs": [],
   "source": [
    "pd.set_option('display.max_rows', None)"
   ]
  },
  {
   "cell_type": "code",
   "execution_count": null,
   "id": "48ab13c3-5ad4-45c7-95ca-5b9c90d8f19c",
   "metadata": {},
   "outputs": [],
   "source": [
    "frame"
   ]
  },
  {
   "cell_type": "code",
   "execution_count": null,
   "id": "45018841-c992-485f-9215-5934c87d27fb",
   "metadata": {},
   "outputs": [],
   "source": [
    "frame.to_csv('frame.csv')"
   ]
  },
  {
   "cell_type": "markdown",
   "id": "2d81305a-b028-4b89-be8c-d4e53e772fd3",
   "metadata": {
    "jp-MarkdownHeadingCollapsed": true,
    "tags": []
   },
   "source": [
    "## DBSCAN"
   ]
  },
  {
   "cell_type": "code",
   "execution_count": null,
   "id": "50351cae-d2c2-4257-ba16-0aa96b7cf1b2",
   "metadata": {},
   "outputs": [],
   "source": [
    "from sklearn.cluster import DBSCAN\n",
    "from sklearn import metrics\n",
    "from itertools import product"
   ]
  },
  {
   "cell_type": "code",
   "execution_count": null,
   "id": "9cb3e10a-873e-4078-91ed-54a67cf01fa9",
   "metadata": {},
   "outputs": [],
   "source": [
    "dataset = dados.copy()\n",
    "dataset_dbscan = dataset.drop(columns=['ESPECIALIDADE','PRESENTE', 'CARGO', 'ANO', 'REGIAO'])\n",
    "# dataset_kmeans['soma'] = dataset_kmeans['matematica'] + dataset_kmeans['fundamentos_computacao'] + dataset_kmeans['tecnologia_computacao']\n",
    "dataset_dbscan.head()"
   ]
  },
  {
   "cell_type": "code",
   "execution_count": null,
   "id": "1ba63191-0de5-48e0-810e-0d85f140c7c1",
   "metadata": {},
   "outputs": [],
   "source": [
    "dataset_dbscan = dataset_dbscan.dropna()\n",
    "X_dataset_dbscan = dataset_dbscan.loc[:,['matematica', 'fundamentos_computacao','tecnologia_computacao']]"
   ]
  },
  {
   "cell_type": "code",
   "execution_count": null,
   "id": "874c5ba4-204f-436e-8165-1e5e62df45c2",
   "metadata": {},
   "outputs": [],
   "source": [
    "X_poscompDB = np.array(X_dataset_dbscan)"
   ]
  },
  {
   "cell_type": "markdown",
   "id": "9e247b71-b29e-4598-ad7b-fbcb6aae5317",
   "metadata": {},
   "source": [
    "Determinar os valores de eps e min_simples"
   ]
  },
  {
   "cell_type": "code",
   "execution_count": null,
   "id": "303ec35d-f2dd-4817-ad31-9659c316de23",
   "metadata": {},
   "outputs": [],
   "source": [
    "db = DBSCAN(eps=1.5, min_samples=8, metric='euclidean').fit(X_poscompDB)\n",
    "rotulos_DBSCAN = db.labels_\n",
    "rotulos_DBSCAN\n",
    "np.unique(rotulos_DBSCAN, return_counts=True)"
   ]
  },
  {
   "cell_type": "code",
   "execution_count": null,
   "id": "076ad7c1-edc6-4a7c-8347-d0994509b1ad",
   "metadata": {},
   "outputs": [],
   "source": [
    "import itertools\n",
    "pca_eps_values = np.arange(0.1,1.6,0.1)\n",
    "pca_min_samples = np.arange(2,9)\n",
    "pca_dbscan_params = list(itertools.product(pca_eps_values, pca_min_samples))\n",
    "pca_dbscan_params\n",
    "pca_no_of_clusters = []\n",
    "pca_sil_score = []\n",
    "pca_epsvalues = []\n",
    "pca_min_samp = []\n",
    "for p in pca_dbscan_params:pca_dbscan_cluster = DBSCAN(eps=p[0], min_samples=p[1]).fit(X_poscompDB)\n",
    "pca_epsvalues.append(p[0])\n",
    "pca_min_samp.append(p[1])\n",
    "pca_no_of_clusters.append(len(np.unique(pca_dbscan_cluster.labels_)))\n",
    "pca_sil_score.append(silhouette_score(X_poscompDB, pca_dbscan_cluster.labels_))\n",
    "pca_eps_min = list(zip(pca_no_of_clusters, pca_sil_score, pca_epsvalues, pca_min_samp))\n",
    "pca_eps_min_df = pd.DataFrame(pca_eps_min, columns=[['no_of_clusters', 'silhouette_score', 'epsilon_values', 'minimum_points']])\n",
    "pca_eps_min_df"
   ]
  },
  {
   "cell_type": "code",
   "execution_count": null,
   "id": "04364cd7-8e7a-464a-a147-f8f7acd202d2",
   "metadata": {},
   "outputs": [],
   "source": [
    "print('Estimated number of clusters: %d' % n_clusters_)\n",
    "print('Estimated number of noise points: %d' % n_noise_)\n",
    "print(\"Silhouette Coefficient: %0.3f\"\n",
    "  % metrics.silhouette_score(X_poscompDB, rotulos_DBSCAN))"
   ]
  },
  {
   "cell_type": "code",
   "execution_count": null,
   "id": "f48200d2-73ad-40b9-bd8b-337f783ddeca",
   "metadata": {},
   "outputs": [],
   "source": [
    "n_clusters_ = len(set(rotulos_DBSCAN)) - (1 if -1 in rotulos_DBSCAN else 0)\n",
    "n_noise_ = list(rotulos_DBSCAN).count(-1)\n",
    "n_clusters_"
   ]
  },
  {
   "cell_type": "code",
   "execution_count": null,
   "id": "d4d872ae-c234-42f2-b675-4eabfa5a1f04",
   "metadata": {},
   "outputs": [],
   "source": [
    "# grafico = px.scatter(x= X_notas_pca[:,0], y = X_notas_pca[:,1], color=rotulos)\n",
    "# grafico.show()\n",
    "fig = plt.figure(figsize = (20, 10))\n",
    "ax = plt.axes(projection = '3d')\n",
    "ax.scatter3D(X_poscompDB[:,0], X_poscompDB[:,1], X_poscompDB[:,2], c = rotulos_DBSCAN)\n",
    "plt.savefig('imagens/grafico_dbscan.png', dpi = 300, bbox_inches='tight')"
   ]
  },
  {
   "cell_type": "code",
   "execution_count": null,
   "id": "0a41d6ed-2a1f-45e7-b512-d9130fdd11bc",
   "metadata": {},
   "outputs": [],
   "source": [
    "# grafico = px.scatter(x= X_pca_dataset_dbscan[:,0], y= X_pca_dataset_dbscan[:,1], color=rotulos_DBSCAN)\n",
    "# grafico.show()"
   ]
  },
  {
   "cell_type": "code",
   "execution_count": null,
   "id": "a4806c16-580f-4d6a-9b9c-15def9c47014",
   "metadata": {},
   "outputs": [],
   "source": [
    "lista_dbscan = np.column_stack((dataset_dbscan, rotulos_DBSCAN))\n",
    "lista_dbscan = lista_dbscan[lista_dbscan[:,3].argsort()]\n",
    "lista_dbscan"
   ]
  },
  {
   "cell_type": "code",
   "execution_count": null,
   "id": "81261b71-be45-47bf-afa7-931d5518cb80",
   "metadata": {},
   "outputs": [],
   "source": [
    "dataset_dbscan['grupos'] = rotulos_DBSCAN\n",
    "dataset_dbscan['ESTADO'] = dataset_dbscan['ESTADO'].replace(estados)"
   ]
  },
  {
   "cell_type": "code",
   "execution_count": null,
   "id": "672bfc65-3662-478d-a2af-768b22c21a66",
   "metadata": {},
   "outputs": [],
   "source": [
    "frame_dbscan = pd.DataFrame(dataset_dbscan.groupby(['grupos','ESTADO'])['matematica', 'fundamentos_computacao','tecnologia_computacao'].sum())"
   ]
  },
  {
   "cell_type": "code",
   "execution_count": null,
   "id": "15104814-17ce-4f8b-822d-1e375787573d",
   "metadata": {},
   "outputs": [],
   "source": [
    "frame_dbscan"
   ]
  },
  {
   "cell_type": "markdown",
   "id": "b895e17c-9ae8-48cf-a9a4-b899fbe1365e",
   "metadata": {
    "tags": []
   },
   "source": [
    "## Agrupamento hierárquico"
   ]
  },
  {
   "cell_type": "code",
   "execution_count": null,
   "id": "c6e0ef6e-e559-4a9e-b0c6-40d8c68f6f4a",
   "metadata": {},
   "outputs": [],
   "source": [
    "from scipy.cluster.hierarchy import dendrogram, linkage"
   ]
  },
  {
   "cell_type": "code",
   "execution_count": null,
   "id": "0cd8ecdb-dcf0-47b6-9ac8-4f89e97b602a",
   "metadata": {},
   "outputs": [],
   "source": [
    "dataset = dados.copy()\n",
    "dataset_hierarquico = dataset.iloc[:,[1,32,33,34]]\n",
    "dataset_hierarquico = dataset_hierarquico.dropna()\n",
    "X_dataset_hierarquico = dataset_hierarquico.values"
   ]
  },
  {
   "cell_type": "code",
   "execution_count": null,
   "id": "24615829-80ad-4ca9-b92d-737a97e01cc0",
   "metadata": {},
   "outputs": [],
   "source": [
    "dendrograma = dendrogram(linkage(dataset_hierarquico, method='ward'))\n",
    "plt.title('Dendrograma')\n",
    "plt.xlabel('ESTADO')\n",
    "plt.ylabel('Distância');"
   ]
  },
  {
   "cell_type": "code",
   "execution_count": null,
   "id": "8ba17f71-bd90-4529-a34e-36da22465a65",
   "metadata": {},
   "outputs": [],
   "source": [
    "from sklearn.cluster import AgglomerativeClustering"
   ]
  },
  {
   "cell_type": "code",
   "execution_count": null,
   "id": "b352f707-2c00-430b-b0bd-64fd9643d67a",
   "metadata": {},
   "outputs": [],
   "source": [
    "ah_poscomp = AgglomerativeClustering(n_clusters=3, linkage='ward', affinity='euclidean')\n",
    "rotulos_ah = ah_poscomp.fit_predict(X_dataset_hierarquico)"
   ]
  },
  {
   "cell_type": "code",
   "execution_count": null,
   "id": "e8844770-6adc-4b84-8934-45cb67cca566",
   "metadata": {},
   "outputs": [],
   "source": [
    "rotulos_ah"
   ]
  },
  {
   "cell_type": "code",
   "execution_count": null,
   "id": "41f5f0e2-dedb-42b0-9245-e80052341da9",
   "metadata": {},
   "outputs": [],
   "source": [
    "# grafico = px.scatter(x= X_notas_pca[:,0], y = X_notas_pca[:,1], color=rotulos)\n",
    "# grafico.show()\n",
    "fig = plt.figure(figsize = (20, 10))\n",
    "ax = plt.axes(projection = '3d')\n",
    "ax.scatter3D(X_dataset_hierarquico[:,0], X_dataset_hierarquico[:,1], X_dataset_hierarquico[:,2], c = rotulos_ah)\n",
    "plt.savefig('imagens/grafico_hierarquico.jpg', dpi = 300, bbox_inches='tight')"
   ]
  },
  {
   "cell_type": "code",
   "execution_count": null,
   "id": "d611f11e-f9dd-422a-890c-680a01df0169",
   "metadata": {},
   "outputs": [],
   "source": [
    "lista_hierarquico = np.column_stack((dataset_hierarquico, rotulos_ah))\n",
    "lista_hierarquico = lista_hierarquico[lista_hierarquico[:,3].argsort()]\n",
    "lista_hierarquico"
   ]
  },
  {
   "cell_type": "code",
   "execution_count": null,
   "id": "91c5c47b-842d-43b9-a485-c5477a89bd4b",
   "metadata": {},
   "outputs": [],
   "source": [
    "dataset_hierarquico['grupos'] = rotulos_ah\n",
    "dataset_hierarquico['ESTADO'] = dataset_hierarquico['ESTADO'].replace(estados)"
   ]
  },
  {
   "cell_type": "code",
   "execution_count": null,
   "id": "58744e6b-9ad4-44f7-811b-cbdea58bf45f",
   "metadata": {},
   "outputs": [],
   "source": [
    "frame_hierarquico = pd.DataFrame(dataset_hierarquico.groupby(['grupos','ESTADO'])['matematica', 'fundamentos_computacao','tecnologia_computacao'].mean())"
   ]
  },
  {
   "cell_type": "code",
   "execution_count": null,
   "id": "915b6fdb-aed5-4dc8-bbc4-28422f84f508",
   "metadata": {},
   "outputs": [],
   "source": [
    "frame_hierarquico"
   ]
  },
  {
   "cell_type": "markdown",
   "id": "64e6ec3d-3c3b-48c9-8f9e-1328b8233aa7",
   "metadata": {},
   "source": [
    "Avaliação dos algoritmos"
   ]
  },
  {
   "cell_type": "code",
   "execution_count": null,
   "id": "b7f0df19-6c69-4996-b62f-1121c8d71870",
   "metadata": {},
   "outputs": [],
   "source": [
    "dataset_hierarquico.head()"
   ]
  },
  {
   "cell_type": "code",
   "execution_count": null,
   "id": "b89df541-5972-4518-8f3d-6f476d5667d1",
   "metadata": {},
   "outputs": [],
   "source": []
  },
  {
   "cell_type": "code",
   "execution_count": null,
   "id": "2a1a417d-1da7-47a3-97be-954984e9b19a",
   "metadata": {},
   "outputs": [],
   "source": [
    "from sklearn.model_selection import train_test_split   # Função que realiza a divisão do dataset\n",
    "X_train, X_test, y_train, y_test = train_test_split(X_dataset_hierarquico, dataset_hierarquico, test_size=0.30) # Divide 20% para teste"
   ]
  },
  {
   "cell_type": "code",
   "execution_count": null,
   "id": "8ce0d8c3-1e77-4e75-a189-94f850cf370d",
   "metadata": {},
   "outputs": [],
   "source": [
    "# Constroi a matriz de confusão para comparar o modelo criado\n",
    "from sklearn.metrics import classification_report, confusion_matrix\n",
    "print(confusion_matrix(y_test, rotulos_ah))\n",
    "print(classification_report(y_test, rotulos_ah))"
   ]
  },
  {
   "cell_type": "code",
   "execution_count": null,
   "id": "72856dda-cac7-4b5e-8a2f-dc1e6b39547a",
   "metadata": {},
   "outputs": [],
   "source": [
    "# dataset_dbscan\n",
    "# dataset_hierarquico\n",
    "# dataset_kmeans"
   ]
  }
 ],
 "metadata": {
  "kernelspec": {
   "display_name": "Python 3 (ipykernel)",
   "language": "python",
   "name": "python3"
  },
  "language_info": {
   "codemirror_mode": {
    "name": "ipython",
    "version": 3
   },
   "file_extension": ".py",
   "mimetype": "text/x-python",
   "name": "python",
   "nbconvert_exporter": "python",
   "pygments_lexer": "ipython3",
   "version": "3.11.1"
  }
 },
 "nbformat": 4,
 "nbformat_minor": 5
}
