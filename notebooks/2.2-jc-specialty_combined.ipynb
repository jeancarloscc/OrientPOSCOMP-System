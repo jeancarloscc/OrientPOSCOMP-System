{
 "cells": [
  {
   "cell_type": "markdown",
   "id": "7b5f8d52-60a6-40ea-ba61-ddd28235e38b",
   "metadata": {},
   "source": [
    "# Combinação das Especialidades"
   ]
  },
  {
   "cell_type": "code",
   "execution_count": 15,
   "id": "a8abb5c0-c02e-432c-a3bf-9be7569c43d9",
   "metadata": {},
   "outputs": [],
   "source": [
    "%run ../services/imports.py\n",
    "%run ../services/visualization.py\n",
    "\n",
    "%run ../services/function.py\n",
    "%run ../services/classifier_evaluation.py"
   ]
  },
  {
   "cell_type": "code",
   "execution_count": 16,
   "id": "2f266646-a154-4850-adbd-20f7a6d0f984",
   "metadata": {},
   "outputs": [],
   "source": [
    "df_poscomp = pd.read_csv('../dados/processed/dados_poscomp_completo.csv')"
   ]
  },
  {
   "cell_type": "code",
   "execution_count": 21,
   "id": "12ebbecb-27e0-444c-b8dd-157b0e4964ef",
   "metadata": {},
   "outputs": [
    {
     "data": {
      "text/plain": [
       "especialidade\n",
       "inteligência artificial                  2535\n",
       "engenharia de software                   2461\n",
       "sistemas de computação                   1535\n",
       "redes de computadores                    1141\n",
       "sistemas de informação                    818\n",
       "computação aplicada                       683\n",
       "Demais áreas                              604\n",
       "banco de dados                            603\n",
       "otimização                                441\n",
       "aplicações computacionais                 438\n",
       "aprendizado de máquina                    411\n",
       "metodologias e técnicas de computação     335\n",
       "sistemas inteligentes                     295\n",
       "modelagem computacional                   270\n",
       "sistemas embarcados                       254\n",
       "visão computacional                       222\n",
       "teoria da computação                      201\n",
       "computação gráfica                        170\n",
       "ciência de dados                          166\n",
       "tecnologia da informação                  165\n",
       "informática na educação                   162\n",
       "processamento paralelo e distribuído      146\n",
       "linguagens de programação                 134\n",
       "bioinformática                            118\n",
       "computação visual                         109\n",
       "robótica                                   90\n",
       "arquitetura de computadores                76\n",
       "sistemas e tecnologias da computação       68\n",
       "interação humano-computador                68\n",
       "Name: count, dtype: int64"
      ]
     },
     "execution_count": 21,
     "metadata": {},
     "output_type": "execute_result"
    }
   ],
   "source": [
    "df_poscomp['especialidade'].value_counts()"
   ]
  },
  {
   "cell_type": "code",
   "execution_count": 31,
   "id": "ab74af3f-feda-4346-a78f-84570e7a2927",
   "metadata": {},
   "outputs": [],
   "source": [
    "topicos_inteligencia = [\n",
    "    \"inteligência artificial\",\n",
    "    \"computação aplicada\",\n",
    "    \"aprendizado de máquina\",\n",
    "    \"sistemas inteligentes\",\n",
    "    \"visão computacional\",\n",
    "    \"computação gráfica\",\n",
    "    \"ciência de dados\",\n",
    "    \"bioinformática\",\n",
    "    \"computação visual\",\n",
    "    \"robótica\"\n",
    "]\n",
    "\n",
    "# Segunda lista de tópicos em minúsculas\n",
    "topicos_engenharia = [\n",
    "    \"engenharia de software\",\n",
    "    \"metodologias e técnicas de computação\",\n",
    "    \"tecnologia da informação\",\n",
    "    \"informática na educação\",\n",
    "    \"sistemas e tecnologias da computação\",\n",
    "    \"interação humano-computador\"\n",
    "]\n",
    "\n",
    "# Terceira lista de tópicos em minúsculas\n",
    "topicos_sistemas_comp = [\n",
    "    \"sistemas de computação\",\n",
    "    \"banco de dados\",\n",
    "    \"aplicações computacionais\",\n",
    "    \"otimização\",\n",
    "    \"modelagem computacional\"\n",
    "]\n",
    "\n",
    "# Quarta lista de tópicos em minúsculas\n",
    "topicos_redes = [\n",
    "    \"redes de computadores\",\n",
    "    \"sistemas embarcados\",\n",
    "    \"processamento paralelo e distribuído\",\n",
    "    \"arquitetura de computadores\",\n",
    "]\n",
    "\n",
    "topicos_sistemas_info = [\n",
    "    \"sistemas de informação\",\n",
    "    \"Demais áreas\",\n",
    "    \"teoria da computação\",\n",
    "    \"linguagens de programação\"\n",
    "]\n"
   ]
  },
  {
   "cell_type": "code",
   "execution_count": 32,
   "id": "f78645fe-ffa1-47fb-a386-7ff6b3104286",
   "metadata": {
    "tags": []
   },
   "outputs": [
    {
     "data": {
      "text/plain": [
       "linhas_pesquisas\n",
       "inteligência artificial    4799\n",
       "sistemas de computação     3287\n",
       "engenharia de software     3259\n",
       "sistemas de informação     1757\n",
       "redes de computadores      1617\n",
       "Name: count, dtype: int64"
      ]
     },
     "execution_count": 32,
     "metadata": {},
     "output_type": "execute_result"
    }
   ],
   "source": [
    "# Defina as condições e os valores correspondentes para a nova coluna\n",
    "condicoes = [\n",
    "    df_poscomp[\"especialidade\"].isin(topicos_inteligencia),\n",
    "    df_poscomp[\"especialidade\"].isin(topicos_engenharia),\n",
    "    df_poscomp[\"especialidade\"].isin(topicos_sistemas_comp),\n",
    "    df_poscomp[\"especialidade\"].isin(topicos_redes),\n",
    "    df_poscomp[\"especialidade\"].isin(topicos_sistemas_info),\n",
    "]\n",
    "\n",
    "valores = [\n",
    "    \"inteligência artificial\",\n",
    "    \"engenharia de software\",\n",
    "    \"sistemas de computação\",\n",
    "    \"redes de computadores\",\n",
    "    \"sistemas de informação\",\n",
    "]  # Valores correspondentes às condições\n",
    "\n",
    "# Use a função numpy.select para criar a nova coluna\n",
    "df_poscomp[\"linhas_pesquisas\"] = np.select(condicoes, valores, default=\"Demais areas\")\n",
    "\n",
    "# Exiba o DataFrame resultante\n",
    "df_poscomp[\"linhas_pesquisas\"].value_counts()"
   ]
  },
  {
   "cell_type": "code",
   "execution_count": 34,
   "id": "ea54431f-5352-4b96-b948-4ec1607b28b3",
   "metadata": {},
   "outputs": [],
   "source": [
    "df_poscomp.to_csv('teste.csv', index = False)"
   ]
  },
  {
   "cell_type": "code",
   "execution_count": null,
   "id": "7e9d6d1d-e612-4509-a7bd-fe15f6a11c1e",
   "metadata": {
    "tags": []
   },
   "outputs": [],
   "source": [
    "areas_computation = ['inteligência artificial',\n",
    "                     'sistemas de computação'\n",
    "                    ]\n",
    "\n",
    "areas_information = ['redes de computadores',\n",
    "                     'engenharia de software',\n",
    "                     'Outros'\n",
    "                    ]"
   ]
  },
  {
   "cell_type": "code",
   "execution_count": null,
   "id": "323e7632-2949-449c-8c08-099fbeb26b07",
   "metadata": {
    "tags": []
   },
   "outputs": [],
   "source": [
    "# Defina as condições e os valores correspondentes para a nova coluna\n",
    "condicoes = [\n",
    "    df['linhas_pesquisas'].isin(areas_computation),\n",
    "    df['linhas_pesquisas'].isin(areas_information),\n",
    "]\n",
    "\n",
    "valores = ['computacao', 'informatica']  # Valores correspondentes às condições\n",
    "\n",
    "# Use a função numpy.select para criar a nova coluna\n",
    "df['area_concentration'] = np.select(condicoes, valores, default='Outro')\n",
    "\n",
    "# Exiba o DataFrame resultante\n",
    "df['area_concentration'].value_counts()"
   ]
  },
  {
   "cell_type": "code",
   "execution_count": null,
   "id": "4d41292e-0299-46f3-b4b0-6e61d8304c0c",
   "metadata": {},
   "outputs": [],
   "source": [
    "from wordcloud import WordCloud "
   ]
  },
  {
   "cell_type": "code",
   "execution_count": null,
   "id": "9bc35f97-e977-4d09-875b-f782e58e3a4d",
   "metadata": {},
   "outputs": [],
   "source": [
    "text = df['especialidade'].value_counts()[:80]\n",
    "text = text.to_dict()\n",
    "\n",
    "stopwords = set(['o', 'a', 'e', 'é', 'de', 'da', 'do', 'para', ' e'])\n",
    "\n",
    "wordcloud2 = WordCloud(background_color=\"white\",\n",
    "                       random_state=42, \n",
    "                       min_word_length=3,\n",
    "                        width=1000, height=500,\n",
    "                        stopwords=stopwords\n",
    "                       ).generate_from_frequencies(text)\n",
    "# WordCloud.generate_from_frequencies\n",
    "\n",
    "plt.imshow(wordcloud2, interpolation=\"bilinear\")\n",
    "plt.axis(\"off\")\n",
    "# plt.margins(x=0, y=0)\n",
    "plt.savefig('../imagens/nuvem_palavras.pdf', format='pdf', dpi = 300, bbox_inches='tight')\n",
    "plt.show()"
   ]
  },
  {
   "cell_type": "code",
   "execution_count": null,
   "id": "4fdd2acd-55e1-4f76-8023-da38b7ae3e70",
   "metadata": {},
   "outputs": [],
   "source": []
  },
  {
   "cell_type": "code",
   "execution_count": null,
   "id": "a0fc95b8-b45c-4117-a737-6b2b99a07f35",
   "metadata": {
    "tags": []
   },
   "outputs": [],
   "source": [
    "# contagem_areas = data_poscomp.groupby(['ESTADO', 'ESPECIALIDADE']).size().reset_index(name='CONTAGEM')\n",
    "# contagem_areas = contagem_areas.sort_values(['ESTADO', 'CONTAGEM'], ascending=[True, False])\n",
    "# areas_mais_frequentes = contagem_areas.groupby('ESTADO').first().reset_index()\n",
    "# print(areas_mais_frequentes)"
   ]
  },
  {
   "cell_type": "code",
   "execution_count": null,
   "id": "77dd7e4d-b658-434e-8be9-d135753adb9e",
   "metadata": {},
   "outputs": [],
   "source": [
    "df.to_csv('db_poscomp.csv', index=False)"
   ]
  },
  {
   "cell_type": "code",
   "execution_count": null,
   "id": "99f8a0ae-2555-4442-9080-a5d6d9b2f8c2",
   "metadata": {},
   "outputs": [],
   "source": [
    "# Supondo que 'data_poscomp_esp' seja o seu DataFrame\n",
    "qtd = df.groupby(['especialidade', 'estado']).size().reset_index(name='counts')"
   ]
  },
  {
   "cell_type": "code",
   "execution_count": null,
   "id": "974b5c85-9fbf-4dcb-a740-3a9d64c7c41d",
   "metadata": {},
   "outputs": [],
   "source": [
    "# Encontre a especialidade predominante para cada estado\n",
    "idx = qtd.groupby(['estado'])['counts'].transform(max) == qtd['counts']\n",
    "result_df = qtd[idx]"
   ]
  },
  {
   "cell_type": "code",
   "execution_count": null,
   "id": "8695c2b7-33c8-43ac-8a11-c1e4d6886427",
   "metadata": {},
   "outputs": [],
   "source": [
    "visualizacao.barplot_view(result_df.sort_values(['counts'], ascending=False), \n",
    "                          x='estado', y='counts', hue='especialidade', figsize=(16,6), dodge=False,\n",
    "                         save_path='../imagens/especialidades_estados.pdf', title_legend='Linhas de Pesquisas', ylabel=\"Quantidades\",\n",
    "                         xlabel=\"Estados\")"
   ]
  },
  {
   "cell_type": "code",
   "execution_count": null,
   "id": "bb2126d8-e301-48da-b4f2-710bc0519bb0",
   "metadata": {},
   "outputs": [],
   "source": [
    "# Supondo que 'data_poscomp_esp' seja o seu DataFrame\n",
    "qtd_sexo = df.groupby(['especialidade', 'sexo']).size().reset_index(name='counts')"
   ]
  },
  {
   "cell_type": "code",
   "execution_count": null,
   "id": "90f796ed-b0e7-4d46-8d46-22dd5c66e166",
   "metadata": {},
   "outputs": [],
   "source": [
    "masculino = qtd_sexo[qtd_sexo['sexo'] == 'M']\n",
    "# Reorder this data frame\n",
    "masculino = masculino.sort_values(['counts'], ascending=False).reset_index(drop=True)[:10]\n",
    "visualizacao.barplot_view(masculino.sort_values(['counts'], ascending=False), \n",
    "                          y='especialidade', x='counts', figsize=(15,12),\n",
    "                         save_path='../imagens/especialidades_masculino.pdf', ylabel=\"Especialidades\",\n",
    "                         xlabel=\"Quantidades\", show_legend=False, fontsize=30)"
   ]
  },
  {
   "cell_type": "code",
   "execution_count": null,
   "id": "9eaf7c25-2af0-4c03-8c2d-9114a832b63d",
   "metadata": {},
   "outputs": [],
   "source": [
    "feminino = qtd_sexo[qtd_sexo['sexo'] == 'F']\n",
    "feminino = feminino.sort_values(['counts'], ascending=False).reset_index(drop=True)[:9]\n",
    "visualizacao.barplot_view(feminino.sort_values(['counts'], ascending=False), \n",
    "                          y='especialidade', x='counts', figsize=(15,12),\n",
    "                         save_path='../imagens/especialidades_feminina.pdf', ylabel=\"Especialidades\",\n",
    "                         xlabel=\"Quantidades\", show_legend=False, fontsize=30)"
   ]
  },
  {
   "cell_type": "code",
   "execution_count": null,
   "id": "44171ae9-fcfe-496f-b499-38bee351754f",
   "metadata": {},
   "outputs": [],
   "source": [
    "# Encontre a especialidade predominante para cada estado\n",
    "idx_sexo = qtd_sexo.groupby(['sexo'])['counts'].transform(max) == qtd_sexo['counts']\n",
    "result_df_sexo = qtd_sexo[idx_sexo]"
   ]
  },
  {
   "cell_type": "code",
   "execution_count": null,
   "id": "8a45ffe5-bc18-473a-b00b-1e0f7ddc0a5e",
   "metadata": {},
   "outputs": [],
   "source": [
    "result_df_sexo"
   ]
  }
 ],
 "metadata": {
  "kernelspec": {
   "display_name": "Python 3 (ipykernel)",
   "language": "python",
   "name": "python3"
  },
  "language_info": {
   "codemirror_mode": {
    "name": "ipython",
    "version": 3
   },
   "file_extension": ".py",
   "mimetype": "text/x-python",
   "name": "python",
   "nbconvert_exporter": "python",
   "pygments_lexer": "ipython3",
   "version": "3.11.7"
  }
 },
 "nbformat": 4,
 "nbformat_minor": 5
}
