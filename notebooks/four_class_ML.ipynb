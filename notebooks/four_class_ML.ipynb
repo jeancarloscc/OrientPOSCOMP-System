{
 "cells": [
  {
   "cell_type": "markdown",
   "id": "0b6e3b52-5850-4d30-808e-cc286e6e6e36",
   "metadata": {},
   "source": [
    "# Aplicações de Algoritmos de aprendizado de máquina"
   ]
  },
  {
   "cell_type": "code",
   "execution_count": 46,
   "id": "1d394d89-0126-4cbd-8140-28733f583067",
   "metadata": {},
   "outputs": [],
   "source": [
    "%run ../services/imports.py\n",
    "%run ../services/function.py\n",
    "%run ../services/classifier_evaluation.py\n",
    "from sklearn.ensemble import AdaBoostClassifier"
   ]
  },
  {
   "cell_type": "code",
   "execution_count": 56,
   "id": "c4dd3968-ecee-45d0-9d7e-5ec61d73cf1d",
   "metadata": {
    "tags": []
   },
   "outputs": [],
   "source": [
    "dataset = pd.read_csv('../dados/poscomp_frame.csv')"
   ]
  },
  {
   "cell_type": "code",
   "execution_count": 57,
   "id": "6fdd57f0-f977-4987-afe4-433a8e37babe",
   "metadata": {},
   "outputs": [
    {
     "data": {
      "text/plain": [
       "Index(['inscricao', 'sexo', 'estado', 'especialidade', 'matemática discreta',\n",
       "       'cálculo diferencial e integral', 'álgebra linear',\n",
       "       'geometria analítica', 'análise combinatória',\n",
       "       'probabilidade e estatística', 'lógica matemática',\n",
       "       'organização de arquivos e dados', 'técnicas de programação',\n",
       "       'circuitos digitais', 'análise de algoritmos', 'teoria dos grafos',\n",
       "       'linguagens formais, autômatos e computabilidade',\n",
       "       'algoritmos e estruturas de dados', 'linguagens de programação',\n",
       "       'sistemas operacionais', 'arquitetura e organização de computadores',\n",
       "       'redes de computadores', 'computação gráfica',\n",
       "       'inteligência artificial', 'engenharia de software',\n",
       "       'sistemas distribuídos', 'compiladores', 'processamento de imagens',\n",
       "       'banco de dados', 'idade', 'matematica', 'fund_computacao',\n",
       "       'tec_computacao', 'total', 'linhas_pesquisas', 'area_concentration'],\n",
       "      dtype='object')"
      ]
     },
     "execution_count": 57,
     "metadata": {},
     "output_type": "execute_result"
    }
   ],
   "source": [
    "dataset.columns"
   ]
  },
  {
   "cell_type": "code",
   "execution_count": 58,
   "id": "499ac9ee-ca00-4716-9c13-bd47839a3250",
   "metadata": {
    "tags": []
   },
   "outputs": [],
   "source": [
    "X_dataset = dataset.loc[:,['idade','estado','matematica','inteligência artificial','redes de computadores',\n",
    "                           'engenharia de software','fund_computacao','tec_computacao','total','linhas_pesquisas']]"
   ]
  },
  {
   "cell_type": "code",
   "execution_count": 59,
   "id": "8aa33030-d7ce-4ff0-a8b9-4300ef041717",
   "metadata": {},
   "outputs": [],
   "source": [
    "X_dataset = X_dataset[(X_dataset['total'] > 17) & (X_dataset['linhas_pesquisas'] != 'Outros') & (X_dataset['total'] < 55)]"
   ]
  },
  {
   "cell_type": "code",
   "execution_count": 60,
   "id": "2d0a0160-c8f2-4701-85a4-11b78cc4a3f7",
   "metadata": {},
   "outputs": [
    {
     "data": {
      "text/html": [
       "<div>\n",
       "<style scoped>\n",
       "    .dataframe tbody tr th:only-of-type {\n",
       "        vertical-align: middle;\n",
       "    }\n",
       "\n",
       "    .dataframe tbody tr th {\n",
       "        vertical-align: top;\n",
       "    }\n",
       "\n",
       "    .dataframe thead th {\n",
       "        text-align: right;\n",
       "    }\n",
       "</style>\n",
       "<table border=\"1\" class=\"dataframe\">\n",
       "  <thead>\n",
       "    <tr style=\"text-align: right;\">\n",
       "      <th></th>\n",
       "      <th>idade</th>\n",
       "      <th>matematica</th>\n",
       "      <th>inteligência artificial</th>\n",
       "      <th>redes de computadores</th>\n",
       "      <th>engenharia de software</th>\n",
       "      <th>fund_computacao</th>\n",
       "      <th>tec_computacao</th>\n",
       "      <th>total</th>\n",
       "    </tr>\n",
       "  </thead>\n",
       "  <tbody>\n",
       "    <tr>\n",
       "      <th>count</th>\n",
       "      <td>8023.000000</td>\n",
       "      <td>8023.000000</td>\n",
       "      <td>8023.000000</td>\n",
       "      <td>8023.000000</td>\n",
       "      <td>8023.000000</td>\n",
       "      <td>8023.000000</td>\n",
       "      <td>8023.000000</td>\n",
       "      <td>8023.000000</td>\n",
       "    </tr>\n",
       "    <tr>\n",
       "      <th>mean</th>\n",
       "      <td>26.571731</td>\n",
       "      <td>7.798330</td>\n",
       "      <td>1.130624</td>\n",
       "      <td>1.195438</td>\n",
       "      <td>1.095476</td>\n",
       "      <td>13.958120</td>\n",
       "      <td>7.872367</td>\n",
       "      <td>29.628817</td>\n",
       "    </tr>\n",
       "    <tr>\n",
       "      <th>std</th>\n",
       "      <td>5.764930</td>\n",
       "      <td>2.660123</td>\n",
       "      <td>0.742208</td>\n",
       "      <td>0.808021</td>\n",
       "      <td>0.893818</td>\n",
       "      <td>3.381648</td>\n",
       "      <td>2.410277</td>\n",
       "      <td>6.253940</td>\n",
       "    </tr>\n",
       "    <tr>\n",
       "      <th>min</th>\n",
       "      <td>18.000000</td>\n",
       "      <td>2.000000</td>\n",
       "      <td>0.000000</td>\n",
       "      <td>0.000000</td>\n",
       "      <td>0.000000</td>\n",
       "      <td>5.000000</td>\n",
       "      <td>2.000000</td>\n",
       "      <td>18.000000</td>\n",
       "    </tr>\n",
       "    <tr>\n",
       "      <th>25%</th>\n",
       "      <td>23.000000</td>\n",
       "      <td>6.000000</td>\n",
       "      <td>1.000000</td>\n",
       "      <td>1.000000</td>\n",
       "      <td>0.000000</td>\n",
       "      <td>12.000000</td>\n",
       "      <td>6.000000</td>\n",
       "      <td>25.000000</td>\n",
       "    </tr>\n",
       "    <tr>\n",
       "      <th>50%</th>\n",
       "      <td>25.000000</td>\n",
       "      <td>8.000000</td>\n",
       "      <td>1.000000</td>\n",
       "      <td>1.000000</td>\n",
       "      <td>1.000000</td>\n",
       "      <td>14.000000</td>\n",
       "      <td>8.000000</td>\n",
       "      <td>29.000000</td>\n",
       "    </tr>\n",
       "    <tr>\n",
       "      <th>75%</th>\n",
       "      <td>29.000000</td>\n",
       "      <td>10.000000</td>\n",
       "      <td>2.000000</td>\n",
       "      <td>2.000000</td>\n",
       "      <td>2.000000</td>\n",
       "      <td>16.000000</td>\n",
       "      <td>10.000000</td>\n",
       "      <td>34.000000</td>\n",
       "    </tr>\n",
       "    <tr>\n",
       "      <th>max</th>\n",
       "      <td>67.000000</td>\n",
       "      <td>14.000000</td>\n",
       "      <td>2.000000</td>\n",
       "      <td>3.000000</td>\n",
       "      <td>3.000000</td>\n",
       "      <td>23.000000</td>\n",
       "      <td>14.000000</td>\n",
       "      <td>46.000000</td>\n",
       "    </tr>\n",
       "  </tbody>\n",
       "</table>\n",
       "</div>"
      ],
      "text/plain": [
       "             idade   matematica  inteligência artificial  \\\n",
       "count  8023.000000  8023.000000              8023.000000   \n",
       "mean     26.571731     7.798330                 1.130624   \n",
       "std       5.764930     2.660123                 0.742208   \n",
       "min      18.000000     2.000000                 0.000000   \n",
       "25%      23.000000     6.000000                 1.000000   \n",
       "50%      25.000000     8.000000                 1.000000   \n",
       "75%      29.000000    10.000000                 2.000000   \n",
       "max      67.000000    14.000000                 2.000000   \n",
       "\n",
       "       redes de computadores  engenharia de software  fund_computacao  \\\n",
       "count            8023.000000             8023.000000      8023.000000   \n",
       "mean                1.195438                1.095476        13.958120   \n",
       "std                 0.808021                0.893818         3.381648   \n",
       "min                 0.000000                0.000000         5.000000   \n",
       "25%                 1.000000                0.000000        12.000000   \n",
       "50%                 1.000000                1.000000        14.000000   \n",
       "75%                 2.000000                2.000000        16.000000   \n",
       "max                 3.000000                3.000000        23.000000   \n",
       "\n",
       "       tec_computacao        total  \n",
       "count     8023.000000  8023.000000  \n",
       "mean         7.872367    29.628817  \n",
       "std          2.410277     6.253940  \n",
       "min          2.000000    18.000000  \n",
       "25%          6.000000    25.000000  \n",
       "50%          8.000000    29.000000  \n",
       "75%         10.000000    34.000000  \n",
       "max         14.000000    46.000000  "
      ]
     },
     "execution_count": 60,
     "metadata": {},
     "output_type": "execute_result"
    }
   ],
   "source": [
    "X_dataset.describe()"
   ]
  },
  {
   "cell_type": "code",
   "execution_count": 61,
   "id": "3ed6f40b-fd86-4f10-8369-a0620b423511",
   "metadata": {},
   "outputs": [],
   "source": [
    "X_dataset['linhas_pesquisas'] = dataset.linhas_pesquisas\n",
    "X_dataset['linhas_pesquisas'] = X_dataset['linhas_pesquisas'].astype('category')"
   ]
  },
  {
   "cell_type": "code",
   "execution_count": 62,
   "id": "b80e4b51-ae86-4083-8086-d7989060a4c2",
   "metadata": {},
   "outputs": [],
   "source": [
    "# colunas_a_padronizar = ['matematica', 'fund_computacao', 'tec_computacao', 'total']\n",
    "# scaler = StandardScaler()\n",
    "# X_dataset[colunas_a_padronizar] = scaler.fit_transform(X_dataset[colunas_a_padronizar])"
   ]
  },
  {
   "cell_type": "code",
   "execution_count": 63,
   "id": "a92bca15-d13b-450e-8efc-4b2dc8d5102e",
   "metadata": {},
   "outputs": [
    {
     "data": {
      "text/html": [
       "<div>\n",
       "<style scoped>\n",
       "    .dataframe tbody tr th:only-of-type {\n",
       "        vertical-align: middle;\n",
       "    }\n",
       "\n",
       "    .dataframe tbody tr th {\n",
       "        vertical-align: top;\n",
       "    }\n",
       "\n",
       "    .dataframe thead th {\n",
       "        text-align: right;\n",
       "    }\n",
       "</style>\n",
       "<table border=\"1\" class=\"dataframe\">\n",
       "  <thead>\n",
       "    <tr style=\"text-align: right;\">\n",
       "      <th></th>\n",
       "      <th>idade</th>\n",
       "      <th>estado</th>\n",
       "      <th>matematica</th>\n",
       "      <th>inteligência artificial</th>\n",
       "      <th>redes de computadores</th>\n",
       "      <th>engenharia de software</th>\n",
       "      <th>fund_computacao</th>\n",
       "      <th>tec_computacao</th>\n",
       "      <th>total</th>\n",
       "      <th>linhas_pesquisas</th>\n",
       "    </tr>\n",
       "  </thead>\n",
       "  <tbody>\n",
       "    <tr>\n",
       "      <th>0</th>\n",
       "      <td>25</td>\n",
       "      <td>SP</td>\n",
       "      <td>4.0</td>\n",
       "      <td>2.0</td>\n",
       "      <td>1.0</td>\n",
       "      <td>0.0</td>\n",
       "      <td>16.0</td>\n",
       "      <td>8.0</td>\n",
       "      <td>28.0</td>\n",
       "      <td>engenharia de software</td>\n",
       "    </tr>\n",
       "    <tr>\n",
       "      <th>1</th>\n",
       "      <td>30</td>\n",
       "      <td>PA</td>\n",
       "      <td>4.0</td>\n",
       "      <td>1.0</td>\n",
       "      <td>2.0</td>\n",
       "      <td>1.0</td>\n",
       "      <td>13.0</td>\n",
       "      <td>7.0</td>\n",
       "      <td>24.0</td>\n",
       "      <td>sistemas de computação</td>\n",
       "    </tr>\n",
       "    <tr>\n",
       "      <th>2</th>\n",
       "      <td>21</td>\n",
       "      <td>MS</td>\n",
       "      <td>12.0</td>\n",
       "      <td>2.0</td>\n",
       "      <td>2.0</td>\n",
       "      <td>0.0</td>\n",
       "      <td>20.0</td>\n",
       "      <td>11.0</td>\n",
       "      <td>43.0</td>\n",
       "      <td>sistemas de computação</td>\n",
       "    </tr>\n",
       "    <tr>\n",
       "      <th>3</th>\n",
       "      <td>25</td>\n",
       "      <td>PB</td>\n",
       "      <td>9.0</td>\n",
       "      <td>2.0</td>\n",
       "      <td>2.0</td>\n",
       "      <td>0.0</td>\n",
       "      <td>17.0</td>\n",
       "      <td>11.0</td>\n",
       "      <td>37.0</td>\n",
       "      <td>engenharia de software</td>\n",
       "    </tr>\n",
       "    <tr>\n",
       "      <th>4</th>\n",
       "      <td>23</td>\n",
       "      <td>GO</td>\n",
       "      <td>7.0</td>\n",
       "      <td>1.0</td>\n",
       "      <td>0.0</td>\n",
       "      <td>1.0</td>\n",
       "      <td>15.0</td>\n",
       "      <td>4.0</td>\n",
       "      <td>26.0</td>\n",
       "      <td>inteligência artificial</td>\n",
       "    </tr>\n",
       "    <tr>\n",
       "      <th>...</th>\n",
       "      <td>...</td>\n",
       "      <td>...</td>\n",
       "      <td>...</td>\n",
       "      <td>...</td>\n",
       "      <td>...</td>\n",
       "      <td>...</td>\n",
       "      <td>...</td>\n",
       "      <td>...</td>\n",
       "      <td>...</td>\n",
       "      <td>...</td>\n",
       "    </tr>\n",
       "    <tr>\n",
       "      <th>8266</th>\n",
       "      <td>22</td>\n",
       "      <td>MG</td>\n",
       "      <td>14.0</td>\n",
       "      <td>2.0</td>\n",
       "      <td>1.0</td>\n",
       "      <td>1.0</td>\n",
       "      <td>16.0</td>\n",
       "      <td>8.0</td>\n",
       "      <td>38.0</td>\n",
       "      <td>inteligência artificial</td>\n",
       "    </tr>\n",
       "    <tr>\n",
       "      <th>8267</th>\n",
       "      <td>48</td>\n",
       "      <td>PB</td>\n",
       "      <td>10.0</td>\n",
       "      <td>0.0</td>\n",
       "      <td>3.0</td>\n",
       "      <td>2.0</td>\n",
       "      <td>16.0</td>\n",
       "      <td>9.0</td>\n",
       "      <td>35.0</td>\n",
       "      <td>redes de computadores</td>\n",
       "    </tr>\n",
       "    <tr>\n",
       "      <th>8268</th>\n",
       "      <td>24</td>\n",
       "      <td>SP</td>\n",
       "      <td>9.0</td>\n",
       "      <td>2.0</td>\n",
       "      <td>1.0</td>\n",
       "      <td>1.0</td>\n",
       "      <td>18.0</td>\n",
       "      <td>8.0</td>\n",
       "      <td>35.0</td>\n",
       "      <td>engenharia de software</td>\n",
       "    </tr>\n",
       "    <tr>\n",
       "      <th>8269</th>\n",
       "      <td>25</td>\n",
       "      <td>ES</td>\n",
       "      <td>10.0</td>\n",
       "      <td>1.0</td>\n",
       "      <td>1.0</td>\n",
       "      <td>0.0</td>\n",
       "      <td>16.0</td>\n",
       "      <td>6.0</td>\n",
       "      <td>32.0</td>\n",
       "      <td>inteligência artificial</td>\n",
       "    </tr>\n",
       "    <tr>\n",
       "      <th>8270</th>\n",
       "      <td>24</td>\n",
       "      <td>RS</td>\n",
       "      <td>13.0</td>\n",
       "      <td>2.0</td>\n",
       "      <td>0.0</td>\n",
       "      <td>0.0</td>\n",
       "      <td>17.0</td>\n",
       "      <td>5.0</td>\n",
       "      <td>35.0</td>\n",
       "      <td>redes de computadores</td>\n",
       "    </tr>\n",
       "  </tbody>\n",
       "</table>\n",
       "<p>8023 rows × 10 columns</p>\n",
       "</div>"
      ],
      "text/plain": [
       "      idade estado  matematica  inteligência artificial  \\\n",
       "0        25     SP         4.0                      2.0   \n",
       "1        30     PA         4.0                      1.0   \n",
       "2        21     MS        12.0                      2.0   \n",
       "3        25     PB         9.0                      2.0   \n",
       "4        23     GO         7.0                      1.0   \n",
       "...     ...    ...         ...                      ...   \n",
       "8266     22     MG        14.0                      2.0   \n",
       "8267     48     PB        10.0                      0.0   \n",
       "8268     24     SP         9.0                      2.0   \n",
       "8269     25     ES        10.0                      1.0   \n",
       "8270     24     RS        13.0                      2.0   \n",
       "\n",
       "      redes de computadores  engenharia de software  fund_computacao  \\\n",
       "0                       1.0                     0.0             16.0   \n",
       "1                       2.0                     1.0             13.0   \n",
       "2                       2.0                     0.0             20.0   \n",
       "3                       2.0                     0.0             17.0   \n",
       "4                       0.0                     1.0             15.0   \n",
       "...                     ...                     ...              ...   \n",
       "8266                    1.0                     1.0             16.0   \n",
       "8267                    3.0                     2.0             16.0   \n",
       "8268                    1.0                     1.0             18.0   \n",
       "8269                    1.0                     0.0             16.0   \n",
       "8270                    0.0                     0.0             17.0   \n",
       "\n",
       "      tec_computacao  total         linhas_pesquisas  \n",
       "0                8.0   28.0   engenharia de software  \n",
       "1                7.0   24.0   sistemas de computação  \n",
       "2               11.0   43.0   sistemas de computação  \n",
       "3               11.0   37.0   engenharia de software  \n",
       "4                4.0   26.0  inteligência artificial  \n",
       "...              ...    ...                      ...  \n",
       "8266             8.0   38.0  inteligência artificial  \n",
       "8267             9.0   35.0    redes de computadores  \n",
       "8268             8.0   35.0   engenharia de software  \n",
       "8269             6.0   32.0  inteligência artificial  \n",
       "8270             5.0   35.0    redes de computadores  \n",
       "\n",
       "[8023 rows x 10 columns]"
      ]
     },
     "execution_count": 63,
     "metadata": {},
     "output_type": "execute_result"
    }
   ],
   "source": [
    "X_dataset"
   ]
  },
  {
   "cell_type": "code",
   "execution_count": 64,
   "id": "fc515f69-4e5e-43f1-b601-a6a84612d324",
   "metadata": {},
   "outputs": [],
   "source": [
    "def encode_categorical_columns(df, columns):\n",
    "    le = LabelEncoder()\n",
    "    for col in columns:\n",
    "        df[col] = le.fit_transform(df[col])\n",
    "    return df\n",
    "\n",
    "categorical_columns = ['estado']\n",
    "X_dataset = encode_categorical_columns(X_dataset, categorical_columns)\n"
   ]
  },
  {
   "cell_type": "code",
   "execution_count": 65,
   "id": "607be1a6-c283-4755-8ba9-3c187216f4a7",
   "metadata": {},
   "outputs": [],
   "source": [
    "# X_dataset = pd.get_dummies(X_dataset, columns=['sexo','regiao','estado'], dtype=int)"
   ]
  },
  {
   "cell_type": "code",
   "execution_count": 66,
   "id": "ad1f58ea-5b67-45df-9ca9-9b06678ff58d",
   "metadata": {},
   "outputs": [
    {
     "data": {
      "text/html": [
       "<div>\n",
       "<style scoped>\n",
       "    .dataframe tbody tr th:only-of-type {\n",
       "        vertical-align: middle;\n",
       "    }\n",
       "\n",
       "    .dataframe tbody tr th {\n",
       "        vertical-align: top;\n",
       "    }\n",
       "\n",
       "    .dataframe thead th {\n",
       "        text-align: right;\n",
       "    }\n",
       "</style>\n",
       "<table border=\"1\" class=\"dataframe\">\n",
       "  <thead>\n",
       "    <tr style=\"text-align: right;\">\n",
       "      <th></th>\n",
       "      <th>idade</th>\n",
       "      <th>estado</th>\n",
       "      <th>matematica</th>\n",
       "      <th>inteligência artificial</th>\n",
       "      <th>redes de computadores</th>\n",
       "      <th>engenharia de software</th>\n",
       "      <th>fund_computacao</th>\n",
       "      <th>tec_computacao</th>\n",
       "      <th>total</th>\n",
       "      <th>linhas_pesquisas</th>\n",
       "    </tr>\n",
       "  </thead>\n",
       "  <tbody>\n",
       "    <tr>\n",
       "      <th>0</th>\n",
       "      <td>25</td>\n",
       "      <td>25</td>\n",
       "      <td>4.0</td>\n",
       "      <td>2.0</td>\n",
       "      <td>1.0</td>\n",
       "      <td>0.0</td>\n",
       "      <td>16.0</td>\n",
       "      <td>8.0</td>\n",
       "      <td>28.0</td>\n",
       "      <td>engenharia de software</td>\n",
       "    </tr>\n",
       "    <tr>\n",
       "      <th>1</th>\n",
       "      <td>30</td>\n",
       "      <td>13</td>\n",
       "      <td>4.0</td>\n",
       "      <td>1.0</td>\n",
       "      <td>2.0</td>\n",
       "      <td>1.0</td>\n",
       "      <td>13.0</td>\n",
       "      <td>7.0</td>\n",
       "      <td>24.0</td>\n",
       "      <td>sistemas de computação</td>\n",
       "    </tr>\n",
       "    <tr>\n",
       "      <th>2</th>\n",
       "      <td>21</td>\n",
       "      <td>11</td>\n",
       "      <td>12.0</td>\n",
       "      <td>2.0</td>\n",
       "      <td>2.0</td>\n",
       "      <td>0.0</td>\n",
       "      <td>20.0</td>\n",
       "      <td>11.0</td>\n",
       "      <td>43.0</td>\n",
       "      <td>sistemas de computação</td>\n",
       "    </tr>\n",
       "    <tr>\n",
       "      <th>3</th>\n",
       "      <td>25</td>\n",
       "      <td>14</td>\n",
       "      <td>9.0</td>\n",
       "      <td>2.0</td>\n",
       "      <td>2.0</td>\n",
       "      <td>0.0</td>\n",
       "      <td>17.0</td>\n",
       "      <td>11.0</td>\n",
       "      <td>37.0</td>\n",
       "      <td>engenharia de software</td>\n",
       "    </tr>\n",
       "    <tr>\n",
       "      <th>4</th>\n",
       "      <td>23</td>\n",
       "      <td>8</td>\n",
       "      <td>7.0</td>\n",
       "      <td>1.0</td>\n",
       "      <td>0.0</td>\n",
       "      <td>1.0</td>\n",
       "      <td>15.0</td>\n",
       "      <td>4.0</td>\n",
       "      <td>26.0</td>\n",
       "      <td>inteligência artificial</td>\n",
       "    </tr>\n",
       "    <tr>\n",
       "      <th>...</th>\n",
       "      <td>...</td>\n",
       "      <td>...</td>\n",
       "      <td>...</td>\n",
       "      <td>...</td>\n",
       "      <td>...</td>\n",
       "      <td>...</td>\n",
       "      <td>...</td>\n",
       "      <td>...</td>\n",
       "      <td>...</td>\n",
       "      <td>...</td>\n",
       "    </tr>\n",
       "    <tr>\n",
       "      <th>8266</th>\n",
       "      <td>22</td>\n",
       "      <td>10</td>\n",
       "      <td>14.0</td>\n",
       "      <td>2.0</td>\n",
       "      <td>1.0</td>\n",
       "      <td>1.0</td>\n",
       "      <td>16.0</td>\n",
       "      <td>8.0</td>\n",
       "      <td>38.0</td>\n",
       "      <td>inteligência artificial</td>\n",
       "    </tr>\n",
       "    <tr>\n",
       "      <th>8267</th>\n",
       "      <td>48</td>\n",
       "      <td>14</td>\n",
       "      <td>10.0</td>\n",
       "      <td>0.0</td>\n",
       "      <td>3.0</td>\n",
       "      <td>2.0</td>\n",
       "      <td>16.0</td>\n",
       "      <td>9.0</td>\n",
       "      <td>35.0</td>\n",
       "      <td>redes de computadores</td>\n",
       "    </tr>\n",
       "    <tr>\n",
       "      <th>8268</th>\n",
       "      <td>24</td>\n",
       "      <td>25</td>\n",
       "      <td>9.0</td>\n",
       "      <td>2.0</td>\n",
       "      <td>1.0</td>\n",
       "      <td>1.0</td>\n",
       "      <td>18.0</td>\n",
       "      <td>8.0</td>\n",
       "      <td>35.0</td>\n",
       "      <td>engenharia de software</td>\n",
       "    </tr>\n",
       "    <tr>\n",
       "      <th>8269</th>\n",
       "      <td>25</td>\n",
       "      <td>7</td>\n",
       "      <td>10.0</td>\n",
       "      <td>1.0</td>\n",
       "      <td>1.0</td>\n",
       "      <td>0.0</td>\n",
       "      <td>16.0</td>\n",
       "      <td>6.0</td>\n",
       "      <td>32.0</td>\n",
       "      <td>inteligência artificial</td>\n",
       "    </tr>\n",
       "    <tr>\n",
       "      <th>8270</th>\n",
       "      <td>24</td>\n",
       "      <td>22</td>\n",
       "      <td>13.0</td>\n",
       "      <td>2.0</td>\n",
       "      <td>0.0</td>\n",
       "      <td>0.0</td>\n",
       "      <td>17.0</td>\n",
       "      <td>5.0</td>\n",
       "      <td>35.0</td>\n",
       "      <td>redes de computadores</td>\n",
       "    </tr>\n",
       "  </tbody>\n",
       "</table>\n",
       "<p>8023 rows × 10 columns</p>\n",
       "</div>"
      ],
      "text/plain": [
       "      idade  estado  matematica  inteligência artificial  \\\n",
       "0        25      25         4.0                      2.0   \n",
       "1        30      13         4.0                      1.0   \n",
       "2        21      11        12.0                      2.0   \n",
       "3        25      14         9.0                      2.0   \n",
       "4        23       8         7.0                      1.0   \n",
       "...     ...     ...         ...                      ...   \n",
       "8266     22      10        14.0                      2.0   \n",
       "8267     48      14        10.0                      0.0   \n",
       "8268     24      25         9.0                      2.0   \n",
       "8269     25       7        10.0                      1.0   \n",
       "8270     24      22        13.0                      2.0   \n",
       "\n",
       "      redes de computadores  engenharia de software  fund_computacao  \\\n",
       "0                       1.0                     0.0             16.0   \n",
       "1                       2.0                     1.0             13.0   \n",
       "2                       2.0                     0.0             20.0   \n",
       "3                       2.0                     0.0             17.0   \n",
       "4                       0.0                     1.0             15.0   \n",
       "...                     ...                     ...              ...   \n",
       "8266                    1.0                     1.0             16.0   \n",
       "8267                    3.0                     2.0             16.0   \n",
       "8268                    1.0                     1.0             18.0   \n",
       "8269                    1.0                     0.0             16.0   \n",
       "8270                    0.0                     0.0             17.0   \n",
       "\n",
       "      tec_computacao  total         linhas_pesquisas  \n",
       "0                8.0   28.0   engenharia de software  \n",
       "1                7.0   24.0   sistemas de computação  \n",
       "2               11.0   43.0   sistemas de computação  \n",
       "3               11.0   37.0   engenharia de software  \n",
       "4                4.0   26.0  inteligência artificial  \n",
       "...              ...    ...                      ...  \n",
       "8266             8.0   38.0  inteligência artificial  \n",
       "8267             9.0   35.0    redes de computadores  \n",
       "8268             8.0   35.0   engenharia de software  \n",
       "8269             6.0   32.0  inteligência artificial  \n",
       "8270             5.0   35.0    redes de computadores  \n",
       "\n",
       "[8023 rows x 10 columns]"
      ]
     },
     "execution_count": 66,
     "metadata": {},
     "output_type": "execute_result"
    }
   ],
   "source": [
    "X_dataset"
   ]
  },
  {
   "cell_type": "code",
   "execution_count": 67,
   "id": "1f54f1b5-8d95-4c24-a837-c90042f0291e",
   "metadata": {
    "tags": []
   },
   "outputs": [],
   "source": [
    "X = X_dataset.drop(['linhas_pesquisas'], axis=1).values\n",
    "y = X_dataset['linhas_pesquisas'].values"
   ]
  },
  {
   "cell_type": "code",
   "execution_count": 68,
   "id": "73385a57-45a4-498b-8488-7a0b8d4d9f5a",
   "metadata": {},
   "outputs": [
    {
     "data": {
      "text/plain": [
       "((8023, 9), (8023,))"
      ]
     },
     "execution_count": 68,
     "metadata": {},
     "output_type": "execute_result"
    }
   ],
   "source": [
    "X.shape, y.shape"
   ]
  },
  {
   "cell_type": "markdown",
   "id": "4a3a66fd-0f16-4dbe-8da9-689e75846071",
   "metadata": {
    "tags": []
   },
   "source": [
    "### Dividir a base"
   ]
  },
  {
   "cell_type": "code",
   "execution_count": 69,
   "id": "c25fe3bb-03a3-41b5-8094-7d30bfcfea06",
   "metadata": {
    "tags": []
   },
   "outputs": [],
   "source": [
    "x_train, x_test, y_train, y_test = train_test_split(X, y, test_size=0.3, random_state=42, stratify=y)"
   ]
  },
  {
   "cell_type": "code",
   "execution_count": 70,
   "id": "4bb2684d-256f-47f3-8b20-539e60a18ee5",
   "metadata": {},
   "outputs": [
    {
     "data": {
      "text/plain": [
       "engenharia de software     578\n",
       "inteligência artificial    873\n",
       "redes de computadores      325\n",
       "sistemas de computação     631\n",
       "Name: count, dtype: int64"
      ]
     },
     "execution_count": 70,
     "metadata": {},
     "output_type": "execute_result"
    }
   ],
   "source": [
    "y_test.value_counts()"
   ]
  },
  {
   "cell_type": "code",
   "execution_count": 39,
   "id": "dbc22457-96b6-4a28-9d4e-a9fe756d4412",
   "metadata": {},
   "outputs": [
    {
     "name": "stdout",
     "output_type": "stream",
     "text": [
      "Shape of x_train :  (5012, 9)\n",
      "Shape of x_test  :  (2148, 9)\n",
      "Shape of y_train :  (5012,)\n",
      "Shape of y_test  :  (2148,)\n"
     ]
    }
   ],
   "source": [
    "print(\"Shape of x_train : \",x_train.shape)\n",
    "print(\"Shape of x_test  : \",x_test.shape)\n",
    "print(\"Shape of y_train : \",y_train.shape)\n",
    "print(\"Shape of y_test  : \",y_test.shape)"
   ]
  },
  {
   "cell_type": "code",
   "execution_count": 93,
   "id": "4d21e511-b97c-47b2-98bd-4168c6344d0d",
   "metadata": {},
   "outputs": [
    {
     "data": {
      "text/html": [
       "<style>#sk-container-id-7 {\n",
       "  /* Definition of color scheme common for light and dark mode */\n",
       "  --sklearn-color-text: black;\n",
       "  --sklearn-color-line: gray;\n",
       "  /* Definition of color scheme for unfitted estimators */\n",
       "  --sklearn-color-unfitted-level-0: #fff5e6;\n",
       "  --sklearn-color-unfitted-level-1: #f6e4d2;\n",
       "  --sklearn-color-unfitted-level-2: #ffe0b3;\n",
       "  --sklearn-color-unfitted-level-3: chocolate;\n",
       "  /* Definition of color scheme for fitted estimators */\n",
       "  --sklearn-color-fitted-level-0: #f0f8ff;\n",
       "  --sklearn-color-fitted-level-1: #d4ebff;\n",
       "  --sklearn-color-fitted-level-2: #b3dbfd;\n",
       "  --sklearn-color-fitted-level-3: cornflowerblue;\n",
       "\n",
       "  /* Specific color for light theme */\n",
       "  --sklearn-color-text-on-default-background: var(--sg-text-color, var(--theme-code-foreground, var(--jp-content-font-color1, black)));\n",
       "  --sklearn-color-background: var(--sg-background-color, var(--theme-background, var(--jp-layout-color0, white)));\n",
       "  --sklearn-color-border-box: var(--sg-text-color, var(--theme-code-foreground, var(--jp-content-font-color1, black)));\n",
       "  --sklearn-color-icon: #696969;\n",
       "\n",
       "  @media (prefers-color-scheme: dark) {\n",
       "    /* Redefinition of color scheme for dark theme */\n",
       "    --sklearn-color-text-on-default-background: var(--sg-text-color, var(--theme-code-foreground, var(--jp-content-font-color1, white)));\n",
       "    --sklearn-color-background: var(--sg-background-color, var(--theme-background, var(--jp-layout-color0, #111)));\n",
       "    --sklearn-color-border-box: var(--sg-text-color, var(--theme-code-foreground, var(--jp-content-font-color1, white)));\n",
       "    --sklearn-color-icon: #878787;\n",
       "  }\n",
       "}\n",
       "\n",
       "#sk-container-id-7 {\n",
       "  color: var(--sklearn-color-text);\n",
       "}\n",
       "\n",
       "#sk-container-id-7 pre {\n",
       "  padding: 0;\n",
       "}\n",
       "\n",
       "#sk-container-id-7 input.sk-hidden--visually {\n",
       "  border: 0;\n",
       "  clip: rect(1px 1px 1px 1px);\n",
       "  clip: rect(1px, 1px, 1px, 1px);\n",
       "  height: 1px;\n",
       "  margin: -1px;\n",
       "  overflow: hidden;\n",
       "  padding: 0;\n",
       "  position: absolute;\n",
       "  width: 1px;\n",
       "}\n",
       "\n",
       "#sk-container-id-7 div.sk-dashed-wrapped {\n",
       "  border: 1px dashed var(--sklearn-color-line);\n",
       "  margin: 0 0.4em 0.5em 0.4em;\n",
       "  box-sizing: border-box;\n",
       "  padding-bottom: 0.4em;\n",
       "  background-color: var(--sklearn-color-background);\n",
       "}\n",
       "\n",
       "#sk-container-id-7 div.sk-container {\n",
       "  /* jupyter's `normalize.less` sets `[hidden] { display: none; }`\n",
       "     but bootstrap.min.css set `[hidden] { display: none !important; }`\n",
       "     so we also need the `!important` here to be able to override the\n",
       "     default hidden behavior on the sphinx rendered scikit-learn.org.\n",
       "     See: https://github.com/scikit-learn/scikit-learn/issues/21755 */\n",
       "  display: inline-block !important;\n",
       "  position: relative;\n",
       "}\n",
       "\n",
       "#sk-container-id-7 div.sk-text-repr-fallback {\n",
       "  display: none;\n",
       "}\n",
       "\n",
       "div.sk-parallel-item,\n",
       "div.sk-serial,\n",
       "div.sk-item {\n",
       "  /* draw centered vertical line to link estimators */\n",
       "  background-image: linear-gradient(var(--sklearn-color-text-on-default-background), var(--sklearn-color-text-on-default-background));\n",
       "  background-size: 2px 100%;\n",
       "  background-repeat: no-repeat;\n",
       "  background-position: center center;\n",
       "}\n",
       "\n",
       "/* Parallel-specific style estimator block */\n",
       "\n",
       "#sk-container-id-7 div.sk-parallel-item::after {\n",
       "  content: \"\";\n",
       "  width: 100%;\n",
       "  border-bottom: 2px solid var(--sklearn-color-text-on-default-background);\n",
       "  flex-grow: 1;\n",
       "}\n",
       "\n",
       "#sk-container-id-7 div.sk-parallel {\n",
       "  display: flex;\n",
       "  align-items: stretch;\n",
       "  justify-content: center;\n",
       "  background-color: var(--sklearn-color-background);\n",
       "  position: relative;\n",
       "}\n",
       "\n",
       "#sk-container-id-7 div.sk-parallel-item {\n",
       "  display: flex;\n",
       "  flex-direction: column;\n",
       "}\n",
       "\n",
       "#sk-container-id-7 div.sk-parallel-item:first-child::after {\n",
       "  align-self: flex-end;\n",
       "  width: 50%;\n",
       "}\n",
       "\n",
       "#sk-container-id-7 div.sk-parallel-item:last-child::after {\n",
       "  align-self: flex-start;\n",
       "  width: 50%;\n",
       "}\n",
       "\n",
       "#sk-container-id-7 div.sk-parallel-item:only-child::after {\n",
       "  width: 0;\n",
       "}\n",
       "\n",
       "/* Serial-specific style estimator block */\n",
       "\n",
       "#sk-container-id-7 div.sk-serial {\n",
       "  display: flex;\n",
       "  flex-direction: column;\n",
       "  align-items: center;\n",
       "  background-color: var(--sklearn-color-background);\n",
       "  padding-right: 1em;\n",
       "  padding-left: 1em;\n",
       "}\n",
       "\n",
       "\n",
       "/* Toggleable style: style used for estimator/Pipeline/ColumnTransformer box that is\n",
       "clickable and can be expanded/collapsed.\n",
       "- Pipeline and ColumnTransformer use this feature and define the default style\n",
       "- Estimators will overwrite some part of the style using the `sk-estimator` class\n",
       "*/\n",
       "\n",
       "/* Pipeline and ColumnTransformer style (default) */\n",
       "\n",
       "#sk-container-id-7 div.sk-toggleable {\n",
       "  /* Default theme specific background. It is overwritten whether we have a\n",
       "  specific estimator or a Pipeline/ColumnTransformer */\n",
       "  background-color: var(--sklearn-color-background);\n",
       "}\n",
       "\n",
       "/* Toggleable label */\n",
       "#sk-container-id-7 label.sk-toggleable__label {\n",
       "  cursor: pointer;\n",
       "  display: block;\n",
       "  width: 100%;\n",
       "  margin-bottom: 0;\n",
       "  padding: 0.5em;\n",
       "  box-sizing: border-box;\n",
       "  text-align: center;\n",
       "}\n",
       "\n",
       "#sk-container-id-7 label.sk-toggleable__label-arrow:before {\n",
       "  /* Arrow on the left of the label */\n",
       "  content: \"▸\";\n",
       "  float: left;\n",
       "  margin-right: 0.25em;\n",
       "  color: var(--sklearn-color-icon);\n",
       "}\n",
       "\n",
       "#sk-container-id-7 label.sk-toggleable__label-arrow:hover:before {\n",
       "  color: var(--sklearn-color-text);\n",
       "}\n",
       "\n",
       "/* Toggleable content - dropdown */\n",
       "\n",
       "#sk-container-id-7 div.sk-toggleable__content {\n",
       "  max-height: 0;\n",
       "  max-width: 0;\n",
       "  overflow: hidden;\n",
       "  text-align: left;\n",
       "  /* unfitted */\n",
       "  background-color: var(--sklearn-color-unfitted-level-0);\n",
       "}\n",
       "\n",
       "#sk-container-id-7 div.sk-toggleable__content.fitted {\n",
       "  /* fitted */\n",
       "  background-color: var(--sklearn-color-fitted-level-0);\n",
       "}\n",
       "\n",
       "#sk-container-id-7 div.sk-toggleable__content pre {\n",
       "  margin: 0.2em;\n",
       "  border-radius: 0.25em;\n",
       "  color: var(--sklearn-color-text);\n",
       "  /* unfitted */\n",
       "  background-color: var(--sklearn-color-unfitted-level-0);\n",
       "}\n",
       "\n",
       "#sk-container-id-7 div.sk-toggleable__content.fitted pre {\n",
       "  /* unfitted */\n",
       "  background-color: var(--sklearn-color-fitted-level-0);\n",
       "}\n",
       "\n",
       "#sk-container-id-7 input.sk-toggleable__control:checked~div.sk-toggleable__content {\n",
       "  /* Expand drop-down */\n",
       "  max-height: 200px;\n",
       "  max-width: 100%;\n",
       "  overflow: auto;\n",
       "}\n",
       "\n",
       "#sk-container-id-7 input.sk-toggleable__control:checked~label.sk-toggleable__label-arrow:before {\n",
       "  content: \"▾\";\n",
       "}\n",
       "\n",
       "/* Pipeline/ColumnTransformer-specific style */\n",
       "\n",
       "#sk-container-id-7 div.sk-label input.sk-toggleable__control:checked~label.sk-toggleable__label {\n",
       "  color: var(--sklearn-color-text);\n",
       "  background-color: var(--sklearn-color-unfitted-level-2);\n",
       "}\n",
       "\n",
       "#sk-container-id-7 div.sk-label.fitted input.sk-toggleable__control:checked~label.sk-toggleable__label {\n",
       "  background-color: var(--sklearn-color-fitted-level-2);\n",
       "}\n",
       "\n",
       "/* Estimator-specific style */\n",
       "\n",
       "/* Colorize estimator box */\n",
       "#sk-container-id-7 div.sk-estimator input.sk-toggleable__control:checked~label.sk-toggleable__label {\n",
       "  /* unfitted */\n",
       "  background-color: var(--sklearn-color-unfitted-level-2);\n",
       "}\n",
       "\n",
       "#sk-container-id-7 div.sk-estimator.fitted input.sk-toggleable__control:checked~label.sk-toggleable__label {\n",
       "  /* fitted */\n",
       "  background-color: var(--sklearn-color-fitted-level-2);\n",
       "}\n",
       "\n",
       "#sk-container-id-7 div.sk-label label.sk-toggleable__label,\n",
       "#sk-container-id-7 div.sk-label label {\n",
       "  /* The background is the default theme color */\n",
       "  color: var(--sklearn-color-text-on-default-background);\n",
       "}\n",
       "\n",
       "/* On hover, darken the color of the background */\n",
       "#sk-container-id-7 div.sk-label:hover label.sk-toggleable__label {\n",
       "  color: var(--sklearn-color-text);\n",
       "  background-color: var(--sklearn-color-unfitted-level-2);\n",
       "}\n",
       "\n",
       "/* Label box, darken color on hover, fitted */\n",
       "#sk-container-id-7 div.sk-label.fitted:hover label.sk-toggleable__label.fitted {\n",
       "  color: var(--sklearn-color-text);\n",
       "  background-color: var(--sklearn-color-fitted-level-2);\n",
       "}\n",
       "\n",
       "/* Estimator label */\n",
       "\n",
       "#sk-container-id-7 div.sk-label label {\n",
       "  font-family: monospace;\n",
       "  font-weight: bold;\n",
       "  display: inline-block;\n",
       "  line-height: 1.2em;\n",
       "}\n",
       "\n",
       "#sk-container-id-7 div.sk-label-container {\n",
       "  text-align: center;\n",
       "}\n",
       "\n",
       "/* Estimator-specific */\n",
       "#sk-container-id-7 div.sk-estimator {\n",
       "  font-family: monospace;\n",
       "  border: 1px dotted var(--sklearn-color-border-box);\n",
       "  border-radius: 0.25em;\n",
       "  box-sizing: border-box;\n",
       "  margin-bottom: 0.5em;\n",
       "  /* unfitted */\n",
       "  background-color: var(--sklearn-color-unfitted-level-0);\n",
       "}\n",
       "\n",
       "#sk-container-id-7 div.sk-estimator.fitted {\n",
       "  /* fitted */\n",
       "  background-color: var(--sklearn-color-fitted-level-0);\n",
       "}\n",
       "\n",
       "/* on hover */\n",
       "#sk-container-id-7 div.sk-estimator:hover {\n",
       "  /* unfitted */\n",
       "  background-color: var(--sklearn-color-unfitted-level-2);\n",
       "}\n",
       "\n",
       "#sk-container-id-7 div.sk-estimator.fitted:hover {\n",
       "  /* fitted */\n",
       "  background-color: var(--sklearn-color-fitted-level-2);\n",
       "}\n",
       "\n",
       "/* Specification for estimator info (e.g. \"i\" and \"?\") */\n",
       "\n",
       "/* Common style for \"i\" and \"?\" */\n",
       "\n",
       ".sk-estimator-doc-link,\n",
       "a:link.sk-estimator-doc-link,\n",
       "a:visited.sk-estimator-doc-link {\n",
       "  float: right;\n",
       "  font-size: smaller;\n",
       "  line-height: 1em;\n",
       "  font-family: monospace;\n",
       "  background-color: var(--sklearn-color-background);\n",
       "  border-radius: 1em;\n",
       "  height: 1em;\n",
       "  width: 1em;\n",
       "  text-decoration: none !important;\n",
       "  margin-left: 1ex;\n",
       "  /* unfitted */\n",
       "  border: var(--sklearn-color-unfitted-level-1) 1pt solid;\n",
       "  color: var(--sklearn-color-unfitted-level-1);\n",
       "}\n",
       "\n",
       ".sk-estimator-doc-link.fitted,\n",
       "a:link.sk-estimator-doc-link.fitted,\n",
       "a:visited.sk-estimator-doc-link.fitted {\n",
       "  /* fitted */\n",
       "  border: var(--sklearn-color-fitted-level-1) 1pt solid;\n",
       "  color: var(--sklearn-color-fitted-level-1);\n",
       "}\n",
       "\n",
       "/* On hover */\n",
       "div.sk-estimator:hover .sk-estimator-doc-link:hover,\n",
       ".sk-estimator-doc-link:hover,\n",
       "div.sk-label-container:hover .sk-estimator-doc-link:hover,\n",
       ".sk-estimator-doc-link:hover {\n",
       "  /* unfitted */\n",
       "  background-color: var(--sklearn-color-unfitted-level-3);\n",
       "  color: var(--sklearn-color-background);\n",
       "  text-decoration: none;\n",
       "}\n",
       "\n",
       "div.sk-estimator.fitted:hover .sk-estimator-doc-link.fitted:hover,\n",
       ".sk-estimator-doc-link.fitted:hover,\n",
       "div.sk-label-container:hover .sk-estimator-doc-link.fitted:hover,\n",
       ".sk-estimator-doc-link.fitted:hover {\n",
       "  /* fitted */\n",
       "  background-color: var(--sklearn-color-fitted-level-3);\n",
       "  color: var(--sklearn-color-background);\n",
       "  text-decoration: none;\n",
       "}\n",
       "\n",
       "/* Span, style for the box shown on hovering the info icon */\n",
       ".sk-estimator-doc-link span {\n",
       "  display: none;\n",
       "  z-index: 9999;\n",
       "  position: relative;\n",
       "  font-weight: normal;\n",
       "  right: .2ex;\n",
       "  padding: .5ex;\n",
       "  margin: .5ex;\n",
       "  width: min-content;\n",
       "  min-width: 20ex;\n",
       "  max-width: 50ex;\n",
       "  color: var(--sklearn-color-text);\n",
       "  box-shadow: 2pt 2pt 4pt #999;\n",
       "  /* unfitted */\n",
       "  background: var(--sklearn-color-unfitted-level-0);\n",
       "  border: .5pt solid var(--sklearn-color-unfitted-level-3);\n",
       "}\n",
       "\n",
       ".sk-estimator-doc-link.fitted span {\n",
       "  /* fitted */\n",
       "  background: var(--sklearn-color-fitted-level-0);\n",
       "  border: var(--sklearn-color-fitted-level-3);\n",
       "}\n",
       "\n",
       ".sk-estimator-doc-link:hover span {\n",
       "  display: block;\n",
       "}\n",
       "\n",
       "/* \"?\"-specific style due to the `<a>` HTML tag */\n",
       "\n",
       "#sk-container-id-7 a.estimator_doc_link {\n",
       "  float: right;\n",
       "  font-size: 1rem;\n",
       "  line-height: 1em;\n",
       "  font-family: monospace;\n",
       "  background-color: var(--sklearn-color-background);\n",
       "  border-radius: 1rem;\n",
       "  height: 1rem;\n",
       "  width: 1rem;\n",
       "  text-decoration: none;\n",
       "  /* unfitted */\n",
       "  color: var(--sklearn-color-unfitted-level-1);\n",
       "  border: var(--sklearn-color-unfitted-level-1) 1pt solid;\n",
       "}\n",
       "\n",
       "#sk-container-id-7 a.estimator_doc_link.fitted {\n",
       "  /* fitted */\n",
       "  border: var(--sklearn-color-fitted-level-1) 1pt solid;\n",
       "  color: var(--sklearn-color-fitted-level-1);\n",
       "}\n",
       "\n",
       "/* On hover */\n",
       "#sk-container-id-7 a.estimator_doc_link:hover {\n",
       "  /* unfitted */\n",
       "  background-color: var(--sklearn-color-unfitted-level-3);\n",
       "  color: var(--sklearn-color-background);\n",
       "  text-decoration: none;\n",
       "}\n",
       "\n",
       "#sk-container-id-7 a.estimator_doc_link.fitted:hover {\n",
       "  /* fitted */\n",
       "  background-color: var(--sklearn-color-fitted-level-3);\n",
       "}\n",
       "</style><div id=\"sk-container-id-7\" class=\"sk-top-container\"><div class=\"sk-text-repr-fallback\"><pre>HistGradientBoostingClassifier(max_depth=6, max_features=0.5)</pre><b>In a Jupyter environment, please rerun this cell to show the HTML representation or trust the notebook. <br />On GitHub, the HTML representation is unable to render, please try loading this page with nbviewer.org.</b></div><div class=\"sk-container\" hidden><div class=\"sk-item\"><div class=\"sk-estimator fitted sk-toggleable\"><input class=\"sk-toggleable__control sk-hidden--visually\" id=\"sk-estimator-id-9\" type=\"checkbox\" checked><label for=\"sk-estimator-id-9\" class=\"sk-toggleable__label fitted sk-toggleable__label-arrow fitted\">&nbsp;&nbsp;HistGradientBoostingClassifier<a class=\"sk-estimator-doc-link fitted\" rel=\"noreferrer\" target=\"_blank\" href=\"https://scikit-learn.org/1.4/modules/generated/sklearn.ensemble.HistGradientBoostingClassifier.html\">?<span>Documentation for HistGradientBoostingClassifier</span></a><span class=\"sk-estimator-doc-link fitted\">i<span>Fitted</span></span></label><div class=\"sk-toggleable__content fitted\"><pre>HistGradientBoostingClassifier(max_depth=6, max_features=0.5)</pre></div> </div></div></div></div>"
      ],
      "text/plain": [
       "HistGradientBoostingClassifier(max_depth=6, max_features=0.5)"
      ]
     },
     "execution_count": 93,
     "metadata": {},
     "output_type": "execute_result"
    }
   ],
   "source": [
    "from sklearn.ensemble import HistGradientBoostingClassifier\n",
    "clf = HistGradientBoostingClassifier(max_depth=6, max_features=0.5)\n",
    "clf.fit(x_train, y_train)"
   ]
  },
  {
   "cell_type": "code",
   "execution_count": 94,
   "id": "11e46240-aa47-4f50-af8a-a4f5e06b965a",
   "metadata": {},
   "outputs": [],
   "source": [
    "pred = clf.predict(x_test)"
   ]
  },
  {
   "cell_type": "code",
   "execution_count": 95,
   "id": "c4472d48-f56d-4f50-b623-7e8bff204dd9",
   "metadata": {},
   "outputs": [
    {
     "data": {
      "text/plain": [
       "0.4387203988367262"
      ]
     },
     "execution_count": 95,
     "metadata": {},
     "output_type": "execute_result"
    }
   ],
   "source": [
    "accuracy_score(y_test, pred)"
   ]
  },
  {
   "cell_type": "markdown",
   "id": "c465ab7e-ab91-4f38-b8b9-a5532bdd0d1b",
   "metadata": {
    "tags": []
   },
   "source": [
    "### Árvore de Decisão"
   ]
  },
  {
   "cell_type": "code",
   "execution_count": 40,
   "id": "db0003a8-3c0a-4e1b-9de1-c0db92b736ac",
   "metadata": {
    "tags": []
   },
   "outputs": [],
   "source": [
    "parametros = {'criterion': [\"entropy\"],\n",
    "    'splitter': [\"best\"],\n",
    "    'max_depth': [10,12],  # Ou qualquer outro intervalo apropriado\n",
    "    'min_samples_split': [2, 5, 10],\n",
    "    'min_samples_leaf': [3,5,9],\n",
    "    # 'min_weight_fraction_leaf': [0.0, 0.1, 0.2],\n",
    "    'max_features': [1,2,3,4],\n",
    "    # 'max_leaf_nodes': [None, 5, 10, 20],\n",
    "    # 'min_impurity_decrease': [0.0, 0.1, 0.2],\n",
    "    # 'ccp_alpha': [0.0, 0.1, 0.2],\n",
    "}"
   ]
  },
  {
   "cell_type": "code",
   "execution_count": 41,
   "id": "fd232a86-eaa5-4e93-afb6-58840a9751b1",
   "metadata": {
    "tags": []
   },
   "outputs": [
    {
     "name": "stdout",
     "output_type": "stream",
     "text": [
      "Best Parameters:\n",
      "{'criterion': 'entropy', 'max_depth': 10, 'max_features': 3, 'min_samples_leaf': 9, 'min_samples_split': 2, 'splitter': 'best'}\n",
      "Best Score:\n",
      "0.4058259304252058\n",
      "Best Estimator:\n",
      "DecisionTreeClassifier(criterion='entropy', max_depth=10, max_features=3,\n",
      "                       min_samples_leaf=9, random_state=42)\n",
      "Train Result:\n",
      "==========================================================================\n",
      "Accuracy Score: 51.32%\n",
      "__________________________________________________________________________\n",
      "CLASSIFICATION REPORT:\n",
      "           engenharia de software  inteligência artificial  \\\n",
      "precision                0.482942                 0.523634   \n",
      "recall                   0.392548                 0.753054   \n",
      "f1-score                 0.433078                 0.617730   \n",
      "support               1154.000000              1883.000000   \n",
      "\n",
      "           redes de computadores  sistemas de computação  accuracy  \\\n",
      "precision               0.438806                0.537342  0.513168   \n",
      "recall                  0.222727                0.421293  0.513168   \n",
      "f1-score                0.295477                0.472293  0.513168   \n",
      "support               660.000000             1315.000000  0.513168   \n",
      "\n",
      "             macro avg  weighted avg  \n",
      "precision     0.495681      0.506691  \n",
      "recall        0.447405      0.513168  \n",
      "f1-score      0.454645      0.494621  \n",
      "support    5012.000000   5012.000000  \n",
      "__________________________________________________________________________\n",
      "Confusion Matrix: \n",
      " [[ 453  481   50  170]\n",
      " [ 170 1418   80  215]\n",
      " [ 118  303  147   92]\n",
      " [ 197  506   58  554]]\n",
      "\n",
      "Test Result:\n",
      "==========================================================================\n",
      "Accuracy Score: 39.80%\n",
      "__________________________________________________________________________\n",
      "CLASSIFICATION REPORT:\n",
      "           engenharia de software  inteligência artificial  \\\n",
      "precision                0.327314                 0.447826   \n",
      "recall                   0.292929                 0.638166   \n",
      "f1-score                 0.309168                 0.526316   \n",
      "support                495.000000               807.000000   \n",
      "\n",
      "           redes de computadores  sistemas de computação  accuracy  \\\n",
      "precision               0.276119                0.375297  0.398045   \n",
      "recall                  0.131206                0.280142  0.398045   \n",
      "f1-score                0.177885                0.320812  0.398045   \n",
      "support               282.000000              564.000000  0.398045   \n",
      "\n",
      "             macro avg  weighted avg  \n",
      "precision     0.356639      0.378468  \n",
      "recall        0.335611      0.398045  \n",
      "f1-score      0.333545      0.376572  \n",
      "support    2148.000000   2148.000000  \n",
      "__________________________________________________________________________\n",
      "Confusion Matrix: \n",
      " [[145 235  33  82]\n",
      " [111 515  43 138]\n",
      " [ 67 135  37  43]\n",
      " [120 265  21 158]]\n",
      "\n"
     ]
    }
   ],
   "source": [
    "tree_clf = ClassifierWrapper(DecisionTreeClassifier(random_state=42), parametros)\n",
    "tree_clf.grid_search(x_train, y_train, cv=3)\n",
    "tree_clf.train_and_print_scores(x_train, y_train, x_test, y_test)"
   ]
  },
  {
   "cell_type": "markdown",
   "id": "effde1be-9de1-4fb8-a725-df2040bc7270",
   "metadata": {
    "tags": []
   },
   "source": [
    "### Rede Neural"
   ]
  },
  {
   "cell_type": "code",
   "execution_count": null,
   "id": "334f458e-c7e6-4dcb-b62d-c1e0924dc648",
   "metadata": {
    "tags": []
   },
   "outputs": [],
   "source": [
    "parametros = {\n",
    "    'hidden_layer_sizes': [(500,250,125)],  # Experimente diferentes configurações de camadas e neurônios\n",
    "    'activation': ['relu'],\n",
    "    'solver': ['lbfgs', 'sgd', 'adam'],\n",
    "    'alpha': [0.0001, 0.001, 0.01],\n",
    "    'batch_size': [100,200,300,500],\n",
    "    # 'learning_rate': ['invscaling'],\n",
    "    # 'learning_rate_init': [0.001, 0.01, 0.1],\n",
    "    # 'power_t': [0.5, 0.9],\n",
    "    'max_iter': [100,200],\n",
    "    # 'shuffle': [True, False],\n",
    "    # 'random_state': [None, 42],\n",
    "    # 'tol': [1e-4, 1e-3, 1e-2],\n",
    "    # 'verbose': [True, False],\n",
    "    # 'warm_start': [True, False],\n",
    "    # 'momentum': [0.5, 0.9],\n",
    "    # 'nesterovs_momentum': [True, False],\n",
    "    # 'early_stopping': [True, False],\n",
    "    # 'validation_fraction': [0.1, 0.2],\n",
    "    # 'beta_1': [0.9, 0.99],\n",
    "    # 'beta_2': [0.999, 0.9999],\n",
    "    # 'epsilon': [1e-8, 1e-7],\n",
    "    # 'n_iter_no_change': [5, 10, 15],\n",
    "    # 'max_fun': [10000, 15000, 20000]\n",
    "}\n"
   ]
  },
  {
   "cell_type": "code",
   "execution_count": null,
   "id": "1a8c1c44-f578-40b7-84bb-11c936cf2af6",
   "metadata": {
    "tags": []
   },
   "outputs": [],
   "source": [
    "neural_clf = ClassifierWrapper(MLPClassifier(random_state=42), parametros)\n",
    "neural_clf.grid_search(x_train, y_train, cv=3)\n",
    "neural_clf.train_and_print_scores(x_train, y_train, x_test, y_test)"
   ]
  },
  {
   "cell_type": "markdown",
   "id": "f6016397-5780-4626-91c1-5c869e9bccd9",
   "metadata": {
    "tags": []
   },
   "source": [
    "### Random Forest"
   ]
  },
  {
   "cell_type": "code",
   "execution_count": 42,
   "id": "ffc38199-64fa-413e-98ff-7ea0274cf7db",
   "metadata": {
    "tags": []
   },
   "outputs": [],
   "source": [
    "parametros = {\n",
    "    'n_estimators': [1000,1500],  # Você pode ajustar o número de árvores conforme necessário\n",
    "    'criterion': ['entropy'],\n",
    "    'max_depth': [10],\n",
    "    # 'min_samples_split': [2, 5],\n",
    "    'min_samples_leaf': [4,6,8],\n",
    "    # 'min_weight_fraction_leaf': [0.0, 0.1, 0.2],\n",
    "    'max_features': [4,5,6],\n",
    "    # 'max_leaf_nodes': [None, 10, 20, 30],\n",
    "    # 'min_impurity_decrease': [0.0, 0.1, 0.2],\n",
    "    # 'bootstrap': [True, False],\n",
    "    # 'oob_score': [True, False],\n",
    "    # 'n_jobs': [-1],  # Use -1 para usar todos os processadores disponíveis\n",
    "    # 'random_state': [None, 42],  # Use um valor fixo para repetibilidade\n",
    "    # 'verbose': [0, 1, 2],\n",
    "    # 'warm_start': [True, False],\n",
    "    # 'class_weight': ['balanced', 'balanced_subsample'],\n",
    "    # 'ccp_alpha': [0.0, 0.1, 0.2],\n",
    "    # 'max_samples': [None, 0.7, 0.8, 0.9],\n",
    "}"
   ]
  },
  {
   "cell_type": "code",
   "execution_count": 43,
   "id": "a17c7c27-8d9c-436c-a1ac-63aaa719a533",
   "metadata": {},
   "outputs": [
    {
     "name": "stdout",
     "output_type": "stream",
     "text": [
      "Best Parameters:\n",
      "{'criterion': 'entropy', 'max_depth': 10, 'max_features': 6, 'min_samples_leaf': 8, 'n_estimators': 1000}\n",
      "Best Score:\n",
      "0.46388479772949615\n",
      "Best Estimator:\n",
      "RandomForestClassifier(criterion='entropy', max_depth=10, max_features=6,\n",
      "                       min_samples_leaf=8, n_estimators=1000, random_state=42)\n",
      "Train Result:\n",
      "==========================================================================\n",
      "Accuracy Score: 59.92%\n",
      "__________________________________________________________________________\n",
      "CLASSIFICATION REPORT:\n",
      "           engenharia de software  inteligência artificial  \\\n",
      "precision                0.612832                 0.552561   \n",
      "recall                   0.480069                 0.870951   \n",
      "f1-score                 0.538387                 0.676149   \n",
      "support               1154.000000              1883.000000   \n",
      "\n",
      "           redes de computadores  sistemas de computação  accuracy  \\\n",
      "precision               0.826347                0.689620  0.599162   \n",
      "recall                  0.209091                0.510266  0.599162   \n",
      "f1-score                0.333736                0.586538  0.599162   \n",
      "support               660.000000             1315.000000  0.599162   \n",
      "\n",
      "             macro avg  weighted avg  \n",
      "precision     0.670340      0.638451  \n",
      "recall        0.517594      0.599162  \n",
      "f1-score      0.533703      0.575828  \n",
      "support    5012.000000   5012.000000  \n",
      "__________________________________________________________________________\n",
      "Confusion Matrix: \n",
      " [[ 554  481   12  107]\n",
      " [ 111 1640    9  123]\n",
      " [ 103  347  138   72]\n",
      " [ 136  500    8  671]]\n",
      "\n",
      "Test Result:\n",
      "==========================================================================\n",
      "Accuracy Score: 44.69%\n",
      "__________________________________________________________________________\n",
      "CLASSIFICATION REPORT:\n",
      "           engenharia de software  inteligência artificial  \\\n",
      "precision                0.348052                 0.458302   \n",
      "recall                   0.270707                 0.755886   \n",
      "f1-score                 0.304545                 0.570627   \n",
      "support                495.000000               807.000000   \n",
      "\n",
      "           redes de computadores  sistemas de computação  accuracy  \\\n",
      "precision               0.375000                0.512755  0.446927   \n",
      "recall                  0.053191                0.356383  0.446927   \n",
      "f1-score                0.093168                0.420502  0.446927   \n",
      "support               282.000000              564.000000  0.446927   \n",
      "\n",
      "             macro avg  weighted avg  \n",
      "precision     0.423527      0.436257  \n",
      "recall        0.359042      0.446927  \n",
      "f1-score      0.347211      0.407208  \n",
      "support    2148.000000   2148.000000  \n",
      "__________________________________________________________________________\n",
      "Confusion Matrix: \n",
      " [[134 282   7  72]\n",
      " [ 96 610  15  86]\n",
      " [ 63 171  15  33]\n",
      " [ 92 268   3 201]]\n",
      "\n"
     ]
    }
   ],
   "source": [
    "forest_clf = ClassifierWrapper(RandomForestClassifier(random_state=42), parametros)\n",
    "forest_clf.grid_search(x_train, y_train, cv=3)\n",
    "forest_clf.train_and_print_scores(x_train, y_train, x_test, y_test)"
   ]
  },
  {
   "cell_type": "markdown",
   "id": "ccf19920-8048-481b-9636-e9123400e3c5",
   "metadata": {
    "tags": []
   },
   "source": [
    "### SVM"
   ]
  },
  {
   "cell_type": "code",
   "execution_count": 60,
   "id": "af71b2ea-9f68-4fdf-84ce-fd21add8fe99",
   "metadata": {
    "tags": []
   },
   "outputs": [],
   "source": [
    "parametros = {\n",
    "    'C': [100],\n",
    "    # 'kernel': ['rbf'],\n",
    "    'degree': [6],\n",
    "    'gamma': ['auto'],\n",
    "    'coef0': [0.1],\n",
    "    # 'shrinking': [True, False],\n",
    "    # 'probability': [True],\n",
    "    # 'tol': [1e-4],\n",
    "    # 'cache_size': np.arange(1,11,2),\n",
    "    # 'class_weight': [None, 'balanced'],\n",
    "    # 'verbose': [True],\n",
    "    # 'max_iter': [100, 1000, -1],  # -1 indica nenhum limite\n",
    "    'decision_function_shape': ['ovo'],\n",
    "    # 'break_ties': [True],\n",
    "}"
   ]
  },
  {
   "cell_type": "code",
   "execution_count": 41,
   "id": "170a06fb-2d7b-467c-bfbc-415182e8b294",
   "metadata": {
    "tags": []
   },
   "outputs": [
    {
     "ename": "SyntaxError",
     "evalue": "incomplete input (320085749.py, line 2)",
     "output_type": "error",
     "traceback": [
      "\u001b[0;36m  Cell \u001b[0;32mIn[41], line 2\u001b[0;36m\u001b[0m\n\u001b[0;31m    svm_clf.grid_search(x_train, y_train, c\u001b[0m\n\u001b[0m                                           ^\u001b[0m\n\u001b[0;31mSyntaxError\u001b[0m\u001b[0;31m:\u001b[0m incomplete input\n"
     ]
    }
   ],
   "source": [
    "svm_clf = ClassifierWrapper(SVC(random_state=42, kernel='poly'), parametros)\n",
    "svm_clf.grid_search(x_train, y_train, c"
   ]
  },
  {
   "cell_type": "code",
   "execution_count": 61,
   "id": "ab40a8aa-7935-49d4-89ef-b52901e45cb7",
   "metadata": {
    "tags": []
   },
   "outputs": [
    {
     "name": "stdout",
     "output_type": "stream",
     "text": [
      "Best Parameters:\n",
      "{'C': 100, 'coef0': 0.1, 'decision_function_shape': 'ovo', 'degree': 6, 'gamma': 'auto'}\n",
      "Best Score:\n",
      "0.26733417253372305\n",
      "Best Estimator:\n",
      "SVC(C=100, coef0=0.1, decision_function_shape='ovo', degree=6, gamma='auto',\n",
      "    random_state=42)\n",
      "Train Result:\n",
      "==========================================================================\n",
      "Accuracy Score: 78.50%\n",
      "__________________________________________________________________________\n",
      "CLASSIFICATION REPORT:\n",
      "                Outros  engenharia de software  inteligência artificial  \\\n",
      "precision     0.726662                0.808642                 0.744749   \n",
      "recall        0.758970                0.754112                 0.845516   \n",
      "f1-score      0.742465                0.780426                 0.791940   \n",
      "support    1282.000000             1216.000000              1929.000000   \n",
      "\n",
      "           redes de computadores  sistemas de computação  accuracy  \\\n",
      "precision               0.852575                0.866293  0.785019   \n",
      "recall                  0.704846                0.791514  0.785019   \n",
      "f1-score                0.771704                0.827217  0.785019   \n",
      "support               681.000000             1367.000000  0.785019   \n",
      "\n",
      "             macro avg  weighted avg  \n",
      "precision     0.799784      0.790168  \n",
      "recall        0.770992      0.785019  \n",
      "f1-score      0.782750      0.785301  \n",
      "support    6475.000000   6475.000000  \n",
      "__________________________________________________________________________\n",
      "Confusion Matrix: \n",
      " [[ 973   48  186   26   49]\n",
      " [  88  917  144   16   51]\n",
      " [ 148   64 1631   34   52]\n",
      " [  50   39   97  480   15]\n",
      " [  80   66  132    7 1082]]\n",
      "\n",
      "Test Result:\n",
      "==========================================================================\n",
      "Accuracy Score: 29.37%\n",
      "__________________________________________________________________________\n",
      "CLASSIFICATION REPORT:\n",
      "               Outros  engenharia de software  inteligência artificial  \\\n",
      "precision    0.238690                0.292308                 0.345332   \n",
      "recall       0.278182                0.291747                 0.371671   \n",
      "f1-score     0.256927                0.292027                 0.358017   \n",
      "support    550.000000              521.000000               826.000000   \n",
      "\n",
      "           redes de computadores  sistemas de computação  accuracy  \\\n",
      "precision               0.190265                0.320641  0.293694   \n",
      "recall                  0.147260                0.273038  0.293694   \n",
      "f1-score                0.166023                0.294931  0.293694   \n",
      "support               292.000000              586.000000  0.293694   \n",
      "\n",
      "             macro avg  weighted avg  \n",
      "precision     0.277447      0.292710  \n",
      "recall        0.272379      0.293694  \n",
      "f1-score      0.273585      0.292067  \n",
      "support    2775.000000   2775.000000  \n",
      "__________________________________________________________________________\n",
      "Confusion Matrix: \n",
      " [[153  82 189  40  86]\n",
      " [103 152 139  35  92]\n",
      " [204 129 307  70 116]\n",
      " [ 61  53  90  43  45]\n",
      " [120 104 164  38 160]]\n",
      "\n"
     ]
    }
   ],
   "source": [
    "svm_clf = ClassifierWrapper(SVC(random_state=42, kernel='rbf'), parametros)\n",
    "svm_clf.grid_search(x_train, y_train, cv=2)\n",
    "svm_clf.train_and_print_scores(x_train, y_train, x_test, y_test)"
   ]
  },
  {
   "cell_type": "code",
   "execution_count": null,
   "id": "792924d4-fec8-4733-b8ca-b23364ea35ae",
   "metadata": {
    "tags": []
   },
   "outputs": [],
   "source": [
    "param_grid = {\n",
    "    'penalty': ['l1'],\n",
    "    'loss': ['hinge', 'squared_hinge'],\n",
    "    'dual': [False],\n",
    "    'tol': [1e-5, 1e-4, 1e-3],\n",
    "    'C': [0.1, 1.0],\n",
    "    'multi_class': ['ovr', 'crammer_singer'],\n",
    "    # 'fit_intercept': [True, False],\n",
    "    # 'intercept_scaling': [0.5, 1.0, 1.5],\n",
    "    # 'class_weight': [None, 'balanced'],\n",
    "    # 'verbose': [0, 1, 2],\n",
    "    # 'random_state': [None, 42],\n",
    "    'max_iter': [500, 1000, 1500],\n",
    "}\n"
   ]
  },
  {
   "cell_type": "code",
   "execution_count": null,
   "id": "53f9372e-b223-44af-91b6-2b41de0aacf7",
   "metadata": {
    "tags": []
   },
   "outputs": [],
   "source": [
    "svm_clf = ClassifierWrapper(LinearSVC(random_state=42), param_grid)\n",
    "svm_clf.grid_search(x_train, y_train, cv=2)\n",
    "svm_clf.train_and_print_scores(x_train, y_train, x_test, y_test)"
   ]
  },
  {
   "cell_type": "code",
   "execution_count": null,
   "id": "71abdd37-a8a1-4d3b-ab45-cdfd85e8e0e9",
   "metadata": {},
   "outputs": [],
   "source": [
    "param_grid = {\n",
    "    'nu': [0.3, 0.5, 0.7],\n",
    "    'kernel': ['linear', 'poly', 'rbf', 'sigmoid'],\n",
    "    'degree': [2, 3, 4],\n",
    "    # 'gamma': ['scale', 'auto', 0.1, 0.01],\n",
    "    # 'coef0': [0.0, 0.5, 1.0],\n",
    "    # 'shrinking': [True, False],\n",
    "    # 'probability': [True, False],\n",
    "    # 'tol': [1e-4, 1e-3, 1e-2],\n",
    "    # 'cache_size': [100, 200, 300],\n",
    "    # 'class_weight': [None, 'balanced', {0: 1, 1: 5}],  # Adjust the class weights accordingly\n",
    "    # 'verbose': [False, True],\n",
    "    # 'max_iter': [500, 1000, -1],\n",
    "    'decision_function_shape': ['ovr'],\n",
    "    # 'break_ties': [False, True],\n",
    "    # 'random_state': [None, 42],\n",
    "}"
   ]
  },
  {
   "cell_type": "code",
   "execution_count": null,
   "id": "91795d47-2822-4542-b791-96d2f153cdc9",
   "metadata": {
    "tags": []
   },
   "outputs": [],
   "source": [
    "svm_clf = ClassifierWrapper(NuSVC(random_state=42), param_grid)\n",
    "svm_clf.grid_search(x_train, y_train, cv=2)\n",
    "svm_clf.train_and_print_scores(x_train, y_train, x_test, y_test)"
   ]
  },
  {
   "cell_type": "raw",
   "id": "13804daa-4397-45be-a1ba-1549c478019e",
   "metadata": {},
   "source": []
  },
  {
   "cell_type": "markdown",
   "id": "dda7a79b-6c58-46d2-baed-b954f88428e2",
   "metadata": {
    "jp-MarkdownHeadingCollapsed": true
   },
   "source": [
    "### Validação Cruzada"
   ]
  },
  {
   "cell_type": "code",
   "execution_count": null,
   "id": "73eb6727-f692-4af2-8d3e-add5b3e26c7a",
   "metadata": {},
   "outputs": [],
   "source": [
    "x_poscomp = np.concatenate((x_train, x_test), axis = 0)\n",
    "y_poscomp = np.concatenate((y_train, y_test), axis = 0)"
   ]
  },
  {
   "cell_type": "code",
   "execution_count": null,
   "id": "2c9f4bbe-fdec-41f7-a213-7890e3e74621",
   "metadata": {},
   "outputs": [],
   "source": [
    "# Uso para Decision Tree\n",
    "params_arvore = {'criterion': 'entropy', 'max_depth': 4, 'min_samples_leaf': 6, 'random_state': 42}\n",
    "resultados_arvore = ClassifierWrapper.avaliar_classificador(DecisionTreeClassifier, params_arvore, x_poscomp, y_poscomp)\n",
    "\n",
    "# Uso para Random Forest\n",
    "params_random_forest = {'bootstrap': True, 'criterion': 'entropy', 'max_depth': 6, 'max_features': 5, \n",
    "                        'min_samples_leaf': 2, 'n_estimators': 300}\n",
    "resultados_random_forest = ClassifierWrapper.avaliar_classificador(RandomForestClassifier, params_random_forest, x_poscomp, y_poscomp)\n",
    "\n",
    "# Uso para SVM\n",
    "params_svm = {'C': 5000, 'break_ties': True, 'degree': 1, 'probability': True, 'random_state': 42,\n",
    "              'tol': 0.0001, 'verbose': True}\n",
    "resultados_svm = ClassifierWrapper.avaliar_classificador(SVC, params_svm, x_poscomp, y_poscomp)\n",
    "\n",
    "# Uso para MLP (Rede Neural)\n",
    "params_rede_neural = {'activation': 'tanh', 'hidden_layer_sizes': (100, 100), 'random_state': 42}\n",
    "resultados_rede_neural = ClassifierWrapper.avaliar_classificador(MLPClassifier, params_rede_neural, x_poscomp, y_poscomp)"
   ]
  },
  {
   "cell_type": "code",
   "execution_count": null,
   "id": "22d81ea6-eb8b-4c72-a636-38fa885da55d",
   "metadata": {},
   "outputs": [],
   "source": [
    "resultados = pd.DataFrame({'Arvore': resultados_arvore, 'Random forest': resultados_random_forest,\n",
    "                            'SVM': resultados_svm, 'Rede neural': resultados_rede_neural})\n",
    "resultados"
   ]
  },
  {
   "cell_type": "code",
   "execution_count": null,
   "id": "3ede2020-1946-43f8-9723-e483a9fa9079",
   "metadata": {},
   "outputs": [],
   "source": [
    "resultados.describe()"
   ]
  },
  {
   "cell_type": "code",
   "execution_count": null,
   "id": "e1d00ea6-db3b-4294-bc7c-fd50d2f84861",
   "metadata": {},
   "outputs": [],
   "source": [
    "resultados.var()"
   ]
  },
  {
   "cell_type": "code",
   "execution_count": null,
   "id": "34f440ca-43ee-465a-88f2-b12de810db8d",
   "metadata": {},
   "outputs": [],
   "source": [
    "(resultados.std() / resultados.mean()) * 100"
   ]
  },
  {
   "cell_type": "code",
   "execution_count": null,
   "id": "870fb626-3118-4985-bcd3-ad0468220c85",
   "metadata": {},
   "outputs": [],
   "source": [
    "# Substitua 'SeuDataFrame' pelo nome real do seu DataFrame\n",
    "sns.lineplot(data=resultados, marker='o')  # 'T' transpõe as linhas para as colunas\n",
    "plt.title('Curva de Aprendizado por Modelo')\n",
    "plt.xlabel('Fold')\n",
    "plt.ylabel('Acurácia')\n",
    "plt.legend(title='Modelo', bbox_to_anchor=(1.05, 1), loc='upper left')\n",
    "plt.savefig('imagens/curva_aprendizado.png', dpi=600, bbox_inches='tight')\n",
    "plt.show()"
   ]
  },
  {
   "cell_type": "markdown",
   "id": "15c44eae-b7ae-4bff-9f6c-cf8d86758f65",
   "metadata": {},
   "source": [
    "#### Teste de normalidade"
   ]
  },
  {
   "cell_type": "code",
   "execution_count": null,
   "id": "f2d17ef4-0e48-4646-bcc4-877ea037056e",
   "metadata": {},
   "outputs": [],
   "source": [
    "alpha = 0.05"
   ]
  },
  {
   "cell_type": "code",
   "execution_count": null,
   "id": "b3bf3186-d560-48ea-8792-80a9c437faa5",
   "metadata": {},
   "outputs": [],
   "source": [
    "from scipy.stats import shapiro"
   ]
  },
  {
   "cell_type": "code",
   "execution_count": null,
   "id": "bde839c0-9686-4bf5-be39-e6eb8e3fb125",
   "metadata": {},
   "outputs": [],
   "source": [
    "shapiro(resultados_arvore), shapiro(resultados_random_forest), shapiro(resultados_svm), shapiro(resultados_rede_neural)"
   ]
  },
  {
   "cell_type": "markdown",
   "id": "89912f71-8b89-4b0e-a9c6-2b733cf8cd26",
   "metadata": {},
   "source": [
    "#### Teste de hipótese com ANOVA e Tukey"
   ]
  },
  {
   "cell_type": "code",
   "execution_count": null,
   "id": "319d4284-9eb6-4265-8739-1a61df5fc1e9",
   "metadata": {},
   "outputs": [],
   "source": [
    "from scipy.stats import f_oneway"
   ]
  },
  {
   "cell_type": "code",
   "execution_count": null,
   "id": "ceccf6e7-9f79-4344-a7fb-389a58768cbe",
   "metadata": {},
   "outputs": [],
   "source": [
    "_, p = f_oneway(resultados_arvore, resultados_random_forest, resultados_svm, resultados_rede_neural)\n",
    "p"
   ]
  },
  {
   "cell_type": "code",
   "execution_count": null,
   "id": "0064c754-2191-4f5e-8518-bc1e16512818",
   "metadata": {},
   "outputs": [],
   "source": [
    "alpha = 0.05\n",
    "if p <= alpha:\n",
    "  print('Hipótese nula rejeitada. Dados são diferentes')\n",
    "else:\n",
    "  print('Hipótese alternativa rejeitada. Resultados são iguais')"
   ]
  },
  {
   "cell_type": "code",
   "execution_count": null,
   "id": "efabdfbb-1dab-4765-9db9-0e32a7544dbd",
   "metadata": {},
   "outputs": [],
   "source": [
    "resultados_algoritmos = {'accuracy': np.concatenate([resultados_arvore, resultados_random_forest, resultados_svm, resultados_rede_neural]),\n",
    "                         'algoritmo': ['arvore','arvore','arvore','arvore','arvore'\n",
    "                          'random_forest','random_forest','random_forest','random_forest','random_forest'\n",
    "                          'svm','svm','svm','svm','svm'\n",
    "                          'rede_neural','rede_neural','rede_neural','rede_neural','rede_neural']}"
   ]
  },
  {
   "cell_type": "code",
   "execution_count": null,
   "id": "3bd9ea29-1b36-4d0a-9c36-d75b3a9b89c7",
   "metadata": {},
   "outputs": [],
   "source": [
    "resultados_algoritmos = {'accuracy': np.concatenate([resultados_arvore, resultados_random_forest, resultados_svm, resultados_rede_neural]),\n",
    "                         'algoritmo': ['arvore']*len(resultados_arvore) + ['random_forest']*len(resultados_random_forest) + ['svm']*len(resultados_svm) + ['rede_neural']*len(resultados_rede_neural)}\n"
   ]
  },
  {
   "cell_type": "code",
   "execution_count": null,
   "id": "af08a3c3-4724-40e8-a25d-db8f4874b854",
   "metadata": {},
   "outputs": [],
   "source": [
    "resultados_df = pd.DataFrame(resultados_algoritmos)\n",
    "resultados_df"
   ]
  },
  {
   "cell_type": "code",
   "execution_count": null,
   "id": "cf9714e4-a923-41d9-bc7e-4104e8430ddb",
   "metadata": {},
   "outputs": [],
   "source": [
    "from statsmodels.stats.multicomp import MultiComparison"
   ]
  },
  {
   "cell_type": "code",
   "execution_count": null,
   "id": "1dfe45e6-bd2e-4748-a22e-32f4fb29e9e8",
   "metadata": {},
   "outputs": [],
   "source": [
    "compara_algoritmos = MultiComparison(resultados_df['accuracy'], resultados_df['algoritmo'])"
   ]
  },
  {
   "cell_type": "code",
   "execution_count": null,
   "id": "ad2843bc-6e1b-4e1d-b9d4-9f5272a27073",
   "metadata": {},
   "outputs": [],
   "source": [
    "teste_estatistico = compara_algoritmos.tukeyhsd()\n",
    "print(teste_estatistico)"
   ]
  },
  {
   "cell_type": "code",
   "execution_count": null,
   "id": "98b69529-c87d-44d2-ad14-833a537b5536",
   "metadata": {},
   "outputs": [],
   "source": [
    "resultados.mean()"
   ]
  },
  {
   "cell_type": "code",
   "execution_count": null,
   "id": "459c667a-73db-474a-b9b6-91b8662926ea",
   "metadata": {},
   "outputs": [],
   "source": [
    "teste_estatistico.plot_simultaneous();"
   ]
  },
  {
   "cell_type": "markdown",
   "id": "772e00b5-e66e-401c-bacd-61abd2fab756",
   "metadata": {},
   "source": [
    "#### Salvar o classificador treinado"
   ]
  },
  {
   "cell_type": "code",
   "execution_count": null,
   "id": "281dae21-7e43-4b82-af5d-de0ccac21d52",
   "metadata": {},
   "outputs": [],
   "source": [
    "classificador_randomForest = RandomForestClassifier(bootstrap=False, criterion='entropy', max_depth=10,\n",
    "                       n_estimators=200, n_jobs=-1, random_state=42,\n",
    "                       warm_start=True)\n",
    "classificador_randomForest.fit(x_poscomp_comp, y_poscomp_comp)"
   ]
  },
  {
   "cell_type": "code",
   "execution_count": null,
   "id": "283dde3e-e5aa-4907-ae9a-13ace396a393",
   "metadata": {},
   "outputs": [],
   "source": [
    "with open('dados/classificadores/randomForest_finalizado2.sav', 'wb') as file:\n",
    "    pickle.dump(classificador_randomForest, file, protocol=pickle.HIGHEST_PROTOCOL)"
   ]
  },
  {
   "cell_type": "markdown",
   "id": "e1b0d5ed-5d6d-4405-b599-afbd6f17523a",
   "metadata": {},
   "source": [
    "#### Carregar um classificar treinado"
   ]
  },
  {
   "cell_type": "code",
   "execution_count": null,
   "id": "b868c02b-cdc6-48cd-a053-6fc9f2252e32",
   "metadata": {},
   "outputs": [],
   "source": [
    "randomForest = pickle.load(open('randomForest_finalizado.sav', 'rb'))"
   ]
  },
  {
   "cell_type": "markdown",
   "id": "2faafc87-12da-4ed8-9fb3-5335827f5a23",
   "metadata": {
    "tags": []
   },
   "source": [
    "### Aplicação dos 2 modelos"
   ]
  },
  {
   "cell_type": "markdown",
   "id": "17363797-d306-4361-adad-c419f3e218ab",
   "metadata": {
    "jp-MarkdownHeadingCollapsed": true
   },
   "source": [
    "#### Aplicação para os candidatos da área de computação"
   ]
  },
  {
   "cell_type": "code",
   "execution_count": null,
   "id": "0c1559a8-1e9f-4235-af76-61088b854ffe",
   "metadata": {},
   "outputs": [],
   "source": [
    "df_computation = dataset[dataset['area_concentration'] == 'computacao']"
   ]
  },
  {
   "cell_type": "code",
   "execution_count": null,
   "id": "1fc28084-c854-4216-852a-d99686f45b7c",
   "metadata": {},
   "outputs": [],
   "source": [
    "df_computation = df_computation.loc[:,['IDADE','SEXO','REGIAO','ESTADO','matematica', 'fund_computacao','tec_computacao','total','linhas_pesquisas']]"
   ]
  },
  {
   "cell_type": "code",
   "execution_count": null,
   "id": "443cf217-1195-4932-8cea-e0abb59fbdce",
   "metadata": {},
   "outputs": [],
   "source": [
    "categorical_columns_comp = [\"linhas_pesquisas\",'SEXO','REGIAO','ESTADO']\n",
    "df_computation = encode_categorical_columns(df_computation, categorical_columns_comp)"
   ]
  },
  {
   "cell_type": "code",
   "execution_count": null,
   "id": "a6c4727c-d42d-40b7-9af5-f6c08d2ae252",
   "metadata": {},
   "outputs": [],
   "source": [
    "x_computation = df_computation.drop(['linhas_pesquisas'], axis=1)\n",
    "y_computation = df_computation['linhas_pesquisas']"
   ]
  },
  {
   "cell_type": "markdown",
   "id": "2caaf0c5-2207-46fe-a2ca-e7401182c7ec",
   "metadata": {},
   "source": [
    "Dividir a Base"
   ]
  },
  {
   "cell_type": "code",
   "execution_count": null,
   "id": "bd90c8a9-f695-4519-b128-cf809b23766a",
   "metadata": {},
   "outputs": [],
   "source": [
    "x_train_comp, x_test_comp, y_train_comp, y_test_comp = train_test_split(x_computation, y_computation, \n",
    "                                                                        test_size=0.3, stratify=y_computation, random_state=42)"
   ]
  },
  {
   "cell_type": "code",
   "execution_count": null,
   "id": "f7eaaffc-81b3-464b-8932-2d4202a21025",
   "metadata": {},
   "outputs": [],
   "source": [
    "print(\"Shape of x_train : \",x_train_comp.shape)\n",
    "print(\"Shape of x_test  : \",x_test_comp.shape)\n",
    "print(\"Shape of y_train : \",y_train_comp.shape)\n",
    "print(\"Shape of y_test  : \",y_test_comp.shape)"
   ]
  },
  {
   "cell_type": "markdown",
   "id": "9d80297f-d20f-4427-986e-148da947c4fc",
   "metadata": {},
   "source": [
    "##### Busca por hiperparamentros"
   ]
  },
  {
   "cell_type": "markdown",
   "id": "e1729baf-907d-49bd-a216-f01c183b2993",
   "metadata": {
    "jp-MarkdownHeadingCollapsed": true
   },
   "source": [
    "###### Arvore de Decisão"
   ]
  },
  {
   "cell_type": "code",
   "execution_count": null,
   "id": "e463a37b-7541-4477-95b7-b156ba9bac4c",
   "metadata": {
    "tags": []
   },
   "outputs": [],
   "source": [
    "parametros = {'criterion': [\"entropy\"],\n",
    "    'splitter': [\"random\"],\n",
    "    'max_depth': [4,5,10,20],  # Ou qualquer outro intervalo apropriado\n",
    "    'min_samples_split': [2,5,10],\n",
    "    'min_samples_leaf': [12,15,20],\n",
    "    # 'min_weight_fraction_leaf': [0.5],\n",
    "    'max_features': [7,10,15],\n",
    "    # 'max_leaf_nodes': [None, 5, 10, 20],\n",
    "    # 'min_impurity_decrease': [0.0, 0.1, 0.2],\n",
    "    # 'ccp_alpha': [0.0, 0.1, 0.2],\n",
    "}"
   ]
  },
  {
   "cell_type": "code",
   "execution_count": null,
   "id": "5aa16e13-e966-46a1-b774-e3f323424332",
   "metadata": {
    "tags": []
   },
   "outputs": [],
   "source": [
    "tree_clf = ClassifierWrapper(DecisionTreeClassifier(random_state=42), parametros)\n",
    "tree_clf.grid_search(x_train_comp, y_train_comp, cv=3)\n",
    "tree_clf.train_and_print_scores(x_train_comp, y_train_comp, x_test_comp, y_test_comp)"
   ]
  },
  {
   "cell_type": "markdown",
   "id": "7339bda8-1bb4-424b-9dfa-3b42dd82ffc3",
   "metadata": {
    "jp-MarkdownHeadingCollapsed": true
   },
   "source": [
    "###### Random Forest"
   ]
  },
  {
   "cell_type": "code",
   "execution_count": null,
   "id": "48d96875-79be-428f-8700-730df2c418ef",
   "metadata": {
    "tags": []
   },
   "outputs": [],
   "source": [
    "parametros = {\n",
    "    'n_estimators': [5000],\n",
    "    'criterion': [\"entropy\"],\n",
    "    'max_depth': [4,6,8],\n",
    "    # 'min_samples_split': [2,4,6],\n",
    "    'min_samples_leaf': [6,8,10],\n",
    "    # 'min_weight_fraction_leaf': [0.0, 0.1, 0.2],\n",
    "    'max_features': [6,8,10,12],\n",
    "    # 'max_leaf_nodes': [None, 10, 20, 30],\n",
    "    # 'min_impurity_decrease': [0.0, 0.1, 0.2],\n",
    "    # 'bootstrap': [False, True],\n",
    "    'oob_score': [True],\n",
    "    'n_jobs': [-1],  # Use -1 para usar todos os processadores disponíveis\n",
    "    # 'verbose': [0, 1, 2],\n",
    "    'warm_start': [True],\n",
    "    # 'class_weight': [None, 'balanced', 'balanced_subsample'],\n",
    "    # 'ccp_alpha': [0.0, 0.1, 0.2],\n",
    "    # 'max_samples': [None, 0.7, 0.8, 0.9],\n",
    "}"
   ]
  },
  {
   "cell_type": "code",
   "execution_count": null,
   "id": "6afa87b7-aa10-4488-9388-5b2cb4842d76",
   "metadata": {
    "tags": []
   },
   "outputs": [],
   "source": [
    "forest_clf = ClassifierWrapper(RandomForestClassifier(random_state=42), parametros)\n",
    "forest_clf.grid_search(x_train_comp, y_train_comp, cv=3)\n",
    "forest_clf.train_and_print_scores(x_train_comp, y_train_comp, x_test_comp, y_test_comp)"
   ]
  },
  {
   "cell_type": "markdown",
   "id": "2cfce2ae-fc04-4dc7-8cf9-83bdd0a497b5",
   "metadata": {
    "jp-MarkdownHeadingCollapsed": true
   },
   "source": [
    "###### SVM"
   ]
  },
  {
   "cell_type": "code",
   "execution_count": null,
   "id": "cb277c9f-2b35-4a20-808d-3c357ccf367b",
   "metadata": {},
   "outputs": [],
   "source": [
    "parametros = {\n",
    "    'C': [1,10],\n",
    "    'degree': [1,2,3],\n",
    "    'gamma': ['scale', 'auto', 0.1, 1.0],\n",
    "    # 'coef0': [0.0, 0.1, 1.0],\n",
    "    # 'shrinking': [False],\n",
    "    # 'probability': [True],\n",
    "    # 'tol': [1e-4],\n",
    "    # 'cache_size': np.arange(1,11,2),\n",
    "    # 'class_weight': [None, 'balanced'],\n",
    "    # 'verbose': [True],\n",
    "    # 'max_iter': [100, 1000, -1],  # -1 indica nenhum limite\n",
    "    # 'decision_function_shape': ['ovr', 'ovo'],\n",
    "    # 'break_ties': [True],\n",
    "} "
   ]
  },
  {
   "cell_type": "code",
   "execution_count": null,
   "id": "8aaa2265-464d-42e7-8a6e-1ed35211b8d8",
   "metadata": {
    "tags": []
   },
   "outputs": [],
   "source": [
    "svm_clf = ClassifierWrapper(SVC(random_state=42, kernel='rbf'), parametros)\n",
    "svm_clf.grid_search(x_train_comp, y_train_comp, cv=3)\n",
    "svm_clf.train_and_print_scores(x_train_comp, y_train_comp, x_test_comp, y_test_comp)"
   ]
  },
  {
   "cell_type": "code",
   "execution_count": null,
   "id": "c796c309-61d3-47f5-9891-75b5cbfd0a76",
   "metadata": {
    "tags": []
   },
   "outputs": [],
   "source": [
    "svm_clf = ClassifierWrapper(SVC(random_state=42, kernel='linear'), parametros)\n",
    "svm_clf.grid_search(x_train_comp, y_train_comp, cv=3)\n",
    "svm_clf.train_and_print_scores(x_train_comp, y_train_comp, x_test_comp, y_test_comp)"
   ]
  },
  {
   "cell_type": "code",
   "execution_count": null,
   "id": "37c2c699-a542-491d-88ed-923ecced41bf",
   "metadata": {
    "tags": []
   },
   "outputs": [],
   "source": [
    "svm_clf = ClassifierWrapper(SVC(random_state=42, kernel='poly'), parametros)\n",
    "svm_clf.grid_search(x_train_comp, y_train_comp, cv=3)\n",
    "svm_clf.train_and_print_scores(x_train_comp, y_train_comp, x_test_comp, y_test_comp)"
   ]
  },
  {
   "cell_type": "code",
   "execution_count": null,
   "id": "77071811-e1bb-4e97-8fbf-43e157f7e04b",
   "metadata": {
    "tags": []
   },
   "outputs": [],
   "source": [
    "svm_clf = ClassifierWrapper(SVC(random_state=42, kernel='sigmoid'), parametros)\n",
    "svm_clf.grid_search(x_train_comp, y_train_comp, cv=3)\n",
    "svm_clf.train_and_print_scores(x_train_comp, y_train_comp, x_test_comp, y_test_comp)"
   ]
  },
  {
   "cell_type": "code",
   "execution_count": null,
   "id": "5dc4a4d4-d07a-4d04-a7c1-02c61ba1428d",
   "metadata": {
    "tags": []
   },
   "outputs": [],
   "source": [
    "svm_clf = ClassifierWrapper(SVC(random_state=42, kernel='precomputed'), parametros)\n",
    "svm_clf.grid_search(x_train_comp, y_train_comp, cv=3)\n",
    "svm_clf.train_and_print_scores(x_train_comp, y_train_comp, x_test_comp, y_test_comp)"
   ]
  },
  {
   "cell_type": "markdown",
   "id": "84ed2b5b-9f2f-47dc-8ab6-12efbb7c4c1d",
   "metadata": {
    "jp-MarkdownHeadingCollapsed": true
   },
   "source": [
    "###### Rede Neural"
   ]
  },
  {
   "cell_type": "code",
   "execution_count": null,
   "id": "c123dbeb-3d55-444a-a68c-4acb2559a8f8",
   "metadata": {},
   "outputs": [],
   "source": [
    "parametros = {\n",
    "    'hidden_layer_sizes': [(50,), (100,), (50, 50), (100, 100), (200,100,50)],\n",
    "    'activation': ['identity', 'logistic', 'tanh', 'relu'],\n",
    "    'solver': ['lbfgs', 'sgd', 'adam'],\n",
    "    # 'alpha': [0.01, 0.1],\n",
    "    # 'batch_size': ['auto', 100, 200],\n",
    "    # 'learning_rate': ['constant', 'invscaling', 'adaptive'],\n",
    "    # 'learning_rate_init': [0.001, 0.01, 0.1],\n",
    "    # 'power_t': [0.5, 0.9],\n",
    "    # 'max_iter': [200, 300, 400],\n",
    "    # 'shuffle': [True, False],\n",
    "    # 'random_state': [None, 42],\n",
    "    # 'tol': [1e-4, 1e-3, 1e-2],\n",
    "    # 'verbose': [True, False],\n",
    "    # 'warm_start': [True, False],\n",
    "    # 'momentum': [0.5, 0.9],\n",
    "    # 'nesterovs_momentum': [True, False],\n",
    "    # 'early_stopping': [True, False],\n",
    "    # 'validation_fraction': [0.1, 0.2],\n",
    "    # 'beta_1': [0.9, 0.99],\n",
    "    # 'beta_2': [0.999, 0.9999],\n",
    "    # 'epsilon': [1e-8, 1e-7],\n",
    "    # 'n_iter_no_change': [5, 10, 15],\n",
    "    # 'max_fun': [10000, 15000, 20000]\n",
    "}\n"
   ]
  },
  {
   "cell_type": "code",
   "execution_count": null,
   "id": "59ae9207-1f96-49f8-ac00-3f2f50dff54c",
   "metadata": {},
   "outputs": [],
   "source": [
    "neural_clf = ClassifierWrapper(MLPClassifier(random_state=42), parametros)\n",
    "neural_clf.grid_search(x_train_comp, y_train_comp, cv=2)\n",
    "neural_clf.train_and_print_scores(x_train_comp, y_train_comp, x_test_comp, y_test_comp)"
   ]
  },
  {
   "cell_type": "markdown",
   "id": "c1f6a3fa-102a-4616-a488-cdda8a4f7744",
   "metadata": {
    "jp-MarkdownHeadingCollapsed": true
   },
   "source": [
    "###### Validação Cruzada"
   ]
  },
  {
   "cell_type": "code",
   "execution_count": null,
   "id": "f63623de-5b83-470d-8c89-18752904e531",
   "metadata": {},
   "outputs": [],
   "source": [
    "x_poscomp_comp = np.concatenate((x_train_comp, x_test_comp), axis = 0)\n",
    "y_poscomp_comp = np.concatenate((y_train_comp, y_test_comp), axis = 0)"
   ]
  },
  {
   "cell_type": "code",
   "execution_count": null,
   "id": "628876fb-a186-415a-b034-0964e45c6fb8",
   "metadata": {},
   "outputs": [],
   "source": [
    "# Uso para Decision Tree\n",
    "params_arvore_comp = {{'criterion': 'entropy', 'max_depth': 5, 'max_features': 7, \n",
    "                       'min_samples_leaf': 12, 'min_samples_split': 2, 'splitter': 'random'}\n",
    "resultados_arvore_comp = ClassifierWrapper.avaliar_classificador(DecisionTreeClassifier, params_arvore_comp, x_poscomp_comp, y_poscomp_comp)\n",
    "\n",
    "# Uso para Random Forest\n",
    "params_random_forest_comp = {'criterion': 'entropy', 'max_depth': 6, 'max_features': 8, 'min_samples_leaf': 6, \n",
    "                             'n_estimators': 5000, 'n_jobs': -1, 'oob_score': True, 'warm_start': True}\n",
    "resultados_random_forest_comp = ClassifierWrapper.avaliar_classificador(RandomForestClassifier, params_random_forest_comp, x_poscomp_comp, y_poscomp_comp)\n",
    "\n",
    "# Uso para SVM\n",
    "params_svm_comp = {'C': 1000, 'coef0': 0.0, 'degree': 1, 'gamma': 'scale', 'kernel': 'rbf', 'probability': True, 'shrinking': False}\n",
    "resultados_svm_comp = ClassifierWrapper.avaliar_classificador(SVC, params_svm_comp, x_poscomp_comp, y_poscomp_comp)\n",
    "\n",
    "# Uso para MLP (Rede Neural)\n",
    "params_rede_neural_comp = {'activation': 'tanh', 'hidden_layer_sizes': (100,), 'solver': 'adam'}\n",
    "resultados_rede_neural_comp = ClassifierWrapper.avaliar_classificador(MLPClassifier, params_rede_neural_comp, x_poscomp_comp, y_poscomp_comp)"
   ]
  },
  {
   "cell_type": "code",
   "execution_count": null,
   "id": "4bf083e7-e647-4b0e-8a23-ba5016118ad5",
   "metadata": {},
   "outputs": [],
   "source": [
    "resultados_comp = pd.DataFrame({'Arvore': resultados_arvore_comp, 'Random forest': resultados_random_forest_comp,\n",
    "                            'SVM': resultados_svm_comp, 'Rede neural': resultados_rede_neural_comp})\n",
    "resultados_comp"
   ]
  },
  {
   "cell_type": "code",
   "execution_count": null,
   "id": "d33976d6-1339-4d7f-bd3e-bb81e052d0cf",
   "metadata": {},
   "outputs": [],
   "source": [
    "resultados_comp.describe()"
   ]
  },
  {
   "cell_type": "code",
   "execution_count": null,
   "id": "6a344009-0a76-48f3-9c63-b1dfe9ad31f1",
   "metadata": {},
   "outputs": [],
   "source": [
    "resultados_comp.var()"
   ]
  },
  {
   "cell_type": "code",
   "execution_count": null,
   "id": "ba0f8389-137d-49de-a8f2-dfcf5ef5602f",
   "metadata": {},
   "outputs": [],
   "source": [
    "(resultados_comp.std() / resultados_comp.mean()) * 100"
   ]
  },
  {
   "cell_type": "code",
   "execution_count": null,
   "id": "32510e58-4d74-48b5-a4c2-2742087082a8",
   "metadata": {},
   "outputs": [],
   "source": [
    "# Substitua 'SeuDataFrame' pelo nome real do seu DataFrame\n",
    "sns.lineplot(data=resultados_comp, marker='o')  # 'T' transpõe as linhas para as colunas\n",
    "plt.title('Curva de Aprendizado por Modelo')\n",
    "plt.xlabel('Fold')\n",
    "plt.ylabel('Acurácia')\n",
    "plt.legend(title='Modelo', bbox_to_anchor=(1.05, 1), loc='upper left')\n",
    "plt.savefig('imagens/curva_aprendizado.png', dpi=600, bbox_inches='tight')\n",
    "plt.show()"
   ]
  },
  {
   "cell_type": "markdown",
   "id": "1ce06640-beff-443e-8de4-3a3930c1e762",
   "metadata": {},
   "source": [
    "Teste de normalidade"
   ]
  },
  {
   "cell_type": "code",
   "execution_count": null,
   "id": "792e87cc-3f6b-4208-8c57-a93c6f4056f3",
   "metadata": {},
   "outputs": [],
   "source": [
    "alpha = 0.05"
   ]
  },
  {
   "cell_type": "code",
   "execution_count": null,
   "id": "281c118a-d9ea-4847-8ee9-420254ebaf62",
   "metadata": {},
   "outputs": [],
   "source": [
    "from scipy.stats import shapiro"
   ]
  },
  {
   "cell_type": "code",
   "execution_count": null,
   "id": "870c2905-f78f-4dba-b40e-a537f3afd32c",
   "metadata": {},
   "outputs": [],
   "source": [
    "shapiro(resultados_arvore_comp), shapiro(resultados_random_forest_comp), shapiro(resultados_svm_comp), shapiro(resultados_rede_neural_comp)"
   ]
  },
  {
   "cell_type": "markdown",
   "id": "0afcaf54-49fa-4401-b960-6cb8b7e26c59",
   "metadata": {},
   "source": [
    "Teste de hipótese com ANOVA e Tukey"
   ]
  },
  {
   "cell_type": "code",
   "execution_count": null,
   "id": "d10d3a17-467d-43e2-9568-e4f49583dcb6",
   "metadata": {},
   "outputs": [],
   "source": [
    "from scipy.stats import f_oneway"
   ]
  },
  {
   "cell_type": "code",
   "execution_count": null,
   "id": "10bc7640-f90c-4c97-8932-db6ec76d56a1",
   "metadata": {},
   "outputs": [],
   "source": [
    "_, p = f_oneway(resultados_arvore_comp, resultados_random_forest_comp, resultados_svm_comp, resultados_rede_neural_comp)\n",
    "p"
   ]
  },
  {
   "cell_type": "code",
   "execution_count": null,
   "id": "42c6f883-ae60-4db6-91c7-b61bcc0d3aad",
   "metadata": {},
   "outputs": [],
   "source": [
    "alpha = 0.05\n",
    "if p <= alpha:\n",
    "  print('Hipótese nula rejeitada. Dados são diferentes')\n",
    "else:\n",
    "  print('Hipótese alternativa rejeitada. Resultados são iguais')"
   ]
  },
  {
   "cell_type": "code",
   "execution_count": null,
   "id": "1cd37c1d-a704-4225-a7ec-f3b56471115c",
   "metadata": {},
   "outputs": [],
   "source": [
    "resultados_algoritmos_comp = {'accuracy': np.concatenate([resultados_arvore_comp, resultados_random_forest_comp, resultados_svm_comp, resultados_rede_neural_comp]),\n",
    "                         'algoritmo': ['arvore']*len(resultados_arvore_comp) + ['random_forest']*len(resultados_random_forest_comp) + ['svm']*len(resultados_svm_comp) + ['rede_neural']*len(resultados_rede_neural_comp)}\n"
   ]
  },
  {
   "cell_type": "code",
   "execution_count": null,
   "id": "34dd4c33-a22d-45c0-bcdc-e9c2bdf056b7",
   "metadata": {},
   "outputs": [],
   "source": [
    "resultados_df_comp = pd.DataFrame(resultados_algoritmos_comp)\n",
    "resultados_df_comp"
   ]
  },
  {
   "cell_type": "code",
   "execution_count": null,
   "id": "0bac6abb-5342-43d5-8a48-b7ff45e2cab7",
   "metadata": {},
   "outputs": [],
   "source": [
    "!pip install statsmodels"
   ]
  },
  {
   "cell_type": "code",
   "execution_count": null,
   "id": "ee04a50e-3de7-4069-b9d5-646be0d86a24",
   "metadata": {},
   "outputs": [],
   "source": [
    "from statsmodels.stats.multicomp import MultiComparison"
   ]
  },
  {
   "cell_type": "code",
   "execution_count": null,
   "id": "be0c9e97-2f7f-4db4-a177-c88bdb55f963",
   "metadata": {},
   "outputs": [],
   "source": [
    "compara_algoritmos_comp = MultiComparison(resultados_df_comp['accuracy'], resultados_df_comp['algoritmo'])"
   ]
  },
  {
   "cell_type": "code",
   "execution_count": null,
   "id": "a37fe89b-3963-42b9-94c7-237a9246f6df",
   "metadata": {},
   "outputs": [],
   "source": [
    "teste_estatistico_comp = compara_algoritmos_comp.tukeyhsd()\n",
    "print(teste_estatistico_comp)"
   ]
  },
  {
   "cell_type": "code",
   "execution_count": null,
   "id": "d775a6ac-3c0b-4a90-8569-5c8020da243f",
   "metadata": {},
   "outputs": [],
   "source": [
    "resultados_comp.mean()"
   ]
  },
  {
   "cell_type": "code",
   "execution_count": null,
   "id": "29268939-372d-4689-a92c-fbc67a0225fe",
   "metadata": {},
   "outputs": [],
   "source": [
    "teste_estatistico_comp.plot_simultaneous();"
   ]
  },
  {
   "cell_type": "markdown",
   "id": "dd1e015e-fe97-495c-a07c-3029fe9c5671",
   "metadata": {},
   "source": [
    "Salvar o classificador treinado"
   ]
  },
  {
   "cell_type": "code",
   "execution_count": null,
   "id": "5481b1c2-972c-40dc-94fd-18e9cc0ad101",
   "metadata": {},
   "outputs": [],
   "source": [
    "classificador_randomForest = RandomForestClassifier(bootstrap=False, criterion='entropy', max_depth=10,\n",
    "                       n_estimators=200, n_jobs=-1, random_state=42,\n",
    "                       warm_start=True)\n",
    "classificador_randomForest.fit(x_poscomp, y_poscomp)"
   ]
  },
  {
   "cell_type": "code",
   "execution_count": null,
   "id": "877374c0-3098-4fc3-ab59-970c232cef54",
   "metadata": {},
   "outputs": [],
   "source": [
    "import pickle\n",
    "pickle.dump(classificador_randomForest, open('randomForest_finalizado.sav', 'wb'))"
   ]
  },
  {
   "cell_type": "markdown",
   "id": "b246bb8f-8958-4279-bb15-affae05767ad",
   "metadata": {},
   "source": [
    "Carregar um classificar treinado"
   ]
  },
  {
   "cell_type": "code",
   "execution_count": null,
   "id": "30f53597-a014-40a6-a7fa-7b127af967fb",
   "metadata": {},
   "outputs": [],
   "source": [
    "randomForest = pickle.load(open('randomForest_finalizado.sav', 'rb'))"
   ]
  },
  {
   "cell_type": "markdown",
   "id": "cfd288fc-3da5-4b95-b60b-f5983c99655f",
   "metadata": {
    "jp-MarkdownHeadingCollapsed": true
   },
   "source": [
    "##### Algoritmos para computação"
   ]
  },
  {
   "cell_type": "code",
   "execution_count": null,
   "id": "2e4518f1-0464-43cd-9592-7815c8d2c2ae",
   "metadata": {
    "tags": []
   },
   "outputs": [],
   "source": [
    "from sklearn.metrics import accuracy_score, precision_score, recall_score, f1_score, confusion_matrix\n",
    "\n",
    "algorithms = [\n",
    "    ('Árvore de Decisão (C4.5)', DecisionTreeClassifier(random_state=42)),\n",
    "    ('Random Forest', RandomForestClassifier(random_state=42, n_estimators=1000)),\n",
    "    ('SVM', SVC(random_state=42)),\n",
    "    ('Rede Neural', MLPClassifier(random_state=42)),\n",
    "]\n",
    "\n",
    "for name, classifier in algorithms:\n",
    "    classifier.fit(x_train_comp, y_train_comp)\n",
    "    train_predictions_comp = classifier.predict(x_train_comp)\n",
    "    test_predictions_comp = classifier.predict(x_test_comp)\n",
    "    \n",
    "    train_accuracy_comp = accuracy_score(y_train_comp, train_predictions_comp)\n",
    "    test_accuracy_comp = accuracy_score(y_test_comp, test_predictions_comp)\n",
    "    \n",
    "    precision_comp = precision_score(y_test_comp, test_predictions_comp, average='macro')\n",
    "    recall_comp = recall_score(y_test_comp, test_predictions_comp, average='macro')\n",
    "    f1_comp = f1_score(y_test_comp, test_predictions_comp, average='macro')\n",
    "    \n",
    "    conf_matrix_comp = confusion_matrix(y_test_comp, test_predictions_comp)\n",
    "    \n",
    "    print(f'{name} - Acurácia no Conjunto de Treinamento: {train_accuracy_comp * 100:.2f}%')\n",
    "    print(f'{name} - Acurácia no Conjunto de Teste: {test_accuracy_comp * 100:.2f}%')\n",
    "    print(f'{name} - Precisão: {precision_comp * 100:.2f}%')\n",
    "    print(f'{name} - Recall: {recall_comp * 100:.2f}%')\n",
    "    print(f'{name} - F1-Score: {f1_comp * 100:.2f}%')\n",
    "    print(f'{name} - Matriz de Confusão:\\n{conf_matrix_comp}\\n')\n"
   ]
  },
  {
   "cell_type": "code",
   "execution_count": null,
   "id": "1d3b3ae7-e0c7-4912-a457-b4f52f290b08",
   "metadata": {},
   "outputs": [],
   "source": []
  },
  {
   "cell_type": "markdown",
   "id": "02286166-9893-452e-842e-5c0bd99407c9",
   "metadata": {
    "jp-MarkdownHeadingCollapsed": true
   },
   "source": [
    "#### Aplicação para os candidatos da área de informação"
   ]
  },
  {
   "cell_type": "code",
   "execution_count": null,
   "id": "3e342c45-6ed2-4db2-8339-b96bdf31b2ee",
   "metadata": {},
   "outputs": [],
   "source": [
    "df_information = dataset[dataset['area_concentration'] == 'informatica']"
   ]
  },
  {
   "cell_type": "code",
   "execution_count": null,
   "id": "6d261acf-d772-4d85-8d57-d348d63d911c",
   "metadata": {},
   "outputs": [],
   "source": [
    "df_information = df_information.loc[:,['IDADE','SEXO','REGIAO','ESTADO','matematica', 'fund_computacao','tec_computacao','total','linhas_pesquisas']]"
   ]
  },
  {
   "cell_type": "code",
   "execution_count": null,
   "id": "c80aff8f-feb7-4108-a213-a101de714a82",
   "metadata": {},
   "outputs": [],
   "source": [
    "df_information['linhas_pesquisas'].unique()"
   ]
  },
  {
   "cell_type": "code",
   "execution_count": null,
   "id": "e9c34fe3-f5df-4ddc-860b-26b3cb6dcd83",
   "metadata": {},
   "outputs": [],
   "source": [
    "categorical_columns_inf = [\"linhas_pesquisas\",'SEXO','REGIAO','ESTADO']\n",
    "df_information = encode_categorical_columns(df_information, categorical_columns_inf)"
   ]
  },
  {
   "cell_type": "code",
   "execution_count": null,
   "id": "67fe413d-7cf5-4fb5-a822-19c7e84962a5",
   "metadata": {},
   "outputs": [],
   "source": [
    "x_information = df_information.drop(['linhas_pesquisas'], axis=1)\n",
    "y_information = df_information['linhas_pesquisas']"
   ]
  },
  {
   "cell_type": "markdown",
   "id": "671bbdd9-c777-40cc-b5a4-44d2e7cf2f12",
   "metadata": {},
   "source": [
    "Dividir a Base"
   ]
  },
  {
   "cell_type": "code",
   "execution_count": null,
   "id": "88d5769f-76e7-4cc3-bbb1-348618d8b77c",
   "metadata": {},
   "outputs": [],
   "source": [
    "x_train_inf, x_test_inf, y_train_inf, y_test_inf = train_test_split(x_information, y_information, \n",
    "                                                                        test_size=0.3, stratify=y_information)"
   ]
  },
  {
   "cell_type": "code",
   "execution_count": null,
   "id": "27805ac6-1355-4f76-90b7-42be3a71b68f",
   "metadata": {},
   "outputs": [],
   "source": [
    "print(\"Shape of x_train : \",x_train_inf.shape)\n",
    "print(\"Shape of x_test  : \",x_test_inf.shape)\n",
    "print(\"Shape of y_train : \",y_train_inf.shape)\n",
    "print(\"Shape of y_test  : \",y_test_inf.shape)"
   ]
  },
  {
   "cell_type": "markdown",
   "id": "e10b7bfd-2c44-4663-9363-93f04a3dad68",
   "metadata": {},
   "source": [
    "###### Arvore de Decisão"
   ]
  },
  {
   "cell_type": "code",
   "execution_count": null,
   "id": "a855fbac-ac47-4eef-94af-0645000cb43f",
   "metadata": {
    "tags": []
   },
   "outputs": [],
   "source": [
    "parametros = {'criterion': [\"entropy\"],\n",
    "    'splitter': [\"random\"],\n",
    "    'max_depth': [2,4,5,6],  # Ou qualquer outro intervalo apropriado\n",
    "    'min_samples_split': [2, 5, 10],\n",
    "    'min_samples_leaf': np.arange(1,11,2),\n",
    "    # 'min_weight_fraction_leaf': [0.0, 0.1, 0.2],\n",
    "    'max_features': [1,2,3,4,5],\n",
    "    # 'max_leaf_nodes': [None, 5, 10, 20],\n",
    "    # 'min_impurity_decrease': [0.0, 0.1, 0.2],\n",
    "    # 'ccp_alpha': [0.0, 0.1, 0.2],\n",
    "}"
   ]
  },
  {
   "cell_type": "code",
   "execution_count": null,
   "id": "85546ebf-511d-43fb-b5c2-0d00fe31ff32",
   "metadata": {
    "tags": []
   },
   "outputs": [],
   "source": [
    "tree_clf = ClassifierWrapper(DecisionTreeClassifier(random_state=42), parametros)\n",
    "tree_clf.grid_search(x_train_inf, y_train_inf, cv=2)\n",
    "tree_clf.train_and_print_scores(x_train_inf, y_train_inf, x_test_inf, y_test_inf)"
   ]
  },
  {
   "cell_type": "markdown",
   "id": "4636c70f-b377-4b01-b95b-be0f82b39efa",
   "metadata": {
    "jp-MarkdownHeadingCollapsed": true
   },
   "source": [
    "###### Random Forest"
   ]
  },
  {
   "cell_type": "code",
   "execution_count": null,
   "id": "d98c49a4-6fd1-442d-84e2-b076805786d9",
   "metadata": {
    "tags": []
   },
   "outputs": [],
   "source": [
    "parametros = {\n",
    "    'n_estimators': [300,500,700], \n",
    "    'criterion': [\"entropy\"],\n",
    "    'max_depth': [2,5,12],\n",
    "    'min_samples_split': [2,5,10],\n",
    "    'min_samples_leaf': [2,5,10],\n",
    "    # 'min_weight_fraction_leaf': [0.0, 0.1, 0.2],\n",
    "    'max_features':[1,2,3,4],\n",
    "    # 'max_leaf_nodes': [None, 10, 20, 30],\n",
    "    # 'min_impurity_decrease': [0.0, 0.1, 0.2],\n",
    "    'bootstrap': [False],\n",
    "    # 'oob_score': [True, False],\n",
    "    'n_jobs': [-1],  # Use -1 para usar todos os processadores disponíveis\n",
    "    # 'verbose': [0, 1, 2],\n",
    "    # 'warm_start': [True],\n",
    "    # 'class_weight': [None, 'balanced', 'balanced_subsample'],\n",
    "    # 'ccp_alpha': [0.0, 0.1, 0.2],\n",
    "    # 'max_samples': [None, 0.7, 0.8, 0.9],\n",
    "}"
   ]
  },
  {
   "cell_type": "code",
   "execution_count": null,
   "id": "b3628987-6695-4f38-8638-1f2aa7dbf232",
   "metadata": {
    "tags": []
   },
   "outputs": [],
   "source": [
    "forest_clf = ClassifierWrapper(RandomForestClassifier(random_state=42), parametros)\n",
    "forest_clf.grid_search(x_train_inf, y_train_inf, cv=3)\n",
    "forest_clf.train_and_print_scores(x_train_inf, y_train_inf, x_test_inf, y_test_inf)"
   ]
  },
  {
   "cell_type": "markdown",
   "id": "e243dafe-e9de-4aec-a66d-a5e03d5cafb4",
   "metadata": {},
   "source": [
    "###### SVM"
   ]
  },
  {
   "cell_type": "code",
   "execution_count": null,
   "id": "23a240f8-dc11-4d41-9aac-1b8033435237",
   "metadata": {},
   "outputs": [],
   "source": [
    "parametros = {\n",
    "    'C': [1,2,3,10],\n",
    "    # 'kernel': [],\n",
    "    'degree': [1,2,3],\n",
    "    'gamma': ['scale', 'auto'],\n",
    "    # 'coef0': [0.0, 0.1, 1.0],\n",
    "    # 'shrinking': [True, False],\n",
    "    # 'probability': [True],\n",
    "    # 'tol': [1e-4],\n",
    "    # 'cache_size': np.arange(1,11,2),\n",
    "    # 'class_weight': [None, 'balanced'],\n",
    "    # 'verbose': [True],\n",
    "    # 'max_iter': [100, 1000, -1],  # -1 indica nenhum limite\n",
    "    # 'decision_function_shape': ['ovr', 'ovo'],\n",
    "    # 'break_ties': [True],\n",
    "} "
   ]
  },
  {
   "cell_type": "code",
   "execution_count": null,
   "id": "39c72ead-ea26-434c-a461-9deb97c53cc5",
   "metadata": {
    "tags": []
   },
   "outputs": [],
   "source": [
    "svm_clf = ClassifierWrapper(SVC(random_state=42, kernel='sigmoid'), parametros)\n",
    "svm_clf.grid_search(x_train_inf, y_train_inf, cv=3)\n",
    "svm_clf.train_and_print_scores(x_train_inf, y_train_inf, x_test_inf, y_test_inf)"
   ]
  },
  {
   "cell_type": "code",
   "execution_count": null,
   "id": "c06257a6-60ac-4724-9913-1b0c5594a43f",
   "metadata": {
    "tags": []
   },
   "outputs": [],
   "source": [
    "svm_clf = ClassifierWrapper(SVC(random_state=42, kernel='linear'), parametros)\n",
    "svm_clf.grid_search(x_train_inf, y_train_inf, cv=3)\n",
    "svm_clf.train_and_print_scores(x_train_inf, y_train_inf, x_test_inf, y_test_inf)"
   ]
  },
  {
   "cell_type": "code",
   "execution_count": null,
   "id": "d0881227-fa1d-4e45-b6c4-e28f5a3a987e",
   "metadata": {
    "tags": []
   },
   "outputs": [],
   "source": [
    "svm_clf = ClassifierWrapper(SVC(random_state=42, kernel='poly'), parametros)\n",
    "svm_clf.grid_search(x_train_inf, y_train_inf, cv=3)\n",
    "svm_clf.train_and_print_scores(x_train_inf, y_train_inf, x_test_inf, y_test_inf)"
   ]
  },
  {
   "cell_type": "code",
   "execution_count": null,
   "id": "f35f639c-9828-449a-bd74-3179d39d78e3",
   "metadata": {
    "tags": []
   },
   "outputs": [],
   "source": [
    "svm_clf = ClassifierWrapper(SVC(random_state=42, kernel='rbf'), parametros)\n",
    "svm_clf.grid_search(x_train_inf, y_train_inf, cv=3)\n",
    "svm_clf.train_and_print_scores(x_train_inf, y_train_inf, x_test_inf, y_test_inf)"
   ]
  },
  {
   "cell_type": "markdown",
   "id": "cfb741fa-3660-4eda-8704-e3f0cdad05ed",
   "metadata": {
    "jp-MarkdownHeadingCollapsed": true
   },
   "source": [
    "###### Rede Neural"
   ]
  },
  {
   "cell_type": "code",
   "execution_count": null,
   "id": "9740f713-d0e0-4e50-9c20-1f39f691e440",
   "metadata": {},
   "outputs": [],
   "source": [
    "parametros = {\n",
    "    'hidden_layer_sizes': [(200,100,50)],  # Experimente diferentes configurações de camadas e neurônios\n",
    "    'activation': ['identity', 'logistic', 'tanh', 'relu'],\n",
    "    'solver': ['adam'],\n",
    "    # 'alpha': [0.00001],\n",
    "    # 'batch_size': [50],\n",
    "    # 'learning_rate': ['constant', 'invscaling', 'adaptive'],\n",
    "    # 'learning_rate_init': [0.001, 0.01, 0.1],\n",
    "    # 'power_t': [0.4],\n",
    "    # 'max_iter': [70],\n",
    "    # 'shuffle': [True],\n",
    "    # 'tol': [1e-3],\n",
    "    # 'verbose': [True, False],\n",
    "    # 'warm_start': [True, False],\n",
    "    # 'momentum': [0.001,0.002],\n",
    "    # 'nesterovs_momentum': [True, False],\n",
    "    # 'early_stopping': [True, False],\n",
    "    # 'validation_fraction': [0.1, 0.2],\n",
    "    # 'beta_1': [0.9, 0.99],\n",
    "    # 'beta_2': [0.99990,0.9999999],\n",
    "    # 'epsilon': [1e-5],\n",
    "    # 'n_iter_no_change': [15],\n",
    "    # 'max_fun': [10000, 15000, 20000]\n",
    "}"
   ]
  },
  {
   "cell_type": "code",
   "execution_count": null,
   "id": "15230b16-d8af-40ff-afa8-3bcfa3fbd465",
   "metadata": {},
   "outputs": [],
   "source": [
    "neural_clf = ClassifierWrapper(MLPClassifier(random_state=42), parametros)\n",
    "neural_clf.grid_search(x_train_inf, y_train_inf, cv=3)\n",
    "neural_clf.train_and_print_scores(x_train_inf, y_train_inf, x_test_inf, y_test_inf)"
   ]
  },
  {
   "cell_type": "markdown",
   "id": "b7121a81-596c-4fbc-ae04-f347dbb0e922",
   "metadata": {},
   "source": [
    "###### Validação Cruzada"
   ]
  },
  {
   "cell_type": "code",
   "execution_count": null,
   "id": "dc20f2cf-651e-4abc-bb3f-8046057345c5",
   "metadata": {},
   "outputs": [],
   "source": [
    "x_poscomp_inf = np.concatenate((x_train_inf, x_test_inf), axis = 0)\n",
    "y_poscomp_inf = np.concatenate((y_train_inf, y_test_inf), axis = 0)"
   ]
  },
  {
   "cell_type": "code",
   "execution_count": null,
   "id": "655ecdeb-1501-43e6-81ff-5ac7c0cb0db8",
   "metadata": {},
   "outputs": [],
   "source": [
    "# Uso para Decision Tree\n",
    "params_arvore_inf = {'criterion': 'entropy', 'max_depth': 5, 'max_features': 5, \n",
    "                      'min_samples_leaf': 21, 'splitter': 'best'}\n",
    "resultados_arvore_inf = ClassifierWrapper.avaliar_classificador(DecisionTreeClassifier, params_arvore_inf, x_poscomp_inf, y_poscomp_inf)\n",
    "\n",
    "# Uso para Random Forest\n",
    "params_random_forest_inf = {'criterion': 'entropy', 'max_depth': 12, 'max_features': 4, 'min_samples_leaf': 10, \n",
    "                              'n_estimators': 300, 'n_jobs': -1}\n",
    "resultados_random_forest_inf = ClassifierWrapper.avaliar_classificador(RandomForestClassifier, params_random_forest_inf, x_poscomp_inf, y_poscomp_inf)\n",
    "\n",
    "# Uso para SVM\n",
    "params_svm_inf = {'C': 1, 'degree': 1, 'kernel': 'rbf'}\n",
    "resultados_svm_inf = ClassifierWrapper.avaliar_classificador(SVC, params_svm_inf, x_poscomp_inf, y_poscomp_inf)\n",
    "\n",
    "# Uso para MLP (Rede Neural)\n",
    "params_rede_neural_inf = {'activation': 'tanh', 'alpha': 1e-05, 'batch_size': 50, 'hidden_layer_sizes': (200, 100, 50), \n",
    "                           'learning_rate': 'constant', 'learning_rate_init': 0.001, 'max_iter': 70, 'solver': 'adam'}\n",
    "resultados_rede_neural_inf = ClassifierWrapper.avaliar_classificador(MLPClassifier, params_rede_neural_inf, x_poscomp_inf, y_poscomp_inf)"
   ]
  },
  {
   "cell_type": "code",
   "execution_count": null,
   "id": "af849c6d-01e3-434d-ba62-6ca0f35e6d52",
   "metadata": {},
   "outputs": [],
   "source": [
    "resultados_inf = pd.DataFrame({'Arvore': resultados_arvore_inf, 'Random forest': resultados_random_forest_inf,\n",
    "                            'SVM': resultados_svm_inf, 'Rede neural': resultados_rede_neural_inf})\n",
    "resultados_inf"
   ]
  },
  {
   "cell_type": "code",
   "execution_count": null,
   "id": "cbc91fa3-4339-405e-b631-97f0fbd7bf98",
   "metadata": {},
   "outputs": [],
   "source": [
    "resultados_inf.describe()"
   ]
  },
  {
   "cell_type": "code",
   "execution_count": null,
   "id": "cbf8614b-d3e6-4715-9890-cbe65d9230d8",
   "metadata": {},
   "outputs": [],
   "source": [
    "resultados_inf.var()"
   ]
  },
  {
   "cell_type": "code",
   "execution_count": null,
   "id": "e8ddd27a-23e3-40a3-84de-2e44e1c69e0f",
   "metadata": {},
   "outputs": [],
   "source": [
    "(resultados_inf.std() / resultados_inf.mean()) * 100"
   ]
  },
  {
   "cell_type": "code",
   "execution_count": null,
   "id": "896911c7-6b43-43dc-80bd-1eb7a6c923ef",
   "metadata": {},
   "outputs": [],
   "source": [
    "# Substitua 'SeuDataFrame' pelo nome real do seu DataFrame\n",
    "sns.lineplot(data=resultados_inf, marker='o')  # 'T' transpõe as linhas para as colunas\n",
    "plt.title('Curva de Aprendizado por Modelo')\n",
    "plt.xlabel('Fold')\n",
    "plt.ylabel('Acurácia')\n",
    "plt.legend(title='Modelo', bbox_to_anchor=(1.05, 1), loc='upper left')\n",
    "plt.savefig('imagens/curva_aprendizado.png', dpi=600, bbox_inches='tight')\n",
    "plt.show()"
   ]
  },
  {
   "cell_type": "markdown",
   "id": "3ba32dfc-9d18-45c2-9f40-da79371b7c5f",
   "metadata": {},
   "source": [
    "Teste de normalidade"
   ]
  },
  {
   "cell_type": "code",
   "execution_count": null,
   "id": "fa269076-4239-4496-a4ad-2c1480b1dba4",
   "metadata": {},
   "outputs": [],
   "source": [
    "alpha = 0.05"
   ]
  },
  {
   "cell_type": "code",
   "execution_count": null,
   "id": "8cfe539f-9cb1-42fd-8a4f-3cff3e2d047a",
   "metadata": {},
   "outputs": [],
   "source": [
    "from scipy.stats import shapiro"
   ]
  },
  {
   "cell_type": "code",
   "execution_count": null,
   "id": "0fce7d58-e86b-44f6-bb44-f915691e221c",
   "metadata": {},
   "outputs": [],
   "source": [
    "shapiro(resultados_arvore_inf), shapiro(resultados_random_forest_inf), shapiro(resultados_svm_inf), shapiro(resultados_rede_neural_inf)"
   ]
  },
  {
   "cell_type": "markdown",
   "id": "22e380fb-66a3-4e52-b5f7-e23af7af054a",
   "metadata": {},
   "source": [
    "Teste de hipótese com ANOVA e Tukey"
   ]
  },
  {
   "cell_type": "code",
   "execution_count": null,
   "id": "843f4e36-5b67-4682-876b-88eedb942bd1",
   "metadata": {},
   "outputs": [],
   "source": [
    "from scipy.stats import f_oneway"
   ]
  },
  {
   "cell_type": "code",
   "execution_count": null,
   "id": "bf18509b-e530-4f3f-9909-9823a46c16c0",
   "metadata": {},
   "outputs": [],
   "source": [
    "_, p_inf = f_oneway(resultados_arvore_inf, resultados_random_forest_inf, resultados_svm_inf, resultados_rede_neural_inf)\n",
    "p_inf"
   ]
  },
  {
   "cell_type": "code",
   "execution_count": null,
   "id": "2dfd7e24-0a0b-4929-a01e-72b40fdf4f2f",
   "metadata": {},
   "outputs": [],
   "source": [
    "alpha = 0.05\n",
    "if p_inf <= alpha:\n",
    "  print('Hipótese nula rejeitada. Dados são diferentes')\n",
    "else:\n",
    "  print('Hipótese alternativa rejeitada. Resultados são iguais')"
   ]
  },
  {
   "cell_type": "code",
   "execution_count": null,
   "id": "587aad02-b1ab-4b73-bf62-17048ecb47d3",
   "metadata": {},
   "outputs": [],
   "source": [
    "resultados_algoritmos_inf = {'accuracy': np.concatenate([resultados_arvore_inf, resultados_random_forest_inf, resultados_svm_inf, resultados_rede_neural_inf]),\n",
    "                         'algoritmo': ['arvore']*len(resultados_arvore_inf) + ['random_forest']*len(resultados_random_forest_inf) + ['svm']*len(resultados_svm_inf) + ['rede_neural']*len(resultados_rede_neural_inf)}\n"
   ]
  },
  {
   "cell_type": "code",
   "execution_count": null,
   "id": "4725d387-0882-4d5c-bd7f-c361357d0f01",
   "metadata": {},
   "outputs": [],
   "source": [
    "resultados_df_inf = pd.DataFrame(resultados_algoritmos_inf)\n",
    "resultados_df_inf"
   ]
  },
  {
   "cell_type": "code",
   "execution_count": null,
   "id": "79ddba13-53f2-4a05-a974-1b3cb6012bce",
   "metadata": {},
   "outputs": [],
   "source": [
    "!pip install statsmodels"
   ]
  },
  {
   "cell_type": "code",
   "execution_count": null,
   "id": "13cf3bd8-e360-4f31-888d-3d87dd2d9198",
   "metadata": {},
   "outputs": [],
   "source": [
    "from statsmodels.stats.multicomp import MultiComparison"
   ]
  },
  {
   "cell_type": "code",
   "execution_count": null,
   "id": "6e560970-0598-4798-8cee-a4bfff8f2294",
   "metadata": {},
   "outputs": [],
   "source": [
    "compara_algoritmos_inf = MultiComparison(resultados_df_inf['accuracy'], resultados_df_inf['algoritmo'])"
   ]
  },
  {
   "cell_type": "code",
   "execution_count": null,
   "id": "5794fcec-fde6-4776-a300-a181a1e45ac6",
   "metadata": {},
   "outputs": [],
   "source": [
    "teste_estatistico_inf = compara_algoritmos_inf.tukeyhsd()\n",
    "print(teste_estatistico_inf)"
   ]
  },
  {
   "cell_type": "code",
   "execution_count": null,
   "id": "06b7b657-9dda-4a82-8104-bb0b3accd3c9",
   "metadata": {},
   "outputs": [],
   "source": [
    "resultados_inf.mean()"
   ]
  },
  {
   "cell_type": "code",
   "execution_count": null,
   "id": "96835ce3-a098-4bee-8b79-51af8fceea90",
   "metadata": {},
   "outputs": [],
   "source": [
    "teste_estatistico_inf.plot_simultaneous();"
   ]
  },
  {
   "cell_type": "markdown",
   "id": "e2bd7a76-d73f-4a2b-a629-491627fa18b9",
   "metadata": {
    "jp-MarkdownHeadingCollapsed": true
   },
   "source": [
    "##### Algoritmos para informação"
   ]
  },
  {
   "cell_type": "code",
   "execution_count": null,
   "id": "06981b18-b829-437b-aab7-b0a6aeb0d2ad",
   "metadata": {
    "tags": []
   },
   "outputs": [],
   "source": [
    "algorithms = [\n",
    "    ('Árvore de Decisão (C4.5)', DecisionTreeClassifier(random_state=42)),\n",
    "    ('Random Forest', RandomForestClassifier(random_state=42)),\n",
    "    ('SVM', SVC(random_state=42)),\n",
    "    ('Rede Neural', MLPClassifier(random_state=42)),\n",
    "]\n",
    "\n",
    "for name, classifier in algorithms:\n",
    "    classifier.fit(x_train_inf, y_train_inf)\n",
    "    train_predictions_inf = classifier.predict(x_train_inf)\n",
    "    test_predictions_inf = classifier.predict(x_test_inf)\n",
    "    \n",
    "    train_accuracy_inf = accuracy_score(y_train_inf, train_predictions_inf)\n",
    "    test_accuracy_inf = accuracy_score(y_test_inf, test_predictions_inf)\n",
    "    \n",
    "    precision_inf = precision_score(y_test_inf, test_predictions_inf, average='macro')\n",
    "    recall_inf = recall_score(y_test_inf, test_predictions_inf, average='macro')\n",
    "    f1_inf = f1_score(y_test_inf, test_predictions_inf, average='macro')\n",
    "    \n",
    "    conf_matrix_inf = confusion_matrix(y_test_inf, test_predictions_inf)\n",
    "    \n",
    "    print(f'{name} - Acurácia no Conjunto de Treinamento: {train_accuracy_inf * 100:.2f}%')\n",
    "    print(f'{name} - Acurácia no Conjunto de Teste: {test_accuracy_inf * 100:.2f}%')\n",
    "    print(f'{name} - Precisão: {precision_inf * 100:.2f}%')\n",
    "    print(f'{name} - Recall: {recall_inf * 100:.2f}%')\n",
    "    print(f'{name} - F1-Score: {f1_inf * 100:.2f}%')\n",
    "    print(f'{name} - Matriz de Confusão:\\n{conf_matrix_inf}\\n')\n"
   ]
  },
  {
   "cell_type": "markdown",
   "id": "b4165c43-bef6-4baf-9f46-a8c1ae0b6279",
   "metadata": {
    "jp-MarkdownHeadingCollapsed": true,
    "tags": []
   },
   "source": [
    "### Os algoritmos"
   ]
  },
  {
   "cell_type": "code",
   "execution_count": null,
   "id": "cca2bbdd-3d09-4e14-b8d2-2a485b3e3615",
   "metadata": {
    "tags": []
   },
   "outputs": [],
   "source": [
    "from sklearn.metrics import accuracy_score, precision_score, recall_score, f1_score, confusion_matrix\n",
    "\n",
    "algorithms = [\n",
    "    ('Árvore de Decisão (C4.5)', DecisionTreeClassifier(criterion='entropy', max_depth=4, min_samples_leaf=6,\n",
    "                       random_state=42)),\n",
    "    ('Random Forest', RandomForestClassifier(bootstrap=False, criterion='entropy', max_depth=10,\n",
    "                       n_estimators=200, n_jobs=-1, random_state=42,\n",
    "                       warm_start=True)),\n",
    "    ('SVM', SVC(C=5000, break_ties=True, degree=1, probability=True, random_state=42,\n",
    "    tol=0.0001, verbose=True)),\n",
    "    ('Rede Neural', MLPClassifier(activation='tanh', hidden_layer_sizes=(100, 100), random_state=42)),\n",
    "]\n",
    "\n",
    "for name, classifier in algorithms:\n",
    "    classifier.fit(x_train, y_train)\n",
    "    train_predictions = classifier.predict(x_train)\n",
    "    test_predictions = classifier.predict(x_test)\n",
    "    \n",
    "    train_accuracy = accuracy_score(y_train, train_predictions)\n",
    "    test_accuracy = accuracy_score(y_test, test_predictions)\n",
    "    \n",
    "    precision = precision_score(y_test, test_predictions, average='macro')\n",
    "    recall = recall_score(y_test, test_predictions, average='macro')\n",
    "    f1 = f1_score(y_test, test_predictions, average='macro')\n",
    "    \n",
    "    conf_matrix = confusion_matrix(y_test, test_predictions)\n",
    "    \n",
    "    print(f'{name} - Acurácia no Conjunto de Treinamento: {train_accuracy * 100:.2f}%')\n",
    "    print(f'{name} - Acurácia no Conjunto de Teste: {test_accuracy * 100:.2f}%')\n",
    "    print(f'{name} - Precisão: {precision * 100:.2f}%')\n",
    "    print(f'{name} - Recall: {recall * 100:.2f}%')\n",
    "    print(f'{name} - F1-Score: {f1 * 100:.2f}%')\n",
    "    print(f'{name} - Matriz de Confusão:\\n{conf_matrix}\\n')"
   ]
  },
  {
   "cell_type": "code",
   "execution_count": null,
   "id": "db3606bb-6f00-443e-91c9-cf8caacb8cca",
   "metadata": {
    "tags": []
   },
   "outputs": [],
   "source": [
    "from sklearn.metrics import accuracy_score, precision_score, recall_score, f1_score, confusion_matrix\n",
    "\n",
    "algorithms = [\n",
    "    ('Árvore de Decisão (C4.5)', DecisionTreeClassifier(random_state=42)),\n",
    "    ('Random Forest', RandomForestClassifier(random_state=42)),\n",
    "    ('SVM', SVC(random_state=42)),\n",
    "    ('Rede Neural', MLPClassifier(random_state=42)),\n",
    "]\n",
    "\n",
    "for name, classifier in algorithms:\n",
    "    classifier.fit(x_train, y_train)\n",
    "    train_predictions = classifier.predict(x_train)\n",
    "    test_predictions = classifier.predict(x_test)\n",
    "    \n",
    "    train_accuracy = accuracy_score(y_train, train_predictions)\n",
    "    test_accuracy = accuracy_score(y_test, test_predictions)\n",
    "    \n",
    "    precision = precision_score(y_test, test_predictions, average='macro')\n",
    "    recall = recall_score(y_test, test_predictions, average='macro')\n",
    "    f1 = f1_score(y_test, test_predictions, average='macro')\n",
    "    \n",
    "    conf_matrix = confusion_matrix(y_test, test_predictions)\n",
    "    \n",
    "    print(f'{name} - Acurácia no Conjunto de Treinamento: {train_accuracy * 100:.2f}%')\n",
    "    print(f'{name} - Acurácia no Conjunto de Teste: {test_accuracy * 100:.2f}%')\n",
    "    print(f'{name} - Precisão: {precision * 100:.2f}%')\n",
    "    print(f'{name} - Recall: {recall * 100:.2f}%')\n",
    "    print(f'{name} - F1-Score: {f1 * 100:.2f}%')\n",
    "    print(f'{name} - Matriz de Confusão:\\n{conf_matrix}\\n')"
   ]
  },
  {
   "cell_type": "markdown",
   "id": "3b436740-1c13-4d5f-8bf7-13ebbf20077c",
   "metadata": {
    "jp-MarkdownHeadingCollapsed": true
   },
   "source": [
    "# testar o algoritmos"
   ]
  },
  {
   "cell_type": "code",
   "execution_count": null,
   "id": "61f013d6-fe05-4e70-8f56-cc487ec97c46",
   "metadata": {
    "tags": []
   },
   "outputs": [],
   "source": [
    "classifier = RandomForestClassifier(bootstrap=False, criterion='entropy', max_depth=10,\n",
    "                       n_estimators=200, n_jobs=-1, random_state=42,\n",
    "                       warm_start=True)\n",
    "classifier.fit(x_train, y_train)\n",
    "predictions = classifier.predict(x_test)\n",
    "accuracy = accuracy_score(y_test, predictions)\n",
    "print(f'Acurácia: {accuracy * 100:.2f}%')\n"
   ]
  },
  {
   "cell_type": "code",
   "execution_count": null,
   "id": "f033f78a-c9d5-4eed-86ca-9fa71926d0a8",
   "metadata": {},
   "outputs": [],
   "source": [
    "print(classification_report(y_test, predictions))"
   ]
  },
  {
   "cell_type": "code",
   "execution_count": null,
   "id": "88cb2b12-e5a5-46d2-a698-d138eb59d67e",
   "metadata": {},
   "outputs": [],
   "source": [
    "precision = precision_score(y_test, predictions, average='macro')\n",
    "recall = recall_score(y_test, predictions, average='macro')\n",
    "f1 = f1_score(y_test, predictions, average='macro')"
   ]
  },
  {
   "cell_type": "code",
   "execution_count": null,
   "id": "26839093-9d77-4473-8933-efde068fcd0b",
   "metadata": {},
   "outputs": [],
   "source": [
    "print(f'Metricas = {precision * 100:.2f}%')\n",
    "print(f'Metricas = {recall * 100:.2f}%')\n",
    "print(f'Metricas = {f1 * 100:.2f}%')"
   ]
  },
  {
   "cell_type": "code",
   "execution_count": null,
   "id": "1ea953e9-f5b3-47bf-8038-306a80cdf85d",
   "metadata": {},
   "outputs": [],
   "source": [
    "valores_unicos, contagem = np.unique(predictions, return_counts=True)\n",
    "valores_unicos, contagem"
   ]
  },
  {
   "cell_type": "code",
   "execution_count": null,
   "id": "a86bd18c-70ce-468f-819d-6c2055533c8d",
   "metadata": {
    "tags": []
   },
   "outputs": [],
   "source": [
    "from sklearn.preprocessing import StandardScaler\n",
    "\n",
    "# Dados do usuário\n",
    "dados_usuario = [[27,1,1,5,14.0,21.0,10.0,45.0]]  # Substitua esses valores pelos dados reais do usuário\n",
    "previsao_usuario = classifier.predict(dados_usuario)\n",
    "\n",
    "print(f'Especialidade prevista para o usuário: {previsao_usuario[0]}')  # Use [0] para acessar o valor único na matriz de previsão"
   ]
  },
  {
   "cell_type": "code",
   "execution_count": null,
   "id": "a7877acf-b370-42e1-bd72-9545b14c04ed",
   "metadata": {},
   "outputs": [],
   "source": [
    "def train_model(X, y):\n",
    "    smtom = SMOTETomek(random_state=139)\n",
    "    X_resampled, y_resampled = smtom.fit_resample(X, y)\n",
    "    X_train, X_test, y_train, y_test = train_test_split(X_resampled, y_resampled, test_size=0.2, stratify=y_resampled, random_state=42)\n",
    "    \n",
    "    classifier = RandomForestClassifier(criterion='entropy', max_depth=90, max_features='sqrt',\n",
    "                    min_samples_leaf=4, min_samples_split=2, n_estimators=195, random_state=42)\n",
    "    classifier.fit(X_train, y_train)\n",
    "    \n",
    "    predictions = classifier.predict(X_test)\n",
    "    accuracy = accuracy_score(y_test, predictions)\n",
    "    \n",
    "    return classifier, accuracy"
   ]
  },
  {
   "cell_type": "code",
   "execution_count": null,
   "id": "f42b13e3-d8f6-4f15-bf3d-53a84344180b",
   "metadata": {},
   "outputs": [],
   "source": [
    "if previsao_usuario == \"informatica\" or previsao_usuario == \"computacao\":\n",
    "    # Filtrar os dados para a área de concentração correspondente\n",
    "    area = X_dataset[X_dataset['area_concentration'] == previsao_usuario[0]]\n",
    "    X_area = area.drop(['ESPECIALIDADE', 'area_concentration'], axis=1)\n",
    "    y_area = area['ESPECIALIDADE']\n",
    "\n",
    "    # Treinar o modelo\n",
    "    classifier, accuracy = train_model(X_area, y_area)\n",
    "\n",
    "    print(f'Acurácia: {accuracy * 100:.2f}%')\n",
    "    print(f'Linha de Pesquisa Prevista: {classifier.predict(X_area.iloc[[0]])[0]}')\n",
    "else:\n",
    "    print(\"Área de concentração não reconhecida\")\n"
   ]
  }
 ],
 "metadata": {
  "kernelspec": {
   "display_name": "Python 3 (ipykernel)",
   "language": "python",
   "name": "python3"
  },
  "language_info": {
   "codemirror_mode": {
    "name": "ipython",
    "version": 3
   },
   "file_extension": ".py",
   "mimetype": "text/x-python",
   "name": "python",
   "nbconvert_exporter": "python",
   "pygments_lexer": "ipython3",
   "version": "3.11.7"
  }
 },
 "nbformat": 4,
 "nbformat_minor": 5
}
