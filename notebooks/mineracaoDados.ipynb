{
 "cells": [
  {
   "cell_type": "markdown",
   "id": "5e373c54-5634-4b62-ba66-44bff2df2ac4",
   "metadata": {},
   "source": [
    "# Aplicar técnicas de Mineração de Dados, utilizando o algoritmo de Clusterização para agrupar as informações e notas dos candidatos"
   ]
  },
  {
   "cell_type": "markdown",
   "id": "4b074eac-d221-43ce-91b3-8a010d60d4ab",
   "metadata": {
    "tags": []
   },
   "source": [
    "## Área de agrupamentos: Matemática; Fundamentos da Computação; Tecnologias da Computação\n"
   ]
  },
  {
   "cell_type": "code",
   "execution_count": 2,
   "id": "af236dcc-2778-4826-8a36-80d64de9b0a0",
   "metadata": {},
   "outputs": [
    {
     "name": "stdout",
     "output_type": "stream",
     "text": [
      "importing Jupyter notebook from /home/jean/project/project_dataScience_POSCOMP/notebooks/../services/especialidades.ipynb\n"
     ]
    }
   ],
   "source": [
    "%run ../services/imports.py"
   ]
  },
  {
   "cell_type": "markdown",
   "id": "f4386daf-63e1-4f08-b9c3-ccc74b1d9ddb",
   "metadata": {
    "tags": []
   },
   "source": [
    "## Descrição dos dados"
   ]
  },
  {
   "cell_type": "code",
   "execution_count": 3,
   "id": "4a0d6ea8-20e4-48ad-850f-4394baaf6065",
   "metadata": {},
   "outputs": [
    {
     "data": {
      "text/html": [
       "<div>\n",
       "<style scoped>\n",
       "    .dataframe tbody tr th:only-of-type {\n",
       "        vertical-align: middle;\n",
       "    }\n",
       "\n",
       "    .dataframe tbody tr th {\n",
       "        vertical-align: top;\n",
       "    }\n",
       "\n",
       "    .dataframe thead th {\n",
       "        text-align: right;\n",
       "    }\n",
       "</style>\n",
       "<table border=\"1\" class=\"dataframe\">\n",
       "  <thead>\n",
       "    <tr style=\"text-align: right;\">\n",
       "      <th></th>\n",
       "      <th>SEXO</th>\n",
       "      <th>ESTADO</th>\n",
       "      <th>ESPECIALIDADE</th>\n",
       "      <th>Matemática Discreta</th>\n",
       "      <th>Cálculo Diferencial e Integral</th>\n",
       "      <th>Álgebra Linear</th>\n",
       "      <th>Geometria Analítica</th>\n",
       "      <th>Análise Combinatória</th>\n",
       "      <th>Probabilidade e Estatística</th>\n",
       "      <th>Lógica Matemática</th>\n",
       "      <th>...</th>\n",
       "      <th>Processamento de Imagens</th>\n",
       "      <th>Banco de Dados</th>\n",
       "      <th>IDADE</th>\n",
       "      <th>matematica</th>\n",
       "      <th>fund_computacao</th>\n",
       "      <th>tec_computacao</th>\n",
       "      <th>total</th>\n",
       "      <th>linhas_pesquisas</th>\n",
       "      <th>area_concentration</th>\n",
       "      <th>REGIAO</th>\n",
       "    </tr>\n",
       "  </thead>\n",
       "  <tbody>\n",
       "    <tr>\n",
       "      <th>0</th>\n",
       "      <td>M</td>\n",
       "      <td>RS</td>\n",
       "      <td>metodologias e técnicas de computação</td>\n",
       "      <td>3</td>\n",
       "      <td>2</td>\n",
       "      <td>3</td>\n",
       "      <td>2</td>\n",
       "      <td>2</td>\n",
       "      <td>2</td>\n",
       "      <td>2</td>\n",
       "      <td>...</td>\n",
       "      <td>2</td>\n",
       "      <td>1</td>\n",
       "      <td>21</td>\n",
       "      <td>16</td>\n",
       "      <td>22</td>\n",
       "      <td>12</td>\n",
       "      <td>50</td>\n",
       "      <td>engenharia de software</td>\n",
       "      <td>informatica</td>\n",
       "      <td>sul</td>\n",
       "    </tr>\n",
       "    <tr>\n",
       "      <th>1</th>\n",
       "      <td>M</td>\n",
       "      <td>SP</td>\n",
       "      <td>engenharia de software</td>\n",
       "      <td>0</td>\n",
       "      <td>1</td>\n",
       "      <td>1</td>\n",
       "      <td>1</td>\n",
       "      <td>0</td>\n",
       "      <td>0</td>\n",
       "      <td>1</td>\n",
       "      <td>...</td>\n",
       "      <td>2</td>\n",
       "      <td>1</td>\n",
       "      <td>25</td>\n",
       "      <td>4</td>\n",
       "      <td>16</td>\n",
       "      <td>8</td>\n",
       "      <td>28</td>\n",
       "      <td>engenharia de software</td>\n",
       "      <td>informatica</td>\n",
       "      <td>sudeste</td>\n",
       "    </tr>\n",
       "    <tr>\n",
       "      <th>2</th>\n",
       "      <td>M</td>\n",
       "      <td>PA</td>\n",
       "      <td>sistemas de informação</td>\n",
       "      <td>1</td>\n",
       "      <td>0</td>\n",
       "      <td>1</td>\n",
       "      <td>1</td>\n",
       "      <td>0</td>\n",
       "      <td>0</td>\n",
       "      <td>1</td>\n",
       "      <td>...</td>\n",
       "      <td>1</td>\n",
       "      <td>0</td>\n",
       "      <td>30</td>\n",
       "      <td>4</td>\n",
       "      <td>13</td>\n",
       "      <td>7</td>\n",
       "      <td>24</td>\n",
       "      <td>sistemas de computação</td>\n",
       "      <td>computacao</td>\n",
       "      <td>norte</td>\n",
       "    </tr>\n",
       "    <tr>\n",
       "      <th>3</th>\n",
       "      <td>F</td>\n",
       "      <td>AM</td>\n",
       "      <td>computação gráfica</td>\n",
       "      <td>0</td>\n",
       "      <td>0</td>\n",
       "      <td>2</td>\n",
       "      <td>2</td>\n",
       "      <td>1</td>\n",
       "      <td>0</td>\n",
       "      <td>1</td>\n",
       "      <td>...</td>\n",
       "      <td>1</td>\n",
       "      <td>1</td>\n",
       "      <td>19</td>\n",
       "      <td>6</td>\n",
       "      <td>15</td>\n",
       "      <td>11</td>\n",
       "      <td>32</td>\n",
       "      <td>Outros</td>\n",
       "      <td>informatica</td>\n",
       "      <td>norte</td>\n",
       "    </tr>\n",
       "    <tr>\n",
       "      <th>4</th>\n",
       "      <td>M</td>\n",
       "      <td>MS</td>\n",
       "      <td>sistemas de computação</td>\n",
       "      <td>1</td>\n",
       "      <td>2</td>\n",
       "      <td>3</td>\n",
       "      <td>1</td>\n",
       "      <td>1</td>\n",
       "      <td>2</td>\n",
       "      <td>2</td>\n",
       "      <td>...</td>\n",
       "      <td>1</td>\n",
       "      <td>0</td>\n",
       "      <td>21</td>\n",
       "      <td>12</td>\n",
       "      <td>20</td>\n",
       "      <td>11</td>\n",
       "      <td>43</td>\n",
       "      <td>sistemas de computação</td>\n",
       "      <td>computacao</td>\n",
       "      <td>centro_oeste</td>\n",
       "    </tr>\n",
       "  </tbody>\n",
       "</table>\n",
       "<p>5 rows × 36 columns</p>\n",
       "</div>"
      ],
      "text/plain": [
       "  SEXO ESTADO                          ESPECIALIDADE  Matemática Discreta  \\\n",
       "0    M     RS  metodologias e técnicas de computação                    3   \n",
       "1    M     SP                 engenharia de software                    0   \n",
       "2    M     PA                 sistemas de informação                    1   \n",
       "3    F     AM                     computação gráfica                    0   \n",
       "4    M     MS                 sistemas de computação                    1   \n",
       "\n",
       "   Cálculo Diferencial e Integral  Álgebra Linear  Geometria Analítica  \\\n",
       "0                               2               3                    2   \n",
       "1                               1               1                    1   \n",
       "2                               0               1                    1   \n",
       "3                               0               2                    2   \n",
       "4                               2               3                    1   \n",
       "\n",
       "   Análise Combinatória  Probabilidade e Estatística  Lógica Matemática  ...  \\\n",
       "0                     2                            2                  2  ...   \n",
       "1                     0                            0                  1  ...   \n",
       "2                     0                            0                  1  ...   \n",
       "3                     1                            0                  1  ...   \n",
       "4                     1                            2                  2  ...   \n",
       "\n",
       "   Processamento de Imagens  Banco de Dados  IDADE  matematica  \\\n",
       "0                         2               1     21          16   \n",
       "1                         2               1     25           4   \n",
       "2                         1               0     30           4   \n",
       "3                         1               1     19           6   \n",
       "4                         1               0     21          12   \n",
       "\n",
       "   fund_computacao  tec_computacao  total        linhas_pesquisas  \\\n",
       "0               22              12     50  engenharia de software   \n",
       "1               16               8     28  engenharia de software   \n",
       "2               13               7     24  sistemas de computação   \n",
       "3               15              11     32                  Outros   \n",
       "4               20              11     43  sistemas de computação   \n",
       "\n",
       "   area_concentration        REGIAO  \n",
       "0         informatica           sul  \n",
       "1         informatica       sudeste  \n",
       "2          computacao         norte  \n",
       "3         informatica         norte  \n",
       "4          computacao  centro_oeste  \n",
       "\n",
       "[5 rows x 36 columns]"
      ]
     },
     "execution_count": 3,
     "metadata": {},
     "output_type": "execute_result"
    }
   ],
   "source": [
    "dados = pd.read_csv('../dados/df_poscomp.csv')\n",
    "# dados = dados.drop(columns='INSCRICAO')\n",
    "dados.head()"
   ]
  },
  {
   "cell_type": "markdown",
   "id": "adc24407-a1c3-47a2-83fd-46b4a301f952",
   "metadata": {},
   "source": [
    "> ### Sexo\t\n",
    "> ***\n",
    "\n",
    "|Código|Descrição|\n",
    "|---|---|\n",
    "|1|Masculino|\n",
    "|0|Feminino|\n",
    "\n",
    "> ### UF\n",
    "> ***\n",
    "\n",
    "|Código|Descrição|\n",
    "|---|---|\n",
    "|0|AC|\n",
    "|1|AL|\n",
    "|2|AP|\n",
    "|3|AM|\n",
    "|4|BA|\n",
    "|5|CE|\n",
    "|6|DF|\n",
    "|7|ES|\n",
    "|8|GO|\n",
    "|9|MA|\n",
    "|10|MT|\n",
    "|11|MS|\n",
    "|12|MG|\n",
    "|13|PA|\n",
    "|14|PB|\n",
    "|15|PR|\n",
    "|16|PE|\n",
    "|17|PI|\n",
    "|18|RJ|\n",
    "|19|RN|\n",
    "|20|RS|\n",
    "|21|RO|\n",
    "|22|RR|\n",
    "|23|SC|\n",
    "|24|SP|\n",
    "|25|SE|\n",
    "|26|TO|\n",
    "\n",
    "> ### Cargo\n",
    "> ***\n",
    "\n",
    "|Código|Descrição|\n",
    "|---|---|\n",
    "|0|Mestrado/Doutorado|\n",
    "|1|Autoavaliação|\n",
    "\n",
    "> ### Região\n",
    "> ***\n",
    "\n",
    "|Código|Descrição|\n",
    "|---|---|\n",
    "|0|norte|\n",
    "|1|nordeste|\n",
    "|2|centro_oeste|\n",
    "|3|sudeste|\n",
    "|4|sul|\n",
    "\n",
    "> ### Situação\n",
    "> ***\n",
    "\n",
    "|Código|Descrição|\n",
    "|---|---|\n",
    "|0|Ausente|\n",
    "|1|Presente|"
   ]
  },
  {
   "cell_type": "markdown",
   "id": "3d9ab7a3-2caa-4c39-9f00-c865be3048ba",
   "metadata": {
    "tags": []
   },
   "source": [
    "## Analise Explorária dos Dados"
   ]
  },
  {
   "cell_type": "markdown",
   "id": "ba595867-bdfd-41e5-959b-a6d8915d2a5c",
   "metadata": {},
   "source": [
    "Quantas pessoas são do sexo masculino e feminino"
   ]
  },
  {
   "cell_type": "code",
   "execution_count": 4,
   "id": "0350e8b9-f9ff-492f-ad62-61775737194e",
   "metadata": {},
   "outputs": [
    {
     "data": {
      "text/html": [
       "<div>\n",
       "<style scoped>\n",
       "    .dataframe tbody tr th:only-of-type {\n",
       "        vertical-align: middle;\n",
       "    }\n",
       "\n",
       "    .dataframe tbody tr th {\n",
       "        vertical-align: top;\n",
       "    }\n",
       "\n",
       "    .dataframe thead th {\n",
       "        text-align: right;\n",
       "    }\n",
       "</style>\n",
       "<table border=\"1\" class=\"dataframe\">\n",
       "  <thead>\n",
       "    <tr style=\"text-align: right;\">\n",
       "      <th>Sexo</th>\n",
       "      <th>Frequência</th>\n",
       "      <th>Porcentagem (%)</th>\n",
       "    </tr>\n",
       "    <tr>\n",
       "      <th>SEXO</th>\n",
       "      <th></th>\n",
       "      <th></th>\n",
       "    </tr>\n",
       "  </thead>\n",
       "  <tbody>\n",
       "    <tr>\n",
       "      <th>M</th>\n",
       "      <td>8199</td>\n",
       "      <td>82.88</td>\n",
       "    </tr>\n",
       "    <tr>\n",
       "      <th>F</th>\n",
       "      <td>1694</td>\n",
       "      <td>17.12</td>\n",
       "    </tr>\n",
       "  </tbody>\n",
       "</table>\n",
       "</div>"
      ],
      "text/plain": [
       "Sexo  Frequência  Porcentagem (%)\n",
       "SEXO                             \n",
       "M           8199            82.88\n",
       "F           1694            17.12"
      ]
     },
     "execution_count": 4,
     "metadata": {},
     "output_type": "execute_result"
    }
   ],
   "source": [
    "frequencia_sexo = dados['SEXO'].value_counts() \n",
    "\n",
    "percentual_sexo = dados['SEXO'].value_counts(normalize = True) * 100 \n",
    "\n",
    "dist_freq_qualitativas = pd.DataFrame({'Frequência': frequencia_sexo, 'Porcentagem (%)': percentual_sexo.round(2)})\n",
    "dist_freq_qualitativas.rename (index = {1: 'Masculino', 0: 'Feminino', 3: 'Total'}, inplace = True)\n",
    "dist_freq_qualitativas.rename_axis('Sexo', axis = 'columns', inplace = True)\n",
    "dist_freq_qualitativas"
   ]
  },
  {
   "cell_type": "markdown",
   "id": "ad71a728-b35d-4edf-989d-2a189e71bcbd",
   "metadata": {},
   "source": [
    "Qual a média, mediana e máximo?"
   ]
  },
  {
   "cell_type": "code",
   "execution_count": 5,
   "id": "22479d22-2c6a-4313-b7da-61cc6c42f10c",
   "metadata": {},
   "outputs": [],
   "source": [
    "estados = {\n",
    "    0: 'Acre',\n",
    "    1: 'Alagoas',\n",
    "    2: 'Amapá',\n",
    "    3: 'Amazonas',\n",
    "    4: 'Bahia',\n",
    "    5: 'Ceará',\n",
    "    6: 'Distrito Federal',\n",
    "    7: 'Espírito Santo',\n",
    "    8: 'Goiás',\n",
    "    9: 'Maranhão',\n",
    "    10: 'Mato Grosso',\n",
    "    11: 'Mato Grosso do Sul',\n",
    "    12: 'Minas Gerais',\n",
    "    13: 'Pará',\n",
    "    14: 'Paraíba',\n",
    "    15: 'Paraná',\n",
    "    16: 'Pernambuco',\n",
    "    17: 'Piauí',\n",
    "    18: 'Rio de Janeiro',\n",
    "    19: 'Rio Grande do Norte',\n",
    "    20: 'Rio Grande do Sul',\n",
    "    21: 'Rondônia',\n",
    "    22: 'Roraima',\n",
    "    23: 'Santa Catarina',\n",
    "    24: 'São Paulo',\n",
    "    25: 'Sergipe',\n",
    "    26: 'Tocantins'\n",
    "}\n",
    "\n",
    "estados_brasileiros = {\n",
    "    0: 'AC',\n",
    "    1: 'AL',\n",
    "    2: 'AP',\n",
    "    3: 'AM',\n",
    "    4: 'BA',\n",
    "    5: 'CE',\n",
    "    6: 'DF',\n",
    "    7: 'ES',\n",
    "    8: 'GO',\n",
    "    9: 'MA',\n",
    "    10: 'MT',\n",
    "    11: 'MS',\n",
    "    12: 'MG',\n",
    "    13: 'PA',\n",
    "    14: 'PB',\n",
    "    15: 'PR',\n",
    "    16: 'PE',\n",
    "    17: 'PI',\n",
    "    18: 'RJ',\n",
    "    19: 'RN',\n",
    "    20: 'RS',\n",
    "    21: 'RO',\n",
    "    22: 'RR',\n",
    "    23: 'SC',\n",
    "    24: 'SP',\n",
    "    25: 'SE',\n",
    "    26: 'TO'\n",
    "}"
   ]
  },
  {
   "cell_type": "code",
   "execution_count": 6,
   "id": "c55349e8-9315-44a2-aad1-a907a74c91d8",
   "metadata": {},
   "outputs": [],
   "source": [
    "regioes = {\n",
    "    0: 'Norte',\n",
    "    1: 'Nordeste',\n",
    "    2: 'Centro-Oeste',\n",
    "    3: 'Sudeste',\n",
    "    4: 'Sul'\n",
    "}"
   ]
  },
  {
   "cell_type": "code",
   "execution_count": 7,
   "id": "56d44096-2150-4684-a106-a199cf9f3e0c",
   "metadata": {},
   "outputs": [
    {
     "data": {
      "text/html": [
       "<div>\n",
       "<style scoped>\n",
       "    .dataframe tbody tr th:only-of-type {\n",
       "        vertical-align: middle;\n",
       "    }\n",
       "\n",
       "    .dataframe tbody tr th {\n",
       "        vertical-align: top;\n",
       "    }\n",
       "\n",
       "    .dataframe thead tr th {\n",
       "        text-align: left;\n",
       "    }\n",
       "\n",
       "    .dataframe thead tr:last-of-type th {\n",
       "        text-align: right;\n",
       "    }\n",
       "</style>\n",
       "<table border=\"1\" class=\"dataframe\">\n",
       "  <thead>\n",
       "    <tr>\n",
       "      <th></th>\n",
       "      <th colspan=\"4\" halign=\"left\">matematica</th>\n",
       "      <th colspan=\"4\" halign=\"left\">fund_computacao</th>\n",
       "      <th colspan=\"4\" halign=\"left\">tec_computacao</th>\n",
       "    </tr>\n",
       "    <tr>\n",
       "      <th></th>\n",
       "      <th>mean</th>\n",
       "      <th>median</th>\n",
       "      <th>max</th>\n",
       "      <th>std</th>\n",
       "      <th>mean</th>\n",
       "      <th>median</th>\n",
       "      <th>max</th>\n",
       "      <th>std</th>\n",
       "      <th>mean</th>\n",
       "      <th>median</th>\n",
       "      <th>max</th>\n",
       "      <th>std</th>\n",
       "    </tr>\n",
       "    <tr>\n",
       "      <th>ESTADO</th>\n",
       "      <th></th>\n",
       "      <th></th>\n",
       "      <th></th>\n",
       "      <th></th>\n",
       "      <th></th>\n",
       "      <th></th>\n",
       "      <th></th>\n",
       "      <th></th>\n",
       "      <th></th>\n",
       "      <th></th>\n",
       "      <th></th>\n",
       "      <th></th>\n",
       "    </tr>\n",
       "  </thead>\n",
       "  <tbody>\n",
       "    <tr>\n",
       "      <th>AC</th>\n",
       "      <td>8.500000</td>\n",
       "      <td>8.0</td>\n",
       "      <td>15</td>\n",
       "      <td>4.932883</td>\n",
       "      <td>14.000000</td>\n",
       "      <td>14.0</td>\n",
       "      <td>17</td>\n",
       "      <td>2.581989</td>\n",
       "      <td>7.500000</td>\n",
       "      <td>7.0</td>\n",
       "      <td>10</td>\n",
       "      <td>1.914854</td>\n",
       "    </tr>\n",
       "    <tr>\n",
       "      <th>AL</th>\n",
       "      <td>8.080000</td>\n",
       "      <td>8.0</td>\n",
       "      <td>15</td>\n",
       "      <td>2.813009</td>\n",
       "      <td>13.653333</td>\n",
       "      <td>14.0</td>\n",
       "      <td>21</td>\n",
       "      <td>3.189721</td>\n",
       "      <td>8.046667</td>\n",
       "      <td>8.0</td>\n",
       "      <td>15</td>\n",
       "      <td>2.483061</td>\n",
       "    </tr>\n",
       "    <tr>\n",
       "      <th>AM</th>\n",
       "      <td>6.914286</td>\n",
       "      <td>7.0</td>\n",
       "      <td>15</td>\n",
       "      <td>2.332771</td>\n",
       "      <td>13.114286</td>\n",
       "      <td>13.0</td>\n",
       "      <td>20</td>\n",
       "      <td>2.789955</td>\n",
       "      <td>7.485714</td>\n",
       "      <td>7.5</td>\n",
       "      <td>12</td>\n",
       "      <td>2.465665</td>\n",
       "    </tr>\n",
       "    <tr>\n",
       "      <th>AP</th>\n",
       "      <td>5.545455</td>\n",
       "      <td>5.0</td>\n",
       "      <td>12</td>\n",
       "      <td>3.173756</td>\n",
       "      <td>10.363636</td>\n",
       "      <td>10.0</td>\n",
       "      <td>14</td>\n",
       "      <td>2.292280</td>\n",
       "      <td>8.000000</td>\n",
       "      <td>8.0</td>\n",
       "      <td>11</td>\n",
       "      <td>1.788854</td>\n",
       "    </tr>\n",
       "    <tr>\n",
       "      <th>BA</th>\n",
       "      <td>7.435185</td>\n",
       "      <td>8.0</td>\n",
       "      <td>15</td>\n",
       "      <td>2.871950</td>\n",
       "      <td>14.222222</td>\n",
       "      <td>14.0</td>\n",
       "      <td>24</td>\n",
       "      <td>3.573875</td>\n",
       "      <td>7.888889</td>\n",
       "      <td>8.0</td>\n",
       "      <td>15</td>\n",
       "      <td>2.569895</td>\n",
       "    </tr>\n",
       "    <tr>\n",
       "      <th>CE</th>\n",
       "      <td>8.317121</td>\n",
       "      <td>8.0</td>\n",
       "      <td>18</td>\n",
       "      <td>3.089727</td>\n",
       "      <td>14.206226</td>\n",
       "      <td>14.0</td>\n",
       "      <td>25</td>\n",
       "      <td>3.570002</td>\n",
       "      <td>8.171206</td>\n",
       "      <td>8.0</td>\n",
       "      <td>16</td>\n",
       "      <td>2.540485</td>\n",
       "    </tr>\n",
       "    <tr>\n",
       "      <th>DF</th>\n",
       "      <td>9.393443</td>\n",
       "      <td>9.0</td>\n",
       "      <td>20</td>\n",
       "      <td>3.843951</td>\n",
       "      <td>15.704918</td>\n",
       "      <td>15.0</td>\n",
       "      <td>23</td>\n",
       "      <td>4.314102</td>\n",
       "      <td>8.688525</td>\n",
       "      <td>8.0</td>\n",
       "      <td>15</td>\n",
       "      <td>2.240097</td>\n",
       "    </tr>\n",
       "    <tr>\n",
       "      <th>ES</th>\n",
       "      <td>8.356083</td>\n",
       "      <td>8.0</td>\n",
       "      <td>19</td>\n",
       "      <td>3.340440</td>\n",
       "      <td>14.023739</td>\n",
       "      <td>14.0</td>\n",
       "      <td>28</td>\n",
       "      <td>3.685481</td>\n",
       "      <td>7.910979</td>\n",
       "      <td>8.0</td>\n",
       "      <td>16</td>\n",
       "      <td>2.731719</td>\n",
       "    </tr>\n",
       "    <tr>\n",
       "      <th>GO</th>\n",
       "      <td>7.321867</td>\n",
       "      <td>7.0</td>\n",
       "      <td>17</td>\n",
       "      <td>2.845286</td>\n",
       "      <td>13.616708</td>\n",
       "      <td>13.0</td>\n",
       "      <td>24</td>\n",
       "      <td>3.286862</td>\n",
       "      <td>7.626536</td>\n",
       "      <td>8.0</td>\n",
       "      <td>15</td>\n",
       "      <td>2.507738</td>\n",
       "    </tr>\n",
       "    <tr>\n",
       "      <th>MA</th>\n",
       "      <td>7.505119</td>\n",
       "      <td>7.0</td>\n",
       "      <td>17</td>\n",
       "      <td>2.824333</td>\n",
       "      <td>13.204778</td>\n",
       "      <td>13.0</td>\n",
       "      <td>21</td>\n",
       "      <td>3.424185</td>\n",
       "      <td>7.955631</td>\n",
       "      <td>8.0</td>\n",
       "      <td>14</td>\n",
       "      <td>2.438576</td>\n",
       "    </tr>\n",
       "    <tr>\n",
       "      <th>MG</th>\n",
       "      <td>8.372470</td>\n",
       "      <td>8.0</td>\n",
       "      <td>20</td>\n",
       "      <td>3.136891</td>\n",
       "      <td>14.560324</td>\n",
       "      <td>14.0</td>\n",
       "      <td>26</td>\n",
       "      <td>3.625975</td>\n",
       "      <td>7.931174</td>\n",
       "      <td>8.0</td>\n",
       "      <td>16</td>\n",
       "      <td>2.558101</td>\n",
       "    </tr>\n",
       "    <tr>\n",
       "      <th>MS</th>\n",
       "      <td>7.755725</td>\n",
       "      <td>7.0</td>\n",
       "      <td>18</td>\n",
       "      <td>3.022260</td>\n",
       "      <td>13.641221</td>\n",
       "      <td>14.0</td>\n",
       "      <td>24</td>\n",
       "      <td>3.475282</td>\n",
       "      <td>7.368957</td>\n",
       "      <td>7.0</td>\n",
       "      <td>16</td>\n",
       "      <td>2.562236</td>\n",
       "    </tr>\n",
       "    <tr>\n",
       "      <th>MT</th>\n",
       "      <td>7.264463</td>\n",
       "      <td>7.0</td>\n",
       "      <td>13</td>\n",
       "      <td>2.383165</td>\n",
       "      <td>13.512397</td>\n",
       "      <td>13.0</td>\n",
       "      <td>23</td>\n",
       "      <td>3.398813</td>\n",
       "      <td>7.793388</td>\n",
       "      <td>8.0</td>\n",
       "      <td>14</td>\n",
       "      <td>2.316309</td>\n",
       "    </tr>\n",
       "    <tr>\n",
       "      <th>PA</th>\n",
       "      <td>6.913758</td>\n",
       "      <td>6.0</td>\n",
       "      <td>17</td>\n",
       "      <td>2.530626</td>\n",
       "      <td>12.361396</td>\n",
       "      <td>12.0</td>\n",
       "      <td>25</td>\n",
       "      <td>3.295587</td>\n",
       "      <td>7.433265</td>\n",
       "      <td>7.0</td>\n",
       "      <td>15</td>\n",
       "      <td>2.411214</td>\n",
       "    </tr>\n",
       "    <tr>\n",
       "      <th>PB</th>\n",
       "      <td>7.795812</td>\n",
       "      <td>8.0</td>\n",
       "      <td>19</td>\n",
       "      <td>2.841104</td>\n",
       "      <td>14.204188</td>\n",
       "      <td>14.0</td>\n",
       "      <td>26</td>\n",
       "      <td>3.454780</td>\n",
       "      <td>7.947644</td>\n",
       "      <td>8.0</td>\n",
       "      <td>16</td>\n",
       "      <td>2.470253</td>\n",
       "    </tr>\n",
       "    <tr>\n",
       "      <th>PE</th>\n",
       "      <td>8.743590</td>\n",
       "      <td>8.0</td>\n",
       "      <td>16</td>\n",
       "      <td>3.345995</td>\n",
       "      <td>14.102564</td>\n",
       "      <td>14.0</td>\n",
       "      <td>25</td>\n",
       "      <td>3.537728</td>\n",
       "      <td>7.256410</td>\n",
       "      <td>7.0</td>\n",
       "      <td>15</td>\n",
       "      <td>3.041104</td>\n",
       "    </tr>\n",
       "    <tr>\n",
       "      <th>PI</th>\n",
       "      <td>7.000000</td>\n",
       "      <td>7.0</td>\n",
       "      <td>16</td>\n",
       "      <td>2.662134</td>\n",
       "      <td>13.108359</td>\n",
       "      <td>13.0</td>\n",
       "      <td>22</td>\n",
       "      <td>3.557517</td>\n",
       "      <td>7.715170</td>\n",
       "      <td>8.0</td>\n",
       "      <td>15</td>\n",
       "      <td>2.532887</td>\n",
       "    </tr>\n",
       "    <tr>\n",
       "      <th>PR</th>\n",
       "      <td>7.959805</td>\n",
       "      <td>8.0</td>\n",
       "      <td>20</td>\n",
       "      <td>2.981175</td>\n",
       "      <td>14.401949</td>\n",
       "      <td>14.0</td>\n",
       "      <td>25</td>\n",
       "      <td>3.682085</td>\n",
       "      <td>8.133983</td>\n",
       "      <td>8.0</td>\n",
       "      <td>15</td>\n",
       "      <td>2.476047</td>\n",
       "    </tr>\n",
       "    <tr>\n",
       "      <th>RJ</th>\n",
       "      <td>9.971429</td>\n",
       "      <td>10.0</td>\n",
       "      <td>19</td>\n",
       "      <td>3.367445</td>\n",
       "      <td>15.167857</td>\n",
       "      <td>15.0</td>\n",
       "      <td>24</td>\n",
       "      <td>3.566627</td>\n",
       "      <td>8.307143</td>\n",
       "      <td>8.0</td>\n",
       "      <td>15</td>\n",
       "      <td>2.548164</td>\n",
       "    </tr>\n",
       "    <tr>\n",
       "      <th>RN</th>\n",
       "      <td>8.079710</td>\n",
       "      <td>7.5</td>\n",
       "      <td>20</td>\n",
       "      <td>3.451566</td>\n",
       "      <td>14.014493</td>\n",
       "      <td>14.0</td>\n",
       "      <td>25</td>\n",
       "      <td>3.813127</td>\n",
       "      <td>7.586957</td>\n",
       "      <td>8.0</td>\n",
       "      <td>16</td>\n",
       "      <td>2.665619</td>\n",
       "    </tr>\n",
       "    <tr>\n",
       "      <th>RO</th>\n",
       "      <td>7.083333</td>\n",
       "      <td>8.0</td>\n",
       "      <td>10</td>\n",
       "      <td>2.391589</td>\n",
       "      <td>12.166667</td>\n",
       "      <td>12.0</td>\n",
       "      <td>17</td>\n",
       "      <td>2.886751</td>\n",
       "      <td>7.416667</td>\n",
       "      <td>7.5</td>\n",
       "      <td>10</td>\n",
       "      <td>2.151462</td>\n",
       "    </tr>\n",
       "    <tr>\n",
       "      <th>RR</th>\n",
       "      <td>5.200000</td>\n",
       "      <td>5.0</td>\n",
       "      <td>7</td>\n",
       "      <td>1.483240</td>\n",
       "      <td>10.800000</td>\n",
       "      <td>11.0</td>\n",
       "      <td>13</td>\n",
       "      <td>1.483240</td>\n",
       "      <td>7.200000</td>\n",
       "      <td>7.0</td>\n",
       "      <td>9</td>\n",
       "      <td>1.095445</td>\n",
       "    </tr>\n",
       "    <tr>\n",
       "      <th>RS</th>\n",
       "      <td>8.081498</td>\n",
       "      <td>8.0</td>\n",
       "      <td>19</td>\n",
       "      <td>3.153194</td>\n",
       "      <td>14.432819</td>\n",
       "      <td>14.0</td>\n",
       "      <td>28</td>\n",
       "      <td>3.876668</td>\n",
       "      <td>8.196035</td>\n",
       "      <td>8.0</td>\n",
       "      <td>18</td>\n",
       "      <td>2.627374</td>\n",
       "    </tr>\n",
       "    <tr>\n",
       "      <th>SC</th>\n",
       "      <td>7.969751</td>\n",
       "      <td>8.0</td>\n",
       "      <td>20</td>\n",
       "      <td>3.021753</td>\n",
       "      <td>14.300712</td>\n",
       "      <td>14.0</td>\n",
       "      <td>26</td>\n",
       "      <td>3.717804</td>\n",
       "      <td>8.327402</td>\n",
       "      <td>8.0</td>\n",
       "      <td>16</td>\n",
       "      <td>2.527481</td>\n",
       "    </tr>\n",
       "    <tr>\n",
       "      <th>SE</th>\n",
       "      <td>8.310680</td>\n",
       "      <td>8.0</td>\n",
       "      <td>20</td>\n",
       "      <td>3.357839</td>\n",
       "      <td>14.553398</td>\n",
       "      <td>14.0</td>\n",
       "      <td>22</td>\n",
       "      <td>3.599369</td>\n",
       "      <td>8.184466</td>\n",
       "      <td>8.0</td>\n",
       "      <td>15</td>\n",
       "      <td>2.710718</td>\n",
       "    </tr>\n",
       "    <tr>\n",
       "      <th>SP</th>\n",
       "      <td>8.567282</td>\n",
       "      <td>8.0</td>\n",
       "      <td>20</td>\n",
       "      <td>3.309866</td>\n",
       "      <td>14.228496</td>\n",
       "      <td>14.0</td>\n",
       "      <td>27</td>\n",
       "      <td>3.686075</td>\n",
       "      <td>7.995251</td>\n",
       "      <td>8.0</td>\n",
       "      <td>16</td>\n",
       "      <td>2.552610</td>\n",
       "    </tr>\n",
       "    <tr>\n",
       "      <th>TO</th>\n",
       "      <td>7.651163</td>\n",
       "      <td>7.0</td>\n",
       "      <td>14</td>\n",
       "      <td>2.428832</td>\n",
       "      <td>14.000000</td>\n",
       "      <td>14.0</td>\n",
       "      <td>23</td>\n",
       "      <td>4.017817</td>\n",
       "      <td>8.162791</td>\n",
       "      <td>8.0</td>\n",
       "      <td>14</td>\n",
       "      <td>2.308682</td>\n",
       "    </tr>\n",
       "  </tbody>\n",
       "</table>\n",
       "</div>"
      ],
      "text/plain": [
       "       matematica                      fund_computacao                       \\\n",
       "             mean median max       std            mean median max       std   \n",
       "ESTADO                                                                        \n",
       "AC       8.500000    8.0  15  4.932883       14.000000   14.0  17  2.581989   \n",
       "AL       8.080000    8.0  15  2.813009       13.653333   14.0  21  3.189721   \n",
       "AM       6.914286    7.0  15  2.332771       13.114286   13.0  20  2.789955   \n",
       "AP       5.545455    5.0  12  3.173756       10.363636   10.0  14  2.292280   \n",
       "BA       7.435185    8.0  15  2.871950       14.222222   14.0  24  3.573875   \n",
       "CE       8.317121    8.0  18  3.089727       14.206226   14.0  25  3.570002   \n",
       "DF       9.393443    9.0  20  3.843951       15.704918   15.0  23  4.314102   \n",
       "ES       8.356083    8.0  19  3.340440       14.023739   14.0  28  3.685481   \n",
       "GO       7.321867    7.0  17  2.845286       13.616708   13.0  24  3.286862   \n",
       "MA       7.505119    7.0  17  2.824333       13.204778   13.0  21  3.424185   \n",
       "MG       8.372470    8.0  20  3.136891       14.560324   14.0  26  3.625975   \n",
       "MS       7.755725    7.0  18  3.022260       13.641221   14.0  24  3.475282   \n",
       "MT       7.264463    7.0  13  2.383165       13.512397   13.0  23  3.398813   \n",
       "PA       6.913758    6.0  17  2.530626       12.361396   12.0  25  3.295587   \n",
       "PB       7.795812    8.0  19  2.841104       14.204188   14.0  26  3.454780   \n",
       "PE       8.743590    8.0  16  3.345995       14.102564   14.0  25  3.537728   \n",
       "PI       7.000000    7.0  16  2.662134       13.108359   13.0  22  3.557517   \n",
       "PR       7.959805    8.0  20  2.981175       14.401949   14.0  25  3.682085   \n",
       "RJ       9.971429   10.0  19  3.367445       15.167857   15.0  24  3.566627   \n",
       "RN       8.079710    7.5  20  3.451566       14.014493   14.0  25  3.813127   \n",
       "RO       7.083333    8.0  10  2.391589       12.166667   12.0  17  2.886751   \n",
       "RR       5.200000    5.0   7  1.483240       10.800000   11.0  13  1.483240   \n",
       "RS       8.081498    8.0  19  3.153194       14.432819   14.0  28  3.876668   \n",
       "SC       7.969751    8.0  20  3.021753       14.300712   14.0  26  3.717804   \n",
       "SE       8.310680    8.0  20  3.357839       14.553398   14.0  22  3.599369   \n",
       "SP       8.567282    8.0  20  3.309866       14.228496   14.0  27  3.686075   \n",
       "TO       7.651163    7.0  14  2.428832       14.000000   14.0  23  4.017817   \n",
       "\n",
       "       tec_computacao                       \n",
       "                 mean median max       std  \n",
       "ESTADO                                      \n",
       "AC           7.500000    7.0  10  1.914854  \n",
       "AL           8.046667    8.0  15  2.483061  \n",
       "AM           7.485714    7.5  12  2.465665  \n",
       "AP           8.000000    8.0  11  1.788854  \n",
       "BA           7.888889    8.0  15  2.569895  \n",
       "CE           8.171206    8.0  16  2.540485  \n",
       "DF           8.688525    8.0  15  2.240097  \n",
       "ES           7.910979    8.0  16  2.731719  \n",
       "GO           7.626536    8.0  15  2.507738  \n",
       "MA           7.955631    8.0  14  2.438576  \n",
       "MG           7.931174    8.0  16  2.558101  \n",
       "MS           7.368957    7.0  16  2.562236  \n",
       "MT           7.793388    8.0  14  2.316309  \n",
       "PA           7.433265    7.0  15  2.411214  \n",
       "PB           7.947644    8.0  16  2.470253  \n",
       "PE           7.256410    7.0  15  3.041104  \n",
       "PI           7.715170    8.0  15  2.532887  \n",
       "PR           8.133983    8.0  15  2.476047  \n",
       "RJ           8.307143    8.0  15  2.548164  \n",
       "RN           7.586957    8.0  16  2.665619  \n",
       "RO           7.416667    7.5  10  2.151462  \n",
       "RR           7.200000    7.0   9  1.095445  \n",
       "RS           8.196035    8.0  18  2.627374  \n",
       "SC           8.327402    8.0  16  2.527481  \n",
       "SE           8.184466    8.0  15  2.710718  \n",
       "SP           7.995251    8.0  16  2.552610  \n",
       "TO           8.162791    8.0  14  2.308682  "
      ]
     },
     "execution_count": 7,
     "metadata": {},
     "output_type": "execute_result"
    }
   ],
   "source": [
    "renda_estatisticas_por_uf = dados.groupby(['ESTADO']).agg({'matematica': ['mean', 'median', 'max', 'std'],\n",
    "                                                            'fund_computacao': ['mean', 'median', 'max', 'std'],\n",
    "                                                            'tec_computacao': ['mean', 'median', 'max', 'std']})\n",
    "renda_estatisticas_por_uf.rename(index= estados)"
   ]
  },
  {
   "cell_type": "markdown",
   "id": "8f5a15fd-b198-492b-b7fb-a89b27f8b1d7",
   "metadata": {},
   "source": [
    "#### Geração de gráficos da áreas de matemática, fundamentos da computação e tecnologia da computação"
   ]
  },
  {
   "cell_type": "code",
   "execution_count": 8,
   "id": "6c2ce45d-b42a-477d-92e3-4cd883f4037c",
   "metadata": {},
   "outputs": [],
   "source": [
    "media_estatisticas_por_uf = dados.groupby(['ESTADO']).agg({'matematica': ['mean'],\n",
    "                                                            'fund_computacao': ['mean'],\n",
    "                                                            'tec_computacao': ['mean']})\n",
    "media_estatisticas_por_uf = media_estatisticas_por_uf.rename(index=estados_brasileiros)"
   ]
  },
  {
   "cell_type": "code",
   "execution_count": 9,
   "id": "774bab73-e088-44c0-a5d3-c2c2f75ad20a",
   "metadata": {
    "tags": []
   },
   "outputs": [
    {
     "data": {
      "text/html": [
       "<div>\n",
       "<style scoped>\n",
       "    .dataframe tbody tr th:only-of-type {\n",
       "        vertical-align: middle;\n",
       "    }\n",
       "\n",
       "    .dataframe tbody tr th {\n",
       "        vertical-align: top;\n",
       "    }\n",
       "\n",
       "    .dataframe thead th {\n",
       "        text-align: right;\n",
       "    }\n",
       "</style>\n",
       "<table border=\"1\" class=\"dataframe\">\n",
       "  <thead>\n",
       "    <tr style=\"text-align: right;\">\n",
       "      <th></th>\n",
       "      <th>ESTADO</th>\n",
       "      <th>SEXO</th>\n",
       "      <th>candidatos</th>\n",
       "      <th>porcentagem</th>\n",
       "    </tr>\n",
       "  </thead>\n",
       "  <tbody>\n",
       "    <tr>\n",
       "      <th>0</th>\n",
       "      <td>AC</td>\n",
       "      <td>M</td>\n",
       "      <td>4</td>\n",
       "      <td>0.040433</td>\n",
       "    </tr>\n",
       "    <tr>\n",
       "      <th>1</th>\n",
       "      <td>AL</td>\n",
       "      <td>F</td>\n",
       "      <td>18</td>\n",
       "      <td>0.181947</td>\n",
       "    </tr>\n",
       "    <tr>\n",
       "      <th>2</th>\n",
       "      <td>AL</td>\n",
       "      <td>M</td>\n",
       "      <td>132</td>\n",
       "      <td>1.334277</td>\n",
       "    </tr>\n",
       "    <tr>\n",
       "      <th>3</th>\n",
       "      <td>AM</td>\n",
       "      <td>F</td>\n",
       "      <td>19</td>\n",
       "      <td>0.192055</td>\n",
       "    </tr>\n",
       "    <tr>\n",
       "      <th>4</th>\n",
       "      <td>AM</td>\n",
       "      <td>M</td>\n",
       "      <td>51</td>\n",
       "      <td>0.515516</td>\n",
       "    </tr>\n",
       "    <tr>\n",
       "      <th>5</th>\n",
       "      <td>AP</td>\n",
       "      <td>F</td>\n",
       "      <td>1</td>\n",
       "      <td>0.010108</td>\n",
       "    </tr>\n",
       "    <tr>\n",
       "      <th>6</th>\n",
       "      <td>AP</td>\n",
       "      <td>M</td>\n",
       "      <td>10</td>\n",
       "      <td>0.101082</td>\n",
       "    </tr>\n",
       "    <tr>\n",
       "      <th>7</th>\n",
       "      <td>BA</td>\n",
       "      <td>F</td>\n",
       "      <td>17</td>\n",
       "      <td>0.171839</td>\n",
       "    </tr>\n",
       "    <tr>\n",
       "      <th>8</th>\n",
       "      <td>BA</td>\n",
       "      <td>M</td>\n",
       "      <td>91</td>\n",
       "      <td>0.919842</td>\n",
       "    </tr>\n",
       "    <tr>\n",
       "      <th>9</th>\n",
       "      <td>CE</td>\n",
       "      <td>F</td>\n",
       "      <td>90</td>\n",
       "      <td>0.909734</td>\n",
       "    </tr>\n",
       "    <tr>\n",
       "      <th>10</th>\n",
       "      <td>CE</td>\n",
       "      <td>M</td>\n",
       "      <td>424</td>\n",
       "      <td>4.285859</td>\n",
       "    </tr>\n",
       "    <tr>\n",
       "      <th>11</th>\n",
       "      <td>DF</td>\n",
       "      <td>F</td>\n",
       "      <td>7</td>\n",
       "      <td>0.070757</td>\n",
       "    </tr>\n",
       "    <tr>\n",
       "      <th>12</th>\n",
       "      <td>DF</td>\n",
       "      <td>M</td>\n",
       "      <td>54</td>\n",
       "      <td>0.545840</td>\n",
       "    </tr>\n",
       "    <tr>\n",
       "      <th>13</th>\n",
       "      <td>ES</td>\n",
       "      <td>F</td>\n",
       "      <td>42</td>\n",
       "      <td>0.424543</td>\n",
       "    </tr>\n",
       "    <tr>\n",
       "      <th>14</th>\n",
       "      <td>ES</td>\n",
       "      <td>M</td>\n",
       "      <td>295</td>\n",
       "      <td>2.981906</td>\n",
       "    </tr>\n",
       "    <tr>\n",
       "      <th>15</th>\n",
       "      <td>GO</td>\n",
       "      <td>F</td>\n",
       "      <td>78</td>\n",
       "      <td>0.788436</td>\n",
       "    </tr>\n",
       "    <tr>\n",
       "      <th>16</th>\n",
       "      <td>GO</td>\n",
       "      <td>M</td>\n",
       "      <td>329</td>\n",
       "      <td>3.325584</td>\n",
       "    </tr>\n",
       "    <tr>\n",
       "      <th>17</th>\n",
       "      <td>MA</td>\n",
       "      <td>F</td>\n",
       "      <td>38</td>\n",
       "      <td>0.384110</td>\n",
       "    </tr>\n",
       "    <tr>\n",
       "      <th>18</th>\n",
       "      <td>MA</td>\n",
       "      <td>M</td>\n",
       "      <td>255</td>\n",
       "      <td>2.577580</td>\n",
       "    </tr>\n",
       "    <tr>\n",
       "      <th>19</th>\n",
       "      <td>MG</td>\n",
       "      <td>F</td>\n",
       "      <td>228</td>\n",
       "      <td>2.304660</td>\n",
       "    </tr>\n",
       "    <tr>\n",
       "      <th>20</th>\n",
       "      <td>MG</td>\n",
       "      <td>M</td>\n",
       "      <td>1007</td>\n",
       "      <td>10.178914</td>\n",
       "    </tr>\n",
       "    <tr>\n",
       "      <th>21</th>\n",
       "      <td>MS</td>\n",
       "      <td>F</td>\n",
       "      <td>69</td>\n",
       "      <td>0.697463</td>\n",
       "    </tr>\n",
       "    <tr>\n",
       "      <th>22</th>\n",
       "      <td>MS</td>\n",
       "      <td>M</td>\n",
       "      <td>324</td>\n",
       "      <td>3.275043</td>\n",
       "    </tr>\n",
       "    <tr>\n",
       "      <th>23</th>\n",
       "      <td>MT</td>\n",
       "      <td>F</td>\n",
       "      <td>15</td>\n",
       "      <td>0.151622</td>\n",
       "    </tr>\n",
       "    <tr>\n",
       "      <th>24</th>\n",
       "      <td>MT</td>\n",
       "      <td>M</td>\n",
       "      <td>106</td>\n",
       "      <td>1.071465</td>\n",
       "    </tr>\n",
       "    <tr>\n",
       "      <th>25</th>\n",
       "      <td>PA</td>\n",
       "      <td>F</td>\n",
       "      <td>92</td>\n",
       "      <td>0.929950</td>\n",
       "    </tr>\n",
       "    <tr>\n",
       "      <th>26</th>\n",
       "      <td>PA</td>\n",
       "      <td>M</td>\n",
       "      <td>395</td>\n",
       "      <td>3.992722</td>\n",
       "    </tr>\n",
       "    <tr>\n",
       "      <th>27</th>\n",
       "      <td>PB</td>\n",
       "      <td>F</td>\n",
       "      <td>98</td>\n",
       "      <td>0.990599</td>\n",
       "    </tr>\n",
       "    <tr>\n",
       "      <th>28</th>\n",
       "      <td>PB</td>\n",
       "      <td>M</td>\n",
       "      <td>475</td>\n",
       "      <td>4.801375</td>\n",
       "    </tr>\n",
       "    <tr>\n",
       "      <th>29</th>\n",
       "      <td>PE</td>\n",
       "      <td>F</td>\n",
       "      <td>8</td>\n",
       "      <td>0.080865</td>\n",
       "    </tr>\n",
       "    <tr>\n",
       "      <th>30</th>\n",
       "      <td>PE</td>\n",
       "      <td>M</td>\n",
       "      <td>31</td>\n",
       "      <td>0.313353</td>\n",
       "    </tr>\n",
       "    <tr>\n",
       "      <th>31</th>\n",
       "      <td>PI</td>\n",
       "      <td>F</td>\n",
       "      <td>50</td>\n",
       "      <td>0.505408</td>\n",
       "    </tr>\n",
       "    <tr>\n",
       "      <th>32</th>\n",
       "      <td>PI</td>\n",
       "      <td>M</td>\n",
       "      <td>273</td>\n",
       "      <td>2.759527</td>\n",
       "    </tr>\n",
       "    <tr>\n",
       "      <th>33</th>\n",
       "      <td>PR</td>\n",
       "      <td>F</td>\n",
       "      <td>147</td>\n",
       "      <td>1.485899</td>\n",
       "    </tr>\n",
       "    <tr>\n",
       "      <th>34</th>\n",
       "      <td>PR</td>\n",
       "      <td>M</td>\n",
       "      <td>674</td>\n",
       "      <td>6.812898</td>\n",
       "    </tr>\n",
       "    <tr>\n",
       "      <th>35</th>\n",
       "      <td>RJ</td>\n",
       "      <td>F</td>\n",
       "      <td>59</td>\n",
       "      <td>0.596381</td>\n",
       "    </tr>\n",
       "    <tr>\n",
       "      <th>36</th>\n",
       "      <td>RJ</td>\n",
       "      <td>M</td>\n",
       "      <td>221</td>\n",
       "      <td>2.233903</td>\n",
       "    </tr>\n",
       "    <tr>\n",
       "      <th>37</th>\n",
       "      <td>RN</td>\n",
       "      <td>F</td>\n",
       "      <td>32</td>\n",
       "      <td>0.323461</td>\n",
       "    </tr>\n",
       "    <tr>\n",
       "      <th>38</th>\n",
       "      <td>RN</td>\n",
       "      <td>M</td>\n",
       "      <td>106</td>\n",
       "      <td>1.071465</td>\n",
       "    </tr>\n",
       "    <tr>\n",
       "      <th>39</th>\n",
       "      <td>RO</td>\n",
       "      <td>F</td>\n",
       "      <td>2</td>\n",
       "      <td>0.020216</td>\n",
       "    </tr>\n",
       "    <tr>\n",
       "      <th>40</th>\n",
       "      <td>RO</td>\n",
       "      <td>M</td>\n",
       "      <td>10</td>\n",
       "      <td>0.101082</td>\n",
       "    </tr>\n",
       "    <tr>\n",
       "      <th>41</th>\n",
       "      <td>RR</td>\n",
       "      <td>F</td>\n",
       "      <td>1</td>\n",
       "      <td>0.010108</td>\n",
       "    </tr>\n",
       "    <tr>\n",
       "      <th>42</th>\n",
       "      <td>RR</td>\n",
       "      <td>M</td>\n",
       "      <td>4</td>\n",
       "      <td>0.040433</td>\n",
       "    </tr>\n",
       "    <tr>\n",
       "      <th>43</th>\n",
       "      <td>RS</td>\n",
       "      <td>F</td>\n",
       "      <td>150</td>\n",
       "      <td>1.516224</td>\n",
       "    </tr>\n",
       "    <tr>\n",
       "      <th>44</th>\n",
       "      <td>RS</td>\n",
       "      <td>M</td>\n",
       "      <td>758</td>\n",
       "      <td>7.661983</td>\n",
       "    </tr>\n",
       "    <tr>\n",
       "      <th>45</th>\n",
       "      <td>SC</td>\n",
       "      <td>F</td>\n",
       "      <td>87</td>\n",
       "      <td>0.879410</td>\n",
       "    </tr>\n",
       "    <tr>\n",
       "      <th>46</th>\n",
       "      <td>SC</td>\n",
       "      <td>M</td>\n",
       "      <td>475</td>\n",
       "      <td>4.801375</td>\n",
       "    </tr>\n",
       "    <tr>\n",
       "      <th>47</th>\n",
       "      <td>SE</td>\n",
       "      <td>F</td>\n",
       "      <td>20</td>\n",
       "      <td>0.202163</td>\n",
       "    </tr>\n",
       "    <tr>\n",
       "      <th>48</th>\n",
       "      <td>SE</td>\n",
       "      <td>M</td>\n",
       "      <td>83</td>\n",
       "      <td>0.838977</td>\n",
       "    </tr>\n",
       "    <tr>\n",
       "      <th>49</th>\n",
       "      <td>SP</td>\n",
       "      <td>F</td>\n",
       "      <td>319</td>\n",
       "      <td>3.224502</td>\n",
       "    </tr>\n",
       "    <tr>\n",
       "      <th>50</th>\n",
       "      <td>SP</td>\n",
       "      <td>M</td>\n",
       "      <td>1576</td>\n",
       "      <td>15.930456</td>\n",
       "    </tr>\n",
       "    <tr>\n",
       "      <th>51</th>\n",
       "      <td>TO</td>\n",
       "      <td>F</td>\n",
       "      <td>7</td>\n",
       "      <td>0.070757</td>\n",
       "    </tr>\n",
       "    <tr>\n",
       "      <th>52</th>\n",
       "      <td>TO</td>\n",
       "      <td>M</td>\n",
       "      <td>36</td>\n",
       "      <td>0.363894</td>\n",
       "    </tr>\n",
       "  </tbody>\n",
       "</table>\n",
       "</div>"
      ],
      "text/plain": [
       "   ESTADO SEXO  candidatos  porcentagem\n",
       "0      AC    M           4     0.040433\n",
       "1      AL    F          18     0.181947\n",
       "2      AL    M         132     1.334277\n",
       "3      AM    F          19     0.192055\n",
       "4      AM    M          51     0.515516\n",
       "5      AP    F           1     0.010108\n",
       "6      AP    M          10     0.101082\n",
       "7      BA    F          17     0.171839\n",
       "8      BA    M          91     0.919842\n",
       "9      CE    F          90     0.909734\n",
       "10     CE    M         424     4.285859\n",
       "11     DF    F           7     0.070757\n",
       "12     DF    M          54     0.545840\n",
       "13     ES    F          42     0.424543\n",
       "14     ES    M         295     2.981906\n",
       "15     GO    F          78     0.788436\n",
       "16     GO    M         329     3.325584\n",
       "17     MA    F          38     0.384110\n",
       "18     MA    M         255     2.577580\n",
       "19     MG    F         228     2.304660\n",
       "20     MG    M        1007    10.178914\n",
       "21     MS    F          69     0.697463\n",
       "22     MS    M         324     3.275043\n",
       "23     MT    F          15     0.151622\n",
       "24     MT    M         106     1.071465\n",
       "25     PA    F          92     0.929950\n",
       "26     PA    M         395     3.992722\n",
       "27     PB    F          98     0.990599\n",
       "28     PB    M         475     4.801375\n",
       "29     PE    F           8     0.080865\n",
       "30     PE    M          31     0.313353\n",
       "31     PI    F          50     0.505408\n",
       "32     PI    M         273     2.759527\n",
       "33     PR    F         147     1.485899\n",
       "34     PR    M         674     6.812898\n",
       "35     RJ    F          59     0.596381\n",
       "36     RJ    M         221     2.233903\n",
       "37     RN    F          32     0.323461\n",
       "38     RN    M         106     1.071465\n",
       "39     RO    F           2     0.020216\n",
       "40     RO    M          10     0.101082\n",
       "41     RR    F           1     0.010108\n",
       "42     RR    M           4     0.040433\n",
       "43     RS    F         150     1.516224\n",
       "44     RS    M         758     7.661983\n",
       "45     SC    F          87     0.879410\n",
       "46     SC    M         475     4.801375\n",
       "47     SE    F          20     0.202163\n",
       "48     SE    M          83     0.838977\n",
       "49     SP    F         319     3.224502\n",
       "50     SP    M        1576    15.930456\n",
       "51     TO    F           7     0.070757\n",
       "52     TO    M          36     0.363894"
      ]
     },
     "execution_count": 9,
     "metadata": {},
     "output_type": "execute_result"
    }
   ],
   "source": [
    "por_sexo_estado = dados.groupby(['ESTADO', 'SEXO']).size().reset_index(name='candidatos')\n",
    "\n",
    "por_sexo_estado['ESTADO'] = por_sexo_estado['ESTADO'].replace(estados_brasileiros)\n",
    "por_sexo_estado['SEXO'] = por_sexo_estado['SEXO'].replace({0: 'Feminino', 1: 'Masculino'})\n",
    "\n",
    "total_inscritos_sexo = por_sexo_estado['candidatos'].sum()\n",
    "\n",
    "# Calcula a porcentagem de candidatos inscritos por região\n",
    "por_sexo_estado['porcentagem'] = (por_sexo_estado['candidatos'] / total_inscritos_sexo) * 100\n",
    "por_sexo_estado"
   ]
  },
  {
   "cell_type": "code",
   "execution_count": 10,
   "id": "220e589a-f95a-4af1-96fd-fbf4b4ad8fc9",
   "metadata": {
    "tags": []
   },
   "outputs": [],
   "source": [
    "# total_inscritos = por_regiao['candidatos'].sum()\n",
    "\n",
    "# # Calcula a porcentagem de candidatos inscritos por região\n",
    "# por_regiao['porcentagem'] = (por_regiao['candidatos'] / total_inscritos) * 100\n",
    "# colors = ['#408F70', '#FE0000', '#FF8C4D', '#E6EC16', '#9091C9']\n",
    "\n",
    "# explode = (0.1, 0.1, 0.1, 0.1, 0.1)\n",
    "\n",
    "# # Criação do gráfico de pizza\n",
    "# plt.figure(figsize=(8, 6))\n",
    "# plt.pie(por_regiao['porcentagem'], labels=por_regiao['REGIAO'], autopct='%.2f%%',\n",
    "#         colors=colors, explode=explode, shadow=True, startangle=60)\n",
    "# plt.title(\"Porcentagem de inscritos no POSCOMP por região\", fontsize=14)\n",
    "# plt.axis('equal')\n",
    "# plt.show()"
   ]
  },
  {
   "cell_type": "code",
   "execution_count": 11,
   "id": "dd80302b-b0c5-4e35-9037-8d210e7685ee",
   "metadata": {
    "tags": []
   },
   "outputs": [],
   "source": [
    "    # plt.figure(figsize=(8,6))\n",
    "    # df_media_regiao = por_regiao.sort_values(['candidatos'], ascending=False)\n",
    "    # sns.set_style(style='ticks')\n",
    "    # plot = sns.barplot(data=df_media_regiao,\n",
    "    #             y='candidatos',\n",
    "    #             x='REGIAO',\n",
    "    #             # hue='',\n",
    "    #             dodge=False,\n",
    "    #             color='Blue',\n",
    "    #            );\n",
    "    # for p in plot.patches:\n",
    "    #     plt.annotate(int(p.get_height()),\n",
    "    #                 (p.get_x() + p.get_width() / 2,p.get_height()),\n",
    "    #                 ha='center', va='bottom',fontsize=12)\n",
    "    # # Adicionar legenda nos eixos\n",
    "    # # plt.legend(fontsize=10)\n",
    "    # plt.title(\"Número de inscritos no POSCOMP no periodo de 2016-2019\", fontsize=12)\n",
    "    # plt.xlabel('Regiões', fontsize=12)\n",
    "    # plt.ylabel('Quantidade de participantes', fontsize=12)\n",
    "    # plt.xticks(fontsize=12)\n",
    "    # plt.yticks(fontsize=12)\n",
    "    # plt.show()"
   ]
  },
  {
   "cell_type": "code",
   "execution_count": 12,
   "id": "cb945696-d167-4845-b4bb-4dfde9b44853",
   "metadata": {},
   "outputs": [],
   "source": [
    "# lista_eixo = {'matematica': 'Matemática',\n",
    "#            'fundamentos_computacao': 'Fundamentos da Computação',\n",
    "#            'tecnologia_computacao': 'Tecnologia da Computação'}\n",
    "# for i in lista_eixo:\n",
    "#     plt.figure(figsize=(18,10))\n",
    "#     df_media_uf = por_uf.sort_values([i], ascending=False)\n",
    "#     sns.set_theme(style=\"ticks\")\n",
    "#     plot = sns.barplot(data=df_media_uf,\n",
    "#                 y=i,\n",
    "#                 x='ESTADO',\n",
    "#                 hue='REGIAO',\n",
    "#                 dodge=False,\n",
    "#                );\n",
    "#     for p in plot.patches:\n",
    "#         plt.annotate('{0:.2f}'.format(p.get_height()),\n",
    "#                     (p.get_x() + p.get_width() / 2,p.get_height()),\n",
    "#                     ha='center', va='bottom')\n",
    "#     # Adicionar legenda nos eixos\n",
    "#     plt.legend(fontsize=10)\n",
    "#     plt.title(lista_eixo[i], fontsize=18)\n",
    "#     plt.xlabel('Unidade Federativa', fontsize=18)\n",
    "#     plt.ylabel('Médias das notas', fontsize=18)\n",
    "#     plt.xticks(fontsize=15)\n",
    "#     plt.yticks(fontsize=15)\n",
    "#     plt.show()"
   ]
  },
  {
   "cell_type": "code",
   "execution_count": 13,
   "id": "daf68d3b-c62a-4b2f-9e27-15c23083ae63",
   "metadata": {},
   "outputs": [
    {
     "data": {
      "text/html": [
       "<div>\n",
       "<style scoped>\n",
       "    .dataframe tbody tr th:only-of-type {\n",
       "        vertical-align: middle;\n",
       "    }\n",
       "\n",
       "    .dataframe tbody tr th {\n",
       "        vertical-align: top;\n",
       "    }\n",
       "\n",
       "    .dataframe thead tr th {\n",
       "        text-align: left;\n",
       "    }\n",
       "\n",
       "    .dataframe thead tr:last-of-type th {\n",
       "        text-align: right;\n",
       "    }\n",
       "</style>\n",
       "<table border=\"1\" class=\"dataframe\">\n",
       "  <thead>\n",
       "    <tr>\n",
       "      <th></th>\n",
       "      <th colspan=\"4\" halign=\"left\">matematica</th>\n",
       "      <th colspan=\"4\" halign=\"left\">fund_computacao</th>\n",
       "      <th colspan=\"4\" halign=\"left\">tec_computacao</th>\n",
       "    </tr>\n",
       "    <tr>\n",
       "      <th></th>\n",
       "      <th>mean</th>\n",
       "      <th>median</th>\n",
       "      <th>max</th>\n",
       "      <th>std</th>\n",
       "      <th>mean</th>\n",
       "      <th>median</th>\n",
       "      <th>max</th>\n",
       "      <th>std</th>\n",
       "      <th>mean</th>\n",
       "      <th>median</th>\n",
       "      <th>max</th>\n",
       "      <th>std</th>\n",
       "    </tr>\n",
       "    <tr>\n",
       "      <th>REGIAO</th>\n",
       "      <th></th>\n",
       "      <th></th>\n",
       "      <th></th>\n",
       "      <th></th>\n",
       "      <th></th>\n",
       "      <th></th>\n",
       "      <th></th>\n",
       "      <th></th>\n",
       "      <th></th>\n",
       "      <th></th>\n",
       "      <th></th>\n",
       "      <th></th>\n",
       "    </tr>\n",
       "  </thead>\n",
       "  <tbody>\n",
       "    <tr>\n",
       "      <th>centro_oeste</th>\n",
       "      <td>7.617108</td>\n",
       "      <td>7.0</td>\n",
       "      <td>20</td>\n",
       "      <td>2.975611</td>\n",
       "      <td>13.743381</td>\n",
       "      <td>14.0</td>\n",
       "      <td>24</td>\n",
       "      <td>3.479272</td>\n",
       "      <td>7.609980</td>\n",
       "      <td>7.0</td>\n",
       "      <td>16</td>\n",
       "      <td>2.507811</td>\n",
       "    </tr>\n",
       "    <tr>\n",
       "      <th>nordeste</th>\n",
       "      <td>7.821954</td>\n",
       "      <td>8.0</td>\n",
       "      <td>20</td>\n",
       "      <td>2.977742</td>\n",
       "      <td>13.882642</td>\n",
       "      <td>14.0</td>\n",
       "      <td>26</td>\n",
       "      <td>3.538572</td>\n",
       "      <td>7.946899</td>\n",
       "      <td>8.0</td>\n",
       "      <td>16</td>\n",
       "      <td>2.534642</td>\n",
       "    </tr>\n",
       "    <tr>\n",
       "      <th>norte</th>\n",
       "      <td>6.939873</td>\n",
       "      <td>7.0</td>\n",
       "      <td>17</td>\n",
       "      <td>2.533364</td>\n",
       "      <td>12.515823</td>\n",
       "      <td>12.0</td>\n",
       "      <td>25</td>\n",
       "      <td>3.300541</td>\n",
       "      <td>7.496835</td>\n",
       "      <td>7.0</td>\n",
       "      <td>15</td>\n",
       "      <td>2.385905</td>\n",
       "    </tr>\n",
       "    <tr>\n",
       "      <th>sudeste</th>\n",
       "      <td>8.589005</td>\n",
       "      <td>8.0</td>\n",
       "      <td>20</td>\n",
       "      <td>3.284721</td>\n",
       "      <td>14.389645</td>\n",
       "      <td>14.0</td>\n",
       "      <td>28</td>\n",
       "      <td>3.666966</td>\n",
       "      <td>7.989859</td>\n",
       "      <td>8.0</td>\n",
       "      <td>16</td>\n",
       "      <td>2.571436</td>\n",
       "    </tr>\n",
       "    <tr>\n",
       "      <th>sul</th>\n",
       "      <td>8.010476</td>\n",
       "      <td>8.0</td>\n",
       "      <td>20</td>\n",
       "      <td>3.059508</td>\n",
       "      <td>14.389350</td>\n",
       "      <td>14.0</td>\n",
       "      <td>28</td>\n",
       "      <td>3.767750</td>\n",
       "      <td>8.206024</td>\n",
       "      <td>8.0</td>\n",
       "      <td>18</td>\n",
       "      <td>2.549489</td>\n",
       "    </tr>\n",
       "  </tbody>\n",
       "</table>\n",
       "</div>"
      ],
      "text/plain": [
       "             matematica                      fund_computacao             \\\n",
       "                   mean median max       std            mean median max   \n",
       "REGIAO                                                                    \n",
       "centro_oeste   7.617108    7.0  20  2.975611       13.743381   14.0  24   \n",
       "nordeste       7.821954    8.0  20  2.977742       13.882642   14.0  26   \n",
       "norte          6.939873    7.0  17  2.533364       12.515823   12.0  25   \n",
       "sudeste        8.589005    8.0  20  3.284721       14.389645   14.0  28   \n",
       "sul            8.010476    8.0  20  3.059508       14.389350   14.0  28   \n",
       "\n",
       "                       tec_computacao                       \n",
       "                   std           mean median max       std  \n",
       "REGIAO                                                      \n",
       "centro_oeste  3.479272       7.609980    7.0  16  2.507811  \n",
       "nordeste      3.538572       7.946899    8.0  16  2.534642  \n",
       "norte         3.300541       7.496835    7.0  15  2.385905  \n",
       "sudeste       3.666966       7.989859    8.0  16  2.571436  \n",
       "sul           3.767750       8.206024    8.0  18  2.549489  "
      ]
     },
     "execution_count": 13,
     "metadata": {},
     "output_type": "execute_result"
    }
   ],
   "source": [
    "renda_estatisticas_por_regiao = dados.groupby(['REGIAO']).agg({'matematica': ['mean', 'median', 'max', 'std'],\n",
    "                                                              'fund_computacao': ['mean', 'median', 'max', 'std'],\n",
    "                                                              'tec_computacao': ['mean', 'median', 'max', 'std']})\n",
    "renda_estatisticas_por_regiao.rename(index= regioes)"
   ]
  },
  {
   "cell_type": "code",
   "execution_count": 14,
   "id": "a9f03fd6-2dc6-4f3b-9f19-20f16eef90a0",
   "metadata": {
    "tags": []
   },
   "outputs": [],
   "source": [
    "dados_teste = dados.copy()"
   ]
  },
  {
   "cell_type": "markdown",
   "id": "1c2e420e-a06a-4571-b2a3-56422aebbf87",
   "metadata": {
    "tags": []
   },
   "source": [
    "## K-means"
   ]
  },
  {
   "cell_type": "code",
   "execution_count": 15,
   "id": "85e440cc-6d5b-4e20-9a4e-c50eac8ab4f3",
   "metadata": {},
   "outputs": [],
   "source": [
    "from sklearn.cluster import KMeans"
   ]
  },
  {
   "cell_type": "code",
   "execution_count": 16,
   "id": "6ffd0185-4b26-476f-b082-6e4e08b4ffac",
   "metadata": {},
   "outputs": [
    {
     "data": {
      "text/html": [
       "<div>\n",
       "<style scoped>\n",
       "    .dataframe tbody tr th:only-of-type {\n",
       "        vertical-align: middle;\n",
       "    }\n",
       "\n",
       "    .dataframe tbody tr th {\n",
       "        vertical-align: top;\n",
       "    }\n",
       "\n",
       "    .dataframe thead th {\n",
       "        text-align: right;\n",
       "    }\n",
       "</style>\n",
       "<table border=\"1\" class=\"dataframe\">\n",
       "  <thead>\n",
       "    <tr style=\"text-align: right;\">\n",
       "      <th></th>\n",
       "      <th>SEXO</th>\n",
       "      <th>ESTADO</th>\n",
       "      <th>IDADE</th>\n",
       "      <th>REGIAO</th>\n",
       "      <th>matematica</th>\n",
       "      <th>fund_computacao</th>\n",
       "      <th>tec_computacao</th>\n",
       "      <th>total</th>\n",
       "      <th>ESPECIALIDADE</th>\n",
       "    </tr>\n",
       "  </thead>\n",
       "  <tbody>\n",
       "    <tr>\n",
       "      <th>0</th>\n",
       "      <td>M</td>\n",
       "      <td>RS</td>\n",
       "      <td>21</td>\n",
       "      <td>sul</td>\n",
       "      <td>16</td>\n",
       "      <td>22</td>\n",
       "      <td>12</td>\n",
       "      <td>50</td>\n",
       "      <td>metodologias e técnicas de computação</td>\n",
       "    </tr>\n",
       "    <tr>\n",
       "      <th>1</th>\n",
       "      <td>M</td>\n",
       "      <td>SP</td>\n",
       "      <td>25</td>\n",
       "      <td>sudeste</td>\n",
       "      <td>4</td>\n",
       "      <td>16</td>\n",
       "      <td>8</td>\n",
       "      <td>28</td>\n",
       "      <td>engenharia de software</td>\n",
       "    </tr>\n",
       "    <tr>\n",
       "      <th>2</th>\n",
       "      <td>M</td>\n",
       "      <td>PA</td>\n",
       "      <td>30</td>\n",
       "      <td>norte</td>\n",
       "      <td>4</td>\n",
       "      <td>13</td>\n",
       "      <td>7</td>\n",
       "      <td>24</td>\n",
       "      <td>sistemas de informação</td>\n",
       "    </tr>\n",
       "    <tr>\n",
       "      <th>3</th>\n",
       "      <td>F</td>\n",
       "      <td>AM</td>\n",
       "      <td>19</td>\n",
       "      <td>norte</td>\n",
       "      <td>6</td>\n",
       "      <td>15</td>\n",
       "      <td>11</td>\n",
       "      <td>32</td>\n",
       "      <td>computação gráfica</td>\n",
       "    </tr>\n",
       "    <tr>\n",
       "      <th>4</th>\n",
       "      <td>M</td>\n",
       "      <td>MS</td>\n",
       "      <td>21</td>\n",
       "      <td>centro_oeste</td>\n",
       "      <td>12</td>\n",
       "      <td>20</td>\n",
       "      <td>11</td>\n",
       "      <td>43</td>\n",
       "      <td>sistemas de computação</td>\n",
       "    </tr>\n",
       "  </tbody>\n",
       "</table>\n",
       "</div>"
      ],
      "text/plain": [
       "  SEXO ESTADO  IDADE        REGIAO  matematica  fund_computacao  \\\n",
       "0    M     RS     21           sul          16               22   \n",
       "1    M     SP     25       sudeste           4               16   \n",
       "2    M     PA     30         norte           4               13   \n",
       "3    F     AM     19         norte           6               15   \n",
       "4    M     MS     21  centro_oeste          12               20   \n",
       "\n",
       "   tec_computacao  total                          ESPECIALIDADE  \n",
       "0              12     50  metodologias e técnicas de computação  \n",
       "1               8     28                 engenharia de software  \n",
       "2               7     24                 sistemas de informação  \n",
       "3              11     32                     computação gráfica  \n",
       "4              11     43                 sistemas de computação  "
      ]
     },
     "execution_count": 16,
     "metadata": {},
     "output_type": "execute_result"
    }
   ],
   "source": [
    "dataset = dados.copy()\n",
    "dataset_kmeans = dataset.loc[:,['SEXO','ESTADO','IDADE','REGIAO','matematica','fund_computacao','tec_computacao','total','ESPECIALIDADE']]\n",
    "dataset_kmeans.head()"
   ]
  },
  {
   "cell_type": "code",
   "execution_count": 17,
   "id": "3c1d4284-fbb3-4a56-81b4-0b60ff91d338",
   "metadata": {},
   "outputs": [],
   "source": [
    "X = dataset_kmeans.drop(['ESPECIALIDADE'], axis=1)\n",
    "y = dataset_kmeans['ESPECIALIDADE']"
   ]
  },
  {
   "cell_type": "markdown",
   "id": "ce83be14-6820-41a2-9549-5d46529aca6c",
   "metadata": {},
   "source": [
    "### Padronizando os dados"
   ]
  },
  {
   "cell_type": "code",
   "execution_count": 18,
   "id": "6ff6133a-b5ca-42f9-b8d3-a5bb4bedf626",
   "metadata": {},
   "outputs": [],
   "source": [
    "def encode_categorical_columns(df, columns):\n",
    "    le = LabelEncoder()\n",
    "    for col in columns:\n",
    "        df[col] = le.fit_transform(df[col])\n",
    "    return df\n",
    "\n",
    "categorical_columns = [\"ESPECIALIDADE\",'SEXO','REGIAO','ESTADO']\n",
    "X_dataset = encode_categorical_columns(dataset_kmeans, categorical_columns)"
   ]
  },
  {
   "cell_type": "code",
   "execution_count": 19,
   "id": "92fe0526-1daf-4ea5-a2b6-67c41d957c46",
   "metadata": {},
   "outputs": [],
   "source": [
    "from sklearn import preprocessing\n",
    "\n",
    "min_max_scaler = preprocessing.MinMaxScaler()\n",
    "dataset_kmeans = min_max_scaler.fit_transform(dataset_kmeans)"
   ]
  },
  {
   "cell_type": "markdown",
   "id": "e066e2c9-dc29-4c6a-8298-3e515de544f2",
   "metadata": {
    "tags": []
   },
   "source": [
    "### Encontrar o número ideal de cluster"
   ]
  },
  {
   "cell_type": "code",
   "execution_count": 20,
   "id": "23ffd5bf-db82-47fb-b629-57c3c08b80c4",
   "metadata": {},
   "outputs": [
    {
     "data": {
      "image/png": "[encoded data removed]",
      "text/plain": [
       "<Figure size 640x480 with 1 Axes>"
      ]
     },
     "metadata": {},
     "output_type": "display_data"
    }
   ],
   "source": [
    "inertias = []\n",
    "for k in range(1, 11):\n",
    "    kmeans = KMeans(n_clusters=k, n_init=10)\n",
    "    kmeans.fit(X_dataset)\n",
    "\n",
    "    inertias.append(kmeans.inertia_)\n",
    "plt.plot(range(1, 11), inertias)\n",
    "plt.xlabel('Number of clusters')\n",
    "plt.ylabel('Inertia')\n",
    "plt.show()"
   ]
  },
  {
   "cell_type": "code",
   "execution_count": 21,
   "id": "e04c3b56-6db6-4787-a0ac-48edfcea7143",
   "metadata": {},
   "outputs": [
    {
     "data": {
      "image/png": "[encoded data removed]",
      "text/plain": [
       "<Figure size 640x480 with 1 Axes>"
      ]
     },
     "metadata": {},
     "output_type": "display_data"
    }
   ],
   "source": [
    "from sklearn.metrics import silhouette_score\n",
    "\n",
    "scores = []\n",
    "\n",
    "for k in range(2, 11):\n",
    "    kmeans = KMeans(n_clusters=k, n_init=10)\n",
    "    kmeans.fit(X_dataset)\n",
    "\n",
    "    score = silhouette_score(X_dataset, kmeans.labels_)\n",
    "    scores.append(score)\n",
    "\n",
    "plt.plot(range(2, 11), scores)\n",
    "plt.xlabel('Number of clusters')\n",
    "plt.ylabel('Silhouette Score')\n",
    "plt.show()"
   ]
  },
  {
   "cell_type": "code",
   "execution_count": 22,
   "id": "bb1d210b-e89c-4692-8f64-d92e037c9169",
   "metadata": {},
   "outputs": [
    {
     "data": {
      "image/png": "[encoded data removed]",
      "text/plain": [
       "<Figure size 640x480 with 1 Axes>"
      ]
     },
     "metadata": {},
     "output_type": "display_data"
    }
   ],
   "source": [
    "from sklearn.mixture import GaussianMixture\n",
    "\n",
    "bic_values = []\n",
    "aic_values = []\n",
    "\n",
    "sns.set_palette([\"blue\", \"red\"])\n",
    "\n",
    "for k in range(1, 11):\n",
    "    gmm = GaussianMixture(n_components=k)\n",
    "    gmm.fit(X_dataset)\n",
    "    \n",
    "\n",
    "    bic_values.append(gmm.bic(X_dataset))\n",
    "    aic_values.append(gmm.aic(X_dataset))\n",
    "\n",
    "plt.plot(range(1, 11), bic_values, label=\"BIC\")\n",
    "plt.plot(range(1, 11), aic_values, label=\"AIC\")\n",
    "plt.xticks(fontsize=14)\n",
    "plt.yticks(fontsize=14)\n",
    "plt.ylabel('scores', fontsize=14)\n",
    "plt.xlabel('número de clusters', fontsize=14)\n",
    "legend = plt.legend(title='Critérios', fontsize=12)\n",
    "legend.get_title().set_fontsize(14)\n",
    "# plt.savefig('imagens/metodoBIC_AIC.eps', dpi=400, bbox_inches='tight', format='eps')\n",
    "plt.show()"
   ]
  },
  {
   "cell_type": "code",
   "execution_count": 23,
   "id": "a8d28931-49c5-4e95-b13a-6cc3400519fb",
   "metadata": {},
   "outputs": [],
   "source": [
    "wcss = []\n",
    "for i in range(1,11):\n",
    "    kmeans = KMeans(n_clusters=i,n_init='auto',max_iter=300,init='k-means++')\n",
    "    kmeans.fit(X_dataset)\n",
    "    wcss.append(kmeans.inertia_)"
   ]
  },
  {
   "cell_type": "code",
   "execution_count": 24,
   "id": "b821ea54-b686-483d-90e5-596f4a6664d8",
   "metadata": {},
   "outputs": [
    {
     "data": {
      "text/plain": [
       "Text(0, 0.5, 'WCSS')"
      ]
     },
     "execution_count": 24,
     "metadata": {},
     "output_type": "execute_result"
    },
    {
     "data": {
      "image/png": "[encoded data removed]",
      "text/plain": [
       "<Figure size 640x480 with 1 Axes>"
      ]
     },
     "metadata": {},
     "output_type": "display_data"
    }
   ],
   "source": [
    "plt.plot(wcss, 'bx-')\n",
    "plt.xlabel('Cluster')\n",
    "plt.ylabel('WCSS')"
   ]
  },
  {
   "cell_type": "markdown",
   "id": "3a768a55-e921-445d-bf6a-e9abcaf1e963",
   "metadata": {},
   "source": [
    "### Aplicação do K-meas"
   ]
  },
  {
   "cell_type": "code",
   "execution_count": 25,
   "id": "21f67ee9-9286-4a34-a6fb-209928932ae4",
   "metadata": {},
   "outputs": [
    {
     "ename": "NameError",
     "evalue": "name 'model' is not defined",
     "output_type": "error",
     "traceback": [
      "\u001b[0;31m---------------------------------------------------------------------------\u001b[0m",
      "\u001b[0;31mNameError\u001b[0m                                 Traceback (most recent call last)",
      "Cell \u001b[0;32mIn[25], line 11\u001b[0m\n\u001b[1;32m      1\u001b[0m param_grid \u001b[38;5;241m=\u001b[39m {\n\u001b[1;32m      2\u001b[0m     \u001b[38;5;124m'\u001b[39m\u001b[38;5;124mn_clusters\u001b[39m\u001b[38;5;124m'\u001b[39m: [\u001b[38;5;241m3\u001b[39m, \u001b[38;5;241m4\u001b[39m, \u001b[38;5;241m5\u001b[39m, \u001b[38;5;241m6\u001b[39m],\n\u001b[1;32m      3\u001b[0m     \u001b[38;5;124m'\u001b[39m\u001b[38;5;124minit\u001b[39m\u001b[38;5;124m'\u001b[39m: [\u001b[38;5;124m'\u001b[39m\u001b[38;5;124mk-means++\u001b[39m\u001b[38;5;124m'\u001b[39m, \u001b[38;5;124m'\u001b[39m\u001b[38;5;124mrandom\u001b[39m\u001b[38;5;124m'\u001b[39m],\n\u001b[0;32m   (...)\u001b[0m\n\u001b[1;32m      7\u001b[0m     \u001b[38;5;124m'\u001b[39m\u001b[38;5;124malgorithm\u001b[39m\u001b[38;5;124m'\u001b[39m: [\u001b[38;5;124m'\u001b[39m\u001b[38;5;124mauto\u001b[39m\u001b[38;5;124m'\u001b[39m, \u001b[38;5;124m'\u001b[39m\u001b[38;5;124mfull\u001b[39m\u001b[38;5;124m'\u001b[39m, \u001b[38;5;124m'\u001b[39m\u001b[38;5;124melkan\u001b[39m\u001b[38;5;124m'\u001b[39m],\n\u001b[1;32m      8\u001b[0m }\n\u001b[1;32m     10\u001b[0m \u001b[38;5;66;03m# Criar o objeto GridSearchCV\u001b[39;00m\n\u001b[0;32m---> 11\u001b[0m grid_search \u001b[38;5;241m=\u001b[39m GridSearchCV(estimator\u001b[38;5;241m=\u001b[39m\u001b[43mmodel\u001b[49m, param_grid\u001b[38;5;241m=\u001b[39mparam_grid, cv\u001b[38;5;241m=\u001b[39m\u001b[38;5;241m5\u001b[39m, scoring\u001b[38;5;241m=\u001b[39m\u001b[38;5;124m'\u001b[39m\u001b[38;5;124mneg_mean_squared_error\u001b[39m\u001b[38;5;124m'\u001b[39m, n_jobs\u001b[38;5;241m=\u001b[39m\u001b[38;5;241m-\u001b[39m\u001b[38;5;241m1\u001b[39m)\n\u001b[1;32m     13\u001b[0m \u001b[38;5;66;03m# Realizar a busca em grade no conjunto de dados\u001b[39;00m\n\u001b[1;32m     14\u001b[0m grid_search\u001b[38;5;241m.\u001b[39mfit(X)\n",
      "\u001b[0;31mNameError\u001b[0m: name 'model' is not defined"
     ]
    }
   ],
   "source": [
    "param_grid = {\n",
    "    'n_clusters': [3, 4, 5, 6],\n",
    "    'init': ['k-means++', 'random'],\n",
    "    'n_init': [5, 10, 15],\n",
    "    'max_iter': [100, 200, 300],\n",
    "    'tol': [1e-4, 1e-3, 1e-2],\n",
    "    'algorithm': ['auto', 'full', 'elkan'],\n",
    "}\n",
    "\n",
    "# Criar o objeto GridSearchCV\n",
    "grid_search = GridSearchCV(estimator=model, param_grid=param_grid, cv=5, scoring='neg_mean_squared_error', n_jobs=-1)\n",
    "\n",
    "# Realizar a busca em grade no conjunto de dados\n",
    "grid_search.fit(X)\n",
    "\n",
    "# Obter os melhores hiperparâmetros\n",
    "best_params = grid_search.best_params_\n",
    "print(\"Melhores Hiperparâmetros:\", best_params)"
   ]
  },
  {
   "cell_type": "code",
   "execution_count": null,
   "id": "99ed46bc-4f0d-4f70-97a0-377ff13777e4",
   "metadata": {},
   "outputs": [],
   "source": [
    "model = KMeans(n_clusters=4, n_init=10 ,max_iter=1000, init='k-means++', algorithm='auto', tol=0.0001)\n",
    "labels = model.fit_predict(X_dataset)\n",
    "dataset_kmeans.loc[:, 'cluster'] = model.predict(X_dataset)\n",
    "centroids = model.cluster_centers_"
   ]
  },
  {
   "cell_type": "code",
   "execution_count": null,
   "id": "2c0d3504-ab21-491e-9453-c591eb313fc8",
   "metadata": {
    "tags": []
   },
   "outputs": [],
   "source": [
    "# Agrupar por cluster e especialidade, contando o número de ocorrências\n",
    "cluster_specialty_counts = dataset_kmeans.groupby(['cluster', 'ESPECIALIDADE']).size().reset_index(name='count')\n",
    "\n",
    "# Encontrar a especialidade com a maior contagem para cada cluster\n",
    "max_specialties = cluster_specialty_counts.groupby('cluster').apply(lambda x: x.loc[x['count'].idxmax()])\n",
    "\n",
    "print(max_specialties)"
   ]
  },
  {
   "cell_type": "code",
   "execution_count": null,
   "id": "00f9d4f7-ef72-429b-9090-a5716388abca",
   "metadata": {
    "tags": []
   },
   "outputs": [],
   "source": [
    "centroids"
   ]
  },
  {
   "cell_type": "code",
   "execution_count": null,
   "id": "d660767a-b0c6-453b-81ed-28b33590ee19",
   "metadata": {
    "tags": []
   },
   "outputs": [],
   "source": [
    "from sklearn import metrics\n",
    "sse = model.inertia_\n",
    "silhouette_avg = metrics.silhouette_score(dataset_kmeans, labels)\n",
    "\n",
    "print(\"SSE:\", sse)\n",
    "print(\"Coeficiente de Silhueta:\", silhouette_avg)"
   ]
  },
  {
   "cell_type": "code",
   "execution_count": null,
   "id": "fa71c322-aff8-4387-a8de-5546280d6a56",
   "metadata": {
    "tags": []
   },
   "outputs": [],
   "source": [
    "import matplotlib.pyplot as plt\n",
    "from mpl_toolkits.mplot3d import Axes3D\n",
    "import seaborn as sns\n",
    "\n",
    "# sns.set_theme(style=\"whitegrid\")\n",
    "\n",
    "fig = plt.figure(figsize=(12, 10))\n",
    "ax = plt.axes(projection='3d')\n",
    "\n",
    "sctt = ax.scatter3D(dataset['matematica'], dataset['fundamentos_computacao'],\n",
    "                    dataset['tecnologia_computacao'], c=dataset['cluster'], cmap='seismic')\n",
    "\n",
    "ax.set_xlabel('Matemática', labelpad=10)\n",
    "ax.set_ylabel('Fundamentos da Computação', labelpad=10)\n",
    "fig.text(0.85, 0.5, 'Tecnologia da Computação', va='center', rotation='vertical', fontsize=12)\n",
    "\n",
    "legend1 = ax.legend(*sctt.legend_elements(), title='Grupo')\n",
    "ax.add_artist(legend1)\n",
    "\n",
    "# plt.savefig('imagens/grafico_kmeans.eps', dpi=300, bbox_inches='tight', format='eps')\n",
    "\n",
    "plt.show()"
   ]
  },
  {
   "cell_type": "markdown",
   "id": "40855940-f3a1-4975-8bda-3f71e7582369",
   "metadata": {
    "jp-MarkdownHeadingCollapsed": true
   },
   "source": [
    "#### Metricas do desempenho do algoritmo"
   ]
  },
  {
   "cell_type": "code",
   "execution_count": null,
   "id": "6efc6ab1-d0f4-43e9-a661-4bfae8e61594",
   "metadata": {
    "tags": []
   },
   "outputs": [],
   "source": [
    "from sklearn.metrics import pairwise_distances\n",
    "\n",
    "# Soma dos Quadrados dos Erros (SSE):\n",
    "def calculate_sse(data, labels, centroids):\n",
    "    distances = pairwise_distances(data, centroids, metric='euclidean')\n",
    "    sse = 0\n",
    "    for i, label in enumerate(labels):\n",
    "        sse += distances[i][label] ** 2\n",
    "    return sse"
   ]
  },
  {
   "cell_type": "code",
   "execution_count": null,
   "id": "29efc5f4-4b29-4320-96e0-21a217947f2d",
   "metadata": {
    "tags": []
   },
   "outputs": [],
   "source": [
    "# Coeficiente de Silhueta:\n",
    "from sklearn.metrics import silhouette_score\n",
    "\n",
    "def calculate_silhouette(data, labels):\n",
    "    silhouette = silhouette_score(data, labels)\n",
    "    return silhouette"
   ]
  },
  {
   "cell_type": "code",
   "execution_count": null,
   "id": "275954a9-21d5-40bd-b3ae-c5a6fd7ad9b4",
   "metadata": {
    "tags": []
   },
   "outputs": [],
   "source": [
    "# Índice de Davies-Bouldin:\n",
    "def calculate_davies_bouldin(data, labels, centroids):\n",
    "    distances = pairwise_distances(centroids, centroids, metric='euclidean')\n",
    "    n_clusters = len(np.unique(labels))\n",
    "    cluster_distances = np.zeros(n_clusters)\n",
    "    for i in range(n_clusters):\n",
    "        cluster_points = data[labels == i]\n",
    "        centroid_distances = pairwise_distances(cluster_points, [centroids[i]], metric='euclidean')\n",
    "        cluster_distances[i] = np.mean(centroid_distances)\n",
    "    db_index = np.sum(distances) / np.max(cluster_distances)\n",
    "    return db_index\n"
   ]
  },
  {
   "cell_type": "code",
   "execution_count": null,
   "id": "4b46a289-3f2c-407c-bc83-fc3076764a8f",
   "metadata": {
    "tags": []
   },
   "outputs": [],
   "source": [
    "# Índice de Calinski-Harabasz:\n",
    "from sklearn.metrics import calinski_harabasz_score\n",
    "\n",
    "def calculate_calinski_harabasz(data, labels):\n",
    "    ch_index = calinski_harabasz_score(data, labels)\n",
    "    return ch_index\n"
   ]
  },
  {
   "cell_type": "code",
   "execution_count": null,
   "id": "700a9c1c-b676-4cb9-b865-4d54eb434221",
   "metadata": {
    "tags": []
   },
   "outputs": [],
   "source": [
    "# Índice de Dunn:\n",
    "import numpy as np\n",
    "\n",
    "def calculate_dunn(data, labels):\n",
    "    distances = pairwise_distances(data, metric='euclidean')\n",
    "    max_intra_cluster_distance = np.max([np.max(distances[labels == label][:, labels == label]) for label in np.unique(labels)])\n",
    "    min_inter_cluster_distance = np.min([np.min(distances[labels == label][:, labels != label]) for label in np.unique(labels)])\n",
    "    dunn_index = min_inter_cluster_distance / max_intra_cluster_distance\n",
    "    return dunn_index\n"
   ]
  },
  {
   "cell_type": "code",
   "execution_count": null,
   "id": "4887c5d4-8dc2-4063-8d60-d7ef5d396950",
   "metadata": {
    "tags": []
   },
   "outputs": [],
   "source": [
    "distances = pairwise_distances(X_dataset_kmeans, centroids, metric='euclidean')\n",
    "sse = np.sum(np.min(distances, axis=1))\n",
    "\n",
    "# Calcular Coeficiente de Silhueta\n",
    "silhouette = silhouette_score(X_dataset_kmeans, labels)\n",
    "\n",
    "# Calcular Índice de Davies-Bouldin\n",
    "davies_bouldin = calculate_davies_bouldin(X_dataset_kmeans, labels, centroids)\n",
    "\n",
    "# Calcular Índice de Calinski-Harabasz\n",
    "calinski_harabasz = calinski_harabasz_score(X_dataset_kmeans, labels)\n",
    "\n",
    "# Calcular Índice de Dunn\n",
    "dunn = calculate_dunn(X_dataset_kmeans, labels)\n",
    "\n",
    "# Imprimir os resultados\n",
    "print(f\"SSE: {sse}\")\n",
    "print(f\"Coeficiente de Silhueta: {silhouette}\")\n",
    "print(f\"Índice de Davies-Bouldin: {davies_bouldin}\")\n",
    "print(f\"Índice de Calinski-Harabasz: {calinski_harabasz}\")\n",
    "print(f\"Índice de Dunn: {dunn}\")"
   ]
  },
  {
   "cell_type": "code",
   "execution_count": null,
   "id": "740e1312-d3df-42e0-8a7d-699592cd1acb",
   "metadata": {
    "tags": []
   },
   "outputs": [],
   "source": [
    "import matplotlib.colors as mcolors\n",
    "column_labels = {\n",
    "    'matematica': 'Matemática',\n",
    "    'fundamentos_computacao': 'Fundamentos da Computação',\n",
    "    'tecnologia_computacao': 'Tecnologia da Computação'\n",
    "}\n",
    "colors = ['#E30000', '#0000BC', ]  # Azul e Vermelho\n",
    "\n",
    "cmap = mcolors.LinearSegmentedColormap.from_list('custom_seismic', colors, N=dataset['cluster'].nunique())\n",
    "\n",
    "fig, axes = plt.subplots(nrows=1, ncols=3, figsize=(12, 4))\n",
    "\n",
    "for i, coluna in enumerate(['matematica', 'fundamentos_computacao', 'tecnologia_computacao']):\n",
    "    ax = axes[i]\n",
    "    \n",
    "    for idx, cluster in enumerate(dataset['cluster'].unique()):\n",
    "        subset = dataset[dataset['cluster'] == cluster]\n",
    "        color = colors[idx]  # Seleciona a cor da paleta 'seismic' para cada cluster\n",
    "        ax.hist(subset[coluna], bins=10, alpha=0.5, label=f'Cluster {cluster}', color=color)\n",
    "    \n",
    "    # ax.set_title(f'Histograma de {coluna} por cluster')\n",
    "    ax.set_xlabel(column_labels[coluna], fontsize=18)\n",
    "    ax.set_ylabel('Frequência', fontsize=18)\n",
    "    ax.legend(fontsize=12)\n",
    "    ax.tick_params(axis='both', which='major', labelsize=14)  # Definir tamanho dos rótulos dos eixo\n",
    "\n",
    "\n",
    "plt.tight_layout()\n",
    "\n",
    "plt.savefig('imagens/histograma', dpi=600, bbox_inches='tight')\n",
    "\n",
    "plt.show()\n"
   ]
  },
  {
   "cell_type": "code",
   "execution_count": null,
   "id": "80ad2e5d-d420-4b87-af39-e541efd0014e",
   "metadata": {
    "tags": []
   },
   "outputs": [],
   "source": [
    "import pandas as pd\n",
    "import matplotlib.pyplot as plt\n",
    "\n",
    "disciplinas = ['Matemática Discreta', 'Cálculo Diferencial e Integral', 'Álgebra Linear', 'Geometria Analítica',\n",
    "               'Análise Combinatória', 'Probabilidade e Estatística', 'Lógica Matemática',\n",
    "               'Organização de Arquivos e Dados', 'Técnicas de Programação', 'Circuitos Digitais',\n",
    "               'Análise de Algoritmos', 'Teoria dos Grafos', 'Linguagens Formais, Autômatos e Computabilidade',\n",
    "               'Algoritmos e Estruturas de Dados', 'Linguagens de Programação', 'Sistemas Operacionais',\n",
    "               'Arquitetura e Organização de Computadores', 'Redes de Computadores', 'Computação Gráfica',\n",
    "               'Inteligência Artificial', 'Engenharia de Software', 'Sistemas Distribuídos', 'Compiladores',\n",
    "               'Processamento de Imagens', 'Banco de Dados']\n",
    "\n",
    "num_disciplinas = len(disciplinas)\n",
    "num_clusters = len(dataset['cluster'].unique())\n",
    "\n",
    "# Definindo as cores da paleta 'seismic' para representar os clusters\n",
    "cluster_colors = ['b', 'r']\n",
    "\n",
    "fig, axes = plt.subplots(nrows=5, ncols=5, figsize=(16, 16))\n",
    "\n",
    "for i, disciplina in enumerate(disciplinas):\n",
    "    row = i // 5\n",
    "    col = i % 5\n",
    "    ax = axes[row, col]\n",
    "    for cluster, color in zip(range(num_clusters), cluster_colors):\n",
    "        data = dataset[dataset['cluster'] == cluster]\n",
    "        mean_by_year = data.groupby('ANO')[disciplina].mean()\n",
    "        max_mean = mean_by_year.max()  # Encontra o valor máximo nas médias para normalização\n",
    "        normalized_mean = mean_by_year / max_mean * 100  # Normaliza as médias em porcentagem\n",
    "        ax.plot(normalized_mean.index, normalized_mean.values, marker='o', label=f'Cluster {cluster}', color=color)\n",
    "    \n",
    "    ax.set_title(disciplina)\n",
    "    ax.set_xlabel('Ano')\n",
    "    ax.set_ylabel('Média de Desempenho (%)')\n",
    "    ax.legend()\n",
    "\n",
    "if num_disciplinas < 25:\n",
    "    for i in range(num_disciplinas, 25):\n",
    "        row = i // 5\n",
    "        col = i % 5\n",
    "        fig.delaxes(axes[row, col])\n",
    "\n",
    "plt.tight_layout()\n",
    "plt.savefig('imagens/desempenhoCluster.eps', dpi=600)\n",
    "plt.show()\n"
   ]
  },
  {
   "cell_type": "code",
   "execution_count": null,
   "id": "4bc3a24a-2007-44e0-8041-877449919f2c",
   "metadata": {
    "tags": []
   },
   "outputs": [],
   "source": [
    "disciplinas = ['Matemática Discreta',\n",
    " 'Cálculo Diferencial e Integral',\n",
    " 'Álgebra Linear',\n",
    " 'Geometria Analítica',\n",
    " 'Análise Combinatória',\n",
    " 'Probabilidade e Estatística',\n",
    " 'Lógica Matemática',\n",
    " 'Organização de Arquivos e Dados',\n",
    " 'Técnicas de Programação',\n",
    " 'Circuitos Digitais',\n",
    " 'Análise de Algoritmos',\n",
    " 'Teoria dos Grafos',\n",
    " 'Linguagens Formais, Autômatos e Computabilidade',\n",
    " 'Algoritmos e Estruturas de Dados',\n",
    " 'Linguagens de Programação',\n",
    " 'Sistemas Operacionais',\n",
    " 'Arquitetura e Organização de Computadores',\n",
    " 'Redes de Computadores',\n",
    " 'Computação Gráfica',\n",
    " 'Inteligência Artificial',\n",
    " 'Engenharia de Software',\n",
    " 'Sistemas Distribuídos',\n",
    " 'Compiladores',\n",
    " 'Processamento de Imagens',\n",
    " 'Banco de Dados']\n",
    "\n",
    "num_disciplinas = len(disciplinas)\n",
    "num_clusters = len(dataset['cluster'].unique())\n",
    "\n",
    "# Definindo as cores da paleta 'seismic' para representar os clusters\n",
    "cluster_colors = ['b', 'r']\n",
    "\n",
    "fig, axes = plt.subplots(nrows=5, ncols=5, figsize=(16, 16))\n",
    "\n",
    "for i, disciplina in enumerate(disciplinas):\n",
    "    row = i // 5\n",
    "    col = i % 5\n",
    "    ax = axes[row, col]\n",
    "    for cluster, color in zip(range(num_clusters), cluster_colors):\n",
    "        data = dataset[dataset['cluster'] == cluster]\n",
    "        mean_by_year = data.groupby('ANO')[disciplina].mean()\n",
    "        ax.plot(mean_by_year.index, mean_by_year.values, marker='o', label=f'Cluster {cluster}', color=color)\n",
    "    \n",
    "    ax.set_title(disciplina)\n",
    "    ax.set_xlabel('Ano')\n",
    "    ax.set_ylabel('Média de Desempenho')\n",
    "    ax.legend()\n",
    "\n",
    "if num_disciplinas < 25:\n",
    "    for i in range(num_disciplinas, 25):\n",
    "        row = i // 5\n",
    "        col = i % 5\n",
    "        fig.delaxes(axes[row, col])\n",
    "\n",
    "plt.tight_layout()\n",
    "plt.savefig('imagens/desempenhoCluster.eps', dpi=600)\n",
    "plt.show()\n"
   ]
  },
  {
   "cell_type": "code",
   "execution_count": null,
   "id": "785b5602-c387-49a4-9003-29d1a36c201b",
   "metadata": {
    "tags": []
   },
   "outputs": [],
   "source": [
    "# Calcular a média do desempenho por grupo (por exemplo, gênero)\n",
    "mean_performance_by_gender = dataset.groupby('SEXO')[['matematica', 'fundamentos_computacao', 'tecnologia_computacao']].mean()\n",
    "print(mean_performance_by_gender)"
   ]
  },
  {
   "cell_type": "code",
   "execution_count": null,
   "id": "56078f7f-ad83-4757-bef8-76c56522c9df",
   "metadata": {
    "tags": []
   },
   "outputs": [],
   "source": [
    "mean_math_by_presence = dados.groupby('PRESENTE')['matematica'].mean()\n",
    "print(mean_math_by_presence)"
   ]
  },
  {
   "cell_type": "code",
   "execution_count": null,
   "id": "93a63c31-b690-4fa0-87e1-d4278da6ccb1",
   "metadata": {
    "tags": []
   },
   "outputs": [],
   "source": [
    "# Calcular as estatísticas descritivas das variáveis em cada cluster\n",
    "cluster_stats = dataset.groupby('cluster')[['matematica', 'fundamentos_computacao', 'tecnologia_computacao']].describe()\n",
    "cluster_stats"
   ]
  },
  {
   "cell_type": "code",
   "execution_count": null,
   "id": "f3d0fbc1-4144-453b-a1e7-7a045b737f88",
   "metadata": {
    "tags": []
   },
   "outputs": [],
   "source": [
    "cluster_corr = dataset.groupby('cluster')[['matematica', 'fundamentos_computacao', 'tecnologia_computacao']].corr()\n",
    "\n",
    "sns.heatmap(cluster_corr, annot=True)\n",
    "plt.title('Matriz de correlação por cluster')\n",
    "plt.show()\n"
   ]
  },
  {
   "cell_type": "markdown",
   "id": "9cee8870-f38a-45d1-a160-37d6b5669bae",
   "metadata": {
    "tags": []
   },
   "source": [
    "### Analise"
   ]
  },
  {
   "cell_type": "code",
   "execution_count": null,
   "id": "ef7ecc2f-314b-4d10-9371-7074f0de7dff",
   "metadata": {
    "tags": []
   },
   "outputs": [],
   "source": [
    "def create_bar_chart(data, x, y, xlabel='', ylabel='', figsize=(0, 0), rotation=0, fontsize=0, save_path=None):\n",
    "    sns.set_style(style=\"ticks\")\n",
    "    plt.figure(figsize=figsize)\n",
    "\n",
    "    sns.barplot(\n",
    "        x=x,\n",
    "        y=y,\n",
    "        data=data,\n",
    "        color='#0000BC'\n",
    "    )\n",
    "\n",
    "    plt.xlabel(xlabel, fontsize=fontsize)\n",
    "    plt.ylabel(ylabel, fontsize=fontsize)\n",
    "    plt.xticks(rotation=rotation, fontsize=fontsize)\n",
    "    plt.yticks(fontsize=fontsize)\n",
    "    plt.tight_layout()\n",
    "\n",
    "    if save_path:\n",
    "        plt.savefig(save_path, dpi=600, bbox_inches='tight')\n",
    "\n",
    "    plt.show()"
   ]
  },
  {
   "cell_type": "code",
   "execution_count": null,
   "id": "56c81041-3dac-4810-8ed5-983de5ee8349",
   "metadata": {
    "tags": []
   },
   "outputs": [],
   "source": [
    "def create_bar_chart_porcent(data, x, y, xlabel='', ylabel='', figsize=(8, 4), fontsize=12, save_path=None):\n",
    "    sns.set_style(style=\"ticks\")\n",
    "    plt.figure(figsize=figsize)\n",
    "\n",
    "    total = data[y].sum()\n",
    "    data['porcentagem'] = (data[y] / total) * 100\n",
    "\n",
    "    sns.barplot(\n",
    "        x='porcentagem', \n",
    "        y=x,\n",
    "        data=data,\n",
    "        color='#69b3a2'\n",
    "    )\n",
    "    plt.xlim(right=10)\n",
    "\n",
    "    plt.xlabel(xlabel, fontsize=fontsize)\n",
    "    plt.ylabel(ylabel, fontsize=fontsize)\n",
    "    plt.xticks(fontsize=fontsize)\n",
    "    plt.yticks(fontsize=fontsize)\n",
    "    plt.tight_layout() \n",
    "\n",
    "    for index, row in data.iterrows():\n",
    "        plt.text(row.porcentagem, index, f'{row.porcentagem:.2f}%', ha='left', va='center', fontsize=fontsize)\n",
    "\n",
    "    if save_path:\n",
    "        plt.savefig(save_path, dpi=600, bbox_inches='tight')\n",
    "\n",
    "    plt.show()\n"
   ]
  },
  {
   "cell_type": "code",
   "execution_count": 36,
   "id": "62cefc43-6bae-4cce-a1a5-78620592a7ae",
   "metadata": {
    "tags": []
   },
   "outputs": [],
   "source": [
    "temas = ['Matemática Discreta', 'Cálculo Diferencial e Integral',\n",
    "       'Álgebra Linear', 'Geometria Analítica', 'Análise Combinatória',\n",
    "       'Probabilidade e Estatística', 'Lógica Matemática',\n",
    "       'Organização de Arquivos e Dados', 'Técnicas de Programação',\n",
    "       'Circuitos Digitais', 'Análise de Algoritmos', 'Teoria dos Grafos',\n",
    "       'Linguagens Formais, Autômatos e Computabilidade',\n",
    "       'Algoritmos e Estruturas de Dados', 'Linguagens de Programação',\n",
    "       'Sistemas Operacionais', 'Arquitetura e Organização de Computadores',\n",
    "       'Redes de Computadores', 'Computação Gráfica',\n",
    "       'Inteligência Artificial', 'Engenharia de Software',\n",
    "       'Sistemas Distribuídos', 'Compiladores', 'Processamento de Imagens',\n",
    "       'Banco de Dados']"
   ]
  },
  {
   "cell_type": "code",
   "execution_count": 37,
   "id": "cc6b9da5-dd33-46fe-bdf2-4eac4c2efde3",
   "metadata": {
    "tags": []
   },
   "outputs": [
    {
     "data": {
      "text/html": [
       "<div>\n",
       "<style scoped>\n",
       "    .dataframe tbody tr th:only-of-type {\n",
       "        vertical-align: middle;\n",
       "    }\n",
       "\n",
       "    .dataframe tbody tr th {\n",
       "        vertical-align: top;\n",
       "    }\n",
       "\n",
       "    .dataframe thead th {\n",
       "        text-align: right;\n",
       "    }\n",
       "</style>\n",
       "<table border=\"1\" class=\"dataframe\">\n",
       "  <thead>\n",
       "    <tr style=\"text-align: right;\">\n",
       "      <th></th>\n",
       "      <th>Matemática Discreta</th>\n",
       "      <th>Cálculo Diferencial e Integral</th>\n",
       "      <th>Álgebra Linear</th>\n",
       "      <th>Geometria Analítica</th>\n",
       "      <th>Análise Combinatória</th>\n",
       "      <th>Probabilidade e Estatística</th>\n",
       "      <th>Lógica Matemática</th>\n",
       "      <th>Organização de Arquivos e Dados</th>\n",
       "      <th>Técnicas de Programação</th>\n",
       "      <th>Circuitos Digitais</th>\n",
       "      <th>...</th>\n",
       "      <th>Sistemas Operacionais</th>\n",
       "      <th>Arquitetura e Organização de Computadores</th>\n",
       "      <th>Redes de Computadores</th>\n",
       "      <th>Computação Gráfica</th>\n",
       "      <th>Inteligência Artificial</th>\n",
       "      <th>Engenharia de Software</th>\n",
       "      <th>Sistemas Distribuídos</th>\n",
       "      <th>Compiladores</th>\n",
       "      <th>Processamento de Imagens</th>\n",
       "      <th>Banco de Dados</th>\n",
       "    </tr>\n",
       "  </thead>\n",
       "  <tbody>\n",
       "    <tr>\n",
       "      <th>0</th>\n",
       "      <td>3</td>\n",
       "      <td>2</td>\n",
       "      <td>3</td>\n",
       "      <td>2</td>\n",
       "      <td>2</td>\n",
       "      <td>2</td>\n",
       "      <td>2</td>\n",
       "      <td>1</td>\n",
       "      <td>3</td>\n",
       "      <td>2</td>\n",
       "      <td>...</td>\n",
       "      <td>2</td>\n",
       "      <td>1</td>\n",
       "      <td>2</td>\n",
       "      <td>0</td>\n",
       "      <td>2</td>\n",
       "      <td>1</td>\n",
       "      <td>3</td>\n",
       "      <td>1</td>\n",
       "      <td>2</td>\n",
       "      <td>1</td>\n",
       "    </tr>\n",
       "    <tr>\n",
       "      <th>1</th>\n",
       "      <td>0</td>\n",
       "      <td>1</td>\n",
       "      <td>1</td>\n",
       "      <td>1</td>\n",
       "      <td>0</td>\n",
       "      <td>0</td>\n",
       "      <td>1</td>\n",
       "      <td>1</td>\n",
       "      <td>3</td>\n",
       "      <td>1</td>\n",
       "      <td>...</td>\n",
       "      <td>2</td>\n",
       "      <td>1</td>\n",
       "      <td>1</td>\n",
       "      <td>0</td>\n",
       "      <td>2</td>\n",
       "      <td>0</td>\n",
       "      <td>2</td>\n",
       "      <td>0</td>\n",
       "      <td>2</td>\n",
       "      <td>1</td>\n",
       "    </tr>\n",
       "    <tr>\n",
       "      <th>2</th>\n",
       "      <td>1</td>\n",
       "      <td>0</td>\n",
       "      <td>1</td>\n",
       "      <td>1</td>\n",
       "      <td>0</td>\n",
       "      <td>0</td>\n",
       "      <td>1</td>\n",
       "      <td>0</td>\n",
       "      <td>3</td>\n",
       "      <td>2</td>\n",
       "      <td>...</td>\n",
       "      <td>0</td>\n",
       "      <td>0</td>\n",
       "      <td>2</td>\n",
       "      <td>0</td>\n",
       "      <td>1</td>\n",
       "      <td>1</td>\n",
       "      <td>1</td>\n",
       "      <td>1</td>\n",
       "      <td>1</td>\n",
       "      <td>0</td>\n",
       "    </tr>\n",
       "    <tr>\n",
       "      <th>3</th>\n",
       "      <td>0</td>\n",
       "      <td>0</td>\n",
       "      <td>2</td>\n",
       "      <td>2</td>\n",
       "      <td>1</td>\n",
       "      <td>0</td>\n",
       "      <td>1</td>\n",
       "      <td>0</td>\n",
       "      <td>3</td>\n",
       "      <td>2</td>\n",
       "      <td>...</td>\n",
       "      <td>2</td>\n",
       "      <td>0</td>\n",
       "      <td>1</td>\n",
       "      <td>0</td>\n",
       "      <td>2</td>\n",
       "      <td>3</td>\n",
       "      <td>3</td>\n",
       "      <td>0</td>\n",
       "      <td>1</td>\n",
       "      <td>1</td>\n",
       "    </tr>\n",
       "    <tr>\n",
       "      <th>4</th>\n",
       "      <td>1</td>\n",
       "      <td>2</td>\n",
       "      <td>3</td>\n",
       "      <td>1</td>\n",
       "      <td>1</td>\n",
       "      <td>2</td>\n",
       "      <td>2</td>\n",
       "      <td>2</td>\n",
       "      <td>2</td>\n",
       "      <td>2</td>\n",
       "      <td>...</td>\n",
       "      <td>3</td>\n",
       "      <td>1</td>\n",
       "      <td>2</td>\n",
       "      <td>2</td>\n",
       "      <td>2</td>\n",
       "      <td>0</td>\n",
       "      <td>3</td>\n",
       "      <td>1</td>\n",
       "      <td>1</td>\n",
       "      <td>0</td>\n",
       "    </tr>\n",
       "  </tbody>\n",
       "</table>\n",
       "<p>5 rows × 25 columns</p>\n",
       "</div>"
      ],
      "text/plain": [
       "   Matemática Discreta  Cálculo Diferencial e Integral  Álgebra Linear  \\\n",
       "0                    3                               2               3   \n",
       "1                    0                               1               1   \n",
       "2                    1                               0               1   \n",
       "3                    0                               0               2   \n",
       "4                    1                               2               3   \n",
       "\n",
       "   Geometria Analítica  Análise Combinatória  Probabilidade e Estatística  \\\n",
       "0                    2                     2                            2   \n",
       "1                    1                     0                            0   \n",
       "2                    1                     0                            0   \n",
       "3                    2                     1                            0   \n",
       "4                    1                     1                            2   \n",
       "\n",
       "   Lógica Matemática  Organização de Arquivos e Dados  \\\n",
       "0                  2                                1   \n",
       "1                  1                                1   \n",
       "2                  1                                0   \n",
       "3                  1                                0   \n",
       "4                  2                                2   \n",
       "\n",
       "   Técnicas de Programação  Circuitos Digitais  ...  Sistemas Operacionais  \\\n",
       "0                        3                   2  ...                      2   \n",
       "1                        3                   1  ...                      2   \n",
       "2                        3                   2  ...                      0   \n",
       "3                        3                   2  ...                      2   \n",
       "4                        2                   2  ...                      3   \n",
       "\n",
       "   Arquitetura e Organização de Computadores  Redes de Computadores  \\\n",
       "0                                          1                      2   \n",
       "1                                          1                      1   \n",
       "2                                          0                      2   \n",
       "3                                          0                      1   \n",
       "4                                          1                      2   \n",
       "\n",
       "   Computação Gráfica  Inteligência Artificial  Engenharia de Software  \\\n",
       "0                   0                        2                       1   \n",
       "1                   0                        2                       0   \n",
       "2                   0                        1                       1   \n",
       "3                   0                        2                       3   \n",
       "4                   2                        2                       0   \n",
       "\n",
       "   Sistemas Distribuídos  Compiladores  Processamento de Imagens  \\\n",
       "0                      3             1                         2   \n",
       "1                      2             0                         2   \n",
       "2                      1             1                         1   \n",
       "3                      3             0                         1   \n",
       "4                      3             1                         1   \n",
       "\n",
       "   Banco de Dados  \n",
       "0               1  \n",
       "1               1  \n",
       "2               0  \n",
       "3               1  \n",
       "4               0  \n",
       "\n",
       "[5 rows x 25 columns]"
      ]
     },
     "execution_count": 37,
     "metadata": {},
     "output_type": "execute_result"
    }
   ],
   "source": [
    "media_disciplina = dataset.iloc[:,3:28]\n",
    "# media_disciplina = pd.DataFrame(media_disciplina.mean().sort_values(ascending=False), columns=['media'])\n",
    "# media_disciplina = media_disciplina.reset_index()\n",
    "media_disciplina.head()"
   ]
  },
  {
   "cell_type": "code",
   "execution_count": 38,
   "id": "fb74f5f4-9034-4e9e-93b1-f81e1c3dd1d3",
   "metadata": {
    "tags": []
   },
   "outputs": [],
   "source": [
    "for tema in temas:\n",
    "    media_disciplina[f'{tema}_AcertoAbsoluto'] = media_disciplina[tema]"
   ]
  },
  {
   "cell_type": "code",
   "execution_count": 39,
   "id": "2d309f20-82fb-4a42-b494-18d384a4d40b",
   "metadata": {
    "tags": []
   },
   "outputs": [],
   "source": [
    "for tema in temas:\n",
    "    media_disciplina[f'{tema}_AcertoRelativo'] = media_disciplina[f'{tema}_AcertoAbsoluto'] / media_disciplina[tema].max() * 100"
   ]
  },
  {
   "cell_type": "code",
   "execution_count": 40,
   "id": "efa60218-3d3a-4896-b59b-f1c3f5133840",
   "metadata": {
    "tags": []
   },
   "outputs": [],
   "source": [
    "media_acertos = {}\n",
    "for tema in temas:\n",
    "    media_acertos[tema] = media_disciplina[f'{tema}_AcertoRelativo'].mean()"
   ]
  },
  {
   "cell_type": "code",
   "execution_count": 41,
   "id": "336f6acf-3ae2-40fa-b603-7fe25f1763e8",
   "metadata": {},
   "outputs": [
    {
     "data": {
      "text/plain": [
       "{'Matemática Discreta': 41.268236800431275,\n",
       " 'Cálculo Diferencial e Integral': 37.08682907106034,\n",
       " 'Álgebra Linear': 43.58637420398261,\n",
       " 'Geometria Analítica': 34.485663263587035,\n",
       " 'Análise Combinatória': 40.297853701270256,\n",
       " 'Probabilidade e Estatística': 41.878095623167894,\n",
       " 'Lógica Matemática': 44.67131641901681,\n",
       " 'Organização de Arquivos e Dados': 25.64439502678661,\n",
       " 'Técnicas de Programação': 73.79291755113042,\n",
       " 'Circuitos Digitais': 42.130799555241076,\n",
       " 'Análise de Algoritmos': 57.24586407897839,\n",
       " 'Teoria dos Grafos': 48.82913844806092,\n",
       " 'Linguagens Formais, Autômatos e Computabilidade': 32.878466255601595,\n",
       " 'Algoritmos e Estruturas de Dados': 55.33205296674415,\n",
       " 'Linguagens de Programação': 69.07240810000336,\n",
       " 'Sistemas Operacionais': 33.693857609757735,\n",
       " 'Arquitetura e Organização de Computadores': 31.075844873479564,\n",
       " 'Redes de Computadores': 40.247312914855605,\n",
       " 'Computação Gráfica': 25.37147478014758,\n",
       " 'Inteligência Artificial': 56.91397958152229,\n",
       " 'Engenharia de Software': 36.26469894538225,\n",
       " 'Sistemas Distribuídos': 59.69203814144681,\n",
       " 'Compiladores': 28.621247346608712,\n",
       " 'Processamento de Imagens': 36.64712422925301,\n",
       " 'Banco de Dados': 30.792816469557593}"
      ]
     },
     "execution_count": 41,
     "metadata": {},
     "output_type": "execute_result"
    }
   ],
   "source": [
    "media_acertos"
   ]
  },
  {
   "cell_type": "code",
   "execution_count": 42,
   "id": "b28b590f-745e-4c08-87bd-2aee1e38ecd1",
   "metadata": {
    "tags": []
   },
   "outputs": [
    {
     "data": {
      "image/png": "[encoded data removed]",
      "text/plain": [
       "<Figure size 1000x800 with 1 Axes>"
      ]
     },
     "metadata": {},
     "output_type": "display_data"
    }
   ],
   "source": [
    "data = pd.DataFrame({'Tema': media_acertos.keys(), 'Média de Acerto (%)': media_acertos.values()})\n",
    "\n",
    "data = data.sort_values('Média de Acerto (%)', ascending=False)\n",
    "\n",
    "plt.figure(figsize=(10, 8))\n",
    "ax = sns.barplot(data=data, y='Tema', x='Média de Acerto (%)', color='#0000BC')\n",
    "plt.xlabel('Média de Acerto (%)', fontsize=14)\n",
    "plt.ylabel('')\n",
    "# plt.title('Média de Acerto por Tema')\n",
    "plt.xticks(fontsize=16)\n",
    "plt.yticks(fontsize=14)\n",
    "\n",
    "plt.xlim(right=100)\n",
    "\n",
    "for p in ax.patches:\n",
    "    ax.annotate(f'{p.get_width():.2f}%', (p.get_width(), p.get_y() + p.get_height() / 2),\n",
    "                ha='left', va='center', xytext=(5, 0), textcoords='offset points', fontsize=14)\n",
    "\n",
    "plt.tight_layout()\n",
    "plt.savefig('../imagens/disci_mediaGeral2.pdf', bbox_inches='tight')\n",
    "plt.show()"
   ]
  },
  {
   "cell_type": "code",
   "execution_count": 43,
   "id": "cb187712-9c1b-4db3-b319-60974a2bc606",
   "metadata": {
    "tags": []
   },
   "outputs": [
    {
     "ename": "KeyError",
     "evalue": "'cluster'",
     "output_type": "error",
     "traceback": [
      "\u001b[0;31m---------------------------------------------------------------------------\u001b[0m",
      "\u001b[0;31mKeyError\u001b[0m                                  Traceback (most recent call last)",
      "Cell \u001b[0;32mIn[43], line 4\u001b[0m\n\u001b[1;32m      1\u001b[0m \u001b[38;5;28;01mimport\u001b[39;00m \u001b[38;5;21;01mpandas\u001b[39;00m \u001b[38;5;28;01mas\u001b[39;00m \u001b[38;5;21;01mpd\u001b[39;00m\n\u001b[1;32m      3\u001b[0m \u001b[38;5;66;03m# Calculando as estatísticas por cluster\u001b[39;00m\n\u001b[0;32m----> 4\u001b[0m cluster_stats \u001b[38;5;241m=\u001b[39m \u001b[43mdataset\u001b[49m\u001b[38;5;241;43m.\u001b[39;49m\u001b[43mgroupby\u001b[49m\u001b[43m(\u001b[49m\u001b[38;5;124;43m'\u001b[39;49m\u001b[38;5;124;43mcluster\u001b[39;49m\u001b[38;5;124;43m'\u001b[39;49m\u001b[43m)\u001b[49m\u001b[38;5;241m.\u001b[39magg([\u001b[38;5;124m'\u001b[39m\u001b[38;5;124mmean\u001b[39m\u001b[38;5;124m'\u001b[39m, \u001b[38;5;124m'\u001b[39m\u001b[38;5;124mmedian\u001b[39m\u001b[38;5;124m'\u001b[39m, \u001b[38;5;124m'\u001b[39m\u001b[38;5;124mstd\u001b[39m\u001b[38;5;124m'\u001b[39m, \u001b[38;5;124m'\u001b[39m\u001b[38;5;124mmin\u001b[39m\u001b[38;5;124m'\u001b[39m, \u001b[38;5;124m'\u001b[39m\u001b[38;5;124mmax\u001b[39m\u001b[38;5;124m'\u001b[39m])\n\u001b[1;32m      6\u001b[0m \u001b[38;5;66;03m# Exemplo de estatísticas para a variável 'matematica'\u001b[39;00m\n\u001b[1;32m      7\u001b[0m statistics_matematica \u001b[38;5;241m=\u001b[39m cluster_stats[\u001b[38;5;124m'\u001b[39m\u001b[38;5;124mmatematica\u001b[39m\u001b[38;5;124m'\u001b[39m]\n",
      "File \u001b[0;32m~/anaconda3/envs/poscomp/lib/python3.11/site-packages/pandas/core/frame.py:8869\u001b[0m, in \u001b[0;36mDataFrame.groupby\u001b[0;34m(self, by, axis, level, as_index, sort, group_keys, observed, dropna)\u001b[0m\n\u001b[1;32m   8866\u001b[0m \u001b[38;5;28;01mif\u001b[39;00m level \u001b[38;5;129;01mis\u001b[39;00m \u001b[38;5;28;01mNone\u001b[39;00m \u001b[38;5;129;01mand\u001b[39;00m by \u001b[38;5;129;01mis\u001b[39;00m \u001b[38;5;28;01mNone\u001b[39;00m:\n\u001b[1;32m   8867\u001b[0m     \u001b[38;5;28;01mraise\u001b[39;00m \u001b[38;5;167;01mTypeError\u001b[39;00m(\u001b[38;5;124m\"\u001b[39m\u001b[38;5;124mYou have to supply one of \u001b[39m\u001b[38;5;124m'\u001b[39m\u001b[38;5;124mby\u001b[39m\u001b[38;5;124m'\u001b[39m\u001b[38;5;124m and \u001b[39m\u001b[38;5;124m'\u001b[39m\u001b[38;5;124mlevel\u001b[39m\u001b[38;5;124m'\u001b[39m\u001b[38;5;124m\"\u001b[39m)\n\u001b[0;32m-> 8869\u001b[0m \u001b[38;5;28;01mreturn\u001b[39;00m \u001b[43mDataFrameGroupBy\u001b[49m\u001b[43m(\u001b[49m\n\u001b[1;32m   8870\u001b[0m \u001b[43m    \u001b[49m\u001b[43mobj\u001b[49m\u001b[38;5;241;43m=\u001b[39;49m\u001b[38;5;28;43mself\u001b[39;49m\u001b[43m,\u001b[49m\n\u001b[1;32m   8871\u001b[0m \u001b[43m    \u001b[49m\u001b[43mkeys\u001b[49m\u001b[38;5;241;43m=\u001b[39;49m\u001b[43mby\u001b[49m\u001b[43m,\u001b[49m\n\u001b[1;32m   8872\u001b[0m \u001b[43m    \u001b[49m\u001b[43maxis\u001b[49m\u001b[38;5;241;43m=\u001b[39;49m\u001b[43maxis\u001b[49m\u001b[43m,\u001b[49m\n\u001b[1;32m   8873\u001b[0m \u001b[43m    \u001b[49m\u001b[43mlevel\u001b[49m\u001b[38;5;241;43m=\u001b[39;49m\u001b[43mlevel\u001b[49m\u001b[43m,\u001b[49m\n\u001b[1;32m   8874\u001b[0m \u001b[43m    \u001b[49m\u001b[43mas_index\u001b[49m\u001b[38;5;241;43m=\u001b[39;49m\u001b[43mas_index\u001b[49m\u001b[43m,\u001b[49m\n\u001b[1;32m   8875\u001b[0m \u001b[43m    \u001b[49m\u001b[43msort\u001b[49m\u001b[38;5;241;43m=\u001b[39;49m\u001b[43msort\u001b[49m\u001b[43m,\u001b[49m\n\u001b[1;32m   8876\u001b[0m \u001b[43m    \u001b[49m\u001b[43mgroup_keys\u001b[49m\u001b[38;5;241;43m=\u001b[39;49m\u001b[43mgroup_keys\u001b[49m\u001b[43m,\u001b[49m\n\u001b[1;32m   8877\u001b[0m \u001b[43m    \u001b[49m\u001b[43mobserved\u001b[49m\u001b[38;5;241;43m=\u001b[39;49m\u001b[43mobserved\u001b[49m\u001b[43m,\u001b[49m\n\u001b[1;32m   8878\u001b[0m \u001b[43m    \u001b[49m\u001b[43mdropna\u001b[49m\u001b[38;5;241;43m=\u001b[39;49m\u001b[43mdropna\u001b[49m\u001b[43m,\u001b[49m\n\u001b[1;32m   8879\u001b[0m \u001b[43m\u001b[49m\u001b[43m)\u001b[49m\n",
      "File \u001b[0;32m~/anaconda3/envs/poscomp/lib/python3.11/site-packages/pandas/core/groupby/groupby.py:1278\u001b[0m, in \u001b[0;36mGroupBy.__init__\u001b[0;34m(self, obj, keys, axis, level, grouper, exclusions, selection, as_index, sort, group_keys, observed, dropna)\u001b[0m\n\u001b[1;32m   1275\u001b[0m \u001b[38;5;28mself\u001b[39m\u001b[38;5;241m.\u001b[39mdropna \u001b[38;5;241m=\u001b[39m dropna\n\u001b[1;32m   1277\u001b[0m \u001b[38;5;28;01mif\u001b[39;00m grouper \u001b[38;5;129;01mis\u001b[39;00m \u001b[38;5;28;01mNone\u001b[39;00m:\n\u001b[0;32m-> 1278\u001b[0m     grouper, exclusions, obj \u001b[38;5;241m=\u001b[39m \u001b[43mget_grouper\u001b[49m\u001b[43m(\u001b[49m\n\u001b[1;32m   1279\u001b[0m \u001b[43m        \u001b[49m\u001b[43mobj\u001b[49m\u001b[43m,\u001b[49m\n\u001b[1;32m   1280\u001b[0m \u001b[43m        \u001b[49m\u001b[43mkeys\u001b[49m\u001b[43m,\u001b[49m\n\u001b[1;32m   1281\u001b[0m \u001b[43m        \u001b[49m\u001b[43maxis\u001b[49m\u001b[38;5;241;43m=\u001b[39;49m\u001b[43maxis\u001b[49m\u001b[43m,\u001b[49m\n\u001b[1;32m   1282\u001b[0m \u001b[43m        \u001b[49m\u001b[43mlevel\u001b[49m\u001b[38;5;241;43m=\u001b[39;49m\u001b[43mlevel\u001b[49m\u001b[43m,\u001b[49m\n\u001b[1;32m   1283\u001b[0m \u001b[43m        \u001b[49m\u001b[43msort\u001b[49m\u001b[38;5;241;43m=\u001b[39;49m\u001b[43msort\u001b[49m\u001b[43m,\u001b[49m\n\u001b[1;32m   1284\u001b[0m \u001b[43m        \u001b[49m\u001b[43mobserved\u001b[49m\u001b[38;5;241;43m=\u001b[39;49m\u001b[38;5;28;43;01mFalse\u001b[39;49;00m\u001b[43m \u001b[49m\u001b[38;5;28;43;01mif\u001b[39;49;00m\u001b[43m \u001b[49m\u001b[43mobserved\u001b[49m\u001b[43m \u001b[49m\u001b[38;5;129;43;01mis\u001b[39;49;00m\u001b[43m \u001b[49m\u001b[43mlib\u001b[49m\u001b[38;5;241;43m.\u001b[39;49m\u001b[43mno_default\u001b[49m\u001b[43m \u001b[49m\u001b[38;5;28;43;01melse\u001b[39;49;00m\u001b[43m \u001b[49m\u001b[43mobserved\u001b[49m\u001b[43m,\u001b[49m\n\u001b[1;32m   1285\u001b[0m \u001b[43m        \u001b[49m\u001b[43mdropna\u001b[49m\u001b[38;5;241;43m=\u001b[39;49m\u001b[38;5;28;43mself\u001b[39;49m\u001b[38;5;241;43m.\u001b[39;49m\u001b[43mdropna\u001b[49m\u001b[43m,\u001b[49m\n\u001b[1;32m   1286\u001b[0m \u001b[43m    \u001b[49m\u001b[43m)\u001b[49m\n\u001b[1;32m   1288\u001b[0m \u001b[38;5;28;01mif\u001b[39;00m observed \u001b[38;5;129;01mis\u001b[39;00m lib\u001b[38;5;241m.\u001b[39mno_default:\n\u001b[1;32m   1289\u001b[0m     \u001b[38;5;28;01mif\u001b[39;00m \u001b[38;5;28many\u001b[39m(ping\u001b[38;5;241m.\u001b[39m_passed_categorical \u001b[38;5;28;01mfor\u001b[39;00m ping \u001b[38;5;129;01min\u001b[39;00m grouper\u001b[38;5;241m.\u001b[39mgroupings):\n",
      "File \u001b[0;32m~/anaconda3/envs/poscomp/lib/python3.11/site-packages/pandas/core/groupby/grouper.py:1009\u001b[0m, in \u001b[0;36mget_grouper\u001b[0;34m(obj, key, axis, level, sort, observed, validate, dropna)\u001b[0m\n\u001b[1;32m   1007\u001b[0m         in_axis, level, gpr \u001b[38;5;241m=\u001b[39m \u001b[38;5;28;01mFalse\u001b[39;00m, gpr, \u001b[38;5;28;01mNone\u001b[39;00m\n\u001b[1;32m   1008\u001b[0m     \u001b[38;5;28;01melse\u001b[39;00m:\n\u001b[0;32m-> 1009\u001b[0m         \u001b[38;5;28;01mraise\u001b[39;00m \u001b[38;5;167;01mKeyError\u001b[39;00m(gpr)\n\u001b[1;32m   1010\u001b[0m \u001b[38;5;28;01melif\u001b[39;00m \u001b[38;5;28misinstance\u001b[39m(gpr, Grouper) \u001b[38;5;129;01mand\u001b[39;00m gpr\u001b[38;5;241m.\u001b[39mkey \u001b[38;5;129;01mis\u001b[39;00m \u001b[38;5;129;01mnot\u001b[39;00m \u001b[38;5;28;01mNone\u001b[39;00m:\n\u001b[1;32m   1011\u001b[0m     \u001b[38;5;66;03m# Add key to exclusions\u001b[39;00m\n\u001b[1;32m   1012\u001b[0m     exclusions\u001b[38;5;241m.\u001b[39madd(gpr\u001b[38;5;241m.\u001b[39mkey)\n",
      "\u001b[0;31mKeyError\u001b[0m: 'cluster'"
     ]
    }
   ],
   "source": [
    "import pandas as pd\n",
    "\n",
    "# Calculando as estatísticas por cluster\n",
    "cluster_stats = dataset.groupby('cluster').agg(['mean', 'median', 'std', 'min', 'max'])\n",
    "\n",
    "# Exemplo de estatísticas para a variável 'matematica'\n",
    "statistics_matematica = cluster_stats['matematica']\n",
    "\n",
    "# Exemplo de estatísticas para a variável 'fundamentos_computacao'\n",
    "statistics_fundamentos = cluster_stats['fundamentos_computacao']\n",
    "\n",
    "statistics_tecnologia = cluster_stats['tecnologia_computacao']"
   ]
  },
  {
   "cell_type": "code",
   "execution_count": null,
   "id": "fb9f3056-4dfc-4a32-8624-f45dd2747ef1",
   "metadata": {
    "tags": []
   },
   "outputs": [],
   "source": [
    "statistics_matematica"
   ]
  },
  {
   "cell_type": "code",
   "execution_count": null,
   "id": "1c350e49-5678-4ebf-912d-7895d572076f",
   "metadata": {
    "tags": []
   },
   "outputs": [],
   "source": [
    "statistics_fundamentos"
   ]
  },
  {
   "cell_type": "code",
   "execution_count": null,
   "id": "635b2ced-1ae2-4ccd-a44c-3d20d37efe8b",
   "metadata": {
    "tags": []
   },
   "outputs": [],
   "source": [
    "statistics_tecnologia"
   ]
  },
  {
   "cell_type": "code",
   "execution_count": null,
   "id": "7b4c0137-c1ba-4926-8462-312502592fa5",
   "metadata": {
    "tags": []
   },
   "outputs": [],
   "source": [
    "import pandas as pd\n",
    "\n",
    "# Calculando as estatísticas por cluster\n",
    "cluster_stats = dataset.groupby('cluster').agg(['mean', 'median', 'std', 'min', 'max'])\n",
    "\n",
    "# Exemplo de estatísticas para a variável 'matematica'\n",
    "statistics_matematica = cluster_stats['matematica']\n",
    "\n",
    "# Exemplo de estatísticas para a variável 'fundamentos_computacao'\n",
    "statistics_fundamentos = cluster_stats['fundamentos_computacao']\n",
    "\n",
    "# Exemplo de estatísticas para a variável 'tecnologia_computacao'\n",
    "statistics_tecnologia = cluster_stats['tecnologia_computacao']\n",
    "\n",
    "# Exemplo de estatísticas para várias variáveis\n",
    "statistics_variaveis = cluster_stats[['matematica', 'fundamentos_computacao', 'tecnologia_computacao']]\n",
    "\n",
    "# Exemplo de estatísticas específicas para um cluster específico\n",
    "cluster1_stats = cluster_stats.loc[1]  # Estatísticas para o Cluster 1\n",
    "\n",
    "# Exemplo de cálculo de proporção de cada cluster\n",
    "cluster_proportions = dataset['cluster'].value_counts(normalize=True)\n",
    "\n",
    "# Exemplo de estatísticas gerais do dataset inteiro\n",
    "dataset_stats = dataset.describe()\n"
   ]
  },
  {
   "cell_type": "code",
   "execution_count": null,
   "id": "54d26447-a5a3-4796-8834-9bcfe8640648",
   "metadata": {
    "tags": []
   },
   "outputs": [],
   "source": [
    "def plot_stacked_bar_chart(df, category_col, value_col, title, save_path=None):\n",
    "    top_specialties = df[category_col].value_counts().head(10).index.tolist()\n",
    "\n",
    "    df_top = df[df[category_col].isin(top_specialties)]\n",
    "\n",
    "    df_grouped = df_top.groupby([category_col, 'SEXO']).size().unstack()\n",
    "\n",
    "    df_grouped = df_grouped.loc[df_grouped.sum(axis=1).sort_values().index]\n",
    "\n",
    "    ax = df_grouped.plot(kind='barh', stacked=True, figsize=(10, 6))\n",
    "\n",
    "    ax.set_title(title)\n",
    "    plt.xlabel('')\n",
    "    plt.ylabel('')\n",
    "    plt.xticks(fontsize=18)\n",
    "    plt.yticks(fontsize=18)\n",
    "    plt.tight_layout() \n",
    "    ax.legend(['Feminino', 'Masculino'], loc='lower right')\n",
    "    \n",
    "    if save_path:\n",
    "        plt.savefig(save_path, dpi=600, bbox_inches='tight')\n",
    "\n",
    "    plt.show()"
   ]
  },
  {
   "cell_type": "code",
   "execution_count": null,
   "id": "d4cd18a1-5747-49ed-a907-f24c6b6496bb",
   "metadata": {
    "tags": []
   },
   "outputs": [],
   "source": [
    "def plot_faixa_etaria(dataset, save_path=None):\n",
    "    faixa_etaria_counts = dataset['IDADE'].value_counts().sort_index()\n",
    "\n",
    "    faixas_etarias = faixa_etaria_counts.index.tolist()\n",
    "\n",
    "    plt.bar(faixas_etarias, faixa_etaria_counts)\n",
    "\n",
    "    plt.xlabel('Faixa Etária')\n",
    "    plt.ylabel('Número de Candidatos')\n",
    "    plt.title('Distribuição de Faixa Etária dos Candidatos')\n",
    "    \n",
    "    if save_path:\n",
    "        plt.savefig(save_path, dpi=600, bbox_inches='tight')\n",
    "\n",
    "    plt.show()\n"
   ]
  },
  {
   "cell_type": "code",
   "execution_count": null,
   "id": "b7b9c631-d46a-497b-806c-394bdf4cb7fc",
   "metadata": {
    "tags": []
   },
   "outputs": [],
   "source": [
    "from sklearn.metrics import confusion_matrix, ConfusionMatrixDisplay"
   ]
  },
  {
   "cell_type": "code",
   "execution_count": null,
   "id": "0c4befe4-11c7-4f27-b5c6-e36011c335a9",
   "metadata": {
    "tags": []
   },
   "outputs": [],
   "source": [
    "cluster_nomeada = {\n",
    "    0: 'inteligência artificial',\n",
    "    1: 'engenharia de software'\n",
    "}"
   ]
  },
  {
   "cell_type": "code",
   "execution_count": null,
   "id": "9c885aad-ca5c-47f2-845d-c40eeda4b4c3",
   "metadata": {
    "tags": []
   },
   "outputs": [],
   "source": [
    "dataset_confusion = dataset.query('ESPECIALIDADE == \"inteligência artificial\" | ESPECIALIDADE == \"engenharia de software\"')"
   ]
  },
  {
   "cell_type": "code",
   "execution_count": null,
   "id": "9e71c122-ee40-436c-8fba-819fa57c7be5",
   "metadata": {
    "tags": []
   },
   "outputs": [],
   "source": [
    "dataset_confusion['cluster'] = dataset_confusion['cluster'].replace(cluster_nomeada)"
   ]
  },
  {
   "cell_type": "code",
   "execution_count": null,
   "id": "14a50b1c-812d-4c7c-a3e0-b19800aaa93e",
   "metadata": {
    "tags": []
   },
   "outputs": [],
   "source": [
    "dataset_confusion"
   ]
  },
  {
   "cell_type": "code",
   "execution_count": null,
   "id": "22580b2e-9d04-4d20-ab77-cb1aa2767b28",
   "metadata": {
    "tags": []
   },
   "outputs": [],
   "source": [
    "y_teste = dataset_confusion['ESPECIALIDADE']\n",
    "y_pred = dataset_confusion['cluster']"
   ]
  },
  {
   "cell_type": "code",
   "execution_count": null,
   "id": "371fed4e-a982-4a28-9899-d04c35ed8549",
   "metadata": {
    "tags": []
   },
   "outputs": [],
   "source": [
    "matriz_confusao = confusion_matrix(y_teste, y_pred)\n",
    "\n",
    "plt.figure(figsize=(8, 6))\n",
    "sns.heatmap(matriz_confusao, annot=True, fmt='d', cmap='Blues', cbar=False,\n",
    "            xticklabels=['inteligência artificial', 'engenharia de software'],\n",
    "            yticklabels=['inteligência artificial', 'engenharia de software'])\n",
    "plt.xlabel('Previsão')\n",
    "plt.ylabel('Rótulo Real')\n",
    "plt.title('Matriz de Confusão')\n",
    "plt.savefig('imagens/matriz_confusão.png', dpi=600)\n",
    "plt.show()"
   ]
  },
  {
   "cell_type": "code",
   "execution_count": null,
   "id": "882c1771-616c-430f-a954-749943e7498d",
   "metadata": {
    "tags": []
   },
   "outputs": [],
   "source": [
    "from sklearn.metrics import accuracy_score\n",
    "\n",
    "# Calcular a acurácia\n",
    "acuracia = accuracy_score(y_teste, y_pred)\n",
    "print(\"Acurácia:\", acuracia)"
   ]
  },
  {
   "cell_type": "code",
   "execution_count": null,
   "id": "6c82aac7-dea5-4532-bed7-9a5ba6bcfd5c",
   "metadata": {
    "tags": []
   },
   "outputs": [],
   "source": [
    "acuracia_porcentagem = acuracia * 100\n",
    "\n",
    "print(\"Acurácia:\", acuracia_porcentagem, \"%\")"
   ]
  },
  {
   "cell_type": "markdown",
   "id": "bc7188c6-c8da-440b-ab00-c41d4215d727",
   "metadata": {
    "tags": []
   },
   "source": [
    "#### Grupo 0"
   ]
  },
  {
   "cell_type": "code",
   "execution_count": null,
   "id": "7668822f-c58d-4101-9591-e86dd276a4f6",
   "metadata": {
    "tags": []
   },
   "outputs": [],
   "source": [
    "dataset_g0 = dataset.query('cluster == 0')"
   ]
  },
  {
   "cell_type": "code",
   "execution_count": null,
   "id": "1a16f8a5-b47b-4c6a-a773-ef390065b372",
   "metadata": {},
   "outputs": [],
   "source": [
    "especialidades_gZero = dataset_g0['ESPECIALIDADE'].value_counts()[:10]\n",
    "especialidades_gZero = pd.DataFrame(especialidades_gZero)"
   ]
  },
  {
   "cell_type": "code",
   "execution_count": null,
   "id": "88e9bbf1-fbcb-4e89-938e-2faaaf19f8e9",
   "metadata": {
    "tags": []
   },
   "outputs": [],
   "source": [
    "def create_bar_areas(data, x, y, xlabel='', ylabel='', figsize=(10, 4), rotation=0, fontsize=12, save_path=None):\n",
    "    sns.set_style(style=\"ticks\")\n",
    "    plt.figure(figsize=figsize)\n",
    "\n",
    "    # Plotar um gráfico de barras\n",
    "    sns.barplot(\n",
    "        x=x,\n",
    "        y=y,\n",
    "        data=data,\n",
    "        color='#0000BC'\n",
    "    )\n",
    "\n",
    "    plt.xlabel(xlabel, fontsize=fontsize)\n",
    "    plt.ylabel(ylabel, fontsize=fontsize)\n",
    "    plt.xticks(rotation=rotation, fontsize=fontsize)\n",
    "    plt.tight_layout()\n",
    "\n",
    "    if save_path:\n",
    "        plt.savefig(save_path, dpi=600, bbox_inches='tight')\n",
    "\n",
    "    plt.show()\n"
   ]
  },
  {
   "cell_type": "code",
   "execution_count": null,
   "id": "a193cce2-f1d2-4ad2-b0c0-5757dcc72d8d",
   "metadata": {
    "tags": []
   },
   "outputs": [],
   "source": [
    "create_bar_chart(\n",
    "    data=especialidades_gZero,\n",
    "    x='ESPECIALIDADE',\n",
    "    y=especialidades_gZero.index,\n",
    "    figsize=(8, 4),\n",
    "    rotation=0,\n",
    "    fontsize=18,\n",
    "    save_path='imagens/espec_grupoZero.eps'\n",
    ")"
   ]
  },
  {
   "cell_type": "code",
   "execution_count": null,
   "id": "72facf13-858d-4ef2-be2a-04e6d44085a9",
   "metadata": {
    "tags": []
   },
   "outputs": [],
   "source": [
    "media_disciplina_zero = dataset_g0.iloc[:,7:32]\n",
    "media_disciplina_zero = pd.DataFrame(media_disciplina_zero.mean().sort_values(ascending=False), columns=['media'])\n",
    "media_disciplina_zero = media_disciplina_zero.reset_index()"
   ]
  },
  {
   "cell_type": "code",
   "execution_count": null,
   "id": "be1607fb-5e64-4fdb-988e-c6c3aa45957f",
   "metadata": {
    "tags": []
   },
   "outputs": [],
   "source": [
    "grouped_data = dataset_g0.groupby('ESTADO')['ESPECIALIDADE'].value_counts()\n",
    "grouped_data"
   ]
  },
  {
   "cell_type": "code",
   "execution_count": null,
   "id": "1c933dfd-95fc-465f-9486-e06e98e99ad0",
   "metadata": {
    "tags": []
   },
   "outputs": [],
   "source": [
    "plot_stacked_bar_chart(dataset_g0, 'ESPECIALIDADE', 'SEXO', '', 'imagens/distribuicao_especialidade_sexo')"
   ]
  },
  {
   "cell_type": "code",
   "execution_count": null,
   "id": "d69a95ef-f072-46f0-b1ce-50f45036b17b",
   "metadata": {
    "tags": []
   },
   "outputs": [],
   "source": [
    "# import pandas as pd\n",
    "\n",
    "# # Substituir os valores numéricos dos estados pelos nomes\n",
    "# dataset_g0['ESTADO'] = dataset_g0['ESTADO'].map(estados)\n",
    "\n",
    "# # Agrupar os dados por estado e especialidade, e contar as ocorrências\n",
    "# grouped_data = dataset_g0.groupby(['ESTADO', 'ESPECIALIDADE']).size().reset_index(name='Contagem')\n",
    "\n",
    "# # Criar um DataFrame para armazenar os resultados\n",
    "# resultados = pd.DataFrame(columns=['Estado', 'Especialidades'])\n",
    "\n",
    "# # Iterar sobre os estados\n",
    "# for estado in dataset_g0['ESTADO'].unique():\n",
    "#     # Filtrar os dados do estado atual\n",
    "#     df_estado = grouped_data[grouped_data['ESTADO'] == estado]\n",
    "    \n",
    "#     # Filtrar as quatro primeiras especialidades mais solicitadas\n",
    "#     top_especialidades = df_estado.nlargest(4, 'Contagem')\n",
    "    \n",
    "#     # Criar uma lista com as especialidades formatadas\n",
    "#     especialidades = [f\"{especialidade}: {contagem}\" for especialidade, contagem in zip(top_especialidades['ESPECIALIDADE'], top_especialidades['Contagem'])]\n",
    "    \n",
    "#     # Adicionar o resultado ao DataFrame\n",
    "#     resultados = resultados.append({'Estado': estado, 'Especialidades': ', '.join(especialidades)}, ignore_index=True)\n",
    "\n",
    "# # Exibir o DataFrame de resultados\n",
    "\n",
    "# resultados.to_csv('resultados.txt', sep='\\t', index=False)\n"
   ]
  },
  {
   "cell_type": "code",
   "execution_count": null,
   "id": "2c455f0a-7591-4fd1-a1f1-6dba9a8cb0e6",
   "metadata": {
    "tags": []
   },
   "outputs": [],
   "source": [
    "plot_faixa_etaria(dataset_g0, 'imagens/distribuicao_faixaEtaria')"
   ]
  },
  {
   "cell_type": "markdown",
   "id": "cc516ec3-b52d-48d9-a5be-705eff562bb3",
   "metadata": {
    "tags": []
   },
   "source": [
    "#### Grupo 1"
   ]
  },
  {
   "cell_type": "code",
   "execution_count": null,
   "id": "c23f6ba4-0d80-4a35-8477-d64ad39e087c",
   "metadata": {
    "tags": []
   },
   "outputs": [],
   "source": [
    "dataset_g1 = dataset.query('cluster == 1')"
   ]
  },
  {
   "cell_type": "code",
   "execution_count": null,
   "id": "33ba0530-0831-4236-ab74-0ff84d1126da",
   "metadata": {
    "tags": []
   },
   "outputs": [],
   "source": [
    "especialidades_gOne = dataset_g1['ESPECIALIDADE'].value_counts()[:10]\n",
    "especialidades_gOne = pd.DataFrame(especialidades_gOne)"
   ]
  },
  {
   "cell_type": "code",
   "execution_count": null,
   "id": "26e08867-1c18-415b-aca8-e9e002046036",
   "metadata": {
    "tags": []
   },
   "outputs": [],
   "source": [
    "create_bar_chart(\n",
    "    data=especialidades_gOne,\n",
    "    x='ESPECIALIDADE',\n",
    "    y=especialidades_gOne.index,\n",
    "    figsize=(8, 4),\n",
    "    rotation=0,\n",
    "    fontsize=18,\n",
    "    save_path='imagens/espec_grupoOne.eps'\n",
    ")"
   ]
  },
  {
   "cell_type": "code",
   "execution_count": null,
   "id": "8315f856-afc5-4155-80b9-0b469d6b7592",
   "metadata": {
    "tags": []
   },
   "outputs": [],
   "source": [
    "media_disciplina_one = dataset_g1.iloc[:,7:32]\n",
    "media_disciplina_one = pd.DataFrame(media_disciplina_one.mean().sort_values(ascending=False), columns=['media'])\n",
    "media_disciplina_one = media_disciplina_one.reset_index()\n",
    "# media_disciplina_one"
   ]
  },
  {
   "cell_type": "code",
   "execution_count": null,
   "id": "d1c11053-659b-4a62-8385-43f2fb228fdc",
   "metadata": {
    "tags": []
   },
   "outputs": [],
   "source": [
    "# Chamar o método para criar o gráfico de barras empilhadas\n",
    "plot_stacked_bar_chart(dataset_g1, 'ESPECIALIDADE', 'SEXO', '', 'imagens/distribuicao_especialidade_sexoG1')"
   ]
  },
  {
   "cell_type": "code",
   "execution_count": null,
   "id": "71136ef9-ecf6-4638-bf42-022c37084c2f",
   "metadata": {
    "tags": []
   },
   "outputs": [],
   "source": [
    "plot_faixa_etaria(dataset_g1, 'imagens/distribuicao_faixaEtariaG1')"
   ]
  },
  {
   "cell_type": "markdown",
   "id": "06b9651d-332b-4439-b8fd-2415da2c4fa9",
   "metadata": {},
   "source": [
    "#### Grupo 2"
   ]
  },
  {
   "cell_type": "code",
   "execution_count": null,
   "id": "4359ef21-f20e-4c35-b832-e1b06cbadd3b",
   "metadata": {
    "tags": []
   },
   "outputs": [],
   "source": [
    "dataset_g2 = dataset.query('cluster == 2')"
   ]
  },
  {
   "cell_type": "code",
   "execution_count": null,
   "id": "4769f5b4-9228-430d-8e6f-d9746bc89fde",
   "metadata": {
    "tags": []
   },
   "outputs": [],
   "source": [
    "especialidades_gTwo = dataset_g2['ESPECIALIDADE'].value_counts()[:10]\n",
    "especialidades_gTwo = pd.DataFrame(especialidades_gTwo)"
   ]
  },
  {
   "cell_type": "code",
   "execution_count": null,
   "id": "8d1651ee-3252-439c-ad53-a227d5930a2d",
   "metadata": {
    "tags": []
   },
   "outputs": [],
   "source": [
    "create_bar_chart(\n",
    "    data=especialidades_gTwo,\n",
    "    x='ESPECIALIDADE',\n",
    "    y=especialidades_gTwo.index,\n",
    "    figsize=(8, 4),\n",
    "    rotation=0,\n",
    "    fontsize=18,\n",
    "    save_path='imagens/espec_grupoOne.eps'\n",
    ")"
   ]
  },
  {
   "cell_type": "markdown",
   "id": "37c81b8d-c870-4932-b0ed-1fe2c5616929",
   "metadata": {
    "jp-MarkdownHeadingCollapsed": true,
    "tags": []
   },
   "source": [
    "## DBSCAN"
   ]
  },
  {
   "cell_type": "code",
   "execution_count": null,
   "id": "2762e064-7210-40c3-8448-fe91e2448276",
   "metadata": {
    "tags": []
   },
   "outputs": [],
   "source": [
    "from sklearn.cluster import DBSCAN"
   ]
  },
  {
   "cell_type": "code",
   "execution_count": null,
   "id": "f5b8c09e-a301-41e3-8280-fbca085a198e",
   "metadata": {
    "tags": []
   },
   "outputs": [],
   "source": [
    "dataset_db = dados.copy()\n",
    "dataset_db = dataset_db.loc[:,['matematica','fund_computacao','tec_computacao']]\n",
    "dataset_db"
   ]
  },
  {
   "cell_type": "code",
   "execution_count": null,
   "id": "01dce016-701a-42e3-b9d2-74cbf6259976",
   "metadata": {
    "tags": []
   },
   "outputs": [],
   "source": [
    "dbscan = DBSCAN(eps=1.5, min_samples=10)\n",
    "labels = dbscan.fit_predict(dataset_db)\n",
    "\n",
    "print(\"Rótulos atribuídos:\", labels)\n",
    "\n",
    "fig = plt.figure()\n",
    "ax = fig.add_subplot(111, projection='3d')\n",
    "ax.scatter(dataset_db['matematica'], dataset_db['fund_computacao'], dataset_db['tec_computacao'], c=labels)\n",
    "ax.set_xlabel(\"Feature 1\")\n",
    "ax.set_ylabel(\"Feature 2\")\n",
    "ax.set_zlabel(\"Feature 3\")\n",
    "ax.set_title(\"Clustering com DBSCAN\")\n",
    "plt.show()"
   ]
  },
  {
   "cell_type": "markdown",
   "id": "55e2a911-d455-4f57-bf3c-773f2134fbd8",
   "metadata": {
    "jp-MarkdownHeadingCollapsed": true,
    "tags": []
   },
   "source": [
    "## Spectral Clustering"
   ]
  },
  {
   "cell_type": "code",
   "execution_count": null,
   "id": "71d52a1f-944e-4cc2-81ff-e9fd37ed2f10",
   "metadata": {
    "tags": []
   },
   "outputs": [],
   "source": [
    "dataset_sp = dados.iloc[:,33:36]\n",
    "dataset_sp.head(1)"
   ]
  },
  {
   "cell_type": "code",
   "execution_count": null,
   "id": "ec05469f-442b-429e-b22e-02e9ae7aa78b",
   "metadata": {
    "tags": []
   },
   "outputs": [],
   "source": [
    "# from sklearn.cluster import SpectralClustering\n",
    "\n",
    "# spectral = SpectralClustering(n_clusters=2, affinity='nearest_neighbors')\n",
    "# labels_spectral = spectral.fit_predict(dataset_sp)\n",
    "\n",
    "# print(\"Rótulos atribuídos:\", labels_spectral)\n",
    "\n",
    "# fig = plt.figure()\n",
    "# ax = fig.add_subplot(111, projection='3d')\n",
    "# ax.scatter(dataset_sp['matematica'], dataset_sp['fundamentos_computacao'], dataset_sp['tecnologia_computacao'], c=labels_spectral)\n",
    "# ax.set_xlabel(\"Feature 1\")\n",
    "# ax.set_ylabel(\"Feature 2\")\n",
    "# ax.set_zlabel(\"Feature 3\")\n",
    "# ax.set_title(\"Clustering com DBSCAN\")\n",
    "# plt.show()"
   ]
  },
  {
   "cell_type": "markdown",
   "id": "b277d447-8f09-469d-8b29-cda8eae12444",
   "metadata": {
    "jp-MarkdownHeadingCollapsed": true,
    "tags": []
   },
   "source": [
    "## Agglomerative clustering"
   ]
  },
  {
   "cell_type": "code",
   "execution_count": null,
   "id": "de28e18a-ee59-48af-b4ab-2b2cdf715c19",
   "metadata": {
    "tags": []
   },
   "outputs": [],
   "source": [
    "dataset_agglomerative = dados.iloc[:,33:36]\n",
    "dataset_agglomerative.head(1)"
   ]
  },
  {
   "cell_type": "code",
   "execution_count": null,
   "id": "0fd8ab8b-a45b-48de-a588-43914c7179e3",
   "metadata": {
    "tags": []
   },
   "outputs": [],
   "source": [
    "from sklearn.cluster import AgglomerativeClustering\n",
    "\n",
    "agglomerative = AgglomerativeClustering(n_clusters=2)\n",
    "labels_agglomerative = agglomerative.fit_predict(dataset_agglomerative)\n",
    "\n",
    "\n",
    "print(\"Rótulos atribuídos:\", labels)\n",
    "\n",
    "fig = plt.figure()\n",
    "ax = fig.add_subplot(111, projection='3d')\n",
    "ax.scatter(dataset_agglomerative['matematica'], dataset_agglomerative['fundamentos_computacao'], dataset_agglomerative['tecnologia_computacao'], c=labels_agglomerative)\n",
    "ax.set_xlabel(\"Feature 1\")\n",
    "ax.set_ylabel(\"Feature 2\")\n",
    "ax.set_zlabel(\"Feature 3\")\n",
    "ax.set_title(\"Clustering com Agglomerative Clustering\")\n",
    "plt.show()"
   ]
  },
  {
   "cell_type": "markdown",
   "id": "10f645a4-4cb5-40e6-b12d-b0593bc4148b",
   "metadata": {},
   "source": [
    "# Aplicações de Aprendizado de Máquina"
   ]
  },
  {
   "cell_type": "markdown",
   "id": "66f7b029-48ea-4d78-9699-3cd705cd51cb",
   "metadata": {
    "jp-MarkdownHeadingCollapsed": true,
    "tags": []
   },
   "source": [
    "### Árvore de Decisão"
   ]
  },
  {
   "cell_type": "code",
   "execution_count": null,
   "id": "bc1903ad-3237-4411-af19-c66a897db5f6",
   "metadata": {
    "tags": []
   },
   "outputs": [],
   "source": [
    "# dados['PRESENTE'].unique()\n",
    "dataframe_arvore = dataset.query('PRESENTE == \"S\"')"
   ]
  },
  {
   "cell_type": "code",
   "execution_count": null,
   "id": "0db9fdb2-cebe-4b93-83f6-42748179ec14",
   "metadata": {
    "tags": []
   },
   "outputs": [],
   "source": [
    "dataframe_arvore = dataframe_arvore.loc[:,['matematica','fundamentos_computacao','tecnologia_computacao', 'cluster']]\n",
    "dataframe_arvore"
   ]
  },
  {
   "cell_type": "code",
   "execution_count": null,
   "id": "c0f431c2-5633-4c96-8356-f7e06cd19b4c",
   "metadata": {
    "tags": []
   },
   "outputs": [],
   "source": [
    "from sklearn.tree import DecisionTreeClassifier\n",
    "from sklearn.metrics import accuracy_score\n",
    "from sklearn.tree import export_graphviz\n",
    "from sklearn.model_selection import train_test_split\n",
    "import graphviz\n",
    "\n",
    "X = dataframe_arvore.drop('cluster', axis=1)  # Remova a coluna 'classe_alvo' do DataFrame\n",
    "y = dataframe_arvore['cluster']  # Coluna 'classe_alvo' é a classe alvo\n",
    "\n",
    "X_train, X_test, y_train, y_test = train_test_split(X, y, test_size=0.3, random_state=42)\n",
    "\n",
    "clf = DecisionTreeClassifier()\n",
    "\n",
    "clf.fit(X_train, y_train)\n",
    "\n",
    "y_pred = clf.predict(X_test)\n",
    "\n",
    "accuracy = accuracy_score(y_test, y_pred)\n",
    "print(\"Precisão: {:.2f}%\".format(accuracy * 100))\n",
    "\n",
    "\n",
    "dot_data = export_graphviz(clf, out_file=None, \n",
    "                           feature_names=X.columns,  \n",
    "                           class_names=list(map(str, y.unique())),\n",
    "                           filled=True, rounded=True,  \n",
    "                           special_characters=True)\n",
    "\n",
    "graph = graphviz.Source(dot_data)\n",
    "# graph.render(\"arvore_decisao\")\n",
    "graph.view()"
   ]
  },
  {
   "cell_type": "markdown",
   "id": "bdb649fa-73c4-477c-8e2a-925b6b1a3d86",
   "metadata": {
    "tags": []
   },
   "source": [
    "#### Testar a funcionalidade do algoritmo"
   ]
  },
  {
   "cell_type": "code",
   "execution_count": 26,
   "id": "7a4ed6f4-4441-4ab9-b399-1d73b072c704",
   "metadata": {
    "tags": []
   },
   "outputs": [
    {
     "ename": "FileNotFoundError",
     "evalue": "[Errno 2] No such file or directory: 'novo_poscomp.csv'",
     "output_type": "error",
     "traceback": [
      "\u001b[0;31m---------------------------------------------------------------------------\u001b[0m",
      "\u001b[0;31mFileNotFoundError\u001b[0m                         Traceback (most recent call last)",
      "Cell \u001b[0;32mIn[26], line 1\u001b[0m\n\u001b[0;32m----> 1\u001b[0m novo_poscomp \u001b[38;5;241m=\u001b[39m \u001b[43mpd\u001b[49m\u001b[38;5;241;43m.\u001b[39;49m\u001b[43mread_csv\u001b[49m\u001b[43m(\u001b[49m\u001b[38;5;124;43m'\u001b[39;49m\u001b[38;5;124;43mnovo_poscomp.csv\u001b[39;49m\u001b[38;5;124;43m'\u001b[39;49m\u001b[43m)\u001b[49m\n\u001b[1;32m      2\u001b[0m novo_poscomp\u001b[38;5;241m.\u001b[39mcolumns \u001b[38;5;241m=\u001b[39m [\u001b[38;5;124m'\u001b[39m\u001b[38;5;124mNome\u001b[39m\u001b[38;5;124m'\u001b[39m,\u001b[38;5;124m'\u001b[39m\u001b[38;5;124mÁlgebra Linear\u001b[39m\u001b[38;5;124m'\u001b[39m,\u001b[38;5;124m'\u001b[39m\u001b[38;5;124mAnálise Combinatória\u001b[39m\u001b[38;5;124m'\u001b[39m,\u001b[38;5;124m'\u001b[39m\u001b[38;5;124mCálculo Diferencial e Integral\u001b[39m\u001b[38;5;124m'\u001b[39m,\u001b[38;5;124m'\u001b[39m\u001b[38;5;124mGeometria Analítica\u001b[39m\u001b[38;5;124m'\u001b[39m,\u001b[38;5;124m'\u001b[39m\u001b[38;5;124mMatemática Discreta\u001b[39m\u001b[38;5;124m'\u001b[39m,\u001b[38;5;124m'\u001b[39m\u001b[38;5;124mProbabilidade e Estatística\u001b[39m\u001b[38;5;124m'\u001b[39m,\u001b[38;5;124m'\u001b[39m\u001b[38;5;124mLógica Matemática\u001b[39m\u001b[38;5;124m'\u001b[39m,\u001b[38;5;124m'\u001b[39m\u001b[38;5;124mAnálise de Algoritmos\u001b[39m\u001b[38;5;124m'\u001b[39m,\u001b[38;5;124m'\u001b[39m\u001b[38;5;124mAlgoritmos e Estruturas de Dados\u001b[39m\u001b[38;5;124m'\u001b[39m,\u001b[38;5;124m'\u001b[39m\u001b[38;5;124mArquitetura e Organização de Computadores\u001b[39m\u001b[38;5;124m'\u001b[39m,\u001b[38;5;124m'\u001b[39m\u001b[38;5;124mCircuitos Digitais\u001b[39m\u001b[38;5;124m'\u001b[39m,\u001b[38;5;124m'\u001b[39m\u001b[38;5;124mLinguagens de Programação\u001b[39m\u001b[38;5;124m'\u001b[39m,\u001b[38;5;124m'\u001b[39m\u001b[38;5;124mLinguagens Formais, Autômatos e Computabilidade\u001b[39m\u001b[38;5;124m'\u001b[39m,\u001b[38;5;124m'\u001b[39m\u001b[38;5;124mOrganização de Arquivos e Dados\u001b[39m\u001b[38;5;124m'\u001b[39m,\u001b[38;5;124m'\u001b[39m\u001b[38;5;124mSistemas Operacionais\u001b[39m\u001b[38;5;124m'\u001b[39m,\u001b[38;5;124m'\u001b[39m\u001b[38;5;124mTécnicas de Programação\u001b[39m\u001b[38;5;124m'\u001b[39m,\u001b[38;5;124m'\u001b[39m\u001b[38;5;124mTeoria dos Grafos\u001b[39m\u001b[38;5;124m'\u001b[39m,\u001b[38;5;124m'\u001b[39m\u001b[38;5;124mBanco de Dados\u001b[39m\u001b[38;5;124m'\u001b[39m,\u001b[38;5;124m'\u001b[39m\u001b[38;5;124mCompiladores\u001b[39m\u001b[38;5;124m'\u001b[39m,\u001b[38;5;124m'\u001b[39m\u001b[38;5;124mComputação Gráfica\u001b[39m\u001b[38;5;124m'\u001b[39m,\u001b[38;5;124m'\u001b[39m\u001b[38;5;124mEngenharia de Software\u001b[39m\u001b[38;5;124m'\u001b[39m,\u001b[38;5;124m'\u001b[39m\u001b[38;5;124mInteligência Artificial\u001b[39m\u001b[38;5;124m'\u001b[39m,\u001b[38;5;124m'\u001b[39m\u001b[38;5;124mProcessamento de Imagens\u001b[39m\u001b[38;5;124m'\u001b[39m,\u001b[38;5;124m'\u001b[39m\u001b[38;5;124mRedes de Computadores\u001b[39m\u001b[38;5;124m'\u001b[39m,\u001b[38;5;124m'\u001b[39m\u001b[38;5;124mSistemas Distribuídos\u001b[39m\u001b[38;5;124m'\u001b[39m,\u001b[38;5;124m'\u001b[39m\u001b[38;5;124mNOTA Prova TO\u001b[39m\u001b[38;5;124m'\u001b[39m]\n",
      "File \u001b[0;32m~/anaconda3/envs/poscomp/lib/python3.11/site-packages/pandas/io/parsers/readers.py:948\u001b[0m, in \u001b[0;36mread_csv\u001b[0;34m(filepath_or_buffer, sep, delimiter, header, names, index_col, usecols, dtype, engine, converters, true_values, false_values, skipinitialspace, skiprows, skipfooter, nrows, na_values, keep_default_na, na_filter, verbose, skip_blank_lines, parse_dates, infer_datetime_format, keep_date_col, date_parser, date_format, dayfirst, cache_dates, iterator, chunksize, compression, thousands, decimal, lineterminator, quotechar, quoting, doublequote, escapechar, comment, encoding, encoding_errors, dialect, on_bad_lines, delim_whitespace, low_memory, memory_map, float_precision, storage_options, dtype_backend)\u001b[0m\n\u001b[1;32m    935\u001b[0m kwds_defaults \u001b[38;5;241m=\u001b[39m _refine_defaults_read(\n\u001b[1;32m    936\u001b[0m     dialect,\n\u001b[1;32m    937\u001b[0m     delimiter,\n\u001b[0;32m   (...)\u001b[0m\n\u001b[1;32m    944\u001b[0m     dtype_backend\u001b[38;5;241m=\u001b[39mdtype_backend,\n\u001b[1;32m    945\u001b[0m )\n\u001b[1;32m    946\u001b[0m kwds\u001b[38;5;241m.\u001b[39mupdate(kwds_defaults)\n\u001b[0;32m--> 948\u001b[0m \u001b[38;5;28;01mreturn\u001b[39;00m \u001b[43m_read\u001b[49m\u001b[43m(\u001b[49m\u001b[43mfilepath_or_buffer\u001b[49m\u001b[43m,\u001b[49m\u001b[43m \u001b[49m\u001b[43mkwds\u001b[49m\u001b[43m)\u001b[49m\n",
      "File \u001b[0;32m~/anaconda3/envs/poscomp/lib/python3.11/site-packages/pandas/io/parsers/readers.py:611\u001b[0m, in \u001b[0;36m_read\u001b[0;34m(filepath_or_buffer, kwds)\u001b[0m\n\u001b[1;32m    608\u001b[0m _validate_names(kwds\u001b[38;5;241m.\u001b[39mget(\u001b[38;5;124m\"\u001b[39m\u001b[38;5;124mnames\u001b[39m\u001b[38;5;124m\"\u001b[39m, \u001b[38;5;28;01mNone\u001b[39;00m))\n\u001b[1;32m    610\u001b[0m \u001b[38;5;66;03m# Create the parser.\u001b[39;00m\n\u001b[0;32m--> 611\u001b[0m parser \u001b[38;5;241m=\u001b[39m \u001b[43mTextFileReader\u001b[49m\u001b[43m(\u001b[49m\u001b[43mfilepath_or_buffer\u001b[49m\u001b[43m,\u001b[49m\u001b[43m \u001b[49m\u001b[38;5;241;43m*\u001b[39;49m\u001b[38;5;241;43m*\u001b[39;49m\u001b[43mkwds\u001b[49m\u001b[43m)\u001b[49m\n\u001b[1;32m    613\u001b[0m \u001b[38;5;28;01mif\u001b[39;00m chunksize \u001b[38;5;129;01mor\u001b[39;00m iterator:\n\u001b[1;32m    614\u001b[0m     \u001b[38;5;28;01mreturn\u001b[39;00m parser\n",
      "File \u001b[0;32m~/anaconda3/envs/poscomp/lib/python3.11/site-packages/pandas/io/parsers/readers.py:1448\u001b[0m, in \u001b[0;36mTextFileReader.__init__\u001b[0;34m(self, f, engine, **kwds)\u001b[0m\n\u001b[1;32m   1445\u001b[0m     \u001b[38;5;28mself\u001b[39m\u001b[38;5;241m.\u001b[39moptions[\u001b[38;5;124m\"\u001b[39m\u001b[38;5;124mhas_index_names\u001b[39m\u001b[38;5;124m\"\u001b[39m] \u001b[38;5;241m=\u001b[39m kwds[\u001b[38;5;124m\"\u001b[39m\u001b[38;5;124mhas_index_names\u001b[39m\u001b[38;5;124m\"\u001b[39m]\n\u001b[1;32m   1447\u001b[0m \u001b[38;5;28mself\u001b[39m\u001b[38;5;241m.\u001b[39mhandles: IOHandles \u001b[38;5;241m|\u001b[39m \u001b[38;5;28;01mNone\u001b[39;00m \u001b[38;5;241m=\u001b[39m \u001b[38;5;28;01mNone\u001b[39;00m\n\u001b[0;32m-> 1448\u001b[0m \u001b[38;5;28mself\u001b[39m\u001b[38;5;241m.\u001b[39m_engine \u001b[38;5;241m=\u001b[39m \u001b[38;5;28;43mself\u001b[39;49m\u001b[38;5;241;43m.\u001b[39;49m\u001b[43m_make_engine\u001b[49m\u001b[43m(\u001b[49m\u001b[43mf\u001b[49m\u001b[43m,\u001b[49m\u001b[43m \u001b[49m\u001b[38;5;28;43mself\u001b[39;49m\u001b[38;5;241;43m.\u001b[39;49m\u001b[43mengine\u001b[49m\u001b[43m)\u001b[49m\n",
      "File \u001b[0;32m~/anaconda3/envs/poscomp/lib/python3.11/site-packages/pandas/io/parsers/readers.py:1705\u001b[0m, in \u001b[0;36mTextFileReader._make_engine\u001b[0;34m(self, f, engine)\u001b[0m\n\u001b[1;32m   1703\u001b[0m     \u001b[38;5;28;01mif\u001b[39;00m \u001b[38;5;124m\"\u001b[39m\u001b[38;5;124mb\u001b[39m\u001b[38;5;124m\"\u001b[39m \u001b[38;5;129;01mnot\u001b[39;00m \u001b[38;5;129;01min\u001b[39;00m mode:\n\u001b[1;32m   1704\u001b[0m         mode \u001b[38;5;241m+\u001b[39m\u001b[38;5;241m=\u001b[39m \u001b[38;5;124m\"\u001b[39m\u001b[38;5;124mb\u001b[39m\u001b[38;5;124m\"\u001b[39m\n\u001b[0;32m-> 1705\u001b[0m \u001b[38;5;28mself\u001b[39m\u001b[38;5;241m.\u001b[39mhandles \u001b[38;5;241m=\u001b[39m \u001b[43mget_handle\u001b[49m\u001b[43m(\u001b[49m\n\u001b[1;32m   1706\u001b[0m \u001b[43m    \u001b[49m\u001b[43mf\u001b[49m\u001b[43m,\u001b[49m\n\u001b[1;32m   1707\u001b[0m \u001b[43m    \u001b[49m\u001b[43mmode\u001b[49m\u001b[43m,\u001b[49m\n\u001b[1;32m   1708\u001b[0m \u001b[43m    \u001b[49m\u001b[43mencoding\u001b[49m\u001b[38;5;241;43m=\u001b[39;49m\u001b[38;5;28;43mself\u001b[39;49m\u001b[38;5;241;43m.\u001b[39;49m\u001b[43moptions\u001b[49m\u001b[38;5;241;43m.\u001b[39;49m\u001b[43mget\u001b[49m\u001b[43m(\u001b[49m\u001b[38;5;124;43m\"\u001b[39;49m\u001b[38;5;124;43mencoding\u001b[39;49m\u001b[38;5;124;43m\"\u001b[39;49m\u001b[43m,\u001b[49m\u001b[43m \u001b[49m\u001b[38;5;28;43;01mNone\u001b[39;49;00m\u001b[43m)\u001b[49m\u001b[43m,\u001b[49m\n\u001b[1;32m   1709\u001b[0m \u001b[43m    \u001b[49m\u001b[43mcompression\u001b[49m\u001b[38;5;241;43m=\u001b[39;49m\u001b[38;5;28;43mself\u001b[39;49m\u001b[38;5;241;43m.\u001b[39;49m\u001b[43moptions\u001b[49m\u001b[38;5;241;43m.\u001b[39;49m\u001b[43mget\u001b[49m\u001b[43m(\u001b[49m\u001b[38;5;124;43m\"\u001b[39;49m\u001b[38;5;124;43mcompression\u001b[39;49m\u001b[38;5;124;43m\"\u001b[39;49m\u001b[43m,\u001b[49m\u001b[43m \u001b[49m\u001b[38;5;28;43;01mNone\u001b[39;49;00m\u001b[43m)\u001b[49m\u001b[43m,\u001b[49m\n\u001b[1;32m   1710\u001b[0m \u001b[43m    \u001b[49m\u001b[43mmemory_map\u001b[49m\u001b[38;5;241;43m=\u001b[39;49m\u001b[38;5;28;43mself\u001b[39;49m\u001b[38;5;241;43m.\u001b[39;49m\u001b[43moptions\u001b[49m\u001b[38;5;241;43m.\u001b[39;49m\u001b[43mget\u001b[49m\u001b[43m(\u001b[49m\u001b[38;5;124;43m\"\u001b[39;49m\u001b[38;5;124;43mmemory_map\u001b[39;49m\u001b[38;5;124;43m\"\u001b[39;49m\u001b[43m,\u001b[49m\u001b[43m \u001b[49m\u001b[38;5;28;43;01mFalse\u001b[39;49;00m\u001b[43m)\u001b[49m\u001b[43m,\u001b[49m\n\u001b[1;32m   1711\u001b[0m \u001b[43m    \u001b[49m\u001b[43mis_text\u001b[49m\u001b[38;5;241;43m=\u001b[39;49m\u001b[43mis_text\u001b[49m\u001b[43m,\u001b[49m\n\u001b[1;32m   1712\u001b[0m \u001b[43m    \u001b[49m\u001b[43merrors\u001b[49m\u001b[38;5;241;43m=\u001b[39;49m\u001b[38;5;28;43mself\u001b[39;49m\u001b[38;5;241;43m.\u001b[39;49m\u001b[43moptions\u001b[49m\u001b[38;5;241;43m.\u001b[39;49m\u001b[43mget\u001b[49m\u001b[43m(\u001b[49m\u001b[38;5;124;43m\"\u001b[39;49m\u001b[38;5;124;43mencoding_errors\u001b[39;49m\u001b[38;5;124;43m\"\u001b[39;49m\u001b[43m,\u001b[49m\u001b[43m \u001b[49m\u001b[38;5;124;43m\"\u001b[39;49m\u001b[38;5;124;43mstrict\u001b[39;49m\u001b[38;5;124;43m\"\u001b[39;49m\u001b[43m)\u001b[49m\u001b[43m,\u001b[49m\n\u001b[1;32m   1713\u001b[0m \u001b[43m    \u001b[49m\u001b[43mstorage_options\u001b[49m\u001b[38;5;241;43m=\u001b[39;49m\u001b[38;5;28;43mself\u001b[39;49m\u001b[38;5;241;43m.\u001b[39;49m\u001b[43moptions\u001b[49m\u001b[38;5;241;43m.\u001b[39;49m\u001b[43mget\u001b[49m\u001b[43m(\u001b[49m\u001b[38;5;124;43m\"\u001b[39;49m\u001b[38;5;124;43mstorage_options\u001b[39;49m\u001b[38;5;124;43m\"\u001b[39;49m\u001b[43m,\u001b[49m\u001b[43m \u001b[49m\u001b[38;5;28;43;01mNone\u001b[39;49;00m\u001b[43m)\u001b[49m\u001b[43m,\u001b[49m\n\u001b[1;32m   1714\u001b[0m \u001b[43m\u001b[49m\u001b[43m)\u001b[49m\n\u001b[1;32m   1715\u001b[0m \u001b[38;5;28;01massert\u001b[39;00m \u001b[38;5;28mself\u001b[39m\u001b[38;5;241m.\u001b[39mhandles \u001b[38;5;129;01mis\u001b[39;00m \u001b[38;5;129;01mnot\u001b[39;00m \u001b[38;5;28;01mNone\u001b[39;00m\n\u001b[1;32m   1716\u001b[0m f \u001b[38;5;241m=\u001b[39m \u001b[38;5;28mself\u001b[39m\u001b[38;5;241m.\u001b[39mhandles\u001b[38;5;241m.\u001b[39mhandle\n",
      "File \u001b[0;32m~/anaconda3/envs/poscomp/lib/python3.11/site-packages/pandas/io/common.py:863\u001b[0m, in \u001b[0;36mget_handle\u001b[0;34m(path_or_buf, mode, encoding, compression, memory_map, is_text, errors, storage_options)\u001b[0m\n\u001b[1;32m    858\u001b[0m \u001b[38;5;28;01melif\u001b[39;00m \u001b[38;5;28misinstance\u001b[39m(handle, \u001b[38;5;28mstr\u001b[39m):\n\u001b[1;32m    859\u001b[0m     \u001b[38;5;66;03m# Check whether the filename is to be opened in binary mode.\u001b[39;00m\n\u001b[1;32m    860\u001b[0m     \u001b[38;5;66;03m# Binary mode does not support 'encoding' and 'newline'.\u001b[39;00m\n\u001b[1;32m    861\u001b[0m     \u001b[38;5;28;01mif\u001b[39;00m ioargs\u001b[38;5;241m.\u001b[39mencoding \u001b[38;5;129;01mand\u001b[39;00m \u001b[38;5;124m\"\u001b[39m\u001b[38;5;124mb\u001b[39m\u001b[38;5;124m\"\u001b[39m \u001b[38;5;129;01mnot\u001b[39;00m \u001b[38;5;129;01min\u001b[39;00m ioargs\u001b[38;5;241m.\u001b[39mmode:\n\u001b[1;32m    862\u001b[0m         \u001b[38;5;66;03m# Encoding\u001b[39;00m\n\u001b[0;32m--> 863\u001b[0m         handle \u001b[38;5;241m=\u001b[39m \u001b[38;5;28;43mopen\u001b[39;49m\u001b[43m(\u001b[49m\n\u001b[1;32m    864\u001b[0m \u001b[43m            \u001b[49m\u001b[43mhandle\u001b[49m\u001b[43m,\u001b[49m\n\u001b[1;32m    865\u001b[0m \u001b[43m            \u001b[49m\u001b[43mioargs\u001b[49m\u001b[38;5;241;43m.\u001b[39;49m\u001b[43mmode\u001b[49m\u001b[43m,\u001b[49m\n\u001b[1;32m    866\u001b[0m \u001b[43m            \u001b[49m\u001b[43mencoding\u001b[49m\u001b[38;5;241;43m=\u001b[39;49m\u001b[43mioargs\u001b[49m\u001b[38;5;241;43m.\u001b[39;49m\u001b[43mencoding\u001b[49m\u001b[43m,\u001b[49m\n\u001b[1;32m    867\u001b[0m \u001b[43m            \u001b[49m\u001b[43merrors\u001b[49m\u001b[38;5;241;43m=\u001b[39;49m\u001b[43merrors\u001b[49m\u001b[43m,\u001b[49m\n\u001b[1;32m    868\u001b[0m \u001b[43m            \u001b[49m\u001b[43mnewline\u001b[49m\u001b[38;5;241;43m=\u001b[39;49m\u001b[38;5;124;43m\"\u001b[39;49m\u001b[38;5;124;43m\"\u001b[39;49m\u001b[43m,\u001b[49m\n\u001b[1;32m    869\u001b[0m \u001b[43m        \u001b[49m\u001b[43m)\u001b[49m\n\u001b[1;32m    870\u001b[0m     \u001b[38;5;28;01melse\u001b[39;00m:\n\u001b[1;32m    871\u001b[0m         \u001b[38;5;66;03m# Binary mode\u001b[39;00m\n\u001b[1;32m    872\u001b[0m         handle \u001b[38;5;241m=\u001b[39m \u001b[38;5;28mopen\u001b[39m(handle, ioargs\u001b[38;5;241m.\u001b[39mmode)\n",
      "\u001b[0;31mFileNotFoundError\u001b[0m: [Errno 2] No such file or directory: 'novo_poscomp.csv'"
     ]
    }
   ],
   "source": [
    "novo_poscomp = pd.read_csv('novo_poscomp.csv')\n",
    "novo_poscomp.columns = ['Nome','Álgebra Linear','Análise Combinatória','Cálculo Diferencial e Integral','Geometria Analítica','Matemática Discreta','Probabilidade e Estatística','Lógica Matemática','Análise de Algoritmos','Algoritmos e Estruturas de Dados','Arquitetura e Organização de Computadores','Circuitos Digitais','Linguagens de Programação','Linguagens Formais, Autômatos e Computabilidade','Organização de Arquivos e Dados','Sistemas Operacionais','Técnicas de Programação','Teoria dos Grafos','Banco de Dados','Compiladores','Computação Gráfica','Engenharia de Software','Inteligência Artificial','Processamento de Imagens','Redes de Computadores','Sistemas Distribuídos','NOTA Prova TO']"
   ]
  },
  {
   "cell_type": "code",
   "execution_count": null,
   "id": "e28a15b0-21be-4496-99ba-7e35501bd4ed",
   "metadata": {
    "tags": []
   },
   "outputs": [],
   "source": [
    "list_poscomp = ['Álgebra Linear','Análise Combinatória','Cálculo Diferencial e Integral','Geometria Analítica','Matemática Discreta','Probabilidade e Estatística','Lógica Matemática','Análise de Algoritmos','Algoritmos e Estruturas de Dados','Arquitetura e Organização de Computadores','Circuitos Digitais','Linguagens de Programação','Linguagens Formais, Autômatos e Computabilidade','Organização de Arquivos e Dados','Sistemas Operacionais','Técnicas de Programação','Teoria dos Grafos','Banco de Dados','Compiladores','Computação Gráfica','Engenharia de Software','Inteligência Artificial','Processamento de Imagens','Redes de Computadores','Sistemas Distribuídos']"
   ]
  },
  {
   "cell_type": "code",
   "execution_count": null,
   "id": "144cb957-d463-43a7-b220-9630a0ce0038",
   "metadata": {
    "tags": []
   },
   "outputs": [],
   "source": [
    "novo_poscomp = novo_poscomp.drop('NOTA Prova TO', axis=1)"
   ]
  },
  {
   "cell_type": "code",
   "execution_count": null,
   "id": "eb5ae8af-db24-4827-8a36-2e3b538276ea",
   "metadata": {
    "tags": []
   },
   "outputs": [],
   "source": [
    "novo_poscomp.head()"
   ]
  },
  {
   "cell_type": "code",
   "execution_count": null,
   "id": "4e3eae53-317b-40fb-8826-adf6ad7da3c8",
   "metadata": {
    "tags": []
   },
   "outputs": [],
   "source": [
    "for coluna in list_poscomp:\n",
    "    novo_poscomp[coluna] = pd.to_numeric(novo_poscomp[coluna], errors='coerce').astype('Int64')\n",
    "\n",
    "# Verificar o tipo de dado das colunas após a conversão\n",
    "print(novo_poscomp.dtypes)"
   ]
  },
  {
   "cell_type": "code",
   "execution_count": null,
   "id": "74ab1548-0a27-41f5-8d17-377931e9d04e",
   "metadata": {
    "tags": []
   },
   "outputs": [],
   "source": [
    "novo_poscomp = novo_poscomp.dropna()"
   ]
  },
  {
   "cell_type": "code",
   "execution_count": null,
   "id": "8098b8e5-28a0-41b7-b27b-469727896772",
   "metadata": {
    "tags": []
   },
   "outputs": [],
   "source": [
    "X_novos = novo_poscomp.loc[:,['matematica','fundamentos_computacao','tecnologia_computacao']]"
   ]
  },
  {
   "cell_type": "code",
   "execution_count": null,
   "id": "f7362725-4b9c-4709-8897-1679f08b9420",
   "metadata": {
    "tags": []
   },
   "outputs": [],
   "source": [
    "X_novos.head()"
   ]
  },
  {
   "cell_type": "code",
   "execution_count": null,
   "id": "6d9b0735-6c7d-4a79-8990-b3983bf9ccaf",
   "metadata": {},
   "outputs": [],
   "source": [
    "# Fazer previsões com o novo conjunto de dados\n",
    "classe_prevista = clf.predict(X_novos)\n",
    "\n",
    "# Exibir a classe prevista\n",
    "print(\"Classe prevista: {}\".format(classe_prevista))"
   ]
  }
 ],
 "metadata": {
  "kernelspec": {
   "display_name": "Python 3 (ipykernel)",
   "language": "python",
   "name": "python3"
  },
  "language_info": {
   "codemirror_mode": {
    "name": "ipython",
    "version": 3
   },
   "file_extension": ".py",
   "mimetype": "text/x-python",
   "name": "python",
   "nbconvert_exporter": "python",
   "pygments_lexer": "ipython3",
   "version": "3.11.7"
  }
 },
 "nbformat": 4,
 "nbformat_minor": 5
}
