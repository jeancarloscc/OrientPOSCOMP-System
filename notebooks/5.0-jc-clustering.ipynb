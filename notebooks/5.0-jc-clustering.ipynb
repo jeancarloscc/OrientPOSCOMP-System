{
 "cells": [
  {
   "cell_type": "markdown",
   "id": "5e373c54-5634-4b62-ba66-44bff2df2ac4",
   "metadata": {},
   "source": [
    "# Aplicar técnicas de Mineração de Dados, utilizando o algoritmo de Clusterização para agrupar as informações e notas dos candidatos"
   ]
  },
  {
   "cell_type": "markdown",
   "id": "4b074eac-d221-43ce-91b3-8a010d60d4ab",
   "metadata": {
    "tags": []
   },
   "source": [
    "## Área de agrupamentos: Matemática; Fundamentos da Computação; Tecnologias da Computação\n"
   ]
  },
  {
   "cell_type": "code",
   "execution_count": 1,
   "id": "af236dcc-2778-4826-8a36-80d64de9b0a0",
   "metadata": {},
   "outputs": [],
   "source": [
    "%run ../services/imports.py\n",
    "from services.function import Function"
   ]
  },
  {
   "cell_type": "markdown",
   "id": "f4386daf-63e1-4f08-b9c3-ccc74b1d9ddb",
   "metadata": {
    "tags": []
   },
   "source": [
    "## Descrição dos dados"
   ]
  },
  {
   "cell_type": "code",
   "execution_count": 2,
   "id": "4a0d6ea8-20e4-48ad-850f-4394baaf6065",
   "metadata": {},
   "outputs": [
    {
     "data": {
      "text/html": [
       "<div>\n",
       "<style scoped>\n",
       "    .dataframe tbody tr th:only-of-type {\n",
       "        vertical-align: middle;\n",
       "    }\n",
       "\n",
       "    .dataframe tbody tr th {\n",
       "        vertical-align: top;\n",
       "    }\n",
       "\n",
       "    .dataframe thead th {\n",
       "        text-align: right;\n",
       "    }\n",
       "</style>\n",
       "<table border=\"1\" class=\"dataframe\">\n",
       "  <thead>\n",
       "    <tr style=\"text-align: right;\">\n",
       "      <th></th>\n",
       "      <th>idade</th>\n",
       "      <th>sexo</th>\n",
       "      <th>estado</th>\n",
       "      <th>presença</th>\n",
       "      <th>cargo</th>\n",
       "      <th>especialidade</th>\n",
       "      <th>matematica</th>\n",
       "      <th>fund_computacao</th>\n",
       "      <th>tec_computacao</th>\n",
       "      <th>ano</th>\n",
       "      <th>linhas_pesquisas</th>\n",
       "      <th>area_concentration</th>\n",
       "    </tr>\n",
       "  </thead>\n",
       "  <tbody>\n",
       "    <tr>\n",
       "      <th>0</th>\n",
       "      <td>1989-11-29</td>\n",
       "      <td>masculino</td>\n",
       "      <td>ce</td>\n",
       "      <td>s</td>\n",
       "      <td>mestrado/doutorado</td>\n",
       "      <td>teoria da computação</td>\n",
       "      <td>14.0</td>\n",
       "      <td>21.0</td>\n",
       "      <td>10.0</td>\n",
       "      <td>2016</td>\n",
       "      <td>sistemas de informação</td>\n",
       "      <td>informatica</td>\n",
       "    </tr>\n",
       "    <tr>\n",
       "      <th>1</th>\n",
       "      <td>1995-02-23</td>\n",
       "      <td>masculino</td>\n",
       "      <td>rs</td>\n",
       "      <td>s</td>\n",
       "      <td>mestrado/doutorado</td>\n",
       "      <td>metodologias e técnicas de computação</td>\n",
       "      <td>16.0</td>\n",
       "      <td>22.0</td>\n",
       "      <td>12.0</td>\n",
       "      <td>2016</td>\n",
       "      <td>engenharia de software</td>\n",
       "      <td>informatica</td>\n",
       "    </tr>\n",
       "    <tr>\n",
       "      <th>2</th>\n",
       "      <td>1991-12-13</td>\n",
       "      <td>masculino</td>\n",
       "      <td>sp</td>\n",
       "      <td>s</td>\n",
       "      <td>mestrado/doutorado</td>\n",
       "      <td>engenharia de software</td>\n",
       "      <td>4.0</td>\n",
       "      <td>16.0</td>\n",
       "      <td>8.0</td>\n",
       "      <td>2016</td>\n",
       "      <td>engenharia de software</td>\n",
       "      <td>informatica</td>\n",
       "    </tr>\n",
       "    <tr>\n",
       "      <th>3</th>\n",
       "      <td>1986-09-29</td>\n",
       "      <td>masculino</td>\n",
       "      <td>pa</td>\n",
       "      <td>s</td>\n",
       "      <td>mestrado/doutorado</td>\n",
       "      <td>sistemas de informação</td>\n",
       "      <td>4.0</td>\n",
       "      <td>13.0</td>\n",
       "      <td>7.0</td>\n",
       "      <td>2016</td>\n",
       "      <td>sistemas de informação</td>\n",
       "      <td>informatica</td>\n",
       "    </tr>\n",
       "    <tr>\n",
       "      <th>4</th>\n",
       "      <td>1997-12-26</td>\n",
       "      <td>feminino</td>\n",
       "      <td>am</td>\n",
       "      <td>s</td>\n",
       "      <td>mestrado/doutorado</td>\n",
       "      <td>computação gráfica</td>\n",
       "      <td>6.0</td>\n",
       "      <td>15.0</td>\n",
       "      <td>11.0</td>\n",
       "      <td>2016</td>\n",
       "      <td>inteligência artificial</td>\n",
       "      <td>computacao</td>\n",
       "    </tr>\n",
       "  </tbody>\n",
       "</table>\n",
       "</div>"
      ],
      "text/plain": [
       "        idade       sexo estado presença               cargo  \\\n",
       "0  1989-11-29  masculino     ce        s  mestrado/doutorado   \n",
       "1  1995-02-23  masculino     rs        s  mestrado/doutorado   \n",
       "2  1991-12-13  masculino     sp        s  mestrado/doutorado   \n",
       "3  1986-09-29  masculino     pa        s  mestrado/doutorado   \n",
       "4  1997-12-26   feminino     am        s  mestrado/doutorado   \n",
       "\n",
       "                           especialidade  matematica  fund_computacao  \\\n",
       "0                   teoria da computação        14.0             21.0   \n",
       "1  metodologias e técnicas de computação        16.0             22.0   \n",
       "2                 engenharia de software         4.0             16.0   \n",
       "3                 sistemas de informação         4.0             13.0   \n",
       "4                     computação gráfica         6.0             15.0   \n",
       "\n",
       "   tec_computacao   ano         linhas_pesquisas area_concentration  \n",
       "0            10.0  2016   sistemas de informação        informatica  \n",
       "1            12.0  2016   engenharia de software        informatica  \n",
       "2             8.0  2016   engenharia de software        informatica  \n",
       "3             7.0  2016   sistemas de informação        informatica  \n",
       "4            11.0  2016  inteligência artificial         computacao  "
      ]
     },
     "execution_count": 2,
     "metadata": {},
     "output_type": "execute_result"
    }
   ],
   "source": [
    "dados = pd.read_csv('../dados/processed/dados_poscomp_completo_test.csv')\n",
    "# dados = dados.drop(columns='INSCRICAO')\n",
    "dados.head()"
   ]
  },
  {
   "cell_type": "markdown",
   "id": "adc24407-a1c3-47a2-83fd-46b4a301f952",
   "metadata": {},
   "source": [
    "> ### Sexo\t\n",
    "> ***\n",
    "\n",
    "|Código|Descrição|\n",
    "|---|---|\n",
    "|1|Masculino|\n",
    "|0|Feminino|\n",
    "\n",
    "> ### UF\n",
    "> ***\n",
    "\n",
    "|Código|Descrição|\n",
    "|---|---|\n",
    "|0|AC|\n",
    "|1|AL|\n",
    "|2|AP|\n",
    "|3|AM|\n",
    "|4|BA|\n",
    "|5|CE|\n",
    "|6|DF|\n",
    "|7|ES|\n",
    "|8|GO|\n",
    "|9|MA|\n",
    "|10|MT|\n",
    "|11|MS|\n",
    "|12|MG|\n",
    "|13|PA|\n",
    "|14|PB|\n",
    "|15|PR|\n",
    "|16|PE|\n",
    "|17|PI|\n",
    "|18|RJ|\n",
    "|19|RN|\n",
    "|20|RS|\n",
    "|21|RO|\n",
    "|22|RR|\n",
    "|23|SC|\n",
    "|24|SP|\n",
    "|25|SE|\n",
    "|26|TO|\n",
    "\n",
    "> ### Cargo\n",
    "> ***\n",
    "\n",
    "|Código|Descrição|\n",
    "|---|---|\n",
    "|0|Mestrado/Doutorado|\n",
    "|1|Autoavaliação|\n",
    "\n",
    "> ### Região\n",
    "> ***\n",
    "\n",
    "|Código|Descrição|\n",
    "|---|---|\n",
    "|0|norte|\n",
    "|1|nordeste|\n",
    "|2|centro_oeste|\n",
    "|3|sudeste|\n",
    "|4|sul|\n",
    "\n",
    "> ### Situação\n",
    "> ***\n",
    "\n",
    "|Código|Descrição|\n",
    "|---|---|\n",
    "|0|Ausente|\n",
    "|1|Presente|"
   ]
  },
  {
   "cell_type": "markdown",
   "id": "3d9ab7a3-2caa-4c39-9f00-c865be3048ba",
   "metadata": {
    "tags": []
   },
   "source": [
    "## Analise Explorária dos Dados"
   ]
  },
  {
   "cell_type": "markdown",
   "id": "ba595867-bdfd-41e5-959b-a6d8915d2a5c",
   "metadata": {},
   "source": [
    "Quantas pessoas são do sexo masculino e feminino"
   ]
  },
  {
   "cell_type": "code",
   "execution_count": 3,
   "id": "0350e8b9-f9ff-492f-ad62-61775737194e",
   "metadata": {},
   "outputs": [
    {
     "data": {
      "text/html": [
       "<div>\n",
       "<style scoped>\n",
       "    .dataframe tbody tr th:only-of-type {\n",
       "        vertical-align: middle;\n",
       "    }\n",
       "\n",
       "    .dataframe tbody tr th {\n",
       "        vertical-align: top;\n",
       "    }\n",
       "\n",
       "    .dataframe thead th {\n",
       "        text-align: right;\n",
       "    }\n",
       "</style>\n",
       "<table border=\"1\" class=\"dataframe\">\n",
       "  <thead>\n",
       "    <tr style=\"text-align: right;\">\n",
       "      <th>Sexo</th>\n",
       "      <th>Frequência</th>\n",
       "      <th>Porcentagem (%)</th>\n",
       "    </tr>\n",
       "    <tr>\n",
       "      <th>sexo</th>\n",
       "      <th></th>\n",
       "      <th></th>\n",
       "    </tr>\n",
       "  </thead>\n",
       "  <tbody>\n",
       "    <tr>\n",
       "      <th>Masculino</th>\n",
       "      <td>11187</td>\n",
       "      <td>83.01</td>\n",
       "    </tr>\n",
       "    <tr>\n",
       "      <th>Feminino</th>\n",
       "      <td>2290</td>\n",
       "      <td>16.99</td>\n",
       "    </tr>\n",
       "  </tbody>\n",
       "</table>\n",
       "</div>"
      ],
      "text/plain": [
       "Sexo       Frequência  Porcentagem (%)\n",
       "sexo                                  \n",
       "Masculino       11187            83.01\n",
       "Feminino         2290            16.99"
      ]
     },
     "execution_count": 3,
     "metadata": {},
     "output_type": "execute_result"
    }
   ],
   "source": [
    "frequencia_sexo = dados['sexo'].value_counts() \n",
    "\n",
    "percentual_sexo = dados['sexo'].value_counts(normalize = True) * 100 \n",
    "\n",
    "dist_freq_qualitativas = pd.DataFrame({'Frequência': frequencia_sexo, 'Porcentagem (%)': percentual_sexo.round(2)})\n",
    "dist_freq_qualitativas.rename (index = {'masculino': 'Masculino', 'feminino': 'Feminino', 3: 'Total'}, inplace = True)\n",
    "dist_freq_qualitativas.rename_axis('Sexo', axis = 'columns', inplace = True)\n",
    "dist_freq_qualitativas"
   ]
  },
  {
   "cell_type": "markdown",
   "id": "ad71a728-b35d-4edf-989d-2a189e71bcbd",
   "metadata": {},
   "source": [
    "Qual a média, mediana e máximo?"
   ]
  },
  {
   "cell_type": "code",
   "execution_count": 4,
   "id": "22479d22-2c6a-4313-b7da-61cc6c42f10c",
   "metadata": {},
   "outputs": [],
   "source": [
    "estados = {\n",
    "    0: 'Acre',\n",
    "    1: 'Alagoas',\n",
    "    2: 'Amapá',\n",
    "    3: 'Amazonas',\n",
    "    4: 'Bahia',\n",
    "    5: 'Ceará',\n",
    "    6: 'Distrito Federal',\n",
    "    7: 'Espírito Santo',\n",
    "    8: 'Goiás',\n",
    "    9: 'Maranhão',\n",
    "    10: 'Mato Grosso',\n",
    "    11: 'Mato Grosso do Sul',\n",
    "    12: 'Minas Gerais',\n",
    "    13: 'Pará',\n",
    "    14: 'Paraíba',\n",
    "    15: 'Paraná',\n",
    "    16: 'Pernambuco',\n",
    "    17: 'Piauí',\n",
    "    18: 'Rio de Janeiro',\n",
    "    19: 'Rio Grande do Norte',\n",
    "    20: 'Rio Grande do Sul',\n",
    "    21: 'Rondônia',\n",
    "    22: 'Roraima',\n",
    "    23: 'Santa Catarina',\n",
    "    24: 'São Paulo',\n",
    "    25: 'Sergipe',\n",
    "    26: 'Tocantins'\n",
    "}\n"
   ]
  },
  {
   "cell_type": "code",
   "execution_count": 5,
   "id": "c55349e8-9315-44a2-aad1-a907a74c91d8",
   "metadata": {},
   "outputs": [],
   "source": [
    "regioes = {\n",
    "    0: 'Norte',\n",
    "    1: 'Nordeste',\n",
    "    2: 'Centro-Oeste',\n",
    "    3: 'Sudeste',\n",
    "    4: 'Sul'\n",
    "}"
   ]
  },
  {
   "cell_type": "code",
   "execution_count": 6,
   "id": "56d44096-2150-4684-a106-a199cf9f3e0c",
   "metadata": {},
   "outputs": [],
   "source": [
    "# renda_estatisticas_por_uf = dados.groupby(['estado']).agg({'matematica': ['mean', 'median', 'max', 'std'],\n",
    "#                                                             'fund_computacao': ['mean', 'median', 'max', 'std'],\n",
    "#                                                             'tec_computacao': ['mean', 'median', 'max', 'std']})\n",
    "# renda_estatisticas_por_uf.rename(index= estados)"
   ]
  },
  {
   "cell_type": "markdown",
   "id": "8f5a15fd-b198-492b-b7fb-a89b27f8b1d7",
   "metadata": {},
   "source": [
    "#### Geração de gráficos da áreas de matemática, fundamentos da computação e tecnologia da computação"
   ]
  },
  {
   "cell_type": "code",
   "execution_count": 7,
   "id": "6c2ce45d-b42a-477d-92e3-4cd883f4037c",
   "metadata": {},
   "outputs": [
    {
     "ename": "NameError",
     "evalue": "name 'estados_brasileiros' is not defined",
     "output_type": "error",
     "traceback": [
      "\u001b[0;31m---------------------------------------------------------------------------\u001b[0m",
      "\u001b[0;31mNameError\u001b[0m                                 Traceback (most recent call last)",
      "Cell \u001b[0;32mIn[7], line 4\u001b[0m\n\u001b[1;32m      1\u001b[0m media_estatisticas_por_uf \u001b[38;5;241m=\u001b[39m dados\u001b[38;5;241m.\u001b[39mgroupby([\u001b[38;5;124m'\u001b[39m\u001b[38;5;124mestado\u001b[39m\u001b[38;5;124m'\u001b[39m])\u001b[38;5;241m.\u001b[39magg({\u001b[38;5;124m'\u001b[39m\u001b[38;5;124mmatematica\u001b[39m\u001b[38;5;124m'\u001b[39m: [\u001b[38;5;124m'\u001b[39m\u001b[38;5;124mmean\u001b[39m\u001b[38;5;124m'\u001b[39m],\n\u001b[1;32m      2\u001b[0m                                                             \u001b[38;5;124m'\u001b[39m\u001b[38;5;124mfund_computacao\u001b[39m\u001b[38;5;124m'\u001b[39m: [\u001b[38;5;124m'\u001b[39m\u001b[38;5;124mmean\u001b[39m\u001b[38;5;124m'\u001b[39m],\n\u001b[1;32m      3\u001b[0m                                                             \u001b[38;5;124m'\u001b[39m\u001b[38;5;124mtec_computacao\u001b[39m\u001b[38;5;124m'\u001b[39m: [\u001b[38;5;124m'\u001b[39m\u001b[38;5;124mmean\u001b[39m\u001b[38;5;124m'\u001b[39m]})\n\u001b[0;32m----> 4\u001b[0m media_estatisticas_por_uf \u001b[38;5;241m=\u001b[39m media_estatisticas_por_uf\u001b[38;5;241m.\u001b[39mrename(index\u001b[38;5;241m=\u001b[39m\u001b[43mestados_brasileiros\u001b[49m)\n",
      "\u001b[0;31mNameError\u001b[0m: name 'estados_brasileiros' is not defined"
     ]
    }
   ],
   "source": [
    "# media_estatisticas_por_uf = dados.groupby(['estado']).agg({'matematica': ['mean'],\n",
    "#                                                             'fund_computacao': ['mean'],\n",
    "#                                                             'tec_computacao': ['mean']})\n",
    "# media_estatisticas_por_uf = media_estatisticas_por_uf.rename(index=estados_brasileiros)"
   ]
  },
  {
   "cell_type": "code",
   "execution_count": null,
   "id": "774bab73-e088-44c0-a5d3-c2c2f75ad20a",
   "metadata": {
    "tags": []
   },
   "outputs": [],
   "source": [
    "# por_sexo_estado = dados.groupby(['estado', 'sexo']).size().reset_index(name='candidatos')\n",
    "\n",
    "# por_sexo_estado['estado'] = por_sexo_estado['estado'].replace(estados_brasileiros)\n",
    "# por_sexo_estado['sexo'] = por_sexo_estado['sexo'].replace({'feminino': 'Feminino', 'masculino': 'Masculino'})\n",
    "\n",
    "# total_inscritos_sexo = por_sexo_estado['candidatos'].sum()\n",
    "\n",
    "# # Calcula a porcentagem de candidatos inscritos por região\n",
    "# por_sexo_estado['porcentagem'] = (por_sexo_estado['candidatos'] / total_inscritos_sexo) * 100\n",
    "# por_sexo_estado"
   ]
  },
  {
   "cell_type": "code",
   "execution_count": null,
   "id": "daf68d3b-c62a-4b2f-9e27-15c23083ae63",
   "metadata": {},
   "outputs": [],
   "source": [
    "# renda_estatisticas_por_regiao = dados.groupby(['regiao']).agg({'matematica': ['mean', 'median', 'max', 'std'],\n",
    "#                                                               'fund_computacao': ['mean', 'median', 'max', 'std'],\n",
    "#                                                               'tec_computacao': ['mean', 'median', 'max', 'std']})\n",
    "# renda_estatisticas_por_regiao.rename(index= regioes)"
   ]
  },
  {
   "cell_type": "code",
   "execution_count": 13,
   "id": "a9f03fd6-2dc6-4f3b-9f19-20f16eef90a0",
   "metadata": {
    "tags": []
   },
   "outputs": [],
   "source": [
    "dados_teste = dados.copy()"
   ]
  },
  {
   "cell_type": "markdown",
   "id": "1c2e420e-a06a-4571-b2a3-56422aebbf87",
   "metadata": {
    "tags": []
   },
   "source": [
    "## K-means"
   ]
  },
  {
   "cell_type": "code",
   "execution_count": 14,
   "id": "85e440cc-6d5b-4e20-9a4e-c50eac8ab4f3",
   "metadata": {},
   "outputs": [],
   "source": [
    "from sklearn.cluster import KMeans"
   ]
  },
  {
   "cell_type": "code",
   "execution_count": 15,
   "id": "63fd7d85-5e6b-4f2a-beeb-472144dedc32",
   "metadata": {},
   "outputs": [
    {
     "data": {
      "text/html": [
       "<div>\n",
       "<style scoped>\n",
       "    .dataframe tbody tr th:only-of-type {\n",
       "        vertical-align: middle;\n",
       "    }\n",
       "\n",
       "    .dataframe tbody tr th {\n",
       "        vertical-align: top;\n",
       "    }\n",
       "\n",
       "    .dataframe thead th {\n",
       "        text-align: right;\n",
       "    }\n",
       "</style>\n",
       "<table border=\"1\" class=\"dataframe\">\n",
       "  <thead>\n",
       "    <tr style=\"text-align: right;\">\n",
       "      <th></th>\n",
       "      <th>idade</th>\n",
       "      <th>sexo</th>\n",
       "      <th>estado</th>\n",
       "      <th>presença</th>\n",
       "      <th>cargo</th>\n",
       "      <th>especialidade</th>\n",
       "      <th>matematica</th>\n",
       "      <th>fund_computacao</th>\n",
       "      <th>tec_computacao</th>\n",
       "      <th>ano</th>\n",
       "      <th>linhas_pesquisas</th>\n",
       "      <th>area_concentration</th>\n",
       "    </tr>\n",
       "  </thead>\n",
       "  <tbody>\n",
       "    <tr>\n",
       "      <th>0</th>\n",
       "      <td>1989-11-29</td>\n",
       "      <td>masculino</td>\n",
       "      <td>ce</td>\n",
       "      <td>s</td>\n",
       "      <td>mestrado/doutorado</td>\n",
       "      <td>teoria da computação</td>\n",
       "      <td>14.0</td>\n",
       "      <td>21.0</td>\n",
       "      <td>10.0</td>\n",
       "      <td>2016</td>\n",
       "      <td>sistemas de informação</td>\n",
       "      <td>informatica</td>\n",
       "    </tr>\n",
       "    <tr>\n",
       "      <th>1</th>\n",
       "      <td>1995-02-23</td>\n",
       "      <td>masculino</td>\n",
       "      <td>rs</td>\n",
       "      <td>s</td>\n",
       "      <td>mestrado/doutorado</td>\n",
       "      <td>metodologias e técnicas de computação</td>\n",
       "      <td>16.0</td>\n",
       "      <td>22.0</td>\n",
       "      <td>12.0</td>\n",
       "      <td>2016</td>\n",
       "      <td>engenharia de software</td>\n",
       "      <td>informatica</td>\n",
       "    </tr>\n",
       "    <tr>\n",
       "      <th>2</th>\n",
       "      <td>1991-12-13</td>\n",
       "      <td>masculino</td>\n",
       "      <td>sp</td>\n",
       "      <td>s</td>\n",
       "      <td>mestrado/doutorado</td>\n",
       "      <td>engenharia de software</td>\n",
       "      <td>4.0</td>\n",
       "      <td>16.0</td>\n",
       "      <td>8.0</td>\n",
       "      <td>2016</td>\n",
       "      <td>engenharia de software</td>\n",
       "      <td>informatica</td>\n",
       "    </tr>\n",
       "    <tr>\n",
       "      <th>3</th>\n",
       "      <td>1986-09-29</td>\n",
       "      <td>masculino</td>\n",
       "      <td>pa</td>\n",
       "      <td>s</td>\n",
       "      <td>mestrado/doutorado</td>\n",
       "      <td>sistemas de informação</td>\n",
       "      <td>4.0</td>\n",
       "      <td>13.0</td>\n",
       "      <td>7.0</td>\n",
       "      <td>2016</td>\n",
       "      <td>sistemas de informação</td>\n",
       "      <td>informatica</td>\n",
       "    </tr>\n",
       "    <tr>\n",
       "      <th>4</th>\n",
       "      <td>1997-12-26</td>\n",
       "      <td>feminino</td>\n",
       "      <td>am</td>\n",
       "      <td>s</td>\n",
       "      <td>mestrado/doutorado</td>\n",
       "      <td>computação gráfica</td>\n",
       "      <td>6.0</td>\n",
       "      <td>15.0</td>\n",
       "      <td>11.0</td>\n",
       "      <td>2016</td>\n",
       "      <td>inteligência artificial</td>\n",
       "      <td>computacao</td>\n",
       "    </tr>\n",
       "  </tbody>\n",
       "</table>\n",
       "</div>"
      ],
      "text/plain": [
       "        idade       sexo estado presença               cargo  \\\n",
       "0  1989-11-29  masculino     ce        s  mestrado/doutorado   \n",
       "1  1995-02-23  masculino     rs        s  mestrado/doutorado   \n",
       "2  1991-12-13  masculino     sp        s  mestrado/doutorado   \n",
       "3  1986-09-29  masculino     pa        s  mestrado/doutorado   \n",
       "4  1997-12-26   feminino     am        s  mestrado/doutorado   \n",
       "\n",
       "                           especialidade  matematica  fund_computacao  \\\n",
       "0                   teoria da computação        14.0             21.0   \n",
       "1  metodologias e técnicas de computação        16.0             22.0   \n",
       "2                 engenharia de software         4.0             16.0   \n",
       "3                 sistemas de informação         4.0             13.0   \n",
       "4                     computação gráfica         6.0             15.0   \n",
       "\n",
       "   tec_computacao   ano         linhas_pesquisas area_concentration  \n",
       "0            10.0  2016   sistemas de informação        informatica  \n",
       "1            12.0  2016   engenharia de software        informatica  \n",
       "2             8.0  2016   engenharia de software        informatica  \n",
       "3             7.0  2016   sistemas de informação        informatica  \n",
       "4            11.0  2016  inteligência artificial         computacao  "
      ]
     },
     "execution_count": 15,
     "metadata": {},
     "output_type": "execute_result"
    }
   ],
   "source": [
    "dados_teste.head()"
   ]
  },
  {
   "cell_type": "code",
   "execution_count": 17,
   "id": "1801313a-6def-46f1-8aaa-514009c162d3",
   "metadata": {},
   "outputs": [],
   "source": [
    "dados_teste['idade'] = dados_teste.apply(Function.calculate_age, axis=1)"
   ]
  },
  {
   "cell_type": "code",
   "execution_count": 91,
   "id": "6ffd0185-4b26-476f-b082-6e4e08b4ffac",
   "metadata": {},
   "outputs": [
    {
     "data": {
      "text/html": [
       "<div>\n",
       "<style scoped>\n",
       "    .dataframe tbody tr th:only-of-type {\n",
       "        vertical-align: middle;\n",
       "    }\n",
       "\n",
       "    .dataframe tbody tr th {\n",
       "        vertical-align: top;\n",
       "    }\n",
       "\n",
       "    .dataframe thead th {\n",
       "        text-align: right;\n",
       "    }\n",
       "</style>\n",
       "<table border=\"1\" class=\"dataframe\">\n",
       "  <thead>\n",
       "    <tr style=\"text-align: right;\">\n",
       "      <th></th>\n",
       "      <th>idade</th>\n",
       "      <th>sexo</th>\n",
       "      <th>estado</th>\n",
       "      <th>especialidade</th>\n",
       "      <th>matematica</th>\n",
       "      <th>fund_computacao</th>\n",
       "      <th>tec_computacao</th>\n",
       "      <th>linhas_pesquisas</th>\n",
       "      <th>area_concentration</th>\n",
       "    </tr>\n",
       "  </thead>\n",
       "  <tbody>\n",
       "    <tr>\n",
       "      <th>0</th>\n",
       "      <td>27</td>\n",
       "      <td>masculino</td>\n",
       "      <td>ce</td>\n",
       "      <td>teoria da computação</td>\n",
       "      <td>14.0</td>\n",
       "      <td>21.0</td>\n",
       "      <td>10.0</td>\n",
       "      <td>sistemas de informação</td>\n",
       "      <td>informatica</td>\n",
       "    </tr>\n",
       "    <tr>\n",
       "      <th>1</th>\n",
       "      <td>21</td>\n",
       "      <td>masculino</td>\n",
       "      <td>rs</td>\n",
       "      <td>metodologias e técnicas de computação</td>\n",
       "      <td>16.0</td>\n",
       "      <td>22.0</td>\n",
       "      <td>12.0</td>\n",
       "      <td>engenharia de software</td>\n",
       "      <td>informatica</td>\n",
       "    </tr>\n",
       "    <tr>\n",
       "      <th>2</th>\n",
       "      <td>25</td>\n",
       "      <td>masculino</td>\n",
       "      <td>sp</td>\n",
       "      <td>engenharia de software</td>\n",
       "      <td>4.0</td>\n",
       "      <td>16.0</td>\n",
       "      <td>8.0</td>\n",
       "      <td>engenharia de software</td>\n",
       "      <td>informatica</td>\n",
       "    </tr>\n",
       "    <tr>\n",
       "      <th>3</th>\n",
       "      <td>30</td>\n",
       "      <td>masculino</td>\n",
       "      <td>pa</td>\n",
       "      <td>sistemas de informação</td>\n",
       "      <td>4.0</td>\n",
       "      <td>13.0</td>\n",
       "      <td>7.0</td>\n",
       "      <td>sistemas de informação</td>\n",
       "      <td>informatica</td>\n",
       "    </tr>\n",
       "    <tr>\n",
       "      <th>4</th>\n",
       "      <td>19</td>\n",
       "      <td>feminino</td>\n",
       "      <td>am</td>\n",
       "      <td>computação gráfica</td>\n",
       "      <td>6.0</td>\n",
       "      <td>15.0</td>\n",
       "      <td>11.0</td>\n",
       "      <td>inteligência artificial</td>\n",
       "      <td>computacao</td>\n",
       "    </tr>\n",
       "  </tbody>\n",
       "</table>\n",
       "</div>"
      ],
      "text/plain": [
       "   idade       sexo estado                          especialidade  matematica  \\\n",
       "0     27  masculino     ce                   teoria da computação        14.0   \n",
       "1     21  masculino     rs  metodologias e técnicas de computação        16.0   \n",
       "2     25  masculino     sp                 engenharia de software         4.0   \n",
       "3     30  masculino     pa                 sistemas de informação         4.0   \n",
       "4     19   feminino     am                     computação gráfica         6.0   \n",
       "\n",
       "   fund_computacao  tec_computacao         linhas_pesquisas area_concentration  \n",
       "0             21.0            10.0   sistemas de informação        informatica  \n",
       "1             22.0            12.0   engenharia de software        informatica  \n",
       "2             16.0             8.0   engenharia de software        informatica  \n",
       "3             13.0             7.0   sistemas de informação        informatica  \n",
       "4             15.0            11.0  inteligência artificial         computacao  "
      ]
     },
     "execution_count": 91,
     "metadata": {},
     "output_type": "execute_result"
    }
   ],
   "source": [
    "dataset_kmeans = dados_teste.drop(columns={'ano', 'presença', 'cargo'})\n",
    "dataset_kmeans.head()"
   ]
  },
  {
   "cell_type": "markdown",
   "id": "ce83be14-6820-41a2-9549-5d46529aca6c",
   "metadata": {},
   "source": [
    "### Padronizando os dados"
   ]
  },
  {
   "cell_type": "code",
   "execution_count": 92,
   "id": "6ff6133a-b5ca-42f9-b8d3-a5bb4bedf626",
   "metadata": {},
   "outputs": [],
   "source": [
    "def encode_categorical_columns(df, columns):\n",
    "    le = LabelEncoder()\n",
    "    for col in columns:\n",
    "        df[col] = le.fit_transform(df[col])\n",
    "    return df\n",
    "\n",
    "categorical_columns = ['sexo','estado','especialidade', 'area_concentration','linhas_pesquisas']\n",
    "X_dataset = encode_categorical_columns(dataset_kmeans, categorical_columns)"
   ]
  },
  {
   "cell_type": "code",
   "execution_count": 107,
   "id": "62247686-9cb9-4595-882a-8f4f1a116112",
   "metadata": {},
   "outputs": [
    {
     "data": {
      "image/png": "[encoded data removed]",
      "text/plain": [
       "<Figure size 640x480 with 2 Axes>"
      ]
     },
     "metadata": {},
     "output_type": "display_data"
    }
   ],
   "source": [
    "sns.heatmap(X_dataset.corr(), annot=True,annot_kws={\"size\": 7})\n",
    "plt.show()"
   ]
  },
  {
   "cell_type": "code",
   "execution_count": 81,
   "id": "92fe0526-1daf-4ea5-a2b6-67c41d957c46",
   "metadata": {},
   "outputs": [],
   "source": [
    "from sklearn import preprocessing\n",
    "\n",
    "min_max_scaler = preprocessing.MinMaxScaler()\n",
    "X_dataset = min_max_scaler.fit_transform(X_dataset)"
   ]
  },
  {
   "cell_type": "markdown",
   "id": "e066e2c9-dc29-4c6a-8298-3e515de544f2",
   "metadata": {
    "tags": []
   },
   "source": [
    "### Encontrar o número ideal de cluster"
   ]
  },
  {
   "cell_type": "code",
   "execution_count": 82,
   "id": "23ffd5bf-db82-47fb-b629-57c3c08b80c4",
   "metadata": {},
   "outputs": [
    {
     "data": {
      "image/png": "[encoded data removed]",
      "text/plain": [
       "<Figure size 640x480 with 1 Axes>"
      ]
     },
     "metadata": {},
     "output_type": "display_data"
    }
   ],
   "source": [
    "inertias = []\n",
    "for k in range(1, 11):\n",
    "    kmeans = KMeans(n_clusters=k, n_init=10)\n",
    "    kmeans.fit(X_dataset)\n",
    "\n",
    "    inertias.append(kmeans.inertia_)\n",
    "plt.plot(range(1, 11), inertias)\n",
    "plt.xlabel('Number of clusters')\n",
    "plt.ylabel('Inertia')\n",
    "plt.show()"
   ]
  },
  {
   "cell_type": "code",
   "execution_count": 83,
   "id": "e04c3b56-6db6-4787-a0ac-48edfcea7143",
   "metadata": {},
   "outputs": [
    {
     "data": {
      "image/png": "[encoded data removed]",
      "text/plain": [
       "<Figure size 640x480 with 1 Axes>"
      ]
     },
     "metadata": {},
     "output_type": "display_data"
    }
   ],
   "source": [
    "from sklearn.metrics import silhouette_score\n",
    "\n",
    "scores = []\n",
    "\n",
    "for k in range(2, 11):\n",
    "    kmeans = KMeans(n_clusters=k, n_init=10)\n",
    "    kmeans.fit(X_dataset)\n",
    "\n",
    "    score = silhouette_score(X_dataset, kmeans.labels_)\n",
    "    scores.append(score)\n",
    "\n",
    "plt.plot(range(2, 11), scores)\n",
    "plt.xlabel('Number of clusters')\n",
    "plt.ylabel('Silhouette Score')\n",
    "plt.show()"
   ]
  },
  {
   "cell_type": "code",
   "execution_count": 84,
   "id": "bb1d210b-e89c-4692-8f64-d92e037c9169",
   "metadata": {},
   "outputs": [
    {
     "data": {
      "image/png": "[encoded data removed]",
      "text/plain": [
       "<Figure size 640x480 with 1 Axes>"
      ]
     },
     "metadata": {},
     "output_type": "display_data"
    }
   ],
   "source": [
    "from sklearn.mixture import GaussianMixture\n",
    "\n",
    "bic_values = []\n",
    "aic_values = []\n",
    "\n",
    "sns.set_palette([\"blue\", \"red\"])\n",
    "\n",
    "for k in range(1, 11):\n",
    "    gmm = GaussianMixture(n_components=k)\n",
    "    gmm.fit(X_dataset)\n",
    "    \n",
    "\n",
    "    bic_values.append(gmm.bic(X_dataset))\n",
    "    aic_values.append(gmm.aic(X_dataset))\n",
    "\n",
    "plt.plot(range(1, 11), bic_values, label=\"BIC\")\n",
    "plt.plot(range(1, 11), aic_values, label=\"AIC\")\n",
    "plt.xticks(fontsize=14)\n",
    "plt.yticks(fontsize=14)\n",
    "plt.ylabel('scores', fontsize=14)\n",
    "plt.xlabel('número de clusters', fontsize=14)\n",
    "legend = plt.legend(title='Critérios', fontsize=12)\n",
    "legend.get_title().set_fontsize(14)\n",
    "# plt.savefig('imagens/metodoBIC_AIC.eps', dpi=400, bbox_inches='tight', format='eps')\n",
    "plt.show()"
   ]
  },
  {
   "cell_type": "code",
   "execution_count": 85,
   "id": "a8d28931-49c5-4e95-b13a-6cc3400519fb",
   "metadata": {},
   "outputs": [],
   "source": [
    "wcss = []\n",
    "for i in range(1,11):\n",
    "    kmeans = KMeans(n_clusters=i,n_init='auto',max_iter=300,init='k-means++')\n",
    "    kmeans.fit(X_dataset)\n",
    "    wcss.append(kmeans.inertia_)"
   ]
  },
  {
   "cell_type": "code",
   "execution_count": 86,
   "id": "b821ea54-b686-483d-90e5-596f4a6664d8",
   "metadata": {},
   "outputs": [
    {
     "data": {
      "text/plain": [
       "Text(0, 0.5, 'WCSS')"
      ]
     },
     "execution_count": 86,
     "metadata": {},
     "output_type": "execute_result"
    },
    {
     "data": {
      "image/png": "[encoded data removed]",
      "text/plain": [
       "<Figure size 640x480 with 1 Axes>"
      ]
     },
     "metadata": {},
     "output_type": "display_data"
    }
   ],
   "source": [
    "plt.plot(wcss, 'bx-')\n",
    "plt.xlabel('Cluster')\n",
    "plt.ylabel('WCSS')"
   ]
  },
  {
   "cell_type": "markdown",
   "id": "3a768a55-e921-445d-bf6a-e9abcaf1e963",
   "metadata": {},
   "source": [
    "### Aplicação do K-meas"
   ]
  },
  {
   "cell_type": "code",
   "execution_count": 49,
   "id": "21f67ee9-9286-4a34-a6fb-209928932ae4",
   "metadata": {},
   "outputs": [],
   "source": [
    "# param_grid = {\n",
    "#     'n_clusters': [3, 4, 5, 6],\n",
    "#     'init': ['k-means++', 'random'],\n",
    "#     'n_init': [5, 10, 15],\n",
    "#     'max_iter': [100, 200, 300],\n",
    "#     'tol': [1e-4, 1e-3, 1e-2],\n",
    "#     'algorithm': ['auto', 'full', 'elkan'],\n",
    "# }\n",
    "\n",
    "# # Criar o objeto GridSearchCV\n",
    "# grid_search = GridSearchCV(estimator=model, param_grid=param_grid, cv=5, scoring='neg_mean_squared_error', n_jobs=-1)\n",
    "\n",
    "# # Realizar a busca em grade no conjunto de dados\n",
    "# grid_search.fit(X)\n",
    "\n",
    "# # Obter os melhores hiperparâmetros\n",
    "# best_params = grid_search.best_params_\n",
    "# print(\"Melhores Hiperparâmetros:\", best_params)"
   ]
  },
  {
   "cell_type": "code",
   "execution_count": 98,
   "id": "99ed46bc-4f0d-4f70-97a0-377ff13777e4",
   "metadata": {},
   "outputs": [],
   "source": [
    "model = KMeans(n_clusters=6)\n",
    "labels = model.fit(X_dataset)\n",
    "dados_teste.loc[:, 'cluster'] = model.predict(X_dataset)\n",
    "centroids = model.cluster_centers_"
   ]
  },
  {
   "cell_type": "code",
   "execution_count": 99,
   "id": "e321a5a4-0edf-45bc-b727-62de8b3850ea",
   "metadata": {},
   "outputs": [
    {
     "data": {
      "text/html": [
       "<div>\n",
       "<style scoped>\n",
       "    .dataframe tbody tr th:only-of-type {\n",
       "        vertical-align: middle;\n",
       "    }\n",
       "\n",
       "    .dataframe tbody tr th {\n",
       "        vertical-align: top;\n",
       "    }\n",
       "\n",
       "    .dataframe thead th {\n",
       "        text-align: right;\n",
       "    }\n",
       "</style>\n",
       "<table border=\"1\" class=\"dataframe\">\n",
       "  <thead>\n",
       "    <tr style=\"text-align: right;\">\n",
       "      <th></th>\n",
       "      <th>idade</th>\n",
       "      <th>sexo</th>\n",
       "      <th>estado</th>\n",
       "      <th>presença</th>\n",
       "      <th>cargo</th>\n",
       "      <th>especialidade</th>\n",
       "      <th>matematica</th>\n",
       "      <th>fund_computacao</th>\n",
       "      <th>tec_computacao</th>\n",
       "      <th>ano</th>\n",
       "      <th>linhas_pesquisas</th>\n",
       "      <th>area_concentration</th>\n",
       "      <th>cluster</th>\n",
       "    </tr>\n",
       "  </thead>\n",
       "  <tbody>\n",
       "    <tr>\n",
       "      <th>0</th>\n",
       "      <td>27</td>\n",
       "      <td>masculino</td>\n",
       "      <td>ce</td>\n",
       "      <td>s</td>\n",
       "      <td>mestrado/doutorado</td>\n",
       "      <td>teoria da computação</td>\n",
       "      <td>14.0</td>\n",
       "      <td>21.0</td>\n",
       "      <td>10.0</td>\n",
       "      <td>2016</td>\n",
       "      <td>sistemas de informação</td>\n",
       "      <td>informatica</td>\n",
       "      <td>0</td>\n",
       "    </tr>\n",
       "    <tr>\n",
       "      <th>1</th>\n",
       "      <td>21</td>\n",
       "      <td>masculino</td>\n",
       "      <td>rs</td>\n",
       "      <td>s</td>\n",
       "      <td>mestrado/doutorado</td>\n",
       "      <td>metodologias e técnicas de computação</td>\n",
       "      <td>16.0</td>\n",
       "      <td>22.0</td>\n",
       "      <td>12.0</td>\n",
       "      <td>2016</td>\n",
       "      <td>engenharia de software</td>\n",
       "      <td>informatica</td>\n",
       "      <td>4</td>\n",
       "    </tr>\n",
       "    <tr>\n",
       "      <th>2</th>\n",
       "      <td>25</td>\n",
       "      <td>masculino</td>\n",
       "      <td>sp</td>\n",
       "      <td>s</td>\n",
       "      <td>mestrado/doutorado</td>\n",
       "      <td>engenharia de software</td>\n",
       "      <td>4.0</td>\n",
       "      <td>16.0</td>\n",
       "      <td>8.0</td>\n",
       "      <td>2016</td>\n",
       "      <td>engenharia de software</td>\n",
       "      <td>informatica</td>\n",
       "      <td>3</td>\n",
       "    </tr>\n",
       "    <tr>\n",
       "      <th>3</th>\n",
       "      <td>30</td>\n",
       "      <td>masculino</td>\n",
       "      <td>pa</td>\n",
       "      <td>s</td>\n",
       "      <td>mestrado/doutorado</td>\n",
       "      <td>sistemas de informação</td>\n",
       "      <td>4.0</td>\n",
       "      <td>13.0</td>\n",
       "      <td>7.0</td>\n",
       "      <td>2016</td>\n",
       "      <td>sistemas de informação</td>\n",
       "      <td>informatica</td>\n",
       "      <td>0</td>\n",
       "    </tr>\n",
       "    <tr>\n",
       "      <th>4</th>\n",
       "      <td>19</td>\n",
       "      <td>feminino</td>\n",
       "      <td>am</td>\n",
       "      <td>s</td>\n",
       "      <td>mestrado/doutorado</td>\n",
       "      <td>computação gráfica</td>\n",
       "      <td>6.0</td>\n",
       "      <td>15.0</td>\n",
       "      <td>11.0</td>\n",
       "      <td>2016</td>\n",
       "      <td>inteligência artificial</td>\n",
       "      <td>computacao</td>\n",
       "      <td>1</td>\n",
       "    </tr>\n",
       "    <tr>\n",
       "      <th>...</th>\n",
       "      <td>...</td>\n",
       "      <td>...</td>\n",
       "      <td>...</td>\n",
       "      <td>...</td>\n",
       "      <td>...</td>\n",
       "      <td>...</td>\n",
       "      <td>...</td>\n",
       "      <td>...</td>\n",
       "      <td>...</td>\n",
       "      <td>...</td>\n",
       "      <td>...</td>\n",
       "      <td>...</td>\n",
       "      <td>...</td>\n",
       "    </tr>\n",
       "    <tr>\n",
       "      <th>13472</th>\n",
       "      <td>24</td>\n",
       "      <td>masculino</td>\n",
       "      <td>sp</td>\n",
       "      <td>s</td>\n",
       "      <td>mestrado/doutorado</td>\n",
       "      <td>engenharia de software</td>\n",
       "      <td>9.0</td>\n",
       "      <td>18.0</td>\n",
       "      <td>8.0</td>\n",
       "      <td>2019</td>\n",
       "      <td>engenharia de software</td>\n",
       "      <td>informatica</td>\n",
       "      <td>3</td>\n",
       "    </tr>\n",
       "    <tr>\n",
       "      <th>13473</th>\n",
       "      <td>25</td>\n",
       "      <td>masculino</td>\n",
       "      <td>es</td>\n",
       "      <td>s</td>\n",
       "      <td>mestrado/doutorado</td>\n",
       "      <td>inteligência artificial</td>\n",
       "      <td>10.0</td>\n",
       "      <td>16.0</td>\n",
       "      <td>6.0</td>\n",
       "      <td>2019</td>\n",
       "      <td>inteligência artificial</td>\n",
       "      <td>computacao</td>\n",
       "      <td>1</td>\n",
       "    </tr>\n",
       "    <tr>\n",
       "      <th>13474</th>\n",
       "      <td>24</td>\n",
       "      <td>masculino</td>\n",
       "      <td>rs</td>\n",
       "      <td>s</td>\n",
       "      <td>mestrado/doutorado</td>\n",
       "      <td>sistemas embarcados</td>\n",
       "      <td>13.0</td>\n",
       "      <td>17.0</td>\n",
       "      <td>5.0</td>\n",
       "      <td>2019</td>\n",
       "      <td>redes de computadores</td>\n",
       "      <td>informatica</td>\n",
       "      <td>4</td>\n",
       "    </tr>\n",
       "    <tr>\n",
       "      <th>13475</th>\n",
       "      <td>22</td>\n",
       "      <td>masculino</td>\n",
       "      <td>rs</td>\n",
       "      <td>n</td>\n",
       "      <td>mestrado/doutorado</td>\n",
       "      <td>engenharia de software</td>\n",
       "      <td>0.0</td>\n",
       "      <td>0.0</td>\n",
       "      <td>0.0</td>\n",
       "      <td>2019</td>\n",
       "      <td>engenharia de software</td>\n",
       "      <td>informatica</td>\n",
       "      <td>2</td>\n",
       "    </tr>\n",
       "    <tr>\n",
       "      <th>13476</th>\n",
       "      <td>22</td>\n",
       "      <td>masculino</td>\n",
       "      <td>sp</td>\n",
       "      <td>n</td>\n",
       "      <td>mestrado/doutorado</td>\n",
       "      <td>computação aplicada</td>\n",
       "      <td>0.0</td>\n",
       "      <td>0.0</td>\n",
       "      <td>0.0</td>\n",
       "      <td>2019</td>\n",
       "      <td>inteligência artificial</td>\n",
       "      <td>computacao</td>\n",
       "      <td>2</td>\n",
       "    </tr>\n",
       "  </tbody>\n",
       "</table>\n",
       "<p>13477 rows × 13 columns</p>\n",
       "</div>"
      ],
      "text/plain": [
       "       idade       sexo estado presença               cargo  \\\n",
       "0         27  masculino     ce        s  mestrado/doutorado   \n",
       "1         21  masculino     rs        s  mestrado/doutorado   \n",
       "2         25  masculino     sp        s  mestrado/doutorado   \n",
       "3         30  masculino     pa        s  mestrado/doutorado   \n",
       "4         19   feminino     am        s  mestrado/doutorado   \n",
       "...      ...        ...    ...      ...                 ...   \n",
       "13472     24  masculino     sp        s  mestrado/doutorado   \n",
       "13473     25  masculino     es        s  mestrado/doutorado   \n",
       "13474     24  masculino     rs        s  mestrado/doutorado   \n",
       "13475     22  masculino     rs        n  mestrado/doutorado   \n",
       "13476     22  masculino     sp        n  mestrado/doutorado   \n",
       "\n",
       "                               especialidade  matematica  fund_computacao  \\\n",
       "0                       teoria da computação        14.0             21.0   \n",
       "1      metodologias e técnicas de computação        16.0             22.0   \n",
       "2                     engenharia de software         4.0             16.0   \n",
       "3                     sistemas de informação         4.0             13.0   \n",
       "4                         computação gráfica         6.0             15.0   \n",
       "...                                      ...         ...              ...   \n",
       "13472                 engenharia de software         9.0             18.0   \n",
       "13473                inteligência artificial        10.0             16.0   \n",
       "13474                    sistemas embarcados        13.0             17.0   \n",
       "13475                 engenharia de software         0.0              0.0   \n",
       "13476                    computação aplicada         0.0              0.0   \n",
       "\n",
       "       tec_computacao   ano         linhas_pesquisas area_concentration  \\\n",
       "0                10.0  2016   sistemas de informação        informatica   \n",
       "1                12.0  2016   engenharia de software        informatica   \n",
       "2                 8.0  2016   engenharia de software        informatica   \n",
       "3                 7.0  2016   sistemas de informação        informatica   \n",
       "4                11.0  2016  inteligência artificial         computacao   \n",
       "...               ...   ...                      ...                ...   \n",
       "13472             8.0  2019   engenharia de software        informatica   \n",
       "13473             6.0  2019  inteligência artificial         computacao   \n",
       "13474             5.0  2019    redes de computadores        informatica   \n",
       "13475             0.0  2019   engenharia de software        informatica   \n",
       "13476             0.0  2019  inteligência artificial         computacao   \n",
       "\n",
       "       cluster  \n",
       "0            0  \n",
       "1            4  \n",
       "2            3  \n",
       "3            0  \n",
       "4            1  \n",
       "...        ...  \n",
       "13472        3  \n",
       "13473        1  \n",
       "13474        4  \n",
       "13475        2  \n",
       "13476        2  \n",
       "\n",
       "[13477 rows x 13 columns]"
      ]
     },
     "execution_count": 99,
     "metadata": {},
     "output_type": "execute_result"
    }
   ],
   "source": [
    "dados_teste"
   ]
  },
  {
   "cell_type": "code",
   "execution_count": 100,
   "id": "7e5c4d80-0c3c-4586-ae02-44bc0e89d452",
   "metadata": {
    "tags": []
   },
   "outputs": [
    {
     "name": "stdout",
     "output_type": "stream",
     "text": [
      "         cluster            especialidade       sexo estado  idade  count\n",
      "cluster                                                                  \n",
      "0              0   sistemas de computação  masculino     ma     24     19\n",
      "1              1  inteligência artificial  masculino     mg     22     51\n",
      "2              2  inteligência artificial  masculino     mg     24     12\n",
      "3              3  inteligência artificial  masculino     pr     22     46\n",
      "4              4   sistemas de computação  masculino     sp     24     19\n",
      "5              5   engenharia de software  masculino     sp     37      8\n"
     ]
    }
   ],
   "source": [
    "# Agrupar por cluster e especialidade, contando o número de ocorrências\n",
    "cluster_specialty_counts = dados_teste.groupby(['cluster', 'especialidade', 'sexo', 'estado', 'idade']).size().reset_index(name='count')\n",
    "\n",
    "# Encontrar a especialidade com a maior contagem para cada cluster\n",
    "max_specialties = cluster_specialty_counts.groupby('cluster').apply(lambda x: x.loc[x['count'].idxmax()])\n",
    "\n",
    "print(max_specialties)"
   ]
  },
  {
   "cell_type": "code",
   "execution_count": null,
   "id": "d660767a-b0c6-453b-81ed-28b33590ee19",
   "metadata": {
    "tags": []
   },
   "outputs": [],
   "source": [
    "from sklearn import metrics\n",
    "sse = model.inertia_\n",
    "silhouette_avg = metrics.silhouette_score(dataset_kmeans, labels)\n",
    "\n",
    "print(\"SSE:\", sse)\n",
    "print(\"Coeficiente de Silhueta:\", silhouette_avg)"
   ]
  },
  {
   "cell_type": "code",
   "execution_count": null,
   "id": "fa71c322-aff8-4387-a8de-5546280d6a56",
   "metadata": {
    "tags": []
   },
   "outputs": [],
   "source": [
    "import matplotlib.pyplot as plt\n",
    "from mpl_toolkits.mplot3d import Axes3D\n",
    "import seaborn as sns\n",
    "\n",
    "# sns.set_theme(style=\"whitegrid\")\n",
    "\n",
    "fig = plt.figure(figsize=(12, 10))\n",
    "ax = plt.axes(projection='3d')\n",
    "\n",
    "sctt = ax.scatter3D(dataset['matematica'], dataset['fundamentos_computacao'],\n",
    "                    dataset['tecnologia_computacao'], c=dataset['cluster'], cmap='seismic')\n",
    "\n",
    "ax.set_xlabel('Matemática', labelpad=10)\n",
    "ax.set_ylabel('Fundamentos da Computação', labelpad=10)\n",
    "fig.text(0.85, 0.5, 'Tecnologia da Computação', va='center', rotation='vertical', fontsize=12)\n",
    "\n",
    "legend1 = ax.legend(*sctt.legend_elements(), title='Grupo')\n",
    "ax.add_artist(legend1)\n",
    "\n",
    "# plt.savefig('imagens/grafico_kmeans.eps', dpi=300, bbox_inches='tight', format='eps')\n",
    "\n",
    "plt.show()"
   ]
  },
  {
   "cell_type": "markdown",
   "id": "40855940-f3a1-4975-8bda-3f71e7582369",
   "metadata": {
    "jp-MarkdownHeadingCollapsed": true
   },
   "source": [
    "#### Metricas do desempenho do algoritmo"
   ]
  },
  {
   "cell_type": "code",
   "execution_count": null,
   "id": "6efc6ab1-d0f4-43e9-a661-4bfae8e61594",
   "metadata": {
    "tags": []
   },
   "outputs": [],
   "source": [
    "from sklearn.metrics import pairwise_distances\n",
    "\n",
    "# Soma dos Quadrados dos Erros (SSE):\n",
    "def calculate_sse(data, labels, centroids):\n",
    "    distances = pairwise_distances(data, centroids, metric='euclidean')\n",
    "    sse = 0\n",
    "    for i, label in enumerate(labels):\n",
    "        sse += distances[i][label] ** 2\n",
    "    return sse"
   ]
  },
  {
   "cell_type": "code",
   "execution_count": null,
   "id": "29efc5f4-4b29-4320-96e0-21a217947f2d",
   "metadata": {
    "tags": []
   },
   "outputs": [],
   "source": [
    "# Coeficiente de Silhueta:\n",
    "from sklearn.metrics import silhouette_score\n",
    "\n",
    "def calculate_silhouette(data, labels):\n",
    "    silhouette = silhouette_score(data, labels)\n",
    "    return silhouette"
   ]
  },
  {
   "cell_type": "code",
   "execution_count": null,
   "id": "275954a9-21d5-40bd-b3ae-c5a6fd7ad9b4",
   "metadata": {
    "tags": []
   },
   "outputs": [],
   "source": [
    "# Índice de Davies-Bouldin:\n",
    "def calculate_davies_bouldin(data, labels, centroids):\n",
    "    distances = pairwise_distances(centroids, centroids, metric='euclidean')\n",
    "    n_clusters = len(np.unique(labels))\n",
    "    cluster_distances = np.zeros(n_clusters)\n",
    "    for i in range(n_clusters):\n",
    "        cluster_points = data[labels == i]\n",
    "        centroid_distances = pairwise_distances(cluster_points, [centroids[i]], metric='euclidean')\n",
    "        cluster_distances[i] = np.mean(centroid_distances)\n",
    "    db_index = np.sum(distances) / np.max(cluster_distances)\n",
    "    return db_index\n"
   ]
  },
  {
   "cell_type": "code",
   "execution_count": null,
   "id": "4b46a289-3f2c-407c-bc83-fc3076764a8f",
   "metadata": {
    "tags": []
   },
   "outputs": [],
   "source": [
    "# Índice de Calinski-Harabasz:\n",
    "from sklearn.metrics import calinski_harabasz_score\n",
    "\n",
    "def calculate_calinski_harabasz(data, labels):\n",
    "    ch_index = calinski_harabasz_score(data, labels)\n",
    "    return ch_index\n"
   ]
  },
  {
   "cell_type": "code",
   "execution_count": null,
   "id": "700a9c1c-b676-4cb9-b865-4d54eb434221",
   "metadata": {
    "tags": []
   },
   "outputs": [],
   "source": [
    "# Índice de Dunn:\n",
    "import numpy as np\n",
    "\n",
    "def calculate_dunn(data, labels):\n",
    "    distances = pairwise_distances(data, metric='euclidean')\n",
    "    max_intra_cluster_distance = np.max([np.max(distances[labels == label][:, labels == label]) for label in np.unique(labels)])\n",
    "    min_inter_cluster_distance = np.min([np.min(distances[labels == label][:, labels != label]) for label in np.unique(labels)])\n",
    "    dunn_index = min_inter_cluster_distance / max_intra_cluster_distance\n",
    "    return dunn_index\n"
   ]
  },
  {
   "cell_type": "code",
   "execution_count": null,
   "id": "4887c5d4-8dc2-4063-8d60-d7ef5d396950",
   "metadata": {
    "tags": []
   },
   "outputs": [],
   "source": [
    "distances = pairwise_distances(X_dataset_kmeans, centroids, metric='euclidean')\n",
    "sse = np.sum(np.min(distances, axis=1))\n",
    "\n",
    "# Calcular Coeficiente de Silhueta\n",
    "silhouette = silhouette_score(X_dataset_kmeans, labels)\n",
    "\n",
    "# Calcular Índice de Davies-Bouldin\n",
    "davies_bouldin = calculate_davies_bouldin(X_dataset_kmeans, labels, centroids)\n",
    "\n",
    "# Calcular Índice de Calinski-Harabasz\n",
    "calinski_harabasz = calinski_harabasz_score(X_dataset_kmeans, labels)\n",
    "\n",
    "# Calcular Índice de Dunn\n",
    "dunn = calculate_dunn(X_dataset_kmeans, labels)\n",
    "\n",
    "# Imprimir os resultados\n",
    "print(f\"SSE: {sse}\")\n",
    "print(f\"Coeficiente de Silhueta: {silhouette}\")\n",
    "print(f\"Índice de Davies-Bouldin: {davies_bouldin}\")\n",
    "print(f\"Índice de Calinski-Harabasz: {calinski_harabasz}\")\n",
    "print(f\"Índice de Dunn: {dunn}\")"
   ]
  },
  {
   "cell_type": "code",
   "execution_count": null,
   "id": "740e1312-d3df-42e0-8a7d-699592cd1acb",
   "metadata": {
    "tags": []
   },
   "outputs": [],
   "source": [
    "import matplotlib.colors as mcolors\n",
    "column_labels = {\n",
    "    'matematica': 'Matemática',\n",
    "    'fundamentos_computacao': 'Fundamentos da Computação',\n",
    "    'tecnologia_computacao': 'Tecnologia da Computação'\n",
    "}\n",
    "colors = ['#E30000', '#0000BC', ]  # Azul e Vermelho\n",
    "\n",
    "cmap = mcolors.LinearSegmentedColormap.from_list('custom_seismic', colors, N=dataset['cluster'].nunique())\n",
    "\n",
    "fig, axes = plt.subplots(nrows=1, ncols=3, figsize=(12, 4))\n",
    "\n",
    "for i, coluna in enumerate(['matematica', 'fundamentos_computacao', 'tecnologia_computacao']):\n",
    "    ax = axes[i]\n",
    "    \n",
    "    for idx, cluster in enumerate(dataset['cluster'].unique()):\n",
    "        subset = dataset[dataset['cluster'] == cluster]\n",
    "        color = colors[idx]  # Seleciona a cor da paleta 'seismic' para cada cluster\n",
    "        ax.hist(subset[coluna], bins=10, alpha=0.5, label=f'Cluster {cluster}', color=color)\n",
    "    \n",
    "    # ax.set_title(f'Histograma de {coluna} por cluster')\n",
    "    ax.set_xlabel(column_labels[coluna], fontsize=18)\n",
    "    ax.set_ylabel('Frequência', fontsize=18)\n",
    "    ax.legend(fontsize=12)\n",
    "    ax.tick_params(axis='both', which='major', labelsize=14)  # Definir tamanho dos rótulos dos eixo\n",
    "\n",
    "\n",
    "plt.tight_layout()\n",
    "\n",
    "plt.savefig('imagens/histograma', dpi=600, bbox_inches='tight')\n",
    "\n",
    "plt.show()\n"
   ]
  },
  {
   "cell_type": "code",
   "execution_count": null,
   "id": "80ad2e5d-d420-4b87-af39-e541efd0014e",
   "metadata": {
    "tags": []
   },
   "outputs": [],
   "source": [
    "import pandas as pd\n",
    "import matplotlib.pyplot as plt\n",
    "\n",
    "disciplinas = ['Matemática Discreta', 'Cálculo Diferencial e Integral', 'Álgebra Linear', 'Geometria Analítica',\n",
    "               'Análise Combinatória', 'Probabilidade e Estatística', 'Lógica Matemática',\n",
    "               'Organização de Arquivos e Dados', 'Técnicas de Programação', 'Circuitos Digitais',\n",
    "               'Análise de Algoritmos', 'Teoria dos Grafos', 'Linguagens Formais, Autômatos e Computabilidade',\n",
    "               'Algoritmos e Estruturas de Dados', 'Linguagens de Programação', 'Sistemas Operacionais',\n",
    "               'Arquitetura e Organização de Computadores', 'Redes de Computadores', 'Computação Gráfica',\n",
    "               'Inteligência Artificial', 'Engenharia de Software', 'Sistemas Distribuídos', 'Compiladores',\n",
    "               'Processamento de Imagens', 'Banco de Dados']\n",
    "\n",
    "num_disciplinas = len(disciplinas)\n",
    "num_clusters = len(dataset['cluster'].unique())\n",
    "\n",
    "# Definindo as cores da paleta 'seismic' para representar os clusters\n",
    "cluster_colors = ['b', 'r']\n",
    "\n",
    "fig, axes = plt.subplots(nrows=5, ncols=5, figsize=(16, 16))\n",
    "\n",
    "for i, disciplina in enumerate(disciplinas):\n",
    "    row = i // 5\n",
    "    col = i % 5\n",
    "    ax = axes[row, col]\n",
    "    for cluster, color in zip(range(num_clusters), cluster_colors):\n",
    "        data = dataset[dataset['cluster'] == cluster]\n",
    "        mean_by_year = data.groupby('ANO')[disciplina].mean()\n",
    "        max_mean = mean_by_year.max()  # Encontra o valor máximo nas médias para normalização\n",
    "        normalized_mean = mean_by_year / max_mean * 100  # Normaliza as médias em porcentagem\n",
    "        ax.plot(normalized_mean.index, normalized_mean.values, marker='o', label=f'Cluster {cluster}', color=color)\n",
    "    \n",
    "    ax.set_title(disciplina)\n",
    "    ax.set_xlabel('Ano')\n",
    "    ax.set_ylabel('Média de Desempenho (%)')\n",
    "    ax.legend()\n",
    "\n",
    "if num_disciplinas < 25:\n",
    "    for i in range(num_disciplinas, 25):\n",
    "        row = i // 5\n",
    "        col = i % 5\n",
    "        fig.delaxes(axes[row, col])\n",
    "\n",
    "plt.tight_layout()\n",
    "plt.savefig('imagens/desempenhoCluster.eps', dpi=600)\n",
    "plt.show()\n"
   ]
  },
  {
   "cell_type": "code",
   "execution_count": null,
   "id": "4bc3a24a-2007-44e0-8041-877449919f2c",
   "metadata": {
    "tags": []
   },
   "outputs": [],
   "source": [
    "disciplinas = ['Matemática Discreta',\n",
    " 'Cálculo Diferencial e Integral',\n",
    " 'Álgebra Linear',\n",
    " 'Geometria Analítica',\n",
    " 'Análise Combinatória',\n",
    " 'Probabilidade e Estatística',\n",
    " 'Lógica Matemática',\n",
    " 'Organização de Arquivos e Dados',\n",
    " 'Técnicas de Programação',\n",
    " 'Circuitos Digitais',\n",
    " 'Análise de Algoritmos',\n",
    " 'Teoria dos Grafos',\n",
    " 'Linguagens Formais, Autômatos e Computabilidade',\n",
    " 'Algoritmos e Estruturas de Dados',\n",
    " 'Linguagens de Programação',\n",
    " 'Sistemas Operacionais',\n",
    " 'Arquitetura e Organização de Computadores',\n",
    " 'Redes de Computadores',\n",
    " 'Computação Gráfica',\n",
    " 'Inteligência Artificial',\n",
    " 'Engenharia de Software',\n",
    " 'Sistemas Distribuídos',\n",
    " 'Compiladores',\n",
    " 'Processamento de Imagens',\n",
    " 'Banco de Dados']\n",
    "\n",
    "num_disciplinas = len(disciplinas)\n",
    "num_clusters = len(dataset['cluster'].unique())\n",
    "\n",
    "# Definindo as cores da paleta 'seismic' para representar os clusters\n",
    "cluster_colors = ['b', 'r']\n",
    "\n",
    "fig, axes = plt.subplots(nrows=5, ncols=5, figsize=(16, 16))\n",
    "\n",
    "for i, disciplina in enumerate(disciplinas):\n",
    "    row = i // 5\n",
    "    col = i % 5\n",
    "    ax = axes[row, col]\n",
    "    for cluster, color in zip(range(num_clusters), cluster_colors):\n",
    "        data = dataset[dataset['cluster'] == cluster]\n",
    "        mean_by_year = data.groupby('ANO')[disciplina].mean()\n",
    "        ax.plot(mean_by_year.index, mean_by_year.values, marker='o', label=f'Cluster {cluster}', color=color)\n",
    "    \n",
    "    ax.set_title(disciplina)\n",
    "    ax.set_xlabel('Ano')\n",
    "    ax.set_ylabel('Média de Desempenho')\n",
    "    ax.legend()\n",
    "\n",
    "if num_disciplinas < 25:\n",
    "    for i in range(num_disciplinas, 25):\n",
    "        row = i // 5\n",
    "        col = i % 5\n",
    "        fig.delaxes(axes[row, col])\n",
    "\n",
    "plt.tight_layout()\n",
    "plt.savefig('imagens/desempenhoCluster.eps', dpi=600)\n",
    "plt.show()\n"
   ]
  },
  {
   "cell_type": "code",
   "execution_count": null,
   "id": "785b5602-c387-49a4-9003-29d1a36c201b",
   "metadata": {
    "tags": []
   },
   "outputs": [],
   "source": [
    "# Calcular a média do desempenho por grupo (por exemplo, gênero)\n",
    "mean_performance_by_gender = dataset.groupby('SEXO')[['matematica', 'fundamentos_computacao', 'tecnologia_computacao']].mean()\n",
    "print(mean_performance_by_gender)"
   ]
  },
  {
   "cell_type": "code",
   "execution_count": null,
   "id": "56078f7f-ad83-4757-bef8-76c56522c9df",
   "metadata": {
    "tags": []
   },
   "outputs": [],
   "source": [
    "mean_math_by_presence = dados.groupby('PRESENTE')['matematica'].mean()\n",
    "print(mean_math_by_presence)"
   ]
  },
  {
   "cell_type": "code",
   "execution_count": null,
   "id": "93a63c31-b690-4fa0-87e1-d4278da6ccb1",
   "metadata": {
    "tags": []
   },
   "outputs": [],
   "source": [
    "# Calcular as estatísticas descritivas das variáveis em cada cluster\n",
    "cluster_stats = dataset.groupby('cluster')[['matematica', 'fundamentos_computacao', 'tecnologia_computacao']].describe()\n",
    "cluster_stats"
   ]
  },
  {
   "cell_type": "code",
   "execution_count": null,
   "id": "f3d0fbc1-4144-453b-a1e7-7a045b737f88",
   "metadata": {
    "tags": []
   },
   "outputs": [],
   "source": [
    "cluster_corr = dataset.groupby('cluster')[['matematica', 'fundamentos_computacao', 'tecnologia_computacao']].corr()\n",
    "\n",
    "sns.heatmap(cluster_corr, annot=True)\n",
    "plt.title('Matriz de correlação por cluster')\n",
    "plt.show()\n"
   ]
  },
  {
   "cell_type": "markdown",
   "id": "9cee8870-f38a-45d1-a160-37d6b5669bae",
   "metadata": {
    "tags": []
   },
   "source": [
    "### Analise"
   ]
  },
  {
   "cell_type": "code",
   "execution_count": null,
   "id": "ef7ecc2f-314b-4d10-9371-7074f0de7dff",
   "metadata": {
    "tags": []
   },
   "outputs": [],
   "source": [
    "def create_bar_chart(data, x, y, xlabel='', ylabel='', figsize=(0, 0), rotation=0, fontsize=0, save_path=None):\n",
    "    sns.set_style(style=\"ticks\")\n",
    "    plt.figure(figsize=figsize)\n",
    "\n",
    "    sns.barplot(\n",
    "        x=x,\n",
    "        y=y,\n",
    "        data=data,\n",
    "        color='#0000BC'\n",
    "    )\n",
    "\n",
    "    plt.xlabel(xlabel, fontsize=fontsize)\n",
    "    plt.ylabel(ylabel, fontsize=fontsize)\n",
    "    plt.xticks(rotation=rotation, fontsize=fontsize)\n",
    "    plt.yticks(fontsize=fontsize)\n",
    "    plt.tight_layout()\n",
    "\n",
    "    if save_path:\n",
    "        plt.savefig(save_path, dpi=600, bbox_inches='tight')\n",
    "\n",
    "    plt.show()"
   ]
  },
  {
   "cell_type": "code",
   "execution_count": null,
   "id": "56c81041-3dac-4810-8ed5-983de5ee8349",
   "metadata": {
    "tags": []
   },
   "outputs": [],
   "source": [
    "def create_bar_chart_porcent(data, x, y, xlabel='', ylabel='', figsize=(8, 4), fontsize=12, save_path=None):\n",
    "    sns.set_style(style=\"ticks\")\n",
    "    plt.figure(figsize=figsize)\n",
    "\n",
    "    total = data[y].sum()\n",
    "    data['porcentagem'] = (data[y] / total) * 100\n",
    "\n",
    "    sns.barplot(\n",
    "        x='porcentagem', \n",
    "        y=x,\n",
    "        data=data,\n",
    "        color='#69b3a2'\n",
    "    )\n",
    "    plt.xlim(right=10)\n",
    "\n",
    "    plt.xlabel(xlabel, fontsize=fontsize)\n",
    "    plt.ylabel(ylabel, fontsize=fontsize)\n",
    "    plt.xticks(fontsize=fontsize)\n",
    "    plt.yticks(fontsize=fontsize)\n",
    "    plt.tight_layout() \n",
    "\n",
    "    for index, row in data.iterrows():\n",
    "        plt.text(row.porcentagem, index, f'{row.porcentagem:.2f}%', ha='left', va='center', fontsize=fontsize)\n",
    "\n",
    "    if save_path:\n",
    "        plt.savefig(save_path, dpi=600, bbox_inches='tight')\n",
    "\n",
    "    plt.show()\n"
   ]
  },
  {
   "cell_type": "code",
   "execution_count": null,
   "id": "62cefc43-6bae-4cce-a1a5-78620592a7ae",
   "metadata": {
    "tags": []
   },
   "outputs": [],
   "source": [
    "temas = ['Matemática Discreta', 'Cálculo Diferencial e Integral',\n",
    "       'Álgebra Linear', 'Geometria Analítica', 'Análise Combinatória',\n",
    "       'Probabilidade e Estatística', 'Lógica Matemática',\n",
    "       'Organização de Arquivos e Dados', 'Técnicas de Programação',\n",
    "       'Circuitos Digitais', 'Análise de Algoritmos', 'Teoria dos Grafos',\n",
    "       'Linguagens Formais, Autômatos e Computabilidade',\n",
    "       'Algoritmos e Estruturas de Dados', 'Linguagens de Programação',\n",
    "       'Sistemas Operacionais', 'Arquitetura e Organização de Computadores',\n",
    "       'Redes de Computadores', 'Computação Gráfica',\n",
    "       'Inteligência Artificial', 'Engenharia de Software',\n",
    "       'Sistemas Distribuídos', 'Compiladores', 'Processamento de Imagens',\n",
    "       'Banco de Dados']"
   ]
  },
  {
   "cell_type": "code",
   "execution_count": null,
   "id": "cc6b9da5-dd33-46fe-bdf2-4eac4c2efde3",
   "metadata": {
    "tags": []
   },
   "outputs": [],
   "source": [
    "media_disciplina = dataset.iloc[:,3:28]\n",
    "# media_disciplina = pd.DataFrame(media_disciplina.mean().sort_values(ascending=False), columns=['media'])\n",
    "# media_disciplina = media_disciplina.reset_index()\n",
    "media_disciplina.head()"
   ]
  },
  {
   "cell_type": "code",
   "execution_count": null,
   "id": "fb74f5f4-9034-4e9e-93b1-f81e1c3dd1d3",
   "metadata": {
    "tags": []
   },
   "outputs": [],
   "source": [
    "for tema in temas:\n",
    "    media_disciplina[f'{tema}_AcertoAbsoluto'] = media_disciplina[tema]"
   ]
  },
  {
   "cell_type": "code",
   "execution_count": null,
   "id": "2d309f20-82fb-4a42-b494-18d384a4d40b",
   "metadata": {
    "tags": []
   },
   "outputs": [],
   "source": [
    "for tema in temas:\n",
    "    media_disciplina[f'{tema}_AcertoRelativo'] = media_disciplina[f'{tema}_AcertoAbsoluto'] / media_disciplina[tema].max() * 100"
   ]
  },
  {
   "cell_type": "code",
   "execution_count": null,
   "id": "efa60218-3d3a-4896-b59b-f1c3f5133840",
   "metadata": {
    "tags": []
   },
   "outputs": [],
   "source": [
    "media_acertos = {}\n",
    "for tema in temas:\n",
    "    media_acertos[tema] = media_disciplina[f'{tema}_AcertoRelativo'].mean()"
   ]
  },
  {
   "cell_type": "code",
   "execution_count": null,
   "id": "336f6acf-3ae2-40fa-b603-7fe25f1763e8",
   "metadata": {},
   "outputs": [],
   "source": [
    "media_acertos"
   ]
  },
  {
   "cell_type": "code",
   "execution_count": null,
   "id": "b28b590f-745e-4c08-87bd-2aee1e38ecd1",
   "metadata": {
    "tags": []
   },
   "outputs": [],
   "source": [
    "data = pd.DataFrame({'Tema': media_acertos.keys(), 'Média de Acerto (%)': media_acertos.values()})\n",
    "\n",
    "data = data.sort_values('Média de Acerto (%)', ascending=False)\n",
    "\n",
    "plt.figure(figsize=(10, 8))\n",
    "ax = sns.barplot(data=data, y='Tema', x='Média de Acerto (%)', color='#0000BC')\n",
    "plt.xlabel('Média de Acerto (%)', fontsize=14)\n",
    "plt.ylabel('')\n",
    "# plt.title('Média de Acerto por Tema')\n",
    "plt.xticks(fontsize=16)\n",
    "plt.yticks(fontsize=14)\n",
    "\n",
    "plt.xlim(right=100)\n",
    "\n",
    "for p in ax.patches:\n",
    "    ax.annotate(f'{p.get_width():.2f}%', (p.get_width(), p.get_y() + p.get_height() / 2),\n",
    "                ha='left', va='center', xytext=(5, 0), textcoords='offset points', fontsize=14)\n",
    "\n",
    "plt.tight_layout()\n",
    "plt.savefig('../imagens/disci_mediaGeral2.pdf', bbox_inches='tight')\n",
    "plt.show()"
   ]
  },
  {
   "cell_type": "code",
   "execution_count": null,
   "id": "cb187712-9c1b-4db3-b319-60974a2bc606",
   "metadata": {
    "tags": []
   },
   "outputs": [],
   "source": [
    "import pandas as pd\n",
    "\n",
    "# Calculando as estatísticas por cluster\n",
    "cluster_stats = dataset.groupby('cluster').agg(['mean', 'median', 'std', 'min', 'max'])\n",
    "\n",
    "# Exemplo de estatísticas para a variável 'matematica'\n",
    "statistics_matematica = cluster_stats['matematica']\n",
    "\n",
    "# Exemplo de estatísticas para a variável 'fundamentos_computacao'\n",
    "statistics_fundamentos = cluster_stats['fundamentos_computacao']\n",
    "\n",
    "statistics_tecnologia = cluster_stats['tecnologia_computacao']"
   ]
  },
  {
   "cell_type": "code",
   "execution_count": null,
   "id": "fb9f3056-4dfc-4a32-8624-f45dd2747ef1",
   "metadata": {
    "tags": []
   },
   "outputs": [],
   "source": [
    "statistics_matematica"
   ]
  },
  {
   "cell_type": "code",
   "execution_count": null,
   "id": "1c350e49-5678-4ebf-912d-7895d572076f",
   "metadata": {
    "tags": []
   },
   "outputs": [],
   "source": [
    "statistics_fundamentos"
   ]
  },
  {
   "cell_type": "code",
   "execution_count": null,
   "id": "635b2ced-1ae2-4ccd-a44c-3d20d37efe8b",
   "metadata": {
    "tags": []
   },
   "outputs": [],
   "source": [
    "statistics_tecnologia"
   ]
  },
  {
   "cell_type": "code",
   "execution_count": null,
   "id": "7b4c0137-c1ba-4926-8462-312502592fa5",
   "metadata": {
    "tags": []
   },
   "outputs": [],
   "source": [
    "import pandas as pd\n",
    "\n",
    "# Calculando as estatísticas por cluster\n",
    "cluster_stats = dataset.groupby('cluster').agg(['mean', 'median', 'std', 'min', 'max'])\n",
    "\n",
    "# Exemplo de estatísticas para a variável 'matematica'\n",
    "statistics_matematica = cluster_stats['matematica']\n",
    "\n",
    "# Exemplo de estatísticas para a variável 'fundamentos_computacao'\n",
    "statistics_fundamentos = cluster_stats['fundamentos_computacao']\n",
    "\n",
    "# Exemplo de estatísticas para a variável 'tecnologia_computacao'\n",
    "statistics_tecnologia = cluster_stats['tecnologia_computacao']\n",
    "\n",
    "# Exemplo de estatísticas para várias variáveis\n",
    "statistics_variaveis = cluster_stats[['matematica', 'fundamentos_computacao', 'tecnologia_computacao']]\n",
    "\n",
    "# Exemplo de estatísticas específicas para um cluster específico\n",
    "cluster1_stats = cluster_stats.loc[1]  # Estatísticas para o Cluster 1\n",
    "\n",
    "# Exemplo de cálculo de proporção de cada cluster\n",
    "cluster_proportions = dataset['cluster'].value_counts(normalize=True)\n",
    "\n",
    "# Exemplo de estatísticas gerais do dataset inteiro\n",
    "dataset_stats = dataset.describe()\n"
   ]
  },
  {
   "cell_type": "code",
   "execution_count": null,
   "id": "54d26447-a5a3-4796-8834-9bcfe8640648",
   "metadata": {
    "tags": []
   },
   "outputs": [],
   "source": [
    "def plot_stacked_bar_chart(df, category_col, value_col, title, save_path=None):\n",
    "    top_specialties = df[category_col].value_counts().head(10).index.tolist()\n",
    "\n",
    "    df_top = df[df[category_col].isin(top_specialties)]\n",
    "\n",
    "    df_grouped = df_top.groupby([category_col, 'SEXO']).size().unstack()\n",
    "\n",
    "    df_grouped = df_grouped.loc[df_grouped.sum(axis=1).sort_values().index]\n",
    "\n",
    "    ax = df_grouped.plot(kind='barh', stacked=True, figsize=(10, 6))\n",
    "\n",
    "    ax.set_title(title)\n",
    "    plt.xlabel('')\n",
    "    plt.ylabel('')\n",
    "    plt.xticks(fontsize=18)\n",
    "    plt.yticks(fontsize=18)\n",
    "    plt.tight_layout() \n",
    "    ax.legend(['Feminino', 'Masculino'], loc='lower right')\n",
    "    \n",
    "    if save_path:\n",
    "        plt.savefig(save_path, dpi=600, bbox_inches='tight')\n",
    "\n",
    "    plt.show()"
   ]
  },
  {
   "cell_type": "code",
   "execution_count": null,
   "id": "d4cd18a1-5747-49ed-a907-f24c6b6496bb",
   "metadata": {
    "tags": []
   },
   "outputs": [],
   "source": [
    "def plot_faixa_etaria(dataset, save_path=None):\n",
    "    faixa_etaria_counts = dataset['IDADE'].value_counts().sort_index()\n",
    "\n",
    "    faixas_etarias = faixa_etaria_counts.index.tolist()\n",
    "\n",
    "    plt.bar(faixas_etarias, faixa_etaria_counts)\n",
    "\n",
    "    plt.xlabel('Faixa Etária')\n",
    "    plt.ylabel('Número de Candidatos')\n",
    "    plt.title('Distribuição de Faixa Etária dos Candidatos')\n",
    "    \n",
    "    if save_path:\n",
    "        plt.savefig(save_path, dpi=600, bbox_inches='tight')\n",
    "\n",
    "    plt.show()\n"
   ]
  },
  {
   "cell_type": "code",
   "execution_count": null,
   "id": "b7b9c631-d46a-497b-806c-394bdf4cb7fc",
   "metadata": {
    "tags": []
   },
   "outputs": [],
   "source": [
    "from sklearn.metrics import confusion_matrix, ConfusionMatrixDisplay"
   ]
  },
  {
   "cell_type": "code",
   "execution_count": null,
   "id": "0c4befe4-11c7-4f27-b5c6-e36011c335a9",
   "metadata": {
    "tags": []
   },
   "outputs": [],
   "source": [
    "cluster_nomeada = {\n",
    "    0: 'inteligência artificial',\n",
    "    1: 'engenharia de software'\n",
    "}"
   ]
  },
  {
   "cell_type": "code",
   "execution_count": null,
   "id": "9c885aad-ca5c-47f2-845d-c40eeda4b4c3",
   "metadata": {
    "tags": []
   },
   "outputs": [],
   "source": [
    "dataset_confusion = dataset.query('ESPECIALIDADE == \"inteligência artificial\" | ESPECIALIDADE == \"engenharia de software\"')"
   ]
  },
  {
   "cell_type": "code",
   "execution_count": null,
   "id": "9e71c122-ee40-436c-8fba-819fa57c7be5",
   "metadata": {
    "tags": []
   },
   "outputs": [],
   "source": [
    "dataset_confusion['cluster'] = dataset_confusion['cluster'].replace(cluster_nomeada)"
   ]
  },
  {
   "cell_type": "code",
   "execution_count": null,
   "id": "14a50b1c-812d-4c7c-a3e0-b19800aaa93e",
   "metadata": {
    "tags": []
   },
   "outputs": [],
   "source": [
    "dataset_confusion"
   ]
  },
  {
   "cell_type": "code",
   "execution_count": null,
   "id": "22580b2e-9d04-4d20-ab77-cb1aa2767b28",
   "metadata": {
    "tags": []
   },
   "outputs": [],
   "source": [
    "y_teste = dataset_confusion['ESPECIALIDADE']\n",
    "y_pred = dataset_confusion['cluster']"
   ]
  },
  {
   "cell_type": "code",
   "execution_count": null,
   "id": "371fed4e-a982-4a28-9899-d04c35ed8549",
   "metadata": {
    "tags": []
   },
   "outputs": [],
   "source": [
    "matriz_confusao = confusion_matrix(y_teste, y_pred)\n",
    "\n",
    "plt.figure(figsize=(8, 6))\n",
    "sns.heatmap(matriz_confusao, annot=True, fmt='d', cmap='Blues', cbar=False,\n",
    "            xticklabels=['inteligência artificial', 'engenharia de software'],\n",
    "            yticklabels=['inteligência artificial', 'engenharia de software'])\n",
    "plt.xlabel('Previsão')\n",
    "plt.ylabel('Rótulo Real')\n",
    "plt.title('Matriz de Confusão')\n",
    "plt.savefig('imagens/matriz_confusão.png', dpi=600)\n",
    "plt.show()"
   ]
  },
  {
   "cell_type": "code",
   "execution_count": null,
   "id": "882c1771-616c-430f-a954-749943e7498d",
   "metadata": {
    "tags": []
   },
   "outputs": [],
   "source": [
    "from sklearn.metrics import accuracy_score\n",
    "\n",
    "# Calcular a acurácia\n",
    "acuracia = accuracy_score(y_teste, y_pred)\n",
    "print(\"Acurácia:\", acuracia)"
   ]
  },
  {
   "cell_type": "code",
   "execution_count": null,
   "id": "6c82aac7-dea5-4532-bed7-9a5ba6bcfd5c",
   "metadata": {
    "tags": []
   },
   "outputs": [],
   "source": [
    "acuracia_porcentagem = acuracia * 100\n",
    "\n",
    "print(\"Acurácia:\", acuracia_porcentagem, \"%\")"
   ]
  },
  {
   "cell_type": "markdown",
   "id": "bc7188c6-c8da-440b-ab00-c41d4215d727",
   "metadata": {
    "tags": []
   },
   "source": [
    "#### Grupo 0"
   ]
  },
  {
   "cell_type": "code",
   "execution_count": null,
   "id": "7668822f-c58d-4101-9591-e86dd276a4f6",
   "metadata": {
    "tags": []
   },
   "outputs": [],
   "source": [
    "dataset_g0 = dataset.query('cluster == 0')"
   ]
  },
  {
   "cell_type": "code",
   "execution_count": null,
   "id": "1a16f8a5-b47b-4c6a-a773-ef390065b372",
   "metadata": {},
   "outputs": [],
   "source": [
    "especialidades_gZero = dataset_g0['ESPECIALIDADE'].value_counts()[:10]\n",
    "especialidades_gZero = pd.DataFrame(especialidades_gZero)"
   ]
  },
  {
   "cell_type": "code",
   "execution_count": null,
   "id": "88e9bbf1-fbcb-4e89-938e-2faaaf19f8e9",
   "metadata": {
    "tags": []
   },
   "outputs": [],
   "source": [
    "def create_bar_areas(data, x, y, xlabel='', ylabel='', figsize=(10, 4), rotation=0, fontsize=12, save_path=None):\n",
    "    sns.set_style(style=\"ticks\")\n",
    "    plt.figure(figsize=figsize)\n",
    "\n",
    "    # Plotar um gráfico de barras\n",
    "    sns.barplot(\n",
    "        x=x,\n",
    "        y=y,\n",
    "        data=data,\n",
    "        color='#0000BC'\n",
    "    )\n",
    "\n",
    "    plt.xlabel(xlabel, fontsize=fontsize)\n",
    "    plt.ylabel(ylabel, fontsize=fontsize)\n",
    "    plt.xticks(rotation=rotation, fontsize=fontsize)\n",
    "    plt.tight_layout()\n",
    "\n",
    "    if save_path:\n",
    "        plt.savefig(save_path, dpi=600, bbox_inches='tight')\n",
    "\n",
    "    plt.show()\n"
   ]
  },
  {
   "cell_type": "code",
   "execution_count": null,
   "id": "a193cce2-f1d2-4ad2-b0c0-5757dcc72d8d",
   "metadata": {
    "tags": []
   },
   "outputs": [],
   "source": [
    "create_bar_chart(\n",
    "    data=especialidades_gZero,\n",
    "    x='ESPECIALIDADE',\n",
    "    y=especialidades_gZero.index,\n",
    "    figsize=(8, 4),\n",
    "    rotation=0,\n",
    "    fontsize=18,\n",
    "    save_path='imagens/espec_grupoZero.eps'\n",
    ")"
   ]
  },
  {
   "cell_type": "code",
   "execution_count": null,
   "id": "72facf13-858d-4ef2-be2a-04e6d44085a9",
   "metadata": {
    "tags": []
   },
   "outputs": [],
   "source": [
    "media_disciplina_zero = dataset_g0.iloc[:,7:32]\n",
    "media_disciplina_zero = pd.DataFrame(media_disciplina_zero.mean().sort_values(ascending=False), columns=['media'])\n",
    "media_disciplina_zero = media_disciplina_zero.reset_index()"
   ]
  },
  {
   "cell_type": "code",
   "execution_count": null,
   "id": "be1607fb-5e64-4fdb-988e-c6c3aa45957f",
   "metadata": {
    "tags": []
   },
   "outputs": [],
   "source": [
    "grouped_data = dataset_g0.groupby('ESTADO')['ESPECIALIDADE'].value_counts()\n",
    "grouped_data"
   ]
  },
  {
   "cell_type": "code",
   "execution_count": null,
   "id": "1c933dfd-95fc-465f-9486-e06e98e99ad0",
   "metadata": {
    "tags": []
   },
   "outputs": [],
   "source": [
    "plot_stacked_bar_chart(dataset_g0, 'ESPECIALIDADE', 'SEXO', '', 'imagens/distribuicao_especialidade_sexo')"
   ]
  },
  {
   "cell_type": "code",
   "execution_count": null,
   "id": "d69a95ef-f072-46f0-b1ce-50f45036b17b",
   "metadata": {
    "tags": []
   },
   "outputs": [],
   "source": [
    "# import pandas as pd\n",
    "\n",
    "# # Substituir os valores numéricos dos estados pelos nomes\n",
    "# dataset_g0['ESTADO'] = dataset_g0['ESTADO'].map(estados)\n",
    "\n",
    "# # Agrupar os dados por estado e especialidade, e contar as ocorrências\n",
    "# grouped_data = dataset_g0.groupby(['ESTADO', 'ESPECIALIDADE']).size().reset_index(name='Contagem')\n",
    "\n",
    "# # Criar um DataFrame para armazenar os resultados\n",
    "# resultados = pd.DataFrame(columns=['Estado', 'Especialidades'])\n",
    "\n",
    "# # Iterar sobre os estados\n",
    "# for estado in dataset_g0['ESTADO'].unique():\n",
    "#     # Filtrar os dados do estado atual\n",
    "#     df_estado = grouped_data[grouped_data['ESTADO'] == estado]\n",
    "    \n",
    "#     # Filtrar as quatro primeiras especialidades mais solicitadas\n",
    "#     top_especialidades = df_estado.nlargest(4, 'Contagem')\n",
    "    \n",
    "#     # Criar uma lista com as especialidades formatadas\n",
    "#     especialidades = [f\"{especialidade}: {contagem}\" for especialidade, contagem in zip(top_especialidades['ESPECIALIDADE'], top_especialidades['Contagem'])]\n",
    "    \n",
    "#     # Adicionar o resultado ao DataFrame\n",
    "#     resultados = resultados.append({'Estado': estado, 'Especialidades': ', '.join(especialidades)}, ignore_index=True)\n",
    "\n",
    "# # Exibir o DataFrame de resultados\n",
    "\n",
    "# resultados.to_csv('resultados.txt', sep='\\t', index=False)\n"
   ]
  },
  {
   "cell_type": "code",
   "execution_count": null,
   "id": "2c455f0a-7591-4fd1-a1f1-6dba9a8cb0e6",
   "metadata": {
    "tags": []
   },
   "outputs": [],
   "source": [
    "plot_faixa_etaria(dataset_g0, 'imagens/distribuicao_faixaEtaria')"
   ]
  },
  {
   "cell_type": "markdown",
   "id": "cc516ec3-b52d-48d9-a5be-705eff562bb3",
   "metadata": {
    "tags": []
   },
   "source": [
    "#### Grupo 1"
   ]
  },
  {
   "cell_type": "code",
   "execution_count": null,
   "id": "c23f6ba4-0d80-4a35-8477-d64ad39e087c",
   "metadata": {
    "tags": []
   },
   "outputs": [],
   "source": [
    "dataset_g1 = dataset.query('cluster == 1')"
   ]
  },
  {
   "cell_type": "code",
   "execution_count": null,
   "id": "33ba0530-0831-4236-ab74-0ff84d1126da",
   "metadata": {
    "tags": []
   },
   "outputs": [],
   "source": [
    "especialidades_gOne = dataset_g1['ESPECIALIDADE'].value_counts()[:10]\n",
    "especialidades_gOne = pd.DataFrame(especialidades_gOne)"
   ]
  },
  {
   "cell_type": "code",
   "execution_count": null,
   "id": "26e08867-1c18-415b-aca8-e9e002046036",
   "metadata": {
    "tags": []
   },
   "outputs": [],
   "source": [
    "create_bar_chart(\n",
    "    data=especialidades_gOne,\n",
    "    x='ESPECIALIDADE',\n",
    "    y=especialidades_gOne.index,\n",
    "    figsize=(8, 4),\n",
    "    rotation=0,\n",
    "    fontsize=18,\n",
    "    save_path='imagens/espec_grupoOne.eps'\n",
    ")"
   ]
  },
  {
   "cell_type": "code",
   "execution_count": null,
   "id": "8315f856-afc5-4155-80b9-0b469d6b7592",
   "metadata": {
    "tags": []
   },
   "outputs": [],
   "source": [
    "media_disciplina_one = dataset_g1.iloc[:,7:32]\n",
    "media_disciplina_one = pd.DataFrame(media_disciplina_one.mean().sort_values(ascending=False), columns=['media'])\n",
    "media_disciplina_one = media_disciplina_one.reset_index()\n",
    "# media_disciplina_one"
   ]
  },
  {
   "cell_type": "code",
   "execution_count": null,
   "id": "d1c11053-659b-4a62-8385-43f2fb228fdc",
   "metadata": {
    "tags": []
   },
   "outputs": [],
   "source": [
    "# Chamar o método para criar o gráfico de barras empilhadas\n",
    "plot_stacked_bar_chart(dataset_g1, 'ESPECIALIDADE', 'SEXO', '', 'imagens/distribuicao_especialidade_sexoG1')"
   ]
  },
  {
   "cell_type": "code",
   "execution_count": null,
   "id": "71136ef9-ecf6-4638-bf42-022c37084c2f",
   "metadata": {
    "tags": []
   },
   "outputs": [],
   "source": [
    "plot_faixa_etaria(dataset_g1, 'imagens/distribuicao_faixaEtariaG1')"
   ]
  },
  {
   "cell_type": "markdown",
   "id": "06b9651d-332b-4439-b8fd-2415da2c4fa9",
   "metadata": {},
   "source": [
    "#### Grupo 2"
   ]
  },
  {
   "cell_type": "code",
   "execution_count": null,
   "id": "4359ef21-f20e-4c35-b832-e1b06cbadd3b",
   "metadata": {
    "tags": []
   },
   "outputs": [],
   "source": [
    "dataset_g2 = dataset.query('cluster == 2')"
   ]
  },
  {
   "cell_type": "code",
   "execution_count": null,
   "id": "4769f5b4-9228-430d-8e6f-d9746bc89fde",
   "metadata": {
    "tags": []
   },
   "outputs": [],
   "source": [
    "especialidades_gTwo = dataset_g2['ESPECIALIDADE'].value_counts()[:10]\n",
    "especialidades_gTwo = pd.DataFrame(especialidades_gTwo)"
   ]
  },
  {
   "cell_type": "code",
   "execution_count": null,
   "id": "8d1651ee-3252-439c-ad53-a227d5930a2d",
   "metadata": {
    "tags": []
   },
   "outputs": [],
   "source": [
    "create_bar_chart(\n",
    "    data=especialidades_gTwo,\n",
    "    x='ESPECIALIDADE',\n",
    "    y=especialidades_gTwo.index,\n",
    "    figsize=(8, 4),\n",
    "    rotation=0,\n",
    "    fontsize=18,\n",
    "    save_path='imagens/espec_grupoOne.eps'\n",
    ")"
   ]
  },
  {
   "cell_type": "markdown",
   "id": "37c81b8d-c870-4932-b0ed-1fe2c5616929",
   "metadata": {
    "jp-MarkdownHeadingCollapsed": true,
    "tags": []
   },
   "source": [
    "## DBSCAN"
   ]
  },
  {
   "cell_type": "code",
   "execution_count": null,
   "id": "2762e064-7210-40c3-8448-fe91e2448276",
   "metadata": {
    "tags": []
   },
   "outputs": [],
   "source": [
    "from sklearn.cluster import DBSCAN"
   ]
  },
  {
   "cell_type": "code",
   "execution_count": null,
   "id": "f5b8c09e-a301-41e3-8280-fbca085a198e",
   "metadata": {
    "tags": []
   },
   "outputs": [],
   "source": [
    "dataset_db = dados.copy()\n",
    "dataset_db = dataset_db.loc[:,['matematica','fund_computacao','tec_computacao']]\n",
    "dataset_db"
   ]
  },
  {
   "cell_type": "code",
   "execution_count": null,
   "id": "01dce016-701a-42e3-b9d2-74cbf6259976",
   "metadata": {
    "tags": []
   },
   "outputs": [],
   "source": [
    "dbscan = DBSCAN(eps=1.5, min_samples=10)\n",
    "labels = dbscan.fit_predict(dataset_db)\n",
    "\n",
    "print(\"Rótulos atribuídos:\", labels)\n",
    "\n",
    "fig = plt.figure()\n",
    "ax = fig.add_subplot(111, projection='3d')\n",
    "ax.scatter(dataset_db['matematica'], dataset_db['fund_computacao'], dataset_db['tec_computacao'], c=labels)\n",
    "ax.set_xlabel(\"Feature 1\")\n",
    "ax.set_ylabel(\"Feature 2\")\n",
    "ax.set_zlabel(\"Feature 3\")\n",
    "ax.set_title(\"Clustering com DBSCAN\")\n",
    "plt.show()"
   ]
  },
  {
   "cell_type": "markdown",
   "id": "55e2a911-d455-4f57-bf3c-773f2134fbd8",
   "metadata": {
    "jp-MarkdownHeadingCollapsed": true,
    "tags": []
   },
   "source": [
    "## Spectral Clustering"
   ]
  },
  {
   "cell_type": "code",
   "execution_count": null,
   "id": "71d52a1f-944e-4cc2-81ff-e9fd37ed2f10",
   "metadata": {
    "tags": []
   },
   "outputs": [],
   "source": [
    "dataset_sp = dados.iloc[:,33:36]\n",
    "dataset_sp.head(1)"
   ]
  },
  {
   "cell_type": "code",
   "execution_count": null,
   "id": "ec05469f-442b-429e-b22e-02e9ae7aa78b",
   "metadata": {
    "tags": []
   },
   "outputs": [],
   "source": [
    "# from sklearn.cluster import SpectralClustering\n",
    "\n",
    "# spectral = SpectralClustering(n_clusters=2, affinity='nearest_neighbors')\n",
    "# labels_spectral = spectral.fit_predict(dataset_sp)\n",
    "\n",
    "# print(\"Rótulos atribuídos:\", labels_spectral)\n",
    "\n",
    "# fig = plt.figure()\n",
    "# ax = fig.add_subplot(111, projection='3d')\n",
    "# ax.scatter(dataset_sp['matematica'], dataset_sp['fundamentos_computacao'], dataset_sp['tecnologia_computacao'], c=labels_spectral)\n",
    "# ax.set_xlabel(\"Feature 1\")\n",
    "# ax.set_ylabel(\"Feature 2\")\n",
    "# ax.set_zlabel(\"Feature 3\")\n",
    "# ax.set_title(\"Clustering com DBSCAN\")\n",
    "# plt.show()"
   ]
  },
  {
   "cell_type": "markdown",
   "id": "b277d447-8f09-469d-8b29-cda8eae12444",
   "metadata": {
    "jp-MarkdownHeadingCollapsed": true,
    "tags": []
   },
   "source": [
    "## Agglomerative clustering"
   ]
  },
  {
   "cell_type": "code",
   "execution_count": null,
   "id": "de28e18a-ee59-48af-b4ab-2b2cdf715c19",
   "metadata": {
    "tags": []
   },
   "outputs": [],
   "source": [
    "dataset_agglomerative = dados.iloc[:,33:36]\n",
    "dataset_agglomerative.head(1)"
   ]
  },
  {
   "cell_type": "code",
   "execution_count": null,
   "id": "0fd8ab8b-a45b-48de-a588-43914c7179e3",
   "metadata": {
    "tags": []
   },
   "outputs": [],
   "source": [
    "from sklearn.cluster import AgglomerativeClustering\n",
    "\n",
    "agglomerative = AgglomerativeClustering(n_clusters=2)\n",
    "labels_agglomerative = agglomerative.fit_predict(dataset_agglomerative)\n",
    "\n",
    "\n",
    "print(\"Rótulos atribuídos:\", labels)\n",
    "\n",
    "fig = plt.figure()\n",
    "ax = fig.add_subplot(111, projection='3d')\n",
    "ax.scatter(dataset_agglomerative['matematica'], dataset_agglomerative['fundamentos_computacao'], dataset_agglomerative['tecnologia_computacao'], c=labels_agglomerative)\n",
    "ax.set_xlabel(\"Feature 1\")\n",
    "ax.set_ylabel(\"Feature 2\")\n",
    "ax.set_zlabel(\"Feature 3\")\n",
    "ax.set_title(\"Clustering com Agglomerative Clustering\")\n",
    "plt.show()"
   ]
  },
  {
   "cell_type": "markdown",
   "id": "10f645a4-4cb5-40e6-b12d-b0593bc4148b",
   "metadata": {},
   "source": [
    "# Aplicações de Aprendizado de Máquina"
   ]
  },
  {
   "cell_type": "markdown",
   "id": "66f7b029-48ea-4d78-9699-3cd705cd51cb",
   "metadata": {
    "tags": []
   },
   "source": [
    "### Árvore de Decisão"
   ]
  },
  {
   "cell_type": "code",
   "execution_count": null,
   "id": "bc1903ad-3237-4411-af19-c66a897db5f6",
   "metadata": {
    "tags": []
   },
   "outputs": [],
   "source": [
    "# dados['PRESENTE'].unique()\n",
    "dataframe_arvore = dataset.query('PRESENTE == \"S\"')"
   ]
  },
  {
   "cell_type": "code",
   "execution_count": null,
   "id": "0db9fdb2-cebe-4b93-83f6-42748179ec14",
   "metadata": {
    "tags": []
   },
   "outputs": [],
   "source": [
    "dataframe_arvore = dataframe_arvore.loc[:,['matematica','fundamentos_computacao','tecnologia_computacao', 'cluster']]\n",
    "dataframe_arvore"
   ]
  },
  {
   "cell_type": "code",
   "execution_count": null,
   "id": "c0f431c2-5633-4c96-8356-f7e06cd19b4c",
   "metadata": {
    "tags": []
   },
   "outputs": [],
   "source": [
    "from sklearn.tree import DecisionTreeClassifier\n",
    "from sklearn.metrics import accuracy_score\n",
    "from sklearn.tree import export_graphviz\n",
    "from sklearn.model_selection import train_test_split\n",
    "import graphviz\n",
    "\n",
    "X = dataframe_arvore.drop('cluster', axis=1)  # Remova a coluna 'classe_alvo' do DataFrame\n",
    "y = dataframe_arvore['cluster']  # Coluna 'classe_alvo' é a classe alvo\n",
    "\n",
    "X_train, X_test, y_train, y_test = train_test_split(X, y, test_size=0.3, random_state=42)\n",
    "\n",
    "clf = DecisionTreeClassifier()\n",
    "\n",
    "clf.fit(X_train, y_train)\n",
    "\n",
    "y_pred = clf.predict(X_test)\n",
    "\n",
    "accuracy = accuracy_score(y_test, y_pred)\n",
    "print(\"Precisão: {:.2f}%\".format(accuracy * 100))\n",
    "\n",
    "\n",
    "dot_data = export_graphviz(clf, out_file=None, \n",
    "                           feature_names=X.columns,  \n",
    "                           class_names=list(map(str, y.unique())),\n",
    "                           filled=True, rounded=True,  \n",
    "                           special_characters=True)\n",
    "\n",
    "graph = graphviz.Source(dot_data)\n",
    "# graph.render(\"arvore_decisao\")\n",
    "graph.view()"
   ]
  },
  {
   "cell_type": "markdown",
   "id": "bdb649fa-73c4-477c-8e2a-925b6b1a3d86",
   "metadata": {
    "tags": []
   },
   "source": [
    "#### Testar a funcionalidade do algoritmo"
   ]
  },
  {
   "cell_type": "code",
   "execution_count": null,
   "id": "7a4ed6f4-4441-4ab9-b399-1d73b072c704",
   "metadata": {
    "tags": []
   },
   "outputs": [],
   "source": [
    "novo_poscomp = pd.read_csv('novo_poscomp.csv')\n",
    "novo_poscomp.columns = ['Nome','Álgebra Linear','Análise Combinatória','Cálculo Diferencial e Integral','Geometria Analítica','Matemática Discreta','Probabilidade e Estatística','Lógica Matemática','Análise de Algoritmos','Algoritmos e Estruturas de Dados','Arquitetura e Organização de Computadores','Circuitos Digitais','Linguagens de Programação','Linguagens Formais, Autômatos e Computabilidade','Organização de Arquivos e Dados','Sistemas Operacionais','Técnicas de Programação','Teoria dos Grafos','Banco de Dados','Compiladores','Computação Gráfica','Engenharia de Software','Inteligência Artificial','Processamento de Imagens','Redes de Computadores','Sistemas Distribuídos','NOTA Prova TO']"
   ]
  },
  {
   "cell_type": "code",
   "execution_count": null,
   "id": "e28a15b0-21be-4496-99ba-7e35501bd4ed",
   "metadata": {
    "tags": []
   },
   "outputs": [],
   "source": [
    "list_poscomp = ['Álgebra Linear','Análise Combinatória','Cálculo Diferencial e Integral','Geometria Analítica','Matemática Discreta','Probabilidade e Estatística','Lógica Matemática','Análise de Algoritmos','Algoritmos e Estruturas de Dados','Arquitetura e Organização de Computadores','Circuitos Digitais','Linguagens de Programação','Linguagens Formais, Autômatos e Computabilidade','Organização de Arquivos e Dados','Sistemas Operacionais','Técnicas de Programação','Teoria dos Grafos','Banco de Dados','Compiladores','Computação Gráfica','Engenharia de Software','Inteligência Artificial','Processamento de Imagens','Redes de Computadores','Sistemas Distribuídos']"
   ]
  },
  {
   "cell_type": "code",
   "execution_count": null,
   "id": "144cb957-d463-43a7-b220-9630a0ce0038",
   "metadata": {
    "tags": []
   },
   "outputs": [],
   "source": [
    "novo_poscomp = novo_poscomp.drop('NOTA Prova TO', axis=1)"
   ]
  },
  {
   "cell_type": "code",
   "execution_count": null,
   "id": "eb5ae8af-db24-4827-8a36-2e3b538276ea",
   "metadata": {
    "tags": []
   },
   "outputs": [],
   "source": [
    "novo_poscomp.head()"
   ]
  },
  {
   "cell_type": "code",
   "execution_count": null,
   "id": "4e3eae53-317b-40fb-8826-adf6ad7da3c8",
   "metadata": {
    "tags": []
   },
   "outputs": [],
   "source": [
    "for coluna in list_poscomp:\n",
    "    novo_poscomp[coluna] = pd.to_numeric(novo_poscomp[coluna], errors='coerce').astype('Int64')\n",
    "\n",
    "# Verificar o tipo de dado das colunas após a conversão\n",
    "print(novo_poscomp.dtypes)"
   ]
  },
  {
   "cell_type": "code",
   "execution_count": null,
   "id": "74ab1548-0a27-41f5-8d17-377931e9d04e",
   "metadata": {
    "tags": []
   },
   "outputs": [],
   "source": [
    "novo_poscomp = novo_poscomp.dropna()"
   ]
  },
  {
   "cell_type": "code",
   "execution_count": null,
   "id": "8098b8e5-28a0-41b7-b27b-469727896772",
   "metadata": {
    "tags": []
   },
   "outputs": [],
   "source": [
    "X_novos = novo_poscomp.loc[:,['matematica','fundamentos_computacao','tecnologia_computacao']]"
   ]
  },
  {
   "cell_type": "code",
   "execution_count": null,
   "id": "f7362725-4b9c-4709-8897-1679f08b9420",
   "metadata": {
    "tags": []
   },
   "outputs": [],
   "source": [
    "X_novos.head()"
   ]
  },
  {
   "cell_type": "code",
   "execution_count": null,
   "id": "6d9b0735-6c7d-4a79-8990-b3983bf9ccaf",
   "metadata": {},
   "outputs": [],
   "source": [
    "# Fazer previsões com o novo conjunto de dados\n",
    "classe_prevista = clf.predict(X_novos)\n",
    "\n",
    "# Exibir a classe prevista\n",
    "print(\"Classe prevista: {}\".format(classe_prevista))"
   ]
  }
 ],
 "metadata": {
  "kernelspec": {
   "display_name": "Python 3 (ipykernel)",
   "language": "python",
   "name": "python3"
  },
  "language_info": {
   "codemirror_mode": {
    "name": "ipython",
    "version": 3
   },
   "file_extension": ".py",
   "mimetype": "text/x-python",
   "name": "python",
   "nbconvert_exporter": "python",
   "pygments_lexer": "ipython3",
   "version": "3.11.7"
  }
 },
 "nbformat": 4,
 "nbformat_minor": 5
}
