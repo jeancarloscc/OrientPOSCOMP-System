{
 "cells": [
  {
   "cell_type": "code",
   "execution_count": 48,
   "id": "ed212d44-8e04-4eb2-82ec-9224f4fcb6ba",
   "metadata": {},
   "outputs": [],
   "source": [
    "%run ../services/imports.py\n",
    "%run ../services/function.py\n",
    "%run ../services/classifier_evaluation.py"
   ]
  },
  {
   "cell_type": "code",
   "execution_count": 49,
   "id": "a71d2be2-4fe0-4251-a4f1-71c506ebbdc6",
   "metadata": {},
   "outputs": [],
   "source": [
    "df_poscomp = pd.read_csv('../dados/df_poscompTest.csv')"
   ]
  },
  {
   "cell_type": "code",
   "execution_count": 4,
   "id": "33b7c282-1b45-4b11-a842-568f3d8f4ff3",
   "metadata": {},
   "outputs": [],
   "source": [
    "X_dataset = df_poscomp.loc[:,['IDADE','SEXO','REGIAO','ESTADO','matematica', \n",
    "                               'fund_computacao','tec_computacao','total','linhas_pesquisas']]"
   ]
  },
  {
   "cell_type": "code",
   "execution_count": 5,
   "id": "27b3c0df-9c7b-416b-968a-71b80fc5e10a",
   "metadata": {},
   "outputs": [],
   "source": [
    "# X_dataset['ESPECIALIDADE'] = filtered_df.ESPECIALIDADE\n",
    "# X_dataset['ESPECIALIDADE'] = X_dataset['ESPECIALIDADE'].astype('category')"
   ]
  },
  {
   "cell_type": "code",
   "execution_count": 6,
   "id": "9af9b993-7132-4b63-8f17-585082f92b3e",
   "metadata": {},
   "outputs": [],
   "source": [
    "# colunas_a_padronizar = ['matematica', 'fund_computacao', 'tec_computacao']\n",
    "# scaler = StandardScaler()\n",
    "# X_dataset[colunas_a_padronizar] = scaler.fit_transform(X_dataset[colunas_a_padronizar])"
   ]
  },
  {
   "cell_type": "code",
   "execution_count": 7,
   "id": "169cfbfe-846b-447f-9417-a0cff3a0b740",
   "metadata": {},
   "outputs": [],
   "source": [
    "def encode_categorical_columns(df, columns):\n",
    "    le = LabelEncoder()\n",
    "    for col in columns:\n",
    "        df[col] = le.fit_transform(df[col])\n",
    "    return df\n",
    "\n",
    "categorical_columns = ['SEXO','REGIAO','ESTADO']\n",
    "X_dataset = encode_categorical_columns(X_dataset, categorical_columns)\n"
   ]
  },
  {
   "cell_type": "code",
   "execution_count": 8,
   "id": "c0d2a772-6e21-461f-8057-c1f4f82f8e1a",
   "metadata": {
    "tags": []
   },
   "outputs": [],
   "source": [
    "X = X_dataset.drop(['linhas_pesquisas'], axis=1)\n",
    "y = X_dataset['linhas_pesquisas']"
   ]
  },
  {
   "cell_type": "code",
   "execution_count": 9,
   "id": "de152595-f0ef-4bc8-baf6-045b8d9ca802",
   "metadata": {},
   "outputs": [
    {
     "data": {
      "text/plain": [
       "((8563, 8), (8563,))"
      ]
     },
     "execution_count": 9,
     "metadata": {},
     "output_type": "execute_result"
    }
   ],
   "source": [
    "X.shape, y.shape"
   ]
  },
  {
   "cell_type": "code",
   "execution_count": 10,
   "id": "0951a888-631c-4e14-8007-2611d8f29bee",
   "metadata": {},
   "outputs": [
    {
     "data": {
      "text/plain": [
       "linhas_pesquisas\n",
       "inteligência artificial    3102\n",
       "sistemas de computação     2266\n",
       "engenharia de software     2077\n",
       "redes de computadores      1118\n",
       "Name: count, dtype: int64"
      ]
     },
     "execution_count": 10,
     "metadata": {},
     "output_type": "execute_result"
    }
   ],
   "source": [
    "y.value_counts()"
   ]
  },
  {
   "cell_type": "markdown",
   "id": "984964a6-9ec0-4a7b-a717-7d4b58f1bae0",
   "metadata": {
    "tags": []
   },
   "source": [
    "### Dividir a base"
   ]
  },
  {
   "cell_type": "code",
   "execution_count": 46,
   "id": "7940f63b-8c55-4140-8dd4-7a99a1efb14d",
   "metadata": {
    "tags": []
   },
   "outputs": [],
   "source": [
    "x_train, x_test, y_train, y_test = train_test_split(X, y, test_size=0.3, random_state=42,stratify=y)"
   ]
  },
  {
   "cell_type": "code",
   "execution_count": 47,
   "id": "803aef14-5e1a-42a1-b864-dc58cd9a4040",
   "metadata": {},
   "outputs": [
    {
     "data": {
      "text/plain": [
       "linhas_pesquisas\n",
       "inteligência artificial    2171\n",
       "sistemas de computação     1586\n",
       "engenharia de software     1454\n",
       "redes de computadores       783\n",
       "Name: count, dtype: int64"
      ]
     },
     "execution_count": 47,
     "metadata": {},
     "output_type": "execute_result"
    }
   ],
   "source": [
    "y_train.value_counts()"
   ]
  },
  {
   "cell_type": "code",
   "execution_count": null,
   "id": "946e17c2-c146-4d10-b438-f718156092dd",
   "metadata": {},
   "outputs": [],
   "source": [
    "print(\"Shape of x_train : \",x_train.shape)\n",
    "print(\"Shape of x_test  : \",x_test.shape)\n",
    "print(\"Shape of y_train : \",y_train.shape)\n",
    "print(\"Shape of y_test  : \",y_test.shape)"
   ]
  },
  {
   "cell_type": "code",
   "execution_count": 44,
   "id": "80fcc7bf-fe5f-4bf7-a1cf-db78f41ea257",
   "metadata": {},
   "outputs": [],
   "source": [
    "from imblearn.combine import SMOTEENN\n",
    "from imblearn.over_sampling import SMOTE\n",
    "from imblearn.under_sampling import EditedNearestNeighbours\n",
    "\n",
    "smote = SMOTE(random_state=42)\n",
    "\n",
    "smote_enn = SMOTEENN(random_state=42, smote=smote)\n",
    "X_resampled, y_resampled = smote_enn.fit_resample(X, y)"
   ]
  },
  {
   "cell_type": "code",
   "execution_count": 45,
   "id": "419219af-d248-4122-81b0-6eb1d83a57a9",
   "metadata": {},
   "outputs": [
    {
     "data": {
      "text/plain": [
       "linhas_pesquisas\n",
       "redes de computadores      1434\n",
       "engenharia de software      660\n",
       "sistemas de computação      603\n",
       "inteligência artificial     232\n",
       "Name: count, dtype: int64"
      ]
     },
     "execution_count": 45,
     "metadata": {},
     "output_type": "execute_result"
    }
   ],
   "source": [
    "y_resampled.value_counts()"
   ]
  },
  {
   "cell_type": "code",
   "execution_count": 13,
   "id": "890683c5-8514-493e-8292-5b9e6a6b69cc",
   "metadata": {},
   "outputs": [],
   "source": [
    "x_train, x_test, y_train, y_test = train_test_split(X_resampled, y_resampled, test_size=0.3, random_state=42, stratify=y_resampled)"
   ]
  },
  {
   "cell_type": "code",
   "execution_count": 14,
   "id": "bd21a4a7-ea3c-4402-af0c-13e3b1a6540a",
   "metadata": {
    "tags": []
   },
   "outputs": [],
   "source": [
    "parametros = {\n",
    "    'n_estimators': [300,500,1000],  # Você pode ajustar o número de árvores conforme necessário\n",
    "    'criterion': ['entropy'],\n",
    "    'max_depth': [4,5,6,7,8],\n",
    "    'min_samples_split': [2, 5],\n",
    "    'min_samples_leaf': [1, 2, 4],\n",
    "    # 'min_weight_fraction_leaf': [0.0, 0.1, 0.2],\n",
    "    'max_features': [5,6,7,8,9,10],\n",
    "    # 'max_leaf_nodes': [None, 10, 20, 30],\n",
    "    # 'min_impurity_decrease': [0.0, 0.1, 0.2],\n",
    "    # 'bootstrap': [True, False],\n",
    "    # 'oob_score': [True, False],\n",
    "    # 'n_jobs': [-1],  # Use -1 para usar todos os processadores disponíveis\n",
    "    # 'random_state': [None, 42],  # Use um valor fixo para repetibilidade\n",
    "    # 'verbose': [0, 1, 2],\n",
    "    # 'warm_start': [True, False],\n",
    "    # 'class_weight': ['balanced', 'balanced_subsample'],\n",
    "    # 'ccp_alpha': [0.0, 0.1, 0.2],\n",
    "    # 'max_samples': [None, 0.7, 0.8, 0.9],\n",
    "}"
   ]
  },
  {
   "cell_type": "code",
   "execution_count": 16,
   "id": "387e246b-e021-4645-a36d-96398fc6a405",
   "metadata": {},
   "outputs": [
    {
     "name": "stdout",
     "output_type": "stream",
     "text": [
      "Fitting 3 folds for each of 540 candidates, totalling 1620 fits\n",
      "Best Parameters:\n",
      "{'criterion': 'entropy', 'max_depth': 8, 'max_features': 6, 'min_samples_leaf': 1, 'min_samples_split': 2, 'n_estimators': 300}\n",
      "Best Score:\n",
      "0.7541547866738588\n",
      "Best Estimator:\n",
      "RandomForestClassifier(criterion='entropy', max_depth=8, max_features=6,\n",
      "                       n_estimators=300, random_state=42)\n",
      "Train Result:\n",
      "==========================================================================\n",
      "Accuracy Score: 86.20%\n",
      "__________________________________________________________________________\n",
      "CLASSIFICATION REPORT:\n",
      "           engenharia de software  inteligência artificial  \\\n",
      "precision                0.878307                 0.936508   \n",
      "recall                   0.718615                 0.728395   \n",
      "f1-score                 0.790476                 0.819444   \n",
      "support                462.000000               162.000000   \n",
      "\n",
      "           redes de computadores  sistemas de computação  accuracy  \\\n",
      "precision               0.820168                0.957865  0.861951   \n",
      "recall                  0.972112                0.808057  0.861951   \n",
      "f1-score                0.889699                0.876607  0.861951   \n",
      "support              1004.000000              422.000000  0.861951   \n",
      "\n",
      "             macro avg  weighted avg  \n",
      "precision     0.898212      0.870810  \n",
      "recall        0.806795      0.861951  \n",
      "f1-score      0.844057      0.859091  \n",
      "support    2050.000000   2050.000000  \n",
      "__________________________________________________________________________\n",
      "Confusion Matrix: \n",
      " [[332   2 120   8]\n",
      " [  5 118  37   2]\n",
      " [ 21   2 976   5]\n",
      " [ 20   4  57 341]]\n",
      "\n",
      "Test Result:\n",
      "==========================================================================\n",
      "Accuracy Score: 75.88%\n",
      "__________________________________________________________________________\n",
      "CLASSIFICATION REPORT:\n",
      "           engenharia de software  inteligência artificial  \\\n",
      "precision                0.685535                 0.732143   \n",
      "recall                   0.550505                 0.585714   \n",
      "f1-score                 0.610644                 0.650794   \n",
      "support                198.000000                70.000000   \n",
      "\n",
      "           redes de computadores  sistemas de computação  accuracy  \\\n",
      "precision               0.752363                0.881481  0.758817   \n",
      "recall                  0.925581                0.657459  0.758817   \n",
      "f1-score                0.830031                0.753165  0.758817   \n",
      "support               430.000000              181.000000  0.758817   \n",
      "\n",
      "            macro avg  weighted avg  \n",
      "precision    0.762880      0.762287  \n",
      "recall       0.679815      0.758817  \n",
      "f1-score     0.711158      0.750511  \n",
      "support    879.000000    879.000000  \n",
      "__________________________________________________________________________\n",
      "Confusion Matrix: \n",
      " [[109   7  72  10]\n",
      " [  5  41  21   3]\n",
      " [ 24   5 398   3]\n",
      " [ 21   3  38 119]]\n",
      "\n"
     ]
    }
   ],
   "source": [
    "forest_clf = ClassifierWrapper(RandomForestClassifier(random_state=42), parametros)\n",
    "forest_clf.grid_search(x_train, y_train, cv=3)\n",
    "forest_clf.train_and_print_scores(x_train, y_train, x_test, y_test)"
   ]
  },
  {
   "cell_type": "code",
   "execution_count": null,
   "id": "dec30ecb-5469-4f19-b3ab-41d47d7b0aa2",
   "metadata": {},
   "outputs": [],
   "source": [
    "parametros = {\n",
    "    'C': [3,4,5],\n",
    "    # 'degree': [1,2,3],\n",
    "    'gamma': [0.1,0.2,0.5],\n",
    "    'coef0': [0.1],\n",
    "    'shrinking': [True,False],\n",
    "    # 'probability': [True, False],\n",
    "    # 'tol': [1e-4],\n",
    "    # 'cache_size': np.arange(1,11,2),\n",
    "    'class_weight': ['balanced'],\n",
    "    # 'verbose': [True],\n",
    "    # 'max_iter': [100, 1000, -1],  # -1 indica nenhum limite\n",
    "    # 'decision_function_shape': ['ovr'],\n",
    "    # 'break_ties': [True],\n",
    "} "
   ]
  },
  {
   "cell_type": "code",
   "execution_count": null,
   "id": "938e6b90-9f0a-4bbf-94aa-d2d681c9632a",
   "metadata": {
    "tags": []
   },
   "outputs": [],
   "source": [
    "svm_clf = ClassifierWrapper(SVC(random_state=42, kernel='rbf'), parametros)\n",
    "svm_clf.grid_search(x_train, y_train, cv=3)\n",
    "svm_clf.train_and_print_scores(x_train, y_train, x_test, y_test)"
   ]
  },
  {
   "cell_type": "code",
   "execution_count": null,
   "id": "5a276263-e6ad-4f80-9e35-194a2d924355",
   "metadata": {
    "tags": []
   },
   "outputs": [],
   "source": [
    "svm_clf = ClassifierWrapper(SVC(random_state=42, kernel='poly'), parametros)\n",
    "svm_clf.grid_search(x_train, y_train, cv=2)\n",
    "svm_clf.train_and_print_scores(x_train, y_train, x_test, y_test)"
   ]
  },
  {
   "cell_type": "code",
   "execution_count": null,
   "id": "975627d8-5fd6-40ee-87d8-8e29f7c7d817",
   "metadata": {
    "jupyter": {
     "source_hidden": true
    }
   },
   "outputs": [],
   "source": [
    "from sklearn.metrics import accuracy_score, precision_score, recall_score, f1_score, confusion_matrix\n",
    "\n",
    "algorithms = [\n",
    "    ('Árvore de Decisão (C4.5)', DecisionTreeClassifier(random_state=42)),\n",
    "    ('Random Forest', RandomForestClassifier(random_state=42)),\n",
    "    ('SVM', SVC(random_state=42, kernel='poly')),\n",
    "    ('Rede Neural', MLPClassifier(random_state=42, hidden_layer_sizes=(100,100))),\n",
    "]\n",
    "\n",
    "for name, classifier in algorithms:\n",
    "    classifier.fit(x_train, y_train)\n",
    "    train_predictions = classifier.predict(x_train)\n",
    "    test_predictions = classifier.predict(x_test)\n",
    "    \n",
    "    train_accuracy = accuracy_score(y_train, train_predictions)\n",
    "    test_accuracy = accuracy_score(y_test, test_predictions)\n",
    "    \n",
    "    precision = precision_score(y_test, test_predictions, average='macro')\n",
    "    recall = recall_score(y_test, test_predictions, average='macro')\n",
    "    f1 = f1_score(y_test, test_predictions, average='macro')\n",
    "    \n",
    "    conf_matrix = confusion_matrix(y_test, test_predictions)\n",
    "    \n",
    "    print(f'{name} - Acurácia no Conjunto de Treinamento: {train_accuracy * 100:.2f}%')\n",
    "    print(f'{name} - Acurácia no Conjunto de Teste: {test_accuracy * 100:.2f}%')\n",
    "    print(f'{name} - Precisão: {precision * 100:.2f}%')\n",
    "    print(f'{name} - Recall: {recall * 100:.2f}%')\n",
    "    print(f'{name} - F1-Score: {f1 * 100:.2f}%')\n",
    "    print(f'{name} - Matriz de Confusão:\\n{conf_matrix}\\n')\n",
    "    "
   ]
  },
  {
   "cell_type": "code",
   "execution_count": null,
   "id": "cc035805-45c7-4b9b-99fe-9ae474349f01",
   "metadata": {},
   "outputs": [],
   "source": [
    "classifier = RandomForestClassifier(bootstrap=False, criterion='entropy', max_depth=10,\n",
    "                       n_estimators=200, n_jobs=-1, random_state=42,\n",
    "                       warm_start=True)\n",
    "classifier.fit(x_train, y_train)\n",
    "train_predictions = classifier.predict(x_train)\n",
    "test_predictions = classifier.predict(x_test)"
   ]
  },
  {
   "cell_type": "code",
   "execution_count": null,
   "id": "518f8763-6732-4862-99d9-91960e258fed",
   "metadata": {},
   "outputs": [],
   "source": [
    "classifier.predict([[21.0,  1.0,  4.0, 22.0, 9.0, 16.0, 8.0, 33.0]])"
   ]
  }
 ],
 "metadata": {
  "kernelspec": {
   "display_name": "Python 3 (ipykernel)",
   "language": "python",
   "name": "python3"
  },
  "language_info": {
   "codemirror_mode": {
    "name": "ipython",
    "version": 3
   },
   "file_extension": ".py",
   "mimetype": "text/x-python",
   "name": "python",
   "nbconvert_exporter": "python",
   "pygments_lexer": "ipython3",
   "version": "3.11.6"
  }
 },
 "nbformat": 4,
 "nbformat_minor": 5
}
