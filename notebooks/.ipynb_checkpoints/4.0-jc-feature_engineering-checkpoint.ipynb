{
 "cells": [
  {
   "cell_type": "markdown",
   "id": "fd05df4c-680c-4489-b859-cf779eb2483e",
   "metadata": {},
   "source": [
    "## Importação das bibliotecas"
   ]
  },
  {
   "cell_type": "code",
   "execution_count": 2,
   "id": "65f407b0-9f73-42cd-8c85-9fdcfa264b76",
   "metadata": {},
   "outputs": [],
   "source": [
    "%run ../services/imports.py\n",
    "%run ../services/visualization.py\n",
    "from services.function import Function"
   ]
  },
  {
   "cell_type": "code",
   "execution_count": 51,
   "id": "4f6bc635-7493-459d-b4c4-09007c19b5ec",
   "metadata": {},
   "outputs": [],
   "source": [
    "df_poscomp = pd.read_csv(\"../dados/processed/df_poscomp2016-2022.csv\")"
   ]
  },
  {
   "cell_type": "code",
   "execution_count": 56,
   "id": "21d26e6a-d249-4d7a-84d6-50b42bfbcb65",
   "metadata": {},
   "outputs": [
    {
     "ename": "KeyError",
     "evalue": "'ano'",
     "output_type": "error",
     "traceback": [
      "\u001b[0;31m---------------------------------------------------------------------------\u001b[0m",
      "\u001b[0;31mKeyError\u001b[0m                                  Traceback (most recent call last)",
      "File \u001b[0;32m~/miniconda3/envs/poscomp/lib/python3.11/site-packages/pandas/core/indexes/base.py:3791\u001b[0m, in \u001b[0;36mIndex.get_loc\u001b[0;34m(self, key)\u001b[0m\n\u001b[1;32m   3790\u001b[0m \u001b[38;5;28;01mtry\u001b[39;00m:\n\u001b[0;32m-> 3791\u001b[0m     \u001b[38;5;28;01mreturn\u001b[39;00m \u001b[38;5;28;43mself\u001b[39;49m\u001b[38;5;241;43m.\u001b[39;49m\u001b[43m_engine\u001b[49m\u001b[38;5;241;43m.\u001b[39;49m\u001b[43mget_loc\u001b[49m\u001b[43m(\u001b[49m\u001b[43mcasted_key\u001b[49m\u001b[43m)\u001b[49m\n\u001b[1;32m   3792\u001b[0m \u001b[38;5;28;01mexcept\u001b[39;00m \u001b[38;5;167;01mKeyError\u001b[39;00m \u001b[38;5;28;01mas\u001b[39;00m err:\n",
      "File \u001b[0;32mindex.pyx:152\u001b[0m, in \u001b[0;36mpandas._libs.index.IndexEngine.get_loc\u001b[0;34m()\u001b[0m\n",
      "File \u001b[0;32mindex.pyx:181\u001b[0m, in \u001b[0;36mpandas._libs.index.IndexEngine.get_loc\u001b[0;34m()\u001b[0m\n",
      "File \u001b[0;32mpandas/_libs/hashtable_class_helper.pxi:7080\u001b[0m, in \u001b[0;36mpandas._libs.hashtable.PyObjectHashTable.get_item\u001b[0;34m()\u001b[0m\n",
      "File \u001b[0;32mpandas/_libs/hashtable_class_helper.pxi:7088\u001b[0m, in \u001b[0;36mpandas._libs.hashtable.PyObjectHashTable.get_item\u001b[0;34m()\u001b[0m\n",
      "\u001b[0;31mKeyError\u001b[0m: 'ano'",
      "\nThe above exception was the direct cause of the following exception:\n",
      "\u001b[0;31mKeyError\u001b[0m                                  Traceback (most recent call last)",
      "Cell \u001b[0;32mIn[56], line 2\u001b[0m\n\u001b[1;32m      1\u001b[0m \u001b[38;5;66;03m# converter os type das colunas\u001b[39;00m\n\u001b[0;32m----> 2\u001b[0m df_poscomp[\u001b[38;5;124m\"\u001b[39m\u001b[38;5;124mano\u001b[39m\u001b[38;5;124m\"\u001b[39m] \u001b[38;5;241m=\u001b[39m \u001b[43mdf_poscomp\u001b[49m\u001b[43m[\u001b[49m\u001b[38;5;124;43m\"\u001b[39;49m\u001b[38;5;124;43mano\u001b[39;49m\u001b[38;5;124;43m\"\u001b[39;49m\u001b[43m]\u001b[49m\u001b[38;5;241m.\u001b[39mastype(\u001b[38;5;124m\"\u001b[39m\u001b[38;5;124mobject\u001b[39m\u001b[38;5;124m\"\u001b[39m)\n\u001b[1;32m      3\u001b[0m \u001b[38;5;66;03m# Primeiramente, será excluídos candidatos que realizaram o exame no Peru\u001b[39;00m\n\u001b[1;32m      4\u001b[0m df_poscomp \u001b[38;5;241m=\u001b[39m df_poscomp\u001b[38;5;241m.\u001b[39mquery(\u001b[38;5;124m\"\u001b[39m\u001b[38;5;124mestado != \u001b[39m\u001b[38;5;124m'\u001b[39m\u001b[38;5;124mou\u001b[39m\u001b[38;5;124m'\u001b[39m\u001b[38;5;124m & presença != \u001b[39m\u001b[38;5;124m'\u001b[39m\u001b[38;5;124mn\u001b[39m\u001b[38;5;124m'\u001b[39m\u001b[38;5;124m\"\u001b[39m)\n",
      "File \u001b[0;32m~/miniconda3/envs/poscomp/lib/python3.11/site-packages/pandas/core/frame.py:3893\u001b[0m, in \u001b[0;36mDataFrame.__getitem__\u001b[0;34m(self, key)\u001b[0m\n\u001b[1;32m   3891\u001b[0m \u001b[38;5;28;01mif\u001b[39;00m \u001b[38;5;28mself\u001b[39m\u001b[38;5;241m.\u001b[39mcolumns\u001b[38;5;241m.\u001b[39mnlevels \u001b[38;5;241m>\u001b[39m \u001b[38;5;241m1\u001b[39m:\n\u001b[1;32m   3892\u001b[0m     \u001b[38;5;28;01mreturn\u001b[39;00m \u001b[38;5;28mself\u001b[39m\u001b[38;5;241m.\u001b[39m_getitem_multilevel(key)\n\u001b[0;32m-> 3893\u001b[0m indexer \u001b[38;5;241m=\u001b[39m \u001b[38;5;28;43mself\u001b[39;49m\u001b[38;5;241;43m.\u001b[39;49m\u001b[43mcolumns\u001b[49m\u001b[38;5;241;43m.\u001b[39;49m\u001b[43mget_loc\u001b[49m\u001b[43m(\u001b[49m\u001b[43mkey\u001b[49m\u001b[43m)\u001b[49m\n\u001b[1;32m   3894\u001b[0m \u001b[38;5;28;01mif\u001b[39;00m is_integer(indexer):\n\u001b[1;32m   3895\u001b[0m     indexer \u001b[38;5;241m=\u001b[39m [indexer]\n",
      "File \u001b[0;32m~/miniconda3/envs/poscomp/lib/python3.11/site-packages/pandas/core/indexes/base.py:3798\u001b[0m, in \u001b[0;36mIndex.get_loc\u001b[0;34m(self, key)\u001b[0m\n\u001b[1;32m   3793\u001b[0m     \u001b[38;5;28;01mif\u001b[39;00m \u001b[38;5;28misinstance\u001b[39m(casted_key, \u001b[38;5;28mslice\u001b[39m) \u001b[38;5;129;01mor\u001b[39;00m (\n\u001b[1;32m   3794\u001b[0m         \u001b[38;5;28misinstance\u001b[39m(casted_key, abc\u001b[38;5;241m.\u001b[39mIterable)\n\u001b[1;32m   3795\u001b[0m         \u001b[38;5;129;01mand\u001b[39;00m \u001b[38;5;28many\u001b[39m(\u001b[38;5;28misinstance\u001b[39m(x, \u001b[38;5;28mslice\u001b[39m) \u001b[38;5;28;01mfor\u001b[39;00m x \u001b[38;5;129;01min\u001b[39;00m casted_key)\n\u001b[1;32m   3796\u001b[0m     ):\n\u001b[1;32m   3797\u001b[0m         \u001b[38;5;28;01mraise\u001b[39;00m InvalidIndexError(key)\n\u001b[0;32m-> 3798\u001b[0m     \u001b[38;5;28;01mraise\u001b[39;00m \u001b[38;5;167;01mKeyError\u001b[39;00m(key) \u001b[38;5;28;01mfrom\u001b[39;00m \u001b[38;5;21;01merr\u001b[39;00m\n\u001b[1;32m   3799\u001b[0m \u001b[38;5;28;01mexcept\u001b[39;00m \u001b[38;5;167;01mTypeError\u001b[39;00m:\n\u001b[1;32m   3800\u001b[0m     \u001b[38;5;66;03m# If we have a listlike key, _check_indexing_error will raise\u001b[39;00m\n\u001b[1;32m   3801\u001b[0m     \u001b[38;5;66;03m#  InvalidIndexError. Otherwise we fall through and re-raise\u001b[39;00m\n\u001b[1;32m   3802\u001b[0m     \u001b[38;5;66;03m#  the TypeError.\u001b[39;00m\n\u001b[1;32m   3803\u001b[0m     \u001b[38;5;28mself\u001b[39m\u001b[38;5;241m.\u001b[39m_check_indexing_error(key)\n",
      "\u001b[0;31mKeyError\u001b[0m: 'ano'"
     ]
    }
   ],
   "source": [
    "# converter os type das colunas\n",
    "df_poscomp[\"ano\"] = df_poscomp[\"ano\"].astype(\"object\")\n",
    "# Primeiramente, será excluídos candidatos que realizaram o exame no Peru\n",
    "df_poscomp = df_poscomp.query(\"estado != 'ou' & presença != 'n'\")\n",
    "df_poscomp[\"idade\"] = df_poscomp.apply(Function.calculate_age, axis=1)\n",
    "df_poscomp = df_poscomp.query('idade > 0')"
   ]
  },
  {
   "cell_type": "code",
   "execution_count": 77,
   "id": "78f81146-100a-4150-9b79-53695ab34190",
   "metadata": {},
   "outputs": [],
   "source": [
    "df_poscomp.dropna(inplace=True)"
   ]
  },
  {
   "cell_type": "code",
   "execution_count": 59,
   "id": "92800dad-f676-47ae-af77-f316c5146de3",
   "metadata": {},
   "outputs": [],
   "source": [
    "# df_poscomp.drop(columns=['presença','cargo'], inplace=True)"
   ]
  },
  {
   "cell_type": "markdown",
   "id": "dca505c8-902e-4c9f-9ea7-b2b1958932bd",
   "metadata": {},
   "source": [
    "# identificar os atributos relacionados"
   ]
  },
  {
   "cell_type": "code",
   "execution_count": 78,
   "id": "7d010634-d445-4dfc-8d9a-8490f6c0ab22",
   "metadata": {},
   "outputs": [
    {
     "data": {
      "text/plain": [
       "idade                                             0\n",
       "sexo                                              0\n",
       "estado                                            0\n",
       "especialidade                                     0\n",
       "algoritmos_e_estruturas_de_dados                  0\n",
       "analise_combinatoria                              0\n",
       "analise_de_algoritmos                             0\n",
       "arquitetura_e_organizacao_de_computadores         0\n",
       "banco_de_dados                                    0\n",
       "calculo_diferencial_e_integral                    0\n",
       "circuitos_digitais                                0\n",
       "compiladores                                      0\n",
       "computacao_grafica                                0\n",
       "engenharia_de_software                            0\n",
       "geometria_analitica                               0\n",
       "inteligencia_artificial                           0\n",
       "linguagens_de_programacao                         0\n",
       "linguagens_formais_automatos_e_computabilidade    0\n",
       "logica_matematica                                 0\n",
       "matematica_discreta                               0\n",
       "organizacao_de_arquivos_e_dados                   0\n",
       "probabilidade_e_estatistica                       0\n",
       "processamento_de_imagens                          0\n",
       "redes_de_computadores                             0\n",
       "sistemas_distribuidos                             0\n",
       "sistemas_operacionais                             0\n",
       "teoria_dos_grafos                                 0\n",
       "tecnicas_de_programacao                           0\n",
       "algebra_linear                                    0\n",
       "matematica                                        0\n",
       "fund_computacao                                   0\n",
       "tec_computacao                                    0\n",
       "dtype: int64"
      ]
     },
     "execution_count": 78,
     "metadata": {},
     "output_type": "execute_result"
    }
   ],
   "source": [
    "df_poscomp.isnull().sum()"
   ]
  },
  {
   "cell_type": "code",
   "execution_count": 79,
   "id": "14b2dd4a-4a22-4493-b0dd-51127a78d6ca",
   "metadata": {},
   "outputs": [],
   "source": [
    "def encode_categorical_columns(df, columns):\n",
    "    le = LabelEncoder()\n",
    "    for col in columns:\n",
    "        df[col] = le.fit_transform(df[col])\n",
    "    return df\n",
    "\n",
    "categorical_columns = ['sexo','estado','especialidade']\n",
    "X_dataset = encode_categorical_columns(df_poscomp, categorical_columns)"
   ]
  }
 ],
 "metadata": {
  "kernelspec": {
   "display_name": "Python 3 (ipykernel)",
   "language": "python",
   "name": "python3"
  },
  "language_info": {
   "codemirror_mode": {
    "name": "ipython",
    "version": 3
   },
   "file_extension": ".py",
   "mimetype": "text/x-python",
   "name": "python",
   "nbconvert_exporter": "python",
   "pygments_lexer": "ipython3",
   "version": "3.11.7"
  }
 },
 "nbformat": 4,
 "nbformat_minor": 5
}
