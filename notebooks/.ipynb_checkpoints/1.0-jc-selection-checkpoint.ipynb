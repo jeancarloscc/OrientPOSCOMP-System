{
 "cells": [
  {
   "cell_type": "markdown",
   "id": "39492b9d-538f-4854-a211-e64c18f1ad04",
   "metadata": {},
   "source": [
    "### Importar as bibliotecas"
   ]
  },
  {
   "cell_type": "code",
   "execution_count": 1,
   "id": "e7ce8f45-8920-49bb-b6c7-8685f29da238",
   "metadata": {},
   "outputs": [],
   "source": [
    "%run ../services/imports.py\n",
    "%run ../services/visualization.py\n",
    "import services.list_columns\n",
    "import services.alterarColuna as atc"
   ]
  },
  {
   "cell_type": "markdown",
   "id": "fa328b2a-deed-4b57-8b2a-3400222b9062",
   "metadata": {
    "tags": []
   },
   "source": [
    "## Dados de Homologação"
   ]
  },
  {
   "cell_type": "code",
   "execution_count": 2,
   "id": "5ce5971c-6190-4eba-a4f9-2dd969ac9764",
   "metadata": {},
   "outputs": [],
   "source": [
    "dados_homologados_2016 = pd.read_excel(\"../dados/raw/POSCOMP2016-2017/2016/homologados_dados_contatos_poscomp_2016.xlsx\")\n",
    "dados_homologados_2017 = pd.read_excel(\"../dados/raw/POSCOMP2016-2017/2017/homologados_dados_contatos_poscomp_2017.xlsx\")\n",
    "dados_homologados_2018 = pd.read_excel(\"../dados/raw/POSCOMP2018-2019/2018/homologados_dados_contatos_poscomp_2018.xlsx\")\n",
    "dados_homologados_2019 = pd.read_excel(\"../dados/raw/POSCOMP2018-2019/2019/homologados_dados_contatos_poscomp_2019.xlsx\")"
   ]
  },
  {
   "cell_type": "code",
   "execution_count": 3,
   "id": "f1c67a31-3a2e-42f9-b7f0-7cbebb41e5ee",
   "metadata": {},
   "outputs": [],
   "source": [
    "# dados_homologados_2016 = dados_homologados_2016.assign(ANO='2016')\n",
    "# dados_homologados_2017 = dados_homologados_2017.assign(ANO='2017')\n",
    "# dados_homologados_2018 = dados_homologados_2018.assign(ANO='2018')\n",
    "# dados_homologados_2019 = dados_homologados_2019.assign(ANO='2019')"
   ]
  },
  {
   "cell_type": "code",
   "execution_count": 4,
   "id": "556fb21c-623e-4347-8065-07f95bc51edd",
   "metadata": {
    "tags": []
   },
   "outputs": [],
   "source": [
    "dados_homologados = pd.concat([dados_homologados_2016, dados_homologados_2017, dados_homologados_2018, dados_homologados_2019], axis=0)\n",
    "dados_homologados = dados_homologados.drop(columns=['TIPO DE DOCUMENTO', 'DOCUMENTO','NOME DO PAI', \n",
    "                                                    'NOME DA MÃE', 'EMAIL', 'DDD', 'FONE', 'DDD CEL', 'CELULAR', 'SENHA', 'DATA INSCRIÇÃO',\n",
    "                                                    'DEFICIENTE', 'NECESSIDADES ESPECIAIS', 'DESCRICAO DA NECESSIDADE', 'ESTRANGEIRO', \n",
    "                                                    'CARGO','DS CARGO', 'COMPL.', 'ENDERECO.', 'BAIRRO', 'CEP', 'NUMERO', 'LOCAL DE PROVA', 'CIDADE', 'CÓDIGO'])"
   ]
  },
  {
   "cell_type": "code",
   "execution_count": 5,
   "id": "ba4b3beb-f039-4328-a497-ecd3a222f928",
   "metadata": {},
   "outputs": [
    {
     "data": {
      "text/html": [
       "<div>\n",
       "<style scoped>\n",
       "    .dataframe tbody tr th:only-of-type {\n",
       "        vertical-align: middle;\n",
       "    }\n",
       "\n",
       "    .dataframe tbody tr th {\n",
       "        vertical-align: top;\n",
       "    }\n",
       "\n",
       "    .dataframe thead th {\n",
       "        text-align: right;\n",
       "    }\n",
       "</style>\n",
       "<table border=\"1\" class=\"dataframe\">\n",
       "  <thead>\n",
       "    <tr style=\"text-align: right;\">\n",
       "      <th></th>\n",
       "      <th>NOME</th>\n",
       "      <th>CPF</th>\n",
       "      <th>DATA NASC.</th>\n",
       "      <th>SEXO</th>\n",
       "      <th>ESTADO</th>\n",
       "      <th>INSCRICAO</th>\n",
       "    </tr>\n",
       "  </thead>\n",
       "  <tbody>\n",
       "    <tr>\n",
       "      <th>0</th>\n",
       "      <td>ABEL CASTRO CONDORI</td>\n",
       "      <td>000.000.972-32</td>\n",
       "      <td>1992-10-27</td>\n",
       "      <td>M</td>\n",
       "      <td>OU</td>\n",
       "      <td>39401673171-6</td>\n",
       "    </tr>\n",
       "    <tr>\n",
       "      <th>1</th>\n",
       "      <td>ABELARDO VIEIRA MOTA</td>\n",
       "      <td>013.692.163-94</td>\n",
       "      <td>1989-11-29</td>\n",
       "      <td>M</td>\n",
       "      <td>CE</td>\n",
       "      <td>39401645886-1</td>\n",
       "    </tr>\n",
       "    <tr>\n",
       "      <th>2</th>\n",
       "      <td>ABNER MATHEUS COSTA DE ARAUJO</td>\n",
       "      <td>111.403.224-78</td>\n",
       "      <td>1995-02-23</td>\n",
       "      <td>M</td>\n",
       "      <td>RS</td>\n",
       "      <td>39401663587-8</td>\n",
       "    </tr>\n",
       "    <tr>\n",
       "      <th>3</th>\n",
       "      <td>ABNER MOISES DOS SANTOS GOMES</td>\n",
       "      <td>388.006.478-47</td>\n",
       "      <td>1991-12-13</td>\n",
       "      <td>M</td>\n",
       "      <td>SP</td>\n",
       "      <td>39401651770-6</td>\n",
       "    </tr>\n",
       "    <tr>\n",
       "      <th>4</th>\n",
       "      <td>ABRAAO DA COSTA SANTANA</td>\n",
       "      <td>908.770.632-49</td>\n",
       "      <td>1986-09-29</td>\n",
       "      <td>M</td>\n",
       "      <td>PA</td>\n",
       "      <td>39401671273-0</td>\n",
       "    </tr>\n",
       "    <tr>\n",
       "      <th>...</th>\n",
       "      <td>...</td>\n",
       "      <td>...</td>\n",
       "      <td>...</td>\n",
       "      <td>...</td>\n",
       "      <td>...</td>\n",
       "      <td>...</td>\n",
       "    </tr>\n",
       "    <tr>\n",
       "      <th>2887</th>\n",
       "      <td>YURI MORASKI BATISTA</td>\n",
       "      <td>140.092.867-25</td>\n",
       "      <td>1994-01-10</td>\n",
       "      <td>M</td>\n",
       "      <td>ES</td>\n",
       "      <td>51801396055-5</td>\n",
       "    </tr>\n",
       "    <tr>\n",
       "      <th>2888</th>\n",
       "      <td>YURI SILVA VAZ</td>\n",
       "      <td>025.435.730-03</td>\n",
       "      <td>1995-03-20</td>\n",
       "      <td>M</td>\n",
       "      <td>RS</td>\n",
       "      <td>51801354647-6</td>\n",
       "    </tr>\n",
       "    <tr>\n",
       "      <th>2889</th>\n",
       "      <td>YURI VLADIMIR HUALLPA VARGAS</td>\n",
       "      <td>000.000.974-35</td>\n",
       "      <td>1995-06-24</td>\n",
       "      <td>M</td>\n",
       "      <td>OU</td>\n",
       "      <td>51801393821-0</td>\n",
       "    </tr>\n",
       "    <tr>\n",
       "      <th>2890</th>\n",
       "      <td>YURY ALENCAR LIMA</td>\n",
       "      <td>060.703.741-50</td>\n",
       "      <td>1997-05-30</td>\n",
       "      <td>M</td>\n",
       "      <td>RS</td>\n",
       "      <td>51801354273-1</td>\n",
       "    </tr>\n",
       "    <tr>\n",
       "      <th>2891</th>\n",
       "      <td>ZOLTÁN HIRATA JETSMEN</td>\n",
       "      <td>457.631.928-00</td>\n",
       "      <td>1997-03-20</td>\n",
       "      <td>M</td>\n",
       "      <td>SP</td>\n",
       "      <td>51801366900-3</td>\n",
       "    </tr>\n",
       "  </tbody>\n",
       "</table>\n",
       "<p>14575 rows × 6 columns</p>\n",
       "</div>"
      ],
      "text/plain": [
       "                               NOME             CPF DATA NASC. SEXO ESTADO  \\\n",
       "0               ABEL CASTRO CONDORI  000.000.972-32 1992-10-27    M     OU   \n",
       "1              ABELARDO VIEIRA MOTA  013.692.163-94 1989-11-29    M     CE   \n",
       "2     ABNER MATHEUS COSTA DE ARAUJO  111.403.224-78 1995-02-23    M     RS   \n",
       "3     ABNER MOISES DOS SANTOS GOMES  388.006.478-47 1991-12-13    M     SP   \n",
       "4           ABRAAO DA COSTA SANTANA  908.770.632-49 1986-09-29    M     PA   \n",
       "...                             ...             ...        ...  ...    ...   \n",
       "2887           YURI MORASKI BATISTA  140.092.867-25 1994-01-10    M     ES   \n",
       "2888                 YURI SILVA VAZ  025.435.730-03 1995-03-20    M     RS   \n",
       "2889   YURI VLADIMIR HUALLPA VARGAS  000.000.974-35 1995-06-24    M     OU   \n",
       "2890              YURY ALENCAR LIMA  060.703.741-50 1997-05-30    M     RS   \n",
       "2891          ZOLTÁN HIRATA JETSMEN  457.631.928-00 1997-03-20    M     SP   \n",
       "\n",
       "          INSCRICAO  \n",
       "0     39401673171-6  \n",
       "1     39401645886-1  \n",
       "2     39401663587-8  \n",
       "3     39401651770-6  \n",
       "4     39401671273-0  \n",
       "...             ...  \n",
       "2887  51801396055-5  \n",
       "2888  51801354647-6  \n",
       "2889  51801393821-0  \n",
       "2890  51801354273-1  \n",
       "2891  51801366900-3  \n",
       "\n",
       "[14575 rows x 6 columns]"
      ]
     },
     "execution_count": 5,
     "metadata": {},
     "output_type": "execute_result"
    }
   ],
   "source": [
    "dados_homologados"
   ]
  },
  {
   "cell_type": "markdown",
   "id": "91edac3f-7386-43a6-bf35-14f839757769",
   "metadata": {
    "tags": []
   },
   "source": [
    "## Notas das respostas"
   ]
  },
  {
   "cell_type": "markdown",
   "id": "2dcd4e6b-ee2e-4e36-b7e5-ad1b33c72bd7",
   "metadata": {
    "tags": []
   },
   "source": [
    "#### Base de 2016 a 2019"
   ]
  },
  {
   "cell_type": "code",
   "execution_count": 6,
   "id": "7adacf8a-f135-4daf-b8dc-c94223f9a4d3",
   "metadata": {},
   "outputs": [],
   "source": [
    "dados_notasRespostas_2016 = pd.read_excel(\"../dados/raw/POSCOMP2016-2017/2016/Notas_poscomp_2016.xlsx\")\n",
    "dados_notasRespostas_2017 = pd.read_excel(\"../dados/raw/POSCOMP2016-2017/2017/Notas_poscomp_2017.xlsx\")\n",
    "dados_notasRespostas_2018 = pd.read_excel(\"../dados/raw/POSCOMP2018-2019/2018/Notas_poscomp_2018.xlsx\")\n",
    "dados_notasRespostas_2019 = pd.read_excel(\"../dados/raw/POSCOMP2018-2019/2019/Notas_poscomp_2019.xlsx\")"
   ]
  },
  {
   "cell_type": "code",
   "execution_count": 7,
   "id": "f967b18f-2e03-4d18-9aab-132feb8686b9",
   "metadata": {},
   "outputs": [],
   "source": [
    "dados_notasRespostas_2016.drop(columns=['NOTA TOTAL Prova Discursiva',' OBSERVAÇÃO Prova Discursiva'], axis=1, inplace=True)\n",
    "dados_notasRespostas_2018.drop(columns=['NOTA TOTAL Prova Discursiva',' OBSERVAÇÃO Prova Discursiva'], axis=1, inplace=True)"
   ]
  },
  {
   "cell_type": "code",
   "execution_count": 8,
   "id": "790e0eef-06aa-467b-9660-7989cfddc6ad",
   "metadata": {},
   "outputs": [],
   "source": [
    "dados_notasRespostas_2016 = dados_notasRespostas_2016.assign(ANO='2016')\n",
    "dados_notasRespostas_2017 = dados_notasRespostas_2017.assign(ANO='2017')\n",
    "dados_notasRespostas_2018 = dados_notasRespostas_2018.assign(ANO='2018')\n",
    "dados_notasRespostas_2019 = dados_notasRespostas_2019.assign(ANO='2019')"
   ]
  },
  {
   "cell_type": "code",
   "execution_count": 9,
   "id": "7c666690-a80e-46c3-bc24-0fec4a3630d2",
   "metadata": {},
   "outputs": [],
   "source": [
    "dados_notasRespostas_2016 = dados_notasRespostas_2016[services.list_columns.lista_2016]\n",
    "dados_notasRespostas_2017 = dados_notasRespostas_2017[services.list_columns.lista_2017]\n",
    "dados_notasRespostas_2018 = dados_notasRespostas_2018[services.list_columns.lista_2018]\n",
    "dados_notasRespostas_2019 = dados_notasRespostas_2019[services.list_columns.lista_2019]"
   ]
  },
  {
   "cell_type": "code",
   "execution_count": 10,
   "id": "68338fe2-9731-49fb-b0ce-88091c8c50b7",
   "metadata": {},
   "outputs": [
    {
     "data": {
      "text/plain": [
       "((23850, 30), (22174, 30), (14775, 30), (14775, 30))"
      ]
     },
     "execution_count": 10,
     "metadata": {},
     "output_type": "execute_result"
    }
   ],
   "source": [
    "dados_notasRespostas_2016.shape, dados_notasRespostas_2017.shape, dados_notasRespostas_2019.shape, dados_notasRespostas_2019.shape"
   ]
  },
  {
   "cell_type": "code",
   "execution_count": 11,
   "id": "6d095162-4ca7-4ba1-a8cd-c4200978261f",
   "metadata": {},
   "outputs": [],
   "source": [
    "dados_notasRespostas_2016 = dados_notasRespostas_2016.rename(columns=atc.alteraColunas_2016)\n",
    "dados_notasRespostas_2017 = dados_notasRespostas_2017.rename(columns=atc.alteraColunas_2017)\n",
    "dados_notasRespostas_2018 = dados_notasRespostas_2018.rename(columns=atc.alteraColunas_2018)\n",
    "dados_notasRespostas_2019 = dados_notasRespostas_2019.rename(columns=atc.alteraColunas_2019)"
   ]
  },
  {
   "cell_type": "code",
   "execution_count": 12,
   "id": "378e6259-adf5-4026-aa78-525e64d1b4cc",
   "metadata": {},
   "outputs": [],
   "source": [
    "dados_notasRespostas = pd.concat([dados_notasRespostas_2016, dados_notasRespostas_2017, dados_notasRespostas_2018, dados_notasRespostas_2019], axis=0)"
   ]
  },
  {
   "cell_type": "code",
   "execution_count": 50,
   "id": "1cfc6732-6453-47c1-b5f2-415cd9c8e666",
   "metadata": {},
   "outputs": [],
   "source": [
    "dados_notasRespostas.drop_duplicates(subset='INSCRICAO', inplace=True)"
   ]
  },
  {
   "cell_type": "markdown",
   "id": "240d0b96-9498-4c00-86ca-66da5cec2374",
   "metadata": {},
   "source": [
    "## Mesclar os dados"
   ]
  },
  {
   "cell_type": "code",
   "execution_count": 51,
   "id": "c416b06e-c5ef-4dda-8cc6-94c12bcf5b41",
   "metadata": {},
   "outputs": [
    {
     "data": {
      "text/plain": [
       "(14575, 6)"
      ]
     },
     "execution_count": 51,
     "metadata": {},
     "output_type": "execute_result"
    }
   ],
   "source": [
    "dados_homologados.shape"
   ]
  },
  {
   "cell_type": "code",
   "execution_count": 52,
   "id": "87d607e2-13ca-4065-a52b-c4594940d936",
   "metadata": {},
   "outputs": [
    {
     "data": {
      "text/plain": [
       "(14575, 30)"
      ]
     },
     "execution_count": 52,
     "metadata": {},
     "output_type": "execute_result"
    }
   ],
   "source": [
    "dados_notasRespostas.shape"
   ]
  },
  {
   "cell_type": "code",
   "execution_count": 53,
   "id": "785011ff-1121-4598-81ef-5989e7b100e5",
   "metadata": {},
   "outputs": [],
   "source": [
    "data_poscomp = dados_homologados.merge(dados_notasRespostas,\n",
    "                        how='inner',\n",
    "                        left_on=['INSCRICAO'],\n",
    "                        right_on=['INSCRICAO'])"
   ]
  },
  {
   "cell_type": "code",
   "execution_count": 57,
   "id": "e5d1fdac-65c1-4828-b1e4-fc0e228eb986",
   "metadata": {},
   "outputs": [
    {
     "data": {
      "text/plain": [
       "(14573, 35)"
      ]
     },
     "execution_count": 57,
     "metadata": {},
     "output_type": "execute_result"
    }
   ],
   "source": [
    "data_poscomp.shape"
   ]
  },
  {
   "cell_type": "markdown",
   "id": "de657596-c05c-4beb-9800-2aacfa13db0c",
   "metadata": {
    "tags": []
   },
   "source": [
    "## Column transformation "
   ]
  },
  {
   "cell_type": "code",
   "execution_count": 59,
   "id": "d4a08490-7356-406f-9ec0-97389a6e62ce",
   "metadata": {},
   "outputs": [
    {
     "ename": "NameError",
     "evalue": "name 'poscomp' is not defined",
     "output_type": "error",
     "traceback": [
      "\u001b[0;31m---------------------------------------------------------------------------\u001b[0m",
      "\u001b[0;31mNameError\u001b[0m                                 Traceback (most recent call last)",
      "Cell \u001b[0;32mIn[59], line 1\u001b[0m\n\u001b[0;32m----> 1\u001b[0m \u001b[43mposcomp\u001b[49m\n",
      "\u001b[0;31mNameError\u001b[0m: name 'poscomp' is not defined"
     ]
    }
   ],
   "source": [
    "p"
   ]
  },
  {
   "cell_type": "markdown",
   "id": "9d0fe170-d25a-49f3-9dbb-c82864f44227",
   "metadata": {
    "tags": []
   },
   "source": [
    "## Salvar dados"
   ]
  },
  {
   "cell_type": "code",
   "execution_count": 24,
   "id": "68394da5-0d60-421f-9110-7386f3ceaf4d",
   "metadata": {},
   "outputs": [],
   "source": [
    "data_poscomp.to_csv('../dados/homologacao_poscomp/dataset_poscomp.csv', index=False)"
   ]
  },
  {
   "cell_type": "code",
   "execution_count": null,
   "id": "564aa3b5-729f-47da-aff9-b84e860229f7",
   "metadata": {},
   "outputs": [],
   "source": [
    "# dados_notasRespostas.to_csv('dados/notas_poscomp/dados_notasRespostas.csv')"
   ]
  }
 ],
 "metadata": {
  "kernelspec": {
   "display_name": "Python 3 (ipykernel)",
   "language": "python",
   "name": "python3"
  },
  "language_info": {
   "codemirror_mode": {
    "name": "ipython",
    "version": 3
   },
   "file_extension": ".py",
   "mimetype": "text/x-python",
   "name": "python",
   "nbconvert_exporter": "python",
   "pygments_lexer": "ipython3",
   "version": "3.11.7"
  }
 },
 "nbformat": 4,
 "nbformat_minor": 5
}
