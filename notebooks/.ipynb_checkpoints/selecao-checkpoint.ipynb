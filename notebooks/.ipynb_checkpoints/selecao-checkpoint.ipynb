{
 "cells": [
  {
   "cell_type": "markdown",
   "id": "39492b9d-538f-4854-a211-e64c18f1ad04",
   "metadata": {},
   "source": [
    "### Importar as bibliotecas"
   ]
  },
  {
   "cell_type": "code",
   "execution_count": 1,
   "id": "e7ce8f45-8920-49bb-b6c7-8685f29da238",
   "metadata": {},
   "outputs": [],
   "source": [
    "import pandas as pd\n",
    "import numpy as np\n",
    "import matplotlib.pyplot as plt\n",
    "import import_ipynb"
   ]
  },
  {
   "cell_type": "markdown",
   "id": "fa328b2a-deed-4b57-8b2a-3400222b9062",
   "metadata": {
    "tags": []
   },
   "source": [
    "## Dados de Homologação"
   ]
  },
  {
   "cell_type": "code",
   "execution_count": 2,
   "id": "5ce5971c-6190-4eba-a4f9-2dd969ac9764",
   "metadata": {},
   "outputs": [],
   "source": [
    "dados_homologados_2016 = pd.read_csv(\"dados/homologacao_poscomp/homologados_dados_contatos_poscomp_2016.csv\", sep=';', encoding='utf-8')\n",
    "dados_homologados_2017 = pd.read_csv(\"dados/homologacao_poscomp/homologados_dados_contatos_poscomp_2017.csv\", sep=';', encoding='utf-8')\n",
    "dados_homologados_2018 = pd.read_csv(\"dados/homologacao_poscomp/homologados_dados_contatos_poscomp_2018.csv\", sep=';', encoding='utf-8')\n",
    "dados_homologados_2019 = pd.read_csv(\"dados/homologacao_poscomp/homologados_dados_contatos_poscomp_2019.csv\", sep=';', encoding='utf-8')"
   ]
  },
  {
   "cell_type": "code",
   "execution_count": 3,
   "id": "f1c67a31-3a2e-42f9-b7f0-7cbebb41e5ee",
   "metadata": {},
   "outputs": [],
   "source": [
    "dados_homologados_2016 = dados_homologados_2016.assign(ANO='2016')\n",
    "dados_homologados_2017 = dados_homologados_2017.assign(ANO='2017')\n",
    "dados_homologados_2018 = dados_homologados_2018.assign(ANO='2018')\n",
    "dados_homologados_2019 = dados_homologados_2019.assign(ANO='2019')"
   ]
  },
  {
   "cell_type": "code",
   "execution_count": 4,
   "id": "556fb21c-623e-4347-8065-07f95bc51edd",
   "metadata": {
    "tags": []
   },
   "outputs": [],
   "source": [
    "dados_homologados = pd.concat([dados_homologados_2016, dados_homologados_2017, dados_homologados_2018, dados_homologados_2019], axis=0)\n",
    "dados_homologados = dados_homologados.drop(columns=['CPF', 'TIPO DE DOCUMENTO', 'DOCUMENTO','NOME DO PAI', \n",
    "                                                    'NOME DA MÃE', 'EMAIL', 'DDD', 'FONE', 'DDD CEL', 'CELULAR', 'SENHA', 'DATA INSCRIÇÃO',\n",
    "                                                    'DEFICIENTE', 'NECESSIDADES ESPECIAIS', 'DESCRICAO DA NECESSIDADE', 'ESTRANGEIRO', \n",
    "                                                    'CARGO','DS CARGO', 'COMPL.', 'ENDERECO.', 'BAIRRO', 'CEP', 'NUMERO', 'LOCAL DE PROVA', 'CIDADE', 'CÓDIGO'])"
   ]
  },
  {
   "cell_type": "code",
   "execution_count": 5,
   "id": "fb6e255d-efc2-4ef5-955e-7ff59284551c",
   "metadata": {},
   "outputs": [],
   "source": [
    "dados_homologados = dados_homologados.set_index('INSCRICAO')"
   ]
  },
  {
   "cell_type": "code",
   "execution_count": 6,
   "id": "ba4b3beb-f039-4328-a497-ecd3a222f928",
   "metadata": {},
   "outputs": [
    {
     "data": {
      "text/html": [
       "<div>\n",
       "<style scoped>\n",
       "    .dataframe tbody tr th:only-of-type {\n",
       "        vertical-align: middle;\n",
       "    }\n",
       "\n",
       "    .dataframe tbody tr th {\n",
       "        vertical-align: top;\n",
       "    }\n",
       "\n",
       "    .dataframe thead th {\n",
       "        text-align: right;\n",
       "    }\n",
       "</style>\n",
       "<table border=\"1\" class=\"dataframe\">\n",
       "  <thead>\n",
       "    <tr style=\"text-align: right;\">\n",
       "      <th></th>\n",
       "      <th>NOME</th>\n",
       "      <th>DATA NASC.</th>\n",
       "      <th>SEXO</th>\n",
       "      <th>ESTADO</th>\n",
       "      <th>ANO</th>\n",
       "    </tr>\n",
       "    <tr>\n",
       "      <th>INSCRICAO</th>\n",
       "      <th></th>\n",
       "      <th></th>\n",
       "      <th></th>\n",
       "      <th></th>\n",
       "      <th></th>\n",
       "    </tr>\n",
       "  </thead>\n",
       "  <tbody>\n",
       "    <tr>\n",
       "      <th>39401673171-6</th>\n",
       "      <td>ABEL CASTRO CONDORI</td>\n",
       "      <td>27/10/1992</td>\n",
       "      <td>M</td>\n",
       "      <td>OU</td>\n",
       "      <td>2016</td>\n",
       "    </tr>\n",
       "    <tr>\n",
       "      <th>39401645886-1</th>\n",
       "      <td>ABELARDO VIEIRA MOTA</td>\n",
       "      <td>29/11/1989</td>\n",
       "      <td>M</td>\n",
       "      <td>CE</td>\n",
       "      <td>2016</td>\n",
       "    </tr>\n",
       "    <tr>\n",
       "      <th>39401663587-8</th>\n",
       "      <td>ABNER MATHEUS COSTA DE ARAUJO</td>\n",
       "      <td>23/02/1995</td>\n",
       "      <td>M</td>\n",
       "      <td>RS</td>\n",
       "      <td>2016</td>\n",
       "    </tr>\n",
       "    <tr>\n",
       "      <th>39401651770-6</th>\n",
       "      <td>ABNER MOISES DOS SANTOS GOMES</td>\n",
       "      <td>13/12/1991</td>\n",
       "      <td>M</td>\n",
       "      <td>SP</td>\n",
       "      <td>2016</td>\n",
       "    </tr>\n",
       "    <tr>\n",
       "      <th>39401671273-0</th>\n",
       "      <td>ABRAAO DA COSTA SANTANA</td>\n",
       "      <td>29/09/1986</td>\n",
       "      <td>M</td>\n",
       "      <td>PA</td>\n",
       "      <td>2016</td>\n",
       "    </tr>\n",
       "    <tr>\n",
       "      <th>...</th>\n",
       "      <td>...</td>\n",
       "      <td>...</td>\n",
       "      <td>...</td>\n",
       "      <td>...</td>\n",
       "      <td>...</td>\n",
       "    </tr>\n",
       "    <tr>\n",
       "      <th>51801396055-5</th>\n",
       "      <td>YURI MORASKI BATISTA</td>\n",
       "      <td>10/01/1994</td>\n",
       "      <td>M</td>\n",
       "      <td>ES</td>\n",
       "      <td>2019</td>\n",
       "    </tr>\n",
       "    <tr>\n",
       "      <th>51801354647-6</th>\n",
       "      <td>YURI SILVA VAZ</td>\n",
       "      <td>20/03/1995</td>\n",
       "      <td>M</td>\n",
       "      <td>RS</td>\n",
       "      <td>2019</td>\n",
       "    </tr>\n",
       "    <tr>\n",
       "      <th>51801393821-0</th>\n",
       "      <td>YURI VLADIMIR HUALLPA VARGAS</td>\n",
       "      <td>24/06/1995</td>\n",
       "      <td>M</td>\n",
       "      <td>OU</td>\n",
       "      <td>2019</td>\n",
       "    </tr>\n",
       "    <tr>\n",
       "      <th>51801354273-1</th>\n",
       "      <td>YURY ALENCAR LIMA</td>\n",
       "      <td>30/05/1997</td>\n",
       "      <td>M</td>\n",
       "      <td>RS</td>\n",
       "      <td>2019</td>\n",
       "    </tr>\n",
       "    <tr>\n",
       "      <th>51801366900-3</th>\n",
       "      <td>ZOLTÁN HIRATA JETSMEN</td>\n",
       "      <td>20/03/1997</td>\n",
       "      <td>M</td>\n",
       "      <td>SP</td>\n",
       "      <td>2019</td>\n",
       "    </tr>\n",
       "  </tbody>\n",
       "</table>\n",
       "<p>14575 rows × 5 columns</p>\n",
       "</div>"
      ],
      "text/plain": [
       "                                        NOME  DATA NASC. SEXO ESTADO   ANO\n",
       "INSCRICAO                                                                 \n",
       "39401673171-6            ABEL CASTRO CONDORI  27/10/1992    M     OU  2016\n",
       "39401645886-1           ABELARDO VIEIRA MOTA  29/11/1989    M     CE  2016\n",
       "39401663587-8  ABNER MATHEUS COSTA DE ARAUJO  23/02/1995    M     RS  2016\n",
       "39401651770-6  ABNER MOISES DOS SANTOS GOMES  13/12/1991    M     SP  2016\n",
       "39401671273-0        ABRAAO DA COSTA SANTANA  29/09/1986    M     PA  2016\n",
       "...                                      ...         ...  ...    ...   ...\n",
       "51801396055-5           YURI MORASKI BATISTA  10/01/1994    M     ES  2019\n",
       "51801354647-6                 YURI SILVA VAZ  20/03/1995    M     RS  2019\n",
       "51801393821-0   YURI VLADIMIR HUALLPA VARGAS  24/06/1995    M     OU  2019\n",
       "51801354273-1              YURY ALENCAR LIMA  30/05/1997    M     RS  2019\n",
       "51801366900-3          ZOLTÁN HIRATA JETSMEN  20/03/1997    M     SP  2019\n",
       "\n",
       "[14575 rows x 5 columns]"
      ]
     },
     "execution_count": 6,
     "metadata": {},
     "output_type": "execute_result"
    }
   ],
   "source": [
    "dados_homologados"
   ]
  },
  {
   "cell_type": "code",
   "execution_count": 7,
   "id": "8466013d-35dc-4a4f-9061-5068f7c5044f",
   "metadata": {},
   "outputs": [
    {
     "data": {
      "text/html": [
       "<div>\n",
       "<style scoped>\n",
       "    .dataframe tbody tr th:only-of-type {\n",
       "        vertical-align: middle;\n",
       "    }\n",
       "\n",
       "    .dataframe tbody tr th {\n",
       "        vertical-align: top;\n",
       "    }\n",
       "\n",
       "    .dataframe thead th {\n",
       "        text-align: right;\n",
       "    }\n",
       "</style>\n",
       "<table border=\"1\" class=\"dataframe\">\n",
       "  <thead>\n",
       "    <tr style=\"text-align: right;\">\n",
       "      <th></th>\n",
       "      <th>NOME</th>\n",
       "      <th>DATA NASC.</th>\n",
       "      <th>SEXO</th>\n",
       "      <th>ESTADO</th>\n",
       "      <th>ANO</th>\n",
       "    </tr>\n",
       "    <tr>\n",
       "      <th>INSCRICAO</th>\n",
       "      <th></th>\n",
       "      <th></th>\n",
       "      <th></th>\n",
       "      <th></th>\n",
       "      <th></th>\n",
       "    </tr>\n",
       "  </thead>\n",
       "  <tbody>\n",
       "    <tr>\n",
       "      <th>51801353989-4</th>\n",
       "      <td>ADRIANNE VERAS DE ALMEIDA</td>\n",
       "      <td>24/07/1996</td>\n",
       "      <td>F</td>\n",
       "      <td>PA</td>\n",
       "      <td>2019</td>\n",
       "    </tr>\n",
       "  </tbody>\n",
       "</table>\n",
       "</div>"
      ],
      "text/plain": [
       "                                    NOME  DATA NASC. SEXO ESTADO   ANO\n",
       "INSCRICAO                                                             \n",
       "51801353989-4  ADRIANNE VERAS DE ALMEIDA  24/07/1996    F     PA  2019"
      ]
     },
     "execution_count": 7,
     "metadata": {},
     "output_type": "execute_result"
    }
   ],
   "source": [
    "dados_homologados[dados_homologados['NOME'].str.startswith('ADRIANNE')]"
   ]
  },
  {
   "cell_type": "markdown",
   "id": "91edac3f-7386-43a6-bf35-14f839757769",
   "metadata": {
    "tags": []
   },
   "source": [
    "## Notas das respostas"
   ]
  },
  {
   "cell_type": "markdown",
   "id": "2dcd4e6b-ee2e-4e36-b7e5-ad1b33c72bd7",
   "metadata": {
    "tags": []
   },
   "source": [
    "#### Base de 2016 a 2019"
   ]
  },
  {
   "cell_type": "code",
   "execution_count": 8,
   "id": "faf1ac4a-12f3-491d-a71d-3904659b56db",
   "metadata": {},
   "outputs": [
    {
     "name": "stdout",
     "output_type": "stream",
     "text": [
      "importing Jupyter notebook from C:\\Users\\jeanc\\projetos pessoais\\project_dataScience_POSCOMP\\services\\listasColunas.ipynb\n",
      "importing Jupyter notebook from C:\\Users\\jeanc\\projetos pessoais\\project_dataScience_POSCOMP\\services\\alterarColunas.ipynb\n"
     ]
    }
   ],
   "source": [
    "import services.listasColunas as lc\n",
    "import services.alterarColunas as altc"
   ]
  },
  {
   "cell_type": "code",
   "execution_count": 9,
   "id": "7adacf8a-f135-4daf-b8dc-c94223f9a4d3",
   "metadata": {},
   "outputs": [],
   "source": [
    "dados_notasRespostas_2016 = pd.read_csv(\"dados/notas_poscomp/Notas_poscomp_2016.csv\", sep=';', encoding='utf-8')\n",
    "dados_notasRespostas_2017 = pd.read_csv(\"dados/notas_poscomp/Notas_poscomp_2017.csv\", sep=';', encoding='utf-8')\n",
    "dados_notasRespostas_2018 = pd.read_csv(\"dados/notas_poscomp/Notas_poscomp_2018.csv\", sep=';', encoding='utf-8')\n",
    "dados_notasRespostas_2019 = pd.read_csv(\"dados/notas_poscomp/Notas_poscomp_2019.csv\", sep=';', encoding='utf-8')"
   ]
  },
  {
   "cell_type": "code",
   "execution_count": 10,
   "id": "31da24a7-7c98-40f3-aa77-128936cb0bb0",
   "metadata": {
    "tags": []
   },
   "outputs": [
    {
     "data": {
      "text/plain": [
       "Index(['CONCURSO', 'NOME', 'DATA NASC', 'CPF', 'DOCUMENTO', 'NEC ESP', 'HIPO',\n",
       "       'DEF', 'AFRO', 'INDIO', 'COD CARGO', 'CARGO', 'CÓD. ESPECIALIDADE',\n",
       "       'ESPECIALIDADE', 'INSCRICAO', 'IDENTIFICADOR', 'PRESENTE DIA1',\n",
       "       'PRESENTE DIA2', 'PRESENTE DIA3', 'PARTICIPAÇÃO EM JÚRI',\n",
       "       'ACERTOS Álgebra Linear', 'NOTA Álgebra Linear',\n",
       "       'ACERTOS Análise Combinatória', 'NOTA Análise Combinatória',\n",
       "       'ACERTOS Calculo Diferencial e Integral',\n",
       "       'NOTA Calculo Diferencial e Integral', 'ACERTOS Geometria Analítica',\n",
       "       'NOTA Geometria Analítica', 'ACERTOS Matemática Discreta',\n",
       "       'NOTA Matemática Discreta', 'ACERTOS Probabilidade e Estatística',\n",
       "       'NOTA Probabilidade e Estatística', 'ACERTOS Lógica Matemática',\n",
       "       'NOTA Lógica Matemática', 'ACERTOS Análise de Algoritmos',\n",
       "       'NOTA Análise de Algoritmos', 'ACERTOS Algoritmos e Estrutura de Dados',\n",
       "       'NOTA Algoritmos e Estrutura de Dados',\n",
       "       'ACERTOS Arquitetura e Organização de Computadores',\n",
       "       'NOTA Arquitetura e Organização de Computadores',\n",
       "       'ACERTOS Circuitos Digitais', 'NOTA Circuitos Digitais',\n",
       "       'ACERTOS Linguagens de Programação', 'NOTA Linguagens de Programação',\n",
       "       'ACERTOS Linguagens formais, autômatos e Computabilidade',\n",
       "       'NOTA Linguagens formais, autômatos e Computabilidade',\n",
       "       'ACERTOS Organização de Arquivos e Dados',\n",
       "       'NOTA Organização de Arquivos e Dados', 'ACERTOS Sistemas Operacionais',\n",
       "       'NOTA Sistemas Operacionais', 'ACERTOS Técnicas de Programação',\n",
       "       'NOTA Técnicas de Programação', 'ACERTOS Teoria dos Grafos',\n",
       "       'NOTA Teoria dos Grafos', 'ACERTOS Banco de Dados',\n",
       "       'NOTA Banco de Dados', 'ACERTOS Compiladores', 'NOTA Compiladores',\n",
       "       'ACERTOS Computação Gráfica', 'NOTA Computação Gráfica',\n",
       "       'ACERTOS Engenharia de Software', 'NOTA Engenharia de Software',\n",
       "       'ACERTOS Inteligência Artificial', 'NOTA Inteligência Artificial',\n",
       "       'ACERTOS Processamento de Imagens', 'NOTA Processamento de Imagens',\n",
       "       'ACERTOS Redes de Computadores', 'NOTA Redes de Computadores',\n",
       "       'ACERTOS Sistemas Distribuídos', 'NOTA Sistemas Distribuídos',\n",
       "       'ACERTOS TO', 'NOTA TOTAL TO', 'ESTRANGEIRO'],\n",
       "      dtype='object')"
      ]
     },
     "execution_count": 10,
     "metadata": {},
     "output_type": "execute_result"
    }
   ],
   "source": [
    "dados_notasRespostas_2019.columns"
   ]
  },
  {
   "cell_type": "code",
   "execution_count": 11,
   "id": "790e0eef-06aa-467b-9660-7989cfddc6ad",
   "metadata": {},
   "outputs": [],
   "source": [
    "dados_notasRespostas_2016 = dados_notasRespostas_2016.assign(ANO='2016')\n",
    "dados_notasRespostas_2017 = dados_notasRespostas_2017.assign(ANO='2017')\n",
    "dados_notasRespostas_2018 = dados_notasRespostas_2018.assign(ANO='2018')\n",
    "dados_notasRespostas_2019 = dados_notasRespostas_2019.assign(ANO='2019')"
   ]
  },
  {
   "cell_type": "code",
   "execution_count": 12,
   "id": "7c666690-a80e-46c3-bc24-0fec4a3630d2",
   "metadata": {},
   "outputs": [],
   "source": [
    "dados_notasRespostas_2016 = dados_notasRespostas_2016[lc.lista_2016]\n",
    "dados_notasRespostas_2017 = dados_notasRespostas_2017[lc.lista_2017]\n",
    "dados_notasRespostas_2018 = dados_notasRespostas_2018[lc.lista_2018]\n",
    "dados_notasRespostas_2019 = dados_notasRespostas_2019[lc.lista_2019]"
   ]
  },
  {
   "cell_type": "code",
   "execution_count": 13,
   "id": "6d095162-4ca7-4ba1-a8cd-c4200978261f",
   "metadata": {},
   "outputs": [],
   "source": [
    "dados_notasRespostas_2016 = dados_notasRespostas_2016.rename(columns=altc.alteraColunas_2016)\n",
    "dados_notasRespostas_2017 = dados_notasRespostas_2017.rename(columns=altc.alteraColunas_2017)\n",
    "dados_notasRespostas_2018 = dados_notasRespostas_2018.rename(columns=altc.alteraColunas_2018)\n",
    "dados_notasRespostas_2019 = dados_notasRespostas_2019.rename(columns=altc.alteraColunas_2019)"
   ]
  },
  {
   "cell_type": "code",
   "execution_count": 14,
   "id": "378e6259-adf5-4026-aa78-525e64d1b4cc",
   "metadata": {},
   "outputs": [],
   "source": [
    "dados_notasRespostas = pd.concat([dados_notasRespostas_2016, dados_notasRespostas_2017, dados_notasRespostas_2018, dados_notasRespostas_2019], axis=0)"
   ]
  },
  {
   "cell_type": "code",
   "execution_count": 15,
   "id": "21e5ab97-2811-4d97-b474-39e0df2fd453",
   "metadata": {},
   "outputs": [],
   "source": [
    "dados_notasRespostas = dados_notasRespostas.set_index('INSCRICAO')"
   ]
  },
  {
   "cell_type": "markdown",
   "id": "de657596-c05c-4beb-9800-2aacfa13db0c",
   "metadata": {
    "tags": []
   },
   "source": [
    "## Salvar dados"
   ]
  },
  {
   "cell_type": "code",
   "execution_count": 16,
   "id": "68394da5-0d60-421f-9110-7386f3ceaf4d",
   "metadata": {},
   "outputs": [],
   "source": [
    "dados_homologados.to_csv('dados/homologacao_poscomp/dados_homologados.csv')"
   ]
  },
  {
   "cell_type": "code",
   "execution_count": 17,
   "id": "564aa3b5-729f-47da-aff9-b84e860229f7",
   "metadata": {},
   "outputs": [],
   "source": [
    "dados_notasRespostas.to_csv('dados/notas_poscomp/dados_notasRespostas.csv')"
   ]
  }
 ],
 "metadata": {
  "kernelspec": {
   "display_name": "Python 3 (ipykernel)",
   "language": "python",
   "name": "python3"
  },
  "language_info": {
   "codemirror_mode": {
    "name": "ipython",
    "version": 3
   },
   "file_extension": ".py",
   "mimetype": "text/x-python",
   "name": "python",
   "nbconvert_exporter": "python",
   "pygments_lexer": "ipython3",
   "version": "3.11.5"
  }
 },
 "nbformat": 4,
 "nbformat_minor": 5
}
