{
 "cells": [
  {
   "cell_type": "markdown",
   "id": "0b6e3b52-5850-4d30-808e-cc286e6e6e36",
   "metadata": {},
   "source": [
    "# Applications of Machine Learning Algorithms (Working with three models)"
   ]
  },
  {
   "cell_type": "markdown",
   "id": "05d1011e-4d9e-46ff-88f2-36c47106ff3b",
   "metadata": {},
   "source": [
    "### Load libraries"
   ]
  },
  {
   "cell_type": "code",
   "execution_count": 1,
   "id": "1d394d89-0126-4cbd-8140-28733f583067",
   "metadata": {},
   "outputs": [
    {
     "name": "stdout",
     "output_type": "stream",
     "text": [
      "importing Jupyter notebook from /home/jean/project/project_dataScience_POSCOMP/notebooks/../services/especialidades.ipynb\n"
     ]
    }
   ],
   "source": [
    "%run ../services/imports.py\n",
    "%run ../services/function.py\n",
    "%run ../services/classifier_evaluation.py\n",
    "%run ../services/visualization.py"
   ]
  },
  {
   "cell_type": "code",
   "execution_count": 2,
   "id": "69f285b3-d9ec-4a46-b161-56cf97f513af",
   "metadata": {},
   "outputs": [],
   "source": [
    "visualizacao = Visualizacao()"
   ]
  },
  {
   "cell_type": "markdown",
   "id": "bfed2bd6-a79b-481b-a9cf-e6d6d438712b",
   "metadata": {},
   "source": [
    "## Load the database"
   ]
  },
  {
   "cell_type": "code",
   "execution_count": 3,
   "id": "c4dd3968-ecee-45d0-9d7e-5ec61d73cf1d",
   "metadata": {
    "tags": []
   },
   "outputs": [],
   "source": [
    "# dataset = pd.read_csv(\"../dados/df_poscomp.csv\")"
   ]
  },
  {
   "cell_type": "code",
   "execution_count": 30,
   "id": "0234943e-d26d-4374-9222-88df54043a20",
   "metadata": {
    "tags": []
   },
   "outputs": [],
   "source": [
    "dataset = pd.read_csv(\"../dados/poscomp_frame.csv\")\n",
    "dataset.columns = dataset.columns.str.lower()"
   ]
  },
  {
   "cell_type": "code",
   "execution_count": 31,
   "id": "248be32b-37ab-40a9-a970-9c488c275651",
   "metadata": {},
   "outputs": [
    {
     "data": {
      "text/plain": [
       "linhas_pesquisas\n",
       "inteligência artificial    2490\n",
       "sistemas de computação     1819\n",
       "engenharia de software     1667\n",
       "redes de computadores       921\n",
       "Name: count, dtype: int64"
      ]
     },
     "execution_count": 31,
     "metadata": {},
     "output_type": "execute_result"
    }
   ],
   "source": [
    "dataset['linhas_pesquisas'].value_counts()"
   ]
  },
  {
   "cell_type": "code",
   "execution_count": 32,
   "id": "148c42e3-311c-42aa-a675-b6b5c5c2200c",
   "metadata": {},
   "outputs": [
    {
     "data": {
      "text/plain": [
       "linhas_pesquisas\n",
       "inteligência artificial    2490\n",
       "sistemas de computação     1819\n",
       "engenharia de software     1667\n",
       "redes de computadores       921\n",
       "Name: count, dtype: int64"
      ]
     },
     "execution_count": 32,
     "metadata": {},
     "output_type": "execute_result"
    }
   ],
   "source": [
    "dataset[\"linhas_pesquisas\"].value_counts()"
   ]
  },
  {
   "cell_type": "code",
   "execution_count": 33,
   "id": "0ef5aed8-aac5-42b8-bfd3-3379cf1ebda2",
   "metadata": {},
   "outputs": [],
   "source": [
    "dataset = dataset[(dataset[\"linhas_pesquisas\"] != \"Outros\")]"
   ]
  },
  {
   "cell_type": "code",
   "execution_count": 34,
   "id": "499ac9ee-ca00-4716-9c13-bd47839a3250",
   "metadata": {
    "tags": []
   },
   "outputs": [],
   "source": [
    "X_dataset = dataset.loc[\n",
    "    :,\n",
    "    [\n",
    "        \"idade\",\n",
    "        \"sexo\",\n",
    "        \"regiao\",\n",
    "        \"estado\",\n",
    "        \"matematica\",\n",
    "        \"fund_computacao\",\n",
    "        \"tec_computacao\",\n",
    "        \"total\",\n",
    "        \"area_concentration\",\n",
    "    ],\n",
    "]"
   ]
  },
  {
   "cell_type": "code",
   "execution_count": 35,
   "id": "3ed6f40b-fd86-4f10-8369-a0620b423511",
   "metadata": {},
   "outputs": [],
   "source": [
    "X_dataset[\"area_concentration\"] = dataset.area_concentration\n",
    "X_dataset[\"area_concentration\"] = X_dataset[\"area_concentration\"].astype(\"category\")"
   ]
  },
  {
   "cell_type": "code",
   "execution_count": 36,
   "id": "fc515f69-4e5e-43f1-b601-a6a84612d324",
   "metadata": {},
   "outputs": [],
   "source": [
    "def encode_categorical_columns(df, columns):\n",
    "    le = LabelEncoder()\n",
    "    for col in columns:\n",
    "        df[col] = le.fit_transform(df[col])\n",
    "    return df\n",
    "\n",
    "\n",
    "categorical_columns = [\"area_concentration\", \"sexo\", \"regiao\", \"estado\"]\n",
    "X_dataset = encode_categorical_columns(X_dataset, categorical_columns)"
   ]
  },
  {
   "cell_type": "code",
   "execution_count": 37,
   "id": "1f54f1b5-8d95-4c24-a837-c90042f0291e",
   "metadata": {
    "tags": []
   },
   "outputs": [],
   "source": [
    "X = X_dataset.drop([\"area_concentration\"], axis=1)\n",
    "y = X_dataset[\"area_concentration\"]"
   ]
  },
  {
   "cell_type": "markdown",
   "id": "68742363-11c0-4c88-968c-5e12403ca584",
   "metadata": {},
   "source": [
    "## Working with the first model"
   ]
  },
  {
   "cell_type": "markdown",
   "id": "4a3a66fd-0f16-4dbe-8da9-689e75846071",
   "metadata": {
    "tags": []
   },
   "source": [
    "### Split the base"
   ]
  },
  {
   "cell_type": "code",
   "execution_count": 38,
   "id": "c25fe3bb-03a3-41b5-8094-7d30bfcfea06",
   "metadata": {
    "tags": []
   },
   "outputs": [],
   "source": [
    "x_train, x_test, y_train, y_test = train_test_split(\n",
    "    X, y, test_size=0.3, random_state=42, stratify=y\n",
    ")"
   ]
  },
  {
   "cell_type": "code",
   "execution_count": 39,
   "id": "dbc22457-96b6-4a28-9d4e-a9fe756d4412",
   "metadata": {},
   "outputs": [
    {
     "name": "stdout",
     "output_type": "stream",
     "text": [
      "Shape of x_train :  (4827, 8)\n",
      "Shape of x_test  :  (2070, 8)\n",
      "Shape of y_train :  (4827,)\n",
      "Shape of y_test  :  (2070,)\n"
     ]
    }
   ],
   "source": [
    "print(\"Shape of x_train : \", x_train.shape)\n",
    "print(\"Shape of x_test  : \", x_test.shape)\n",
    "print(\"Shape of y_train : \", y_train.shape)\n",
    "print(\"Shape of y_test  : \", y_test.shape)"
   ]
  },
  {
   "cell_type": "markdown",
   "id": "f5569609-e926-40e6-87f8-7fcfa28e70f7",
   "metadata": {},
   "source": [
    "#### Turing hyperparameter"
   ]
  },
  {
   "cell_type": "code",
   "execution_count": 14,
   "id": "3eeea848-235f-4960-9e74-99962eccb250",
   "metadata": {},
   "outputs": [],
   "source": [
    "def process_cv_results(cv_results, top_n=10, output_filename=\"df_em_porcentagem.csv\"):\n",
    "    cv_results_df = pd.DataFrame(cv_results)\n",
    "\n",
    "    # Classifique o DataFrame com base na pontuação do teste e no tempo\n",
    "    cv_results_df = cv_results_df.sort_values(\n",
    "        by=[\"mean_test_score\", \"mean_score_time\"], ascending=[False, True]\n",
    "    )\n",
    "\n",
    "    # Remova as linhas duplicadas com base na pontuação do teste\n",
    "    cv_results_df = cv_results_df.drop_duplicates(subset=\"mean_test_score\", keep=\"first\")\n",
    "\n",
    "    # Selecione as melhores combinações\n",
    "    param_col = [col for col in cv_results_df.columns if col.startswith(\"param\")][:-1] + [\n",
    "        \"mean_test_score\",\n",
    "        \"mean_train_score\",\n",
    "    ]\n",
    "    cv_results_df = cv_results_df[param_col]\n",
    "    top_results = cv_results_df.sort_values(by=\"mean_test_score\", ascending=False)[:top_n]\n",
    "    atributos = [\"mean_test_score\", \"mean_train_score\"]\n",
    "\n",
    "    # Função para converter os valores para porcentagem\n",
    "    def convert_to_percentage(value):\n",
    "        return f\"{value * 100:.2f}%\"\n",
    "\n",
    "    # Aplica a função de conversão a todas as células dos atributos selecionados e salva em um arquivo CSV\n",
    "    top_results[atributos] = top_results[atributos].applymap(convert_to_percentage)\n",
    "    top_results.to_csv(output_filename, index=False)\n",
    "\n",
    "    return top_results\n"
   ]
  },
  {
   "cell_type": "markdown",
   "id": "c465ab7e-ab91-4f38-b8b9-a5532bdd0d1b",
   "metadata": {
    "tags": []
   },
   "source": [
    "##### Árvore de Decisão"
   ]
  },
  {
   "cell_type": "code",
   "execution_count": null,
   "id": "db0003a8-3c0a-4e1b-9de1-c0db92b736ac",
   "metadata": {
    "tags": []
   },
   "outputs": [],
   "source": [
    "parametros = {\n",
    "    \"criterion\": [\"gini\", \"entropy\"],\n",
    "    \"splitter\": [\"random\", \"best\"],\n",
    "    \"max_depth\": [4, 5, 7, 8],  # Ou qualquer outro intervalo apropriado\n",
    "    \"min_samples_split\": [2, 5, 10, 15],\n",
    "    \"min_samples_leaf\": [2, 3, 5, 9, 10],\n",
    "    # 'min_weight_fraction_leaf': [0.0, 0.1, 0.2],\n",
    "    \"max_features\": [5, 6, 7, 8, 9, 10],\n",
    "    \"max_leaf_nodes\": [None, 5, 10, 14, 15, 16, 17],\n",
    "    # 'min_impurity_decrease': [0.0, 0.1, 0.2],\n",
    "    # 'ccp_alpha': [0.0, 0.1, 0.2],\n",
    "}"
   ]
  },
  {
   "cell_type": "code",
   "execution_count": null,
   "id": "fd232a86-eaa5-4e93-afb6-58840a9751b1",
   "metadata": {
    "tags": []
   },
   "outputs": [],
   "source": [
    "tree_clf = ClassifierWrapper(DecisionTreeClassifier(random_state=42), parametros)\n",
    "tree_clf.grid_search(x_train, y_train, cv=10)\n",
    "tree_clf.train_and_print_scores(x_train, y_train, x_test, y_test)"
   ]
  },
  {
   "cell_type": "code",
   "execution_count": null,
   "id": "1997f769-9dd1-4236-b831-d0e9730442cf",
   "metadata": {},
   "outputs": [],
   "source": [
    "process_cv_results(tree_clf.cv_results_, top_n=10, output_filename='df_em_porcentagem_tree.csv')"
   ]
  },
  {
   "cell_type": "markdown",
   "id": "effde1be-9de1-4fb8-a725-df2040bc7270",
   "metadata": {
    "tags": []
   },
   "source": [
    "##### Rede Neural"
   ]
  },
  {
   "cell_type": "code",
   "execution_count": null,
   "id": "334f458e-c7e6-4dcb-b62d-c1e0924dc648",
   "metadata": {
    "tags": []
   },
   "outputs": [],
   "source": [
    "parametros = {\n",
    "    \"hidden_layer_sizes\": [\n",
    "        (50,),\n",
    "        (100,),\n",
    "        (50, 50),\n",
    "        (100, 100),\n",
    "        (500, 250, 125),\n",
    "        (200, 100, 50),\n",
    "    ],  # Experimente diferentes configurações de camadas e neurônios\n",
    "    \"activation\": [\"identity\", \"logistic\", \"tanh\", \"relu\"],\n",
    "    \"solver\": [\"lbfgs\", \"sgd\", \"adam\"],\n",
    "    \"alpha\": [0.0001, 0.001, 0.01],\n",
    "    \"batch_size\": [100, 200, 300],\n",
    "    # 'learning_rate': ['invscaling'],\n",
    "    # 'learning_rate_init': [0.001, 0.01, 0.1],\n",
    "    # 'power_t': [0.5, 0.9],\n",
    "    \"max_iter\": [100, 200],\n",
    "    # 'shuffle': [True, False],\n",
    "    # 'random_state': [None, 42],\n",
    "    # 'tol': [1e-4, 1e-3, 1e-2],\n",
    "    # 'verbose': [True, False],\n",
    "    # 'warm_start': [True, False],\n",
    "    # 'momentum': [0.5, 0.9],\n",
    "    # 'nesterovs_momentum': [True, False],\n",
    "    # 'early_stopping': [True, False],\n",
    "    # 'validation_fraction': [0.1, 0.2],\n",
    "    # 'beta_1': [0.9, 0.99],\n",
    "    # 'beta_2': [0.999, 0.9999],\n",
    "    # 'epsilon': [1e-8, 1e-7],\n",
    "    # 'n_iter_no_change': [5, 10, 15],\n",
    "    # 'max_fun': [10000, 15000, 20000]\n",
    "}"
   ]
  },
  {
   "cell_type": "code",
   "execution_count": null,
   "id": "e9702684-ca95-4d7d-b7ee-4e7104e5bea5",
   "metadata": {
    "scrolled": true,
    "tags": []
   },
   "outputs": [],
   "source": [
    "neural_clf = ClassifierWrapper(MLPClassifier(random_state=42), parametros)\n",
    "neural_clf.grid_search(x_train, y_train, cv=3)\n",
    "neural_clf.train_and_print_scores(x_train, y_train, x_test, y_test)"
   ]
  },
  {
   "cell_type": "code",
   "execution_count": null,
   "id": "3310434a-b6bd-4dd4-88ac-82266717e0ed",
   "metadata": {},
   "outputs": [],
   "source": [
    "process_cv_results(neural_clf.cv_results_, top_n=10, output_filename='df_em_porcentagem_neural.csv')"
   ]
  },
  {
   "cell_type": "markdown",
   "id": "f6016397-5780-4626-91c1-5c869e9bccd9",
   "metadata": {
    "tags": []
   },
   "source": [
    "##### Random Forest"
   ]
  },
  {
   "cell_type": "code",
   "execution_count": null,
   "id": "ffc38199-64fa-413e-98ff-7ea0274cf7db",
   "metadata": {
    "tags": []
   },
   "outputs": [],
   "source": [
    "parametros = {\n",
    "    \"n_estimators\": [100,200,300],  # Você pode ajustar o número de árvores conforme necessário\n",
    "    \"criterion\": ['gini', 'entropy', 'log_loss'],\n",
    "    \"max_depth\": [9, 10, 12],\n",
    "    'min_samples_split': [2, 5,10],\n",
    "    \"min_samples_leaf\": [2,4,6],\n",
    "    # 'min_weight_fraction_leaf': [0.0, 0.1, 0.2],\n",
    "    \"max_features\": [5,6,7],\n",
    "    # 'max_leaf_nodes': [None, 10, 20, 30],\n",
    "    # 'min_impurity_decrease': [0.0, 0.1, 0.2],\n",
    "    'bootstrap': [False],\n",
    "    # 'oob_score': [True, False],\n",
    "    'n_jobs': [-1],  # Use -1 para usar todos os processadores disponíveis\n",
    "    # 'random_state': [None, 42],  # Use um valor fixo para repetibilidade\n",
    "    # 'verbose': [0, 1, 2],\n",
    "    # 'warm_start': [True, False],\n",
    "    # 'class_weight': [None, 'balanced', 'balanced_subsample'],\n",
    "    # 'ccp_alpha': [0.0, 0.1, 0.2],\n",
    "    # 'max_samples': [None, 0.7, 0.8, 0.9],\n",
    "}"
   ]
  },
  {
   "cell_type": "code",
   "execution_count": null,
   "id": "a17c7c27-8d9c-436c-a1ac-63aaa719a533",
   "metadata": {},
   "outputs": [],
   "source": [
    "forest_clf = ClassifierWrapper(RandomForestClassifier(random_state=42), parametros)\n",
    "forest_clf.grid_search(x_train, y_train, cv=10)\n",
    "forest_clf.train_and_print_scores(x_train, y_train, x_test, y_test)"
   ]
  },
  {
   "cell_type": "code",
   "execution_count": null,
   "id": "90051605-6a92-44e1-a048-e21be9f3a201",
   "metadata": {},
   "outputs": [],
   "source": [
    "process_cv_results(forest_clf.cv_results_, top_n=10, output_filename='df_em_porcentagem_rf.csv')"
   ]
  },
  {
   "cell_type": "markdown",
   "id": "ccf19920-8048-481b-9636-e9123400e3c5",
   "metadata": {
    "tags": []
   },
   "source": [
    "##### SVM"
   ]
  },
  {
   "cell_type": "code",
   "execution_count": null,
   "id": "af71b2ea-9f68-4fdf-84ce-fd21add8fe99",
   "metadata": {
    "tags": []
   },
   "outputs": [],
   "source": [
    "parametros = {\n",
    "    \"C\": [0.1, 0.01],\n",
    "    'kernel': ['rbf', 'poly'],\n",
    "    \"degree\": [3,4,5],\n",
    "    # \"gamma\": [\"scale\", \"auto\"],\n",
    "    # 'coef0': [0.0, 0.1, 1.0],\n",
    "    # 'shrinking': [True, False],\n",
    "    # 'probability': [True],\n",
    "    # 'tol': [1e-4],\n",
    "    # 'cache_size': np.arange(1,11,2),\n",
    "    # \"class_weight\": [\"balanced\"],\n",
    "    # 'verbose': [True],\n",
    "    # 'max_iter': [100, 1000, -1],  # -1 indica nenhum limite\n",
    "    # 'decision_function_shape': ['ovr', 'ovo'],\n",
    "    # 'break_ties': [True],\n",
    "}"
   ]
  },
  {
   "cell_type": "code",
   "execution_count": null,
   "id": "178f836d-2051-4f90-9e3d-01cf094fef14",
   "metadata": {
    "tags": []
   },
   "outputs": [],
   "source": [
    "svm_clf = ClassifierWrapper(SVC(random_state=42), parametros)\n",
    "svm_clf.grid_search(x_train, y_train, cv=10)\n",
    "svm_clf.train_and_print_scores(x_train, y_train, x_test, y_test)"
   ]
  },
  {
   "cell_type": "code",
   "execution_count": null,
   "id": "65d95514-4f30-4cb3-9ee4-0d62392d438e",
   "metadata": {},
   "outputs": [],
   "source": [
    "process_cv_results(svm_clf.cv_results_, top_n=10, output_filename='df_em_porcentagem_SVM.csv')"
   ]
  },
  {
   "cell_type": "markdown",
   "id": "dda7a79b-6c58-46d2-baed-b954f88428e2",
   "metadata": {},
   "source": [
    "### Cross Validation"
   ]
  },
  {
   "cell_type": "code",
   "execution_count": 40,
   "id": "73eb6727-f692-4af2-8d3e-add5b3e26c7a",
   "metadata": {},
   "outputs": [],
   "source": [
    "x_poscomp = np.concatenate((x_train, x_test), axis=0)\n",
    "y_poscomp = np.concatenate((y_train, y_test), axis=0)"
   ]
  },
  {
   "cell_type": "code",
   "execution_count": null,
   "id": "2c9f4bbe-fdec-41f7-a213-7890e3e74621",
   "metadata": {},
   "outputs": [],
   "source": [
    "# Uso para Decision Tree\n",
    "params_arvore = {\n",
    "    \"criterion\": \"gini\",\n",
    "    \"max_depth\": 5,\n",
    "    \"max_features\": 10,\n",
    "    \"min_samples_leaf\": 10,\n",
    "    \"splitter\": \"best\",\n",
    "    \"random_state\": 42,\n",
    "    \"max_leaf_nodes\": 15,\n",
    "}\n",
    "resultados_arvore = ClassifierWrapper.avaliar_classificador(\n",
    "    DecisionTreeClassifier, params_arvore, x_poscomp, y_poscomp\n",
    ")\n",
    "\n",
    "# Uso para Random Forest\n",
    "params_random_forest = {\n",
    "    \"bootstrap\": False,\n",
    "    \"criterion\": \"entropy\",\n",
    "    \"max_depth\": 10,\n",
    "    \"max_features\": 6,\n",
    "    \"min_samples_leaf\": 2,\n",
    "    \"n_estimators\": 1000,\n",
    "    \"n_jobs\": -1,\n",
    "    \"warm_start\": True,\n",
    "    \"random_state\": 42,\n",
    "}\n",
    "resultados_random_forest = ClassifierWrapper.avaliar_classificador(\n",
    "    RandomForestClassifier, params_random_forest, x_poscomp, y_poscomp\n",
    ")\n",
    "\n",
    "# Uso para SVM\n",
    "params_svm = {\n",
    "    \"C\": 20,\n",
    "    \"degree\": 1,\n",
    "    \"kernel\":\"rbf\",\n",
    "    \"random_state\": 42,\n",
    "    \"tol\": 0.0001,\n",
    "}\n",
    "resultados_svm = ClassifierWrapper.avaliar_classificador(\n",
    "    SVC, params_svm, x_poscomp, y_poscomp\n",
    ")\n",
    "\n",
    "# Uso para MLP (Rede Neural)\n",
    "params_rede_neural = {\n",
    "    \"activation\": \"logistic\",\n",
    "    \"alpha\": 0.0001,\n",
    "    \"batch_size\": 100,\n",
    "    \"hidden_layer_sizes\": (100,),\n",
    "    \"max_iter\": 100,\n",
    "    \"solver\": \"lbfgs\",\n",
    "    \"random_state\": 42,\n",
    "}\n",
    "resultados_rede_neural = ClassifierWrapper.avaliar_classificador(\n",
    "    MLPClassifier, params_rede_neural, x_poscomp, y_poscomp\n",
    ")"
   ]
  },
  {
   "cell_type": "code",
   "execution_count": null,
   "id": "22d81ea6-eb8b-4c72-a636-38fa885da55d",
   "metadata": {},
   "outputs": [],
   "source": [
    "resultados = pd.DataFrame(\n",
    "    {\n",
    "        \"decisionTree_treino\": resultados_arvore[0][\"train_score\"],\n",
    "        \"decisionTree_teste\": resultados_arvore[0][\"test_score\"],\n",
    "        \"randomForest_treino\": resultados_random_forest[0][\"train_score\"],\n",
    "        \"randomForest_teste\": resultados_random_forest[0][\"test_score\"],\n",
    "        \"svm_treino\": resultados_svm[0][\"train_score\"],\n",
    "        \"svm_teste\": resultados_svm[0][\"test_score\"],\n",
    "        \"redeNeural_treino\": resultados_rede_neural[0][\"train_score\"],\n",
    "        \"redeNeural_teste\": resultados_rede_neural[0][\"test_score\"],\n",
    "    }\n",
    ")"
   ]
  },
  {
   "cell_type": "code",
   "execution_count": null,
   "id": "3ede2020-1946-43f8-9723-e483a9fa9079",
   "metadata": {},
   "outputs": [],
   "source": [
    "resultados"
   ]
  },
  {
   "cell_type": "code",
   "execution_count": null,
   "id": "e1d00ea6-db3b-4294-bc7c-fd50d2f84861",
   "metadata": {},
   "outputs": [],
   "source": [
    "resultados.var()"
   ]
  },
  {
   "cell_type": "code",
   "execution_count": null,
   "id": "34f440ca-43ee-465a-88f2-b12de810db8d",
   "metadata": {},
   "outputs": [],
   "source": [
    "(resultados.std() / resultados.mean()) * 100"
   ]
  },
  {
   "cell_type": "code",
   "execution_count": null,
   "id": "a14cda13-dfa2-4551-8ad9-c24ac48a7934",
   "metadata": {},
   "outputs": [],
   "source": [
    "medias = resultados.mean()\n",
    "for nome_coluna, media in medias.items():\n",
    "    print(f\"Média da {nome_coluna}: {media * 100:.2f}%\")"
   ]
  },
  {
   "cell_type": "code",
   "execution_count": null,
   "id": "d3187e3b-cbd9-42ca-8341-af32db6e3f96",
   "metadata": {},
   "outputs": [],
   "source": [
    "resultados_teste = resultados.loc[\n",
    "    :, [\"decisionTree_teste\", \"randomForest_teste\", \"svm_teste\", \"redeNeural_teste\"]\n",
    "]"
   ]
  },
  {
   "cell_type": "code",
   "execution_count": null,
   "id": "4254b87f-807e-4cac-a2a0-414cbece8ec9",
   "metadata": {},
   "outputs": [],
   "source": [
    "resultados_teste.columns = [\"Árvore de Decisão\", \"Random Forest\", \"SVM\", \"Rede Neural\"]"
   ]
  },
  {
   "cell_type": "code",
   "execution_count": null,
   "id": "03e4f761-d864-42f4-b2a3-1ee6cb326191",
   "metadata": {},
   "outputs": [],
   "source": [
    "resultados_teste"
   ]
  },
  {
   "cell_type": "code",
   "execution_count": null,
   "id": "56e8a3f7-2806-4104-b227-6a1317655abe",
   "metadata": {},
   "outputs": [],
   "source": [
    "resultados_treino = resultados.loc[\n",
    "    :, [\"decisionTree_treino\", \"randomForest_treino\", \"svm_treino\", \"redeNeural_treino\"]\n",
    "]"
   ]
  },
  {
   "cell_type": "code",
   "execution_count": null,
   "id": "db9b30c2-0c13-4291-a4f6-2c74a4ebbd9a",
   "metadata": {},
   "outputs": [],
   "source": [
    "resultados_treino"
   ]
  },
  {
   "cell_type": "code",
   "execution_count": null,
   "id": "2d96ae5d-99a5-4f07-a90f-617c50043745",
   "metadata": {},
   "outputs": [],
   "source": [
    "resultados_treino.columns = [\"Árvore de Decisão\", \"Random Forest\", \"SVM\", \"Rede Neural\"]"
   ]
  },
  {
   "cell_type": "code",
   "execution_count": null,
   "id": "1154ff5f-afaa-4670-9599-dd70047d17f0",
   "metadata": {},
   "outputs": [],
   "source": [
    "resultados_treino.mean()"
   ]
  },
  {
   "cell_type": "code",
   "execution_count": null,
   "id": "bc799e22-e34e-465f-83c1-3818a63ebebd",
   "metadata": {},
   "outputs": [],
   "source": [
    "models = [\"decisionTree\", \"randomForest\", \"svm\", \"redeNeural\"]\n",
    "models_nome = [\"Árvore de Decisão\", \"Random Forest\", \"SVM\", \"Rede Neural\"]\n",
    "visualizacao.plot_learning_curve(\n",
    "    resultados,\n",
    "    models=models,\n",
    "    model_names=models_nome,\n",
    "    save_path=\"../imagens/curva_aprendizadoML0.pdf\",\n",
    ")"
   ]
  },
  {
   "cell_type": "markdown",
   "id": "15c44eae-b7ae-4bff-9f6c-cf8d86758f65",
   "metadata": {
    "jp-MarkdownHeadingCollapsed": true
   },
   "source": [
    "#### Teste de normalidade"
   ]
  },
  {
   "cell_type": "code",
   "execution_count": null,
   "id": "f2d17ef4-0e48-4646-bcc4-877ea037056e",
   "metadata": {},
   "outputs": [],
   "source": [
    "alpha = 0.05"
   ]
  },
  {
   "cell_type": "code",
   "execution_count": null,
   "id": "b3bf3186-d560-48ea-8792-80a9c437faa5",
   "metadata": {},
   "outputs": [],
   "source": [
    "from scipy.stats import shapiro"
   ]
  },
  {
   "cell_type": "code",
   "execution_count": null,
   "id": "bde839c0-9686-4bf5-be39-e6eb8e3fb125",
   "metadata": {},
   "outputs": [],
   "source": [
    "shapiro(resultados_arvore[0][\"test_score\"]), shapiro(\n",
    "    resultados_random_forest[0][\"test_score\"]\n",
    "), shapiro(resultados_svm[0][\"test_score\"]), shapiro(\n",
    "    resultados_rede_neural[0][\"test_score\"]\n",
    ")"
   ]
  },
  {
   "cell_type": "markdown",
   "id": "89912f71-8b89-4b0e-a9c6-2b733cf8cd26",
   "metadata": {
    "jp-MarkdownHeadingCollapsed": true
   },
   "source": [
    "#### Teste de hipótese com ANOVA e Tukey"
   ]
  },
  {
   "cell_type": "code",
   "execution_count": null,
   "id": "319d4284-9eb6-4265-8739-1a61df5fc1e9",
   "metadata": {},
   "outputs": [],
   "source": [
    "from scipy.stats import f_oneway"
   ]
  },
  {
   "cell_type": "code",
   "execution_count": null,
   "id": "ceccf6e7-9f79-4344-a7fb-389a58768cbe",
   "metadata": {},
   "outputs": [],
   "source": [
    "_, p = f_oneway(\n",
    "    resultados_arvore[0][\"test_score\"],\n",
    "    resultados_random_forest[0][\"test_score\"],\n",
    "    resultados_svm[0][\"test_score\"],\n",
    "    resultados_rede_neural[0][\"test_score\"],\n",
    ")\n",
    "p"
   ]
  },
  {
   "cell_type": "code",
   "execution_count": null,
   "id": "0064c754-2191-4f5e-8518-bc1e16512818",
   "metadata": {},
   "outputs": [],
   "source": [
    "alpha = 0.05\n",
    "if p <= alpha:\n",
    "    print(\"Hipótese nula rejeitada. Dados são diferentes\")\n",
    "else:\n",
    "    print(\"Hipótese alternativa rejeitada. Resultados são iguais\")"
   ]
  },
  {
   "cell_type": "code",
   "execution_count": null,
   "id": "3bd9ea29-1b36-4d0a-9c36-d75b3a9b89c7",
   "metadata": {},
   "outputs": [],
   "source": [
    "resultados_algoritmos = {\n",
    "    \"accuracy\": np.concatenate(\n",
    "        [\n",
    "            resultados_arvore[0][\"test_score\"],\n",
    "            resultados_random_forest[0][\"test_score\"],\n",
    "            resultados_svm[0][\"test_score\"],\n",
    "            resultados_rede_neural[0][\"test_score\"],\n",
    "        ]\n",
    "    ),\n",
    "    \"algoritmo\": [\"arvore\"] * len(resultados_arvore[0][\"test_score\"])\n",
    "    + [\"random_forest\"] * len(resultados_random_forest[0][\"test_score\"])\n",
    "    + [\"svm\"] * len(resultados_svm[0][\"test_score\"])\n",
    "    + [\"rede_neural\"] * len(resultados_rede_neural[0][\"test_score\"]),\n",
    "}"
   ]
  },
  {
   "cell_type": "code",
   "execution_count": null,
   "id": "af08a3c3-4724-40e8-a25d-db8f4874b854",
   "metadata": {},
   "outputs": [],
   "source": [
    "resultados_df = pd.DataFrame(resultados_algoritmos)\n",
    "resultados_df.head()"
   ]
  },
  {
   "cell_type": "code",
   "execution_count": null,
   "id": "cf9714e4-a923-41d9-bc7e-4104e8430ddb",
   "metadata": {},
   "outputs": [],
   "source": [
    "from statsmodels.stats.multicomp import MultiComparison"
   ]
  },
  {
   "cell_type": "code",
   "execution_count": null,
   "id": "1dfe45e6-bd2e-4748-a22e-32f4fb29e9e8",
   "metadata": {},
   "outputs": [],
   "source": [
    "compara_algoritmos = MultiComparison(\n",
    "    resultados_df[\"accuracy\"], resultados_df[\"algoritmo\"]\n",
    ")"
   ]
  },
  {
   "cell_type": "code",
   "execution_count": null,
   "id": "ad2843bc-6e1b-4e1d-b9d4-9f5272a27073",
   "metadata": {},
   "outputs": [],
   "source": [
    "teste_estatistico = compara_algoritmos.tukeyhsd()\n",
    "print(teste_estatistico)"
   ]
  },
  {
   "cell_type": "code",
   "execution_count": null,
   "id": "98b69529-c87d-44d2-ad14-833a537b5536",
   "metadata": {},
   "outputs": [],
   "source": [
    "resultados_teste.mean()"
   ]
  },
  {
   "cell_type": "code",
   "execution_count": null,
   "id": "459c667a-73db-474a-b9b6-91b8662926ea",
   "metadata": {},
   "outputs": [],
   "source": [
    "teste_estatistico.plot_simultaneous();"
   ]
  },
  {
   "cell_type": "markdown",
   "id": "772e00b5-e66e-401c-bacd-61abd2fab756",
   "metadata": {},
   "source": [
    "#### Salvar o classificador treinado"
   ]
  },
  {
   "cell_type": "code",
   "execution_count": 41,
   "id": "281dae21-7e43-4b82-af5d-de0ccac21d52",
   "metadata": {},
   "outputs": [
    {
     "data": {
      "text/html": [
       "<style>#sk-container-id-5 {\n",
       "  /* Definition of color scheme common for light and dark mode */\n",
       "  --sklearn-color-text: black;\n",
       "  --sklearn-color-line: gray;\n",
       "  /* Definition of color scheme for unfitted estimators */\n",
       "  --sklearn-color-unfitted-level-0: #fff5e6;\n",
       "  --sklearn-color-unfitted-level-1: #f6e4d2;\n",
       "  --sklearn-color-unfitted-level-2: #ffe0b3;\n",
       "  --sklearn-color-unfitted-level-3: chocolate;\n",
       "  /* Definition of color scheme for fitted estimators */\n",
       "  --sklearn-color-fitted-level-0: #f0f8ff;\n",
       "  --sklearn-color-fitted-level-1: #d4ebff;\n",
       "  --sklearn-color-fitted-level-2: #b3dbfd;\n",
       "  --sklearn-color-fitted-level-3: cornflowerblue;\n",
       "\n",
       "  /* Specific color for light theme */\n",
       "  --sklearn-color-text-on-default-background: var(--sg-text-color, var(--theme-code-foreground, var(--jp-content-font-color1, black)));\n",
       "  --sklearn-color-background: var(--sg-background-color, var(--theme-background, var(--jp-layout-color0, white)));\n",
       "  --sklearn-color-border-box: var(--sg-text-color, var(--theme-code-foreground, var(--jp-content-font-color1, black)));\n",
       "  --sklearn-color-icon: #696969;\n",
       "\n",
       "  @media (prefers-color-scheme: dark) {\n",
       "    /* Redefinition of color scheme for dark theme */\n",
       "    --sklearn-color-text-on-default-background: var(--sg-text-color, var(--theme-code-foreground, var(--jp-content-font-color1, white)));\n",
       "    --sklearn-color-background: var(--sg-background-color, var(--theme-background, var(--jp-layout-color0, #111)));\n",
       "    --sklearn-color-border-box: var(--sg-text-color, var(--theme-code-foreground, var(--jp-content-font-color1, white)));\n",
       "    --sklearn-color-icon: #878787;\n",
       "  }\n",
       "}\n",
       "\n",
       "#sk-container-id-5 {\n",
       "  color: var(--sklearn-color-text);\n",
       "}\n",
       "\n",
       "#sk-container-id-5 pre {\n",
       "  padding: 0;\n",
       "}\n",
       "\n",
       "#sk-container-id-5 input.sk-hidden--visually {\n",
       "  border: 0;\n",
       "  clip: rect(1px 1px 1px 1px);\n",
       "  clip: rect(1px, 1px, 1px, 1px);\n",
       "  height: 1px;\n",
       "  margin: -1px;\n",
       "  overflow: hidden;\n",
       "  padding: 0;\n",
       "  position: absolute;\n",
       "  width: 1px;\n",
       "}\n",
       "\n",
       "#sk-container-id-5 div.sk-dashed-wrapped {\n",
       "  border: 1px dashed var(--sklearn-color-line);\n",
       "  margin: 0 0.4em 0.5em 0.4em;\n",
       "  box-sizing: border-box;\n",
       "  padding-bottom: 0.4em;\n",
       "  background-color: var(--sklearn-color-background);\n",
       "}\n",
       "\n",
       "#sk-container-id-5 div.sk-container {\n",
       "  /* jupyter's `normalize.less` sets `[hidden] { display: none; }`\n",
       "     but bootstrap.min.css set `[hidden] { display: none !important; }`\n",
       "     so we also need the `!important` here to be able to override the\n",
       "     default hidden behavior on the sphinx rendered scikit-learn.org.\n",
       "     See: https://github.com/scikit-learn/scikit-learn/issues/21755 */\n",
       "  display: inline-block !important;\n",
       "  position: relative;\n",
       "}\n",
       "\n",
       "#sk-container-id-5 div.sk-text-repr-fallback {\n",
       "  display: none;\n",
       "}\n",
       "\n",
       "div.sk-parallel-item,\n",
       "div.sk-serial,\n",
       "div.sk-item {\n",
       "  /* draw centered vertical line to link estimators */\n",
       "  background-image: linear-gradient(var(--sklearn-color-text-on-default-background), var(--sklearn-color-text-on-default-background));\n",
       "  background-size: 2px 100%;\n",
       "  background-repeat: no-repeat;\n",
       "  background-position: center center;\n",
       "}\n",
       "\n",
       "/* Parallel-specific style estimator block */\n",
       "\n",
       "#sk-container-id-5 div.sk-parallel-item::after {\n",
       "  content: \"\";\n",
       "  width: 100%;\n",
       "  border-bottom: 2px solid var(--sklearn-color-text-on-default-background);\n",
       "  flex-grow: 1;\n",
       "}\n",
       "\n",
       "#sk-container-id-5 div.sk-parallel {\n",
       "  display: flex;\n",
       "  align-items: stretch;\n",
       "  justify-content: center;\n",
       "  background-color: var(--sklearn-color-background);\n",
       "  position: relative;\n",
       "}\n",
       "\n",
       "#sk-container-id-5 div.sk-parallel-item {\n",
       "  display: flex;\n",
       "  flex-direction: column;\n",
       "}\n",
       "\n",
       "#sk-container-id-5 div.sk-parallel-item:first-child::after {\n",
       "  align-self: flex-end;\n",
       "  width: 50%;\n",
       "}\n",
       "\n",
       "#sk-container-id-5 div.sk-parallel-item:last-child::after {\n",
       "  align-self: flex-start;\n",
       "  width: 50%;\n",
       "}\n",
       "\n",
       "#sk-container-id-5 div.sk-parallel-item:only-child::after {\n",
       "  width: 0;\n",
       "}\n",
       "\n",
       "/* Serial-specific style estimator block */\n",
       "\n",
       "#sk-container-id-5 div.sk-serial {\n",
       "  display: flex;\n",
       "  flex-direction: column;\n",
       "  align-items: center;\n",
       "  background-color: var(--sklearn-color-background);\n",
       "  padding-right: 1em;\n",
       "  padding-left: 1em;\n",
       "}\n",
       "\n",
       "\n",
       "/* Toggleable style: style used for estimator/Pipeline/ColumnTransformer box that is\n",
       "clickable and can be expanded/collapsed.\n",
       "- Pipeline and ColumnTransformer use this feature and define the default style\n",
       "- Estimators will overwrite some part of the style using the `sk-estimator` class\n",
       "*/\n",
       "\n",
       "/* Pipeline and ColumnTransformer style (default) */\n",
       "\n",
       "#sk-container-id-5 div.sk-toggleable {\n",
       "  /* Default theme specific background. It is overwritten whether we have a\n",
       "  specific estimator or a Pipeline/ColumnTransformer */\n",
       "  background-color: var(--sklearn-color-background);\n",
       "}\n",
       "\n",
       "/* Toggleable label */\n",
       "#sk-container-id-5 label.sk-toggleable__label {\n",
       "  cursor: pointer;\n",
       "  display: block;\n",
       "  width: 100%;\n",
       "  margin-bottom: 0;\n",
       "  padding: 0.5em;\n",
       "  box-sizing: border-box;\n",
       "  text-align: center;\n",
       "}\n",
       "\n",
       "#sk-container-id-5 label.sk-toggleable__label-arrow:before {\n",
       "  /* Arrow on the left of the label */\n",
       "  content: \"▸\";\n",
       "  float: left;\n",
       "  margin-right: 0.25em;\n",
       "  color: var(--sklearn-color-icon);\n",
       "}\n",
       "\n",
       "#sk-container-id-5 label.sk-toggleable__label-arrow:hover:before {\n",
       "  color: var(--sklearn-color-text);\n",
       "}\n",
       "\n",
       "/* Toggleable content - dropdown */\n",
       "\n",
       "#sk-container-id-5 div.sk-toggleable__content {\n",
       "  max-height: 0;\n",
       "  max-width: 0;\n",
       "  overflow: hidden;\n",
       "  text-align: left;\n",
       "  /* unfitted */\n",
       "  background-color: var(--sklearn-color-unfitted-level-0);\n",
       "}\n",
       "\n",
       "#sk-container-id-5 div.sk-toggleable__content.fitted {\n",
       "  /* fitted */\n",
       "  background-color: var(--sklearn-color-fitted-level-0);\n",
       "}\n",
       "\n",
       "#sk-container-id-5 div.sk-toggleable__content pre {\n",
       "  margin: 0.2em;\n",
       "  border-radius: 0.25em;\n",
       "  color: var(--sklearn-color-text);\n",
       "  /* unfitted */\n",
       "  background-color: var(--sklearn-color-unfitted-level-0);\n",
       "}\n",
       "\n",
       "#sk-container-id-5 div.sk-toggleable__content.fitted pre {\n",
       "  /* unfitted */\n",
       "  background-color: var(--sklearn-color-fitted-level-0);\n",
       "}\n",
       "\n",
       "#sk-container-id-5 input.sk-toggleable__control:checked~div.sk-toggleable__content {\n",
       "  /* Expand drop-down */\n",
       "  max-height: 200px;\n",
       "  max-width: 100%;\n",
       "  overflow: auto;\n",
       "}\n",
       "\n",
       "#sk-container-id-5 input.sk-toggleable__control:checked~label.sk-toggleable__label-arrow:before {\n",
       "  content: \"▾\";\n",
       "}\n",
       "\n",
       "/* Pipeline/ColumnTransformer-specific style */\n",
       "\n",
       "#sk-container-id-5 div.sk-label input.sk-toggleable__control:checked~label.sk-toggleable__label {\n",
       "  color: var(--sklearn-color-text);\n",
       "  background-color: var(--sklearn-color-unfitted-level-2);\n",
       "}\n",
       "\n",
       "#sk-container-id-5 div.sk-label.fitted input.sk-toggleable__control:checked~label.sk-toggleable__label {\n",
       "  background-color: var(--sklearn-color-fitted-level-2);\n",
       "}\n",
       "\n",
       "/* Estimator-specific style */\n",
       "\n",
       "/* Colorize estimator box */\n",
       "#sk-container-id-5 div.sk-estimator input.sk-toggleable__control:checked~label.sk-toggleable__label {\n",
       "  /* unfitted */\n",
       "  background-color: var(--sklearn-color-unfitted-level-2);\n",
       "}\n",
       "\n",
       "#sk-container-id-5 div.sk-estimator.fitted input.sk-toggleable__control:checked~label.sk-toggleable__label {\n",
       "  /* fitted */\n",
       "  background-color: var(--sklearn-color-fitted-level-2);\n",
       "}\n",
       "\n",
       "#sk-container-id-5 div.sk-label label.sk-toggleable__label,\n",
       "#sk-container-id-5 div.sk-label label {\n",
       "  /* The background is the default theme color */\n",
       "  color: var(--sklearn-color-text-on-default-background);\n",
       "}\n",
       "\n",
       "/* On hover, darken the color of the background */\n",
       "#sk-container-id-5 div.sk-label:hover label.sk-toggleable__label {\n",
       "  color: var(--sklearn-color-text);\n",
       "  background-color: var(--sklearn-color-unfitted-level-2);\n",
       "}\n",
       "\n",
       "/* Label box, darken color on hover, fitted */\n",
       "#sk-container-id-5 div.sk-label.fitted:hover label.sk-toggleable__label.fitted {\n",
       "  color: var(--sklearn-color-text);\n",
       "  background-color: var(--sklearn-color-fitted-level-2);\n",
       "}\n",
       "\n",
       "/* Estimator label */\n",
       "\n",
       "#sk-container-id-5 div.sk-label label {\n",
       "  font-family: monospace;\n",
       "  font-weight: bold;\n",
       "  display: inline-block;\n",
       "  line-height: 1.2em;\n",
       "}\n",
       "\n",
       "#sk-container-id-5 div.sk-label-container {\n",
       "  text-align: center;\n",
       "}\n",
       "\n",
       "/* Estimator-specific */\n",
       "#sk-container-id-5 div.sk-estimator {\n",
       "  font-family: monospace;\n",
       "  border: 1px dotted var(--sklearn-color-border-box);\n",
       "  border-radius: 0.25em;\n",
       "  box-sizing: border-box;\n",
       "  margin-bottom: 0.5em;\n",
       "  /* unfitted */\n",
       "  background-color: var(--sklearn-color-unfitted-level-0);\n",
       "}\n",
       "\n",
       "#sk-container-id-5 div.sk-estimator.fitted {\n",
       "  /* fitted */\n",
       "  background-color: var(--sklearn-color-fitted-level-0);\n",
       "}\n",
       "\n",
       "/* on hover */\n",
       "#sk-container-id-5 div.sk-estimator:hover {\n",
       "  /* unfitted */\n",
       "  background-color: var(--sklearn-color-unfitted-level-2);\n",
       "}\n",
       "\n",
       "#sk-container-id-5 div.sk-estimator.fitted:hover {\n",
       "  /* fitted */\n",
       "  background-color: var(--sklearn-color-fitted-level-2);\n",
       "}\n",
       "\n",
       "/* Specification for estimator info (e.g. \"i\" and \"?\") */\n",
       "\n",
       "/* Common style for \"i\" and \"?\" */\n",
       "\n",
       ".sk-estimator-doc-link,\n",
       "a:link.sk-estimator-doc-link,\n",
       "a:visited.sk-estimator-doc-link {\n",
       "  float: right;\n",
       "  font-size: smaller;\n",
       "  line-height: 1em;\n",
       "  font-family: monospace;\n",
       "  background-color: var(--sklearn-color-background);\n",
       "  border-radius: 1em;\n",
       "  height: 1em;\n",
       "  width: 1em;\n",
       "  text-decoration: none !important;\n",
       "  margin-left: 1ex;\n",
       "  /* unfitted */\n",
       "  border: var(--sklearn-color-unfitted-level-1) 1pt solid;\n",
       "  color: var(--sklearn-color-unfitted-level-1);\n",
       "}\n",
       "\n",
       ".sk-estimator-doc-link.fitted,\n",
       "a:link.sk-estimator-doc-link.fitted,\n",
       "a:visited.sk-estimator-doc-link.fitted {\n",
       "  /* fitted */\n",
       "  border: var(--sklearn-color-fitted-level-1) 1pt solid;\n",
       "  color: var(--sklearn-color-fitted-level-1);\n",
       "}\n",
       "\n",
       "/* On hover */\n",
       "div.sk-estimator:hover .sk-estimator-doc-link:hover,\n",
       ".sk-estimator-doc-link:hover,\n",
       "div.sk-label-container:hover .sk-estimator-doc-link:hover,\n",
       ".sk-estimator-doc-link:hover {\n",
       "  /* unfitted */\n",
       "  background-color: var(--sklearn-color-unfitted-level-3);\n",
       "  color: var(--sklearn-color-background);\n",
       "  text-decoration: none;\n",
       "}\n",
       "\n",
       "div.sk-estimator.fitted:hover .sk-estimator-doc-link.fitted:hover,\n",
       ".sk-estimator-doc-link.fitted:hover,\n",
       "div.sk-label-container:hover .sk-estimator-doc-link.fitted:hover,\n",
       ".sk-estimator-doc-link.fitted:hover {\n",
       "  /* fitted */\n",
       "  background-color: var(--sklearn-color-fitted-level-3);\n",
       "  color: var(--sklearn-color-background);\n",
       "  text-decoration: none;\n",
       "}\n",
       "\n",
       "/* Span, style for the box shown on hovering the info icon */\n",
       ".sk-estimator-doc-link span {\n",
       "  display: none;\n",
       "  z-index: 9999;\n",
       "  position: relative;\n",
       "  font-weight: normal;\n",
       "  right: .2ex;\n",
       "  padding: .5ex;\n",
       "  margin: .5ex;\n",
       "  width: min-content;\n",
       "  min-width: 20ex;\n",
       "  max-width: 50ex;\n",
       "  color: var(--sklearn-color-text);\n",
       "  box-shadow: 2pt 2pt 4pt #999;\n",
       "  /* unfitted */\n",
       "  background: var(--sklearn-color-unfitted-level-0);\n",
       "  border: .5pt solid var(--sklearn-color-unfitted-level-3);\n",
       "}\n",
       "\n",
       ".sk-estimator-doc-link.fitted span {\n",
       "  /* fitted */\n",
       "  background: var(--sklearn-color-fitted-level-0);\n",
       "  border: var(--sklearn-color-fitted-level-3);\n",
       "}\n",
       "\n",
       ".sk-estimator-doc-link:hover span {\n",
       "  display: block;\n",
       "}\n",
       "\n",
       "/* \"?\"-specific style due to the `<a>` HTML tag */\n",
       "\n",
       "#sk-container-id-5 a.estimator_doc_link {\n",
       "  float: right;\n",
       "  font-size: 1rem;\n",
       "  line-height: 1em;\n",
       "  font-family: monospace;\n",
       "  background-color: var(--sklearn-color-background);\n",
       "  border-radius: 1rem;\n",
       "  height: 1rem;\n",
       "  width: 1rem;\n",
       "  text-decoration: none;\n",
       "  /* unfitted */\n",
       "  color: var(--sklearn-color-unfitted-level-1);\n",
       "  border: var(--sklearn-color-unfitted-level-1) 1pt solid;\n",
       "}\n",
       "\n",
       "#sk-container-id-5 a.estimator_doc_link.fitted {\n",
       "  /* fitted */\n",
       "  border: var(--sklearn-color-fitted-level-1) 1pt solid;\n",
       "  color: var(--sklearn-color-fitted-level-1);\n",
       "}\n",
       "\n",
       "/* On hover */\n",
       "#sk-container-id-5 a.estimator_doc_link:hover {\n",
       "  /* unfitted */\n",
       "  background-color: var(--sklearn-color-unfitted-level-3);\n",
       "  color: var(--sklearn-color-background);\n",
       "  text-decoration: none;\n",
       "}\n",
       "\n",
       "#sk-container-id-5 a.estimator_doc_link.fitted:hover {\n",
       "  /* fitted */\n",
       "  background-color: var(--sklearn-color-fitted-level-3);\n",
       "}\n",
       "</style><div id=\"sk-container-id-5\" class=\"sk-top-container\"><div class=\"sk-text-repr-fallback\"><pre>RandomForestClassifier(bootstrap=False, criterion=&#x27;entropy&#x27;, max_depth=9,\n",
       "                       max_features=6, min_samples_leaf=2, n_estimators=1000,\n",
       "                       random_state=42)</pre><b>In a Jupyter environment, please rerun this cell to show the HTML representation or trust the notebook. <br />On GitHub, the HTML representation is unable to render, please try loading this page with nbviewer.org.</b></div><div class=\"sk-container\" hidden><div class=\"sk-item\"><div class=\"sk-estimator fitted sk-toggleable\"><input class=\"sk-toggleable__control sk-hidden--visually\" id=\"sk-estimator-id-5\" type=\"checkbox\" checked><label for=\"sk-estimator-id-5\" class=\"sk-toggleable__label fitted sk-toggleable__label-arrow fitted\">&nbsp;&nbsp;RandomForestClassifier<a class=\"sk-estimator-doc-link fitted\" rel=\"noreferrer\" target=\"_blank\" href=\"https://scikit-learn.org/1.4/modules/generated/sklearn.ensemble.RandomForestClassifier.html\">?<span>Documentation for RandomForestClassifier</span></a><span class=\"sk-estimator-doc-link fitted\">i<span>Fitted</span></span></label><div class=\"sk-toggleable__content fitted\"><pre>RandomForestClassifier(bootstrap=False, criterion=&#x27;entropy&#x27;, max_depth=9,\n",
       "                       max_features=6, min_samples_leaf=2, n_estimators=1000,\n",
       "                       random_state=42)</pre></div> </div></div></div></div>"
      ],
      "text/plain": [
       "RandomForestClassifier(bootstrap=False, criterion='entropy', max_depth=9,\n",
       "                       max_features=6, min_samples_leaf=2, n_estimators=1000,\n",
       "                       random_state=42)"
      ]
     },
     "execution_count": 41,
     "metadata": {},
     "output_type": "execute_result"
    }
   ],
   "source": [
    "classificador_randomForest = RandomForestClassifier(bootstrap=False, criterion='entropy', max_depth=9,\n",
    "                       max_features=6, min_samples_leaf=2, min_samples_split=2,\n",
    "                       n_estimators=1000, random_state=42)\n",
    "classificador_randomForest.fit(x_poscomp, y_poscomp)"
   ]
  },
  {
   "cell_type": "code",
   "execution_count": 42,
   "id": "7d40c0e9-31c1-4bd8-bcf8-50d6b9b8839b",
   "metadata": {},
   "outputs": [],
   "source": [
    "predict = classificador_randomForest.predict(x_test)"
   ]
  },
  {
   "cell_type": "code",
   "execution_count": 43,
   "id": "1013ae9f-705d-4faa-9b96-9de6e22219d8",
   "metadata": {},
   "outputs": [
    {
     "data": {
      "text/plain": [
       "(array([0, 1]), array([1554,  516]))"
      ]
     },
     "execution_count": 43,
     "metadata": {},
     "output_type": "execute_result"
    }
   ],
   "source": [
    "np.unique(predict, return_counts=True)"
   ]
  },
  {
   "cell_type": "code",
   "execution_count": null,
   "id": "f0c7ffea-a22c-4eba-8498-071bb8512556",
   "metadata": {},
   "outputs": [],
   "source": [
    "from sklearn.metrics import auc, roc_curve\n",
    "\n",
    "fpr, tpr, thresholds = roc_curve(y_test, predict)\n",
    "\n",
    "# Calcule a área sob a curva ROC (AUC)\n",
    "roc_auc = auc(fpr, tpr)\n",
    "\n",
    "# Plote a curva ROC\n",
    "plt.figure(figsize=(8, 8))\n",
    "plt.plot(\n",
    "    fpr,\n",
    "    tpr,\n",
    "    color=\"darkorange\",\n",
    "    lw=2,\n",
    "    label=\"ROC curve (area = {:.2f})\".format(roc_auc),\n",
    ")\n",
    "plt.plot([0, 1], [0, 1], color=\"navy\", lw=2, linestyle=\"--\")\n",
    "plt.xlabel(\"False Positive Rate\")\n",
    "plt.ylabel(\"True Positive Rate\")\n",
    "plt.title(\"Receiver Operating Characteristic (ROC) Curve\")\n",
    "plt.legend(loc=\"lower right\")\n",
    "plt.show()"
   ]
  },
  {
   "cell_type": "code",
   "execution_count": null,
   "id": "283dde3e-e5aa-4907-ae9a-13ace396a393",
   "metadata": {},
   "outputs": [],
   "source": [
    "with open(\"../dados/classificadores/randomForest_finalizado2.sav\", \"wb\") as file:\n",
    "    pickle.dump(classificador_randomForest, file, protocol=pickle.HIGHEST_PROTOCOL)"
   ]
  },
  {
   "cell_type": "markdown",
   "id": "e1b0d5ed-5d6d-4405-b599-afbd6f17523a",
   "metadata": {},
   "source": [
    "#### Carregar um classificar treinado"
   ]
  },
  {
   "cell_type": "code",
   "execution_count": null,
   "id": "b868c02b-cdc6-48cd-a053-6fc9f2252e32",
   "metadata": {},
   "outputs": [],
   "source": [
    "randomForest = pickle.load(open(\"randomForest_finalizado.sav\", \"rb\"))"
   ]
  },
  {
   "cell_type": "markdown",
   "id": "2faafc87-12da-4ed8-9fb3-5335827f5a23",
   "metadata": {
    "tags": []
   },
   "source": [
    "## Applications of the two models"
   ]
  },
  {
   "cell_type": "markdown",
   "id": "17363797-d306-4361-adad-c419f3e218ab",
   "metadata": {
    "jp-MarkdownHeadingCollapsed": true
   },
   "source": [
    "### Candidates classified for the computing area"
   ]
  },
  {
   "cell_type": "markdown",
   "id": "f614a695-9c76-4f3c-b90d-95cd7c830832",
   "metadata": {},
   "source": [
    "<h4> <i>Load data </i></h4>"
   ]
  },
  {
   "cell_type": "code",
   "execution_count": null,
   "id": "0c1559a8-1e9f-4235-af76-61088b854ffe",
   "metadata": {},
   "outputs": [],
   "source": [
    "df_computation = dataset[dataset[\"area_concentration\"] == \"computacao\"]"
   ]
  },
  {
   "cell_type": "code",
   "execution_count": null,
   "id": "7cf7313b-6cad-4bfc-b3c3-e7b94fe453dc",
   "metadata": {},
   "outputs": [],
   "source": [
    "df_computation"
   ]
  },
  {
   "cell_type": "code",
   "execution_count": null,
   "id": "ce7b7e5b-5e24-405a-a7d5-d7e267af59eb",
   "metadata": {},
   "outputs": [],
   "source": [
    "df_computation"
   ]
  },
  {
   "cell_type": "code",
   "execution_count": null,
   "id": "a96a3ef9-63b1-4f34-83b4-4d6821807122",
   "metadata": {},
   "outputs": [],
   "source": [
    "linhas_pesquisas = df_computation.groupby('linhas_pesquisas').size().reset_index(name='counts')\n",
    "visualizacao.barplot_view(dataframe=linhas_pesquisas, x='linhas_pesquisas', y='counts', show_legend=False, \n",
    "                         figsize=(8,5), save_path=\"../imagens/quant_class_modelo2.pdf\", dodge=True)"
   ]
  },
  {
   "cell_type": "code",
   "execution_count": null,
   "id": "1fc28084-c854-4216-852a-d99686f45b7c",
   "metadata": {},
   "outputs": [],
   "source": [
    "df_computation = df_computation.loc[\n",
    "    :,\n",
    "    [\n",
    "        \"IDADE\",\n",
    "        \"SEXO\",\n",
    "        \"REGIAO\",\n",
    "        \"ESTADO\",\n",
    "        \"matematica\",\n",
    "        \"fund_computacao\",\n",
    "        \"tec_computacao\",\n",
    "        \"total\",\n",
    "        \"linhas_pesquisas\",\n",
    "    ],\n",
    "]"
   ]
  },
  {
   "cell_type": "code",
   "execution_count": null,
   "id": "443cf217-1195-4932-8cea-e0abb59fbdce",
   "metadata": {},
   "outputs": [],
   "source": [
    "categorical_columns_comp = [\"linhas_pesquisas\", \"SEXO\", \"REGIAO\", \"ESTADO\"]\n",
    "df_computation = encode_categorical_columns(df_computation, categorical_columns_comp)"
   ]
  },
  {
   "cell_type": "code",
   "execution_count": null,
   "id": "a6c4727c-d42d-40b7-9af5-f6c08d2ae252",
   "metadata": {},
   "outputs": [],
   "source": [
    "x_computation = df_computation.drop([\"linhas_pesquisas\"], axis=1)\n",
    "y_computation = df_computation[\"linhas_pesquisas\"]"
   ]
  },
  {
   "cell_type": "markdown",
   "id": "17db63dd-a99e-498d-9a37-7159589f3efa",
   "metadata": {
    "jp-MarkdownHeadingCollapsed": true
   },
   "source": [
    "<h5><i>Split of data</i></h5>"
   ]
  },
  {
   "cell_type": "code",
   "execution_count": null,
   "id": "bd90c8a9-f695-4519-b128-cf809b23766a",
   "metadata": {},
   "outputs": [],
   "source": [
    "x_train_comp, x_test_comp, y_train_comp, y_test_comp = train_test_split(\n",
    "    x_computation, y_computation, test_size=0.3, stratify=y_computation, random_state=42\n",
    ")"
   ]
  },
  {
   "cell_type": "code",
   "execution_count": null,
   "id": "f7eaaffc-81b3-464b-8932-2d4202a21025",
   "metadata": {},
   "outputs": [],
   "source": [
    "print(\"Shape of x_train : \", x_train_comp.shape)\n",
    "print(\"Shape of x_test  : \", x_test_comp.shape)\n",
    "print(\"Shape of y_train : \", y_train_comp.shape)\n",
    "print(\"Shape of y_test  : \", y_test_comp.shape)"
   ]
  },
  {
   "cell_type": "markdown",
   "id": "9d80297f-d20f-4427-986e-148da947c4fc",
   "metadata": {},
   "source": [
    "##### Busca por hiperparamentros"
   ]
  },
  {
   "cell_type": "markdown",
   "id": "e1729baf-907d-49bd-a216-f01c183b2993",
   "metadata": {
    "jp-MarkdownHeadingCollapsed": true
   },
   "source": [
    "###### Decision Tree"
   ]
  },
  {
   "cell_type": "code",
   "execution_count": null,
   "id": "e463a37b-7541-4477-95b7-b156ba9bac4c",
   "metadata": {
    "tags": []
   },
   "outputs": [],
   "source": [
    "parametros = {\n",
    "    \"criterion\": [\"gini\", \"entropy\", \"log_loss\"],\n",
    "    \"splitter\": [\"random\", \"best\"],\n",
    "    \"max_depth\": [8,9,10],  # Ou qualquer outro intervalo apropriado\n",
    "    'min_samples_split': [2,5],\n",
    "    \"min_samples_leaf\": [9,10,11],\n",
    "    # 'min_weight_fraction_leaf': [0.5],\n",
    "    \"max_features\": [7,8,9],\n",
    "    \"max_leaf_nodes\": [15,20,25],\n",
    "    # 'min_impurity_decrease': [0.0, 0.1, 0.2],\n",
    "    # 'ccp_alpha': [0.0, 0.1, 0.2],\n",
    "}"
   ]
  },
  {
   "cell_type": "code",
   "execution_count": null,
   "id": "5aa16e13-e966-46a1-b774-e3f323424332",
   "metadata": {
    "tags": []
   },
   "outputs": [],
   "source": [
    "tree_clf = ClassifierWrapper(DecisionTreeClassifier(random_state=42), parametros)\n",
    "tree_clf.grid_search(x_train_comp, y_train_comp, cv=10)\n",
    "tree_clf.train_and_print_scores(x_train_comp, y_train_comp, x_test_comp, y_test_comp)"
   ]
  },
  {
   "cell_type": "code",
   "execution_count": null,
   "id": "43bc6f38-b8ae-41c7-8dce-e5923aa795f7",
   "metadata": {},
   "outputs": [],
   "source": [
    "process_cv_results(tree_clf.cv_results_, top_n=10, output_filename=\"df_em_porcents_treeM1.csv\")"
   ]
  },
  {
   "cell_type": "markdown",
   "id": "7339bda8-1bb4-424b-9dfa-3b42dd82ffc3",
   "metadata": {
    "jp-MarkdownHeadingCollapsed": true
   },
   "source": [
    "###### Random Forest"
   ]
  },
  {
   "cell_type": "code",
   "execution_count": null,
   "id": "48d96875-79be-428f-8700-730df2c418ef",
   "metadata": {
    "tags": []
   },
   "outputs": [],
   "source": [
    "parametros = {\n",
    "    \"n_estimators\": [200, 300, 500],\n",
    "    \"criterion\": ['gini', 'entropy', 'log_loss'],\n",
    "    \"max_depth\": [4, 5, 6],\n",
    "    \"min_samples_split\": [2, 4, 6],\n",
    "    \"min_samples_leaf\": [7, 8, 9],\n",
    "    # 'min_weight_fraction_leaf': [0.0, 0.1, 0.2],\n",
    "    \"max_features\": [7, 8, 9],\n",
    "    \"max_leaf_nodes\": [10, 20, 30],\n",
    "    # 'min_impurity_decrease': [0.0, 0.1, 0.2],\n",
    "    \"bootstrap\": [True, False],\n",
    "    # \"oob_score\": [True],\n",
    "    \"n_jobs\": [-1],  # Use -1 para usar todos os processadores disponíveis\n",
    "    # 'verbose': [0, 1, 2],\n",
    "    # \"warm_start\": [True],\n",
    "    # 'class_weight': ['balanced', 'balanced_subsample'],\n",
    "    # 'ccp_alpha': [0.0, 0.1, 0.2],\n",
    "    # 'max_samples': [1,2,3,4,5],\n",
    "}"
   ]
  },
  {
   "cell_type": "code",
   "execution_count": null,
   "id": "6afa87b7-aa10-4488-9388-5b2cb4842d76",
   "metadata": {
    "tags": []
   },
   "outputs": [],
   "source": [
    "forest_clf = ClassifierWrapper(RandomForestClassifier(random_state=42), parametros)\n",
    "forest_clf.grid_search(x_train_comp, y_train_comp, cv=10)\n",
    "forest_clf.train_and_print_scores(x_train_comp, y_train_comp, x_test_comp, y_test_comp)"
   ]
  },
  {
   "cell_type": "code",
   "execution_count": null,
   "id": "919bece1-496f-48b8-82f7-2e868848d9ff",
   "metadata": {},
   "outputs": [],
   "source": [
    "process_cv_results(forest_clf.cv_results_, top_n=10, output_filename=\"df_em_porcents_forestM1.csv\")"
   ]
  },
  {
   "cell_type": "markdown",
   "id": "2cfce2ae-fc04-4dc7-8cf9-83bdd0a497b5",
   "metadata": {
    "jp-MarkdownHeadingCollapsed": true
   },
   "source": [
    "###### SVM"
   ]
  },
  {
   "cell_type": "code",
   "execution_count": null,
   "id": "cb277c9f-2b35-4a20-808d-3c357ccf367b",
   "metadata": {},
   "outputs": [],
   "source": [
    "parametros = {\n",
    "    \"C\": [0.1,1,2,3,4],\n",
    "    'kernel': ['rbf', 'poly'],\n",
    "    \"degree\": [1, 2, 3],\n",
    "    # \"gamma\": [\"scale\", \"auto\", 0.1, 1.0],\n",
    "    # 'coef0': [0.0, 0.1, 1.0],\n",
    "    # 'shrinking': [True, False],\n",
    "    # 'probability': [True],\n",
    "    # 'tol': [1e-4],\n",
    "    # 'cache_size': np.arange(1,11,2),\n",
    "    # \"class_weight\": [\"balanced\"],\n",
    "    # 'verbose': [True],\n",
    "    # 'max_iter': [100, 1000, -1],  # -1 indica nenhum limite\n",
    "    # 'decision_function_shape': ['ovr', 'ovo'],\n",
    "    # 'break_ties': [True],\n",
    "}"
   ]
  },
  {
   "cell_type": "code",
   "execution_count": null,
   "id": "77071811-e1bb-4e97-8fbf-43e157f7e04b",
   "metadata": {
    "tags": []
   },
   "outputs": [],
   "source": [
    "svm_clf = ClassifierWrapper(SVC(random_state=42), parametros)\n",
    "svm_clf.grid_search(x_train_comp, y_train_comp, cv=10)\n",
    "svm_clf.train_and_print_scores(x_train_comp, y_train_comp, x_test_comp, y_test_comp)"
   ]
  },
  {
   "cell_type": "code",
   "execution_count": null,
   "id": "30eda369-c574-415c-ba5f-03666e43089d",
   "metadata": {},
   "outputs": [],
   "source": [
    "process_cv_results(svm_clf.cv_results_, top_n=10, output_filename=\"df_em_porcents_svmM1.csv\")"
   ]
  },
  {
   "cell_type": "markdown",
   "id": "84ed2b5b-9f2f-47dc-8ab6-12efbb7c4c1d",
   "metadata": {
    "jp-MarkdownHeadingCollapsed": true
   },
   "source": [
    "###### Rede Neural"
   ]
  },
  {
   "cell_type": "code",
   "execution_count": null,
   "id": "c123dbeb-3d55-444a-a68c-4acb2559a8f8",
   "metadata": {},
   "outputs": [],
   "source": [
    "parametros = {\n",
    "    \"hidden_layer_sizes\": [(50,), (100,), (50, 50), (100, 100), (200, 100, 50)],\n",
    "    'activation': ['identity', 'logistic', 'tanh', 'relu'],\n",
    "    \"solver\": [\"adam\"],\n",
    "    \"alpha\": [0.1],\n",
    "    \"batch_size\": [\"auto\", 100, 200],\n",
    "    # 'learning_rate': ['constant', 'invscaling', 'adaptive'],\n",
    "    \"learning_rate_init\": [0.01],\n",
    "    # 'power_t': [0.5, 0.9],\n",
    "    # 'max_iter': [200, 300, 400],\n",
    "    # 'shuffle': [True, False],\n",
    "    # 'random_state': [None, 42],\n",
    "    # 'tol': [1e-4, 1e-3, 1e-2],\n",
    "    # 'verbose': [True, False],\n",
    "    # 'warm_start': [True, False],\n",
    "    # 'momentum': [0.5, 0.9],\n",
    "    # 'nesterovs_momentum': [True, False],\n",
    "    \"early_stopping\": [True, False],\n",
    "    # 'validation_fraction': [0.1, 0.2],\n",
    "    \"beta_1\": [0.99],\n",
    "    \"beta_2\": [0.999],\n",
    "    \"epsilon\": [1e-8],\n",
    "    \"n_iter_no_change\": [20],\n",
    "    # 'max_fun': [10000, 15000, 20000]\n",
    "}"
   ]
  },
  {
   "cell_type": "code",
   "execution_count": null,
   "id": "59ae9207-1f96-49f8-ac00-3f2f50dff54c",
   "metadata": {
    "scrolled": true
   },
   "outputs": [],
   "source": [
    "neural_clf = ClassifierWrapper(\n",
    "    MLPClassifier(random_state=42), parametros\n",
    ")\n",
    "neural_clf.grid_search(x_train_comp, y_train_comp, cv=10)\n",
    "neural_clf.train_and_print_scores(x_train_comp, y_train_comp, x_test_comp, y_test_comp)"
   ]
  },
  {
   "cell_type": "code",
   "execution_count": null,
   "id": "47008108-0330-4000-af89-680c1d05ff3d",
   "metadata": {},
   "outputs": [],
   "source": [
    "process_cv_results(neural_clf.cv_results_, top_n=10, output_filename=\"df_em_porcents_neuralM1.csv\")"
   ]
  },
  {
   "cell_type": "markdown",
   "id": "c1f6a3fa-102a-4616-a488-cdda8a4f7744",
   "metadata": {
    "jp-MarkdownHeadingCollapsed": true
   },
   "source": [
    "##### Validação Cruzada"
   ]
  },
  {
   "cell_type": "code",
   "execution_count": null,
   "id": "f63623de-5b83-470d-8c89-18752904e531",
   "metadata": {},
   "outputs": [],
   "source": [
    "x_poscomp_comp = np.concatenate((x_train_comp, x_test_comp), axis=0)\n",
    "y_poscomp_comp = np.concatenate((y_train_comp, y_test_comp), axis=0)"
   ]
  },
  {
   "cell_type": "code",
   "execution_count": null,
   "id": "628876fb-a186-415a-b034-0964e45c6fb8",
   "metadata": {},
   "outputs": [],
   "source": [
    "# Uso para Decision Tree\n",
    "params_arvore_comp = {\n",
    "    \"criterion\": \"gini\",\n",
    "    \"max_depth\": 9,\n",
    "    \"max_features\": 8,\n",
    "    \"max_leaf_nodes\": 20,\n",
    "    \"min_samples_leaf\": 10,\n",
    "    \"splitter\": \"random\",\n",
    "    \"random_state\": 42,\n",
    "}\n",
    "resultados_arvore_comp = ClassifierWrapper.avaliar_classificador(\n",
    "    DecisionTreeClassifier, params_arvore_comp, x_poscomp_comp, y_poscomp_comp\n",
    ")\n",
    "\n",
    "# Uso para Random Forest\n",
    "params_random_forest_comp = {\n",
    "    \"bootstrap\": True,\n",
    "    \"criterion\": \"gini\",\n",
    "    \"max_depth\": 5,\n",
    "    \"max_features\": 7,\n",
    "    \"max_leaf_nodes\": 30,\n",
    "    \"min_samples_leaf\": 9,\n",
    "    \"min_samples_split\": 6,\n",
    "    \"n_estimators\": 300,\n",
    "    \"n_jobs\": -1,\n",
    "    \"random_state\": 42,\n",
    "}\n",
    "resultados_random_forest_comp = ClassifierWrapper.avaliar_classificador(\n",
    "    RandomForestClassifier, params_random_forest_comp, x_poscomp_comp, y_poscomp_comp\n",
    ")\n",
    "\n",
    "# Uso para SVM\n",
    "params_svm_comp = {\n",
    "    \"C\": 8,\n",
    "    \"break_ties\": True,\n",
    "    \"coef0\": 0.1,\n",
    "    \"kernel\": \"poly\",\n",
    "    \"decision_function_shape\": \"ovr\",\n",
    "    \"degree\": 1,\n",
    "    \"gamma\": \"auto\",\n",
    "    \"tol\": 0.0001,\n",
    "    \"random_state\": 42,\n",
    "}\n",
    "resultados_svm_comp = ClassifierWrapper.avaliar_classificador(\n",
    "    SVC, params_svm_comp, x_poscomp_comp, y_poscomp_comp\n",
    ")\n",
    "\n",
    "# Uso para MLP (Rede Neural)\n",
    "params_rede_neural_comp = {\n",
    "    \"alpha\": 0.1,\n",
    "    \"batch_size\": \"auto\",\n",
    "    \"beta_1\": 0.99,\n",
    "    \"beta_2\": 0.999,\n",
    "    \"early_stopping\": False,\n",
    "    \"epsilon\": 1e-08,\n",
    "    \"hidden_layer_sizes\": (100, 100),\n",
    "    \"learning_rate_init\": 0.01,\n",
    "    \"n_iter_no_change\": 20,\n",
    "    \"solver\": \"adam\",\n",
    "    \"random_state\": 42,\n",
    "}\n",
    "resultados_rede_neural_comp = ClassifierWrapper.avaliar_classificador(\n",
    "    MLPClassifier, params_rede_neural_comp, x_poscomp_comp, y_poscomp_comp\n",
    ")"
   ]
  },
  {
   "cell_type": "code",
   "execution_count": null,
   "id": "4bf083e7-e647-4b0e-8a23-ba5016118ad5",
   "metadata": {},
   "outputs": [],
   "source": [
    "resultados_comp = pd.DataFrame(\n",
    "    {\n",
    "        \"decisionTree_treino\": resultados_arvore_comp[0][\"train_score\"],\n",
    "        \"decisionTree_teste\": resultados_arvore_comp[0][\"test_score\"],\n",
    "        \"randomForest_treino\": resultados_random_forest_comp[0][\"train_score\"],\n",
    "        \"randomForest_teste\": resultados_random_forest_comp[0][\"test_score\"],\n",
    "        \"svm_treino\": resultados_svm_comp[0][\"train_score\"],\n",
    "        \"svm_teste\": resultados_svm_comp[0][\"test_score\"],\n",
    "        \"redeNeural_treino\": resultados_rede_neural_comp[0][\"train_score\"],\n",
    "        \"redeNeural_teste\": resultados_rede_neural_comp[0][\"test_score\"],\n",
    "    }\n",
    ")"
   ]
  },
  {
   "cell_type": "code",
   "execution_count": null,
   "id": "d33976d6-1339-4d7f-bd3e-bb81e052d0cf",
   "metadata": {},
   "outputs": [],
   "source": [
    "resultados_comp"
   ]
  },
  {
   "cell_type": "code",
   "execution_count": null,
   "id": "26fba50f-3559-461c-8834-33abcec4b405",
   "metadata": {},
   "outputs": [],
   "source": [
    "medias = resultados_comp.mean()\n",
    "for nome_coluna, media in medias.items():\n",
    "    print(f\"Média da {nome_coluna}: {media * 100:.2f}%\")"
   ]
  },
  {
   "cell_type": "code",
   "execution_count": null,
   "id": "bf3588cd-24f4-4b64-9524-ada6a818cab1",
   "metadata": {},
   "outputs": [],
   "source": [
    "resultados_comp_teste = resultados_comp.loc[\n",
    "    :, [\"decisionTree_teste\", \"randomForest_teste\", \"svm_teste\", \"redeNeural_teste\"]\n",
    "]"
   ]
  },
  {
   "cell_type": "code",
   "execution_count": null,
   "id": "77090815-760c-44fb-8b85-2239a9f5a0cb",
   "metadata": {},
   "outputs": [],
   "source": [
    "models = [\"decisionTree\", \"randomForest\", \"svm\", \"redeNeural\"]\n",
    "models_nome = [\"Árvore de Decisão\", \"Random Forest\", \"SVM\", \"Rede Neural\"]\n",
    "\n",
    "visualizacao.plot_learning_curve(\n",
    "    resultados_comp,\n",
    "    models=models,\n",
    "    model_names=models_nome,\n",
    "    save_path=\"../imagens/curva_aprendizadoML1.pdf\",\n",
    ")"
   ]
  },
  {
   "cell_type": "code",
   "execution_count": null,
   "id": "1dd47c32-1497-47d7-8c5f-887d5eab6fb2",
   "metadata": {},
   "outputs": [],
   "source": [
    "resultados_comp_teste.mean()"
   ]
  },
  {
   "cell_type": "code",
   "execution_count": null,
   "id": "7012e3bf-92e3-46ed-ad4e-08f88cfbcfc8",
   "metadata": {},
   "outputs": [],
   "source": [
    "resultados_comp_teste.columns = [\n",
    "    \"Árvore de Decisão\",\n",
    "    \"Random Forest\",\n",
    "    \"SVM\",\n",
    "    \"Rede Neural\",\n",
    "]"
   ]
  },
  {
   "cell_type": "code",
   "execution_count": null,
   "id": "8180506f-b984-4d13-b0cc-b02e4405642e",
   "metadata": {},
   "outputs": [],
   "source": [
    "resultados_comp_teste"
   ]
  },
  {
   "cell_type": "code",
   "execution_count": null,
   "id": "8ab52b88-8cc5-4bcb-be0c-bb878fc75d4c",
   "metadata": {},
   "outputs": [],
   "source": [
    "resultados_comp_treino = resultados_comp.loc[\n",
    "    :, [\"decisionTree_treino\", \"randomForest_treino\", \"svm_treino\", \"redeNeural_treino\"]\n",
    "]"
   ]
  },
  {
   "cell_type": "code",
   "execution_count": null,
   "id": "0cd2538a-59aa-4f61-b048-b86d042efbeb",
   "metadata": {},
   "outputs": [],
   "source": [
    "resultados_comp_treino.columns = [\n",
    "    \"Árvore de Decisão\",\n",
    "    \"Random Forest\",\n",
    "    \"SVM\",\n",
    "    \"Rede Neural\",\n",
    "]"
   ]
  },
  {
   "cell_type": "code",
   "execution_count": null,
   "id": "a48a5bff-47af-474c-9bc5-ccfba27a5ac7",
   "metadata": {},
   "outputs": [],
   "source": [
    "resultados_comp_treino.mean()"
   ]
  },
  {
   "cell_type": "code",
   "execution_count": null,
   "id": "ba0f8389-137d-49de-a8f2-dfcf5ef5602f",
   "metadata": {},
   "outputs": [],
   "source": [
    "(resultados_comp.std() / resultados_comp.mean()) * 100"
   ]
  },
  {
   "cell_type": "markdown",
   "id": "1ce06640-beff-443e-8de4-3a3930c1e762",
   "metadata": {},
   "source": [
    "Teste de normalidade"
   ]
  },
  {
   "cell_type": "code",
   "execution_count": null,
   "id": "792e87cc-3f6b-4208-8c57-a93c6f4056f3",
   "metadata": {},
   "outputs": [],
   "source": [
    "alpha = 0.05"
   ]
  },
  {
   "cell_type": "code",
   "execution_count": null,
   "id": "281c118a-d9ea-4847-8ee9-420254ebaf62",
   "metadata": {},
   "outputs": [],
   "source": [
    "from scipy.stats import shapiro"
   ]
  },
  {
   "cell_type": "code",
   "execution_count": null,
   "id": "870c2905-f78f-4dba-b40e-a537f3afd32c",
   "metadata": {},
   "outputs": [],
   "source": [
    "shapiro(resultados_arvore_comp[0][\"test_score\"]), shapiro(\n",
    "    resultados_random_forest_comp[0][\"test_score\"]\n",
    "), shapiro(resultados_svm_comp[0][\"test_score\"]), shapiro(\n",
    "    resultados_rede_neural_comp[0][\"test_score\"]\n",
    ")"
   ]
  },
  {
   "cell_type": "markdown",
   "id": "0afcaf54-49fa-4401-b960-6cb8b7e26c59",
   "metadata": {},
   "source": [
    "Teste de hipótese com ANOVA e Tukey"
   ]
  },
  {
   "cell_type": "code",
   "execution_count": null,
   "id": "d10d3a17-467d-43e2-9568-e4f49583dcb6",
   "metadata": {},
   "outputs": [],
   "source": [
    "from scipy.stats import f_oneway"
   ]
  },
  {
   "cell_type": "code",
   "execution_count": null,
   "id": "10bc7640-f90c-4c97-8932-db6ec76d56a1",
   "metadata": {},
   "outputs": [],
   "source": [
    "_, p = f_oneway(\n",
    "    resultados_arvore_comp[0][\"test_score\"],\n",
    "    resultados_random_forest_comp[0][\"test_score\"],\n",
    "    resultados_svm_comp[0][\"test_score\"],\n",
    "    resultados_rede_neural_comp[0][\"test_score\"],\n",
    ")\n",
    "p"
   ]
  },
  {
   "cell_type": "code",
   "execution_count": null,
   "id": "42c6f883-ae60-4db6-91c7-b61bcc0d3aad",
   "metadata": {},
   "outputs": [],
   "source": [
    "alpha = 0.05\n",
    "if p <= alpha:\n",
    "    print(\"Hipótese nula rejeitada. Dados são diferentes\")\n",
    "else:\n",
    "    print(\"Hipótese alternativa rejeitada. Resultados são iguais\")"
   ]
  },
  {
   "cell_type": "code",
   "execution_count": null,
   "id": "1cd37c1d-a704-4225-a7ec-f3b56471115c",
   "metadata": {},
   "outputs": [],
   "source": [
    "resultados_algoritmos_comp = {\n",
    "    \"accuracy\": np.concatenate(\n",
    "        [\n",
    "            resultados_arvore_comp[0][\"test_score\"],\n",
    "            resultados_random_forest_comp[0][\"test_score\"],\n",
    "            resultados_svm_comp[0][\"test_score\"],\n",
    "            resultados_rede_neural_comp[0][\"test_score\"],\n",
    "        ]\n",
    "    ),\n",
    "    \"algoritmo\": [\"arvore\"] * len(resultados_arvore_comp[0][\"test_score\"])\n",
    "    + [\"random_forest\"] * len(resultados_random_forest_comp[0][\"test_score\"])\n",
    "    + [\"svm\"] * len(resultados_svm_comp[0][\"test_score\"])\n",
    "    + [\"rede_neural\"] * len(resultados_rede_neural_comp[0][\"test_score\"]),\n",
    "}"
   ]
  },
  {
   "cell_type": "code",
   "execution_count": null,
   "id": "34dd4c33-a22d-45c0-bcdc-e9c2bdf056b7",
   "metadata": {},
   "outputs": [],
   "source": [
    "resultados_df_comp = pd.DataFrame(resultados_algoritmos_comp)\n",
    "resultados_df_comp"
   ]
  },
  {
   "cell_type": "code",
   "execution_count": null,
   "id": "0bac6abb-5342-43d5-8a48-b7ff45e2cab7",
   "metadata": {},
   "outputs": [],
   "source": [
    "!pip install statsmodels"
   ]
  },
  {
   "cell_type": "code",
   "execution_count": null,
   "id": "ee04a50e-3de7-4069-b9d5-646be0d86a24",
   "metadata": {},
   "outputs": [],
   "source": [
    "from statsmodels.stats.multicomp import MultiComparison"
   ]
  },
  {
   "cell_type": "code",
   "execution_count": null,
   "id": "be0c9e97-2f7f-4db4-a177-c88bdb55f963",
   "metadata": {},
   "outputs": [],
   "source": [
    "compara_algoritmos_comp = MultiComparison(\n",
    "    resultados_df_comp[\"accuracy\"], resultados_df_comp[\"algoritmo\"]\n",
    ")"
   ]
  },
  {
   "cell_type": "code",
   "execution_count": null,
   "id": "a37fe89b-3963-42b9-94c7-237a9246f6df",
   "metadata": {},
   "outputs": [],
   "source": [
    "teste_estatistico_comp = compara_algoritmos_comp.tukeyhsd()\n",
    "print(teste_estatistico_comp)"
   ]
  },
  {
   "cell_type": "code",
   "execution_count": null,
   "id": "d775a6ac-3c0b-4a90-8569-5c8020da243f",
   "metadata": {},
   "outputs": [],
   "source": [
    "resultados_comp_teste.mean()"
   ]
  },
  {
   "cell_type": "code",
   "execution_count": null,
   "id": "29268939-372d-4689-a92c-fbc67a0225fe",
   "metadata": {},
   "outputs": [],
   "source": [
    "teste_estatistico_comp.plot_simultaneous();"
   ]
  },
  {
   "cell_type": "markdown",
   "id": "dd1e015e-fe97-495c-a07c-3029fe9c5671",
   "metadata": {},
   "source": [
    "Salvar o classificador treinado"
   ]
  },
  {
   "cell_type": "code",
   "execution_count": null,
   "id": "5481b1c2-972c-40dc-94fd-18e9cc0ad101",
   "metadata": {},
   "outputs": [],
   "source": [
    "classificador_randomForest = RandomForestClassifier(criterion='gini',max_depth=5, max_features=7, max_leaf_nodes=30,\n",
    "                                                    min_samples_leaf=9, n_estimators=300, n_jobs=-1,\n",
    "                                                    min_samples_split= 6,random_state=42)\n",
    "classificador_randomForest.fit(x_poscomp_comp, y_poscomp_comp)"
   ]
  },
  {
   "cell_type": "code",
   "execution_count": null,
   "id": "877374c0-3098-4fc3-ab59-970c232cef54",
   "metadata": {},
   "outputs": [],
   "source": [
    "import pickle\n",
    "pickle.dump(classificador_randomForest, open(\"../dados/classificadores/randomForest_finalizado_model2.sav\", \"wb\"))"
   ]
  },
  {
   "cell_type": "markdown",
   "id": "b246bb8f-8958-4279-bb15-affae05767ad",
   "metadata": {},
   "source": [
    "Carregar um classificar treinado"
   ]
  },
  {
   "cell_type": "code",
   "execution_count": null,
   "id": "30f53597-a014-40a6-a7fa-7b127af967fb",
   "metadata": {},
   "outputs": [],
   "source": [
    "randomForest = pickle.load(open(\"randomForest_finalizado.sav\", \"rb\"))"
   ]
  },
  {
   "cell_type": "markdown",
   "id": "cfd288fc-3da5-4b95-b60b-f5983c99655f",
   "metadata": {
    "jp-MarkdownHeadingCollapsed": true
   },
   "source": [
    "##### Algoritmos para computação"
   ]
  },
  {
   "cell_type": "code",
   "execution_count": null,
   "id": "2e4518f1-0464-43cd-9592-7815c8d2c2ae",
   "metadata": {
    "tags": []
   },
   "outputs": [],
   "source": [
    "from sklearn.metrics import (\n",
    "    accuracy_score,\n",
    "    confusion_matrix,\n",
    "    f1_score,\n",
    "    precision_score,\n",
    "    recall_score,\n",
    ")\n",
    "\n",
    "algorithms = [\n",
    "    (\"Árvore de Decisão (C4.5)\", DecisionTreeClassifier(random_state=42)),\n",
    "    (\"Random Forest\", RandomForestClassifier(random_state=42, n_estimators=1000)),\n",
    "    (\"SVM\", SVC(random_state=42)),\n",
    "    (\"Rede Neural\", MLPClassifier(random_state=42)),\n",
    "]\n",
    "\n",
    "for name, classifier in algorithms:\n",
    "    classifier.fit(x_train_comp, y_train_comp)\n",
    "    train_predictions_comp = classifier.predict(x_train_comp)\n",
    "    test_predictions_comp = classifier.predict(x_test_comp)\n",
    "\n",
    "    train_accuracy_comp = accuracy_score(y_train_comp, train_predictions_comp)\n",
    "    test_accuracy_comp = accuracy_score(y_test_comp, test_predictions_comp)\n",
    "\n",
    "    precision_comp = precision_score(\n",
    "        y_test_comp, test_predictions_comp, average=\"macro\"\n",
    "    )\n",
    "    recall_comp = recall_score(y_test_comp, test_predictions_comp, average=\"macro\")\n",
    "    f1_comp = f1_score(y_test_comp, test_predictions_comp, average=\"macro\")\n",
    "\n",
    "    conf_matrix_comp = confusion_matrix(y_test_comp, test_predictions_comp)\n",
    "\n",
    "    print(\n",
    "        f\"{name} - Acurácia no Conjunto de Treinamento: {train_accuracy_comp * 100:.2f}%\"\n",
    "    )\n",
    "    print(f\"{name} - Acurácia no Conjunto de Teste: {test_accuracy_comp * 100:.2f}%\")\n",
    "    print(f\"{name} - Precisão: {precision_comp * 100:.2f}%\")\n",
    "    print(f\"{name} - Recall: {recall_comp * 100:.2f}%\")\n",
    "    print(f\"{name} - F1-Score: {f1_comp * 100:.2f}%\")\n",
    "    print(f\"{name} - Matriz de Confusão:\\n{conf_matrix_comp}\\n\")"
   ]
  },
  {
   "cell_type": "code",
   "execution_count": null,
   "id": "1d3b3ae7-e0c7-4912-a457-b4f52f290b08",
   "metadata": {},
   "outputs": [],
   "source": []
  },
  {
   "cell_type": "markdown",
   "id": "02286166-9893-452e-842e-5c0bd99407c9",
   "metadata": {},
   "source": [
    "### Candidates classified for the information area"
   ]
  },
  {
   "cell_type": "code",
   "execution_count": null,
   "id": "3e342c45-6ed2-4db2-8339-b96bdf31b2ee",
   "metadata": {},
   "outputs": [],
   "source": [
    "df_information = dataset[dataset[\"area_concentration\"] == \"informatica\"]"
   ]
  },
  {
   "cell_type": "code",
   "execution_count": null,
   "id": "f7f20a76-d111-473d-95e8-dac4b3396cea",
   "metadata": {},
   "outputs": [],
   "source": [
    "df_information.head()"
   ]
  },
  {
   "cell_type": "code",
   "execution_count": null,
   "id": "811c16e5-1ef5-472e-8004-a88761259bff",
   "metadata": {},
   "outputs": [],
   "source": [
    "linhas_pesquisas2 = df_information.groupby('linhas_pesquisas').size().reset_index(name='counts')\n",
    "visualizacao.barplot_view(dataframe=linhas_pesquisas2, x='linhas_pesquisas', y='counts', show_legend=False, \n",
    "                         figsize=(8,5), save_path=\"../imagens/quant_class_modelo3.pdf\", dodge=True)"
   ]
  },
  {
   "cell_type": "code",
   "execution_count": null,
   "id": "6d261acf-d772-4d85-8d57-d348d63d911c",
   "metadata": {},
   "outputs": [],
   "source": [
    "df_information = df_information.loc[\n",
    "    :,\n",
    "    [\n",
    "        \"IDADE\",\n",
    "        \"SEXO\",\n",
    "        \"REGIAO\",\n",
    "        \"ESTADO\",\n",
    "        \"matematica\",\n",
    "        \"fund_computacao\",\n",
    "        \"tec_computacao\",\n",
    "        \"total\",\n",
    "        \"linhas_pesquisas\",\n",
    "    ],\n",
    "]"
   ]
  },
  {
   "cell_type": "code",
   "execution_count": null,
   "id": "e9c34fe3-f5df-4ddc-860b-26b3cb6dcd83",
   "metadata": {},
   "outputs": [],
   "source": [
    "categorical_columns_inf = [\"linhas_pesquisas\", \"SEXO\", \"REGIAO\", \"ESTADO\"]\n",
    "df_information = encode_categorical_columns(df_information, categorical_columns_inf)"
   ]
  },
  {
   "cell_type": "code",
   "execution_count": null,
   "id": "c0846cd8-d02f-4e61-b4a3-01b44bd7957c",
   "metadata": {},
   "outputs": [],
   "source": [
    "df_information.head()"
   ]
  },
  {
   "cell_type": "code",
   "execution_count": null,
   "id": "67fe413d-7cf5-4fb5-a822-19c7e84962a5",
   "metadata": {},
   "outputs": [],
   "source": [
    "x_information = df_information.drop([\"linhas_pesquisas\"], axis=1)\n",
    "y_information = df_information[\"linhas_pesquisas\"]"
   ]
  },
  {
   "cell_type": "markdown",
   "id": "671bbdd9-c777-40cc-b5a4-44d2e7cf2f12",
   "metadata": {},
   "source": [
    "Dividir a Base"
   ]
  },
  {
   "cell_type": "code",
   "execution_count": null,
   "id": "88d5769f-76e7-4cc3-bbb1-348618d8b77c",
   "metadata": {},
   "outputs": [],
   "source": [
    "x_train_inf, x_test_inf, y_train_inf, y_test_inf = train_test_split(\n",
    "    x_information, y_information, test_size=0.3, stratify=y_information\n",
    ")"
   ]
  },
  {
   "cell_type": "code",
   "execution_count": null,
   "id": "27805ac6-1355-4f76-90b7-42be3a71b68f",
   "metadata": {},
   "outputs": [],
   "source": [
    "print(\"Shape of x_train : \", x_train_inf.shape)\n",
    "print(\"Shape of x_test  : \", x_test_inf.shape)\n",
    "print(\"Shape of y_train : \", y_train_inf.shape)\n",
    "print(\"Shape of y_test  : \", y_test_inf.shape)"
   ]
  },
  {
   "cell_type": "markdown",
   "id": "e10b7bfd-2c44-4663-9363-93f04a3dad68",
   "metadata": {
    "jp-MarkdownHeadingCollapsed": true
   },
   "source": [
    "###### Arvore de Decisão"
   ]
  },
  {
   "cell_type": "code",
   "execution_count": null,
   "id": "a855fbac-ac47-4eef-94af-0645000cb43f",
   "metadata": {
    "tags": []
   },
   "outputs": [],
   "source": [
    "parametros = {\n",
    "    \"criterion\": [\"entropy\", \"log_loss\", \"gini\"],\n",
    "    \"splitter\": [\"random\", \"best\"],\n",
    "    \"max_depth\": [3, 4, 5, 6, 7],  # Ou qualquer outro intervalo apropriado\n",
    "    'min_samples_split': [2, 5, 10],\n",
    "    \"min_samples_leaf\": np.arange(1, 21, 2),\n",
    "    # 'min_weight_fraction_leaf': [0.0, 0.1, 0.2],\n",
    "    \"max_features\": [4, 5, 6],\n",
    "    'max_leaf_nodes': [None, 5, 10, 20],\n",
    "    # 'min_impurity_decrease': [0.0, 0.1, 0.2],\n",
    "    # 'ccp_alpha': [0.0, 0.1, 0.2],\n",
    "}"
   ]
  },
  {
   "cell_type": "code",
   "execution_count": null,
   "id": "85546ebf-511d-43fb-b5c2-0d00fe31ff32",
   "metadata": {
    "tags": []
   },
   "outputs": [],
   "source": [
    "tree_clf = ClassifierWrapper(DecisionTreeClassifier(random_state=42), parametros)\n",
    "tree_clf.grid_search(x_train_inf, y_train_inf, cv=10)\n",
    "tree_clf.train_and_print_scores(x_train_inf, y_train_inf, x_test_inf, y_test_inf)"
   ]
  },
  {
   "cell_type": "code",
   "execution_count": null,
   "id": "16aaef9c-917f-4143-b568-719b1f47962b",
   "metadata": {},
   "outputs": [],
   "source": [
    "process_cv_results(tree_clf.cv_results_, top_n=10, output_filename='df_em_porcentes_treeM2.csv')"
   ]
  },
  {
   "cell_type": "markdown",
   "id": "4636c70f-b377-4b01-b95b-be0f82b39efa",
   "metadata": {},
   "source": [
    "###### Random Forest"
   ]
  },
  {
   "cell_type": "code",
   "execution_count": null,
   "id": "d98c49a4-6fd1-442d-84e2-b076805786d9",
   "metadata": {
    "tags": []
   },
   "outputs": [],
   "source": [
    "parametros = {\n",
    "    \"n_estimators\": [300,500,600,700],\n",
    "    \"criterion\": ['gini', 'entropy', 'log_loss'],\n",
    "    \"max_depth\": [6,7,8,9],\n",
    "    'min_samples_split': [2,4,6],\n",
    "    \"min_samples_leaf\": [8,9,10],\n",
    "    # 'min_weight_fraction_leaf': [0.0, 0.1, 0.2],\n",
    "    \"max_features\": ['sqrt', 'log2', None],\n",
    "    'max_leaf_nodes': [None, 20, 30,40],\n",
    "    # 'min_impurity_decrease': [0.0, 0.1, 0.2],\n",
    "    \"bootstrap\": [False, True],\n",
    "    # 'oob_score': [True, False],\n",
    "    \"n_jobs\": [-1],  # Use -1 para usar todos os processadores disponíveis\n",
    "    # 'verbose': [0, 1, 2],\n",
    "    # 'warm_start': [True],\n",
    "    # 'class_weight': ['balanced'],\n",
    "    # 'ccp_alpha': [0.0, 0.1, 0.2],\n",
    "    # 'max_samples': [None, 0.7, 0.8, 0.9],\n",
    "}"
   ]
  },
  {
   "cell_type": "code",
   "execution_count": null,
   "id": "b3628987-6695-4f38-8638-1f2aa7dbf232",
   "metadata": {
    "tags": []
   },
   "outputs": [],
   "source": [
    "forest_clf = ClassifierWrapper(RandomForestClassifier(random_state=42), parametros)\n",
    "forest_clf.grid_search(x_train_inf, y_train_inf, cv=10)\n",
    "forest_clf.train_and_print_scores(x_train_inf, y_train_inf, x_test_inf, y_test_inf)"
   ]
  },
  {
   "cell_type": "code",
   "execution_count": null,
   "id": "866ea85d-228f-4c40-bb7e-9d4eab28c3a8",
   "metadata": {},
   "outputs": [],
   "source": [
    "process_cv_results(forest_clf.cv_results_, top_n=10, output_filename='df_em_porcentes_forestM2.csv')"
   ]
  },
  {
   "cell_type": "markdown",
   "id": "e243dafe-e9de-4aec-a66d-a5e03d5cafb4",
   "metadata": {},
   "source": [
    "###### SVM"
   ]
  },
  {
   "cell_type": "code",
   "execution_count": null,
   "id": "23a240f8-dc11-4d41-9aac-1b8033435237",
   "metadata": {},
   "outputs": [],
   "source": [
    "parametros = {\n",
    "    \"C\": [1, 2, 3, 4],\n",
    "    \"kernel\": [\"poly\", \"rbf\"],\n",
    "    \"degree\": [5, 6, 7, 8],\n",
    "    # 'gamma': ['scale', 'auto'],\n",
    "    # \"coef0\": [0.1, 1.0],\n",
    "    # 'shrinking': [True, False],\n",
    "    # 'probability': [True],\n",
    "    # 'tol': [1e-4],\n",
    "    # 'cache_size': np.arange(1,11,2),\n",
    "    # \"class_weight\": [None, \"balanced\"],\n",
    "    # 'verbose': [True],\n",
    "    # 'max_iter': [100, 1000, -1],  # -1 indica nenhum limite\n",
    "    # 'decision_function_shape': ['ovr', 'ovo'],\n",
    "    # 'break_ties': [True],\n",
    "}"
   ]
  },
  {
   "cell_type": "code",
   "execution_count": null,
   "id": "39c72ead-ea26-434c-a461-9deb97c53cc5",
   "metadata": {
    "tags": []
   },
   "outputs": [],
   "source": [
    "svm_clf = ClassifierWrapper(SVC(random_state=42), parametros)\n",
    "svm_clf.grid_search(x_train_inf, y_train_inf, cv=10)\n",
    "svm_clf.train_and_print_scores(x_train_inf, y_train_inf, x_test_inf, y_test_inf)"
   ]
  },
  {
   "cell_type": "code",
   "execution_count": null,
   "id": "c8703156-e5da-4b4f-b409-eabd35623c70",
   "metadata": {},
   "outputs": [],
   "source": [
    "process_cv_results(svm_clf.cv_results_, top_n=10, output_filename='df_em_porcentes_svmM2.csv')"
   ]
  },
  {
   "cell_type": "markdown",
   "id": "cfb741fa-3660-4eda-8704-e3f0cdad05ed",
   "metadata": {},
   "source": [
    "##### Rede Neural"
   ]
  },
  {
   "cell_type": "code",
   "execution_count": null,
   "id": "9740f713-d0e0-4e50-9c20-1f39f691e440",
   "metadata": {},
   "outputs": [],
   "source": [
    "parametros = {\n",
    "    \"hidden_layer_sizes\": [(50,), (100,), (50, 50), (100, 100), (200, 100, 50)],\n",
    "    'activation': ['identity', 'logistic', 'tanh', 'relu'],\n",
    "    \"solver\": ['lbfgs', 'sgd', 'adam'],\n",
    "    \"alpha\": [0.01, 0.001, 0.0001],\n",
    "    # \"batch_size\": [\"auto\", 100, 200],\n",
    "    # 'learning_rate': ['constant', 'invscaling', 'adaptive'],\n",
    "    # \"learning_rate_init\": [0.01],\n",
    "    # 'power_t': [0.5, 0.9],\n",
    "    'max_iter': [2000,2500,3000],\n",
    "    # 'shuffle': [True, False],\n",
    "    # 'random_state': [None, 42],\n",
    "    # 'tol': [1e-4, 1e-3, 1e-2],\n",
    "    # 'verbose': [True, False],\n",
    "    # 'warm_start': [True, False],\n",
    "    # 'momentum': [0.5, 0.9],\n",
    "    # 'nesterovs_momentum': [True, False],\n",
    "    # \"early_stopping\": [True, False],\n",
    "    # 'validation_fraction': [0.1, 0.2],\n",
    "    # \"beta_1\": [0.99],\n",
    "    # \"beta_2\": [0.999],\n",
    "    # \"epsilon\": [1e-8],\n",
    "    # \"n_iter_no_change\": [20],\n",
    "    # 'max_fun': [10000, 15000, 20000]\n",
    "}"
   ]
  },
  {
   "cell_type": "code",
   "execution_count": null,
   "id": "15230b16-d8af-40ff-afa8-3bcfa3fbd465",
   "metadata": {
    "scrolled": true
   },
   "outputs": [],
   "source": [
    "neural_clf = ClassifierWrapper(MLPClassifier(random_state=42), parametros)\n",
    "neural_clf.grid_search(x_train_inf, y_train_inf, cv=10)\n",
    "neural_clf.train_and_print_scores(x_train_inf, y_train_inf, x_test_inf, y_test_inf)"
   ]
  },
  {
   "cell_type": "code",
   "execution_count": null,
   "id": "7635c1f2-8124-4a31-b473-06f8a22d6e30",
   "metadata": {},
   "outputs": [],
   "source": [
    "process_cv_results(neural_clf.cv_results_, top_n=10, output_filename='df_em_porcentes_neuralM2.csv')"
   ]
  },
  {
   "cell_type": "markdown",
   "id": "b7121a81-596c-4fbc-ae04-f347dbb0e922",
   "metadata": {},
   "source": [
    "##### Validação Cruzada"
   ]
  },
  {
   "cell_type": "code",
   "execution_count": null,
   "id": "dc20f2cf-651e-4abc-bb3f-8046057345c5",
   "metadata": {},
   "outputs": [],
   "source": [
    "x_poscomp_inf = np.concatenate((x_train_inf, x_test_inf), axis=0)\n",
    "y_poscomp_inf = np.concatenate((y_train_inf, y_test_inf), axis=0)"
   ]
  },
  {
   "cell_type": "code",
   "execution_count": null,
   "id": "655ecdeb-1501-43e6-81ff-5ac7c0cb0db8",
   "metadata": {},
   "outputs": [],
   "source": [
    "# Uso para Decision Tree\n",
    "params_arvore_inf = {\n",
    "    \"criterion\": \"entropy\",\n",
    "    \"max_depth\": 10,\n",
    "    \"max_features\": 4,\n",
    "    \"min_samples_leaf\": 2,\n",
    "    \"random_state\": 42,\n",
    "    \"splitter\": \"random\",\n",
    "}\n",
    "resultados_arvore_inf = ClassifierWrapper.avaliar_classificador(\n",
    "    DecisionTreeClassifier, params_arvore_inf, x_poscomp_inf, y_poscomp_inf\n",
    ")\n",
    "\n",
    "# Uso para Random Forest\n",
    "params_random_forest_inf = {\n",
    "    \"bootstrap\": False,\n",
    "    \"criterion\": \"entropy\",\n",
    "    \"max_depth\": 7,\n",
    "    \"max_features\": \"sqrt\",\n",
    "    \"min_samples_leaf\": 9,\n",
    "    \"n_estimators\": 500,\n",
    "    \"n_jobs\": -1,\n",
    "    \"random_state\": 42,\n",
    "}\n",
    "resultados_random_forest_inf = ClassifierWrapper.avaliar_classificador(\n",
    "    RandomForestClassifier, params_random_forest_inf, x_poscomp_inf, y_poscomp_inf\n",
    ")\n",
    "\n",
    "# Uso para SVM\n",
    "params_svm_inf = {\n",
    "    \"C\": 4,\n",
    "    \"degree\": 7,\n",
    "    \"kernel\": \"poly\",\n",
    "    \"random_state\": 42,\n",
    "}\n",
    "resultados_svm_inf = ClassifierWrapper.avaliar_classificador(\n",
    "    SVC, params_svm_inf, x_poscomp_inf, y_poscomp_inf\n",
    ")\n",
    "\n",
    "# Uso para MLP (Rede Neural)\n",
    "params_rede_neural_inf = {\n",
    "    \"activation\": \"logistic\",\n",
    "    \"alpha\": 1e-05,\n",
    "    \"batch_size\": 50,\n",
    "    \"hidden_layer_sizes\": (200, 100, 50),\n",
    "    \"learning_rate\": \"constant\",\n",
    "    \"learning_rate_init\": 0.001,\n",
    "    \"max_iter\": 70,\n",
    "    \"solver\": \"adam\",\n",
    "    \"random_state\": 42,\n",
    "}\n",
    "resultados_rede_neural_inf = ClassifierWrapper.avaliar_classificador(\n",
    "    MLPClassifier, params_rede_neural_inf, x_poscomp_inf, y_poscomp_inf\n",
    ")"
   ]
  },
  {
   "cell_type": "code",
   "execution_count": null,
   "id": "c54ada15-fcb0-45bb-9525-cbd5869c8ae4",
   "metadata": {},
   "outputs": [],
   "source": [
    "# Supondo que x_train, x_test, y_train, y_test são seus dados de treino e teste\n",
    "\n",
    "# Para a Árvore de Decisão\n",
    "matriz_confusao_arvore_inf = ClassifierWrapper.gerar_matriz_confusao(\n",
    "    DecisionTreeClassifier, params_arvore_inf, x_train, x_test, y_train, y_test\n",
    ")\n",
    "\n",
    "# Para a Random Forest\n",
    "matriz_confusao_random_forest_inf = ClassifierWrapper.gerar_matriz_confusao(\n",
    "    RandomForestClassifier, params_random_forest_inf, x_train, x_test, y_train, y_test\n",
    ")\n",
    "\n",
    "# Para o SVM\n",
    "matriz_confusao_svm_inf = ClassifierWrapper.gerar_matriz_confusao(\n",
    "    SVC, params_svm_inf, x_train, x_test, y_train, y_test\n",
    ")\n",
    "\n",
    "# Para a Rede Neural\n",
    "matriz_confusao_rede_neural_inf = ClassifierWrapper.gerar_matriz_confusao(\n",
    "    MLPClassifier, params_rede_neural_inf, x_train, x_test, y_train, y_test\n",
    ")"
   ]
  },
  {
   "cell_type": "code",
   "execution_count": null,
   "id": "631b3e93-57b0-4883-b7d4-a80cb6877f82",
   "metadata": {},
   "outputs": [],
   "source": [
    "resultados_inf = pd.DataFrame(\n",
    "    {\n",
    "        \"decisionTree_treino\": resultados_arvore_inf[0][\"train_score\"],\n",
    "        \"decisionTree_teste\": resultados_arvore_inf[0][\"test_score\"],\n",
    "        \"randomForest_treino\": resultados_random_forest_inf[0][\"train_score\"],\n",
    "        \"randomForest_teste\": resultados_random_forest_inf[0][\"test_score\"],\n",
    "        \"svm_treino\": resultados_svm_inf[0][\"train_score\"],\n",
    "        \"svm_teste\": resultados_svm_inf[0][\"test_score\"],\n",
    "        \"redeNeural_treino\": resultados_rede_neural_inf[0][\"train_score\"],\n",
    "        \"redeNeural_teste\": resultados_rede_neural_inf[0][\"test_score\"],\n",
    "    }\n",
    ")"
   ]
  },
  {
   "cell_type": "code",
   "execution_count": null,
   "id": "f2db9e5b-e8ca-4eb1-b648-45555e6a238e",
   "metadata": {},
   "outputs": [],
   "source": [
    "resultados_inf"
   ]
  },
  {
   "cell_type": "code",
   "execution_count": null,
   "id": "2de02897-cc65-478e-849f-3115f4160814",
   "metadata": {},
   "outputs": [],
   "source": [
    "medias = resultados_inf.mean()\n",
    "for nome_coluna, media in medias.items():\n",
    "    print(f\"Média da {nome_coluna}: {media * 100:.2f}%\")"
   ]
  },
  {
   "cell_type": "code",
   "execution_count": null,
   "id": "cbf8614b-d3e6-4715-9890-cbe65d9230d8",
   "metadata": {},
   "outputs": [],
   "source": [
    "resultados_inf_teste = resultados_inf.loc[\n",
    "    :, [\"decisionTree_teste\", \"randomForest_teste\", \"svm_teste\", \"redeNeural_teste\"]\n",
    "]"
   ]
  },
  {
   "cell_type": "code",
   "execution_count": null,
   "id": "c9e01e70-f0ad-40dd-97f7-3502b837d6eb",
   "metadata": {},
   "outputs": [],
   "source": [
    "resultados_inf_teste.mean()"
   ]
  },
  {
   "cell_type": "code",
   "execution_count": null,
   "id": "09377fd8-7c41-4975-be0a-85f5e36d3f55",
   "metadata": {},
   "outputs": [],
   "source": [
    "resultados_inf_teste.columns = [\n",
    "    \"Árvore de Decisão\",\n",
    "    \"Random Forest\",\n",
    "    \"SVM\",\n",
    "    \"Rede Neural\",\n",
    "]"
   ]
  },
  {
   "cell_type": "code",
   "execution_count": null,
   "id": "f62d4fc3-3e0e-4e2b-9edb-8be8ebdaf7ee",
   "metadata": {},
   "outputs": [],
   "source": [
    "resultados_inf_teste"
   ]
  },
  {
   "cell_type": "code",
   "execution_count": null,
   "id": "e7d11bc6-9c7a-4059-a56d-b27948ede475",
   "metadata": {},
   "outputs": [],
   "source": [
    "resultados_inf_treino = resultados_inf.loc[\n",
    "    :, [\"decisionTree_treino\", \"randomForest_treino\", \"svm_treino\", \"redeNeural_treino\"]\n",
    "]"
   ]
  },
  {
   "cell_type": "code",
   "execution_count": null,
   "id": "904b1def-ef81-4866-aca8-08e3bc1a6e41",
   "metadata": {},
   "outputs": [],
   "source": [
    "resultados_inf_treino.columns = [\n",
    "    \"Árvore de Decisão\",\n",
    "    \"Random Forest\",\n",
    "    \"SVM\",\n",
    "    \"Rede Neural\",\n",
    "]"
   ]
  },
  {
   "cell_type": "code",
   "execution_count": null,
   "id": "e247e32b-f4bd-4fcf-9fbc-e33ce7c8191e",
   "metadata": {},
   "outputs": [],
   "source": [
    "resultados_inf_treino.mean()"
   ]
  },
  {
   "cell_type": "code",
   "execution_count": null,
   "id": "e8ddd27a-23e3-40a3-84de-2e44e1c69e0f",
   "metadata": {},
   "outputs": [],
   "source": [
    "(resultados_inf.std() / resultados_inf.mean()) * 100"
   ]
  },
  {
   "cell_type": "code",
   "execution_count": null,
   "id": "07f53ee2-2164-4898-962f-d706ea75cd05",
   "metadata": {},
   "outputs": [],
   "source": [
    "visualizacao.plot_learning_curve(\n",
    "    resultados_inf,\n",
    "    models=models,\n",
    "    model_names=models_nome,\n",
    "    save_path=\"../imagens/curva_aprendizadoML2.pdf\",\n",
    ")"
   ]
  },
  {
   "cell_type": "markdown",
   "id": "3ba32dfc-9d18-45c2-9f40-da79371b7c5f",
   "metadata": {},
   "source": [
    "Teste de normalidade"
   ]
  },
  {
   "cell_type": "code",
   "execution_count": null,
   "id": "8cfe539f-9cb1-42fd-8a4f-3cff3e2d047a",
   "metadata": {},
   "outputs": [],
   "source": [
    "from scipy.stats import shapiro"
   ]
  },
  {
   "cell_type": "code",
   "execution_count": null,
   "id": "0fce7d58-e86b-44f6-bb44-f915691e221c",
   "metadata": {},
   "outputs": [],
   "source": [
    "shapiro(resultados_arvore_inf[0][\"test_score\"]), shapiro(\n",
    "    resultados_random_forest_inf[0][\"test_score\"]\n",
    "), shapiro(resultados_svm_inf[0][\"test_score\"]), shapiro(\n",
    "    resultados_rede_neural_inf[0][\"test_score\"]\n",
    ")"
   ]
  },
  {
   "cell_type": "markdown",
   "id": "22e380fb-66a3-4e52-b5f7-e23af7af054a",
   "metadata": {},
   "source": [
    "Teste de hipótese com ANOVA e Tukey"
   ]
  },
  {
   "cell_type": "code",
   "execution_count": null,
   "id": "843f4e36-5b67-4682-876b-88eedb942bd1",
   "metadata": {},
   "outputs": [],
   "source": [
    "from scipy.stats import f_oneway"
   ]
  },
  {
   "cell_type": "code",
   "execution_count": null,
   "id": "bf18509b-e530-4f3f-9909-9823a46c16c0",
   "metadata": {},
   "outputs": [],
   "source": [
    "_, p_inf = f_oneway(\n",
    "    resultados_arvore_inf[0][\"test_score\"],\n",
    "    resultados_random_forest_inf[0][\"test_score\"],\n",
    "    resultados_svm_inf[0][\"test_score\"],\n",
    "    resultados_rede_neural_inf[0][\"test_score\"],\n",
    ")\n",
    "p_inf"
   ]
  },
  {
   "cell_type": "code",
   "execution_count": null,
   "id": "2dfd7e24-0a0b-4929-a01e-72b40fdf4f2f",
   "metadata": {},
   "outputs": [],
   "source": [
    "alpha = 0.05\n",
    "if p_inf <= alpha:\n",
    "    print(\"Hipótese nula rejeitada. Dados são diferentes\")\n",
    "else:\n",
    "    print(\"Hipótese alternativa rejeitada. Resultados são iguais\")"
   ]
  },
  {
   "cell_type": "code",
   "execution_count": null,
   "id": "587aad02-b1ab-4b73-bf62-17048ecb47d3",
   "metadata": {},
   "outputs": [],
   "source": [
    "resultados_algoritmos_inf = {\n",
    "    \"accuracy\": np.concatenate(\n",
    "        [\n",
    "            resultados_arvore_inf[0][\"test_score\"],\n",
    "            resultados_random_forest_inf[0][\"test_score\"],\n",
    "            resultados_svm_inf[0][\"test_score\"],\n",
    "            resultados_rede_neural_inf[0][\"test_score\"],\n",
    "        ]\n",
    "    ),\n",
    "    \"algoritmo\": [\"arvore\"] * len(resultados_arvore_inf[0][\"test_score\"])\n",
    "    + [\"random_forest\"] * len(resultados_random_forest_inf[0][\"test_score\"])\n",
    "    + [\"svm\"] * len(resultados_svm_inf[0][\"test_score\"])\n",
    "    + [\"rede_neural\"] * len(resultados_rede_neural_inf[0][\"test_score\"]),\n",
    "}"
   ]
  },
  {
   "cell_type": "code",
   "execution_count": null,
   "id": "4725d387-0882-4d5c-bd7f-c361357d0f01",
   "metadata": {},
   "outputs": [],
   "source": [
    "resultados_df_inf = pd.DataFrame(resultados_algoritmos_inf)"
   ]
  },
  {
   "cell_type": "code",
   "execution_count": null,
   "id": "30529efb-e23a-4ef9-88b1-9a783e3638d0",
   "metadata": {},
   "outputs": [],
   "source": [
    "resultados_df_inf[\"algoritmo\"] = resultados_df_inf[\"algoritmo\"].replace(\n",
    "    {\n",
    "        \"arvore\": \"Árvore de Decisão\",\n",
    "        \"random_forest\": \"Random Forest\",\n",
    "        \"svm\": \"SVM\",\n",
    "        \"rede_neural\": \"Rede Neural\",\n",
    "    }\n",
    ")"
   ]
  },
  {
   "cell_type": "code",
   "execution_count": null,
   "id": "fe2609fd-ff4a-4776-a4e3-96cf7101f000",
   "metadata": {},
   "outputs": [],
   "source": [
    "resultados_df_inf.head()"
   ]
  },
  {
   "cell_type": "code",
   "execution_count": null,
   "id": "13cf3bd8-e360-4f31-888d-3d87dd2d9198",
   "metadata": {},
   "outputs": [],
   "source": [
    "from statsmodels.stats.multicomp import MultiComparison"
   ]
  },
  {
   "cell_type": "code",
   "execution_count": null,
   "id": "6e560970-0598-4798-8cee-a4bfff8f2294",
   "metadata": {},
   "outputs": [],
   "source": [
    "compara_algoritmos_inf = MultiComparison(\n",
    "    resultados_df_inf[\"accuracy\"], resultados_df_inf[\"algoritmo\"]\n",
    ")"
   ]
  },
  {
   "cell_type": "code",
   "execution_count": null,
   "id": "5794fcec-fde6-4776-a300-a181a1e45ac6",
   "metadata": {},
   "outputs": [],
   "source": [
    "teste_estatistico_inf = compara_algoritmos_inf.tukeyhsd()\n",
    "print(teste_estatistico_inf)"
   ]
  },
  {
   "cell_type": "code",
   "execution_count": null,
   "id": "96835ce3-a098-4bee-8b79-51af8fceea90",
   "metadata": {},
   "outputs": [],
   "source": [
    "ax = teste_estatistico_inf.plot_simultaneous()\n",
    "ax.savefig(\"../imagens/comparacionML2.png\")"
   ]
  },
  {
   "cell_type": "code",
   "execution_count": null,
   "id": "c5c9c3bd-3562-4e31-ae97-62cfc5ce8c6f",
   "metadata": {},
   "outputs": [],
   "source": [
    "resultados_inf_teste.mean()"
   ]
  },
  {
   "cell_type": "code",
   "execution_count": null,
   "id": "451f17fb-017b-416a-9c79-698636cfacad",
   "metadata": {},
   "outputs": [],
   "source": [
    " \"bootstrap\": False,\n",
    "    \"criterion\": \"entropy\",\n",
    "    \"max_depth\": 7,\n",
    "    \"max_features\": \"sqrt\",\n",
    "    \"min_samples_leaf\": 9,\n",
    "    \"n_estimators\": 500,\n",
    "    \"n_jobs\": -1,\n",
    "    \"random_state\": 42,"
   ]
  },
  {
   "cell_type": "code",
   "execution_count": null,
   "id": "9a75c564-744f-4c68-81b9-d3d2da01b1da",
   "metadata": {},
   "outputs": [],
   "source": [
    "classificador_randomForest = RandomForestClassifier(bootstrap= False,criterion= \"entropy\", max_depth= 7,\n",
    "                                                    max_features= \"sqrt\",min_samples_leaf= 9, n_estimators= 500,\n",
    "                                                    n_jobs= -1,random_state= 42,)\n",
    "classificador_randomForest.fit(x_poscomp_inf, y_poscomp_inf)"
   ]
  },
  {
   "cell_type": "code",
   "execution_count": null,
   "id": "fa4e057e-59f4-4339-b6aa-b30448a81618",
   "metadata": {},
   "outputs": [],
   "source": [
    "import pickle\n",
    "pickle.dump(classificador_randomForest, open(\"../dados/classificadores/randomForest_finalizado_model3.sav\", \"wb\"))"
   ]
  },
  {
   "cell_type": "markdown",
   "id": "e2bd7a76-d73f-4a2b-a629-491627fa18b9",
   "metadata": {
    "jp-MarkdownHeadingCollapsed": true
   },
   "source": [
    "##### Algoritmos para informação"
   ]
  },
  {
   "cell_type": "code",
   "execution_count": null,
   "id": "06981b18-b829-437b-aab7-b0a6aeb0d2ad",
   "metadata": {
    "tags": []
   },
   "outputs": [],
   "source": [
    "algorithms = [\n",
    "    (\"Árvore de Decisão (C4.5)\", DecisionTreeClassifier(random_state=42)),\n",
    "    (\"Random Forest\", RandomForestClassifier(random_state=42)),\n",
    "    (\"SVM\", SVC(random_state=42)),\n",
    "    (\"Rede Neural\", MLPClassifier(random_state=42)),\n",
    "]\n",
    "\n",
    "for name, classifier in algorithms:\n",
    "    classifier.fit(x_train_inf, y_train_inf)\n",
    "    train_predictions_inf = classifier.predict(x_train_inf)\n",
    "    test_predictions_inf = classifier.predict(x_test_inf)\n",
    "\n",
    "    train_accuracy_inf = accuracy_score(y_train_inf, train_predictions_inf)\n",
    "    test_accuracy_inf = accuracy_score(y_test_inf, test_predictions_inf)\n",
    "\n",
    "    precision_inf = precision_score(y_test_inf, test_predictions_inf, average=\"macro\")\n",
    "    recall_inf = recall_score(y_test_inf, test_predictions_inf, average=\"macro\")\n",
    "    f1_inf = f1_score(y_test_inf, test_predictions_inf, average=\"macro\")\n",
    "\n",
    "    conf_matrix_inf = confusion_matrix(y_test_inf, test_predictions_inf)\n",
    "\n",
    "    print(\n",
    "        f\"{name} - Acurácia no Conjunto de Treinamento: {train_accuracy_inf * 100:.2f}%\"\n",
    "    )\n",
    "    print(f\"{name} - Acurácia no Conjunto de Teste: {test_accuracy_inf * 100:.2f}%\")\n",
    "    print(f\"{name} - Precisão: {precision_inf * 100:.2f}%\")\n",
    "    print(f\"{name} - Recall: {recall_inf * 100:.2f}%\")\n",
    "    print(f\"{name} - F1-Score: {f1_inf * 100:.2f}%\")\n",
    "    print(f\"{name} - Matriz de Confusão:\\n{conf_matrix_inf}\\n\")"
   ]
  },
  {
   "cell_type": "markdown",
   "id": "b4165c43-bef6-4baf-9f46-a8c1ae0b6279",
   "metadata": {
    "jp-MarkdownHeadingCollapsed": true,
    "tags": []
   },
   "source": [
    "### Os algoritmos"
   ]
  },
  {
   "cell_type": "code",
   "execution_count": null,
   "id": "cca2bbdd-3d09-4e14-b8d2-2a485b3e3615",
   "metadata": {
    "tags": []
   },
   "outputs": [],
   "source": [
    "from sklearn.metrics import (\n",
    "    accuracy_score,\n",
    "    confusion_matrix,\n",
    "    f1_score,\n",
    "    precision_score,\n",
    "    recall_score,\n",
    ")\n",
    "\n",
    "algorithms = [\n",
    "    (\n",
    "        \"Árvore de Decisão (C4.5)\",\n",
    "        DecisionTreeClassifier(\n",
    "            criterion=\"entropy\", max_depth=4, min_samples_leaf=6, random_state=42\n",
    "        ),\n",
    "    ),\n",
    "    (\n",
    "        \"Random Forest\",\n",
    "        RandomForestClassifier(\n",
    "            bootstrap=False,\n",
    "            criterion=\"entropy\",\n",
    "            max_depth=10,\n",
    "            n_estimators=200,\n",
    "            n_jobs=-1,\n",
    "            random_state=42,\n",
    "            warm_start=True,\n",
    "        ),\n",
    "    ),\n",
    "    (\n",
    "        \"SVM\",\n",
    "        SVC(\n",
    "            C=5000,\n",
    "            break_ties=True,\n",
    "            degree=1,\n",
    "            probability=True,\n",
    "            random_state=42,\n",
    "            tol=0.0001,\n",
    "            verbose=True,\n",
    "        ),\n",
    "    ),\n",
    "    (\n",
    "        \"Rede Neural\",\n",
    "        MLPClassifier(\n",
    "            activation=\"tanh\", hidden_layer_sizes=(100, 100), random_state=42\n",
    "        ),\n",
    "    ),\n",
    "]\n",
    "\n",
    "for name, classifier in algorithms:\n",
    "    classifier.fit(x_train, y_train)\n",
    "    train_predictions = classifier.predict(x_train)\n",
    "    test_predictions = classifier.predict(x_test)\n",
    "\n",
    "    train_accuracy = accuracy_score(y_train, train_predictions)\n",
    "    test_accuracy = accuracy_score(y_test, test_predictions)\n",
    "\n",
    "    precision = precision_score(y_test, test_predictions, average=\"macro\")\n",
    "    recall = recall_score(y_test, test_predictions, average=\"macro\")\n",
    "    f1 = f1_score(y_test, test_predictions, average=\"macro\")\n",
    "\n",
    "    conf_matrix = confusion_matrix(y_test, test_predictions)\n",
    "\n",
    "    print(f\"{name} - Acurácia no Conjunto de Treinamento: {train_accuracy * 100:.2f}%\")\n",
    "    print(f\"{name} - Acurácia no Conjunto de Teste: {test_accuracy * 100:.2f}%\")\n",
    "    print(f\"{name} - Precisão: {precision * 100:.2f}%\")\n",
    "    print(f\"{name} - Recall: {recall * 100:.2f}%\")\n",
    "    print(f\"{name} - F1-Score: {f1 * 100:.2f}%\")\n",
    "    print(f\"{name} - Matriz de Confusão:\\n{conf_matrix}\\n\")"
   ]
  }
 ],
 "metadata": {
  "kernelspec": {
   "display_name": "Python 3 (ipykernel)",
   "language": "python",
   "name": "python3"
  },
  "language_info": {
   "codemirror_mode": {
    "name": "ipython",
    "version": 3
   },
   "file_extension": ".py",
   "mimetype": "text/x-python",
   "name": "python",
   "nbconvert_exporter": "python",
   "pygments_lexer": "ipython3",
   "version": "3.11.7"
  }
 },
 "nbformat": 4,
 "nbformat_minor": 5
}
