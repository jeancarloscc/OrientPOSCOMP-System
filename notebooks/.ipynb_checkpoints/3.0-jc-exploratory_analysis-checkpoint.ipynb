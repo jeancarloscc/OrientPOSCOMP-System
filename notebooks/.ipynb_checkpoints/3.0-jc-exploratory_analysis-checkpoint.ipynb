{
 "cells": [
  {
   "cell_type": "markdown",
   "id": "4ef9b1f3-a5d0-4c71-843b-641fcef3c703",
   "metadata": {},
   "source": [
    "# Análise Exploratória de Dados"
   ]
  },
  {
   "cell_type": "markdown",
   "id": "8770238b-f393-423f-a10f-0c3deb4b3f5e",
   "metadata": {},
   "source": [
    "<p>Este notebook apresenta a análise exploratória dos dados do POSCOMP dos anos de 2016 a 2022. É analisado o desempenho dos participantes e estudantes em relação aos temas das áreas da computação</p>"
   ]
  },
  {
   "cell_type": "markdown",
   "id": "7b988f9d-f9fe-40e2-8208-c0ba863271e3",
   "metadata": {},
   "source": [
    "## Importar bibliotecas"
   ]
  },
  {
   "cell_type": "code",
   "execution_count": null,
   "id": "ee02dc6b-cf51-4e19-b24a-65c0dddd480a",
   "metadata": {},
   "outputs": [],
   "source": []
  }
 ],
 "metadata": {
  "kernelspec": {
   "display_name": "Python 3 (ipykernel)",
   "language": "python",
   "name": "python3"
  },
  "language_info": {
   "codemirror_mode": {
    "name": "ipython",
    "version": 3
   },
   "file_extension": ".py",
   "mimetype": "text/x-python",
   "name": "python",
   "nbconvert_exporter": "python",
   "pygments_lexer": "ipython3",
   "version": "3.11.7"
  }
 },
 "nbformat": 4,
 "nbformat_minor": 5
}
