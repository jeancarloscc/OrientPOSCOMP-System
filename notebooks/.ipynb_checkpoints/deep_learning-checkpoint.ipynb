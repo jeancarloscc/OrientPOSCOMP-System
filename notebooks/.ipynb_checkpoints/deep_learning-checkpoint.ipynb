{
 "cells": [
  {
   "cell_type": "code",
   "execution_count": 1,
   "id": "85cd8aed-0a46-4c3e-8f5e-ea8923a359da",
   "metadata": {},
   "outputs": [
    {
     "name": "stdout",
     "output_type": "stream",
     "text": [
      "importing Jupyter notebook from C:\\Users\\jeanc\\projetos pessoais\\project_dataScience_POSCOMP\\notebooks\\..\\services\\especialidades.ipynb\n"
     ]
    }
   ],
   "source": [
    "%run ../services/imports.py\n",
    "%run ../services/function.py\n",
    "%run ../services/classifier_evaluation.py"
   ]
  },
  {
   "cell_type": "code",
   "execution_count": 2,
   "id": "2a361b51-8c79-4f9e-baee-c75470196efa",
   "metadata": {},
   "outputs": [
    {
     "name": "stdout",
     "output_type": "stream",
     "text": [
      "WARNING:tensorflow:From C:\\Users\\jeanc\\miniconda3\\envs\\projectPoscomp\\Lib\\site-packages\\keras\\src\\losses.py:2976: The name tf.losses.sparse_softmax_cross_entropy is deprecated. Please use tf.compat.v1.losses.sparse_softmax_cross_entropy instead.\n",
      "\n"
     ]
    }
   ],
   "source": [
    "import sys\n",
    "import tensorflow"
   ]
  },
  {
   "cell_type": "code",
   "execution_count": 3,
   "id": "764c99ab-df74-48e2-943b-f0cf7af481a1",
   "metadata": {
    "tags": []
   },
   "outputs": [],
   "source": [
    "dataset = pd.read_csv('../dados/df_poscomp.csv')"
   ]
  },
  {
   "cell_type": "code",
   "execution_count": 4,
   "id": "2e5b8416-589f-4565-ab75-610cc0cd4a6d",
   "metadata": {},
   "outputs": [
    {
     "data": {
      "text/plain": [
       "(9893, 36)"
      ]
     },
     "execution_count": 4,
     "metadata": {},
     "output_type": "execute_result"
    }
   ],
   "source": [
    "dataset.shape"
   ]
  },
  {
   "cell_type": "code",
   "execution_count": 5,
   "id": "0d6cbd73-cd16-4ee1-8d8d-1902c40c99f9",
   "metadata": {
    "tags": []
   },
   "outputs": [],
   "source": [
    "X_dataset = dataset.loc[:,['IDADE','SEXO','REGIAO','ESTADO','matematica', 'fund_computacao','tec_computacao','total','linhas_pesquisas']]"
   ]
  },
  {
   "cell_type": "code",
   "execution_count": 6,
   "id": "41828132-0e29-4529-ac24-ddf4cb3ee067",
   "metadata": {},
   "outputs": [],
   "source": [
    "X_dataset['linhas_pesquisas'] = dataset.linhas_pesquisas\n",
    "X_dataset['linhas_pesquisas'] = X_dataset['linhas_pesquisas'].astype('category')"
   ]
  },
  {
   "cell_type": "code",
   "execution_count": 7,
   "id": "54d54f75-0040-4d83-85b0-5ca9566a6544",
   "metadata": {},
   "outputs": [],
   "source": [
    "# colunas_a_padronizar = ['matematica', 'fund_computacao', 'tec_computacao']\n",
    "# scaler = StandardScaler()\n",
    "# X_dataset[colunas_a_padronizar] = scaler.fit_transform(X_dataset[colunas_a_padronizar])"
   ]
  },
  {
   "cell_type": "code",
   "execution_count": 8,
   "id": "71d39dd5-35c8-47e4-8df1-f9fc0d49841a",
   "metadata": {},
   "outputs": [],
   "source": [
    "def encode_categorical_columns(df, columns):\n",
    "    le = LabelEncoder()\n",
    "    for col in columns:\n",
    "        df[col] = le.fit_transform(df[col])\n",
    "    return df\n",
    "\n",
    "categorical_columns = [\"linhas_pesquisas\",'SEXO','REGIAO','ESTADO']\n",
    "X_dataset = encode_categorical_columns(X_dataset, categorical_columns)\n"
   ]
  },
  {
   "cell_type": "code",
   "execution_count": 9,
   "id": "ae3caf8f-b535-47e2-a433-47ce8dce615b",
   "metadata": {
    "tags": []
   },
   "outputs": [],
   "source": [
    "X = X_dataset.drop(['linhas_pesquisas'], axis=1)\n",
    "y = X_dataset['linhas_pesquisas']"
   ]
  },
  {
   "cell_type": "code",
   "execution_count": 10,
   "id": "c5ebe20a-62d0-4346-bacd-5a394d396224",
   "metadata": {},
   "outputs": [
    {
     "name": "stdout",
     "output_type": "stream",
     "text": [
      "WARNING:tensorflow:From C:\\Users\\jeanc\\miniconda3\\envs\\projectPoscomp\\Lib\\site-packages\\keras\\src\\backend.py:873: The name tf.get_default_graph is deprecated. Please use tf.compat.v1.get_default_graph instead.\n",
      "\n",
      "WARNING:tensorflow:From C:\\Users\\jeanc\\miniconda3\\envs\\projectPoscomp\\Lib\\site-packages\\keras\\src\\layers\\pooling\\max_pooling2d.py:161: The name tf.nn.max_pool is deprecated. Please use tf.nn.max_pool2d instead.\n",
      "\n",
      "WARNING:tensorflow:From C:\\Users\\jeanc\\miniconda3\\envs\\projectPoscomp\\Lib\\site-packages\\keras\\src\\optimizers\\__init__.py:309: The name tf.train.Optimizer is deprecated. Please use tf.compat.v1.train.Optimizer instead.\n",
      "\n",
      "Epoch 1/10\n",
      "WARNING:tensorflow:From C:\\Users\\jeanc\\miniconda3\\envs\\projectPoscomp\\Lib\\site-packages\\keras\\src\\utils\\tf_utils.py:492: The name tf.ragged.RaggedTensorValue is deprecated. Please use tf.compat.v1.ragged.RaggedTensorValue instead.\n",
      "\n",
      "WARNING:tensorflow:From C:\\Users\\jeanc\\miniconda3\\envs\\projectPoscomp\\Lib\\site-packages\\keras\\src\\engine\\base_layer_utils.py:384: The name tf.executing_eagerly_outside_functions is deprecated. Please use tf.compat.v1.executing_eagerly_outside_functions instead.\n",
      "\n",
      "217/217 [==============================] - 2s 4ms/step - loss: -139.4349 - accuracy: 0.2029 - val_loss: -561.3047 - val_accuracy: 0.2059\n",
      "Epoch 2/10\n",
      "217/217 [==============================] - 1s 3ms/step - loss: -2202.5813 - accuracy: 0.2029 - val_loss: -4810.0039 - val_accuracy: 0.2059\n",
      "Epoch 3/10\n",
      "217/217 [==============================] - 1s 3ms/step - loss: -9808.8779 - accuracy: 0.2029 - val_loss: -16320.3477 - val_accuracy: 0.2059\n",
      "Epoch 4/10\n",
      "217/217 [==============================] - 1s 3ms/step - loss: -26190.5117 - accuracy: 0.2029 - val_loss: -37939.4062 - val_accuracy: 0.2059\n",
      "Epoch 5/10\n",
      "217/217 [==============================] - 1s 3ms/step - loss: -53906.5117 - accuracy: 0.2029 - val_loss: -72093.4062 - val_accuracy: 0.2059\n",
      "Epoch 6/10\n",
      "217/217 [==============================] - 1s 4ms/step - loss: -95034.3984 - accuracy: 0.2029 - val_loss: -120180.1406 - val_accuracy: 0.2059\n",
      "Epoch 7/10\n",
      "217/217 [==============================] - 1s 3ms/step - loss: -151267.4062 - accuracy: 0.2029 - val_loss: -184248.3281 - val_accuracy: 0.2059\n",
      "Epoch 8/10\n",
      "217/217 [==============================] - 1s 3ms/step - loss: -223908.2031 - accuracy: 0.2029 - val_loss: -265039.5312 - val_accuracy: 0.2059\n",
      "Epoch 9/10\n",
      "217/217 [==============================] - 1s 3ms/step - loss: -313427.5000 - accuracy: 0.2029 - val_loss: -363432.9688 - val_accuracy: 0.2059\n",
      "Epoch 10/10\n",
      "217/217 [==============================] - 1s 3ms/step - loss: -420952.6875 - accuracy: 0.2029 - val_loss: -479582.9688 - val_accuracy: 0.2059\n"
     ]
    },
    {
     "data": {
      "text/plain": [
       "<keras.src.callbacks.History at 0x2b8392934d0>"
      ]
     },
     "execution_count": 10,
     "metadata": {},
     "output_type": "execute_result"
    }
   ],
   "source": [
    "import tensorflow as tf\n",
    "import keras\n",
    "from tensorflow.keras import layers, models\n",
    "from sklearn.preprocessing import StandardScaler\n",
    "\n",
    "# Divisão dos dados em conjuntos de treinamento e teste\n",
    "X_train, X_test, y_train, y_test = train_test_split(X, y, test_size=0.3, random_state=42)\n",
    "\n",
    "# Normalização dos dados\n",
    "scaler = StandardScaler()\n",
    "X_train_scaled = scaler.fit_transform(X_train)\n",
    "X_test_scaled = scaler.transform(X_test)\n",
    "\n",
    "# Reshape dos dados para o formato de entrada da CNN\n",
    "X_train_reshaped = X_train_scaled.reshape((X_train_scaled.shape[0], 1, X_train_scaled.shape[1], 1))\n",
    "X_test_reshaped = X_test_scaled.reshape((X_test_scaled.shape[0], 1, X_test_scaled.shape[1], 1))\n",
    "\n",
    "# Definindo a arquitetura da CNN para dados tabulares\n",
    "model = models.Sequential()\n",
    "model.add(layers.Conv2D(32, (1, 3), activation='relu', input_shape=(1, X_train_scaled.shape[1], 1)))\n",
    "model.add(layers.MaxPooling2D((1, 2)))\n",
    "model.add(layers.Flatten())\n",
    "model.add(layers.Dense(64, activation='relu'))\n",
    "model.add(layers.Dense(1, activation='sigmoid'))\n",
    "\n",
    "# Compilando o modelo\n",
    "model.compile(optimizer='adam',\n",
    "              loss='binary_crossentropy',\n",
    "              metrics=['accuracy'])\n",
    "\n",
    "# Treinando o modelo\n",
    "model.fit(X_train_reshaped, y_train, epochs=10, batch_size=32, validation_data=(X_test_reshaped, y_test))\n"
   ]
  },
  {
   "cell_type": "code",
   "execution_count": null,
   "id": "ed91b533-c5df-4bb2-84d6-a323bc01167b",
   "metadata": {},
   "outputs": [],
   "source": []
  }
 ],
 "metadata": {
  "kernelspec": {
   "display_name": "Python 3 (ipykernel)",
   "language": "python",
   "name": "python3"
  },
  "language_info": {
   "codemirror_mode": {
    "name": "ipython",
    "version": 3
   },
   "file_extension": ".py",
   "mimetype": "text/x-python",
   "name": "python",
   "nbconvert_exporter": "python",
   "pygments_lexer": "ipython3",
   "version": "3.11.6"
  }
 },
 "nbformat": 4,
 "nbformat_minor": 5
}
