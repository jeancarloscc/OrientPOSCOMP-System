{
 "cells": [
  {
   "cell_type": "code",
   "execution_count": 36,
   "id": "85cd8aed-0a46-4c3e-8f5e-ea8923a359da",
   "metadata": {},
   "outputs": [],
   "source": [
    "%run ../services/imports.py\n",
    "%run ../services/function.py\n",
    "%run ../services/classifier_evaluation.py"
   ]
  },
  {
   "cell_type": "code",
   "execution_count": 37,
   "id": "2a361b51-8c79-4f9e-baee-c75470196efa",
   "metadata": {},
   "outputs": [],
   "source": [
    "import sys\n",
    "import tensorflow"
   ]
  },
  {
   "cell_type": "code",
   "execution_count": 38,
   "id": "764c99ab-df74-48e2-943b-f0cf7af481a1",
   "metadata": {
    "tags": []
   },
   "outputs": [],
   "source": [
    "dataset = pd.read_csv('../dados/df_poscomp.csv')"
   ]
  },
  {
   "cell_type": "code",
   "execution_count": 48,
   "id": "2e5b8416-589f-4565-ab75-610cc0cd4a6d",
   "metadata": {},
   "outputs": [
    {
     "data": {
      "text/plain": [
       "linhas_pesquisas\n",
       "inteligência artificial    3197\n",
       "sistemas de computação     2254\n",
       "engenharia de software     2016\n",
       "redes de computadores      1146\n",
       "Name: count, dtype: int64"
      ]
     },
     "execution_count": 48,
     "metadata": {},
     "output_type": "execute_result"
    }
   ],
   "source": [
    "dataset['linhas_pesquisas'].value_counts()"
   ]
  },
  {
   "cell_type": "code",
   "execution_count": 40,
   "id": "3732cb16-8e54-4395-a475-56dae2565420",
   "metadata": {},
   "outputs": [],
   "source": [
    "dataset = dataset.query(\"linhas_pesquisas != 'Outros'\")"
   ]
  },
  {
   "cell_type": "code",
   "execution_count": 41,
   "id": "0d6cbd73-cd16-4ee1-8d8d-1902c40c99f9",
   "metadata": {
    "tags": []
   },
   "outputs": [],
   "source": [
    "X_dataset = dataset.loc[:,['matematica', 'fund_computacao','tec_computacao','total','linhas_pesquisas']]"
   ]
  },
  {
   "cell_type": "code",
   "execution_count": 42,
   "id": "41828132-0e29-4529-ac24-ddf4cb3ee067",
   "metadata": {},
   "outputs": [],
   "source": [
    "X_dataset['linhas_pesquisas'] = dataset.linhas_pesquisas\n",
    "X_dataset['linhas_pesquisas'] = X_dataset['linhas_pesquisas'].astype('category')"
   ]
  },
  {
   "cell_type": "code",
   "execution_count": 43,
   "id": "54d54f75-0040-4d83-85b0-5ca9566a6544",
   "metadata": {},
   "outputs": [],
   "source": [
    "# colunas_a_padronizar = ['matematica', 'fund_computacao', 'tec_computacao']\n",
    "# scaler = StandardScaler()\n",
    "# X_dataset[colunas_a_padronizar] = scaler.fit_transform(X_dataset[colunas_a_padronizar])"
   ]
  },
  {
   "cell_type": "code",
   "execution_count": 44,
   "id": "71d39dd5-35c8-47e4-8df1-f9fc0d49841a",
   "metadata": {},
   "outputs": [],
   "source": [
    "def encode_categorical_columns(df, columns):\n",
    "    le = LabelEncoder()\n",
    "    for col in columns:\n",
    "        df[col] = le.fit_transform(df[col])\n",
    "    return df\n",
    "\n",
    "categorical_columns = [\"linhas_pesquisas\"]\n",
    "X_dataset = encode_categorical_columns(X_dataset, categorical_columns)\n"
   ]
  },
  {
   "cell_type": "code",
   "execution_count": 45,
   "id": "ae3caf8f-b535-47e2-a433-47ce8dce615b",
   "metadata": {
    "tags": []
   },
   "outputs": [],
   "source": [
    "X = X_dataset.drop(['linhas_pesquisas'], axis=1)\n",
    "y = X_dataset['linhas_pesquisas']"
   ]
  },
  {
   "cell_type": "code",
   "execution_count": 49,
   "id": "06006eb1-51c9-4ac6-bea8-5d7a34621779",
   "metadata": {},
   "outputs": [
    {
     "ename": "ModuleNotFoundError",
     "evalue": "No module named 'imblearn'",
     "output_type": "error",
     "traceback": [
      "\u001b[0;31m---------------------------------------------------------------------------\u001b[0m",
      "\u001b[0;31mModuleNotFoundError\u001b[0m                       Traceback (most recent call last)",
      "Cell \u001b[0;32mIn[49], line 1\u001b[0m\n\u001b[0;32m----> 1\u001b[0m \u001b[38;5;28;01mfrom\u001b[39;00m \u001b[38;5;21;01mimblearn\u001b[39;00m\u001b[38;5;21;01m.\u001b[39;00m\u001b[38;5;21;01mcombine\u001b[39;00m \u001b[38;5;28;01mimport\u001b[39;00m SMOTEENN\n\u001b[1;32m      2\u001b[0m \u001b[38;5;28;01mfrom\u001b[39;00m \u001b[38;5;21;01mimblearn\u001b[39;00m\u001b[38;5;21;01m.\u001b[39;00m\u001b[38;5;21;01mover_sampling\u001b[39;00m \u001b[38;5;28;01mimport\u001b[39;00m SMOTE\n\u001b[1;32m      3\u001b[0m \u001b[38;5;28;01mfrom\u001b[39;00m \u001b[38;5;21;01mimblearn\u001b[39;00m\u001b[38;5;21;01m.\u001b[39;00m\u001b[38;5;21;01munder_sampling\u001b[39;00m \u001b[38;5;28;01mimport\u001b[39;00m EditedNearestNeighbours\n",
      "\u001b[0;31mModuleNotFoundError\u001b[0m: No module named 'imblearn'"
     ]
    }
   ],
   "source": [
    "from imblearn.combine import SMOTEENN\n",
    "from imblearn.over_sampling import SMOTE\n",
    "from imblearn.under_sampling import EditedNearestNeighbours\n",
    "\n",
    "smote = SMOTE(random_state=42)\n",
    "\n",
    "smote_enn = SMOTEENN(random_state=42, smote=smote)\n",
    "X_resampled, y_resampled = smote_enn.fit_resample(X, y)"
   ]
  },
  {
   "cell_type": "code",
   "execution_count": 46,
   "id": "c5ebe20a-62d0-4346-bacd-5a394d396224",
   "metadata": {},
   "outputs": [
    {
     "name": "stdout",
     "output_type": "stream",
     "text": [
      "Epoch 1/10\n",
      "189/189 [==============================] - 5s 15ms/step - loss: -5.2988 - accuracy: 0.3689 - val_loss: -18.9136 - val_accuracy: 0.3762\n",
      "Epoch 2/10\n",
      "189/189 [==============================] - 2s 12ms/step - loss: -84.1452 - accuracy: 0.3690 - val_loss: -171.8671 - val_accuracy: 0.3762\n",
      "Epoch 3/10\n",
      "189/189 [==============================] - 3s 14ms/step - loss: -405.4344 - accuracy: 0.3690 - val_loss: -627.0770 - val_accuracy: 0.3762\n",
      "Epoch 4/10\n",
      "189/189 [==============================] - 2s 10ms/step - loss: -1134.2156 - accuracy: 0.3690 - val_loss: -1510.9144 - val_accuracy: 0.3762\n",
      "Epoch 5/10\n",
      "189/189 [==============================] - 2s 12ms/step - loss: -2366.5386 - accuracy: 0.3690 - val_loss: -2882.4407 - val_accuracy: 0.3762\n",
      "Epoch 6/10\n",
      "189/189 [==============================] - 2s 11ms/step - loss: -4217.6831 - accuracy: 0.3690 - val_loss: -4894.3652 - val_accuracy: 0.3762\n",
      "Epoch 7/10\n",
      "189/189 [==============================] - 2s 11ms/step - loss: -6809.3276 - accuracy: 0.3690 - val_loss: -7577.3916 - val_accuracy: 0.3762\n",
      "Epoch 8/10\n",
      "189/189 [==============================] - 2s 11ms/step - loss: -10181.2217 - accuracy: 0.3690 - val_loss: -11031.3604 - val_accuracy: 0.3762\n",
      "Epoch 9/10\n",
      "189/189 [==============================] - 2s 12ms/step - loss: -14409.5635 - accuracy: 0.3690 - val_loss: -15256.0928 - val_accuracy: 0.3762\n",
      "Epoch 10/10\n",
      "189/189 [==============================] - 3s 14ms/step - loss: -19526.5195 - accuracy: 0.3690 - val_loss: -20275.8008 - val_accuracy: 0.3762\n"
     ]
    },
    {
     "data": {
      "text/plain": [
       "<keras.src.callbacks.History at 0x7fa36d2caf50>"
      ]
     },
     "execution_count": 46,
     "metadata": {},
     "output_type": "execute_result"
    }
   ],
   "source": [
    "import tensorflow as tf\n",
    "import keras\n",
    "from tensorflow.keras import layers, models\n",
    "from sklearn.preprocessing import StandardScaler\n",
    "\n",
    "# Divisão dos dados em conjuntos de treinamento e teste\n",
    "X_train, X_test, y_train, y_test = train_test_split(X, y, test_size=0.3, random_state=42)\n",
    "\n",
    "# Normalização dos dados\n",
    "scaler = StandardScaler()\n",
    "X_train_scaled = scaler.fit_transform(X_train)\n",
    "X_test_scaled = scaler.transform(X_test)\n",
    "\n",
    "# Reshape dos dados para o formato de entrada da CNN\n",
    "X_train_reshaped = X_train_scaled.reshape((X_train_scaled.shape[0], 1, X_train_scaled.shape[1], 1))\n",
    "X_test_reshaped = X_test_scaled.reshape((X_test_scaled.shape[0], 1, X_test_scaled.shape[1], 1))\n",
    "\n",
    "# Definindo a arquitetura da CNN para dados tabulares\n",
    "model = models.Sequential()\n",
    "model.add(layers.Conv2D(32, (1, 3), activation='relu', input_shape=(1, X_train_scaled.shape[1], 1)))\n",
    "model.add(layers.MaxPooling2D((1, 2)))\n",
    "model.add(layers.Flatten())\n",
    "model.add(layers.Dense(64, activation='relu'))\n",
    "model.add(layers.Dense(1, activation='sigmoid'))\n",
    "\n",
    "# Compilando o modelo\n",
    "model.compile(optimizer='adam',\n",
    "              loss='binary_crossentropy',\n",
    "              metrics=['accuracy'])\n",
    "\n",
    "# Treinando o modelo\n",
    "model.fit(X_train_reshaped, y_train, epochs=10, batch_size=32, validation_data=(X_test_reshaped, y_test))\n"
   ]
  }
 ],
 "metadata": {
  "kernelspec": {
   "display_name": "Python 3 (ipykernel)",
   "language": "python",
   "name": "python3"
  },
  "language_info": {
   "codemirror_mode": {
    "name": "ipython",
    "version": 3
   },
   "file_extension": ".py",
   "mimetype": "text/x-python",
   "name": "python",
   "nbconvert_exporter": "python",
   "pygments_lexer": "ipython3",
   "version": "3.11.7"
  }
 },
 "nbformat": 4,
 "nbformat_minor": 5
}
