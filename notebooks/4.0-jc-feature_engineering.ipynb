{
 "cells": [
  {
   "cell_type": "markdown",
   "id": "fd05df4c-680c-4489-b859-cf779eb2483e",
   "metadata": {},
   "source": [
    "## Importação das bibliotecas"
   ]
  },
  {
   "cell_type": "code",
   "execution_count": 1,
   "id": "65f407b0-9f73-42cd-8c85-9fdcfa264b76",
   "metadata": {},
   "outputs": [],
   "source": [
    "%run ../services/imports.py\n",
    "%run ../services/visualization.py\n",
    "from services.function import Function"
   ]
  },
  {
   "cell_type": "code",
   "execution_count": 2,
   "id": "4f6bc635-7493-459d-b4c4-09007c19b5ec",
   "metadata": {},
   "outputs": [],
   "source": [
    "df_poscomp = pd.read_csv(\"teste.csv\")"
   ]
  },
  {
   "cell_type": "code",
   "execution_count": 3,
   "id": "21d26e6a-d249-4d7a-84d6-50b42bfbcb65",
   "metadata": {},
   "outputs": [],
   "source": [
    "# converter os type das colunas\n",
    "df_poscomp[\"ano\"] = df_poscomp[\"ano\"].astype(\"object\")\n",
    "# Primeiramente, será excluídos candidatos que realizaram o exame no Peru\n",
    "df_poscomp = df_poscomp.query(\"estado != 'ou' & presença != 'n'\")\n",
    "df_poscomp[\"idade\"] = df_poscomp.apply(Function.calculate_age, axis=1)\n",
    "df_poscomp = df_poscomp.query('idade > 0')"
   ]
  },
  {
   "cell_type": "code",
   "execution_count": 4,
   "id": "92800dad-f676-47ae-af77-f316c5146de3",
   "metadata": {},
   "outputs": [],
   "source": [
    "df_poscomp.drop(columns=['presença','cargo','especialidade','ano'], inplace=True)"
   ]
  },
  {
   "cell_type": "markdown",
   "id": "dca505c8-902e-4c9f-9ea7-b2b1958932bd",
   "metadata": {},
   "source": [
    "# identificar os atributos relacionados"
   ]
  },
  {
   "cell_type": "code",
   "execution_count": 5,
   "id": "3e9f480e-3f63-4ebc-b29e-b23070649f7b",
   "metadata": {},
   "outputs": [],
   "source": [
    "from sklearn.feature_selection import VarianceThreshold"
   ]
  },
  {
   "cell_type": "code",
   "execution_count": 6,
   "id": "7d010634-d445-4dfc-8d9a-8490f6c0ab22",
   "metadata": {},
   "outputs": [
    {
     "data": {
      "text/html": [
       "<div>\n",
       "<style scoped>\n",
       "    .dataframe tbody tr th:only-of-type {\n",
       "        vertical-align: middle;\n",
       "    }\n",
       "\n",
       "    .dataframe tbody tr th {\n",
       "        vertical-align: top;\n",
       "    }\n",
       "\n",
       "    .dataframe thead th {\n",
       "        text-align: right;\n",
       "    }\n",
       "</style>\n",
       "<table border=\"1\" class=\"dataframe\">\n",
       "  <thead>\n",
       "    <tr style=\"text-align: right;\">\n",
       "      <th></th>\n",
       "      <th>idade</th>\n",
       "      <th>sexo</th>\n",
       "      <th>estado</th>\n",
       "      <th>matematica</th>\n",
       "      <th>fund_computacao</th>\n",
       "      <th>tec_computacao</th>\n",
       "      <th>linhas_pesquisas</th>\n",
       "    </tr>\n",
       "  </thead>\n",
       "  <tbody>\n",
       "    <tr>\n",
       "      <th>0</th>\n",
       "      <td>27</td>\n",
       "      <td>masculino</td>\n",
       "      <td>ce</td>\n",
       "      <td>14.0</td>\n",
       "      <td>21.0</td>\n",
       "      <td>10.0</td>\n",
       "      <td>sistemas de informação</td>\n",
       "    </tr>\n",
       "    <tr>\n",
       "      <th>1</th>\n",
       "      <td>21</td>\n",
       "      <td>masculino</td>\n",
       "      <td>rs</td>\n",
       "      <td>16.0</td>\n",
       "      <td>22.0</td>\n",
       "      <td>12.0</td>\n",
       "      <td>engenharia de software</td>\n",
       "    </tr>\n",
       "    <tr>\n",
       "      <th>2</th>\n",
       "      <td>25</td>\n",
       "      <td>masculino</td>\n",
       "      <td>sp</td>\n",
       "      <td>4.0</td>\n",
       "      <td>16.0</td>\n",
       "      <td>8.0</td>\n",
       "      <td>engenharia de software</td>\n",
       "    </tr>\n",
       "    <tr>\n",
       "      <th>3</th>\n",
       "      <td>30</td>\n",
       "      <td>masculino</td>\n",
       "      <td>pa</td>\n",
       "      <td>4.0</td>\n",
       "      <td>13.0</td>\n",
       "      <td>7.0</td>\n",
       "      <td>sistemas de informação</td>\n",
       "    </tr>\n",
       "    <tr>\n",
       "      <th>4</th>\n",
       "      <td>19</td>\n",
       "      <td>feminino</td>\n",
       "      <td>am</td>\n",
       "      <td>6.0</td>\n",
       "      <td>15.0</td>\n",
       "      <td>11.0</td>\n",
       "      <td>inteligência artificial</td>\n",
       "    </tr>\n",
       "    <tr>\n",
       "      <th>...</th>\n",
       "      <td>...</td>\n",
       "      <td>...</td>\n",
       "      <td>...</td>\n",
       "      <td>...</td>\n",
       "      <td>...</td>\n",
       "      <td>...</td>\n",
       "      <td>...</td>\n",
       "    </tr>\n",
       "    <tr>\n",
       "      <th>14711</th>\n",
       "      <td>26</td>\n",
       "      <td>masculino</td>\n",
       "      <td>pr</td>\n",
       "      <td>12.0</td>\n",
       "      <td>18.0</td>\n",
       "      <td>10.0</td>\n",
       "      <td>engenharia de software</td>\n",
       "    </tr>\n",
       "    <tr>\n",
       "      <th>14712</th>\n",
       "      <td>24</td>\n",
       "      <td>masculino</td>\n",
       "      <td>pi</td>\n",
       "      <td>8.0</td>\n",
       "      <td>9.0</td>\n",
       "      <td>3.0</td>\n",
       "      <td>sistemas de computação</td>\n",
       "    </tr>\n",
       "    <tr>\n",
       "      <th>14716</th>\n",
       "      <td>25</td>\n",
       "      <td>masculino</td>\n",
       "      <td>mg</td>\n",
       "      <td>14.0</td>\n",
       "      <td>17.0</td>\n",
       "      <td>10.0</td>\n",
       "      <td>sistemas de computação</td>\n",
       "    </tr>\n",
       "    <tr>\n",
       "      <th>14717</th>\n",
       "      <td>26</td>\n",
       "      <td>masculino</td>\n",
       "      <td>sp</td>\n",
       "      <td>13.0</td>\n",
       "      <td>22.0</td>\n",
       "      <td>7.0</td>\n",
       "      <td>sistemas de informação</td>\n",
       "    </tr>\n",
       "    <tr>\n",
       "      <th>14718</th>\n",
       "      <td>28</td>\n",
       "      <td>masculino</td>\n",
       "      <td>rs</td>\n",
       "      <td>11.0</td>\n",
       "      <td>17.0</td>\n",
       "      <td>9.0</td>\n",
       "      <td>sistemas de informação</td>\n",
       "    </tr>\n",
       "  </tbody>\n",
       "</table>\n",
       "<p>11948 rows × 7 columns</p>\n",
       "</div>"
      ],
      "text/plain": [
       "       idade       sexo estado  matematica  fund_computacao  tec_computacao  \\\n",
       "0         27  masculino     ce        14.0             21.0            10.0   \n",
       "1         21  masculino     rs        16.0             22.0            12.0   \n",
       "2         25  masculino     sp         4.0             16.0             8.0   \n",
       "3         30  masculino     pa         4.0             13.0             7.0   \n",
       "4         19   feminino     am         6.0             15.0            11.0   \n",
       "...      ...        ...    ...         ...              ...             ...   \n",
       "14711     26  masculino     pr        12.0             18.0            10.0   \n",
       "14712     24  masculino     pi         8.0              9.0             3.0   \n",
       "14716     25  masculino     mg        14.0             17.0            10.0   \n",
       "14717     26  masculino     sp        13.0             22.0             7.0   \n",
       "14718     28  masculino     rs        11.0             17.0             9.0   \n",
       "\n",
       "              linhas_pesquisas  \n",
       "0       sistemas de informação  \n",
       "1       engenharia de software  \n",
       "2       engenharia de software  \n",
       "3       sistemas de informação  \n",
       "4      inteligência artificial  \n",
       "...                        ...  \n",
       "14711   engenharia de software  \n",
       "14712   sistemas de computação  \n",
       "14716   sistemas de computação  \n",
       "14717   sistemas de informação  \n",
       "14718   sistemas de informação  \n",
       "\n",
       "[11948 rows x 7 columns]"
      ]
     },
     "execution_count": 6,
     "metadata": {},
     "output_type": "execute_result"
    }
   ],
   "source": [
    "df_poscomp"
   ]
  },
  {
   "cell_type": "code",
   "execution_count": 7,
   "id": "236527b1-b38c-4dd0-a864-3512ffa20629",
   "metadata": {},
   "outputs": [],
   "source": [
    "X = df_poscomp.drop(columns='linhas_pesquisas')\n",
    "y = df_poscomp.loc[:, 'linhas_pesquisas']"
   ]
  },
  {
   "cell_type": "code",
   "execution_count": 8,
   "id": "a2a73e47-de5c-47f5-94a0-89031e152ad4",
   "metadata": {},
   "outputs": [
    {
     "data": {
      "text/html": [
       "<div>\n",
       "<style scoped>\n",
       "    .dataframe tbody tr th:only-of-type {\n",
       "        vertical-align: middle;\n",
       "    }\n",
       "\n",
       "    .dataframe tbody tr th {\n",
       "        vertical-align: top;\n",
       "    }\n",
       "\n",
       "    .dataframe thead th {\n",
       "        text-align: right;\n",
       "    }\n",
       "</style>\n",
       "<table border=\"1\" class=\"dataframe\">\n",
       "  <thead>\n",
       "    <tr style=\"text-align: right;\">\n",
       "      <th></th>\n",
       "      <th>idade</th>\n",
       "      <th>sexo</th>\n",
       "      <th>estado</th>\n",
       "      <th>matematica</th>\n",
       "      <th>fund_computacao</th>\n",
       "      <th>tec_computacao</th>\n",
       "    </tr>\n",
       "  </thead>\n",
       "  <tbody>\n",
       "    <tr>\n",
       "      <th>0</th>\n",
       "      <td>27</td>\n",
       "      <td>masculino</td>\n",
       "      <td>ce</td>\n",
       "      <td>14.0</td>\n",
       "      <td>21.0</td>\n",
       "      <td>10.0</td>\n",
       "    </tr>\n",
       "    <tr>\n",
       "      <th>1</th>\n",
       "      <td>21</td>\n",
       "      <td>masculino</td>\n",
       "      <td>rs</td>\n",
       "      <td>16.0</td>\n",
       "      <td>22.0</td>\n",
       "      <td>12.0</td>\n",
       "    </tr>\n",
       "    <tr>\n",
       "      <th>2</th>\n",
       "      <td>25</td>\n",
       "      <td>masculino</td>\n",
       "      <td>sp</td>\n",
       "      <td>4.0</td>\n",
       "      <td>16.0</td>\n",
       "      <td>8.0</td>\n",
       "    </tr>\n",
       "    <tr>\n",
       "      <th>3</th>\n",
       "      <td>30</td>\n",
       "      <td>masculino</td>\n",
       "      <td>pa</td>\n",
       "      <td>4.0</td>\n",
       "      <td>13.0</td>\n",
       "      <td>7.0</td>\n",
       "    </tr>\n",
       "    <tr>\n",
       "      <th>4</th>\n",
       "      <td>19</td>\n",
       "      <td>feminino</td>\n",
       "      <td>am</td>\n",
       "      <td>6.0</td>\n",
       "      <td>15.0</td>\n",
       "      <td>11.0</td>\n",
       "    </tr>\n",
       "    <tr>\n",
       "      <th>...</th>\n",
       "      <td>...</td>\n",
       "      <td>...</td>\n",
       "      <td>...</td>\n",
       "      <td>...</td>\n",
       "      <td>...</td>\n",
       "      <td>...</td>\n",
       "    </tr>\n",
       "    <tr>\n",
       "      <th>14711</th>\n",
       "      <td>26</td>\n",
       "      <td>masculino</td>\n",
       "      <td>pr</td>\n",
       "      <td>12.0</td>\n",
       "      <td>18.0</td>\n",
       "      <td>10.0</td>\n",
       "    </tr>\n",
       "    <tr>\n",
       "      <th>14712</th>\n",
       "      <td>24</td>\n",
       "      <td>masculino</td>\n",
       "      <td>pi</td>\n",
       "      <td>8.0</td>\n",
       "      <td>9.0</td>\n",
       "      <td>3.0</td>\n",
       "    </tr>\n",
       "    <tr>\n",
       "      <th>14716</th>\n",
       "      <td>25</td>\n",
       "      <td>masculino</td>\n",
       "      <td>mg</td>\n",
       "      <td>14.0</td>\n",
       "      <td>17.0</td>\n",
       "      <td>10.0</td>\n",
       "    </tr>\n",
       "    <tr>\n",
       "      <th>14717</th>\n",
       "      <td>26</td>\n",
       "      <td>masculino</td>\n",
       "      <td>sp</td>\n",
       "      <td>13.0</td>\n",
       "      <td>22.0</td>\n",
       "      <td>7.0</td>\n",
       "    </tr>\n",
       "    <tr>\n",
       "      <th>14718</th>\n",
       "      <td>28</td>\n",
       "      <td>masculino</td>\n",
       "      <td>rs</td>\n",
       "      <td>11.0</td>\n",
       "      <td>17.0</td>\n",
       "      <td>9.0</td>\n",
       "    </tr>\n",
       "  </tbody>\n",
       "</table>\n",
       "<p>11948 rows × 6 columns</p>\n",
       "</div>"
      ],
      "text/plain": [
       "       idade       sexo estado  matematica  fund_computacao  tec_computacao\n",
       "0         27  masculino     ce        14.0             21.0            10.0\n",
       "1         21  masculino     rs        16.0             22.0            12.0\n",
       "2         25  masculino     sp         4.0             16.0             8.0\n",
       "3         30  masculino     pa         4.0             13.0             7.0\n",
       "4         19   feminino     am         6.0             15.0            11.0\n",
       "...      ...        ...    ...         ...              ...             ...\n",
       "14711     26  masculino     pr        12.0             18.0            10.0\n",
       "14712     24  masculino     pi         8.0              9.0             3.0\n",
       "14716     25  masculino     mg        14.0             17.0            10.0\n",
       "14717     26  masculino     sp        13.0             22.0             7.0\n",
       "14718     28  masculino     rs        11.0             17.0             9.0\n",
       "\n",
       "[11948 rows x 6 columns]"
      ]
     },
     "execution_count": 8,
     "metadata": {},
     "output_type": "execute_result"
    }
   ],
   "source": [
    "X"
   ]
  },
  {
   "cell_type": "code",
   "execution_count": 9,
   "id": "21ad1414-e11d-49fe-95be-54a6bdaef9b7",
   "metadata": {},
   "outputs": [],
   "source": [
    "# Inicializando o LabelEncoder\n",
    "label_encoder = LabelEncoder()\n",
    "\n",
    "# Lista das colunas categóricas\n",
    "categorical_columns = ['estado', 'sexo']\n",
    "\n",
    "# Aplicando LabelEncoder para cada coluna categórica\n",
    "for column in categorical_columns:\n",
    "    X[column] = label_encoder.fit_transform(X[column])"
   ]
  },
  {
   "cell_type": "code",
   "execution_count": 10,
   "id": "4d6a158a-14be-4f39-a7bc-fd7a2d1a5be6",
   "metadata": {},
   "outputs": [],
   "source": [
    "selection = VarianceThreshold(threshold=0.0)\n",
    "X_new = selection.fit_transform(X)"
   ]
  },
  {
   "cell_type": "code",
   "execution_count": 11,
   "id": "fc9e6502-d775-4f0a-bef3-e62c9eb77bf1",
   "metadata": {},
   "outputs": [
    {
     "data": {
      "text/plain": [
       "array([35.06899177,  0.14394478, 26.        , 11.01646452, 14.65384079,\n",
       "        6.92033613])"
      ]
     },
     "execution_count": 11,
     "metadata": {},
     "output_type": "execute_result"
    }
   ],
   "source": [
    "selection.variances_"
   ]
  },
  {
   "cell_type": "code",
   "execution_count": 12,
   "id": "17414d8f-9010-475b-b89d-c00118c5db79",
   "metadata": {},
   "outputs": [
    {
     "name": "stdout",
     "output_type": "stream",
     "text": [
      "35.068991765062954\n",
      "0.14394478377399036\n",
      "26.0\n",
      "11.0164645222479\n",
      "14.653840786920759\n",
      "6.920336131270322\n"
     ]
    }
   ],
   "source": [
    "for i in range(len(selection.variances_)):\n",
    "    print(selection.variances_[i])"
   ]
  },
  {
   "cell_type": "code",
   "execution_count": 13,
   "id": "7f9fdb2d-720e-4fe7-b598-0cf7e6304ba3",
   "metadata": {},
   "outputs": [
    {
     "data": {
      "text/plain": [
       "(array([0, 1, 2, 3, 4, 5]),)"
      ]
     },
     "execution_count": 13,
     "metadata": {},
     "output_type": "execute_result"
    }
   ],
   "source": [
    "indexes = np.where(selection.variances_ > 0)\n",
    "indexes"
   ]
  },
  {
   "cell_type": "code",
   "execution_count": 14,
   "id": "da30ffa3-03b5-4934-96df-6df02ce2d081",
   "metadata": {},
   "outputs": [
    {
     "data": {
      "text/plain": [
       "array([[27.,  1.,  5., 14., 21., 10.],\n",
       "       [21.,  1., 22., 16., 22., 12.],\n",
       "       [25.,  1., 25.,  4., 16.,  8.],\n",
       "       ...,\n",
       "       [25.,  1., 10., 14., 17., 10.],\n",
       "       [26.,  1., 25., 13., 22.,  7.],\n",
       "       [28.,  1., 22., 11., 17.,  9.]])"
      ]
     },
     "execution_count": 14,
     "metadata": {},
     "output_type": "execute_result"
    }
   ],
   "source": [
    "X_new"
   ]
  },
  {
   "cell_type": "code",
   "execution_count": 20,
   "id": "460eb4a5-2d99-4433-a396-1a3a33267af3",
   "metadata": {},
   "outputs": [],
   "source": [
    "X_train, X_test, y_train, y_test = train_test_split(X_new, y, test_size=0.35, random_state=0)"
   ]
  },
  {
   "cell_type": "code",
   "execution_count": 21,
   "id": "63b85345-806e-492e-be5c-3eabc0bd1ff9",
   "metadata": {},
   "outputs": [
    {
     "data": {
      "text/plain": [
       "0.3323768531802965"
      ]
     },
     "execution_count": 21,
     "metadata": {},
     "output_type": "execute_result"
    }
   ],
   "source": [
    "model = RandomForestClassifier(criterion='entropy', n_estimators=500)\n",
    "model.fit(X_train, y_train)\n",
    "prediction = model.predict(X_test)\n",
    "accuracy_score(y_test, prediction)"
   ]
  },
  {
   "cell_type": "code",
   "execution_count": null,
   "id": "00b36a1a-bc7e-4720-a59b-9fd2220176da",
   "metadata": {},
   "outputs": [],
   "source": []
  }
 ],
 "metadata": {
  "kernelspec": {
   "display_name": "Python 3 (ipykernel)",
   "language": "python",
   "name": "python3"
  },
  "language_info": {
   "codemirror_mode": {
    "name": "ipython",
    "version": 3
   },
   "file_extension": ".py",
   "mimetype": "text/x-python",
   "name": "python",
   "nbconvert_exporter": "python",
   "pygments_lexer": "ipython3",
   "version": "3.11.7"
  }
 },
 "nbformat": 4,
 "nbformat_minor": 5
}
