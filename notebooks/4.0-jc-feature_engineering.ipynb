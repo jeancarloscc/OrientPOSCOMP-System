{
 "cells": [
  {
   "cell_type": "markdown",
   "id": "fd05df4c-680c-4489-b859-cf779eb2483e",
   "metadata": {},
   "source": [
    "## Importação das bibliotecas"
   ]
  },
  {
   "cell_type": "code",
   "execution_count": 1,
   "id": "65f407b0-9f73-42cd-8c85-9fdcfa264b76",
   "metadata": {},
   "outputs": [],
   "source": [
    "%run ../services/imports.py\n",
    "%run ../services/visualization.py\n",
    "from services.function import Function"
   ]
  },
  {
   "cell_type": "code",
   "execution_count": 2,
   "id": "4f6bc635-7493-459d-b4c4-09007c19b5ec",
   "metadata": {},
   "outputs": [],
   "source": [
    "df_poscomp = pd.read_csv(\"../dados/processed/df_poscomp2016-2022.csv\")"
   ]
  },
  {
   "cell_type": "code",
   "execution_count": 3,
   "id": "21d26e6a-d249-4d7a-84d6-50b42bfbcb65",
   "metadata": {},
   "outputs": [],
   "source": [
    "# converter os type das colunas\n",
    "df_poscomp[\"ano\"] = df_poscomp[\"ano\"].astype(\"object\")\n",
    "# Primeiramente, será excluídos candidatos que realizaram o exame no Peru\n",
    "df_poscomp = df_poscomp.query(\"estado != 'ou' & presença != 'n'\")\n",
    "df_poscomp[\"idade\"] = df_poscomp.apply(Function.calculate_age, axis=1)\n",
    "df_poscomp = df_poscomp.query('idade > 0')"
   ]
  },
  {
   "cell_type": "code",
   "execution_count": 4,
   "id": "78f81146-100a-4150-9b79-53695ab34190",
   "metadata": {},
   "outputs": [],
   "source": [
    "df_poscomp.dropna(inplace=True)"
   ]
  },
  {
   "cell_type": "code",
   "execution_count": 5,
   "id": "92800dad-f676-47ae-af77-f316c5146de3",
   "metadata": {},
   "outputs": [],
   "source": [
    "# df_poscomp.drop(columns=['presença','cargo'], inplace=True)"
   ]
  },
  {
   "cell_type": "markdown",
   "id": "dca505c8-902e-4c9f-9ea7-b2b1958932bd",
   "metadata": {},
   "source": [
    "# identificar os atributos relacionados"
   ]
  },
  {
   "cell_type": "code",
   "execution_count": 6,
   "id": "7d010634-d445-4dfc-8d9a-8490f6c0ab22",
   "metadata": {},
   "outputs": [
    {
     "data": {
      "text/plain": [
       "idade                                             0\n",
       "sexo                                              0\n",
       "estado                                            0\n",
       "presença                                          0\n",
       "cargo                                             0\n",
       "especialidade                                     0\n",
       "algoritmos_e_estruturas_de_dados                  0\n",
       "analise_combinatoria                              0\n",
       "analise_de_algoritmos                             0\n",
       "arquitetura_e_organizacao_de_computadores         0\n",
       "banco_de_dados                                    0\n",
       "calculo_diferencial_e_integral                    0\n",
       "circuitos_digitais                                0\n",
       "compiladores                                      0\n",
       "computacao_grafica                                0\n",
       "engenharia_de_software                            0\n",
       "geometria_analitica                               0\n",
       "inteligencia_artificial                           0\n",
       "linguagens_de_programacao                         0\n",
       "linguagens_formais_automatos_e_computabilidade    0\n",
       "logica_matematica                                 0\n",
       "matematica_discreta                               0\n",
       "organizacao_de_arquivos_e_dados                   0\n",
       "probabilidade_e_estatistica                       0\n",
       "processamento_de_imagens                          0\n",
       "redes_de_computadores                             0\n",
       "sistemas_distribuidos                             0\n",
       "sistemas_operacionais                             0\n",
       "teoria_dos_grafos                                 0\n",
       "tecnicas_de_programacao                           0\n",
       "algebra_linear                                    0\n",
       "ano                                               0\n",
       "matematica                                        0\n",
       "fund_computacao                                   0\n",
       "tec_computacao                                    0\n",
       "dtype: int64"
      ]
     },
     "execution_count": 6,
     "metadata": {},
     "output_type": "execute_result"
    }
   ],
   "source": [
    "df_poscomp.isnull().sum()"
   ]
  },
  {
   "cell_type": "code",
   "execution_count": 7,
   "id": "14b2dd4a-4a22-4493-b0dd-51127a78d6ca",
   "metadata": {},
   "outputs": [],
   "source": [
    "def encode_categorical_columns(df, columns):\n",
    "    le = LabelEncoder()\n",
    "    for col in columns:\n",
    "        df[col] = le.fit_transform(df[col])\n",
    "    return df\n",
    "\n",
    "categorical_columns = ['sexo','estado','especialidade']\n",
    "X_dataset = encode_categorical_columns(df_poscomp, categorical_columns)"
   ]
  }
 ],
 "metadata": {
  "kernelspec": {
   "display_name": "Python 3 (ipykernel)",
   "language": "python",
   "name": "python3"
  },
  "language_info": {
   "codemirror_mode": {
    "name": "ipython",
    "version": 3
   },
   "file_extension": ".py",
   "mimetype": "text/x-python",
   "name": "python",
   "nbconvert_exporter": "python",
   "pygments_lexer": "ipython3",
   "version": "3.11.7"
  }
 },
 "nbformat": 4,
 "nbformat_minor": 5
}
