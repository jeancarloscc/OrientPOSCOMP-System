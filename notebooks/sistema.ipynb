{
 "cells": [
  {
   "cell_type": "markdown",
   "id": "841dc7bf-c620-4a9e-95da-ff48d0909a54",
   "metadata": {},
   "source": [
    "# Sistema de Orientação Vocacional"
   ]
  },
  {
   "cell_type": "markdown",
   "id": "f609f78e-aa82-46a0-a59e-e031413d949d",
   "metadata": {},
   "source": [
    "#### Importação das bibliotecas"
   ]
  },
  {
   "cell_type": "code",
   "execution_count": 1,
   "id": "2aefb883-caa4-4060-9906-551cd5a3ced2",
   "metadata": {},
   "outputs": [
    {
     "name": "stdout",
     "output_type": "stream",
     "text": [
      "importing Jupyter notebook from /home/jean/project/project_dataScience_POSCOMP/notebooks/../services/especialidades.ipynb\n",
      "importing Jupyter notebook from /home/jean/project/project_dataScience_POSCOMP/notebooks/../services/lista_estados_regioes.ipynb\n"
     ]
    }
   ],
   "source": [
    "%run ../services/imports.py\n",
    "%run ../services/visualization.py\n",
    "%run ../services/metrics_clf.py\n",
    "import services.lista_estados_regioes as lesr\n",
    "\n",
    "\n",
    "%run ../services/function.py\n",
    "%run ../services/classifier_evaluation.py"
   ]
  },
  {
   "cell_type": "code",
   "execution_count": 2,
   "id": "c11995b7-4e28-48fd-93a6-a59ceaa537c2",
   "metadata": {},
   "outputs": [],
   "source": [
    "# Criar instância da classe\n",
    "visualizacao = Visualizacao()"
   ]
  },
  {
   "cell_type": "markdown",
   "id": "d8c48dfa-1fb5-4007-ba94-fcfd452ef03f",
   "metadata": {},
   "source": [
    "## Aplicação dos algoritmos de aprendizado de máquina"
   ]
  },
  {
   "cell_type": "markdown",
   "id": "e37a18d6-ab09-4450-9a1c-98ea1a142dd5",
   "metadata": {},
   "source": [
    "0 - Computação\n",
    "1 - Informação"
   ]
  },
  {
   "cell_type": "markdown",
   "id": "e5c802cf-61bc-41e3-9e6a-4b383d7e8925",
   "metadata": {},
   "source": [
    "Computação\n",
    "0 - Inteligência Artificial\n",
    "1 - Sistemas de Computação\n",
    "\n",
    "Informação\n",
    "0 - Engenharia de Software\n",
    "1 - Redes de Computadores"
   ]
  },
  {
   "cell_type": "markdown",
   "id": "fc9e213f-ee61-4c17-bdde-bd75dd235f05",
   "metadata": {},
   "source": [
    "# Código organizado"
   ]
  },
  {
   "cell_type": "code",
   "execution_count": 3,
   "id": "1e7c90d7-d8ed-42a4-a2d0-8815b865b87a",
   "metadata": {},
   "outputs": [],
   "source": [
    "# Carregar base de dados\n",
    "dataset_poscomp = pd.read_csv(\"../dados/df_poscomp.csv\")\n",
    "dataset_poscomp = dataset_poscomp.query('linhas_pesquisas != \"Outros\"')\n",
    "dataset_poscomp.columns = dataset_poscomp.columns.str.lower()"
   ]
  },
  {
   "cell_type": "code",
   "execution_count": 4,
   "id": "89e1b604-b3c3-43bd-b99f-7fe9d238f92a",
   "metadata": {},
   "outputs": [
    {
     "data": {
      "text/html": [
       "<div>\n",
       "<style scoped>\n",
       "    .dataframe tbody tr th:only-of-type {\n",
       "        vertical-align: middle;\n",
       "    }\n",
       "\n",
       "    .dataframe tbody tr th {\n",
       "        vertical-align: top;\n",
       "    }\n",
       "\n",
       "    .dataframe thead th {\n",
       "        text-align: right;\n",
       "    }\n",
       "</style>\n",
       "<table border=\"1\" class=\"dataframe\">\n",
       "  <thead>\n",
       "    <tr style=\"text-align: right;\">\n",
       "      <th></th>\n",
       "      <th>sexo</th>\n",
       "      <th>estado</th>\n",
       "      <th>especialidade</th>\n",
       "      <th>matemática discreta</th>\n",
       "      <th>cálculo diferencial e integral</th>\n",
       "      <th>álgebra linear</th>\n",
       "      <th>geometria analítica</th>\n",
       "      <th>análise combinatória</th>\n",
       "      <th>probabilidade e estatística</th>\n",
       "      <th>lógica matemática</th>\n",
       "      <th>...</th>\n",
       "      <th>processamento de imagens</th>\n",
       "      <th>banco de dados</th>\n",
       "      <th>idade</th>\n",
       "      <th>matematica</th>\n",
       "      <th>fund_computacao</th>\n",
       "      <th>tec_computacao</th>\n",
       "      <th>total</th>\n",
       "      <th>linhas_pesquisas</th>\n",
       "      <th>area_concentration</th>\n",
       "      <th>regiao</th>\n",
       "    </tr>\n",
       "  </thead>\n",
       "  <tbody>\n",
       "    <tr>\n",
       "      <th>0</th>\n",
       "      <td>M</td>\n",
       "      <td>RS</td>\n",
       "      <td>metodologias e técnicas de computação</td>\n",
       "      <td>3</td>\n",
       "      <td>2</td>\n",
       "      <td>3</td>\n",
       "      <td>2</td>\n",
       "      <td>2</td>\n",
       "      <td>2</td>\n",
       "      <td>2</td>\n",
       "      <td>...</td>\n",
       "      <td>2</td>\n",
       "      <td>1</td>\n",
       "      <td>21</td>\n",
       "      <td>16</td>\n",
       "      <td>22</td>\n",
       "      <td>12</td>\n",
       "      <td>50</td>\n",
       "      <td>engenharia de software</td>\n",
       "      <td>informatica</td>\n",
       "      <td>sul</td>\n",
       "    </tr>\n",
       "    <tr>\n",
       "      <th>1</th>\n",
       "      <td>M</td>\n",
       "      <td>SP</td>\n",
       "      <td>engenharia de software</td>\n",
       "      <td>0</td>\n",
       "      <td>1</td>\n",
       "      <td>1</td>\n",
       "      <td>1</td>\n",
       "      <td>0</td>\n",
       "      <td>0</td>\n",
       "      <td>1</td>\n",
       "      <td>...</td>\n",
       "      <td>2</td>\n",
       "      <td>1</td>\n",
       "      <td>25</td>\n",
       "      <td>4</td>\n",
       "      <td>16</td>\n",
       "      <td>8</td>\n",
       "      <td>28</td>\n",
       "      <td>engenharia de software</td>\n",
       "      <td>informatica</td>\n",
       "      <td>sudeste</td>\n",
       "    </tr>\n",
       "    <tr>\n",
       "      <th>2</th>\n",
       "      <td>M</td>\n",
       "      <td>PA</td>\n",
       "      <td>sistemas de informação</td>\n",
       "      <td>1</td>\n",
       "      <td>0</td>\n",
       "      <td>1</td>\n",
       "      <td>1</td>\n",
       "      <td>0</td>\n",
       "      <td>0</td>\n",
       "      <td>1</td>\n",
       "      <td>...</td>\n",
       "      <td>1</td>\n",
       "      <td>0</td>\n",
       "      <td>30</td>\n",
       "      <td>4</td>\n",
       "      <td>13</td>\n",
       "      <td>7</td>\n",
       "      <td>24</td>\n",
       "      <td>sistemas de computação</td>\n",
       "      <td>computacao</td>\n",
       "      <td>norte</td>\n",
       "    </tr>\n",
       "    <tr>\n",
       "      <th>4</th>\n",
       "      <td>M</td>\n",
       "      <td>MS</td>\n",
       "      <td>sistemas de computação</td>\n",
       "      <td>1</td>\n",
       "      <td>2</td>\n",
       "      <td>3</td>\n",
       "      <td>1</td>\n",
       "      <td>1</td>\n",
       "      <td>2</td>\n",
       "      <td>2</td>\n",
       "      <td>...</td>\n",
       "      <td>1</td>\n",
       "      <td>0</td>\n",
       "      <td>21</td>\n",
       "      <td>12</td>\n",
       "      <td>20</td>\n",
       "      <td>11</td>\n",
       "      <td>43</td>\n",
       "      <td>sistemas de computação</td>\n",
       "      <td>computacao</td>\n",
       "      <td>centro_oeste</td>\n",
       "    </tr>\n",
       "    <tr>\n",
       "      <th>5</th>\n",
       "      <td>M</td>\n",
       "      <td>PB</td>\n",
       "      <td>metodologias e técnicas de computação</td>\n",
       "      <td>1</td>\n",
       "      <td>1</td>\n",
       "      <td>1</td>\n",
       "      <td>1</td>\n",
       "      <td>1</td>\n",
       "      <td>2</td>\n",
       "      <td>2</td>\n",
       "      <td>...</td>\n",
       "      <td>1</td>\n",
       "      <td>1</td>\n",
       "      <td>25</td>\n",
       "      <td>9</td>\n",
       "      <td>17</td>\n",
       "      <td>11</td>\n",
       "      <td>37</td>\n",
       "      <td>engenharia de software</td>\n",
       "      <td>informatica</td>\n",
       "      <td>nordeste</td>\n",
       "    </tr>\n",
       "  </tbody>\n",
       "</table>\n",
       "<p>5 rows × 36 columns</p>\n",
       "</div>"
      ],
      "text/plain": [
       "  sexo estado                          especialidade  matemática discreta  \\\n",
       "0    M     RS  metodologias e técnicas de computação                    3   \n",
       "1    M     SP                 engenharia de software                    0   \n",
       "2    M     PA                 sistemas de informação                    1   \n",
       "4    M     MS                 sistemas de computação                    1   \n",
       "5    M     PB  metodologias e técnicas de computação                    1   \n",
       "\n",
       "   cálculo diferencial e integral  álgebra linear  geometria analítica  \\\n",
       "0                               2               3                    2   \n",
       "1                               1               1                    1   \n",
       "2                               0               1                    1   \n",
       "4                               2               3                    1   \n",
       "5                               1               1                    1   \n",
       "\n",
       "   análise combinatória  probabilidade e estatística  lógica matemática  ...  \\\n",
       "0                     2                            2                  2  ...   \n",
       "1                     0                            0                  1  ...   \n",
       "2                     0                            0                  1  ...   \n",
       "4                     1                            2                  2  ...   \n",
       "5                     1                            2                  2  ...   \n",
       "\n",
       "   processamento de imagens  banco de dados  idade  matematica  \\\n",
       "0                         2               1     21          16   \n",
       "1                         2               1     25           4   \n",
       "2                         1               0     30           4   \n",
       "4                         1               0     21          12   \n",
       "5                         1               1     25           9   \n",
       "\n",
       "   fund_computacao  tec_computacao  total        linhas_pesquisas  \\\n",
       "0               22              12     50  engenharia de software   \n",
       "1               16               8     28  engenharia de software   \n",
       "2               13               7     24  sistemas de computação   \n",
       "4               20              11     43  sistemas de computação   \n",
       "5               17              11     37  engenharia de software   \n",
       "\n",
       "   area_concentration        regiao  \n",
       "0         informatica           sul  \n",
       "1         informatica       sudeste  \n",
       "2          computacao         norte  \n",
       "4          computacao  centro_oeste  \n",
       "5         informatica      nordeste  \n",
       "\n",
       "[5 rows x 36 columns]"
      ]
     },
     "execution_count": 4,
     "metadata": {},
     "output_type": "execute_result"
    }
   ],
   "source": [
    "dataset_poscomp.head()"
   ]
  },
  {
   "cell_type": "code",
   "execution_count": 5,
   "id": "73b4db6b-8dae-428b-825e-c5491170995d",
   "metadata": {},
   "outputs": [],
   "source": [
    "# Codificar variáveis categóricas\n",
    "def encode_categorical_columns(df, columns):\n",
    "    le = LabelEncoder()\n",
    "    for col in columns:\n",
    "        df[col] = le.fit_transform(df[col])\n",
    "    return df\n",
    "\n",
    "categorical_columns = [\"sexo\", \"regiao\", \"estado\"]\n",
    "dataset_poscomp = encode_categorical_columns(dataset_poscomp, categorical_columns)"
   ]
  },
  {
   "cell_type": "code",
   "execution_count": 6,
   "id": "8d3b08e7-b403-4cda-a355-a4f3593bd001",
   "metadata": {},
   "outputs": [
    {
     "name": "stdout",
     "output_type": "stream",
     "text": [
      "<class 'pandas.core.frame.DataFrame'>\n",
      "Index: 8613 entries, 0 to 9892\n",
      "Data columns (total 36 columns):\n",
      " #   Column                                           Non-Null Count  Dtype \n",
      "---  ------                                           --------------  ----- \n",
      " 0   sexo                                             8613 non-null   int64 \n",
      " 1   estado                                           8613 non-null   int64 \n",
      " 2   especialidade                                    8613 non-null   object\n",
      " 3   matemática discreta                              8613 non-null   int64 \n",
      " 4   cálculo diferencial e integral                   8613 non-null   int64 \n",
      " 5   álgebra linear                                   8613 non-null   int64 \n",
      " 6   geometria analítica                              8613 non-null   int64 \n",
      " 7   análise combinatória                             8613 non-null   int64 \n",
      " 8   probabilidade e estatística                      8613 non-null   int64 \n",
      " 9   lógica matemática                                8613 non-null   int64 \n",
      " 10  organização de arquivos e dados                  8613 non-null   int64 \n",
      " 11  técnicas de programação                          8613 non-null   int64 \n",
      " 12  circuitos digitais                               8613 non-null   int64 \n",
      " 13  análise de algoritmos                            8613 non-null   int64 \n",
      " 14  teoria dos grafos                                8613 non-null   int64 \n",
      " 15  linguagens formais, autômatos e computabilidade  8613 non-null   int64 \n",
      " 16  algoritmos e estruturas de dados                 8613 non-null   int64 \n",
      " 17  linguagens de programação                        8613 non-null   int64 \n",
      " 18  sistemas operacionais                            8613 non-null   int64 \n",
      " 19  arquitetura e organização de computadores        8613 non-null   int64 \n",
      " 20  redes de computadores                            8613 non-null   int64 \n",
      " 21  computação gráfica                               8613 non-null   int64 \n",
      " 22  inteligência artificial                          8613 non-null   int64 \n",
      " 23  engenharia de software                           8613 non-null   int64 \n",
      " 24  sistemas distribuídos                            8613 non-null   int64 \n",
      " 25  compiladores                                     8613 non-null   int64 \n",
      " 26  processamento de imagens                         8613 non-null   int64 \n",
      " 27  banco de dados                                   8613 non-null   int64 \n",
      " 28  idade                                            8613 non-null   int64 \n",
      " 29  matematica                                       8613 non-null   int64 \n",
      " 30  fund_computacao                                  8613 non-null   int64 \n",
      " 31  tec_computacao                                   8613 non-null   int64 \n",
      " 32  total                                            8613 non-null   int64 \n",
      " 33  linhas_pesquisas                                 8613 non-null   object\n",
      " 34  area_concentration                               8613 non-null   object\n",
      " 35  regiao                                           8613 non-null   int64 \n",
      "dtypes: int64(33), object(3)\n",
      "memory usage: 2.4+ MB\n"
     ]
    }
   ],
   "source": [
    "dataset_poscomp.info()"
   ]
  },
  {
   "cell_type": "code",
   "execution_count": 7,
   "id": "d878faba-d7a5-4dd6-871c-e6586bcd0889",
   "metadata": {},
   "outputs": [],
   "source": [
    "# Filtrar colunas relevantes\n",
    "df_poscomp = dataset_poscomp[['idade','sexo','regiao','estado', 'matematica', 'fund_computacao', 'tec_computacao', 'total']]"
   ]
  },
  {
   "cell_type": "code",
   "execution_count": 8,
   "id": "19602230-45d2-4e37-b305-261b3e0bb3c8",
   "metadata": {},
   "outputs": [],
   "source": [
    "# Carregar classificadores\n",
    "random_forest_model1 = pickle.load(open('../dados/classificadores/randomForest_finalizado_model1.sav',\"rb\"))\n",
    "random_forest_model2 = pickle.load(open('../dados/classificadores/randomForest_finalizado_model2.sav',\"rb\"))\n",
    "random_forest_model3 = pickle.load(open('../dados/classificadores/randomForest_finalizado_model3.sav',\"rb\"))"
   ]
  },
  {
   "cell_type": "code",
   "execution_count": 9,
   "id": "3dd46c8b-052e-43ed-a564-90066168ad7b",
   "metadata": {},
   "outputs": [],
   "source": [
    "# Prever área com modelo 1\n",
    "df_poscomp['area_prevista'] = random_forest_model1.predict(df_poscomp.values)\n",
    "df_poscomp['area_prevista'] = df_poscomp['area_prevista'].map({0: 'computacao', 1: 'informatica'})\n"
   ]
  },
  {
   "cell_type": "code",
   "execution_count": 10,
   "id": "260bc49e-9af1-43cd-8711-499538bcafe4",
   "metadata": {},
   "outputs": [
    {
     "data": {
      "text/plain": [
       "area_prevista\n",
       "computacao     6530\n",
       "informatica    2083\n",
       "Name: count, dtype: int64"
      ]
     },
     "execution_count": 10,
     "metadata": {},
     "output_type": "execute_result"
    }
   ],
   "source": [
    "df_poscomp['area_prevista'].value_counts()"
   ]
  },
  {
   "cell_type": "code",
   "execution_count": 11,
   "id": "5377ede0-b4fa-48a4-b381-8d88721d180b",
   "metadata": {},
   "outputs": [],
   "source": [
    "# Dividir dados para modelos 2 e 3\n",
    "model2_poscomp = df_poscomp[df_poscomp['area_prevista'] == 'computacao']\n",
    "model3_poscomp = df_poscomp[df_poscomp['area_prevista'] == 'informatica']"
   ]
  },
  {
   "cell_type": "code",
   "execution_count": 12,
   "id": "f68db608-b42c-460c-af26-4dd2db48b464",
   "metadata": {},
   "outputs": [],
   "source": [
    "# Prever subáreas com modelos 2 e 3\n",
    "model2_poscomp['model_prevista'] = random_forest_model2.predict(model2_poscomp.drop(['area_prevista'], axis=1).values)\n",
    "model2_poscomp['model_prevista'] = model2_poscomp['model_prevista'].map({0: 'inteligência artificial', 1: 'sistemas de computação'})"
   ]
  },
  {
   "cell_type": "code",
   "execution_count": 13,
   "id": "fee60442-a71a-46c2-a85b-883f57ae0353",
   "metadata": {},
   "outputs": [],
   "source": [
    "model3_poscomp['model_prevista'] = random_forest_model3.predict(model3_poscomp.drop(['area_prevista'], axis=1).values)\n",
    "model3_poscomp['model_prevista'] = model3_poscomp['model_prevista'].map({0: 'engenharia de software', 1: 'redes de computadores'})"
   ]
  },
  {
   "cell_type": "markdown",
   "id": "1a6e76f8-a701-4e64-ac99-d13f261d829a",
   "metadata": {},
   "source": [
    "#### Junta as bases"
   ]
  },
  {
   "cell_type": "code",
   "execution_count": 14,
   "id": "f5907045-389e-442b-8c86-114c1e0be386",
   "metadata": {},
   "outputs": [],
   "source": [
    "df = pd.concat([model2_poscomp, model3_poscomp])"
   ]
  },
  {
   "cell_type": "code",
   "execution_count": 15,
   "id": "0d7affc5-da01-4fff-bfe6-d6a54dae498b",
   "metadata": {},
   "outputs": [],
   "source": [
    "df = df.sort_index()"
   ]
  },
  {
   "cell_type": "code",
   "execution_count": 16,
   "id": "d8f3a764-f416-4d64-8ce8-f842baa8a63c",
   "metadata": {},
   "outputs": [
    {
     "data": {
      "text/html": [
       "<div>\n",
       "<style scoped>\n",
       "    .dataframe tbody tr th:only-of-type {\n",
       "        vertical-align: middle;\n",
       "    }\n",
       "\n",
       "    .dataframe tbody tr th {\n",
       "        vertical-align: top;\n",
       "    }\n",
       "\n",
       "    .dataframe thead th {\n",
       "        text-align: right;\n",
       "    }\n",
       "</style>\n",
       "<table border=\"1\" class=\"dataframe\">\n",
       "  <thead>\n",
       "    <tr style=\"text-align: right;\">\n",
       "      <th></th>\n",
       "      <th>idade</th>\n",
       "      <th>sexo</th>\n",
       "      <th>regiao</th>\n",
       "      <th>estado</th>\n",
       "      <th>matematica</th>\n",
       "      <th>fund_computacao</th>\n",
       "      <th>tec_computacao</th>\n",
       "      <th>total</th>\n",
       "      <th>area_prevista</th>\n",
       "      <th>model_prevista</th>\n",
       "    </tr>\n",
       "  </thead>\n",
       "  <tbody>\n",
       "    <tr>\n",
       "      <th>0</th>\n",
       "      <td>21</td>\n",
       "      <td>1</td>\n",
       "      <td>4</td>\n",
       "      <td>22</td>\n",
       "      <td>16</td>\n",
       "      <td>22</td>\n",
       "      <td>12</td>\n",
       "      <td>50</td>\n",
       "      <td>computacao</td>\n",
       "      <td>inteligência artificial</td>\n",
       "    </tr>\n",
       "    <tr>\n",
       "      <th>1</th>\n",
       "      <td>25</td>\n",
       "      <td>1</td>\n",
       "      <td>3</td>\n",
       "      <td>25</td>\n",
       "      <td>4</td>\n",
       "      <td>16</td>\n",
       "      <td>8</td>\n",
       "      <td>28</td>\n",
       "      <td>informatica</td>\n",
       "      <td>engenharia de software</td>\n",
       "    </tr>\n",
       "    <tr>\n",
       "      <th>2</th>\n",
       "      <td>30</td>\n",
       "      <td>1</td>\n",
       "      <td>2</td>\n",
       "      <td>13</td>\n",
       "      <td>4</td>\n",
       "      <td>13</td>\n",
       "      <td>7</td>\n",
       "      <td>24</td>\n",
       "      <td>computacao</td>\n",
       "      <td>inteligência artificial</td>\n",
       "    </tr>\n",
       "    <tr>\n",
       "      <th>4</th>\n",
       "      <td>21</td>\n",
       "      <td>1</td>\n",
       "      <td>0</td>\n",
       "      <td>11</td>\n",
       "      <td>12</td>\n",
       "      <td>20</td>\n",
       "      <td>11</td>\n",
       "      <td>43</td>\n",
       "      <td>computacao</td>\n",
       "      <td>inteligência artificial</td>\n",
       "    </tr>\n",
       "    <tr>\n",
       "      <th>5</th>\n",
       "      <td>25</td>\n",
       "      <td>1</td>\n",
       "      <td>1</td>\n",
       "      <td>14</td>\n",
       "      <td>9</td>\n",
       "      <td>17</td>\n",
       "      <td>11</td>\n",
       "      <td>37</td>\n",
       "      <td>informatica</td>\n",
       "      <td>engenharia de software</td>\n",
       "    </tr>\n",
       "    <tr>\n",
       "      <th>...</th>\n",
       "      <td>...</td>\n",
       "      <td>...</td>\n",
       "      <td>...</td>\n",
       "      <td>...</td>\n",
       "      <td>...</td>\n",
       "      <td>...</td>\n",
       "      <td>...</td>\n",
       "      <td>...</td>\n",
       "      <td>...</td>\n",
       "      <td>...</td>\n",
       "    </tr>\n",
       "    <tr>\n",
       "      <th>9888</th>\n",
       "      <td>22</td>\n",
       "      <td>0</td>\n",
       "      <td>3</td>\n",
       "      <td>10</td>\n",
       "      <td>14</td>\n",
       "      <td>16</td>\n",
       "      <td>8</td>\n",
       "      <td>38</td>\n",
       "      <td>computacao</td>\n",
       "      <td>inteligência artificial</td>\n",
       "    </tr>\n",
       "    <tr>\n",
       "      <th>9889</th>\n",
       "      <td>48</td>\n",
       "      <td>1</td>\n",
       "      <td>1</td>\n",
       "      <td>14</td>\n",
       "      <td>10</td>\n",
       "      <td>16</td>\n",
       "      <td>9</td>\n",
       "      <td>35</td>\n",
       "      <td>informatica</td>\n",
       "      <td>engenharia de software</td>\n",
       "    </tr>\n",
       "    <tr>\n",
       "      <th>9890</th>\n",
       "      <td>24</td>\n",
       "      <td>1</td>\n",
       "      <td>3</td>\n",
       "      <td>25</td>\n",
       "      <td>9</td>\n",
       "      <td>18</td>\n",
       "      <td>8</td>\n",
       "      <td>35</td>\n",
       "      <td>computacao</td>\n",
       "      <td>inteligência artificial</td>\n",
       "    </tr>\n",
       "    <tr>\n",
       "      <th>9891</th>\n",
       "      <td>25</td>\n",
       "      <td>1</td>\n",
       "      <td>3</td>\n",
       "      <td>7</td>\n",
       "      <td>10</td>\n",
       "      <td>16</td>\n",
       "      <td>6</td>\n",
       "      <td>32</td>\n",
       "      <td>computacao</td>\n",
       "      <td>inteligência artificial</td>\n",
       "    </tr>\n",
       "    <tr>\n",
       "      <th>9892</th>\n",
       "      <td>24</td>\n",
       "      <td>1</td>\n",
       "      <td>4</td>\n",
       "      <td>22</td>\n",
       "      <td>13</td>\n",
       "      <td>17</td>\n",
       "      <td>5</td>\n",
       "      <td>35</td>\n",
       "      <td>computacao</td>\n",
       "      <td>inteligência artificial</td>\n",
       "    </tr>\n",
       "  </tbody>\n",
       "</table>\n",
       "<p>8613 rows × 10 columns</p>\n",
       "</div>"
      ],
      "text/plain": [
       "      idade  sexo  regiao  estado  matematica  fund_computacao  \\\n",
       "0        21     1       4      22          16               22   \n",
       "1        25     1       3      25           4               16   \n",
       "2        30     1       2      13           4               13   \n",
       "4        21     1       0      11          12               20   \n",
       "5        25     1       1      14           9               17   \n",
       "...     ...   ...     ...     ...         ...              ...   \n",
       "9888     22     0       3      10          14               16   \n",
       "9889     48     1       1      14          10               16   \n",
       "9890     24     1       3      25           9               18   \n",
       "9891     25     1       3       7          10               16   \n",
       "9892     24     1       4      22          13               17   \n",
       "\n",
       "      tec_computacao  total area_prevista           model_prevista  \n",
       "0                 12     50    computacao  inteligência artificial  \n",
       "1                  8     28   informatica   engenharia de software  \n",
       "2                  7     24    computacao  inteligência artificial  \n",
       "4                 11     43    computacao  inteligência artificial  \n",
       "5                 11     37   informatica   engenharia de software  \n",
       "...              ...    ...           ...                      ...  \n",
       "9888               8     38    computacao  inteligência artificial  \n",
       "9889               9     35   informatica   engenharia de software  \n",
       "9890               8     35    computacao  inteligência artificial  \n",
       "9891               6     32    computacao  inteligência artificial  \n",
       "9892               5     35    computacao  inteligência artificial  \n",
       "\n",
       "[8613 rows x 10 columns]"
      ]
     },
     "execution_count": 16,
     "metadata": {},
     "output_type": "execute_result"
    }
   ],
   "source": [
    "df"
   ]
  },
  {
   "cell_type": "code",
   "execution_count": 17,
   "id": "8a1ff4af-adab-4444-ad5f-4f59df9559df",
   "metadata": {},
   "outputs": [],
   "source": [
    "df['linhas_pesquisas'] = dataset_poscomp['linhas_pesquisas']\n",
    "df['area_concentration'] = dataset_poscomp['area_concentration']"
   ]
  },
  {
   "cell_type": "code",
   "execution_count": 18,
   "id": "748ede56-c70e-45c1-aace-f042d9671fae",
   "metadata": {},
   "outputs": [],
   "source": [
    "df_test_comp = df[df['area_concentration']=='computacao']\n",
    "df_test_inf = df[df['area_concentration']=='informatica']"
   ]
  },
  {
   "cell_type": "code",
   "execution_count": 19,
   "id": "9bdc49a7-7386-4426-9ff8-543f3acace85",
   "metadata": {},
   "outputs": [],
   "source": [
    "df['comparacao_linhas'] = df.apply(lambda x: x['model_prevista'] == x['linhas_pesquisas'], axis=1)"
   ]
  },
  {
   "cell_type": "code",
   "execution_count": 20,
   "id": "97cc58a8-2ddf-44c1-9621-4f8c0a2b4b51",
   "metadata": {},
   "outputs": [
    {
     "data": {
      "text/plain": [
       "comparacao_linhas\n",
       "True     4530\n",
       "False    4083\n",
       "Name: count, dtype: int64"
      ]
     },
     "execution_count": 20,
     "metadata": {},
     "output_type": "execute_result"
    }
   ],
   "source": [
    "df['comparacao_linhas'].value_counts()"
   ]
  },
  {
   "cell_type": "code",
   "execution_count": 21,
   "id": "8a7b9a39-22bd-4d21-9311-5c1a2d2c2f4a",
   "metadata": {},
   "outputs": [
    {
     "data": {
      "text/plain": [
       "52.594914663880175"
      ]
     },
     "execution_count": 21,
     "metadata": {},
     "output_type": "execute_result"
    }
   ],
   "source": [
    "(4530 / df.shape[0]) * 100"
   ]
  },
  {
   "cell_type": "code",
   "execution_count": 22,
   "id": "0cf2ce9b-d8ad-4594-91c3-5711f9a5d491",
   "metadata": {},
   "outputs": [
    {
     "data": {
      "text/html": [
       "<div>\n",
       "<style scoped>\n",
       "    .dataframe tbody tr th:only-of-type {\n",
       "        vertical-align: middle;\n",
       "    }\n",
       "\n",
       "    .dataframe tbody tr th {\n",
       "        vertical-align: top;\n",
       "    }\n",
       "\n",
       "    .dataframe thead th {\n",
       "        text-align: right;\n",
       "    }\n",
       "</style>\n",
       "<table border=\"1\" class=\"dataframe\">\n",
       "  <thead>\n",
       "    <tr style=\"text-align: right;\">\n",
       "      <th></th>\n",
       "      <th>model_prevista</th>\n",
       "      <th>linhas_pesquisas</th>\n",
       "    </tr>\n",
       "  </thead>\n",
       "  <tbody>\n",
       "    <tr>\n",
       "      <th>0</th>\n",
       "      <td>inteligência artificial</td>\n",
       "      <td>engenharia de software</td>\n",
       "    </tr>\n",
       "    <tr>\n",
       "      <th>1</th>\n",
       "      <td>engenharia de software</td>\n",
       "      <td>engenharia de software</td>\n",
       "    </tr>\n",
       "    <tr>\n",
       "      <th>2</th>\n",
       "      <td>inteligência artificial</td>\n",
       "      <td>sistemas de computação</td>\n",
       "    </tr>\n",
       "    <tr>\n",
       "      <th>4</th>\n",
       "      <td>inteligência artificial</td>\n",
       "      <td>sistemas de computação</td>\n",
       "    </tr>\n",
       "    <tr>\n",
       "      <th>5</th>\n",
       "      <td>engenharia de software</td>\n",
       "      <td>engenharia de software</td>\n",
       "    </tr>\n",
       "    <tr>\n",
       "      <th>...</th>\n",
       "      <td>...</td>\n",
       "      <td>...</td>\n",
       "    </tr>\n",
       "    <tr>\n",
       "      <th>9888</th>\n",
       "      <td>inteligência artificial</td>\n",
       "      <td>inteligência artificial</td>\n",
       "    </tr>\n",
       "    <tr>\n",
       "      <th>9889</th>\n",
       "      <td>engenharia de software</td>\n",
       "      <td>redes de computadores</td>\n",
       "    </tr>\n",
       "    <tr>\n",
       "      <th>9890</th>\n",
       "      <td>inteligência artificial</td>\n",
       "      <td>engenharia de software</td>\n",
       "    </tr>\n",
       "    <tr>\n",
       "      <th>9891</th>\n",
       "      <td>inteligência artificial</td>\n",
       "      <td>inteligência artificial</td>\n",
       "    </tr>\n",
       "    <tr>\n",
       "      <th>9892</th>\n",
       "      <td>inteligência artificial</td>\n",
       "      <td>redes de computadores</td>\n",
       "    </tr>\n",
       "  </tbody>\n",
       "</table>\n",
       "<p>8613 rows × 2 columns</p>\n",
       "</div>"
      ],
      "text/plain": [
       "               model_prevista         linhas_pesquisas\n",
       "0     inteligência artificial   engenharia de software\n",
       "1      engenharia de software   engenharia de software\n",
       "2     inteligência artificial   sistemas de computação\n",
       "4     inteligência artificial   sistemas de computação\n",
       "5      engenharia de software   engenharia de software\n",
       "...                       ...                      ...\n",
       "9888  inteligência artificial  inteligência artificial\n",
       "9889   engenharia de software    redes de computadores\n",
       "9890  inteligência artificial   engenharia de software\n",
       "9891  inteligência artificial  inteligência artificial\n",
       "9892  inteligência artificial    redes de computadores\n",
       "\n",
       "[8613 rows x 2 columns]"
      ]
     },
     "execution_count": 22,
     "metadata": {},
     "output_type": "execute_result"
    }
   ],
   "source": [
    "df[['model_prevista','linhas_pesquisas']]"
   ]
  },
  {
   "cell_type": "code",
   "execution_count": 23,
   "id": "d1f4c53d-2225-4199-bbec-e4e843a7139e",
   "metadata": {},
   "outputs": [],
   "source": [
    "qtd_linhas = dataset_poscomp.groupby('linhas_pesquisas').size().reset_index(name=\"counts\")\n",
    "qtd_linhas.sort_values(by='counts', ascending=False, inplace=True)"
   ]
  },
  {
   "cell_type": "code",
   "execution_count": 46,
   "id": "da6dcc64-ae7d-4880-9c95-5abe57b1b4f6",
   "metadata": {},
   "outputs": [
    {
     "data": {
      "image/png": "[encoded data removed]",
      "text/plain": [
       "<Figure size 1000x400 with 1 Axes>"
      ]
     },
     "metadata": {},
     "output_type": "display_data"
    }
   ],
   "source": [
    "visualizacao.barplot_view(dataframe=qtd_linhas, y='linhas_pesquisas', x='counts', show_legend=False, fontsize=20,\n",
    "                         figsize=(10,4), dodge=True, save_path='../imagens/classes.pdf')"
   ]
  },
  {
   "cell_type": "code",
   "execution_count": 25,
   "id": "7aa134a4-57eb-4506-86bd-a78e3e83ddda",
   "metadata": {},
   "outputs": [],
   "source": [
    "espec = ['inteligência artificial',\n",
    "                     'sistemas de computação',\n",
    "                     'redes de computadores',\n",
    "                     'engenharia de software',\n",
    "                     ]\n",
    "espec.sort()\n"
   ]
  },
  {
   "cell_type": "code",
   "execution_count": 26,
   "id": "d5ca8db5-e508-47df-bf36-6c09589ef29f",
   "metadata": {},
   "outputs": [],
   "source": [
    "lista_val = [0,1,2,3]\n",
    "dicionario = dict(zip(lista_val, espec))"
   ]
  },
  {
   "cell_type": "code",
   "execution_count": 27,
   "id": "bd49a82b-63ec-4527-b129-85a3b9ade7b3",
   "metadata": {},
   "outputs": [
    {
     "data": {
      "text/plain": [
       "{0: 'engenharia de software',\n",
       " 1: 'inteligência artificial',\n",
       " 2: 'redes de computadores',\n",
       " 3: 'sistemas de computação'}"
      ]
     },
     "execution_count": 27,
     "metadata": {},
     "output_type": "execute_result"
    }
   ],
   "source": [
    "dicionario"
   ]
  },
  {
   "cell_type": "code",
   "execution_count": 32,
   "id": "675e967a-ac33-4cfa-acf6-67cbb24cd13b",
   "metadata": {},
   "outputs": [
    {
     "data": {
      "text/plain": [
       "array([[0., 0., 0., 0.],\n",
       "       [0., 0., 0., 0.],\n",
       "       [0., 0., 0., 0.],\n",
       "       [0., 0., 0., 0.]])"
      ]
     },
     "execution_count": 32,
     "metadata": {},
     "output_type": "execute_result"
    }
   ],
   "source": [
    "testando = np.zeros((4, 4))\n",
    "testando"
   ]
  },
  {
   "cell_type": "code",
   "execution_count": 33,
   "id": "a1d285ed-41d1-4f48-ad54-e9fc53d769f7",
   "metadata": {},
   "outputs": [],
   "source": [
    "for i, row in df.iterrows():\n",
    "    pred = row['model_prevista']\n",
    "    true = row['linhas_pesquisas']\n",
    "    i_pred = espec.index(pred)\n",
    "    i_true = espec.index(true)\n",
    "    testando[i_true, i_pred] += 1"
   ]
  },
  {
   "cell_type": "code",
   "execution_count": 34,
   "id": "3405ed71-ffb0-4baa-a001-9dde4e554367",
   "metadata": {},
   "outputs": [
    {
     "data": {
      "text/html": [
       "<div>\n",
       "<style scoped>\n",
       "    .dataframe tbody tr th:only-of-type {\n",
       "        vertical-align: middle;\n",
       "    }\n",
       "\n",
       "    .dataframe tbody tr th {\n",
       "        vertical-align: top;\n",
       "    }\n",
       "\n",
       "    .dataframe thead th {\n",
       "        text-align: right;\n",
       "    }\n",
       "</style>\n",
       "<table border=\"1\" class=\"dataframe\">\n",
       "  <thead>\n",
       "    <tr style=\"text-align: right;\">\n",
       "      <th></th>\n",
       "      <th>0</th>\n",
       "      <th>1</th>\n",
       "      <th>2</th>\n",
       "      <th>3</th>\n",
       "    </tr>\n",
       "  </thead>\n",
       "  <tbody>\n",
       "    <tr>\n",
       "      <th>0</th>\n",
       "      <td>839.0</td>\n",
       "      <td>910.0</td>\n",
       "      <td>84.0</td>\n",
       "      <td>183.0</td>\n",
       "    </tr>\n",
       "    <tr>\n",
       "      <th>1</th>\n",
       "      <td>200.0</td>\n",
       "      <td>2617.0</td>\n",
       "      <td>116.0</td>\n",
       "      <td>264.0</td>\n",
       "    </tr>\n",
       "    <tr>\n",
       "      <th>2</th>\n",
       "      <td>349.0</td>\n",
       "      <td>520.0</td>\n",
       "      <td>217.0</td>\n",
       "      <td>60.0</td>\n",
       "    </tr>\n",
       "    <tr>\n",
       "      <th>3</th>\n",
       "      <td>258.0</td>\n",
       "      <td>1119.0</td>\n",
       "      <td>20.0</td>\n",
       "      <td>857.0</td>\n",
       "    </tr>\n",
       "  </tbody>\n",
       "</table>\n",
       "</div>"
      ],
      "text/plain": [
       "       0       1      2      3\n",
       "0  839.0   910.0   84.0  183.0\n",
       "1  200.0  2617.0  116.0  264.0\n",
       "2  349.0   520.0  217.0   60.0\n",
       "3  258.0  1119.0   20.0  857.0"
      ]
     },
     "execution_count": 34,
     "metadata": {},
     "output_type": "execute_result"
    }
   ],
   "source": [
    "cm = pd.DataFrame(testando)\n",
    "cm"
   ]
  },
  {
   "cell_type": "code",
   "execution_count": 36,
   "id": "16d74c1c-7efb-4cf8-8812-29392702af5a",
   "metadata": {},
   "outputs": [
    {
     "name": "stdout",
     "output_type": "stream",
     "text": [
      "True Positives (TP): 217.0\n",
      "False Positives (FP): 220.0\n",
      "False Negatives (FN): 929.0\n",
      "True Negatives (TN): 7247.0\n"
     ]
    }
   ],
   "source": [
    "# Calcular os valores de TP, FP e FN\n",
    "tp = np.diag(testando)[2]\n",
    "fp = np.sum(testando[:, 2]) - tp\n",
    "fn = np.sum(testando[2, :]) - tp\n",
    "\n",
    "# Calcular os verdadeiros negativos (TN)\n",
    "total = np.sum(testando)\n",
    "tn = total - (tp + fp + fn)\n",
    "\n",
    "print(\"True Positives (TP):\", tp)\n",
    "print(\"False Positives (FP):\", fp)\n",
    "print(\"False Negatives (FN):\", fn)\n",
    "print(\"True Negatives (TN):\", tn)"
   ]
  },
  {
   "cell_type": "code",
   "execution_count": 37,
   "id": "082eb070-9522-4807-a95a-8768632b8eb1",
   "metadata": {},
   "outputs": [
    {
     "data": {
      "text/plain": [
       "8613.0"
      ]
     },
     "execution_count": 37,
     "metadata": {},
     "output_type": "execute_result"
    }
   ],
   "source": [
    "np.sum(testando)"
   ]
  },
  {
   "cell_type": "code",
   "execution_count": 38,
   "id": "6dffcbe4-d891-4b65-a699-4bc5a5b1643d",
   "metadata": {},
   "outputs": [
    {
     "data": {
      "text/plain": [
       "0.866597004528039"
      ]
     },
     "execution_count": 38,
     "metadata": {},
     "output_type": "execute_result"
    }
   ],
   "source": [
    "(tp + tn) / (tp + fp + fn + tn)"
   ]
  },
  {
   "cell_type": "code",
   "execution_count": 39,
   "id": "057e3b00-ae1d-4c77-a995-9aa1f927b0c6",
   "metadata": {},
   "outputs": [],
   "source": [
    "def calcular_matrix(confusion_matrix, class_index):\n",
    "    # Calcular os valores de TP, FP e FN\n",
    "    tp = np.diag(confusion_matrix)[class_index]\n",
    "    fp = np.sum(confusion_matrix[:, class_index]) - tp\n",
    "    fn = np.sum(confusion_matrix[class_index, :]) - tp\n",
    "    \n",
    "    # Calcular os verdadeiros negativos (TN)\n",
    "    total = np.sum(confusion_matrix)\n",
    "    tn = total - (tp + fp + fn)\n",
    "    \n",
    "    return tp, fp, fn, tn"
   ]
  },
  {
   "cell_type": "code",
   "execution_count": 41,
   "id": "616e814c-95fe-47e9-8670-7e14f867a80b",
   "metadata": {},
   "outputs": [],
   "source": [
    "def calcular_acuracia(tp, fp, fn, tn):\n",
    "    # Calcular a acurácia\n",
    "    accuracy = (tp + tn) / (tp + fp + fn + tn)\n",
    "    return accuracy\n",
    "\n",
    "def calcular_precisao(tp, fp):\n",
    "    # Calcular a precisão\n",
    "    precision = tp / (tp + fp)\n",
    "    return precision\n",
    "\n",
    "def calcular_recall(tp, fn):\n",
    "    # Calcular a sensibilidade (recall)\n",
    "    recall = tp / (tp + fn)\n",
    "    return recall\n",
    "\n",
    "def calcular_especificidade(fp, tn):\n",
    "    # Calcular a especificidade\n",
    "    specificity = tn / (fp + tn)\n",
    "    return specificity\n",
    "\n",
    "def calcular_f1_score(precision, recall):\n",
    "    # Calcular o F1-score\n",
    "    f1_score = 2 * (precision * recall) / (precision + recall)\n",
    "    return f1_score"
   ]
  },
  {
   "cell_type": "code",
   "execution_count": 43,
   "id": "d53a69e6-7543-4890-a26e-84504fa82e85",
   "metadata": {},
   "outputs": [
    {
     "name": "stdout",
     "output_type": "stream",
     "text": [
      "   Accuracy  Precision    Recall  Specificity  F1 Score\n",
      "0  0.769651   0.416171  0.509721     0.831061  0.458220\n",
      "1  0.636712   0.818580  0.506581     0.831738  0.625852\n",
      "2  0.866597   0.189354  0.496568     0.886375  0.274163\n",
      "3  0.778939   0.380213  0.628299     0.807284  0.473742\n"
     ]
    }
   ],
   "source": [
    "metrics_calculator = MetricasClassificacao()\n",
    "result_df = metrics_calculator.calcular_metricas(cm)\n",
    "print(result_df)"
   ]
  },
  {
   "cell_type": "code",
   "execution_count": 44,
   "id": "9224f95a-1d5a-4d6f-a72d-782fc4afaada",
   "metadata": {},
   "outputs": [
    {
     "data": {
      "text/html": [
       "<div>\n",
       "<style scoped>\n",
       "    .dataframe tbody tr th:only-of-type {\n",
       "        vertical-align: middle;\n",
       "    }\n",
       "\n",
       "    .dataframe tbody tr th {\n",
       "        vertical-align: top;\n",
       "    }\n",
       "\n",
       "    .dataframe thead th {\n",
       "        text-align: right;\n",
       "    }\n",
       "</style>\n",
       "<table border=\"1\" class=\"dataframe\">\n",
       "  <thead>\n",
       "    <tr style=\"text-align: right;\">\n",
       "      <th></th>\n",
       "      <th>Accuracy</th>\n",
       "      <th>Precision</th>\n",
       "      <th>Recall</th>\n",
       "      <th>Specificity</th>\n",
       "      <th>F1 Score</th>\n",
       "    </tr>\n",
       "  </thead>\n",
       "  <tbody>\n",
       "    <tr>\n",
       "      <th>0</th>\n",
       "      <td>76.97%</td>\n",
       "      <td>41.62%</td>\n",
       "      <td>50.97%</td>\n",
       "      <td>83.11%</td>\n",
       "      <td>45.82%</td>\n",
       "    </tr>\n",
       "    <tr>\n",
       "      <th>1</th>\n",
       "      <td>63.67%</td>\n",
       "      <td>81.86%</td>\n",
       "      <td>50.66%</td>\n",
       "      <td>83.17%</td>\n",
       "      <td>62.59%</td>\n",
       "    </tr>\n",
       "    <tr>\n",
       "      <th>2</th>\n",
       "      <td>86.66%</td>\n",
       "      <td>18.94%</td>\n",
       "      <td>49.66%</td>\n",
       "      <td>88.64%</td>\n",
       "      <td>27.42%</td>\n",
       "    </tr>\n",
       "    <tr>\n",
       "      <th>3</th>\n",
       "      <td>77.89%</td>\n",
       "      <td>38.02%</td>\n",
       "      <td>62.83%</td>\n",
       "      <td>80.73%</td>\n",
       "      <td>47.37%</td>\n",
       "    </tr>\n",
       "  </tbody>\n",
       "</table>\n",
       "</div>"
      ],
      "text/plain": [
       "  Accuracy Precision  Recall Specificity F1 Score\n",
       "0   76.97%    41.62%  50.97%      83.11%   45.82%\n",
       "1   63.67%    81.86%  50.66%      83.17%   62.59%\n",
       "2   86.66%    18.94%  49.66%      88.64%   27.42%\n",
       "3   77.89%    38.02%  62.83%      80.73%   47.37%"
      ]
     },
     "execution_count": 44,
     "metadata": {},
     "output_type": "execute_result"
    }
   ],
   "source": [
    "result_df.applymap(lambda x: '{:.2f}%'.format(x * 100))"
   ]
  },
  {
   "cell_type": "markdown",
   "id": "236aa5bf-45e0-4900-950f-f2cd25e00e39",
   "metadata": {},
   "source": [
    "#### Sistema Pronto"
   ]
  },
  {
   "cell_type": "code",
   "execution_count": null,
   "id": "d8eee023-a0eb-4ad8-8168-c4479f940089",
   "metadata": {},
   "outputs": [],
   "source": [
    "def classificar_area_nova_dado(novo_dado):\n",
    "    # Carregar classificador do modelo 1\n",
    "    random_forest_model1 = pickle.load(open('../dados/classificadores/randomForest_finalizado2.sav',\"rb\"))\n",
    "    \n",
    "    # Prever área com modelo 1\n",
    "    area_prevista = random_forest_model1.predict(novo_dado)\n",
    "    \n",
    "    if area_prevista == 0:\n",
    "        # Carregar classificador do modelo 2\n",
    "        random_forest_model2 = pickle.load(open('../dados/classificadores/randomForest_finalizado_model2.sav',\"rb\"))\n",
    "        \n",
    "        # Prever subárea com modelo 2\n",
    "        subarea_prevista = random_forest_model2.predict(novo_dado)\n",
    "        subarea_prevista = 'Inteligência Artificial' if subarea_prevista == 0 else 'Sistemas de Computação'\n",
    "        \n",
    "        return f\"A área é Computação e a subárea prevista é {subarea_prevista}.\"\n",
    "    \n",
    "    elif area_prevista == 1:\n",
    "        # Carregar classificador do modelo 3\n",
    "        random_forest_model3 = pickle.load(open('../dados/classificadores/randomForest_finalizado_model3.sav',\"rb\"))\n",
    "        \n",
    "        # Prever subárea com modelo 3\n",
    "        subarea_prevista = random_forest_model3.predict(novo_dado)\n",
    "        subarea_prevista = 'Engenharia de Software' if subarea_prevista == 0 else 'Redes de Computadores'\n",
    "        \n",
    "        return f\"A área é Informática e a subárea prevista é {subarea_prevista}.\"\n",
    "    \n",
    "    else:\n",
    "        return \"Não foi possível determinar a área.\"\n"
   ]
  },
  {
   "cell_type": "code",
   "execution_count": null,
   "id": "49b05858-6255-46ee-9552-558356cde9fa",
   "metadata": {},
   "outputs": [],
   "source": [
    "         \"idade\",\n",
    "        \"sexo\",\n",
    "        \"regiao\",\n",
    "        \"estado\",\n",
    "        \"matematica\",\n",
    "        \"fund_computacao\",\n",
    "        \"tec_computacao\",\n",
    "        \"total\",\n",
    "        \"area_concentration\","
   ]
  },
  {
   "cell_type": "code",
   "execution_count": null,
   "id": "4edffa43-5db5-45e6-ae5c-f6b3d57759c1",
   "metadata": {},
   "outputs": [],
   "source": [
    "# Exemplo de uso\n",
    "novo_dado = [[29,0,0,13,8,12,5,25]]  # Exemplo de novo dado\n",
    "resultado = classificar_area_nova_dado(novo_dado)\n",
    "print(resultado)"
   ]
  }
 ],
 "metadata": {
  "kernelspec": {
   "display_name": "Python 3 (ipykernel)",
   "language": "python",
   "name": "python3"
  },
  "language_info": {
   "codemirror_mode": {
    "name": "ipython",
    "version": 3
   },
   "file_extension": ".py",
   "mimetype": "text/x-python",
   "name": "python",
   "nbconvert_exporter": "python",
   "pygments_lexer": "ipython3",
   "version": "3.11.7"
  }
 },
 "nbformat": 4,
 "nbformat_minor": 5
}
