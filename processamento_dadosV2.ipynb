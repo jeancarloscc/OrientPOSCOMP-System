{
 "cells": [
  {
   "cell_type": "code",
   "execution_count": 32,
   "id": "5b0cd50a-d59d-47ba-a0e3-bfc87df3583b",
   "metadata": {
    "tags": []
   },
   "outputs": [],
   "source": [
    "import pandas as pd\n",
    "from wordcloud import WordCloud, STOPWORDS, ImageColorGenerator\n",
    "import matplotlib.pyplot as plt\n",
    "import string\n",
    "import numpy as np\n",
    "import seaborn as sns\n",
    "import seaborn.objects as so\n",
    "import import_ipynb\n",
    "import services.especialidades as esp\n",
    "import datetime\n",
    "import math\n",
    "import services.function as fc"
   ]
  },
  {
   "cell_type": "code",
   "execution_count": 33,
   "id": "ec599c74-d4b0-4199-838a-4514e10a43ca",
   "metadata": {
    "tags": []
   },
   "outputs": [],
   "source": [
    "data_poscomp = pd.read_csv('dados/dataset_poscomp.csv')"
   ]
  },
  {
   "cell_type": "code",
   "execution_count": 34,
   "id": "d87bae5b-08dd-4e37-a1e6-9cc09c9a6af3",
   "metadata": {
    "tags": []
   },
   "outputs": [],
   "source": [
    "# especialidades = data_poscomp['ESPECIALIDADE'].value_counts()\n",
    "# especialidades = pd.DataFrame(especialidades)\n",
    "# # especialidades.tail(60)\n",
    "# especialidades.head(60)"
   ]
  },
  {
   "cell_type": "code",
   "execution_count": 35,
   "id": "32d043e7-dbaf-4eb5-ab63-69d2d950ca7c",
   "metadata": {
    "tags": []
   },
   "outputs": [],
   "source": [
    "# data_poscomp['ESPECIALIDADE'] = data_poscomp['ESPECIALIDADE'].replace({'segurança':'segurança computacional'})\n",
    "# data_poscomp['ESPECIALIDADE'] = data_poscomp['ESPECIALIDADE'].replace({'tecnologias educacionais':'informática na educação'})\n",
    "# data_poscomp['ESPECIALIDADE'] = data_poscomp['ESPECIALIDADE'].replace({'sinais':'processamento de sinais'})\n",
    "# data_poscomp['ESPECIALIDADE'] = data_poscomp['ESPECIALIDADE'].replace({'otimizaçãoanálise':'otimização'})"
   ]
  },
  {
   "cell_type": "code",
   "execution_count": 36,
   "id": "8eb9e0d4-192b-4005-b377-3aaa3cdabe7e",
   "metadata": {
    "tags": []
   },
   "outputs": [],
   "source": [
    "data_poscomp['ESPECIALIDADE'] = data_poscomp['ESPECIALIDADE'].replace({'redes':'redes de computadores'})"
   ]
  },
  {
   "cell_type": "code",
   "execution_count": 37,
   "id": "52314c8d-dce9-4e80-97c0-08c45261ce98",
   "metadata": {
    "tags": []
   },
   "outputs": [],
   "source": [
    "data_poscomp['ESPECIALIDADE'] = data_poscomp['ESPECIALIDADE'].replace({'sinais':'sistemas de computação'})"
   ]
  },
  {
   "cell_type": "code",
   "execution_count": 38,
   "id": "33178faa-04b3-43bd-89f1-aa78a9c2cda2",
   "metadata": {
    "tags": []
   },
   "outputs": [],
   "source": [
    "data_poscomp['ESPECIALIDADE'] = data_poscomp['ESPECIALIDADE'].replace({'computação':'sistemas de computação'})"
   ]
  },
  {
   "cell_type": "code",
   "execution_count": 39,
   "id": "07e9fbfe-a22e-42cc-86cd-6e2f77a43cdd",
   "metadata": {
    "tags": []
   },
   "outputs": [],
   "source": [
    "# def substituir_palavras(df, palavras_a_substituir, palavra_substituta):\n",
    "#     df['ESPECIALIDADE'] = df['ESPECIALIDADE'].replace(palavras_a_substituir, palavra_substituta, regex=True)\n",
    " \n",
    "#     return df"
   ]
  },
  {
   "cell_type": "code",
   "execution_count": 40,
   "id": "0fae4a74-b76c-4b89-91d9-4e02244a82b0",
   "metadata": {
    "tags": []
   },
   "outputs": [],
   "source": [
    "data_poscomp = fc.substituir_palavras(data_poscomp, ['robótica','computação evolutiva','novas técnicas de'], 'inteligência artificial')"
   ]
  },
  {
   "cell_type": "code",
   "execution_count": 41,
   "id": "82e36fb0-fb45-44b1-9edc-8a0c4ffa83fd",
   "metadata": {
    "tags": []
   },
   "outputs": [],
   "source": [
    "data_poscomp = fc.substituir_palavras(data_poscomp, ['teoria lógica', 'teoria',\n",
    "                                                    'linguagens e ambientes','algoritmos',\n",
    "                                                    'desenvolvimento','compiladores','processamento e análise',\n",
    "                                                    'lógicas não clássicas','lógica',\n",
    "                                                    'confiança no funcionamento','otimização','pesquisa operacional',\n",
    "                                                    'software livre','multidisciplinar','web',\n",
    "                                                    'sistemas de informação'], 'sistemas de computação')"
   ]
  },
  {
   "cell_type": "code",
   "execution_count": 42,
   "id": "d9e416c2-f0cd-4ec7-acb6-26993c99057f",
   "metadata": {
    "tags": []
   },
   "outputs": [],
   "source": [
    "data_poscomp = fc.substituir_palavras(data_poscomp, ['segurança','universalização de acesso',\n",
    "                                                     'governança de tic',\n",
    "                                                     'alinhamento estratégico de',\n",
    "                                                    'simulação das interações','democracia digital',\n",
    "                                                    'escience'], 'aplicações computacionais')"
   ]
  },
  {
   "cell_type": "code",
   "execution_count": 43,
   "id": "8f82ed27-b77b-4387-ab11-8a960a3f8ff8",
   "metadata": {
    "tags": []
   },
   "outputs": [],
   "source": [
    "# data_poscomp = fc.substituir_palavras(data_poscomp, ['software livre','multidisciplinar','web'], 'sistemas de informação')"
   ]
  },
  {
   "cell_type": "code",
   "execution_count": 44,
   "id": "9d1d7e1f-aef4-4bbd-9057-92a05a5cfa33",
   "metadata": {
    "tags": []
   },
   "outputs": [],
   "source": [
    "data_poscomp = fc.substituir_palavras(data_poscomp, ['ambientes de realidade','jogos digitais'], 'computação gráfica')"
   ]
  },
  {
   "cell_type": "code",
   "execution_count": 45,
   "id": "c477d2fe-0b36-4896-90b4-4aaa2f17f8b6",
   "metadata": {
    "tags": []
   },
   "outputs": [],
   "source": [
    "data_poscomp = fc.substituir_palavras(data_poscomp, ['embedded systems design'], 'sistemas embarcados')"
   ]
  },
  {
   "cell_type": "code",
   "execution_count": 46,
   "id": "594c0553-711d-4a59-a527-fa33348e5176",
   "metadata": {
    "tags": []
   },
   "outputs": [],
   "source": [
    "data_poscomp = fc.substituir_palavras(data_poscomp, ['infraestrutura de ti'], 'computação aplicada')"
   ]
  },
  {
   "cell_type": "code",
   "execution_count": 47,
   "id": "0a75ad48-ce21-44e4-8532-a1e7b0837199",
   "metadata": {
    "tags": []
   },
   "outputs": [],
   "source": [
    "data_poscomp = fc.substituir_palavras(data_poscomp, ['interação humano-computador',\n",
    "                                                     'informática na educação'], 'engenharia de software')"
   ]
  },
  {
   "cell_type": "code",
   "execution_count": 48,
   "id": "21a4983e-b0d7-4b9d-a06e-18d934ee84ff",
   "metadata": {
    "tags": []
   },
   "outputs": [],
   "source": [
    "data_poscomp = fc.substituir_palavras(data_poscomp, ['ciência de dados'], 'aprendizado de máquina')"
   ]
  },
  {
   "cell_type": "code",
   "execution_count": 49,
   "id": "1de31ece-c26a-4052-847c-0fdc829f2d44",
   "metadata": {
    "tags": []
   },
   "outputs": [],
   "source": [
    "data_poscomp = fc.substituir_palavras(data_poscomp, ['sistemas embarcados','sistemas distribuídos'], 'redes de computadores')"
   ]
  },
  {
   "cell_type": "code",
   "execution_count": 50,
   "id": "6c8cfa89-e0b8-434f-b755-06749755a44b",
   "metadata": {
    "tags": []
   },
   "outputs": [
    {
     "name": "stdout",
     "output_type": "stream",
     "text": [
      "Series([], Name: ESPECIALIDADE, dtype: int64)\n"
     ]
    },
    {
     "data": {
      "text/plain": [
       "[]"
      ]
     },
     "execution_count": 50,
     "metadata": {},
     "output_type": "execute_result"
    }
   ],
   "source": [
    "f = data_poscomp[data_poscomp['ESPECIALIDADE'].str.contains('segu')]\n",
    "print(f['ESPECIALIDADE'].sort_values().value_counts())\n",
    "list(f['ESPECIALIDADE'].unique())"
   ]
  },
  {
   "cell_type": "code",
   "execution_count": 51,
   "id": "ee659260-542b-4160-bb71-51cdb7e1746c",
   "metadata": {
    "tags": []
   },
   "outputs": [
    {
     "data": {
      "text/html": [
       "<div>\n",
       "<style scoped>\n",
       "    .dataframe tbody tr th:only-of-type {\n",
       "        vertical-align: middle;\n",
       "    }\n",
       "\n",
       "    .dataframe tbody tr th {\n",
       "        vertical-align: top;\n",
       "    }\n",
       "\n",
       "    .dataframe thead th {\n",
       "        text-align: right;\n",
       "    }\n",
       "</style>\n",
       "<table border=\"1\" class=\"dataframe\">\n",
       "  <thead>\n",
       "    <tr style=\"text-align: right;\">\n",
       "      <th></th>\n",
       "      <th>ESPECIALIDADE</th>\n",
       "    </tr>\n",
       "  </thead>\n",
       "  <tbody>\n",
       "    <tr>\n",
       "      <th>sistemas de computação</th>\n",
       "      <td>4072</td>\n",
       "    </tr>\n",
       "    <tr>\n",
       "      <th>inteligência artificial</th>\n",
       "      <td>3843</td>\n",
       "    </tr>\n",
       "    <tr>\n",
       "      <th>engenharia de software</th>\n",
       "      <td>2335</td>\n",
       "    </tr>\n",
       "    <tr>\n",
       "      <th>redes de computadores</th>\n",
       "      <td>1686</td>\n",
       "    </tr>\n",
       "    <tr>\n",
       "      <th>aplicações computacionais</th>\n",
       "      <td>959</td>\n",
       "    </tr>\n",
       "    <tr>\n",
       "      <th>computação aplicada</th>\n",
       "      <td>582</td>\n",
       "    </tr>\n",
       "  </tbody>\n",
       "</table>\n",
       "</div>"
      ],
      "text/plain": [
       "                           ESPECIALIDADE\n",
       "sistemas de computação              4072\n",
       "inteligência artificial             3843\n",
       "engenharia de software              2335\n",
       "redes de computadores               1686\n",
       "aplicações computacionais            959\n",
       "computação aplicada                  582"
      ]
     },
     "execution_count": 51,
     "metadata": {},
     "output_type": "execute_result"
    }
   ],
   "source": [
    "especialidades = data_poscomp['ESPECIALIDADE'].value_counts()\n",
    "especialidades = pd.DataFrame(especialidades)\n",
    "# especialidades.tail(60)\n",
    "especialidades.head(15)"
   ]
  },
  {
   "cell_type": "code",
   "execution_count": 52,
   "id": "693de0ac-cb7f-4f5d-b67b-b61b3adc373c",
   "metadata": {
    "tags": []
   },
   "outputs": [],
   "source": [
    "# data_poscomp = fc.substituir_palavras(data_poscomp, ['aprendizado de máquina'], 'inteligência artificial')\n",
    "data_poscomp = fc.substituir_palavras(data_poscomp, ['computação gráfica'], 'inteligência artificial')"
   ]
  },
  {
   "cell_type": "code",
   "execution_count": 53,
   "id": "3cf43431-a2a5-48d6-b07c-e6b747c380f8",
   "metadata": {
    "tags": []
   },
   "outputs": [],
   "source": [
    "areas_computation = ['sistemas de computação',\n",
    "                    'computação aplicada',\n",
    "                    'aplicações computacionais',\n",
    "                    ]\n",
    "\n",
    "areas_information = ['inteligência artificial',\n",
    "                    'engenharia de software',\n",
    "                    'redes de computadores',]"
   ]
  },
  {
   "cell_type": "code",
   "execution_count": 54,
   "id": "8ca468f8-266e-471e-8646-32060752c4a0",
   "metadata": {
    "tags": []
   },
   "outputs": [
    {
     "data": {
      "text/plain": [
       "tecnologia da computacao     7864\n",
       "fundamentos da computacao    5613\n",
       "Name: area_concentration, dtype: int64"
      ]
     },
     "execution_count": 54,
     "metadata": {},
     "output_type": "execute_result"
    }
   ],
   "source": [
    "# Defina as condições e os valores correspondentes para a nova coluna\n",
    "condicoes = [\n",
    "    data_poscomp['ESPECIALIDADE'].isin(areas_computation),\n",
    "    data_poscomp['ESPECIALIDADE'].isin(areas_information)\n",
    "]\n",
    "\n",
    "valores = ['fundamentos da computacao', 'tecnologia da computacao']  # Valores correspondentes às condições\n",
    "\n",
    "# Use a função numpy.select para criar a nova coluna\n",
    "data_poscomp['area_concentration'] = np.select(condicoes, valores, default='Outro')\n",
    "\n",
    "# Exiba o DataFrame resultante\n",
    "data_poscomp['area_concentration'].value_counts()"
   ]
  },
  {
   "cell_type": "code",
   "execution_count": 55,
   "id": "5066db70-4427-4402-bb44-b59a49e0955f",
   "metadata": {
    "tags": []
   },
   "outputs": [
    {
     "data": {
      "text/html": [
       "<div>\n",
       "<style scoped>\n",
       "    .dataframe tbody tr th:only-of-type {\n",
       "        vertical-align: middle;\n",
       "    }\n",
       "\n",
       "    .dataframe tbody tr th {\n",
       "        vertical-align: top;\n",
       "    }\n",
       "\n",
       "    .dataframe thead th {\n",
       "        text-align: right;\n",
       "    }\n",
       "</style>\n",
       "<table border=\"1\" class=\"dataframe\">\n",
       "  <thead>\n",
       "    <tr style=\"text-align: right;\">\n",
       "      <th></th>\n",
       "      <th>INSCRICAO</th>\n",
       "      <th>SEXO</th>\n",
       "      <th>ESTADO</th>\n",
       "      <th>REGIAO</th>\n",
       "      <th>IDADE</th>\n",
       "      <th>ESPECIALIDADE</th>\n",
       "      <th>PRESENTE DIA1</th>\n",
       "      <th>CARGO</th>\n",
       "      <th>Matemática Discreta</th>\n",
       "      <th>Cálculo Diferencial e Integral</th>\n",
       "      <th>...</th>\n",
       "      <th>Redes de Computadores</th>\n",
       "      <th>Computação Gráfica</th>\n",
       "      <th>Inteligência Artificial</th>\n",
       "      <th>Engenharia de Software</th>\n",
       "      <th>Sistemas Distribuídos</th>\n",
       "      <th>Compiladores</th>\n",
       "      <th>Processamento de Imagens</th>\n",
       "      <th>Banco de Dados</th>\n",
       "      <th>ANO</th>\n",
       "      <th>area_concentration</th>\n",
       "    </tr>\n",
       "  </thead>\n",
       "  <tbody>\n",
       "    <tr>\n",
       "      <th>0</th>\n",
       "      <td>39401645886-1</td>\n",
       "      <td>M</td>\n",
       "      <td>CE</td>\n",
       "      <td>nordeste</td>\n",
       "      <td>33</td>\n",
       "      <td>sistemas de computação</td>\n",
       "      <td>S</td>\n",
       "      <td>Mestrado/Doutorado</td>\n",
       "      <td>3.0</td>\n",
       "      <td>3.0</td>\n",
       "      <td>...</td>\n",
       "      <td>1.0</td>\n",
       "      <td>0.0</td>\n",
       "      <td>1.0</td>\n",
       "      <td>3.0</td>\n",
       "      <td>2.0</td>\n",
       "      <td>1.0</td>\n",
       "      <td>1.0</td>\n",
       "      <td>1.0</td>\n",
       "      <td>2016</td>\n",
       "      <td>fundamentos da computacao</td>\n",
       "    </tr>\n",
       "    <tr>\n",
       "      <th>1</th>\n",
       "      <td>39401663587-8</td>\n",
       "      <td>M</td>\n",
       "      <td>RS</td>\n",
       "      <td>sul</td>\n",
       "      <td>28</td>\n",
       "      <td>sistemas de computação</td>\n",
       "      <td>S</td>\n",
       "      <td>Mestrado/Doutorado</td>\n",
       "      <td>3.0</td>\n",
       "      <td>2.0</td>\n",
       "      <td>...</td>\n",
       "      <td>2.0</td>\n",
       "      <td>0.0</td>\n",
       "      <td>2.0</td>\n",
       "      <td>1.0</td>\n",
       "      <td>3.0</td>\n",
       "      <td>1.0</td>\n",
       "      <td>2.0</td>\n",
       "      <td>1.0</td>\n",
       "      <td>2016</td>\n",
       "      <td>fundamentos da computacao</td>\n",
       "    </tr>\n",
       "    <tr>\n",
       "      <th>2</th>\n",
       "      <td>39401651770-6</td>\n",
       "      <td>M</td>\n",
       "      <td>SP</td>\n",
       "      <td>sudeste</td>\n",
       "      <td>31</td>\n",
       "      <td>engenharia de software</td>\n",
       "      <td>S</td>\n",
       "      <td>Mestrado/Doutorado</td>\n",
       "      <td>0.0</td>\n",
       "      <td>1.0</td>\n",
       "      <td>...</td>\n",
       "      <td>1.0</td>\n",
       "      <td>0.0</td>\n",
       "      <td>2.0</td>\n",
       "      <td>0.0</td>\n",
       "      <td>2.0</td>\n",
       "      <td>0.0</td>\n",
       "      <td>2.0</td>\n",
       "      <td>1.0</td>\n",
       "      <td>2016</td>\n",
       "      <td>tecnologia da computacao</td>\n",
       "    </tr>\n",
       "    <tr>\n",
       "      <th>3</th>\n",
       "      <td>39401671273-0</td>\n",
       "      <td>M</td>\n",
       "      <td>PA</td>\n",
       "      <td>norte</td>\n",
       "      <td>36</td>\n",
       "      <td>aplicações computacionais</td>\n",
       "      <td>S</td>\n",
       "      <td>Mestrado/Doutorado</td>\n",
       "      <td>1.0</td>\n",
       "      <td>0.0</td>\n",
       "      <td>...</td>\n",
       "      <td>2.0</td>\n",
       "      <td>0.0</td>\n",
       "      <td>1.0</td>\n",
       "      <td>1.0</td>\n",
       "      <td>1.0</td>\n",
       "      <td>1.0</td>\n",
       "      <td>1.0</td>\n",
       "      <td>0.0</td>\n",
       "      <td>2016</td>\n",
       "      <td>fundamentos da computacao</td>\n",
       "    </tr>\n",
       "    <tr>\n",
       "      <th>4</th>\n",
       "      <td>39401684751-5</td>\n",
       "      <td>F</td>\n",
       "      <td>AM</td>\n",
       "      <td>norte</td>\n",
       "      <td>25</td>\n",
       "      <td>inteligência artificial</td>\n",
       "      <td>S</td>\n",
       "      <td>Mestrado/Doutorado</td>\n",
       "      <td>0.0</td>\n",
       "      <td>0.0</td>\n",
       "      <td>...</td>\n",
       "      <td>1.0</td>\n",
       "      <td>0.0</td>\n",
       "      <td>2.0</td>\n",
       "      <td>3.0</td>\n",
       "      <td>3.0</td>\n",
       "      <td>0.0</td>\n",
       "      <td>1.0</td>\n",
       "      <td>1.0</td>\n",
       "      <td>2016</td>\n",
       "      <td>tecnologia da computacao</td>\n",
       "    </tr>\n",
       "  </tbody>\n",
       "</table>\n",
       "<p>5 rows × 35 columns</p>\n",
       "</div>"
      ],
      "text/plain": [
       "       INSCRICAO SEXO ESTADO    REGIAO  IDADE              ESPECIALIDADE  \\\n",
       "0  39401645886-1    M     CE  nordeste     33     sistemas de computação   \n",
       "1  39401663587-8    M     RS       sul     28     sistemas de computação   \n",
       "2  39401651770-6    M     SP   sudeste     31     engenharia de software   \n",
       "3  39401671273-0    M     PA     norte     36  aplicações computacionais   \n",
       "4  39401684751-5    F     AM     norte     25    inteligência artificial   \n",
       "\n",
       "  PRESENTE DIA1               CARGO  Matemática Discreta  \\\n",
       "0             S  Mestrado/Doutorado                  3.0   \n",
       "1             S  Mestrado/Doutorado                  3.0   \n",
       "2             S  Mestrado/Doutorado                  0.0   \n",
       "3             S  Mestrado/Doutorado                  1.0   \n",
       "4             S  Mestrado/Doutorado                  0.0   \n",
       "\n",
       "   Cálculo Diferencial e Integral  ...  Redes de Computadores  \\\n",
       "0                             3.0  ...                    1.0   \n",
       "1                             2.0  ...                    2.0   \n",
       "2                             1.0  ...                    1.0   \n",
       "3                             0.0  ...                    2.0   \n",
       "4                             0.0  ...                    1.0   \n",
       "\n",
       "   Computação Gráfica  Inteligência Artificial  Engenharia de Software  \\\n",
       "0                 0.0                      1.0                     3.0   \n",
       "1                 0.0                      2.0                     1.0   \n",
       "2                 0.0                      2.0                     0.0   \n",
       "3                 0.0                      1.0                     1.0   \n",
       "4                 0.0                      2.0                     3.0   \n",
       "\n",
       "   Sistemas Distribuídos  Compiladores  Processamento de Imagens  \\\n",
       "0                    2.0           1.0                       1.0   \n",
       "1                    3.0           1.0                       2.0   \n",
       "2                    2.0           0.0                       2.0   \n",
       "3                    1.0           1.0                       1.0   \n",
       "4                    3.0           0.0                       1.0   \n",
       "\n",
       "   Banco de Dados   ANO         area_concentration  \n",
       "0             1.0  2016  fundamentos da computacao  \n",
       "1             1.0  2016  fundamentos da computacao  \n",
       "2             1.0  2016   tecnologia da computacao  \n",
       "3             0.0  2016  fundamentos da computacao  \n",
       "4             1.0  2016   tecnologia da computacao  \n",
       "\n",
       "[5 rows x 35 columns]"
      ]
     },
     "execution_count": 55,
     "metadata": {},
     "output_type": "execute_result"
    }
   ],
   "source": [
    "data_poscomp.head()"
   ]
  },
  {
   "cell_type": "code",
   "execution_count": 56,
   "id": "759e7eb9-9654-4746-ae34-365e6cd7fbb7",
   "metadata": {
    "tags": []
   },
   "outputs": [],
   "source": [
    "# # Especialidades que serão agrupadas\n",
    "# especialidades_a_agrupar = ['engenharia de software',\n",
    "# 'inteligência artificial',\n",
    "# 'sistemas de computação',\n",
    "# 'sistemas de informação',\n",
    "# 'redes de computadores',\n",
    "# 'aplicações computacionais']\n",
    "\n",
    "# # Criar uma nova coluna 'Especialidade_Agrupada' com os valores atualizados\n",
    "# data_poscomp['ESPECIALIDADE'] = data_poscomp['ESPECIALIDADE'].apply(lambda espec: espec if espec in especialidades_a_agrupar else 'outras áreas')\n",
    "\n"
   ]
  },
  {
   "cell_type": "code",
   "execution_count": 57,
   "id": "0d24f110-154d-4251-b0d7-ac86f5a0935b",
   "metadata": {},
   "outputs": [],
   "source": [
    "# text = data_poscomp['ESPECIALIDADE'].value_counts()[:60]\n",
    "# text = text.to_dict()\n",
    "\n",
    "# stopwords = set(['o', 'a', 'e', 'é', 'de', 'da', 'do', 'para', ' e'])\n",
    "\n",
    "# wordcloud2 = WordCloud(background_color=\"white\",\n",
    "#                        # random_state=1, \n",
    "#                        min_word_length=3,\n",
    "#                         width=400, height=200,\n",
    "#                         stopwords=stopwords\n",
    "#                        ).generate_from_frequencies(text)\n",
    "# # WordCloud.generate_from_frequencies\n",
    "\n",
    "# plt.imshow(wordcloud2, interpolation=\"bilinear\")\n",
    "# plt.axis(\"off\")\n",
    "# # plt.margins(x=0, y=0)\n",
    "# # plt.savefig('imagens/nuvem_palavras.eps', format='eps', dpi = 300, bbox_inches='tight')\n",
    "# plt.show()"
   ]
  },
  {
   "cell_type": "code",
   "execution_count": 58,
   "id": "928ce1f7-36ff-46ea-be4f-ea6c17839b21",
   "metadata": {
    "tags": []
   },
   "outputs": [],
   "source": [
    "# contagem_areas = data_poscomp.groupby(['ESTADO', 'ESPECIALIDADE']).size().reset_index(name='CONTAGEM')\n",
    "# contagem_areas = contagem_areas.sort_values(['ESTADO', 'CONTAGEM'], ascending=[True, False])\n",
    "# areas_mais_frequentes = contagem_areas.groupby('ESTADO').first().reset_index()\n",
    "# print(areas_mais_frequentes)"
   ]
  },
  {
   "cell_type": "code",
   "execution_count": 59,
   "id": "387b0f26-979d-4aac-9ba9-6b8e5f9884b2",
   "metadata": {
    "tags": []
   },
   "outputs": [],
   "source": [
    "# contagem_areas = data_poscomp.groupby(['ESTADO', 'ESPECIALIDADE']).size().reset_index(name='CONTAGEM')\n",
    "\n",
    "# areas_mais_frequentes = contagem_areas.sort_values('CONTAGEM', ascending=False).drop_duplicates('ESTADO')\n",
    "\n",
    "# areas_mais_frequentes = areas_mais_frequentes.sort_values('CONTAGEM', ascending=False)\n",
    "\n",
    "# plt.figure(figsize=(13, 7))\n",
    "# ax = sns.barplot(data=areas_mais_frequentes, x='ESTADO', y='CONTAGEM', hue='ESPECIALIDADE',dodge=False )\n",
    "\n",
    "# for p in ax.patches:\n",
    "#     if not math.isnan(p.get_height()):\n",
    "#         ax.annotate(int(p.get_height()),\n",
    "#                     xy=(p.get_x() + p.get_width() / 2, p.get_height()),\n",
    "#                     xytext=(0, 5),\n",
    "#                     textcoords='offset points',\n",
    "#                     ha='center',\n",
    "#                     va='bottom',\n",
    "#                     fontsize=14)\n",
    "        \n",
    "# ax.set_xlabel('Estado', fontsize=14)\n",
    "# ax.set_ylabel('Contagem', fontsize=14)\n",
    "# # ax.set_title('Área mais Frequente por Estado', fontsize=16)\n",
    "# ax.tick_params(axis='x', labelsize=14)\n",
    "# ax.tick_params(axis='y', labelsize=14)\n",
    "# ax.legend(title='', fontsize=14)\n",
    "# plt.tight_layout()\n",
    "# # plt.savefig('imagens/especialidade_frequenteEstado.eps', format='eps', dpi = 600, bbox_inches='tight')\n",
    "# plt.show()"
   ]
  },
  {
   "cell_type": "code",
   "execution_count": 60,
   "id": "5dbc464f-7d9a-4f81-af09-d1898953a7ef",
   "metadata": {
    "tags": []
   },
   "outputs": [],
   "source": [
    "data_poscomp.to_csv('dados/dataset_poscomp.csv', index=False)"
   ]
  },
  {
   "cell_type": "code",
   "execution_count": null,
   "id": "7c06109f-6783-4232-8344-6a29fe761935",
   "metadata": {},
   "outputs": [],
   "source": []
  }
 ],
 "metadata": {
  "kernelspec": {
   "display_name": "Python 3 (ipykernel)",
   "language": "python",
   "name": "python3"
  },
  "language_info": {
   "codemirror_mode": {
    "name": "ipython",
    "version": 3
   },
   "file_extension": ".py",
   "mimetype": "text/x-python",
   "name": "python",
   "nbconvert_exporter": "python",
   "pygments_lexer": "ipython3",
   "version": "3.10.9"
  }
 },
 "nbformat": 4,
 "nbformat_minor": 5
}
