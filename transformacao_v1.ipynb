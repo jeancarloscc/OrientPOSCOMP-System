{
 "cells": [
  {
   "cell_type": "markdown",
   "id": "bfbbcfcb-05ab-4917-a334-2ea8b2a33acf",
   "metadata": {},
   "source": [
    "# Transformações dos Dados"
   ]
  },
  {
   "cell_type": "code",
   "execution_count": 2,
   "id": "a2f7eb48-737b-476c-a630-0b2aab3325ca",
   "metadata": {},
   "outputs": [],
   "source": [
    "import pandas as pd\n",
    "import numpy as np\n",
    "import matplotlib.pyplot as plt"
   ]
  },
  {
   "cell_type": "markdown",
   "id": "06050c6a-6805-4dca-ae7c-d9095cf2f3c2",
   "metadata": {},
   "source": [
    "## Dados do POSCOMP 2016"
   ]
  },
  {
   "cell_type": "code",
   "execution_count": 8,
   "id": "d15863ff-a4d8-47e4-a6e1-f5d1d4a45266",
   "metadata": {},
   "outputs": [
    {
     "data": {
      "text/plain": [
       "Index(['Unnamed: 0', 'ESTADO', 'DATA NASC.', 'SEXO', 'ENDERECO.', 'NUMERO',\n",
       "       'COMPL.', 'BAIRRO', 'CIDADE', 'CEP', 'INSCRICAO', 'CARGO', 'CÓDIGO',\n",
       "       'DS CARGO', 'DEFICIENTE', 'LOCAL DE PROVA', 'NECESSIDADES ESPECIAIS',\n",
       "       'DESCRICAO DA NECESSIDADE', 'ESTRANGEIRO'],\n",
       "      dtype='object')"
      ]
     },
     "execution_count": 8,
     "metadata": {},
     "output_type": "execute_result"
    }
   ],
   "source": [
    "dados_homologados_processado = pd.read_csv('dados/poscomp2016/dados_homologacao_PROCESSADA.csv')\n",
    "dados_homologados_processado.columns"
   ]
  },
  {
   "cell_type": "code",
   "execution_count": 1,
   "id": "d73d4417-014e-4b94-b516-40b777abef21",
   "metadata": {},
   "outputs": [
    {
     "ename": "NameError",
     "evalue": "name 'dados_homologados_processado' is not defined",
     "output_type": "error",
     "traceback": [
      "\u001b[1;31m---------------------------------------------------------------------------\u001b[0m",
      "\u001b[1;31mNameError\u001b[0m                                 Traceback (most recent call last)",
      "Input \u001b[1;32mIn [1]\u001b[0m, in \u001b[0;36m<cell line: 1>\u001b[1;34m()\u001b[0m\n\u001b[1;32m----> 1\u001b[0m \u001b[43mdados_homologados_processado\u001b[49m[\u001b[38;5;124m'\u001b[39m\u001b[38;5;124mESTADO\u001b[39m\u001b[38;5;124m'\u001b[39m]\u001b[38;5;241m.\u001b[39mplot()\n",
      "\u001b[1;31mNameError\u001b[0m: name 'dados_homologados_processado' is not defined"
     ]
    }
   ],
   "source": [
    "dados_homologados_processado['ESTADO'].plot()"
   ]
  }
 ],
 "metadata": {
  "kernelspec": {
   "display_name": "Python 3 (ipykernel)",
   "language": "python",
   "name": "python3"
  },
  "language_info": {
   "codemirror_mode": {
    "name": "ipython",
    "version": 3
   },
   "file_extension": ".py",
   "mimetype": "text/x-python",
   "name": "python",
   "nbconvert_exporter": "python",
   "pygments_lexer": "ipython3",
   "version": "3.10.5"
  }
 },
 "nbformat": 4,
 "nbformat_minor": 5
}
