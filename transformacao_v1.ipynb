{
 "cells": [
  {
   "cell_type": "markdown",
   "id": "bfbbcfcb-05ab-4917-a334-2ea8b2a33acf",
   "metadata": {},
   "source": [
    "# Transformações dos Dados"
   ]
  },
  {
   "cell_type": "code",
   "execution_count": null,
   "id": "a2f7eb48-737b-476c-a630-0b2aab3325ca",
   "metadata": {},
   "outputs": [],
   "source": [
    "%time\n",
    "import pandas as pd\n",
    "import numpy as np\n",
    "import matplotlib.pyplot as plt\n",
    "# import plotly.express as px\n",
    "import seaborn as sns\n",
    "import import_ipynb\n",
    "import services.lista_estados_regioes as ler\n",
    "import services.visualization as view\n",
    "import services.lista_estados_regioes as lesr"
   ]
  },
  {
   "cell_type": "code",
   "execution_count": null,
   "id": "be939e8e-81b1-4436-9217-60ef3c87620c",
   "metadata": {},
   "outputs": [],
   "source": [
    "dataset = pd.read_csv('dados/dataset_poscomp.csv')"
   ]
  },
  {
   "cell_type": "markdown",
   "id": "aa36f646-ffd2-485e-8745-465d5b84a4fd",
   "metadata": {},
   "source": [
    "## Adicionar os eixos e somar de cada candidato"
   ]
  },
  {
   "cell_type": "code",
   "execution_count": null,
   "id": "e091cf4e-7be0-4eaa-b616-4ee8bf30556a",
   "metadata": {},
   "outputs": [],
   "source": [
    "dataset['matematica'] = dataset.loc[:,['Matemática Discreta', 'Cálculo Diferencial e Integral', 'Álgebra Linear',\n",
    " 'Geometria Analítica', 'Análise Combinatória', 'Probabilidade e Estatística', 'Lógica Matemática']].sum(axis=1)"
   ]
  },
  {
   "cell_type": "code",
   "execution_count": null,
   "id": "5935fdc4-493d-45d3-8acc-4d40bf73c398",
   "metadata": {},
   "outputs": [],
   "source": [
    "dataset['fund_computacao'] = dataset.loc[:,['Organização de Arquivos e Dados','Técnicas de Programação',\n",
    " 'Circuitos Digitais', 'Análise de Algoritmos', 'Teoria dos Grafos', 'Linguagens Formais, Autômatos e Computabilidade',\n",
    " 'Algoritmos e Estruturas de Dados', 'Linguagens de Programação', 'Sistemas Operacionais', 'Arquitetura e Organização de Computadores']].sum(axis=1)"
   ]
  },
  {
   "cell_type": "code",
   "execution_count": null,
   "id": "f604740a-c064-4b4f-bccb-d10d106f5bb2",
   "metadata": {},
   "outputs": [],
   "source": [
    "dataset['tec_computacao'] = dataset.loc[:,['Redes de Computadores', 'Computação Gráfica',\n",
    "                                                   'Inteligência Artificial', 'Engenharia de Software', 'Sistemas Distribuídos',\n",
    "                                                   'Compiladores', 'Processamento de Imagens', 'Banco de Dados']].sum(axis=1)"
   ]
  },
  {
   "cell_type": "code",
   "execution_count": null,
   "id": "450d3522-10b2-4a18-9a2f-efd06693d682",
   "metadata": {
    "tags": []
   },
   "outputs": [],
   "source": [
    "dataset['total'] = dataset['matematica'] + dataset['fund_computacao'] + dataset['tec_computacao']"
   ]
  },
  {
   "cell_type": "code",
   "execution_count": null,
   "id": "1cdb56c9-8b98-46a8-bd78-24f80d574559",
   "metadata": {},
   "outputs": [],
   "source": [
    "dataset=dataset.drop_duplicates(subset='INSCRICAO', keep='first')\n",
    "dataset['ANO'].value_counts()"
   ]
  },
  {
   "cell_type": "code",
   "execution_count": null,
   "id": "19fb580c-290e-49fb-8b33-02e57df9cf18",
   "metadata": {},
   "outputs": [],
   "source": [
    "cargo = {'1-Mestrado/Doutorado': '1', '2-Autoavaliação': '2'}\n",
    "dataset = dataset.replace({'CARGO': cargo}, {'ESTADO': ler.estados_n})\n",
    "dataset = dataset.rename(columns={'PRESENTE DIA1': 'PRESENTE'})"
   ]
  },
  {
   "cell_type": "code",
   "execution_count": null,
   "id": "7891e908-4d1b-4c42-b52b-50bdce8311f7",
   "metadata": {},
   "outputs": [],
   "source": [
    "# dataset['ESTADO'] = dataset['ESTADO'].replace(ler.estados_n)\n",
    "# dataset['SEXO'] = dataset['SEXO'].replace(['M','F'],[1,0])\n",
    "dataset['CARGO'] = dataset['CARGO'].replace(['Mestrado/Doutorado','Autoavaliação'],[0,1])\n",
    "# dataset['REGIAO'] = dataset['REGIAO'].replace(ler.siglas_n)"
   ]
  },
  {
   "cell_type": "code",
   "execution_count": null,
   "id": "bd610f5f-378b-4d3e-a155-e0ab5be2012c",
   "metadata": {},
   "outputs": [],
   "source": [
    "#Aqui estou adicionando as regioes dos estados brasileiros\n",
    "for i in lesr.regioes_brasil_siglas:\n",
    "    dataset.loc[dataset['ESTADO'].isin(lesr.regioes_brasil_siglas[i]), 'REGIAO'] = i"
   ]
  },
  {
   "cell_type": "code",
   "execution_count": null,
   "id": "78440e54-4d1d-464d-9577-ce31a06d1b92",
   "metadata": {},
   "outputs": [],
   "source": [
    "dados_poscomp = dataset.drop_duplicates(subset='INSCRICAO', keep='first')\n",
    "dados_poscomp = dados_poscomp.set_index('INSCRICAO')"
   ]
  },
  {
   "cell_type": "code",
   "execution_count": null,
   "id": "09a78d64-fba0-4c08-b095-4c6315c4d7a8",
   "metadata": {
    "tags": []
   },
   "outputs": [],
   "source": [
    "estados_brasileiros = {0: 'AC',\n",
    "           1: 'AL',\n",
    "           2: 'AM',\n",
    "           3: 'AP',\n",
    "           4: 'BA',\n",
    "           5: 'CE',\n",
    "           6: 'DF',\n",
    "           7: 'ES',\n",
    "           8: 'GO',\n",
    "           9: 'MA',\n",
    "           10: 'MG',\n",
    "           11: 'MS',\n",
    "           12: 'MT',\n",
    "           13: 'PA',\n",
    "           14: 'PB',\n",
    "           15: 'PE',\n",
    "           16: 'PI',\n",
    "           17: 'PR',\n",
    "           18: 'RJ',\n",
    "           19: 'RN',\n",
    "           20: 'RO',\n",
    "           21: 'RR',\n",
    "           22: 'RS',\n",
    "           23: 'SC',\n",
    "           24: 'SP',\n",
    "           25: 'SE',\n",
    "           26: 'TO'}"
   ]
  },
  {
   "cell_type": "code",
   "execution_count": null,
   "id": "0f44c3af-544d-4402-8ad5-344b13bb0fd3",
   "metadata": {
    "tags": []
   },
   "outputs": [],
   "source": [
    "por_sexo_estado = dados_poscomp.groupby(['ESTADO', 'SEXO']).size().reset_index(name='candidatos')\n",
    "\n",
    "por_sexo_estado['ESTADO'] = por_sexo_estado['ESTADO'].replace(estados_brasileiros)\n",
    "por_sexo_estado['SEXO'] = por_sexo_estado['SEXO'].replace({0: 'Feminino', 1: 'Masculino'})\n",
    "\n",
    "# por_sexo_estado"
   ]
  },
  {
   "cell_type": "code",
   "execution_count": null,
   "id": "6920145f-53fb-4821-b0fe-6f4eca19b926",
   "metadata": {},
   "outputs": [],
   "source": [
    "view.barplot_view(dataframe=por_sexo_estado.sort_values(['candidatos'], ascending=False),\n",
    "                  y='candidatos',\n",
    "                  x='ESTADO',\n",
    "                  hue='SEXO',\n",
    "                  fontsize=18,\n",
    "                 figsize=(18,10), \n",
    "                 title_legend='Sexo',\n",
    "                 xlabel='Unidade Federativa',\n",
    "                 ylabel='Quantidade de candidatos')"
   ]
  },
  {
   "cell_type": "code",
   "execution_count": null,
   "id": "86ea1a4d-ba69-40b1-825c-bd3bcade1768",
   "metadata": {
    "tags": []
   },
   "outputs": [],
   "source": [
    "counts_presente = dados_poscomp.groupby(['PRESENTE', 'ANO']).size().reset_index(name='counts')\n",
    "\n",
    "counts_presente['PRESENTE'] = counts_presente['PRESENTE'].replace({'N': 'Ausente', 'S': 'Presente'})\n",
    "\n",
    "view.barplot_view(counts_presente, x='ANO', y='counts', hue='PRESENTE', \n",
    "                  title_legend='Participação')"
   ]
  },
  {
   "cell_type": "code",
   "execution_count": null,
   "id": "2e6492cb-7373-4161-9ecb-e274ee3df473",
   "metadata": {
    "tags": []
   },
   "outputs": [],
   "source": [
    "counts_presente = dados_poscomp.groupby(['PRESENTE', 'ANO']).size().reset_index(name='counts')\n",
    "\n",
    "counts_presente['PRESENTE'] = counts_presente['PRESENTE'].replace({'N': 'Ausente', 'S': 'Presente'})\n",
    "\n",
    "view.barplot_view(counts_presente, x='ANO', y='counts', hue='PRESENTE', title_legend='Participação')"
   ]
  },
  {
   "cell_type": "code",
   "execution_count": null,
   "id": "1dbdf9ed-a7c1-4ee4-9959-695add2822f0",
   "metadata": {},
   "outputs": [],
   "source": [
    "dados_presentes = dados_poscomp.query('PRESENTE == \"S\"')\n",
    "\n",
    "counts_presente = dados_presentes.groupby(['SEXO', 'ANO']).size().reset_index(name='counts')\n",
    "\n",
    "counts_presente['SEXO'] = counts_presente['SEXO'].replace({0: 'Feminino', 1: 'Masculino'})\n",
    "\n",
    "view.barplot_view(counts_presente, x='ANO', y='counts', hue='SEXO', title_legend='Sexo', figsize=(8,6))"
   ]
  },
  {
   "cell_type": "code",
   "execution_count": null,
   "id": "61a5e282-27a4-47df-8857-2205fe0c7392",
   "metadata": {
    "tags": []
   },
   "outputs": [],
   "source": [
    "dados_faltantes = dados_poscomp.query('PRESENTE == \"N\"')\n",
    "\n",
    "counts_faltantes = dados_faltantes.groupby(['SEXO', 'ANO']).size().reset_index(name='counts')\n",
    "\n",
    "counts_faltantes['SEXO'] = counts_faltantes['SEXO'].replace({0: 'Feminino', 1: 'Masculino'})\n",
    "\n",
    "view.barplot_view(counts_faltantes, x='ANO', y='counts', hue='SEXO', title_legend='Sexo', figsize=(8,6),\n",
    "                 ylabel='Quantidade de candidatos', xlabel='Ano', save_path='imagens/grafico_porFaltantes.eps')"
   ]
  },
  {
   "cell_type": "code",
   "execution_count": null,
   "id": "8c399cd3-e65e-44e8-a647-5c8079c1785e",
   "metadata": {
    "tags": []
   },
   "outputs": [],
   "source": [
    "view.plot_top_especialidades_por_sexo(dados_poscomp, 'M', top_n=10, save_path='imagens/espec_masculino.eps')\n",
    "view.plot_top_especialidades_por_sexo(dados_poscomp, 'F', top_n=10, save_path='imagens/espec_feminino.eps')"
   ]
  },
  {
   "cell_type": "code",
   "execution_count": null,
   "id": "0592faf0-0cd7-4086-9d5f-50766a941769",
   "metadata": {
    "tags": []
   },
   "outputs": [],
   "source": [
    "media_hist = dados_poscomp.query('PRESENTE == \"S\"')"
   ]
  },
  {
   "cell_type": "code",
   "execution_count": null,
   "id": "bfe38c18-884c-4a48-81e5-9ce04fe7c933",
   "metadata": {
    "tags": []
   },
   "outputs": [],
   "source": [
    "def plot_histogram(dataset, columns):\n",
    "    for column in columns:\n",
    "        sns.histplot(dataset[column], kde=True)\n",
    "        plt.xlabel(f'Média de {column}')\n",
    "        plt.ylabel('Frequência')\n",
    "        plt.title(f'Distribuição das médias de {column}')\n",
    "        plt.show()\n",
    "\n",
    "columns = ['matematica', 'fund_computacao', 'tec_computacao']\n",
    "plot_histogram(media_hist, columns)"
   ]
  },
  {
   "cell_type": "code",
   "execution_count": null,
   "id": "55395feb-ba29-4d57-8173-007bc9044e4f",
   "metadata": {
    "tags": []
   },
   "outputs": [],
   "source": [
    "dados_poscomp = dados_poscomp.query('PRESENTE != \"N\"')\n",
    "dados_poscomp.shape"
   ]
  },
  {
   "cell_type": "code",
   "execution_count": null,
   "id": "80c588db-629e-4bd3-bb6f-b393df0a5e1a",
   "metadata": {
    "tags": []
   },
   "outputs": [],
   "source": [
    "media = dados_poscomp['total'].mean()\n",
    "desvio_padrao = dados_poscomp['total'].std()\n",
    "variancia = dados_poscomp['total'].var()"
   ]
  },
  {
   "cell_type": "code",
   "execution_count": null,
   "id": "9b97e4fa-b1ee-4802-807a-cdfc6a533200",
   "metadata": {
    "tags": []
   },
   "outputs": [],
   "source": [
    "print(f'Média: {media}, Desvio Padrão: {desvio_padrao}, Variância: {variancia}')"
   ]
  },
  {
   "cell_type": "code",
   "execution_count": null,
   "id": "1a408e5d-4104-4d13-970e-a795df57cb33",
   "metadata": {
    "tags": []
   },
   "outputs": [],
   "source": [
    "import numpy as np\n",
    "import matplotlib.pyplot as plt\n",
    "from scipy.stats import norm\n",
    "\n",
    "# Probabilidade desejada\n",
    "probabilidade = 0.90\n",
    "\n",
    "# Encontre os valores de X correspondentes ao intervalo de probabilidade\n",
    "limite_inferior, limite_superior = norm.interval(probabilidade, loc=media, scale=desvio_padrao)\n",
    "\n",
    "# Valores para o gráfico\n",
    "x = np.linspace(media - 3 * desvio_padrao, media + 3 * desvio_padrao, 1000)\n",
    "pdf = norm.pdf(x, loc=media, scale=desvio_padrao)\n",
    "\n",
    "# Plote o gráfico da PDF\n",
    "plt.plot(x, pdf, label='PDF')\n",
    "plt.fill_between(x, pdf, where=(x >= limite_inferior) & (x <= limite_superior), alpha=0.5, label=f'Área de {probabilidade*100}%')\n",
    "plt.xlabel('Valores de X')\n",
    "plt.ylabel('PDF')\n",
    "plt.title(f'Distribuição Normal ({media}, {desvio_padrao})')\n",
    "\n",
    "# Exiba o gráfico\n",
    "plt.legend()\n",
    "plt.grid(True)\n",
    "plt.show()\n",
    "\n",
    "# Exiba o intervalo de valores de X correspondentes à probabilidade\n",
    "print(f'Intervalo de {probabilidade*100}% de probabilidade: [{limite_inferior:.2f}, {limite_superior:.2f}]')"
   ]
  },
  {
   "cell_type": "code",
   "execution_count": null,
   "id": "622392ac-33e6-4794-a3ad-3f4e2b44308f",
   "metadata": {},
   "outputs": [],
   "source": [
    "base = dados_poscomp[dados_poscomp['total'] <= 17]\n",
    "\n",
    "plt.figure(figsize=(10, 6))\n",
    "hist = base['ESPECIALIDADE'].value_counts().plot(kind='bar')\n",
    "\n",
    "for i, v in enumerate(base['ESPECIALIDADE'].value_counts()):\n",
    "    plt.text(i, v, str(v), ha='center', va='bottom')\n",
    "\n",
    "plt.title('Histograma das Especialidades')\n",
    "plt.xlabel('Especialidade')\n",
    "plt.ylabel('Contagem')\n",
    "\n",
    "plt.show()"
   ]
  },
  {
   "cell_type": "code",
   "execution_count": null,
   "id": "82342a59-36fd-4e28-bc9b-88a8cfd542c7",
   "metadata": {},
   "outputs": [],
   "source": [
    "base.shape"
   ]
  },
  {
   "cell_type": "code",
   "execution_count": null,
   "id": "82163d6c-ffb5-418e-8534-c125dcf36908",
   "metadata": {},
   "outputs": [],
   "source": []
  },
  {
   "cell_type": "code",
   "execution_count": null,
   "id": "aad6988e-01f1-42c7-a4b1-9d38f4f8b806",
   "metadata": {},
   "outputs": [],
   "source": [
    "base['ESPECIALIDADE'].value_counts()[:5]"
   ]
  },
  {
   "cell_type": "code",
   "execution_count": null,
   "id": "a316f2b3-08a0-4cf3-a400-443995c8cc9d",
   "metadata": {},
   "outputs": [],
   "source": [
    "view.histplot(dataframe=base, x='total', kde=True, bins=10)"
   ]
  },
  {
   "cell_type": "code",
   "execution_count": null,
   "id": "cab632dd-3158-4adb-8634-20ce3cf3cdf6",
   "metadata": {},
   "outputs": [],
   "source": [
    "sns.boxplot(y=dados_poscomp[\"total\"]);"
   ]
  },
  {
   "cell_type": "markdown",
   "id": "18344da0-241f-4b9a-b5fa-80ecc555a0fc",
   "metadata": {},
   "source": [
    "#### Técnica para eliminar os outlier"
   ]
  },
  {
   "cell_type": "code",
   "execution_count": null,
   "id": "5ecbcc4b-9eaa-4814-91a6-b7a7dfbde22e",
   "metadata": {},
   "outputs": [],
   "source": [
    "df = dados_poscomp.copy()"
   ]
  },
  {
   "cell_type": "code",
   "execution_count": null,
   "id": "78abaacc-fdf0-4a1c-88ce-462f020ede49",
   "metadata": {},
   "outputs": [],
   "source": [
    "def check_outlier(value, quantiles, amplitude):\n",
    "    if (value < quantiles[0] - (1.5 * amplitude)) or (value > quantiles[2] + (1.5 * amplitude)):\n",
    "        return True\n",
    "    return False"
   ]
  },
  {
   "cell_type": "code",
   "execution_count": null,
   "id": "a298e0de-9ddf-44d6-8efe-e395fbda08bf",
   "metadata": {},
   "outputs": [],
   "source": [
    "# quartis das quantidades de caracteres dos títulos\n",
    "import statistics\n",
    "\n",
    "quantiles_title = statistics.quantiles(df[\"total\"])\n",
    "print(\"Quartis de nota:\", quantiles_title)\n",
    "\n",
    "# amplitude interquartil das quantidades de caracteres dos títulos\n",
    "\n",
    "amplitude_title = quantiles_title[2] - quantiles_title[0]\n",
    "print(\"Amplitude interquartil de nota:\", amplitude_title)\n",
    "\n",
    "# determinação dos outliers nos títulos\n",
    "\n",
    "df[\"outlier_nota\"] = df[\"total\"].map(lambda x: check_outlier(\n",
    "    value=x,\n",
    "    quantiles=quantiles_title,\n",
    "    amplitude=amplitude_title\n",
    "))"
   ]
  },
  {
   "cell_type": "code",
   "execution_count": null,
   "id": "71d5366e-c3e3-4c68-80f6-e8064d485a33",
   "metadata": {},
   "outputs": [],
   "source": [
    "sns.boxplot(y=df[\"total\"]);"
   ]
  },
  {
   "cell_type": "code",
   "execution_count": null,
   "id": "1b619805-7d93-42b1-83b5-957af93f6036",
   "metadata": {},
   "outputs": [],
   "source": [
    "df = df.loc[~((df[\"outlier_nota\"]))]\n",
    "df = df.iloc[:,:-1]\n",
    "df.shape"
   ]
  },
  {
   "cell_type": "code",
   "execution_count": null,
   "id": "b3404b1e-fd75-45a6-b6a0-9797bf5c7549",
   "metadata": {},
   "outputs": [],
   "source": [
    "print(f'Perda - {(374 / 9849) * 100:.2f}% dos dados') # informação importante"
   ]
  },
  {
   "cell_type": "code",
   "execution_count": null,
   "id": "8b3bee06-3da6-458a-bceb-56484ba262ea",
   "metadata": {},
   "outputs": [],
   "source": [
    "dados_poscomp.shape"
   ]
  },
  {
   "cell_type": "code",
   "execution_count": null,
   "id": "afc877fd-9292-41d5-b26f-e54169bbc9bb",
   "metadata": {},
   "outputs": [],
   "source": [
    "nova_dados_poscomp = dados_poscomp[dados_poscomp['total'] >= 17]"
   ]
  },
  {
   "cell_type": "code",
   "execution_count": null,
   "id": "e9685c2f-8f9d-4047-ae13-febc10f4227f",
   "metadata": {},
   "outputs": [],
   "source": [
    "base.shape, nova_dados_poscomp.shape"
   ]
  },
  {
   "cell_type": "code",
   "execution_count": null,
   "id": "9f1613df-6bd7-4cfd-9e19-274921f652ac",
   "metadata": {
    "tags": []
   },
   "outputs": [],
   "source": [
    "nova_dados_poscomp = nova_dados_poscomp.drop(['PRESENTE','CARGO', 'ANO'], axis=1)"
   ]
  },
  {
   "cell_type": "code",
   "execution_count": null,
   "id": "08e012fd-f549-4363-ae1f-12b0ea18f071",
   "metadata": {
    "tags": []
   },
   "outputs": [],
   "source": [
    "df = df.drop(['PRESENTE','CARGO', 'ANO'], axis=1)"
   ]
  },
  {
   "cell_type": "code",
   "execution_count": null,
   "id": "935504e9-8cb4-4666-9cf3-9afe61905fd2",
   "metadata": {},
   "outputs": [],
   "source": [
    "nova_dados_poscomp.to_csv('dados/df_poscompTeste.csv', index=False)"
   ]
  },
  {
   "cell_type": "markdown",
   "id": "ed47671d-9cb5-4465-a6db-a86a9536149b",
   "metadata": {},
   "source": [
    "## Verificar o comportamento dos candidatos de acordo com a linha de pesquisa"
   ]
  },
  {
   "cell_type": "code",
   "execution_count": null,
   "id": "a55e38da-2bea-4c2b-9ff7-39aea6878d7f",
   "metadata": {},
   "outputs": [],
   "source": [
    "df.head()"
   ]
  },
  {
   "cell_type": "code",
   "execution_count": null,
   "id": "0d0c9382-2b32-4cc8-8551-c49a72431809",
   "metadata": {},
   "outputs": [],
   "source": [
    "nova_dados_poscomp['area_concentration'].value_counts()"
   ]
  },
  {
   "cell_type": "code",
   "execution_count": null,
   "id": "be3f0d40-ed6b-4418-ac93-b7558825e66d",
   "metadata": {},
   "outputs": [],
   "source": [
    "nova_dados_poscomp['linhas_pesquisas'].value_counts()"
   ]
  },
  {
   "cell_type": "code",
   "execution_count": null,
   "id": "27ab6183-4eb3-4e59-adec-95a4520aaede",
   "metadata": {},
   "outputs": [],
   "source": [
    "# plt.figure(figsize=(20, 15))\n",
    "# plot = sns.lmplot(x=\"total\", y=\"total\", data=dados_poscomp, fit_reg=False, hue='linhas_pesquisas', legend=False)\n",
    "\n",
    "# # Move the legend to an empty part of the plot\n",
    "# plt.legend(loc='lower right')\n",
    "# plt.show()"
   ]
  }
 ],
 "metadata": {
  "kernelspec": {
   "display_name": "Python 3 (ipykernel)",
   "language": "python",
   "name": "python3"
  },
  "language_info": {
   "codemirror_mode": {
    "name": "ipython",
    "version": 3
   },
   "file_extension": ".py",
   "mimetype": "text/x-python",
   "name": "python",
   "nbconvert_exporter": "python",
   "pygments_lexer": "ipython3",
   "version": "3.9.12"
  }
 },
 "nbformat": 4,
 "nbformat_minor": 5
}
