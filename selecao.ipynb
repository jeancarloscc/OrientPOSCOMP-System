{
 "cells": [
  {
   "cell_type": "markdown",
   "id": "39492b9d-538f-4854-a211-e64c18f1ad04",
   "metadata": {},
   "source": [
    "### Importar as bibliotecas"
   ]
  },
  {
   "cell_type": "code",
   "execution_count": 2,
   "id": "e7ce8f45-8920-49bb-b6c7-8685f29da238",
   "metadata": {},
   "outputs": [],
   "source": [
    "import pandas as pd\n",
    "import numpy as np\n",
    "import matplotlib.pyplot as plt\n",
    "import import_ipynb"
   ]
  },
  {
   "cell_type": "markdown",
   "id": "fa328b2a-deed-4b57-8b2a-3400222b9062",
   "metadata": {
    "jp-MarkdownHeadingCollapsed": true,
    "tags": []
   },
   "source": [
    "## Dados de Homologação"
   ]
  },
  {
   "cell_type": "code",
   "execution_count": null,
   "id": "5ce5971c-6190-4eba-a4f9-2dd969ac9764",
   "metadata": {},
   "outputs": [],
   "source": [
    "dados_homologados_2016 = pd.read_csv(\"dados/homologacao_poscomp/homologados_dados_contatos_poscomp_2016.csv\", sep=';', encoding='utf-8')\n",
    "dados_homologados_2017 = pd.read_csv(\"dados/homologacao_poscomp/homologados_dados_contatos_poscomp_2017.csv\", sep=';', encoding='utf-8')\n",
    "dados_homologados_2018 = pd.read_csv(\"dados/homologacao_poscomp/homologados_dados_contatos_poscomp_2018.csv\", sep=';', encoding='utf-8')\n",
    "dados_homologados_2019 = pd.read_csv(\"dados/homologacao_poscomp/homologados_dados_contatos_poscomp_2019.csv\", sep=';', encoding='utf-8')"
   ]
  },
  {
   "cell_type": "code",
   "execution_count": null,
   "id": "7f84f56e-b7ba-4a50-99be-932a020d9e14",
   "metadata": {},
   "outputs": [],
   "source": [
    "dados_homologados_2016.head()"
   ]
  },
  {
   "cell_type": "code",
   "execution_count": null,
   "id": "f1c67a31-3a2e-42f9-b7f0-7cbebb41e5ee",
   "metadata": {},
   "outputs": [],
   "source": [
    "dados_homologados_2016 = dados_homologados_2016.assign(ANO='2016')\n",
    "dados_homologados_2017 = dados_homologados_2017.assign(ANO='2017')\n",
    "dados_homologados_2018 = dados_homologados_2018.assign(ANO='2018')\n",
    "dados_homologados_2019 = dados_homologados_2019.assign(ANO='2019')"
   ]
  },
  {
   "cell_type": "code",
   "execution_count": null,
   "id": "556fb21c-623e-4347-8065-07f95bc51edd",
   "metadata": {
    "tags": []
   },
   "outputs": [],
   "source": [
    "dados_homologados = pd.concat([dados_homologados_2016, dados_homologados_2017, dados_homologados_2018, dados_homologados_2019], axis=0)\n",
    "dados_homologados = dados_homologados.drop(columns=['NOME','CPF', 'DATA NASC.', 'TIPO DE DOCUMENTO', 'DOCUMENTO','NOME DO PAI', \n",
    "                                                    'NOME DA MÃE', 'EMAIL', 'DDD', 'FONE', 'DDD CEL', 'CELULAR', 'SENHA', 'DATA INSCRIÇÃO',\n",
    "                                                    'DEFICIENTE', 'NECESSIDADES ESPECIAIS', 'DESCRICAO DA NECESSIDADE', 'ESTRANGEIRO', \n",
    "                                                    'CARGO','DS CARGO', 'COMPL.', 'ENDERECO.', 'BAIRRO', 'CEP', 'NUMERO', 'LOCAL DE PROVA', 'CIDADE', 'CÓDIGO'])"
   ]
  },
  {
   "cell_type": "code",
   "execution_count": null,
   "id": "fb6e255d-efc2-4ef5-955e-7ff59284551c",
   "metadata": {},
   "outputs": [],
   "source": [
    "dados_homologados = dados_homologados.set_index('INSCRICAO')"
   ]
  },
  {
   "cell_type": "code",
   "execution_count": null,
   "id": "1894ab82-05d4-491f-8d7d-85137313ed07",
   "metadata": {},
   "outputs": [],
   "source": [
    "# dados_homologados['DS CARGO'].unique()"
   ]
  },
  {
   "cell_type": "code",
   "execution_count": null,
   "id": "0a4db5e6-9e17-4c9e-ae92-151d69ce5e0a",
   "metadata": {},
   "outputs": [],
   "source": [
    "# dados_homologados[dados_homologados['DS CARGO'] == '1']"
   ]
  },
  {
   "cell_type": "code",
   "execution_count": null,
   "id": "ecba764b-370a-40d3-9031-259bcb8b0ade",
   "metadata": {},
   "outputs": [],
   "source": [
    "# dados_homologados.drop(['688145', 'miamia'], inplace=True)"
   ]
  },
  {
   "cell_type": "code",
   "execution_count": null,
   "id": "0515284e-3aab-430e-b27c-d08cd7293ad5",
   "metadata": {},
   "outputs": [],
   "source": [
    "# plt.hist(dados_homologados['DS CARGO'])"
   ]
  },
  {
   "cell_type": "code",
   "execution_count": null,
   "id": "48c8bf7f-8b9f-4621-8fe5-389c76340b81",
   "metadata": {},
   "outputs": [],
   "source": [
    "dados_homologados.head()"
   ]
  },
  {
   "cell_type": "markdown",
   "id": "91edac3f-7386-43a6-bf35-14f839757769",
   "metadata": {
    "jp-MarkdownHeadingCollapsed": true,
    "tags": []
   },
   "source": [
    "## Notas das respostas"
   ]
  },
  {
   "cell_type": "markdown",
   "id": "2dcd4e6b-ee2e-4e36-b7e5-ad1b33c72bd7",
   "metadata": {
    "tags": []
   },
   "source": [
    "#### Base de 2016 a 2019"
   ]
  },
  {
   "cell_type": "code",
   "execution_count": null,
   "id": "faf1ac4a-12f3-491d-a71d-3904659b56db",
   "metadata": {},
   "outputs": [],
   "source": [
    "import services.listasColunas as lc\n",
    "import services.alterarColunas as altc"
   ]
  },
  {
   "cell_type": "code",
   "execution_count": null,
   "id": "7adacf8a-f135-4daf-b8dc-c94223f9a4d3",
   "metadata": {},
   "outputs": [],
   "source": [
    "dados_notasRespostas_2016 = pd.read_csv(\"dados/notas_poscomp/Notas_poscomp_2016.csv\", sep=';', encoding='utf-8')\n",
    "dados_notasRespostas_2017 = pd.read_csv(\"dados/notas_poscomp/Notas_poscomp_2017.csv\", sep=';', encoding='utf-8')\n",
    "dados_notasRespostas_2018 = pd.read_csv(\"dados/notas_poscomp/Notas_poscomp_2018.csv\", sep=';', encoding='utf-8')\n",
    "dados_notasRespostas_2019 = pd.read_csv(\"dados/notas_poscomp/Notas_poscomp_2019.csv\", sep=';', encoding='utf-8')"
   ]
  },
  {
   "cell_type": "code",
   "execution_count": null,
   "id": "8f30aa6f-2e9f-4062-b38b-4d5f08129df5",
   "metadata": {},
   "outputs": [],
   "source": [
    "dados_notasRespostas_2016['ESPECIALIDADE']"
   ]
  },
  {
   "cell_type": "code",
   "execution_count": null,
   "id": "790e0eef-06aa-467b-9660-7989cfddc6ad",
   "metadata": {},
   "outputs": [],
   "source": [
    "dados_notasRespostas_2016 = dados_notasRespostas_2016.assign(ANO='2016')\n",
    "dados_notasRespostas_2017 = dados_notasRespostas_2017.assign(ANO='2017')\n",
    "dados_notasRespostas_2018 = dados_notasRespostas_2018.assign(ANO='2018')\n",
    "dados_notasRespostas_2019 = dados_notasRespostas_2019.assign(ANO='2019')"
   ]
  },
  {
   "cell_type": "code",
   "execution_count": null,
   "id": "7c666690-a80e-46c3-bc24-0fec4a3630d2",
   "metadata": {},
   "outputs": [],
   "source": [
    "dados_notasRespostas_2016 = dados_notasRespostas_2016[lc.lista_2016]\n",
    "dados_notasRespostas_2017 = dados_notasRespostas_2017[lc.lista_2017]\n",
    "dados_notasRespostas_2018 = dados_notasRespostas_2018[lc.lista_2018]\n",
    "dados_notasRespostas_2019 = dados_notasRespostas_2019[lc.lista_2019]"
   ]
  },
  {
   "cell_type": "code",
   "execution_count": null,
   "id": "6d095162-4ca7-4ba1-a8cd-c4200978261f",
   "metadata": {},
   "outputs": [],
   "source": [
    "dados_notasRespostas_2016 = dados_notasRespostas_2016.rename(columns=altc.alteraColunas_2016)\n",
    "dados_notasRespostas_2017 = dados_notasRespostas_2017.rename(columns=altc.alteraColunas_2017)\n",
    "dados_notasRespostas_2018 = dados_notasRespostas_2018.rename(columns=altc.alteraColunas_2018)\n",
    "dados_notasRespostas_2019 = dados_notasRespostas_2019.rename(columns=altc.alteraColunas_2019)"
   ]
  },
  {
   "cell_type": "code",
   "execution_count": null,
   "id": "378e6259-adf5-4026-aa78-525e64d1b4cc",
   "metadata": {},
   "outputs": [],
   "source": [
    "dados_notasRespostas = pd.concat([dados_notasRespostas_2016, dados_notasRespostas_2017, dados_notasRespostas_2018, dados_notasRespostas_2019], axis=0)"
   ]
  },
  {
   "cell_type": "code",
   "execution_count": null,
   "id": "21e5ab97-2811-4d97-b474-39e0df2fd453",
   "metadata": {},
   "outputs": [],
   "source": [
    "dados_notasRespostas = dados_notasRespostas.set_index('INSCRICAO')"
   ]
  },
  {
   "cell_type": "code",
   "execution_count": null,
   "id": "389309f7-6e63-4836-832e-1fdb9285fa29",
   "metadata": {},
   "outputs": [],
   "source": [
    "dados_notasRespostas.head()"
   ]
  },
  {
   "cell_type": "markdown",
   "id": "de657596-c05c-4beb-9800-2aacfa13db0c",
   "metadata": {
    "tags": []
   },
   "source": [
    "## Salvar dados"
   ]
  },
  {
   "cell_type": "code",
   "execution_count": null,
   "id": "68394da5-0d60-421f-9110-7386f3ceaf4d",
   "metadata": {},
   "outputs": [],
   "source": [
    "dados_homologados.to_csv('dados/homologacao_poscomp/dados_homologados.csv')"
   ]
  },
  {
   "cell_type": "code",
   "execution_count": null,
   "id": "564aa3b5-729f-47da-aff9-b84e860229f7",
   "metadata": {},
   "outputs": [],
   "source": [
    "dados_notasRespostas.to_csv('dados/notas_poscomp/dados_notasRespostas.csv')"
   ]
  }
 ],
 "metadata": {
  "kernelspec": {
   "display_name": "Python 3 (ipykernel)",
   "language": "python",
   "name": "python3"
  },
  "language_info": {
   "codemirror_mode": {
    "name": "ipython",
    "version": 3
   },
   "file_extension": ".py",
   "mimetype": "text/x-python",
   "name": "python",
   "nbconvert_exporter": "python",
   "pygments_lexer": "ipython3",
   "version": "3.11.1"
  }
 },
 "nbformat": 4,
 "nbformat_minor": 5
}
