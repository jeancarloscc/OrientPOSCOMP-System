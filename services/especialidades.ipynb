{
 "cells": [
  {
   "cell_type": "code",
   "execution_count": 1,
   "id": "00ff7a0d-b9b5-44d9-9afc-14bbcac4312d",
   "metadata": {},
   "outputs": [],
   "source": [
    "especialidades = {\n",
    "    'inteligência computacional': 'inteligência artificial',\n",
    "    'lógica, inteligência artificial e métodos formais': 'inteligência artificial',\n",
    "    'computação inteligente': 'inteligência artificial',\n",
    "    'sistema de computação': 'sistemas de computação',\n",
    "    'metodologia e técnicas da computação': 'metodologia da computação',\n",
    "    'inteligencia computacional': 'inteligência artificial',\n",
    "    'inteligencia artificial': 'inteligência artificial',\n",
    "    'informática e educação': 'informática na educação',\n",
    "    'sistema de informação': 'sistemas de informação',\n",
    "    'outras \\ inteligência artificial': 'inteligência artificial',\n",
    "    'outras\\inteligência artificial': 'inteligência artificial',\n",
    "    'bancos de dados': 'banco de dados',\n",
    "    'engenharia  de software' : 'engenharia de software',\n",
    "    'data science': 'ciência de dados',\n",
    "    'engenharia de software,': 'engenharia de software',\n",
    "    'sistemas de computação\\\\sistemas inteligentes': 'sistemas de computação',\n",
    "    'ciência dos dados': 'ciência de dados',\n",
    "    'educação em engenharia de software': 'engenharia de software',\n",
    "    'processos de desenvolvimento de software': 'engenharia de software',\n",
    "    'métricas de software e gerência de projetos': 'engenharia de software',\n",
    "    'engenharia de software: técnicas de reúso, testes e qualidade': 'engenharia de software',\n",
    "    'engenharia de software e usabilidade': 'engenharia de software',\n",
    "    'otimização em engenharia de software': 'engenharia de software',\n",
    "    'realidade virtual e aumentada aplicada ao ensino de engenharia de software': 'engenharia de software',\n",
    "    'metodologia e técnicas da computação \\\\ engenharia de software': 'engenharia de software',\n",
    "    'metodologia e técnicas da computação \\\\ engenharia de software \\\\ fábrica de software': 'engenharia de software',\n",
    "     'metodologia e técnicas da computação \\\\ engenharia de software \\\\ reuso de software' : 'engenharia de software',\n",
    "    'metodologia e técnicas da computação\\\\ engenharia de software\\\\fábrica de software': 'engenharia de software',\n",
    "     'metodologia e técnicas da computação\\\\ engenharia de software\\\\reuso de software': 'engenharia de software',\n",
    "    'processos de software': 'engenharia de software',\n",
    "    'ciências de computação': 'ciência da computação',\n",
    "    'avaliac?a?o de desempenho e dependabilidade': 'avaliação de desempenho e dependabilidade',\n",
    "    'avaliacão de desempenho e dependabilidade': 'avaliação de desempenho e dependabilidade',\n",
    "    'computação aplicada\\inteligência computacional':'inteligência artificial',\n",
    "    'computação aplicada \\ inteligência computacional': 'inteligência artificial',\n",
    "    'otimização e inteligência computacional': 'inteligência artificial',\n",
    "    'web e banco de dados.': 'banco de dados',\n",
    "    'banco de dados e web': 'banco de dados',\n",
    "    'auto-ajuste de bancos de dados': 'banco de dados',\n",
    "    'banco de dados dedutivos': 'banco de dados',\n",
    "}"
   ]
  }
 ],
 "metadata": {
  "kernelspec": {
   "display_name": "Python 3 (ipykernel)",
   "language": "python",
   "name": "python3"
  },
  "language_info": {
   "codemirror_mode": {
    "name": "ipython",
    "version": 3
   },
   "file_extension": ".py",
   "mimetype": "text/x-python",
   "name": "python",
   "nbconvert_exporter": "python",
   "pygments_lexer": "ipython3",
   "version": "3.11.1"
  }
 },
 "nbformat": 4,
 "nbformat_minor": 5
}
