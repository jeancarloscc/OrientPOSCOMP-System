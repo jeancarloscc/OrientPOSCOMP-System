{
 "cells": [
  {
   "cell_type": "code",
   "execution_count": 1,
   "id": "06f14a59-5f79-4381-bea6-d38d8989b72e",
   "metadata": {},
   "outputs": [],
   "source": [
    "regioes_brasil = {'norte':['Amazonas', 'Tocantins', 'Pará', 'Acre', 'Amapá', 'Roraima','Rondônia'],\n",
    "                 'nordeste': ['Maranhão', 'Rio Grande do Norte', 'Paraíba', 'Sergipe', 'Bahia', 'Alagoas', 'Pernambuco', 'Ceará', 'Piauí'],\n",
    "                 'centro_oeste': ['Mato Grosso', 'Goiás', 'Mato Grosso do Sul','Distrito Federal'],\n",
    "                  'sudeste':['Rio de Janeiro', 'São Paulo', 'Espírito Santo', 'Minas Gerais'],\n",
    "                  'sul':['Paraná', 'Santa Catarina', 'Rio Grande do Sul']\n",
    "                 }"
   ]
  },
  {
   "cell_type": "code",
   "execution_count": 2,
   "id": "386af4d0-3a25-446c-8e3e-3ea962bae17c",
   "metadata": {},
   "outputs": [],
   "source": [
    "regioes_brasil_siglas = {'norte': ['AM', 'TO', 'PA', 'AC', 'AP', 'RR','RO'],\n",
    "                         'nordeste': ['MA', 'RN', 'PB', 'SE', 'BA', 'AL', 'PE', 'CE', 'PI'],\n",
    "                         'centro_oeste': ['MT', 'GO', 'MS', 'DF'],\n",
    "                            'sudeste':['RJ', 'SP', 'ES', 'MG'],\n",
    "                          'sul':['PR', 'SC', 'RS']\n",
    "                 }\n",
    "siglas_n = {\n",
    "            'norte': 0,\n",
    "            'nordeste': 1,\n",
    "            'centro_oeste': 2,\n",
    "            'sudeste':3,\n",
    "            'sul':4\n",
    "}"
   ]
  },
  {
   "cell_type": "code",
   "execution_count": 3,
   "id": "a589e8b5-e796-4933-837c-01a2c5ef1ae3",
   "metadata": {},
   "outputs": [],
   "source": [
    "estados = {\n",
    "    'AC': 'Acre',\n",
    "    'AL': 'Alagoas',\n",
    "    'AP': 'Amapá',\n",
    "    'AM': 'Amazonas',\n",
    "    'BA': 'Bahia',\n",
    "    'CE': 'Ceará',\n",
    "    'DF': 'Distrito Federal',\n",
    "    'ES': 'Espírito Santo',\n",
    "    'GO': 'Goiás',\n",
    "    'MA': 'Maranhão',\n",
    "    'MT': 'Mato Grosso',\n",
    "    'MS': 'Mato Grosso do Sul',\n",
    "    'MG': 'Minas Gerais',\n",
    "    'PA': 'Pará',\n",
    "    'PB': 'Paraíba',\n",
    "    'PR': 'Paraná',\n",
    "    'PE': 'Pernambuco',\n",
    "    'PI': 'Piauí',\n",
    "    'RJ': 'Rio de Janeiro',\n",
    "    'RN': 'Rio Grande do Norte',\n",
    "    'RS': 'Rio Grande do Sul',\n",
    "    'RO': 'Rondônia',\n",
    "    'RR': 'Roraima',\n",
    "    'SC': 'Santa Catarina',\n",
    "    'SP': 'São Paulo',\n",
    "    'SE': 'Sergipe',\n",
    "    'TO': 'Tocantins'\n",
    "}\n",
    "estados_n = {\n",
    "    'AC': 0,\n",
    "    'AL': 1,\n",
    "    'AP': 2,\n",
    "    'AM': 3,\n",
    "    'BA': 4,\n",
    "    'CE': 5,\n",
    "    'DF': 6,\n",
    "    'ES': 7,\n",
    "    'GO': 8,\n",
    "    'MA': 9,\n",
    "    'MT': 10,\n",
    "    'MS': 11,\n",
    "    'MG': 12,\n",
    "    'PA': 13,\n",
    "    'PB': 14,\n",
    "    'PR': 15,\n",
    "    'PE': 16,\n",
    "    'PI': 17,\n",
    "    'RJ': 18,\n",
    "    'RN': 19,\n",
    "    'RS': 20,\n",
    "    'RO': 21,\n",
    "    'RR': 22,\n",
    "    'SC': 23,\n",
    "    'SP': 24,\n",
    "    'SE': 25,\n",
    "    'TO': 26\n",
    "}"
   ]
  }
 ],
 "metadata": {
  "kernelspec": {
   "display_name": "Python 3 (ipykernel)",
   "language": "python",
   "name": "python3"
  },
  "language_info": {
   "codemirror_mode": {
    "name": "ipython",
    "version": 3
   },
   "file_extension": ".py",
   "mimetype": "text/x-python",
   "name": "python",
   "nbconvert_exporter": "python",
   "pygments_lexer": "ipython3",
   "version": "3.10.9"
  }
 },
 "nbformat": 4,
 "nbformat_minor": 5
}
