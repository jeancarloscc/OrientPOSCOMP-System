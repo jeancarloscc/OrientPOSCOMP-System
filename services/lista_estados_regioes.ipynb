{
 "cells": [
  {
   "cell_type": "code",
   "execution_count": null,
   "id": "06f14a59-5f79-4381-bea6-d38d8989b72e",
   "metadata": {},
   "outputs": [],
   "source": [
    "regioes_brasil = {'norte':['Amazonas', 'Tocantins', 'Pará', 'Acre', 'Amapá', 'Roraima','Rondônia'],\n",
    "                 'nordeste': ['Maranhão', 'Rio Grande do Norte', 'Paraíba', 'Sergipe', 'Bahia', 'Alagoas', 'Pernambuco', 'Ceará', 'Piauí'],\n",
    "                 'centro_oeste': ['Mato Grosso', 'Goiás', 'Mato Grosso do Sul','Distrito Federal'],\n",
    "                  'sudeste':['Rio de Janeiro', 'São Paulo', 'Espírito Santo', 'Minas Gerais'],\n",
    "                  'sul':['Paraná', 'Santa Catarina', 'Rio Grande do Sul']\n",
    "                 }"
   ]
  },
  {
   "cell_type": "code",
   "execution_count": null,
   "id": "386af4d0-3a25-446c-8e3e-3ea962bae17c",
   "metadata": {},
   "outputs": [],
   "source": [
    "regioes_brasil_siglas = {'norte': ['AM', 'TO', 'PA', 'AC', 'AP', 'RR','RO'],\n",
    "                         'nordeste': ['MA', 'RN', 'PB', 'SE', 'BA', 'AL', 'PE', 'CE', 'PI'],\n",
    "                         'centro_oeste': ['MT', 'GO', 'MS', 'DF'],\n",
    "                            'sudeste':['RJ', 'SP', 'ES', 'MG'],\n",
    "                          'sul':['PR', 'SC', 'RS']\n",
    "                 }"
   ]
  },
  {
   "cell_type": "code",
   "execution_count": null,
   "id": "a589e8b5-e796-4933-837c-01a2c5ef1ae3",
   "metadata": {},
   "outputs": [],
   "source": [
    "estados = {\n",
    "    'AC': 'Acre',\n",
    "    'AL': 'Alagoas',\n",
    "    'AP': 'Amapá',\n",
    "    'AM': 'Amazonas',\n",
    "    'BA': 'Bahia',\n",
    "    'CE': 'Ceará',\n",
    "    'DF': 'Distrito Federal',\n",
    "    'ES': 'Espírito Santo',\n",
    "    'GO': 'Goiás',\n",
    "    'MA': 'Maranhão',\n",
    "    'MT': 'Mato Grosso',\n",
    "    'MS': 'Mato Grosso do Sul',\n",
    "    'MG': 'Minas Gerais',\n",
    "    'PA': 'Pará',\n",
    "    'PB': 'Paraíba',\n",
    "    'PR': 'Paraná',\n",
    "    'PE': 'Pernambuco',\n",
    "    'PI': 'Piauí',\n",
    "    'RJ': 'Rio de Janeiro',\n",
    "    'RN': 'Rio Grande do Norte',\n",
    "    'RS': 'Rio Grande do Sul',\n",
    "    'RO': 'Rondônia',\n",
    "    'RR': 'Roraima',\n",
    "    'SC': 'Santa Catarina',\n",
    "    'SP': 'São Paulo',\n",
    "    'SE': 'Sergipe',\n",
    "    'TO': 'Tocantins'\n",
    "}"
   ]
  }
 ],
 "metadata": {
  "kernelspec": {
   "display_name": "Python 3 (ipykernel)",
   "language": "python",
   "name": "python3"
  },
  "language_info": {
   "codemirror_mode": {
    "name": "ipython",
    "version": 3
   },
   "file_extension": ".py",
   "mimetype": "text/x-python",
   "name": "python",
   "nbconvert_exporter": "python",
   "pygments_lexer": "ipython3",
   "version": "3.10.7"
  }
 },
 "nbformat": 4,
 "nbformat_minor": 5
}
